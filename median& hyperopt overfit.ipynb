{
  "nbformat": 4,
  "nbformat_minor": 0,
  "metadata": {
    "colab": {
      "name": "Untitled2.ipynb",
      "provenance": [],
      "authorship_tag": "ABX9TyNcuWjI1155v/PhJsiU6Rv+",
      "include_colab_link": true
    },
    "kernelspec": {
      "name": "python3",
      "display_name": "Python 3"
    },
    "language_info": {
      "name": "python"
    }
  },
  "cells": [
    {
      "cell_type": "markdown",
      "metadata": {
        "id": "view-in-github",
        "colab_type": "text"
      },
      "source": [
        "<a href=\"https://colab.research.google.com/github/mAbbaspour/Hyperparameter-Optimization/blob/main/median%26%20hyperopt%20overfit.ipynb\" target=\"_parent\"><img src=\"https://colab.research.google.com/assets/colab-badge.svg\" alt=\"Open In Colab\"/></a>"
      ]
    },
    {
      "cell_type": "code",
      "execution_count": 183,
      "metadata": {
        "id": "ILPIxw-kyDnX"
      },
      "outputs": [],
      "source": [
        "import torch\n",
        "import torch.nn as nn\n",
        "import torch.nn.functional as f\n",
        "import numpy as np\n",
        "import math;"
      ]
    },
    {
      "cell_type": "code",
      "source": [
        "from google.colab import files\n",
        "uploaded = files.upload()\n",
        "uploaded2 = files.upload()\n"
      ],
      "metadata": {
        "colab": {
          "resources": {
            "http://localhost:8080/nbextensions/google.colab/files.js": {
              "data": "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",
              "ok": true,
              "headers": [
                [
                  "content-type",
                  "application/javascript"
                ]
              ],
              "status": 200,
              "status_text": ""
            }
          },
          "base_uri": "https://localhost:8080/",
          "height": 130
        },
        "id": "u7FsUDH0yOsG",
        "outputId": "4c6f1004-41f6-4142-bb8d-4032b8df5edf"
      },
      "execution_count": 5,
      "outputs": [
        {
          "output_type": "display_data",
          "data": {
            "text/plain": [
              "<IPython.core.display.HTML object>"
            ],
            "text/html": [
              "\n",
              "     <input type=\"file\" id=\"files-161c01fc-0786-40b6-9783-1964c01e0d68\" name=\"files[]\" multiple disabled\n",
              "        style=\"border:none\" />\n",
              "     <output id=\"result-161c01fc-0786-40b6-9783-1964c01e0d68\">\n",
              "      Upload widget is only available when the cell has been executed in the\n",
              "      current browser session. Please rerun this cell to enable.\n",
              "      </output>\n",
              "      <script src=\"/nbextensions/google.colab/files.js\"></script> "
            ]
          },
          "metadata": {}
        },
        {
          "output_type": "stream",
          "name": "stdout",
          "text": [
            "Saving lipo(Lables).csv to lipo(Lables) (1).csv\n"
          ]
        },
        {
          "output_type": "display_data",
          "data": {
            "text/plain": [
              "<IPython.core.display.HTML object>"
            ],
            "text/html": [
              "\n",
              "     <input type=\"file\" id=\"files-6c51ad64-e1ce-468a-b2e7-9d3546a3eaf6\" name=\"files[]\" multiple disabled\n",
              "        style=\"border:none\" />\n",
              "     <output id=\"result-6c51ad64-e1ce-468a-b2e7-9d3546a3eaf6\">\n",
              "      Upload widget is only available when the cell has been executed in the\n",
              "      current browser session. Please rerun this cell to enable.\n",
              "      </output>\n",
              "      <script src=\"/nbextensions/google.colab/files.js\"></script> "
            ]
          },
          "metadata": {}
        },
        {
          "output_type": "stream",
          "name": "stdout",
          "text": [
            "Saving lipo_global_cdf_rdkit.csv to lipo_global_cdf_rdkit (1).csv\n"
          ]
        }
      ]
    },
    {
      "cell_type": "code",
      "source": [
        "import random\n",
        "random.seed(1)\n",
        "import pandas as pd\n",
        "import io\n",
        "from sklearn import preprocessing\n",
        "from sklearn.decomposition import PCA\n",
        "from sklearn.model_selection import train_test_split"
      ],
      "metadata": {
        "id": "kOlQesRTz5uf"
      },
      "execution_count": 184,
      "outputs": []
    },
    {
      "cell_type": "code",
      "source": [
        "data = pd.read_csv(io.BytesIO(uploaded2['lipo_global_cdf_rdkit.csv']))\n",
        "dataY = pd.read_csv(io.BytesIO(uploaded['lipo(Lables).csv']))\n",
        "print(data[data.isnull().any(axis=1)])"
      ],
      "metadata": {
        "colab": {
          "base_uri": "https://localhost:8080/"
        },
        "id": "fRMnWELk0hzG",
        "outputId": "d224b692-a84b-44b3-b484-75826baa1c3d"
      },
      "execution_count": 186,
      "outputs": [
        {
          "output_type": "stream",
          "name": "stdout",
          "text": [
            "      ('RDKit2DNormalized_calculated', <class 'bool'>)  \\\n",
            "1561                                              True   \n",
            "\n",
            "      ('BalabanJ', <class 'numpy.float64'>)  \\\n",
            "1561                                  0.895   \n",
            "\n",
            "      ('BertzCT', <class 'numpy.float64'>)  ('Chi0', <class 'numpy.float64'>)  \\\n",
            "1561                              0.230752                           0.031331   \n",
            "\n",
            "      ('Chi0n', <class 'numpy.float64'>)  ('Chi0v', <class 'numpy.float64'>)  \\\n",
            "1561                            0.032387                            0.061726   \n",
            "\n",
            "      ('Chi1', <class 'numpy.float64'>)  ('Chi1n', <class 'numpy.float64'>)  \\\n",
            "1561                           0.050799                            0.045963   \n",
            "\n",
            "      ('Chi1v', <class 'numpy.float64'>)  ('Chi2n', <class 'numpy.float64'>)  \\\n",
            "1561                            0.116251                             0.04344   \n",
            "\n",
            "      ...  ('fr_sulfonamd', <class 'numpy.float64'>)  \\\n",
            "1561  ...                               1.593061e-17   \n",
            "\n",
            "      ('fr_sulfone', <class 'numpy.float64'>)  \\\n",
            "1561                             5.766101e-14   \n",
            "\n",
            "      ('fr_term_acetylene', <class 'numpy.float64'>)  \\\n",
            "1561                                    2.957989e-11   \n",
            "\n",
            "      ('fr_tetrazole', <class 'numpy.float64'>)  \\\n",
            "1561                                   0.168378   \n",
            "\n",
            "      ('fr_thiazole', <class 'numpy.float64'>)  \\\n",
            "1561                                   0.16738   \n",
            "\n",
            "      ('fr_thiocyan', <class 'numpy.float64'>)  \\\n",
            "1561                              1.481515e-18   \n",
            "\n",
            "      ('fr_thiophene', <class 'numpy.float64'>)  \\\n",
            "1561                               2.324150e-16   \n",
            "\n",
            "      ('fr_unbrch_alkane', <class 'numpy.float64'>)  \\\n",
            "1561                                   4.703598e-08   \n",
            "\n",
            "      ('fr_urea', <class 'numpy.float64'>)  ('qed', <class 'numpy.float64'>)  \n",
            "1561                              0.166633                          0.542261  \n",
            "\n",
            "[1 rows x 201 columns]\n"
          ]
        }
      ]
    },
    {
      "cell_type": "code",
      "source": [
        "data = data.drop(1561)\n",
        "dataY = dataY.drop(1561)\n"
      ],
      "metadata": {
        "id": "V3Ar9j9W07gS"
      },
      "execution_count": 187,
      "outputs": []
    },
    {
      "cell_type": "code",
      "source": [
        "arrayY = dataY.values\n",
        "Y = arrayY[0: ,1 ]\n",
        "array = data.values\n",
        "X = array[0:,1:]"
      ],
      "metadata": {
        "id": "gtHiOJkA1wtF"
      },
      "execution_count": 188,
      "outputs": []
    },
    {
      "cell_type": "code",
      "source": [
        "X_train, X_test ,Y_train , Y_test  = train_test_split(X, Y ,test_size=0.2)\n",
        "scaler_data  = preprocessing.MinMaxScaler()\n",
        "X_train = scaler_data.fit_transform(X_train)\n",
        "X_test =  scaler_data.transform(X_test)\n",
        "scaler_labels = preprocessing.MinMaxScaler()\n",
        "Y_train = scaler_labels.fit_transform(Y_train.reshape(-1, 1))\n",
        "Y_test = scaler_labels.transform(Y_test.reshape(-1, 1))\n"
      ],
      "metadata": {
        "id": "NPJmIBPJ13cJ"
      },
      "execution_count": 189,
      "outputs": []
    },
    {
      "cell_type": "code",
      "source": [
        "from sklearn.decomposition import PCA\n",
        "import matplotlib.pyplot as plt\n",
        "pca = PCA(n_components=200)\n",
        "pca.fit(X_train)\n",
        "print(pca.explained_variance_ratio_)\n",
        "plt.plot(np.arange(200),pca.explained_variance_ratio_)\n",
        "plt.show()"
      ],
      "metadata": {
        "colab": {
          "base_uri": "https://localhost:8080/",
          "height": 1000
        },
        "id": "A2vKgH1ioDmU",
        "outputId": "d0b0d9a6-58b3-4a01-ee86-39e03c7fcd7f"
      },
      "execution_count": 190,
      "outputs": [
        {
          "output_type": "stream",
          "name": "stdout",
          "text": [
            "[1.91136521e-01 7.15388169e-02 6.06704728e-02 5.28190071e-02\n",
            " 4.51349968e-02 4.19253309e-02 3.37025058e-02 3.09939752e-02\n",
            " 2.75239260e-02 2.53543263e-02 2.11356427e-02 2.08901061e-02\n",
            " 1.79681315e-02 1.70744100e-02 1.57008353e-02 1.51151167e-02\n",
            " 1.44776287e-02 1.38691265e-02 1.29503361e-02 1.20131171e-02\n",
            " 1.17139452e-02 1.03653707e-02 9.96433763e-03 9.42805979e-03\n",
            " 8.66937586e-03 8.46858769e-03 8.27547556e-03 7.63789466e-03\n",
            " 7.26643719e-03 6.88556243e-03 6.55554088e-03 6.26780127e-03\n",
            " 6.09224025e-03 5.71479822e-03 5.51579889e-03 5.16076808e-03\n",
            " 4.94061462e-03 4.82801015e-03 4.55885684e-03 4.43905066e-03\n",
            " 4.40373568e-03 4.20217426e-03 4.14405551e-03 3.85959887e-03\n",
            " 3.71391514e-03 3.56548056e-03 3.38840355e-03 3.24772049e-03\n",
            " 3.21009910e-03 3.03237787e-03 2.96257715e-03 2.89053142e-03\n",
            " 2.83613561e-03 2.73132266e-03 2.68596490e-03 2.53836798e-03\n",
            " 2.43390954e-03 2.30988011e-03 2.23855616e-03 2.09847696e-03\n",
            " 2.07444666e-03 1.97565734e-03 1.92507812e-03 1.86870713e-03\n",
            " 1.84743566e-03 1.73246704e-03 1.70285960e-03 1.61336589e-03\n",
            " 1.54070004e-03 1.40440816e-03 1.39250032e-03 1.34874150e-03\n",
            " 1.28396069e-03 1.23598535e-03 1.17180779e-03 1.12415222e-03\n",
            " 1.07614215e-03 1.01253016e-03 9.73391577e-04 9.31612479e-04\n",
            " 9.19319824e-04 8.87309752e-04 8.39392467e-04 8.34986948e-04\n",
            " 8.16560975e-04 8.06324853e-04 7.62204359e-04 7.34991886e-04\n",
            " 6.93651266e-04 6.53220215e-04 6.24526552e-04 6.17999563e-04\n",
            " 5.82756553e-04 5.66148283e-04 5.58782589e-04 5.25552843e-04\n",
            " 5.09373050e-04 4.90589767e-04 4.83716090e-04 4.60094601e-04\n",
            " 4.45838623e-04 4.33480361e-04 4.18673943e-04 3.97803979e-04\n",
            " 3.85388077e-04 3.64421208e-04 3.48999488e-04 3.41567454e-04\n",
            " 3.35456525e-04 3.24291890e-04 2.98848393e-04 2.94919846e-04\n",
            " 2.92610697e-04 2.77705846e-04 2.65377043e-04 2.57131808e-04\n",
            " 2.52315027e-04 2.38686211e-04 2.24428644e-04 2.08529105e-04\n",
            " 2.03087574e-04 1.99037199e-04 1.87853301e-04 1.83951221e-04\n",
            " 1.74465534e-04 1.60855100e-04 1.56017391e-04 1.45630491e-04\n",
            " 1.36656891e-04 1.33924972e-04 1.29096257e-04 1.22949095e-04\n",
            " 1.11889736e-04 1.07222145e-04 1.01018089e-04 9.34130379e-05\n",
            " 8.97424725e-05 8.58436393e-05 8.35737269e-05 7.93815210e-05\n",
            " 7.52901190e-05 7.09404345e-05 6.61454509e-05 6.25549089e-05\n",
            " 5.87455931e-05 5.77444533e-05 5.52417386e-05 5.23543943e-05\n",
            " 5.03582075e-05 4.87493545e-05 4.48115645e-05 4.32804390e-05\n",
            " 4.18681007e-05 3.75149596e-05 3.49629203e-05 3.17601409e-05\n",
            " 3.03640085e-05 2.66334643e-05 2.61264515e-05 2.53432804e-05\n",
            " 2.04342568e-05 1.90442690e-05 1.77445301e-05 1.41754333e-05\n",
            " 1.20634357e-05 1.11964677e-05 6.94603256e-06 6.46852395e-06\n",
            " 5.25039565e-06 4.27685879e-06 3.58922634e-06 3.07558766e-06\n",
            " 2.02391734e-06 6.98278872e-07 3.14989083e-07 1.64835776e-07\n",
            " 5.30949579e-08 1.46413636e-08 2.35828903e-23 1.02587851e-30\n",
            " 3.76950322e-32 1.07658822e-33 1.07658822e-33 1.07658822e-33\n",
            " 1.07658822e-33 1.07658822e-33 1.07658822e-33 1.07658822e-33\n",
            " 1.07658822e-33 1.07658822e-33 1.07658822e-33 1.07658822e-33\n",
            " 1.07658822e-33 1.07658822e-33 1.07658822e-33 1.07658822e-33\n",
            " 1.07658822e-33 1.07658822e-33 1.07658822e-33 1.07658822e-33]\n"
          ]
        },
        {
          "output_type": "display_data",
          "data": {
            "text/plain": [
              "<Figure size 432x288 with 1 Axes>"
            ],
            "image/png": "[encoded data removed]"
          },
          "metadata": {
            "needs_background": "light"
          }
        }
      ]
    },
    {
      "cell_type": "code",
      "source": [
        "pca = PCA(n_components=75)\n",
        "pca.fit(X_train)\n",
        "X_train=pca.transform(X_train)\n",
        "\n",
        "\n",
        "\n",
        "X_test = pca.transform(X_test)\n"
      ],
      "metadata": {
        "id": "GfGtQhtaok_8"
      },
      "execution_count": 191,
      "outputs": []
    },
    {
      "cell_type": "code",
      "source": [
        "print(X_test.shape)\n",
        "print(Y_test.shape)\n",
        "print(X_train.shape)\n",
        "print(Y_train.shape)\n",
        "device = torch.device('cuda:0' if torch.cuda.is_available() else 'cpu')"
      ],
      "metadata": {
        "colab": {
          "base_uri": "https://localhost:8080/"
        },
        "id": "PNk098Tl2z43",
        "outputId": "179b54a7-5958-4d1c-ace9-a1c5abca7717"
      },
      "execution_count": 192,
      "outputs": [
        {
          "output_type": "stream",
          "name": "stdout",
          "text": [
            "(840, 75)\n",
            "(840, 1)\n",
            "(3359, 75)\n",
            "(3359, 1)\n"
          ]
        }
      ]
    },
    {
      "cell_type": "code",
      "source": [
        "Y_train_new =  Y_train.astype(np.float)\n",
        "Y_test_new = Y_test.astype(np.float)\n",
        "print(Y_train_new.shape)\n",
        "print(Y_test_new.shape)\n",
        "device = torch.device('cuda:0' if torch.cuda.is_available() else 'cpu')\n",
        "tensor_x_train = torch.tensor(X_train, dtype=torch.float).to(device) \n",
        "tensor_x_test = torch.tensor(X_test, dtype=torch.float).to(device) \n",
        "\n",
        "tensor_y_train = torch.tensor(Y_train_new , dtype=torch.float).to(device)\n",
        "tensor_y_test= torch.tensor(Y_test_new, dtype=torch.float).to(device)\n"
      ],
      "metadata": {
        "colab": {
          "base_uri": "https://localhost:8080/"
        },
        "id": "a2MoxZYK29NR",
        "outputId": "c59d9499-8736-41e2-fa22-d9167ab9613a"
      },
      "execution_count": 193,
      "outputs": [
        {
          "output_type": "stream",
          "name": "stdout",
          "text": [
            "(3359, 1)\n",
            "(840, 1)\n"
          ]
        },
        {
          "output_type": "stream",
          "name": "stderr",
          "text": [
            "/usr/local/lib/python3.7/dist-packages/ipykernel_launcher.py:1: DeprecationWarning: `np.float` is a deprecated alias for the builtin `float`. To silence this warning, use `float` by itself. Doing this will not modify any behavior and is safe. If you specifically wanted the numpy scalar type, use `np.float64` here.\n",
            "Deprecated in NumPy 1.20; for more details and guidance: https://numpy.org/devdocs/release/1.20.0-notes.html#deprecations\n",
            "  \"\"\"Entry point for launching an IPython kernel.\n",
            "/usr/local/lib/python3.7/dist-packages/ipykernel_launcher.py:2: DeprecationWarning: `np.float` is a deprecated alias for the builtin `float`. To silence this warning, use `float` by itself. Doing this will not modify any behavior and is safe. If you specifically wanted the numpy scalar type, use `np.float64` here.\n",
            "Deprecated in NumPy 1.20; for more details and guidance: https://numpy.org/devdocs/release/1.20.0-notes.html#deprecations\n",
            "  \n"
          ]
        }
      ]
    },
    {
      "cell_type": "code",
      "source": [
        "from torch.utils.data import TensorDataset\n",
        "trainset = TensorDataset(tensor_x_train, tensor_y_train) \n",
        "testset = TensorDataset(tensor_x_test,tensor_y_test)"
      ],
      "metadata": {
        "id": "rDqhgM0F3I-t"
      },
      "execution_count": 194,
      "outputs": []
    },
    {
      "cell_type": "code",
      "source": [
        "%%capture\n",
        "try:\n",
        "    import ray\n",
        "except:\n",
        "    !pip install -U ray\n",
        "    import ray"
      ],
      "metadata": {
        "id": "omvheB7z3cZd"
      },
      "execution_count": 195,
      "outputs": []
    },
    {
      "cell_type": "code",
      "source": [
        "from functools import partial\n",
        "import numpy as np\n",
        "import os\n",
        "import torch.nn.functional as F\n",
        "import torch.optim as optim\n",
        "from torch.utils.data import random_split\n",
        "from torchsummary import summary\n",
        "\n",
        "from ray import tune\n",
        "# a = {\"a\":tune.quniform(50, 200, 10) , \"b\": 5}\n",
        "# print(type(a.get(\"a\")))\n",
        "from ray.tune import CLIReporter\n",
        "from ray.tune.schedulers import ASHAScheduler"
      ],
      "metadata": {
        "id": "7B0YdBu93fDD"
      },
      "execution_count": 196,
      "outputs": []
    },
    {
      "cell_type": "code",
      "source": [
        "def load_data(data_dir=None):\n",
        "    return trainset, testset"
      ],
      "metadata": {
        "id": "TXohltqA3lPE"
      },
      "execution_count": 197,
      "outputs": []
    },
    {
      "cell_type": "code",
      "source": [
        "# # Net().__init__(self , confing) \n",
        "#     config = {\n",
        "#         \"act1 \": tune.choice([\"relu\",\"tanh\",\"selu\"]),\n",
        "#         \"act2\" : tune.choice([\"relu\",\"tanh\",\"selu\"]),\n",
        "#         \"act3\" : tune.choice([\"relu\",\"tanh\",\"selu\"]),\n",
        "#         \"lr\": tune.quniform(0.0005, 0.001, 0.0001),\n",
        "#         \"batch_size\": tune.choice([8, 16, 32]),\n",
        "#         \"hidden_dim1\" : tune.quniform(50, 200, 10),\n",
        "#         \"hidden_dim2\" : tune.quniform(50, 200, 10),\n",
        "#         \"hidden_dim3\" : tune.quniform(50, 200, 10),\n",
        "#     }\n",
        "#   self = { \"confing\": confing , \"hd\":}\n",
        "class Net(nn.Module):\n",
        "    def __init__(self, config):\n",
        "        super().__init__()\n",
        "\n",
        "        self.config = config\n",
        "        self.hidden_dim1 = int(self.config.get(\"hidden_dim1\", 100))\n",
        "        self.hidden_dim2 = int(self.config.get(\"hidden_dim2\", 100))\n",
        "        self.hidden_dim3 = int(self.config.get(\"hidden_dim3\", 100))\n",
        "\n",
        "        self.act1 = self.config.get(\"act1\", \"relu\") \n",
        "        self.act2 = self.config.get(\"act2\", \"relu\") \n",
        "        self.act3 = self.config.get(\"act3\", \"relu\")\n",
        "\n",
        "        self.linear1 = nn.Linear(75, self.hidden_dim1)\n",
        "        self.linear2 = nn.Linear(self.hidden_dim1, self.hidden_dim2)\n",
        "        self.linear3 = nn.Linear(self.hidden_dim2, self.hidden_dim3)\n",
        "        self.linear4 = nn.Linear(self.hidden_dim3, 1)\n",
        "    \n",
        "    @staticmethod\n",
        "    def activation_func(act_str):\n",
        "        if act_str==\"tanh\":\n",
        "            return eval(\"torch.\"+act_str)\n",
        "        elif act_str==\"selu\" or act_str==\"relu\":   \n",
        "            return eval(\"torch.nn.functional.\"+act_str)\n",
        "\n",
        "    def forward(self, x):\n",
        "        output = self.linear1(x)\n",
        "        output = self.activation_func(self.act1)(output)\n",
        "        output = self.linear2(output)\n",
        "        output = self.activation_func(self.act2)(output)\n",
        "        output = self.linear3(output)\n",
        "        output = self.activation_func(self.act3)(output)\n",
        "        output = self.linear4(output)        \n",
        "        return output"
      ],
      "metadata": {
        "id": "pL-xixOc3n7s"
      },
      "execution_count": 198,
      "outputs": []
    },
    {
      "cell_type": "code",
      "source": [
        "model = Net({})"
      ],
      "metadata": {
        "id": "0r654a5N3rr7"
      },
      "execution_count": 199,
      "outputs": []
    },
    {
      "cell_type": "code",
      "source": [
        "from prettytable import PrettyTable\n",
        "\n",
        "def count_parameters(model):\n",
        "    table = PrettyTable([\"Modules\", \"Parameters\"])\n",
        "    total_params = 0\n",
        "    for name, parameter in model.named_parameters():\n",
        "        if not parameter.requires_grad: continue\n",
        "        param = parameter.numel()\n",
        "        table.add_row([name, param])\n",
        "        total_params+=param\n",
        "    print(table)\n",
        "    print(f\"Total Trainable Params: {total_params}\")\n",
        "    return total_params"
      ],
      "metadata": {
        "id": "CMv6wpET3t6T"
      },
      "execution_count": 200,
      "outputs": []
    },
    {
      "cell_type": "code",
      "source": [
        "summary(model, (1,tensor_x_train.shape[1]))\n",
        "\n",
        "count_parameters(model)"
      ],
      "metadata": {
        "colab": {
          "base_uri": "https://localhost:8080/"
        },
        "id": "mTP2lYjZ3woI",
        "outputId": "be59d592-ec9e-4992-d848-322580577332"
      },
      "execution_count": 201,
      "outputs": [
        {
          "output_type": "stream",
          "name": "stdout",
          "text": [
            "----------------------------------------------------------------\n",
            "        Layer (type)               Output Shape         Param #\n",
            "================================================================\n",
            "            Linear-1               [-1, 1, 100]           7,600\n",
            "            Linear-2               [-1, 1, 100]          10,100\n",
            "            Linear-3               [-1, 1, 100]          10,100\n",
            "            Linear-4                 [-1, 1, 1]             101\n",
            "================================================================\n",
            "Total params: 27,901\n",
            "Trainable params: 27,901\n",
            "Non-trainable params: 0\n",
            "----------------------------------------------------------------\n",
            "Input size (MB): 0.00\n",
            "Forward/backward pass size (MB): 0.00\n",
            "Params size (MB): 0.11\n",
            "Estimated Total Size (MB): 0.11\n",
            "----------------------------------------------------------------\n",
            "+----------------+------------+\n",
            "|    Modules     | Parameters |\n",
            "+----------------+------------+\n",
            "| linear1.weight |    7500    |\n",
            "|  linear1.bias  |    100     |\n",
            "| linear2.weight |   10000    |\n",
            "|  linear2.bias  |    100     |\n",
            "| linear3.weight |   10000    |\n",
            "|  linear3.bias  |    100     |\n",
            "| linear4.weight |    100     |\n",
            "|  linear4.bias  |     1      |\n",
            "+----------------+------------+\n",
            "Total Trainable Params: 27901\n"
          ]
        },
        {
          "output_type": "execute_result",
          "data": {
            "text/plain": [
              "27901"
            ]
          },
          "metadata": {},
          "execution_count": 201
        }
      ]
    },
    {
      "cell_type": "code",
      "source": [
        "def trainable_func(config, checkpoint_dir=None, data_dir=None, epochs=10):\n",
        "\n",
        "    net = Net(config)\n",
        "\n",
        "    device = \"cpu\"\n",
        "    if torch.cuda.is_available():\n",
        "        device = \"cuda:0\"\n",
        "        if torch.cuda.device_count() > 1:\n",
        "            net = nn.DataParallel(net)\n",
        "    net.to(device)\n",
        "\n",
        "    '''\n",
        "    Define a loss function\n",
        "    '''\n",
        "    ## Classification\n",
        "    # criterion = nn.CrossEntropyLoss()\n",
        "\n",
        "    ## Regression\n",
        "    criterion = nn.MSELoss(reduction='sum')\n",
        "\n",
        "    # Define an optimizer \n",
        "    optimizer = optim.Adam(net.parameters(), lr=config.get(\"lr\",0.0003))\n",
        "\n",
        "    if checkpoint_dir:\n",
        "        model_state, optimizer_state = torch.load(\n",
        "            os.path.join(checkpoint_dir, \"checkpoint\"))\n",
        "        net.load_state_dict(model_state)\n",
        "        optimizer.load_state_dict(optimizer_state)\n",
        "\n",
        "    # Load data\n",
        "    trainset, testset = load_data(data_dir)\n",
        "\n",
        "    # Split the dataset into training and validation sets\n",
        "    train_size = int(len(trainset) * 0.8)\n",
        "    train_subset, val_subset = random_split(trainset, [train_size, len(trainset) - train_size])\n",
        "\n",
        "    # Define data loaders (which combines a dataset and a sampler, and provides an iterable over the given dataset)\n",
        "    trainloader = torch.utils.data.DataLoader(\n",
        "        train_subset,\n",
        "        batch_size=int(config.get(\"batch_size\",32)),\n",
        "        shuffle=True,\n",
        "        num_workers=2)\n",
        "    valloader = torch.utils.data.DataLoader(\n",
        "        val_subset,\n",
        "        batch_size=int(config.get(\"batch_size\",32)),\n",
        "        shuffle=True,\n",
        "        num_workers=2)\n",
        "\n",
        "    for epoch in range(epochs):  # loop over the dataset multiple times\n",
        "        epoch_train_loss = 0.0\n",
        "        # epoch_steps = 0\n",
        "        net.train() # Prepare model for training\n",
        "        for i, data in enumerate(trainloader):\n",
        "            # get the inputs; data is a list of [inputs, labels]\n",
        "            inputs, labels = data\n",
        "            inputs, labels = inputs.to(device), labels.to(device)\n",
        "\n",
        "            # zero the parameter gradients\n",
        "            optimizer.zero_grad()\n",
        "\n",
        "            # forward + backward + optimize\n",
        "            outputs = net(inputs)\n",
        "            loss = criterion(outputs, labels)\n",
        "            loss.backward()\n",
        "            optimizer.step()\n",
        "\n",
        "            '''\n",
        "            Compute train loss without scaling to print\n",
        "            ''' \n",
        "            # outputs = torch.tensor(scaler_labels.inverse_transform(outputs.detach().cpu())).to(device)    \n",
        "            # labels = torch.tensor(scaler_labels.inverse_transform(labels.cpu())).to(device)  \n",
        "            # loss_train = criterion(outputs, labels) \n",
        "            # epoch_train_loss += loss_train.detach().item()\n",
        "        # print(\"[%d] loss: %.3f\" % (epoch + 1, epoch_train_loss / len(train_subset)))\n",
        "\n",
        "        # Validation loss\n",
        "        val_loss = 0.0\n",
        "        net.eval() # Prepare model for evaluation\n",
        "        for i, data in enumerate(valloader):\n",
        "            with torch.no_grad():\n",
        "                inputs, labels = data\n",
        "                inputs, labels = inputs.to(device), labels.to(device)\n",
        "\n",
        "                outputs = net(inputs)\n",
        "\n",
        "                # Inverse transform of the labels' scaler\n",
        "                outputs = torch.tensor(scaler_labels.inverse_transform(outputs.detach().cpu())).to(device)    \n",
        "                labels = torch.tensor(scaler_labels.inverse_transform(labels.cpu())).to(device) \n",
        "\n",
        "                loss = criterion(outputs, labels)\n",
        "                val_loss += loss.cpu().numpy()\n",
        "\n",
        "        with tune.checkpoint_dir(epoch) as checkpoint_dir:\n",
        "            path = os.path.join(checkpoint_dir, \"checkpoint\")\n",
        "            torch.save((net.state_dict(), optimizer.state_dict()), path)\n",
        "\n",
        "        tune.report(epoch = epoch, loss=(val_loss / len(val_subset)))\n",
        "    print(\"Finished Training\")"
      ],
      "metadata": {
        "id": "XLgl-qIy3yrx"
      },
      "execution_count": 202,
      "outputs": []
    },
    {
      "cell_type": "code",
      "source": [
        "def test_score(config, net, device=\"cpu\"):\n",
        "    trainset, testset = load_data()\n",
        "\n",
        "    testloader = torch.utils.data.DataLoader(\n",
        "        testset, batch_size=int(config.get(\"batch_size\",32)), shuffle=False, num_workers=2)\n",
        "    \n",
        "    ## Regression\n",
        "    criterion = nn.MSELoss(reduction='sum')\n",
        "\n",
        "    # Test loss\n",
        "    test_loss = 0.0\n",
        "    net.eval() # Prepare model for evaluation\n",
        "    for i, data in enumerate(testloader):\n",
        "        with torch.no_grad():\n",
        "            inputs, labels = data\n",
        "            inputs, labels = inputs.to(device), labels.to(device)\n",
        "\n",
        "            outputs = net(inputs)\n",
        "\n",
        "            # Inverse transform of the labels' scaler\n",
        "            outputs = torch.tensor(scaler_labels.inverse_transform(outputs.detach().cpu())).to(device)    \n",
        "            labels = torch.tensor(scaler_labels.inverse_transform(labels.cpu())).to(device) \n",
        "\n",
        "            loss = criterion(outputs, labels)\n",
        "            test_loss += loss.cpu().numpy()\n",
        "\n",
        "    return test_loss / len(testset)"
      ],
      "metadata": {
        "id": "9XPNE3So332_"
      },
      "execution_count": 203,
      "outputs": []
    },
    {
      "cell_type": "code",
      "source": [
        "ray.shutdown()\n",
        "ray.init() # Here we use ray.init() to evaluate available_resources for Ray\n",
        "print(ray.available_resources())\n",
        "ray.shutdown()  # Restart Ray defensively in case the ray connection is lost. \n",
        "\n",
        "# Start Ray runtime with specific resources (not nessesarily all resources)\n",
        "# You can change this values based on your machine resources)\n",
        "ray.init(num_cpus=2, num_gpus=0) \n",
        "\n",
        "\"\"\"Check Ray Tune is working properly (for trainable class)\"\"\"\n",
        "# from ray.tune.utils import validate_save_restore\n",
        "# validate_save_restore(Trainable)\n",
        "# validate_save_restore(Trainable, use_object_store=True)\n",
        "# print(\"Success!\")\n",
        "\"\"\"\"\"\""
      ],
      "metadata": {
        "colab": {
          "base_uri": "https://localhost:8080/",
          "height": 54
        },
        "id": "RiMw9ywn37Eg",
        "outputId": "7187299e-3902-450c-b4f9-7a8c26383afe"
      },
      "execution_count": 204,
      "outputs": [
        {
          "output_type": "stream",
          "name": "stdout",
          "text": [
            "{'memory': 8021375387.0, 'node:172.28.0.2': 1.0, 'object_store_memory': 4010687692.0, 'CPU': 2.0}\n"
          ]
        },
        {
          "output_type": "execute_result",
          "data": {
            "text/plain": [
              "''"
            ],
            "application/vnd.google.colaboratory.intrinsic+json": {
              "type": "string"
            }
          },
          "metadata": {},
          "execution_count": 204
        }
      ]
    },
    {
      "cell_type": "code",
      "source": [
        "%%capture\n",
        "\n",
        "%pip install hpbandster ConfigSpace\n",
        "!pip install hpbandster ConfigSpace\n",
        "!pip install bayesian-optimization"
      ],
      "metadata": {
        "id": "NjXuthUt39_d"
      },
      "execution_count": 205,
      "outputs": []
    },
    {
      "cell_type": "code",
      "source": [
        "ray.shutdown()\n",
        "from ray.tune.schedulers import AsyncHyperBandScheduler\n",
        "from ray.tune.suggest.hyperopt import HyperOptSearch\n",
        "from ray.tune.suggest.bayesopt import BayesOptSearch\n",
        "from ray.tune.suggest.hyperopt import HyperOptSearch\n",
        "from ray.tune.schedulers import PopulationBasedTraining\n",
        "ray.shutdown()\n",
        "from ray.tune.schedulers import AsyncHyperBandScheduler\n",
        "from ray.tune.suggest.hyperopt import HyperOptSearch\n",
        "from ray.tune.suggest.bayesopt import BayesOptSearch\n",
        "from ray.tune.suggest.hyperopt import HyperOptSearch\n",
        "from ray.tune.schedulers import PopulationBasedTraining\n",
        "def main(num_samples=10, max_num_epochs=10, gpus_per_trial=2):\n",
        "\n",
        "    # define data directory here if you want to load data from files\n",
        "    data_dir = os.path.abspath(\"./data\")\n",
        "    load_data(data_dir)\n",
        "\n",
        "    # define the search space of hyperparameters\n",
        "    config = {\n",
        "        \"act1 \": tune.choice([\"relu\",\"tanh\",\"selu\"]),\n",
        "        \"act2\" : tune.choice([\"relu\",\"tanh\",\"selu\"]),\n",
        "        \"act3\" : tune.choice([\"relu\",\"tanh\",\"selu\"]),\n",
        "        \"lr\": tune.quniform(0.0005, 0.001, 0.0001),\n",
        "        \"batch_size\": tune.choice([ 8,16, 32 , 64]),\n",
        "        \"hidden_dim1\" : tune.quniform(120, 330, 15),\n",
        "        \"hidden_dim2\" : tune.quniform(120, 330, 15),\n",
        "        \"hidden_dim3\" : tune.quniform(120, 330, 15),\n",
        "    }\n",
        "\n",
        "    # Optuna search algorithm\n",
        "    from ray.tune.suggest.optuna import OptunaSearch \n",
        "    from ray.tune.suggest import ConcurrencyLimiter\n",
        "    search_alg = HyperOptSearch(\n",
        "    # space=config,\n",
        "    metric=\"loss\", #or accuracy, etc.\n",
        "    mode=\"min\", #or max\n",
        "    n_initial_points=60,\n",
        "    # gamma = 0.1,\n",
        "    # random_state_seed=42,\n",
        "    # points_to_evaluate=[{\"max_norm_val\": 2.5, 'GNN_Layers': 3, 'dropout': 0.25, 'dropout1': 0.35, 'dropout2': 0.15, 'lr': 0.001, 'hidden_size': 80, 'readout1_out': 150, 'readout2_out': 100, 'batch_size': 64}],\n",
        "    )\n",
        "    search_alg = ConcurrencyLimiter(search_alg, max_concurrent=10)\n",
        "    training_iteration = 50\n",
        "    scheduler = MedianStoppingRule(\n",
        "    time_attr=\"training_iteration\",\n",
        "    grace_period=10,\n",
        "    min_samples_required=10,\n",
        "    hard_stop = True,\n",
        "    metric=\"loss\", #or accuracy, etc.\n",
        "    mode=\"min\", #or max\n",
        "    )\n",
        "    \n",
        "    reporter = CLIReporter(\n",
        "        # parameter_columns=[\"l1\", \"l2\", \"lr\", \"batch_size\"],\n",
        "        metric_columns=[\"loss\", \"training_iteration\"]\n",
        "        )\n",
        "    \n",
        "    # wrap data loading and training for tuning using `partial` \n",
        "    # (note that there exist other methods for this purpose)\n",
        "    result = tune.run(\n",
        "        partial(trainable_func, data_dir=data_dir, epochs=max_num_epochs),\n",
        "        scheduler=scheduler,\n",
        "        search_alg=search_alg,\n",
        "        num_samples=num_samples,\n",
        "        config=config,\n",
        "        verbose=2,\n",
        "        checkpoint_score_attr=\"loss\",\n",
        "        checkpoint_freq=0,\n",
        "        keep_checkpoints_num=1,\n",
        "        # checkpoint_at_end=True,\n",
        "        # reuse_actors=reuse_actors_status,\n",
        "        progress_reporter=reporter,\n",
        "        resources_per_trial={\"cpu\": 0.5, \"gpu\": gpus_per_trial},\n",
        "        stop={\"training_iteration\": max_num_epochs},                \n",
        "        )\n",
        "\n",
        "    best_trial = result.get_best_trial(\"loss\", \"min\", \"last\")\n",
        "    print(\"Best trial config: {}\".format(best_trial.config))\n",
        "    print(\"Best trial final validation score: {}\".format(\n",
        "        best_trial.last_result[\"loss\"]))\n",
        "\n",
        "    best_trained_model = Net(best_trial.config)\n",
        "    device = \"cpu\"\n",
        "    if torch.cuda.is_available():\n",
        "        device = \"cuda:0\"\n",
        "        if gpus_per_trial > 1:\n",
        "            best_trained_model = nn.DataParallel(best_trained_model)\n",
        "    best_trained_model.to(device)\n",
        "\n",
        "    best_checkpoint_dir = best_trial.checkpoint.value\n",
        "    model_state, optimizer_state = torch.load(os.path.join(\n",
        "        best_checkpoint_dir, \"checkpoint\"))\n",
        "    best_trained_model.load_state_dict(model_state)\n",
        "\n",
        "    test_score_value = test_score(best_trial.config, best_trained_model, device)\n",
        "    print(\"Best trial test set score: {}\".format(test_score_value))\n",
        "\n",
        "\n",
        "if __name__ == \"__main__\":\n",
        "    # You can change the number of GPUs per trial here:\n",
        "    main(num_samples=50, max_num_epochs=50, gpus_per_trial=0)\n"
      ],
      "metadata": {
        "colab": {
          "base_uri": "https://localhost:8080/"
        },
        "id": "sCHeQbrS4BYR",
        "outputId": "0e0101be-b715-4680-cc0f-b00e5894f64d"
      },
      "execution_count": 206,
      "outputs": [
        {
          "output_type": "stream",
          "name": "stderr",
          "text": [
            "2022-07-26 14:11:10,752\tINFO tune.py:874 -- Initializing Ray automatically.For cluster usage or custom Ray initialization, call `ray.init(...)` before `tune.run`.\n",
            "2022-07-26 14:11:15,399\tWARNING callback.py:106 -- The TensorboardX logger cannot be instantiated because either TensorboardX or one of it's dependencies is not installed. Please make sure you have the latest version of TensorboardX installed: `pip install -U tensorboardx`\n"
          ]
        },
        {
          "output_type": "stream",
          "name": "stdout",
          "text": [
            "== Status ==\n",
            "Current time: 2022-07-26 14:11:15 (running for 00:00:00.23)\n",
            "Memory usage on this node: 1.4/12.7 GiB\n",
            "Using MedianStoppingRule: num_stopped=0.\n",
            "Resources requested: 0.5/2 CPUs, 0/0 GPUs, 0.0/7.47 GiB heap, 0.0/3.73 GiB objects\n",
            "Result logdir: /root/ray_results/trainable_func_2022-07-26_14-11-15\n",
            "Number of trials: 1/50 (1 RUNNING)\n",
            "\n",
            "\n",
            "== Status ==\n",
            "Current time: 2022-07-26 14:11:20 (running for 00:00:05.50)\n",
            "Memory usage on this node: 1.6/12.7 GiB\n",
            "Using MedianStoppingRule: num_stopped=0.\n",
            "Resources requested: 2.0/2 CPUs, 0/0 GPUs, 0.0/7.47 GiB heap, 0.0/3.73 GiB objects\n",
            "Result logdir: /root/ray_results/trainable_func_2022-07-26_14-11-15\n",
            "Number of trials: 5/50 (1 PENDING, 4 RUNNING)\n",
            "\n",
            "\n",
            "== Status ==\n",
            "Current time: 2022-07-26 14:11:25 (running for 00:00:10.51)\n",
            "Memory usage on this node: 1.9/12.7 GiB\n",
            "Using MedianStoppingRule: num_stopped=0.\n",
            "Resources requested: 2.0/2 CPUs, 0/0 GPUs, 0.0/7.47 GiB heap, 0.0/3.73 GiB objects\n",
            "Result logdir: /root/ray_results/trainable_func_2022-07-26_14-11-15\n",
            "Number of trials: 5/50 (1 PENDING, 4 RUNNING)\n",
            "\n",
            "\n",
            "Trial trainable_func_cfcb9fe6 reported epoch=0,loss=0.8614934437059665,should_checkpoint=True with parameters={'act1 ': 'relu', 'act2': 'tanh', 'act3': 'selu', 'lr': 0.0005, 'batch_size': 64, 'hidden_dim1': 195.0, 'hidden_dim2': 285.0, 'hidden_dim3': 255.0}.\n",
            "Trial trainable_func_cfa7bf40 reported epoch=0,loss=0.7559874661541579,should_checkpoint=True with parameters={'act1 ': 'tanh', 'act2': 'selu', 'act3': 'relu', 'lr': 0.0007, 'batch_size': 32, 'hidden_dim1': 165.0, 'hidden_dim2': 300.0, 'hidden_dim3': 225.0}.\n",
            "== Status ==\n",
            "Current time: 2022-07-26 14:11:31 (running for 00:00:16.12)\n",
            "Memory usage on this node: 2.1/12.7 GiB\n",
            "Using MedianStoppingRule: num_stopped=0.\n",
            "Resources requested: 2.0/2 CPUs, 0/0 GPUs, 0.0/7.47 GiB heap, 0.0/3.73 GiB objects\n",
            "Result logdir: /root/ray_results/trainable_func_2022-07-26_14-11-15\n",
            "Number of trials: 5/50 (1 PENDING, 4 RUNNING)\n",
            "\n",
            "\n",
            "Trial trainable_func_cfcb9fe6 reported epoch=4,loss=0.6664172672576528,should_checkpoint=True with parameters={'act1 ': 'relu', 'act2': 'tanh', 'act3': 'selu', 'lr': 0.0005, 'batch_size': 64, 'hidden_dim1': 195.0, 'hidden_dim2': 285.0, 'hidden_dim3': 255.0}.\n",
            "Trial trainable_func_cfddfd3a reported epoch=0,loss=0.7786082760695104,should_checkpoint=True with parameters={'act1 ': 'tanh', 'act2': 'selu', 'act3': 'tanh', 'lr': 0.0006000000000000001, 'batch_size': 32, 'hidden_dim1': 165.0, 'hidden_dim2': 210.0, 'hidden_dim3': 300.0}.\n",
            "Trial trainable_func_cfd5408c reported epoch=0,loss=0.930246686686731,should_checkpoint=True with parameters={'act1 ': 'relu', 'act2': 'selu', 'act3': 'tanh', 'lr': 0.0006000000000000001, 'batch_size': 32, 'hidden_dim1': 135.0, 'hidden_dim2': 315.0, 'hidden_dim3': 165.0}.\n",
            "Trial trainable_func_cfa7bf40 reported epoch=3,loss=0.572061335764849,should_checkpoint=True with parameters={'act1 ': 'tanh', 'act2': 'selu', 'act3': 'relu', 'lr': 0.0007, 'batch_size': 32, 'hidden_dim1': 165.0, 'hidden_dim2': 300.0, 'hidden_dim3': 225.0}.\n",
            "== Status ==\n",
            "Current time: 2022-07-26 14:11:36 (running for 00:00:21.19)\n",
            "Memory usage on this node: 2.3/12.7 GiB\n",
            "Using MedianStoppingRule: num_stopped=0.\n",
            "Resources requested: 2.0/2 CPUs, 0/0 GPUs, 0.0/7.47 GiB heap, 0.0/3.73 GiB objects\n",
            "Result logdir: /root/ray_results/trainable_func_2022-07-26_14-11-15\n",
            "Number of trials: 5/50 (1 PENDING, 4 RUNNING)\n",
            "\n",
            "\n",
            "Trial trainable_func_cfcb9fe6 reported epoch=7,loss=0.603752271002258,should_checkpoint=True with parameters={'act1 ': 'relu', 'act2': 'tanh', 'act3': 'selu', 'lr': 0.0005, 'batch_size': 64, 'hidden_dim1': 195.0, 'hidden_dim2': 285.0, 'hidden_dim3': 255.0}.\n",
            "Trial trainable_func_cfd5408c reported epoch=2,loss=0.6334613003032368,should_checkpoint=True with parameters={'act1 ': 'relu', 'act2': 'selu', 'act3': 'tanh', 'lr': 0.0006000000000000001, 'batch_size': 32, 'hidden_dim1': 135.0, 'hidden_dim2': 315.0, 'hidden_dim3': 165.0}.\n",
            "Trial trainable_func_cfa7bf40 reported epoch=5,loss=0.5400469811322507,should_checkpoint=True with parameters={'act1 ': 'tanh', 'act2': 'selu', 'act3': 'relu', 'lr': 0.0007, 'batch_size': 32, 'hidden_dim1': 165.0, 'hidden_dim2': 300.0, 'hidden_dim3': 225.0}.\n",
            "== Status ==\n",
            "Current time: 2022-07-26 14:11:42 (running for 00:00:26.93)\n",
            "Memory usage on this node: 2.3/12.7 GiB\n",
            "Using MedianStoppingRule: num_stopped=0.\n",
            "Resources requested: 2.0/2 CPUs, 0/0 GPUs, 0.0/7.47 GiB heap, 0.0/3.73 GiB objects\n",
            "Result logdir: /root/ray_results/trainable_func_2022-07-26_14-11-15\n",
            "Number of trials: 5/50 (1 PENDING, 4 RUNNING)\n",
            "\n",
            "\n",
            "Trial trainable_func_cfddfd3a reported epoch=3,loss=0.6621727133713415,should_checkpoint=True with parameters={'act1 ': 'tanh', 'act2': 'selu', 'act3': 'tanh', 'lr': 0.0006000000000000001, 'batch_size': 32, 'hidden_dim1': 165.0, 'hidden_dim2': 210.0, 'hidden_dim3': 300.0}.\n",
            "Trial trainable_func_cfd5408c reported epoch=4,loss=0.6527915365659562,should_checkpoint=True with parameters={'act1 ': 'relu', 'act2': 'selu', 'act3': 'tanh', 'lr': 0.0006000000000000001, 'batch_size': 32, 'hidden_dim1': 135.0, 'hidden_dim2': 315.0, 'hidden_dim3': 165.0}.\n",
            "Trial trainable_func_cfddfd3a reported epoch=5,loss=0.6270012519308532,should_checkpoint=True with parameters={'act1 ': 'tanh', 'act2': 'selu', 'act3': 'tanh', 'lr': 0.0006000000000000001, 'batch_size': 32, 'hidden_dim1': 165.0, 'hidden_dim2': 210.0, 'hidden_dim3': 300.0}.\n",
            "== Status ==\n",
            "Current time: 2022-07-26 14:11:48 (running for 00:00:33.31)\n",
            "Memory usage on this node: 2.3/12.7 GiB\n",
            "Using MedianStoppingRule: num_stopped=0.\n",
            "Resources requested: 2.0/2 CPUs, 0/0 GPUs, 0.0/7.47 GiB heap, 0.0/3.73 GiB objects\n",
            "Result logdir: /root/ray_results/trainable_func_2022-07-26_14-11-15\n",
            "Number of trials: 6/50 (1 PAUSED, 1 PENDING, 4 RUNNING)\n",
            "\n",
            "\n",
            "Trial trainable_func_cfa7bf40 reported epoch=7,loss=0.5671078910298287,should_checkpoint=True with parameters={'act1 ': 'tanh', 'act2': 'selu', 'act3': 'relu', 'lr': 0.0007, 'batch_size': 32, 'hidden_dim1': 165.0, 'hidden_dim2': 300.0, 'hidden_dim3': 225.0}.\n",
            "Trial trainable_func_cfd5408c reported epoch=6,loss=0.566035060595436,should_checkpoint=True with parameters={'act1 ': 'relu', 'act2': 'selu', 'act3': 'tanh', 'lr': 0.0006000000000000001, 'batch_size': 32, 'hidden_dim1': 135.0, 'hidden_dim2': 315.0, 'hidden_dim3': 165.0}.\n",
            "Trial trainable_func_cfddfd3a reported epoch=7,loss=0.6088464143325885,should_checkpoint=True with parameters={'act1 ': 'tanh', 'act2': 'selu', 'act3': 'tanh', 'lr': 0.0006000000000000001, 'batch_size': 32, 'hidden_dim1': 165.0, 'hidden_dim2': 210.0, 'hidden_dim3': 300.0}.\n",
            "== Status ==\n",
            "Current time: 2022-07-26 14:11:54 (running for 00:00:38.68)\n",
            "Memory usage on this node: 2.3/12.7 GiB\n",
            "Using MedianStoppingRule: num_stopped=0.\n",
            "Resources requested: 2.0/2 CPUs, 0/0 GPUs, 0.0/7.47 GiB heap, 0.0/3.73 GiB objects\n",
            "Result logdir: /root/ray_results/trainable_func_2022-07-26_14-11-15\n",
            "Number of trials: 6/50 (1 PAUSED, 1 PENDING, 4 RUNNING)\n",
            "\n",
            "\n",
            "Trial trainable_func_cfa7bf40 reported epoch=9,loss=0.5527137706660148,should_checkpoint=True with parameters={'act1 ': 'tanh', 'act2': 'selu', 'act3': 'relu', 'lr': 0.0007, 'batch_size': 32, 'hidden_dim1': 165.0, 'hidden_dim2': 300.0, 'hidden_dim3': 225.0}.\n",
            "Trial trainable_func_cfe888ea reported epoch=0,loss=0.7082809198241866,should_checkpoint=True with parameters={'act1 ': 'tanh', 'act2': 'tanh', 'act3': 'selu', 'lr': 0.0009000000000000001, 'batch_size': 8, 'hidden_dim1': 270.0, 'hidden_dim2': 300.0, 'hidden_dim3': 165.0}.\n",
            "Trial trainable_func_cfd5408c reported epoch=8,loss=0.6185624192777749,should_checkpoint=True with parameters={'act1 ': 'relu', 'act2': 'selu', 'act3': 'tanh', 'lr': 0.0006000000000000001, 'batch_size': 32, 'hidden_dim1': 135.0, 'hidden_dim2': 315.0, 'hidden_dim3': 165.0}.\n",
            "Trial trainable_func_e1d34c66 reported epoch=0,loss=0.7304068224633068,should_checkpoint=True with parameters={'act1 ': 'tanh', 'act2': 'relu', 'act3': 'tanh', 'lr': 0.0006000000000000001, 'batch_size': 32, 'hidden_dim1': 240.0, 'hidden_dim2': 285.0, 'hidden_dim3': 285.0}.\n",
            "Trial trainable_func_cfddfd3a reported epoch=9,loss=0.672208419964239,should_checkpoint=True with parameters={'act1 ': 'tanh', 'act2': 'selu', 'act3': 'tanh', 'lr': 0.0006000000000000001, 'batch_size': 32, 'hidden_dim1': 165.0, 'hidden_dim2': 210.0, 'hidden_dim3': 300.0}.\n",
            "== Status ==\n",
            "Current time: 2022-07-26 14:11:59 (running for 00:00:43.73)\n",
            "Memory usage on this node: 2.3/12.7 GiB\n",
            "Using MedianStoppingRule: num_stopped=0.\n",
            "Resources requested: 2.0/2 CPUs, 0/0 GPUs, 0.0/7.47 GiB heap, 0.0/3.73 GiB objects\n",
            "Result logdir: /root/ray_results/trainable_func_2022-07-26_14-11-15\n",
            "Number of trials: 7/50 (2 PAUSED, 1 PENDING, 4 RUNNING)\n",
            "\n",
            "\n",
            "Trial trainable_func_ea51ef14 reported epoch=0,loss=0.7636299644171552,should_checkpoint=True with parameters={'act1 ': 'tanh', 'act2': 'tanh', 'act3': 'selu', 'lr': 0.0006000000000000001, 'batch_size': 32, 'hidden_dim1': 195.0, 'hidden_dim2': 165.0, 'hidden_dim3': 195.0}.\n",
            "== Status ==\n",
            "Current time: 2022-07-26 14:12:04 (running for 00:00:49.35)\n",
            "Memory usage on this node: 2.4/12.7 GiB\n",
            "Using MedianStoppingRule: num_stopped=0.\n",
            "Resources requested: 2.0/2 CPUs, 0/0 GPUs, 0.0/7.47 GiB heap, 0.0/3.73 GiB objects\n",
            "Result logdir: /root/ray_results/trainable_func_2022-07-26_14-11-15\n",
            "Number of trials: 9/50 (4 PAUSED, 1 PENDING, 4 RUNNING)\n",
            "\n",
            "\n",
            "Trial trainable_func_e1d34c66 reported epoch=2,loss=0.5843270806334269,should_checkpoint=True with parameters={'act1 ': 'tanh', 'act2': 'relu', 'act3': 'tanh', 'lr': 0.0006000000000000001, 'batch_size': 32, 'hidden_dim1': 240.0, 'hidden_dim2': 285.0, 'hidden_dim3': 285.0}.\n",
            "Trial trainable_func_cfe888ea reported epoch=1,loss=0.5971992131209778,should_checkpoint=True with parameters={'act1 ': 'tanh', 'act2': 'tanh', 'act3': 'selu', 'lr': 0.0009000000000000001, 'batch_size': 8, 'hidden_dim1': 270.0, 'hidden_dim2': 300.0, 'hidden_dim3': 165.0}.\n",
            "Trial trainable_func_e7a9dc7c reported epoch=0,loss=0.9750755197106565,should_checkpoint=True with parameters={'act1 ': 'selu', 'act2': 'tanh', 'act3': 'selu', 'lr': 0.0009000000000000001, 'batch_size': 8, 'hidden_dim1': 255.0, 'hidden_dim2': 135.0, 'hidden_dim3': 270.0}.\n",
            "Trial trainable_func_ea51ef14 reported epoch=3,loss=0.5963973183640916,should_checkpoint=True with parameters={'act1 ': 'tanh', 'act2': 'tanh', 'act3': 'selu', 'lr': 0.0006000000000000001, 'batch_size': 32, 'hidden_dim1': 195.0, 'hidden_dim2': 165.0, 'hidden_dim3': 195.0}.\n",
            "== Status ==\n",
            "Current time: 2022-07-26 14:12:11 (running for 00:00:56.35)\n",
            "Memory usage on this node: 2.4/12.7 GiB\n",
            "Using MedianStoppingRule: num_stopped=0.\n",
            "Resources requested: 2.0/2 CPUs, 0/0 GPUs, 0.0/7.47 GiB heap, 0.0/3.73 GiB objects\n",
            "Result logdir: /root/ray_results/trainable_func_2022-07-26_14-11-15\n",
            "Number of trials: 9/50 (4 PAUSED, 1 PENDING, 4 RUNNING)\n",
            "\n",
            "\n",
            "Trial trainable_func_e1d34c66 reported epoch=4,loss=0.5889276364243565,should_checkpoint=True with parameters={'act1 ': 'tanh', 'act2': 'relu', 'act3': 'tanh', 'lr': 0.0006000000000000001, 'batch_size': 32, 'hidden_dim1': 240.0, 'hidden_dim2': 285.0, 'hidden_dim3': 285.0}.\n",
            "Trial trainable_func_cfe888ea reported epoch=2,loss=0.597059309297332,should_checkpoint=True with parameters={'act1 ': 'tanh', 'act2': 'tanh', 'act3': 'selu', 'lr': 0.0009000000000000001, 'batch_size': 8, 'hidden_dim1': 270.0, 'hidden_dim2': 300.0, 'hidden_dim3': 165.0}.\n",
            "Trial trainable_func_e7a9dc7c reported epoch=1,loss=0.5542136212963185,should_checkpoint=True with parameters={'act1 ': 'selu', 'act2': 'tanh', 'act3': 'selu', 'lr': 0.0009000000000000001, 'batch_size': 8, 'hidden_dim1': 255.0, 'hidden_dim2': 135.0, 'hidden_dim3': 270.0}.\n",
            "Trial trainable_func_e1d34c66 reported epoch=6,loss=0.5744995923832656,should_checkpoint=True with parameters={'act1 ': 'tanh', 'act2': 'relu', 'act3': 'tanh', 'lr': 0.0006000000000000001, 'batch_size': 32, 'hidden_dim1': 240.0, 'hidden_dim2': 285.0, 'hidden_dim3': 285.0}.\n",
            "== Status ==\n",
            "Current time: 2022-07-26 14:12:18 (running for 00:01:02.93)\n",
            "Memory usage on this node: 2.4/12.7 GiB\n",
            "Using MedianStoppingRule: num_stopped=0.\n",
            "Resources requested: 2.0/2 CPUs, 0/0 GPUs, 0.0/7.47 GiB heap, 0.0/3.73 GiB objects\n",
            "Result logdir: /root/ray_results/trainable_func_2022-07-26_14-11-15\n",
            "Number of trials: 9/50 (4 PAUSED, 1 PENDING, 4 RUNNING)\n",
            "\n",
            "\n",
            "Trial trainable_func_ea51ef14 reported epoch=6,loss=0.5179658529842074,should_checkpoint=True with parameters={'act1 ': 'tanh', 'act2': 'tanh', 'act3': 'selu', 'lr': 0.0006000000000000001, 'batch_size': 32, 'hidden_dim1': 195.0, 'hidden_dim2': 165.0, 'hidden_dim3': 195.0}.\n",
            "== Status ==\n",
            "Current time: 2022-07-26 14:12:23 (running for 00:01:08.30)\n",
            "Memory usage on this node: 2.4/12.7 GiB\n",
            "Using MedianStoppingRule: num_stopped=0.\n",
            "Resources requested: 2.0/2 CPUs, 0/0 GPUs, 0.0/7.47 GiB heap, 0.0/3.73 GiB objects\n",
            "Result logdir: /root/ray_results/trainable_func_2022-07-26_14-11-15\n",
            "Number of trials: 9/50 (4 PAUSED, 1 PENDING, 4 RUNNING)\n",
            "\n",
            "\n",
            "Trial trainable_func_e7a9dc7c reported epoch=2,loss=0.6032331235259023,should_checkpoint=True with parameters={'act1 ': 'selu', 'act2': 'tanh', 'act3': 'selu', 'lr': 0.0009000000000000001, 'batch_size': 8, 'hidden_dim1': 255.0, 'hidden_dim2': 135.0, 'hidden_dim3': 270.0}.\n",
            "Trial trainable_func_e1d34c66 reported epoch=8,loss=0.58226063493201,should_checkpoint=True with parameters={'act1 ': 'tanh', 'act2': 'relu', 'act3': 'tanh', 'lr': 0.0006000000000000001, 'batch_size': 32, 'hidden_dim1': 240.0, 'hidden_dim2': 285.0, 'hidden_dim3': 285.0}.\n",
            "Trial trainable_func_cfe888ea reported epoch=3,loss=0.658886818102222,should_checkpoint=True with parameters={'act1 ': 'tanh', 'act2': 'tanh', 'act3': 'selu', 'lr': 0.0009000000000000001, 'batch_size': 8, 'hidden_dim1': 270.0, 'hidden_dim2': 300.0, 'hidden_dim3': 165.0}.\n",
            "Trial trainable_func_ea51ef14 reported epoch=9,loss=0.5405259762789928,should_checkpoint=True with parameters={'act1 ': 'tanh', 'act2': 'tanh', 'act3': 'selu', 'lr': 0.0006000000000000001, 'batch_size': 32, 'hidden_dim1': 195.0, 'hidden_dim2': 165.0, 'hidden_dim3': 195.0}.\n",
            "Trial trainable_func_eb88ecac reported epoch=0,loss=0.7083923634276729,should_checkpoint=True with parameters={'act1 ': 'tanh', 'act2': 'selu', 'act3': 'relu', 'lr': 0.0006000000000000001, 'batch_size': 16, 'hidden_dim1': 240.0, 'hidden_dim2': 240.0, 'hidden_dim3': 120.0}.\n",
            "== Status ==\n",
            "Current time: 2022-07-26 14:12:31 (running for 00:01:16.02)\n",
            "Memory usage on this node: 2.5/12.7 GiB\n",
            "Using MedianStoppingRule: num_stopped=0.\n",
            "Resources requested: 2.0/2 CPUs, 0/0 GPUs, 0.0/7.47 GiB heap, 0.0/3.73 GiB objects\n",
            "Result logdir: /root/ray_results/trainable_func_2022-07-26_14-11-15\n",
            "Number of trials: 10/50 (6 PAUSED, 4 RUNNING)\n",
            "\n",
            "\n",
            "Trial trainable_func_e7a9dc7c reported epoch=3,loss=0.6453189426348224,should_checkpoint=True with parameters={'act1 ': 'selu', 'act2': 'tanh', 'act3': 'selu', 'lr': 0.0009000000000000001, 'batch_size': 8, 'hidden_dim1': 255.0, 'hidden_dim2': 135.0, 'hidden_dim3': 270.0}.\n",
            "Trial trainable_func_fa820e00 reported epoch=0,loss=0.7145227284210618,should_checkpoint=True with parameters={'act1 ': 'selu', 'act2': 'tanh', 'act3': 'tanh', 'lr': 0.001, 'batch_size': 16, 'hidden_dim1': 285.0, 'hidden_dim2': 210.0, 'hidden_dim3': 195.0}.\n",
            "Trial trainable_func_cfe888ea reported epoch=4,loss=0.5658433157540572,should_checkpoint=True with parameters={'act1 ': 'tanh', 'act2': 'tanh', 'act3': 'selu', 'lr': 0.0009000000000000001, 'batch_size': 8, 'hidden_dim1': 270.0, 'hidden_dim2': 300.0, 'hidden_dim3': 165.0}.\n",
            "Trial trainable_func_e7a9dc7c reported epoch=4,loss=0.6353362699612998,should_checkpoint=True with parameters={'act1 ': 'selu', 'act2': 'tanh', 'act3': 'selu', 'lr': 0.0009000000000000001, 'batch_size': 8, 'hidden_dim1': 255.0, 'hidden_dim2': 135.0, 'hidden_dim3': 270.0}.\n",
            "== Status ==\n",
            "Current time: 2022-07-26 14:12:38 (running for 00:01:22.79)\n",
            "Memory usage on this node: 2.5/12.7 GiB\n",
            "Using MedianStoppingRule: num_stopped=0.\n",
            "Resources requested: 2.0/2 CPUs, 0/0 GPUs, 0.0/7.47 GiB heap, 0.0/3.73 GiB objects\n",
            "Result logdir: /root/ray_results/trainable_func_2022-07-26_14-11-15\n",
            "Number of trials: 10/50 (6 PAUSED, 4 RUNNING)\n",
            "\n",
            "\n",
            "Trial trainable_func_eb88ecac reported epoch=2,loss=0.5712592198650333,should_checkpoint=True with parameters={'act1 ': 'tanh', 'act2': 'selu', 'act3': 'relu', 'lr': 0.0006000000000000001, 'batch_size': 16, 'hidden_dim1': 240.0, 'hidden_dim2': 240.0, 'hidden_dim3': 120.0}.\n",
            "Trial trainable_func_fa820e00 reported epoch=2,loss=0.6465964453741818,should_checkpoint=True with parameters={'act1 ': 'selu', 'act2': 'tanh', 'act3': 'tanh', 'lr': 0.001, 'batch_size': 16, 'hidden_dim1': 285.0, 'hidden_dim2': 210.0, 'hidden_dim3': 195.0}.\n",
            "Trial trainable_func_cfe888ea reported epoch=5,loss=0.5393758154146914,should_checkpoint=True with parameters={'act1 ': 'tanh', 'act2': 'tanh', 'act3': 'selu', 'lr': 0.0009000000000000001, 'batch_size': 8, 'hidden_dim1': 270.0, 'hidden_dim2': 300.0, 'hidden_dim3': 165.0}.\n",
            "Trial trainable_func_e7a9dc7c reported epoch=5,loss=0.5737077879306335,should_checkpoint=True with parameters={'act1 ': 'selu', 'act2': 'tanh', 'act3': 'selu', 'lr': 0.0009000000000000001, 'batch_size': 8, 'hidden_dim1': 255.0, 'hidden_dim2': 135.0, 'hidden_dim3': 270.0}.\n",
            "== Status ==\n",
            "Current time: 2022-07-26 14:12:43 (running for 00:01:28.33)\n",
            "Memory usage on this node: 2.5/12.7 GiB\n",
            "Using MedianStoppingRule: num_stopped=0.\n",
            "Resources requested: 2.0/2 CPUs, 0/0 GPUs, 0.0/7.47 GiB heap, 0.0/3.73 GiB objects\n",
            "Result logdir: /root/ray_results/trainable_func_2022-07-26_14-11-15\n",
            "Number of trials: 10/50 (6 PAUSED, 4 RUNNING)\n",
            "\n",
            "\n",
            "Trial trainable_func_eb88ecac reported epoch=4,loss=0.5925341882359673,should_checkpoint=True with parameters={'act1 ': 'tanh', 'act2': 'selu', 'act3': 'relu', 'lr': 0.0006000000000000001, 'batch_size': 16, 'hidden_dim1': 240.0, 'hidden_dim2': 240.0, 'hidden_dim3': 120.0}.\n",
            "Trial trainable_func_fa820e00 reported epoch=4,loss=0.556358640284307,should_checkpoint=True with parameters={'act1 ': 'selu', 'act2': 'tanh', 'act3': 'tanh', 'lr': 0.001, 'batch_size': 16, 'hidden_dim1': 285.0, 'hidden_dim2': 210.0, 'hidden_dim3': 195.0}.\n",
            "Trial trainable_func_cfe888ea reported epoch=6,loss=0.5470090167892737,should_checkpoint=True with parameters={'act1 ': 'tanh', 'act2': 'tanh', 'act3': 'selu', 'lr': 0.0009000000000000001, 'batch_size': 8, 'hidden_dim1': 270.0, 'hidden_dim2': 300.0, 'hidden_dim3': 165.0}.\n",
            "Trial trainable_func_e7a9dc7c reported epoch=6,loss=0.5931131944201221,should_checkpoint=True with parameters={'act1 ': 'selu', 'act2': 'tanh', 'act3': 'selu', 'lr': 0.0009000000000000001, 'batch_size': 8, 'hidden_dim1': 255.0, 'hidden_dim2': 135.0, 'hidden_dim3': 270.0}.\n",
            "== Status ==\n",
            "Current time: 2022-07-26 14:12:49 (running for 00:01:34.26)\n",
            "Memory usage on this node: 2.5/12.7 GiB\n",
            "Using MedianStoppingRule: num_stopped=0.\n",
            "Resources requested: 2.0/2 CPUs, 0/0 GPUs, 0.0/7.47 GiB heap, 0.0/3.73 GiB objects\n",
            "Result logdir: /root/ray_results/trainable_func_2022-07-26_14-11-15\n",
            "Number of trials: 10/50 (6 PAUSED, 4 RUNNING)\n",
            "\n",
            "\n",
            "Trial trainable_func_eb88ecac reported epoch=6,loss=0.5711168261216263,should_checkpoint=True with parameters={'act1 ': 'tanh', 'act2': 'selu', 'act3': 'relu', 'lr': 0.0006000000000000001, 'batch_size': 16, 'hidden_dim1': 240.0, 'hidden_dim2': 240.0, 'hidden_dim3': 120.0}.\n",
            "Trial trainable_func_fa820e00 reported epoch=6,loss=0.5963663031206411,should_checkpoint=True with parameters={'act1 ': 'selu', 'act2': 'tanh', 'act3': 'tanh', 'lr': 0.001, 'batch_size': 16, 'hidden_dim1': 285.0, 'hidden_dim2': 210.0, 'hidden_dim3': 195.0}.\n",
            "Trial trainable_func_cfe888ea reported epoch=7,loss=0.5667370145319266,should_checkpoint=True with parameters={'act1 ': 'tanh', 'act2': 'tanh', 'act3': 'selu', 'lr': 0.0009000000000000001, 'batch_size': 8, 'hidden_dim1': 270.0, 'hidden_dim2': 300.0, 'hidden_dim3': 165.0}.\n",
            "Trial trainable_func_e7a9dc7c reported epoch=7,loss=0.627788931354259,should_checkpoint=True with parameters={'act1 ': 'selu', 'act2': 'tanh', 'act3': 'selu', 'lr': 0.0009000000000000001, 'batch_size': 8, 'hidden_dim1': 255.0, 'hidden_dim2': 135.0, 'hidden_dim3': 270.0}.\n",
            "== Status ==\n",
            "Current time: 2022-07-26 14:12:55 (running for 00:01:40.41)\n",
            "Memory usage on this node: 2.5/12.7 GiB\n",
            "Using MedianStoppingRule: num_stopped=0.\n",
            "Resources requested: 2.0/2 CPUs, 0/0 GPUs, 0.0/7.47 GiB heap, 0.0/3.73 GiB objects\n",
            "Result logdir: /root/ray_results/trainable_func_2022-07-26_14-11-15\n",
            "Number of trials: 10/50 (6 PAUSED, 4 RUNNING)\n",
            "\n",
            "\n",
            "Trial trainable_func_eb88ecac reported epoch=8,loss=0.5142627767470458,should_checkpoint=True with parameters={'act1 ': 'tanh', 'act2': 'selu', 'act3': 'relu', 'lr': 0.0006000000000000001, 'batch_size': 16, 'hidden_dim1': 240.0, 'hidden_dim2': 240.0, 'hidden_dim3': 120.0}.\n",
            "Trial trainable_func_fa820e00 reported epoch=8,loss=0.5467319872375842,should_checkpoint=True with parameters={'act1 ': 'selu', 'act2': 'tanh', 'act3': 'tanh', 'lr': 0.001, 'batch_size': 16, 'hidden_dim1': 285.0, 'hidden_dim2': 210.0, 'hidden_dim3': 195.0}.\n",
            "== Status ==\n",
            "Current time: 2022-07-26 14:13:01 (running for 00:01:46.05)\n",
            "Memory usage on this node: 2.5/12.7 GiB\n",
            "Using MedianStoppingRule: num_stopped=0.\n",
            "Resources requested: 1.5/2 CPUs, 0/0 GPUs, 0.0/7.47 GiB heap, 0.0/3.73 GiB objects\n",
            "Result logdir: /root/ray_results/trainable_func_2022-07-26_14-11-15\n",
            "Number of trials: 10/50 (7 PAUSED, 3 RUNNING)\n",
            "\n",
            "\n",
            "Trial trainable_func_cfe888ea reported epoch=8,loss=0.5703166488210173,should_checkpoint=True with parameters={'act1 ': 'tanh', 'act2': 'tanh', 'act3': 'selu', 'lr': 0.0009000000000000001, 'batch_size': 8, 'hidden_dim1': 270.0, 'hidden_dim2': 300.0, 'hidden_dim3': 165.0}.\n",
            "Trial trainable_func_e7a9dc7c reported epoch=8,loss=0.5351965970880821,should_checkpoint=True with parameters={'act1 ': 'selu', 'act2': 'tanh', 'act3': 'selu', 'lr': 0.0009000000000000001, 'batch_size': 8, 'hidden_dim1': 255.0, 'hidden_dim2': 135.0, 'hidden_dim3': 270.0}.\n"
          ]
        },
        {
          "output_type": "stream",
          "name": "stderr",
          "text": [
            "\u001b[2m\u001b[36m(func pid=245807)\u001b[0m 2022-07-26 14:13:01,501\tINFO trainable.py:589 -- Restored on 172.28.0.2 from checkpoint: /root/ray_results/trainable_func_2022-07-26_14-11-15/trainable_func_cfa7bf40_1_act1=tanh,act2=selu,act3=relu,batch_size=32,hidden_dim1=165.0000,hidden_dim2=300.0000,hidden_dim3=225.00_2022-07-26_14-11-15/checkpoint_tmp48db37/./\n",
            "\u001b[2m\u001b[36m(func pid=245807)\u001b[0m 2022-07-26 14:13:01,502\tINFO trainable.py:597 -- Current state after restoring: {'_iteration': 10, '_timesteps_total': None, '_time_total': 28.199074745178223, '_episodes_total': None}\n"
          ]
        },
        {
          "output_type": "stream",
          "name": "stdout",
          "text": [
            "Trial trainable_func_cfa7bf40 reported epoch=0,loss=0.28764267003161653,should_checkpoint=True with parameters={'act1 ': 'tanh', 'act2': 'selu', 'act3': 'relu', 'lr': 0.0007, 'batch_size': 32, 'hidden_dim1': 165.0, 'hidden_dim2': 300.0, 'hidden_dim3': 225.0}.\n"
          ]
        },
        {
          "output_type": "stream",
          "name": "stderr",
          "text": [
            "\u001b[2m\u001b[36m(func pid=245807)\u001b[0m 2022-07-26 14:13:04,323\tINFO trainable.py:589 -- Restored on 172.28.0.2 from checkpoint: /root/ray_results/trainable_func_2022-07-26_14-11-15/trainable_func_cfa7bf40_1_act1=tanh,act2=selu,act3=relu,batch_size=32,hidden_dim1=165.0000,hidden_dim2=300.0000,hidden_dim3=225.00_2022-07-26_14-11-15/checkpoint_tmp1f7be0/./\n",
            "\u001b[2m\u001b[36m(func pid=245807)\u001b[0m 2022-07-26 14:13:04,323\tINFO trainable.py:597 -- Current state after restoring: {'_iteration': 11, '_timesteps_total': None, '_time_total': 30.1532301902771, '_episodes_total': None}\n",
            "\u001b[2m\u001b[36m(func pid=245735)\u001b[0m 2022-07-26 14:13:04,992\tINFO trainable.py:589 -- Restored on 172.28.0.2 from checkpoint: /root/ray_results/trainable_func_2022-07-26_14-11-15/trainable_func_cfcb9fe6_2_act1=relu,act2=tanh,act3=selu,batch_size=64,hidden_dim1=195.0000,hidden_dim2=285.0000,hidden_dim3=255.00_2022-07-26_14-11-15/checkpoint_tmpa3fef9/./\n",
            "\u001b[2m\u001b[36m(func pid=245735)\u001b[0m 2022-07-26 14:13:04,993\tINFO trainable.py:597 -- Current state after restoring: {'_iteration': 10, '_timesteps_total': None, '_time_total': 17.65861964225769, '_episodes_total': None}\n"
          ]
        },
        {
          "output_type": "stream",
          "name": "stdout",
          "text": [
            "== Status ==\n",
            "Current time: 2022-07-26 14:13:06 (running for 00:01:51.57)\n",
            "Memory usage on this node: 2.5/12.7 GiB\n",
            "Using MedianStoppingRule: num_stopped=0.\n",
            "Resources requested: 1.5/2 CPUs, 0/0 GPUs, 0.0/7.47 GiB heap, 0.0/3.73 GiB objects\n",
            "Result logdir: /root/ray_results/trainable_func_2022-07-26_14-11-15\n",
            "Number of trials: 10/50 (7 PAUSED, 3 RUNNING)\n",
            "\n",
            "\n",
            "Trial trainable_func_cfcb9fe6 reported epoch=0,loss=0.32633467858851806,should_checkpoint=True with parameters={'act1 ': 'relu', 'act2': 'tanh', 'act3': 'selu', 'lr': 0.0005, 'batch_size': 64, 'hidden_dim1': 195.0, 'hidden_dim2': 285.0, 'hidden_dim3': 255.0}.\n"
          ]
        },
        {
          "output_type": "stream",
          "name": "stderr",
          "text": [
            "\u001b[2m\u001b[36m(func pid=245807)\u001b[0m 2022-07-26 14:13:06,990\tINFO trainable.py:589 -- Restored on 172.28.0.2 from checkpoint: /root/ray_results/trainable_func_2022-07-26_14-11-15/trainable_func_cfa7bf40_1_act1=tanh,act2=selu,act3=relu,batch_size=32,hidden_dim1=165.0000,hidden_dim2=300.0000,hidden_dim3=225.00_2022-07-26_14-11-15/checkpoint_tmp5238a2/./\n",
            "\u001b[2m\u001b[36m(func pid=245807)\u001b[0m 2022-07-26 14:13:06,990\tINFO trainable.py:597 -- Current state after restoring: {'_iteration': 12, '_timesteps_total': None, '_time_total': 32.23915886878967, '_episodes_total': None}\n"
          ]
        },
        {
          "output_type": "stream",
          "name": "stdout",
          "text": [
            "Trial trainable_func_cfe888ea reported epoch=9,loss=0.5739573323700561,should_checkpoint=True with parameters={'act1 ': 'tanh', 'act2': 'tanh', 'act3': 'selu', 'lr': 0.0009000000000000001, 'batch_size': 8, 'hidden_dim1': 270.0, 'hidden_dim2': 300.0, 'hidden_dim3': 165.0}.\n",
            "Trial trainable_func_e7a9dc7c reported epoch=9,loss=0.5542206258298216,should_checkpoint=True with parameters={'act1 ': 'selu', 'act2': 'tanh', 'act3': 'selu', 'lr': 0.0009000000000000001, 'batch_size': 8, 'hidden_dim1': 255.0, 'hidden_dim2': 135.0, 'hidden_dim3': 270.0}.\n"
          ]
        },
        {
          "output_type": "stream",
          "name": "stderr",
          "text": [
            "\u001b[2m\u001b[36m(func pid=245735)\u001b[0m 2022-07-26 14:13:07,595\tINFO trainable.py:589 -- Restored on 172.28.0.2 from checkpoint: /root/ray_results/trainable_func_2022-07-26_14-11-15/trainable_func_cfcb9fe6_2_act1=relu,act2=tanh,act3=selu,batch_size=64,hidden_dim1=195.0000,hidden_dim2=285.0000,hidden_dim3=255.00_2022-07-26_14-11-15/checkpoint_tmpb6d130/./\n",
            "\u001b[2m\u001b[36m(func pid=245735)\u001b[0m 2022-07-26 14:13:07,596\tINFO trainable.py:597 -- Current state after restoring: {'_iteration': 11, '_timesteps_total': None, '_time_total': 19.102668046951294, '_episodes_total': None}\n",
            "\u001b[2m\u001b[36m(func pid=245777)\u001b[0m 2022-07-26 14:13:08,052\tINFO trainable.py:589 -- Restored on 172.28.0.2 from checkpoint: /root/ray_results/trainable_func_2022-07-26_14-11-15/trainable_func_cfd5408c_3_act1=relu,act2=selu,act3=tanh,batch_size=32,hidden_dim1=135.0000,hidden_dim2=315.0000,hidden_dim3=165.00_2022-07-26_14-11-15/checkpoint_tmp88a1a5/./\n",
            "\u001b[2m\u001b[36m(func pid=245777)\u001b[0m 2022-07-26 14:13:08,053\tINFO trainable.py:597 -- Current state after restoring: {'_iteration': 10, '_timesteps_total': None, '_time_total': 27.48196840286255, '_episodes_total': None}\n",
            "\u001b[2m\u001b[36m(func pid=245736)\u001b[0m 2022-07-26 14:13:08,661\tINFO trainable.py:589 -- Restored on 172.28.0.2 from checkpoint: /root/ray_results/trainable_func_2022-07-26_14-11-15/trainable_func_cfddfd3a_4_act1=tanh,act2=selu,act3=tanh,batch_size=32,hidden_dim1=165.0000,hidden_dim2=210.0000,hidden_dim3=300.00_2022-07-26_14-11-15/checkpoint_tmpcb4c0f/./\n",
            "\u001b[2m\u001b[36m(func pid=245736)\u001b[0m 2022-07-26 14:13:08,661\tINFO trainable.py:597 -- Current state after restoring: {'_iteration': 10, '_timesteps_total': None, '_time_total': 26.162837505340576, '_episodes_total': None}\n"
          ]
        },
        {
          "output_type": "stream",
          "name": "stdout",
          "text": [
            "Trial trainable_func_cfa7bf40 reported epoch=0,loss=0.21941761073448074,should_checkpoint=True with parameters={'act1 ': 'tanh', 'act2': 'selu', 'act3': 'relu', 'lr': 0.0007, 'batch_size': 32, 'hidden_dim1': 165.0, 'hidden_dim2': 300.0, 'hidden_dim3': 225.0}.\n"
          ]
        },
        {
          "output_type": "stream",
          "name": "stderr",
          "text": [
            "\u001b[2m\u001b[36m(func pid=245735)\u001b[0m 2022-07-26 14:13:09,185\tINFO trainable.py:589 -- Restored on 172.28.0.2 from checkpoint: /root/ray_results/trainable_func_2022-07-26_14-11-15/trainable_func_cfcb9fe6_2_act1=relu,act2=tanh,act3=selu,batch_size=64,hidden_dim1=195.0000,hidden_dim2=285.0000,hidden_dim3=255.00_2022-07-26_14-11-15/checkpoint_tmp83ba27/./\n",
            "\u001b[2m\u001b[36m(func pid=245735)\u001b[0m 2022-07-26 14:13:09,185\tINFO trainable.py:597 -- Current state after restoring: {'_iteration': 12, '_timesteps_total': None, '_time_total': 20.14549970626831, '_episodes_total': None}\n"
          ]
        },
        {
          "output_type": "stream",
          "name": "stdout",
          "text": [
            "Trial trainable_func_cfd5408c reported epoch=0,loss=0.35899424035551253,should_checkpoint=True with parameters={'act1 ': 'relu', 'act2': 'selu', 'act3': 'tanh', 'lr': 0.0006000000000000001, 'batch_size': 32, 'hidden_dim1': 135.0, 'hidden_dim2': 315.0, 'hidden_dim3': 165.0}.\n"
          ]
        },
        {
          "output_type": "stream",
          "name": "stderr",
          "text": [
            "\u001b[2m\u001b[36m(func pid=245807)\u001b[0m 2022-07-26 14:13:09,881\tINFO trainable.py:589 -- Restored on 172.28.0.2 from checkpoint: /root/ray_results/trainable_func_2022-07-26_14-11-15/trainable_func_cfa7bf40_1_act1=tanh,act2=selu,act3=relu,batch_size=32,hidden_dim1=165.0000,hidden_dim2=300.0000,hidden_dim3=225.00_2022-07-26_14-11-15/checkpoint_tmp739af1/./\n",
            "\u001b[2m\u001b[36m(func pid=245807)\u001b[0m 2022-07-26 14:13:09,881\tINFO trainable.py:597 -- Current state after restoring: {'_iteration': 13, '_timesteps_total': None, '_time_total': 34.15082359313965, '_episodes_total': None}\n"
          ]
        },
        {
          "output_type": "stream",
          "name": "stdout",
          "text": [
            "Trial trainable_func_cfddfd3a reported epoch=0,loss=0.31063999153706573,should_checkpoint=True with parameters={'act1 ': 'tanh', 'act2': 'selu', 'act3': 'tanh', 'lr': 0.0006000000000000001, 'batch_size': 32, 'hidden_dim1': 165.0, 'hidden_dim2': 210.0, 'hidden_dim3': 300.0}.\n"
          ]
        },
        {
          "output_type": "stream",
          "name": "stderr",
          "text": [
            "\u001b[2m\u001b[36m(func pid=245777)\u001b[0m 2022-07-26 14:13:10,585\tINFO trainable.py:589 -- Restored on 172.28.0.2 from checkpoint: /root/ray_results/trainable_func_2022-07-26_14-11-15/trainable_func_cfd5408c_3_act1=relu,act2=selu,act3=tanh,batch_size=32,hidden_dim1=135.0000,hidden_dim2=315.0000,hidden_dim3=165.00_2022-07-26_14-11-15/checkpoint_tmpbd48c6/./\n",
            "\u001b[2m\u001b[36m(func pid=245777)\u001b[0m 2022-07-26 14:13:10,585\tINFO trainable.py:597 -- Current state after restoring: {'_iteration': 11, '_timesteps_total': None, '_time_total': 29.20378613471985, '_episodes_total': None}\n",
            "\u001b[2m\u001b[36m(func pid=245735)\u001b[0m 2022-07-26 14:13:11,008\tINFO trainable.py:589 -- Restored on 172.28.0.2 from checkpoint: /root/ray_results/trainable_func_2022-07-26_14-11-15/trainable_func_cfcb9fe6_2_act1=relu,act2=tanh,act3=selu,batch_size=64,hidden_dim1=195.0000,hidden_dim2=285.0000,hidden_dim3=255.00_2022-07-26_14-11-15/checkpoint_tmpaef836/./\n",
            "\u001b[2m\u001b[36m(func pid=245735)\u001b[0m 2022-07-26 14:13:11,008\tINFO trainable.py:597 -- Current state after restoring: {'_iteration': 13, '_timesteps_total': None, '_time_total': 21.476855993270874, '_episodes_total': None}\n",
            "\u001b[2m\u001b[36m(func pid=245736)\u001b[0m 2022-07-26 14:13:11,648\tINFO trainable.py:589 -- Restored on 172.28.0.2 from checkpoint: /root/ray_results/trainable_func_2022-07-26_14-11-15/trainable_func_cfddfd3a_4_act1=tanh,act2=selu,act3=tanh,batch_size=32,hidden_dim1=165.0000,hidden_dim2=210.0000,hidden_dim3=300.00_2022-07-26_14-11-15/checkpoint_tmp4f8eba/./\n",
            "\u001b[2m\u001b[36m(func pid=245736)\u001b[0m 2022-07-26 14:13:11,648\tINFO trainable.py:597 -- Current state after restoring: {'_iteration': 11, '_timesteps_total': None, '_time_total': 28.059491634368896, '_episodes_total': None}\n"
          ]
        },
        {
          "output_type": "stream",
          "name": "stdout",
          "text": [
            "== Status ==\n",
            "Current time: 2022-07-26 14:13:12 (running for 00:01:57.03)\n",
            "Memory usage on this node: 2.5/12.7 GiB\n",
            "Using MedianStoppingRule: num_stopped=0.\n",
            "Resources requested: 1.5/2 CPUs, 0/0 GPUs, 0.0/7.47 GiB heap, 0.0/3.73 GiB objects\n",
            "Result logdir: /root/ray_results/trainable_func_2022-07-26_14-11-15\n",
            "Number of trials: 10/50 (7 PAUSED, 3 RUNNING)\n",
            "\n",
            "\n",
            "Trial trainable_func_cfcb9fe6 reported epoch=0,loss=0.2733914749316646,should_checkpoint=True with parameters={'act1 ': 'relu', 'act2': 'tanh', 'act3': 'selu', 'lr': 0.0005, 'batch_size': 64, 'hidden_dim1': 195.0, 'hidden_dim2': 285.0, 'hidden_dim3': 255.0}.\n"
          ]
        },
        {
          "output_type": "stream",
          "name": "stderr",
          "text": [
            "\u001b[2m\u001b[36m(func pid=245807)\u001b[0m 2022-07-26 14:13:12,458\tINFO trainable.py:589 -- Restored on 172.28.0.2 from checkpoint: /root/ray_results/trainable_func_2022-07-26_14-11-15/trainable_func_cfa7bf40_1_act1=tanh,act2=selu,act3=relu,batch_size=32,hidden_dim1=165.0000,hidden_dim2=300.0000,hidden_dim3=225.00_2022-07-26_14-11-15/checkpoint_tmpc58b1b/./\n",
            "\u001b[2m\u001b[36m(func pid=245807)\u001b[0m 2022-07-26 14:13:12,458\tINFO trainable.py:597 -- Current state after restoring: {'_iteration': 14, '_timesteps_total': None, '_time_total': 36.151615619659424, '_episodes_total': None}\n",
            "\u001b[2m\u001b[36m(func pid=245735)\u001b[0m 2022-07-26 14:13:12,969\tINFO trainable.py:589 -- Restored on 172.28.0.2 from checkpoint: /root/ray_results/trainable_func_2022-07-26_14-11-15/trainable_func_cfcb9fe6_2_act1=relu,act2=tanh,act3=selu,batch_size=64,hidden_dim1=195.0000,hidden_dim2=285.0000,hidden_dim3=255.00_2022-07-26_14-11-15/checkpoint_tmp4586e0/./\n",
            "\u001b[2m\u001b[36m(func pid=245735)\u001b[0m 2022-07-26 14:13:12,970\tINFO trainable.py:597 -- Current state after restoring: {'_iteration': 14, '_timesteps_total': None, '_time_total': 22.841543912887573, '_episodes_total': None}\n",
            "\u001b[2m\u001b[36m(func pid=245777)\u001b[0m 2022-07-26 14:13:13,608\tINFO trainable.py:589 -- Restored on 172.28.0.2 from checkpoint: /root/ray_results/trainable_func_2022-07-26_14-11-15/trainable_func_cfd5408c_3_act1=relu,act2=selu,act3=tanh,batch_size=32,hidden_dim1=135.0000,hidden_dim2=315.0000,hidden_dim3=165.00_2022-07-26_14-11-15/checkpoint_tmpddd68c/./\n",
            "\u001b[2m\u001b[36m(func pid=245777)\u001b[0m 2022-07-26 14:13:13,608\tINFO trainable.py:597 -- Current state after restoring: {'_iteration': 12, '_timesteps_total': None, '_time_total': 30.87003779411316, '_episodes_total': None}\n"
          ]
        },
        {
          "output_type": "stream",
          "name": "stdout",
          "text": [
            "Trial trainable_func_cfa7bf40 reported epoch=0,loss=0.16065126124811974,should_checkpoint=True with parameters={'act1 ': 'tanh', 'act2': 'selu', 'act3': 'relu', 'lr': 0.0007, 'batch_size': 32, 'hidden_dim1': 165.0, 'hidden_dim2': 300.0, 'hidden_dim3': 225.0}.\n"
          ]
        },
        {
          "output_type": "stream",
          "name": "stderr",
          "text": [
            "\u001b[2m\u001b[36m(func pid=245736)\u001b[0m 2022-07-26 14:13:14,242\tINFO trainable.py:589 -- Restored on 172.28.0.2 from checkpoint: /root/ray_results/trainable_func_2022-07-26_14-11-15/trainable_func_cfddfd3a_4_act1=tanh,act2=selu,act3=tanh,batch_size=32,hidden_dim1=165.0000,hidden_dim2=210.0000,hidden_dim3=300.00_2022-07-26_14-11-15/checkpoint_tmpeb11a6/./\n",
            "\u001b[2m\u001b[36m(func pid=245736)\u001b[0m 2022-07-26 14:13:14,242\tINFO trainable.py:597 -- Current state after restoring: {'_iteration': 12, '_timesteps_total': None, '_time_total': 29.687411069869995, '_episodes_total': None}\n",
            "\u001b[2m\u001b[36m(func pid=245807)\u001b[0m 2022-07-26 14:13:14,795\tINFO trainable.py:589 -- Restored on 172.28.0.2 from checkpoint: /root/ray_results/trainable_func_2022-07-26_14-11-15/trainable_func_cfa7bf40_1_act1=tanh,act2=selu,act3=relu,batch_size=32,hidden_dim1=165.0000,hidden_dim2=300.0000,hidden_dim3=225.00_2022-07-26_14-11-15/checkpoint_tmp261240/./\n",
            "\u001b[2m\u001b[36m(func pid=245807)\u001b[0m 2022-07-26 14:13:14,796\tINFO trainable.py:597 -- Current state after restoring: {'_iteration': 15, '_timesteps_total': None, '_time_total': 37.65405774116516, '_episodes_total': None}\n"
          ]
        },
        {
          "output_type": "stream",
          "name": "stdout",
          "text": [
            "Trial trainable_func_cfd5408c reported epoch=0,loss=0.262062103548589,should_checkpoint=True with parameters={'act1 ': 'relu', 'act2': 'selu', 'act3': 'tanh', 'lr': 0.0006000000000000001, 'batch_size': 32, 'hidden_dim1': 135.0, 'hidden_dim2': 315.0, 'hidden_dim3': 165.0}.\n"
          ]
        },
        {
          "output_type": "stream",
          "name": "stderr",
          "text": [
            "\u001b[2m\u001b[36m(func pid=245735)\u001b[0m 2022-07-26 14:13:15,408\tINFO trainable.py:589 -- Restored on 172.28.0.2 from checkpoint: /root/ray_results/trainable_func_2022-07-26_14-11-15/trainable_func_cfcb9fe6_2_act1=relu,act2=tanh,act3=selu,batch_size=64,hidden_dim1=195.0000,hidden_dim2=285.0000,hidden_dim3=255.00_2022-07-26_14-11-15/checkpoint_tmpe7b9a7/./\n",
            "\u001b[2m\u001b[36m(func pid=245735)\u001b[0m 2022-07-26 14:13:15,408\tINFO trainable.py:597 -- Current state after restoring: {'_iteration': 15, '_timesteps_total': None, '_time_total': 24.098392009735107, '_episodes_total': None}\n"
          ]
        },
        {
          "output_type": "stream",
          "name": "stdout",
          "text": [
            "Trial trainable_func_cfddfd3a reported epoch=0,loss=0.3116092328637744,should_checkpoint=True with parameters={'act1 ': 'tanh', 'act2': 'selu', 'act3': 'tanh', 'lr': 0.0006000000000000001, 'batch_size': 32, 'hidden_dim1': 165.0, 'hidden_dim2': 210.0, 'hidden_dim3': 300.0}.\n"
          ]
        },
        {
          "output_type": "stream",
          "name": "stderr",
          "text": [
            "\u001b[2m\u001b[36m(func pid=245777)\u001b[0m 2022-07-26 14:13:16,026\tINFO trainable.py:589 -- Restored on 172.28.0.2 from checkpoint: /root/ray_results/trainable_func_2022-07-26_14-11-15/trainable_func_cfd5408c_3_act1=relu,act2=selu,act3=tanh,batch_size=32,hidden_dim1=135.0000,hidden_dim2=315.0000,hidden_dim3=165.00_2022-07-26_14-11-15/checkpoint_tmpc92a27/./\n",
            "\u001b[2m\u001b[36m(func pid=245777)\u001b[0m 2022-07-26 14:13:16,029\tINFO trainable.py:597 -- Current state after restoring: {'_iteration': 13, '_timesteps_total': None, '_time_total': 32.41432523727417, '_episodes_total': None}\n",
            "\u001b[2m\u001b[36m(func pid=245736)\u001b[0m 2022-07-26 14:13:16,709\tINFO trainable.py:589 -- Restored on 172.28.0.2 from checkpoint: /root/ray_results/trainable_func_2022-07-26_14-11-15/trainable_func_cfddfd3a_4_act1=tanh,act2=selu,act3=tanh,batch_size=32,hidden_dim1=165.0000,hidden_dim2=210.0000,hidden_dim3=300.00_2022-07-26_14-11-15/checkpoint_tmp468eaa/./\n",
            "\u001b[2m\u001b[36m(func pid=245736)\u001b[0m 2022-07-26 14:13:16,709\tINFO trainable.py:597 -- Current state after restoring: {'_iteration': 13, '_timesteps_total': None, '_time_total': 31.181394815444946, '_episodes_total': None}\n",
            "\u001b[2m\u001b[36m(func pid=245735)\u001b[0m 2022-07-26 14:13:17,206\tINFO trainable.py:589 -- Restored on 172.28.0.2 from checkpoint: /root/ray_results/trainable_func_2022-07-26_14-11-15/trainable_func_cfcb9fe6_2_act1=relu,act2=tanh,act3=selu,batch_size=64,hidden_dim1=195.0000,hidden_dim2=285.0000,hidden_dim3=255.00_2022-07-26_14-11-15/checkpoint_tmp439a54/./\n",
            "\u001b[2m\u001b[36m(func pid=245735)\u001b[0m 2022-07-26 14:13:17,209\tINFO trainable.py:597 -- Current state after restoring: {'_iteration': 16, '_timesteps_total': None, '_time_total': 25.274633407592773, '_episodes_total': None}\n"
          ]
        },
        {
          "output_type": "stream",
          "name": "stdout",
          "text": [
            "== Status ==\n",
            "Current time: 2022-07-26 14:13:17 (running for 00:02:02.51)\n",
            "Memory usage on this node: 2.5/12.7 GiB\n",
            "Using MedianStoppingRule: num_stopped=0.\n",
            "Resources requested: 1.5/2 CPUs, 0/0 GPUs, 0.0/7.47 GiB heap, 0.0/3.73 GiB objects\n",
            "Result logdir: /root/ray_results/trainable_func_2022-07-26_14-11-15\n",
            "Number of trials: 10/50 (7 PAUSED, 3 RUNNING)\n",
            "\n",
            "\n"
          ]
        },
        {
          "output_type": "stream",
          "name": "stderr",
          "text": [
            "\u001b[2m\u001b[36m(func pid=245807)\u001b[0m 2022-07-26 14:13:17,945\tINFO trainable.py:589 -- Restored on 172.28.0.2 from checkpoint: /root/ray_results/trainable_func_2022-07-26_14-11-15/trainable_func_cfa7bf40_1_act1=tanh,act2=selu,act3=relu,batch_size=32,hidden_dim1=165.0000,hidden_dim2=300.0000,hidden_dim3=225.00_2022-07-26_14-11-15/checkpoint_tmpc39a50/./\n",
            "\u001b[2m\u001b[36m(func pid=245807)\u001b[0m 2022-07-26 14:13:17,945\tINFO trainable.py:597 -- Current state after restoring: {'_iteration': 16, '_timesteps_total': None, '_time_total': 39.41567945480347, '_episodes_total': None}\n"
          ]
        },
        {
          "output_type": "stream",
          "name": "stdout",
          "text": [
            "Trial trainable_func_cfcb9fe6 reported epoch=0,loss=0.2666208722425305,should_checkpoint=True with parameters={'act1 ': 'relu', 'act2': 'tanh', 'act3': 'selu', 'lr': 0.0005, 'batch_size': 64, 'hidden_dim1': 195.0, 'hidden_dim2': 285.0, 'hidden_dim3': 255.0}.\n"
          ]
        },
        {
          "output_type": "stream",
          "name": "stderr",
          "text": [
            "\u001b[2m\u001b[36m(func pid=245777)\u001b[0m 2022-07-26 14:13:18,466\tINFO trainable.py:589 -- Restored on 172.28.0.2 from checkpoint: /root/ray_results/trainable_func_2022-07-26_14-11-15/trainable_func_cfd5408c_3_act1=relu,act2=selu,act3=tanh,batch_size=32,hidden_dim1=135.0000,hidden_dim2=315.0000,hidden_dim3=165.00_2022-07-26_14-11-15/checkpoint_tmp481795/./\n",
            "\u001b[2m\u001b[36m(func pid=245777)\u001b[0m 2022-07-26 14:13:18,470\tINFO trainable.py:597 -- Current state after restoring: {'_iteration': 14, '_timesteps_total': None, '_time_total': 33.9888014793396, '_episodes_total': None}\n",
            "\u001b[2m\u001b[36m(func pid=245735)\u001b[0m 2022-07-26 14:13:18,992\tINFO trainable.py:589 -- Restored on 172.28.0.2 from checkpoint: /root/ray_results/trainable_func_2022-07-26_14-11-15/trainable_func_cfcb9fe6_2_act1=relu,act2=tanh,act3=selu,batch_size=64,hidden_dim1=195.0000,hidden_dim2=285.0000,hidden_dim3=255.00_2022-07-26_14-11-15/checkpoint_tmpad8d04/./\n",
            "\u001b[2m\u001b[36m(func pid=245735)\u001b[0m 2022-07-26 14:13:18,992\tINFO trainable.py:597 -- Current state after restoring: {'_iteration': 17, '_timesteps_total': None, '_time_total': 26.43148684501648, '_episodes_total': None}\n"
          ]
        },
        {
          "output_type": "stream",
          "name": "stdout",
          "text": [
            "Trial trainable_func_cfa7bf40 reported epoch=0,loss=0.15188981293786652,should_checkpoint=True with parameters={'act1 ': 'tanh', 'act2': 'selu', 'act3': 'relu', 'lr': 0.0007, 'batch_size': 32, 'hidden_dim1': 165.0, 'hidden_dim2': 300.0, 'hidden_dim3': 225.0}.\n"
          ]
        },
        {
          "output_type": "stream",
          "name": "stderr",
          "text": [
            "\u001b[2m\u001b[36m(func pid=245736)\u001b[0m 2022-07-26 14:13:19,632\tINFO trainable.py:589 -- Restored on 172.28.0.2 from checkpoint: /root/ray_results/trainable_func_2022-07-26_14-11-15/trainable_func_cfddfd3a_4_act1=tanh,act2=selu,act3=tanh,batch_size=32,hidden_dim1=165.0000,hidden_dim2=210.0000,hidden_dim3=300.00_2022-07-26_14-11-15/checkpoint_tmp8c6a67/./\n",
            "\u001b[2m\u001b[36m(func pid=245736)\u001b[0m 2022-07-26 14:13:19,634\tINFO trainable.py:597 -- Current state after restoring: {'_iteration': 14, '_timesteps_total': None, '_time_total': 32.52073287963867, '_episodes_total': None}\n"
          ]
        },
        {
          "output_type": "stream",
          "name": "stdout",
          "text": [
            "Trial trainable_func_cfd5408c reported epoch=0,loss=0.23764787322613257,should_checkpoint=True with parameters={'act1 ': 'relu', 'act2': 'selu', 'act3': 'tanh', 'lr': 0.0006000000000000001, 'batch_size': 32, 'hidden_dim1': 135.0, 'hidden_dim2': 315.0, 'hidden_dim3': 165.0}.\n"
          ]
        },
        {
          "output_type": "stream",
          "name": "stderr",
          "text": [
            "\u001b[2m\u001b[36m(func pid=245807)\u001b[0m 2022-07-26 14:13:20,228\tINFO trainable.py:589 -- Restored on 172.28.0.2 from checkpoint: /root/ray_results/trainable_func_2022-07-26_14-11-15/trainable_func_cfa7bf40_1_act1=tanh,act2=selu,act3=relu,batch_size=32,hidden_dim1=165.0000,hidden_dim2=300.0000,hidden_dim3=225.00_2022-07-26_14-11-15/checkpoint_tmp48d25c/./\n",
            "\u001b[2m\u001b[36m(func pid=245807)\u001b[0m 2022-07-26 14:13:20,228\tINFO trainable.py:597 -- Current state after restoring: {'_iteration': 17, '_timesteps_total': None, '_time_total': 40.98592400550842, '_episodes_total': None}\n",
            "\u001b[2m\u001b[36m(func pid=245735)\u001b[0m 2022-07-26 14:13:20,720\tINFO trainable.py:589 -- Restored on 172.28.0.2 from checkpoint: /root/ray_results/trainable_func_2022-07-26_14-11-15/trainable_func_cfcb9fe6_2_act1=relu,act2=tanh,act3=selu,batch_size=64,hidden_dim1=195.0000,hidden_dim2=285.0000,hidden_dim3=255.00_2022-07-26_14-11-15/checkpoint_tmp90b801/./\n",
            "\u001b[2m\u001b[36m(func pid=245735)\u001b[0m 2022-07-26 14:13:20,720\tINFO trainable.py:597 -- Current state after restoring: {'_iteration': 18, '_timesteps_total': None, '_time_total': 27.55596923828125, '_episodes_total': None}\n"
          ]
        },
        {
          "output_type": "stream",
          "name": "stdout",
          "text": [
            "Trial trainable_func_cfddfd3a reported epoch=0,loss=0.1986854199712751,should_checkpoint=True with parameters={'act1 ': 'tanh', 'act2': 'selu', 'act3': 'tanh', 'lr': 0.0006000000000000001, 'batch_size': 32, 'hidden_dim1': 165.0, 'hidden_dim2': 210.0, 'hidden_dim3': 300.0}.\n"
          ]
        },
        {
          "output_type": "stream",
          "name": "stderr",
          "text": [
            "\u001b[2m\u001b[36m(func pid=245777)\u001b[0m 2022-07-26 14:13:21,390\tINFO trainable.py:589 -- Restored on 172.28.0.2 from checkpoint: /root/ray_results/trainable_func_2022-07-26_14-11-15/trainable_func_cfd5408c_3_act1=relu,act2=selu,act3=tanh,batch_size=32,hidden_dim1=135.0000,hidden_dim2=315.0000,hidden_dim3=165.00_2022-07-26_14-11-15/checkpoint_tmp0d0a8b/./\n",
            "\u001b[2m\u001b[36m(func pid=245777)\u001b[0m 2022-07-26 14:13:21,390\tINFO trainable.py:597 -- Current state after restoring: {'_iteration': 15, '_timesteps_total': None, '_time_total': 35.47717881202698, '_episodes_total': None}\n",
            "\u001b[2m\u001b[36m(func pid=245736)\u001b[0m 2022-07-26 14:13:21,998\tINFO trainable.py:589 -- Restored on 172.28.0.2 from checkpoint: /root/ray_results/trainable_func_2022-07-26_14-11-15/trainable_func_cfddfd3a_4_act1=tanh,act2=selu,act3=tanh,batch_size=32,hidden_dim1=165.0000,hidden_dim2=210.0000,hidden_dim3=300.00_2022-07-26_14-11-15/checkpoint_tmpfaf63e/./\n",
            "\u001b[2m\u001b[36m(func pid=245736)\u001b[0m 2022-07-26 14:13:21,998\tINFO trainable.py:597 -- Current state after restoring: {'_iteration': 15, '_timesteps_total': None, '_time_total': 34.16695833206177, '_episodes_total': None}\n",
            "\u001b[2m\u001b[36m(func pid=245807)\u001b[0m 2022-07-26 14:13:22,492\tINFO trainable.py:589 -- Restored on 172.28.0.2 from checkpoint: /root/ray_results/trainable_func_2022-07-26_14-11-15/trainable_func_cfa7bf40_1_act1=tanh,act2=selu,act3=relu,batch_size=32,hidden_dim1=165.0000,hidden_dim2=300.0000,hidden_dim3=225.00_2022-07-26_14-11-15/checkpoint_tmp82ce71/./\n",
            "\u001b[2m\u001b[36m(func pid=245807)\u001b[0m 2022-07-26 14:13:22,493\tINFO trainable.py:597 -- Current state after restoring: {'_iteration': 18, '_timesteps_total': None, '_time_total': 42.67950201034546, '_episodes_total': None}\n"
          ]
        },
        {
          "output_type": "stream",
          "name": "stdout",
          "text": [
            "== Status ==\n",
            "Current time: 2022-07-26 14:13:23 (running for 00:02:07.80)\n",
            "Memory usage on this node: 2.5/12.7 GiB\n",
            "Using MedianStoppingRule: num_stopped=0.\n",
            "Resources requested: 1.5/2 CPUs, 0/0 GPUs, 0.0/7.47 GiB heap, 0.0/3.73 GiB objects\n",
            "Result logdir: /root/ray_results/trainable_func_2022-07-26_14-11-15\n",
            "Number of trials: 10/50 (7 PAUSED, 3 RUNNING)\n",
            "\n",
            "\n"
          ]
        },
        {
          "output_type": "stream",
          "name": "stderr",
          "text": [
            "\u001b[2m\u001b[36m(func pid=245735)\u001b[0m 2022-07-26 14:13:23,234\tINFO trainable.py:589 -- Restored on 172.28.0.2 from checkpoint: /root/ray_results/trainable_func_2022-07-26_14-11-15/trainable_func_cfcb9fe6_2_act1=relu,act2=tanh,act3=selu,batch_size=64,hidden_dim1=195.0000,hidden_dim2=285.0000,hidden_dim3=255.00_2022-07-26_14-11-15/checkpoint_tmpbe6a4b/./\n",
            "\u001b[2m\u001b[36m(func pid=245735)\u001b[0m 2022-07-26 14:13:23,234\tINFO trainable.py:597 -- Current state after restoring: {'_iteration': 19, '_timesteps_total': None, '_time_total': 28.87414789199829, '_episodes_total': None}\n",
            "\u001b[2m\u001b[36m(func pid=245777)\u001b[0m 2022-07-26 14:13:23,822\tINFO trainable.py:589 -- Restored on 172.28.0.2 from checkpoint: /root/ray_results/trainable_func_2022-07-26_14-11-15/trainable_func_cfd5408c_3_act1=relu,act2=selu,act3=tanh,batch_size=32,hidden_dim1=135.0000,hidden_dim2=315.0000,hidden_dim3=165.00_2022-07-26_14-11-15/checkpoint_tmp68e9d4/./\n",
            "\u001b[2m\u001b[36m(func pid=245777)\u001b[0m 2022-07-26 14:13:23,823\tINFO trainable.py:597 -- Current state after restoring: {'_iteration': 16, '_timesteps_total': None, '_time_total': 37.115246057510376, '_episodes_total': None}\n",
            "\u001b[2m\u001b[36m(func pid=245736)\u001b[0m 2022-07-26 14:13:24,556\tINFO trainable.py:589 -- Restored on 172.28.0.2 from checkpoint: /root/ray_results/trainable_func_2022-07-26_14-11-15/trainable_func_cfddfd3a_4_act1=tanh,act2=selu,act3=tanh,batch_size=32,hidden_dim1=165.0000,hidden_dim2=210.0000,hidden_dim3=300.00_2022-07-26_14-11-15/checkpoint_tmp0abb8f/./\n",
            "\u001b[2m\u001b[36m(func pid=245736)\u001b[0m 2022-07-26 14:13:24,556\tINFO trainable.py:597 -- Current state after restoring: {'_iteration': 16, '_timesteps_total': None, '_time_total': 35.818748235702515, '_episodes_total': None}\n"
          ]
        },
        {
          "output_type": "stream",
          "name": "stdout",
          "text": [
            "Trial trainable_func_cfcb9fe6 reported epoch=0,loss=0.1875816385519526,should_checkpoint=True with parameters={'act1 ': 'relu', 'act2': 'tanh', 'act3': 'selu', 'lr': 0.0005, 'batch_size': 64, 'hidden_dim1': 195.0, 'hidden_dim2': 285.0, 'hidden_dim3': 255.0}.\n"
          ]
        },
        {
          "output_type": "stream",
          "name": "stderr",
          "text": [
            "\u001b[2m\u001b[36m(func pid=245807)\u001b[0m 2022-07-26 14:13:25,135\tINFO trainable.py:589 -- Restored on 172.28.0.2 from checkpoint: /root/ray_results/trainable_func_2022-07-26_14-11-15/trainable_func_cfa7bf40_1_act1=tanh,act2=selu,act3=relu,batch_size=32,hidden_dim1=165.0000,hidden_dim2=300.0000,hidden_dim3=225.00_2022-07-26_14-11-15/checkpoint_tmp3e7c76/./\n",
            "\u001b[2m\u001b[36m(func pid=245807)\u001b[0m 2022-07-26 14:13:25,136\tINFO trainable.py:597 -- Current state after restoring: {'_iteration': 19, '_timesteps_total': None, '_time_total': 44.64600372314453, '_episodes_total': None}\n",
            "\u001b[2m\u001b[36m(func pid=245735)\u001b[0m 2022-07-26 14:13:25,693\tINFO trainable.py:589 -- Restored on 172.28.0.2 from checkpoint: /root/ray_results/trainable_func_2022-07-26_14-11-15/trainable_func_cfcb9fe6_2_act1=relu,act2=tanh,act3=selu,batch_size=64,hidden_dim1=195.0000,hidden_dim2=285.0000,hidden_dim3=255.00_2022-07-26_14-11-15/checkpoint_tmp629529/./\n",
            "\u001b[2m\u001b[36m(func pid=245735)\u001b[0m 2022-07-26 14:13:25,693\tINFO trainable.py:597 -- Current state after restoring: {'_iteration': 20, '_timesteps_total': None, '_time_total': 30.26560926437378, '_episodes_total': None}\n"
          ]
        },
        {
          "output_type": "stream",
          "name": "stdout",
          "text": [
            "Trial trainable_func_cfa7bf40 reported epoch=0,loss=0.10514505004973233,should_checkpoint=True with parameters={'act1 ': 'tanh', 'act2': 'selu', 'act3': 'relu', 'lr': 0.0007, 'batch_size': 32, 'hidden_dim1': 165.0, 'hidden_dim2': 300.0, 'hidden_dim3': 225.0}.\n"
          ]
        },
        {
          "output_type": "stream",
          "name": "stderr",
          "text": [
            "\u001b[2m\u001b[36m(func pid=245777)\u001b[0m 2022-07-26 14:13:26,240\tINFO trainable.py:589 -- Restored on 172.28.0.2 from checkpoint: /root/ray_results/trainable_func_2022-07-26_14-11-15/trainable_func_cfd5408c_3_act1=relu,act2=selu,act3=tanh,batch_size=32,hidden_dim1=135.0000,hidden_dim2=315.0000,hidden_dim3=165.00_2022-07-26_14-11-15/checkpoint_tmpf89a73/./\n",
            "\u001b[2m\u001b[36m(func pid=245777)\u001b[0m 2022-07-26 14:13:26,241\tINFO trainable.py:597 -- Current state after restoring: {'_iteration': 17, '_timesteps_total': None, '_time_total': 38.54154658317566, '_episodes_total': None}\n",
            "\u001b[2m\u001b[36m(func pid=245736)\u001b[0m 2022-07-26 14:13:26,957\tINFO trainable.py:589 -- Restored on 172.28.0.2 from checkpoint: /root/ray_results/trainable_func_2022-07-26_14-11-15/trainable_func_cfddfd3a_4_act1=tanh,act2=selu,act3=tanh,batch_size=32,hidden_dim1=165.0000,hidden_dim2=210.0000,hidden_dim3=300.00_2022-07-26_14-11-15/checkpoint_tmp7bb08b/./\n",
            "\u001b[2m\u001b[36m(func pid=245736)\u001b[0m 2022-07-26 14:13:26,957\tINFO trainable.py:597 -- Current state after restoring: {'_iteration': 17, '_timesteps_total': None, '_time_total': 37.314255237579346, '_episodes_total': None}\n",
            "\u001b[2m\u001b[36m(func pid=245807)\u001b[0m 2022-07-26 14:13:27,564\tINFO trainable.py:589 -- Restored on 172.28.0.2 from checkpoint: /root/ray_results/trainable_func_2022-07-26_14-11-15/trainable_func_cfa7bf40_1_act1=tanh,act2=selu,act3=relu,batch_size=32,hidden_dim1=165.0000,hidden_dim2=300.0000,hidden_dim3=225.00_2022-07-26_14-11-15/checkpoint_tmp61795a/./\n",
            "\u001b[2m\u001b[36m(func pid=245807)\u001b[0m 2022-07-26 14:13:27,565\tINFO trainable.py:597 -- Current state after restoring: {'_iteration': 20, '_timesteps_total': None, '_time_total': 46.383699893951416, '_episodes_total': None}\n"
          ]
        },
        {
          "output_type": "stream",
          "name": "stdout",
          "text": [
            "== Status ==\n",
            "Current time: 2022-07-26 14:13:28 (running for 00:02:12.87)\n",
            "Memory usage on this node: 2.5/12.7 GiB\n",
            "Using MedianStoppingRule: num_stopped=0.\n",
            "Resources requested: 1.5/2 CPUs, 0/0 GPUs, 0.0/7.47 GiB heap, 0.0/3.73 GiB objects\n",
            "Result logdir: /root/ray_results/trainable_func_2022-07-26_14-11-15\n",
            "Number of trials: 10/50 (7 PAUSED, 3 RUNNING)\n",
            "\n",
            "\n",
            "Trial trainable_func_cfd5408c reported epoch=0,loss=0.2007795757002379,should_checkpoint=True with parameters={'act1 ': 'relu', 'act2': 'selu', 'act3': 'tanh', 'lr': 0.0006000000000000001, 'batch_size': 32, 'hidden_dim1': 135.0, 'hidden_dim2': 315.0, 'hidden_dim3': 165.0}.\n",
            "Trial trainable_func_cfddfd3a reported epoch=0,loss=0.19499245130209142,should_checkpoint=True with parameters={'act1 ': 'tanh', 'act2': 'selu', 'act3': 'tanh', 'lr': 0.0006000000000000001, 'batch_size': 32, 'hidden_dim1': 165.0, 'hidden_dim2': 210.0, 'hidden_dim3': 300.0}.\n"
          ]
        },
        {
          "output_type": "stream",
          "name": "stderr",
          "text": [
            "\u001b[2m\u001b[36m(func pid=245735)\u001b[0m 2022-07-26 14:13:28,307\tINFO trainable.py:589 -- Restored on 172.28.0.2 from checkpoint: /root/ray_results/trainable_func_2022-07-26_14-11-15/trainable_func_cfcb9fe6_2_act1=relu,act2=tanh,act3=selu,batch_size=64,hidden_dim1=195.0000,hidden_dim2=285.0000,hidden_dim3=255.00_2022-07-26_14-11-15/checkpoint_tmp7ac713/./\n",
            "\u001b[2m\u001b[36m(func pid=245735)\u001b[0m 2022-07-26 14:13:28,307\tINFO trainable.py:597 -- Current state after restoring: {'_iteration': 21, '_timesteps_total': None, '_time_total': 31.565367460250854, '_episodes_total': None}\n",
            "\u001b[2m\u001b[36m(func pid=245777)\u001b[0m 2022-07-26 14:13:28,915\tINFO trainable.py:589 -- Restored on 172.28.0.2 from checkpoint: /root/ray_results/trainable_func_2022-07-26_14-11-15/trainable_func_cfd5408c_3_act1=relu,act2=selu,act3=tanh,batch_size=32,hidden_dim1=135.0000,hidden_dim2=315.0000,hidden_dim3=165.00_2022-07-26_14-11-15/checkpoint_tmp3db5de/./\n",
            "\u001b[2m\u001b[36m(func pid=245777)\u001b[0m 2022-07-26 14:13:28,919\tINFO trainable.py:597 -- Current state after restoring: {'_iteration': 18, '_timesteps_total': None, '_time_total': 40.25790238380432, '_episodes_total': None}\n",
            "\u001b[2m\u001b[36m(func pid=245736)\u001b[0m 2022-07-26 14:13:29,443\tINFO trainable.py:589 -- Restored on 172.28.0.2 from checkpoint: /root/ray_results/trainable_func_2022-07-26_14-11-15/trainable_func_cfddfd3a_4_act1=tanh,act2=selu,act3=tanh,batch_size=32,hidden_dim1=165.0000,hidden_dim2=210.0000,hidden_dim3=300.00_2022-07-26_14-11-15/checkpoint_tmpbd4e6f/./\n",
            "\u001b[2m\u001b[36m(func pid=245736)\u001b[0m 2022-07-26 14:13:29,443\tINFO trainable.py:597 -- Current state after restoring: {'_iteration': 18, '_timesteps_total': None, '_time_total': 38.98389148712158, '_episodes_total': None}\n",
            "\u001b[2m\u001b[36m(func pid=245807)\u001b[0m 2022-07-26 14:13:29,976\tINFO trainable.py:589 -- Restored on 172.28.0.2 from checkpoint: /root/ray_results/trainable_func_2022-07-26_14-11-15/trainable_func_cfa7bf40_1_act1=tanh,act2=selu,act3=relu,batch_size=32,hidden_dim1=165.0000,hidden_dim2=300.0000,hidden_dim3=225.00_2022-07-26_14-11-15/checkpoint_tmp8be421/./\n",
            "\u001b[2m\u001b[36m(func pid=245807)\u001b[0m 2022-07-26 14:13:29,977\tINFO trainable.py:597 -- Current state after restoring: {'_iteration': 21, '_timesteps_total': None, '_time_total': 48.03709387779236, '_episodes_total': None}\n",
            "\u001b[2m\u001b[36m(func pid=245735)\u001b[0m 2022-07-26 14:13:30,562\tINFO trainable.py:589 -- Restored on 172.28.0.2 from checkpoint: /root/ray_results/trainable_func_2022-07-26_14-11-15/trainable_func_cfcb9fe6_2_act1=relu,act2=tanh,act3=selu,batch_size=64,hidden_dim1=195.0000,hidden_dim2=285.0000,hidden_dim3=255.00_2022-07-26_14-11-15/checkpoint_tmp8c5c60/./\n",
            "\u001b[2m\u001b[36m(func pid=245735)\u001b[0m 2022-07-26 14:13:30,562\tINFO trainable.py:597 -- Current state after restoring: {'_iteration': 22, '_timesteps_total': None, '_time_total': 32.927836179733276, '_episodes_total': None}\n",
            "\u001b[2m\u001b[36m(func pid=245777)\u001b[0m 2022-07-26 14:13:31,355\tINFO trainable.py:589 -- Restored on 172.28.0.2 from checkpoint: /root/ray_results/trainable_func_2022-07-26_14-11-15/trainable_func_cfd5408c_3_act1=relu,act2=selu,act3=tanh,batch_size=32,hidden_dim1=135.0000,hidden_dim2=315.0000,hidden_dim3=165.00_2022-07-26_14-11-15/checkpoint_tmp9f63f9/./\n",
            "\u001b[2m\u001b[36m(func pid=245777)\u001b[0m 2022-07-26 14:13:31,355\tINFO trainable.py:597 -- Current state after restoring: {'_iteration': 19, '_timesteps_total': None, '_time_total': 41.870267152786255, '_episodes_total': None}\n"
          ]
        },
        {
          "output_type": "stream",
          "name": "stdout",
          "text": [
            "Trial trainable_func_cfa7bf40 reported epoch=0,loss=0.09222465491711547,should_checkpoint=True with parameters={'act1 ': 'tanh', 'act2': 'selu', 'act3': 'relu', 'lr': 0.0007, 'batch_size': 32, 'hidden_dim1': 165.0, 'hidden_dim2': 300.0, 'hidden_dim3': 225.0}.\n"
          ]
        },
        {
          "output_type": "stream",
          "name": "stderr",
          "text": [
            "\u001b[2m\u001b[36m(func pid=245736)\u001b[0m 2022-07-26 14:13:32,053\tINFO trainable.py:589 -- Restored on 172.28.0.2 from checkpoint: /root/ray_results/trainable_func_2022-07-26_14-11-15/trainable_func_cfddfd3a_4_act1=tanh,act2=selu,act3=tanh,batch_size=32,hidden_dim1=165.0000,hidden_dim2=210.0000,hidden_dim3=300.00_2022-07-26_14-11-15/checkpoint_tmp2a628a/./\n",
            "\u001b[2m\u001b[36m(func pid=245736)\u001b[0m 2022-07-26 14:13:32,054\tINFO trainable.py:597 -- Current state after restoring: {'_iteration': 19, '_timesteps_total': None, '_time_total': 40.78298592567444, '_episodes_total': None}\n"
          ]
        },
        {
          "output_type": "stream",
          "name": "stdout",
          "text": [
            "Trial trainable_func_cfcb9fe6 reported epoch=0,loss=0.19587842375285186,should_checkpoint=True with parameters={'act1 ': 'relu', 'act2': 'tanh', 'act3': 'selu', 'lr': 0.0005, 'batch_size': 64, 'hidden_dim1': 195.0, 'hidden_dim2': 285.0, 'hidden_dim3': 255.0}.\n"
          ]
        },
        {
          "output_type": "stream",
          "name": "stderr",
          "text": [
            "\u001b[2m\u001b[36m(func pid=245807)\u001b[0m 2022-07-26 14:13:32,623\tINFO trainable.py:589 -- Restored on 172.28.0.2 from checkpoint: /root/ray_results/trainable_func_2022-07-26_14-11-15/trainable_func_cfa7bf40_1_act1=tanh,act2=selu,act3=relu,batch_size=32,hidden_dim1=165.0000,hidden_dim2=300.0000,hidden_dim3=225.00_2022-07-26_14-11-15/checkpoint_tmp541b7c/./\n",
            "\u001b[2m\u001b[36m(func pid=245807)\u001b[0m 2022-07-26 14:13:32,624\tINFO trainable.py:597 -- Current state after restoring: {'_iteration': 22, '_timesteps_total': None, '_time_total': 50.05044722557068, '_episodes_total': None}\n",
            "\u001b[2m\u001b[36m(func pid=245735)\u001b[0m 2022-07-26 14:13:33,043\tINFO trainable.py:589 -- Restored on 172.28.0.2 from checkpoint: /root/ray_results/trainable_func_2022-07-26_14-11-15/trainable_func_cfcb9fe6_2_act1=relu,act2=tanh,act3=selu,batch_size=64,hidden_dim1=195.0000,hidden_dim2=285.0000,hidden_dim3=255.00_2022-07-26_14-11-15/checkpoint_tmpc252c1/./\n",
            "\u001b[2m\u001b[36m(func pid=245735)\u001b[0m 2022-07-26 14:13:33,043\tINFO trainable.py:597 -- Current state after restoring: {'_iteration': 23, '_timesteps_total': None, '_time_total': 34.354653120040894, '_episodes_total': None}\n",
            "\u001b[2m\u001b[36m(func pid=245777)\u001b[0m 2022-07-26 14:13:33,557\tINFO trainable.py:589 -- Restored on 172.28.0.2 from checkpoint: /root/ray_results/trainable_func_2022-07-26_14-11-15/trainable_func_cfd5408c_3_act1=relu,act2=selu,act3=tanh,batch_size=32,hidden_dim1=135.0000,hidden_dim2=315.0000,hidden_dim3=165.00_2022-07-26_14-11-15/checkpoint_tmp2c486f/./\n",
            "\u001b[2m\u001b[36m(func pid=245777)\u001b[0m 2022-07-26 14:13:33,560\tINFO trainable.py:597 -- Current state after restoring: {'_iteration': 20, '_timesteps_total': None, '_time_total': 43.28230404853821, '_episodes_total': None}\n"
          ]
        },
        {
          "output_type": "stream",
          "name": "stdout",
          "text": [
            "== Status ==\n",
            "Current time: 2022-07-26 14:13:33 (running for 00:02:18.13)\n",
            "Memory usage on this node: 2.5/12.7 GiB\n",
            "Using MedianStoppingRule: num_stopped=0.\n",
            "Resources requested: 1.5/2 CPUs, 0/0 GPUs, 0.0/7.47 GiB heap, 0.0/3.73 GiB objects\n",
            "Result logdir: /root/ray_results/trainable_func_2022-07-26_14-11-15\n",
            "Number of trials: 10/50 (7 PAUSED, 3 RUNNING)\n",
            "\n",
            "\n"
          ]
        },
        {
          "output_type": "stream",
          "name": "stderr",
          "text": [
            "\u001b[2m\u001b[36m(func pid=245736)\u001b[0m 2022-07-26 14:13:34,502\tINFO trainable.py:589 -- Restored on 172.28.0.2 from checkpoint: /root/ray_results/trainable_func_2022-07-26_14-11-15/trainable_func_cfddfd3a_4_act1=tanh,act2=selu,act3=tanh,batch_size=32,hidden_dim1=165.0000,hidden_dim2=210.0000,hidden_dim3=300.00_2022-07-26_14-11-15/checkpoint_tmp67760f/./\n",
            "\u001b[2m\u001b[36m(func pid=245736)\u001b[0m 2022-07-26 14:13:34,503\tINFO trainable.py:597 -- Current state after restoring: {'_iteration': 20, '_timesteps_total': None, '_time_total': 42.493467569351196, '_episodes_total': None}\n"
          ]
        },
        {
          "output_type": "stream",
          "name": "stdout",
          "text": [
            "Trial trainable_func_cfd5408c reported epoch=0,loss=0.17847401970422552,should_checkpoint=True with parameters={'act1 ': 'relu', 'act2': 'selu', 'act3': 'tanh', 'lr': 0.0006000000000000001, 'batch_size': 32, 'hidden_dim1': 135.0, 'hidden_dim2': 315.0, 'hidden_dim3': 165.0}.\n"
          ]
        },
        {
          "output_type": "stream",
          "name": "stderr",
          "text": [
            "\u001b[2m\u001b[36m(func pid=245807)\u001b[0m 2022-07-26 14:13:35,193\tINFO trainable.py:589 -- Restored on 172.28.0.2 from checkpoint: /root/ray_results/trainable_func_2022-07-26_14-11-15/trainable_func_cfa7bf40_1_act1=tanh,act2=selu,act3=relu,batch_size=32,hidden_dim1=165.0000,hidden_dim2=300.0000,hidden_dim3=225.00_2022-07-26_14-11-15/checkpoint_tmp1289ad/./\n",
            "\u001b[2m\u001b[36m(func pid=245807)\u001b[0m 2022-07-26 14:13:35,194\tINFO trainable.py:597 -- Current state after restoring: {'_iteration': 23, '_timesteps_total': None, '_time_total': 52.12953758239746, '_episodes_total': None}\n",
            "\u001b[2m\u001b[36m(func pid=245777)\u001b[0m 2022-07-26 14:13:35,641\tINFO trainable.py:589 -- Restored on 172.28.0.2 from checkpoint: /root/ray_results/trainable_func_2022-07-26_14-11-15/trainable_func_cfd5408c_3_act1=relu,act2=selu,act3=tanh,batch_size=32,hidden_dim1=135.0000,hidden_dim2=315.0000,hidden_dim3=165.00_2022-07-26_14-11-15/checkpoint_tmpf9c790/./\n",
            "\u001b[2m\u001b[36m(func pid=245777)\u001b[0m 2022-07-26 14:13:35,641\tINFO trainable.py:597 -- Current state after restoring: {'_iteration': 21, '_timesteps_total': None, '_time_total': 44.90139842033386, '_episodes_total': None}\n"
          ]
        },
        {
          "output_type": "stream",
          "name": "stdout",
          "text": [
            "Trial trainable_func_cfddfd3a reported epoch=0,loss=0.136470043427568,should_checkpoint=True with parameters={'act1 ': 'tanh', 'act2': 'selu', 'act3': 'tanh', 'lr': 0.0006000000000000001, 'batch_size': 32, 'hidden_dim1': 165.0, 'hidden_dim2': 210.0, 'hidden_dim3': 300.0}.\n"
          ]
        },
        {
          "output_type": "stream",
          "name": "stderr",
          "text": [
            "\u001b[2m\u001b[36m(func pid=245735)\u001b[0m 2022-07-26 14:13:36,322\tINFO trainable.py:589 -- Restored on 172.28.0.2 from checkpoint: /root/ray_results/trainable_func_2022-07-26_14-11-15/trainable_func_cfcb9fe6_2_act1=relu,act2=tanh,act3=selu,batch_size=64,hidden_dim1=195.0000,hidden_dim2=285.0000,hidden_dim3=255.00_2022-07-26_14-11-15/checkpoint_tmp9fbc88/./\n",
            "\u001b[2m\u001b[36m(func pid=245735)\u001b[0m 2022-07-26 14:13:36,322\tINFO trainable.py:597 -- Current state after restoring: {'_iteration': 24, '_timesteps_total': None, '_time_total': 36.035611629486084, '_episodes_total': None}\n",
            "\u001b[2m\u001b[36m(func pid=245736)\u001b[0m 2022-07-26 14:13:36,989\tINFO trainable.py:589 -- Restored on 172.28.0.2 from checkpoint: /root/ray_results/trainable_func_2022-07-26_14-11-15/trainable_func_cfddfd3a_4_act1=tanh,act2=selu,act3=tanh,batch_size=32,hidden_dim1=165.0000,hidden_dim2=210.0000,hidden_dim3=300.00_2022-07-26_14-11-15/checkpoint_tmp143c07/./\n",
            "\u001b[2m\u001b[36m(func pid=245736)\u001b[0m 2022-07-26 14:13:36,989\tINFO trainable.py:597 -- Current state after restoring: {'_iteration': 21, '_timesteps_total': None, '_time_total': 43.98115873336792, '_episodes_total': None}\n",
            "\u001b[2m\u001b[36m(func pid=245807)\u001b[0m 2022-07-26 14:13:37,547\tINFO trainable.py:589 -- Restored on 172.28.0.2 from checkpoint: /root/ray_results/trainable_func_2022-07-26_14-11-15/trainable_func_cfa7bf40_1_act1=tanh,act2=selu,act3=relu,batch_size=32,hidden_dim1=165.0000,hidden_dim2=300.0000,hidden_dim3=225.00_2022-07-26_14-11-15/checkpoint_tmp67a9db/./\n",
            "\u001b[2m\u001b[36m(func pid=245807)\u001b[0m 2022-07-26 14:13:37,550\tINFO trainable.py:597 -- Current state after restoring: {'_iteration': 24, '_timesteps_total': None, '_time_total': 53.627692461013794, '_episodes_total': None}\n",
            "\u001b[2m\u001b[36m(func pid=245735)\u001b[0m 2022-07-26 14:13:38,010\tINFO trainable.py:589 -- Restored on 172.28.0.2 from checkpoint: /root/ray_results/trainable_func_2022-07-26_14-11-15/trainable_func_cfcb9fe6_2_act1=relu,act2=tanh,act3=selu,batch_size=64,hidden_dim1=195.0000,hidden_dim2=285.0000,hidden_dim3=255.00_2022-07-26_14-11-15/checkpoint_tmp9388fc/./\n",
            "\u001b[2m\u001b[36m(func pid=245735)\u001b[0m 2022-07-26 14:13:38,011\tINFO trainable.py:597 -- Current state after restoring: {'_iteration': 25, '_timesteps_total': None, '_time_total': 37.19238758087158, '_episodes_total': None}\n"
          ]
        },
        {
          "output_type": "stream",
          "name": "stdout",
          "text": [
            "== Status ==\n",
            "Current time: 2022-07-26 14:13:38 (running for 00:02:23.27)\n",
            "Memory usage on this node: 2.5/12.7 GiB\n",
            "Using MedianStoppingRule: num_stopped=0.\n",
            "Resources requested: 1.5/2 CPUs, 0/0 GPUs, 0.0/7.47 GiB heap, 0.0/3.73 GiB objects\n",
            "Result logdir: /root/ray_results/trainable_func_2022-07-26_14-11-15\n",
            "Number of trials: 10/50 (7 PAUSED, 3 RUNNING)\n",
            "\n",
            "\n"
          ]
        },
        {
          "output_type": "stream",
          "name": "stderr",
          "text": [
            "\u001b[2m\u001b[36m(func pid=245777)\u001b[0m 2022-07-26 14:13:38,699\tINFO trainable.py:589 -- Restored on 172.28.0.2 from checkpoint: /root/ray_results/trainable_func_2022-07-26_14-11-15/trainable_func_cfd5408c_3_act1=relu,act2=selu,act3=tanh,batch_size=32,hidden_dim1=135.0000,hidden_dim2=315.0000,hidden_dim3=165.00_2022-07-26_14-11-15/checkpoint_tmpef4dc2/./\n",
            "\u001b[2m\u001b[36m(func pid=245777)\u001b[0m 2022-07-26 14:13:38,699\tINFO trainable.py:597 -- Current state after restoring: {'_iteration': 22, '_timesteps_total': None, '_time_total': 46.428163290023804, '_episodes_total': None}\n"
          ]
        },
        {
          "output_type": "stream",
          "name": "stdout",
          "text": [
            "Trial trainable_func_cfcb9fe6 reported epoch=0,loss=0.12893182351913982,should_checkpoint=True with parameters={'act1 ': 'relu', 'act2': 'tanh', 'act3': 'selu', 'lr': 0.0005, 'batch_size': 64, 'hidden_dim1': 195.0, 'hidden_dim2': 285.0, 'hidden_dim3': 255.0}.\n"
          ]
        },
        {
          "output_type": "stream",
          "name": "stderr",
          "text": [
            "\u001b[2m\u001b[36m(func pid=245736)\u001b[0m 2022-07-26 14:13:39,390\tINFO trainable.py:589 -- Restored on 172.28.0.2 from checkpoint: /root/ray_results/trainable_func_2022-07-26_14-11-15/trainable_func_cfddfd3a_4_act1=tanh,act2=selu,act3=tanh,batch_size=32,hidden_dim1=165.0000,hidden_dim2=210.0000,hidden_dim3=300.00_2022-07-26_14-11-15/checkpoint_tmp53bb7f/./\n",
            "\u001b[2m\u001b[36m(func pid=245736)\u001b[0m 2022-07-26 14:13:39,390\tINFO trainable.py:597 -- Current state after restoring: {'_iteration': 22, '_timesteps_total': None, '_time_total': 45.6510808467865, '_episodes_total': None}\n"
          ]
        },
        {
          "output_type": "stream",
          "name": "stdout",
          "text": [
            "Trial trainable_func_cfa7bf40 reported epoch=0,loss=0.07425263946015173,should_checkpoint=True with parameters={'act1 ': 'tanh', 'act2': 'selu', 'act3': 'relu', 'lr': 0.0007, 'batch_size': 32, 'hidden_dim1': 165.0, 'hidden_dim2': 300.0, 'hidden_dim3': 225.0}.\n"
          ]
        },
        {
          "output_type": "stream",
          "name": "stderr",
          "text": [
            "\u001b[2m\u001b[36m(func pid=245735)\u001b[0m 2022-07-26 14:13:39,769\tINFO trainable.py:589 -- Restored on 172.28.0.2 from checkpoint: /root/ray_results/trainable_func_2022-07-26_14-11-15/trainable_func_cfcb9fe6_2_act1=relu,act2=tanh,act3=selu,batch_size=64,hidden_dim1=195.0000,hidden_dim2=285.0000,hidden_dim3=255.00_2022-07-26_14-11-15/checkpoint_tmpf9569f/./\n",
            "\u001b[2m\u001b[36m(func pid=245735)\u001b[0m 2022-07-26 14:13:39,769\tINFO trainable.py:597 -- Current state after restoring: {'_iteration': 26, '_timesteps_total': None, '_time_total': 38.48694443702698, '_episodes_total': None}\n",
            "\u001b[2m\u001b[36m(func pid=245807)\u001b[0m 2022-07-26 14:13:40,377\tINFO trainable.py:589 -- Restored on 172.28.0.2 from checkpoint: /root/ray_results/trainable_func_2022-07-26_14-11-15/trainable_func_cfa7bf40_1_act1=tanh,act2=selu,act3=relu,batch_size=32,hidden_dim1=165.0000,hidden_dim2=300.0000,hidden_dim3=225.00_2022-07-26_14-11-15/checkpoint_tmp314af9/./\n",
            "\u001b[2m\u001b[36m(func pid=245807)\u001b[0m 2022-07-26 14:13:40,377\tINFO trainable.py:597 -- Current state after restoring: {'_iteration': 25, '_timesteps_total': None, '_time_total': 55.512056827545166, '_episodes_total': None}\n"
          ]
        },
        {
          "output_type": "stream",
          "name": "stdout",
          "text": [
            "Trial trainable_func_cfd5408c reported epoch=0,loss=0.14302326578835758,should_checkpoint=True with parameters={'act1 ': 'relu', 'act2': 'selu', 'act3': 'tanh', 'lr': 0.0006000000000000001, 'batch_size': 32, 'hidden_dim1': 135.0, 'hidden_dim2': 315.0, 'hidden_dim3': 165.0}.\n"
          ]
        },
        {
          "output_type": "stream",
          "name": "stderr",
          "text": [
            "\u001b[2m\u001b[36m(func pid=245777)\u001b[0m 2022-07-26 14:13:41,333\tINFO trainable.py:589 -- Restored on 172.28.0.2 from checkpoint: /root/ray_results/trainable_func_2022-07-26_14-11-15/trainable_func_cfd5408c_3_act1=relu,act2=selu,act3=tanh,batch_size=32,hidden_dim1=135.0000,hidden_dim2=315.0000,hidden_dim3=165.00_2022-07-26_14-11-15/checkpoint_tmp150a56/./\n",
            "\u001b[2m\u001b[36m(func pid=245777)\u001b[0m 2022-07-26 14:13:41,333\tINFO trainable.py:597 -- Current state after restoring: {'_iteration': 23, '_timesteps_total': None, '_time_total': 48.239460706710815, '_episodes_total': None}\n",
            "\u001b[2m\u001b[36m(func pid=245735)\u001b[0m 2022-07-26 14:13:41,786\tINFO trainable.py:589 -- Restored on 172.28.0.2 from checkpoint: /root/ray_results/trainable_func_2022-07-26_14-11-15/trainable_func_cfcb9fe6_2_act1=relu,act2=tanh,act3=selu,batch_size=64,hidden_dim1=195.0000,hidden_dim2=285.0000,hidden_dim3=255.00_2022-07-26_14-11-15/checkpoint_tmp1f0ca5/./\n",
            "\u001b[2m\u001b[36m(func pid=245735)\u001b[0m 2022-07-26 14:13:41,786\tINFO trainable.py:597 -- Current state after restoring: {'_iteration': 27, '_timesteps_total': None, '_time_total': 40.03389310836792, '_episodes_total': None}\n"
          ]
        },
        {
          "output_type": "stream",
          "name": "stdout",
          "text": [
            "Trial trainable_func_cfddfd3a reported epoch=0,loss=0.13048518569902617,should_checkpoint=True with parameters={'act1 ': 'tanh', 'act2': 'selu', 'act3': 'tanh', 'lr': 0.0006000000000000001, 'batch_size': 32, 'hidden_dim1': 165.0, 'hidden_dim2': 210.0, 'hidden_dim3': 300.0}.\n"
          ]
        },
        {
          "output_type": "stream",
          "name": "stderr",
          "text": [
            "\u001b[2m\u001b[36m(func pid=245736)\u001b[0m 2022-07-26 14:13:42,260\tINFO trainable.py:589 -- Restored on 172.28.0.2 from checkpoint: /root/ray_results/trainable_func_2022-07-26_14-11-15/trainable_func_cfddfd3a_4_act1=tanh,act2=selu,act3=tanh,batch_size=32,hidden_dim1=165.0000,hidden_dim2=210.0000,hidden_dim3=300.00_2022-07-26_14-11-15/checkpoint_tmpc05cf8/./\n",
            "\u001b[2m\u001b[36m(func pid=245736)\u001b[0m 2022-07-26 14:13:42,260\tINFO trainable.py:597 -- Current state after restoring: {'_iteration': 23, '_timesteps_total': None, '_time_total': 47.64280319213867, '_episodes_total': None}\n",
            "\u001b[2m\u001b[36m(func pid=245807)\u001b[0m 2022-07-26 14:13:42,905\tINFO trainable.py:589 -- Restored on 172.28.0.2 from checkpoint: /root/ray_results/trainable_func_2022-07-26_14-11-15/trainable_func_cfa7bf40_1_act1=tanh,act2=selu,act3=relu,batch_size=32,hidden_dim1=165.0000,hidden_dim2=300.0000,hidden_dim3=225.00_2022-07-26_14-11-15/checkpoint_tmp66ca31/./\n",
            "\u001b[2m\u001b[36m(func pid=245807)\u001b[0m 2022-07-26 14:13:42,905\tINFO trainable.py:597 -- Current state after restoring: {'_iteration': 26, '_timesteps_total': None, '_time_total': 57.08836102485657, '_episodes_total': None}\n",
            "\u001b[2m\u001b[36m(func pid=245777)\u001b[0m 2022-07-26 14:13:43,571\tINFO trainable.py:589 -- Restored on 172.28.0.2 from checkpoint: /root/ray_results/trainable_func_2022-07-26_14-11-15/trainable_func_cfd5408c_3_act1=relu,act2=selu,act3=tanh,batch_size=32,hidden_dim1=135.0000,hidden_dim2=315.0000,hidden_dim3=165.00_2022-07-26_14-11-15/checkpoint_tmpeaf5aa/./\n",
            "\u001b[2m\u001b[36m(func pid=245777)\u001b[0m 2022-07-26 14:13:43,571\tINFO trainable.py:597 -- Current state after restoring: {'_iteration': 24, '_timesteps_total': None, '_time_total': 49.88140678405762, '_episodes_total': None}\n"
          ]
        },
        {
          "output_type": "stream",
          "name": "stdout",
          "text": [
            "== Status ==\n",
            "Current time: 2022-07-26 14:13:44 (running for 00:02:28.76)\n",
            "Memory usage on this node: 2.5/12.7 GiB\n",
            "Using MedianStoppingRule: num_stopped=0.\n",
            "Resources requested: 1.5/2 CPUs, 0/0 GPUs, 0.0/7.47 GiB heap, 0.0/3.73 GiB objects\n",
            "Result logdir: /root/ray_results/trainable_func_2022-07-26_14-11-15\n",
            "Number of trials: 10/50 (7 PAUSED, 3 RUNNING)\n",
            "\n",
            "\n"
          ]
        },
        {
          "output_type": "stream",
          "name": "stderr",
          "text": [
            "\u001b[2m\u001b[36m(func pid=245735)\u001b[0m 2022-07-26 14:13:44,184\tINFO trainable.py:589 -- Restored on 172.28.0.2 from checkpoint: /root/ray_results/trainable_func_2022-07-26_14-11-15/trainable_func_cfcb9fe6_2_act1=relu,act2=tanh,act3=selu,batch_size=64,hidden_dim1=195.0000,hidden_dim2=285.0000,hidden_dim3=255.00_2022-07-26_14-11-15/checkpoint_tmpd8e590/./\n",
            "\u001b[2m\u001b[36m(func pid=245735)\u001b[0m 2022-07-26 14:13:44,185\tINFO trainable.py:597 -- Current state after restoring: {'_iteration': 28, '_timesteps_total': None, '_time_total': 41.365708351135254, '_episodes_total': None}\n"
          ]
        },
        {
          "output_type": "stream",
          "name": "stdout",
          "text": [
            "Trial trainable_func_cfa7bf40 reported epoch=0,loss=0.07333295000503263,should_checkpoint=True with parameters={'act1 ': 'tanh', 'act2': 'selu', 'act3': 'relu', 'lr': 0.0007, 'batch_size': 32, 'hidden_dim1': 165.0, 'hidden_dim2': 300.0, 'hidden_dim3': 225.0}.\n"
          ]
        },
        {
          "output_type": "stream",
          "name": "stderr",
          "text": [
            "\u001b[2m\u001b[36m(func pid=245736)\u001b[0m 2022-07-26 14:13:44,827\tINFO trainable.py:589 -- Restored on 172.28.0.2 from checkpoint: /root/ray_results/trainable_func_2022-07-26_14-11-15/trainable_func_cfddfd3a_4_act1=tanh,act2=selu,act3=tanh,batch_size=32,hidden_dim1=165.0000,hidden_dim2=210.0000,hidden_dim3=300.00_2022-07-26_14-11-15/checkpoint_tmpcb7b29/./\n",
            "\u001b[2m\u001b[36m(func pid=245736)\u001b[0m 2022-07-26 14:13:44,829\tINFO trainable.py:597 -- Current state after restoring: {'_iteration': 24, '_timesteps_total': None, '_time_total': 49.4224112033844, '_episodes_total': None}\n"
          ]
        },
        {
          "output_type": "stream",
          "name": "stdout",
          "text": [
            "Trial trainable_func_cfd5408c reported epoch=0,loss=0.11633395873858471,should_checkpoint=True with parameters={'act1 ': 'relu', 'act2': 'selu', 'act3': 'tanh', 'lr': 0.0006000000000000001, 'batch_size': 32, 'hidden_dim1': 135.0, 'hidden_dim2': 315.0, 'hidden_dim3': 165.0}.\n"
          ]
        },
        {
          "output_type": "stream",
          "name": "stderr",
          "text": [
            "\u001b[2m\u001b[36m(func pid=245807)\u001b[0m 2022-07-26 14:13:45,627\tINFO trainable.py:589 -- Restored on 172.28.0.2 from checkpoint: /root/ray_results/trainable_func_2022-07-26_14-11-15/trainable_func_cfa7bf40_1_act1=tanh,act2=selu,act3=relu,batch_size=32,hidden_dim1=165.0000,hidden_dim2=300.0000,hidden_dim3=225.00_2022-07-26_14-11-15/checkpoint_tmpc4107b/./\n",
            "\u001b[2m\u001b[36m(func pid=245807)\u001b[0m 2022-07-26 14:13:45,628\tINFO trainable.py:597 -- Current state after restoring: {'_iteration': 27, '_timesteps_total': None, '_time_total': 58.85334086418152, '_episodes_total': None}\n"
          ]
        },
        {
          "output_type": "stream",
          "name": "stdout",
          "text": [
            "Trial trainable_func_cfcb9fe6 reported epoch=0,loss=0.1067215029403964,should_checkpoint=True with parameters={'act1 ': 'relu', 'act2': 'tanh', 'act3': 'selu', 'lr': 0.0005, 'batch_size': 64, 'hidden_dim1': 195.0, 'hidden_dim2': 285.0, 'hidden_dim3': 255.0}.\n"
          ]
        },
        {
          "output_type": "stream",
          "name": "stderr",
          "text": [
            "\u001b[2m\u001b[36m(func pid=245777)\u001b[0m 2022-07-26 14:13:46,068\tINFO trainable.py:589 -- Restored on 172.28.0.2 from checkpoint: /root/ray_results/trainable_func_2022-07-26_14-11-15/trainable_func_cfd5408c_3_act1=relu,act2=selu,act3=tanh,batch_size=32,hidden_dim1=135.0000,hidden_dim2=315.0000,hidden_dim3=165.00_2022-07-26_14-11-15/checkpoint_tmp18cf50/./\n",
            "\u001b[2m\u001b[36m(func pid=245777)\u001b[0m 2022-07-26 14:13:46,069\tINFO trainable.py:597 -- Current state after restoring: {'_iteration': 25, '_timesteps_total': None, '_time_total': 51.76029419898987, '_episodes_total': None}\n",
            "\u001b[2m\u001b[36m(func pid=245735)\u001b[0m 2022-07-26 14:13:46,738\tINFO trainable.py:589 -- Restored on 172.28.0.2 from checkpoint: /root/ray_results/trainable_func_2022-07-26_14-11-15/trainable_func_cfcb9fe6_2_act1=relu,act2=tanh,act3=selu,batch_size=64,hidden_dim1=195.0000,hidden_dim2=285.0000,hidden_dim3=255.00_2022-07-26_14-11-15/checkpoint_tmp140685/./\n",
            "\u001b[2m\u001b[36m(func pid=245735)\u001b[0m 2022-07-26 14:13:46,738\tINFO trainable.py:597 -- Current state after restoring: {'_iteration': 29, '_timesteps_total': None, '_time_total': 42.7563636302948, '_episodes_total': None}\n",
            "\u001b[2m\u001b[36m(func pid=245736)\u001b[0m 2022-07-26 14:13:47,405\tINFO trainable.py:589 -- Restored on 172.28.0.2 from checkpoint: /root/ray_results/trainable_func_2022-07-26_14-11-15/trainable_func_cfddfd3a_4_act1=tanh,act2=selu,act3=tanh,batch_size=32,hidden_dim1=165.0000,hidden_dim2=210.0000,hidden_dim3=300.00_2022-07-26_14-11-15/checkpoint_tmpcd5701/./\n",
            "\u001b[2m\u001b[36m(func pid=245736)\u001b[0m 2022-07-26 14:13:47,405\tINFO trainable.py:597 -- Current state after restoring: {'_iteration': 25, '_timesteps_total': None, '_time_total': 50.964765310287476, '_episodes_total': None}\n",
            "\u001b[2m\u001b[36m(func pid=245807)\u001b[0m 2022-07-26 14:13:48,045\tINFO trainable.py:589 -- Restored on 172.28.0.2 from checkpoint: /root/ray_results/trainable_func_2022-07-26_14-11-15/trainable_func_cfa7bf40_1_act1=tanh,act2=selu,act3=relu,batch_size=32,hidden_dim1=165.0000,hidden_dim2=300.0000,hidden_dim3=225.00_2022-07-26_14-11-15/checkpoint_tmp6e675b/./\n",
            "\u001b[2m\u001b[36m(func pid=245807)\u001b[0m 2022-07-26 14:13:48,045\tINFO trainable.py:597 -- Current state after restoring: {'_iteration': 28, '_timesteps_total': None, '_time_total': 60.652202129364014, '_episodes_total': None}\n",
            "\u001b[2m\u001b[36m(func pid=245777)\u001b[0m 2022-07-26 14:13:48,558\tINFO trainable.py:589 -- Restored on 172.28.0.2 from checkpoint: /root/ray_results/trainable_func_2022-07-26_14-11-15/trainable_func_cfd5408c_3_act1=relu,act2=selu,act3=tanh,batch_size=32,hidden_dim1=135.0000,hidden_dim2=315.0000,hidden_dim3=165.00_2022-07-26_14-11-15/checkpoint_tmpd41d44/./\n",
            "\u001b[2m\u001b[36m(func pid=245777)\u001b[0m 2022-07-26 14:13:48,558\tINFO trainable.py:597 -- Current state after restoring: {'_iteration': 26, '_timesteps_total': None, '_time_total': 53.25367212295532, '_episodes_total': None}\n"
          ]
        },
        {
          "output_type": "stream",
          "name": "stdout",
          "text": [
            "== Status ==\n",
            "Current time: 2022-07-26 14:13:49 (running for 00:02:33.81)\n",
            "Memory usage on this node: 2.5/12.7 GiB\n",
            "Using MedianStoppingRule: num_stopped=0.\n",
            "Resources requested: 1.5/2 CPUs, 0/0 GPUs, 0.0/7.47 GiB heap, 0.0/3.73 GiB objects\n",
            "Result logdir: /root/ray_results/trainable_func_2022-07-26_14-11-15\n",
            "Number of trials: 10/50 (7 PAUSED, 3 RUNNING)\n",
            "\n",
            "\n",
            "Trial trainable_func_cfddfd3a reported epoch=0,loss=0.11210664825862755,should_checkpoint=True with parameters={'act1 ': 'tanh', 'act2': 'selu', 'act3': 'tanh', 'lr': 0.0006000000000000001, 'batch_size': 32, 'hidden_dim1': 165.0, 'hidden_dim2': 210.0, 'hidden_dim3': 300.0}.\n",
            "Trial trainable_func_cfa7bf40 reported epoch=0,loss=0.06178897505532296,should_checkpoint=True with parameters={'act1 ': 'tanh', 'act2': 'selu', 'act3': 'relu', 'lr': 0.0007, 'batch_size': 32, 'hidden_dim1': 165.0, 'hidden_dim2': 300.0, 'hidden_dim3': 225.0}.\n"
          ]
        },
        {
          "output_type": "stream",
          "name": "stderr",
          "text": [
            "\u001b[2m\u001b[36m(func pid=245735)\u001b[0m 2022-07-26 14:13:49,234\tINFO trainable.py:589 -- Restored on 172.28.0.2 from checkpoint: /root/ray_results/trainable_func_2022-07-26_14-11-15/trainable_func_cfcb9fe6_2_act1=relu,act2=tanh,act3=selu,batch_size=64,hidden_dim1=195.0000,hidden_dim2=285.0000,hidden_dim3=255.00_2022-07-26_14-11-15/checkpoint_tmpb16def/./\n",
            "\u001b[2m\u001b[36m(func pid=245735)\u001b[0m 2022-07-26 14:13:49,235\tINFO trainable.py:597 -- Current state after restoring: {'_iteration': 30, '_timesteps_total': None, '_time_total': 44.131978034973145, '_episodes_total': None}\n",
            "\u001b[2m\u001b[36m(func pid=245736)\u001b[0m 2022-07-26 14:13:49,939\tINFO trainable.py:589 -- Restored on 172.28.0.2 from checkpoint: /root/ray_results/trainable_func_2022-07-26_14-11-15/trainable_func_cfddfd3a_4_act1=tanh,act2=selu,act3=tanh,batch_size=32,hidden_dim1=165.0000,hidden_dim2=210.0000,hidden_dim3=300.00_2022-07-26_14-11-15/checkpoint_tmp7905e3/./\n",
            "\u001b[2m\u001b[36m(func pid=245736)\u001b[0m 2022-07-26 14:13:49,939\tINFO trainable.py:597 -- Current state after restoring: {'_iteration': 26, '_timesteps_total': None, '_time_total': 52.79861330986023, '_episodes_total': None}\n",
            "\u001b[2m\u001b[36m(func pid=245807)\u001b[0m 2022-07-26 14:13:50,493\tINFO trainable.py:589 -- Restored on 172.28.0.2 from checkpoint: /root/ray_results/trainable_func_2022-07-26_14-11-15/trainable_func_cfa7bf40_1_act1=tanh,act2=selu,act3=relu,batch_size=32,hidden_dim1=165.0000,hidden_dim2=300.0000,hidden_dim3=225.00_2022-07-26_14-11-15/checkpoint_tmpf1f10c/./\n",
            "\u001b[2m\u001b[36m(func pid=245807)\u001b[0m 2022-07-26 14:13:50,493\tINFO trainable.py:597 -- Current state after restoring: {'_iteration': 29, '_timesteps_total': None, '_time_total': 62.494391202926636, '_episodes_total': None}\n"
          ]
        },
        {
          "output_type": "stream",
          "name": "stdout",
          "text": [
            "Trial trainable_func_cfcb9fe6 reported epoch=0,loss=0.10307476872445832,should_checkpoint=True with parameters={'act1 ': 'relu', 'act2': 'tanh', 'act3': 'selu', 'lr': 0.0005, 'batch_size': 64, 'hidden_dim1': 195.0, 'hidden_dim2': 285.0, 'hidden_dim3': 255.0}.\n"
          ]
        },
        {
          "output_type": "stream",
          "name": "stderr",
          "text": [
            "\u001b[2m\u001b[36m(func pid=245777)\u001b[0m 2022-07-26 14:13:51,108\tINFO trainable.py:589 -- Restored on 172.28.0.2 from checkpoint: /root/ray_results/trainable_func_2022-07-26_14-11-15/trainable_func_cfd5408c_3_act1=relu,act2=selu,act3=tanh,batch_size=32,hidden_dim1=135.0000,hidden_dim2=315.0000,hidden_dim3=165.00_2022-07-26_14-11-15/checkpoint_tmp1ade19/./\n",
            "\u001b[2m\u001b[36m(func pid=245777)\u001b[0m 2022-07-26 14:13:51,109\tINFO trainable.py:597 -- Current state after restoring: {'_iteration': 27, '_timesteps_total': None, '_time_total': 55.305787324905396, '_episodes_total': None}\n",
            "\u001b[2m\u001b[36m(func pid=245735)\u001b[0m 2022-07-26 14:13:51,847\tINFO trainable.py:589 -- Restored on 172.28.0.2 from checkpoint: /root/ray_results/trainable_func_2022-07-26_14-11-15/trainable_func_cfcb9fe6_2_act1=relu,act2=tanh,act3=selu,batch_size=64,hidden_dim1=195.0000,hidden_dim2=285.0000,hidden_dim3=255.00_2022-07-26_14-11-15/checkpoint_tmp638966/./\n",
            "\u001b[2m\u001b[36m(func pid=245735)\u001b[0m 2022-07-26 14:13:51,847\tINFO trainable.py:597 -- Current state after restoring: {'_iteration': 31, '_timesteps_total': None, '_time_total': 45.607784271240234, '_episodes_total': None}\n",
            "\u001b[2m\u001b[36m(func pid=245736)\u001b[0m 2022-07-26 14:13:52,532\tINFO trainable.py:589 -- Restored on 172.28.0.2 from checkpoint: /root/ray_results/trainable_func_2022-07-26_14-11-15/trainable_func_cfddfd3a_4_act1=tanh,act2=selu,act3=tanh,batch_size=32,hidden_dim1=165.0000,hidden_dim2=210.0000,hidden_dim3=300.00_2022-07-26_14-11-15/checkpoint_tmp793081/./\n",
            "\u001b[2m\u001b[36m(func pid=245736)\u001b[0m 2022-07-26 14:13:52,532\tINFO trainable.py:597 -- Current state after restoring: {'_iteration': 27, '_timesteps_total': None, '_time_total': 54.611666679382324, '_episodes_total': None}\n"
          ]
        },
        {
          "output_type": "stream",
          "name": "stdout",
          "text": [
            "Trial trainable_func_cfd5408c reported epoch=0,loss=0.13820440874090165,should_checkpoint=True with parameters={'act1 ': 'relu', 'act2': 'selu', 'act3': 'tanh', 'lr': 0.0006000000000000001, 'batch_size': 32, 'hidden_dim1': 135.0, 'hidden_dim2': 315.0, 'hidden_dim3': 165.0}.\n"
          ]
        },
        {
          "output_type": "stream",
          "name": "stderr",
          "text": [
            "\u001b[2m\u001b[36m(func pid=245807)\u001b[0m 2022-07-26 14:13:53,042\tINFO trainable.py:589 -- Restored on 172.28.0.2 from checkpoint: /root/ray_results/trainable_func_2022-07-26_14-11-15/trainable_func_cfa7bf40_1_act1=tanh,act2=selu,act3=relu,batch_size=32,hidden_dim1=165.0000,hidden_dim2=300.0000,hidden_dim3=225.00_2022-07-26_14-11-15/checkpoint_tmp9a39d2/./\n",
            "\u001b[2m\u001b[36m(func pid=245807)\u001b[0m 2022-07-26 14:13:53,042\tINFO trainable.py:597 -- Current state after restoring: {'_iteration': 30, '_timesteps_total': None, '_time_total': 64.41780829429626, '_episodes_total': None}\n",
            "\u001b[2m\u001b[36m(func pid=245777)\u001b[0m 2022-07-26 14:13:53,591\tINFO trainable.py:589 -- Restored on 172.28.0.2 from checkpoint: /root/ray_results/trainable_func_2022-07-26_14-11-15/trainable_func_cfd5408c_3_act1=relu,act2=selu,act3=tanh,batch_size=32,hidden_dim1=135.0000,hidden_dim2=315.0000,hidden_dim3=165.00_2022-07-26_14-11-15/checkpoint_tmpd52ed3/./\n",
            "\u001b[2m\u001b[36m(func pid=245777)\u001b[0m 2022-07-26 14:13:53,592\tINFO trainable.py:597 -- Current state after restoring: {'_iteration': 28, '_timesteps_total': None, '_time_total': 56.91225552558899, '_episodes_total': None}\n"
          ]
        },
        {
          "output_type": "stream",
          "name": "stdout",
          "text": [
            "== Status ==\n",
            "Current time: 2022-07-26 14:13:54 (running for 00:02:39.24)\n",
            "Memory usage on this node: 2.5/12.7 GiB\n",
            "Using MedianStoppingRule: num_stopped=0.\n",
            "Resources requested: 1.5/2 CPUs, 0/0 GPUs, 0.0/7.47 GiB heap, 0.0/3.73 GiB objects\n",
            "Result logdir: /root/ray_results/trainable_func_2022-07-26_14-11-15\n",
            "Number of trials: 10/50 (7 PAUSED, 3 RUNNING)\n",
            "\n",
            "\n",
            "Trial trainable_func_cfddfd3a reported epoch=0,loss=0.09671962813175383,should_checkpoint=True with parameters={'act1 ': 'tanh', 'act2': 'selu', 'act3': 'tanh', 'lr': 0.0006000000000000001, 'batch_size': 32, 'hidden_dim1': 165.0, 'hidden_dim2': 210.0, 'hidden_dim3': 300.0}.\n"
          ]
        },
        {
          "output_type": "stream",
          "name": "stderr",
          "text": [
            "\u001b[2m\u001b[36m(func pid=245735)\u001b[0m 2022-07-26 14:13:54,678\tINFO trainable.py:589 -- Restored on 172.28.0.2 from checkpoint: /root/ray_results/trainable_func_2022-07-26_14-11-15/trainable_func_cfcb9fe6_2_act1=relu,act2=tanh,act3=selu,batch_size=64,hidden_dim1=195.0000,hidden_dim2=285.0000,hidden_dim3=255.00_2022-07-26_14-11-15/checkpoint_tmp0b90e8/./\n",
            "\u001b[2m\u001b[36m(func pid=245735)\u001b[0m 2022-07-26 14:13:54,679\tINFO trainable.py:597 -- Current state after restoring: {'_iteration': 32, '_timesteps_total': None, '_time_total': 46.99344038963318, '_episodes_total': None}\n"
          ]
        },
        {
          "output_type": "stream",
          "name": "stdout",
          "text": [
            "Trial trainable_func_cfa7bf40 reported epoch=0,loss=0.05224160869413209,should_checkpoint=True with parameters={'act1 ': 'tanh', 'act2': 'selu', 'act3': 'relu', 'lr': 0.0007, 'batch_size': 32, 'hidden_dim1': 165.0, 'hidden_dim2': 300.0, 'hidden_dim3': 225.0}.\n"
          ]
        },
        {
          "output_type": "stream",
          "name": "stderr",
          "text": [
            "\u001b[2m\u001b[36m(func pid=245736)\u001b[0m 2022-07-26 14:13:55,727\tINFO trainable.py:589 -- Restored on 172.28.0.2 from checkpoint: /root/ray_results/trainable_func_2022-07-26_14-11-15/trainable_func_cfddfd3a_4_act1=tanh,act2=selu,act3=tanh,batch_size=32,hidden_dim1=165.0000,hidden_dim2=210.0000,hidden_dim3=300.00_2022-07-26_14-11-15/checkpoint_tmpf112b4/./\n",
            "\u001b[2m\u001b[36m(func pid=245736)\u001b[0m 2022-07-26 14:13:55,727\tINFO trainable.py:597 -- Current state after restoring: {'_iteration': 28, '_timesteps_total': None, '_time_total': 56.28768181800842, '_episodes_total': None}\n"
          ]
        },
        {
          "output_type": "stream",
          "name": "stdout",
          "text": [
            "Trial trainable_func_cfcb9fe6 reported epoch=0,loss=0.09058673988985122,should_checkpoint=True with parameters={'act1 ': 'relu', 'act2': 'tanh', 'act3': 'selu', 'lr': 0.0005, 'batch_size': 64, 'hidden_dim1': 195.0, 'hidden_dim2': 285.0, 'hidden_dim3': 255.0}.\n"
          ]
        },
        {
          "output_type": "stream",
          "name": "stderr",
          "text": [
            "\u001b[2m\u001b[36m(func pid=245807)\u001b[0m 2022-07-26 14:13:56,388\tINFO trainable.py:589 -- Restored on 172.28.0.2 from checkpoint: /root/ray_results/trainable_func_2022-07-26_14-11-15/trainable_func_cfa7bf40_1_act1=tanh,act2=selu,act3=relu,batch_size=32,hidden_dim1=165.0000,hidden_dim2=300.0000,hidden_dim3=225.00_2022-07-26_14-11-15/checkpoint_tmp07676a/./\n",
            "\u001b[2m\u001b[36m(func pid=245807)\u001b[0m 2022-07-26 14:13:56,388\tINFO trainable.py:597 -- Current state after restoring: {'_iteration': 31, '_timesteps_total': None, '_time_total': 67.11419153213501, '_episodes_total': None}\n",
            "\u001b[2m\u001b[36m(func pid=245735)\u001b[0m 2022-07-26 14:13:56,863\tINFO trainable.py:589 -- Restored on 172.28.0.2 from checkpoint: /root/ray_results/trainable_func_2022-07-26_14-11-15/trainable_func_cfcb9fe6_2_act1=relu,act2=tanh,act3=selu,batch_size=64,hidden_dim1=195.0000,hidden_dim2=285.0000,hidden_dim3=255.00_2022-07-26_14-11-15/checkpoint_tmp66535e/./\n",
            "\u001b[2m\u001b[36m(func pid=245735)\u001b[0m 2022-07-26 14:13:56,863\tINFO trainable.py:597 -- Current state after restoring: {'_iteration': 33, '_timesteps_total': None, '_time_total': 48.51931142807007, '_episodes_total': None}\n",
            "\u001b[2m\u001b[36m(func pid=245777)\u001b[0m 2022-07-26 14:13:57,430\tINFO trainable.py:589 -- Restored on 172.28.0.2 from checkpoint: /root/ray_results/trainable_func_2022-07-26_14-11-15/trainable_func_cfd5408c_3_act1=relu,act2=selu,act3=tanh,batch_size=32,hidden_dim1=135.0000,hidden_dim2=315.0000,hidden_dim3=165.00_2022-07-26_14-11-15/checkpoint_tmp560bb0/./\n",
            "\u001b[2m\u001b[36m(func pid=245777)\u001b[0m 2022-07-26 14:13:57,431\tINFO trainable.py:597 -- Current state after restoring: {'_iteration': 29, '_timesteps_total': None, '_time_total': 59.519848585128784, '_episodes_total': None}\n",
            "\u001b[2m\u001b[36m(func pid=245736)\u001b[0m 2022-07-26 14:13:58,210\tINFO trainable.py:589 -- Restored on 172.28.0.2 from checkpoint: /root/ray_results/trainable_func_2022-07-26_14-11-15/trainable_func_cfddfd3a_4_act1=tanh,act2=selu,act3=tanh,batch_size=32,hidden_dim1=165.0000,hidden_dim2=210.0000,hidden_dim3=300.00_2022-07-26_14-11-15/checkpoint_tmpc3f7d9/./\n",
            "\u001b[2m\u001b[36m(func pid=245736)\u001b[0m 2022-07-26 14:13:58,210\tINFO trainable.py:597 -- Current state after restoring: {'_iteration': 29, '_timesteps_total': None, '_time_total': 57.860621213912964, '_episodes_total': None}\n",
            "\u001b[2m\u001b[36m(func pid=245807)\u001b[0m 2022-07-26 14:13:58,655\tINFO trainable.py:589 -- Restored on 172.28.0.2 from checkpoint: /root/ray_results/trainable_func_2022-07-26_14-11-15/trainable_func_cfa7bf40_1_act1=tanh,act2=selu,act3=relu,batch_size=32,hidden_dim1=165.0000,hidden_dim2=300.0000,hidden_dim3=225.00_2022-07-26_14-11-15/checkpoint_tmp854ffc/./\n",
            "\u001b[2m\u001b[36m(func pid=245807)\u001b[0m 2022-07-26 14:13:58,655\tINFO trainable.py:597 -- Current state after restoring: {'_iteration': 32, '_timesteps_total': None, '_time_total': 68.91744828224182, '_episodes_total': None}\n"
          ]
        },
        {
          "output_type": "stream",
          "name": "stdout",
          "text": [
            "Trial trainable_func_cfd5408c reported epoch=0,loss=0.13406603963033784,should_checkpoint=True with parameters={'act1 ': 'relu', 'act2': 'selu', 'act3': 'tanh', 'lr': 0.0006000000000000001, 'batch_size': 32, 'hidden_dim1': 135.0, 'hidden_dim2': 315.0, 'hidden_dim3': 165.0}.\n"
          ]
        },
        {
          "output_type": "stream",
          "name": "stderr",
          "text": [
            "\u001b[2m\u001b[36m(func pid=245735)\u001b[0m 2022-07-26 14:13:59,421\tINFO trainable.py:589 -- Restored on 172.28.0.2 from checkpoint: /root/ray_results/trainable_func_2022-07-26_14-11-15/trainable_func_cfcb9fe6_2_act1=relu,act2=tanh,act3=selu,batch_size=64,hidden_dim1=195.0000,hidden_dim2=285.0000,hidden_dim3=255.00_2022-07-26_14-11-15/checkpoint_tmpbfcdff/./\n",
            "\u001b[2m\u001b[36m(func pid=245735)\u001b[0m 2022-07-26 14:13:59,421\tINFO trainable.py:597 -- Current state after restoring: {'_iteration': 34, '_timesteps_total': None, '_time_total': 49.8981077671051, '_episodes_total': None}\n"
          ]
        },
        {
          "output_type": "stream",
          "name": "stdout",
          "text": [
            "== Status ==\n",
            "Current time: 2022-07-26 14:14:00 (running for 00:02:44.66)\n",
            "Memory usage on this node: 2.4/12.7 GiB\n",
            "Using MedianStoppingRule: num_stopped=0.\n",
            "Resources requested: 1.5/2 CPUs, 0/0 GPUs, 0.0/7.47 GiB heap, 0.0/3.73 GiB objects\n",
            "Result logdir: /root/ray_results/trainable_func_2022-07-26_14-11-15\n",
            "Number of trials: 10/50 (7 PAUSED, 3 RUNNING)\n",
            "\n",
            "\n",
            "Trial trainable_func_cfddfd3a reported epoch=0,loss=0.08827044498392718,should_checkpoint=True with parameters={'act1 ': 'tanh', 'act2': 'selu', 'act3': 'tanh', 'lr': 0.0006000000000000001, 'batch_size': 32, 'hidden_dim1': 165.0, 'hidden_dim2': 210.0, 'hidden_dim3': 300.0}.\n"
          ]
        },
        {
          "output_type": "stream",
          "name": "stderr",
          "text": [
            "\u001b[2m\u001b[36m(func pid=245777)\u001b[0m 2022-07-26 14:14:00,085\tINFO trainable.py:589 -- Restored on 172.28.0.2 from checkpoint: /root/ray_results/trainable_func_2022-07-26_14-11-15/trainable_func_cfd5408c_3_act1=relu,act2=selu,act3=tanh,batch_size=32,hidden_dim1=135.0000,hidden_dim2=315.0000,hidden_dim3=165.00_2022-07-26_14-11-15/checkpoint_tmpd72e94/./\n",
            "\u001b[2m\u001b[36m(func pid=245777)\u001b[0m 2022-07-26 14:14:00,085\tINFO trainable.py:597 -- Current state after restoring: {'_iteration': 30, '_timesteps_total': None, '_time_total': 61.437111616134644, '_episodes_total': None}\n",
            "\u001b[2m\u001b[36m(func pid=245736)\u001b[0m 2022-07-26 14:14:00,676\tINFO trainable.py:589 -- Restored on 172.28.0.2 from checkpoint: /root/ray_results/trainable_func_2022-07-26_14-11-15/trainable_func_cfddfd3a_4_act1=tanh,act2=selu,act3=tanh,batch_size=32,hidden_dim1=165.0000,hidden_dim2=210.0000,hidden_dim3=300.00_2022-07-26_14-11-15/checkpoint_tmp564b92/./\n",
            "\u001b[2m\u001b[36m(func pid=245736)\u001b[0m 2022-07-26 14:14:00,676\tINFO trainable.py:597 -- Current state after restoring: {'_iteration': 30, '_timesteps_total': None, '_time_total': 59.660563945770264, '_episodes_total': None}\n",
            "\u001b[2m\u001b[36m(func pid=245807)\u001b[0m 2022-07-26 14:14:01,193\tINFO trainable.py:589 -- Restored on 172.28.0.2 from checkpoint: /root/ray_results/trainable_func_2022-07-26_14-11-15/trainable_func_cfa7bf40_1_act1=tanh,act2=selu,act3=relu,batch_size=32,hidden_dim1=165.0000,hidden_dim2=300.0000,hidden_dim3=225.00_2022-07-26_14-11-15/checkpoint_tmpdc0e33/./\n",
            "\u001b[2m\u001b[36m(func pid=245807)\u001b[0m 2022-07-26 14:14:01,193\tINFO trainable.py:597 -- Current state after restoring: {'_iteration': 33, '_timesteps_total': None, '_time_total': 70.79949450492859, '_episodes_total': None}\n",
            "\u001b[2m\u001b[36m(func pid=245735)\u001b[0m 2022-07-26 14:14:01,886\tINFO trainable.py:589 -- Restored on 172.28.0.2 from checkpoint: /root/ray_results/trainable_func_2022-07-26_14-11-15/trainable_func_cfcb9fe6_2_act1=relu,act2=tanh,act3=selu,batch_size=64,hidden_dim1=195.0000,hidden_dim2=285.0000,hidden_dim3=255.00_2022-07-26_14-11-15/checkpoint_tmp069393/./\n",
            "\u001b[2m\u001b[36m(func pid=245735)\u001b[0m 2022-07-26 14:14:01,886\tINFO trainable.py:597 -- Current state after restoring: {'_iteration': 35, '_timesteps_total': None, '_time_total': 51.37559628486633, '_episodes_total': None}\n",
            "\u001b[2m\u001b[36m(func pid=245777)\u001b[0m 2022-07-26 14:14:02,506\tINFO trainable.py:589 -- Restored on 172.28.0.2 from checkpoint: /root/ray_results/trainable_func_2022-07-26_14-11-15/trainable_func_cfd5408c_3_act1=relu,act2=selu,act3=tanh,batch_size=32,hidden_dim1=135.0000,hidden_dim2=315.0000,hidden_dim3=165.00_2022-07-26_14-11-15/checkpoint_tmp4204d9/./\n",
            "\u001b[2m\u001b[36m(func pid=245777)\u001b[0m 2022-07-26 14:14:02,506\tINFO trainable.py:597 -- Current state after restoring: {'_iteration': 31, '_timesteps_total': None, '_time_total': 63.19850516319275, '_episodes_total': None}\n",
            "\u001b[2m\u001b[36m(func pid=245736)\u001b[0m 2022-07-26 14:14:03,095\tINFO trainable.py:589 -- Restored on 172.28.0.2 from checkpoint: /root/ray_results/trainable_func_2022-07-26_14-11-15/trainable_func_cfddfd3a_4_act1=tanh,act2=selu,act3=tanh,batch_size=32,hidden_dim1=165.0000,hidden_dim2=210.0000,hidden_dim3=300.00_2022-07-26_14-11-15/checkpoint_tmp1e0937/./\n",
            "\u001b[2m\u001b[36m(func pid=245736)\u001b[0m 2022-07-26 14:14:03,095\tINFO trainable.py:597 -- Current state after restoring: {'_iteration': 31, '_timesteps_total': None, '_time_total': 61.42985153198242, '_episodes_total': None}\n"
          ]
        },
        {
          "output_type": "stream",
          "name": "stdout",
          "text": [
            "Trial trainable_func_cfcb9fe6 reported epoch=0,loss=0.07922741589265887,should_checkpoint=True with parameters={'act1 ': 'relu', 'act2': 'tanh', 'act3': 'selu', 'lr': 0.0005, 'batch_size': 64, 'hidden_dim1': 195.0, 'hidden_dim2': 285.0, 'hidden_dim3': 255.0}.\n",
            "Trial trainable_func_cfa7bf40 reported epoch=0,loss=0.058337175668010166,should_checkpoint=True with parameters={'act1 ': 'tanh', 'act2': 'selu', 'act3': 'relu', 'lr': 0.0007, 'batch_size': 32, 'hidden_dim1': 165.0, 'hidden_dim2': 300.0, 'hidden_dim3': 225.0}.\n"
          ]
        },
        {
          "output_type": "stream",
          "name": "stderr",
          "text": [
            "\u001b[2m\u001b[36m(func pid=245735)\u001b[0m 2022-07-26 14:14:03,814\tINFO trainable.py:589 -- Restored on 172.28.0.2 from checkpoint: /root/ray_results/trainable_func_2022-07-26_14-11-15/trainable_func_cfcb9fe6_2_act1=relu,act2=tanh,act3=selu,batch_size=64,hidden_dim1=195.0000,hidden_dim2=285.0000,hidden_dim3=255.00_2022-07-26_14-11-15/checkpoint_tmp7ccaac/./\n",
            "\u001b[2m\u001b[36m(func pid=245735)\u001b[0m 2022-07-26 14:14:03,815\tINFO trainable.py:597 -- Current state after restoring: {'_iteration': 36, '_timesteps_total': None, '_time_total': 52.78341197967529, '_episodes_total': None}\n"
          ]
        },
        {
          "output_type": "stream",
          "name": "stdout",
          "text": [
            "Trial trainable_func_cfd5408c reported epoch=0,loss=0.0804497720527797,should_checkpoint=True with parameters={'act1 ': 'relu', 'act2': 'selu', 'act3': 'tanh', 'lr': 0.0006000000000000001, 'batch_size': 32, 'hidden_dim1': 135.0, 'hidden_dim2': 315.0, 'hidden_dim3': 165.0}.\n"
          ]
        },
        {
          "output_type": "stream",
          "name": "stderr",
          "text": [
            "\u001b[2m\u001b[36m(func pid=245807)\u001b[0m 2022-07-26 14:14:04,538\tINFO trainable.py:589 -- Restored on 172.28.0.2 from checkpoint: /root/ray_results/trainable_func_2022-07-26_14-11-15/trainable_func_cfa7bf40_1_act1=tanh,act2=selu,act3=relu,batch_size=32,hidden_dim1=165.0000,hidden_dim2=300.0000,hidden_dim3=225.00_2022-07-26_14-11-15/checkpoint_tmpfce866/./\n",
            "\u001b[2m\u001b[36m(func pid=245807)\u001b[0m 2022-07-26 14:14:04,538\tINFO trainable.py:597 -- Current state after restoring: {'_iteration': 34, '_timesteps_total': None, '_time_total': 73.1045594215393, '_episodes_total': None}\n"
          ]
        },
        {
          "output_type": "stream",
          "name": "stdout",
          "text": [
            "== Status ==\n",
            "Current time: 2022-07-26 14:14:05 (running for 00:02:49.75)\n",
            "Memory usage on this node: 2.4/12.7 GiB\n",
            "Using MedianStoppingRule: num_stopped=0.\n",
            "Resources requested: 1.5/2 CPUs, 0/0 GPUs, 0.0/7.47 GiB heap, 0.0/3.73 GiB objects\n",
            "Result logdir: /root/ray_results/trainable_func_2022-07-26_14-11-15\n",
            "Number of trials: 10/50 (7 PAUSED, 3 RUNNING)\n",
            "\n",
            "\n"
          ]
        },
        {
          "output_type": "stream",
          "name": "stderr",
          "text": [
            "\u001b[2m\u001b[36m(func pid=245777)\u001b[0m 2022-07-26 14:14:05,179\tINFO trainable.py:589 -- Restored on 172.28.0.2 from checkpoint: /root/ray_results/trainable_func_2022-07-26_14-11-15/trainable_func_cfd5408c_3_act1=relu,act2=selu,act3=tanh,batch_size=32,hidden_dim1=135.0000,hidden_dim2=315.0000,hidden_dim3=165.00_2022-07-26_14-11-15/checkpoint_tmpf2baac/./\n",
            "\u001b[2m\u001b[36m(func pid=245777)\u001b[0m 2022-07-26 14:14:05,180\tINFO trainable.py:597 -- Current state after restoring: {'_iteration': 32, '_timesteps_total': None, '_time_total': 65.11587405204773, '_episodes_total': None}\n"
          ]
        },
        {
          "output_type": "stream",
          "name": "stdout",
          "text": [
            "Trial trainable_func_cfddfd3a reported epoch=0,loss=0.09349803161718377,should_checkpoint=True with parameters={'act1 ': 'tanh', 'act2': 'selu', 'act3': 'tanh', 'lr': 0.0006000000000000001, 'batch_size': 32, 'hidden_dim1': 165.0, 'hidden_dim2': 210.0, 'hidden_dim3': 300.0}.\n"
          ]
        },
        {
          "output_type": "stream",
          "name": "stderr",
          "text": [
            "\u001b[2m\u001b[36m(func pid=245735)\u001b[0m 2022-07-26 14:14:05,782\tINFO trainable.py:589 -- Restored on 172.28.0.2 from checkpoint: /root/ray_results/trainable_func_2022-07-26_14-11-15/trainable_func_cfcb9fe6_2_act1=relu,act2=tanh,act3=selu,batch_size=64,hidden_dim1=195.0000,hidden_dim2=285.0000,hidden_dim3=255.00_2022-07-26_14-11-15/checkpoint_tmpefb5d2/./\n",
            "\u001b[2m\u001b[36m(func pid=245735)\u001b[0m 2022-07-26 14:14:05,782\tINFO trainable.py:597 -- Current state after restoring: {'_iteration': 37, '_timesteps_total': None, '_time_total': 54.12553095817566, '_episodes_total': None}\n",
            "\u001b[2m\u001b[36m(func pid=245736)\u001b[0m 2022-07-26 14:14:06,514\tINFO trainable.py:589 -- Restored on 172.28.0.2 from checkpoint: /root/ray_results/trainable_func_2022-07-26_14-11-15/trainable_func_cfddfd3a_4_act1=tanh,act2=selu,act3=tanh,batch_size=32,hidden_dim1=165.0000,hidden_dim2=210.0000,hidden_dim3=300.00_2022-07-26_14-11-15/checkpoint_tmp4046e7/./\n",
            "\u001b[2m\u001b[36m(func pid=245736)\u001b[0m 2022-07-26 14:14:06,514\tINFO trainable.py:597 -- Current state after restoring: {'_iteration': 32, '_timesteps_total': None, '_time_total': 63.19768476486206, '_episodes_total': None}\n",
            "\u001b[2m\u001b[36m(func pid=245807)\u001b[0m 2022-07-26 14:14:06,997\tINFO trainable.py:589 -- Restored on 172.28.0.2 from checkpoint: /root/ray_results/trainable_func_2022-07-26_14-11-15/trainable_func_cfa7bf40_1_act1=tanh,act2=selu,act3=relu,batch_size=32,hidden_dim1=165.0000,hidden_dim2=300.0000,hidden_dim3=225.00_2022-07-26_14-11-15/checkpoint_tmp0c9106/./\n",
            "\u001b[2m\u001b[36m(func pid=245807)\u001b[0m 2022-07-26 14:14:07,002\tINFO trainable.py:597 -- Current state after restoring: {'_iteration': 35, '_timesteps_total': None, '_time_total': 74.85898303985596, '_episodes_total': None}\n",
            "\u001b[2m\u001b[36m(func pid=245777)\u001b[0m 2022-07-26 14:14:07,381\tINFO trainable.py:589 -- Restored on 172.28.0.2 from checkpoint: /root/ray_results/trainable_func_2022-07-26_14-11-15/trainable_func_cfd5408c_3_act1=relu,act2=selu,act3=tanh,batch_size=32,hidden_dim1=135.0000,hidden_dim2=315.0000,hidden_dim3=165.00_2022-07-26_14-11-15/checkpoint_tmpb73d1a/./\n",
            "\u001b[2m\u001b[36m(func pid=245777)\u001b[0m 2022-07-26 14:14:07,381\tINFO trainable.py:597 -- Current state after restoring: {'_iteration': 33, '_timesteps_total': None, '_time_total': 66.4633436203003, '_episodes_total': None}\n",
            "\u001b[2m\u001b[36m(func pid=245735)\u001b[0m 2022-07-26 14:14:08,036\tINFO trainable.py:589 -- Restored on 172.28.0.2 from checkpoint: /root/ray_results/trainable_func_2022-07-26_14-11-15/trainable_func_cfcb9fe6_2_act1=relu,act2=tanh,act3=selu,batch_size=64,hidden_dim1=195.0000,hidden_dim2=285.0000,hidden_dim3=255.00_2022-07-26_14-11-15/checkpoint_tmpfaf8ad/./\n",
            "\u001b[2m\u001b[36m(func pid=245735)\u001b[0m 2022-07-26 14:14:08,037\tINFO trainable.py:597 -- Current state after restoring: {'_iteration': 38, '_timesteps_total': None, '_time_total': 55.238173723220825, '_episodes_total': None}\n"
          ]
        },
        {
          "output_type": "stream",
          "name": "stdout",
          "text": [
            "Trial trainable_func_cfa7bf40 reported epoch=0,loss=0.06391900216609739,should_checkpoint=True with parameters={'act1 ': 'tanh', 'act2': 'selu', 'act3': 'relu', 'lr': 0.0007, 'batch_size': 32, 'hidden_dim1': 165.0, 'hidden_dim2': 300.0, 'hidden_dim3': 225.0}.\n"
          ]
        },
        {
          "output_type": "stream",
          "name": "stderr",
          "text": [
            "\u001b[2m\u001b[36m(func pid=245736)\u001b[0m 2022-07-26 14:14:08,896\tINFO trainable.py:589 -- Restored on 172.28.0.2 from checkpoint: /root/ray_results/trainable_func_2022-07-26_14-11-15/trainable_func_cfddfd3a_4_act1=tanh,act2=selu,act3=tanh,batch_size=32,hidden_dim1=165.0000,hidden_dim2=210.0000,hidden_dim3=300.00_2022-07-26_14-11-15/checkpoint_tmp8c74b2/./\n",
            "\u001b[2m\u001b[36m(func pid=245736)\u001b[0m 2022-07-26 14:14:08,896\tINFO trainable.py:597 -- Current state after restoring: {'_iteration': 33, '_timesteps_total': None, '_time_total': 64.90916538238525, '_episodes_total': None}\n"
          ]
        },
        {
          "output_type": "stream",
          "name": "stdout",
          "text": [
            "Trial trainable_func_cfd5408c reported epoch=0,loss=0.09397211848720606,should_checkpoint=True with parameters={'act1 ': 'relu', 'act2': 'selu', 'act3': 'tanh', 'lr': 0.0006000000000000001, 'batch_size': 32, 'hidden_dim1': 135.0, 'hidden_dim2': 315.0, 'hidden_dim3': 165.0}.\n",
            "Trial trainable_func_cfcb9fe6 reported epoch=0,loss=0.07125315442386389,should_checkpoint=True with parameters={'act1 ': 'relu', 'act2': 'tanh', 'act3': 'selu', 'lr': 0.0005, 'batch_size': 64, 'hidden_dim1': 195.0, 'hidden_dim2': 285.0, 'hidden_dim3': 255.0}.\n"
          ]
        },
        {
          "output_type": "stream",
          "name": "stderr",
          "text": [
            "\u001b[2m\u001b[36m(func pid=245807)\u001b[0m 2022-07-26 14:14:09,538\tINFO trainable.py:589 -- Restored on 172.28.0.2 from checkpoint: /root/ray_results/trainable_func_2022-07-26_14-11-15/trainable_func_cfa7bf40_1_act1=tanh,act2=selu,act3=relu,batch_size=32,hidden_dim1=165.0000,hidden_dim2=300.0000,hidden_dim3=225.00_2022-07-26_14-11-15/checkpoint_tmpd07c75/./\n",
            "\u001b[2m\u001b[36m(func pid=245807)\u001b[0m 2022-07-26 14:14:09,542\tINFO trainable.py:597 -- Current state after restoring: {'_iteration': 36, '_timesteps_total': None, '_time_total': 76.76756978034973, '_episodes_total': None}\n",
            "\u001b[2m\u001b[36m(func pid=245735)\u001b[0m 2022-07-26 14:14:10,071\tINFO trainable.py:589 -- Restored on 172.28.0.2 from checkpoint: /root/ray_results/trainable_func_2022-07-26_14-11-15/trainable_func_cfcb9fe6_2_act1=relu,act2=tanh,act3=selu,batch_size=64,hidden_dim1=195.0000,hidden_dim2=285.0000,hidden_dim3=255.00_2022-07-26_14-11-15/checkpoint_tmp71db99/./\n",
            "\u001b[2m\u001b[36m(func pid=245735)\u001b[0m 2022-07-26 14:14:10,074\tINFO trainable.py:597 -- Current state after restoring: {'_iteration': 39, '_timesteps_total': None, '_time_total': 56.688727617263794, '_episodes_total': None}\n"
          ]
        },
        {
          "output_type": "stream",
          "name": "stdout",
          "text": [
            "== Status ==\n",
            "Current time: 2022-07-26 14:14:10 (running for 00:02:55.26)\n",
            "Memory usage on this node: 2.4/12.7 GiB\n",
            "Using MedianStoppingRule: num_stopped=0.\n",
            "Resources requested: 1.5/2 CPUs, 0/0 GPUs, 0.0/7.47 GiB heap, 0.0/3.73 GiB objects\n",
            "Result logdir: /root/ray_results/trainable_func_2022-07-26_14-11-15\n",
            "Number of trials: 10/50 (7 PAUSED, 3 RUNNING)\n",
            "\n",
            "\n"
          ]
        },
        {
          "output_type": "stream",
          "name": "stderr",
          "text": [
            "\u001b[2m\u001b[36m(func pid=245777)\u001b[0m 2022-07-26 14:14:10,681\tINFO trainable.py:589 -- Restored on 172.28.0.2 from checkpoint: /root/ray_results/trainable_func_2022-07-26_14-11-15/trainable_func_cfd5408c_3_act1=relu,act2=selu,act3=tanh,batch_size=32,hidden_dim1=135.0000,hidden_dim2=315.0000,hidden_dim3=165.00_2022-07-26_14-11-15/checkpoint_tmp5d10dd/./\n",
            "\u001b[2m\u001b[36m(func pid=245777)\u001b[0m 2022-07-26 14:14:10,682\tINFO trainable.py:597 -- Current state after restoring: {'_iteration': 34, '_timesteps_total': None, '_time_total': 68.43714427947998, '_episodes_total': None}\n",
            "\u001b[2m\u001b[36m(func pid=245736)\u001b[0m 2022-07-26 14:14:11,418\tINFO trainable.py:589 -- Restored on 172.28.0.2 from checkpoint: /root/ray_results/trainable_func_2022-07-26_14-11-15/trainable_func_cfddfd3a_4_act1=tanh,act2=selu,act3=tanh,batch_size=32,hidden_dim1=165.0000,hidden_dim2=210.0000,hidden_dim3=300.00_2022-07-26_14-11-15/checkpoint_tmpce33fd/./\n",
            "\u001b[2m\u001b[36m(func pid=245736)\u001b[0m 2022-07-26 14:14:11,418\tINFO trainable.py:597 -- Current state after restoring: {'_iteration': 34, '_timesteps_total': None, '_time_total': 66.56897902488708, '_episodes_total': None}\n",
            "\u001b[2m\u001b[36m(func pid=245735)\u001b[0m 2022-07-26 14:14:11,917\tINFO trainable.py:589 -- Restored on 172.28.0.2 from checkpoint: /root/ray_results/trainable_func_2022-07-26_14-11-15/trainable_func_cfcb9fe6_2_act1=relu,act2=tanh,act3=selu,batch_size=64,hidden_dim1=195.0000,hidden_dim2=285.0000,hidden_dim3=255.00_2022-07-26_14-11-15/checkpoint_tmp06a4fe/./\n",
            "\u001b[2m\u001b[36m(func pid=245735)\u001b[0m 2022-07-26 14:14:11,918\tINFO trainable.py:597 -- Current state after restoring: {'_iteration': 40, '_timesteps_total': None, '_time_total': 57.87937021255493, '_episodes_total': None}\n",
            "\u001b[2m\u001b[36m(func pid=245807)\u001b[0m 2022-07-26 14:14:12,448\tINFO trainable.py:589 -- Restored on 172.28.0.2 from checkpoint: /root/ray_results/trainable_func_2022-07-26_14-11-15/trainable_func_cfa7bf40_1_act1=tanh,act2=selu,act3=relu,batch_size=32,hidden_dim1=165.0000,hidden_dim2=300.0000,hidden_dim3=225.00_2022-07-26_14-11-15/checkpoint_tmp801ff2/./\n",
            "\u001b[2m\u001b[36m(func pid=245807)\u001b[0m 2022-07-26 14:14:12,449\tINFO trainable.py:597 -- Current state after restoring: {'_iteration': 37, '_timesteps_total': None, '_time_total': 78.59935188293457, '_episodes_total': None}\n"
          ]
        },
        {
          "output_type": "stream",
          "name": "stdout",
          "text": [
            "Trial trainable_func_cfddfd3a reported epoch=0,loss=0.07622419499761543,should_checkpoint=True with parameters={'act1 ': 'tanh', 'act2': 'selu', 'act3': 'tanh', 'lr': 0.0006000000000000001, 'batch_size': 32, 'hidden_dim1': 165.0, 'hidden_dim2': 210.0, 'hidden_dim3': 300.0}.\n"
          ]
        },
        {
          "output_type": "stream",
          "name": "stderr",
          "text": [
            "\u001b[2m\u001b[36m(func pid=245777)\u001b[0m 2022-07-26 14:14:13,156\tINFO trainable.py:589 -- Restored on 172.28.0.2 from checkpoint: /root/ray_results/trainable_func_2022-07-26_14-11-15/trainable_func_cfd5408c_3_act1=relu,act2=selu,act3=tanh,batch_size=32,hidden_dim1=135.0000,hidden_dim2=315.0000,hidden_dim3=165.00_2022-07-26_14-11-15/checkpoint_tmp1efbd8/./\n",
            "\u001b[2m\u001b[36m(func pid=245777)\u001b[0m 2022-07-26 14:14:13,157\tINFO trainable.py:597 -- Current state after restoring: {'_iteration': 35, '_timesteps_total': None, '_time_total': 70.10800790786743, '_episodes_total': None}\n",
            "\u001b[2m\u001b[36m(func pid=245736)\u001b[0m 2022-07-26 14:14:13,795\tINFO trainable.py:589 -- Restored on 172.28.0.2 from checkpoint: /root/ray_results/trainable_func_2022-07-26_14-11-15/trainable_func_cfddfd3a_4_act1=tanh,act2=selu,act3=tanh,batch_size=32,hidden_dim1=165.0000,hidden_dim2=210.0000,hidden_dim3=300.00_2022-07-26_14-11-15/checkpoint_tmpa39d5f/./\n",
            "\u001b[2m\u001b[36m(func pid=245736)\u001b[0m 2022-07-26 14:14:13,795\tINFO trainable.py:597 -- Current state after restoring: {'_iteration': 35, '_timesteps_total': None, '_time_total': 68.20684623718262, '_episodes_total': None}\n"
          ]
        },
        {
          "output_type": "stream",
          "name": "stdout",
          "text": [
            "Trial trainable_func_cfa7bf40 reported epoch=0,loss=0.05525479055905074,should_checkpoint=True with parameters={'act1 ': 'tanh', 'act2': 'selu', 'act3': 'relu', 'lr': 0.0007, 'batch_size': 32, 'hidden_dim1': 165.0, 'hidden_dim2': 300.0, 'hidden_dim3': 225.0}.\n"
          ]
        },
        {
          "output_type": "stream",
          "name": "stderr",
          "text": [
            "\u001b[2m\u001b[36m(func pid=245735)\u001b[0m 2022-07-26 14:14:14,442\tINFO trainable.py:589 -- Restored on 172.28.0.2 from checkpoint: /root/ray_results/trainable_func_2022-07-26_14-11-15/trainable_func_cfcb9fe6_2_act1=relu,act2=tanh,act3=selu,batch_size=64,hidden_dim1=195.0000,hidden_dim2=285.0000,hidden_dim3=255.00_2022-07-26_14-11-15/checkpoint_tmp3b5cc7/./\n",
            "\u001b[2m\u001b[36m(func pid=245735)\u001b[0m 2022-07-26 14:14:14,442\tINFO trainable.py:597 -- Current state after restoring: {'_iteration': 41, '_timesteps_total': None, '_time_total': 59.34824514389038, '_episodes_total': None}\n"
          ]
        },
        {
          "output_type": "stream",
          "name": "stdout",
          "text": [
            "Trial trainable_func_cfd5408c reported epoch=0,loss=0.09172713829570195,should_checkpoint=True with parameters={'act1 ': 'relu', 'act2': 'selu', 'act3': 'tanh', 'lr': 0.0006000000000000001, 'batch_size': 32, 'hidden_dim1': 135.0, 'hidden_dim2': 315.0, 'hidden_dim3': 165.0}.\n"
          ]
        },
        {
          "output_type": "stream",
          "name": "stderr",
          "text": [
            "\u001b[2m\u001b[36m(func pid=245807)\u001b[0m 2022-07-26 14:14:15,153\tINFO trainable.py:589 -- Restored on 172.28.0.2 from checkpoint: /root/ray_results/trainable_func_2022-07-26_14-11-15/trainable_func_cfa7bf40_1_act1=tanh,act2=selu,act3=relu,batch_size=32,hidden_dim1=165.0000,hidden_dim2=300.0000,hidden_dim3=225.00_2022-07-26_14-11-15/checkpoint_tmp9d60f5/./\n",
            "\u001b[2m\u001b[36m(func pid=245807)\u001b[0m 2022-07-26 14:14:15,159\tINFO trainable.py:597 -- Current state after restoring: {'_iteration': 38, '_timesteps_total': None, '_time_total': 80.25731062889099, '_episodes_total': None}\n"
          ]
        },
        {
          "output_type": "stream",
          "name": "stdout",
          "text": [
            "== Status ==\n",
            "Current time: 2022-07-26 14:14:15 (running for 00:03:00.41)\n",
            "Memory usage on this node: 2.4/12.7 GiB\n",
            "Using MedianStoppingRule: num_stopped=0.\n",
            "Resources requested: 1.5/2 CPUs, 0/0 GPUs, 0.0/7.47 GiB heap, 0.0/3.73 GiB objects\n",
            "Result logdir: /root/ray_results/trainable_func_2022-07-26_14-11-15\n",
            "Number of trials: 10/50 (7 PAUSED, 3 RUNNING)\n",
            "\n",
            "\n",
            "Trial trainable_func_cfcb9fe6 reported epoch=0,loss=0.07559941411836414,should_checkpoint=True with parameters={'act1 ': 'relu', 'act2': 'tanh', 'act3': 'selu', 'lr': 0.0005, 'batch_size': 64, 'hidden_dim1': 195.0, 'hidden_dim2': 285.0, 'hidden_dim3': 255.0}.\n"
          ]
        },
        {
          "output_type": "stream",
          "name": "stderr",
          "text": [
            "\u001b[2m\u001b[36m(func pid=245777)\u001b[0m 2022-07-26 14:14:15,835\tINFO trainable.py:589 -- Restored on 172.28.0.2 from checkpoint: /root/ray_results/trainable_func_2022-07-26_14-11-15/trainable_func_cfd5408c_3_act1=relu,act2=selu,act3=tanh,batch_size=32,hidden_dim1=135.0000,hidden_dim2=315.0000,hidden_dim3=165.00_2022-07-26_14-11-15/checkpoint_tmpa3fccd/./\n",
            "\u001b[2m\u001b[36m(func pid=245777)\u001b[0m 2022-07-26 14:14:15,835\tINFO trainable.py:597 -- Current state after restoring: {'_iteration': 36, '_timesteps_total': None, '_time_total': 72.01620888710022, '_episodes_total': None}\n",
            "\u001b[2m\u001b[36m(func pid=245735)\u001b[0m 2022-07-26 14:14:16,391\tINFO trainable.py:589 -- Restored on 172.28.0.2 from checkpoint: /root/ray_results/trainable_func_2022-07-26_14-11-15/trainable_func_cfcb9fe6_2_act1=relu,act2=tanh,act3=selu,batch_size=64,hidden_dim1=195.0000,hidden_dim2=285.0000,hidden_dim3=255.00_2022-07-26_14-11-15/checkpoint_tmpdbe0ab/./\n",
            "\u001b[2m\u001b[36m(func pid=245735)\u001b[0m 2022-07-26 14:14:16,391\tINFO trainable.py:597 -- Current state after restoring: {'_iteration': 42, '_timesteps_total': None, '_time_total': 60.61229848861694, '_episodes_total': None}\n",
            "\u001b[2m\u001b[36m(func pid=245736)\u001b[0m 2022-07-26 14:14:16,820\tINFO trainable.py:589 -- Restored on 172.28.0.2 from checkpoint: /root/ray_results/trainable_func_2022-07-26_14-11-15/trainable_func_cfddfd3a_4_act1=tanh,act2=selu,act3=tanh,batch_size=32,hidden_dim1=165.0000,hidden_dim2=210.0000,hidden_dim3=300.00_2022-07-26_14-11-15/checkpoint_tmp189494/./\n",
            "\u001b[2m\u001b[36m(func pid=245736)\u001b[0m 2022-07-26 14:14:16,821\tINFO trainable.py:597 -- Current state after restoring: {'_iteration': 36, '_timesteps_total': None, '_time_total': 70.0184235572815, '_episodes_total': None}\n",
            "\u001b[2m\u001b[36m(func pid=245807)\u001b[0m 2022-07-26 14:14:17,473\tINFO trainable.py:589 -- Restored on 172.28.0.2 from checkpoint: /root/ray_results/trainable_func_2022-07-26_14-11-15/trainable_func_cfa7bf40_1_act1=tanh,act2=selu,act3=relu,batch_size=32,hidden_dim1=165.0000,hidden_dim2=300.0000,hidden_dim3=225.00_2022-07-26_14-11-15/checkpoint_tmp39ff72/./\n",
            "\u001b[2m\u001b[36m(func pid=245807)\u001b[0m 2022-07-26 14:14:17,474\tINFO trainable.py:597 -- Current state after restoring: {'_iteration': 39, '_timesteps_total': None, '_time_total': 81.72584271430969, '_episodes_total': None}\n",
            "\u001b[2m\u001b[36m(func pid=245777)\u001b[0m 2022-07-26 14:14:18,222\tINFO trainable.py:589 -- Restored on 172.28.0.2 from checkpoint: /root/ray_results/trainable_func_2022-07-26_14-11-15/trainable_func_cfd5408c_3_act1=relu,act2=selu,act3=tanh,batch_size=32,hidden_dim1=135.0000,hidden_dim2=315.0000,hidden_dim3=165.00_2022-07-26_14-11-15/checkpoint_tmp35dd71/./\n",
            "\u001b[2m\u001b[36m(func pid=245777)\u001b[0m 2022-07-26 14:14:18,222\tINFO trainable.py:597 -- Current state after restoring: {'_iteration': 37, '_timesteps_total': None, '_time_total': 73.8400764465332, '_episodes_total': None}\n"
          ]
        },
        {
          "output_type": "stream",
          "name": "stdout",
          "text": [
            "Trial trainable_func_cfddfd3a reported epoch=0,loss=0.05954311276378307,should_checkpoint=True with parameters={'act1 ': 'tanh', 'act2': 'selu', 'act3': 'tanh', 'lr': 0.0006000000000000001, 'batch_size': 32, 'hidden_dim1': 165.0, 'hidden_dim2': 210.0, 'hidden_dim3': 300.0}.\n"
          ]
        },
        {
          "output_type": "stream",
          "name": "stderr",
          "text": [
            "\u001b[2m\u001b[36m(func pid=245735)\u001b[0m 2022-07-26 14:14:18,923\tINFO trainable.py:589 -- Restored on 172.28.0.2 from checkpoint: /root/ray_results/trainable_func_2022-07-26_14-11-15/trainable_func_cfcb9fe6_2_act1=relu,act2=tanh,act3=selu,batch_size=64,hidden_dim1=195.0000,hidden_dim2=285.0000,hidden_dim3=255.00_2022-07-26_14-11-15/checkpoint_tmpf10402/./\n",
            "\u001b[2m\u001b[36m(func pid=245735)\u001b[0m 2022-07-26 14:14:18,923\tINFO trainable.py:597 -- Current state after restoring: {'_iteration': 43, '_timesteps_total': None, '_time_total': 61.922910928726196, '_episodes_total': None}\n"
          ]
        },
        {
          "output_type": "stream",
          "name": "stdout",
          "text": [
            "Trial trainable_func_cfa7bf40 reported epoch=0,loss=0.05298180100627408,should_checkpoint=True with parameters={'act1 ': 'tanh', 'act2': 'selu', 'act3': 'relu', 'lr': 0.0007, 'batch_size': 32, 'hidden_dim1': 165.0, 'hidden_dim2': 300.0, 'hidden_dim3': 225.0}.\n"
          ]
        },
        {
          "output_type": "stream",
          "name": "stderr",
          "text": [
            "\u001b[2m\u001b[36m(func pid=245736)\u001b[0m 2022-07-26 14:14:19,494\tINFO trainable.py:589 -- Restored on 172.28.0.2 from checkpoint: /root/ray_results/trainable_func_2022-07-26_14-11-15/trainable_func_cfddfd3a_4_act1=tanh,act2=selu,act3=tanh,batch_size=32,hidden_dim1=165.0000,hidden_dim2=210.0000,hidden_dim3=300.00_2022-07-26_14-11-15/checkpoint_tmp83fbda/./\n",
            "\u001b[2m\u001b[36m(func pid=245736)\u001b[0m 2022-07-26 14:14:19,494\tINFO trainable.py:597 -- Current state after restoring: {'_iteration': 37, '_timesteps_total': None, '_time_total': 71.94424891471863, '_episodes_total': None}\n",
            "\u001b[2m\u001b[36m(func pid=245807)\u001b[0m 2022-07-26 14:14:20,183\tINFO trainable.py:589 -- Restored on 172.28.0.2 from checkpoint: /root/ray_results/trainable_func_2022-07-26_14-11-15/trainable_func_cfa7bf40_1_act1=tanh,act2=selu,act3=relu,batch_size=32,hidden_dim1=165.0000,hidden_dim2=300.0000,hidden_dim3=225.00_2022-07-26_14-11-15/checkpoint_tmpd98537/./\n",
            "\u001b[2m\u001b[36m(func pid=245807)\u001b[0m 2022-07-26 14:14:20,183\tINFO trainable.py:597 -- Current state after restoring: {'_iteration': 40, '_timesteps_total': None, '_time_total': 83.27481245994568, '_episodes_total': None}\n",
            "\u001b[2m\u001b[36m(func pid=245777)\u001b[0m 2022-07-26 14:14:20,633\tINFO trainable.py:589 -- Restored on 172.28.0.2 from checkpoint: /root/ray_results/trainable_func_2022-07-26_14-11-15/trainable_func_cfd5408c_3_act1=relu,act2=selu,act3=tanh,batch_size=32,hidden_dim1=135.0000,hidden_dim2=315.0000,hidden_dim3=165.00_2022-07-26_14-11-15/checkpoint_tmp75fa7e/./\n",
            "\u001b[2m\u001b[36m(func pid=245777)\u001b[0m 2022-07-26 14:14:20,633\tINFO trainable.py:597 -- Current state after restoring: {'_iteration': 38, '_timesteps_total': None, '_time_total': 75.47567892074585, '_episodes_total': None}\n"
          ]
        },
        {
          "output_type": "stream",
          "name": "stdout",
          "text": [
            "== Status ==\n",
            "Current time: 2022-07-26 14:14:21 (running for 00:03:05.86)\n",
            "Memory usage on this node: 2.4/12.7 GiB\n",
            "Using MedianStoppingRule: num_stopped=0.\n",
            "Resources requested: 1.5/2 CPUs, 0/0 GPUs, 0.0/7.47 GiB heap, 0.0/3.73 GiB objects\n",
            "Result logdir: /root/ray_results/trainable_func_2022-07-26_14-11-15\n",
            "Number of trials: 10/50 (7 PAUSED, 3 RUNNING)\n",
            "\n",
            "\n"
          ]
        },
        {
          "output_type": "stream",
          "name": "stderr",
          "text": [
            "\u001b[2m\u001b[36m(func pid=245735)\u001b[0m 2022-07-26 14:14:21,304\tINFO trainable.py:589 -- Restored on 172.28.0.2 from checkpoint: /root/ray_results/trainable_func_2022-07-26_14-11-15/trainable_func_cfcb9fe6_2_act1=relu,act2=tanh,act3=selu,batch_size=64,hidden_dim1=195.0000,hidden_dim2=285.0000,hidden_dim3=255.00_2022-07-26_14-11-15/checkpoint_tmp424aaf/./\n",
            "\u001b[2m\u001b[36m(func pid=245735)\u001b[0m 2022-07-26 14:14:21,305\tINFO trainable.py:597 -- Current state after restoring: {'_iteration': 44, '_timesteps_total': None, '_time_total': 63.18630933761597, '_episodes_total': None}\n",
            "\u001b[2m\u001b[36m(func pid=245736)\u001b[0m 2022-07-26 14:14:22,048\tINFO trainable.py:589 -- Restored on 172.28.0.2 from checkpoint: /root/ray_results/trainable_func_2022-07-26_14-11-15/trainable_func_cfddfd3a_4_act1=tanh,act2=selu,act3=tanh,batch_size=32,hidden_dim1=165.0000,hidden_dim2=210.0000,hidden_dim3=300.00_2022-07-26_14-11-15/checkpoint_tmpab3c5d/./\n",
            "\u001b[2m\u001b[36m(func pid=245736)\u001b[0m 2022-07-26 14:14:22,048\tINFO trainable.py:597 -- Current state after restoring: {'_iteration': 38, '_timesteps_total': None, '_time_total': 73.45064997673035, '_episodes_total': None}\n"
          ]
        },
        {
          "output_type": "stream",
          "name": "stdout",
          "text": [
            "Trial trainable_func_cfd5408c reported epoch=0,loss=0.07231596410267063,should_checkpoint=True with parameters={'act1 ': 'relu', 'act2': 'selu', 'act3': 'tanh', 'lr': 0.0006000000000000001, 'batch_size': 32, 'hidden_dim1': 135.0, 'hidden_dim2': 315.0, 'hidden_dim3': 165.0}.\n"
          ]
        },
        {
          "output_type": "stream",
          "name": "stderr",
          "text": [
            "\u001b[2m\u001b[36m(func pid=245807)\u001b[0m 2022-07-26 14:14:22,672\tINFO trainable.py:589 -- Restored on 172.28.0.2 from checkpoint: /root/ray_results/trainable_func_2022-07-26_14-11-15/trainable_func_cfa7bf40_1_act1=tanh,act2=selu,act3=relu,batch_size=32,hidden_dim1=165.0000,hidden_dim2=300.0000,hidden_dim3=225.00_2022-07-26_14-11-15/checkpoint_tmpa29183/./\n",
            "\u001b[2m\u001b[36m(func pid=245807)\u001b[0m 2022-07-26 14:14:22,672\tINFO trainable.py:597 -- Current state after restoring: {'_iteration': 41, '_timesteps_total': None, '_time_total': 85.15888953208923, '_episodes_total': None}\n"
          ]
        },
        {
          "output_type": "stream",
          "name": "stdout",
          "text": [
            "Trial trainable_func_cfcb9fe6 reported epoch=0,loss=0.07385266491461216,should_checkpoint=True with parameters={'act1 ': 'relu', 'act2': 'tanh', 'act3': 'selu', 'lr': 0.0005, 'batch_size': 64, 'hidden_dim1': 195.0, 'hidden_dim2': 285.0, 'hidden_dim3': 255.0}.\n"
          ]
        },
        {
          "output_type": "stream",
          "name": "stderr",
          "text": [
            "\u001b[2m\u001b[36m(func pid=245777)\u001b[0m 2022-07-26 14:14:23,310\tINFO trainable.py:589 -- Restored on 172.28.0.2 from checkpoint: /root/ray_results/trainable_func_2022-07-26_14-11-15/trainable_func_cfd5408c_3_act1=relu,act2=selu,act3=tanh,batch_size=32,hidden_dim1=135.0000,hidden_dim2=315.0000,hidden_dim3=165.00_2022-07-26_14-11-15/checkpoint_tmpfbd722/./\n",
            "\u001b[2m\u001b[36m(func pid=245777)\u001b[0m 2022-07-26 14:14:23,310\tINFO trainable.py:597 -- Current state after restoring: {'_iteration': 39, '_timesteps_total': None, '_time_total': 77.08169794082642, '_episodes_total': None}\n"
          ]
        },
        {
          "output_type": "stream",
          "name": "stdout",
          "text": [
            "Trial trainable_func_cfddfd3a reported epoch=0,loss=0.0804094743786853,should_checkpoint=True with parameters={'act1 ': 'tanh', 'act2': 'selu', 'act3': 'tanh', 'lr': 0.0006000000000000001, 'batch_size': 32, 'hidden_dim1': 165.0, 'hidden_dim2': 210.0, 'hidden_dim3': 300.0}.\n"
          ]
        },
        {
          "output_type": "stream",
          "name": "stderr",
          "text": [
            "\u001b[2m\u001b[36m(func pid=245735)\u001b[0m 2022-07-26 14:14:23,904\tINFO trainable.py:589 -- Restored on 172.28.0.2 from checkpoint: /root/ray_results/trainable_func_2022-07-26_14-11-15/trainable_func_cfcb9fe6_2_act1=relu,act2=tanh,act3=selu,batch_size=64,hidden_dim1=195.0000,hidden_dim2=285.0000,hidden_dim3=255.00_2022-07-26_14-11-15/checkpoint_tmp0e2e36/./\n",
            "\u001b[2m\u001b[36m(func pid=245735)\u001b[0m 2022-07-26 14:14:23,904\tINFO trainable.py:597 -- Current state after restoring: {'_iteration': 45, '_timesteps_total': None, '_time_total': 64.64224195480347, '_episodes_total': None}\n"
          ]
        },
        {
          "output_type": "stream",
          "name": "stdout",
          "text": [
            "Trial trainable_func_cfa7bf40 reported epoch=0,loss=0.06625423795882598,should_checkpoint=True with parameters={'act1 ': 'tanh', 'act2': 'selu', 'act3': 'relu', 'lr': 0.0007, 'batch_size': 32, 'hidden_dim1': 165.0, 'hidden_dim2': 300.0, 'hidden_dim3': 225.0}.\n"
          ]
        },
        {
          "output_type": "stream",
          "name": "stderr",
          "text": [
            "\u001b[2m\u001b[36m(func pid=245736)\u001b[0m 2022-07-26 14:14:24,627\tINFO trainable.py:589 -- Restored on 172.28.0.2 from checkpoint: /root/ray_results/trainable_func_2022-07-26_14-11-15/trainable_func_cfddfd3a_4_act1=tanh,act2=selu,act3=tanh,batch_size=32,hidden_dim1=165.0000,hidden_dim2=210.0000,hidden_dim3=300.00_2022-07-26_14-11-15/checkpoint_tmp9dfd6a/./\n",
            "\u001b[2m\u001b[36m(func pid=245736)\u001b[0m 2022-07-26 14:14:24,627\tINFO trainable.py:597 -- Current state after restoring: {'_iteration': 39, '_timesteps_total': None, '_time_total': 74.98907995223999, '_episodes_total': None}\n",
            "\u001b[2m\u001b[36m(func pid=245807)\u001b[0m 2022-07-26 14:14:25,127\tINFO trainable.py:589 -- Restored on 172.28.0.2 from checkpoint: /root/ray_results/trainable_func_2022-07-26_14-11-15/trainable_func_cfa7bf40_1_act1=tanh,act2=selu,act3=relu,batch_size=32,hidden_dim1=165.0000,hidden_dim2=300.0000,hidden_dim3=225.00_2022-07-26_14-11-15/checkpoint_tmp2630bc/./\n",
            "\u001b[2m\u001b[36m(func pid=245807)\u001b[0m 2022-07-26 14:14:25,127\tINFO trainable.py:597 -- Current state after restoring: {'_iteration': 42, '_timesteps_total': None, '_time_total': 86.7372419834137, '_episodes_total': None}\n",
            "\u001b[2m\u001b[36m(func pid=245735)\u001b[0m 2022-07-26 14:14:25,636\tINFO trainable.py:589 -- Restored on 172.28.0.2 from checkpoint: /root/ray_results/trainable_func_2022-07-26_14-11-15/trainable_func_cfcb9fe6_2_act1=relu,act2=tanh,act3=selu,batch_size=64,hidden_dim1=195.0000,hidden_dim2=285.0000,hidden_dim3=255.00_2022-07-26_14-11-15/checkpoint_tmp6d5fd4/./\n",
            "\u001b[2m\u001b[36m(func pid=245735)\u001b[0m 2022-07-26 14:14:25,636\tINFO trainable.py:597 -- Current state after restoring: {'_iteration': 46, '_timesteps_total': None, '_time_total': 65.82232284545898, '_episodes_total': None}\n"
          ]
        },
        {
          "output_type": "stream",
          "name": "stdout",
          "text": [
            "== Status ==\n",
            "Current time: 2022-07-26 14:14:26 (running for 00:03:11.00)\n",
            "Memory usage on this node: 2.4/12.7 GiB\n",
            "Using MedianStoppingRule: num_stopped=0.\n",
            "Resources requested: 1.5/2 CPUs, 0/0 GPUs, 0.0/7.47 GiB heap, 0.0/3.73 GiB objects\n",
            "Result logdir: /root/ray_results/trainable_func_2022-07-26_14-11-15\n",
            "Number of trials: 10/50 (7 PAUSED, 3 RUNNING)\n",
            "\n",
            "\n"
          ]
        },
        {
          "output_type": "stream",
          "name": "stderr",
          "text": [
            "\u001b[2m\u001b[36m(func pid=245777)\u001b[0m 2022-07-26 14:14:26,425\tINFO trainable.py:589 -- Restored on 172.28.0.2 from checkpoint: /root/ray_results/trainable_func_2022-07-26_14-11-15/trainable_func_cfd5408c_3_act1=relu,act2=selu,act3=tanh,batch_size=32,hidden_dim1=135.0000,hidden_dim2=315.0000,hidden_dim3=165.00_2022-07-26_14-11-15/checkpoint_tmp5c7b1d/./\n",
            "\u001b[2m\u001b[36m(func pid=245777)\u001b[0m 2022-07-26 14:14:26,425\tINFO trainable.py:597 -- Current state after restoring: {'_iteration': 40, '_timesteps_total': None, '_time_total': 78.46907711029053, '_episodes_total': None}\n",
            "\u001b[2m\u001b[36m(func pid=245736)\u001b[0m 2022-07-26 14:14:26,983\tINFO trainable.py:589 -- Restored on 172.28.0.2 from checkpoint: /root/ray_results/trainable_func_2022-07-26_14-11-15/trainable_func_cfddfd3a_4_act1=tanh,act2=selu,act3=tanh,batch_size=32,hidden_dim1=165.0000,hidden_dim2=210.0000,hidden_dim3=300.00_2022-07-26_14-11-15/checkpoint_tmpf7ebb7/./\n",
            "\u001b[2m\u001b[36m(func pid=245736)\u001b[0m 2022-07-26 14:14:26,984\tINFO trainable.py:597 -- Current state after restoring: {'_iteration': 40, '_timesteps_total': None, '_time_total': 76.57436418533325, '_episodes_total': None}\n",
            "\u001b[2m\u001b[36m(func pid=245807)\u001b[0m 2022-07-26 14:14:27,504\tINFO trainable.py:589 -- Restored on 172.28.0.2 from checkpoint: /root/ray_results/trainable_func_2022-07-26_14-11-15/trainable_func_cfa7bf40_1_act1=tanh,act2=selu,act3=relu,batch_size=32,hidden_dim1=165.0000,hidden_dim2=300.0000,hidden_dim3=225.00_2022-07-26_14-11-15/checkpoint_tmpe047a3/./\n",
            "\u001b[2m\u001b[36m(func pid=245807)\u001b[0m 2022-07-26 14:14:27,504\tINFO trainable.py:597 -- Current state after restoring: {'_iteration': 43, '_timesteps_total': None, '_time_total': 88.34969305992126, '_episodes_total': None}\n",
            "\u001b[2m\u001b[36m(func pid=245735)\u001b[0m 2022-07-26 14:14:28,035\tINFO trainable.py:589 -- Restored on 172.28.0.2 from checkpoint: /root/ray_results/trainable_func_2022-07-26_14-11-15/trainable_func_cfcb9fe6_2_act1=relu,act2=tanh,act3=selu,batch_size=64,hidden_dim1=195.0000,hidden_dim2=285.0000,hidden_dim3=255.00_2022-07-26_14-11-15/checkpoint_tmp91a43f/./\n",
            "\u001b[2m\u001b[36m(func pid=245735)\u001b[0m 2022-07-26 14:14:28,035\tINFO trainable.py:597 -- Current state after restoring: {'_iteration': 47, '_timesteps_total': None, '_time_total': 67.10645937919617, '_episodes_total': None}\n"
          ]
        },
        {
          "output_type": "stream",
          "name": "stdout",
          "text": [
            "Trial trainable_func_cfd5408c reported epoch=0,loss=0.06715501402300735,should_checkpoint=True with parameters={'act1 ': 'relu', 'act2': 'selu', 'act3': 'tanh', 'lr': 0.0006000000000000001, 'batch_size': 32, 'hidden_dim1': 135.0, 'hidden_dim2': 315.0, 'hidden_dim3': 165.0}.\n",
            "Trial trainable_func_cfddfd3a reported epoch=0,loss=0.08501138714665027,should_checkpoint=True with parameters={'act1 ': 'tanh', 'act2': 'selu', 'act3': 'tanh', 'lr': 0.0006000000000000001, 'batch_size': 32, 'hidden_dim1': 165.0, 'hidden_dim2': 210.0, 'hidden_dim3': 300.0}.\n"
          ]
        },
        {
          "output_type": "stream",
          "name": "stderr",
          "text": [
            "\u001b[2m\u001b[36m(func pid=245777)\u001b[0m 2022-07-26 14:14:29,338\tINFO trainable.py:589 -- Restored on 172.28.0.2 from checkpoint: /root/ray_results/trainable_func_2022-07-26_14-11-15/trainable_func_cfd5408c_3_act1=relu,act2=selu,act3=tanh,batch_size=32,hidden_dim1=135.0000,hidden_dim2=315.0000,hidden_dim3=165.00_2022-07-26_14-11-15/checkpoint_tmpd0bbed/./\n",
            "\u001b[2m\u001b[36m(func pid=245777)\u001b[0m 2022-07-26 14:14:29,338\tINFO trainable.py:597 -- Current state after restoring: {'_iteration': 41, '_timesteps_total': None, '_time_total': 80.02035117149353, '_episodes_total': None}\n",
            "\u001b[2m\u001b[36m(func pid=245736)\u001b[0m 2022-07-26 14:14:30,228\tINFO trainable.py:589 -- Restored on 172.28.0.2 from checkpoint: /root/ray_results/trainable_func_2022-07-26_14-11-15/trainable_func_cfddfd3a_4_act1=tanh,act2=selu,act3=tanh,batch_size=32,hidden_dim1=165.0000,hidden_dim2=210.0000,hidden_dim3=300.00_2022-07-26_14-11-15/checkpoint_tmpa36e6b/./\n",
            "\u001b[2m\u001b[36m(func pid=245736)\u001b[0m 2022-07-26 14:14:30,228\tINFO trainable.py:597 -- Current state after restoring: {'_iteration': 41, '_timesteps_total': None, '_time_total': 78.7373251914978, '_episodes_total': None}\n"
          ]
        },
        {
          "output_type": "stream",
          "name": "stdout",
          "text": [
            "Trial trainable_func_cfcb9fe6 reported epoch=0,loss=0.04269510750300089,should_checkpoint=True with parameters={'act1 ': 'relu', 'act2': 'tanh', 'act3': 'selu', 'lr': 0.0005, 'batch_size': 64, 'hidden_dim1': 195.0, 'hidden_dim2': 285.0, 'hidden_dim3': 255.0}.\n",
            "Trial trainable_func_cfa7bf40 reported epoch=0,loss=0.050916886782742546,should_checkpoint=True with parameters={'act1 ': 'tanh', 'act2': 'selu', 'act3': 'relu', 'lr': 0.0007, 'batch_size': 32, 'hidden_dim1': 165.0, 'hidden_dim2': 300.0, 'hidden_dim3': 225.0}.\n"
          ]
        },
        {
          "output_type": "stream",
          "name": "stderr",
          "text": [
            "\u001b[2m\u001b[36m(func pid=245735)\u001b[0m 2022-07-26 14:14:31,372\tINFO trainable.py:589 -- Restored on 172.28.0.2 from checkpoint: /root/ray_results/trainable_func_2022-07-26_14-11-15/trainable_func_cfcb9fe6_2_act1=relu,act2=tanh,act3=selu,batch_size=64,hidden_dim1=195.0000,hidden_dim2=285.0000,hidden_dim3=255.00_2022-07-26_14-11-15/checkpoint_tmp6b37bf/./\n",
            "\u001b[2m\u001b[36m(func pid=245735)\u001b[0m 2022-07-26 14:14:31,372\tINFO trainable.py:597 -- Current state after restoring: {'_iteration': 48, '_timesteps_total': None, '_time_total': 69.4668333530426, '_episodes_total': None}\n"
          ]
        },
        {
          "output_type": "stream",
          "name": "stdout",
          "text": [
            "== Status ==\n",
            "Current time: 2022-07-26 14:14:31 (running for 00:03:16.59)\n",
            "Memory usage on this node: 2.4/12.7 GiB\n",
            "Using MedianStoppingRule: num_stopped=0.\n",
            "Resources requested: 1.5/2 CPUs, 0/0 GPUs, 0.0/7.47 GiB heap, 0.0/3.73 GiB objects\n",
            "Result logdir: /root/ray_results/trainable_func_2022-07-26_14-11-15\n",
            "Number of trials: 10/50 (7 PAUSED, 3 RUNNING)\n",
            "\n",
            "\n"
          ]
        },
        {
          "output_type": "stream",
          "name": "stderr",
          "text": [
            "\u001b[2m\u001b[36m(func pid=245807)\u001b[0m 2022-07-26 14:14:32,033\tINFO trainable.py:589 -- Restored on 172.28.0.2 from checkpoint: /root/ray_results/trainable_func_2022-07-26_14-11-15/trainable_func_cfa7bf40_1_act1=tanh,act2=selu,act3=relu,batch_size=32,hidden_dim1=165.0000,hidden_dim2=300.0000,hidden_dim3=225.00_2022-07-26_14-11-15/checkpoint_tmp9806ec/./\n",
            "\u001b[2m\u001b[36m(func pid=245807)\u001b[0m 2022-07-26 14:14:32,033\tINFO trainable.py:597 -- Current state after restoring: {'_iteration': 44, '_timesteps_total': None, '_time_total': 91.48206877708435, '_episodes_total': None}\n",
            "\u001b[2m\u001b[36m(func pid=245777)\u001b[0m 2022-07-26 14:14:32,596\tINFO trainable.py:589 -- Restored on 172.28.0.2 from checkpoint: /root/ray_results/trainable_func_2022-07-26_14-11-15/trainable_func_cfd5408c_3_act1=relu,act2=selu,act3=tanh,batch_size=32,hidden_dim1=135.0000,hidden_dim2=315.0000,hidden_dim3=165.00_2022-07-26_14-11-15/checkpoint_tmp3eb04d/./\n",
            "\u001b[2m\u001b[36m(func pid=245777)\u001b[0m 2022-07-26 14:14:32,596\tINFO trainable.py:597 -- Current state after restoring: {'_iteration': 42, '_timesteps_total': None, '_time_total': 82.69181418418884, '_episodes_total': None}\n",
            "\u001b[2m\u001b[36m(func pid=245736)\u001b[0m 2022-07-26 14:14:33,298\tINFO trainable.py:589 -- Restored on 172.28.0.2 from checkpoint: /root/ray_results/trainable_func_2022-07-26_14-11-15/trainable_func_cfddfd3a_4_act1=tanh,act2=selu,act3=tanh,batch_size=32,hidden_dim1=165.0000,hidden_dim2=210.0000,hidden_dim3=300.00_2022-07-26_14-11-15/checkpoint_tmp95cd5f/./\n",
            "\u001b[2m\u001b[36m(func pid=245736)\u001b[0m 2022-07-26 14:14:33,298\tINFO trainable.py:597 -- Current state after restoring: {'_iteration': 42, '_timesteps_total': None, '_time_total': 81.32739329338074, '_episodes_total': None}\n",
            "\u001b[2m\u001b[36m(func pid=245735)\u001b[0m 2022-07-26 14:14:33,976\tINFO trainable.py:589 -- Restored on 172.28.0.2 from checkpoint: /root/ray_results/trainable_func_2022-07-26_14-11-15/trainable_func_cfcb9fe6_2_act1=relu,act2=tanh,act3=selu,batch_size=64,hidden_dim1=195.0000,hidden_dim2=285.0000,hidden_dim3=255.00_2022-07-26_14-11-15/checkpoint_tmpd35612/./\n",
            "\u001b[2m\u001b[36m(func pid=245735)\u001b[0m 2022-07-26 14:14:33,976\tINFO trainable.py:597 -- Current state after restoring: {'_iteration': 49, '_timesteps_total': None, '_time_total': 71.03998303413391, '_episodes_total': None}\n"
          ]
        },
        {
          "output_type": "stream",
          "name": "stdout",
          "text": [
            "Trial trainable_func_cfd5408c reported epoch=0,loss=0.07115947064214648,should_checkpoint=True with parameters={'act1 ': 'relu', 'act2': 'selu', 'act3': 'tanh', 'lr': 0.0006000000000000001, 'batch_size': 32, 'hidden_dim1': 135.0, 'hidden_dim2': 315.0, 'hidden_dim3': 165.0}.\n"
          ]
        },
        {
          "output_type": "stream",
          "name": "stderr",
          "text": [
            "\u001b[2m\u001b[36m(func pid=245807)\u001b[0m 2022-07-26 14:14:34,659\tINFO trainable.py:589 -- Restored on 172.28.0.2 from checkpoint: /root/ray_results/trainable_func_2022-07-26_14-11-15/trainable_func_cfa7bf40_1_act1=tanh,act2=selu,act3=relu,batch_size=32,hidden_dim1=165.0000,hidden_dim2=300.0000,hidden_dim3=225.00_2022-07-26_14-11-15/checkpoint_tmpbcf504/./\n",
            "\u001b[2m\u001b[36m(func pid=245807)\u001b[0m 2022-07-26 14:14:34,660\tINFO trainable.py:597 -- Current state after restoring: {'_iteration': 45, '_timesteps_total': None, '_time_total': 93.49432015419006, '_episodes_total': None}\n"
          ]
        },
        {
          "output_type": "stream",
          "name": "stdout",
          "text": [
            "Trial trainable_func_cfddfd3a reported epoch=0,loss=0.05679609606945729,should_checkpoint=True with parameters={'act1 ': 'tanh', 'act2': 'selu', 'act3': 'tanh', 'lr': 0.0006000000000000001, 'batch_size': 32, 'hidden_dim1': 165.0, 'hidden_dim2': 210.0, 'hidden_dim3': 300.0}.\n"
          ]
        },
        {
          "output_type": "stream",
          "name": "stderr",
          "text": [
            "\u001b[2m\u001b[36m(func pid=245777)\u001b[0m 2022-07-26 14:14:35,321\tINFO trainable.py:589 -- Restored on 172.28.0.2 from checkpoint: /root/ray_results/trainable_func_2022-07-26_14-11-15/trainable_func_cfd5408c_3_act1=relu,act2=selu,act3=tanh,batch_size=32,hidden_dim1=135.0000,hidden_dim2=315.0000,hidden_dim3=165.00_2022-07-26_14-11-15/checkpoint_tmp9482e7/./\n",
            "\u001b[2m\u001b[36m(func pid=245777)\u001b[0m 2022-07-26 14:14:35,321\tINFO trainable.py:597 -- Current state after restoring: {'_iteration': 43, '_timesteps_total': None, '_time_total': 84.44598054885864, '_episodes_total': None}\n",
            "\u001b[2m\u001b[36m(func pid=245736)\u001b[0m 2022-07-26 14:14:35,910\tINFO trainable.py:589 -- Restored on 172.28.0.2 from checkpoint: /root/ray_results/trainable_func_2022-07-26_14-11-15/trainable_func_cfddfd3a_4_act1=tanh,act2=selu,act3=tanh,batch_size=32,hidden_dim1=165.0000,hidden_dim2=210.0000,hidden_dim3=300.00_2022-07-26_14-11-15/checkpoint_tmp0abaa9/./\n",
            "\u001b[2m\u001b[36m(func pid=245736)\u001b[0m 2022-07-26 14:14:35,911\tINFO trainable.py:597 -- Current state after restoring: {'_iteration': 43, '_timesteps_total': None, '_time_total': 83.18778657913208, '_episodes_total': None}\n"
          ]
        },
        {
          "output_type": "stream",
          "name": "stdout",
          "text": [
            "Trial trainable_func_cfcb9fe6 reported epoch=0,loss=0.05165625542866984,should_checkpoint=True with parameters={'act1 ': 'relu', 'act2': 'tanh', 'act3': 'selu', 'lr': 0.0005, 'batch_size': 64, 'hidden_dim1': 195.0, 'hidden_dim2': 285.0, 'hidden_dim3': 255.0}. This trial completed.\n",
            "Trial trainable_func_cfa7bf40 reported epoch=0,loss=0.044094885938835676,should_checkpoint=True with parameters={'act1 ': 'tanh', 'act2': 'selu', 'act3': 'relu', 'lr': 0.0007, 'batch_size': 32, 'hidden_dim1': 165.0, 'hidden_dim2': 300.0, 'hidden_dim3': 225.0}.\n",
            "== Status ==\n",
            "Current time: 2022-07-26 14:14:37 (running for 00:03:21.84)\n",
            "Memory usage on this node: 2.4/12.7 GiB\n",
            "Using MedianStoppingRule: num_stopped=0.\n",
            "Resources requested: 1.5/2 CPUs, 0/0 GPUs, 0.0/7.47 GiB heap, 0.0/3.73 GiB objects\n",
            "Result logdir: /root/ray_results/trainable_func_2022-07-26_14-11-15\n",
            "Number of trials: 11/50 (7 PAUSED, 3 RUNNING, 1 TERMINATED)\n",
            "\n",
            "\n",
            "Trial trainable_func_472bd182 reported epoch=0,loss=1.0609752575308729,should_checkpoint=True with parameters={'act1 ': 'relu', 'act2': 'tanh', 'act3': 'relu', 'lr': 0.0007, 'batch_size': 64, 'hidden_dim1': 135.0, 'hidden_dim2': 165.0, 'hidden_dim3': 210.0}.\n"
          ]
        },
        {
          "output_type": "stream",
          "name": "stderr",
          "text": [
            "\u001b[2m\u001b[36m(func pid=245807)\u001b[0m 2022-07-26 14:14:37,277\tINFO trainable.py:589 -- Restored on 172.28.0.2 from checkpoint: /root/ray_results/trainable_func_2022-07-26_14-11-15/trainable_func_cfa7bf40_1_act1=tanh,act2=selu,act3=relu,batch_size=32,hidden_dim1=165.0000,hidden_dim2=300.0000,hidden_dim3=225.00_2022-07-26_14-11-15/checkpoint_tmpf69e50/./\n",
            "\u001b[2m\u001b[36m(func pid=245807)\u001b[0m 2022-07-26 14:14:37,277\tINFO trainable.py:597 -- Current state after restoring: {'_iteration': 46, '_timesteps_total': None, '_time_total': 95.38061118125916, '_episodes_total': None}\n",
            "\u001b[2m\u001b[36m(func pid=245777)\u001b[0m 2022-07-26 14:14:37,781\tINFO trainable.py:589 -- Restored on 172.28.0.2 from checkpoint: /root/ray_results/trainable_func_2022-07-26_14-11-15/trainable_func_cfd5408c_3_act1=relu,act2=selu,act3=tanh,batch_size=32,hidden_dim1=135.0000,hidden_dim2=315.0000,hidden_dim3=165.00_2022-07-26_14-11-15/checkpoint_tmpd3193c/./\n",
            "\u001b[2m\u001b[36m(func pid=245777)\u001b[0m 2022-07-26 14:14:37,782\tINFO trainable.py:597 -- Current state after restoring: {'_iteration': 44, '_timesteps_total': None, '_time_total': 86.20680785179138, '_episodes_total': None}\n",
            "\u001b[2m\u001b[36m(func pid=245736)\u001b[0m 2022-07-26 14:14:38,585\tINFO trainable.py:589 -- Restored on 172.28.0.2 from checkpoint: /root/ray_results/trainable_func_2022-07-26_14-11-15/trainable_func_cfddfd3a_4_act1=tanh,act2=selu,act3=tanh,batch_size=32,hidden_dim1=165.0000,hidden_dim2=210.0000,hidden_dim3=300.00_2022-07-26_14-11-15/checkpoint_tmp652019/./\n",
            "\u001b[2m\u001b[36m(func pid=245736)\u001b[0m 2022-07-26 14:14:38,586\tINFO trainable.py:597 -- Current state after restoring: {'_iteration': 44, '_timesteps_total': None, '_time_total': 84.98966884613037, '_episodes_total': None}\n",
            "\u001b[2m\u001b[36m(func pid=245807)\u001b[0m 2022-07-26 14:14:39,743\tINFO trainable.py:589 -- Restored on 172.28.0.2 from checkpoint: /root/ray_results/trainable_func_2022-07-26_14-11-15/trainable_func_cfa7bf40_1_act1=tanh,act2=selu,act3=relu,batch_size=32,hidden_dim1=165.0000,hidden_dim2=300.0000,hidden_dim3=225.00_2022-07-26_14-11-15/checkpoint_tmp5f6dba/./\n",
            "\u001b[2m\u001b[36m(func pid=245807)\u001b[0m 2022-07-26 14:14:39,743\tINFO trainable.py:597 -- Current state after restoring: {'_iteration': 47, '_timesteps_total': None, '_time_total': 97.21127367019653, '_episodes_total': None}\n"
          ]
        },
        {
          "output_type": "stream",
          "name": "stdout",
          "text": [
            "Trial trainable_func_cfd5408c reported epoch=0,loss=0.07313364821643666,should_checkpoint=True with parameters={'act1 ': 'relu', 'act2': 'selu', 'act3': 'tanh', 'lr': 0.0006000000000000001, 'batch_size': 32, 'hidden_dim1': 135.0, 'hidden_dim2': 315.0, 'hidden_dim3': 165.0}.\n",
            "Trial trainable_func_cfddfd3a reported epoch=0,loss=0.05530947451577794,should_checkpoint=True with parameters={'act1 ': 'tanh', 'act2': 'selu', 'act3': 'tanh', 'lr': 0.0006000000000000001, 'batch_size': 32, 'hidden_dim1': 165.0, 'hidden_dim2': 210.0, 'hidden_dim3': 300.0}.\n"
          ]
        },
        {
          "output_type": "stream",
          "name": "stderr",
          "text": [
            "\u001b[2m\u001b[36m(func pid=245777)\u001b[0m 2022-07-26 14:14:40,513\tINFO trainable.py:589 -- Restored on 172.28.0.2 from checkpoint: /root/ray_results/trainable_func_2022-07-26_14-11-15/trainable_func_cfd5408c_3_act1=relu,act2=selu,act3=tanh,batch_size=32,hidden_dim1=135.0000,hidden_dim2=315.0000,hidden_dim3=165.00_2022-07-26_14-11-15/checkpoint_tmp67f671/./\n",
            "\u001b[2m\u001b[36m(func pid=245777)\u001b[0m 2022-07-26 14:14:40,513\tINFO trainable.py:597 -- Current state after restoring: {'_iteration': 45, '_timesteps_total': None, '_time_total': 88.4748010635376, '_episodes_total': None}\n",
            "\u001b[2m\u001b[36m(func pid=245736)\u001b[0m 2022-07-26 14:14:41,010\tINFO trainable.py:589 -- Restored on 172.28.0.2 from checkpoint: /root/ray_results/trainable_func_2022-07-26_14-11-15/trainable_func_cfddfd3a_4_act1=tanh,act2=selu,act3=tanh,batch_size=32,hidden_dim1=165.0000,hidden_dim2=210.0000,hidden_dim3=300.00_2022-07-26_14-11-15/checkpoint_tmp5ff1d7/./\n",
            "\u001b[2m\u001b[36m(func pid=245736)\u001b[0m 2022-07-26 14:14:41,020\tINFO trainable.py:597 -- Current state after restoring: {'_iteration': 45, '_timesteps_total': None, '_time_total': 86.72678565979004, '_episodes_total': None}\n"
          ]
        },
        {
          "output_type": "stream",
          "name": "stdout",
          "text": [
            "Trial trainable_func_cfa7bf40 reported epoch=0,loss=0.043762114285114485,should_checkpoint=True with parameters={'act1 ': 'tanh', 'act2': 'selu', 'act3': 'relu', 'lr': 0.0007, 'batch_size': 32, 'hidden_dim1': 165.0, 'hidden_dim2': 300.0, 'hidden_dim3': 225.0}.\n",
            "== Status ==\n",
            "Current time: 2022-07-26 14:14:42 (running for 00:03:26.91)\n",
            "Memory usage on this node: 2.4/12.7 GiB\n",
            "Using MedianStoppingRule: num_stopped=0.\n",
            "Resources requested: 1.5/2 CPUs, 0/0 GPUs, 0.0/7.47 GiB heap, 0.0/3.73 GiB objects\n",
            "Result logdir: /root/ray_results/trainable_func_2022-07-26_14-11-15\n",
            "Number of trials: 11/50 (7 PAUSED, 3 RUNNING, 1 TERMINATED)\n",
            "\n",
            "\n"
          ]
        },
        {
          "output_type": "stream",
          "name": "stderr",
          "text": [
            "\u001b[2m\u001b[36m(func pid=245807)\u001b[0m 2022-07-26 14:14:42,344\tINFO trainable.py:589 -- Restored on 172.28.0.2 from checkpoint: /root/ray_results/trainable_func_2022-07-26_14-11-15/trainable_func_cfa7bf40_1_act1=tanh,act2=selu,act3=relu,batch_size=32,hidden_dim1=165.0000,hidden_dim2=300.0000,hidden_dim3=225.00_2022-07-26_14-11-15/checkpoint_tmp9b439e/./\n",
            "\u001b[2m\u001b[36m(func pid=245807)\u001b[0m 2022-07-26 14:14:42,345\tINFO trainable.py:597 -- Current state after restoring: {'_iteration': 48, '_timesteps_total': None, '_time_total': 99.14009356498718, '_episodes_total': None}\n",
            "\u001b[2m\u001b[36m(func pid=245777)\u001b[0m 2022-07-26 14:14:42,866\tINFO trainable.py:589 -- Restored on 172.28.0.2 from checkpoint: /root/ray_results/trainable_func_2022-07-26_14-11-15/trainable_func_cfd5408c_3_act1=relu,act2=selu,act3=tanh,batch_size=32,hidden_dim1=135.0000,hidden_dim2=315.0000,hidden_dim3=165.00_2022-07-26_14-11-15/checkpoint_tmpdbd54b/./\n",
            "\u001b[2m\u001b[36m(func pid=245777)\u001b[0m 2022-07-26 14:14:42,866\tINFO trainable.py:597 -- Current state after restoring: {'_iteration': 46, '_timesteps_total': None, '_time_total': 90.28723764419556, '_episodes_total': None}\n",
            "\u001b[2m\u001b[36m(func pid=245736)\u001b[0m 2022-07-26 14:14:43,409\tINFO trainable.py:589 -- Restored on 172.28.0.2 from checkpoint: /root/ray_results/trainable_func_2022-07-26_14-11-15/trainable_func_cfddfd3a_4_act1=tanh,act2=selu,act3=tanh,batch_size=32,hidden_dim1=165.0000,hidden_dim2=210.0000,hidden_dim3=300.00_2022-07-26_14-11-15/checkpoint_tmp76d07c/./\n",
            "\u001b[2m\u001b[36m(func pid=245736)\u001b[0m 2022-07-26 14:14:43,409\tINFO trainable.py:597 -- Current state after restoring: {'_iteration': 46, '_timesteps_total': None, '_time_total': 88.50805974006653, '_episodes_total': None}\n"
          ]
        },
        {
          "output_type": "stream",
          "name": "stdout",
          "text": [
            "Trial trainable_func_472bd182 reported epoch=3,loss=0.6101676431806325,should_checkpoint=True with parameters={'act1 ': 'relu', 'act2': 'tanh', 'act3': 'relu', 'lr': 0.0007, 'batch_size': 64, 'hidden_dim1': 135.0, 'hidden_dim2': 165.0, 'hidden_dim3': 210.0}.\n"
          ]
        },
        {
          "output_type": "stream",
          "name": "stderr",
          "text": [
            "\u001b[2m\u001b[36m(func pid=245807)\u001b[0m 2022-07-26 14:14:44,584\tINFO trainable.py:589 -- Restored on 172.28.0.2 from checkpoint: /root/ray_results/trainable_func_2022-07-26_14-11-15/trainable_func_cfa7bf40_1_act1=tanh,act2=selu,act3=relu,batch_size=32,hidden_dim1=165.0000,hidden_dim2=300.0000,hidden_dim3=225.00_2022-07-26_14-11-15/checkpoint_tmp0c0503/./\n",
            "\u001b[2m\u001b[36m(func pid=245807)\u001b[0m 2022-07-26 14:14:44,584\tINFO trainable.py:597 -- Current state after restoring: {'_iteration': 49, '_timesteps_total': None, '_time_total': 100.80411791801453, '_episodes_total': None}\n",
            "\u001b[2m\u001b[36m(func pid=245777)\u001b[0m 2022-07-26 14:14:45,200\tINFO trainable.py:589 -- Restored on 172.28.0.2 from checkpoint: /root/ray_results/trainable_func_2022-07-26_14-11-15/trainable_func_cfd5408c_3_act1=relu,act2=selu,act3=tanh,batch_size=32,hidden_dim1=135.0000,hidden_dim2=315.0000,hidden_dim3=165.00_2022-07-26_14-11-15/checkpoint_tmp4d3bc3/./\n",
            "\u001b[2m\u001b[36m(func pid=245777)\u001b[0m 2022-07-26 14:14:45,200\tINFO trainable.py:597 -- Current state after restoring: {'_iteration': 47, '_timesteps_total': None, '_time_total': 91.86166620254517, '_episodes_total': None}\n",
            "\u001b[2m\u001b[36m(func pid=245736)\u001b[0m 2022-07-26 14:14:45,997\tINFO trainable.py:589 -- Restored on 172.28.0.2 from checkpoint: /root/ray_results/trainable_func_2022-07-26_14-11-15/trainable_func_cfddfd3a_4_act1=tanh,act2=selu,act3=tanh,batch_size=32,hidden_dim1=165.0000,hidden_dim2=210.0000,hidden_dim3=300.00_2022-07-26_14-11-15/checkpoint_tmp8dcbd9/./\n",
            "\u001b[2m\u001b[36m(func pid=245736)\u001b[0m 2022-07-26 14:14:45,998\tINFO trainable.py:597 -- Current state after restoring: {'_iteration': 47, '_timesteps_total': None, '_time_total': 90.44825482368469, '_episodes_total': None}\n"
          ]
        },
        {
          "output_type": "stream",
          "name": "stdout",
          "text": [
            "Trial trainable_func_cfa7bf40 reported epoch=0,loss=0.044213939331327085,should_checkpoint=True with parameters={'act1 ': 'tanh', 'act2': 'selu', 'act3': 'relu', 'lr': 0.0007, 'batch_size': 32, 'hidden_dim1': 165.0, 'hidden_dim2': 300.0, 'hidden_dim3': 225.0}. This trial completed.\n",
            "Trial trainable_func_cfd5408c reported epoch=0,loss=0.05409002256993353,should_checkpoint=True with parameters={'act1 ': 'relu', 'act2': 'selu', 'act3': 'tanh', 'lr': 0.0006000000000000001, 'batch_size': 32, 'hidden_dim1': 135.0, 'hidden_dim2': 315.0, 'hidden_dim3': 165.0}.\n",
            "== Status ==\n",
            "Current time: 2022-07-26 14:14:47 (running for 00:03:32.20)\n",
            "Memory usage on this node: 2.4/12.7 GiB\n",
            "Using MedianStoppingRule: num_stopped=0.\n",
            "Resources requested: 1.5/2 CPUs, 0/0 GPUs, 0.0/7.47 GiB heap, 0.0/3.73 GiB objects\n",
            "Result logdir: /root/ray_results/trainable_func_2022-07-26_14-11-15\n",
            "Number of trials: 12/50 (7 PAUSED, 3 RUNNING, 2 TERMINATED)\n",
            "\n",
            "\n"
          ]
        },
        {
          "output_type": "stream",
          "name": "stderr",
          "text": [
            "\u001b[2m\u001b[36m(func pid=245777)\u001b[0m 2022-07-26 14:14:47,625\tINFO trainable.py:589 -- Restored on 172.28.0.2 from checkpoint: /root/ray_results/trainable_func_2022-07-26_14-11-15/trainable_func_cfd5408c_3_act1=relu,act2=selu,act3=tanh,batch_size=32,hidden_dim1=135.0000,hidden_dim2=315.0000,hidden_dim3=165.00_2022-07-26_14-11-15/checkpoint_tmpad7210/./\n",
            "\u001b[2m\u001b[36m(func pid=245777)\u001b[0m 2022-07-26 14:14:47,626\tINFO trainable.py:597 -- Current state after restoring: {'_iteration': 48, '_timesteps_total': None, '_time_total': 93.52798795700073, '_episodes_total': None}\n"
          ]
        },
        {
          "output_type": "stream",
          "name": "stdout",
          "text": [
            "Trial trainable_func_cfddfd3a reported epoch=0,loss=0.04851402463952973,should_checkpoint=True with parameters={'act1 ': 'tanh', 'act2': 'selu', 'act3': 'tanh', 'lr': 0.0006000000000000001, 'batch_size': 32, 'hidden_dim1': 165.0, 'hidden_dim2': 210.0, 'hidden_dim3': 300.0}.\n",
            "Trial trainable_func_4dbcb534 reported epoch=0,loss=0.7148061773021432,should_checkpoint=True with parameters={'act1 ': 'tanh', 'act2': 'tanh', 'act3': 'selu', 'lr': 0.0009000000000000001, 'batch_size': 64, 'hidden_dim1': 210.0, 'hidden_dim2': 300.0, 'hidden_dim3': 300.0}.\n"
          ]
        },
        {
          "output_type": "stream",
          "name": "stderr",
          "text": [
            "\u001b[2m\u001b[36m(func pid=245736)\u001b[0m 2022-07-26 14:14:48,456\tINFO trainable.py:589 -- Restored on 172.28.0.2 from checkpoint: /root/ray_results/trainable_func_2022-07-26_14-11-15/trainable_func_cfddfd3a_4_act1=tanh,act2=selu,act3=tanh,batch_size=32,hidden_dim1=165.0000,hidden_dim2=210.0000,hidden_dim3=300.00_2022-07-26_14-11-15/checkpoint_tmp226785/./\n",
            "\u001b[2m\u001b[36m(func pid=245736)\u001b[0m 2022-07-26 14:14:48,456\tINFO trainable.py:597 -- Current state after restoring: {'_iteration': 48, '_timesteps_total': None, '_time_total': 92.24705958366394, '_episodes_total': None}\n"
          ]
        },
        {
          "output_type": "stream",
          "name": "stdout",
          "text": [
            "Trial trainable_func_472bd182 reported epoch=7,loss=0.5543452050387533,should_checkpoint=True with parameters={'act1 ': 'relu', 'act2': 'tanh', 'act3': 'relu', 'lr': 0.0007, 'batch_size': 64, 'hidden_dim1': 135.0, 'hidden_dim2': 165.0, 'hidden_dim3': 210.0}.\n"
          ]
        },
        {
          "output_type": "stream",
          "name": "stderr",
          "text": [
            "\u001b[2m\u001b[36m(func pid=245777)\u001b[0m 2022-07-26 14:14:50,187\tINFO trainable.py:589 -- Restored on 172.28.0.2 from checkpoint: /root/ray_results/trainable_func_2022-07-26_14-11-15/trainable_func_cfd5408c_3_act1=relu,act2=selu,act3=tanh,batch_size=32,hidden_dim1=135.0000,hidden_dim2=315.0000,hidden_dim3=165.00_2022-07-26_14-11-15/checkpoint_tmp72cbb1/./\n",
            "\u001b[2m\u001b[36m(func pid=245777)\u001b[0m 2022-07-26 14:14:50,187\tINFO trainable.py:597 -- Current state after restoring: {'_iteration': 49, '_timesteps_total': None, '_time_total': 95.59750533103943, '_episodes_total': None}\n",
            "\u001b[2m\u001b[36m(func pid=245736)\u001b[0m 2022-07-26 14:14:51,116\tINFO trainable.py:589 -- Restored on 172.28.0.2 from checkpoint: /root/ray_results/trainable_func_2022-07-26_14-11-15/trainable_func_cfddfd3a_4_act1=tanh,act2=selu,act3=tanh,batch_size=32,hidden_dim1=165.0000,hidden_dim2=210.0000,hidden_dim3=300.00_2022-07-26_14-11-15/checkpoint_tmpc2cf69/./\n",
            "\u001b[2m\u001b[36m(func pid=245736)\u001b[0m 2022-07-26 14:14:51,116\tINFO trainable.py:597 -- Current state after restoring: {'_iteration': 49, '_timesteps_total': None, '_time_total': 94.26556444168091, '_episodes_total': None}\n"
          ]
        },
        {
          "output_type": "stream",
          "name": "stdout",
          "text": [
            "Trial trainable_func_cfd5408c reported epoch=0,loss=0.06763380370568628,should_checkpoint=True with parameters={'act1 ': 'relu', 'act2': 'selu', 'act3': 'tanh', 'lr': 0.0006000000000000001, 'batch_size': 32, 'hidden_dim1': 135.0, 'hidden_dim2': 315.0, 'hidden_dim3': 165.0}. This trial completed.\n",
            "== Status ==\n",
            "Current time: 2022-07-26 14:14:52 (running for 00:03:37.26)\n",
            "Memory usage on this node: 2.4/12.7 GiB\n",
            "Using MedianStoppingRule: num_stopped=0.\n",
            "Resources requested: 2.0/2 CPUs, 0/0 GPUs, 0.0/7.47 GiB heap, 0.0/3.73 GiB objects\n",
            "Result logdir: /root/ray_results/trainable_func_2022-07-26_14-11-15\n",
            "Number of trials: 13/50 (6 PAUSED, 4 RUNNING, 3 TERMINATED)\n",
            "\n",
            "\n",
            "Trial trainable_func_cfddfd3a reported epoch=0,loss=0.05072826700140728,should_checkpoint=True with parameters={'act1 ': 'tanh', 'act2': 'selu', 'act3': 'tanh', 'lr': 0.0006000000000000001, 'batch_size': 32, 'hidden_dim1': 165.0, 'hidden_dim2': 210.0, 'hidden_dim3': 300.0}. This trial completed.\n"
          ]
        },
        {
          "output_type": "stream",
          "name": "stderr",
          "text": [
            "\u001b[2m\u001b[36m(func pid=245735)\u001b[0m 2022-07-26 14:14:53,268\tINFO trainable.py:589 -- Restored on 172.28.0.2 from checkpoint: /root/ray_results/trainable_func_2022-07-26_14-11-15/trainable_func_cfe888ea_5_act1=tanh,act2=tanh,act3=selu,batch_size=8,hidden_dim1=270.0000,hidden_dim2=300.0000,hidden_dim3=165.000_2022-07-26_14-11-45/checkpoint_tmpd13c6d/./\n",
            "\u001b[2m\u001b[36m(func pid=245735)\u001b[0m 2022-07-26 14:14:53,268\tINFO trainable.py:597 -- Current state after restoring: {'_iteration': 10, '_timesteps_total': None, '_time_total': 81.69387936592102, '_episodes_total': None}\n"
          ]
        },
        {
          "output_type": "stream",
          "name": "stdout",
          "text": [
            "Trial trainable_func_4dbcb534 reported epoch=4,loss=0.5257626705962013,should_checkpoint=True with parameters={'act1 ': 'tanh', 'act2': 'tanh', 'act3': 'selu', 'lr': 0.0009000000000000001, 'batch_size': 64, 'hidden_dim1': 210.0, 'hidden_dim2': 300.0, 'hidden_dim3': 300.0}.\n",
            "Trial trainable_func_51858e7a reported epoch=0,loss=0.7915647185429859,should_checkpoint=True with parameters={'act1 ': 'selu', 'act2': 'relu', 'act3': 'selu', 'lr': 0.0007, 'batch_size': 32, 'hidden_dim1': 210.0, 'hidden_dim2': 150.0, 'hidden_dim3': 300.0}.\n",
            "== Status ==\n",
            "Current time: 2022-07-26 14:14:57 (running for 00:03:42.51)\n",
            "Memory usage on this node: 2.5/12.7 GiB\n",
            "Using MedianStoppingRule: num_stopped=0.\n",
            "Resources requested: 2.0/2 CPUs, 0/0 GPUs, 0.0/7.47 GiB heap, 0.0/3.73 GiB objects\n",
            "Result logdir: /root/ray_results/trainable_func_2022-07-26_14-11-15\n",
            "Number of trials: 14/50 (6 PAUSED, 4 RUNNING, 4 TERMINATED)\n",
            "\n",
            "\n",
            "Trial trainable_func_50cc8af6 reported epoch=0,loss=0.8192405752779011,should_checkpoint=True with parameters={'act1 ': 'tanh', 'act2': 'tanh', 'act3': 'selu', 'lr': 0.0006000000000000001, 'batch_size': 8, 'hidden_dim1': 270.0, 'hidden_dim2': 300.0, 'hidden_dim3': 225.0}.\n",
            "Trial trainable_func_cfe888ea reported epoch=0,loss=0.29736565205081583,should_checkpoint=True with parameters={'act1 ': 'tanh', 'act2': 'tanh', 'act3': 'selu', 'lr': 0.0009000000000000001, 'batch_size': 8, 'hidden_dim1': 270.0, 'hidden_dim2': 300.0, 'hidden_dim3': 165.0}.\n"
          ]
        },
        {
          "output_type": "stream",
          "name": "stderr",
          "text": [
            "\u001b[2m\u001b[36m(func pid=245735)\u001b[0m 2022-07-26 14:15:00,840\tINFO trainable.py:589 -- Restored on 172.28.0.2 from checkpoint: /root/ray_results/trainable_func_2022-07-26_14-11-15/trainable_func_cfe888ea_5_act1=tanh,act2=tanh,act3=selu,batch_size=8,hidden_dim1=270.0000,hidden_dim2=300.0000,hidden_dim3=165.000_2022-07-26_14-11-45/checkpoint_tmpd5b6d1/./\n",
            "\u001b[2m\u001b[36m(func pid=245735)\u001b[0m 2022-07-26 14:15:00,841\tINFO trainable.py:597 -- Current state after restoring: {'_iteration': 11, '_timesteps_total': None, '_time_total': 88.64280033111572, '_episodes_total': None}\n"
          ]
        },
        {
          "output_type": "stream",
          "name": "stdout",
          "text": [
            "Trial trainable_func_4dbcb534 reported epoch=8,loss=0.5319824169801941,should_checkpoint=True with parameters={'act1 ': 'tanh', 'act2': 'tanh', 'act3': 'selu', 'lr': 0.0009000000000000001, 'batch_size': 64, 'hidden_dim1': 210.0, 'hidden_dim2': 300.0, 'hidden_dim3': 300.0}.\n",
            "Trial trainable_func_51858e7a reported epoch=3,loss=0.619246679376211,should_checkpoint=True with parameters={'act1 ': 'selu', 'act2': 'relu', 'act3': 'selu', 'lr': 0.0007, 'batch_size': 32, 'hidden_dim1': 210.0, 'hidden_dim2': 150.0, 'hidden_dim3': 300.0}.\n",
            "== Status ==\n",
            "Current time: 2022-07-26 14:15:03 (running for 00:03:48.37)\n",
            "Memory usage on this node: 2.5/12.7 GiB\n",
            "Using MedianStoppingRule: num_stopped=0.\n",
            "Resources requested: 2.0/2 CPUs, 0/0 GPUs, 0.0/7.47 GiB heap, 0.0/3.73 GiB objects\n",
            "Result logdir: /root/ray_results/trainable_func_2022-07-26_14-11-15\n",
            "Number of trials: 14/50 (6 PAUSED, 4 RUNNING, 4 TERMINATED)\n",
            "\n",
            "\n"
          ]
        },
        {
          "output_type": "stream",
          "name": "stderr",
          "text": [
            "\u001b[2m\u001b[36m(func pid=245807)\u001b[0m 2022-07-26 14:15:04,517\tINFO trainable.py:589 -- Restored on 172.28.0.2 from checkpoint: /root/ray_results/trainable_func_2022-07-26_14-11-15/trainable_func_e1d34c66_6_act1=tanh,act2=relu,act3=tanh,batch_size=32,hidden_dim1=240.0000,hidden_dim2=285.0000,hidden_dim3=285.00_2022-07-26_14-11-55/checkpoint_tmpa6ec07/./\n",
            "\u001b[2m\u001b[36m(func pid=245807)\u001b[0m 2022-07-26 14:15:04,517\tINFO trainable.py:597 -- Current state after restoring: {'_iteration': 10, '_timesteps_total': None, '_time_total': 31.651046752929688, '_episodes_total': None}\n"
          ]
        },
        {
          "output_type": "stream",
          "name": "stdout",
          "text": [
            "Trial trainable_func_51858e7a reported epoch=6,loss=0.5772352317848635,should_checkpoint=True with parameters={'act1 ': 'selu', 'act2': 'relu', 'act3': 'selu', 'lr': 0.0007, 'batch_size': 32, 'hidden_dim1': 210.0, 'hidden_dim2': 150.0, 'hidden_dim3': 300.0}.\n",
            "Trial trainable_func_50cc8af6 reported epoch=1,loss=0.745890779237636,should_checkpoint=True with parameters={'act1 ': 'tanh', 'act2': 'tanh', 'act3': 'selu', 'lr': 0.0006000000000000001, 'batch_size': 8, 'hidden_dim1': 270.0, 'hidden_dim2': 300.0, 'hidden_dim3': 225.0}.\n",
            "Trial trainable_func_e1d34c66 reported epoch=0,loss=0.21714012283775605,should_checkpoint=True with parameters={'act1 ': 'tanh', 'act2': 'relu', 'act3': 'tanh', 'lr': 0.0006000000000000001, 'batch_size': 32, 'hidden_dim1': 240.0, 'hidden_dim2': 285.0, 'hidden_dim3': 285.0}.\n"
          ]
        },
        {
          "output_type": "stream",
          "name": "stderr",
          "text": [
            "\u001b[2m\u001b[36m(func pid=245807)\u001b[0m 2022-07-26 14:15:07,673\tINFO trainable.py:589 -- Restored on 172.28.0.2 from checkpoint: /root/ray_results/trainable_func_2022-07-26_14-11-15/trainable_func_e1d34c66_6_act1=tanh,act2=relu,act3=tanh,batch_size=32,hidden_dim1=240.0000,hidden_dim2=285.0000,hidden_dim3=285.00_2022-07-26_14-11-55/checkpoint_tmp3091f6/./\n",
            "\u001b[2m\u001b[36m(func pid=245807)\u001b[0m 2022-07-26 14:15:07,673\tINFO trainable.py:597 -- Current state after restoring: {'_iteration': 11, '_timesteps_total': None, '_time_total': 33.97953653335571, '_episodes_total': None}\n"
          ]
        },
        {
          "output_type": "stream",
          "name": "stdout",
          "text": [
            "Trial trainable_func_cfe888ea reported epoch=0,loss=0.22583772270727112,should_checkpoint=True with parameters={'act1 ': 'tanh', 'act2': 'tanh', 'act3': 'selu', 'lr': 0.0009000000000000001, 'batch_size': 8, 'hidden_dim1': 270.0, 'hidden_dim2': 300.0, 'hidden_dim3': 165.0}.\n",
            "== Status ==\n",
            "Current time: 2022-07-26 14:15:08 (running for 00:03:53.55)\n",
            "Memory usage on this node: 2.4/12.7 GiB\n",
            "Using MedianStoppingRule: num_stopped=0.\n",
            "Resources requested: 1.5/2 CPUs, 0/0 GPUs, 0.0/7.47 GiB heap, 0.0/3.73 GiB objects\n",
            "Result logdir: /root/ray_results/trainable_func_2022-07-26_14-11-15\n",
            "Number of trials: 14/50 (7 PAUSED, 3 RUNNING, 4 TERMINATED)\n",
            "\n",
            "\n"
          ]
        },
        {
          "output_type": "stream",
          "name": "stderr",
          "text": [
            "\u001b[2m\u001b[36m(func pid=245735)\u001b[0m 2022-07-26 14:15:08,999\tINFO trainable.py:589 -- Restored on 172.28.0.2 from checkpoint: /root/ray_results/trainable_func_2022-07-26_14-11-15/trainable_func_cfe888ea_5_act1=tanh,act2=tanh,act3=selu,batch_size=8,hidden_dim1=270.0000,hidden_dim2=300.0000,hidden_dim3=165.000_2022-07-26_14-11-45/checkpoint_tmp18d361/./\n",
            "\u001b[2m\u001b[36m(func pid=245735)\u001b[0m 2022-07-26 14:15:08,999\tINFO trainable.py:597 -- Current state after restoring: {'_iteration': 12, '_timesteps_total': None, '_time_total': 96.117595911026, '_episodes_total': None}\n",
            "\u001b[2m\u001b[36m(func pid=245807)\u001b[0m 2022-07-26 14:15:10,359\tINFO trainable.py:589 -- Restored on 172.28.0.2 from checkpoint: /root/ray_results/trainable_func_2022-07-26_14-11-15/trainable_func_e1d34c66_6_act1=tanh,act2=relu,act3=tanh,batch_size=32,hidden_dim1=240.0000,hidden_dim2=285.0000,hidden_dim3=285.00_2022-07-26_14-11-55/checkpoint_tmp74eef8/./\n",
            "\u001b[2m\u001b[36m(func pid=245807)\u001b[0m 2022-07-26 14:15:10,359\tINFO trainable.py:597 -- Current state after restoring: {'_iteration': 12, '_timesteps_total': None, '_time_total': 35.9031445980072, '_episodes_total': None}\n"
          ]
        },
        {
          "output_type": "stream",
          "name": "stdout",
          "text": [
            "Trial trainable_func_51858e7a reported epoch=9,loss=0.6359077655621432,should_checkpoint=True with parameters={'act1 ': 'selu', 'act2': 'relu', 'act3': 'selu', 'lr': 0.0007, 'batch_size': 32, 'hidden_dim1': 210.0, 'hidden_dim2': 150.0, 'hidden_dim3': 300.0}. This trial completed.\n",
            "Trial trainable_func_e1d34c66 reported epoch=0,loss=0.13099298734082404,should_checkpoint=True with parameters={'act1 ': 'tanh', 'act2': 'relu', 'act3': 'tanh', 'lr': 0.0006000000000000001, 'batch_size': 32, 'hidden_dim1': 240.0, 'hidden_dim2': 285.0, 'hidden_dim3': 285.0}.\n"
          ]
        },
        {
          "output_type": "stream",
          "name": "stderr",
          "text": [
            "\u001b[2m\u001b[36m(func pid=245807)\u001b[0m 2022-07-26 14:15:13,434\tINFO trainable.py:589 -- Restored on 172.28.0.2 from checkpoint: /root/ray_results/trainable_func_2022-07-26_14-11-15/trainable_func_e1d34c66_6_act1=tanh,act2=relu,act3=tanh,batch_size=32,hidden_dim1=240.0000,hidden_dim2=285.0000,hidden_dim3=285.00_2022-07-26_14-11-55/checkpoint_tmp6a4b7e/./\n",
            "\u001b[2m\u001b[36m(func pid=245807)\u001b[0m 2022-07-26 14:15:13,435\tINFO trainable.py:597 -- Current state after restoring: {'_iteration': 13, '_timesteps_total': None, '_time_total': 38.22444748878479, '_episodes_total': None}\n"
          ]
        },
        {
          "output_type": "stream",
          "name": "stdout",
          "text": [
            "Trial trainable_func_50cc8af6 reported epoch=2,loss=0.6408157005211563,should_checkpoint=True with parameters={'act1 ': 'tanh', 'act2': 'tanh', 'act3': 'selu', 'lr': 0.0006000000000000001, 'batch_size': 8, 'hidden_dim1': 270.0, 'hidden_dim2': 300.0, 'hidden_dim3': 225.0}.\n",
            "== Status ==\n",
            "Current time: 2022-07-26 14:15:15 (running for 00:04:00.27)\n",
            "Memory usage on this node: 2.5/12.7 GiB\n",
            "Using MedianStoppingRule: num_stopped=1.\n",
            "Resources requested: 2.0/2 CPUs, 0/0 GPUs, 0.0/7.47 GiB heap, 0.0/3.73 GiB objects\n",
            "Result logdir: /root/ray_results/trainable_func_2022-07-26_14-11-15\n",
            "Number of trials: 15/50 (6 PAUSED, 4 RUNNING, 5 TERMINATED)\n",
            "\n",
            "\n",
            "Trial trainable_func_cfe888ea reported epoch=0,loss=0.22119743371708256,should_checkpoint=True with parameters={'act1 ': 'tanh', 'act2': 'tanh', 'act3': 'selu', 'lr': 0.0009000000000000001, 'batch_size': 8, 'hidden_dim1': 270.0, 'hidden_dim2': 300.0, 'hidden_dim3': 165.0}.\n"
          ]
        },
        {
          "output_type": "stream",
          "name": "stderr",
          "text": [
            "\u001b[2m\u001b[36m(func pid=245807)\u001b[0m 2022-07-26 14:15:16,254\tINFO trainable.py:589 -- Restored on 172.28.0.2 from checkpoint: /root/ray_results/trainable_func_2022-07-26_14-11-15/trainable_func_e1d34c66_6_act1=tanh,act2=relu,act3=tanh,batch_size=32,hidden_dim1=240.0000,hidden_dim2=285.0000,hidden_dim3=285.00_2022-07-26_14-11-55/checkpoint_tmpadf1e2/./\n",
            "\u001b[2m\u001b[36m(func pid=245807)\u001b[0m 2022-07-26 14:15:16,254\tINFO trainable.py:597 -- Current state after restoring: {'_iteration': 14, '_timesteps_total': None, '_time_total': 40.44403910636902, '_episodes_total': None}\n",
            "\u001b[2m\u001b[36m(func pid=245735)\u001b[0m 2022-07-26 14:15:16,813\tINFO trainable.py:589 -- Restored on 172.28.0.2 from checkpoint: /root/ray_results/trainable_func_2022-07-26_14-11-15/trainable_func_cfe888ea_5_act1=tanh,act2=tanh,act3=selu,batch_size=8,hidden_dim1=270.0000,hidden_dim2=300.0000,hidden_dim3=165.000_2022-07-26_14-11-45/checkpoint_tmpceaf3f/./\n",
            "\u001b[2m\u001b[36m(func pid=245735)\u001b[0m 2022-07-26 14:15:16,813\tINFO trainable.py:597 -- Current state after restoring: {'_iteration': 13, '_timesteps_total': None, '_time_total': 103.26818513870239, '_episodes_total': None}\n"
          ]
        },
        {
          "output_type": "stream",
          "name": "stdout",
          "text": [
            "Trial trainable_func_5d07de74 reported epoch=0,loss=0.6617192643239517,should_checkpoint=True with parameters={'act1 ': 'selu', 'act2': 'tanh', 'act3': 'tanh', 'lr': 0.0008, 'batch_size': 16, 'hidden_dim1': 300.0, 'hidden_dim2': 300.0, 'hidden_dim3': 240.0}.\n",
            "Trial trainable_func_e1d34c66 reported epoch=0,loss=0.1025145993827351,should_checkpoint=True with parameters={'act1 ': 'tanh', 'act2': 'relu', 'act3': 'tanh', 'lr': 0.0006000000000000001, 'batch_size': 32, 'hidden_dim1': 240.0, 'hidden_dim2': 285.0, 'hidden_dim3': 285.0}.\n"
          ]
        },
        {
          "output_type": "stream",
          "name": "stderr",
          "text": [
            "\u001b[2m\u001b[36m(func pid=245807)\u001b[0m 2022-07-26 14:15:19,183\tINFO trainable.py:589 -- Restored on 172.28.0.2 from checkpoint: /root/ray_results/trainable_func_2022-07-26_14-11-15/trainable_func_e1d34c66_6_act1=tanh,act2=relu,act3=tanh,batch_size=32,hidden_dim1=240.0000,hidden_dim2=285.0000,hidden_dim3=285.00_2022-07-26_14-11-55/checkpoint_tmpbe0cc5/./\n",
            "\u001b[2m\u001b[36m(func pid=245807)\u001b[0m 2022-07-26 14:15:19,184\tINFO trainable.py:597 -- Current state after restoring: {'_iteration': 15, '_timesteps_total': None, '_time_total': 42.61027431488037, '_episodes_total': None}\n"
          ]
        },
        {
          "output_type": "stream",
          "name": "stdout",
          "text": [
            "== Status ==\n",
            "Current time: 2022-07-26 14:15:20 (running for 00:04:05.38)\n",
            "Memory usage on this node: 2.5/12.7 GiB\n",
            "Using MedianStoppingRule: num_stopped=1.\n",
            "Resources requested: 2.0/2 CPUs, 0/0 GPUs, 0.0/7.47 GiB heap, 0.0/3.73 GiB objects\n",
            "Result logdir: /root/ray_results/trainable_func_2022-07-26_14-11-15\n",
            "Number of trials: 15/50 (6 PAUSED, 4 RUNNING, 5 TERMINATED)\n",
            "\n",
            "\n",
            "Trial trainable_func_50cc8af6 reported epoch=3,loss=0.6228696879250352,should_checkpoint=True with parameters={'act1 ': 'tanh', 'act2': 'tanh', 'act3': 'selu', 'lr': 0.0006000000000000001, 'batch_size': 8, 'hidden_dim1': 270.0, 'hidden_dim2': 300.0, 'hidden_dim3': 225.0}.\n"
          ]
        },
        {
          "output_type": "stream",
          "name": "stderr",
          "text": [
            "\u001b[2m\u001b[36m(func pid=245807)\u001b[0m 2022-07-26 14:15:22,227\tINFO trainable.py:589 -- Restored on 172.28.0.2 from checkpoint: /root/ray_results/trainable_func_2022-07-26_14-11-15/trainable_func_e1d34c66_6_act1=tanh,act2=relu,act3=tanh,batch_size=32,hidden_dim1=240.0000,hidden_dim2=285.0000,hidden_dim3=285.00_2022-07-26_14-11-55/checkpoint_tmpee78f6/./\n",
            "\u001b[2m\u001b[36m(func pid=245807)\u001b[0m 2022-07-26 14:15:22,227\tINFO trainable.py:597 -- Current state after restoring: {'_iteration': 16, '_timesteps_total': None, '_time_total': 45.04403901100159, '_episodes_total': None}\n"
          ]
        },
        {
          "output_type": "stream",
          "name": "stdout",
          "text": [
            "Trial trainable_func_cfe888ea reported epoch=0,loss=0.17942060452155303,should_checkpoint=True with parameters={'act1 ': 'tanh', 'act2': 'tanh', 'act3': 'selu', 'lr': 0.0009000000000000001, 'batch_size': 8, 'hidden_dim1': 270.0, 'hidden_dim2': 300.0, 'hidden_dim3': 165.0}.\n"
          ]
        },
        {
          "output_type": "stream",
          "name": "stderr",
          "text": [
            "\u001b[2m\u001b[36m(func pid=245735)\u001b[0m 2022-07-26 14:15:24,346\tINFO trainable.py:589 -- Restored on 172.28.0.2 from checkpoint: /root/ray_results/trainable_func_2022-07-26_14-11-15/trainable_func_cfe888ea_5_act1=tanh,act2=tanh,act3=selu,batch_size=8,hidden_dim1=270.0000,hidden_dim2=300.0000,hidden_dim3=165.000_2022-07-26_14-11-45/checkpoint_tmpe9ddf2/./\n",
            "\u001b[2m\u001b[36m(func pid=245735)\u001b[0m 2022-07-26 14:15:24,346\tINFO trainable.py:597 -- Current state after restoring: {'_iteration': 14, '_timesteps_total': None, '_time_total': 110.07019472122192, '_episodes_total': None}\n"
          ]
        },
        {
          "output_type": "stream",
          "name": "stdout",
          "text": [
            "Trial trainable_func_e1d34c66 reported epoch=0,loss=0.07407788453064688,should_checkpoint=True with parameters={'act1 ': 'tanh', 'act2': 'relu', 'act3': 'tanh', 'lr': 0.0006000000000000001, 'batch_size': 32, 'hidden_dim1': 240.0, 'hidden_dim2': 285.0, 'hidden_dim3': 285.0}.\n",
            "Trial trainable_func_5d07de74 reported epoch=2,loss=0.5741011238997243,should_checkpoint=True with parameters={'act1 ': 'selu', 'act2': 'tanh', 'act3': 'tanh', 'lr': 0.0008, 'batch_size': 16, 'hidden_dim1': 300.0, 'hidden_dim2': 300.0, 'hidden_dim3': 240.0}.\n"
          ]
        },
        {
          "output_type": "stream",
          "name": "stderr",
          "text": [
            "\u001b[2m\u001b[36m(func pid=245807)\u001b[0m 2022-07-26 14:15:25,054\tINFO trainable.py:589 -- Restored on 172.28.0.2 from checkpoint: /root/ray_results/trainable_func_2022-07-26_14-11-15/trainable_func_e1d34c66_6_act1=tanh,act2=relu,act3=tanh,batch_size=32,hidden_dim1=240.0000,hidden_dim2=285.0000,hidden_dim3=285.00_2022-07-26_14-11-55/checkpoint_tmp8c12e7/./\n",
            "\u001b[2m\u001b[36m(func pid=245807)\u001b[0m 2022-07-26 14:15:25,054\tINFO trainable.py:597 -- Current state after restoring: {'_iteration': 17, '_timesteps_total': None, '_time_total': 47.37126135826111, '_episodes_total': None}\n"
          ]
        },
        {
          "output_type": "stream",
          "name": "stdout",
          "text": [
            "== Status ==\n",
            "Current time: 2022-07-26 14:15:27 (running for 00:04:12.15)\n",
            "Memory usage on this node: 2.5/12.7 GiB\n",
            "Using MedianStoppingRule: num_stopped=1.\n",
            "Resources requested: 2.0/2 CPUs, 0/0 GPUs, 0.0/7.47 GiB heap, 0.0/3.73 GiB objects\n",
            "Result logdir: /root/ray_results/trainable_func_2022-07-26_14-11-15\n",
            "Number of trials: 15/50 (6 PAUSED, 4 RUNNING, 5 TERMINATED)\n",
            "\n",
            "\n",
            "Trial trainable_func_50cc8af6 reported epoch=4,loss=0.5934069752020613,should_checkpoint=True with parameters={'act1 ': 'tanh', 'act2': 'tanh', 'act3': 'selu', 'lr': 0.0006000000000000001, 'batch_size': 8, 'hidden_dim1': 270.0, 'hidden_dim2': 300.0, 'hidden_dim3': 225.0}.\n"
          ]
        },
        {
          "output_type": "stream",
          "name": "stderr",
          "text": [
            "\u001b[2m\u001b[36m(func pid=245807)\u001b[0m 2022-07-26 14:15:28,308\tINFO trainable.py:589 -- Restored on 172.28.0.2 from checkpoint: /root/ray_results/trainable_func_2022-07-26_14-11-15/trainable_func_e1d34c66_6_act1=tanh,act2=relu,act3=tanh,batch_size=32,hidden_dim1=240.0000,hidden_dim2=285.0000,hidden_dim3=285.00_2022-07-26_14-11-55/checkpoint_tmpadbf87/./\n",
            "\u001b[2m\u001b[36m(func pid=245807)\u001b[0m 2022-07-26 14:15:28,308\tINFO trainable.py:597 -- Current state after restoring: {'_iteration': 18, '_timesteps_total': None, '_time_total': 49.862266302108765, '_episodes_total': None}\n"
          ]
        },
        {
          "output_type": "stream",
          "name": "stdout",
          "text": [
            "Trial trainable_func_e1d34c66 reported epoch=0,loss=0.06693227619852123,should_checkpoint=True with parameters={'act1 ': 'tanh', 'act2': 'relu', 'act3': 'tanh', 'lr': 0.0006000000000000001, 'batch_size': 32, 'hidden_dim1': 240.0, 'hidden_dim2': 285.0, 'hidden_dim3': 285.0}.\n"
          ]
        },
        {
          "output_type": "stream",
          "name": "stderr",
          "text": [
            "\u001b[2m\u001b[36m(func pid=245807)\u001b[0m 2022-07-26 14:15:31,090\tINFO trainable.py:589 -- Restored on 172.28.0.2 from checkpoint: /root/ray_results/trainable_func_2022-07-26_14-11-15/trainable_func_e1d34c66_6_act1=tanh,act2=relu,act3=tanh,batch_size=32,hidden_dim1=240.0000,hidden_dim2=285.0000,hidden_dim3=285.00_2022-07-26_14-11-55/checkpoint_tmp8ecbd9/./\n",
            "\u001b[2m\u001b[36m(func pid=245807)\u001b[0m 2022-07-26 14:15:31,090\tINFO trainable.py:597 -- Current state after restoring: {'_iteration': 19, '_timesteps_total': None, '_time_total': 52.031968116760254, '_episodes_total': None}\n"
          ]
        },
        {
          "output_type": "stream",
          "name": "stdout",
          "text": [
            "Trial trainable_func_cfe888ea reported epoch=0,loss=0.17279792556314955,should_checkpoint=True with parameters={'act1 ': 'tanh', 'act2': 'tanh', 'act3': 'selu', 'lr': 0.0009000000000000001, 'batch_size': 8, 'hidden_dim1': 270.0, 'hidden_dim2': 300.0, 'hidden_dim3': 165.0}.\n"
          ]
        },
        {
          "output_type": "stream",
          "name": "stderr",
          "text": [
            "\u001b[2m\u001b[36m(func pid=245735)\u001b[0m 2022-07-26 14:15:31,893\tINFO trainable.py:589 -- Restored on 172.28.0.2 from checkpoint: /root/ray_results/trainable_func_2022-07-26_14-11-15/trainable_func_cfe888ea_5_act1=tanh,act2=tanh,act3=selu,batch_size=8,hidden_dim1=270.0000,hidden_dim2=300.0000,hidden_dim3=165.000_2022-07-26_14-11-45/checkpoint_tmpe6d628/./\n",
            "\u001b[2m\u001b[36m(func pid=245735)\u001b[0m 2022-07-26 14:15:31,893\tINFO trainable.py:597 -- Current state after restoring: {'_iteration': 15, '_timesteps_total': None, '_time_total': 116.92329144477844, '_episodes_total': None}\n"
          ]
        },
        {
          "output_type": "stream",
          "name": "stdout",
          "text": [
            "== Status ==\n",
            "Current time: 2022-07-26 14:15:33 (running for 00:04:17.88)\n",
            "Memory usage on this node: 2.4/12.7 GiB\n",
            "Using MedianStoppingRule: num_stopped=1.\n",
            "Resources requested: 2.0/2 CPUs, 0/0 GPUs, 0.0/7.47 GiB heap, 0.0/3.73 GiB objects\n",
            "Result logdir: /root/ray_results/trainable_func_2022-07-26_14-11-15\n",
            "Number of trials: 15/50 (6 PAUSED, 4 RUNNING, 5 TERMINATED)\n",
            "\n",
            "\n",
            "Trial trainable_func_5d07de74 reported epoch=4,loss=0.5101288315770169,should_checkpoint=True with parameters={'act1 ': 'selu', 'act2': 'tanh', 'act3': 'tanh', 'lr': 0.0008, 'batch_size': 16, 'hidden_dim1': 300.0, 'hidden_dim2': 300.0, 'hidden_dim3': 240.0}.\n"
          ]
        },
        {
          "output_type": "stream",
          "name": "stderr",
          "text": [
            "\u001b[2m\u001b[36m(func pid=245807)\u001b[0m 2022-07-26 14:15:33,830\tINFO trainable.py:589 -- Restored on 172.28.0.2 from checkpoint: /root/ray_results/trainable_func_2022-07-26_14-11-15/trainable_func_e1d34c66_6_act1=tanh,act2=relu,act3=tanh,batch_size=32,hidden_dim1=240.0000,hidden_dim2=285.0000,hidden_dim3=285.00_2022-07-26_14-11-55/checkpoint_tmpe62ad0/./\n",
            "\u001b[2m\u001b[36m(func pid=245807)\u001b[0m 2022-07-26 14:15:33,836\tINFO trainable.py:597 -- Current state after restoring: {'_iteration': 20, '_timesteps_total': None, '_time_total': 54.20923566818237, '_episodes_total': None}\n"
          ]
        },
        {
          "output_type": "stream",
          "name": "stdout",
          "text": [
            "Trial trainable_func_50cc8af6 reported epoch=5,loss=0.553379847207222,should_checkpoint=True with parameters={'act1 ': 'tanh', 'act2': 'tanh', 'act3': 'selu', 'lr': 0.0006000000000000001, 'batch_size': 8, 'hidden_dim1': 270.0, 'hidden_dim2': 300.0, 'hidden_dim3': 225.0}.\n",
            "Trial trainable_func_e1d34c66 reported epoch=0,loss=0.044883148619921355,should_checkpoint=True with parameters={'act1 ': 'tanh', 'act2': 'relu', 'act3': 'tanh', 'lr': 0.0006000000000000001, 'batch_size': 32, 'hidden_dim1': 240.0, 'hidden_dim2': 285.0, 'hidden_dim3': 285.0}.\n"
          ]
        },
        {
          "output_type": "stream",
          "name": "stderr",
          "text": [
            "\u001b[2m\u001b[36m(func pid=245807)\u001b[0m 2022-07-26 14:15:36,843\tINFO trainable.py:589 -- Restored on 172.28.0.2 from checkpoint: /root/ray_results/trainable_func_2022-07-26_14-11-15/trainable_func_e1d34c66_6_act1=tanh,act2=relu,act3=tanh,batch_size=32,hidden_dim1=240.0000,hidden_dim2=285.0000,hidden_dim3=285.00_2022-07-26_14-11-55/checkpoint_tmpcd141f/./\n",
            "\u001b[2m\u001b[36m(func pid=245807)\u001b[0m 2022-07-26 14:15:36,843\tINFO trainable.py:597 -- Current state after restoring: {'_iteration': 21, '_timesteps_total': None, '_time_total': 56.48419547080994, '_episodes_total': None}\n"
          ]
        },
        {
          "output_type": "stream",
          "name": "stdout",
          "text": [
            "Trial trainable_func_cfe888ea reported epoch=0,loss=0.15643730221724597,should_checkpoint=True with parameters={'act1 ': 'tanh', 'act2': 'tanh', 'act3': 'selu', 'lr': 0.0009000000000000001, 'batch_size': 8, 'hidden_dim1': 270.0, 'hidden_dim2': 300.0, 'hidden_dim3': 165.0}.\n",
            "== Status ==\n",
            "Current time: 2022-07-26 14:15:38 (running for 00:04:22.94)\n",
            "Memory usage on this node: 2.5/12.7 GiB\n",
            "Using MedianStoppingRule: num_stopped=1.\n",
            "Resources requested: 2.0/2 CPUs, 0/0 GPUs, 0.0/7.47 GiB heap, 0.0/3.73 GiB objects\n",
            "Result logdir: /root/ray_results/trainable_func_2022-07-26_14-11-15\n",
            "Number of trials: 15/50 (6 PAUSED, 4 RUNNING, 5 TERMINATED)\n",
            "\n",
            "\n"
          ]
        },
        {
          "output_type": "stream",
          "name": "stderr",
          "text": [
            "\u001b[2m\u001b[36m(func pid=245735)\u001b[0m 2022-07-26 14:15:38,946\tINFO trainable.py:589 -- Restored on 172.28.0.2 from checkpoint: /root/ray_results/trainable_func_2022-07-26_14-11-15/trainable_func_cfe888ea_5_act1=tanh,act2=tanh,act3=selu,batch_size=8,hidden_dim1=270.0000,hidden_dim2=300.0000,hidden_dim3=165.000_2022-07-26_14-11-45/checkpoint_tmp46a731/./\n",
            "\u001b[2m\u001b[36m(func pid=245735)\u001b[0m 2022-07-26 14:15:38,946\tINFO trainable.py:597 -- Current state after restoring: {'_iteration': 16, '_timesteps_total': None, '_time_total': 123.34851861000061, '_episodes_total': None}\n",
            "\u001b[2m\u001b[36m(func pid=245807)\u001b[0m 2022-07-26 14:15:40,083\tINFO trainable.py:589 -- Restored on 172.28.0.2 from checkpoint: /root/ray_results/trainable_func_2022-07-26_14-11-15/trainable_func_e1d34c66_6_act1=tanh,act2=relu,act3=tanh,batch_size=32,hidden_dim1=240.0000,hidden_dim2=285.0000,hidden_dim3=285.00_2022-07-26_14-11-55/checkpoint_tmp250ad2/./\n",
            "\u001b[2m\u001b[36m(func pid=245807)\u001b[0m 2022-07-26 14:15:40,084\tINFO trainable.py:597 -- Current state after restoring: {'_iteration': 22, '_timesteps_total': None, '_time_total': 58.973408937454224, '_episodes_total': None}\n"
          ]
        },
        {
          "output_type": "stream",
          "name": "stdout",
          "text": [
            "Trial trainable_func_5d07de74 reported epoch=6,loss=0.5449401141613692,should_checkpoint=True with parameters={'act1 ': 'selu', 'act2': 'tanh', 'act3': 'tanh', 'lr': 0.0008, 'batch_size': 16, 'hidden_dim1': 300.0, 'hidden_dim2': 300.0, 'hidden_dim3': 240.0}.\n",
            "Trial trainable_func_e1d34c66 reported epoch=0,loss=0.05726643649791139,should_checkpoint=True with parameters={'act1 ': 'tanh', 'act2': 'relu', 'act3': 'tanh', 'lr': 0.0006000000000000001, 'batch_size': 32, 'hidden_dim1': 240.0, 'hidden_dim2': 285.0, 'hidden_dim3': 285.0}.\n",
            "Trial trainable_func_50cc8af6 reported epoch=6,loss=0.5554198024083685,should_checkpoint=True with parameters={'act1 ': 'tanh', 'act2': 'tanh', 'act3': 'selu', 'lr': 0.0006000000000000001, 'batch_size': 8, 'hidden_dim1': 270.0, 'hidden_dim2': 300.0, 'hidden_dim3': 225.0}.\n"
          ]
        },
        {
          "output_type": "stream",
          "name": "stderr",
          "text": [
            "\u001b[2m\u001b[36m(func pid=245807)\u001b[0m 2022-07-26 14:15:43,127\tINFO trainable.py:589 -- Restored on 172.28.0.2 from checkpoint: /root/ray_results/trainable_func_2022-07-26_14-11-15/trainable_func_e1d34c66_6_act1=tanh,act2=relu,act3=tanh,batch_size=32,hidden_dim1=240.0000,hidden_dim2=285.0000,hidden_dim3=285.00_2022-07-26_14-11-55/checkpoint_tmp2e70e6/./\n",
            "\u001b[2m\u001b[36m(func pid=245807)\u001b[0m 2022-07-26 14:15:43,128\tINFO trainable.py:597 -- Current state after restoring: {'_iteration': 23, '_timesteps_total': None, '_time_total': 61.36399555206299, '_episodes_total': None}\n"
          ]
        },
        {
          "output_type": "stream",
          "name": "stdout",
          "text": [
            "Trial trainable_func_cfe888ea reported epoch=0,loss=0.12534080239194959,should_checkpoint=True with parameters={'act1 ': 'tanh', 'act2': 'tanh', 'act3': 'selu', 'lr': 0.0009000000000000001, 'batch_size': 8, 'hidden_dim1': 270.0, 'hidden_dim2': 300.0, 'hidden_dim3': 165.0}.\n",
            "== Status ==\n",
            "Current time: 2022-07-26 14:15:45 (running for 00:04:29.71)\n",
            "Memory usage on this node: 2.5/12.7 GiB\n",
            "Using MedianStoppingRule: num_stopped=1.\n",
            "Resources requested: 2.0/2 CPUs, 0/0 GPUs, 0.0/7.47 GiB heap, 0.0/3.73 GiB objects\n",
            "Result logdir: /root/ray_results/trainable_func_2022-07-26_14-11-15\n",
            "Number of trials: 15/50 (6 PAUSED, 4 RUNNING, 5 TERMINATED)\n",
            "\n",
            "\n"
          ]
        },
        {
          "output_type": "stream",
          "name": "stderr",
          "text": [
            "\u001b[2m\u001b[36m(func pid=245735)\u001b[0m 2022-07-26 14:15:45,712\tINFO trainable.py:589 -- Restored on 172.28.0.2 from checkpoint: /root/ray_results/trainable_func_2022-07-26_14-11-15/trainable_func_cfe888ea_5_act1=tanh,act2=tanh,act3=selu,batch_size=8,hidden_dim1=270.0000,hidden_dim2=300.0000,hidden_dim3=165.000_2022-07-26_14-11-45/checkpoint_tmp4ac17a/./\n",
            "\u001b[2m\u001b[36m(func pid=245735)\u001b[0m 2022-07-26 14:15:45,712\tINFO trainable.py:597 -- Current state after restoring: {'_iteration': 17, '_timesteps_total': None, '_time_total': 129.48630094528198, '_episodes_total': None}\n",
            "\u001b[2m\u001b[36m(func pid=245807)\u001b[0m 2022-07-26 14:15:46,240\tINFO trainable.py:589 -- Restored on 172.28.0.2 from checkpoint: /root/ray_results/trainable_func_2022-07-26_14-11-15/trainable_func_e1d34c66_6_act1=tanh,act2=relu,act3=tanh,batch_size=32,hidden_dim1=240.0000,hidden_dim2=285.0000,hidden_dim3=285.00_2022-07-26_14-11-55/checkpoint_tmpabebdc/./\n",
            "\u001b[2m\u001b[36m(func pid=245807)\u001b[0m 2022-07-26 14:15:46,240\tINFO trainable.py:597 -- Current state after restoring: {'_iteration': 24, '_timesteps_total': None, '_time_total': 63.803202390670776, '_episodes_total': None}\n"
          ]
        },
        {
          "output_type": "stream",
          "name": "stdout",
          "text": [
            "Trial trainable_func_e1d34c66 reported epoch=0,loss=0.04091823322023967,should_checkpoint=True with parameters={'act1 ': 'tanh', 'act2': 'relu', 'act3': 'tanh', 'lr': 0.0006000000000000001, 'batch_size': 32, 'hidden_dim1': 240.0, 'hidden_dim2': 285.0, 'hidden_dim3': 285.0}.\n"
          ]
        },
        {
          "output_type": "stream",
          "name": "stderr",
          "text": [
            "\u001b[2m\u001b[36m(func pid=245807)\u001b[0m 2022-07-26 14:15:49,000\tINFO trainable.py:589 -- Restored on 172.28.0.2 from checkpoint: /root/ray_results/trainable_func_2022-07-26_14-11-15/trainable_func_e1d34c66_6_act1=tanh,act2=relu,act3=tanh,batch_size=32,hidden_dim1=240.0000,hidden_dim2=285.0000,hidden_dim3=285.00_2022-07-26_14-11-55/checkpoint_tmpe19c68/./\n",
            "\u001b[2m\u001b[36m(func pid=245807)\u001b[0m 2022-07-26 14:15:49,001\tINFO trainable.py:597 -- Current state after restoring: {'_iteration': 25, '_timesteps_total': None, '_time_total': 65.96064496040344, '_episodes_total': None}\n"
          ]
        },
        {
          "output_type": "stream",
          "name": "stdout",
          "text": [
            "Trial trainable_func_50cc8af6 reported epoch=7,loss=0.5616744728135429,should_checkpoint=True with parameters={'act1 ': 'tanh', 'act2': 'tanh', 'act3': 'selu', 'lr': 0.0006000000000000001, 'batch_size': 8, 'hidden_dim1': 270.0, 'hidden_dim2': 300.0, 'hidden_dim3': 225.0}.\n",
            "Trial trainable_func_5d07de74 reported epoch=8,loss=0.5496829901498507,should_checkpoint=True with parameters={'act1 ': 'selu', 'act2': 'tanh', 'act3': 'tanh', 'lr': 0.0008, 'batch_size': 16, 'hidden_dim1': 300.0, 'hidden_dim2': 300.0, 'hidden_dim3': 240.0}.\n",
            "== Status ==\n",
            "Current time: 2022-07-26 14:15:50 (running for 00:04:34.95)\n",
            "Memory usage on this node: 2.5/12.7 GiB\n",
            "Using MedianStoppingRule: num_stopped=1.\n",
            "Resources requested: 2.0/2 CPUs, 0/0 GPUs, 0.0/7.47 GiB heap, 0.0/3.73 GiB objects\n",
            "Result logdir: /root/ray_results/trainable_func_2022-07-26_14-11-15\n",
            "Number of trials: 15/50 (6 PAUSED, 4 RUNNING, 5 TERMINATED)\n",
            "\n",
            "\n"
          ]
        },
        {
          "output_type": "stream",
          "name": "stderr",
          "text": [
            "\u001b[2m\u001b[36m(func pid=245807)\u001b[0m 2022-07-26 14:15:52,112\tINFO trainable.py:589 -- Restored on 172.28.0.2 from checkpoint: /root/ray_results/trainable_func_2022-07-26_14-11-15/trainable_func_e1d34c66_6_act1=tanh,act2=relu,act3=tanh,batch_size=32,hidden_dim1=240.0000,hidden_dim2=285.0000,hidden_dim3=285.00_2022-07-26_14-11-55/checkpoint_tmp2ce96d/./\n",
            "\u001b[2m\u001b[36m(func pid=245807)\u001b[0m 2022-07-26 14:15:52,113\tINFO trainable.py:597 -- Current state after restoring: {'_iteration': 26, '_timesteps_total': None, '_time_total': 68.2603325843811, '_episodes_total': None}\n"
          ]
        },
        {
          "output_type": "stream",
          "name": "stdout",
          "text": [
            "Trial trainable_func_cfe888ea reported epoch=0,loss=0.16879040285460953,should_checkpoint=True with parameters={'act1 ': 'tanh', 'act2': 'tanh', 'act3': 'selu', 'lr': 0.0009000000000000001, 'batch_size': 8, 'hidden_dim1': 270.0, 'hidden_dim2': 300.0, 'hidden_dim3': 165.0}.\n"
          ]
        },
        {
          "output_type": "stream",
          "name": "stderr",
          "text": [
            "\u001b[2m\u001b[36m(func pid=245735)\u001b[0m 2022-07-26 14:15:53,022\tINFO trainable.py:589 -- Restored on 172.28.0.2 from checkpoint: /root/ray_results/trainable_func_2022-07-26_14-11-15/trainable_func_cfe888ea_5_act1=tanh,act2=tanh,act3=selu,batch_size=8,hidden_dim1=270.0000,hidden_dim2=300.0000,hidden_dim3=165.000_2022-07-26_14-11-45/checkpoint_tmp0e5abb/./\n",
            "\u001b[2m\u001b[36m(func pid=245735)\u001b[0m 2022-07-26 14:15:53,023\tINFO trainable.py:597 -- Current state after restoring: {'_iteration': 18, '_timesteps_total': None, '_time_total': 136.03572463989258, '_episodes_total': None}\n"
          ]
        },
        {
          "output_type": "stream",
          "name": "stdout",
          "text": [
            "Trial trainable_func_e1d34c66 reported epoch=0,loss=0.04304742747650748,should_checkpoint=True with parameters={'act1 ': 'tanh', 'act2': 'relu', 'act3': 'tanh', 'lr': 0.0006000000000000001, 'batch_size': 32, 'hidden_dim1': 240.0, 'hidden_dim2': 285.0, 'hidden_dim3': 285.0}.\n"
          ]
        },
        {
          "output_type": "stream",
          "name": "stderr",
          "text": [
            "\u001b[2m\u001b[36m(func pid=245807)\u001b[0m 2022-07-26 14:15:55,270\tINFO trainable.py:589 -- Restored on 172.28.0.2 from checkpoint: /root/ray_results/trainable_func_2022-07-26_14-11-15/trainable_func_e1d34c66_6_act1=tanh,act2=relu,act3=tanh,batch_size=32,hidden_dim1=240.0000,hidden_dim2=285.0000,hidden_dim3=285.00_2022-07-26_14-11-55/checkpoint_tmp341f44/./\n",
            "\u001b[2m\u001b[36m(func pid=245807)\u001b[0m 2022-07-26 14:15:55,270\tINFO trainable.py:597 -- Current state after restoring: {'_iteration': 27, '_timesteps_total': None, '_time_total': 70.7754271030426, '_episodes_total': None}\n"
          ]
        },
        {
          "output_type": "stream",
          "name": "stdout",
          "text": [
            "Trial trainable_func_50cc8af6 reported epoch=8,loss=0.5128706281710941,should_checkpoint=True with parameters={'act1 ': 'tanh', 'act2': 'tanh', 'act3': 'selu', 'lr': 0.0006000000000000001, 'batch_size': 8, 'hidden_dim1': 270.0, 'hidden_dim2': 300.0, 'hidden_dim3': 225.0}.\n",
            "== Status ==\n",
            "Current time: 2022-07-26 14:15:56 (running for 00:04:41.57)\n",
            "Memory usage on this node: 2.5/12.7 GiB\n",
            "Using MedianStoppingRule: num_stopped=1.\n",
            "Resources requested: 2.0/2 CPUs, 0/0 GPUs, 0.0/7.47 GiB heap, 0.0/3.73 GiB objects\n",
            "Result logdir: /root/ray_results/trainable_func_2022-07-26_14-11-15\n",
            "Number of trials: 15/50 (6 PAUSED, 4 RUNNING, 5 TERMINATED)\n",
            "\n",
            "\n"
          ]
        },
        {
          "output_type": "stream",
          "name": "stderr",
          "text": [
            "\u001b[2m\u001b[36m(func pid=245807)\u001b[0m 2022-07-26 14:15:58,172\tINFO trainable.py:589 -- Restored on 172.28.0.2 from checkpoint: /root/ray_results/trainable_func_2022-07-26_14-11-15/trainable_func_e1d34c66_6_act1=tanh,act2=relu,act3=tanh,batch_size=32,hidden_dim1=240.0000,hidden_dim2=285.0000,hidden_dim3=285.00_2022-07-26_14-11-55/checkpoint_tmpa6c899/./\n",
            "\u001b[2m\u001b[36m(func pid=245807)\u001b[0m 2022-07-26 14:15:58,173\tINFO trainable.py:597 -- Current state after restoring: {'_iteration': 28, '_timesteps_total': None, '_time_total': 72.98895311355591, '_episodes_total': None}\n"
          ]
        },
        {
          "output_type": "stream",
          "name": "stdout",
          "text": [
            "Trial trainable_func_5d07de74 reported epoch=10,loss=0.5222860695476437,should_checkpoint=True with parameters={'act1 ': 'selu', 'act2': 'tanh', 'act3': 'tanh', 'lr': 0.0008, 'batch_size': 16, 'hidden_dim1': 300.0, 'hidden_dim2': 300.0, 'hidden_dim3': 240.0}.\n"
          ]
        },
        {
          "output_type": "stream",
          "name": "stderr",
          "text": [
            "\u001b[2m\u001b[36m(func pid=245736)\u001b[0m 2022-07-26 14:15:59,336\tINFO trainable.py:589 -- Restored on 172.28.0.2 from checkpoint: /root/ray_results/trainable_func_2022-07-26_14-11-15/trainable_func_e7a9dc7c_7_act1=selu,act2=tanh,act3=selu,batch_size=8,hidden_dim1=255.0000,hidden_dim2=135.0000,hidden_dim3=270.000_2022-07-26_14-12-00/checkpoint_tmpa718f2/./\n",
            "\u001b[2m\u001b[36m(func pid=245736)\u001b[0m 2022-07-26 14:15:59,337\tINFO trainable.py:597 -- Current state after restoring: {'_iteration': 10, '_timesteps_total': None, '_time_total': 66.913893699646, '_episodes_total': None}\n"
          ]
        },
        {
          "output_type": "stream",
          "name": "stdout",
          "text": [
            "Trial trainable_func_cfe888ea reported epoch=0,loss=0.12102348838653298,should_checkpoint=True with parameters={'act1 ': 'tanh', 'act2': 'tanh', 'act3': 'selu', 'lr': 0.0009000000000000001, 'batch_size': 8, 'hidden_dim1': 270.0, 'hidden_dim2': 300.0, 'hidden_dim3': 165.0}.\n"
          ]
        },
        {
          "output_type": "stream",
          "name": "stderr",
          "text": [
            "\u001b[2m\u001b[36m(func pid=245735)\u001b[0m 2022-07-26 14:16:00,331\tINFO trainable.py:589 -- Restored on 172.28.0.2 from checkpoint: /root/ray_results/trainable_func_2022-07-26_14-11-15/trainable_func_cfe888ea_5_act1=tanh,act2=tanh,act3=selu,batch_size=8,hidden_dim1=270.0000,hidden_dim2=300.0000,hidden_dim3=165.000_2022-07-26_14-11-45/checkpoint_tmpf448c5/./\n",
            "\u001b[2m\u001b[36m(func pid=245735)\u001b[0m 2022-07-26 14:16:00,331\tINFO trainable.py:597 -- Current state after restoring: {'_iteration': 19, '_timesteps_total': None, '_time_total': 142.54504132270813, '_episodes_total': None}\n"
          ]
        },
        {
          "output_type": "stream",
          "name": "stdout",
          "text": [
            "Trial trainable_func_e1d34c66 reported epoch=0,loss=0.04354112980412074,should_checkpoint=True with parameters={'act1 ': 'tanh', 'act2': 'relu', 'act3': 'tanh', 'lr': 0.0006000000000000001, 'batch_size': 32, 'hidden_dim1': 240.0, 'hidden_dim2': 285.0, 'hidden_dim3': 285.0}.\n"
          ]
        },
        {
          "output_type": "stream",
          "name": "stderr",
          "text": [
            "\u001b[2m\u001b[36m(func pid=245807)\u001b[0m 2022-07-26 14:16:00,970\tINFO trainable.py:589 -- Restored on 172.28.0.2 from checkpoint: /root/ray_results/trainable_func_2022-07-26_14-11-15/trainable_func_e1d34c66_6_act1=tanh,act2=relu,act3=tanh,batch_size=32,hidden_dim1=240.0000,hidden_dim2=285.0000,hidden_dim3=285.00_2022-07-26_14-11-55/checkpoint_tmpb89861/./\n",
            "\u001b[2m\u001b[36m(func pid=245807)\u001b[0m 2022-07-26 14:16:00,970\tINFO trainable.py:597 -- Current state after restoring: {'_iteration': 29, '_timesteps_total': None, '_time_total': 75.2164945602417, '_episodes_total': None}\n"
          ]
        },
        {
          "output_type": "stream",
          "name": "stdout",
          "text": [
            "== Status ==\n",
            "Current time: 2022-07-26 14:16:03 (running for 00:04:48.00)\n",
            "Memory usage on this node: 2.5/12.7 GiB\n",
            "Using MedianStoppingRule: num_stopped=1.\n",
            "Resources requested: 2.0/2 CPUs, 0/0 GPUs, 0.0/7.47 GiB heap, 0.0/3.73 GiB objects\n",
            "Result logdir: /root/ray_results/trainable_func_2022-07-26_14-11-15\n",
            "Number of trials: 15/50 (6 PAUSED, 4 RUNNING, 5 TERMINATED)\n",
            "\n",
            "\n",
            "Trial trainable_func_50cc8af6 reported epoch=9,loss=0.5509360318423173,should_checkpoint=True with parameters={'act1 ': 'tanh', 'act2': 'tanh', 'act3': 'selu', 'lr': 0.0006000000000000001, 'batch_size': 8, 'hidden_dim1': 270.0, 'hidden_dim2': 300.0, 'hidden_dim3': 225.0}.\n"
          ]
        },
        {
          "output_type": "stream",
          "name": "stderr",
          "text": [
            "\u001b[2m\u001b[36m(func pid=245807)\u001b[0m 2022-07-26 14:16:04,152\tINFO trainable.py:589 -- Restored on 172.28.0.2 from checkpoint: /root/ray_results/trainable_func_2022-07-26_14-11-15/trainable_func_e1d34c66_6_act1=tanh,act2=relu,act3=tanh,batch_size=32,hidden_dim1=240.0000,hidden_dim2=285.0000,hidden_dim3=285.00_2022-07-26_14-11-55/checkpoint_tmpebf72a/./\n",
            "\u001b[2m\u001b[36m(func pid=245807)\u001b[0m 2022-07-26 14:16:04,152\tINFO trainable.py:597 -- Current state after restoring: {'_iteration': 30, '_timesteps_total': None, '_time_total': 77.62198138237, '_episodes_total': None}\n"
          ]
        },
        {
          "output_type": "stream",
          "name": "stdout",
          "text": [
            "Trial trainable_func_e7a9dc7c reported epoch=0,loss=0.26568622165592287,should_checkpoint=True with parameters={'act1 ': 'selu', 'act2': 'tanh', 'act3': 'selu', 'lr': 0.0009000000000000001, 'batch_size': 8, 'hidden_dim1': 255.0, 'hidden_dim2': 135.0, 'hidden_dim3': 270.0}.\n"
          ]
        },
        {
          "output_type": "stream",
          "name": "stderr",
          "text": [
            "\u001b[2m\u001b[36m(func pid=245736)\u001b[0m 2022-07-26 14:16:06,119\tINFO trainable.py:589 -- Restored on 172.28.0.2 from checkpoint: /root/ray_results/trainable_func_2022-07-26_14-11-15/trainable_func_e7a9dc7c_7_act1=selu,act2=tanh,act3=selu,batch_size=8,hidden_dim1=255.0000,hidden_dim2=135.0000,hidden_dim3=270.000_2022-07-26_14-12-00/checkpoint_tmp9cd5fa/./\n",
            "\u001b[2m\u001b[36m(func pid=245736)\u001b[0m 2022-07-26 14:16:06,120\tINFO trainable.py:597 -- Current state after restoring: {'_iteration': 11, '_timesteps_total': None, '_time_total': 73.03034257888794, '_episodes_total': None}\n"
          ]
        },
        {
          "output_type": "stream",
          "name": "stdout",
          "text": [
            "Trial trainable_func_e1d34c66 reported epoch=0,loss=0.045826156437891404,should_checkpoint=True with parameters={'act1 ': 'tanh', 'act2': 'relu', 'act3': 'tanh', 'lr': 0.0006000000000000001, 'batch_size': 32, 'hidden_dim1': 240.0, 'hidden_dim2': 285.0, 'hidden_dim3': 285.0}.\n",
            "Trial trainable_func_cfe888ea reported epoch=0,loss=0.11086690981161162,should_checkpoint=True with parameters={'act1 ': 'tanh', 'act2': 'tanh', 'act3': 'selu', 'lr': 0.0009000000000000001, 'batch_size': 8, 'hidden_dim1': 270.0, 'hidden_dim2': 300.0, 'hidden_dim3': 165.0}.\n"
          ]
        },
        {
          "output_type": "stream",
          "name": "stderr",
          "text": [
            "\u001b[2m\u001b[36m(func pid=245807)\u001b[0m 2022-07-26 14:16:07,129\tINFO trainable.py:589 -- Restored on 172.28.0.2 from checkpoint: /root/ray_results/trainable_func_2022-07-26_14-11-15/trainable_func_e1d34c66_6_act1=tanh,act2=relu,act3=tanh,batch_size=32,hidden_dim1=240.0000,hidden_dim2=285.0000,hidden_dim3=285.00_2022-07-26_14-11-55/checkpoint_tmp9fcdc1/./\n",
            "\u001b[2m\u001b[36m(func pid=245807)\u001b[0m 2022-07-26 14:16:07,129\tINFO trainable.py:597 -- Current state after restoring: {'_iteration': 31, '_timesteps_total': None, '_time_total': 79.84825992584229, '_episodes_total': None}\n",
            "\u001b[2m\u001b[36m(func pid=245735)\u001b[0m 2022-07-26 14:16:07,839\tINFO trainable.py:589 -- Restored on 172.28.0.2 from checkpoint: /root/ray_results/trainable_func_2022-07-26_14-11-15/trainable_func_cfe888ea_5_act1=tanh,act2=tanh,act3=selu,batch_size=8,hidden_dim1=270.0000,hidden_dim2=300.0000,hidden_dim3=165.000_2022-07-26_14-11-45/checkpoint_tmp316a1c/./\n",
            "\u001b[2m\u001b[36m(func pid=245735)\u001b[0m 2022-07-26 14:16:07,839\tINFO trainable.py:597 -- Current state after restoring: {'_iteration': 20, '_timesteps_total': None, '_time_total': 149.23048043251038, '_episodes_total': None}\n"
          ]
        },
        {
          "output_type": "stream",
          "name": "stdout",
          "text": [
            "== Status ==\n",
            "Current time: 2022-07-26 14:16:09 (running for 00:04:54.14)\n",
            "Memory usage on this node: 2.5/12.7 GiB\n",
            "Using MedianStoppingRule: num_stopped=1.\n",
            "Resources requested: 2.0/2 CPUs, 0/0 GPUs, 0.0/7.47 GiB heap, 0.0/3.73 GiB objects\n",
            "Result logdir: /root/ray_results/trainable_func_2022-07-26_14-11-15\n",
            "Number of trials: 15/50 (6 PAUSED, 4 RUNNING, 5 TERMINATED)\n",
            "\n",
            "\n"
          ]
        },
        {
          "output_type": "stream",
          "name": "stderr",
          "text": [
            "\u001b[2m\u001b[36m(func pid=245807)\u001b[0m 2022-07-26 14:16:10,322\tINFO trainable.py:589 -- Restored on 172.28.0.2 from checkpoint: /root/ray_results/trainable_func_2022-07-26_14-11-15/trainable_func_e1d34c66_6_act1=tanh,act2=relu,act3=tanh,batch_size=32,hidden_dim1=240.0000,hidden_dim2=285.0000,hidden_dim3=285.00_2022-07-26_14-11-55/checkpoint_tmpdf5710/./\n",
            "\u001b[2m\u001b[36m(func pid=245807)\u001b[0m 2022-07-26 14:16:10,322\tINFO trainable.py:597 -- Current state after restoring: {'_iteration': 32, '_timesteps_total': None, '_time_total': 82.2334816455841, '_episodes_total': None}\n"
          ]
        },
        {
          "output_type": "stream",
          "name": "stdout",
          "text": [
            "Trial trainable_func_e7a9dc7c reported epoch=0,loss=0.23509524303260096,should_checkpoint=True with parameters={'act1 ': 'selu', 'act2': 'tanh', 'act3': 'selu', 'lr': 0.0009000000000000001, 'batch_size': 8, 'hidden_dim1': 255.0, 'hidden_dim2': 135.0, 'hidden_dim3': 270.0}.\n",
            "Trial trainable_func_50cc8af6 reported epoch=10,loss=0.5325821142895373,should_checkpoint=True with parameters={'act1 ': 'tanh', 'act2': 'tanh', 'act3': 'selu', 'lr': 0.0006000000000000001, 'batch_size': 8, 'hidden_dim1': 270.0, 'hidden_dim2': 300.0, 'hidden_dim3': 225.0}. This trial completed.\n"
          ]
        },
        {
          "output_type": "stream",
          "name": "stderr",
          "text": [
            "\u001b[2m\u001b[36m(func pid=245736)\u001b[0m 2022-07-26 14:16:11,953\tINFO trainable.py:589 -- Restored on 172.28.0.2 from checkpoint: /root/ray_results/trainable_func_2022-07-26_14-11-15/trainable_func_e7a9dc7c_7_act1=selu,act2=tanh,act3=selu,batch_size=8,hidden_dim1=255.0000,hidden_dim2=135.0000,hidden_dim3=270.000_2022-07-26_14-12-00/checkpoint_tmp68f113/./\n",
            "\u001b[2m\u001b[36m(func pid=245736)\u001b[0m 2022-07-26 14:16:11,955\tINFO trainable.py:597 -- Current state after restoring: {'_iteration': 12, '_timesteps_total': None, '_time_total': 78.38527727127075, '_episodes_total': None}\n"
          ]
        },
        {
          "output_type": "stream",
          "name": "stdout",
          "text": [
            "Trial trainable_func_e1d34c66 reported epoch=0,loss=0.036583616811764946,should_checkpoint=True with parameters={'act1 ': 'tanh', 'act2': 'relu', 'act3': 'tanh', 'lr': 0.0006000000000000001, 'batch_size': 32, 'hidden_dim1': 240.0, 'hidden_dim2': 285.0, 'hidden_dim3': 285.0}.\n"
          ]
        },
        {
          "output_type": "stream",
          "name": "stderr",
          "text": [
            "\u001b[2m\u001b[36m(func pid=245807)\u001b[0m 2022-07-26 14:16:13,460\tINFO trainable.py:589 -- Restored on 172.28.0.2 from checkpoint: /root/ray_results/trainable_func_2022-07-26_14-11-15/trainable_func_e1d34c66_6_act1=tanh,act2=relu,act3=tanh,batch_size=32,hidden_dim1=240.0000,hidden_dim2=285.0000,hidden_dim3=285.00_2022-07-26_14-11-55/checkpoint_tmp1fec75/./\n",
            "\u001b[2m\u001b[36m(func pid=245807)\u001b[0m 2022-07-26 14:16:13,460\tINFO trainable.py:597 -- Current state after restoring: {'_iteration': 33, '_timesteps_total': None, '_time_total': 84.65566754341125, '_episodes_total': None}\n"
          ]
        },
        {
          "output_type": "stream",
          "name": "stdout",
          "text": [
            "Trial trainable_func_cfe888ea reported epoch=0,loss=0.10364139119159295,should_checkpoint=True with parameters={'act1 ': 'tanh', 'act2': 'tanh', 'act3': 'selu', 'lr': 0.0009000000000000001, 'batch_size': 8, 'hidden_dim1': 270.0, 'hidden_dim2': 300.0, 'hidden_dim3': 165.0}.\n",
            "== Status ==\n",
            "Current time: 2022-07-26 14:16:15 (running for 00:04:59.62)\n",
            "Memory usage on this node: 2.5/12.7 GiB\n",
            "Using MedianStoppingRule: num_stopped=2.\n",
            "Resources requested: 1.5/2 CPUs, 0/0 GPUs, 0.0/7.47 GiB heap, 0.0/3.73 GiB objects\n",
            "Result logdir: /root/ray_results/trainable_func_2022-07-26_14-11-15\n",
            "Number of trials: 16/50 (7 PAUSED, 3 RUNNING, 6 TERMINATED)\n",
            "\n",
            "\n"
          ]
        },
        {
          "output_type": "stream",
          "name": "stderr",
          "text": [
            "\u001b[2m\u001b[36m(func pid=245735)\u001b[0m 2022-07-26 14:16:15,068\tINFO trainable.py:589 -- Restored on 172.28.0.2 from checkpoint: /root/ray_results/trainable_func_2022-07-26_14-11-15/trainable_func_cfe888ea_5_act1=tanh,act2=tanh,act3=selu,batch_size=8,hidden_dim1=270.0000,hidden_dim2=300.0000,hidden_dim3=165.000_2022-07-26_14-11-45/checkpoint_tmpd48e09/./\n",
            "\u001b[2m\u001b[36m(func pid=245735)\u001b[0m 2022-07-26 14:16:15,068\tINFO trainable.py:597 -- Current state after restoring: {'_iteration': 21, '_timesteps_total': None, '_time_total': 155.72445797920227, '_episodes_total': None}\n",
            "\u001b[2m\u001b[36m(func pid=245807)\u001b[0m 2022-07-26 14:16:16,540\tINFO trainable.py:589 -- Restored on 172.28.0.2 from checkpoint: /root/ray_results/trainable_func_2022-07-26_14-11-15/trainable_func_e1d34c66_6_act1=tanh,act2=relu,act3=tanh,batch_size=32,hidden_dim1=240.0000,hidden_dim2=285.0000,hidden_dim3=285.00_2022-07-26_14-11-55/checkpoint_tmpb2ccb1/./\n",
            "\u001b[2m\u001b[36m(func pid=245807)\u001b[0m 2022-07-26 14:16:16,543\tINFO trainable.py:597 -- Current state after restoring: {'_iteration': 34, '_timesteps_total': None, '_time_total': 87.02055144309998, '_episodes_total': None}\n"
          ]
        },
        {
          "output_type": "stream",
          "name": "stdout",
          "text": [
            "Trial trainable_func_806a7b6a reported epoch=0,loss=0.8043015834572558,should_checkpoint=True with parameters={'act1 ': 'tanh', 'act2': 'relu', 'act3': 'relu', 'lr': 0.0007, 'batch_size': 8, 'hidden_dim1': 180.0, 'hidden_dim2': 165.0, 'hidden_dim3': 150.0}.\n",
            "Trial trainable_func_e7a9dc7c reported epoch=0,loss=0.18038145006783834,should_checkpoint=True with parameters={'act1 ': 'selu', 'act2': 'tanh', 'act3': 'selu', 'lr': 0.0009000000000000001, 'batch_size': 8, 'hidden_dim1': 255.0, 'hidden_dim2': 135.0, 'hidden_dim3': 270.0}.\n"
          ]
        },
        {
          "output_type": "stream",
          "name": "stderr",
          "text": [
            "\u001b[2m\u001b[36m(func pid=245736)\u001b[0m 2022-07-26 14:16:18,809\tINFO trainable.py:589 -- Restored on 172.28.0.2 from checkpoint: /root/ray_results/trainable_func_2022-07-26_14-11-15/trainable_func_e7a9dc7c_7_act1=selu,act2=tanh,act3=selu,batch_size=8,hidden_dim1=255.0000,hidden_dim2=135.0000,hidden_dim3=270.000_2022-07-26_14-12-00/checkpoint_tmpf2badd/./\n",
            "\u001b[2m\u001b[36m(func pid=245736)\u001b[0m 2022-07-26 14:16:18,810\tINFO trainable.py:597 -- Current state after restoring: {'_iteration': 13, '_timesteps_total': None, '_time_total': 84.48608875274658, '_episodes_total': None}\n"
          ]
        },
        {
          "output_type": "stream",
          "name": "stdout",
          "text": [
            "Trial trainable_func_e1d34c66 reported epoch=0,loss=0.04718405322681664,should_checkpoint=True with parameters={'act1 ': 'tanh', 'act2': 'relu', 'act3': 'tanh', 'lr': 0.0006000000000000001, 'batch_size': 32, 'hidden_dim1': 240.0, 'hidden_dim2': 285.0, 'hidden_dim3': 285.0}.\n"
          ]
        },
        {
          "output_type": "stream",
          "name": "stderr",
          "text": [
            "\u001b[2m\u001b[36m(func pid=245807)\u001b[0m 2022-07-26 14:16:19,542\tINFO trainable.py:589 -- Restored on 172.28.0.2 from checkpoint: /root/ray_results/trainable_func_2022-07-26_14-11-15/trainable_func_e1d34c66_6_act1=tanh,act2=relu,act3=tanh,batch_size=32,hidden_dim1=240.0000,hidden_dim2=285.0000,hidden_dim3=285.00_2022-07-26_14-11-55/checkpoint_tmp002546/./\n",
            "\u001b[2m\u001b[36m(func pid=245807)\u001b[0m 2022-07-26 14:16:19,543\tINFO trainable.py:597 -- Current state after restoring: {'_iteration': 35, '_timesteps_total': None, '_time_total': 89.41999959945679, '_episodes_total': None}\n"
          ]
        },
        {
          "output_type": "stream",
          "name": "stdout",
          "text": [
            "Trial trainable_func_cfe888ea reported epoch=0,loss=0.13665887546817704,should_checkpoint=True with parameters={'act1 ': 'tanh', 'act2': 'tanh', 'act3': 'selu', 'lr': 0.0009000000000000001, 'batch_size': 8, 'hidden_dim1': 270.0, 'hidden_dim2': 300.0, 'hidden_dim3': 165.0}.\n",
            "== Status ==\n",
            "Current time: 2022-07-26 14:16:21 (running for 00:05:06.20)\n",
            "Memory usage on this node: 2.4/12.7 GiB\n",
            "Using MedianStoppingRule: num_stopped=2.\n",
            "Resources requested: 2.0/2 CPUs, 0/0 GPUs, 0.0/7.47 GiB heap, 0.0/3.73 GiB objects\n",
            "Result logdir: /root/ray_results/trainable_func_2022-07-26_14-11-15\n",
            "Number of trials: 16/50 (6 PAUSED, 4 RUNNING, 6 TERMINATED)\n",
            "\n",
            "\n"
          ]
        },
        {
          "output_type": "stream",
          "name": "stderr",
          "text": [
            "\u001b[2m\u001b[36m(func pid=245735)\u001b[0m 2022-07-26 14:16:22,120\tINFO trainable.py:589 -- Restored on 172.28.0.2 from checkpoint: /root/ray_results/trainable_func_2022-07-26_14-11-15/trainable_func_cfe888ea_5_act1=tanh,act2=tanh,act3=selu,batch_size=8,hidden_dim1=270.0000,hidden_dim2=300.0000,hidden_dim3=165.000_2022-07-26_14-11-45/checkpoint_tmp3186c3/./\n",
            "\u001b[2m\u001b[36m(func pid=245735)\u001b[0m 2022-07-26 14:16:22,121\tINFO trainable.py:597 -- Current state after restoring: {'_iteration': 22, '_timesteps_total': None, '_time_total': 162.16435742378235, '_episodes_total': None}\n",
            "\u001b[2m\u001b[36m(func pid=245807)\u001b[0m 2022-07-26 14:16:23,003\tINFO trainable.py:589 -- Restored on 172.28.0.2 from checkpoint: /root/ray_results/trainable_func_2022-07-26_14-11-15/trainable_func_e1d34c66_6_act1=tanh,act2=relu,act3=tanh,batch_size=32,hidden_dim1=240.0000,hidden_dim2=285.0000,hidden_dim3=285.00_2022-07-26_14-11-55/checkpoint_tmp7cfcd6/./\n",
            "\u001b[2m\u001b[36m(func pid=245807)\u001b[0m 2022-07-26 14:16:23,004\tINFO trainable.py:597 -- Current state after restoring: {'_iteration': 36, '_timesteps_total': None, '_time_total': 91.78232645988464, '_episodes_total': None}\n"
          ]
        },
        {
          "output_type": "stream",
          "name": "stdout",
          "text": [
            "Trial trainable_func_806a7b6a reported epoch=1,loss=0.823328761069986,should_checkpoint=True with parameters={'act1 ': 'tanh', 'act2': 'relu', 'act3': 'relu', 'lr': 0.0007, 'batch_size': 8, 'hidden_dim1': 180.0, 'hidden_dim2': 165.0, 'hidden_dim3': 150.0}.\n",
            "Trial trainable_func_e7a9dc7c reported epoch=0,loss=0.23108728904742268,should_checkpoint=True with parameters={'act1 ': 'selu', 'act2': 'tanh', 'act3': 'selu', 'lr': 0.0009000000000000001, 'batch_size': 8, 'hidden_dim1': 255.0, 'hidden_dim2': 135.0, 'hidden_dim3': 270.0}.\n"
          ]
        },
        {
          "output_type": "stream",
          "name": "stderr",
          "text": [
            "\u001b[2m\u001b[36m(func pid=245736)\u001b[0m 2022-07-26 14:16:25,245\tINFO trainable.py:589 -- Restored on 172.28.0.2 from checkpoint: /root/ray_results/trainable_func_2022-07-26_14-11-15/trainable_func_e7a9dc7c_7_act1=selu,act2=tanh,act3=selu,batch_size=8,hidden_dim1=255.0000,hidden_dim2=135.0000,hidden_dim3=270.000_2022-07-26_14-12-00/checkpoint_tmp50ff8d/./\n",
            "\u001b[2m\u001b[36m(func pid=245736)\u001b[0m 2022-07-26 14:16:25,246\tINFO trainable.py:597 -- Current state after restoring: {'_iteration': 14, '_timesteps_total': None, '_time_total': 90.27723097801208, '_episodes_total': None}\n"
          ]
        },
        {
          "output_type": "stream",
          "name": "stdout",
          "text": [
            "Trial trainable_func_e1d34c66 reported epoch=0,loss=0.03327866559668958,should_checkpoint=True with parameters={'act1 ': 'tanh', 'act2': 'relu', 'act3': 'tanh', 'lr': 0.0006000000000000001, 'batch_size': 32, 'hidden_dim1': 240.0, 'hidden_dim2': 285.0, 'hidden_dim3': 285.0}.\n"
          ]
        },
        {
          "output_type": "stream",
          "name": "stderr",
          "text": [
            "\u001b[2m\u001b[36m(func pid=245807)\u001b[0m 2022-07-26 14:16:26,281\tINFO trainable.py:589 -- Restored on 172.28.0.2 from checkpoint: /root/ray_results/trainable_func_2022-07-26_14-11-15/trainable_func_e1d34c66_6_act1=tanh,act2=relu,act3=tanh,batch_size=32,hidden_dim1=240.0000,hidden_dim2=285.0000,hidden_dim3=285.00_2022-07-26_14-11-55/checkpoint_tmp4c5337/./\n",
            "\u001b[2m\u001b[36m(func pid=245807)\u001b[0m 2022-07-26 14:16:26,282\tINFO trainable.py:597 -- Current state after restoring: {'_iteration': 37, '_timesteps_total': None, '_time_total': 94.29143714904785, '_episodes_total': None}\n"
          ]
        },
        {
          "output_type": "stream",
          "name": "stdout",
          "text": [
            "== Status ==\n",
            "Current time: 2022-07-26 14:16:28 (running for 00:05:13.35)\n",
            "Memory usage on this node: 2.5/12.7 GiB\n",
            "Using MedianStoppingRule: num_stopped=2.\n",
            "Resources requested: 2.0/2 CPUs, 0/0 GPUs, 0.0/7.47 GiB heap, 0.0/3.73 GiB objects\n",
            "Result logdir: /root/ray_results/trainable_func_2022-07-26_14-11-15\n",
            "Number of trials: 16/50 (6 PAUSED, 4 RUNNING, 6 TERMINATED)\n",
            "\n",
            "\n",
            "Trial trainable_func_806a7b6a reported epoch=2,loss=0.6047384973802536,should_checkpoint=True with parameters={'act1 ': 'tanh', 'act2': 'relu', 'act3': 'relu', 'lr': 0.0007, 'batch_size': 8, 'hidden_dim1': 180.0, 'hidden_dim2': 165.0, 'hidden_dim3': 150.0}.\n",
            "Trial trainable_func_cfe888ea reported epoch=0,loss=0.10680080920416649,should_checkpoint=True with parameters={'act1 ': 'tanh', 'act2': 'tanh', 'act3': 'selu', 'lr': 0.0009000000000000001, 'batch_size': 8, 'hidden_dim1': 270.0, 'hidden_dim2': 300.0, 'hidden_dim3': 165.0}.\n"
          ]
        },
        {
          "output_type": "stream",
          "name": "stderr",
          "text": [
            "\u001b[2m\u001b[36m(func pid=245807)\u001b[0m 2022-07-26 14:16:29,184\tINFO trainable.py:589 -- Restored on 172.28.0.2 from checkpoint: /root/ray_results/trainable_func_2022-07-26_14-11-15/trainable_func_e1d34c66_6_act1=tanh,act2=relu,act3=tanh,batch_size=32,hidden_dim1=240.0000,hidden_dim2=285.0000,hidden_dim3=285.00_2022-07-26_14-11-55/checkpoint_tmp68e00e/./\n",
            "\u001b[2m\u001b[36m(func pid=245807)\u001b[0m 2022-07-26 14:16:29,184\tINFO trainable.py:597 -- Current state after restoring: {'_iteration': 38, '_timesteps_total': None, '_time_total': 96.74206805229187, '_episodes_total': None}\n",
            "\u001b[2m\u001b[36m(func pid=245735)\u001b[0m 2022-07-26 14:16:29,954\tINFO trainable.py:589 -- Restored on 172.28.0.2 from checkpoint: /root/ray_results/trainable_func_2022-07-26_14-11-15/trainable_func_cfe888ea_5_act1=tanh,act2=tanh,act3=selu,batch_size=8,hidden_dim1=270.0000,hidden_dim2=300.0000,hidden_dim3=165.000_2022-07-26_14-11-45/checkpoint_tmpeb29fc/./\n",
            "\u001b[2m\u001b[36m(func pid=245735)\u001b[0m 2022-07-26 14:16:29,954\tINFO trainable.py:597 -- Current state after restoring: {'_iteration': 23, '_timesteps_total': None, '_time_total': 169.2858591079712, '_episodes_total': None}\n"
          ]
        },
        {
          "output_type": "stream",
          "name": "stdout",
          "text": [
            "Trial trainable_func_e7a9dc7c reported epoch=0,loss=0.16889730060692248,should_checkpoint=True with parameters={'act1 ': 'selu', 'act2': 'tanh', 'act3': 'selu', 'lr': 0.0009000000000000001, 'batch_size': 8, 'hidden_dim1': 255.0, 'hidden_dim2': 135.0, 'hidden_dim3': 270.0}.\n",
            "Trial trainable_func_e1d34c66 reported epoch=0,loss=0.04235083410134437,should_checkpoint=True with parameters={'act1 ': 'tanh', 'act2': 'relu', 'act3': 'tanh', 'lr': 0.0006000000000000001, 'batch_size': 32, 'hidden_dim1': 240.0, 'hidden_dim2': 285.0, 'hidden_dim3': 285.0}.\n"
          ]
        },
        {
          "output_type": "stream",
          "name": "stderr",
          "text": [
            "\u001b[2m\u001b[36m(func pid=245736)\u001b[0m 2022-07-26 14:16:31,799\tINFO trainable.py:589 -- Restored on 172.28.0.2 from checkpoint: /root/ray_results/trainable_func_2022-07-26_14-11-15/trainable_func_e7a9dc7c_7_act1=selu,act2=tanh,act3=selu,batch_size=8,hidden_dim1=255.0000,hidden_dim2=135.0000,hidden_dim3=270.000_2022-07-26_14-12-00/checkpoint_tmp2ae9d6/./\n",
            "\u001b[2m\u001b[36m(func pid=245736)\u001b[0m 2022-07-26 14:16:31,799\tINFO trainable.py:597 -- Current state after restoring: {'_iteration': 15, '_timesteps_total': None, '_time_total': 96.26047730445862, '_episodes_total': None}\n",
            "\u001b[2m\u001b[36m(func pid=245807)\u001b[0m 2022-07-26 14:16:32,586\tINFO trainable.py:589 -- Restored on 172.28.0.2 from checkpoint: /root/ray_results/trainable_func_2022-07-26_14-11-15/trainable_func_e1d34c66_6_act1=tanh,act2=relu,act3=tanh,batch_size=32,hidden_dim1=240.0000,hidden_dim2=285.0000,hidden_dim3=285.00_2022-07-26_14-11-55/checkpoint_tmp473a41/./\n",
            "\u001b[2m\u001b[36m(func pid=245807)\u001b[0m 2022-07-26 14:16:32,586\tINFO trainable.py:597 -- Current state after restoring: {'_iteration': 39, '_timesteps_total': None, '_time_total': 99.04351162910461, '_episodes_total': None}\n"
          ]
        },
        {
          "output_type": "stream",
          "name": "stdout",
          "text": [
            "Trial trainable_func_806a7b6a reported epoch=3,loss=0.5873646776245041,should_checkpoint=True with parameters={'act1 ': 'tanh', 'act2': 'relu', 'act3': 'relu', 'lr': 0.0007, 'batch_size': 8, 'hidden_dim1': 180.0, 'hidden_dim2': 165.0, 'hidden_dim3': 150.0}.\n",
            "== Status ==\n",
            "Current time: 2022-07-26 14:16:34 (running for 00:05:19.17)\n",
            "Memory usage on this node: 2.5/12.7 GiB\n",
            "Using MedianStoppingRule: num_stopped=2.\n",
            "Resources requested: 2.0/2 CPUs, 0/0 GPUs, 0.0/7.47 GiB heap, 0.0/3.73 GiB objects\n",
            "Result logdir: /root/ray_results/trainable_func_2022-07-26_14-11-15\n",
            "Number of trials: 16/50 (6 PAUSED, 4 RUNNING, 6 TERMINATED)\n",
            "\n",
            "\n"
          ]
        },
        {
          "output_type": "stream",
          "name": "stderr",
          "text": [
            "\u001b[2m\u001b[36m(func pid=245807)\u001b[0m 2022-07-26 14:16:35,867\tINFO trainable.py:589 -- Restored on 172.28.0.2 from checkpoint: /root/ray_results/trainable_func_2022-07-26_14-11-15/trainable_func_e1d34c66_6_act1=tanh,act2=relu,act3=tanh,batch_size=32,hidden_dim1=240.0000,hidden_dim2=285.0000,hidden_dim3=285.00_2022-07-26_14-11-55/checkpoint_tmpdc1d8d/./\n",
            "\u001b[2m\u001b[36m(func pid=245807)\u001b[0m 2022-07-26 14:16:35,867\tINFO trainable.py:597 -- Current state after restoring: {'_iteration': 40, '_timesteps_total': None, '_time_total': 101.50785040855408, '_episodes_total': None}\n"
          ]
        },
        {
          "output_type": "stream",
          "name": "stdout",
          "text": [
            "Trial trainable_func_cfe888ea reported epoch=0,loss=0.11409703614560335,should_checkpoint=True with parameters={'act1 ': 'tanh', 'act2': 'tanh', 'act3': 'selu', 'lr': 0.0009000000000000001, 'batch_size': 8, 'hidden_dim1': 270.0, 'hidden_dim2': 300.0, 'hidden_dim3': 165.0}.\n"
          ]
        },
        {
          "output_type": "stream",
          "name": "stderr",
          "text": [
            "\u001b[2m\u001b[36m(func pid=245735)\u001b[0m 2022-07-26 14:16:37,008\tINFO trainable.py:589 -- Restored on 172.28.0.2 from checkpoint: /root/ray_results/trainable_func_2022-07-26_14-11-15/trainable_func_cfe888ea_5_act1=tanh,act2=tanh,act3=selu,batch_size=8,hidden_dim1=270.0000,hidden_dim2=300.0000,hidden_dim3=165.000_2022-07-26_14-11-45/checkpoint_tmp90e335/./\n",
            "\u001b[2m\u001b[36m(func pid=245735)\u001b[0m 2022-07-26 14:16:37,008\tINFO trainable.py:597 -- Current state after restoring: {'_iteration': 24, '_timesteps_total': None, '_time_total': 175.90338253974915, '_episodes_total': None}\n"
          ]
        },
        {
          "output_type": "stream",
          "name": "stdout",
          "text": [
            "Trial trainable_func_e7a9dc7c reported epoch=0,loss=0.17262535424495318,should_checkpoint=True with parameters={'act1 ': 'selu', 'act2': 'tanh', 'act3': 'selu', 'lr': 0.0009000000000000001, 'batch_size': 8, 'hidden_dim1': 255.0, 'hidden_dim2': 135.0, 'hidden_dim3': 270.0}.\n",
            "Trial trainable_func_e1d34c66 reported epoch=0,loss=0.04687666043142494,should_checkpoint=True with parameters={'act1 ': 'tanh', 'act2': 'relu', 'act3': 'tanh', 'lr': 0.0006000000000000001, 'batch_size': 32, 'hidden_dim1': 240.0, 'hidden_dim2': 285.0, 'hidden_dim3': 285.0}.\n"
          ]
        },
        {
          "output_type": "stream",
          "name": "stderr",
          "text": [
            "\u001b[2m\u001b[36m(func pid=245736)\u001b[0m 2022-07-26 14:16:38,285\tINFO trainable.py:589 -- Restored on 172.28.0.2 from checkpoint: /root/ray_results/trainable_func_2022-07-26_14-11-15/trainable_func_e7a9dc7c_7_act1=selu,act2=tanh,act3=selu,batch_size=8,hidden_dim1=255.0000,hidden_dim2=135.0000,hidden_dim3=270.000_2022-07-26_14-12-00/checkpoint_tmp50924c/./\n",
            "\u001b[2m\u001b[36m(func pid=245736)\u001b[0m 2022-07-26 14:16:38,285\tINFO trainable.py:597 -- Current state after restoring: {'_iteration': 16, '_timesteps_total': None, '_time_total': 102.04143166542053, '_episodes_total': None}\n",
            "\u001b[2m\u001b[36m(func pid=245807)\u001b[0m 2022-07-26 14:16:39,008\tINFO trainable.py:589 -- Restored on 172.28.0.2 from checkpoint: /root/ray_results/trainable_func_2022-07-26_14-11-15/trainable_func_e1d34c66_6_act1=tanh,act2=relu,act3=tanh,batch_size=32,hidden_dim1=240.0000,hidden_dim2=285.0000,hidden_dim3=285.00_2022-07-26_14-11-55/checkpoint_tmpec9ea9/./\n",
            "\u001b[2m\u001b[36m(func pid=245807)\u001b[0m 2022-07-26 14:16:39,008\tINFO trainable.py:597 -- Current state after restoring: {'_iteration': 41, '_timesteps_total': None, '_time_total': 103.99542927742004, '_episodes_total': None}\n"
          ]
        },
        {
          "output_type": "stream",
          "name": "stdout",
          "text": [
            "Trial trainable_func_806a7b6a reported epoch=4,loss=0.5590254065743634,should_checkpoint=True with parameters={'act1 ': 'tanh', 'act2': 'relu', 'act3': 'relu', 'lr': 0.0007, 'batch_size': 8, 'hidden_dim1': 180.0, 'hidden_dim2': 165.0, 'hidden_dim3': 150.0}.\n",
            "== Status ==\n",
            "Current time: 2022-07-26 14:16:40 (running for 00:05:25.35)\n",
            "Memory usage on this node: 2.5/12.7 GiB\n",
            "Using MedianStoppingRule: num_stopped=2.\n",
            "Resources requested: 2.0/2 CPUs, 0/0 GPUs, 0.0/7.47 GiB heap, 0.0/3.73 GiB objects\n",
            "Result logdir: /root/ray_results/trainable_func_2022-07-26_14-11-15\n",
            "Number of trials: 16/50 (6 PAUSED, 4 RUNNING, 6 TERMINATED)\n",
            "\n",
            "\n"
          ]
        },
        {
          "output_type": "stream",
          "name": "stderr",
          "text": [
            "\u001b[2m\u001b[36m(func pid=245807)\u001b[0m 2022-07-26 14:16:42,206\tINFO trainable.py:589 -- Restored on 172.28.0.2 from checkpoint: /root/ray_results/trainable_func_2022-07-26_14-11-15/trainable_func_e1d34c66_6_act1=tanh,act2=relu,act3=tanh,batch_size=32,hidden_dim1=240.0000,hidden_dim2=285.0000,hidden_dim3=285.00_2022-07-26_14-11-55/checkpoint_tmp604fe7/./\n",
            "\u001b[2m\u001b[36m(func pid=245807)\u001b[0m 2022-07-26 14:16:42,206\tINFO trainable.py:597 -- Current state after restoring: {'_iteration': 42, '_timesteps_total': None, '_time_total': 106.3720395565033, '_episodes_total': None}\n"
          ]
        },
        {
          "output_type": "stream",
          "name": "stdout",
          "text": [
            "Trial trainable_func_e7a9dc7c reported epoch=0,loss=0.20542037763147722,should_checkpoint=True with parameters={'act1 ': 'selu', 'act2': 'tanh', 'act3': 'selu', 'lr': 0.0009000000000000001, 'batch_size': 8, 'hidden_dim1': 255.0, 'hidden_dim2': 135.0, 'hidden_dim3': 270.0}.\n",
            "Trial trainable_func_e1d34c66 reported epoch=0,loss=0.03324554079815805,should_checkpoint=True with parameters={'act1 ': 'tanh', 'act2': 'relu', 'act3': 'tanh', 'lr': 0.0006000000000000001, 'batch_size': 32, 'hidden_dim1': 240.0, 'hidden_dim2': 285.0, 'hidden_dim3': 285.0}.\n",
            "Trial trainable_func_cfe888ea reported epoch=0,loss=0.10358355617339508,should_checkpoint=True with parameters={'act1 ': 'tanh', 'act2': 'tanh', 'act3': 'selu', 'lr': 0.0009000000000000001, 'batch_size': 8, 'hidden_dim1': 270.0, 'hidden_dim2': 300.0, 'hidden_dim3': 165.0}.\n"
          ]
        },
        {
          "output_type": "stream",
          "name": "stderr",
          "text": [
            "\u001b[2m\u001b[36m(func pid=245736)\u001b[0m 2022-07-26 14:16:44,759\tINFO trainable.py:589 -- Restored on 172.28.0.2 from checkpoint: /root/ray_results/trainable_func_2022-07-26_14-11-15/trainable_func_e7a9dc7c_7_act1=selu,act2=tanh,act3=selu,batch_size=8,hidden_dim1=255.0000,hidden_dim2=135.0000,hidden_dim3=270.000_2022-07-26_14-12-00/checkpoint_tmpd82666/./\n",
            "\u001b[2m\u001b[36m(func pid=245736)\u001b[0m 2022-07-26 14:16:44,760\tINFO trainable.py:597 -- Current state after restoring: {'_iteration': 17, '_timesteps_total': None, '_time_total': 107.94289565086365, '_episodes_total': None}\n"
          ]
        },
        {
          "output_type": "stream",
          "name": "stdout",
          "text": [
            "== Status ==\n",
            "Current time: 2022-07-26 14:16:45 (running for 00:05:30.40)\n",
            "Memory usage on this node: 2.4/12.7 GiB\n",
            "Using MedianStoppingRule: num_stopped=2.\n",
            "Resources requested: 1.5/2 CPUs, 0/0 GPUs, 0.0/7.47 GiB heap, 0.0/3.73 GiB objects\n",
            "Result logdir: /root/ray_results/trainable_func_2022-07-26_14-11-15\n",
            "Number of trials: 16/50 (7 PAUSED, 3 RUNNING, 6 TERMINATED)\n",
            "\n",
            "\n",
            "Trial trainable_func_806a7b6a reported epoch=5,loss=0.5718528775072002,should_checkpoint=True with parameters={'act1 ': 'tanh', 'act2': 'relu', 'act3': 'relu', 'lr': 0.0007, 'batch_size': 8, 'hidden_dim1': 180.0, 'hidden_dim2': 165.0, 'hidden_dim3': 150.0}.\n"
          ]
        },
        {
          "output_type": "stream",
          "name": "stderr",
          "text": [
            "\u001b[2m\u001b[36m(func pid=245807)\u001b[0m 2022-07-26 14:16:45,145\tINFO trainable.py:589 -- Restored on 172.28.0.2 from checkpoint: /root/ray_results/trainable_func_2022-07-26_14-11-15/trainable_func_e1d34c66_6_act1=tanh,act2=relu,act3=tanh,batch_size=32,hidden_dim1=240.0000,hidden_dim2=285.0000,hidden_dim3=285.00_2022-07-26_14-11-55/checkpoint_tmpdc7625/./\n",
            "\u001b[2m\u001b[36m(func pid=245807)\u001b[0m 2022-07-26 14:16:45,146\tINFO trainable.py:597 -- Current state after restoring: {'_iteration': 43, '_timesteps_total': None, '_time_total': 108.5668511390686, '_episodes_total': None}\n",
            "\u001b[2m\u001b[36m(func pid=245735)\u001b[0m 2022-07-26 14:16:45,840\tINFO trainable.py:589 -- Restored on 172.28.0.2 from checkpoint: /root/ray_results/trainable_func_2022-07-26_14-11-15/trainable_func_cfe888ea_5_act1=tanh,act2=tanh,act3=selu,batch_size=8,hidden_dim1=270.0000,hidden_dim2=300.0000,hidden_dim3=165.000_2022-07-26_14-11-45/checkpoint_tmpfa9de5/./\n",
            "\u001b[2m\u001b[36m(func pid=245735)\u001b[0m 2022-07-26 14:16:45,840\tINFO trainable.py:597 -- Current state after restoring: {'_iteration': 25, '_timesteps_total': None, '_time_total': 183.37483763694763, '_episodes_total': None}\n",
            "\u001b[2m\u001b[36m(func pid=245807)\u001b[0m 2022-07-26 14:16:47,856\tINFO trainable.py:589 -- Restored on 172.28.0.2 from checkpoint: /root/ray_results/trainable_func_2022-07-26_14-11-15/trainable_func_e1d34c66_6_act1=tanh,act2=relu,act3=tanh,batch_size=32,hidden_dim1=240.0000,hidden_dim2=285.0000,hidden_dim3=285.00_2022-07-26_14-11-55/checkpoint_tmpcf4080/./\n",
            "\u001b[2m\u001b[36m(func pid=245807)\u001b[0m 2022-07-26 14:16:47,856\tINFO trainable.py:597 -- Current state after restoring: {'_iteration': 44, '_timesteps_total': None, '_time_total': 110.56584787368774, '_episodes_total': None}\n"
          ]
        },
        {
          "output_type": "stream",
          "name": "stdout",
          "text": [
            "Trial trainable_func_e7a9dc7c reported epoch=0,loss=0.160046437428659,should_checkpoint=True with parameters={'act1 ': 'selu', 'act2': 'tanh', 'act3': 'selu', 'lr': 0.0009000000000000001, 'batch_size': 8, 'hidden_dim1': 255.0, 'hidden_dim2': 135.0, 'hidden_dim3': 270.0}.\n",
            "Trial trainable_func_e1d34c66 reported epoch=0,loss=0.038650783628551594,should_checkpoint=True with parameters={'act1 ': 'tanh', 'act2': 'relu', 'act3': 'tanh', 'lr': 0.0006000000000000001, 'batch_size': 32, 'hidden_dim1': 240.0, 'hidden_dim2': 285.0, 'hidden_dim3': 285.0}.\n"
          ]
        },
        {
          "output_type": "stream",
          "name": "stderr",
          "text": [
            "\u001b[2m\u001b[36m(func pid=245736)\u001b[0m 2022-07-26 14:16:50,480\tINFO trainable.py:589 -- Restored on 172.28.0.2 from checkpoint: /root/ray_results/trainable_func_2022-07-26_14-11-15/trainable_func_e7a9dc7c_7_act1=selu,act2=tanh,act3=selu,batch_size=8,hidden_dim1=255.0000,hidden_dim2=135.0000,hidden_dim3=270.000_2022-07-26_14-12-00/checkpoint_tmp89a6a7/./\n",
            "\u001b[2m\u001b[36m(func pid=245736)\u001b[0m 2022-07-26 14:16:50,480\tINFO trainable.py:597 -- Current state after restoring: {'_iteration': 18, '_timesteps_total': None, '_time_total': 113.10346865653992, '_episodes_total': None}\n",
            "\u001b[2m\u001b[36m(func pid=245807)\u001b[0m 2022-07-26 14:16:51,157\tINFO trainable.py:589 -- Restored on 172.28.0.2 from checkpoint: /root/ray_results/trainable_func_2022-07-26_14-11-15/trainable_func_e1d34c66_6_act1=tanh,act2=relu,act3=tanh,batch_size=32,hidden_dim1=240.0000,hidden_dim2=285.0000,hidden_dim3=285.00_2022-07-26_14-11-55/checkpoint_tmpf1ac73/./\n",
            "\u001b[2m\u001b[36m(func pid=245807)\u001b[0m 2022-07-26 14:16:51,159\tINFO trainable.py:597 -- Current state after restoring: {'_iteration': 45, '_timesteps_total': None, '_time_total': 112.78785014152527, '_episodes_total': None}\n"
          ]
        },
        {
          "output_type": "stream",
          "name": "stdout",
          "text": [
            "== Status ==\n",
            "Current time: 2022-07-26 14:16:51 (running for 00:05:35.73)\n",
            "Memory usage on this node: 2.5/12.7 GiB\n",
            "Using MedianStoppingRule: num_stopped=2.\n",
            "Resources requested: 1.5/2 CPUs, 0/0 GPUs, 0.0/7.47 GiB heap, 0.0/3.73 GiB objects\n",
            "Result logdir: /root/ray_results/trainable_func_2022-07-26_14-11-15\n",
            "Number of trials: 16/50 (7 PAUSED, 3 RUNNING, 6 TERMINATED)\n",
            "\n",
            "\n",
            "Trial trainable_func_806a7b6a reported epoch=6,loss=0.6145076874962656,should_checkpoint=True with parameters={'act1 ': 'tanh', 'act2': 'relu', 'act3': 'relu', 'lr': 0.0007, 'batch_size': 8, 'hidden_dim1': 180.0, 'hidden_dim2': 165.0, 'hidden_dim3': 150.0}.\n",
            "Trial trainable_func_cfe888ea reported epoch=0,loss=0.07866543962781421,should_checkpoint=True with parameters={'act1 ': 'tanh', 'act2': 'tanh', 'act3': 'selu', 'lr': 0.0009000000000000001, 'batch_size': 8, 'hidden_dim1': 270.0, 'hidden_dim2': 300.0, 'hidden_dim3': 165.0}.\n"
          ]
        },
        {
          "output_type": "stream",
          "name": "stderr",
          "text": [
            "\u001b[2m\u001b[36m(func pid=245735)\u001b[0m 2022-07-26 14:16:53,784\tINFO trainable.py:589 -- Restored on 172.28.0.2 from checkpoint: /root/ray_results/trainable_func_2022-07-26_14-11-15/trainable_func_cfe888ea_5_act1=tanh,act2=tanh,act3=selu,batch_size=8,hidden_dim1=270.0000,hidden_dim2=300.0000,hidden_dim3=165.000_2022-07-26_14-11-45/checkpoint_tmp85a38c/./\n",
            "\u001b[2m\u001b[36m(func pid=245735)\u001b[0m 2022-07-26 14:16:53,784\tINFO trainable.py:597 -- Current state after restoring: {'_iteration': 26, '_timesteps_total': None, '_time_total': 190.5676805973053, '_episodes_total': None}\n",
            "\u001b[2m\u001b[36m(func pid=245807)\u001b[0m 2022-07-26 14:16:54,493\tINFO trainable.py:589 -- Restored on 172.28.0.2 from checkpoint: /root/ray_results/trainable_func_2022-07-26_14-11-15/trainable_func_e1d34c66_6_act1=tanh,act2=relu,act3=tanh,batch_size=32,hidden_dim1=240.0000,hidden_dim2=285.0000,hidden_dim3=285.00_2022-07-26_14-11-55/checkpoint_tmpb37eff/./\n",
            "\u001b[2m\u001b[36m(func pid=245807)\u001b[0m 2022-07-26 14:16:54,498\tINFO trainable.py:597 -- Current state after restoring: {'_iteration': 46, '_timesteps_total': None, '_time_total': 115.29131650924683, '_episodes_total': None}\n"
          ]
        },
        {
          "output_type": "stream",
          "name": "stdout",
          "text": [
            "Trial trainable_func_e7a9dc7c reported epoch=0,loss=0.15226351548473568,should_checkpoint=True with parameters={'act1 ': 'selu', 'act2': 'tanh', 'act3': 'selu', 'lr': 0.0009000000000000001, 'batch_size': 8, 'hidden_dim1': 255.0, 'hidden_dim2': 135.0, 'hidden_dim3': 270.0}.\n",
            "== Status ==\n",
            "Current time: 2022-07-26 14:16:56 (running for 00:05:40.84)\n",
            "Memory usage on this node: 2.5/12.7 GiB\n",
            "Using MedianStoppingRule: num_stopped=2.\n",
            "Resources requested: 2.0/2 CPUs, 0/0 GPUs, 0.0/7.47 GiB heap, 0.0/3.73 GiB objects\n",
            "Result logdir: /root/ray_results/trainable_func_2022-07-26_14-11-15\n",
            "Number of trials: 16/50 (6 PAUSED, 4 RUNNING, 6 TERMINATED)\n",
            "\n",
            "\n"
          ]
        },
        {
          "output_type": "stream",
          "name": "stderr",
          "text": [
            "\u001b[2m\u001b[36m(func pid=245736)\u001b[0m 2022-07-26 14:16:56,957\tINFO trainable.py:589 -- Restored on 172.28.0.2 from checkpoint: /root/ray_results/trainable_func_2022-07-26_14-11-15/trainable_func_e7a9dc7c_7_act1=selu,act2=tanh,act3=selu,batch_size=8,hidden_dim1=255.0000,hidden_dim2=135.0000,hidden_dim3=270.000_2022-07-26_14-12-00/checkpoint_tmp442304/./\n",
            "\u001b[2m\u001b[36m(func pid=245736)\u001b[0m 2022-07-26 14:16:56,957\tINFO trainable.py:597 -- Current state after restoring: {'_iteration': 19, '_timesteps_total': None, '_time_total': 118.85407328605652, '_episodes_total': None}\n"
          ]
        },
        {
          "output_type": "stream",
          "name": "stdout",
          "text": [
            "Trial trainable_func_e1d34c66 reported epoch=0,loss=0.034963197466326444,should_checkpoint=True with parameters={'act1 ': 'tanh', 'act2': 'relu', 'act3': 'tanh', 'lr': 0.0006000000000000001, 'batch_size': 32, 'hidden_dim1': 240.0, 'hidden_dim2': 285.0, 'hidden_dim3': 285.0}.\n",
            "Trial trainable_func_806a7b6a reported epoch=7,loss=0.5852967662594729,should_checkpoint=True with parameters={'act1 ': 'tanh', 'act2': 'relu', 'act3': 'relu', 'lr': 0.0007, 'batch_size': 8, 'hidden_dim1': 180.0, 'hidden_dim2': 165.0, 'hidden_dim3': 150.0}.\n"
          ]
        },
        {
          "output_type": "stream",
          "name": "stderr",
          "text": [
            "\u001b[2m\u001b[36m(func pid=245807)\u001b[0m 2022-07-26 14:16:57,758\tINFO trainable.py:589 -- Restored on 172.28.0.2 from checkpoint: /root/ray_results/trainable_func_2022-07-26_14-11-15/trainable_func_e1d34c66_6_act1=tanh,act2=relu,act3=tanh,batch_size=32,hidden_dim1=240.0000,hidden_dim2=285.0000,hidden_dim3=285.00_2022-07-26_14-11-55/checkpoint_tmpaa5f17/./\n",
            "\u001b[2m\u001b[36m(func pid=245807)\u001b[0m 2022-07-26 14:16:57,758\tINFO trainable.py:597 -- Current state after restoring: {'_iteration': 47, '_timesteps_total': None, '_time_total': 117.84675908088684, '_episodes_total': None}\n",
            "\u001b[2m\u001b[36m(func pid=245807)\u001b[0m 2022-07-26 14:17:00,741\tINFO trainable.py:589 -- Restored on 172.28.0.2 from checkpoint: /root/ray_results/trainable_func_2022-07-26_14-11-15/trainable_func_e1d34c66_6_act1=tanh,act2=relu,act3=tanh,batch_size=32,hidden_dim1=240.0000,hidden_dim2=285.0000,hidden_dim3=285.00_2022-07-26_14-11-55/checkpoint_tmpb4e35e/./\n",
            "\u001b[2m\u001b[36m(func pid=245807)\u001b[0m 2022-07-26 14:17:00,748\tINFO trainable.py:597 -- Current state after restoring: {'_iteration': 48, '_timesteps_total': None, '_time_total': 120.26429724693298, '_episodes_total': None}\n"
          ]
        },
        {
          "output_type": "stream",
          "name": "stdout",
          "text": [
            "Trial trainable_func_cfe888ea reported epoch=0,loss=0.0935402688208092,should_checkpoint=True with parameters={'act1 ': 'tanh', 'act2': 'tanh', 'act3': 'selu', 'lr': 0.0009000000000000001, 'batch_size': 8, 'hidden_dim1': 270.0, 'hidden_dim2': 300.0, 'hidden_dim3': 165.0}.\n",
            "== Status ==\n",
            "Current time: 2022-07-26 14:17:01 (running for 00:05:46.14)\n",
            "Memory usage on this node: 2.4/12.7 GiB\n",
            "Using MedianStoppingRule: num_stopped=2.\n",
            "Resources requested: 1.5/2 CPUs, 0/0 GPUs, 0.0/7.47 GiB heap, 0.0/3.73 GiB objects\n",
            "Result logdir: /root/ray_results/trainable_func_2022-07-26_14-11-15\n",
            "Number of trials: 16/50 (7 PAUSED, 3 RUNNING, 6 TERMINATED)\n",
            "\n",
            "\n"
          ]
        },
        {
          "output_type": "stream",
          "name": "stderr",
          "text": [
            "\u001b[2m\u001b[36m(func pid=245735)\u001b[0m 2022-07-26 14:17:01,585\tINFO trainable.py:589 -- Restored on 172.28.0.2 from checkpoint: /root/ray_results/trainable_func_2022-07-26_14-11-15/trainable_func_cfe888ea_5_act1=tanh,act2=tanh,act3=selu,batch_size=8,hidden_dim1=270.0000,hidden_dim2=300.0000,hidden_dim3=165.000_2022-07-26_14-11-45/checkpoint_tmped3bc4/./\n",
            "\u001b[2m\u001b[36m(func pid=245735)\u001b[0m 2022-07-26 14:17:01,585\tINFO trainable.py:597 -- Current state after restoring: {'_iteration': 27, '_timesteps_total': None, '_time_total': 197.6417441368103, '_episodes_total': None}\n"
          ]
        },
        {
          "output_type": "stream",
          "name": "stdout",
          "text": [
            "Trial trainable_func_e7a9dc7c reported epoch=0,loss=0.13846978475303193,should_checkpoint=True with parameters={'act1 ': 'selu', 'act2': 'tanh', 'act3': 'selu', 'lr': 0.0009000000000000001, 'batch_size': 8, 'hidden_dim1': 255.0, 'hidden_dim2': 135.0, 'hidden_dim3': 270.0}.\n",
            "Trial trainable_func_e1d34c66 reported epoch=0,loss=0.03212766017458405,should_checkpoint=True with parameters={'act1 ': 'tanh', 'act2': 'relu', 'act3': 'tanh', 'lr': 0.0006000000000000001, 'batch_size': 32, 'hidden_dim1': 240.0, 'hidden_dim2': 285.0, 'hidden_dim3': 285.0}.\n"
          ]
        },
        {
          "output_type": "stream",
          "name": "stderr",
          "text": [
            "\u001b[2m\u001b[36m(func pid=245736)\u001b[0m 2022-07-26 14:17:03,059\tINFO trainable.py:589 -- Restored on 172.28.0.2 from checkpoint: /root/ray_results/trainable_func_2022-07-26_14-11-15/trainable_func_e7a9dc7c_7_act1=selu,act2=tanh,act3=selu,batch_size=8,hidden_dim1=255.0000,hidden_dim2=135.0000,hidden_dim3=270.000_2022-07-26_14-12-00/checkpoint_tmpe4cc34/./\n",
            "\u001b[2m\u001b[36m(func pid=245736)\u001b[0m 2022-07-26 14:17:03,059\tINFO trainable.py:597 -- Current state after restoring: {'_iteration': 20, '_timesteps_total': None, '_time_total': 124.22320652008057, '_episodes_total': None}\n",
            "\u001b[2m\u001b[36m(func pid=245807)\u001b[0m 2022-07-26 14:17:03,800\tINFO trainable.py:589 -- Restored on 172.28.0.2 from checkpoint: /root/ray_results/trainable_func_2022-07-26_14-11-15/trainable_func_e1d34c66_6_act1=tanh,act2=relu,act3=tanh,batch_size=32,hidden_dim1=240.0000,hidden_dim2=285.0000,hidden_dim3=285.00_2022-07-26_14-11-55/checkpoint_tmp54ade7/./\n",
            "\u001b[2m\u001b[36m(func pid=245807)\u001b[0m 2022-07-26 14:17:03,800\tINFO trainable.py:597 -- Current state after restoring: {'_iteration': 49, '_timesteps_total': None, '_time_total': 122.4837121963501, '_episodes_total': None}\n"
          ]
        },
        {
          "output_type": "stream",
          "name": "stdout",
          "text": [
            "Trial trainable_func_806a7b6a reported epoch=8,loss=0.6037600918523565,should_checkpoint=True with parameters={'act1 ': 'tanh', 'act2': 'relu', 'act3': 'relu', 'lr': 0.0007, 'batch_size': 8, 'hidden_dim1': 180.0, 'hidden_dim2': 165.0, 'hidden_dim3': 150.0}.\n",
            "Trial trainable_func_e1d34c66 reported epoch=0,loss=0.02461006525904424,should_checkpoint=True with parameters={'act1 ': 'tanh', 'act2': 'relu', 'act3': 'tanh', 'lr': 0.0006000000000000001, 'batch_size': 32, 'hidden_dim1': 240.0, 'hidden_dim2': 285.0, 'hidden_dim3': 285.0}. This trial completed.\n",
            "Trial trainable_func_a0db98f2 reported epoch=0,loss=0.8030759591771932,should_checkpoint=True with parameters={'act1 ': 'selu', 'act2': 'tanh', 'act3': 'selu', 'lr': 0.0009000000000000001, 'batch_size': 64, 'hidden_dim1': 240.0, 'hidden_dim2': 195.0, 'hidden_dim3': 255.0}.\n",
            "== Status ==\n",
            "Current time: 2022-07-26 14:17:07 (running for 00:05:52.41)\n",
            "Memory usage on this node: 2.5/12.7 GiB\n",
            "Using MedianStoppingRule: num_stopped=2.\n",
            "Resources requested: 2.0/2 CPUs, 0/0 GPUs, 0.0/7.47 GiB heap, 0.0/3.73 GiB objects\n",
            "Result logdir: /root/ray_results/trainable_func_2022-07-26_14-11-15\n",
            "Number of trials: 17/50 (6 PAUSED, 4 RUNNING, 7 TERMINATED)\n",
            "\n",
            "\n",
            "Trial trainable_func_cfe888ea reported epoch=0,loss=0.09459458329417633,should_checkpoint=True with parameters={'act1 ': 'tanh', 'act2': 'tanh', 'act3': 'selu', 'lr': 0.0009000000000000001, 'batch_size': 8, 'hidden_dim1': 270.0, 'hidden_dim2': 300.0, 'hidden_dim3': 165.0}.\n",
            "Trial trainable_func_e7a9dc7c reported epoch=0,loss=0.10441710947231322,should_checkpoint=True with parameters={'act1 ': 'selu', 'act2': 'tanh', 'act3': 'selu', 'lr': 0.0009000000000000001, 'batch_size': 8, 'hidden_dim1': 255.0, 'hidden_dim2': 135.0, 'hidden_dim3': 270.0}.\n"
          ]
        },
        {
          "output_type": "stream",
          "name": "stderr",
          "text": [
            "\u001b[2m\u001b[36m(func pid=245735)\u001b[0m 2022-07-26 14:17:08,984\tINFO trainable.py:589 -- Restored on 172.28.0.2 from checkpoint: /root/ray_results/trainable_func_2022-07-26_14-11-15/trainable_func_cfe888ea_5_act1=tanh,act2=tanh,act3=selu,batch_size=8,hidden_dim1=270.0000,hidden_dim2=300.0000,hidden_dim3=165.000_2022-07-26_14-11-45/checkpoint_tmpf0239c/./\n",
            "\u001b[2m\u001b[36m(func pid=245735)\u001b[0m 2022-07-26 14:17:08,985\tINFO trainable.py:597 -- Current state after restoring: {'_iteration': 28, '_timesteps_total': None, '_time_total': 204.51774835586548, '_episodes_total': None}\n",
            "\u001b[2m\u001b[36m(func pid=245736)\u001b[0m 2022-07-26 14:17:09,498\tINFO trainable.py:589 -- Restored on 172.28.0.2 from checkpoint: /root/ray_results/trainable_func_2022-07-26_14-11-15/trainable_func_e7a9dc7c_7_act1=selu,act2=tanh,act3=selu,batch_size=8,hidden_dim1=255.0000,hidden_dim2=135.0000,hidden_dim3=270.000_2022-07-26_14-12-00/checkpoint_tmpf4a750/./\n",
            "\u001b[2m\u001b[36m(func pid=245736)\u001b[0m 2022-07-26 14:17:09,498\tINFO trainable.py:597 -- Current state after restoring: {'_iteration': 21, '_timesteps_total': None, '_time_total': 129.74042868614197, '_episodes_total': None}\n"
          ]
        },
        {
          "output_type": "stream",
          "name": "stdout",
          "text": [
            "Trial trainable_func_806a7b6a reported epoch=9,loss=0.6240196918921009,should_checkpoint=True with parameters={'act1 ': 'tanh', 'act2': 'relu', 'act3': 'relu', 'lr': 0.0007, 'batch_size': 8, 'hidden_dim1': 180.0, 'hidden_dim2': 165.0, 'hidden_dim3': 150.0}. This trial completed.\n",
            "Trial trainable_func_a2bc88fc reported epoch=0,loss=0.6083317725570835,should_checkpoint=True with parameters={'act1 ': 'tanh', 'act2': 'relu', 'act3': 'selu', 'lr': 0.0006000000000000001, 'batch_size': 16, 'hidden_dim1': 225.0, 'hidden_dim2': 165.0, 'hidden_dim3': 165.0}.\n",
            "== Status ==\n",
            "Current time: 2022-07-26 14:17:12 (running for 00:05:57.44)\n",
            "Memory usage on this node: 2.5/12.7 GiB\n",
            "Using MedianStoppingRule: num_stopped=3.\n",
            "Resources requested: 2.0/2 CPUs, 0/0 GPUs, 0.0/7.47 GiB heap, 0.0/3.73 GiB objects\n",
            "Result logdir: /root/ray_results/trainable_func_2022-07-26_14-11-15\n",
            "Number of trials: 18/50 (6 PAUSED, 4 RUNNING, 8 TERMINATED)\n",
            "\n",
            "\n",
            "Trial trainable_func_a0db98f2 reported epoch=4,loss=0.5735314777901932,should_checkpoint=True with parameters={'act1 ': 'selu', 'act2': 'tanh', 'act3': 'selu', 'lr': 0.0009000000000000001, 'batch_size': 64, 'hidden_dim1': 240.0, 'hidden_dim2': 195.0, 'hidden_dim3': 255.0}.\n",
            "Trial trainable_func_e7a9dc7c reported epoch=0,loss=0.1160815326704628,should_checkpoint=True with parameters={'act1 ': 'selu', 'act2': 'tanh', 'act3': 'selu', 'lr': 0.0009000000000000001, 'batch_size': 8, 'hidden_dim1': 255.0, 'hidden_dim2': 135.0, 'hidden_dim3': 270.0}.\n"
          ]
        },
        {
          "output_type": "stream",
          "name": "stderr",
          "text": [
            "\u001b[2m\u001b[36m(func pid=245736)\u001b[0m 2022-07-26 14:17:16,074\tINFO trainable.py:589 -- Restored on 172.28.0.2 from checkpoint: /root/ray_results/trainable_func_2022-07-26_14-11-15/trainable_func_e7a9dc7c_7_act1=selu,act2=tanh,act3=selu,batch_size=8,hidden_dim1=255.0000,hidden_dim2=135.0000,hidden_dim3=270.000_2022-07-26_14-12-00/checkpoint_tmp598b67/./\n",
            "\u001b[2m\u001b[36m(func pid=245736)\u001b[0m 2022-07-26 14:17:16,074\tINFO trainable.py:597 -- Current state after restoring: {'_iteration': 22, '_timesteps_total': None, '_time_total': 135.86277794837952, '_episodes_total': None}\n"
          ]
        },
        {
          "output_type": "stream",
          "name": "stdout",
          "text": [
            "Trial trainable_func_cfe888ea reported epoch=0,loss=0.09295816281509119,should_checkpoint=True with parameters={'act1 ': 'tanh', 'act2': 'tanh', 'act3': 'selu', 'lr': 0.0009000000000000001, 'batch_size': 8, 'hidden_dim1': 270.0, 'hidden_dim2': 300.0, 'hidden_dim3': 165.0}.\n"
          ]
        },
        {
          "output_type": "stream",
          "name": "stderr",
          "text": [
            "\u001b[2m\u001b[36m(func pid=245735)\u001b[0m 2022-07-26 14:17:16,986\tINFO trainable.py:589 -- Restored on 172.28.0.2 from checkpoint: /root/ray_results/trainable_func_2022-07-26_14-11-15/trainable_func_cfe888ea_5_act1=tanh,act2=tanh,act3=selu,batch_size=8,hidden_dim1=270.0000,hidden_dim2=300.0000,hidden_dim3=165.000_2022-07-26_14-11-45/checkpoint_tmpc35c0e/./\n",
            "\u001b[2m\u001b[36m(func pid=245735)\u001b[0m 2022-07-26 14:17:16,988\tINFO trainable.py:597 -- Current state after restoring: {'_iteration': 29, '_timesteps_total': None, '_time_total': 211.64002132415771, '_episodes_total': None}\n"
          ]
        },
        {
          "output_type": "stream",
          "name": "stdout",
          "text": [
            "Trial trainable_func_a0db98f2 reported epoch=8,loss=0.5541498377586177,should_checkpoint=True with parameters={'act1 ': 'selu', 'act2': 'tanh', 'act3': 'selu', 'lr': 0.0009000000000000001, 'batch_size': 64, 'hidden_dim1': 240.0, 'hidden_dim2': 195.0, 'hidden_dim3': 255.0}.\n",
            "== Status ==\n",
            "Current time: 2022-07-26 14:17:18 (running for 00:06:03.38)\n",
            "Memory usage on this node: 2.4/12.7 GiB\n",
            "Using MedianStoppingRule: num_stopped=3.\n",
            "Resources requested: 2.0/2 CPUs, 0/0 GPUs, 0.0/7.47 GiB heap, 0.0/3.73 GiB objects\n",
            "Result logdir: /root/ray_results/trainable_func_2022-07-26_14-11-15\n",
            "Number of trials: 18/50 (6 PAUSED, 4 RUNNING, 8 TERMINATED)\n",
            "\n",
            "\n",
            "Trial trainable_func_a2bc88fc reported epoch=2,loss=0.4889164863834051,should_checkpoint=True with parameters={'act1 ': 'tanh', 'act2': 'relu', 'act3': 'selu', 'lr': 0.0006000000000000001, 'batch_size': 16, 'hidden_dim1': 225.0, 'hidden_dim2': 165.0, 'hidden_dim3': 165.0}.\n",
            "Trial trainable_func_a0db98f2 reported epoch=10,loss=0.5360042144144349,should_checkpoint=True with parameters={'act1 ': 'selu', 'act2': 'tanh', 'act3': 'selu', 'lr': 0.0009000000000000001, 'batch_size': 64, 'hidden_dim1': 240.0, 'hidden_dim2': 195.0, 'hidden_dim3': 255.0}. This trial completed.\n",
            "Trial trainable_func_e7a9dc7c reported epoch=0,loss=0.10903283997867573,should_checkpoint=True with parameters={'act1 ': 'selu', 'act2': 'tanh', 'act3': 'selu', 'lr': 0.0009000000000000001, 'batch_size': 8, 'hidden_dim1': 255.0, 'hidden_dim2': 135.0, 'hidden_dim3': 270.0}.\n"
          ]
        },
        {
          "output_type": "stream",
          "name": "stderr",
          "text": [
            "\u001b[2m\u001b[36m(func pid=245736)\u001b[0m 2022-07-26 14:17:23,192\tINFO trainable.py:589 -- Restored on 172.28.0.2 from checkpoint: /root/ray_results/trainable_func_2022-07-26_14-11-15/trainable_func_e7a9dc7c_7_act1=selu,act2=tanh,act3=selu,batch_size=8,hidden_dim1=255.0000,hidden_dim2=135.0000,hidden_dim3=270.000_2022-07-26_14-12-00/checkpoint_tmp3d4f21/./\n",
            "\u001b[2m\u001b[36m(func pid=245736)\u001b[0m 2022-07-26 14:17:23,196\tINFO trainable.py:597 -- Current state after restoring: {'_iteration': 23, '_timesteps_total': None, '_time_total': 142.25442552566528, '_episodes_total': None}\n"
          ]
        },
        {
          "output_type": "stream",
          "name": "stdout",
          "text": [
            "Trial trainable_func_cfe888ea reported epoch=0,loss=0.1044412119379748,should_checkpoint=True with parameters={'act1 ': 'tanh', 'act2': 'tanh', 'act3': 'selu', 'lr': 0.0009000000000000001, 'batch_size': 8, 'hidden_dim1': 270.0, 'hidden_dim2': 300.0, 'hidden_dim3': 165.0}.\n",
            "== Status ==\n",
            "Current time: 2022-07-26 14:17:23 (running for 00:06:08.56)\n",
            "Memory usage on this node: 2.5/12.7 GiB\n",
            "Using MedianStoppingRule: num_stopped=4.\n",
            "Resources requested: 2.0/2 CPUs, 0/0 GPUs, 0.0/7.47 GiB heap, 0.0/3.73 GiB objects\n",
            "Result logdir: /root/ray_results/trainable_func_2022-07-26_14-11-15\n",
            "Number of trials: 19/50 (6 PAUSED, 4 RUNNING, 9 TERMINATED)\n",
            "\n",
            "\n"
          ]
        },
        {
          "output_type": "stream",
          "name": "stderr",
          "text": [
            "\u001b[2m\u001b[36m(func pid=245735)\u001b[0m 2022-07-26 14:17:24,626\tINFO trainable.py:589 -- Restored on 172.28.0.2 from checkpoint: /root/ray_results/trainable_func_2022-07-26_14-11-15/trainable_func_cfe888ea_5_act1=tanh,act2=tanh,act3=selu,batch_size=8,hidden_dim1=270.0000,hidden_dim2=300.0000,hidden_dim3=165.000_2022-07-26_14-11-45/checkpoint_tmp1f3815/./\n",
            "\u001b[2m\u001b[36m(func pid=245735)\u001b[0m 2022-07-26 14:17:24,627\tINFO trainable.py:597 -- Current state after restoring: {'_iteration': 30, '_timesteps_total': None, '_time_total': 218.59669017791748, '_episodes_total': None}\n"
          ]
        },
        {
          "output_type": "stream",
          "name": "stdout",
          "text": [
            "Trial trainable_func_a9bbe71a reported epoch=0,loss=0.7274084056607673,should_checkpoint=True with parameters={'act1 ': 'relu', 'act2': 'relu', 'act3': 'relu', 'lr': 0.0006000000000000001, 'batch_size': 16, 'hidden_dim1': 210.0, 'hidden_dim2': 285.0, 'hidden_dim3': 315.0}.\n",
            "Trial trainable_func_a2bc88fc reported epoch=4,loss=0.4812845212341952,should_checkpoint=True with parameters={'act1 ': 'tanh', 'act2': 'relu', 'act3': 'selu', 'lr': 0.0006000000000000001, 'batch_size': 16, 'hidden_dim1': 225.0, 'hidden_dim2': 165.0, 'hidden_dim3': 165.0}.\n",
            "== Status ==\n",
            "Current time: 2022-07-26 14:17:29 (running for 00:06:13.88)\n",
            "Memory usage on this node: 2.5/12.7 GiB\n",
            "Using MedianStoppingRule: num_stopped=4.\n",
            "Resources requested: 2.0/2 CPUs, 0/0 GPUs, 0.0/7.47 GiB heap, 0.0/3.73 GiB objects\n",
            "Result logdir: /root/ray_results/trainable_func_2022-07-26_14-11-15\n",
            "Number of trials: 19/50 (6 PAUSED, 4 RUNNING, 9 TERMINATED)\n",
            "\n",
            "\n",
            "Trial trainable_func_e7a9dc7c reported epoch=0,loss=0.11755209425037688,should_checkpoint=True with parameters={'act1 ': 'selu', 'act2': 'tanh', 'act3': 'selu', 'lr': 0.0009000000000000001, 'batch_size': 8, 'hidden_dim1': 255.0, 'hidden_dim2': 135.0, 'hidden_dim3': 270.0}.\n"
          ]
        },
        {
          "output_type": "stream",
          "name": "stderr",
          "text": [
            "\u001b[2m\u001b[36m(func pid=245736)\u001b[0m 2022-07-26 14:17:30,193\tINFO trainable.py:589 -- Restored on 172.28.0.2 from checkpoint: /root/ray_results/trainable_func_2022-07-26_14-11-15/trainable_func_e7a9dc7c_7_act1=selu,act2=tanh,act3=selu,batch_size=8,hidden_dim1=255.0000,hidden_dim2=135.0000,hidden_dim3=270.000_2022-07-26_14-12-00/checkpoint_tmpc6a5c2/./\n",
            "\u001b[2m\u001b[36m(func pid=245736)\u001b[0m 2022-07-26 14:17:30,198\tINFO trainable.py:597 -- Current state after restoring: {'_iteration': 24, '_timesteps_total': None, '_time_total': 148.5183389186859, '_episodes_total': None}\n"
          ]
        },
        {
          "output_type": "stream",
          "name": "stdout",
          "text": [
            "Trial trainable_func_a2bc88fc reported epoch=6,loss=0.5039899627415243,should_checkpoint=True with parameters={'act1 ': 'tanh', 'act2': 'relu', 'act3': 'selu', 'lr': 0.0006000000000000001, 'batch_size': 16, 'hidden_dim1': 225.0, 'hidden_dim2': 165.0, 'hidden_dim3': 165.0}.\n",
            "Trial trainable_func_cfe888ea reported epoch=0,loss=0.08604581978680242,should_checkpoint=True with parameters={'act1 ': 'tanh', 'act2': 'tanh', 'act3': 'selu', 'lr': 0.0009000000000000001, 'batch_size': 8, 'hidden_dim1': 270.0, 'hidden_dim2': 300.0, 'hidden_dim3': 165.0}.\n"
          ]
        },
        {
          "output_type": "stream",
          "name": "stderr",
          "text": [
            "\u001b[2m\u001b[36m(func pid=245735)\u001b[0m 2022-07-26 14:17:32,943\tINFO trainable.py:589 -- Restored on 172.28.0.2 from checkpoint: /root/ray_results/trainable_func_2022-07-26_14-11-15/trainable_func_cfe888ea_5_act1=tanh,act2=tanh,act3=selu,batch_size=8,hidden_dim1=270.0000,hidden_dim2=300.0000,hidden_dim3=165.000_2022-07-26_14-11-45/checkpoint_tmp3c1f24/./\n",
            "\u001b[2m\u001b[36m(func pid=245735)\u001b[0m 2022-07-26 14:17:32,943\tINFO trainable.py:597 -- Current state after restoring: {'_iteration': 31, '_timesteps_total': None, '_time_total': 226.2266080379486, '_episodes_total': None}\n"
          ]
        },
        {
          "output_type": "stream",
          "name": "stdout",
          "text": [
            "Trial trainable_func_a9bbe71a reported epoch=2,loss=0.5441079612591343,should_checkpoint=True with parameters={'act1 ': 'relu', 'act2': 'relu', 'act3': 'relu', 'lr': 0.0006000000000000001, 'batch_size': 16, 'hidden_dim1': 210.0, 'hidden_dim2': 285.0, 'hidden_dim3': 315.0}.\n",
            "== Status ==\n",
            "Current time: 2022-07-26 14:17:34 (running for 00:06:19.19)\n",
            "Memory usage on this node: 2.5/12.7 GiB\n",
            "Using MedianStoppingRule: num_stopped=4.\n",
            "Resources requested: 2.0/2 CPUs, 0/0 GPUs, 0.0/7.47 GiB heap, 0.0/3.73 GiB objects\n",
            "Result logdir: /root/ray_results/trainable_func_2022-07-26_14-11-15\n",
            "Number of trials: 19/50 (6 PAUSED, 4 RUNNING, 9 TERMINATED)\n",
            "\n",
            "\n",
            "Trial trainable_func_e7a9dc7c reported epoch=0,loss=0.12068805593469897,should_checkpoint=True with parameters={'act1 ': 'selu', 'act2': 'tanh', 'act3': 'selu', 'lr': 0.0009000000000000001, 'batch_size': 8, 'hidden_dim1': 255.0, 'hidden_dim2': 135.0, 'hidden_dim3': 270.0}.\n"
          ]
        },
        {
          "output_type": "stream",
          "name": "stderr",
          "text": [
            "\u001b[2m\u001b[36m(func pid=245736)\u001b[0m 2022-07-26 14:17:36,923\tINFO trainable.py:589 -- Restored on 172.28.0.2 from checkpoint: /root/ray_results/trainable_func_2022-07-26_14-11-15/trainable_func_e7a9dc7c_7_act1=selu,act2=tanh,act3=selu,batch_size=8,hidden_dim1=255.0000,hidden_dim2=135.0000,hidden_dim3=270.000_2022-07-26_14-12-00/checkpoint_tmp694a2e/./\n",
            "\u001b[2m\u001b[36m(func pid=245736)\u001b[0m 2022-07-26 14:17:36,923\tINFO trainable.py:597 -- Current state after restoring: {'_iteration': 25, '_timesteps_total': None, '_time_total': 154.32223057746887, '_episodes_total': None}\n"
          ]
        },
        {
          "output_type": "stream",
          "name": "stdout",
          "text": [
            "Trial trainable_func_a2bc88fc reported epoch=8,loss=0.49450907233066993,should_checkpoint=True with parameters={'act1 ': 'tanh', 'act2': 'relu', 'act3': 'selu', 'lr': 0.0006000000000000001, 'batch_size': 16, 'hidden_dim1': 225.0, 'hidden_dim2': 165.0, 'hidden_dim3': 165.0}.\n",
            "Trial trainable_func_cfe888ea reported epoch=0,loss=0.06742884234652674,should_checkpoint=True with parameters={'act1 ': 'tanh', 'act2': 'tanh', 'act3': 'selu', 'lr': 0.0009000000000000001, 'batch_size': 8, 'hidden_dim1': 270.0, 'hidden_dim2': 300.0, 'hidden_dim3': 165.0}.\n",
            "== Status ==\n",
            "Current time: 2022-07-26 14:17:40 (running for 00:06:25.14)\n",
            "Memory usage on this node: 2.5/12.7 GiB\n",
            "Using MedianStoppingRule: num_stopped=4.\n",
            "Resources requested: 2.0/2 CPUs, 0/0 GPUs, 0.0/7.47 GiB heap, 0.0/3.73 GiB objects\n",
            "Result logdir: /root/ray_results/trainable_func_2022-07-26_14-11-15\n",
            "Number of trials: 19/50 (6 PAUSED, 4 RUNNING, 9 TERMINATED)\n",
            "\n",
            "\n"
          ]
        },
        {
          "output_type": "stream",
          "name": "stderr",
          "text": [
            "\u001b[2m\u001b[36m(func pid=245735)\u001b[0m 2022-07-26 14:17:41,224\tINFO trainable.py:589 -- Restored on 172.28.0.2 from checkpoint: /root/ray_results/trainable_func_2022-07-26_14-11-15/trainable_func_cfe888ea_5_act1=tanh,act2=tanh,act3=selu,batch_size=8,hidden_dim1=270.0000,hidden_dim2=300.0000,hidden_dim3=165.000_2022-07-26_14-11-45/checkpoint_tmpe3dcff/./\n",
            "\u001b[2m\u001b[36m(func pid=245735)\u001b[0m 2022-07-26 14:17:41,224\tINFO trainable.py:597 -- Current state after restoring: {'_iteration': 32, '_timesteps_total': None, '_time_total': 233.78539109230042, '_episodes_total': None}\n"
          ]
        },
        {
          "output_type": "stream",
          "name": "stdout",
          "text": [
            "Trial trainable_func_a9bbe71a reported epoch=4,loss=0.4983346196759062,should_checkpoint=True with parameters={'act1 ': 'relu', 'act2': 'relu', 'act3': 'relu', 'lr': 0.0006000000000000001, 'batch_size': 16, 'hidden_dim1': 210.0, 'hidden_dim2': 285.0, 'hidden_dim3': 315.0}.\n",
            "Trial trainable_func_e7a9dc7c reported epoch=0,loss=0.09422258093066564,should_checkpoint=True with parameters={'act1 ': 'selu', 'act2': 'tanh', 'act3': 'selu', 'lr': 0.0009000000000000001, 'batch_size': 8, 'hidden_dim1': 255.0, 'hidden_dim2': 135.0, 'hidden_dim3': 270.0}.\n"
          ]
        },
        {
          "output_type": "stream",
          "name": "stderr",
          "text": [
            "\u001b[2m\u001b[36m(func pid=245736)\u001b[0m 2022-07-26 14:17:43,065\tINFO trainable.py:589 -- Restored on 172.28.0.2 from checkpoint: /root/ray_results/trainable_func_2022-07-26_14-11-15/trainable_func_e7a9dc7c_7_act1=selu,act2=tanh,act3=selu,batch_size=8,hidden_dim1=255.0000,hidden_dim2=135.0000,hidden_dim3=270.000_2022-07-26_14-12-00/checkpoint_tmp668cb6/./\n",
            "\u001b[2m\u001b[36m(func pid=245736)\u001b[0m 2022-07-26 14:17:43,065\tINFO trainable.py:597 -- Current state after restoring: {'_iteration': 26, '_timesteps_total': None, '_time_total': 159.75400686264038, '_episodes_total': None}\n"
          ]
        },
        {
          "output_type": "stream",
          "name": "stdout",
          "text": [
            "Trial trainable_func_a2bc88fc reported epoch=10,loss=0.49281001443232453,should_checkpoint=True with parameters={'act1 ': 'tanh', 'act2': 'relu', 'act3': 'selu', 'lr': 0.0006000000000000001, 'batch_size': 16, 'hidden_dim1': 225.0, 'hidden_dim2': 165.0, 'hidden_dim3': 165.0}.\n",
            "== Status ==\n",
            "Current time: 2022-07-26 14:17:45 (running for 00:06:30.32)\n",
            "Memory usage on this node: 2.5/12.7 GiB\n",
            "Using MedianStoppingRule: num_stopped=4.\n",
            "Resources requested: 2.0/2 CPUs, 0/0 GPUs, 0.0/7.47 GiB heap, 0.0/3.73 GiB objects\n",
            "Result logdir: /root/ray_results/trainable_func_2022-07-26_14-11-15\n",
            "Number of trials: 19/50 (6 PAUSED, 4 RUNNING, 9 TERMINATED)\n",
            "\n",
            "\n",
            "Trial trainable_func_cfe888ea reported epoch=0,loss=0.09559645320131717,should_checkpoint=True with parameters={'act1 ': 'tanh', 'act2': 'tanh', 'act3': 'selu', 'lr': 0.0009000000000000001, 'batch_size': 8, 'hidden_dim1': 270.0, 'hidden_dim2': 300.0, 'hidden_dim3': 165.0}.\n"
          ]
        },
        {
          "output_type": "stream",
          "name": "stderr",
          "text": [
            "\u001b[2m\u001b[36m(func pid=245777)\u001b[0m 2022-07-26 14:17:48,281\tINFO trainable.py:589 -- Restored on 172.28.0.2 from checkpoint: /root/ray_results/trainable_func_2022-07-26_14-11-15/trainable_func_ea51ef14_8_act1=tanh,act2=tanh,act3=selu,batch_size=32,hidden_dim1=195.0000,hidden_dim2=165.0000,hidden_dim3=195.00_2022-07-26_14-12-02/checkpoint_tmp54255b/./\n",
            "\u001b[2m\u001b[36m(func pid=245777)\u001b[0m 2022-07-26 14:17:48,281\tINFO trainable.py:597 -- Current state after restoring: {'_iteration': 10, '_timesteps_total': None, '_time_total': 24.16393280029297, '_episodes_total': None}\n"
          ]
        },
        {
          "output_type": "stream",
          "name": "stdout",
          "text": [
            "Trial trainable_func_e7a9dc7c reported epoch=0,loss=0.09161304870389833,should_checkpoint=True with parameters={'act1 ': 'selu', 'act2': 'tanh', 'act3': 'selu', 'lr': 0.0009000000000000001, 'batch_size': 8, 'hidden_dim1': 255.0, 'hidden_dim2': 135.0, 'hidden_dim3': 270.0}.\n"
          ]
        },
        {
          "output_type": "stream",
          "name": "stderr",
          "text": [
            "\u001b[2m\u001b[36m(func pid=245735)\u001b[0m 2022-07-26 14:17:48,981\tINFO trainable.py:589 -- Restored on 172.28.0.2 from checkpoint: /root/ray_results/trainable_func_2022-07-26_14-11-15/trainable_func_cfe888ea_5_act1=tanh,act2=tanh,act3=selu,batch_size=8,hidden_dim1=270.0000,hidden_dim2=300.0000,hidden_dim3=165.000_2022-07-26_14-11-45/checkpoint_tmpa148a6/./\n",
            "\u001b[2m\u001b[36m(func pid=245735)\u001b[0m 2022-07-26 14:17:48,981\tINFO trainable.py:597 -- Current state after restoring: {'_iteration': 33, '_timesteps_total': None, '_time_total': 240.51770329475403, '_episodes_total': None}\n",
            "\u001b[2m\u001b[36m(func pid=245736)\u001b[0m 2022-07-26 14:17:49,640\tINFO trainable.py:589 -- Restored on 172.28.0.2 from checkpoint: /root/ray_results/trainable_func_2022-07-26_14-11-15/trainable_func_e7a9dc7c_7_act1=selu,act2=tanh,act3=selu,batch_size=8,hidden_dim1=255.0000,hidden_dim2=135.0000,hidden_dim3=270.000_2022-07-26_14-12-00/checkpoint_tmpdba799/./\n",
            "\u001b[2m\u001b[36m(func pid=245736)\u001b[0m 2022-07-26 14:17:49,640\tINFO trainable.py:597 -- Current state after restoring: {'_iteration': 27, '_timesteps_total': None, '_time_total': 165.56475138664246, '_episodes_total': None}\n"
          ]
        },
        {
          "output_type": "stream",
          "name": "stdout",
          "text": [
            "Trial trainable_func_a9bbe71a reported epoch=6,loss=0.5411971025075504,should_checkpoint=True with parameters={'act1 ': 'relu', 'act2': 'relu', 'act3': 'relu', 'lr': 0.0006000000000000001, 'batch_size': 16, 'hidden_dim1': 210.0, 'hidden_dim2': 285.0, 'hidden_dim3': 315.0}.\n",
            "Trial trainable_func_ea51ef14 reported epoch=0,loss=0.3144508730934809,should_checkpoint=True with parameters={'act1 ': 'tanh', 'act2': 'tanh', 'act3': 'selu', 'lr': 0.0006000000000000001, 'batch_size': 32, 'hidden_dim1': 195.0, 'hidden_dim2': 165.0, 'hidden_dim3': 195.0}.\n",
            "== Status ==\n",
            "Current time: 2022-07-26 14:17:51 (running for 00:06:36.45)\n",
            "Memory usage on this node: 2.5/12.7 GiB\n",
            "Using MedianStoppingRule: num_stopped=4.\n",
            "Resources requested: 2.0/2 CPUs, 0/0 GPUs, 0.0/7.47 GiB heap, 0.0/3.73 GiB objects\n",
            "Result logdir: /root/ray_results/trainable_func_2022-07-26_14-11-15\n",
            "Number of trials: 19/50 (6 PAUSED, 4 RUNNING, 9 TERMINATED)\n",
            "\n",
            "\n"
          ]
        },
        {
          "output_type": "stream",
          "name": "stderr",
          "text": [
            "\u001b[2m\u001b[36m(func pid=245777)\u001b[0m 2022-07-26 14:17:52,490\tINFO trainable.py:589 -- Restored on 172.28.0.2 from checkpoint: /root/ray_results/trainable_func_2022-07-26_14-11-15/trainable_func_ea51ef14_8_act1=tanh,act2=tanh,act3=selu,batch_size=32,hidden_dim1=195.0000,hidden_dim2=165.0000,hidden_dim3=195.00_2022-07-26_14-12-02/checkpoint_tmpd9ee87/./\n",
            "\u001b[2m\u001b[36m(func pid=245777)\u001b[0m 2022-07-26 14:17:52,490\tINFO trainable.py:597 -- Current state after restoring: {'_iteration': 12, '_timesteps_total': None, '_time_total': 27.71884799003601, '_episodes_total': None}\n",
            "\u001b[2m\u001b[36m(func pid=245777)\u001b[0m 2022-07-26 14:17:55,238\tINFO trainable.py:589 -- Restored on 172.28.0.2 from checkpoint: /root/ray_results/trainable_func_2022-07-26_14-11-15/trainable_func_ea51ef14_8_act1=tanh,act2=tanh,act3=selu,batch_size=32,hidden_dim1=195.0000,hidden_dim2=165.0000,hidden_dim3=195.00_2022-07-26_14-12-02/checkpoint_tmpb99141/./\n",
            "\u001b[2m\u001b[36m(func pid=245777)\u001b[0m 2022-07-26 14:17:55,238\tINFO trainable.py:597 -- Current state after restoring: {'_iteration': 13, '_timesteps_total': None, '_time_total': 29.737961053848267, '_episodes_total': None}\n"
          ]
        },
        {
          "output_type": "stream",
          "name": "stdout",
          "text": [
            "Trial trainable_func_e7a9dc7c reported epoch=0,loss=0.0827478696652712,should_checkpoint=True with parameters={'act1 ': 'selu', 'act2': 'tanh', 'act3': 'selu', 'lr': 0.0009000000000000001, 'batch_size': 8, 'hidden_dim1': 255.0, 'hidden_dim2': 135.0, 'hidden_dim3': 270.0}.\n",
            "Trial trainable_func_cfe888ea reported epoch=0,loss=0.0707672033729458,should_checkpoint=True with parameters={'act1 ': 'tanh', 'act2': 'tanh', 'act3': 'selu', 'lr': 0.0009000000000000001, 'batch_size': 8, 'hidden_dim1': 270.0, 'hidden_dim2': 300.0, 'hidden_dim3': 165.0}.\n"
          ]
        },
        {
          "output_type": "stream",
          "name": "stderr",
          "text": [
            "\u001b[2m\u001b[36m(func pid=245736)\u001b[0m 2022-07-26 14:17:56,181\tINFO trainable.py:589 -- Restored on 172.28.0.2 from checkpoint: /root/ray_results/trainable_func_2022-07-26_14-11-15/trainable_func_e7a9dc7c_7_act1=selu,act2=tanh,act3=selu,batch_size=8,hidden_dim1=255.0000,hidden_dim2=135.0000,hidden_dim3=270.000_2022-07-26_14-12-00/checkpoint_tmpd0d72d/./\n",
            "\u001b[2m\u001b[36m(func pid=245736)\u001b[0m 2022-07-26 14:17:56,181\tINFO trainable.py:597 -- Current state after restoring: {'_iteration': 28, '_timesteps_total': None, '_time_total': 171.56814098358154, '_episodes_total': None}\n",
            "\u001b[2m\u001b[36m(func pid=245735)\u001b[0m 2022-07-26 14:17:56,873\tINFO trainable.py:589 -- Restored on 172.28.0.2 from checkpoint: /root/ray_results/trainable_func_2022-07-26_14-11-15/trainable_func_cfe888ea_5_act1=tanh,act2=tanh,act3=selu,batch_size=8,hidden_dim1=270.0000,hidden_dim2=300.0000,hidden_dim3=165.000_2022-07-26_14-11-45/checkpoint_tmp1f5fbd/./\n",
            "\u001b[2m\u001b[36m(func pid=245735)\u001b[0m 2022-07-26 14:17:56,875\tINFO trainable.py:597 -- Current state after restoring: {'_iteration': 34, '_timesteps_total': None, '_time_total': 247.58038234710693, '_episodes_total': None}\n"
          ]
        },
        {
          "output_type": "stream",
          "name": "stdout",
          "text": [
            "== Status ==\n",
            "Current time: 2022-07-26 14:17:56 (running for 00:06:41.48)\n",
            "Memory usage on this node: 2.5/12.7 GiB\n",
            "Using MedianStoppingRule: num_stopped=4.\n",
            "Resources requested: 2.0/2 CPUs, 0/0 GPUs, 0.0/7.47 GiB heap, 0.0/3.73 GiB objects\n",
            "Result logdir: /root/ray_results/trainable_func_2022-07-26_14-11-15\n",
            "Number of trials: 19/50 (6 PAUSED, 4 RUNNING, 9 TERMINATED)\n",
            "\n",
            "\n",
            "Trial trainable_func_ea51ef14 reported epoch=0,loss=0.1931307010175456,should_checkpoint=True with parameters={'act1 ': 'tanh', 'act2': 'tanh', 'act3': 'selu', 'lr': 0.0006000000000000001, 'batch_size': 32, 'hidden_dim1': 195.0, 'hidden_dim2': 165.0, 'hidden_dim3': 195.0}.\n"
          ]
        },
        {
          "output_type": "stream",
          "name": "stderr",
          "text": [
            "\u001b[2m\u001b[36m(func pid=245777)\u001b[0m 2022-07-26 14:17:57,588\tINFO trainable.py:589 -- Restored on 172.28.0.2 from checkpoint: /root/ray_results/trainable_func_2022-07-26_14-11-15/trainable_func_ea51ef14_8_act1=tanh,act2=tanh,act3=selu,batch_size=32,hidden_dim1=195.0000,hidden_dim2=165.0000,hidden_dim3=195.00_2022-07-26_14-12-02/checkpoint_tmpa7718a/./\n",
            "\u001b[2m\u001b[36m(func pid=245777)\u001b[0m 2022-07-26 14:17:57,588\tINFO trainable.py:597 -- Current state after restoring: {'_iteration': 14, '_timesteps_total': None, '_time_total': 31.45428967475891, '_episodes_total': None}\n"
          ]
        },
        {
          "output_type": "stream",
          "name": "stdout",
          "text": [
            "Trial trainable_func_a9bbe71a reported epoch=8,loss=0.5248831965725861,should_checkpoint=True with parameters={'act1 ': 'relu', 'act2': 'relu', 'act3': 'relu', 'lr': 0.0006000000000000001, 'batch_size': 16, 'hidden_dim1': 210.0, 'hidden_dim2': 285.0, 'hidden_dim3': 315.0}.\n"
          ]
        },
        {
          "output_type": "stream",
          "name": "stderr",
          "text": [
            "\u001b[2m\u001b[36m(func pid=245777)\u001b[0m 2022-07-26 14:18:00,110\tINFO trainable.py:589 -- Restored on 172.28.0.2 from checkpoint: /root/ray_results/trainable_func_2022-07-26_14-11-15/trainable_func_ea51ef14_8_act1=tanh,act2=tanh,act3=selu,batch_size=32,hidden_dim1=195.0000,hidden_dim2=165.0000,hidden_dim3=195.00_2022-07-26_14-12-02/checkpoint_tmp1de227/./\n",
            "\u001b[2m\u001b[36m(func pid=245777)\u001b[0m 2022-07-26 14:18:00,110\tINFO trainable.py:597 -- Current state after restoring: {'_iteration': 15, '_timesteps_total': None, '_time_total': 33.30004143714905, '_episodes_total': None}\n"
          ]
        },
        {
          "output_type": "stream",
          "name": "stdout",
          "text": [
            "Trial trainable_func_ea51ef14 reported epoch=0,loss=0.18069150644252358,should_checkpoint=True with parameters={'act1 ': 'tanh', 'act2': 'tanh', 'act3': 'selu', 'lr': 0.0006000000000000001, 'batch_size': 32, 'hidden_dim1': 195.0, 'hidden_dim2': 165.0, 'hidden_dim3': 195.0}.\n",
            "== Status ==\n",
            "Current time: 2022-07-26 14:18:02 (running for 00:06:46.76)\n",
            "Memory usage on this node: 2.5/12.7 GiB\n",
            "Using MedianStoppingRule: num_stopped=4.\n",
            "Resources requested: 2.0/2 CPUs, 0/0 GPUs, 0.0/7.47 GiB heap, 0.0/3.73 GiB objects\n",
            "Result logdir: /root/ray_results/trainable_func_2022-07-26_14-11-15\n",
            "Number of trials: 19/50 (6 PAUSED, 4 RUNNING, 9 TERMINATED)\n",
            "\n",
            "\n",
            "Trial trainable_func_e7a9dc7c reported epoch=0,loss=0.10670707126469833,should_checkpoint=True with parameters={'act1 ': 'selu', 'act2': 'tanh', 'act3': 'selu', 'lr': 0.0009000000000000001, 'batch_size': 8, 'hidden_dim1': 255.0, 'hidden_dim2': 135.0, 'hidden_dim3': 270.0}.\n"
          ]
        },
        {
          "output_type": "stream",
          "name": "stderr",
          "text": [
            "\u001b[2m\u001b[36m(func pid=245777)\u001b[0m 2022-07-26 14:18:02,579\tINFO trainable.py:589 -- Restored on 172.28.0.2 from checkpoint: /root/ray_results/trainable_func_2022-07-26_14-11-15/trainable_func_ea51ef14_8_act1=tanh,act2=tanh,act3=selu,batch_size=32,hidden_dim1=195.0000,hidden_dim2=165.0000,hidden_dim3=195.00_2022-07-26_14-12-02/checkpoint_tmpf2d589/./\n",
            "\u001b[2m\u001b[36m(func pid=245777)\u001b[0m 2022-07-26 14:18:02,579\tINFO trainable.py:597 -- Current state after restoring: {'_iteration': 16, '_timesteps_total': None, '_time_total': 35.333571672439575, '_episodes_total': None}\n",
            "\u001b[2m\u001b[36m(func pid=245736)\u001b[0m 2022-07-26 14:18:03,227\tINFO trainable.py:589 -- Restored on 172.28.0.2 from checkpoint: /root/ray_results/trainable_func_2022-07-26_14-11-15/trainable_func_e7a9dc7c_7_act1=selu,act2=tanh,act3=selu,batch_size=8,hidden_dim1=255.0000,hidden_dim2=135.0000,hidden_dim3=270.000_2022-07-26_14-12-00/checkpoint_tmpaa8edd/./\n",
            "\u001b[2m\u001b[36m(func pid=245736)\u001b[0m 2022-07-26 14:18:03,227\tINFO trainable.py:597 -- Current state after restoring: {'_iteration': 29, '_timesteps_total': None, '_time_total': 177.73720407485962, '_episodes_total': None}\n"
          ]
        },
        {
          "output_type": "stream",
          "name": "stdout",
          "text": [
            "Trial trainable_func_cfe888ea reported epoch=0,loss=0.07095006590643996,should_checkpoint=True with parameters={'act1 ': 'tanh', 'act2': 'tanh', 'act3': 'selu', 'lr': 0.0009000000000000001, 'batch_size': 8, 'hidden_dim1': 270.0, 'hidden_dim2': 300.0, 'hidden_dim3': 165.0}.\n"
          ]
        },
        {
          "output_type": "stream",
          "name": "stderr",
          "text": [
            "\u001b[2m\u001b[36m(func pid=245777)\u001b[0m 2022-07-26 14:18:05,037\tINFO trainable.py:589 -- Restored on 172.28.0.2 from checkpoint: /root/ray_results/trainable_func_2022-07-26_14-11-15/trainable_func_ea51ef14_8_act1=tanh,act2=tanh,act3=selu,batch_size=32,hidden_dim1=195.0000,hidden_dim2=165.0000,hidden_dim3=195.00_2022-07-26_14-12-02/checkpoint_tmpfc5b13/./\n",
            "\u001b[2m\u001b[36m(func pid=245777)\u001b[0m 2022-07-26 14:18:05,037\tINFO trainable.py:597 -- Current state after restoring: {'_iteration': 17, '_timesteps_total': None, '_time_total': 37.240633726119995, '_episodes_total': None}\n",
            "\u001b[2m\u001b[36m(func pid=245735)\u001b[0m 2022-07-26 14:18:05,856\tINFO trainable.py:589 -- Restored on 172.28.0.2 from checkpoint: /root/ray_results/trainable_func_2022-07-26_14-11-15/trainable_func_cfe888ea_5_act1=tanh,act2=tanh,act3=selu,batch_size=8,hidden_dim1=270.0000,hidden_dim2=300.0000,hidden_dim3=165.000_2022-07-26_14-11-45/checkpoint_tmp91b77d/./\n",
            "\u001b[2m\u001b[36m(func pid=245735)\u001b[0m 2022-07-26 14:18:05,856\tINFO trainable.py:597 -- Current state after restoring: {'_iteration': 35, '_timesteps_total': None, '_time_total': 255.25163221359253, '_episodes_total': None}\n"
          ]
        },
        {
          "output_type": "stream",
          "name": "stdout",
          "text": [
            "== Status ==\n",
            "Current time: 2022-07-26 14:18:07 (running for 00:06:52.01)\n",
            "Memory usage on this node: 2.4/12.7 GiB\n",
            "Using MedianStoppingRule: num_stopped=4.\n",
            "Resources requested: 1.5/2 CPUs, 0/0 GPUs, 0.0/7.47 GiB heap, 0.0/3.73 GiB objects\n",
            "Result logdir: /root/ray_results/trainable_func_2022-07-26_14-11-15\n",
            "Number of trials: 19/50 (7 PAUSED, 3 RUNNING, 9 TERMINATED)\n",
            "\n",
            "\n",
            "Trial trainable_func_a9bbe71a reported epoch=10,loss=0.521996986115574,should_checkpoint=True with parameters={'act1 ': 'relu', 'act2': 'relu', 'act3': 'relu', 'lr': 0.0006000000000000001, 'batch_size': 16, 'hidden_dim1': 210.0, 'hidden_dim2': 285.0, 'hidden_dim3': 315.0}. This trial completed.\n"
          ]
        },
        {
          "output_type": "stream",
          "name": "stderr",
          "text": [
            "\u001b[2m\u001b[36m(func pid=245777)\u001b[0m 2022-07-26 14:18:07,443\tINFO trainable.py:589 -- Restored on 172.28.0.2 from checkpoint: /root/ray_results/trainable_func_2022-07-26_14-11-15/trainable_func_ea51ef14_8_act1=tanh,act2=tanh,act3=selu,batch_size=32,hidden_dim1=195.0000,hidden_dim2=165.0000,hidden_dim3=195.00_2022-07-26_14-12-02/checkpoint_tmp1de276/./\n",
            "\u001b[2m\u001b[36m(func pid=245777)\u001b[0m 2022-07-26 14:18:07,452\tINFO trainable.py:597 -- Current state after restoring: {'_iteration': 18, '_timesteps_total': None, '_time_total': 39.14852261543274, '_episodes_total': None}\n"
          ]
        },
        {
          "output_type": "stream",
          "name": "stdout",
          "text": [
            "Trial trainable_func_e7a9dc7c reported epoch=0,loss=0.10455290655076818,should_checkpoint=True with parameters={'act1 ': 'selu', 'act2': 'tanh', 'act3': 'selu', 'lr': 0.0009000000000000001, 'batch_size': 8, 'hidden_dim1': 255.0, 'hidden_dim2': 135.0, 'hidden_dim3': 270.0}.\n",
            "Trial trainable_func_c544fb2a reported epoch=0,loss=0.9599276662894473,should_checkpoint=True with parameters={'act1 ': 'selu', 'act2': 'tanh', 'act3': 'selu', 'lr': 0.0006000000000000001, 'batch_size': 64, 'hidden_dim1': 210.0, 'hidden_dim2': 150.0, 'hidden_dim3': 300.0}.\n"
          ]
        },
        {
          "output_type": "stream",
          "name": "stderr",
          "text": [
            "\u001b[2m\u001b[36m(func pid=245736)\u001b[0m 2022-07-26 14:18:09,077\tINFO trainable.py:589 -- Restored on 172.28.0.2 from checkpoint: /root/ray_results/trainable_func_2022-07-26_14-11-15/trainable_func_e7a9dc7c_7_act1=selu,act2=tanh,act3=selu,batch_size=8,hidden_dim1=255.0000,hidden_dim2=135.0000,hidden_dim3=270.000_2022-07-26_14-12-00/checkpoint_tmp5b9fce/./\n",
            "\u001b[2m\u001b[36m(func pid=245736)\u001b[0m 2022-07-26 14:18:09,077\tINFO trainable.py:597 -- Current state after restoring: {'_iteration': 30, '_timesteps_total': None, '_time_total': 182.97320318222046, '_episodes_total': None}\n"
          ]
        },
        {
          "output_type": "stream",
          "name": "stdout",
          "text": [
            "Trial trainable_func_ea51ef14 reported epoch=0,loss=0.1322741586064576,should_checkpoint=True with parameters={'act1 ': 'tanh', 'act2': 'tanh', 'act3': 'selu', 'lr': 0.0006000000000000001, 'batch_size': 32, 'hidden_dim1': 195.0, 'hidden_dim2': 165.0, 'hidden_dim3': 195.0}.\n"
          ]
        },
        {
          "output_type": "stream",
          "name": "stderr",
          "text": [
            "\u001b[2m\u001b[36m(func pid=245777)\u001b[0m 2022-07-26 14:18:10,258\tINFO trainable.py:589 -- Restored on 172.28.0.2 from checkpoint: /root/ray_results/trainable_func_2022-07-26_14-11-15/trainable_func_ea51ef14_8_act1=tanh,act2=tanh,act3=selu,batch_size=32,hidden_dim1=195.0000,hidden_dim2=165.0000,hidden_dim3=195.00_2022-07-26_14-12-02/checkpoint_tmp9ca1a2/./\n",
            "\u001b[2m\u001b[36m(func pid=245777)\u001b[0m 2022-07-26 14:18:10,258\tINFO trainable.py:597 -- Current state after restoring: {'_iteration': 19, '_timesteps_total': None, '_time_total': 41.0980429649353, '_episodes_total': None}\n"
          ]
        },
        {
          "output_type": "stream",
          "name": "stdout",
          "text": [
            "== Status ==\n",
            "Current time: 2022-07-26 14:18:12 (running for 00:06:57.43)\n",
            "Memory usage on this node: 2.4/12.7 GiB\n",
            "Using MedianStoppingRule: num_stopped=5.\n",
            "Resources requested: 1.5/2 CPUs, 0/0 GPUs, 0.0/7.47 GiB heap, 0.0/3.73 GiB objects\n",
            "Result logdir: /root/ray_results/trainable_func_2022-07-26_14-11-15\n",
            "Number of trials: 20/50 (7 PAUSED, 3 RUNNING, 10 TERMINATED)\n",
            "\n",
            "\n"
          ]
        },
        {
          "output_type": "stream",
          "name": "stderr",
          "text": [
            "\u001b[2m\u001b[36m(func pid=245777)\u001b[0m 2022-07-26 14:18:12,859\tINFO trainable.py:589 -- Restored on 172.28.0.2 from checkpoint: /root/ray_results/trainable_func_2022-07-26_14-11-15/trainable_func_ea51ef14_8_act1=tanh,act2=tanh,act3=selu,batch_size=32,hidden_dim1=195.0000,hidden_dim2=165.0000,hidden_dim3=195.00_2022-07-26_14-12-02/checkpoint_tmp964a6a/./\n",
            "\u001b[2m\u001b[36m(func pid=245777)\u001b[0m 2022-07-26 14:18:12,859\tINFO trainable.py:597 -- Current state after restoring: {'_iteration': 20, '_timesteps_total': None, '_time_total': 42.966455936431885, '_episodes_total': None}\n"
          ]
        },
        {
          "output_type": "stream",
          "name": "stdout",
          "text": [
            "Trial trainable_func_cfe888ea reported epoch=0,loss=0.08372285346188535,should_checkpoint=True with parameters={'act1 ': 'tanh', 'act2': 'tanh', 'act3': 'selu', 'lr': 0.0009000000000000001, 'batch_size': 8, 'hidden_dim1': 270.0, 'hidden_dim2': 300.0, 'hidden_dim3': 165.0}.\n"
          ]
        },
        {
          "output_type": "stream",
          "name": "stderr",
          "text": [
            "\u001b[2m\u001b[36m(func pid=245735)\u001b[0m 2022-07-26 14:18:14,180\tINFO trainable.py:589 -- Restored on 172.28.0.2 from checkpoint: /root/ray_results/trainable_func_2022-07-26_14-11-15/trainable_func_cfe888ea_5_act1=tanh,act2=tanh,act3=selu,batch_size=8,hidden_dim1=270.0000,hidden_dim2=300.0000,hidden_dim3=165.000_2022-07-26_14-11-45/checkpoint_tmpe1c119/./\n",
            "\u001b[2m\u001b[36m(func pid=245735)\u001b[0m 2022-07-26 14:18:14,187\tINFO trainable.py:597 -- Current state after restoring: {'_iteration': 36, '_timesteps_total': None, '_time_total': 262.8749589920044, '_episodes_total': None}\n"
          ]
        },
        {
          "output_type": "stream",
          "name": "stdout",
          "text": [
            "Trial trainable_func_c544fb2a reported epoch=4,loss=0.6545240365713539,should_checkpoint=True with parameters={'act1 ': 'selu', 'act2': 'tanh', 'act3': 'selu', 'lr': 0.0006000000000000001, 'batch_size': 64, 'hidden_dim1': 210.0, 'hidden_dim2': 150.0, 'hidden_dim3': 300.0}.\n",
            "Trial trainable_func_e7a9dc7c reported epoch=0,loss=0.0934164962541866,should_checkpoint=True with parameters={'act1 ': 'selu', 'act2': 'tanh', 'act3': 'selu', 'lr': 0.0009000000000000001, 'batch_size': 8, 'hidden_dim1': 255.0, 'hidden_dim2': 135.0, 'hidden_dim3': 270.0}.\n",
            "Trial trainable_func_ea51ef14 reported epoch=0,loss=0.12768441298142155,should_checkpoint=True with parameters={'act1 ': 'tanh', 'act2': 'tanh', 'act3': 'selu', 'lr': 0.0006000000000000001, 'batch_size': 32, 'hidden_dim1': 195.0, 'hidden_dim2': 165.0, 'hidden_dim3': 195.0}.\n"
          ]
        },
        {
          "output_type": "stream",
          "name": "stderr",
          "text": [
            "\u001b[2m\u001b[36m(func pid=245736)\u001b[0m 2022-07-26 14:18:15,195\tINFO trainable.py:589 -- Restored on 172.28.0.2 from checkpoint: /root/ray_results/trainable_func_2022-07-26_14-11-15/trainable_func_e7a9dc7c_7_act1=selu,act2=tanh,act3=selu,batch_size=8,hidden_dim1=255.0000,hidden_dim2=135.0000,hidden_dim3=270.000_2022-07-26_14-12-00/checkpoint_tmp68b4b8/./\n",
            "\u001b[2m\u001b[36m(func pid=245736)\u001b[0m 2022-07-26 14:18:15,195\tINFO trainable.py:597 -- Current state after restoring: {'_iteration': 31, '_timesteps_total': None, '_time_total': 188.52447652816772, '_episodes_total': None}\n",
            "\u001b[2m\u001b[36m(func pid=245777)\u001b[0m 2022-07-26 14:18:15,746\tINFO trainable.py:589 -- Restored on 172.28.0.2 from checkpoint: /root/ray_results/trainable_func_2022-07-26_14-11-15/trainable_func_ea51ef14_8_act1=tanh,act2=tanh,act3=selu,batch_size=32,hidden_dim1=195.0000,hidden_dim2=165.0000,hidden_dim3=195.00_2022-07-26_14-12-02/checkpoint_tmpd6444f/./\n",
            "\u001b[2m\u001b[36m(func pid=245777)\u001b[0m 2022-07-26 14:18:15,746\tINFO trainable.py:597 -- Current state after restoring: {'_iteration': 21, '_timesteps_total': None, '_time_total': 44.81880474090576, '_episodes_total': None}\n"
          ]
        },
        {
          "output_type": "stream",
          "name": "stdout",
          "text": [
            "== Status ==\n",
            "Current time: 2022-07-26 14:18:18 (running for 00:07:02.96)\n",
            "Memory usage on this node: 2.4/12.7 GiB\n",
            "Using MedianStoppingRule: num_stopped=5.\n",
            "Resources requested: 1.5/2 CPUs, 0/0 GPUs, 0.0/7.47 GiB heap, 0.0/3.73 GiB objects\n",
            "Result logdir: /root/ray_results/trainable_func_2022-07-26_14-11-15\n",
            "Number of trials: 20/50 (7 PAUSED, 3 RUNNING, 10 TERMINATED)\n",
            "\n",
            "\n"
          ]
        },
        {
          "output_type": "stream",
          "name": "stderr",
          "text": [
            "\u001b[2m\u001b[36m(func pid=245777)\u001b[0m 2022-07-26 14:18:18,384\tINFO trainable.py:589 -- Restored on 172.28.0.2 from checkpoint: /root/ray_results/trainable_func_2022-07-26_14-11-15/trainable_func_ea51ef14_8_act1=tanh,act2=tanh,act3=selu,batch_size=32,hidden_dim1=195.0000,hidden_dim2=165.0000,hidden_dim3=195.00_2022-07-26_14-12-02/checkpoint_tmp862ac2/./\n",
            "\u001b[2m\u001b[36m(func pid=245777)\u001b[0m 2022-07-26 14:18:18,384\tINFO trainable.py:597 -- Current state after restoring: {'_iteration': 22, '_timesteps_total': None, '_time_total': 46.757357358932495, '_episodes_total': None}\n"
          ]
        },
        {
          "output_type": "stream",
          "name": "stdout",
          "text": [
            "Trial trainable_func_c544fb2a reported epoch=8,loss=0.6388967594100362,should_checkpoint=True with parameters={'act1 ': 'selu', 'act2': 'tanh', 'act3': 'selu', 'lr': 0.0006000000000000001, 'batch_size': 64, 'hidden_dim1': 210.0, 'hidden_dim2': 150.0, 'hidden_dim3': 300.0}.\n",
            "Trial trainable_func_ea51ef14 reported epoch=0,loss=0.11593289642103119,should_checkpoint=True with parameters={'act1 ': 'tanh', 'act2': 'tanh', 'act3': 'selu', 'lr': 0.0006000000000000001, 'batch_size': 32, 'hidden_dim1': 195.0, 'hidden_dim2': 165.0, 'hidden_dim3': 195.0}.\n",
            "Trial trainable_func_cfe888ea reported epoch=0,loss=0.08632477529618063,should_checkpoint=True with parameters={'act1 ': 'tanh', 'act2': 'tanh', 'act3': 'selu', 'lr': 0.0009000000000000001, 'batch_size': 8, 'hidden_dim1': 270.0, 'hidden_dim2': 300.0, 'hidden_dim3': 165.0}.\n",
            "Trial trainable_func_e7a9dc7c reported epoch=0,loss=0.08452359639368952,should_checkpoint=True with parameters={'act1 ': 'selu', 'act2': 'tanh', 'act3': 'selu', 'lr': 0.0009000000000000001, 'batch_size': 8, 'hidden_dim1': 255.0, 'hidden_dim2': 135.0, 'hidden_dim3': 270.0}.\n",
            "Trial trainable_func_c544fb2a reported epoch=9,loss=0.6115378742992332,should_checkpoint=True with parameters={'act1 ': 'selu', 'act2': 'tanh', 'act3': 'selu', 'lr': 0.0006000000000000001, 'batch_size': 64, 'hidden_dim1': 210.0, 'hidden_dim2': 150.0, 'hidden_dim3': 300.0}. This trial completed.\n"
          ]
        },
        {
          "output_type": "stream",
          "name": "stderr",
          "text": [
            "\u001b[2m\u001b[36m(func pid=245777)\u001b[0m 2022-07-26 14:18:21,079\tINFO trainable.py:589 -- Restored on 172.28.0.2 from checkpoint: /root/ray_results/trainable_func_2022-07-26_14-11-15/trainable_func_ea51ef14_8_act1=tanh,act2=tanh,act3=selu,batch_size=32,hidden_dim1=195.0000,hidden_dim2=165.0000,hidden_dim3=195.00_2022-07-26_14-12-02/checkpoint_tmpdda7ac/./\n",
            "\u001b[2m\u001b[36m(func pid=245777)\u001b[0m 2022-07-26 14:18:21,079\tINFO trainable.py:597 -- Current state after restoring: {'_iteration': 23, '_timesteps_total': None, '_time_total': 48.82486820220947, '_episodes_total': None}\n",
            "\u001b[2m\u001b[36m(func pid=245736)\u001b[0m 2022-07-26 14:18:21,382\tINFO trainable.py:589 -- Restored on 172.28.0.2 from checkpoint: /root/ray_results/trainable_func_2022-07-26_14-11-15/trainable_func_e7a9dc7c_7_act1=selu,act2=tanh,act3=selu,batch_size=8,hidden_dim1=255.0000,hidden_dim2=135.0000,hidden_dim3=270.000_2022-07-26_14-12-00/checkpoint_tmp7133fe/./\n",
            "\u001b[2m\u001b[36m(func pid=245736)\u001b[0m 2022-07-26 14:18:21,382\tINFO trainable.py:597 -- Current state after restoring: {'_iteration': 32, '_timesteps_total': None, '_time_total': 194.27380967140198, '_episodes_total': None}\n",
            "\u001b[2m\u001b[36m(func pid=245735)\u001b[0m 2022-07-26 14:18:21,826\tINFO trainable.py:589 -- Restored on 172.28.0.2 from checkpoint: /root/ray_results/trainable_func_2022-07-26_14-11-15/trainable_func_cfe888ea_5_act1=tanh,act2=tanh,act3=selu,batch_size=8,hidden_dim1=270.0000,hidden_dim2=300.0000,hidden_dim3=165.000_2022-07-26_14-11-45/checkpoint_tmp5b905c/./\n",
            "\u001b[2m\u001b[36m(func pid=245735)\u001b[0m 2022-07-26 14:18:21,828\tINFO trainable.py:597 -- Current state after restoring: {'_iteration': 37, '_timesteps_total': None, '_time_total': 269.72869348526, '_episodes_total': None}\n",
            "\u001b[2m\u001b[36m(func pid=245777)\u001b[0m 2022-07-26 14:18:23,125\tINFO trainable.py:589 -- Restored on 172.28.0.2 from checkpoint: /root/ray_results/trainable_func_2022-07-26_14-11-15/trainable_func_ea51ef14_8_act1=tanh,act2=tanh,act3=selu,batch_size=32,hidden_dim1=195.0000,hidden_dim2=165.0000,hidden_dim3=195.00_2022-07-26_14-12-02/checkpoint_tmp7b881e/./\n",
            "\u001b[2m\u001b[36m(func pid=245777)\u001b[0m 2022-07-26 14:18:23,125\tINFO trainable.py:597 -- Current state after restoring: {'_iteration': 24, '_timesteps_total': None, '_time_total': 50.18714499473572, '_episodes_total': None}\n"
          ]
        },
        {
          "output_type": "stream",
          "name": "stdout",
          "text": [
            "Trial trainable_func_cdd3e116 reported epoch=0,loss=0.8668540444106463,should_checkpoint=True with parameters={'act1 ': 'relu', 'act2': 'selu', 'act3': 'relu', 'lr': 0.0007, 'batch_size': 64, 'hidden_dim1': 330.0, 'hidden_dim2': 240.0, 'hidden_dim3': 180.0}.\n",
            "== Status ==\n",
            "Current time: 2022-07-26 14:18:24 (running for 00:07:09.38)\n",
            "Memory usage on this node: 2.5/12.7 GiB\n",
            "Using MedianStoppingRule: num_stopped=6.\n",
            "Resources requested: 2.0/2 CPUs, 0/0 GPUs, 0.0/7.47 GiB heap, 0.0/3.73 GiB objects\n",
            "Result logdir: /root/ray_results/trainable_func_2022-07-26_14-11-15\n",
            "Number of trials: 21/50 (6 PAUSED, 4 RUNNING, 11 TERMINATED)\n",
            "\n",
            "\n"
          ]
        },
        {
          "output_type": "stream",
          "name": "stderr",
          "text": [
            "\u001b[2m\u001b[36m(func pid=245777)\u001b[0m 2022-07-26 14:18:25,571\tINFO trainable.py:589 -- Restored on 172.28.0.2 from checkpoint: /root/ray_results/trainable_func_2022-07-26_14-11-15/trainable_func_ea51ef14_8_act1=tanh,act2=tanh,act3=selu,batch_size=32,hidden_dim1=195.0000,hidden_dim2=165.0000,hidden_dim3=195.00_2022-07-26_14-12-02/checkpoint_tmpe59843/./\n",
            "\u001b[2m\u001b[36m(func pid=245777)\u001b[0m 2022-07-26 14:18:25,571\tINFO trainable.py:597 -- Current state after restoring: {'_iteration': 25, '_timesteps_total': None, '_time_total': 51.99770903587341, '_episodes_total': None}\n"
          ]
        },
        {
          "output_type": "stream",
          "name": "stdout",
          "text": [
            "Trial trainable_func_e7a9dc7c reported epoch=0,loss=0.08019568338644763,should_checkpoint=True with parameters={'act1 ': 'selu', 'act2': 'tanh', 'act3': 'selu', 'lr': 0.0009000000000000001, 'batch_size': 8, 'hidden_dim1': 255.0, 'hidden_dim2': 135.0, 'hidden_dim3': 270.0}.\n",
            "Trial trainable_func_ea51ef14 reported epoch=0,loss=0.10444553259979202,should_checkpoint=True with parameters={'act1 ': 'tanh', 'act2': 'tanh', 'act3': 'selu', 'lr': 0.0006000000000000001, 'batch_size': 32, 'hidden_dim1': 195.0, 'hidden_dim2': 165.0, 'hidden_dim3': 195.0}.\n"
          ]
        },
        {
          "output_type": "stream",
          "name": "stderr",
          "text": [
            "\u001b[2m\u001b[36m(func pid=245736)\u001b[0m 2022-07-26 14:18:27,662\tINFO trainable.py:589 -- Restored on 172.28.0.2 from checkpoint: /root/ray_results/trainable_func_2022-07-26_14-11-15/trainable_func_e7a9dc7c_7_act1=selu,act2=tanh,act3=selu,batch_size=8,hidden_dim1=255.0000,hidden_dim2=135.0000,hidden_dim3=270.000_2022-07-26_14-12-00/checkpoint_tmp1c4e0a/./\n",
            "\u001b[2m\u001b[36m(func pid=245736)\u001b[0m 2022-07-26 14:18:27,662\tINFO trainable.py:597 -- Current state after restoring: {'_iteration': 33, '_timesteps_total': None, '_time_total': 199.991352558136, '_episodes_total': None}\n",
            "\u001b[2m\u001b[36m(func pid=245777)\u001b[0m 2022-07-26 14:18:28,115\tINFO trainable.py:589 -- Restored on 172.28.0.2 from checkpoint: /root/ray_results/trainable_func_2022-07-26_14-11-15/trainable_func_ea51ef14_8_act1=tanh,act2=tanh,act3=selu,batch_size=32,hidden_dim1=195.0000,hidden_dim2=165.0000,hidden_dim3=195.00_2022-07-26_14-12-02/checkpoint_tmp64b4a4/./\n",
            "\u001b[2m\u001b[36m(func pid=245777)\u001b[0m 2022-07-26 14:18:28,115\tINFO trainable.py:597 -- Current state after restoring: {'_iteration': 26, '_timesteps_total': None, '_time_total': 53.831512212753296, '_episodes_total': None}\n"
          ]
        },
        {
          "output_type": "stream",
          "name": "stdout",
          "text": [
            "Trial trainable_func_cfe888ea reported epoch=0,loss=0.06731634960545196,should_checkpoint=True with parameters={'act1 ': 'tanh', 'act2': 'tanh', 'act3': 'selu', 'lr': 0.0009000000000000001, 'batch_size': 8, 'hidden_dim1': 270.0, 'hidden_dim2': 300.0, 'hidden_dim3': 165.0}.\n",
            "== Status ==\n",
            "Current time: 2022-07-26 14:18:30 (running for 00:07:14.96)\n",
            "Memory usage on this node: 2.4/12.7 GiB\n",
            "Using MedianStoppingRule: num_stopped=6.\n",
            "Resources requested: 1.5/2 CPUs, 0/0 GPUs, 0.0/7.47 GiB heap, 0.0/3.73 GiB objects\n",
            "Result logdir: /root/ray_results/trainable_func_2022-07-26_14-11-15\n",
            "Number of trials: 21/50 (7 PAUSED, 3 RUNNING, 11 TERMINATED)\n",
            "\n",
            "\n",
            "Trial trainable_func_cdd3e116 reported epoch=4,loss=0.5083274659824719,should_checkpoint=True with parameters={'act1 ': 'relu', 'act2': 'selu', 'act3': 'relu', 'lr': 0.0007, 'batch_size': 64, 'hidden_dim1': 330.0, 'hidden_dim2': 240.0, 'hidden_dim3': 180.0}.\n"
          ]
        },
        {
          "output_type": "stream",
          "name": "stderr",
          "text": [
            "\u001b[2m\u001b[36m(func pid=245735)\u001b[0m 2022-07-26 14:18:30,391\tINFO trainable.py:589 -- Restored on 172.28.0.2 from checkpoint: /root/ray_results/trainable_func_2022-07-26_14-11-15/trainable_func_cfe888ea_5_act1=tanh,act2=tanh,act3=selu,batch_size=8,hidden_dim1=270.0000,hidden_dim2=300.0000,hidden_dim3=165.000_2022-07-26_14-11-45/checkpoint_tmp09ba42/./\n",
            "\u001b[2m\u001b[36m(func pid=245735)\u001b[0m 2022-07-26 14:18:30,394\tINFO trainable.py:597 -- Current state after restoring: {'_iteration': 38, '_timesteps_total': None, '_time_total': 277.21507120132446, '_episodes_total': None}\n",
            "\u001b[2m\u001b[36m(func pid=245777)\u001b[0m 2022-07-26 14:18:31,470\tINFO trainable.py:589 -- Restored on 172.28.0.2 from checkpoint: /root/ray_results/trainable_func_2022-07-26_14-11-15/trainable_func_ea51ef14_8_act1=tanh,act2=tanh,act3=selu,batch_size=32,hidden_dim1=195.0000,hidden_dim2=165.0000,hidden_dim3=195.00_2022-07-26_14-12-02/checkpoint_tmpcb82ca/./\n",
            "\u001b[2m\u001b[36m(func pid=245777)\u001b[0m 2022-07-26 14:18:31,470\tINFO trainable.py:597 -- Current state after restoring: {'_iteration': 27, '_timesteps_total': None, '_time_total': 56.48176622390747, '_episodes_total': None}\n"
          ]
        },
        {
          "output_type": "stream",
          "name": "stdout",
          "text": [
            "Trial trainable_func_ea51ef14 reported epoch=0,loss=0.11600446360942501,should_checkpoint=True with parameters={'act1 ': 'tanh', 'act2': 'tanh', 'act3': 'selu', 'lr': 0.0006000000000000001, 'batch_size': 32, 'hidden_dim1': 195.0, 'hidden_dim2': 165.0, 'hidden_dim3': 195.0}.\n",
            "Trial trainable_func_e7a9dc7c reported epoch=0,loss=0.07101221841963123,should_checkpoint=True with parameters={'act1 ': 'selu', 'act2': 'tanh', 'act3': 'selu', 'lr': 0.0009000000000000001, 'batch_size': 8, 'hidden_dim1': 255.0, 'hidden_dim2': 135.0, 'hidden_dim3': 270.0}.\n"
          ]
        },
        {
          "output_type": "stream",
          "name": "stderr",
          "text": [
            "\u001b[2m\u001b[36m(func pid=245777)\u001b[0m 2022-07-26 14:18:34,147\tINFO trainable.py:589 -- Restored on 172.28.0.2 from checkpoint: /root/ray_results/trainable_func_2022-07-26_14-11-15/trainable_func_ea51ef14_8_act1=tanh,act2=tanh,act3=selu,batch_size=32,hidden_dim1=195.0000,hidden_dim2=165.0000,hidden_dim3=195.00_2022-07-26_14-12-02/checkpoint_tmp38827e/./\n",
            "\u001b[2m\u001b[36m(func pid=245777)\u001b[0m 2022-07-26 14:18:34,151\tINFO trainable.py:597 -- Current state after restoring: {'_iteration': 28, '_timesteps_total': None, '_time_total': 58.43220543861389, '_episodes_total': None}\n",
            "\u001b[2m\u001b[36m(func pid=245736)\u001b[0m 2022-07-26 14:18:34,751\tINFO trainable.py:589 -- Restored on 172.28.0.2 from checkpoint: /root/ray_results/trainable_func_2022-07-26_14-11-15/trainable_func_e7a9dc7c_7_act1=selu,act2=tanh,act3=selu,batch_size=8,hidden_dim1=255.0000,hidden_dim2=135.0000,hidden_dim3=270.000_2022-07-26_14-12-00/checkpoint_tmpacd533/./\n",
            "\u001b[2m\u001b[36m(func pid=245736)\u001b[0m 2022-07-26 14:18:34,751\tINFO trainable.py:597 -- Current state after restoring: {'_iteration': 34, '_timesteps_total': None, '_time_total': 206.40257287025452, '_episodes_total': None}\n"
          ]
        },
        {
          "output_type": "stream",
          "name": "stdout",
          "text": [
            "== Status ==\n",
            "Current time: 2022-07-26 14:18:35 (running for 00:07:20.32)\n",
            "Memory usage on this node: 2.5/12.7 GiB\n",
            "Using MedianStoppingRule: num_stopped=6.\n",
            "Resources requested: 2.0/2 CPUs, 0/0 GPUs, 0.0/7.47 GiB heap, 0.0/3.73 GiB objects\n",
            "Result logdir: /root/ray_results/trainable_func_2022-07-26_14-11-15\n",
            "Number of trials: 21/50 (6 PAUSED, 4 RUNNING, 11 TERMINATED)\n",
            "\n",
            "\n",
            "Trial trainable_func_cdd3e116 reported epoch=8,loss=0.550250352959487,should_checkpoint=True with parameters={'act1 ': 'relu', 'act2': 'selu', 'act3': 'relu', 'lr': 0.0007, 'batch_size': 64, 'hidden_dim1': 330.0, 'hidden_dim2': 240.0, 'hidden_dim3': 180.0}.\n"
          ]
        },
        {
          "output_type": "stream",
          "name": "stderr",
          "text": [
            "\u001b[2m\u001b[36m(func pid=245777)\u001b[0m 2022-07-26 14:18:36,432\tINFO trainable.py:589 -- Restored on 172.28.0.2 from checkpoint: /root/ray_results/trainable_func_2022-07-26_14-11-15/trainable_func_ea51ef14_8_act1=tanh,act2=tanh,act3=selu,batch_size=32,hidden_dim1=195.0000,hidden_dim2=165.0000,hidden_dim3=195.00_2022-07-26_14-12-02/checkpoint_tmpf8b274/./\n",
            "\u001b[2m\u001b[36m(func pid=245777)\u001b[0m 2022-07-26 14:18:36,432\tINFO trainable.py:597 -- Current state after restoring: {'_iteration': 29, '_timesteps_total': None, '_time_total': 59.9857964515686, '_episodes_total': None}\n"
          ]
        },
        {
          "output_type": "stream",
          "name": "stdout",
          "text": [
            "Trial trainable_func_cfe888ea reported epoch=0,loss=0.07732123437121764,should_checkpoint=True with parameters={'act1 ': 'tanh', 'act2': 'tanh', 'act3': 'selu', 'lr': 0.0009000000000000001, 'batch_size': 8, 'hidden_dim1': 270.0, 'hidden_dim2': 300.0, 'hidden_dim3': 165.0}.\n"
          ]
        },
        {
          "output_type": "stream",
          "name": "stderr",
          "text": [
            "\u001b[2m\u001b[36m(func pid=245735)\u001b[0m 2022-07-26 14:18:38,010\tINFO trainable.py:589 -- Restored on 172.28.0.2 from checkpoint: /root/ray_results/trainable_func_2022-07-26_14-11-15/trainable_func_cfe888ea_5_act1=tanh,act2=tanh,act3=selu,batch_size=8,hidden_dim1=270.0000,hidden_dim2=300.0000,hidden_dim3=165.000_2022-07-26_14-11-45/checkpoint_tmp7cd971/./\n",
            "\u001b[2m\u001b[36m(func pid=245735)\u001b[0m 2022-07-26 14:18:38,010\tINFO trainable.py:597 -- Current state after restoring: {'_iteration': 39, '_timesteps_total': None, '_time_total': 284.1711618900299, '_episodes_total': None}\n",
            "\u001b[2m\u001b[36m(func pid=245777)\u001b[0m 2022-07-26 14:18:38,818\tINFO trainable.py:589 -- Restored on 172.28.0.2 from checkpoint: /root/ray_results/trainable_func_2022-07-26_14-11-15/trainable_func_ea51ef14_8_act1=tanh,act2=tanh,act3=selu,batch_size=32,hidden_dim1=195.0000,hidden_dim2=165.0000,hidden_dim3=195.00_2022-07-26_14-12-02/checkpoint_tmp10d1de/./\n",
            "\u001b[2m\u001b[36m(func pid=245777)\u001b[0m 2022-07-26 14:18:38,818\tINFO trainable.py:597 -- Current state after restoring: {'_iteration': 30, '_timesteps_total': None, '_time_total': 61.59685730934143, '_episodes_total': None}\n"
          ]
        },
        {
          "output_type": "stream",
          "name": "stdout",
          "text": [
            "Trial trainable_func_cdd3e116 reported epoch=10,loss=0.588367584779118,should_checkpoint=True with parameters={'act1 ': 'relu', 'act2': 'selu', 'act3': 'relu', 'lr': 0.0007, 'batch_size': 64, 'hidden_dim1': 330.0, 'hidden_dim2': 240.0, 'hidden_dim3': 180.0}. This trial completed.\n",
            "Trial trainable_func_e7a9dc7c reported epoch=0,loss=0.10333553315791102,should_checkpoint=True with parameters={'act1 ': 'selu', 'act2': 'tanh', 'act3': 'selu', 'lr': 0.0009000000000000001, 'batch_size': 8, 'hidden_dim1': 255.0, 'hidden_dim2': 135.0, 'hidden_dim3': 270.0}.\n",
            "== Status ==\n",
            "Current time: 2022-07-26 14:18:41 (running for 00:07:25.72)\n",
            "Memory usage on this node: 2.4/12.7 GiB\n",
            "Using MedianStoppingRule: num_stopped=7.\n",
            "Resources requested: 1.5/2 CPUs, 0/0 GPUs, 0.0/7.47 GiB heap, 0.0/3.73 GiB objects\n",
            "Result logdir: /root/ray_results/trainable_func_2022-07-26_14-11-15\n",
            "Number of trials: 22/50 (7 PAUSED, 3 RUNNING, 12 TERMINATED)\n",
            "\n",
            "\n",
            "Trial trainable_func_ea51ef14 reported epoch=0,loss=0.07553587401749472,should_checkpoint=True with parameters={'act1 ': 'tanh', 'act2': 'tanh', 'act3': 'selu', 'lr': 0.0006000000000000001, 'batch_size': 32, 'hidden_dim1': 195.0, 'hidden_dim2': 165.0, 'hidden_dim3': 195.0}.\n"
          ]
        },
        {
          "output_type": "stream",
          "name": "stderr",
          "text": [
            "\u001b[2m\u001b[36m(func pid=245736)\u001b[0m 2022-07-26 14:18:41,145\tINFO trainable.py:589 -- Restored on 172.28.0.2 from checkpoint: /root/ray_results/trainable_func_2022-07-26_14-11-15/trainable_func_e7a9dc7c_7_act1=selu,act2=tanh,act3=selu,batch_size=8,hidden_dim1=255.0000,hidden_dim2=135.0000,hidden_dim3=270.000_2022-07-26_14-12-00/checkpoint_tmp21b261/./\n",
            "\u001b[2m\u001b[36m(func pid=245736)\u001b[0m 2022-07-26 14:18:41,147\tINFO trainable.py:597 -- Current state after restoring: {'_iteration': 35, '_timesteps_total': None, '_time_total': 212.14592742919922, '_episodes_total': None}\n",
            "\u001b[2m\u001b[36m(func pid=245777)\u001b[0m 2022-07-26 14:18:41,740\tINFO trainable.py:589 -- Restored on 172.28.0.2 from checkpoint: /root/ray_results/trainable_func_2022-07-26_14-11-15/trainable_func_ea51ef14_8_act1=tanh,act2=tanh,act3=selu,batch_size=32,hidden_dim1=195.0000,hidden_dim2=165.0000,hidden_dim3=195.00_2022-07-26_14-12-02/checkpoint_tmp18ec04/./\n",
            "\u001b[2m\u001b[36m(func pid=245777)\u001b[0m 2022-07-26 14:18:41,740\tINFO trainable.py:597 -- Current state after restoring: {'_iteration': 31, '_timesteps_total': None, '_time_total': 63.566073417663574, '_episodes_total': None}\n"
          ]
        },
        {
          "output_type": "stream",
          "name": "stdout",
          "text": [
            "Trial trainable_func_d857ad5c reported epoch=0,loss=0.778171175565614,should_checkpoint=True with parameters={'act1 ': 'tanh', 'act2': 'tanh', 'act3': 'relu', 'lr': 0.0007, 'batch_size': 32, 'hidden_dim1': 165.0, 'hidden_dim2': 285.0, 'hidden_dim3': 120.0}.\n"
          ]
        },
        {
          "output_type": "stream",
          "name": "stderr",
          "text": [
            "\u001b[2m\u001b[36m(func pid=245777)\u001b[0m 2022-07-26 14:18:44,342\tINFO trainable.py:589 -- Restored on 172.28.0.2 from checkpoint: /root/ray_results/trainable_func_2022-07-26_14-11-15/trainable_func_ea51ef14_8_act1=tanh,act2=tanh,act3=selu,batch_size=32,hidden_dim1=195.0000,hidden_dim2=165.0000,hidden_dim3=195.00_2022-07-26_14-12-02/checkpoint_tmpdd4119/./\n",
            "\u001b[2m\u001b[36m(func pid=245777)\u001b[0m 2022-07-26 14:18:44,342\tINFO trainable.py:597 -- Current state after restoring: {'_iteration': 32, '_timesteps_total': None, '_time_total': 65.5065507888794, '_episodes_total': None}\n"
          ]
        },
        {
          "output_type": "stream",
          "name": "stdout",
          "text": [
            "Trial trainable_func_cfe888ea reported epoch=0,loss=0.06339999602195083,should_checkpoint=True with parameters={'act1 ': 'tanh', 'act2': 'tanh', 'act3': 'selu', 'lr': 0.0009000000000000001, 'batch_size': 8, 'hidden_dim1': 270.0, 'hidden_dim2': 300.0, 'hidden_dim3': 165.0}.\n"
          ]
        },
        {
          "output_type": "stream",
          "name": "stderr",
          "text": [
            "\u001b[2m\u001b[36m(func pid=245735)\u001b[0m 2022-07-26 14:18:45,055\tINFO trainable.py:589 -- Restored on 172.28.0.2 from checkpoint: /root/ray_results/trainable_func_2022-07-26_14-11-15/trainable_func_cfe888ea_5_act1=tanh,act2=tanh,act3=selu,batch_size=8,hidden_dim1=270.0000,hidden_dim2=300.0000,hidden_dim3=165.000_2022-07-26_14-11-45/checkpoint_tmp944b80/./\n",
            "\u001b[2m\u001b[36m(func pid=245735)\u001b[0m 2022-07-26 14:18:45,056\tINFO trainable.py:597 -- Current state after restoring: {'_iteration': 40, '_timesteps_total': None, '_time_total': 290.5176753997803, '_episodes_total': None}\n"
          ]
        },
        {
          "output_type": "stream",
          "name": "stdout",
          "text": [
            "Trial trainable_func_ea51ef14 reported epoch=0,loss=0.08151910082182143,should_checkpoint=True with parameters={'act1 ': 'tanh', 'act2': 'tanh', 'act3': 'selu', 'lr': 0.0006000000000000001, 'batch_size': 32, 'hidden_dim1': 195.0, 'hidden_dim2': 165.0, 'hidden_dim3': 195.0}.\n",
            "== Status ==\n",
            "Current time: 2022-07-26 14:18:46 (running for 00:07:30.82)\n",
            "Memory usage on this node: 2.5/12.7 GiB\n",
            "Using MedianStoppingRule: num_stopped=7.\n",
            "Resources requested: 2.0/2 CPUs, 0/0 GPUs, 0.0/7.47 GiB heap, 0.0/3.73 GiB objects\n",
            "Result logdir: /root/ray_results/trainable_func_2022-07-26_14-11-15\n",
            "Number of trials: 22/50 (6 PAUSED, 4 RUNNING, 12 TERMINATED)\n",
            "\n",
            "\n",
            "Trial trainable_func_e7a9dc7c reported epoch=0,loss=0.06401793611146475,should_checkpoint=True with parameters={'act1 ': 'selu', 'act2': 'tanh', 'act3': 'selu', 'lr': 0.0009000000000000001, 'batch_size': 8, 'hidden_dim1': 255.0, 'hidden_dim2': 135.0, 'hidden_dim3': 270.0}.\n"
          ]
        },
        {
          "output_type": "stream",
          "name": "stderr",
          "text": [
            "\u001b[2m\u001b[36m(func pid=245777)\u001b[0m 2022-07-26 14:18:47,017\tINFO trainable.py:589 -- Restored on 172.28.0.2 from checkpoint: /root/ray_results/trainable_func_2022-07-26_14-11-15/trainable_func_ea51ef14_8_act1=tanh,act2=tanh,act3=selu,batch_size=32,hidden_dim1=195.0000,hidden_dim2=165.0000,hidden_dim3=195.00_2022-07-26_14-12-02/checkpoint_tmp91adf1/./\n",
            "\u001b[2m\u001b[36m(func pid=245777)\u001b[0m 2022-07-26 14:18:47,017\tINFO trainable.py:597 -- Current state after restoring: {'_iteration': 33, '_timesteps_total': None, '_time_total': 67.37131571769714, '_episodes_total': None}\n",
            "\u001b[2m\u001b[36m(func pid=245736)\u001b[0m 2022-07-26 14:18:47,444\tINFO trainable.py:589 -- Restored on 172.28.0.2 from checkpoint: /root/ray_results/trainable_func_2022-07-26_14-11-15/trainable_func_e7a9dc7c_7_act1=selu,act2=tanh,act3=selu,batch_size=8,hidden_dim1=255.0000,hidden_dim2=135.0000,hidden_dim3=270.000_2022-07-26_14-12-00/checkpoint_tmp116390/./\n",
            "\u001b[2m\u001b[36m(func pid=245736)\u001b[0m 2022-07-26 14:18:47,444\tINFO trainable.py:597 -- Current state after restoring: {'_iteration': 36, '_timesteps_total': None, '_time_total': 217.98027062416077, '_episodes_total': None}\n"
          ]
        },
        {
          "output_type": "stream",
          "name": "stdout",
          "text": [
            "Trial trainable_func_d857ad5c reported epoch=3,loss=0.6166852012057599,should_checkpoint=True with parameters={'act1 ': 'tanh', 'act2': 'tanh', 'act3': 'relu', 'lr': 0.0007, 'batch_size': 32, 'hidden_dim1': 165.0, 'hidden_dim2': 285.0, 'hidden_dim3': 120.0}.\n"
          ]
        },
        {
          "output_type": "stream",
          "name": "stderr",
          "text": [
            "\u001b[2m\u001b[36m(func pid=245777)\u001b[0m 2022-07-26 14:18:49,330\tINFO trainable.py:589 -- Restored on 172.28.0.2 from checkpoint: /root/ray_results/trainable_func_2022-07-26_14-11-15/trainable_func_ea51ef14_8_act1=tanh,act2=tanh,act3=selu,batch_size=32,hidden_dim1=195.0000,hidden_dim2=165.0000,hidden_dim3=195.00_2022-07-26_14-12-02/checkpoint_tmp841258/./\n",
            "\u001b[2m\u001b[36m(func pid=245777)\u001b[0m 2022-07-26 14:18:49,330\tINFO trainable.py:597 -- Current state after restoring: {'_iteration': 34, '_timesteps_total': None, '_time_total': 69.12798810005188, '_episodes_total': None}\n"
          ]
        },
        {
          "output_type": "stream",
          "name": "stdout",
          "text": [
            "== Status ==\n",
            "Current time: 2022-07-26 14:18:51 (running for 00:07:35.90)\n",
            "Memory usage on this node: 2.4/12.7 GiB\n",
            "Using MedianStoppingRule: num_stopped=7.\n",
            "Resources requested: 2.0/2 CPUs, 0/0 GPUs, 0.0/7.47 GiB heap, 0.0/3.73 GiB objects\n",
            "Result logdir: /root/ray_results/trainable_func_2022-07-26_14-11-15\n",
            "Number of trials: 22/50 (6 PAUSED, 4 RUNNING, 12 TERMINATED)\n",
            "\n",
            "\n",
            "Trial trainable_func_ea51ef14 reported epoch=0,loss=0.06089182610417318,should_checkpoint=True with parameters={'act1 ': 'tanh', 'act2': 'tanh', 'act3': 'selu', 'lr': 0.0006000000000000001, 'batch_size': 32, 'hidden_dim1': 195.0, 'hidden_dim2': 165.0, 'hidden_dim3': 195.0}.\n"
          ]
        },
        {
          "output_type": "stream",
          "name": "stderr",
          "text": [
            "\u001b[2m\u001b[36m(func pid=245777)\u001b[0m 2022-07-26 14:18:51,964\tINFO trainable.py:589 -- Restored on 172.28.0.2 from checkpoint: /root/ray_results/trainable_func_2022-07-26_14-11-15/trainable_func_ea51ef14_8_act1=tanh,act2=tanh,act3=selu,batch_size=32,hidden_dim1=195.0000,hidden_dim2=165.0000,hidden_dim3=195.00_2022-07-26_14-12-02/checkpoint_tmp99a5da/./\n",
            "\u001b[2m\u001b[36m(func pid=245777)\u001b[0m 2022-07-26 14:18:51,964\tINFO trainable.py:597 -- Current state after restoring: {'_iteration': 35, '_timesteps_total': None, '_time_total': 71.11382484436035, '_episodes_total': None}\n"
          ]
        },
        {
          "output_type": "stream",
          "name": "stdout",
          "text": [
            "Trial trainable_func_cfe888ea reported epoch=0,loss=0.07292088540570998,should_checkpoint=True with parameters={'act1 ': 'tanh', 'act2': 'tanh', 'act3': 'selu', 'lr': 0.0009000000000000001, 'batch_size': 8, 'hidden_dim1': 270.0, 'hidden_dim2': 300.0, 'hidden_dim3': 165.0}.\n",
            "Trial trainable_func_d857ad5c reported epoch=6,loss=0.5996296299580068,should_checkpoint=True with parameters={'act1 ': 'tanh', 'act2': 'tanh', 'act3': 'relu', 'lr': 0.0007, 'batch_size': 32, 'hidden_dim1': 165.0, 'hidden_dim2': 285.0, 'hidden_dim3': 120.0}.\n",
            "Trial trainable_func_e7a9dc7c reported epoch=0,loss=0.08031219748098153,should_checkpoint=True with parameters={'act1 ': 'selu', 'act2': 'tanh', 'act3': 'selu', 'lr': 0.0009000000000000001, 'batch_size': 8, 'hidden_dim1': 255.0, 'hidden_dim2': 135.0, 'hidden_dim3': 270.0}.\n"
          ]
        },
        {
          "output_type": "stream",
          "name": "stderr",
          "text": [
            "\u001b[2m\u001b[36m(func pid=245735)\u001b[0m 2022-07-26 14:18:53,306\tINFO trainable.py:589 -- Restored on 172.28.0.2 from checkpoint: /root/ray_results/trainable_func_2022-07-26_14-11-15/trainable_func_cfe888ea_5_act1=tanh,act2=tanh,act3=selu,batch_size=8,hidden_dim1=270.0000,hidden_dim2=300.0000,hidden_dim3=165.000_2022-07-26_14-11-45/checkpoint_tmpcfe09f/./\n",
            "\u001b[2m\u001b[36m(func pid=245735)\u001b[0m 2022-07-26 14:18:53,306\tINFO trainable.py:597 -- Current state after restoring: {'_iteration': 41, '_timesteps_total': None, '_time_total': 298.282687664032, '_episodes_total': None}\n",
            "\u001b[2m\u001b[36m(func pid=245736)\u001b[0m 2022-07-26 14:18:53,944\tINFO trainable.py:589 -- Restored on 172.28.0.2 from checkpoint: /root/ray_results/trainable_func_2022-07-26_14-11-15/trainable_func_e7a9dc7c_7_act1=selu,act2=tanh,act3=selu,batch_size=8,hidden_dim1=255.0000,hidden_dim2=135.0000,hidden_dim3=270.000_2022-07-26_14-12-00/checkpoint_tmp3959bc/./\n",
            "\u001b[2m\u001b[36m(func pid=245736)\u001b[0m 2022-07-26 14:18:53,945\tINFO trainable.py:597 -- Current state after restoring: {'_iteration': 37, '_timesteps_total': None, '_time_total': 223.51309752464294, '_episodes_total': None}\n",
            "\u001b[2m\u001b[36m(func pid=245777)\u001b[0m 2022-07-26 14:18:54,550\tINFO trainable.py:589 -- Restored on 172.28.0.2 from checkpoint: /root/ray_results/trainable_func_2022-07-26_14-11-15/trainable_func_ea51ef14_8_act1=tanh,act2=tanh,act3=selu,batch_size=32,hidden_dim1=195.0000,hidden_dim2=165.0000,hidden_dim3=195.00_2022-07-26_14-12-02/checkpoint_tmp9446c4/./\n",
            "\u001b[2m\u001b[36m(func pid=245777)\u001b[0m 2022-07-26 14:18:54,550\tINFO trainable.py:597 -- Current state after restoring: {'_iteration': 36, '_timesteps_total': None, '_time_total': 72.80523180961609, '_episodes_total': None}\n"
          ]
        },
        {
          "output_type": "stream",
          "name": "stdout",
          "text": [
            "Trial trainable_func_ea51ef14 reported epoch=0,loss=0.0588335691973859,should_checkpoint=True with parameters={'act1 ': 'tanh', 'act2': 'tanh', 'act3': 'selu', 'lr': 0.0006000000000000001, 'batch_size': 32, 'hidden_dim1': 195.0, 'hidden_dim2': 165.0, 'hidden_dim3': 195.0}.\n",
            "== Status ==\n",
            "Current time: 2022-07-26 14:18:56 (running for 00:07:41.21)\n",
            "Memory usage on this node: 2.5/12.7 GiB\n",
            "Using MedianStoppingRule: num_stopped=7.\n",
            "Resources requested: 2.0/2 CPUs, 0/0 GPUs, 0.0/7.47 GiB heap, 0.0/3.73 GiB objects\n",
            "Result logdir: /root/ray_results/trainable_func_2022-07-26_14-11-15\n",
            "Number of trials: 22/50 (6 PAUSED, 4 RUNNING, 12 TERMINATED)\n",
            "\n",
            "\n"
          ]
        },
        {
          "output_type": "stream",
          "name": "stderr",
          "text": [
            "\u001b[2m\u001b[36m(func pid=245777)\u001b[0m 2022-07-26 14:18:57,187\tINFO trainable.py:589 -- Restored on 172.28.0.2 from checkpoint: /root/ray_results/trainable_func_2022-07-26_14-11-15/trainable_func_ea51ef14_8_act1=tanh,act2=tanh,act3=selu,batch_size=32,hidden_dim1=195.0000,hidden_dim2=165.0000,hidden_dim3=195.00_2022-07-26_14-12-02/checkpoint_tmp76fe7b/./\n",
            "\u001b[2m\u001b[36m(func pid=245777)\u001b[0m 2022-07-26 14:18:57,187\tINFO trainable.py:597 -- Current state after restoring: {'_iteration': 37, '_timesteps_total': None, '_time_total': 74.85580086708069, '_episodes_total': None}\n"
          ]
        },
        {
          "output_type": "stream",
          "name": "stdout",
          "text": [
            "Trial trainable_func_d857ad5c reported epoch=9,loss=0.5716388088488651,should_checkpoint=True with parameters={'act1 ': 'tanh', 'act2': 'tanh', 'act3': 'relu', 'lr': 0.0007, 'batch_size': 32, 'hidden_dim1': 165.0, 'hidden_dim2': 285.0, 'hidden_dim3': 120.0}. This trial completed.\n",
            "Trial trainable_func_e7a9dc7c reported epoch=0,loss=0.08317852752214681,should_checkpoint=True with parameters={'act1 ': 'selu', 'act2': 'tanh', 'act3': 'selu', 'lr': 0.0009000000000000001, 'batch_size': 8, 'hidden_dim1': 255.0, 'hidden_dim2': 135.0, 'hidden_dim3': 270.0}.\n"
          ]
        },
        {
          "output_type": "stream",
          "name": "stderr",
          "text": [
            "\u001b[2m\u001b[36m(func pid=245777)\u001b[0m 2022-07-26 14:18:59,484\tINFO trainable.py:589 -- Restored on 172.28.0.2 from checkpoint: /root/ray_results/trainable_func_2022-07-26_14-11-15/trainable_func_ea51ef14_8_act1=tanh,act2=tanh,act3=selu,batch_size=32,hidden_dim1=195.0000,hidden_dim2=165.0000,hidden_dim3=195.00_2022-07-26_14-12-02/checkpoint_tmpf34b58/./\n",
            "\u001b[2m\u001b[36m(func pid=245777)\u001b[0m 2022-07-26 14:18:59,486\tINFO trainable.py:597 -- Current state after restoring: {'_iteration': 38, '_timesteps_total': None, '_time_total': 76.66830539703369, '_episodes_total': None}\n",
            "\u001b[2m\u001b[36m(func pid=245736)\u001b[0m 2022-07-26 14:19:00,037\tINFO trainable.py:589 -- Restored on 172.28.0.2 from checkpoint: /root/ray_results/trainable_func_2022-07-26_14-11-15/trainable_func_e7a9dc7c_7_act1=selu,act2=tanh,act3=selu,batch_size=8,hidden_dim1=255.0000,hidden_dim2=135.0000,hidden_dim3=270.000_2022-07-26_14-12-00/checkpoint_tmpb9b725/./\n",
            "\u001b[2m\u001b[36m(func pid=245736)\u001b[0m 2022-07-26 14:19:00,037\tINFO trainable.py:597 -- Current state after restoring: {'_iteration': 38, '_timesteps_total': None, '_time_total': 228.93766856193542, '_episodes_total': None}\n"
          ]
        },
        {
          "output_type": "stream",
          "name": "stdout",
          "text": [
            "Trial trainable_func_cfe888ea reported epoch=0,loss=0.08756535032813502,should_checkpoint=True with parameters={'act1 ': 'tanh', 'act2': 'tanh', 'act3': 'selu', 'lr': 0.0009000000000000001, 'batch_size': 8, 'hidden_dim1': 270.0, 'hidden_dim2': 300.0, 'hidden_dim3': 165.0}.\n",
            "Trial trainable_func_e449b9ca reported epoch=0,loss=0.7512514008152638,should_checkpoint=True with parameters={'act1 ': 'selu', 'act2': 'tanh', 'act3': 'selu', 'lr': 0.0007, 'batch_size': 64, 'hidden_dim1': 210.0, 'hidden_dim2': 270.0, 'hidden_dim3': 300.0}.\n"
          ]
        },
        {
          "output_type": "stream",
          "name": "stderr",
          "text": [
            "\u001b[2m\u001b[36m(func pid=245735)\u001b[0m 2022-07-26 14:19:01,178\tINFO trainable.py:589 -- Restored on 172.28.0.2 from checkpoint: /root/ray_results/trainable_func_2022-07-26_14-11-15/trainable_func_cfe888ea_5_act1=tanh,act2=tanh,act3=selu,batch_size=8,hidden_dim1=270.0000,hidden_dim2=300.0000,hidden_dim3=165.000_2022-07-26_14-11-45/checkpoint_tmpf75ef3/./\n",
            "\u001b[2m\u001b[36m(func pid=245735)\u001b[0m 2022-07-26 14:19:01,182\tINFO trainable.py:597 -- Current state after restoring: {'_iteration': 42, '_timesteps_total': None, '_time_total': 305.3489317893982, '_episodes_total': None}\n"
          ]
        },
        {
          "output_type": "stream",
          "name": "stdout",
          "text": [
            "== Status ==\n",
            "Current time: 2022-07-26 14:19:02 (running for 00:07:46.69)\n",
            "Memory usage on this node: 2.5/12.7 GiB\n",
            "Using MedianStoppingRule: num_stopped=8.\n",
            "Resources requested: 1.5/2 CPUs, 0/0 GPUs, 0.0/7.47 GiB heap, 0.0/3.73 GiB objects\n",
            "Result logdir: /root/ray_results/trainable_func_2022-07-26_14-11-15\n",
            "Number of trials: 23/50 (7 PAUSED, 3 RUNNING, 13 TERMINATED)\n",
            "\n",
            "\n"
          ]
        },
        {
          "output_type": "stream",
          "name": "stderr",
          "text": [
            "\u001b[2m\u001b[36m(func pid=245777)\u001b[0m 2022-07-26 14:19:02,111\tINFO trainable.py:589 -- Restored on 172.28.0.2 from checkpoint: /root/ray_results/trainable_func_2022-07-26_14-11-15/trainable_func_ea51ef14_8_act1=tanh,act2=tanh,act3=selu,batch_size=32,hidden_dim1=195.0000,hidden_dim2=165.0000,hidden_dim3=195.00_2022-07-26_14-12-02/checkpoint_tmp351cc0/./\n",
            "\u001b[2m\u001b[36m(func pid=245777)\u001b[0m 2022-07-26 14:19:02,112\tINFO trainable.py:597 -- Current state after restoring: {'_iteration': 39, '_timesteps_total': None, '_time_total': 78.4916422367096, '_episodes_total': None}\n"
          ]
        },
        {
          "output_type": "stream",
          "name": "stdout",
          "text": [
            "Trial trainable_func_ea51ef14 reported epoch=0,loss=0.05035319361625437,should_checkpoint=True with parameters={'act1 ': 'tanh', 'act2': 'tanh', 'act3': 'selu', 'lr': 0.0006000000000000001, 'batch_size': 32, 'hidden_dim1': 195.0, 'hidden_dim2': 165.0, 'hidden_dim3': 195.0}.\n"
          ]
        },
        {
          "output_type": "stream",
          "name": "stderr",
          "text": [
            "\u001b[2m\u001b[36m(func pid=245777)\u001b[0m 2022-07-26 14:19:04,863\tINFO trainable.py:589 -- Restored on 172.28.0.2 from checkpoint: /root/ray_results/trainable_func_2022-07-26_14-11-15/trainable_func_ea51ef14_8_act1=tanh,act2=tanh,act3=selu,batch_size=32,hidden_dim1=195.0000,hidden_dim2=165.0000,hidden_dim3=195.00_2022-07-26_14-12-02/checkpoint_tmpdd563c/./\n",
            "\u001b[2m\u001b[36m(func pid=245777)\u001b[0m 2022-07-26 14:19:04,863\tINFO trainable.py:597 -- Current state after restoring: {'_iteration': 40, '_timesteps_total': None, '_time_total': 80.52418875694275, '_episodes_total': None}\n"
          ]
        },
        {
          "output_type": "stream",
          "name": "stdout",
          "text": [
            "Trial trainable_func_e7a9dc7c reported epoch=0,loss=0.08252966898994439,should_checkpoint=True with parameters={'act1 ': 'selu', 'act2': 'tanh', 'act3': 'selu', 'lr': 0.0009000000000000001, 'batch_size': 8, 'hidden_dim1': 255.0, 'hidden_dim2': 135.0, 'hidden_dim3': 270.0}.\n",
            "Trial trainable_func_e449b9ca reported epoch=4,loss=0.6061259294627318,should_checkpoint=True with parameters={'act1 ': 'selu', 'act2': 'tanh', 'act3': 'selu', 'lr': 0.0007, 'batch_size': 64, 'hidden_dim1': 210.0, 'hidden_dim2': 270.0, 'hidden_dim3': 300.0}.\n"
          ]
        },
        {
          "output_type": "stream",
          "name": "stderr",
          "text": [
            "\u001b[2m\u001b[36m(func pid=245736)\u001b[0m 2022-07-26 14:19:06,461\tINFO trainable.py:589 -- Restored on 172.28.0.2 from checkpoint: /root/ray_results/trainable_func_2022-07-26_14-11-15/trainable_func_e7a9dc7c_7_act1=selu,act2=tanh,act3=selu,batch_size=8,hidden_dim1=255.0000,hidden_dim2=135.0000,hidden_dim3=270.000_2022-07-26_14-12-00/checkpoint_tmpeff99f/./\n",
            "\u001b[2m\u001b[36m(func pid=245736)\u001b[0m 2022-07-26 14:19:06,462\tINFO trainable.py:597 -- Current state after restoring: {'_iteration': 39, '_timesteps_total': None, '_time_total': 234.76372241973877, '_episodes_total': None}\n",
            "\u001b[2m\u001b[36m(func pid=245777)\u001b[0m 2022-07-26 14:19:07,041\tINFO trainable.py:589 -- Restored on 172.28.0.2 from checkpoint: /root/ray_results/trainable_func_2022-07-26_14-11-15/trainable_func_ea51ef14_8_act1=tanh,act2=tanh,act3=selu,batch_size=32,hidden_dim1=195.0000,hidden_dim2=165.0000,hidden_dim3=195.00_2022-07-26_14-12-02/checkpoint_tmp1851c8/./\n",
            "\u001b[2m\u001b[36m(func pid=245777)\u001b[0m 2022-07-26 14:19:07,042\tINFO trainable.py:597 -- Current state after restoring: {'_iteration': 41, '_timesteps_total': None, '_time_total': 82.22301006317139, '_episodes_total': None}\n"
          ]
        },
        {
          "output_type": "stream",
          "name": "stdout",
          "text": [
            "== Status ==\n",
            "Current time: 2022-07-26 14:19:07 (running for 00:07:52.59)\n",
            "Memory usage on this node: 2.5/12.7 GiB\n",
            "Using MedianStoppingRule: num_stopped=8.\n",
            "Resources requested: 2.0/2 CPUs, 0/0 GPUs, 0.0/7.47 GiB heap, 0.0/3.73 GiB objects\n",
            "Result logdir: /root/ray_results/trainable_func_2022-07-26_14-11-15\n",
            "Number of trials: 23/50 (6 PAUSED, 4 RUNNING, 13 TERMINATED)\n",
            "\n",
            "\n",
            "Trial trainable_func_cfe888ea reported epoch=0,loss=0.05538214184679798,should_checkpoint=True with parameters={'act1 ': 'tanh', 'act2': 'tanh', 'act3': 'selu', 'lr': 0.0009000000000000001, 'batch_size': 8, 'hidden_dim1': 270.0, 'hidden_dim2': 300.0, 'hidden_dim3': 165.0}.\n"
          ]
        },
        {
          "output_type": "stream",
          "name": "stderr",
          "text": [
            "\u001b[2m\u001b[36m(func pid=245777)\u001b[0m 2022-07-26 14:19:09,471\tINFO trainable.py:589 -- Restored on 172.28.0.2 from checkpoint: /root/ray_results/trainable_func_2022-07-26_14-11-15/trainable_func_ea51ef14_8_act1=tanh,act2=tanh,act3=selu,batch_size=32,hidden_dim1=195.0000,hidden_dim2=165.0000,hidden_dim3=195.00_2022-07-26_14-12-02/checkpoint_tmpa3830f/./\n",
            "\u001b[2m\u001b[36m(func pid=245777)\u001b[0m 2022-07-26 14:19:09,478\tINFO trainable.py:597 -- Current state after restoring: {'_iteration': 42, '_timesteps_total': None, '_time_total': 84.04627108573914, '_episodes_total': None}\n",
            "\u001b[2m\u001b[36m(func pid=245735)\u001b[0m 2022-07-26 14:19:09,959\tINFO trainable.py:589 -- Restored on 172.28.0.2 from checkpoint: /root/ray_results/trainable_func_2022-07-26_14-11-15/trainable_func_cfe888ea_5_act1=tanh,act2=tanh,act3=selu,batch_size=8,hidden_dim1=270.0000,hidden_dim2=300.0000,hidden_dim3=165.000_2022-07-26_14-11-45/checkpoint_tmp2f3f1a/./\n",
            "\u001b[2m\u001b[36m(func pid=245735)\u001b[0m 2022-07-26 14:19:09,959\tINFO trainable.py:597 -- Current state after restoring: {'_iteration': 43, '_timesteps_total': None, '_time_total': 313.1754295825958, '_episodes_total': None}\n"
          ]
        },
        {
          "output_type": "stream",
          "name": "stdout",
          "text": [
            "Trial trainable_func_ea51ef14 reported epoch=0,loss=0.050006604983109305,should_checkpoint=True with parameters={'act1 ': 'tanh', 'act2': 'tanh', 'act3': 'selu', 'lr': 0.0006000000000000001, 'batch_size': 32, 'hidden_dim1': 195.0, 'hidden_dim2': 165.0, 'hidden_dim3': 195.0}.\n",
            "Trial trainable_func_e7a9dc7c reported epoch=0,loss=0.06855453279550218,should_checkpoint=True with parameters={'act1 ': 'selu', 'act2': 'tanh', 'act3': 'selu', 'lr': 0.0009000000000000001, 'batch_size': 8, 'hidden_dim1': 255.0, 'hidden_dim2': 135.0, 'hidden_dim3': 270.0}.\n"
          ]
        },
        {
          "output_type": "stream",
          "name": "stderr",
          "text": [
            "\u001b[2m\u001b[36m(func pid=245777)\u001b[0m 2022-07-26 14:19:11,730\tINFO trainable.py:589 -- Restored on 172.28.0.2 from checkpoint: /root/ray_results/trainable_func_2022-07-26_14-11-15/trainable_func_ea51ef14_8_act1=tanh,act2=tanh,act3=selu,batch_size=32,hidden_dim1=195.0000,hidden_dim2=165.0000,hidden_dim3=195.00_2022-07-26_14-12-02/checkpoint_tmp39d78e/./\n",
            "\u001b[2m\u001b[36m(func pid=245777)\u001b[0m 2022-07-26 14:19:11,730\tINFO trainable.py:597 -- Current state after restoring: {'_iteration': 43, '_timesteps_total': None, '_time_total': 85.65898823738098, '_episodes_total': None}\n",
            "\u001b[2m\u001b[36m(func pid=245736)\u001b[0m 2022-07-26 14:19:12,228\tINFO trainable.py:589 -- Restored on 172.28.0.2 from checkpoint: /root/ray_results/trainable_func_2022-07-26_14-11-15/trainable_func_e7a9dc7c_7_act1=selu,act2=tanh,act3=selu,batch_size=8,hidden_dim1=255.0000,hidden_dim2=135.0000,hidden_dim3=270.000_2022-07-26_14-12-00/checkpoint_tmp6aa5b3/./\n",
            "\u001b[2m\u001b[36m(func pid=245736)\u001b[0m 2022-07-26 14:19:12,228\tINFO trainable.py:597 -- Current state after restoring: {'_iteration': 40, '_timesteps_total': None, '_time_total': 239.86505961418152, '_episodes_total': None}\n"
          ]
        },
        {
          "output_type": "stream",
          "name": "stdout",
          "text": [
            "Trial trainable_func_e449b9ca reported epoch=7,loss=0.5436164929235732,should_checkpoint=True with parameters={'act1 ': 'selu', 'act2': 'tanh', 'act3': 'selu', 'lr': 0.0007, 'batch_size': 64, 'hidden_dim1': 210.0, 'hidden_dim2': 270.0, 'hidden_dim3': 300.0}.\n",
            "== Status ==\n",
            "Current time: 2022-07-26 14:19:13 (running for 00:07:57.90)\n",
            "Memory usage on this node: 2.4/12.7 GiB\n",
            "Using MedianStoppingRule: num_stopped=8.\n",
            "Resources requested: 2.0/2 CPUs, 0/0 GPUs, 0.0/7.47 GiB heap, 0.0/3.73 GiB objects\n",
            "Result logdir: /root/ray_results/trainable_func_2022-07-26_14-11-15\n",
            "Number of trials: 23/50 (6 PAUSED, 4 RUNNING, 13 TERMINATED)\n",
            "\n",
            "\n"
          ]
        },
        {
          "output_type": "stream",
          "name": "stderr",
          "text": [
            "\u001b[2m\u001b[36m(func pid=245777)\u001b[0m 2022-07-26 14:19:13,974\tINFO trainable.py:589 -- Restored on 172.28.0.2 from checkpoint: /root/ray_results/trainable_func_2022-07-26_14-11-15/trainable_func_ea51ef14_8_act1=tanh,act2=tanh,act3=selu,batch_size=32,hidden_dim1=195.0000,hidden_dim2=165.0000,hidden_dim3=195.00_2022-07-26_14-12-02/checkpoint_tmpf7ed24/./\n",
            "\u001b[2m\u001b[36m(func pid=245777)\u001b[0m 2022-07-26 14:19:13,974\tINFO trainable.py:597 -- Current state after restoring: {'_iteration': 44, '_timesteps_total': None, '_time_total': 87.21319007873535, '_episodes_total': None}\n",
            "\u001b[2m\u001b[36m(func pid=245777)\u001b[0m 2022-07-26 14:19:16,457\tINFO trainable.py:589 -- Restored on 172.28.0.2 from checkpoint: /root/ray_results/trainable_func_2022-07-26_14-11-15/trainable_func_ea51ef14_8_act1=tanh,act2=tanh,act3=selu,batch_size=32,hidden_dim1=195.0000,hidden_dim2=165.0000,hidden_dim3=195.00_2022-07-26_14-12-02/checkpoint_tmp546a08/./\n",
            "\u001b[2m\u001b[36m(func pid=245777)\u001b[0m 2022-07-26 14:19:16,457\tINFO trainable.py:597 -- Current state after restoring: {'_iteration': 45, '_timesteps_total': None, '_time_total': 89.02624487876892, '_episodes_total': None}\n"
          ]
        },
        {
          "output_type": "stream",
          "name": "stdout",
          "text": [
            "Trial trainable_func_cfe888ea reported epoch=0,loss=0.0632102974914526,should_checkpoint=True with parameters={'act1 ': 'tanh', 'act2': 'tanh', 'act3': 'selu', 'lr': 0.0009000000000000001, 'batch_size': 8, 'hidden_dim1': 270.0, 'hidden_dim2': 300.0, 'hidden_dim3': 165.0}.\n",
            "Trial trainable_func_e449b9ca reported epoch=10,loss=0.5897608469356443,should_checkpoint=True with parameters={'act1 ': 'selu', 'act2': 'tanh', 'act3': 'selu', 'lr': 0.0007, 'batch_size': 64, 'hidden_dim1': 210.0, 'hidden_dim2': 270.0, 'hidden_dim3': 300.0}. This trial completed.\n"
          ]
        },
        {
          "output_type": "stream",
          "name": "stderr",
          "text": [
            "\u001b[2m\u001b[36m(func pid=245735)\u001b[0m 2022-07-26 14:19:17,140\tINFO trainable.py:589 -- Restored on 172.28.0.2 from checkpoint: /root/ray_results/trainable_func_2022-07-26_14-11-15/trainable_func_cfe888ea_5_act1=tanh,act2=tanh,act3=selu,batch_size=8,hidden_dim1=270.0000,hidden_dim2=300.0000,hidden_dim3=165.000_2022-07-26_14-11-45/checkpoint_tmp4e2cf2/./\n",
            "\u001b[2m\u001b[36m(func pid=245735)\u001b[0m 2022-07-26 14:19:17,140\tINFO trainable.py:597 -- Current state after restoring: {'_iteration': 44, '_timesteps_total': None, '_time_total': 319.7134554386139, '_episodes_total': None}\n"
          ]
        },
        {
          "output_type": "stream",
          "name": "stdout",
          "text": [
            "Trial trainable_func_e7a9dc7c reported epoch=0,loss=0.05907269065065955,should_checkpoint=True with parameters={'act1 ': 'selu', 'act2': 'tanh', 'act3': 'selu', 'lr': 0.0009000000000000001, 'batch_size': 8, 'hidden_dim1': 255.0, 'hidden_dim2': 135.0, 'hidden_dim3': 270.0}.\n",
            "== Status ==\n",
            "Current time: 2022-07-26 14:19:18 (running for 00:08:03.14)\n",
            "Memory usage on this node: 2.4/12.7 GiB\n",
            "Using MedianStoppingRule: num_stopped=9.\n",
            "Resources requested: 1.5/2 CPUs, 0/0 GPUs, 0.0/7.47 GiB heap, 0.0/3.73 GiB objects\n",
            "Result logdir: /root/ray_results/trainable_func_2022-07-26_14-11-15\n",
            "Number of trials: 24/50 (7 PAUSED, 3 RUNNING, 14 TERMINATED)\n",
            "\n",
            "\n",
            "Trial trainable_func_ea51ef14 reported epoch=0,loss=0.05096629257038293,should_checkpoint=True with parameters={'act1 ': 'tanh', 'act2': 'tanh', 'act3': 'selu', 'lr': 0.0006000000000000001, 'batch_size': 32, 'hidden_dim1': 195.0, 'hidden_dim2': 165.0, 'hidden_dim3': 195.0}.\n"
          ]
        },
        {
          "output_type": "stream",
          "name": "stderr",
          "text": [
            "\u001b[2m\u001b[36m(func pid=245736)\u001b[0m 2022-07-26 14:19:18,575\tINFO trainable.py:589 -- Restored on 172.28.0.2 from checkpoint: /root/ray_results/trainable_func_2022-07-26_14-11-15/trainable_func_e7a9dc7c_7_act1=selu,act2=tanh,act3=selu,batch_size=8,hidden_dim1=255.0000,hidden_dim2=135.0000,hidden_dim3=270.000_2022-07-26_14-12-00/checkpoint_tmpd09bbe/./\n",
            "\u001b[2m\u001b[36m(func pid=245736)\u001b[0m 2022-07-26 14:19:18,575\tINFO trainable.py:597 -- Current state after restoring: {'_iteration': 41, '_timesteps_total': None, '_time_total': 245.70979714393616, '_episodes_total': None}\n",
            "\u001b[2m\u001b[36m(func pid=245777)\u001b[0m 2022-07-26 14:19:19,150\tINFO trainable.py:589 -- Restored on 172.28.0.2 from checkpoint: /root/ray_results/trainable_func_2022-07-26_14-11-15/trainable_func_ea51ef14_8_act1=tanh,act2=tanh,act3=selu,batch_size=32,hidden_dim1=195.0000,hidden_dim2=165.0000,hidden_dim3=195.00_2022-07-26_14-12-02/checkpoint_tmp4b8b50/./\n",
            "\u001b[2m\u001b[36m(func pid=245777)\u001b[0m 2022-07-26 14:19:19,150\tINFO trainable.py:597 -- Current state after restoring: {'_iteration': 46, '_timesteps_total': None, '_time_total': 90.81715297698975, '_episodes_total': None}\n"
          ]
        },
        {
          "output_type": "stream",
          "name": "stdout",
          "text": [
            "Trial trainable_func_eecd2bca reported epoch=0,loss=0.7495871388247203,should_checkpoint=True with parameters={'act1 ': 'selu', 'act2': 'tanh', 'act3': 'tanh', 'lr': 0.0007, 'batch_size': 32, 'hidden_dim1': 315.0, 'hidden_dim2': 135.0, 'hidden_dim3': 255.0}.\n"
          ]
        },
        {
          "output_type": "stream",
          "name": "stderr",
          "text": [
            "\u001b[2m\u001b[36m(func pid=245777)\u001b[0m 2022-07-26 14:19:22,059\tINFO trainable.py:589 -- Restored on 172.28.0.2 from checkpoint: /root/ray_results/trainable_func_2022-07-26_14-11-15/trainable_func_ea51ef14_8_act1=tanh,act2=tanh,act3=selu,batch_size=32,hidden_dim1=195.0000,hidden_dim2=165.0000,hidden_dim3=195.00_2022-07-26_14-12-02/checkpoint_tmp6ac3d2/./\n",
            "\u001b[2m\u001b[36m(func pid=245777)\u001b[0m 2022-07-26 14:19:22,059\tINFO trainable.py:597 -- Current state after restoring: {'_iteration': 47, '_timesteps_total': None, '_time_total': 92.822993516922, '_episodes_total': None}\n"
          ]
        },
        {
          "output_type": "stream",
          "name": "stdout",
          "text": [
            "Trial trainable_func_ea51ef14 reported epoch=0,loss=0.058564750567082116,should_checkpoint=True with parameters={'act1 ': 'tanh', 'act2': 'tanh', 'act3': 'selu', 'lr': 0.0006000000000000001, 'batch_size': 32, 'hidden_dim1': 195.0, 'hidden_dim2': 165.0, 'hidden_dim3': 195.0}.\n",
            "== Status ==\n",
            "Current time: 2022-07-26 14:19:23 (running for 00:08:08.42)\n",
            "Memory usage on this node: 2.5/12.7 GiB\n",
            "Using MedianStoppingRule: num_stopped=9.\n",
            "Resources requested: 2.0/2 CPUs, 0/0 GPUs, 0.0/7.47 GiB heap, 0.0/3.73 GiB objects\n",
            "Result logdir: /root/ray_results/trainable_func_2022-07-26_14-11-15\n",
            "Number of trials: 24/50 (6 PAUSED, 4 RUNNING, 14 TERMINATED)\n",
            "\n",
            "\n",
            "Trial trainable_func_e7a9dc7c reported epoch=0,loss=0.06305832375872145,should_checkpoint=True with parameters={'act1 ': 'selu', 'act2': 'tanh', 'act3': 'selu', 'lr': 0.0009000000000000001, 'batch_size': 8, 'hidden_dim1': 255.0, 'hidden_dim2': 135.0, 'hidden_dim3': 270.0}.\n"
          ]
        },
        {
          "output_type": "stream",
          "name": "stderr",
          "text": [
            "\u001b[2m\u001b[36m(func pid=245777)\u001b[0m 2022-07-26 14:19:24,311\tINFO trainable.py:589 -- Restored on 172.28.0.2 from checkpoint: /root/ray_results/trainable_func_2022-07-26_14-11-15/trainable_func_ea51ef14_8_act1=tanh,act2=tanh,act3=selu,batch_size=32,hidden_dim1=195.0000,hidden_dim2=165.0000,hidden_dim3=195.00_2022-07-26_14-12-02/checkpoint_tmpdd73db/./\n",
            "\u001b[2m\u001b[36m(func pid=245777)\u001b[0m 2022-07-26 14:19:24,311\tINFO trainable.py:597 -- Current state after restoring: {'_iteration': 48, '_timesteps_total': None, '_time_total': 94.56355404853821, '_episodes_total': None}\n"
          ]
        },
        {
          "output_type": "stream",
          "name": "stdout",
          "text": [
            "Trial trainable_func_cfe888ea reported epoch=0,loss=0.07691448429878309,should_checkpoint=True with parameters={'act1 ': 'tanh', 'act2': 'tanh', 'act3': 'selu', 'lr': 0.0009000000000000001, 'batch_size': 8, 'hidden_dim1': 270.0, 'hidden_dim2': 300.0, 'hidden_dim3': 165.0}.\n",
            "Trial trainable_func_eecd2bca reported epoch=3,loss=0.5733566430925414,should_checkpoint=True with parameters={'act1 ': 'selu', 'act2': 'tanh', 'act3': 'tanh', 'lr': 0.0007, 'batch_size': 32, 'hidden_dim1': 315.0, 'hidden_dim2': 135.0, 'hidden_dim3': 255.0}.\n"
          ]
        },
        {
          "output_type": "stream",
          "name": "stderr",
          "text": [
            "\u001b[2m\u001b[36m(func pid=245736)\u001b[0m 2022-07-26 14:19:24,853\tINFO trainable.py:589 -- Restored on 172.28.0.2 from checkpoint: /root/ray_results/trainable_func_2022-07-26_14-11-15/trainable_func_e7a9dc7c_7_act1=selu,act2=tanh,act3=selu,batch_size=8,hidden_dim1=255.0000,hidden_dim2=135.0000,hidden_dim3=270.000_2022-07-26_14-12-00/checkpoint_tmpcbf684/./\n",
            "\u001b[2m\u001b[36m(func pid=245736)\u001b[0m 2022-07-26 14:19:24,853\tINFO trainable.py:597 -- Current state after restoring: {'_iteration': 42, '_timesteps_total': None, '_time_total': 251.3150327205658, '_episodes_total': None}\n",
            "\u001b[2m\u001b[36m(func pid=245735)\u001b[0m 2022-07-26 14:19:25,444\tINFO trainable.py:589 -- Restored on 172.28.0.2 from checkpoint: /root/ray_results/trainable_func_2022-07-26_14-11-15/trainable_func_cfe888ea_5_act1=tanh,act2=tanh,act3=selu,batch_size=8,hidden_dim1=270.0000,hidden_dim2=300.0000,hidden_dim3=165.000_2022-07-26_14-11-45/checkpoint_tmp680914/./\n",
            "\u001b[2m\u001b[36m(func pid=245735)\u001b[0m 2022-07-26 14:19:25,444\tINFO trainable.py:597 -- Current state after restoring: {'_iteration': 45, '_timesteps_total': None, '_time_total': 326.97571873664856, '_episodes_total': None}\n",
            "\u001b[2m\u001b[36m(func pid=245777)\u001b[0m 2022-07-26 14:19:26,228\tINFO trainable.py:589 -- Restored on 172.28.0.2 from checkpoint: /root/ray_results/trainable_func_2022-07-26_14-11-15/trainable_func_ea51ef14_8_act1=tanh,act2=tanh,act3=selu,batch_size=32,hidden_dim1=195.0000,hidden_dim2=165.0000,hidden_dim3=195.00_2022-07-26_14-12-02/checkpoint_tmp1afe8d/./\n",
            "\u001b[2m\u001b[36m(func pid=245777)\u001b[0m 2022-07-26 14:19:26,228\tINFO trainable.py:597 -- Current state after restoring: {'_iteration': 49, '_timesteps_total': None, '_time_total': 95.83139300346375, '_episodes_total': None}\n"
          ]
        },
        {
          "output_type": "stream",
          "name": "stdout",
          "text": [
            "Trial trainable_func_ea51ef14 reported epoch=0,loss=0.03154825715736617,should_checkpoint=True with parameters={'act1 ': 'tanh', 'act2': 'tanh', 'act3': 'selu', 'lr': 0.0006000000000000001, 'batch_size': 32, 'hidden_dim1': 195.0, 'hidden_dim2': 165.0, 'hidden_dim3': 195.0}. This trial completed.\n",
            "== Status ==\n",
            "Current time: 2022-07-26 14:19:29 (running for 00:08:13.72)\n",
            "Memory usage on this node: 2.5/12.7 GiB\n",
            "Using MedianStoppingRule: num_stopped=9.\n",
            "Resources requested: 2.0/2 CPUs, 0/0 GPUs, 0.0/7.47 GiB heap, 0.0/3.73 GiB objects\n",
            "Result logdir: /root/ray_results/trainable_func_2022-07-26_14-11-15\n",
            "Number of trials: 25/50 (6 PAUSED, 4 RUNNING, 15 TERMINATED)\n",
            "\n",
            "\n",
            "Trial trainable_func_e7a9dc7c reported epoch=0,loss=0.05190155386644575,should_checkpoint=True with parameters={'act1 ': 'selu', 'act2': 'tanh', 'act3': 'selu', 'lr': 0.0009000000000000001, 'batch_size': 8, 'hidden_dim1': 255.0, 'hidden_dim2': 135.0, 'hidden_dim3': 270.0}.\n",
            "Trial trainable_func_f5694ac2 reported epoch=0,loss=0.7181619641005491,should_checkpoint=True with parameters={'act1 ': 'selu', 'act2': 'selu', 'act3': 'relu', 'lr': 0.0006000000000000001, 'batch_size': 32, 'hidden_dim1': 255.0, 'hidden_dim2': 285.0, 'hidden_dim3': 255.0}.\n",
            "Trial trainable_func_eecd2bca reported epoch=6,loss=0.6077894803702166,should_checkpoint=True with parameters={'act1 ': 'selu', 'act2': 'tanh', 'act3': 'tanh', 'lr': 0.0007, 'batch_size': 32, 'hidden_dim1': 315.0, 'hidden_dim2': 135.0, 'hidden_dim3': 255.0}.\n"
          ]
        },
        {
          "output_type": "stream",
          "name": "stderr",
          "text": [
            "\u001b[2m\u001b[36m(func pid=245736)\u001b[0m 2022-07-26 14:19:30,991\tINFO trainable.py:589 -- Restored on 172.28.0.2 from checkpoint: /root/ray_results/trainable_func_2022-07-26_14-11-15/trainable_func_e7a9dc7c_7_act1=selu,act2=tanh,act3=selu,batch_size=8,hidden_dim1=255.0000,hidden_dim2=135.0000,hidden_dim3=270.000_2022-07-26_14-12-00/checkpoint_tmp896612/./\n",
            "\u001b[2m\u001b[36m(func pid=245736)\u001b[0m 2022-07-26 14:19:30,996\tINFO trainable.py:597 -- Current state after restoring: {'_iteration': 43, '_timesteps_total': None, '_time_total': 256.94351959228516, '_episodes_total': None}\n"
          ]
        },
        {
          "output_type": "stream",
          "name": "stdout",
          "text": [
            "Trial trainable_func_cfe888ea reported epoch=0,loss=0.05388810148083031,should_checkpoint=True with parameters={'act1 ': 'tanh', 'act2': 'tanh', 'act3': 'selu', 'lr': 0.0009000000000000001, 'batch_size': 8, 'hidden_dim1': 270.0, 'hidden_dim2': 300.0, 'hidden_dim3': 165.0}.\n"
          ]
        },
        {
          "output_type": "stream",
          "name": "stderr",
          "text": [
            "\u001b[2m\u001b[36m(func pid=245735)\u001b[0m 2022-07-26 14:19:33,624\tINFO trainable.py:589 -- Restored on 172.28.0.2 from checkpoint: /root/ray_results/trainable_func_2022-07-26_14-11-15/trainable_func_cfe888ea_5_act1=tanh,act2=tanh,act3=selu,batch_size=8,hidden_dim1=270.0000,hidden_dim2=300.0000,hidden_dim3=165.000_2022-07-26_14-11-45/checkpoint_tmp0bf989/./\n",
            "\u001b[2m\u001b[36m(func pid=245735)\u001b[0m 2022-07-26 14:19:33,625\tINFO trainable.py:597 -- Current state after restoring: {'_iteration': 46, '_timesteps_total': None, '_time_total': 334.5994050502777, '_episodes_total': None}\n"
          ]
        },
        {
          "output_type": "stream",
          "name": "stdout",
          "text": [
            "== Status ==\n",
            "Current time: 2022-07-26 14:19:34 (running for 00:08:19.35)\n",
            "Memory usage on this node: 2.5/12.7 GiB\n",
            "Using MedianStoppingRule: num_stopped=9.\n",
            "Resources requested: 2.0/2 CPUs, 0/0 GPUs, 0.0/7.47 GiB heap, 0.0/3.73 GiB objects\n",
            "Result logdir: /root/ray_results/trainable_func_2022-07-26_14-11-15\n",
            "Number of trials: 25/50 (6 PAUSED, 4 RUNNING, 15 TERMINATED)\n",
            "\n",
            "\n",
            "Trial trainable_func_eecd2bca reported epoch=9,loss=0.5453019091098532,should_checkpoint=True with parameters={'act1 ': 'selu', 'act2': 'tanh', 'act3': 'tanh', 'lr': 0.0007, 'batch_size': 32, 'hidden_dim1': 315.0, 'hidden_dim2': 135.0, 'hidden_dim3': 255.0}.\n",
            "Trial trainable_func_e7a9dc7c reported epoch=0,loss=0.05788186141212587,should_checkpoint=True with parameters={'act1 ': 'selu', 'act2': 'tanh', 'act3': 'selu', 'lr': 0.0009000000000000001, 'batch_size': 8, 'hidden_dim1': 255.0, 'hidden_dim2': 135.0, 'hidden_dim3': 270.0}.\n"
          ]
        },
        {
          "output_type": "stream",
          "name": "stderr",
          "text": [
            "\u001b[2m\u001b[36m(func pid=245736)\u001b[0m 2022-07-26 14:19:37,650\tINFO trainable.py:589 -- Restored on 172.28.0.2 from checkpoint: /root/ray_results/trainable_func_2022-07-26_14-11-15/trainable_func_e7a9dc7c_7_act1=selu,act2=tanh,act3=selu,batch_size=8,hidden_dim1=255.0000,hidden_dim2=135.0000,hidden_dim3=270.000_2022-07-26_14-12-00/checkpoint_tmp1fc648/./\n",
            "\u001b[2m\u001b[36m(func pid=245736)\u001b[0m 2022-07-26 14:19:37,652\tINFO trainable.py:597 -- Current state after restoring: {'_iteration': 44, '_timesteps_total': None, '_time_total': 262.8896026611328, '_episodes_total': None}\n"
          ]
        },
        {
          "output_type": "stream",
          "name": "stdout",
          "text": [
            "Trial trainable_func_f5694ac2 reported epoch=3,loss=0.5626030455706484,should_checkpoint=True with parameters={'act1 ': 'selu', 'act2': 'selu', 'act3': 'relu', 'lr': 0.0006000000000000001, 'batch_size': 32, 'hidden_dim1': 255.0, 'hidden_dim2': 285.0, 'hidden_dim3': 255.0}.\n",
            "Trial trainable_func_eecd2bca reported epoch=10,loss=0.5422381856046273,should_checkpoint=True with parameters={'act1 ': 'selu', 'act2': 'tanh', 'act3': 'tanh', 'lr': 0.0007, 'batch_size': 32, 'hidden_dim1': 315.0, 'hidden_dim2': 135.0, 'hidden_dim3': 255.0}. This trial completed.\n",
            "== Status ==\n",
            "Current time: 2022-07-26 14:19:40 (running for 00:08:24.78)\n",
            "Memory usage on this node: 2.5/12.7 GiB\n",
            "Using MedianStoppingRule: num_stopped=10.\n",
            "Resources requested: 2.0/2 CPUs, 0/0 GPUs, 0.0/7.47 GiB heap, 0.0/3.73 GiB objects\n",
            "Result logdir: /root/ray_results/trainable_func_2022-07-26_14-11-15\n",
            "Number of trials: 26/50 (6 PAUSED, 4 RUNNING, 16 TERMINATED)\n",
            "\n",
            "\n",
            "Trial trainable_func_cfe888ea reported epoch=0,loss=0.07882485376575449,should_checkpoint=True with parameters={'act1 ': 'tanh', 'act2': 'tanh', 'act3': 'selu', 'lr': 0.0009000000000000001, 'batch_size': 8, 'hidden_dim1': 270.0, 'hidden_dim2': 300.0, 'hidden_dim3': 165.0}.\n"
          ]
        },
        {
          "output_type": "stream",
          "name": "stderr",
          "text": [
            "\u001b[2m\u001b[36m(func pid=245735)\u001b[0m 2022-07-26 14:19:42,178\tINFO trainable.py:589 -- Restored on 172.28.0.2 from checkpoint: /root/ray_results/trainable_func_2022-07-26_14-11-15/trainable_func_cfe888ea_5_act1=tanh,act2=tanh,act3=selu,batch_size=8,hidden_dim1=270.0000,hidden_dim2=300.0000,hidden_dim3=165.000_2022-07-26_14-11-45/checkpoint_tmp42e2d6/./\n",
            "\u001b[2m\u001b[36m(func pid=245735)\u001b[0m 2022-07-26 14:19:42,178\tINFO trainable.py:597 -- Current state after restoring: {'_iteration': 47, '_timesteps_total': None, '_time_total': 342.44955682754517, '_episodes_total': None}\n"
          ]
        },
        {
          "output_type": "stream",
          "name": "stdout",
          "text": [
            "Trial trainable_func_fb8960f4 reported epoch=0,loss=0.7885515091153751,should_checkpoint=True with parameters={'act1 ': 'tanh', 'act2': 'relu', 'act3': 'relu', 'lr': 0.0006000000000000001, 'batch_size': 16, 'hidden_dim1': 195.0, 'hidden_dim2': 240.0, 'hidden_dim3': 285.0}.\n",
            "Trial trainable_func_e7a9dc7c reported epoch=0,loss=0.06799751923910383,should_checkpoint=True with parameters={'act1 ': 'selu', 'act2': 'tanh', 'act3': 'selu', 'lr': 0.0009000000000000001, 'batch_size': 8, 'hidden_dim1': 255.0, 'hidden_dim2': 135.0, 'hidden_dim3': 270.0}.\n"
          ]
        },
        {
          "output_type": "stream",
          "name": "stderr",
          "text": [
            "\u001b[2m\u001b[36m(func pid=245736)\u001b[0m 2022-07-26 14:19:44,480\tINFO trainable.py:589 -- Restored on 172.28.0.2 from checkpoint: /root/ray_results/trainable_func_2022-07-26_14-11-15/trainable_func_e7a9dc7c_7_act1=selu,act2=tanh,act3=selu,batch_size=8,hidden_dim1=255.0000,hidden_dim2=135.0000,hidden_dim3=270.000_2022-07-26_14-12-00/checkpoint_tmp3b9357/./\n",
            "\u001b[2m\u001b[36m(func pid=245736)\u001b[0m 2022-07-26 14:19:44,481\tINFO trainable.py:597 -- Current state after restoring: {'_iteration': 45, '_timesteps_total': None, '_time_total': 268.96829319000244, '_episodes_total': None}\n"
          ]
        },
        {
          "output_type": "stream",
          "name": "stdout",
          "text": [
            "Trial trainable_func_f5694ac2 reported epoch=6,loss=0.5070839126475211,should_checkpoint=True with parameters={'act1 ': 'selu', 'act2': 'selu', 'act3': 'relu', 'lr': 0.0006000000000000001, 'batch_size': 32, 'hidden_dim1': 255.0, 'hidden_dim2': 285.0, 'hidden_dim3': 255.0}.\n",
            "== Status ==\n",
            "Current time: 2022-07-26 14:19:45 (running for 00:08:30.39)\n",
            "Memory usage on this node: 2.5/12.7 GiB\n",
            "Using MedianStoppingRule: num_stopped=10.\n",
            "Resources requested: 2.0/2 CPUs, 0/0 GPUs, 0.0/7.47 GiB heap, 0.0/3.73 GiB objects\n",
            "Result logdir: /root/ray_results/trainable_func_2022-07-26_14-11-15\n",
            "Number of trials: 26/50 (6 PAUSED, 4 RUNNING, 16 TERMINATED)\n",
            "\n",
            "\n",
            "Trial trainable_func_fb8960f4 reported epoch=2,loss=0.6398677037636625,should_checkpoint=True with parameters={'act1 ': 'tanh', 'act2': 'relu', 'act3': 'relu', 'lr': 0.0006000000000000001, 'batch_size': 16, 'hidden_dim1': 195.0, 'hidden_dim2': 240.0, 'hidden_dim3': 285.0}.\n",
            "Trial trainable_func_cfe888ea reported epoch=0,loss=0.05341995920068414,should_checkpoint=True with parameters={'act1 ': 'tanh', 'act2': 'tanh', 'act3': 'selu', 'lr': 0.0009000000000000001, 'batch_size': 8, 'hidden_dim1': 270.0, 'hidden_dim2': 300.0, 'hidden_dim3': 165.0}.\n"
          ]
        },
        {
          "output_type": "stream",
          "name": "stderr",
          "text": [
            "\u001b[2m\u001b[36m(func pid=245735)\u001b[0m 2022-07-26 14:19:50,455\tINFO trainable.py:589 -- Restored on 172.28.0.2 from checkpoint: /root/ray_results/trainable_func_2022-07-26_14-11-15/trainable_func_cfe888ea_5_act1=tanh,act2=tanh,act3=selu,batch_size=8,hidden_dim1=270.0000,hidden_dim2=300.0000,hidden_dim3=165.000_2022-07-26_14-11-45/checkpoint_tmp920cec/./\n",
            "\u001b[2m\u001b[36m(func pid=245735)\u001b[0m 2022-07-26 14:19:50,458\tINFO trainable.py:597 -- Current state after restoring: {'_iteration': 48, '_timesteps_total': None, '_time_total': 350.05075311660767, '_episodes_total': None}\n"
          ]
        },
        {
          "output_type": "stream",
          "name": "stdout",
          "text": [
            "Trial trainable_func_e7a9dc7c reported epoch=0,loss=0.05798239082722678,should_checkpoint=True with parameters={'act1 ': 'selu', 'act2': 'tanh', 'act3': 'selu', 'lr': 0.0009000000000000001, 'batch_size': 8, 'hidden_dim1': 255.0, 'hidden_dim2': 135.0, 'hidden_dim3': 270.0}.\n",
            "== Status ==\n",
            "Current time: 2022-07-26 14:19:51 (running for 00:08:35.82)\n",
            "Memory usage on this node: 2.5/12.7 GiB\n",
            "Using MedianStoppingRule: num_stopped=10.\n",
            "Resources requested: 1.5/2 CPUs, 0/0 GPUs, 0.0/7.47 GiB heap, 0.0/3.73 GiB objects\n",
            "Result logdir: /root/ray_results/trainable_func_2022-07-26_14-11-15\n",
            "Number of trials: 26/50 (7 PAUSED, 3 RUNNING, 16 TERMINATED)\n",
            "\n",
            "\n"
          ]
        },
        {
          "output_type": "stream",
          "name": "stderr",
          "text": [
            "\u001b[2m\u001b[36m(func pid=245736)\u001b[0m 2022-07-26 14:19:51,259\tINFO trainable.py:589 -- Restored on 172.28.0.2 from checkpoint: /root/ray_results/trainable_func_2022-07-26_14-11-15/trainable_func_e7a9dc7c_7_act1=selu,act2=tanh,act3=selu,batch_size=8,hidden_dim1=255.0000,hidden_dim2=135.0000,hidden_dim3=270.000_2022-07-26_14-12-00/checkpoint_tmpa78492/./\n",
            "\u001b[2m\u001b[36m(func pid=245736)\u001b[0m 2022-07-26 14:19:51,261\tINFO trainable.py:597 -- Current state after restoring: {'_iteration': 46, '_timesteps_total': None, '_time_total': 275.09823727607727, '_episodes_total': None}\n"
          ]
        },
        {
          "output_type": "stream",
          "name": "stdout",
          "text": [
            "Trial trainable_func_f5694ac2 reported epoch=9,loss=0.5308026722690323,should_checkpoint=True with parameters={'act1 ': 'selu', 'act2': 'selu', 'act3': 'relu', 'lr': 0.0006000000000000001, 'batch_size': 32, 'hidden_dim1': 255.0, 'hidden_dim2': 285.0, 'hidden_dim3': 255.0}.\n",
            "Trial trainable_func_fb8960f4 reported epoch=4,loss=0.5755439333580679,should_checkpoint=True with parameters={'act1 ': 'tanh', 'act2': 'relu', 'act3': 'relu', 'lr': 0.0006000000000000001, 'batch_size': 16, 'hidden_dim1': 195.0, 'hidden_dim2': 240.0, 'hidden_dim3': 285.0}.\n",
            "== Status ==\n",
            "Current time: 2022-07-26 14:19:56 (running for 00:08:41.53)\n",
            "Memory usage on this node: 2.5/12.7 GiB\n",
            "Using MedianStoppingRule: num_stopped=10.\n",
            "Resources requested: 2.0/2 CPUs, 0/0 GPUs, 0.0/7.47 GiB heap, 0.0/3.73 GiB objects\n",
            "Result logdir: /root/ray_results/trainable_func_2022-07-26_14-11-15\n",
            "Number of trials: 26/50 (6 PAUSED, 4 RUNNING, 16 TERMINATED)\n",
            "\n",
            "\n",
            "Trial trainable_func_e7a9dc7c reported epoch=0,loss=0.04929709515602064,should_checkpoint=True with parameters={'act1 ': 'selu', 'act2': 'tanh', 'act3': 'selu', 'lr': 0.0009000000000000001, 'batch_size': 8, 'hidden_dim1': 255.0, 'hidden_dim2': 135.0, 'hidden_dim3': 270.0}.\n"
          ]
        },
        {
          "output_type": "stream",
          "name": "stderr",
          "text": [
            "\u001b[2m\u001b[36m(func pid=245777)\u001b[0m 2022-07-26 14:19:57,555\tINFO trainable.py:589 -- Restored on 172.28.0.2 from checkpoint: /root/ray_results/trainable_func_2022-07-26_14-11-15/trainable_func_eb88ecac_9_act1=tanh,act2=selu,act3=relu,batch_size=16,hidden_dim1=240.0000,hidden_dim2=240.0000,hidden_dim3=120.00_2022-07-26_14-12-27/checkpoint_tmp0ddd79/./\n",
            "\u001b[2m\u001b[36m(func pid=245777)\u001b[0m 2022-07-26 14:19:57,556\tINFO trainable.py:597 -- Current state after restoring: {'_iteration': 10, '_timesteps_total': None, '_time_total': 33.4816997051239, '_episodes_total': None}\n"
          ]
        },
        {
          "output_type": "stream",
          "name": "stdout",
          "text": [
            "Trial trainable_func_cfe888ea reported epoch=0,loss=0.07072623327951892,should_checkpoint=True with parameters={'act1 ': 'tanh', 'act2': 'tanh', 'act3': 'selu', 'lr': 0.0009000000000000001, 'batch_size': 8, 'hidden_dim1': 270.0, 'hidden_dim2': 300.0, 'hidden_dim3': 165.0}.\n"
          ]
        },
        {
          "output_type": "stream",
          "name": "stderr",
          "text": [
            "\u001b[2m\u001b[36m(func pid=245736)\u001b[0m 2022-07-26 14:19:58,144\tINFO trainable.py:589 -- Restored on 172.28.0.2 from checkpoint: /root/ray_results/trainable_func_2022-07-26_14-11-15/trainable_func_e7a9dc7c_7_act1=selu,act2=tanh,act3=selu,batch_size=8,hidden_dim1=255.0000,hidden_dim2=135.0000,hidden_dim3=270.000_2022-07-26_14-12-00/checkpoint_tmpe989b5/./\n",
            "\u001b[2m\u001b[36m(func pid=245736)\u001b[0m 2022-07-26 14:19:58,144\tINFO trainable.py:597 -- Current state after restoring: {'_iteration': 47, '_timesteps_total': None, '_time_total': 280.9185104370117, '_episodes_total': None}\n",
            "\u001b[2m\u001b[36m(func pid=245735)\u001b[0m 2022-07-26 14:19:58,917\tINFO trainable.py:589 -- Restored on 172.28.0.2 from checkpoint: /root/ray_results/trainable_func_2022-07-26_14-11-15/trainable_func_cfe888ea_5_act1=tanh,act2=tanh,act3=selu,batch_size=8,hidden_dim1=270.0000,hidden_dim2=300.0000,hidden_dim3=165.000_2022-07-26_14-11-45/checkpoint_tmp4cbf83/./\n",
            "\u001b[2m\u001b[36m(func pid=245735)\u001b[0m 2022-07-26 14:19:58,918\tINFO trainable.py:597 -- Current state after restoring: {'_iteration': 49, '_timesteps_total': None, '_time_total': 357.27951836586, '_episodes_total': None}\n"
          ]
        },
        {
          "output_type": "stream",
          "name": "stdout",
          "text": [
            "Trial trainable_func_eb88ecac reported epoch=0,loss=0.2824346907876378,should_checkpoint=True with parameters={'act1 ': 'tanh', 'act2': 'selu', 'act3': 'relu', 'lr': 0.0006000000000000001, 'batch_size': 16, 'hidden_dim1': 240.0, 'hidden_dim2': 240.0, 'hidden_dim3': 120.0}.\n",
            "Trial trainable_func_fb8960f4 reported epoch=6,loss=0.6375492231594864,should_checkpoint=True with parameters={'act1 ': 'tanh', 'act2': 'relu', 'act3': 'relu', 'lr': 0.0006000000000000001, 'batch_size': 16, 'hidden_dim1': 195.0, 'hidden_dim2': 240.0, 'hidden_dim3': 285.0}.\n",
            "== Status ==\n",
            "Current time: 2022-07-26 14:20:03 (running for 00:08:47.94)\n",
            "Memory usage on this node: 2.5/12.7 GiB\n",
            "Using MedianStoppingRule: num_stopped=10.\n",
            "Resources requested: 2.0/2 CPUs, 0/0 GPUs, 0.0/7.47 GiB heap, 0.0/3.73 GiB objects\n",
            "Result logdir: /root/ray_results/trainable_func_2022-07-26_14-11-15\n",
            "Number of trials: 26/50 (6 PAUSED, 4 RUNNING, 16 TERMINATED)\n",
            "\n",
            "\n",
            "Trial trainable_func_e7a9dc7c reported epoch=0,loss=0.05456634411705615,should_checkpoint=True with parameters={'act1 ': 'selu', 'act2': 'tanh', 'act3': 'selu', 'lr': 0.0009000000000000001, 'batch_size': 8, 'hidden_dim1': 255.0, 'hidden_dim2': 135.0, 'hidden_dim3': 270.0}.\n"
          ]
        },
        {
          "output_type": "stream",
          "name": "stderr",
          "text": [
            "\u001b[2m\u001b[36m(func pid=245736)\u001b[0m 2022-07-26 14:20:04,881\tINFO trainable.py:589 -- Restored on 172.28.0.2 from checkpoint: /root/ray_results/trainable_func_2022-07-26_14-11-15/trainable_func_e7a9dc7c_7_act1=selu,act2=tanh,act3=selu,batch_size=8,hidden_dim1=255.0000,hidden_dim2=135.0000,hidden_dim3=270.000_2022-07-26_14-12-00/checkpoint_tmp73bbcc/./\n",
            "\u001b[2m\u001b[36m(func pid=245736)\u001b[0m 2022-07-26 14:20:04,882\tINFO trainable.py:597 -- Current state after restoring: {'_iteration': 48, '_timesteps_total': None, '_time_total': 286.8033330440521, '_episodes_total': None}\n"
          ]
        },
        {
          "output_type": "stream",
          "name": "stdout",
          "text": [
            "Trial trainable_func_cfe888ea reported epoch=0,loss=0.063144256872633,should_checkpoint=True with parameters={'act1 ': 'tanh', 'act2': 'tanh', 'act3': 'selu', 'lr': 0.0009000000000000001, 'batch_size': 8, 'hidden_dim1': 270.0, 'hidden_dim2': 300.0, 'hidden_dim3': 165.0}. This trial completed.\n",
            "Trial trainable_func_eb88ecac reported epoch=2,loss=0.3443959930111758,should_checkpoint=True with parameters={'act1 ': 'tanh', 'act2': 'selu', 'act3': 'relu', 'lr': 0.0006000000000000001, 'batch_size': 16, 'hidden_dim1': 240.0, 'hidden_dim2': 240.0, 'hidden_dim3': 120.0}.\n"
          ]
        },
        {
          "output_type": "stream",
          "name": "stderr",
          "text": [
            "\u001b[2m\u001b[36m(func pid=245777)\u001b[0m 2022-07-26 14:20:07,896\tINFO trainable.py:589 -- Restored on 172.28.0.2 from checkpoint: /root/ray_results/trainable_func_2022-07-26_14-11-15/trainable_func_eb88ecac_9_act1=tanh,act2=selu,act3=relu,batch_size=16,hidden_dim1=240.0000,hidden_dim2=240.0000,hidden_dim3=120.00_2022-07-26_14-12-27/checkpoint_tmpdee211/./\n",
            "\u001b[2m\u001b[36m(func pid=245777)\u001b[0m 2022-07-26 14:20:07,898\tINFO trainable.py:597 -- Current state after restoring: {'_iteration': 13, '_timesteps_total': None, '_time_total': 43.017672300338745, '_episodes_total': None}\n"
          ]
        },
        {
          "output_type": "stream",
          "name": "stdout",
          "text": [
            "Trial trainable_func_0c4db426 reported epoch=0,loss=0.8063701297041493,should_checkpoint=True with parameters={'act1 ': 'selu', 'act2': 'selu', 'act3': 'relu', 'lr': 0.0009000000000000001, 'batch_size': 32, 'hidden_dim1': 270.0, 'hidden_dim2': 195.0, 'hidden_dim3': 285.0}.\n",
            "== Status ==\n",
            "Current time: 2022-07-26 14:20:09 (running for 00:08:53.65)\n",
            "Memory usage on this node: 2.5/12.7 GiB\n",
            "Using MedianStoppingRule: num_stopped=10.\n",
            "Resources requested: 2.0/2 CPUs, 0/0 GPUs, 0.0/7.47 GiB heap, 0.0/3.73 GiB objects\n",
            "Result logdir: /root/ray_results/trainable_func_2022-07-26_14-11-15\n",
            "Number of trials: 27/50 (6 PAUSED, 4 RUNNING, 17 TERMINATED)\n",
            "\n",
            "\n",
            "Trial trainable_func_fb8960f4 reported epoch=8,loss=0.6219220646531399,should_checkpoint=True with parameters={'act1 ': 'tanh', 'act2': 'relu', 'act3': 'relu', 'lr': 0.0006000000000000001, 'batch_size': 16, 'hidden_dim1': 195.0, 'hidden_dim2': 240.0, 'hidden_dim3': 285.0}.\n",
            "Trial trainable_func_e7a9dc7c reported epoch=0,loss=0.06398035035106818,should_checkpoint=True with parameters={'act1 ': 'selu', 'act2': 'tanh', 'act3': 'selu', 'lr': 0.0009000000000000001, 'batch_size': 8, 'hidden_dim1': 255.0, 'hidden_dim2': 135.0, 'hidden_dim3': 270.0}.\n"
          ]
        },
        {
          "output_type": "stream",
          "name": "stderr",
          "text": [
            "\u001b[2m\u001b[36m(func pid=245736)\u001b[0m 2022-07-26 14:20:11,327\tINFO trainable.py:589 -- Restored on 172.28.0.2 from checkpoint: /root/ray_results/trainable_func_2022-07-26_14-11-15/trainable_func_e7a9dc7c_7_act1=selu,act2=tanh,act3=selu,batch_size=8,hidden_dim1=255.0000,hidden_dim2=135.0000,hidden_dim3=270.000_2022-07-26_14-12-00/checkpoint_tmp1913c2/./\n",
            "\u001b[2m\u001b[36m(func pid=245736)\u001b[0m 2022-07-26 14:20:11,327\tINFO trainable.py:597 -- Current state after restoring: {'_iteration': 49, '_timesteps_total': None, '_time_total': 292.8960590362549, '_episodes_total': None}\n",
            "\u001b[2m\u001b[36m(func pid=245777)\u001b[0m 2022-07-26 14:20:11,770\tINFO trainable.py:589 -- Restored on 172.28.0.2 from checkpoint: /root/ray_results/trainable_func_2022-07-26_14-11-15/trainable_func_eb88ecac_9_act1=tanh,act2=selu,act3=relu,batch_size=16,hidden_dim1=240.0000,hidden_dim2=240.0000,hidden_dim3=120.00_2022-07-26_14-12-27/checkpoint_tmp3cf09d/./\n",
            "\u001b[2m\u001b[36m(func pid=245777)\u001b[0m 2022-07-26 14:20:11,770\tINFO trainable.py:597 -- Current state after restoring: {'_iteration': 14, '_timesteps_total': None, '_time_total': 46.14279580116272, '_episodes_total': None}\n"
          ]
        },
        {
          "output_type": "stream",
          "name": "stdout",
          "text": [
            "== Status ==\n",
            "Current time: 2022-07-26 14:20:14 (running for 00:08:59.16)\n",
            "Memory usage on this node: 2.5/12.7 GiB\n",
            "Using MedianStoppingRule: num_stopped=10.\n",
            "Resources requested: 2.0/2 CPUs, 0/0 GPUs, 0.0/7.47 GiB heap, 0.0/3.73 GiB objects\n",
            "Result logdir: /root/ray_results/trainable_func_2022-07-26_14-11-15\n",
            "Number of trials: 27/50 (6 PAUSED, 4 RUNNING, 17 TERMINATED)\n",
            "\n",
            "\n",
            "Trial trainable_func_eb88ecac reported epoch=0,loss=0.17343256576760185,should_checkpoint=True with parameters={'act1 ': 'tanh', 'act2': 'selu', 'act3': 'relu', 'lr': 0.0006000000000000001, 'batch_size': 16, 'hidden_dim1': 240.0, 'hidden_dim2': 240.0, 'hidden_dim3': 120.0}.\n",
            "Trial trainable_func_0c4db426 reported epoch=3,loss=0.6496757931781388,should_checkpoint=True with parameters={'act1 ': 'selu', 'act2': 'selu', 'act3': 'relu', 'lr': 0.0009000000000000001, 'batch_size': 32, 'hidden_dim1': 270.0, 'hidden_dim2': 195.0, 'hidden_dim3': 285.0}.\n"
          ]
        },
        {
          "output_type": "stream",
          "name": "stderr",
          "text": [
            "\u001b[2m\u001b[36m(func pid=245777)\u001b[0m 2022-07-26 14:20:15,737\tINFO trainable.py:589 -- Restored on 172.28.0.2 from checkpoint: /root/ray_results/trainable_func_2022-07-26_14-11-15/trainable_func_eb88ecac_9_act1=tanh,act2=selu,act3=relu,batch_size=16,hidden_dim1=240.0000,hidden_dim2=240.0000,hidden_dim3=120.00_2022-07-26_14-12-27/checkpoint_tmp254973/./\n",
            "\u001b[2m\u001b[36m(func pid=245777)\u001b[0m 2022-07-26 14:20:15,738\tINFO trainable.py:597 -- Current state after restoring: {'_iteration': 15, '_timesteps_total': None, '_time_total': 49.33251237869263, '_episodes_total': None}\n"
          ]
        },
        {
          "output_type": "stream",
          "name": "stdout",
          "text": [
            "Trial trainable_func_e7a9dc7c reported epoch=0,loss=0.062324347561131824,should_checkpoint=True with parameters={'act1 ': 'selu', 'act2': 'tanh', 'act3': 'selu', 'lr': 0.0009000000000000001, 'batch_size': 8, 'hidden_dim1': 255.0, 'hidden_dim2': 135.0, 'hidden_dim3': 270.0}. This trial completed.\n",
            "Trial trainable_func_fb8960f4 reported epoch=10,loss=0.5552845860122614,should_checkpoint=True with parameters={'act1 ': 'tanh', 'act2': 'relu', 'act3': 'relu', 'lr': 0.0006000000000000001, 'batch_size': 16, 'hidden_dim1': 195.0, 'hidden_dim2': 240.0, 'hidden_dim3': 285.0}. This trial completed.\n",
            "Trial trainable_func_128a6c80 reported epoch=0,loss=0.739265651862641,should_checkpoint=True with parameters={'act1 ': 'relu', 'act2': 'tanh', 'act3': 'tanh', 'lr': 0.0009000000000000001, 'batch_size': 32, 'hidden_dim1': 315.0, 'hidden_dim2': 195.0, 'hidden_dim3': 315.0}.\n"
          ]
        },
        {
          "output_type": "stream",
          "name": "stderr",
          "text": [
            "\u001b[2m\u001b[36m(func pid=245777)\u001b[0m 2022-07-26 14:20:19,481\tINFO trainable.py:589 -- Restored on 172.28.0.2 from checkpoint: /root/ray_results/trainable_func_2022-07-26_14-11-15/trainable_func_eb88ecac_9_act1=tanh,act2=selu,act3=relu,batch_size=16,hidden_dim1=240.0000,hidden_dim2=240.0000,hidden_dim3=120.00_2022-07-26_14-12-27/checkpoint_tmpca9db5/./\n",
            "\u001b[2m\u001b[36m(func pid=245777)\u001b[0m 2022-07-26 14:20:19,483\tINFO trainable.py:597 -- Current state after restoring: {'_iteration': 16, '_timesteps_total': None, '_time_total': 52.374088287353516, '_episodes_total': None}\n"
          ]
        },
        {
          "output_type": "stream",
          "name": "stdout",
          "text": [
            "== Status ==\n",
            "Current time: 2022-07-26 14:20:20 (running for 00:09:04.65)\n",
            "Memory usage on this node: 2.5/12.7 GiB\n",
            "Using MedianStoppingRule: num_stopped=11.\n",
            "Resources requested: 2.0/2 CPUs, 0/0 GPUs, 0.0/7.47 GiB heap, 0.0/3.73 GiB objects\n",
            "Result logdir: /root/ray_results/trainable_func_2022-07-26_14-11-15\n",
            "Number of trials: 29/50 (6 PAUSED, 4 RUNNING, 19 TERMINATED)\n",
            "\n",
            "\n",
            "Trial trainable_func_137154e2 reported epoch=0,loss=0.7465206987644507,should_checkpoint=True with parameters={'act1 ': 'tanh', 'act2': 'selu', 'act3': 'relu', 'lr': 0.0009000000000000001, 'batch_size': 32, 'hidden_dim1': 165.0, 'hidden_dim2': 165.0, 'hidden_dim3': 195.0}.\n",
            "Trial trainable_func_0c4db426 reported epoch=6,loss=0.5899440357420642,should_checkpoint=True with parameters={'act1 ': 'selu', 'act2': 'selu', 'act3': 'relu', 'lr': 0.0009000000000000001, 'batch_size': 32, 'hidden_dim1': 270.0, 'hidden_dim2': 195.0, 'hidden_dim3': 285.0}.\n",
            "Trial trainable_func_eb88ecac reported epoch=0,loss=0.13804918359188798,should_checkpoint=True with parameters={'act1 ': 'tanh', 'act2': 'selu', 'act3': 'relu', 'lr': 0.0006000000000000001, 'batch_size': 16, 'hidden_dim1': 240.0, 'hidden_dim2': 240.0, 'hidden_dim3': 120.0}.\n"
          ]
        },
        {
          "output_type": "stream",
          "name": "stderr",
          "text": [
            "\u001b[2m\u001b[36m(func pid=245777)\u001b[0m 2022-07-26 14:20:23,614\tINFO trainable.py:589 -- Restored on 172.28.0.2 from checkpoint: /root/ray_results/trainable_func_2022-07-26_14-11-15/trainable_func_eb88ecac_9_act1=tanh,act2=selu,act3=relu,batch_size=16,hidden_dim1=240.0000,hidden_dim2=240.0000,hidden_dim3=120.00_2022-07-26_14-12-27/checkpoint_tmpe3cdfe/./\n",
            "\u001b[2m\u001b[36m(func pid=245777)\u001b[0m 2022-07-26 14:20:23,615\tINFO trainable.py:597 -- Current state after restoring: {'_iteration': 17, '_timesteps_total': None, '_time_total': 55.80792164802551, '_episodes_total': None}\n"
          ]
        },
        {
          "output_type": "stream",
          "name": "stdout",
          "text": [
            "Trial trainable_func_137154e2 reported epoch=3,loss=0.5359769350356114,should_checkpoint=True with parameters={'act1 ': 'tanh', 'act2': 'selu', 'act3': 'relu', 'lr': 0.0009000000000000001, 'batch_size': 32, 'hidden_dim1': 165.0, 'hidden_dim2': 165.0, 'hidden_dim3': 195.0}.\n",
            "== Status ==\n",
            "Current time: 2022-07-26 14:20:26 (running for 00:09:10.65)\n",
            "Memory usage on this node: 2.5/12.7 GiB\n",
            "Using MedianStoppingRule: num_stopped=11.\n",
            "Resources requested: 2.0/2 CPUs, 0/0 GPUs, 0.0/7.47 GiB heap, 0.0/3.73 GiB objects\n",
            "Result logdir: /root/ray_results/trainable_func_2022-07-26_14-11-15\n",
            "Number of trials: 29/50 (6 PAUSED, 4 RUNNING, 19 TERMINATED)\n",
            "\n",
            "\n",
            "Trial trainable_func_128a6c80 reported epoch=3,loss=0.6439661596947227,should_checkpoint=True with parameters={'act1 ': 'relu', 'act2': 'tanh', 'act3': 'tanh', 'lr': 0.0009000000000000001, 'batch_size': 32, 'hidden_dim1': 315.0, 'hidden_dim2': 195.0, 'hidden_dim3': 315.0}.\n"
          ]
        },
        {
          "output_type": "stream",
          "name": "stderr",
          "text": [
            "\u001b[2m\u001b[36m(func pid=245777)\u001b[0m 2022-07-26 14:20:27,802\tINFO trainable.py:589 -- Restored on 172.28.0.2 from checkpoint: /root/ray_results/trainable_func_2022-07-26_14-11-15/trainable_func_eb88ecac_9_act1=tanh,act2=selu,act3=relu,batch_size=16,hidden_dim1=240.0000,hidden_dim2=240.0000,hidden_dim3=120.00_2022-07-26_14-12-27/checkpoint_tmp577b69/./\n",
            "\u001b[2m\u001b[36m(func pid=245777)\u001b[0m 2022-07-26 14:20:27,805\tINFO trainable.py:597 -- Current state after restoring: {'_iteration': 18, '_timesteps_total': None, '_time_total': 59.26162052154541, '_episodes_total': None}\n"
          ]
        },
        {
          "output_type": "stream",
          "name": "stdout",
          "text": [
            "Trial trainable_func_0c4db426 reported epoch=9,loss=0.5835762523256148,should_checkpoint=True with parameters={'act1 ': 'selu', 'act2': 'selu', 'act3': 'relu', 'lr': 0.0009000000000000001, 'batch_size': 32, 'hidden_dim1': 270.0, 'hidden_dim2': 195.0, 'hidden_dim3': 285.0}. This trial completed.\n",
            "Trial trainable_func_193df1d2 reported epoch=0,loss=0.7973352025227068,should_checkpoint=True with parameters={'act1 ': 'relu', 'act2': 'relu', 'act3': 'tanh', 'lr': 0.0006000000000000001, 'batch_size': 32, 'hidden_dim1': 195.0, 'hidden_dim2': 135.0, 'hidden_dim3': 180.0}.\n",
            "Trial trainable_func_eb88ecac reported epoch=0,loss=0.1333105292373567,should_checkpoint=True with parameters={'act1 ': 'tanh', 'act2': 'selu', 'act3': 'relu', 'lr': 0.0006000000000000001, 'batch_size': 16, 'hidden_dim1': 240.0, 'hidden_dim2': 240.0, 'hidden_dim3': 120.0}.\n",
            "== Status ==\n",
            "Current time: 2022-07-26 14:20:31 (running for 00:09:15.88)\n",
            "Memory usage on this node: 2.5/12.7 GiB\n",
            "Using MedianStoppingRule: num_stopped=12.\n",
            "Resources requested: 2.0/2 CPUs, 0/0 GPUs, 0.0/7.47 GiB heap, 0.0/3.73 GiB objects\n",
            "Result logdir: /root/ray_results/trainable_func_2022-07-26_14-11-15\n",
            "Number of trials: 30/50 (6 PAUSED, 4 RUNNING, 20 TERMINATED)\n",
            "\n",
            "\n",
            "Trial trainable_func_137154e2 reported epoch=6,loss=0.5336858051800546,should_checkpoint=True with parameters={'act1 ': 'tanh', 'act2': 'selu', 'act3': 'relu', 'lr': 0.0009000000000000001, 'batch_size': 32, 'hidden_dim1': 165.0, 'hidden_dim2': 165.0, 'hidden_dim3': 195.0}.\n"
          ]
        },
        {
          "output_type": "stream",
          "name": "stderr",
          "text": [
            "\u001b[2m\u001b[36m(func pid=245777)\u001b[0m 2022-07-26 14:20:31,898\tINFO trainable.py:589 -- Restored on 172.28.0.2 from checkpoint: /root/ray_results/trainable_func_2022-07-26_14-11-15/trainable_func_eb88ecac_9_act1=tanh,act2=selu,act3=relu,batch_size=16,hidden_dim1=240.0000,hidden_dim2=240.0000,hidden_dim3=120.00_2022-07-26_14-12-27/checkpoint_tmp3aa6b1/./\n",
            "\u001b[2m\u001b[36m(func pid=245777)\u001b[0m 2022-07-26 14:20:31,898\tINFO trainable.py:597 -- Current state after restoring: {'_iteration': 19, '_timesteps_total': None, '_time_total': 62.70384120941162, '_episodes_total': None}\n"
          ]
        },
        {
          "output_type": "stream",
          "name": "stdout",
          "text": [
            "Trial trainable_func_128a6c80 reported epoch=6,loss=0.6024302307893125,should_checkpoint=True with parameters={'act1 ': 'relu', 'act2': 'tanh', 'act3': 'tanh', 'lr': 0.0009000000000000001, 'batch_size': 32, 'hidden_dim1': 315.0, 'hidden_dim2': 195.0, 'hidden_dim3': 315.0}.\n",
            "Trial trainable_func_193df1d2 reported epoch=3,loss=0.6798115529687484,should_checkpoint=True with parameters={'act1 ': 'relu', 'act2': 'relu', 'act3': 'tanh', 'lr': 0.0006000000000000001, 'batch_size': 32, 'hidden_dim1': 195.0, 'hidden_dim2': 135.0, 'hidden_dim3': 180.0}.\n"
          ]
        },
        {
          "output_type": "stream",
          "name": "stderr",
          "text": [
            "\u001b[2m\u001b[36m(func pid=245777)\u001b[0m 2022-07-26 14:20:35,853\tINFO trainable.py:589 -- Restored on 172.28.0.2 from checkpoint: /root/ray_results/trainable_func_2022-07-26_14-11-15/trainable_func_eb88ecac_9_act1=tanh,act2=selu,act3=relu,batch_size=16,hidden_dim1=240.0000,hidden_dim2=240.0000,hidden_dim3=120.00_2022-07-26_14-12-27/checkpoint_tmpe50172/./\n",
            "\u001b[2m\u001b[36m(func pid=245777)\u001b[0m 2022-07-26 14:20:35,853\tINFO trainable.py:597 -- Current state after restoring: {'_iteration': 20, '_timesteps_total': None, '_time_total': 66.19959330558777, '_episodes_total': None}\n"
          ]
        },
        {
          "output_type": "stream",
          "name": "stdout",
          "text": [
            "== Status ==\n",
            "Current time: 2022-07-26 14:20:37 (running for 00:09:21.85)\n",
            "Memory usage on this node: 2.5/12.7 GiB\n",
            "Using MedianStoppingRule: num_stopped=12.\n",
            "Resources requested: 2.0/2 CPUs, 0/0 GPUs, 0.0/7.47 GiB heap, 0.0/3.73 GiB objects\n",
            "Result logdir: /root/ray_results/trainable_func_2022-07-26_14-11-15\n",
            "Number of trials: 30/50 (6 PAUSED, 4 RUNNING, 20 TERMINATED)\n",
            "\n",
            "\n",
            "Trial trainable_func_137154e2 reported epoch=9,loss=0.5796767901097813,should_checkpoint=True with parameters={'act1 ': 'tanh', 'act2': 'selu', 'act3': 'relu', 'lr': 0.0009000000000000001, 'batch_size': 32, 'hidden_dim1': 165.0, 'hidden_dim2': 165.0, 'hidden_dim3': 195.0}.\n",
            "Trial trainable_func_eb88ecac reported epoch=0,loss=0.09314905119614744,should_checkpoint=True with parameters={'act1 ': 'tanh', 'act2': 'selu', 'act3': 'relu', 'lr': 0.0006000000000000001, 'batch_size': 16, 'hidden_dim1': 240.0, 'hidden_dim2': 240.0, 'hidden_dim3': 120.0}.\n",
            "Trial trainable_func_128a6c80 reported epoch=9,loss=0.6713320258499068,should_checkpoint=True with parameters={'act1 ': 'relu', 'act2': 'tanh', 'act3': 'tanh', 'lr': 0.0009000000000000001, 'batch_size': 32, 'hidden_dim1': 315.0, 'hidden_dim2': 195.0, 'hidden_dim3': 315.0}. This trial completed.\n"
          ]
        },
        {
          "output_type": "stream",
          "name": "stderr",
          "text": [
            "\u001b[2m\u001b[36m(func pid=245777)\u001b[0m 2022-07-26 14:20:39,830\tINFO trainable.py:589 -- Restored on 172.28.0.2 from checkpoint: /root/ray_results/trainable_func_2022-07-26_14-11-15/trainable_func_eb88ecac_9_act1=tanh,act2=selu,act3=relu,batch_size=16,hidden_dim1=240.0000,hidden_dim2=240.0000,hidden_dim3=120.00_2022-07-26_14-12-27/checkpoint_tmp7a881a/./\n",
            "\u001b[2m\u001b[36m(func pid=245777)\u001b[0m 2022-07-26 14:20:39,830\tINFO trainable.py:597 -- Current state after restoring: {'_iteration': 21, '_timesteps_total': None, '_time_total': 69.78925681114197, '_episodes_total': None}\n"
          ]
        },
        {
          "output_type": "stream",
          "name": "stdout",
          "text": [
            "Trial trainable_func_137154e2 reported epoch=11,loss=0.5764206893935818,should_checkpoint=True with parameters={'act1 ': 'tanh', 'act2': 'selu', 'act3': 'relu', 'lr': 0.0009000000000000001, 'batch_size': 32, 'hidden_dim1': 165.0, 'hidden_dim2': 165.0, 'hidden_dim3': 195.0}. This trial completed.\n",
            "Trial trainable_func_193df1d2 reported epoch=6,loss=0.6114762151107163,should_checkpoint=True with parameters={'act1 ': 'relu', 'act2': 'relu', 'act3': 'tanh', 'lr': 0.0006000000000000001, 'batch_size': 32, 'hidden_dim1': 195.0, 'hidden_dim2': 135.0, 'hidden_dim3': 180.0}.\n",
            "Trial trainable_func_20184322 reported epoch=0,loss=0.7648159170872001,should_checkpoint=True with parameters={'act1 ': 'relu', 'act2': 'tanh', 'act3': 'selu', 'lr': 0.0007, 'batch_size': 32, 'hidden_dim1': 255.0, 'hidden_dim2': 285.0, 'hidden_dim3': 150.0}.\n",
            "== Status ==\n",
            "Current time: 2022-07-26 14:20:42 (running for 00:09:27.13)\n",
            "Memory usage on this node: 2.5/12.7 GiB\n",
            "Using MedianStoppingRule: num_stopped=14.\n",
            "Resources requested: 2.0/2 CPUs, 0/0 GPUs, 0.0/7.47 GiB heap, 0.0/3.73 GiB objects\n",
            "Result logdir: /root/ray_results/trainable_func_2022-07-26_14-11-15\n",
            "Number of trials: 32/50 (6 PAUSED, 4 RUNNING, 22 TERMINATED)\n",
            "\n",
            "\n",
            "Trial trainable_func_20c2004c reported epoch=0,loss=0.8815013944549763,should_checkpoint=True with parameters={'act1 ': 'selu', 'act2': 'relu', 'act3': 'relu', 'lr': 0.0007, 'batch_size': 32, 'hidden_dim1': 165.0, 'hidden_dim2': 300.0, 'hidden_dim3': 240.0}.\n"
          ]
        },
        {
          "output_type": "stream",
          "name": "stderr",
          "text": [
            "\u001b[2m\u001b[36m(func pid=245777)\u001b[0m 2022-07-26 14:20:43,907\tINFO trainable.py:589 -- Restored on 172.28.0.2 from checkpoint: /root/ray_results/trainable_func_2022-07-26_14-11-15/trainable_func_eb88ecac_9_act1=tanh,act2=selu,act3=relu,batch_size=16,hidden_dim1=240.0000,hidden_dim2=240.0000,hidden_dim3=120.00_2022-07-26_14-12-27/checkpoint_tmpfbbadf/./\n",
            "\u001b[2m\u001b[36m(func pid=245777)\u001b[0m 2022-07-26 14:20:43,907\tINFO trainable.py:597 -- Current state after restoring: {'_iteration': 22, '_timesteps_total': None, '_time_total': 73.3430655002594, '_episodes_total': None}\n"
          ]
        },
        {
          "output_type": "stream",
          "name": "stdout",
          "text": [
            "Trial trainable_func_193df1d2 reported epoch=9,loss=0.5957474506389049,should_checkpoint=True with parameters={'act1 ': 'relu', 'act2': 'relu', 'act3': 'tanh', 'lr': 0.0006000000000000001, 'batch_size': 32, 'hidden_dim1': 195.0, 'hidden_dim2': 135.0, 'hidden_dim3': 180.0}. This trial completed.\n",
            "Trial trainable_func_eb88ecac reported epoch=0,loss=0.11886036432908867,should_checkpoint=True with parameters={'act1 ': 'tanh', 'act2': 'selu', 'act3': 'relu', 'lr': 0.0006000000000000001, 'batch_size': 16, 'hidden_dim1': 240.0, 'hidden_dim2': 240.0, 'hidden_dim3': 120.0}.\n",
            "== Status ==\n",
            "Current time: 2022-07-26 14:20:47 (running for 00:09:32.22)\n",
            "Memory usage on this node: 2.5/12.7 GiB\n",
            "Using MedianStoppingRule: num_stopped=15.\n",
            "Resources requested: 2.0/2 CPUs, 0/0 GPUs, 0.0/7.47 GiB heap, 0.0/3.73 GiB objects\n",
            "Result logdir: /root/ray_results/trainable_func_2022-07-26_14-11-15\n",
            "Number of trials: 33/50 (6 PAUSED, 4 RUNNING, 23 TERMINATED)\n",
            "\n",
            "\n"
          ]
        },
        {
          "output_type": "stream",
          "name": "stderr",
          "text": [
            "\u001b[2m\u001b[36m(func pid=245777)\u001b[0m 2022-07-26 14:20:48,313\tINFO trainable.py:589 -- Restored on 172.28.0.2 from checkpoint: /root/ray_results/trainable_func_2022-07-26_14-11-15/trainable_func_eb88ecac_9_act1=tanh,act2=selu,act3=relu,batch_size=16,hidden_dim1=240.0000,hidden_dim2=240.0000,hidden_dim3=120.00_2022-07-26_14-12-27/checkpoint_tmpee2967/./\n",
            "\u001b[2m\u001b[36m(func pid=245777)\u001b[0m 2022-07-26 14:20:48,315\tINFO trainable.py:597 -- Current state after restoring: {'_iteration': 23, '_timesteps_total': None, '_time_total': 76.89403486251831, '_episodes_total': None}\n"
          ]
        },
        {
          "output_type": "stream",
          "name": "stdout",
          "text": [
            "Trial trainable_func_20184322 reported epoch=3,loss=0.5914708273165906,should_checkpoint=True with parameters={'act1 ': 'relu', 'act2': 'tanh', 'act3': 'selu', 'lr': 0.0007, 'batch_size': 32, 'hidden_dim1': 255.0, 'hidden_dim2': 285.0, 'hidden_dim3': 150.0}.\n",
            "Trial trainable_func_20c2004c reported epoch=3,loss=0.6811041297849105,should_checkpoint=True with parameters={'act1 ': 'selu', 'act2': 'relu', 'act3': 'relu', 'lr': 0.0007, 'batch_size': 32, 'hidden_dim1': 165.0, 'hidden_dim2': 300.0, 'hidden_dim3': 240.0}.\n"
          ]
        },
        {
          "output_type": "stream",
          "name": "stderr",
          "text": [
            "\u001b[2m\u001b[36m(func pid=245777)\u001b[0m 2022-07-26 14:20:52,508\tINFO trainable.py:589 -- Restored on 172.28.0.2 from checkpoint: /root/ray_results/trainable_func_2022-07-26_14-11-15/trainable_func_eb88ecac_9_act1=tanh,act2=selu,act3=relu,batch_size=16,hidden_dim1=240.0000,hidden_dim2=240.0000,hidden_dim3=120.00_2022-07-26_14-12-27/checkpoint_tmpa4fd8b/./\n",
            "\u001b[2m\u001b[36m(func pid=245777)\u001b[0m 2022-07-26 14:20:52,508\tINFO trainable.py:597 -- Current state after restoring: {'_iteration': 24, '_timesteps_total': None, '_time_total': 80.40558815002441, '_episodes_total': None}\n"
          ]
        },
        {
          "output_type": "stream",
          "name": "stdout",
          "text": [
            "Trial trainable_func_243fbe9e reported epoch=0,loss=0.7513476292031994,should_checkpoint=True with parameters={'act1 ': 'tanh', 'act2': 'selu', 'act3': 'relu', 'lr': 0.0009000000000000001, 'batch_size': 8, 'hidden_dim1': 240.0, 'hidden_dim2': 195.0, 'hidden_dim3': 135.0}.\n",
            "== Status ==\n",
            "Current time: 2022-07-26 14:20:52 (running for 00:09:37.36)\n",
            "Memory usage on this node: 2.5/12.7 GiB\n",
            "Using MedianStoppingRule: num_stopped=15.\n",
            "Resources requested: 2.0/2 CPUs, 0/0 GPUs, 0.0/7.47 GiB heap, 0.0/3.73 GiB objects\n",
            "Result logdir: /root/ray_results/trainable_func_2022-07-26_14-11-15\n",
            "Number of trials: 33/50 (6 PAUSED, 4 RUNNING, 23 TERMINATED)\n",
            "\n",
            "\n",
            "Trial trainable_func_eb88ecac reported epoch=0,loss=0.08397811858261431,should_checkpoint=True with parameters={'act1 ': 'tanh', 'act2': 'selu', 'act3': 'relu', 'lr': 0.0006000000000000001, 'batch_size': 16, 'hidden_dim1': 240.0, 'hidden_dim2': 240.0, 'hidden_dim3': 120.0}.\n",
            "Trial trainable_func_20184322 reported epoch=6,loss=0.5488330615562745,should_checkpoint=True with parameters={'act1 ': 'relu', 'act2': 'tanh', 'act3': 'selu', 'lr': 0.0007, 'batch_size': 32, 'hidden_dim1': 255.0, 'hidden_dim2': 285.0, 'hidden_dim3': 150.0}.\n"
          ]
        },
        {
          "output_type": "stream",
          "name": "stderr",
          "text": [
            "\u001b[2m\u001b[36m(func pid=245777)\u001b[0m 2022-07-26 14:20:56,259\tINFO trainable.py:589 -- Restored on 172.28.0.2 from checkpoint: /root/ray_results/trainable_func_2022-07-26_14-11-15/trainable_func_eb88ecac_9_act1=tanh,act2=selu,act3=relu,batch_size=16,hidden_dim1=240.0000,hidden_dim2=240.0000,hidden_dim3=120.00_2022-07-26_14-12-27/checkpoint_tmp280ab5/./\n",
            "\u001b[2m\u001b[36m(func pid=245777)\u001b[0m 2022-07-26 14:20:56,260\tINFO trainable.py:597 -- Current state after restoring: {'_iteration': 25, '_timesteps_total': None, '_time_total': 83.47598433494568, '_episodes_total': None}\n"
          ]
        },
        {
          "output_type": "stream",
          "name": "stdout",
          "text": [
            "Trial trainable_func_20c2004c reported epoch=6,loss=0.6223359759058139,should_checkpoint=True with parameters={'act1 ': 'selu', 'act2': 'relu', 'act3': 'relu', 'lr': 0.0007, 'batch_size': 32, 'hidden_dim1': 165.0, 'hidden_dim2': 300.0, 'hidden_dim3': 240.0}.\n",
            "== Status ==\n",
            "Current time: 2022-07-26 14:20:58 (running for 00:09:43.20)\n",
            "Memory usage on this node: 2.5/12.7 GiB\n",
            "Using MedianStoppingRule: num_stopped=15.\n",
            "Resources requested: 2.0/2 CPUs, 0/0 GPUs, 0.0/7.47 GiB heap, 0.0/3.73 GiB objects\n",
            "Result logdir: /root/ray_results/trainable_func_2022-07-26_14-11-15\n",
            "Number of trials: 33/50 (6 PAUSED, 4 RUNNING, 23 TERMINATED)\n",
            "\n",
            "\n",
            "Trial trainable_func_243fbe9e reported epoch=1,loss=0.7389614453298952,should_checkpoint=True with parameters={'act1 ': 'tanh', 'act2': 'selu', 'act3': 'relu', 'lr': 0.0009000000000000001, 'batch_size': 8, 'hidden_dim1': 240.0, 'hidden_dim2': 195.0, 'hidden_dim3': 135.0}.\n"
          ]
        },
        {
          "output_type": "stream",
          "name": "stderr",
          "text": [
            "\u001b[2m\u001b[36m(func pid=245777)\u001b[0m 2022-07-26 14:21:00,454\tINFO trainable.py:589 -- Restored on 172.28.0.2 from checkpoint: /root/ray_results/trainable_func_2022-07-26_14-11-15/trainable_func_eb88ecac_9_act1=tanh,act2=selu,act3=relu,batch_size=16,hidden_dim1=240.0000,hidden_dim2=240.0000,hidden_dim3=120.00_2022-07-26_14-12-27/checkpoint_tmp119bbb/./\n",
            "\u001b[2m\u001b[36m(func pid=245777)\u001b[0m 2022-07-26 14:21:00,454\tINFO trainable.py:597 -- Current state after restoring: {'_iteration': 26, '_timesteps_total': None, '_time_total': 86.99388766288757, '_episodes_total': None}\n"
          ]
        },
        {
          "output_type": "stream",
          "name": "stdout",
          "text": [
            "Trial trainable_func_20184322 reported epoch=9,loss=0.5501743971985776,should_checkpoint=True with parameters={'act1 ': 'relu', 'act2': 'tanh', 'act3': 'selu', 'lr': 0.0007, 'batch_size': 32, 'hidden_dim1': 255.0, 'hidden_dim2': 285.0, 'hidden_dim3': 150.0}.\n",
            "Trial trainable_func_eb88ecac reported epoch=0,loss=0.0786790654792908,should_checkpoint=True with parameters={'act1 ': 'tanh', 'act2': 'selu', 'act3': 'relu', 'lr': 0.0006000000000000001, 'batch_size': 16, 'hidden_dim1': 240.0, 'hidden_dim2': 240.0, 'hidden_dim3': 120.0}.\n",
            "== Status ==\n",
            "Current time: 2022-07-26 14:21:04 (running for 00:09:48.63)\n",
            "Memory usage on this node: 2.5/12.7 GiB\n",
            "Using MedianStoppingRule: num_stopped=15.\n",
            "Resources requested: 2.0/2 CPUs, 0/0 GPUs, 0.0/7.47 GiB heap, 0.0/3.73 GiB objects\n",
            "Result logdir: /root/ray_results/trainable_func_2022-07-26_14-11-15\n",
            "Number of trials: 33/50 (6 PAUSED, 4 RUNNING, 23 TERMINATED)\n",
            "\n",
            "\n",
            "Trial trainable_func_20c2004c reported epoch=9,loss=0.641261168544397,should_checkpoint=True with parameters={'act1 ': 'selu', 'act2': 'relu', 'act3': 'relu', 'lr': 0.0007, 'batch_size': 32, 'hidden_dim1': 165.0, 'hidden_dim2': 300.0, 'hidden_dim3': 240.0}. This trial completed.\n",
            "Trial trainable_func_243fbe9e reported epoch=2,loss=0.641617025013266,should_checkpoint=True with parameters={'act1 ': 'tanh', 'act2': 'selu', 'act3': 'relu', 'lr': 0.0009000000000000001, 'batch_size': 8, 'hidden_dim1': 240.0, 'hidden_dim2': 195.0, 'hidden_dim3': 135.0}.\n"
          ]
        },
        {
          "output_type": "stream",
          "name": "stderr",
          "text": [
            "\u001b[2m\u001b[36m(func pid=245777)\u001b[0m 2022-07-26 14:21:04,559\tINFO trainable.py:589 -- Restored on 172.28.0.2 from checkpoint: /root/ray_results/trainable_func_2022-07-26_14-11-15/trainable_func_eb88ecac_9_act1=tanh,act2=selu,act3=relu,batch_size=16,hidden_dim1=240.0000,hidden_dim2=240.0000,hidden_dim3=120.00_2022-07-26_14-12-27/checkpoint_tmp7a1d9b/./\n",
            "\u001b[2m\u001b[36m(func pid=245777)\u001b[0m 2022-07-26 14:21:04,559\tINFO trainable.py:597 -- Current state after restoring: {'_iteration': 27, '_timesteps_total': None, '_time_total': 90.5531759262085, '_episodes_total': None}\n"
          ]
        },
        {
          "output_type": "stream",
          "name": "stdout",
          "text": [
            "Trial trainable_func_20184322 reported epoch=10,loss=0.5896734629809606,should_checkpoint=True with parameters={'act1 ': 'relu', 'act2': 'tanh', 'act3': 'selu', 'lr': 0.0007, 'batch_size': 32, 'hidden_dim1': 255.0, 'hidden_dim2': 285.0, 'hidden_dim3': 150.0}. This trial completed.\n",
            "Trial trainable_func_2ed4a7c0 reported epoch=0,loss=0.7124654425572489,should_checkpoint=True with parameters={'act1 ': 'tanh', 'act2': 'selu', 'act3': 'tanh', 'lr': 0.0008, 'batch_size': 32, 'hidden_dim1': 165.0, 'hidden_dim2': 315.0, 'hidden_dim3': 255.0}.\n"
          ]
        },
        {
          "output_type": "stream",
          "name": "stderr",
          "text": [
            "\u001b[2m\u001b[36m(func pid=245777)\u001b[0m 2022-07-26 14:21:08,383\tINFO trainable.py:589 -- Restored on 172.28.0.2 from checkpoint: /root/ray_results/trainable_func_2022-07-26_14-11-15/trainable_func_eb88ecac_9_act1=tanh,act2=selu,act3=relu,batch_size=16,hidden_dim1=240.0000,hidden_dim2=240.0000,hidden_dim3=120.00_2022-07-26_14-12-27/checkpoint_tmpf71dad/./\n",
            "\u001b[2m\u001b[36m(func pid=245777)\u001b[0m 2022-07-26 14:21:08,383\tINFO trainable.py:597 -- Current state after restoring: {'_iteration': 28, '_timesteps_total': None, '_time_total': 93.73426103591919, '_episodes_total': None}\n"
          ]
        },
        {
          "output_type": "stream",
          "name": "stdout",
          "text": [
            "Trial trainable_func_2f398258 reported epoch=0,loss=0.8162938688618612,should_checkpoint=True with parameters={'act1 ': 'selu', 'act2': 'relu', 'act3': 'selu', 'lr': 0.001, 'batch_size': 16, 'hidden_dim1': 285.0, 'hidden_dim2': 135.0, 'hidden_dim3': 165.0}.\n",
            "== Status ==\n",
            "Current time: 2022-07-26 14:21:09 (running for 00:09:53.76)\n",
            "Memory usage on this node: 2.5/12.7 GiB\n",
            "Using MedianStoppingRule: num_stopped=17.\n",
            "Resources requested: 2.0/2 CPUs, 0/0 GPUs, 0.0/7.47 GiB heap, 0.0/3.73 GiB objects\n",
            "Result logdir: /root/ray_results/trainable_func_2022-07-26_14-11-15\n",
            "Number of trials: 35/50 (6 PAUSED, 4 RUNNING, 25 TERMINATED)\n",
            "\n",
            "\n",
            "Trial trainable_func_243fbe9e reported epoch=3,loss=0.6447560315220642,should_checkpoint=True with parameters={'act1 ': 'tanh', 'act2': 'selu', 'act3': 'relu', 'lr': 0.0009000000000000001, 'batch_size': 8, 'hidden_dim1': 240.0, 'hidden_dim2': 195.0, 'hidden_dim3': 135.0}.\n",
            "Trial trainable_func_eb88ecac reported epoch=0,loss=0.06350637789744121,should_checkpoint=True with parameters={'act1 ': 'tanh', 'act2': 'selu', 'act3': 'relu', 'lr': 0.0006000000000000001, 'batch_size': 16, 'hidden_dim1': 240.0, 'hidden_dim2': 240.0, 'hidden_dim3': 120.0}.\n"
          ]
        },
        {
          "output_type": "stream",
          "name": "stderr",
          "text": [
            "\u001b[2m\u001b[36m(func pid=245777)\u001b[0m 2022-07-26 14:21:12,797\tINFO trainable.py:589 -- Restored on 172.28.0.2 from checkpoint: /root/ray_results/trainable_func_2022-07-26_14-11-15/trainable_func_eb88ecac_9_act1=tanh,act2=selu,act3=relu,batch_size=16,hidden_dim1=240.0000,hidden_dim2=240.0000,hidden_dim3=120.00_2022-07-26_14-12-27/checkpoint_tmp0a02df/./\n",
            "\u001b[2m\u001b[36m(func pid=245777)\u001b[0m 2022-07-26 14:21:12,798\tINFO trainable.py:597 -- Current state after restoring: {'_iteration': 29, '_timesteps_total': None, '_time_total': 97.44321060180664, '_episodes_total': None}\n"
          ]
        },
        {
          "output_type": "stream",
          "name": "stdout",
          "text": [
            "Trial trainable_func_2ed4a7c0 reported epoch=3,loss=0.6107733605247114,should_checkpoint=True with parameters={'act1 ': 'tanh', 'act2': 'selu', 'act3': 'tanh', 'lr': 0.0008, 'batch_size': 32, 'hidden_dim1': 165.0, 'hidden_dim2': 315.0, 'hidden_dim3': 255.0}.\n",
            "== Status ==\n",
            "Current time: 2022-07-26 14:21:16 (running for 00:10:00.82)\n",
            "Memory usage on this node: 2.6/12.7 GiB\n",
            "Using MedianStoppingRule: num_stopped=17.\n",
            "Resources requested: 2.0/2 CPUs, 0/0 GPUs, 0.0/7.47 GiB heap, 0.0/3.73 GiB objects\n",
            "Result logdir: /root/ray_results/trainable_func_2022-07-26_14-11-15\n",
            "Number of trials: 35/50 (6 PAUSED, 4 RUNNING, 25 TERMINATED)\n",
            "\n",
            "\n",
            "Trial trainable_func_2f398258 reported epoch=2,loss=0.7710216308096245,should_checkpoint=True with parameters={'act1 ': 'selu', 'act2': 'relu', 'act3': 'selu', 'lr': 0.001, 'batch_size': 16, 'hidden_dim1': 285.0, 'hidden_dim2': 135.0, 'hidden_dim3': 165.0}.\n"
          ]
        },
        {
          "output_type": "stream",
          "name": "stderr",
          "text": [
            "\u001b[2m\u001b[36m(func pid=245777)\u001b[0m 2022-07-26 14:21:17,603\tINFO trainable.py:589 -- Restored on 172.28.0.2 from checkpoint: /root/ray_results/trainable_func_2022-07-26_14-11-15/trainable_func_eb88ecac_9_act1=tanh,act2=selu,act3=relu,batch_size=16,hidden_dim1=240.0000,hidden_dim2=240.0000,hidden_dim3=120.00_2022-07-26_14-12-27/checkpoint_tmp95574b/./\n",
            "\u001b[2m\u001b[36m(func pid=245777)\u001b[0m 2022-07-26 14:21:17,604\tINFO trainable.py:597 -- Current state after restoring: {'_iteration': 30, '_timesteps_total': None, '_time_total': 101.56860971450806, '_episodes_total': None}\n"
          ]
        },
        {
          "output_type": "stream",
          "name": "stdout",
          "text": [
            "Trial trainable_func_243fbe9e reported epoch=4,loss=0.6611403991369759,should_checkpoint=True with parameters={'act1 ': 'tanh', 'act2': 'selu', 'act3': 'relu', 'lr': 0.0009000000000000001, 'batch_size': 8, 'hidden_dim1': 240.0, 'hidden_dim2': 195.0, 'hidden_dim3': 135.0}.\n",
            "Trial trainable_func_2ed4a7c0 reported epoch=5,loss=0.6073957332218994,should_checkpoint=True with parameters={'act1 ': 'tanh', 'act2': 'selu', 'act3': 'tanh', 'lr': 0.0008, 'batch_size': 32, 'hidden_dim1': 165.0, 'hidden_dim2': 315.0, 'hidden_dim3': 255.0}.\n",
            "Trial trainable_func_eb88ecac reported epoch=0,loss=0.07364808935341079,should_checkpoint=True with parameters={'act1 ': 'tanh', 'act2': 'selu', 'act3': 'relu', 'lr': 0.0006000000000000001, 'batch_size': 16, 'hidden_dim1': 240.0, 'hidden_dim2': 240.0, 'hidden_dim3': 120.0}.\n",
            "== Status ==\n",
            "Current time: 2022-07-26 14:21:21 (running for 00:10:06.43)\n",
            "Memory usage on this node: 2.5/12.7 GiB\n",
            "Using MedianStoppingRule: num_stopped=17.\n",
            "Resources requested: 1.5/2 CPUs, 0/0 GPUs, 0.0/7.47 GiB heap, 0.0/3.73 GiB objects\n",
            "Result logdir: /root/ray_results/trainable_func_2022-07-26_14-11-15\n",
            "Number of trials: 35/50 (7 PAUSED, 3 RUNNING, 25 TERMINATED)\n",
            "\n",
            "\n"
          ]
        },
        {
          "output_type": "stream",
          "name": "stderr",
          "text": [
            "\u001b[2m\u001b[36m(func pid=245777)\u001b[0m 2022-07-26 14:21:21,870\tINFO trainable.py:589 -- Restored on 172.28.0.2 from checkpoint: /root/ray_results/trainable_func_2022-07-26_14-11-15/trainable_func_eb88ecac_9_act1=tanh,act2=selu,act3=relu,batch_size=16,hidden_dim1=240.0000,hidden_dim2=240.0000,hidden_dim3=120.00_2022-07-26_14-12-27/checkpoint_tmpb025bb/./\n",
            "\u001b[2m\u001b[36m(func pid=245777)\u001b[0m 2022-07-26 14:21:21,871\tINFO trainable.py:597 -- Current state after restoring: {'_iteration': 31, '_timesteps_total': None, '_time_total': 105.1023051738739, '_episodes_total': None}\n"
          ]
        },
        {
          "output_type": "stream",
          "name": "stdout",
          "text": [
            "Trial trainable_func_2f398258 reported epoch=4,loss=0.6093397162918555,should_checkpoint=True with parameters={'act1 ': 'selu', 'act2': 'relu', 'act3': 'selu', 'lr': 0.001, 'batch_size': 16, 'hidden_dim1': 285.0, 'hidden_dim2': 135.0, 'hidden_dim3': 165.0}.\n",
            "Trial trainable_func_243fbe9e reported epoch=5,loss=0.5848050579120011,should_checkpoint=True with parameters={'act1 ': 'tanh', 'act2': 'selu', 'act3': 'relu', 'lr': 0.0009000000000000001, 'batch_size': 8, 'hidden_dim1': 240.0, 'hidden_dim2': 195.0, 'hidden_dim3': 135.0}.\n",
            "Trial trainable_func_2ed4a7c0 reported epoch=8,loss=0.611809444179975,should_checkpoint=True with parameters={'act1 ': 'tanh', 'act2': 'selu', 'act3': 'tanh', 'lr': 0.0008, 'batch_size': 32, 'hidden_dim1': 165.0, 'hidden_dim2': 315.0, 'hidden_dim3': 255.0}.\n"
          ]
        },
        {
          "output_type": "stream",
          "name": "stderr",
          "text": [
            "\u001b[2m\u001b[36m(func pid=245777)\u001b[0m 2022-07-26 14:21:25,879\tINFO trainable.py:589 -- Restored on 172.28.0.2 from checkpoint: /root/ray_results/trainable_func_2022-07-26_14-11-15/trainable_func_eb88ecac_9_act1=tanh,act2=selu,act3=relu,batch_size=16,hidden_dim1=240.0000,hidden_dim2=240.0000,hidden_dim3=120.00_2022-07-26_14-12-27/checkpoint_tmp116c7c/./\n",
            "\u001b[2m\u001b[36m(func pid=245777)\u001b[0m 2022-07-26 14:21:25,879\tINFO trainable.py:597 -- Current state after restoring: {'_iteration': 32, '_timesteps_total': None, '_time_total': 108.5380802154541, '_episodes_total': None}\n"
          ]
        },
        {
          "output_type": "stream",
          "name": "stdout",
          "text": [
            "Trial trainable_func_2ed4a7c0 reported epoch=9,loss=0.5818657980973185,should_checkpoint=True with parameters={'act1 ': 'tanh', 'act2': 'selu', 'act3': 'tanh', 'lr': 0.0008, 'batch_size': 32, 'hidden_dim1': 165.0, 'hidden_dim2': 315.0, 'hidden_dim3': 255.0}. This trial completed.\n",
            "== Status ==\n",
            "Current time: 2022-07-26 14:21:28 (running for 00:10:12.99)\n",
            "Memory usage on this node: 2.5/12.7 GiB\n",
            "Using MedianStoppingRule: num_stopped=18.\n",
            "Resources requested: 2.0/2 CPUs, 0/0 GPUs, 0.0/7.47 GiB heap, 0.0/3.73 GiB objects\n",
            "Result logdir: /root/ray_results/trainable_func_2022-07-26_14-11-15\n",
            "Number of trials: 35/50 (6 PAUSED, 4 RUNNING, 25 TERMINATED)\n",
            "\n",
            "\n",
            "Trial trainable_func_eb88ecac reported epoch=0,loss=0.055273754381781774,should_checkpoint=True with parameters={'act1 ': 'tanh', 'act2': 'selu', 'act3': 'relu', 'lr': 0.0006000000000000001, 'batch_size': 16, 'hidden_dim1': 240.0, 'hidden_dim2': 240.0, 'hidden_dim3': 120.0}.\n",
            "Trial trainable_func_243fbe9e reported epoch=6,loss=0.6179330878824439,should_checkpoint=True with parameters={'act1 ': 'tanh', 'act2': 'selu', 'act3': 'relu', 'lr': 0.0009000000000000001, 'batch_size': 8, 'hidden_dim1': 240.0, 'hidden_dim2': 195.0, 'hidden_dim3': 135.0}.\n",
            "Trial trainable_func_2f398258 reported epoch=6,loss=0.5312144260109948,should_checkpoint=True with parameters={'act1 ': 'selu', 'act2': 'relu', 'act3': 'selu', 'lr': 0.001, 'batch_size': 16, 'hidden_dim1': 285.0, 'hidden_dim2': 135.0, 'hidden_dim3': 165.0}.\n"
          ]
        },
        {
          "output_type": "stream",
          "name": "stderr",
          "text": [
            "\u001b[2m\u001b[36m(func pid=245777)\u001b[0m 2022-07-26 14:21:29,967\tINFO trainable.py:589 -- Restored on 172.28.0.2 from checkpoint: /root/ray_results/trainable_func_2022-07-26_14-11-15/trainable_func_eb88ecac_9_act1=tanh,act2=selu,act3=relu,batch_size=16,hidden_dim1=240.0000,hidden_dim2=240.0000,hidden_dim3=120.00_2022-07-26_14-12-27/checkpoint_tmpec735b/./\n",
            "\u001b[2m\u001b[36m(func pid=245777)\u001b[0m 2022-07-26 14:21:29,968\tINFO trainable.py:597 -- Current state after restoring: {'_iteration': 33, '_timesteps_total': None, '_time_total': 111.75507760047913, '_episodes_total': None}\n"
          ]
        },
        {
          "output_type": "stream",
          "name": "stdout",
          "text": [
            "Trial trainable_func_3d0a14e2 reported epoch=0,loss=0.6953703259828712,should_checkpoint=True with parameters={'act1 ': 'tanh', 'act2': 'tanh', 'act3': 'relu', 'lr': 0.0009000000000000001, 'batch_size': 32, 'hidden_dim1': 255.0, 'hidden_dim2': 255.0, 'hidden_dim3': 195.0}.\n",
            "== Status ==\n",
            "Current time: 2022-07-26 14:21:33 (running for 00:10:18.07)\n",
            "Memory usage on this node: 2.5/12.7 GiB\n",
            "Using MedianStoppingRule: num_stopped=18.\n",
            "Resources requested: 2.0/2 CPUs, 0/0 GPUs, 0.0/7.47 GiB heap, 0.0/3.73 GiB objects\n",
            "Result logdir: /root/ray_results/trainable_func_2022-07-26_14-11-15\n",
            "Number of trials: 36/50 (6 PAUSED, 4 RUNNING, 26 TERMINATED)\n",
            "\n",
            "\n"
          ]
        },
        {
          "output_type": "stream",
          "name": "stderr",
          "text": [
            "\u001b[2m\u001b[36m(func pid=245777)\u001b[0m 2022-07-26 14:21:33,987\tINFO trainable.py:589 -- Restored on 172.28.0.2 from checkpoint: /root/ray_results/trainable_func_2022-07-26_14-11-15/trainable_func_eb88ecac_9_act1=tanh,act2=selu,act3=relu,batch_size=16,hidden_dim1=240.0000,hidden_dim2=240.0000,hidden_dim3=120.00_2022-07-26_14-12-27/checkpoint_tmpac66e1/./\n",
            "\u001b[2m\u001b[36m(func pid=245777)\u001b[0m 2022-07-26 14:21:33,987\tINFO trainable.py:597 -- Current state after restoring: {'_iteration': 34, '_timesteps_total': None, '_time_total': 115.22958755493164, '_episodes_total': None}\n"
          ]
        },
        {
          "output_type": "stream",
          "name": "stdout",
          "text": [
            "Trial trainable_func_243fbe9e reported epoch=7,loss=0.6610541841621922,should_checkpoint=True with parameters={'act1 ': 'tanh', 'act2': 'selu', 'act3': 'relu', 'lr': 0.0009000000000000001, 'batch_size': 8, 'hidden_dim1': 240.0, 'hidden_dim2': 195.0, 'hidden_dim3': 135.0}.\n",
            "Trial trainable_func_3d0a14e2 reported epoch=3,loss=0.5652264534013733,should_checkpoint=True with parameters={'act1 ': 'tanh', 'act2': 'tanh', 'act3': 'relu', 'lr': 0.0009000000000000001, 'batch_size': 32, 'hidden_dim1': 255.0, 'hidden_dim2': 255.0, 'hidden_dim3': 195.0}.\n",
            "Trial trainable_func_eb88ecac reported epoch=0,loss=0.07117215625459018,should_checkpoint=True with parameters={'act1 ': 'tanh', 'act2': 'selu', 'act3': 'relu', 'lr': 0.0006000000000000001, 'batch_size': 16, 'hidden_dim1': 240.0, 'hidden_dim2': 240.0, 'hidden_dim3': 120.0}.\n",
            "Trial trainable_func_2f398258 reported epoch=8,loss=0.5483098667069628,should_checkpoint=True with parameters={'act1 ': 'selu', 'act2': 'relu', 'act3': 'selu', 'lr': 0.001, 'batch_size': 16, 'hidden_dim1': 285.0, 'hidden_dim2': 135.0, 'hidden_dim3': 165.0}.\n"
          ]
        },
        {
          "output_type": "stream",
          "name": "stderr",
          "text": [
            "\u001b[2m\u001b[36m(func pid=245777)\u001b[0m 2022-07-26 14:21:37,799\tINFO trainable.py:589 -- Restored on 172.28.0.2 from checkpoint: /root/ray_results/trainable_func_2022-07-26_14-11-15/trainable_func_eb88ecac_9_act1=tanh,act2=selu,act3=relu,batch_size=16,hidden_dim1=240.0000,hidden_dim2=240.0000,hidden_dim3=120.00_2022-07-26_14-12-27/checkpoint_tmpe23cdc/./\n",
            "\u001b[2m\u001b[36m(func pid=245777)\u001b[0m 2022-07-26 14:21:37,799\tINFO trainable.py:597 -- Current state after restoring: {'_iteration': 35, '_timesteps_total': None, '_time_total': 118.53686738014221, '_episodes_total': None}\n"
          ]
        },
        {
          "output_type": "stream",
          "name": "stdout",
          "text": [
            "== Status ==\n",
            "Current time: 2022-07-26 14:21:38 (running for 00:10:23.51)\n",
            "Memory usage on this node: 2.5/12.7 GiB\n",
            "Using MedianStoppingRule: num_stopped=18.\n",
            "Resources requested: 2.0/2 CPUs, 0/0 GPUs, 0.0/7.47 GiB heap, 0.0/3.73 GiB objects\n",
            "Result logdir: /root/ray_results/trainable_func_2022-07-26_14-11-15\n",
            "Number of trials: 36/50 (6 PAUSED, 4 RUNNING, 26 TERMINATED)\n",
            "\n",
            "\n"
          ]
        },
        {
          "output_type": "stream",
          "name": "stderr",
          "text": [
            "\u001b[2m\u001b[36m(func pid=245777)\u001b[0m 2022-07-26 14:21:41,741\tINFO trainable.py:589 -- Restored on 172.28.0.2 from checkpoint: /root/ray_results/trainable_func_2022-07-26_14-11-15/trainable_func_eb88ecac_9_act1=tanh,act2=selu,act3=relu,batch_size=16,hidden_dim1=240.0000,hidden_dim2=240.0000,hidden_dim3=120.00_2022-07-26_14-12-27/checkpoint_tmpf1d674/./\n",
            "\u001b[2m\u001b[36m(func pid=245777)\u001b[0m 2022-07-26 14:21:41,741\tINFO trainable.py:597 -- Current state after restoring: {'_iteration': 36, '_timesteps_total': None, '_time_total': 121.94123792648315, '_episodes_total': None}\n"
          ]
        },
        {
          "output_type": "stream",
          "name": "stdout",
          "text": [
            "Trial trainable_func_243fbe9e reported epoch=8,loss=0.57679644834158,should_checkpoint=True with parameters={'act1 ': 'tanh', 'act2': 'selu', 'act3': 'relu', 'lr': 0.0009000000000000001, 'batch_size': 8, 'hidden_dim1': 240.0, 'hidden_dim2': 195.0, 'hidden_dim3': 135.0}.\n",
            "Trial trainable_func_3d0a14e2 reported epoch=6,loss=0.524368318079364,should_checkpoint=True with parameters={'act1 ': 'tanh', 'act2': 'tanh', 'act3': 'relu', 'lr': 0.0009000000000000001, 'batch_size': 32, 'hidden_dim1': 255.0, 'hidden_dim2': 255.0, 'hidden_dim3': 195.0}.\n",
            "== Status ==\n",
            "Current time: 2022-07-26 14:21:44 (running for 00:10:29.30)\n",
            "Memory usage on this node: 2.5/12.7 GiB\n",
            "Using MedianStoppingRule: num_stopped=18.\n",
            "Resources requested: 2.0/2 CPUs, 0/0 GPUs, 0.0/7.47 GiB heap, 0.0/3.73 GiB objects\n",
            "Result logdir: /root/ray_results/trainable_func_2022-07-26_14-11-15\n",
            "Number of trials: 36/50 (6 PAUSED, 4 RUNNING, 26 TERMINATED)\n",
            "\n",
            "\n",
            "Trial trainable_func_eb88ecac reported epoch=0,loss=0.058627638879860874,should_checkpoint=True with parameters={'act1 ': 'tanh', 'act2': 'selu', 'act3': 'relu', 'lr': 0.0006000000000000001, 'batch_size': 16, 'hidden_dim1': 240.0, 'hidden_dim2': 240.0, 'hidden_dim3': 120.0}.\n",
            "Trial trainable_func_2f398258 reported epoch=10,loss=0.505969144670068,should_checkpoint=True with parameters={'act1 ': 'selu', 'act2': 'relu', 'act3': 'selu', 'lr': 0.001, 'batch_size': 16, 'hidden_dim1': 285.0, 'hidden_dim2': 135.0, 'hidden_dim3': 165.0}.\n"
          ]
        },
        {
          "output_type": "stream",
          "name": "stderr",
          "text": [
            "\u001b[2m\u001b[36m(func pid=245777)\u001b[0m 2022-07-26 14:21:45,883\tINFO trainable.py:589 -- Restored on 172.28.0.2 from checkpoint: /root/ray_results/trainable_func_2022-07-26_14-11-15/trainable_func_eb88ecac_9_act1=tanh,act2=selu,act3=relu,batch_size=16,hidden_dim1=240.0000,hidden_dim2=240.0000,hidden_dim3=120.00_2022-07-26_14-12-27/checkpoint_tmp6226b0/./\n",
            "\u001b[2m\u001b[36m(func pid=245777)\u001b[0m 2022-07-26 14:21:45,883\tINFO trainable.py:597 -- Current state after restoring: {'_iteration': 37, '_timesteps_total': None, '_time_total': 125.5138418674469, '_episodes_total': None}\n"
          ]
        },
        {
          "output_type": "stream",
          "name": "stdout",
          "text": [
            "Trial trainable_func_243fbe9e reported epoch=9,loss=0.632032760475411,should_checkpoint=True with parameters={'act1 ': 'tanh', 'act2': 'selu', 'act3': 'relu', 'lr': 0.0009000000000000001, 'batch_size': 8, 'hidden_dim1': 240.0, 'hidden_dim2': 195.0, 'hidden_dim3': 135.0}. This trial completed.\n",
            "Trial trainable_func_3d0a14e2 reported epoch=9,loss=0.5448251358536894,should_checkpoint=True with parameters={'act1 ': 'tanh', 'act2': 'tanh', 'act3': 'relu', 'lr': 0.0009000000000000001, 'batch_size': 32, 'hidden_dim1': 255.0, 'hidden_dim2': 255.0, 'hidden_dim3': 195.0}.\n",
            "== Status ==\n",
            "Current time: 2022-07-26 14:21:49 (running for 00:10:34.51)\n",
            "Memory usage on this node: 2.4/12.7 GiB\n",
            "Using MedianStoppingRule: num_stopped=19.\n",
            "Resources requested: 1.5/2 CPUs, 0/0 GPUs, 0.0/7.47 GiB heap, 0.0/3.73 GiB objects\n",
            "Result logdir: /root/ray_results/trainable_func_2022-07-26_14-11-15\n",
            "Number of trials: 37/50 (7 PAUSED, 3 RUNNING, 27 TERMINATED)\n",
            "\n",
            "\n",
            "Trial trainable_func_48f3ed5a reported epoch=0,loss=1.1396492672301717,should_checkpoint=True with parameters={'act1 ': 'selu', 'act2': 'selu', 'act3': 'relu', 'lr': 0.0005, 'batch_size': 64, 'hidden_dim1': 255.0, 'hidden_dim2': 225.0, 'hidden_dim3': 165.0}.\n",
            "Trial trainable_func_2f398258 reported epoch=11,loss=0.6020634164332821,should_checkpoint=True with parameters={'act1 ': 'selu', 'act2': 'relu', 'act3': 'selu', 'lr': 0.001, 'batch_size': 16, 'hidden_dim1': 285.0, 'hidden_dim2': 135.0, 'hidden_dim3': 165.0}. This trial completed.\n"
          ]
        },
        {
          "output_type": "stream",
          "name": "stderr",
          "text": [
            "\u001b[2m\u001b[36m(func pid=245777)\u001b[0m 2022-07-26 14:21:49,927\tINFO trainable.py:589 -- Restored on 172.28.0.2 from checkpoint: /root/ray_results/trainable_func_2022-07-26_14-11-15/trainable_func_eb88ecac_9_act1=tanh,act2=selu,act3=relu,batch_size=16,hidden_dim1=240.0000,hidden_dim2=240.0000,hidden_dim3=120.00_2022-07-26_14-12-27/checkpoint_tmp726396/./\n",
            "\u001b[2m\u001b[36m(func pid=245777)\u001b[0m 2022-07-26 14:21:49,928\tINFO trainable.py:597 -- Current state after restoring: {'_iteration': 38, '_timesteps_total': None, '_time_total': 128.9893844127655, '_episodes_total': None}\n"
          ]
        },
        {
          "output_type": "stream",
          "name": "stdout",
          "text": [
            "Trial trainable_func_3d0a14e2 reported epoch=11,loss=0.5289674750196407,should_checkpoint=True with parameters={'act1 ': 'tanh', 'act2': 'tanh', 'act3': 'relu', 'lr': 0.0009000000000000001, 'batch_size': 32, 'hidden_dim1': 255.0, 'hidden_dim2': 255.0, 'hidden_dim3': 195.0}. This trial completed.\n",
            "Trial trainable_func_eb88ecac reported epoch=0,loss=0.04464020494735619,should_checkpoint=True with parameters={'act1 ': 'tanh', 'act2': 'selu', 'act3': 'relu', 'lr': 0.0006000000000000001, 'batch_size': 16, 'hidden_dim1': 240.0, 'hidden_dim2': 240.0, 'hidden_dim3': 120.0}.\n",
            "Trial trainable_func_49e14b86 reported epoch=0,loss=0.8069018122957358,should_checkpoint=True with parameters={'act1 ': 'tanh', 'act2': 'selu', 'act3': 'tanh', 'lr': 0.0006000000000000001, 'batch_size': 16, 'hidden_dim1': 120.0, 'hidden_dim2': 300.0, 'hidden_dim3': 210.0}.\n"
          ]
        },
        {
          "output_type": "stream",
          "name": "stderr",
          "text": [
            "\u001b[2m\u001b[36m(func pid=245777)\u001b[0m 2022-07-26 14:21:54,071\tINFO trainable.py:589 -- Restored on 172.28.0.2 from checkpoint: /root/ray_results/trainable_func_2022-07-26_14-11-15/trainable_func_eb88ecac_9_act1=tanh,act2=selu,act3=relu,batch_size=16,hidden_dim1=240.0000,hidden_dim2=240.0000,hidden_dim3=120.00_2022-07-26_14-12-27/checkpoint_tmp1f7860/./\n",
            "\u001b[2m\u001b[36m(func pid=245777)\u001b[0m 2022-07-26 14:21:54,071\tINFO trainable.py:597 -- Current state after restoring: {'_iteration': 39, '_timesteps_total': None, '_time_total': 132.5597002506256, '_episodes_total': None}\n"
          ]
        },
        {
          "output_type": "stream",
          "name": "stdout",
          "text": [
            "Trial trainable_func_4b7656c6 reported epoch=0,loss=0.8105399042075437,should_checkpoint=True with parameters={'act1 ': 'relu', 'act2': 'tanh', 'act3': 'tanh', 'lr': 0.0006000000000000001, 'batch_size': 32, 'hidden_dim1': 210.0, 'hidden_dim2': 195.0, 'hidden_dim3': 120.0}.\n",
            "Trial trainable_func_48f3ed5a reported epoch=4,loss=0.7246986469445345,should_checkpoint=True with parameters={'act1 ': 'selu', 'act2': 'selu', 'act3': 'relu', 'lr': 0.0005, 'batch_size': 64, 'hidden_dim1': 255.0, 'hidden_dim2': 225.0, 'hidden_dim3': 165.0}.\n",
            "== Status ==\n",
            "Current time: 2022-07-26 14:21:55 (running for 00:10:40.07)\n",
            "Memory usage on this node: 2.5/12.7 GiB\n",
            "Using MedianStoppingRule: num_stopped=21.\n",
            "Resources requested: 2.0/2 CPUs, 0/0 GPUs, 0.0/7.47 GiB heap, 0.0/3.73 GiB objects\n",
            "Result logdir: /root/ray_results/trainable_func_2022-07-26_14-11-15\n",
            "Number of trials: 39/50 (6 PAUSED, 4 RUNNING, 29 TERMINATED)\n",
            "\n",
            "\n"
          ]
        },
        {
          "output_type": "stream",
          "name": "stderr",
          "text": [
            "\u001b[2m\u001b[36m(func pid=245777)\u001b[0m 2022-07-26 14:21:58,376\tINFO trainable.py:589 -- Restored on 172.28.0.2 from checkpoint: /root/ray_results/trainable_func_2022-07-26_14-11-15/trainable_func_eb88ecac_9_act1=tanh,act2=selu,act3=relu,batch_size=16,hidden_dim1=240.0000,hidden_dim2=240.0000,hidden_dim3=120.00_2022-07-26_14-12-27/checkpoint_tmp0fe31d/./\n",
            "\u001b[2m\u001b[36m(func pid=245777)\u001b[0m 2022-07-26 14:21:58,376\tINFO trainable.py:597 -- Current state after restoring: {'_iteration': 40, '_timesteps_total': None, '_time_total': 136.18932795524597, '_episodes_total': None}\n"
          ]
        },
        {
          "output_type": "stream",
          "name": "stdout",
          "text": [
            "Trial trainable_func_4b7656c6 reported epoch=3,loss=0.602604019470189,should_checkpoint=True with parameters={'act1 ': 'relu', 'act2': 'tanh', 'act3': 'tanh', 'lr': 0.0006000000000000001, 'batch_size': 32, 'hidden_dim1': 210.0, 'hidden_dim2': 195.0, 'hidden_dim3': 120.0}.\n",
            "Trial trainable_func_49e14b86 reported epoch=2,loss=1.0499900146020746,should_checkpoint=True with parameters={'act1 ': 'tanh', 'act2': 'selu', 'act3': 'tanh', 'lr': 0.0006000000000000001, 'batch_size': 16, 'hidden_dim1': 120.0, 'hidden_dim2': 300.0, 'hidden_dim3': 210.0}.\n",
            "== Status ==\n",
            "Current time: 2022-07-26 14:22:00 (running for 00:10:45.24)\n",
            "Memory usage on this node: 2.5/12.7 GiB\n",
            "Using MedianStoppingRule: num_stopped=21.\n",
            "Resources requested: 2.0/2 CPUs, 0/0 GPUs, 0.0/7.47 GiB heap, 0.0/3.73 GiB objects\n",
            "Result logdir: /root/ray_results/trainable_func_2022-07-26_14-11-15\n",
            "Number of trials: 39/50 (6 PAUSED, 4 RUNNING, 29 TERMINATED)\n",
            "\n",
            "\n",
            "Trial trainable_func_48f3ed5a reported epoch=8,loss=0.6822546810866792,should_checkpoint=True with parameters={'act1 ': 'selu', 'act2': 'selu', 'act3': 'relu', 'lr': 0.0005, 'batch_size': 64, 'hidden_dim1': 255.0, 'hidden_dim2': 225.0, 'hidden_dim3': 165.0}.\n",
            "Trial trainable_func_eb88ecac reported epoch=0,loss=0.047836443832093185,should_checkpoint=True with parameters={'act1 ': 'tanh', 'act2': 'selu', 'act3': 'relu', 'lr': 0.0006000000000000001, 'batch_size': 16, 'hidden_dim1': 240.0, 'hidden_dim2': 240.0, 'hidden_dim3': 120.0}.\n",
            "Trial trainable_func_48f3ed5a reported epoch=9,loss=0.6621889118098961,should_checkpoint=True with parameters={'act1 ': 'selu', 'act2': 'selu', 'act3': 'relu', 'lr': 0.0005, 'batch_size': 64, 'hidden_dim1': 255.0, 'hidden_dim2': 225.0, 'hidden_dim3': 165.0}. This trial completed.\n"
          ]
        },
        {
          "output_type": "stream",
          "name": "stderr",
          "text": [
            "\u001b[2m\u001b[36m(func pid=245777)\u001b[0m 2022-07-26 14:22:02,572\tINFO trainable.py:589 -- Restored on 172.28.0.2 from checkpoint: /root/ray_results/trainable_func_2022-07-26_14-11-15/trainable_func_eb88ecac_9_act1=tanh,act2=selu,act3=relu,batch_size=16,hidden_dim1=240.0000,hidden_dim2=240.0000,hidden_dim3=120.00_2022-07-26_14-12-27/checkpoint_tmp14cdb0/./\n",
            "\u001b[2m\u001b[36m(func pid=245777)\u001b[0m 2022-07-26 14:22:02,573\tINFO trainable.py:597 -- Current state after restoring: {'_iteration': 41, '_timesteps_total': None, '_time_total': 139.83378887176514, '_episodes_total': None}\n"
          ]
        },
        {
          "output_type": "stream",
          "name": "stdout",
          "text": [
            "Trial trainable_func_51689ad0 reported epoch=0,loss=1.0545131897584932,should_checkpoint=True with parameters={'act1 ': 'selu', 'act2': 'tanh', 'act3': 'relu', 'lr': 0.0007, 'batch_size': 64, 'hidden_dim1': 135.0, 'hidden_dim2': 300.0, 'hidden_dim3': 210.0}.\n",
            "== Status ==\n",
            "Current time: 2022-07-26 14:22:05 (running for 00:10:50.54)\n",
            "Memory usage on this node: 2.5/12.7 GiB\n",
            "Using MedianStoppingRule: num_stopped=22.\n",
            "Resources requested: 2.0/2 CPUs, 0/0 GPUs, 0.0/7.47 GiB heap, 0.0/3.73 GiB objects\n",
            "Result logdir: /root/ray_results/trainable_func_2022-07-26_14-11-15\n",
            "Number of trials: 40/50 (6 PAUSED, 4 RUNNING, 30 TERMINATED)\n",
            "\n",
            "\n",
            "Trial trainable_func_4b7656c6 reported epoch=6,loss=0.589225389729894,should_checkpoint=True with parameters={'act1 ': 'relu', 'act2': 'tanh', 'act3': 'tanh', 'lr': 0.0006000000000000001, 'batch_size': 32, 'hidden_dim1': 210.0, 'hidden_dim2': 195.0, 'hidden_dim3': 120.0}.\n"
          ]
        },
        {
          "output_type": "stream",
          "name": "stderr",
          "text": [
            "\u001b[2m\u001b[36m(func pid=245777)\u001b[0m 2022-07-26 14:22:06,625\tINFO trainable.py:589 -- Restored on 172.28.0.2 from checkpoint: /root/ray_results/trainable_func_2022-07-26_14-11-15/trainable_func_eb88ecac_9_act1=tanh,act2=selu,act3=relu,batch_size=16,hidden_dim1=240.0000,hidden_dim2=240.0000,hidden_dim3=120.00_2022-07-26_14-12-27/checkpoint_tmp41238b/./\n",
            "\u001b[2m\u001b[36m(func pid=245777)\u001b[0m 2022-07-26 14:22:06,625\tINFO trainable.py:597 -- Current state after restoring: {'_iteration': 42, '_timesteps_total': None, '_time_total': 143.178307056427, '_episodes_total': None}\n"
          ]
        },
        {
          "output_type": "stream",
          "name": "stdout",
          "text": [
            "Trial trainable_func_49e14b86 reported epoch=4,loss=0.6366529391791387,should_checkpoint=True with parameters={'act1 ': 'tanh', 'act2': 'selu', 'act3': 'tanh', 'lr': 0.0006000000000000001, 'batch_size': 16, 'hidden_dim1': 120.0, 'hidden_dim2': 300.0, 'hidden_dim3': 210.0}.\n",
            "Trial trainable_func_51689ad0 reported epoch=4,loss=0.5651037671134054,should_checkpoint=True with parameters={'act1 ': 'selu', 'act2': 'tanh', 'act3': 'relu', 'lr': 0.0007, 'batch_size': 64, 'hidden_dim1': 135.0, 'hidden_dim2': 300.0, 'hidden_dim3': 210.0}.\n",
            "Trial trainable_func_eb88ecac reported epoch=0,loss=0.04503517998182037,should_checkpoint=True with parameters={'act1 ': 'tanh', 'act2': 'selu', 'act3': 'relu', 'lr': 0.0006000000000000001, 'batch_size': 16, 'hidden_dim1': 240.0, 'hidden_dim2': 240.0, 'hidden_dim3': 120.0}.\n",
            "== Status ==\n",
            "Current time: 2022-07-26 14:22:10 (running for 00:10:55.55)\n",
            "Memory usage on this node: 2.4/12.7 GiB\n",
            "Using MedianStoppingRule: num_stopped=22.\n",
            "Resources requested: 2.0/2 CPUs, 0/0 GPUs, 0.0/7.47 GiB heap, 0.0/3.73 GiB objects\n",
            "Result logdir: /root/ray_results/trainable_func_2022-07-26_14-11-15\n",
            "Number of trials: 40/50 (6 PAUSED, 4 RUNNING, 30 TERMINATED)\n",
            "\n",
            "\n"
          ]
        },
        {
          "output_type": "stream",
          "name": "stderr",
          "text": [
            "\u001b[2m\u001b[36m(func pid=245777)\u001b[0m 2022-07-26 14:22:10,929\tINFO trainable.py:589 -- Restored on 172.28.0.2 from checkpoint: /root/ray_results/trainable_func_2022-07-26_14-11-15/trainable_func_eb88ecac_9_act1=tanh,act2=selu,act3=relu,batch_size=16,hidden_dim1=240.0000,hidden_dim2=240.0000,hidden_dim3=120.00_2022-07-26_14-12-27/checkpoint_tmp341b0a/./\n",
            "\u001b[2m\u001b[36m(func pid=245777)\u001b[0m 2022-07-26 14:22:10,929\tINFO trainable.py:597 -- Current state after restoring: {'_iteration': 43, '_timesteps_total': None, '_time_total': 146.96192598342896, '_episodes_total': None}\n"
          ]
        },
        {
          "output_type": "stream",
          "name": "stdout",
          "text": [
            "Trial trainable_func_4b7656c6 reported epoch=9,loss=0.5750539807676545,should_checkpoint=True with parameters={'act1 ': 'relu', 'act2': 'tanh', 'act3': 'tanh', 'lr': 0.0006000000000000001, 'batch_size': 32, 'hidden_dim1': 210.0, 'hidden_dim2': 195.0, 'hidden_dim3': 120.0}. This trial completed.\n",
            "Trial trainable_func_57899144 reported epoch=0,loss=1.0398842391431111,should_checkpoint=True with parameters={'act1 ': 'relu', 'act2': 'selu', 'act3': 'relu', 'lr': 0.0006000000000000001, 'batch_size': 64, 'hidden_dim1': 165.0, 'hidden_dim2': 180.0, 'hidden_dim3': 255.0}.\n",
            "Trial trainable_func_49e14b86 reported epoch=6,loss=0.5790182540345913,should_checkpoint=True with parameters={'act1 ': 'tanh', 'act2': 'selu', 'act3': 'tanh', 'lr': 0.0006000000000000001, 'batch_size': 16, 'hidden_dim1': 120.0, 'hidden_dim2': 300.0, 'hidden_dim3': 210.0}.\n",
            "Trial trainable_func_51689ad0 reported epoch=8,loss=0.5616794738569195,should_checkpoint=True with parameters={'act1 ': 'selu', 'act2': 'tanh', 'act3': 'relu', 'lr': 0.0007, 'batch_size': 64, 'hidden_dim1': 135.0, 'hidden_dim2': 300.0, 'hidden_dim3': 210.0}.\n"
          ]
        },
        {
          "output_type": "stream",
          "name": "stderr",
          "text": [
            "\u001b[2m\u001b[36m(func pid=245777)\u001b[0m 2022-07-26 14:22:15,322\tINFO trainable.py:589 -- Restored on 172.28.0.2 from checkpoint: /root/ray_results/trainable_func_2022-07-26_14-11-15/trainable_func_eb88ecac_9_act1=tanh,act2=selu,act3=relu,batch_size=16,hidden_dim1=240.0000,hidden_dim2=240.0000,hidden_dim3=120.00_2022-07-26_14-12-27/checkpoint_tmp81ffbd/./\n",
            "\u001b[2m\u001b[36m(func pid=245777)\u001b[0m 2022-07-26 14:22:15,322\tINFO trainable.py:597 -- Current state after restoring: {'_iteration': 44, '_timesteps_total': None, '_time_total': 150.63728141784668, '_episodes_total': None}\n"
          ]
        },
        {
          "output_type": "stream",
          "name": "stdout",
          "text": [
            "== Status ==\n",
            "Current time: 2022-07-26 14:22:16 (running for 00:11:01.13)\n",
            "Memory usage on this node: 2.5/12.7 GiB\n",
            "Using MedianStoppingRule: num_stopped=23.\n",
            "Resources requested: 2.0/2 CPUs, 0/0 GPUs, 0.0/7.47 GiB heap, 0.0/3.73 GiB objects\n",
            "Result logdir: /root/ray_results/trainable_func_2022-07-26_14-11-15\n",
            "Number of trials: 41/50 (6 PAUSED, 4 RUNNING, 31 TERMINATED)\n",
            "\n",
            "\n",
            "Trial trainable_func_eb88ecac reported epoch=0,loss=0.049908855836702536,should_checkpoint=True with parameters={'act1 ': 'tanh', 'act2': 'selu', 'act3': 'relu', 'lr': 0.0006000000000000001, 'batch_size': 16, 'hidden_dim1': 240.0, 'hidden_dim2': 240.0, 'hidden_dim3': 120.0}.\n",
            "Trial trainable_func_51689ad0 reported epoch=11,loss=0.5661720142129758,should_checkpoint=True with parameters={'act1 ': 'selu', 'act2': 'tanh', 'act3': 'relu', 'lr': 0.0007, 'batch_size': 64, 'hidden_dim1': 135.0, 'hidden_dim2': 300.0, 'hidden_dim3': 210.0}. This trial completed.\n"
          ]
        },
        {
          "output_type": "stream",
          "name": "stderr",
          "text": [
            "\u001b[2m\u001b[36m(func pid=245777)\u001b[0m 2022-07-26 14:22:19,763\tINFO trainable.py:589 -- Restored on 172.28.0.2 from checkpoint: /root/ray_results/trainable_func_2022-07-26_14-11-15/trainable_func_eb88ecac_9_act1=tanh,act2=selu,act3=relu,batch_size=16,hidden_dim1=240.0000,hidden_dim2=240.0000,hidden_dim3=120.00_2022-07-26_14-12-27/checkpoint_tmp2b708f/./\n",
            "\u001b[2m\u001b[36m(func pid=245777)\u001b[0m 2022-07-26 14:22:19,763\tINFO trainable.py:597 -- Current state after restoring: {'_iteration': 45, '_timesteps_total': None, '_time_total': 154.4945878982544, '_episodes_total': None}\n"
          ]
        },
        {
          "output_type": "stream",
          "name": "stdout",
          "text": [
            "Trial trainable_func_57899144 reported epoch=5,loss=0.6325937464370979,should_checkpoint=True with parameters={'act1 ': 'relu', 'act2': 'selu', 'act3': 'relu', 'lr': 0.0006000000000000001, 'batch_size': 64, 'hidden_dim1': 165.0, 'hidden_dim2': 180.0, 'hidden_dim3': 255.0}.\n",
            "Trial trainable_func_49e14b86 reported epoch=8,loss=0.6347728019609326,should_checkpoint=True with parameters={'act1 ': 'tanh', 'act2': 'selu', 'act3': 'tanh', 'lr': 0.0006000000000000001, 'batch_size': 16, 'hidden_dim1': 120.0, 'hidden_dim2': 300.0, 'hidden_dim3': 210.0}.\n",
            "== Status ==\n",
            "Current time: 2022-07-26 14:22:21 (running for 00:11:06.18)\n",
            "Memory usage on this node: 2.5/12.7 GiB\n",
            "Using MedianStoppingRule: num_stopped=24.\n",
            "Resources requested: 2.0/2 CPUs, 0/0 GPUs, 0.0/7.47 GiB heap, 0.0/3.73 GiB objects\n",
            "Result logdir: /root/ray_results/trainable_func_2022-07-26_14-11-15\n",
            "Number of trials: 42/50 (6 PAUSED, 4 RUNNING, 32 TERMINATED)\n",
            "\n",
            "\n",
            "Trial trainable_func_5ba7df88 reported epoch=0,loss=0.7861533054053363,should_checkpoint=True with parameters={'act1 ': 'relu', 'act2': 'relu', 'act3': 'selu', 'lr': 0.0006000000000000001, 'batch_size': 32, 'hidden_dim1': 180.0, 'hidden_dim2': 180.0, 'hidden_dim3': 120.0}.\n"
          ]
        },
        {
          "output_type": "stream",
          "name": "stderr",
          "text": [
            "\u001b[2m\u001b[36m(func pid=245777)\u001b[0m 2022-07-26 14:22:24,018\tINFO trainable.py:589 -- Restored on 172.28.0.2 from checkpoint: /root/ray_results/trainable_func_2022-07-26_14-11-15/trainable_func_eb88ecac_9_act1=tanh,act2=selu,act3=relu,batch_size=16,hidden_dim1=240.0000,hidden_dim2=240.0000,hidden_dim3=120.00_2022-07-26_14-12-27/checkpoint_tmp8f789a/./\n",
            "\u001b[2m\u001b[36m(func pid=245777)\u001b[0m 2022-07-26 14:22:24,018\tINFO trainable.py:597 -- Current state after restoring: {'_iteration': 46, '_timesteps_total': None, '_time_total': 158.21968245506287, '_episodes_total': None}\n"
          ]
        },
        {
          "output_type": "stream",
          "name": "stdout",
          "text": [
            "Trial trainable_func_49e14b86 reported epoch=9,loss=0.6228462440131614,should_checkpoint=True with parameters={'act1 ': 'tanh', 'act2': 'selu', 'act3': 'tanh', 'lr': 0.0006000000000000001, 'batch_size': 16, 'hidden_dim1': 120.0, 'hidden_dim2': 300.0, 'hidden_dim3': 210.0}. This trial completed.\n",
            "Trial trainable_func_57899144 reported epoch=9,loss=0.6062265585241688,should_checkpoint=True with parameters={'act1 ': 'relu', 'act2': 'selu', 'act3': 'relu', 'lr': 0.0006000000000000001, 'batch_size': 64, 'hidden_dim1': 165.0, 'hidden_dim2': 180.0, 'hidden_dim3': 255.0}. This trial completed.\n",
            "Trial trainable_func_5efd582a reported epoch=0,loss=1.060953976645384,should_checkpoint=True with parameters={'act1 ': 'tanh', 'act2': 'relu', 'act3': 'relu', 'lr': 0.0005, 'batch_size': 64, 'hidden_dim1': 225.0, 'hidden_dim2': 150.0, 'hidden_dim3': 315.0}.\n",
            "== Status ==\n",
            "Current time: 2022-07-26 14:22:26 (running for 00:11:11.39)\n",
            "Memory usage on this node: 2.5/12.7 GiB\n",
            "Using MedianStoppingRule: num_stopped=26.\n",
            "Resources requested: 2.0/2 CPUs, 0/0 GPUs, 0.0/7.47 GiB heap, 0.0/3.73 GiB objects\n",
            "Result logdir: /root/ray_results/trainable_func_2022-07-26_14-11-15\n",
            "Number of trials: 44/50 (6 PAUSED, 4 RUNNING, 34 TERMINATED)\n",
            "\n",
            "\n",
            "Trial trainable_func_eb88ecac reported epoch=0,loss=0.056944299458896085,should_checkpoint=True with parameters={'act1 ': 'tanh', 'act2': 'selu', 'act3': 'relu', 'lr': 0.0006000000000000001, 'batch_size': 16, 'hidden_dim1': 240.0, 'hidden_dim2': 240.0, 'hidden_dim3': 120.0}.\n",
            "Trial trainable_func_5ba7df88 reported epoch=3,loss=0.5417461700957982,should_checkpoint=True with parameters={'act1 ': 'relu', 'act2': 'relu', 'act3': 'selu', 'lr': 0.0006000000000000001, 'batch_size': 32, 'hidden_dim1': 180.0, 'hidden_dim2': 180.0, 'hidden_dim3': 120.0}.\n"
          ]
        },
        {
          "output_type": "stream",
          "name": "stderr",
          "text": [
            "\u001b[2m\u001b[36m(func pid=245777)\u001b[0m 2022-07-26 14:22:28,019\tINFO trainable.py:589 -- Restored on 172.28.0.2 from checkpoint: /root/ray_results/trainable_func_2022-07-26_14-11-15/trainable_func_eb88ecac_9_act1=tanh,act2=selu,act3=relu,batch_size=16,hidden_dim1=240.0000,hidden_dim2=240.0000,hidden_dim3=120.00_2022-07-26_14-12-27/checkpoint_tmp091756/./\n",
            "\u001b[2m\u001b[36m(func pid=245777)\u001b[0m 2022-07-26 14:22:28,019\tINFO trainable.py:597 -- Current state after restoring: {'_iteration': 47, '_timesteps_total': None, '_time_total': 161.72068548202515, '_episodes_total': None}\n"
          ]
        },
        {
          "output_type": "stream",
          "name": "stdout",
          "text": [
            "== Status ==\n",
            "Current time: 2022-07-26 14:22:32 (running for 00:11:16.85)\n",
            "Memory usage on this node: 2.5/12.7 GiB\n",
            "Using MedianStoppingRule: num_stopped=26.\n",
            "Resources requested: 1.5/2 CPUs, 0/0 GPUs, 0.0/7.47 GiB heap, 0.0/3.73 GiB objects\n",
            "Result logdir: /root/ray_results/trainable_func_2022-07-26_14-11-15\n",
            "Number of trials: 44/50 (7 PAUSED, 3 RUNNING, 34 TERMINATED)\n",
            "\n",
            "\n"
          ]
        },
        {
          "output_type": "stream",
          "name": "stderr",
          "text": [
            "\u001b[2m\u001b[36m(func pid=245777)\u001b[0m 2022-07-26 14:22:32,283\tINFO trainable.py:589 -- Restored on 172.28.0.2 from checkpoint: /root/ray_results/trainable_func_2022-07-26_14-11-15/trainable_func_eb88ecac_9_act1=tanh,act2=selu,act3=relu,batch_size=16,hidden_dim1=240.0000,hidden_dim2=240.0000,hidden_dim3=120.00_2022-07-26_14-12-27/checkpoint_tmp899d13/./\n",
            "\u001b[2m\u001b[36m(func pid=245777)\u001b[0m 2022-07-26 14:22:32,284\tINFO trainable.py:597 -- Current state after restoring: {'_iteration': 48, '_timesteps_total': None, '_time_total': 165.48692774772644, '_episodes_total': None}\n"
          ]
        },
        {
          "output_type": "stream",
          "name": "stdout",
          "text": [
            "Trial trainable_func_5efd582a reported epoch=5,loss=0.6145279312843456,should_checkpoint=True with parameters={'act1 ': 'tanh', 'act2': 'relu', 'act3': 'relu', 'lr': 0.0005, 'batch_size': 64, 'hidden_dim1': 225.0, 'hidden_dim2': 150.0, 'hidden_dim3': 315.0}.\n",
            "Trial trainable_func_5eb6114a reported epoch=0,loss=0.7879863427802343,should_checkpoint=True with parameters={'act1 ': 'selu', 'act2': 'selu', 'act3': 'relu', 'lr': 0.0006000000000000001, 'batch_size': 8, 'hidden_dim1': 330.0, 'hidden_dim2': 210.0, 'hidden_dim3': 315.0}.\n",
            "Trial trainable_func_5ba7df88 reported epoch=6,loss=0.5587465809102895,should_checkpoint=True with parameters={'act1 ': 'relu', 'act2': 'relu', 'act3': 'selu', 'lr': 0.0006000000000000001, 'batch_size': 32, 'hidden_dim1': 180.0, 'hidden_dim2': 180.0, 'hidden_dim3': 120.0}.\n",
            "Trial trainable_func_eb88ecac reported epoch=0,loss=0.052772951923975485,should_checkpoint=True with parameters={'act1 ': 'tanh', 'act2': 'selu', 'act3': 'relu', 'lr': 0.0006000000000000001, 'batch_size': 16, 'hidden_dim1': 240.0, 'hidden_dim2': 240.0, 'hidden_dim3': 120.0}.\n"
          ]
        },
        {
          "output_type": "stream",
          "name": "stderr",
          "text": [
            "\u001b[2m\u001b[36m(func pid=245777)\u001b[0m 2022-07-26 14:22:36,400\tINFO trainable.py:589 -- Restored on 172.28.0.2 from checkpoint: /root/ray_results/trainable_func_2022-07-26_14-11-15/trainable_func_eb88ecac_9_act1=tanh,act2=selu,act3=relu,batch_size=16,hidden_dim1=240.0000,hidden_dim2=240.0000,hidden_dim3=120.00_2022-07-26_14-12-27/checkpoint_tmpe69902/./\n",
            "\u001b[2m\u001b[36m(func pid=245777)\u001b[0m 2022-07-26 14:22:36,401\tINFO trainable.py:597 -- Current state after restoring: {'_iteration': 49, '_timesteps_total': None, '_time_total': 168.99006533622742, '_episodes_total': None}\n"
          ]
        },
        {
          "output_type": "stream",
          "name": "stdout",
          "text": [
            "Trial trainable_func_5efd582a reported epoch=9,loss=0.5747216009013261,should_checkpoint=True with parameters={'act1 ': 'tanh', 'act2': 'relu', 'act3': 'relu', 'lr': 0.0005, 'batch_size': 64, 'hidden_dim1': 225.0, 'hidden_dim2': 150.0, 'hidden_dim3': 315.0}. This trial completed.\n",
            "== Status ==\n",
            "Current time: 2022-07-26 14:22:37 (running for 00:11:22.26)\n",
            "Memory usage on this node: 2.5/12.7 GiB\n",
            "Using MedianStoppingRule: num_stopped=27.\n",
            "Resources requested: 2.0/2 CPUs, 0/0 GPUs, 0.0/7.47 GiB heap, 0.0/3.73 GiB objects\n",
            "Result logdir: /root/ray_results/trainable_func_2022-07-26_14-11-15\n",
            "Number of trials: 44/50 (6 PAUSED, 4 RUNNING, 34 TERMINATED)\n",
            "\n",
            "\n",
            "Trial trainable_func_6651ffd6 reported epoch=0,loss=0.9887234352636564,should_checkpoint=True with parameters={'act1 ': 'tanh', 'act2': 'tanh', 'act3': 'tanh', 'lr': 0.0005, 'batch_size': 64, 'hidden_dim1': 135.0, 'hidden_dim2': 225.0, 'hidden_dim3': 180.0}.\n",
            "Trial trainable_func_eb88ecac reported epoch=0,loss=0.056531359842008286,should_checkpoint=True with parameters={'act1 ': 'tanh', 'act2': 'selu', 'act3': 'relu', 'lr': 0.0006000000000000001, 'batch_size': 16, 'hidden_dim1': 240.0, 'hidden_dim2': 240.0, 'hidden_dim3': 120.0}. This trial completed.\n",
            "Trial trainable_func_5ba7df88 reported epoch=9,loss=0.5504848025279857,should_checkpoint=True with parameters={'act1 ': 'relu', 'act2': 'relu', 'act3': 'selu', 'lr': 0.0006000000000000001, 'batch_size': 32, 'hidden_dim1': 180.0, 'hidden_dim2': 180.0, 'hidden_dim3': 120.0}.\n",
            "Trial trainable_func_5eb6114a reported epoch=1,loss=0.6626227210906386,should_checkpoint=True with parameters={'act1 ': 'selu', 'act2': 'selu', 'act3': 'relu', 'lr': 0.0006000000000000001, 'batch_size': 8, 'hidden_dim1': 330.0, 'hidden_dim2': 210.0, 'hidden_dim3': 315.0}.\n",
            "Trial trainable_func_5ba7df88 reported epoch=10,loss=0.5620646689003657,should_checkpoint=True with parameters={'act1 ': 'relu', 'act2': 'relu', 'act3': 'selu', 'lr': 0.0006000000000000001, 'batch_size': 32, 'hidden_dim1': 180.0, 'hidden_dim2': 180.0, 'hidden_dim3': 120.0}. This trial completed.\n",
            "Trial trainable_func_67c7d50c reported epoch=0,loss=0.8120246785304288,should_checkpoint=True with parameters={'act1 ': 'tanh', 'act2': 'relu', 'act3': 'relu', 'lr': 0.0008, 'batch_size': 32, 'hidden_dim1': 165.0, 'hidden_dim2': 270.0, 'hidden_dim3': 255.0}.\n",
            "== Status ==\n",
            "Current time: 2022-07-26 14:22:44 (running for 00:11:28.64)\n",
            "Memory usage on this node: 2.5/12.7 GiB\n",
            "Using MedianStoppingRule: num_stopped=28.\n",
            "Resources requested: 2.0/2 CPUs, 0/0 GPUs, 0.0/7.47 GiB heap, 0.0/3.73 GiB objects\n",
            "Result logdir: /root/ray_results/trainable_func_2022-07-26_14-11-15\n",
            "Number of trials: 47/50 (6 PAUSED, 4 RUNNING, 37 TERMINATED)\n",
            "\n",
            "\n",
            "Trial trainable_func_68ef98f2 reported epoch=0,loss=0.7859049874096601,should_checkpoint=True with parameters={'act1 ': 'selu', 'act2': 'relu', 'act3': 'tanh', 'lr': 0.0005, 'batch_size': 32, 'hidden_dim1': 300.0, 'hidden_dim2': 255.0, 'hidden_dim3': 135.0}.\n",
            "Trial trainable_func_6651ffd6 reported epoch=5,loss=0.6258333353321677,should_checkpoint=True with parameters={'act1 ': 'tanh', 'act2': 'tanh', 'act3': 'tanh', 'lr': 0.0005, 'batch_size': 64, 'hidden_dim1': 135.0, 'hidden_dim2': 225.0, 'hidden_dim3': 180.0}.\n",
            "Trial trainable_func_5eb6114a reported epoch=2,loss=0.7889424758364575,should_checkpoint=True with parameters={'act1 ': 'selu', 'act2': 'selu', 'act3': 'relu', 'lr': 0.0006000000000000001, 'batch_size': 8, 'hidden_dim1': 330.0, 'hidden_dim2': 210.0, 'hidden_dim3': 315.0}.\n",
            "== Status ==\n",
            "Current time: 2022-07-26 14:22:49 (running for 00:11:33.74)\n",
            "Memory usage on this node: 2.5/12.7 GiB\n",
            "Using MedianStoppingRule: num_stopped=28.\n",
            "Resources requested: 2.0/2 CPUs, 0/0 GPUs, 0.0/7.47 GiB heap, 0.0/3.73 GiB objects\n",
            "Result logdir: /root/ray_results/trainable_func_2022-07-26_14-11-15\n",
            "Number of trials: 47/50 (6 PAUSED, 4 RUNNING, 37 TERMINATED)\n",
            "\n",
            "\n",
            "Trial trainable_func_67c7d50c reported epoch=3,loss=0.6334240811464996,should_checkpoint=True with parameters={'act1 ': 'tanh', 'act2': 'relu', 'act3': 'relu', 'lr': 0.0008, 'batch_size': 32, 'hidden_dim1': 165.0, 'hidden_dim2': 270.0, 'hidden_dim3': 255.0}.\n",
            "Trial trainable_func_6651ffd6 reported epoch=9,loss=0.5952026768670048,should_checkpoint=True with parameters={'act1 ': 'tanh', 'act2': 'tanh', 'act3': 'tanh', 'lr': 0.0005, 'batch_size': 64, 'hidden_dim1': 135.0, 'hidden_dim2': 225.0, 'hidden_dim3': 180.0}. This trial completed.\n",
            "Trial trainable_func_68ef98f2 reported epoch=3,loss=0.5797081466720035,should_checkpoint=True with parameters={'act1 ': 'selu', 'act2': 'relu', 'act3': 'tanh', 'lr': 0.0005, 'batch_size': 32, 'hidden_dim1': 300.0, 'hidden_dim2': 255.0, 'hidden_dim3': 135.0}.\n",
            "Trial trainable_func_6dc198a8 reported epoch=0,loss=0.834400186406658,should_checkpoint=True with parameters={'act1 ': 'relu', 'act2': 'relu', 'act3': 'tanh', 'lr': 0.0006000000000000001, 'batch_size': 32, 'hidden_dim1': 120.0, 'hidden_dim2': 270.0, 'hidden_dim3': 180.0}.\n",
            "== Status ==\n",
            "Current time: 2022-07-26 14:22:54 (running for 00:11:38.98)\n",
            "Memory usage on this node: 2.5/12.7 GiB\n",
            "Using MedianStoppingRule: num_stopped=29.\n",
            "Resources requested: 2.0/2 CPUs, 0/0 GPUs, 0.0/7.47 GiB heap, 0.0/3.73 GiB objects\n",
            "Result logdir: /root/ray_results/trainable_func_2022-07-26_14-11-15\n",
            "Number of trials: 48/50 (6 PAUSED, 4 RUNNING, 38 TERMINATED)\n",
            "\n",
            "\n",
            "Trial trainable_func_67c7d50c reported epoch=6,loss=0.5813999248444954,should_checkpoint=True with parameters={'act1 ': 'tanh', 'act2': 'relu', 'act3': 'relu', 'lr': 0.0008, 'batch_size': 32, 'hidden_dim1': 165.0, 'hidden_dim2': 270.0, 'hidden_dim3': 255.0}.\n",
            "Trial trainable_func_5eb6114a reported epoch=3,loss=0.6505949908357727,should_checkpoint=True with parameters={'act1 ': 'selu', 'act2': 'selu', 'act3': 'relu', 'lr': 0.0006000000000000001, 'batch_size': 8, 'hidden_dim1': 330.0, 'hidden_dim2': 210.0, 'hidden_dim3': 315.0}.\n",
            "Trial trainable_func_68ef98f2 reported epoch=6,loss=0.5419689666356677,should_checkpoint=True with parameters={'act1 ': 'selu', 'act2': 'relu', 'act3': 'tanh', 'lr': 0.0005, 'batch_size': 32, 'hidden_dim1': 300.0, 'hidden_dim2': 255.0, 'hidden_dim3': 135.0}.\n",
            "Trial trainable_func_6dc198a8 reported epoch=3,loss=0.6106170858517772,should_checkpoint=True with parameters={'act1 ': 'relu', 'act2': 'relu', 'act3': 'tanh', 'lr': 0.0006000000000000001, 'batch_size': 32, 'hidden_dim1': 120.0, 'hidden_dim2': 270.0, 'hidden_dim3': 180.0}.\n",
            "== Status ==\n",
            "Current time: 2022-07-26 14:23:00 (running for 00:11:44.69)\n",
            "Memory usage on this node: 2.5/12.7 GiB\n",
            "Using MedianStoppingRule: num_stopped=29.\n",
            "Resources requested: 2.0/2 CPUs, 0/0 GPUs, 0.0/7.47 GiB heap, 0.0/3.73 GiB objects\n",
            "Result logdir: /root/ray_results/trainable_func_2022-07-26_14-11-15\n",
            "Number of trials: 48/50 (6 PAUSED, 4 RUNNING, 38 TERMINATED)\n",
            "\n",
            "\n",
            "Trial trainable_func_67c7d50c reported epoch=9,loss=0.5885666422924543,should_checkpoint=True with parameters={'act1 ': 'tanh', 'act2': 'relu', 'act3': 'relu', 'lr': 0.0008, 'batch_size': 32, 'hidden_dim1': 165.0, 'hidden_dim2': 270.0, 'hidden_dim3': 255.0}. This trial completed.\n",
            "Trial trainable_func_68ef98f2 reported epoch=9,loss=0.523626242448036,should_checkpoint=True with parameters={'act1 ': 'selu', 'act2': 'relu', 'act3': 'tanh', 'lr': 0.0005, 'batch_size': 32, 'hidden_dim1': 300.0, 'hidden_dim2': 255.0, 'hidden_dim3': 135.0}.\n",
            "Trial trainable_func_6dc198a8 reported epoch=6,loss=0.6585609594796845,should_checkpoint=True with parameters={'act1 ': 'relu', 'act2': 'relu', 'act3': 'tanh', 'lr': 0.0006000000000000001, 'batch_size': 32, 'hidden_dim1': 120.0, 'hidden_dim2': 270.0, 'hidden_dim3': 180.0}.\n",
            "Trial trainable_func_753ca50a reported epoch=0,loss=0.7963499415595456,should_checkpoint=True with parameters={'act1 ': 'relu', 'act2': 'tanh', 'act3': 'tanh', 'lr': 0.0009000000000000001, 'batch_size': 64, 'hidden_dim1': 315.0, 'hidden_dim2': 255.0, 'hidden_dim3': 240.0}.\n",
            "Trial trainable_func_5eb6114a reported epoch=4,loss=0.7214326964288176,should_checkpoint=True with parameters={'act1 ': 'selu', 'act2': 'selu', 'act3': 'relu', 'lr': 0.0006000000000000001, 'batch_size': 8, 'hidden_dim1': 330.0, 'hidden_dim2': 210.0, 'hidden_dim3': 315.0}.\n",
            "== Status ==\n",
            "Current time: 2022-07-26 14:23:05 (running for 00:11:50.38)\n",
            "Memory usage on this node: 2.5/12.7 GiB\n",
            "Using MedianStoppingRule: num_stopped=30.\n",
            "Resources requested: 2.0/2 CPUs, 0/0 GPUs, 0.0/7.47 GiB heap, 0.0/3.73 GiB objects\n",
            "Result logdir: /root/ray_results/trainable_func_2022-07-26_14-11-15\n",
            "Number of trials: 49/50 (6 PAUSED, 4 RUNNING, 39 TERMINATED)\n",
            "\n",
            "\n",
            "Trial trainable_func_68ef98f2 reported epoch=10,loss=0.5432620075898882,should_checkpoint=True with parameters={'act1 ': 'selu', 'act2': 'relu', 'act3': 'tanh', 'lr': 0.0005, 'batch_size': 32, 'hidden_dim1': 300.0, 'hidden_dim2': 255.0, 'hidden_dim3': 135.0}. This trial completed.\n",
            "Trial trainable_func_6dc198a8 reported epoch=9,loss=0.6567031544322371,should_checkpoint=True with parameters={'act1 ': 'relu', 'act2': 'relu', 'act3': 'tanh', 'lr': 0.0006000000000000001, 'batch_size': 32, 'hidden_dim1': 120.0, 'hidden_dim2': 270.0, 'hidden_dim3': 180.0}. This trial completed.\n",
            "Trial trainable_func_7727d8d0 reported epoch=0,loss=0.7839593751104823,should_checkpoint=True with parameters={'act1 ': 'relu', 'act2': 'selu', 'act3': 'tanh', 'lr': 0.0007, 'batch_size': 16, 'hidden_dim1': 240.0, 'hidden_dim2': 195.0, 'hidden_dim3': 195.0}.\n"
          ]
        },
        {
          "output_type": "stream",
          "name": "stderr",
          "text": [
            "\u001b[2m\u001b[36m(func pid=245807)\u001b[0m 2022-07-26 14:23:09,612\tINFO trainable.py:589 -- Restored on 172.28.0.2 from checkpoint: /root/ray_results/trainable_func_2022-07-26_14-11-15/trainable_func_fa820e00_10_act1=selu,act2=tanh,act3=tanh,batch_size=16,hidden_dim1=285.0000,hidden_dim2=210.0000,hidden_dim3=195.0_2022-07-26_14-12-28/checkpoint_tmp94df62/./\n",
            "\u001b[2m\u001b[36m(func pid=245807)\u001b[0m 2022-07-26 14:23:09,613\tINFO trainable.py:597 -- Current state after restoring: {'_iteration': 10, '_timesteps_total': None, '_time_total': 36.052637815475464, '_episodes_total': None}\n"
          ]
        },
        {
          "output_type": "stream",
          "name": "stdout",
          "text": [
            "Trial trainable_func_753ca50a reported epoch=4,loss=0.5696459058744809,should_checkpoint=True with parameters={'act1 ': 'relu', 'act2': 'tanh', 'act3': 'tanh', 'lr': 0.0009000000000000001, 'batch_size': 64, 'hidden_dim1': 315.0, 'hidden_dim2': 255.0, 'hidden_dim3': 240.0}.\n",
            "== Status ==\n",
            "Current time: 2022-07-26 14:23:11 (running for 00:11:56.46)\n",
            "Memory usage on this node: 2.5/12.7 GiB\n",
            "Using MedianStoppingRule: num_stopped=32.\n",
            "Resources requested: 2.0/2 CPUs, 0/0 GPUs, 0.0/7.47 GiB heap, 0.0/3.73 GiB objects\n",
            "Result logdir: /root/ray_results/trainable_func_2022-07-26_14-11-15\n",
            "Number of trials: 50/50 (5 PAUSED, 4 RUNNING, 41 TERMINATED)\n",
            "\n",
            "\n",
            "Trial trainable_func_5eb6114a reported epoch=5,loss=0.6381334681735161,should_checkpoint=True with parameters={'act1 ': 'selu', 'act2': 'selu', 'act3': 'relu', 'lr': 0.0006000000000000001, 'batch_size': 8, 'hidden_dim1': 330.0, 'hidden_dim2': 210.0, 'hidden_dim3': 315.0}.\n",
            "Trial trainable_func_fa820e00 reported epoch=0,loss=0.30458277966310404,should_checkpoint=True with parameters={'act1 ': 'selu', 'act2': 'tanh', 'act3': 'tanh', 'lr': 0.001, 'batch_size': 16, 'hidden_dim1': 285.0, 'hidden_dim2': 210.0, 'hidden_dim3': 195.0}.\n",
            "Trial trainable_func_753ca50a reported epoch=8,loss=0.585711054501558,should_checkpoint=True with parameters={'act1 ': 'relu', 'act2': 'tanh', 'act3': 'tanh', 'lr': 0.0009000000000000001, 'batch_size': 64, 'hidden_dim1': 315.0, 'hidden_dim2': 255.0, 'hidden_dim3': 240.0}.\n",
            "Trial trainable_func_7727d8d0 reported epoch=2,loss=0.5953811040212935,should_checkpoint=True with parameters={'act1 ': 'relu', 'act2': 'selu', 'act3': 'tanh', 'lr': 0.0007, 'batch_size': 16, 'hidden_dim1': 240.0, 'hidden_dim2': 195.0, 'hidden_dim3': 195.0}.\n",
            "== Status ==\n",
            "Current time: 2022-07-26 14:23:16 (running for 00:12:01.55)\n",
            "Memory usage on this node: 2.5/12.7 GiB\n",
            "Using MedianStoppingRule: num_stopped=32.\n",
            "Resources requested: 2.0/2 CPUs, 0/0 GPUs, 0.0/7.47 GiB heap, 0.0/3.73 GiB objects\n",
            "Result logdir: /root/ray_results/trainable_func_2022-07-26_14-11-15\n",
            "Number of trials: 50/50 (5 PAUSED, 4 RUNNING, 41 TERMINATED)\n",
            "\n",
            "\n",
            "Trial trainable_func_753ca50a reported epoch=10,loss=0.6044468091276556,should_checkpoint=True with parameters={'act1 ': 'relu', 'act2': 'tanh', 'act3': 'tanh', 'lr': 0.0009000000000000001, 'batch_size': 64, 'hidden_dim1': 315.0, 'hidden_dim2': 255.0, 'hidden_dim3': 240.0}. This trial completed.\n"
          ]
        },
        {
          "output_type": "stream",
          "name": "stderr",
          "text": [
            "\u001b[2m\u001b[36m(func pid=245777)\u001b[0m 2022-07-26 14:23:19,525\tINFO trainable.py:589 -- Restored on 172.28.0.2 from checkpoint: /root/ray_results/trainable_func_2022-07-26_14-11-15/trainable_func_472bd182_11_act1=relu,act2=tanh,act3=relu,batch_size=64,hidden_dim1=135.0000,hidden_dim2=165.0000,hidden_dim3=210.0_2022-07-26_14-14-36/checkpoint_tmp08c206/./\n",
            "\u001b[2m\u001b[36m(func pid=245777)\u001b[0m 2022-07-26 14:23:19,525\tINFO trainable.py:597 -- Current state after restoring: {'_iteration': 11, '_timesteps_total': None, '_time_total': 16.60987949371338, '_episodes_total': None}\n"
          ]
        },
        {
          "output_type": "stream",
          "name": "stdout",
          "text": [
            "Trial trainable_func_5eb6114a reported epoch=6,loss=0.6891385079769945,should_checkpoint=True with parameters={'act1 ': 'selu', 'act2': 'selu', 'act3': 'relu', 'lr': 0.0006000000000000001, 'batch_size': 8, 'hidden_dim1': 330.0, 'hidden_dim2': 210.0, 'hidden_dim3': 315.0}.\n",
            "Trial trainable_func_fa820e00 reported epoch=2,loss=0.2309536230359086,should_checkpoint=True with parameters={'act1 ': 'selu', 'act2': 'tanh', 'act3': 'tanh', 'lr': 0.001, 'batch_size': 16, 'hidden_dim1': 285.0, 'hidden_dim2': 210.0, 'hidden_dim3': 195.0}.\n",
            "Trial trainable_func_472bd182 reported epoch=0,loss=0.3013922332541293,should_checkpoint=True with parameters={'act1 ': 'relu', 'act2': 'tanh', 'act3': 'relu', 'lr': 0.0007, 'batch_size': 64, 'hidden_dim1': 135.0, 'hidden_dim2': 165.0, 'hidden_dim3': 210.0}.\n"
          ]
        },
        {
          "output_type": "stream",
          "name": "stderr",
          "text": [
            "\u001b[2m\u001b[36m(func pid=245807)\u001b[0m 2022-07-26 14:23:21,257\tINFO trainable.py:589 -- Restored on 172.28.0.2 from checkpoint: /root/ray_results/trainable_func_2022-07-26_14-11-15/trainable_func_fa820e00_10_act1=selu,act2=tanh,act3=tanh,batch_size=16,hidden_dim1=285.0000,hidden_dim2=210.0000,hidden_dim3=195.0_2022-07-26_14-12-28/checkpoint_tmp1696a5/./\n",
            "\u001b[2m\u001b[36m(func pid=245807)\u001b[0m 2022-07-26 14:23:21,258\tINFO trainable.py:597 -- Current state after restoring: {'_iteration': 13, '_timesteps_total': None, '_time_total': 47.00652241706848, '_episodes_total': None}\n"
          ]
        },
        {
          "output_type": "stream",
          "name": "stdout",
          "text": [
            "== Status ==\n",
            "Current time: 2022-07-26 14:23:22 (running for 00:12:06.91)\n",
            "Memory usage on this node: 2.5/12.7 GiB\n",
            "Using MedianStoppingRule: num_stopped=33.\n",
            "Resources requested: 2.0/2 CPUs, 0/0 GPUs, 0.0/7.47 GiB heap, 0.0/3.73 GiB objects\n",
            "Result logdir: /root/ray_results/trainable_func_2022-07-26_14-11-15\n",
            "Number of trials: 50/50 (4 PAUSED, 4 RUNNING, 42 TERMINATED)\n",
            "\n",
            "\n",
            "Trial trainable_func_7727d8d0 reported epoch=4,loss=0.5486905918465964,should_checkpoint=True with parameters={'act1 ': 'relu', 'act2': 'selu', 'act3': 'tanh', 'lr': 0.0007, 'batch_size': 16, 'hidden_dim1': 240.0, 'hidden_dim2': 195.0, 'hidden_dim3': 195.0}.\n"
          ]
        },
        {
          "output_type": "stream",
          "name": "stderr",
          "text": [
            "\u001b[2m\u001b[36m(func pid=245777)\u001b[0m 2022-07-26 14:23:24,005\tINFO trainable.py:589 -- Restored on 172.28.0.2 from checkpoint: /root/ray_results/trainable_func_2022-07-26_14-11-15/trainable_func_472bd182_11_act1=relu,act2=tanh,act3=relu,batch_size=64,hidden_dim1=135.0000,hidden_dim2=165.0000,hidden_dim3=210.0_2022-07-26_14-14-36/checkpoint_tmp19ff0d/./\n",
            "\u001b[2m\u001b[36m(func pid=245777)\u001b[0m 2022-07-26 14:23:24,009\tINFO trainable.py:597 -- Current state after restoring: {'_iteration': 14, '_timesteps_total': None, '_time_total': 20.55316948890686, '_episodes_total': None}\n",
            "\u001b[2m\u001b[36m(func pid=245777)\u001b[0m 2022-07-26 14:23:25,920\tINFO trainable.py:589 -- Restored on 172.28.0.2 from checkpoint: /root/ray_results/trainable_func_2022-07-26_14-11-15/trainable_func_472bd182_11_act1=relu,act2=tanh,act3=relu,batch_size=64,hidden_dim1=135.0000,hidden_dim2=165.0000,hidden_dim3=210.0_2022-07-26_14-14-36/checkpoint_tmpdcb25b/./\n",
            "\u001b[2m\u001b[36m(func pid=245777)\u001b[0m 2022-07-26 14:23:25,920\tINFO trainable.py:597 -- Current state after restoring: {'_iteration': 15, '_timesteps_total': None, '_time_total': 21.827929973602295, '_episodes_total': None}\n"
          ]
        },
        {
          "output_type": "stream",
          "name": "stdout",
          "text": [
            "Trial trainable_func_472bd182 reported epoch=0,loss=0.2771905956019896,should_checkpoint=True with parameters={'act1 ': 'relu', 'act2': 'tanh', 'act3': 'relu', 'lr': 0.0007, 'batch_size': 64, 'hidden_dim1': 135.0, 'hidden_dim2': 165.0, 'hidden_dim3': 210.0}.\n",
            "== Status ==\n",
            "Current time: 2022-07-26 14:23:27 (running for 00:12:12.56)\n",
            "Memory usage on this node: 2.5/12.7 GiB\n",
            "Using MedianStoppingRule: num_stopped=33.\n",
            "Resources requested: 1.5/2 CPUs, 0/0 GPUs, 0.0/7.47 GiB heap, 0.0/3.73 GiB objects\n",
            "Result logdir: /root/ray_results/trainable_func_2022-07-26_14-11-15\n",
            "Number of trials: 50/50 (5 PAUSED, 3 RUNNING, 42 TERMINATED)\n",
            "\n",
            "\n",
            "Trial trainable_func_5eb6114a reported epoch=7,loss=0.6519545777623319,should_checkpoint=True with parameters={'act1 ': 'selu', 'act2': 'selu', 'act3': 'relu', 'lr': 0.0006000000000000001, 'batch_size': 8, 'hidden_dim1': 330.0, 'hidden_dim2': 210.0, 'hidden_dim3': 315.0}.\n"
          ]
        },
        {
          "output_type": "stream",
          "name": "stderr",
          "text": [
            "\u001b[2m\u001b[36m(func pid=245777)\u001b[0m 2022-07-26 14:23:27,993\tINFO trainable.py:589 -- Restored on 172.28.0.2 from checkpoint: /root/ray_results/trainable_func_2022-07-26_14-11-15/trainable_func_472bd182_11_act1=relu,act2=tanh,act3=relu,batch_size=64,hidden_dim1=135.0000,hidden_dim2=165.0000,hidden_dim3=210.0_2022-07-26_14-14-36/checkpoint_tmpf2faff/./\n",
            "\u001b[2m\u001b[36m(func pid=245777)\u001b[0m 2022-07-26 14:23:27,994\tINFO trainable.py:597 -- Current state after restoring: {'_iteration': 16, '_timesteps_total': None, '_time_total': 23.175297260284424, '_episodes_total': None}\n"
          ]
        },
        {
          "output_type": "stream",
          "name": "stdout",
          "text": [
            "Trial trainable_func_fa820e00 reported epoch=1,loss=0.19987880140759315,should_checkpoint=True with parameters={'act1 ': 'selu', 'act2': 'tanh', 'act3': 'tanh', 'lr': 0.001, 'batch_size': 16, 'hidden_dim1': 285.0, 'hidden_dim2': 210.0, 'hidden_dim3': 195.0}.\n",
            "Trial trainable_func_7727d8d0 reported epoch=6,loss=0.5566624449419947,should_checkpoint=True with parameters={'act1 ': 'relu', 'act2': 'selu', 'act3': 'tanh', 'lr': 0.0007, 'batch_size': 16, 'hidden_dim1': 240.0, 'hidden_dim2': 195.0, 'hidden_dim3': 195.0}.\n"
          ]
        },
        {
          "output_type": "stream",
          "name": "stderr",
          "text": [
            "\u001b[2m\u001b[36m(func pid=245777)\u001b[0m 2022-07-26 14:23:29,829\tINFO trainable.py:589 -- Restored on 172.28.0.2 from checkpoint: /root/ray_results/trainable_func_2022-07-26_14-11-15/trainable_func_472bd182_11_act1=relu,act2=tanh,act3=relu,batch_size=64,hidden_dim1=135.0000,hidden_dim2=165.0000,hidden_dim3=210.0_2022-07-26_14-14-36/checkpoint_tmpfa0f84/./\n",
            "\u001b[2m\u001b[36m(func pid=245777)\u001b[0m 2022-07-26 14:23:29,830\tINFO trainable.py:597 -- Current state after restoring: {'_iteration': 17, '_timesteps_total': None, '_time_total': 24.322846174240112, '_episodes_total': None}\n",
            "\u001b[2m\u001b[36m(func pid=245777)\u001b[0m 2022-07-26 14:23:31,726\tINFO trainable.py:589 -- Restored on 172.28.0.2 from checkpoint: /root/ray_results/trainable_func_2022-07-26_14-11-15/trainable_func_472bd182_11_act1=relu,act2=tanh,act3=relu,batch_size=64,hidden_dim1=135.0000,hidden_dim2=165.0000,hidden_dim3=210.0_2022-07-26_14-14-36/checkpoint_tmpce3c1c/./\n",
            "\u001b[2m\u001b[36m(func pid=245777)\u001b[0m 2022-07-26 14:23:31,726\tINFO trainable.py:597 -- Current state after restoring: {'_iteration': 18, '_timesteps_total': None, '_time_total': 25.616717100143433, '_episodes_total': None}\n"
          ]
        },
        {
          "output_type": "stream",
          "name": "stdout",
          "text": [
            "Trial trainable_func_472bd182 reported epoch=0,loss=0.2081386494914613,should_checkpoint=True with parameters={'act1 ': 'relu', 'act2': 'tanh', 'act3': 'relu', 'lr': 0.0007, 'batch_size': 64, 'hidden_dim1': 135.0, 'hidden_dim2': 165.0, 'hidden_dim3': 210.0}.\n",
            "== Status ==\n",
            "Current time: 2022-07-26 14:23:33 (running for 00:12:18.13)\n",
            "Memory usage on this node: 2.5/12.7 GiB\n",
            "Using MedianStoppingRule: num_stopped=33.\n",
            "Resources requested: 1.5/2 CPUs, 0/0 GPUs, 0.0/7.47 GiB heap, 0.0/3.73 GiB objects\n",
            "Result logdir: /root/ray_results/trainable_func_2022-07-26_14-11-15\n",
            "Number of trials: 50/50 (5 PAUSED, 3 RUNNING, 42 TERMINATED)\n",
            "\n",
            "\n"
          ]
        },
        {
          "output_type": "stream",
          "name": "stderr",
          "text": [
            "\u001b[2m\u001b[36m(func pid=245777)\u001b[0m 2022-07-26 14:23:33,559\tINFO trainable.py:589 -- Restored on 172.28.0.2 from checkpoint: /root/ray_results/trainable_func_2022-07-26_14-11-15/trainable_func_472bd182_11_act1=relu,act2=tanh,act3=relu,batch_size=64,hidden_dim1=135.0000,hidden_dim2=165.0000,hidden_dim3=210.0_2022-07-26_14-14-36/checkpoint_tmpa1f6ad/./\n",
            "\u001b[2m\u001b[36m(func pid=245777)\u001b[0m 2022-07-26 14:23:33,559\tINFO trainable.py:597 -- Current state after restoring: {'_iteration': 19, '_timesteps_total': None, '_time_total': 26.823200941085815, '_episodes_total': None}\n",
            "\u001b[2m\u001b[36m(func pid=245777)\u001b[0m 2022-07-26 14:23:35,295\tINFO trainable.py:589 -- Restored on 172.28.0.2 from checkpoint: /root/ray_results/trainable_func_2022-07-26_14-11-15/trainable_func_472bd182_11_act1=relu,act2=tanh,act3=relu,batch_size=64,hidden_dim1=135.0000,hidden_dim2=165.0000,hidden_dim3=210.0_2022-07-26_14-14-36/checkpoint_tmp67eb9d/./\n",
            "\u001b[2m\u001b[36m(func pid=245777)\u001b[0m 2022-07-26 14:23:35,295\tINFO trainable.py:597 -- Current state after restoring: {'_iteration': 20, '_timesteps_total': None, '_time_total': 27.78236699104309, '_episodes_total': None}\n"
          ]
        },
        {
          "output_type": "stream",
          "name": "stdout",
          "text": [
            "Trial trainable_func_5eb6114a reported epoch=8,loss=0.7225156326874101,should_checkpoint=True with parameters={'act1 ': 'selu', 'act2': 'selu', 'act3': 'relu', 'lr': 0.0006000000000000001, 'batch_size': 8, 'hidden_dim1': 330.0, 'hidden_dim2': 210.0, 'hidden_dim3': 315.0}.\n",
            "Trial trainable_func_fa820e00 reported epoch=3,loss=0.2101904952508138,should_checkpoint=True with parameters={'act1 ': 'selu', 'act2': 'tanh', 'act3': 'tanh', 'lr': 0.001, 'batch_size': 16, 'hidden_dim1': 285.0, 'hidden_dim2': 210.0, 'hidden_dim3': 195.0}.\n",
            "Trial trainable_func_7727d8d0 reported epoch=8,loss=0.5574064524158687,should_checkpoint=True with parameters={'act1 ': 'relu', 'act2': 'selu', 'act3': 'tanh', 'lr': 0.0007, 'batch_size': 16, 'hidden_dim1': 240.0, 'hidden_dim2': 195.0, 'hidden_dim3': 195.0}.\n"
          ]
        },
        {
          "output_type": "stream",
          "name": "stderr",
          "text": [
            "\u001b[2m\u001b[36m(func pid=245777)\u001b[0m 2022-07-26 14:23:37,344\tINFO trainable.py:589 -- Restored on 172.28.0.2 from checkpoint: /root/ray_results/trainable_func_2022-07-26_14-11-15/trainable_func_472bd182_11_act1=relu,act2=tanh,act3=relu,batch_size=64,hidden_dim1=135.0000,hidden_dim2=165.0000,hidden_dim3=210.0_2022-07-26_14-14-36/checkpoint_tmpd74015/./\n",
            "\u001b[2m\u001b[36m(func pid=245777)\u001b[0m 2022-07-26 14:23:37,344\tINFO trainable.py:597 -- Current state after restoring: {'_iteration': 21, '_timesteps_total': None, '_time_total': 29.20422625541687, '_episodes_total': None}\n"
          ]
        },
        {
          "output_type": "stream",
          "name": "stdout",
          "text": [
            "Trial trainable_func_472bd182 reported epoch=0,loss=0.16997064383981164,should_checkpoint=True with parameters={'act1 ': 'relu', 'act2': 'tanh', 'act3': 'relu', 'lr': 0.0007, 'batch_size': 64, 'hidden_dim1': 135.0, 'hidden_dim2': 165.0, 'hidden_dim3': 210.0}.\n",
            "== Status ==\n",
            "Current time: 2022-07-26 14:23:38 (running for 00:12:23.28)\n",
            "Memory usage on this node: 2.5/12.7 GiB\n",
            "Using MedianStoppingRule: num_stopped=33.\n",
            "Resources requested: 2.0/2 CPUs, 0/0 GPUs, 0.0/7.47 GiB heap, 0.0/3.73 GiB objects\n",
            "Result logdir: /root/ray_results/trainable_func_2022-07-26_14-11-15\n",
            "Number of trials: 50/50 (4 PAUSED, 4 RUNNING, 42 TERMINATED)\n",
            "\n",
            "\n"
          ]
        },
        {
          "output_type": "stream",
          "name": "stderr",
          "text": [
            "\u001b[2m\u001b[36m(func pid=245777)\u001b[0m 2022-07-26 14:23:39,143\tINFO trainable.py:589 -- Restored on 172.28.0.2 from checkpoint: /root/ray_results/trainable_func_2022-07-26_14-11-15/trainable_func_472bd182_11_act1=relu,act2=tanh,act3=relu,batch_size=64,hidden_dim1=135.0000,hidden_dim2=165.0000,hidden_dim3=210.0_2022-07-26_14-14-36/checkpoint_tmpf9c3c5/./\n",
            "\u001b[2m\u001b[36m(func pid=245777)\u001b[0m 2022-07-26 14:23:39,143\tINFO trainable.py:597 -- Current state after restoring: {'_iteration': 22, '_timesteps_total': None, '_time_total': 30.522061586380005, '_episodes_total': None}\n",
            "\u001b[2m\u001b[36m(func pid=245777)\u001b[0m 2022-07-26 14:23:40,844\tINFO trainable.py:589 -- Restored on 172.28.0.2 from checkpoint: /root/ray_results/trainable_func_2022-07-26_14-11-15/trainable_func_472bd182_11_act1=relu,act2=tanh,act3=relu,batch_size=64,hidden_dim1=135.0000,hidden_dim2=165.0000,hidden_dim3=210.0_2022-07-26_14-14-36/checkpoint_tmpe28451/./\n",
            "\u001b[2m\u001b[36m(func pid=245777)\u001b[0m 2022-07-26 14:23:40,844\tINFO trainable.py:597 -- Current state after restoring: {'_iteration': 23, '_timesteps_total': None, '_time_total': 31.65268874168396, '_episodes_total': None}\n",
            "\u001b[2m\u001b[36m(func pid=245777)\u001b[0m 2022-07-26 14:23:42,578\tINFO trainable.py:589 -- Restored on 172.28.0.2 from checkpoint: /root/ray_results/trainable_func_2022-07-26_14-11-15/trainable_func_472bd182_11_act1=relu,act2=tanh,act3=relu,batch_size=64,hidden_dim1=135.0000,hidden_dim2=165.0000,hidden_dim3=210.0_2022-07-26_14-14-36/checkpoint_tmp6e2ea0/./\n",
            "\u001b[2m\u001b[36m(func pid=245777)\u001b[0m 2022-07-26 14:23:42,578\tINFO trainable.py:597 -- Current state after restoring: {'_iteration': 24, '_timesteps_total': None, '_time_total': 32.85098648071289, '_episodes_total': None}\n",
            "\u001b[2m\u001b[36m(func pid=245736)\u001b[0m 2022-07-26 14:23:42,649\tINFO trainable.py:589 -- Restored on 172.28.0.2 from checkpoint: /root/ray_results/trainable_func_2022-07-26_14-11-15/trainable_func_4dbcb534_12_act1=tanh,act2=tanh,act3=selu,batch_size=64,hidden_dim1=210.0000,hidden_dim2=300.0000,hidden_dim3=300.0_2022-07-26_14-14-46/checkpoint_tmp7fbcb5/./\n",
            "\u001b[2m\u001b[36m(func pid=245736)\u001b[0m 2022-07-26 14:23:42,649\tINFO trainable.py:597 -- Current state after restoring: {'_iteration': 11, '_timesteps_total': None, '_time_total': 16.752049207687378, '_episodes_total': None}\n"
          ]
        },
        {
          "output_type": "stream",
          "name": "stdout",
          "text": [
            "Trial trainable_func_fa820e00 reported epoch=5,loss=0.214936359921006,should_checkpoint=True with parameters={'act1 ': 'selu', 'act2': 'tanh', 'act3': 'tanh', 'lr': 0.001, 'batch_size': 16, 'hidden_dim1': 285.0, 'hidden_dim2': 210.0, 'hidden_dim3': 195.0}.\n",
            "Trial trainable_func_5eb6114a reported epoch=9,loss=0.7049480693250993,should_checkpoint=True with parameters={'act1 ': 'selu', 'act2': 'selu', 'act3': 'relu', 'lr': 0.0006000000000000001, 'batch_size': 8, 'hidden_dim1': 330.0, 'hidden_dim2': 210.0, 'hidden_dim3': 315.0}. This trial completed.\n",
            "Trial trainable_func_472bd182 reported epoch=0,loss=0.13259782170247203,should_checkpoint=True with parameters={'act1 ': 'relu', 'act2': 'tanh', 'act3': 'relu', 'lr': 0.0007, 'batch_size': 64, 'hidden_dim1': 135.0, 'hidden_dim2': 165.0, 'hidden_dim3': 210.0}.\n",
            "== Status ==\n",
            "Current time: 2022-07-26 14:23:43 (running for 00:12:28.48)\n",
            "Memory usage on this node: 2.5/12.7 GiB\n",
            "Using MedianStoppingRule: num_stopped=34.\n",
            "Resources requested: 2.0/2 CPUs, 0/0 GPUs, 0.0/7.47 GiB heap, 0.0/3.73 GiB objects\n",
            "Result logdir: /root/ray_results/trainable_func_2022-07-26_14-11-15\n",
            "Number of trials: 50/50 (3 PAUSED, 4 RUNNING, 43 TERMINATED)\n",
            "\n",
            "\n",
            "Trial trainable_func_4dbcb534 reported epoch=0,loss=0.29040053876675337,should_checkpoint=True with parameters={'act1 ': 'tanh', 'act2': 'tanh', 'act3': 'selu', 'lr': 0.0009000000000000001, 'batch_size': 64, 'hidden_dim1': 210.0, 'hidden_dim2': 300.0, 'hidden_dim3': 300.0}.\n",
            "Trial trainable_func_7727d8d0 reported epoch=10,loss=0.5368443826841569,should_checkpoint=True with parameters={'act1 ': 'relu', 'act2': 'selu', 'act3': 'tanh', 'lr': 0.0007, 'batch_size': 16, 'hidden_dim1': 240.0, 'hidden_dim2': 195.0, 'hidden_dim3': 195.0}. This trial completed.\n"
          ]
        },
        {
          "output_type": "stream",
          "name": "stderr",
          "text": [
            "\u001b[2m\u001b[36m(func pid=245735)\u001b[0m 2022-07-26 14:23:44,514\tINFO trainable.py:589 -- Restored on 172.28.0.2 from checkpoint: /root/ray_results/trainable_func_2022-07-26_14-11-15/trainable_func_5d07de74_15_act1=selu,act2=tanh,act3=tanh,batch_size=16,hidden_dim1=300.0000,hidden_dim2=300.0000,hidden_dim3=240.0_2022-07-26_14-15-12/checkpoint_tmp6e4596/./\n",
            "\u001b[2m\u001b[36m(func pid=245735)\u001b[0m 2022-07-26 14:23:44,520\tINFO trainable.py:597 -- Current state after restoring: {'_iteration': 11, '_timesteps_total': None, '_time_total': 45.87620449066162, '_episodes_total': None}\n",
            "\u001b[2m\u001b[36m(func pid=245777)\u001b[0m 2022-07-26 14:23:44,468\tINFO trainable.py:589 -- Restored on 172.28.0.2 from checkpoint: /root/ray_results/trainable_func_2022-07-26_14-11-15/trainable_func_472bd182_11_act1=relu,act2=tanh,act3=relu,batch_size=64,hidden_dim1=135.0000,hidden_dim2=165.0000,hidden_dim3=210.0_2022-07-26_14-14-36/checkpoint_tmpd62313/./\n",
            "\u001b[2m\u001b[36m(func pid=245777)\u001b[0m 2022-07-26 14:23:44,469\tINFO trainable.py:597 -- Current state after restoring: {'_iteration': 25, '_timesteps_total': None, '_time_total': 34.139859199523926, '_episodes_total': None}\n",
            "\u001b[2m\u001b[36m(func pid=245777)\u001b[0m 2022-07-26 14:23:46,643\tINFO trainable.py:589 -- Restored on 172.28.0.2 from checkpoint: /root/ray_results/trainable_func_2022-07-26_14-11-15/trainable_func_472bd182_11_act1=relu,act2=tanh,act3=relu,batch_size=64,hidden_dim1=135.0000,hidden_dim2=165.0000,hidden_dim3=210.0_2022-07-26_14-14-36/checkpoint_tmp090d55/./\n",
            "\u001b[2m\u001b[36m(func pid=245777)\u001b[0m 2022-07-26 14:23:46,643\tINFO trainable.py:597 -- Current state after restoring: {'_iteration': 26, '_timesteps_total': None, '_time_total': 35.46887230873108, '_episodes_total': None}\n",
            "\u001b[2m\u001b[36m(func pid=245777)\u001b[0m 2022-07-26 14:23:48,623\tINFO trainable.py:589 -- Restored on 172.28.0.2 from checkpoint: /root/ray_results/trainable_func_2022-07-26_14-11-15/trainable_func_472bd182_11_act1=relu,act2=tanh,act3=relu,batch_size=64,hidden_dim1=135.0000,hidden_dim2=165.0000,hidden_dim3=210.0_2022-07-26_14-14-36/checkpoint_tmpe6f6e9/./\n",
            "\u001b[2m\u001b[36m(func pid=245777)\u001b[0m 2022-07-26 14:23:48,623\tINFO trainable.py:597 -- Current state after restoring: {'_iteration': 27, '_timesteps_total': None, '_time_total': 36.70416498184204, '_episodes_total': None}\n"
          ]
        },
        {
          "output_type": "stream",
          "name": "stdout",
          "text": [
            "Trial trainable_func_5d07de74 reported epoch=0,loss=0.272188537422102,should_checkpoint=True with parameters={'act1 ': 'selu', 'act2': 'tanh', 'act3': 'tanh', 'lr': 0.0008, 'batch_size': 16, 'hidden_dim1': 300.0, 'hidden_dim2': 300.0, 'hidden_dim3': 240.0}.\n",
            "Trial trainable_func_fa820e00 reported epoch=7,loss=0.23558776507103077,should_checkpoint=True with parameters={'act1 ': 'selu', 'act2': 'tanh', 'act3': 'tanh', 'lr': 0.001, 'batch_size': 16, 'hidden_dim1': 285.0, 'hidden_dim2': 210.0, 'hidden_dim3': 195.0}.\n",
            "== Status ==\n",
            "Current time: 2022-07-26 14:23:49 (running for 00:12:33.95)\n",
            "Memory usage on this node: 2.5/12.7 GiB\n",
            "Using MedianStoppingRule: num_stopped=35.\n",
            "Resources requested: 2.0/2 CPUs, 0/0 GPUs, 0.0/7.47 GiB heap, 0.0/3.73 GiB objects\n",
            "Result logdir: /root/ray_results/trainable_func_2022-07-26_14-11-15\n",
            "Number of trials: 50/50 (2 PAUSED, 4 RUNNING, 44 TERMINATED)\n",
            "\n",
            "\n",
            "Trial trainable_func_472bd182 reported epoch=0,loss=0.12200397064542597,should_checkpoint=True with parameters={'act1 ': 'relu', 'act2': 'tanh', 'act3': 'relu', 'lr': 0.0007, 'batch_size': 64, 'hidden_dim1': 135.0, 'hidden_dim2': 165.0, 'hidden_dim3': 210.0}.\n",
            "Trial trainable_func_4dbcb534 reported epoch=4,loss=0.30337103259960596,should_checkpoint=True with parameters={'act1 ': 'tanh', 'act2': 'tanh', 'act3': 'selu', 'lr': 0.0009000000000000001, 'batch_size': 64, 'hidden_dim1': 210.0, 'hidden_dim2': 300.0, 'hidden_dim3': 300.0}.\n"
          ]
        },
        {
          "output_type": "stream",
          "name": "stderr",
          "text": [
            "\u001b[2m\u001b[36m(func pid=245777)\u001b[0m 2022-07-26 14:23:50,409\tINFO trainable.py:589 -- Restored on 172.28.0.2 from checkpoint: /root/ray_results/trainable_func_2022-07-26_14-11-15/trainable_func_472bd182_11_act1=relu,act2=tanh,act3=relu,batch_size=64,hidden_dim1=135.0000,hidden_dim2=165.0000,hidden_dim3=210.0_2022-07-26_14-14-36/checkpoint_tmp1d1b95/./\n",
            "\u001b[2m\u001b[36m(func pid=245777)\u001b[0m 2022-07-26 14:23:50,409\tINFO trainable.py:597 -- Current state after restoring: {'_iteration': 28, '_timesteps_total': None, '_time_total': 37.881643533706665, '_episodes_total': None}\n"
          ]
        },
        {
          "output_type": "stream",
          "name": "stdout",
          "text": [
            "Trial trainable_func_4dbcb534 reported epoch=5,loss=0.33670521538097214,should_checkpoint=True with parameters={'act1 ': 'tanh', 'act2': 'tanh', 'act3': 'selu', 'lr': 0.0009000000000000001, 'batch_size': 64, 'hidden_dim1': 210.0, 'hidden_dim2': 300.0, 'hidden_dim3': 300.0}. This trial completed.\n"
          ]
        },
        {
          "output_type": "stream",
          "name": "stderr",
          "text": [
            "\u001b[2m\u001b[36m(func pid=245777)\u001b[0m 2022-07-26 14:23:52,083\tINFO trainable.py:589 -- Restored on 172.28.0.2 from checkpoint: /root/ray_results/trainable_func_2022-07-26_14-11-15/trainable_func_472bd182_11_act1=relu,act2=tanh,act3=relu,batch_size=64,hidden_dim1=135.0000,hidden_dim2=165.0000,hidden_dim3=210.0_2022-07-26_14-14-36/checkpoint_tmp916d74/./\n",
            "\u001b[2m\u001b[36m(func pid=245777)\u001b[0m 2022-07-26 14:23:52,083\tINFO trainable.py:597 -- Current state after restoring: {'_iteration': 29, '_timesteps_total': None, '_time_total': 39.05385208129883, '_episodes_total': None}\n",
            "\u001b[2m\u001b[36m(func pid=245736)\u001b[0m 2022-07-26 14:23:52,119\tINFO trainable.py:589 -- Restored on 172.28.0.2 from checkpoint: /root/ray_results/trainable_func_2022-07-26_14-11-15/trainable_func_a2bc88fc_18_act1=tanh,act2=relu,act3=selu,batch_size=16,hidden_dim1=225.0000,hidden_dim2=165.0000,hidden_dim3=165.0_2022-07-26_14-17-09/checkpoint_tmpea568f/./\n",
            "\u001b[2m\u001b[36m(func pid=245736)\u001b[0m 2022-07-26 14:23:52,122\tINFO trainable.py:597 -- Current state after restoring: {'_iteration': 12, '_timesteps_total': None, '_time_total': 37.89712190628052, '_episodes_total': None}\n",
            "\u001b[2m\u001b[36m(func pid=245777)\u001b[0m 2022-07-26 14:23:54,030\tINFO trainable.py:589 -- Restored on 172.28.0.2 from checkpoint: /root/ray_results/trainable_func_2022-07-26_14-11-15/trainable_func_472bd182_11_act1=relu,act2=tanh,act3=relu,batch_size=64,hidden_dim1=135.0000,hidden_dim2=165.0000,hidden_dim3=210.0_2022-07-26_14-14-36/checkpoint_tmp994177/./\n",
            "\u001b[2m\u001b[36m(func pid=245777)\u001b[0m 2022-07-26 14:23:54,031\tINFO trainable.py:597 -- Current state after restoring: {'_iteration': 30, '_timesteps_total': None, '_time_total': 40.394026041030884, '_episodes_total': None}\n"
          ]
        },
        {
          "output_type": "stream",
          "name": "stdout",
          "text": [
            "Trial trainable_func_472bd182 reported epoch=0,loss=0.08927265532291347,should_checkpoint=True with parameters={'act1 ': 'relu', 'act2': 'tanh', 'act3': 'relu', 'lr': 0.0007, 'batch_size': 64, 'hidden_dim1': 135.0, 'hidden_dim2': 165.0, 'hidden_dim3': 210.0}.\n",
            "== Status ==\n",
            "Current time: 2022-07-26 14:23:55 (running for 00:12:39.71)\n",
            "Memory usage on this node: 2.5/12.7 GiB\n",
            "Using MedianStoppingRule: num_stopped=36.\n",
            "Resources requested: 2.0/2 CPUs, 0/0 GPUs, 0.0/7.47 GiB heap, 0.0/3.73 GiB objects\n",
            "Result logdir: /root/ray_results/trainable_func_2022-07-26_14-11-15\n",
            "Number of trials: 50/50 (1 PAUSED, 4 RUNNING, 45 TERMINATED)\n",
            "\n",
            "\n",
            "Trial trainable_func_a2bc88fc reported epoch=0,loss=0.23603798458634725,should_checkpoint=True with parameters={'act1 ': 'tanh', 'act2': 'relu', 'act3': 'selu', 'lr': 0.0006000000000000001, 'batch_size': 16, 'hidden_dim1': 225.0, 'hidden_dim2': 165.0, 'hidden_dim3': 165.0}.\n"
          ]
        },
        {
          "output_type": "stream",
          "name": "stderr",
          "text": [
            "\u001b[2m\u001b[36m(func pid=245777)\u001b[0m 2022-07-26 14:23:55,628\tINFO trainable.py:589 -- Restored on 172.28.0.2 from checkpoint: /root/ray_results/trainable_func_2022-07-26_14-11-15/trainable_func_472bd182_11_act1=relu,act2=tanh,act3=relu,batch_size=64,hidden_dim1=135.0000,hidden_dim2=165.0000,hidden_dim3=210.0_2022-07-26_14-14-36/checkpoint_tmpe515e1/./\n",
            "\u001b[2m\u001b[36m(func pid=245777)\u001b[0m 2022-07-26 14:23:55,629\tINFO trainable.py:597 -- Current state after restoring: {'_iteration': 31, '_timesteps_total': None, '_time_total': 41.463823556900024, '_episodes_total': None}\n"
          ]
        },
        {
          "output_type": "stream",
          "name": "stdout",
          "text": [
            "Trial trainable_func_fa820e00 reported epoch=9,loss=0.25142588665606536,should_checkpoint=True with parameters={'act1 ': 'selu', 'act2': 'tanh', 'act3': 'tanh', 'lr': 0.001, 'batch_size': 16, 'hidden_dim1': 285.0, 'hidden_dim2': 210.0, 'hidden_dim3': 195.0}.\n",
            "Trial trainable_func_5d07de74 reported epoch=2,loss=0.23937518959523055,should_checkpoint=True with parameters={'act1 ': 'selu', 'act2': 'tanh', 'act3': 'tanh', 'lr': 0.0008, 'batch_size': 16, 'hidden_dim1': 300.0, 'hidden_dim2': 300.0, 'hidden_dim3': 240.0}.\n"
          ]
        },
        {
          "output_type": "stream",
          "name": "stderr",
          "text": [
            "\u001b[2m\u001b[36m(func pid=245777)\u001b[0m 2022-07-26 14:23:57,490\tINFO trainable.py:589 -- Restored on 172.28.0.2 from checkpoint: /root/ray_results/trainable_func_2022-07-26_14-11-15/trainable_func_472bd182_11_act1=relu,act2=tanh,act3=relu,batch_size=64,hidden_dim1=135.0000,hidden_dim2=165.0000,hidden_dim3=210.0_2022-07-26_14-14-36/checkpoint_tmpc90a44/./\n",
            "\u001b[2m\u001b[36m(func pid=245777)\u001b[0m 2022-07-26 14:23:57,490\tINFO trainable.py:597 -- Current state after restoring: {'_iteration': 32, '_timesteps_total': None, '_time_total': 42.77587890625, '_episodes_total': None}\n",
            "\u001b[2m\u001b[36m(func pid=245777)\u001b[0m 2022-07-26 14:23:59,305\tINFO trainable.py:589 -- Restored on 172.28.0.2 from checkpoint: /root/ray_results/trainable_func_2022-07-26_14-11-15/trainable_func_472bd182_11_act1=relu,act2=tanh,act3=relu,batch_size=64,hidden_dim1=135.0000,hidden_dim2=165.0000,hidden_dim3=210.0_2022-07-26_14-14-36/checkpoint_tmp75b0f4/./\n",
            "\u001b[2m\u001b[36m(func pid=245777)\u001b[0m 2022-07-26 14:23:59,305\tINFO trainable.py:597 -- Current state after restoring: {'_iteration': 33, '_timesteps_total': None, '_time_total': 43.96356391906738, '_episodes_total': None}\n"
          ]
        },
        {
          "output_type": "stream",
          "name": "stdout",
          "text": [
            "Trial trainable_func_472bd182 reported epoch=0,loss=0.0985094331272271,should_checkpoint=True with parameters={'act1 ': 'relu', 'act2': 'tanh', 'act3': 'relu', 'lr': 0.0007, 'batch_size': 64, 'hidden_dim1': 135.0, 'hidden_dim2': 165.0, 'hidden_dim3': 210.0}.\n",
            "== Status ==\n",
            "Current time: 2022-07-26 14:24:00 (running for 00:12:45.09)\n",
            "Memory usage on this node: 2.5/12.7 GiB\n",
            "Using MedianStoppingRule: num_stopped=36.\n",
            "Resources requested: 2.0/2 CPUs, 0/0 GPUs, 0.0/7.47 GiB heap, 0.0/3.73 GiB objects\n",
            "Result logdir: /root/ray_results/trainable_func_2022-07-26_14-11-15\n",
            "Number of trials: 50/50 (1 PAUSED, 4 RUNNING, 45 TERMINATED)\n",
            "\n",
            "\n"
          ]
        },
        {
          "output_type": "stream",
          "name": "stderr",
          "text": [
            "\u001b[2m\u001b[36m(func pid=245777)\u001b[0m 2022-07-26 14:24:01,207\tINFO trainable.py:589 -- Restored on 172.28.0.2 from checkpoint: /root/ray_results/trainable_func_2022-07-26_14-11-15/trainable_func_472bd182_11_act1=relu,act2=tanh,act3=relu,batch_size=64,hidden_dim1=135.0000,hidden_dim2=165.0000,hidden_dim3=210.0_2022-07-26_14-14-36/checkpoint_tmpd159c0/./\n",
            "\u001b[2m\u001b[36m(func pid=245777)\u001b[0m 2022-07-26 14:24:01,207\tINFO trainable.py:597 -- Current state after restoring: {'_iteration': 34, '_timesteps_total': None, '_time_total': 45.14581251144409, '_episodes_total': None}\n"
          ]
        },
        {
          "output_type": "stream",
          "name": "stdout",
          "text": [
            "Trial trainable_func_a2bc88fc reported epoch=2,loss=0.1788188423121795,should_checkpoint=True with parameters={'act1 ': 'tanh', 'act2': 'relu', 'act3': 'selu', 'lr': 0.0006000000000000001, 'batch_size': 16, 'hidden_dim1': 225.0, 'hidden_dim2': 165.0, 'hidden_dim3': 165.0}.\n",
            "Trial trainable_func_fa820e00 reported epoch=11,loss=0.24256655652649442,should_checkpoint=True with parameters={'act1 ': 'selu', 'act2': 'tanh', 'act3': 'tanh', 'lr': 0.001, 'batch_size': 16, 'hidden_dim1': 285.0, 'hidden_dim2': 210.0, 'hidden_dim3': 195.0}.\n"
          ]
        },
        {
          "output_type": "stream",
          "name": "stderr",
          "text": [
            "\u001b[2m\u001b[36m(func pid=245777)\u001b[0m 2022-07-26 14:24:02,921\tINFO trainable.py:589 -- Restored on 172.28.0.2 from checkpoint: /root/ray_results/trainable_func_2022-07-26_14-11-15/trainable_func_472bd182_11_act1=relu,act2=tanh,act3=relu,batch_size=64,hidden_dim1=135.0000,hidden_dim2=165.0000,hidden_dim3=210.0_2022-07-26_14-14-36/checkpoint_tmp96f6f7/./\n",
            "\u001b[2m\u001b[36m(func pid=245777)\u001b[0m 2022-07-26 14:24:02,921\tINFO trainable.py:597 -- Current state after restoring: {'_iteration': 35, '_timesteps_total': None, '_time_total': 46.304136753082275, '_episodes_total': None}\n",
            "\u001b[2m\u001b[36m(func pid=245777)\u001b[0m 2022-07-26 14:24:04,993\tINFO trainable.py:589 -- Restored on 172.28.0.2 from checkpoint: /root/ray_results/trainable_func_2022-07-26_14-11-15/trainable_func_472bd182_11_act1=relu,act2=tanh,act3=relu,batch_size=64,hidden_dim1=135.0000,hidden_dim2=165.0000,hidden_dim3=210.0_2022-07-26_14-14-36/checkpoint_tmp0210e2/./\n",
            "\u001b[2m\u001b[36m(func pid=245777)\u001b[0m 2022-07-26 14:24:04,993\tINFO trainable.py:597 -- Current state after restoring: {'_iteration': 36, '_timesteps_total': None, '_time_total': 47.60747718811035, '_episodes_total': None}\n"
          ]
        },
        {
          "output_type": "stream",
          "name": "stdout",
          "text": [
            "Trial trainable_func_5d07de74 reported epoch=4,loss=0.2717257941905809,should_checkpoint=True with parameters={'act1 ': 'selu', 'act2': 'tanh', 'act3': 'tanh', 'lr': 0.0008, 'batch_size': 16, 'hidden_dim1': 300.0, 'hidden_dim2': 300.0, 'hidden_dim3': 240.0}.\n",
            "Trial trainable_func_472bd182 reported epoch=0,loss=0.06360775820600668,should_checkpoint=True with parameters={'act1 ': 'relu', 'act2': 'tanh', 'act3': 'relu', 'lr': 0.0007, 'batch_size': 64, 'hidden_dim1': 135.0, 'hidden_dim2': 165.0, 'hidden_dim3': 210.0}.\n",
            "== Status ==\n",
            "Current time: 2022-07-26 14:24:06 (running for 00:12:50.72)\n",
            "Memory usage on this node: 2.5/12.7 GiB\n",
            "Using MedianStoppingRule: num_stopped=36.\n",
            "Resources requested: 2.0/2 CPUs, 0/0 GPUs, 0.0/7.47 GiB heap, 0.0/3.73 GiB objects\n",
            "Result logdir: /root/ray_results/trainable_func_2022-07-26_14-11-15\n",
            "Number of trials: 50/50 (1 PAUSED, 4 RUNNING, 45 TERMINATED)\n",
            "\n",
            "\n"
          ]
        },
        {
          "output_type": "stream",
          "name": "stderr",
          "text": [
            "\u001b[2m\u001b[36m(func pid=245777)\u001b[0m 2022-07-26 14:24:06,614\tINFO trainable.py:589 -- Restored on 172.28.0.2 from checkpoint: /root/ray_results/trainable_func_2022-07-26_14-11-15/trainable_func_472bd182_11_act1=relu,act2=tanh,act3=relu,batch_size=64,hidden_dim1=135.0000,hidden_dim2=165.0000,hidden_dim3=210.0_2022-07-26_14-14-36/checkpoint_tmpfcd7d3/./\n",
            "\u001b[2m\u001b[36m(func pid=245777)\u001b[0m 2022-07-26 14:24:06,614\tINFO trainable.py:597 -- Current state after restoring: {'_iteration': 37, '_timesteps_total': None, '_time_total': 48.72539925575256, '_episodes_total': None}\n",
            "\u001b[2m\u001b[36m(func pid=245807)\u001b[0m 2022-07-26 14:24:06,692\tINFO trainable.py:589 -- Restored on 172.28.0.2 from checkpoint: /root/ray_results/trainable_func_2022-07-26_14-11-15/trainable_func_f5694ac2_25_act1=selu,act2=selu,act3=relu,batch_size=32,hidden_dim1=255.0000,hidden_dim2=285.0000,hidden_dim3=255.0_2022-07-26_14-19-28/checkpoint_tmpa6b834/./\n",
            "\u001b[2m\u001b[36m(func pid=245807)\u001b[0m 2022-07-26 14:24:06,692\tINFO trainable.py:597 -- Current state after restoring: {'_iteration': 12, '_timesteps_total': None, '_time_total': 28.616602659225464, '_episodes_total': None}\n"
          ]
        },
        {
          "output_type": "stream",
          "name": "stdout",
          "text": [
            "Trial trainable_func_fa820e00 reported epoch=12,loss=0.27679266045061196,should_checkpoint=True with parameters={'act1 ': 'selu', 'act2': 'tanh', 'act3': 'tanh', 'lr': 0.001, 'batch_size': 16, 'hidden_dim1': 285.0, 'hidden_dim2': 210.0, 'hidden_dim3': 195.0}. This trial completed.\n",
            "Trial trainable_func_f5694ac2 reported epoch=0,loss=0.36414568881251863,should_checkpoint=True with parameters={'act1 ': 'selu', 'act2': 'selu', 'act3': 'relu', 'lr': 0.0006000000000000001, 'batch_size': 32, 'hidden_dim1': 255.0, 'hidden_dim2': 285.0, 'hidden_dim3': 255.0}. This trial completed.\n",
            "Trial trainable_func_a2bc88fc reported epoch=4,loss=0.19746516554824217,should_checkpoint=True with parameters={'act1 ': 'tanh', 'act2': 'relu', 'act3': 'selu', 'lr': 0.0006000000000000001, 'batch_size': 16, 'hidden_dim1': 225.0, 'hidden_dim2': 165.0, 'hidden_dim3': 165.0}.\n",
            "Trial trainable_func_472bd182 reported epoch=4,loss=0.09162360863772616,should_checkpoint=True with parameters={'act1 ': 'relu', 'act2': 'tanh', 'act3': 'relu', 'lr': 0.0007, 'batch_size': 64, 'hidden_dim1': 135.0, 'hidden_dim2': 165.0, 'hidden_dim3': 210.0}.\n",
            "== Status ==\n",
            "Current time: 2022-07-26 14:24:11 (running for 00:12:56.28)\n",
            "Memory usage on this node: 2.3/12.7 GiB\n",
            "Using MedianStoppingRule: num_stopped=38.\n",
            "Resources requested: 1.5/2 CPUs, 0/0 GPUs, 0.0/7.47 GiB heap, 0.0/3.73 GiB objects\n",
            "Result logdir: /root/ray_results/trainable_func_2022-07-26_14-11-15\n",
            "Number of trials: 50/50 (3 RUNNING, 47 TERMINATED)\n",
            "\n",
            "\n",
            "Trial trainable_func_5d07de74 reported epoch=6,loss=0.2791626922977232,should_checkpoint=True with parameters={'act1 ': 'selu', 'act2': 'tanh', 'act3': 'tanh', 'lr': 0.0008, 'batch_size': 16, 'hidden_dim1': 300.0, 'hidden_dim2': 300.0, 'hidden_dim3': 240.0}.\n",
            "Trial trainable_func_a2bc88fc reported epoch=6,loss=0.1928106591867498,should_checkpoint=True with parameters={'act1 ': 'tanh', 'act2': 'relu', 'act3': 'selu', 'lr': 0.0006000000000000001, 'batch_size': 16, 'hidden_dim1': 225.0, 'hidden_dim2': 165.0, 'hidden_dim3': 165.0}.\n",
            "== Status ==\n",
            "Current time: 2022-07-26 14:24:16 (running for 00:13:01.43)\n",
            "Memory usage on this node: 4.9/12.7 GiB\n",
            "Using MedianStoppingRule: num_stopped=38.\n",
            "Resources requested: 1.5/2 CPUs, 0/0 GPUs, 0.0/7.47 GiB heap, 0.0/3.73 GiB objects\n",
            "Result logdir: /root/ray_results/trainable_func_2022-07-26_14-11-15\n",
            "Number of trials: 50/50 (3 RUNNING, 47 TERMINATED)\n",
            "\n",
            "\n",
            "Trial trainable_func_472bd182 reported epoch=9,loss=0.09599683773379758,should_checkpoint=True with parameters={'act1 ': 'relu', 'act2': 'tanh', 'act3': 'relu', 'lr': 0.0007, 'batch_size': 64, 'hidden_dim1': 135.0, 'hidden_dim2': 165.0, 'hidden_dim3': 210.0}.\n",
            "Trial trainable_func_5d07de74 reported epoch=8,loss=0.2728256323660799,should_checkpoint=True with parameters={'act1 ': 'selu', 'act2': 'tanh', 'act3': 'tanh', 'lr': 0.0008, 'batch_size': 16, 'hidden_dim1': 300.0, 'hidden_dim2': 300.0, 'hidden_dim3': 240.0}.\n",
            "Trial trainable_func_472bd182 reported epoch=12,loss=0.10985122797183103,should_checkpoint=True with parameters={'act1 ': 'relu', 'act2': 'tanh', 'act3': 'relu', 'lr': 0.0007, 'batch_size': 64, 'hidden_dim1': 135.0, 'hidden_dim2': 165.0, 'hidden_dim3': 210.0}. This trial completed.\n",
            "== Status ==\n",
            "Current time: 2022-07-26 14:24:22 (running for 00:13:07.13)\n",
            "Memory usage on this node: 6.3/12.7 GiB\n",
            "Using MedianStoppingRule: num_stopped=38.\n",
            "Resources requested: 1.5/2 CPUs, 0/0 GPUs, 0.0/7.47 GiB heap, 0.0/3.73 GiB objects\n",
            "Result logdir: /root/ray_results/trainable_func_2022-07-26_14-11-15\n",
            "Number of trials: 50/50 (3 RUNNING, 47 TERMINATED)\n",
            "\n",
            "\n",
            "Trial trainable_func_a2bc88fc reported epoch=8,loss=0.20759789660799996,should_checkpoint=True with parameters={'act1 ': 'tanh', 'act2': 'relu', 'act3': 'selu', 'lr': 0.0006000000000000001, 'batch_size': 16, 'hidden_dim1': 225.0, 'hidden_dim2': 165.0, 'hidden_dim3': 165.0}.\n",
            "Trial trainable_func_5d07de74 reported epoch=10,loss=0.2922136828433853,should_checkpoint=True with parameters={'act1 ': 'selu', 'act2': 'tanh', 'act3': 'tanh', 'lr': 0.0008, 'batch_size': 16, 'hidden_dim1': 300.0, 'hidden_dim2': 300.0, 'hidden_dim3': 240.0}. This trial completed.\n",
            "== Status ==\n",
            "Current time: 2022-07-26 14:24:27 (running for 00:13:12.28)\n",
            "Memory usage on this node: 1.9/12.7 GiB\n",
            "Using MedianStoppingRule: num_stopped=39.\n",
            "Resources requested: 0.5/2 CPUs, 0/0 GPUs, 0.0/7.47 GiB heap, 0.0/3.73 GiB objects\n",
            "Result logdir: /root/ray_results/trainable_func_2022-07-26_14-11-15\n",
            "Number of trials: 50/50 (1 RUNNING, 49 TERMINATED)\n",
            "\n",
            "\n",
            "Trial trainable_func_a2bc88fc reported epoch=13,loss=0.2153603807532788,should_checkpoint=True with parameters={'act1 ': 'tanh', 'act2': 'relu', 'act3': 'selu', 'lr': 0.0006000000000000001, 'batch_size': 16, 'hidden_dim1': 225.0, 'hidden_dim2': 165.0, 'hidden_dim3': 165.0}.\n"
          ]
        },
        {
          "output_type": "stream",
          "name": "stderr",
          "text": [
            "2022-07-26 14:24:32,200\tINFO tune.py:748 -- Total run time: 796.85 seconds (796.64 seconds for the tuning loop).\n"
          ]
        },
        {
          "output_type": "stream",
          "name": "stdout",
          "text": [
            "Trial trainable_func_a2bc88fc reported epoch=16,loss=0.2182900312341481,should_checkpoint=True with parameters={'act1 ': 'tanh', 'act2': 'relu', 'act3': 'selu', 'lr': 0.0006000000000000001, 'batch_size': 16, 'hidden_dim1': 225.0, 'hidden_dim2': 165.0, 'hidden_dim3': 165.0}. This trial completed.\n",
            "== Status ==\n",
            "Current time: 2022-07-26 14:24:32 (running for 00:13:16.66)\n",
            "Memory usage on this node: 1.8/12.7 GiB\n",
            "Using MedianStoppingRule: num_stopped=40.\n",
            "Resources requested: 0/2 CPUs, 0/0 GPUs, 0.0/7.47 GiB heap, 0.0/3.73 GiB objects\n",
            "Result logdir: /root/ray_results/trainable_func_2022-07-26_14-11-15\n",
            "Number of trials: 50/50 (50 TERMINATED)\n",
            "+-------------------------+------------+-------------------+---------+--------+--------+--------------+---------------+---------------+---------------+--------+-----------+----------------------+\n",
            "| Trial name              | status     | loc               | act1    | act2   | act3   |   batch_size |   hidden_dim1 |   hidden_dim2 |   hidden_dim3 |     lr |      loss |   training_iteration |\n",
            "|-------------------------+------------+-------------------+---------+--------+--------+--------------+---------------+---------------+---------------+--------+-----------+----------------------|\n",
            "| trainable_func_cfa7bf40 | TERMINATED | 172.28.0.2:245807 | tanh    | selu   | relu   |           32 |           165 |           300 |           225 | 0.0007 | 0.0442139 |                   50 |\n",
            "| trainable_func_cfcb9fe6 | TERMINATED | 172.28.0.2:245735 | relu    | tanh   | selu   |           64 |           195 |           285 |           255 | 0.0005 | 0.0516563 |                   50 |\n",
            "| trainable_func_cfd5408c | TERMINATED | 172.28.0.2:245777 | relu    | selu   | tanh   |           32 |           135 |           315 |           165 | 0.0006 | 0.0676338 |                   50 |\n",
            "| trainable_func_cfddfd3a | TERMINATED | 172.28.0.2:245736 | tanh    | selu   | tanh   |           32 |           165 |           210 |           300 | 0.0006 | 0.0507283 |                   50 |\n",
            "| trainable_func_cfe888ea | TERMINATED | 172.28.0.2:245735 | tanh    | tanh   | selu   |            8 |           270 |           300 |           165 | 0.0009 | 0.0631443 |                   50 |\n",
            "| trainable_func_e1d34c66 | TERMINATED | 172.28.0.2:245807 | tanh    | relu   | tanh   |           32 |           240 |           285 |           285 | 0.0006 | 0.0246101 |                   50 |\n",
            "| trainable_func_e7a9dc7c | TERMINATED | 172.28.0.2:245736 | selu    | tanh   | selu   |            8 |           255 |           135 |           270 | 0.0009 | 0.0623243 |                   50 |\n",
            "| trainable_func_ea51ef14 | TERMINATED | 172.28.0.2:245777 | tanh    | tanh   | selu   |           32 |           195 |           165 |           195 | 0.0006 | 0.0315483 |                   50 |\n",
            "| trainable_func_eb88ecac | TERMINATED | 172.28.0.2:245777 | tanh    | selu   | relu   |           16 |           240 |           240 |           120 | 0.0006 | 0.0565314 |                   50 |\n",
            "| trainable_func_fa820e00 | TERMINATED | 172.28.0.2:245807 | selu    | tanh   | tanh   |           16 |           285 |           210 |           195 | 0.001  | 0.276793  |                   26 |\n",
            "| trainable_func_472bd182 | TERMINATED | 172.28.0.2:245777 | relu    | tanh   | relu   |           64 |           135 |           165 |           210 | 0.0007 | 0.109851  |                   50 |\n",
            "| trainable_func_4dbcb534 | TERMINATED | 172.28.0.2:245736 | tanh    | tanh   | selu   |           64 |           210 |           300 |           300 | 0.0009 | 0.336705  |                   17 |\n",
            "| trainable_func_50cc8af6 | TERMINATED | 172.28.0.2:245777 | tanh    | tanh   | selu   |            8 |           270 |           300 |           225 | 0.0006 | 0.532582  |                   11 |\n",
            "| trainable_func_51858e7a | TERMINATED | 172.28.0.2:245736 | selu    | relu   | selu   |           32 |           210 |           150 |           300 | 0.0007 | 0.635908  |                   10 |\n",
            "| trainable_func_5d07de74 | TERMINATED | 172.28.0.2:245735 | selu    | tanh   | tanh   |           16 |           300 |           300 |           240 | 0.0008 | 0.292214  |                   22 |\n",
            "| trainable_func_806a7b6a | TERMINATED | 172.28.0.2:245777 | tanh    | relu   | relu   |            8 |           180 |           165 |           150 | 0.0007 | 0.62402   |                   10 |\n",
            "| trainable_func_a0db98f2 | TERMINATED | 172.28.0.2:245807 | selu    | tanh   | selu   |           64 |           240 |           195 |           255 | 0.0009 | 0.536004  |                   11 |\n",
            "| trainable_func_a2bc88fc | TERMINATED | 172.28.0.2:245736 | tanh    | relu   | selu   |           16 |           225 |           165 |           165 | 0.0006 | 0.21829   |                   29 |\n",
            "| trainable_func_a9bbe71a | TERMINATED | 172.28.0.2:245807 | relu    | relu   | relu   |           16 |           210 |           285 |           315 | 0.0006 | 0.521997  |                   11 |\n",
            "| trainable_func_c544fb2a | TERMINATED | 172.28.0.2:245807 | selu    | tanh   | selu   |           64 |           210 |           150 |           300 | 0.0006 | 0.611538  |                   10 |\n",
            "| trainable_func_cdd3e116 | TERMINATED | 172.28.0.2:245807 | relu    | selu   | relu   |           64 |           330 |           240 |           180 | 0.0007 | 0.588368  |                   11 |\n",
            "| trainable_func_d857ad5c | TERMINATED | 172.28.0.2:245807 | tanh    | tanh   | relu   |           32 |           165 |           285 |           120 | 0.0007 | 0.571639  |                   10 |\n",
            "| trainable_func_e449b9ca | TERMINATED | 172.28.0.2:245807 | selu    | tanh   | selu   |           64 |           210 |           270 |           300 | 0.0007 | 0.589761  |                   11 |\n",
            "| trainable_func_eecd2bca | TERMINATED | 172.28.0.2:245807 | selu    | tanh   | tanh   |           32 |           315 |           135 |           255 | 0.0007 | 0.542238  |                   11 |\n",
            "| trainable_func_f5694ac2 | TERMINATED | 172.28.0.2:245807 | selu    | selu   | relu   |           32 |           255 |           285 |           255 | 0.0006 | 0.364146  |                   13 |\n",
            "| trainable_func_fb8960f4 | TERMINATED | 172.28.0.2:245807 | tanh    | relu   | relu   |           16 |           195 |           240 |           285 | 0.0006 | 0.555285  |                   11 |\n",
            "| trainable_func_0c4db426 | TERMINATED | 172.28.0.2:245735 | selu    | selu   | relu   |           32 |           270 |           195 |           285 | 0.0009 | 0.583576  |                   10 |\n",
            "| trainable_func_128a6c80 | TERMINATED | 172.28.0.2:245736 | relu    | tanh   | tanh   |           32 |           315 |           195 |           315 | 0.0009 | 0.671332  |                   10 |\n",
            "| trainable_func_137154e2 | TERMINATED | 172.28.0.2:245807 | tanh    | selu   | relu   |           32 |           165 |           165 |           195 | 0.0009 | 0.576421  |                   12 |\n",
            "| trainable_func_193df1d2 | TERMINATED | 172.28.0.2:245735 | relu    | relu   | tanh   |           32 |           195 |           135 |           180 | 0.0006 | 0.595747  |                   10 |\n",
            "| trainable_func_20184322 | TERMINATED | 172.28.0.2:245736 | relu    | tanh   | selu   |           32 |           255 |           285 |           150 | 0.0007 | 0.589673  |                   11 |\n",
            "| trainable_func_20c2004c | TERMINATED | 172.28.0.2:245807 | selu    | relu   | relu   |           32 |           165 |           300 |           240 | 0.0007 | 0.641261  |                   10 |\n",
            "| trainable_func_243fbe9e | TERMINATED | 172.28.0.2:245735 | tanh    | selu   | relu   |            8 |           240 |           195 |           135 | 0.0009 | 0.632033  |                   10 |\n",
            "| trainable_func_2ed4a7c0 | TERMINATED | 172.28.0.2:245807 | tanh    | selu   | tanh   |           32 |           165 |           315 |           255 | 0.0008 | 0.581866  |                   10 |\n",
            "| trainable_func_2f398258 | TERMINATED | 172.28.0.2:245736 | selu    | relu   | selu   |           16 |           285 |           135 |           165 | 0.001  | 0.602063  |                   12 |\n",
            "| trainable_func_3d0a14e2 | TERMINATED | 172.28.0.2:245807 | tanh    | tanh   | relu   |           32 |           255 |           255 |           195 | 0.0009 | 0.528967  |                   12 |\n",
            "| trainable_func_48f3ed5a | TERMINATED | 172.28.0.2:245735 | selu    | selu   | relu   |           64 |           255 |           225 |           165 | 0.0005 | 0.662189  |                   10 |\n",
            "| trainable_func_49e14b86 | TERMINATED | 172.28.0.2:245736 | tanh    | selu   | tanh   |           16 |           120 |           300 |           210 | 0.0006 | 0.622846  |                   10 |\n",
            "| trainable_func_4b7656c6 | TERMINATED | 172.28.0.2:245807 | relu    | tanh   | tanh   |           32 |           210 |           195 |           120 | 0.0006 | 0.575054  |                   10 |\n",
            "| trainable_func_51689ad0 | TERMINATED | 172.28.0.2:245735 | selu    | tanh   | relu   |           64 |           135 |           300 |           210 | 0.0007 | 0.566172  |                   12 |\n",
            "| trainable_func_57899144 | TERMINATED | 172.28.0.2:245807 | relu    | selu   | relu   |           64 |           165 |           180 |           255 | 0.0006 | 0.606227  |                   10 |\n",
            "| trainable_func_5ba7df88 | TERMINATED | 172.28.0.2:245735 | relu    | relu   | selu   |           32 |           180 |           180 |           120 | 0.0006 | 0.562065  |                   11 |\n",
            "| trainable_func_5eb6114a | TERMINATED | 172.28.0.2:245736 | selu    | selu   | relu   |            8 |           330 |           210 |           315 | 0.0006 | 0.704948  |                   10 |\n",
            "| trainable_func_5efd582a | TERMINATED | 172.28.0.2:245807 | tanh    | relu   | relu   |           64 |           225 |           150 |           315 | 0.0005 | 0.574722  |                   10 |\n",
            "| trainable_func_6651ffd6 | TERMINATED | 172.28.0.2:245807 | tanh    | tanh   | tanh   |           64 |           135 |           225 |           180 | 0.0005 | 0.595203  |                   10 |\n",
            "| trainable_func_67c7d50c | TERMINATED | 172.28.0.2:245777 | tanh    | relu   | relu   |           32 |           165 |           270 |           255 | 0.0008 | 0.588567  |                   10 |\n",
            "| trainable_func_68ef98f2 | TERMINATED | 172.28.0.2:245735 | selu    | relu   | tanh   |           32 |           300 |           255 |           135 | 0.0005 | 0.543262  |                   11 |\n",
            "| trainable_func_6dc198a8 | TERMINATED | 172.28.0.2:245807 | relu    | relu   | tanh   |           32 |           120 |           270 |           180 | 0.0006 | 0.656703  |                   10 |\n",
            "| trainable_func_753ca50a | TERMINATED | 172.28.0.2:245777 | relu    | tanh   | tanh   |           64 |           315 |           255 |           240 | 0.0009 | 0.604447  |                   11 |\n",
            "| trainable_func_7727d8d0 | TERMINATED | 172.28.0.2:245735 | relu    | selu   | tanh   |           16 |           240 |           195 |           195 | 0.0007 | 0.536844  |                   11 |\n",
            "+-------------------------+------------+-------------------+---------+--------+--------+--------------+---------------+---------------+---------------+--------+-----------+----------------------+\n",
            "\n",
            "\n",
            "Best trial config: {'act1 ': 'tanh', 'act2': 'relu', 'act3': 'tanh', 'lr': 0.0006000000000000001, 'batch_size': 32, 'hidden_dim1': 240.0, 'hidden_dim2': 285.0, 'hidden_dim3': 285.0}\n",
            "Best trial final validation score: 0.02461006525904424\n",
            "Best trial test set score: 0.41962862390817335\n"
          ]
        }
      ]
    },
    {
      "cell_type": "code",
      "source": [
        ""
      ],
      "metadata": {
        "id": "SpFYLRt34Itr"
      },
      "execution_count": 206,
      "outputs": []
    }
  ]
}