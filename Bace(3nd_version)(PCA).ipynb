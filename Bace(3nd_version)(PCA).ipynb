{
  "nbformat": 4,
  "nbformat_minor": 0,
  "metadata": {
    "colab": {
      "name": "Bace(3nd version)(PCA).ipynb",
      "provenance": [],
      "collapsed_sections": []
    },
    "kernelspec": {
      "name": "python3",
      "display_name": "Python 3"
    },
    "language_info": {
      "name": "python"
    }
  },
  "cells": [
    {
      "cell_type": "code",
      "execution_count": 57,
      "metadata": {
        "id": "mBn_O6J4XkjR"
      },
      "outputs": [],
      "source": [
        "import numpy as np\n",
        "import pandas as pd\n",
        "import torch\n",
        "import torch.nn as nn\n",
        "from torch.utils.data import TensorDataset\n",
        "from pandas import read_csv\n",
        "from sklearn.impute import SimpleImputer\n",
        "import pandas as pd\n",
        "import io\n",
        "#visualizations\n",
        "import matplotlib as mpl\n",
        "import matplotlib.pyplot as plt\n",
        "import random\n"
      ]
    },
    {
      "cell_type": "code",
      "source": [
        "from google.colab import files\n",
        "uploaded1 = files.upload()"
      ],
      "metadata": {
        "colab": {
          "resources": {
            "http://localhost:8080/nbextensions/google.colab/files.js": {
              "data": "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",
              "ok": true,
              "headers": [
                [
                  "content-type",
                  "application/javascript"
                ]
              ],
              "status": 200,
              "status_text": ""
            }
          },
          "base_uri": "https://localhost:8080/",
          "height": 73
        },
        "id": "YDQic_6JX6iI",
        "outputId": "e04319bd-9bdf-472d-d049-1ecbe60b0048"
      },
      "execution_count": 58,
      "outputs": [
        {
          "output_type": "display_data",
          "data": {
            "text/plain": [
              "<IPython.core.display.HTML object>"
            ],
            "text/html": [
              "\n",
              "     <input type=\"file\" id=\"files-40a73ab8-fdda-4598-abeb-336a9957ffd9\" name=\"files[]\" multiple disabled\n",
              "        style=\"border:none\" />\n",
              "     <output id=\"result-40a73ab8-fdda-4598-abeb-336a9957ffd9\">\n",
              "      Upload widget is only available when the cell has been executed in the\n",
              "      current browser session. Please rerun this cell to enable.\n",
              "      </output>\n",
              "      <script src=\"/nbextensions/google.colab/files.js\"></script> "
            ]
          },
          "metadata": {}
        },
        {
          "output_type": "stream",
          "name": "stdout",
          "text": [
            "Saving bace(lables).csv to bace(lables) (1).csv\n"
          ]
        }
      ]
    },
    {
      "cell_type": "code",
      "source": [
        "from google.colab import files\n",
        "uploaded = files.upload()\n"
      ],
      "metadata": {
        "colab": {
          "resources": {
            "http://localhost:8080/nbextensions/google.colab/files.js": {
              "data": "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",
              "ok": true,
              "headers": [
                [
                  "content-type",
                  "application/javascript"
                ]
              ],
              "status": 200,
              "status_text": ""
            }
          },
          "base_uri": "https://localhost:8080/",
          "height": 73
        },
        "id": "dR-zWeEtYIM-",
        "outputId": "5a2aac2b-d7a9-454e-f370-da46cad8b8bb"
      },
      "execution_count": 59,
      "outputs": [
        {
          "output_type": "display_data",
          "data": {
            "text/plain": [
              "<IPython.core.display.HTML object>"
            ],
            "text/html": [
              "\n",
              "     <input type=\"file\" id=\"files-f5cb640b-1c27-40d0-943a-efb7bd324251\" name=\"files[]\" multiple disabled\n",
              "        style=\"border:none\" />\n",
              "     <output id=\"result-f5cb640b-1c27-40d0-943a-efb7bd324251\">\n",
              "      Upload widget is only available when the cell has been executed in the\n",
              "      current browser session. Please rerun this cell to enable.\n",
              "      </output>\n",
              "      <script src=\"/nbextensions/google.colab/files.js\"></script> "
            ]
          },
          "metadata": {}
        },
        {
          "output_type": "stream",
          "name": "stdout",
          "text": [
            "Saving bace_global_cdf_rdkit.csv to bace_global_cdf_rdkit (1).csv\n"
          ]
        }
      ]
    },
    {
      "cell_type": "code",
      "source": [
        "dataX = pd.read_csv(io.BytesIO(uploaded['bace_global_cdf_rdkit.csv']))\n",
        "dataX.head()"
      ],
      "metadata": {
        "colab": {
          "base_uri": "https://localhost:8080/",
          "height": 334
        },
        "id": "YcFB9jhkYlFi",
        "outputId": "dc124725-b83e-4527-b0b0-88b9d12c9d80"
      },
      "execution_count": 228,
      "outputs": [
        {
          "output_type": "execute_result",
          "data": {
            "text/plain": [
              "   ('RDKit2DNormalized_calculated', <class 'bool'>)  \\\n",
              "0                                              True   \n",
              "1                                              True   \n",
              "2                                              True   \n",
              "3                                              True   \n",
              "4                                              True   \n",
              "\n",
              "   ('BalabanJ', <class 'numpy.float64'>)  \\\n",
              "0                               0.271693   \n",
              "1                               0.392419   \n",
              "2                               0.149225   \n",
              "3                               0.577532   \n",
              "4                               0.138106   \n",
              "\n",
              "   ('BertzCT', <class 'numpy.float64'>)  ('Chi0', <class 'numpy.float64'>)  \\\n",
              "0                              0.685231                           0.715429   \n",
              "1                              0.830920                           0.964192   \n",
              "2                              0.951733                           0.924019   \n",
              "3                              0.782187                           0.924370   \n",
              "4                              0.967050                           0.945002   \n",
              "\n",
              "   ('Chi0n', <class 'numpy.float64'>)  ('Chi0v', <class 'numpy.float64'>)  \\\n",
              "0                            0.780380                            0.750726   \n",
              "1                            0.966658                            0.963590   \n",
              "2                            0.927351                            0.932271   \n",
              "3                            0.906913                            0.913072   \n",
              "4                            0.930853                            0.935559   \n",
              "\n",
              "   ('Chi1', <class 'numpy.float64'>)  ('Chi1n', <class 'numpy.float64'>)  \\\n",
              "0                           0.689887                            0.776209   \n",
              "1                           0.957524                            0.968433   \n",
              "2                           0.923493                            0.923177   \n",
              "3                           0.876879                            0.885455   \n",
              "4                           0.936328                            0.928579   \n",
              "\n",
              "   ('Chi1v', <class 'numpy.float64'>)  ('Chi2n', <class 'numpy.float64'>)  \\\n",
              "0                            0.716683                            0.850783   \n",
              "1                            0.959626                            0.970019   \n",
              "2                            0.942919                            0.908699   \n",
              "3                            0.922284                            0.928759   \n",
              "4                            0.946799                            0.921161   \n",
              "\n",
              "   ...  ('fr_sulfonamd', <class 'numpy.float64'>)  \\\n",
              "0  ...                               1.593061e-17   \n",
              "1  ...                               1.593061e-17   \n",
              "2  ...                               9.999565e-01   \n",
              "3  ...                               1.593061e-17   \n",
              "4  ...                               9.999565e-01   \n",
              "\n",
              "   ('fr_sulfone', <class 'numpy.float64'>)  \\\n",
              "0                             5.766101e-14   \n",
              "1                             5.766101e-14   \n",
              "2                             5.766101e-14   \n",
              "3                             1.000000e+00   \n",
              "4                             5.766101e-14   \n",
              "\n",
              "   ('fr_term_acetylene', <class 'numpy.float64'>)  \\\n",
              "0                                    2.957989e-11   \n",
              "1                                    2.957989e-11   \n",
              "2                                    2.957989e-11   \n",
              "3                                    2.957989e-11   \n",
              "4                                    2.957989e-11   \n",
              "\n",
              "   ('fr_tetrazole', <class 'numpy.float64'>)  \\\n",
              "0                                   0.168378   \n",
              "1                                   0.168378   \n",
              "2                                   0.168378   \n",
              "3                                   0.168378   \n",
              "4                                   0.168378   \n",
              "\n",
              "   ('fr_thiazole', <class 'numpy.float64'>)  \\\n",
              "0                                   0.16738   \n",
              "1                                   0.16738   \n",
              "2                                   0.16738   \n",
              "3                                   0.16738   \n",
              "4                                   0.16738   \n",
              "\n",
              "   ('fr_thiocyan', <class 'numpy.float64'>)  \\\n",
              "0                              1.481515e-18   \n",
              "1                              1.481515e-18   \n",
              "2                              1.481515e-18   \n",
              "3                              1.481515e-18   \n",
              "4                              1.481515e-18   \n",
              "\n",
              "   ('fr_thiophene', <class 'numpy.float64'>)  \\\n",
              "0                               2.324150e-16   \n",
              "1                               2.324150e-16   \n",
              "2                               2.324150e-16   \n",
              "3                               2.324150e-16   \n",
              "4                               2.324150e-16   \n",
              "\n",
              "   ('fr_unbrch_alkane', <class 'numpy.float64'>)  \\\n",
              "0                                   4.703598e-08   \n",
              "1                                   4.703598e-08   \n",
              "2                                   4.703598e-08   \n",
              "3                                   4.703598e-08   \n",
              "4                                   4.703598e-08   \n",
              "\n",
              "   ('fr_urea', <class 'numpy.float64'>)  ('qed', <class 'numpy.float64'>)  \n",
              "0                              0.166633                          0.494794  \n",
              "1                              0.166633                          0.072174  \n",
              "2                              0.166633                          0.090157  \n",
              "3                              0.166633                          0.121917  \n",
              "4                              0.166633                          0.091591  \n",
              "\n",
              "[5 rows x 201 columns]"
            ],
            "text/html": [
              "\n",
              "  <div id=\"df-85cd5969-21ab-489e-9720-352fe70b9efe\">\n",
              "    <div class=\"colab-df-container\">\n",
              "      <div>\n",
              "<style scoped>\n",
              "    .dataframe tbody tr th:only-of-type {\n",
              "        vertical-align: middle;\n",
              "    }\n",
              "\n",
              "    .dataframe tbody tr th {\n",
              "        vertical-align: top;\n",
              "    }\n",
              "\n",
              "    .dataframe thead th {\n",
              "        text-align: right;\n",
              "    }\n",
              "</style>\n",
              "<table border=\"1\" class=\"dataframe\">\n",
              "  <thead>\n",
              "    <tr style=\"text-align: right;\">\n",
              "      <th></th>\n",
              "      <th>('RDKit2DNormalized_calculated', &lt;class 'bool'&gt;)</th>\n",
              "      <th>('BalabanJ', &lt;class 'numpy.float64'&gt;)</th>\n",
              "      <th>('BertzCT', &lt;class 'numpy.float64'&gt;)</th>\n",
              "      <th>('Chi0', &lt;class 'numpy.float64'&gt;)</th>\n",
              "      <th>('Chi0n', &lt;class 'numpy.float64'&gt;)</th>\n",
              "      <th>('Chi0v', &lt;class 'numpy.float64'&gt;)</th>\n",
              "      <th>('Chi1', &lt;class 'numpy.float64'&gt;)</th>\n",
              "      <th>('Chi1n', &lt;class 'numpy.float64'&gt;)</th>\n",
              "      <th>('Chi1v', &lt;class 'numpy.float64'&gt;)</th>\n",
              "      <th>('Chi2n', &lt;class 'numpy.float64'&gt;)</th>\n",
              "      <th>...</th>\n",
              "      <th>('fr_sulfonamd', &lt;class 'numpy.float64'&gt;)</th>\n",
              "      <th>('fr_sulfone', &lt;class 'numpy.float64'&gt;)</th>\n",
              "      <th>('fr_term_acetylene', &lt;class 'numpy.float64'&gt;)</th>\n",
              "      <th>('fr_tetrazole', &lt;class 'numpy.float64'&gt;)</th>\n",
              "      <th>('fr_thiazole', &lt;class 'numpy.float64'&gt;)</th>\n",
              "      <th>('fr_thiocyan', &lt;class 'numpy.float64'&gt;)</th>\n",
              "      <th>('fr_thiophene', &lt;class 'numpy.float64'&gt;)</th>\n",
              "      <th>('fr_unbrch_alkane', &lt;class 'numpy.float64'&gt;)</th>\n",
              "      <th>('fr_urea', &lt;class 'numpy.float64'&gt;)</th>\n",
              "      <th>('qed', &lt;class 'numpy.float64'&gt;)</th>\n",
              "    </tr>\n",
              "  </thead>\n",
              "  <tbody>\n",
              "    <tr>\n",
              "      <th>0</th>\n",
              "      <td>True</td>\n",
              "      <td>0.271693</td>\n",
              "      <td>0.685231</td>\n",
              "      <td>0.715429</td>\n",
              "      <td>0.780380</td>\n",
              "      <td>0.750726</td>\n",
              "      <td>0.689887</td>\n",
              "      <td>0.776209</td>\n",
              "      <td>0.716683</td>\n",
              "      <td>0.850783</td>\n",
              "      <td>...</td>\n",
              "      <td>1.593061e-17</td>\n",
              "      <td>5.766101e-14</td>\n",
              "      <td>2.957989e-11</td>\n",
              "      <td>0.168378</td>\n",
              "      <td>0.16738</td>\n",
              "      <td>1.481515e-18</td>\n",
              "      <td>2.324150e-16</td>\n",
              "      <td>4.703598e-08</td>\n",
              "      <td>0.166633</td>\n",
              "      <td>0.494794</td>\n",
              "    </tr>\n",
              "    <tr>\n",
              "      <th>1</th>\n",
              "      <td>True</td>\n",
              "      <td>0.392419</td>\n",
              "      <td>0.830920</td>\n",
              "      <td>0.964192</td>\n",
              "      <td>0.966658</td>\n",
              "      <td>0.963590</td>\n",
              "      <td>0.957524</td>\n",
              "      <td>0.968433</td>\n",
              "      <td>0.959626</td>\n",
              "      <td>0.970019</td>\n",
              "      <td>...</td>\n",
              "      <td>1.593061e-17</td>\n",
              "      <td>5.766101e-14</td>\n",
              "      <td>2.957989e-11</td>\n",
              "      <td>0.168378</td>\n",
              "      <td>0.16738</td>\n",
              "      <td>1.481515e-18</td>\n",
              "      <td>2.324150e-16</td>\n",
              "      <td>4.703598e-08</td>\n",
              "      <td>0.166633</td>\n",
              "      <td>0.072174</td>\n",
              "    </tr>\n",
              "    <tr>\n",
              "      <th>2</th>\n",
              "      <td>True</td>\n",
              "      <td>0.149225</td>\n",
              "      <td>0.951733</td>\n",
              "      <td>0.924019</td>\n",
              "      <td>0.927351</td>\n",
              "      <td>0.932271</td>\n",
              "      <td>0.923493</td>\n",
              "      <td>0.923177</td>\n",
              "      <td>0.942919</td>\n",
              "      <td>0.908699</td>\n",
              "      <td>...</td>\n",
              "      <td>9.999565e-01</td>\n",
              "      <td>5.766101e-14</td>\n",
              "      <td>2.957989e-11</td>\n",
              "      <td>0.168378</td>\n",
              "      <td>0.16738</td>\n",
              "      <td>1.481515e-18</td>\n",
              "      <td>2.324150e-16</td>\n",
              "      <td>4.703598e-08</td>\n",
              "      <td>0.166633</td>\n",
              "      <td>0.090157</td>\n",
              "    </tr>\n",
              "    <tr>\n",
              "      <th>3</th>\n",
              "      <td>True</td>\n",
              "      <td>0.577532</td>\n",
              "      <td>0.782187</td>\n",
              "      <td>0.924370</td>\n",
              "      <td>0.906913</td>\n",
              "      <td>0.913072</td>\n",
              "      <td>0.876879</td>\n",
              "      <td>0.885455</td>\n",
              "      <td>0.922284</td>\n",
              "      <td>0.928759</td>\n",
              "      <td>...</td>\n",
              "      <td>1.593061e-17</td>\n",
              "      <td>1.000000e+00</td>\n",
              "      <td>2.957989e-11</td>\n",
              "      <td>0.168378</td>\n",
              "      <td>0.16738</td>\n",
              "      <td>1.481515e-18</td>\n",
              "      <td>2.324150e-16</td>\n",
              "      <td>4.703598e-08</td>\n",
              "      <td>0.166633</td>\n",
              "      <td>0.121917</td>\n",
              "    </tr>\n",
              "    <tr>\n",
              "      <th>4</th>\n",
              "      <td>True</td>\n",
              "      <td>0.138106</td>\n",
              "      <td>0.967050</td>\n",
              "      <td>0.945002</td>\n",
              "      <td>0.930853</td>\n",
              "      <td>0.935559</td>\n",
              "      <td>0.936328</td>\n",
              "      <td>0.928579</td>\n",
              "      <td>0.946799</td>\n",
              "      <td>0.921161</td>\n",
              "      <td>...</td>\n",
              "      <td>9.999565e-01</td>\n",
              "      <td>5.766101e-14</td>\n",
              "      <td>2.957989e-11</td>\n",
              "      <td>0.168378</td>\n",
              "      <td>0.16738</td>\n",
              "      <td>1.481515e-18</td>\n",
              "      <td>2.324150e-16</td>\n",
              "      <td>4.703598e-08</td>\n",
              "      <td>0.166633</td>\n",
              "      <td>0.091591</td>\n",
              "    </tr>\n",
              "  </tbody>\n",
              "</table>\n",
              "<p>5 rows × 201 columns</p>\n",
              "</div>\n",
              "      <button class=\"colab-df-convert\" onclick=\"convertToInteractive('df-85cd5969-21ab-489e-9720-352fe70b9efe')\"\n",
              "              title=\"Convert this dataframe to an interactive table.\"\n",
              "              style=\"display:none;\">\n",
              "        \n",
              "  <svg xmlns=\"http://www.w3.org/2000/svg\" height=\"24px\"viewBox=\"0 0 24 24\"\n",
              "       width=\"24px\">\n",
              "    <path d=\"M0 0h24v24H0V0z\" fill=\"none\"/>\n",
              "    <path d=\"M18.56 5.44l.94 2.06.94-2.06 2.06-.94-2.06-.94-.94-2.06-.94 2.06-2.06.94zm-11 1L8.5 8.5l.94-2.06 2.06-.94-2.06-.94L8.5 2.5l-.94 2.06-2.06.94zm10 10l.94 2.06.94-2.06 2.06-.94-2.06-.94-.94-2.06-.94 2.06-2.06.94z\"/><path d=\"M17.41 7.96l-1.37-1.37c-.4-.4-.92-.59-1.43-.59-.52 0-1.04.2-1.43.59L10.3 9.45l-7.72 7.72c-.78.78-.78 2.05 0 2.83L4 21.41c.39.39.9.59 1.41.59.51 0 1.02-.2 1.41-.59l7.78-7.78 2.81-2.81c.8-.78.8-2.07 0-2.86zM5.41 20L4 18.59l7.72-7.72 1.47 1.35L5.41 20z\"/>\n",
              "  </svg>\n",
              "      </button>\n",
              "      \n",
              "  <style>\n",
              "    .colab-df-container {\n",
              "      display:flex;\n",
              "      flex-wrap:wrap;\n",
              "      gap: 12px;\n",
              "    }\n",
              "\n",
              "    .colab-df-convert {\n",
              "      background-color: #E8F0FE;\n",
              "      border: none;\n",
              "      border-radius: 50%;\n",
              "      cursor: pointer;\n",
              "      display: none;\n",
              "      fill: #1967D2;\n",
              "      height: 32px;\n",
              "      padding: 0 0 0 0;\n",
              "      width: 32px;\n",
              "    }\n",
              "\n",
              "    .colab-df-convert:hover {\n",
              "      background-color: #E2EBFA;\n",
              "      box-shadow: 0px 1px 2px rgba(60, 64, 67, 0.3), 0px 1px 3px 1px rgba(60, 64, 67, 0.15);\n",
              "      fill: #174EA6;\n",
              "    }\n",
              "\n",
              "    [theme=dark] .colab-df-convert {\n",
              "      background-color: #3B4455;\n",
              "      fill: #D2E3FC;\n",
              "    }\n",
              "\n",
              "    [theme=dark] .colab-df-convert:hover {\n",
              "      background-color: #434B5C;\n",
              "      box-shadow: 0px 1px 3px 1px rgba(0, 0, 0, 0.15);\n",
              "      filter: drop-shadow(0px 1px 2px rgba(0, 0, 0, 0.3));\n",
              "      fill: #FFFFFF;\n",
              "    }\n",
              "  </style>\n",
              "\n",
              "      <script>\n",
              "        const buttonEl =\n",
              "          document.querySelector('#df-85cd5969-21ab-489e-9720-352fe70b9efe button.colab-df-convert');\n",
              "        buttonEl.style.display =\n",
              "          google.colab.kernel.accessAllowed ? 'block' : 'none';\n",
              "\n",
              "        async function convertToInteractive(key) {\n",
              "          const element = document.querySelector('#df-85cd5969-21ab-489e-9720-352fe70b9efe');\n",
              "          const dataTable =\n",
              "            await google.colab.kernel.invokeFunction('convertToInteractive',\n",
              "                                                     [key], {});\n",
              "          if (!dataTable) return;\n",
              "\n",
              "          const docLinkHtml = 'Like what you see? Visit the ' +\n",
              "            '<a target=\"_blank\" href=https://colab.research.google.com/notebooks/data_table.ipynb>data table notebook</a>'\n",
              "            + ' to learn more about interactive tables.';\n",
              "          element.innerHTML = '';\n",
              "          dataTable['output_type'] = 'display_data';\n",
              "          await google.colab.output.renderOutput(dataTable, element);\n",
              "          const docLink = document.createElement('div');\n",
              "          docLink.innerHTML = docLinkHtml;\n",
              "          element.appendChild(docLink);\n",
              "        }\n",
              "      </script>\n",
              "    </div>\n",
              "  </div>\n",
              "  "
            ]
          },
          "metadata": {},
          "execution_count": 228
        }
      ]
    },
    {
      "cell_type": "code",
      "source": [
        "dataY = pd.read_csv(io.BytesIO(uploaded1['bace(lables).csv']))\n",
        "dataY.head()\n"
      ],
      "metadata": {
        "colab": {
          "base_uri": "https://localhost:8080/",
          "height": 206
        },
        "id": "iNlwI8POY5Zi",
        "outputId": "ab383f5c-5cd1-4c8c-dd56-5950359e46c5"
      },
      "execution_count": 229,
      "outputs": [
        {
          "output_type": "execute_result",
          "data": {
            "text/plain": [
              "                                                 mol  Class\n",
              "0  O1CC[C@@H](NC(=O)[C@@H](Cc2cc3cc(ccc3nc2N)-c2c...      1\n",
              "1  Fc1cc(cc(F)c1)C[C@H](NC(=O)[C@@H](N1CC[C@](NC(...      1\n",
              "2  S1(=O)(=O)N(c2cc(cc3c2n(cc3CC)CC1)C(=O)N[C@H](...      1\n",
              "3  S1(=O)(=O)C[C@@H](Cc2cc(O[C@H](COCC)C(F)(F)F)c...      1\n",
              "4  S1(=O)(=O)N(c2cc(cc3c2n(cc3CC)CC1)C(=O)N[C@H](...      1"
            ],
            "text/html": [
              "\n",
              "  <div id=\"df-87df6f58-13cb-4ab8-8c4f-89707cac7183\">\n",
              "    <div class=\"colab-df-container\">\n",
              "      <div>\n",
              "<style scoped>\n",
              "    .dataframe tbody tr th:only-of-type {\n",
              "        vertical-align: middle;\n",
              "    }\n",
              "\n",
              "    .dataframe tbody tr th {\n",
              "        vertical-align: top;\n",
              "    }\n",
              "\n",
              "    .dataframe thead th {\n",
              "        text-align: right;\n",
              "    }\n",
              "</style>\n",
              "<table border=\"1\" class=\"dataframe\">\n",
              "  <thead>\n",
              "    <tr style=\"text-align: right;\">\n",
              "      <th></th>\n",
              "      <th>mol</th>\n",
              "      <th>Class</th>\n",
              "    </tr>\n",
              "  </thead>\n",
              "  <tbody>\n",
              "    <tr>\n",
              "      <th>0</th>\n",
              "      <td>O1CC[C@@H](NC(=O)[C@@H](Cc2cc3cc(ccc3nc2N)-c2c...</td>\n",
              "      <td>1</td>\n",
              "    </tr>\n",
              "    <tr>\n",
              "      <th>1</th>\n",
              "      <td>Fc1cc(cc(F)c1)C[C@H](NC(=O)[C@@H](N1CC[C@](NC(...</td>\n",
              "      <td>1</td>\n",
              "    </tr>\n",
              "    <tr>\n",
              "      <th>2</th>\n",
              "      <td>S1(=O)(=O)N(c2cc(cc3c2n(cc3CC)CC1)C(=O)N[C@H](...</td>\n",
              "      <td>1</td>\n",
              "    </tr>\n",
              "    <tr>\n",
              "      <th>3</th>\n",
              "      <td>S1(=O)(=O)C[C@@H](Cc2cc(O[C@H](COCC)C(F)(F)F)c...</td>\n",
              "      <td>1</td>\n",
              "    </tr>\n",
              "    <tr>\n",
              "      <th>4</th>\n",
              "      <td>S1(=O)(=O)N(c2cc(cc3c2n(cc3CC)CC1)C(=O)N[C@H](...</td>\n",
              "      <td>1</td>\n",
              "    </tr>\n",
              "  </tbody>\n",
              "</table>\n",
              "</div>\n",
              "      <button class=\"colab-df-convert\" onclick=\"convertToInteractive('df-87df6f58-13cb-4ab8-8c4f-89707cac7183')\"\n",
              "              title=\"Convert this dataframe to an interactive table.\"\n",
              "              style=\"display:none;\">\n",
              "        \n",
              "  <svg xmlns=\"http://www.w3.org/2000/svg\" height=\"24px\"viewBox=\"0 0 24 24\"\n",
              "       width=\"24px\">\n",
              "    <path d=\"M0 0h24v24H0V0z\" fill=\"none\"/>\n",
              "    <path d=\"M18.56 5.44l.94 2.06.94-2.06 2.06-.94-2.06-.94-.94-2.06-.94 2.06-2.06.94zm-11 1L8.5 8.5l.94-2.06 2.06-.94-2.06-.94L8.5 2.5l-.94 2.06-2.06.94zm10 10l.94 2.06.94-2.06 2.06-.94-2.06-.94-.94-2.06-.94 2.06-2.06.94z\"/><path d=\"M17.41 7.96l-1.37-1.37c-.4-.4-.92-.59-1.43-.59-.52 0-1.04.2-1.43.59L10.3 9.45l-7.72 7.72c-.78.78-.78 2.05 0 2.83L4 21.41c.39.39.9.59 1.41.59.51 0 1.02-.2 1.41-.59l7.78-7.78 2.81-2.81c.8-.78.8-2.07 0-2.86zM5.41 20L4 18.59l7.72-7.72 1.47 1.35L5.41 20z\"/>\n",
              "  </svg>\n",
              "      </button>\n",
              "      \n",
              "  <style>\n",
              "    .colab-df-container {\n",
              "      display:flex;\n",
              "      flex-wrap:wrap;\n",
              "      gap: 12px;\n",
              "    }\n",
              "\n",
              "    .colab-df-convert {\n",
              "      background-color: #E8F0FE;\n",
              "      border: none;\n",
              "      border-radius: 50%;\n",
              "      cursor: pointer;\n",
              "      display: none;\n",
              "      fill: #1967D2;\n",
              "      height: 32px;\n",
              "      padding: 0 0 0 0;\n",
              "      width: 32px;\n",
              "    }\n",
              "\n",
              "    .colab-df-convert:hover {\n",
              "      background-color: #E2EBFA;\n",
              "      box-shadow: 0px 1px 2px rgba(60, 64, 67, 0.3), 0px 1px 3px 1px rgba(60, 64, 67, 0.15);\n",
              "      fill: #174EA6;\n",
              "    }\n",
              "\n",
              "    [theme=dark] .colab-df-convert {\n",
              "      background-color: #3B4455;\n",
              "      fill: #D2E3FC;\n",
              "    }\n",
              "\n",
              "    [theme=dark] .colab-df-convert:hover {\n",
              "      background-color: #434B5C;\n",
              "      box-shadow: 0px 1px 3px 1px rgba(0, 0, 0, 0.15);\n",
              "      filter: drop-shadow(0px 1px 2px rgba(0, 0, 0, 0.3));\n",
              "      fill: #FFFFFF;\n",
              "    }\n",
              "  </style>\n",
              "\n",
              "      <script>\n",
              "        const buttonEl =\n",
              "          document.querySelector('#df-87df6f58-13cb-4ab8-8c4f-89707cac7183 button.colab-df-convert');\n",
              "        buttonEl.style.display =\n",
              "          google.colab.kernel.accessAllowed ? 'block' : 'none';\n",
              "\n",
              "        async function convertToInteractive(key) {\n",
              "          const element = document.querySelector('#df-87df6f58-13cb-4ab8-8c4f-89707cac7183');\n",
              "          const dataTable =\n",
              "            await google.colab.kernel.invokeFunction('convertToInteractive',\n",
              "                                                     [key], {});\n",
              "          if (!dataTable) return;\n",
              "\n",
              "          const docLinkHtml = 'Like what you see? Visit the ' +\n",
              "            '<a target=\"_blank\" href=https://colab.research.google.com/notebooks/data_table.ipynb>data table notebook</a>'\n",
              "            + ' to learn more about interactive tables.';\n",
              "          element.innerHTML = '';\n",
              "          dataTable['output_type'] = 'display_data';\n",
              "          await google.colab.output.renderOutput(dataTable, element);\n",
              "          const docLink = document.createElement('div');\n",
              "          docLink.innerHTML = docLinkHtml;\n",
              "          element.appendChild(docLink);\n",
              "        }\n",
              "      </script>\n",
              "    </div>\n",
              "  </div>\n",
              "  "
            ]
          },
          "metadata": {},
          "execution_count": 229
        }
      ]
    },
    {
      "cell_type": "code",
      "source": [
        "#del dataX[\"('RDKit2DNormalized_calculated', <class 'bool'>)\"]\n",
        "\n",
        "dataX.info()"
      ],
      "metadata": {
        "colab": {
          "base_uri": "https://localhost:8080/"
        },
        "id": "glFWBCR-ZXwO",
        "outputId": "ec62f04d-d040-40ca-88a7-c4db908b72bf"
      },
      "execution_count": 230,
      "outputs": [
        {
          "output_type": "stream",
          "name": "stdout",
          "text": [
            "<class 'pandas.core.frame.DataFrame'>\n",
            "RangeIndex: 1513 entries, 0 to 1512\n",
            "Columns: 201 entries, ('RDKit2DNormalized_calculated', <class 'bool'>) to ('qed', <class 'numpy.float64'>)\n",
            "dtypes: bool(1), float64(200)\n",
            "memory usage: 2.3 MB\n"
          ]
        }
      ]
    },
    {
      "cell_type": "code",
      "source": [
        "Y = dataY.iloc[:, 1]\n"
      ],
      "metadata": {
        "id": "1yb_12X8aHK-"
      },
      "execution_count": 231,
      "outputs": []
    },
    {
      "cell_type": "code",
      "source": [
        "Y.value_counts()"
      ],
      "metadata": {
        "colab": {
          "base_uri": "https://localhost:8080/"
        },
        "id": "dhlbYj6Oao7H",
        "outputId": "84a7f05e-28e5-4388-e64c-f1be94ee10e7"
      },
      "execution_count": 232,
      "outputs": [
        {
          "output_type": "execute_result",
          "data": {
            "text/plain": [
              "0    822\n",
              "1    691\n",
              "Name: Class, dtype: int64"
            ]
          },
          "metadata": {},
          "execution_count": 232
        }
      ]
    },
    {
      "cell_type": "code",
      "source": [
        "Y.value_counts().plot(kind='bar')\n"
      ],
      "metadata": {
        "colab": {
          "base_uri": "https://localhost:8080/",
          "height": 279
        },
        "id": "V0TJPWwkapBe",
        "outputId": "c8229a63-4d80-4539-e959-42105495362a"
      },
      "execution_count": 233,
      "outputs": [
        {
          "output_type": "execute_result",
          "data": {
            "text/plain": [
              "<matplotlib.axes._subplots.AxesSubplot at 0x7f9167ff5f10>"
            ]
          },
          "metadata": {},
          "execution_count": 233
        },
        {
          "output_type": "display_data",
          "data": {
            "text/plain": [
              "<Figure size 432x288 with 1 Axes>"
            ],
            "image/png": "[encoded data removed]"
          },
          "metadata": {
            "needs_background": "light"
          }
        }
      ]
    },
    {
      "cell_type": "code",
      "source": [
        "dataX.isnull().sum().sum()"
      ],
      "metadata": {
        "colab": {
          "base_uri": "https://localhost:8080/"
        },
        "id": "u8jk9NswblNg",
        "outputId": "22a47371-db83-4e7b-d9e0-ea6bdf9bb452"
      },
      "execution_count": 234,
      "outputs": [
        {
          "output_type": "execute_result",
          "data": {
            "text/plain": [
              "0"
            ]
          },
          "metadata": {},
          "execution_count": 234
        }
      ]
    },
    {
      "cell_type": "markdown",
      "source": [
        "**Corrolation** **matrix**\n",
        "\n"
      ],
      "metadata": {
        "id": "Td-pBBo-dB12"
      }
    },
    {
      "cell_type": "code",
      "source": [
        "# corr_matrix = dataX.corr()\n",
        "#  #This approach is fatsitc it looks at the previous column if the correlation is high it removes it\n",
        "\n",
        "# # Create correlation matrix\n",
        "# corr_matrix = dataX.corr().abs()\n",
        "\n",
        "# # Select upper triangle of correlation matrix\n",
        "# upper = corr_matrix.where(\n",
        "#     np.triu(np.ones(corr_matrix.shape), k=1).astype(bool))\n",
        "\n",
        "# # Find features with correlation greater than 0.90\n",
        "# to_drop = [column for column in upper.columns if any(upper[column] > 0.90)]\n",
        "\n",
        "# # Drop features\n",
        "# data = dataX.drop(to_drop, axis=1)\n",
        "# data"
      ],
      "metadata": {
        "id": "ujTF218jdAoE"
      },
      "execution_count": 235,
      "outputs": []
    },
    {
      "cell_type": "markdown",
      "source": [
        "**Split** **Data**\n",
        "\n"
      ],
      "metadata": {
        "id": "WO6KTaUka5sK"
      }
    },
    {
      "cell_type": "code",
      "source": [
        "random.seed(10)"
      ],
      "metadata": {
        "id": "igT_N8Zjav6z"
      },
      "execution_count": 236,
      "outputs": []
    },
    {
      "cell_type": "code",
      "source": [
        "from sklearn.model_selection import train_test_split\n",
        "X=dataX.iloc[:,1:201]\n",
        "X_train, X_test, Y_train, Y_test = train_test_split(X, Y, test_size=0.3,random_state=1)"
      ],
      "metadata": {
        "id": "k1fVSmkGbNIe"
      },
      "execution_count": 237,
      "outputs": []
    },
    {
      "cell_type": "code",
      "source": [
        "# X_train = np.array(X_train)\n",
        "# X_test = np.array(X_test)\n",
        "# Y_train = np.array(Y_train)\n",
        "# Y_test = np.array(Y_test)"
      ],
      "metadata": {
        "id": "lAznz4Z5bzII"
      },
      "execution_count": 238,
      "outputs": []
    },
    {
      "cell_type": "markdown",
      "source": [
        "**Scaling** **data**\n"
      ],
      "metadata": {
        "id": "RkoyPs43capR"
      }
    },
    {
      "cell_type": "code",
      "source": [
        "from sklearn.preprocessing import StandardScaler\n",
        "from sklearn.model_selection import train_test_split\n",
        "import random\n",
        "# np.random.seed(10)\n",
        "# scaler = StandardScaler()\n",
        "# scaler.fit(X_train)\n",
        "# X_train_scaled = scaler.transform(X_train)\n",
        "# X_test_scaled = scaler.transform(X_test)\n",
        "from sklearn import preprocessing\n",
        "\n",
        "scaler_data = preprocessing.MinMaxScaler()\n",
        "X_train = scaler_data.fit_transform(X_train)\n",
        "X_test = scaler_data.transform(X_test)\n",
        "scaler_labels = preprocessing.MinMaxScaler()\n",
        "Y_train = scaler_labels.fit_transform(Y_train.values.reshape(-1, 1))\n",
        "Y_test = scaler_labels.transform(Y_test.values.reshape(-1, 1))\n",
        "\n",
        "# print(X_train.shape, Y_train.shape, X_test.shape, Y_test.shape)\n",
        "#print(X_train)\n",
        "#print(\"Train labels before scaling: {} {} {}Train labels after scaling: {} {}\".format('\\n',train_labels_before,'\\n', '\\n', train_labels))"
      ],
      "metadata": {
        "id": "4bdmZu7WcRJZ"
      },
      "execution_count": 239,
      "outputs": []
    },
    {
      "cell_type": "markdown",
      "source": [
        "**PCA**"
      ],
      "metadata": {
        "id": "MdJjG_edcvtM"
      }
    },
    {
      "cell_type": "code",
      "source": [
        "from sklearn.decomposition import PCA as sklearnPCA\n",
        "pca = sklearnPCA(n_components=40)\n",
        "pca.fit(X_train)\n",
        "X_train=pca.transform(X_train)\n",
        "X_test=pca.transform(X_test)\n",
        "#print(pca.explained_variance_ratio_)\n",
        "plt.plot(np.arange(40),pca.explained_variance_ratio_)\n",
        "plt.show()\n",
        "\n",
        "# X_test_scaled.shape"
      ],
      "metadata": {
        "id": "YeAqB4gDcrTE",
        "colab": {
          "base_uri": "https://localhost:8080/",
          "height": 265
        },
        "outputId": "e8f34fbf-32e3-44e2-cb19-4b4c632567e3"
      },
      "execution_count": 240,
      "outputs": [
        {
          "output_type": "display_data",
          "data": {
            "text/plain": [
              "<Figure size 432x288 with 1 Axes>"
            ],
            "image/png": "[encoded data removed]"
          },
          "metadata": {
            "needs_background": "light"
          }
        }
      ]
    },
    {
      "cell_type": "markdown",
      "source": [
        "**transform** **to** **torch** **tensor**\n"
      ],
      "metadata": {
        "id": "iq6V1jPKp3sg"
      }
    },
    {
      "cell_type": "code",
      "source": [
        "device = torch.device('cuda:0' if torch.cuda.is_available() else 'cpu')"
      ],
      "metadata": {
        "id": "tEh8PeQghW7d"
      },
      "execution_count": 241,
      "outputs": []
    },
    {
      "cell_type": "code",
      "source": [
        "# transform to torch tensor\n",
        "\n",
        "tensor_x = torch.tensor(X_train, dtype=torch.float).to(device) \n",
        "tensor_x2 = torch.tensor(X_test, dtype=torch.float).to(device) \n",
        "\n",
        "tensor_y = torch.tensor(Y_train, dtype=torch.float).to(device)\n",
        "tensor_y2 = torch.tensor(Y_test, dtype=torch.float).to(device)"
      ],
      "metadata": {
        "id": "ELJ8ysMIhkUA"
      },
      "execution_count": 242,
      "outputs": []
    },
    {
      "cell_type": "code",
      "source": [
        "# create your dataset\n",
        "\n",
        "trainset = TensorDataset(tensor_x, tensor_y) \n",
        "testset = TensorDataset(tensor_x2,tensor_y2)"
      ],
      "metadata": {
        "id": "PWfTNKIzicRY"
      },
      "execution_count": 243,
      "outputs": []
    },
    {
      "cell_type": "code",
      "source": [
        "trainset"
      ],
      "metadata": {
        "id": "gBX_7x4BEz18",
        "outputId": "aa868662-6e71-4990-e670-9055a0f32699",
        "colab": {
          "base_uri": "https://localhost:8080/"
        }
      },
      "execution_count": 244,
      "outputs": [
        {
          "output_type": "execute_result",
          "data": {
            "text/plain": [
              "<torch.utils.data.dataset.TensorDataset at 0x7f916881a710>"
            ]
          },
          "metadata": {},
          "execution_count": 244
        }
      ]
    },
    {
      "cell_type": "code",
      "source": [
        "%%capture\n",
        "try:\n",
        "    import ray\n",
        "except:\n",
        "    !pip install -U ray\n",
        "    import ray"
      ],
      "metadata": {
        "id": "xOv7ebTApPs4"
      },
      "execution_count": 245,
      "outputs": []
    },
    {
      "cell_type": "code",
      "source": [
        "from functools import partial\n",
        "import numpy as np\n",
        "import os\n",
        "import torch.nn.functional as F\n",
        "import torch.optim as optim\n",
        "from torch.utils.data import random_split\n",
        "from torchsummary import summary\n",
        "\n",
        "from ray import tune\n",
        "from ray.tune import CLIReporter\n",
        "from ray.tune.schedulers import ASHAScheduler"
      ],
      "metadata": {
        "id": "lY8JTHx4pw7q"
      },
      "execution_count": 246,
      "outputs": []
    },
    {
      "cell_type": "code",
      "source": [
        "def load_data(data_dir=None):\n",
        "    return trainset, testset"
      ],
      "metadata": {
        "id": "WL0vLKtup_20"
      },
      "execution_count": 247,
      "outputs": []
    },
    {
      "cell_type": "code",
      "source": [
        "from sklearn.metrics import roc_auc_score\n",
        "\n",
        "def compute_score(model, data_loader, device=\"cpu\"):\n",
        "    model.eval()\n",
        "    metric = roc_auc_score\n",
        "    with torch.no_grad():\n",
        "        prediction_all= torch.empty(0, device=device)\n",
        "        labels_all= torch.empty(0, device=device)\n",
        "        for i, (feats, labels) in enumerate(data_loader):\n",
        "            feats=feats.to(device)\n",
        "            labels=labels.to(device)\n",
        "            prediction = model(feats).to(device)\n",
        "            prediction = torch.sigmoid(prediction).to(device)\n",
        "            prediction_all = torch.cat((prediction_all, prediction), 0)\n",
        "            labels_all = torch.cat((labels_all, labels), 0)                \n",
        "        try:\n",
        "            t = metric(labels_all.int().cpu(), prediction_all.cpu()).item()\n",
        "        except ValueError:\n",
        "            t = 0\n",
        "    return t"
      ],
      "metadata": {
        "id": "AVJSGNep1Dgm"
      },
      "execution_count": 248,
      "outputs": []
    },
    {
      "cell_type": "code",
      "source": [
        "class Net(nn.Module):\n",
        "    def __init__(self, config):\n",
        "        super().__init__()\n",
        "        \n",
        "        self.config = config\n",
        "        self.hidden_dim1 = int(self.config.get(\"hidden_dim1\", 100))\n",
        "        self.hidden_dim2 = int(self.config.get(\"hidden_dim2\", 100))\n",
        "        self.hidden_dim3 = int(self.config.get(\"hidden_dim3\", 100))\n",
        "\n",
        "\n",
        "        self.act1 = self.config.get(\"act1\", \"relu\") \n",
        "        self.act2 = self.config.get(\"act2\", \"relu\") \n",
        "        self.act3 = self.config.get(\"act3\", \"relu\")\n",
        "\n",
        "        self.linear1 = nn.Linear(40, self.hidden_dim1)\n",
        "        self.linear2 = nn.Linear(self.hidden_dim1, self.hidden_dim2)\n",
        "        self.linear3 = nn.Linear(self.hidden_dim2, self.hidden_dim3)\n",
        "        self.linear4 = nn.Linear(self.hidden_dim3, 1)\n",
        "    \n",
        "    @staticmethod\n",
        "    def activation_func(act_str):\n",
        "        if act_str==\"tanh\":\n",
        "            return eval(\"torch.\"+act_str)\n",
        "        elif act_str==\"selu\" or act_str==\"relu\":   \n",
        "            return eval(\"torch.nn.functional.\"+act_str)\n",
        "\n",
        "    def forward(self, x):\n",
        "        output = self.linear1(x)\n",
        "        output = self.activation_func(self.act1)(output)\n",
        "        output = self.linear2(output)\n",
        "        output = self.activation_func(self.act2)(output)\n",
        "        output = self.linear3(output)\n",
        "        output = self.activation_func(self.act3)(output)\n",
        "        output = self.linear4(output)        \n",
        "        return output"
      ],
      "metadata": {
        "id": "hrE0OqdAqFAk"
      },
      "execution_count": 249,
      "outputs": []
    },
    {
      "cell_type": "code",
      "source": [
        "model = Net({})"
      ],
      "metadata": {
        "id": "3dr7KAanqWxu"
      },
      "execution_count": 250,
      "outputs": []
    },
    {
      "cell_type": "code",
      "source": [
        "from prettytable import PrettyTable\n",
        "\n",
        "def count_parameters(model):\n",
        "    table = PrettyTable([\"Modules\", \"Parameters\"])\n",
        "    total_params = 0\n",
        "    for name, parameter in model.named_parameters():\n",
        "        if not parameter.requires_grad: continue\n",
        "        param = parameter.numel()\n",
        "        table.add_row([name, param])\n",
        "        total_params+=param\n",
        "    print(table)\n",
        "    print(f\"Total Trainable Params: {total_params}\")\n",
        "    return total_params"
      ],
      "metadata": {
        "id": "6p0P1Bsuqfo-"
      },
      "execution_count": 251,
      "outputs": []
    },
    {
      "cell_type": "code",
      "source": [
        "summary(model, (1,tensor_x.shape[1]))\n",
        "\n",
        "count_parameters(model)"
      ],
      "metadata": {
        "colab": {
          "base_uri": "https://localhost:8080/"
        },
        "id": "3CShNWzMqiuh",
        "outputId": "781e8a83-5f7e-43e4-8be8-5469cfffe4f3"
      },
      "execution_count": 252,
      "outputs": [
        {
          "output_type": "stream",
          "name": "stdout",
          "text": [
            "----------------------------------------------------------------\n",
            "        Layer (type)               Output Shape         Param #\n",
            "================================================================\n",
            "            Linear-1               [-1, 1, 100]           4,100\n",
            "            Linear-2               [-1, 1, 100]          10,100\n",
            "            Linear-3               [-1, 1, 100]          10,100\n",
            "            Linear-4                 [-1, 1, 1]             101\n",
            "================================================================\n",
            "Total params: 24,401\n",
            "Trainable params: 24,401\n",
            "Non-trainable params: 0\n",
            "----------------------------------------------------------------\n",
            "Input size (MB): 0.00\n",
            "Forward/backward pass size (MB): 0.00\n",
            "Params size (MB): 0.09\n",
            "Estimated Total Size (MB): 0.10\n",
            "----------------------------------------------------------------\n",
            "+----------------+------------+\n",
            "|    Modules     | Parameters |\n",
            "+----------------+------------+\n",
            "| linear1.weight |    4000    |\n",
            "|  linear1.bias  |    100     |\n",
            "| linear2.weight |   10000    |\n",
            "|  linear2.bias  |    100     |\n",
            "| linear3.weight |   10000    |\n",
            "|  linear3.bias  |    100     |\n",
            "| linear4.weight |    100     |\n",
            "|  linear4.bias  |     1      |\n",
            "+----------------+------------+\n",
            "Total Trainable Params: 24401\n"
          ]
        },
        {
          "output_type": "execute_result",
          "data": {
            "text/plain": [
              "24401"
            ]
          },
          "metadata": {},
          "execution_count": 252
        }
      ]
    },
    {
      "cell_type": "code",
      "source": [
        ""
      ],
      "metadata": {
        "id": "2mON-Y4sE01l"
      },
      "execution_count": 252,
      "outputs": []
    },
    {
      "cell_type": "code",
      "source": [
        "def trainable_func(config, checkpoint_dir=None, data_dir=None, epochs=10):\n",
        "\n",
        "    net = Net(config)\n",
        "\n",
        "    device = \"cpu\"\n",
        "    if torch.cuda.is_available():\n",
        "        device = \"cuda:0\"\n",
        "        if torch.cuda.device_count() > 1:\n",
        "            net = nn.DataParallel(net)\n",
        "    net.to(device)\n",
        "\n",
        "    '''\n",
        "    Define a loss function\n",
        "    '''\n",
        "    ## Classification\n",
        "    criterion = nn.CrossEntropyLoss()\n",
        "    #criterion=nn.BCELoss()\n",
        "\n",
        "    ## Regression\n",
        "    #criterion = nn.MSELoss(reduction='sum')\n",
        "\n",
        "    # Define an optimizer \n",
        "    optimizer = optim.Adam(net.parameters(), lr=config.get(\"lr\",0.0003))\n",
        "\n",
        "    if checkpoint_dir:\n",
        "        model_state, optimizer_state = torch.load(\n",
        "            os.path.join(checkpoint_dir, \"checkpoint\"))\n",
        "        net.load_state_dict(model_state)\n",
        "        optimizer.load_state_dict(optimizer_state)\n",
        "\n",
        "    # Load data\n",
        "    trainset, testset = load_data(data_dir)\n",
        "\n",
        "    # Split the dataset into training and validation sets\n",
        "    train_size = int(len(trainset) * 0.65)\n",
        "    train_subset, val_subset = random_split(trainset, [train_size, len(trainset) - train_size])\n",
        "\n",
        "    # Define data loaders (which combines a dataset and a sampler, and provides an iterable over the given dataset)\n",
        "    trainloader = torch.utils.data.DataLoader(\n",
        "        train_subset,\n",
        "        batch_size=int(config.get(\"batch_size\",32)),\n",
        "        shuffle=True,\n",
        "        num_workers=2)\n",
        "    valloader = torch.utils.data.DataLoader(\n",
        "        val_subset,\n",
        "        batch_size=int(config.get(\"batch_size\",32)),\n",
        "        shuffle=True,\n",
        "        num_workers=2)\n",
        "\n",
        "    for epoch in range(epochs):  # loop over the dataset multiple times\n",
        "        epoch_train_loss = 0.0\n",
        "        # epoch_steps = 0\n",
        "        net.train() # Prepare model for training\n",
        "        for i, data in enumerate(trainloader):\n",
        "            # get the inputs; data is a list of [inputs, labels]\n",
        "            inputs, labels = data\n",
        "            inputs, labels = inputs.to(device), labels.to(device)\n",
        "\n",
        "            # zero the parameter gradients\n",
        "            optimizer.zero_grad()\n",
        "\n",
        "            # forward + backward + optimize\n",
        "            outputs = net(inputs)\n",
        "            loss = criterion(outputs, labels)\n",
        "            loss.backward()\n",
        "            optimizer.step()\n",
        "\n",
        "            '''\n",
        "            Compute train loss without scaling to print\n",
        "            ''' \n",
        "            # outputs = torch.tensor(scaler_labels.inverse_transform(outputs.detach().cpu())).to(device)    \n",
        "            # labels = torch.tensor(scaler_labels.inverse_transform(labels.cpu())).to(device)  \n",
        "            # loss_train = criterion(outputs, labels) \n",
        "            # epoch_train_loss += loss_train.detach().item()\n",
        "        # print(\"[%d] loss: %.3f\" % (epoch + 1, epoch_train_loss / len(train_subset)))\n",
        "\n",
        "        # # Validation loss\n",
        "        # val_loss = 0.0\n",
        "        # net.eval() # Prepare model for evaluation\n",
        "        # for i, data in enumerate(valloader):\n",
        "        #     with torch.no_grad():\n",
        "        #         inputs, labels = data\n",
        "        #         inputs, labels = inputs.to(device), labels.to(device)\n",
        "\n",
        "        #         outputs = net(inputs)\n",
        "        score = compute_score(net, valloader, device=\"cpu\")\n",
        "\n",
        "        with tune.checkpoint_dir(epoch) as checkpoint_dir:\n",
        "            path = os.path.join(checkpoint_dir, \"checkpoint\")\n",
        "            torch.save((net.state_dict(), optimizer.state_dict()), path)\n",
        "        tune.report(score=score)\n",
        "        #         # Inverse transform of the labels' scaler\n",
        "        #         outputs = torch.tensor(scaler_labels.inverse_transform(outputs.detach().cpu())).to(device)    \n",
        "        #         labels = torch.tensor(scaler_labels.inverse_transform(labels.cpu())).to(device) \n",
        "\n",
        "        #         loss = criterion(outputs, labels)\n",
        "        #         val_loss += loss.cpu().numpy()\n",
        "\n",
        "\n",
        "         #Validation loss\n",
        "        # val_loss = 0.0\n",
        "        # val_steps = 0\n",
        "        # total = 0\n",
        "        # correct = 0\n",
        "        # for i, data in enumerate(valloader(config), 0):\n",
        "        #     with torch.no_grad():\n",
        "        #         inputs, labels = data\n",
        "        #         inputs, labels = inputs.to(device), labels.to(device)\n",
        "\n",
        "        #         outputs = net(inputs)\n",
        "        #         _, predicted = torch.max(outputs.data, 1)\n",
        "        #         total += labels.size(0)\n",
        "        #         correct += (predicted == labels).sum().item()\n",
        "                \n",
        "\n",
        "        #         loss = criterion(outputs, labels)\n",
        "        #         val_loss += loss.cpu().numpy()\n",
        "        #         val_steps += 1\n",
        "        # # Validation score\n",
        "        # score = compute_score(net, validloader(config), device=\"cpu\")\n",
        "        # #loss = criterion(outputs, labels)\n",
        "\n",
        "        # with tune.checkpoint_dir(epoch) as checkpoint_dir:\n",
        "    #         path = os.path.join(checkpoint_dir, \"checkpoint\")\n",
        "    #         torch.save((net.state_dict(), optimizer.state_dict()), path)\n",
        "    #     tune.report(loss=(val_loss / val_steps),score=score)\n",
        "\n",
        "\n",
        "\n",
        "\n",
        "\n",
        "    #     with tune.checkpoint_dir(epoch) as checkpoint_dir:\n",
        "    #         path = os.path.join(checkpoint_dir, \"checkpoint\")\n",
        "    #         torch.save((net.state_dict(), optimizer.state_dict()), path)\n",
        "\n",
        "    #     tune.report(epoch = epoch, loss=(val_loss / len(val_subset)))\n",
        "    # print(\"Finished Training\")\n",
        "\n",
        "    # score = compute_score(net, valloader, device=\"cpu\")\n",
        "\n",
        "    #     with tune.checkpoint_dir(epoch) as checkpoint_dir:\n",
        "    #         path = os.path.join(checkpoint_dir, \"checkpoint\")\n",
        "    #         torch.save((net.state_dict(), optimizer.state_dict()), path)\n",
        "    #     tune.report(score=score)\n",
        "    #     # Inverse transform of the labels' scaler  این دو خط رو کامنت کردی!!!!!\n",
        "    #             outputs = torch.tensor(scaler_labels.inverse_transform(outputs.detach().cpu())).to(device)    \n",
        "    #             labels = torch.tensor(scaler_labels.inverse_transform(labels.cpu())).to(device) \n",
        "\n",
        "    #              loss = criterion(outputs, labels)\n",
        "    #              val_loss += loss.cpu().numpy()\n",
        "\n",
        "    #     with tune.checkpoint_dir(epoch) as checkpoint_dir:\n",
        "    #          path = os.path.join(checkpoint_dir, \"checkpoint\")\n",
        "    #          torch.save((net.state_dict(), optimizer.state_dict()), path)\n",
        "\n",
        "    #      tune.report(epoch = epoch, loss=(val_loss / len(val_subset)))\n",
        "    print(\"Finished Training\")\n",
        "\n",
        "\n",
        "\n",
        "\n",
        "\n",
        "\n",
        "\n"
      ],
      "metadata": {
        "id": "4Ipyeowlo4UW"
      },
      "execution_count": 253,
      "outputs": []
    },
    {
      "cell_type": "markdown",
      "source": [
        "**Test** **set** **score**"
      ],
      "metadata": {
        "id": "8FSY1dh6rjf5"
      }
    },
    {
      "cell_type": "code",
      "execution_count": 254,
      "metadata": {
        "id": "8upuk9b2B7tk"
      },
      "outputs": [],
      "source": [
        "def test_score(config, net , device=\"cpu\"):\n",
        "    trainset, testset = load_data()\n",
        "\n",
        "    testloader = torch.utils.data.DataLoader(testset, batch_size=int(config.get(\"batch_size\",32)), shuffle=False, num_workers=2)\n",
        "    best_trained_model=net\n",
        "    criterion = nn.CrossEntropyLoss()\n",
        "    # # Test loss\n",
        "    # test_loss = 0.0\n",
        "    # net.eval() # Prepare model for evaluation\n",
        "    # for i, data in enumerate(testloader):\n",
        "    #     with torch.no_grad():\n",
        "    #         inputs, labels = data\n",
        "    #         inputs, labels = inputs.to(device), labels.to(device)\n",
        "\n",
        "    #         outputs = net(inputs)\n",
        "    test_score = compute_score(best_trained_model, testloader, device)\n",
        "    print(\"Best trial test set score: {}\".format(test_score))\n",
        "            # Inverse transform of the labels' scaler\n",
        "            #outputs = torch.tensor(scaler_labels.inverse_transform(outputs.detach().cpu())).to(device)    \n",
        "            #labels = torch.tensor(scaler_labels.inverse_transform(labels.cpu())).to(device)\n",
        "            \n",
        "    #         loss = criterion(outputs, labels)\n",
        "    #         test_loss += loss.cpu().numpy()\n",
        "\n",
        "    # return test_loss / len(testset)\n"
      ]
    },
    {
      "cell_type": "markdown",
      "source": [
        "Start Ray runtime"
      ],
      "metadata": {
        "id": "-DIdY0TNrwcA"
      }
    },
    {
      "cell_type": "code",
      "source": [
        "ray.shutdown()\n",
        "ray.init(num_cpus=2, num_gpus=0) # Here we use ray.init() to evaluate available_resources for Ray\n",
        "print(ray.available_resources())\n",
        "  # Restart Ray defensively in case the ray connection is lost. \n",
        "\n",
        "# Start Ray runtime with specific resources (not nessesarily all resources)\n",
        "# You can change this values based on your machine resources)\n",
        "#ray.init(num_cpus=2, num_gpus=0) \n",
        "\n",
        "\"\"\"Check Ray Tune is working properly (for trainable class)\"\"\"\n",
        "# from ray.tune.utils import validate_save_restore\n",
        "# validate_save_restore(Trainable)\n",
        "# validate_save_restore(Trainable, use_object_store=True)\n",
        "# print(\"Success!\")"
      ],
      "metadata": {
        "colab": {
          "base_uri": "https://localhost:8080/",
          "height": 53
        },
        "id": "eWg-KXq-rv8E",
        "outputId": "ec30391d-94c1-48c9-87c7-6fe7413bcf57"
      },
      "execution_count": 255,
      "outputs": [
        {
          "output_type": "stream",
          "name": "stdout",
          "text": [
            "{'CPU': 2.0, 'memory': 7920390144.0, 'node:172.28.0.2': 1.0, 'object_store_memory': 3960195072.0}\n"
          ]
        },
        {
          "output_type": "execute_result",
          "data": {
            "text/plain": [
              "'Check Ray Tune is working properly (for trainable class)'"
            ],
            "application/vnd.google.colaboratory.intrinsic+json": {
              "type": "string"
            }
          },
          "metadata": {},
          "execution_count": 255
        }
      ]
    },
    {
      "cell_type": "code",
      "source": [
        "def test_score2(best_trial):\n",
        "    trainset, testset = load_data()\n",
        "    testloader = torch.utils.data.DataLoader(testset, batch_size=int(config.get(\"batch_size\",32)), shuffle=False, num_workers=2)\n",
        "    \n",
        "    best_trained_model = NeuralNetwork(np.shape(feature_selection[0])[0],best_trial.config[\"l1\"],best_trial.config[\"l2\"],best_trial.config[\"l3\"],best_trial.config)\n",
        "    device = \"cuda:0\" if torch.cuda.is_available() else \"cpu\"\n",
        "    best_trained_model.to(device)\n",
        "\n",
        "    checkpoint_path = os.path.join(best_trial.checkpoint.value, \"checkpoint\")\n",
        "\n",
        "    model_state, optimizer_state = torch.load(checkpoint_path)\n",
        "    best_trained_model.load_state_dict(model_state)\n",
        "\n",
        "    test_score = compute_score(best_trained_model, testloader(best_trial.config), device)\n",
        "    print(\"Best trial test set score:- - - - - - - - - - - - - - - - - - - - - - - - - - - - - - - - - - - - - {} \".format(test_score))\n",
        "    return best_trial.config, best_trained_model"
      ],
      "metadata": {
        "id": "t-p1Txhsav8c"
      },
      "execution_count": 256,
      "outputs": []
    },
    {
      "cell_type": "markdown",
      "source": [
        "Start hyperparameter tuning"
      ],
      "metadata": {
        "id": "TOrcj_L9sKlL"
      }
    },
    {
      "cell_type": "code",
      "source": [
        "%%capture\n",
        "try:\n",
        "    import optuna\n",
        "except:\n",
        "    %pip install optuna\n",
        "    import optuna"
      ],
      "metadata": {
        "id": "jy5w556Wr8db"
      },
      "execution_count": 257,
      "outputs": []
    },
    {
      "cell_type": "code",
      "execution_count": 258,
      "metadata": {
        "colab": {
          "base_uri": "https://localhost:8080/"
        },
        "id": "XtTf2D_tE-o5",
        "outputId": "260545f1-72b8-4868-d56a-b26f14154eeb"
      },
      "outputs": [
        {
          "output_type": "stream",
          "name": "stderr",
          "text": [
            "2022-07-17 23:35:36,458\tWARNING callback.py:106 -- The TensorboardX logger cannot be instantiated because either TensorboardX or one of it's dependencies is not installed. Please make sure you have the latest version of TensorboardX installed: `pip install -U tensorboardx`\n"
          ]
        },
        {
          "output_type": "stream",
          "name": "stdout",
          "text": [
            "== Status ==\n",
            "Current time: 2022-07-17 23:35:36 (running for 00:00:00.21)\n",
            "Memory usage on this node: 2.1/12.7 GiB\n",
            "Using AsyncHyperBand: num_stopped=0\n",
            "Bracket: Iter 8.000: None | Iter 4.000: None\n",
            "Bracket: Iter 8.000: None\n",
            "Bracket: \n",
            "Bracket: \n",
            "Bracket: \n",
            "Resources requested: 0.5/2 CPUs, 0/0 GPUs, 0.0/7.38 GiB heap, 0.0/3.69 GiB objects\n",
            "Result logdir: /root/ray_results/trainable_func_2022-07-17_23-35-36\n",
            "Number of trials: 1/50 (1 RUNNING)\n",
            "\n",
            "\n",
            "== Status ==\n",
            "Current time: 2022-07-17 23:35:41 (running for 00:00:05.29)\n",
            "Memory usage on this node: 2.3/12.7 GiB\n",
            "Using AsyncHyperBand: num_stopped=0\n",
            "Bracket: Iter 8.000: None | Iter 4.000: None\n",
            "Bracket: Iter 8.000: None\n",
            "Bracket: \n",
            "Bracket: \n",
            "Bracket: \n",
            "Resources requested: 2.0/2 CPUs, 0/0 GPUs, 0.0/7.38 GiB heap, 0.0/3.69 GiB objects\n",
            "Result logdir: /root/ray_results/trainable_func_2022-07-17_23-35-36\n",
            "Number of trials: 5/50 (1 PENDING, 4 RUNNING)\n",
            "\n",
            "\n",
            "Trial trainable_func_28b36e60 reported score=0.5931956964233789,should_checkpoint=True with parameters={'act1 ': 'tanh', 'act2': 'selu', 'act3': 'relu', 'l1': 128, 'l2': 256, 'l3': 16, 'lr': 0.0008, 'batch_size': 16, 'hidden_dim1': 130.0, 'hidden_dim2': 200.0, 'hidden_dim3': 60.0}.\n",
            "Trial trainable_func_28d3395c reported score=0.4103599648814749,should_checkpoint=True with parameters={'act1 ': 'selu', 'act2': 'tanh', 'act3': 'tanh', 'l1': 256, 'l2': 8, 'l3': 64, 'lr': 0.0005, 'batch_size': 32, 'hidden_dim1': 60.0, 'hidden_dim2': 180.0, 'hidden_dim3': 80.0}.\n",
            "== Status ==\n",
            "Current time: 2022-07-17 23:35:47 (running for 00:00:10.57)\n",
            "Memory usage on this node: 2.6/12.7 GiB\n",
            "Using AsyncHyperBand: num_stopped=0\n",
            "Bracket: Iter 8.000: None | Iter 4.000: None\n",
            "Bracket: Iter 8.000: None\n",
            "Bracket: \n",
            "Bracket: \n",
            "Bracket: \n",
            "Resources requested: 2.0/2 CPUs, 0/0 GPUs, 0.0/7.38 GiB heap, 0.0/3.69 GiB objects\n",
            "Result logdir: /root/ray_results/trainable_func_2022-07-17_23-35-36\n",
            "Number of trials: 5/50 (1 PENDING, 4 RUNNING)\n",
            "\n",
            "\n",
            "Trial trainable_func_28d9ee46 reported score=0.40133263500931105,should_checkpoint=True with parameters={'act1 ': 'relu', 'act2': 'tanh', 'act3': 'tanh', 'l1': 32, 'l2': 64, 'l3': 128, 'lr': 0.001, 'batch_size': 32, 'hidden_dim1': 90.0, 'hidden_dim2': 70.0, 'hidden_dim3': 70.0}.\n",
            "Trial trainable_func_28b36e60 reported score=0.5931956964233789,should_checkpoint=True with parameters={'act1 ': 'tanh', 'act2': 'selu', 'act3': 'relu', 'l1': 128, 'l2': 256, 'l3': 16, 'lr': 0.0008, 'batch_size': 16, 'hidden_dim1': 130.0, 'hidden_dim2': 200.0, 'hidden_dim3': 60.0}.\n",
            "Trial trainable_func_28d3395c reported score=0.4103599648814749,should_checkpoint=True with parameters={'act1 ': 'selu', 'act2': 'tanh', 'act3': 'tanh', 'l1': 256, 'l2': 8, 'l3': 64, 'lr': 0.0005, 'batch_size': 32, 'hidden_dim1': 60.0, 'hidden_dim2': 180.0, 'hidden_dim3': 80.0}. This trial completed.\n",
            "Trial trainable_func_28d68f58 reported score=0.506872345445965,should_checkpoint=True with parameters={'act1 ': 'tanh', 'act2': 'tanh', 'act3': 'relu', 'l1': 4, 'l2': 256, 'l3': 64, 'lr': 0.0009, 'batch_size': 16, 'hidden_dim1': 90.0, 'hidden_dim2': 100.0, 'hidden_dim3': 160.0}.\n",
            "Trial trainable_func_28dddcfe reported score=0.4381729920564872,should_checkpoint=True with parameters={'act1 ': 'selu', 'act2': 'selu', 'act3': 'relu', 'l1': 128, 'l2': 256, 'l3': 256, 'lr': 0.0008, 'batch_size': 16, 'hidden_dim1': 80.0, 'hidden_dim2': 180.0, 'hidden_dim3': 120.0}.\n",
            "== Status ==\n",
            "Current time: 2022-07-17 23:35:52 (running for 00:00:15.60)\n",
            "Memory usage on this node: 2.7/12.7 GiB\n",
            "Using AsyncHyperBand: num_stopped=0\n",
            "Bracket: Iter 8.000: None | Iter 4.000: None\n",
            "Bracket: Iter 8.000: None\n",
            "Bracket: \n",
            "Bracket: \n",
            "Bracket: \n",
            "Resources requested: 2.0/2 CPUs, 0/0 GPUs, 0.0/7.38 GiB heap, 0.0/3.69 GiB objects\n",
            "Result logdir: /root/ray_results/trainable_func_2022-07-17_23-35-36\n",
            "Number of trials: 6/50 (1 PENDING, 4 RUNNING, 1 TERMINATED)\n",
            "\n",
            "\n",
            "Trial trainable_func_28b36e60 reported score=0.5931956964233789,should_checkpoint=True with parameters={'act1 ': 'tanh', 'act2': 'selu', 'act3': 'relu', 'l1': 128, 'l2': 256, 'l3': 16, 'lr': 0.0008, 'batch_size': 16, 'hidden_dim1': 130.0, 'hidden_dim2': 200.0, 'hidden_dim3': 60.0}. This trial completed.\n",
            "Trial trainable_func_30b9d018 reported score=0.4123830409356726,should_checkpoint=True with parameters={'act1 ': 'selu', 'act2': 'selu', 'act3': 'tanh', 'l1': 128, 'l2': 256, 'l3': 256, 'lr': 0.0006000000000000001, 'batch_size': 32, 'hidden_dim1': 110.0, 'hidden_dim2': 100.0, 'hidden_dim3': 200.0}.\n",
            "Trial trainable_func_28dddcfe reported score=0.4381729920564872,should_checkpoint=True with parameters={'act1 ': 'selu', 'act2': 'selu', 'act3': 'relu', 'l1': 128, 'l2': 256, 'l3': 256, 'lr': 0.0008, 'batch_size': 16, 'hidden_dim1': 80.0, 'hidden_dim2': 180.0, 'hidden_dim3': 120.0}. This trial completed.\n",
            "Trial trainable_func_28d9ee46 reported score=0.40133263500931105,should_checkpoint=True with parameters={'act1 ': 'relu', 'act2': 'tanh', 'act3': 'tanh', 'l1': 32, 'l2': 64, 'l3': 128, 'lr': 0.001, 'batch_size': 32, 'hidden_dim1': 90.0, 'hidden_dim2': 70.0, 'hidden_dim3': 70.0}.\n",
            "Trial trainable_func_28d68f58 reported score=0.506872345445965,should_checkpoint=True with parameters={'act1 ': 'tanh', 'act2': 'tanh', 'act3': 'relu', 'l1': 4, 'l2': 256, 'l3': 64, 'lr': 0.0009, 'batch_size': 16, 'hidden_dim1': 90.0, 'hidden_dim2': 100.0, 'hidden_dim3': 160.0}.\n",
            "Trial trainable_func_28d9ee46 reported score=0.40133263500931105,should_checkpoint=True with parameters={'act1 ': 'relu', 'act2': 'tanh', 'act3': 'tanh', 'l1': 32, 'l2': 64, 'l3': 128, 'lr': 0.001, 'batch_size': 32, 'hidden_dim1': 90.0, 'hidden_dim2': 70.0, 'hidden_dim3': 70.0}. This trial completed.\n",
            "Trial trainable_func_32b37edc reported score=0.5374584281463329,should_checkpoint=True with parameters={'act1 ': 'relu', 'act2': 'tanh', 'act3': 'relu', 'l1': 256, 'l2': 256, 'l3': 64, 'lr': 0.0006000000000000001, 'batch_size': 16, 'hidden_dim1': 150.0, 'hidden_dim2': 120.0, 'hidden_dim3': 140.0}.\n",
            "Trial trainable_func_3347042c reported score=0.4656286549707602,should_checkpoint=True with parameters={'act1 ': 'relu', 'act2': 'tanh', 'act3': 'tanh', 'l1': 8, 'l2': 64, 'l3': 128, 'lr': 0.001, 'batch_size': 16, 'hidden_dim1': 140.0, 'hidden_dim2': 110.0, 'hidden_dim3': 50.0}.\n",
            "== Status ==\n",
            "Current time: 2022-07-17 23:35:57 (running for 00:00:20.68)\n",
            "Memory usage on this node: 2.7/12.7 GiB\n",
            "Using AsyncHyperBand: num_stopped=1\n",
            "Bracket: Iter 8.000: 0.506872345445965 | Iter 4.000: 0.4725226687512261\n",
            "Bracket: Iter 8.000: 0.40133263500931105\n",
            "Bracket: \n",
            "Bracket: \n",
            "Bracket: \n",
            "Resources requested: 2.0/2 CPUs, 0/0 GPUs, 0.0/7.38 GiB heap, 0.0/3.69 GiB objects\n",
            "Result logdir: /root/ray_results/trainable_func_2022-07-17_23-35-36\n",
            "Number of trials: 9/50 (1 PENDING, 4 RUNNING, 4 TERMINATED)\n",
            "\n",
            "\n",
            "Trial trainable_func_30b9d018 reported score=0.4123830409356726,should_checkpoint=True with parameters={'act1 ': 'selu', 'act2': 'selu', 'act3': 'tanh', 'l1': 128, 'l2': 256, 'l3': 256, 'lr': 0.0006000000000000001, 'batch_size': 32, 'hidden_dim1': 110.0, 'hidden_dim2': 100.0, 'hidden_dim3': 200.0}.\n",
            "Trial trainable_func_28d68f58 reported score=0.506872345445965,should_checkpoint=True with parameters={'act1 ': 'tanh', 'act2': 'tanh', 'act3': 'relu', 'l1': 4, 'l2': 256, 'l3': 64, 'lr': 0.0009, 'batch_size': 16, 'hidden_dim1': 90.0, 'hidden_dim2': 100.0, 'hidden_dim3': 160.0}. This trial completed.\n",
            "Trial trainable_func_3347042c reported score=0.4656286549707602,should_checkpoint=True with parameters={'act1 ': 'relu', 'act2': 'tanh', 'act3': 'tanh', 'l1': 8, 'l2': 64, 'l3': 128, 'lr': 0.001, 'batch_size': 16, 'hidden_dim1': 140.0, 'hidden_dim2': 110.0, 'hidden_dim3': 50.0}. This trial completed.\n",
            "Trial trainable_func_33fa2a20 reported score=0.5454385346953153,should_checkpoint=True with parameters={'act1 ': 'tanh', 'act2': 'selu', 'act3': 'selu', 'l1': 16, 'l2': 32, 'l3': 8, 'lr': 0.0006000000000000001, 'batch_size': 32, 'hidden_dim1': 170.0, 'hidden_dim2': 70.0, 'hidden_dim3': 160.0}.\n",
            "Trial trainable_func_32b37edc reported score=0.5374584281463329,should_checkpoint=True with parameters={'act1 ': 'relu', 'act2': 'tanh', 'act3': 'relu', 'l1': 256, 'l2': 256, 'l3': 64, 'lr': 0.0006000000000000001, 'batch_size': 16, 'hidden_dim1': 150.0, 'hidden_dim2': 120.0, 'hidden_dim3': 140.0}.\n",
            "Trial trainable_func_30b9d018 reported score=0.4123830409356726,should_checkpoint=True with parameters={'act1 ': 'selu', 'act2': 'selu', 'act3': 'tanh', 'l1': 128, 'l2': 256, 'l3': 256, 'lr': 0.0006000000000000001, 'batch_size': 32, 'hidden_dim1': 110.0, 'hidden_dim2': 100.0, 'hidden_dim3': 200.0}. This trial completed.\n",
            "Trial trainable_func_3639cbf6 reported score=0.5068615927123127,should_checkpoint=True with parameters={'act1 ': 'selu', 'act2': 'tanh', 'act3': 'tanh', 'l1': 4, 'l2': 4, 'l3': 256, 'lr': 0.0009, 'batch_size': 8, 'hidden_dim1': 100.0, 'hidden_dim2': 190.0, 'hidden_dim3': 200.0}.\n",
            "Trial trainable_func_36701a3a reported score=0.4741344076604192,should_checkpoint=True with parameters={'act1 ': 'relu', 'act2': 'relu', 'act3': 'selu', 'l1': 32, 'l2': 8, 'l3': 4, 'lr': 0.001, 'batch_size': 8, 'hidden_dim1': 80.0, 'hidden_dim2': 160.0, 'hidden_dim3': 110.0}.\n",
            "== Status ==\n",
            "Current time: 2022-07-17 23:36:02 (running for 00:00:25.82)\n",
            "Memory usage on this node: 2.7/12.7 GiB\n",
            "Using AsyncHyperBand: num_stopped=2\n",
            "Bracket: Iter 8.000: 0.506872345445965 | Iter 4.000: 0.48625050020836263\n",
            "Bracket: Iter 8.000: 0.40133263500931105\n",
            "Bracket: \n",
            "Bracket: \n",
            "Bracket: \n",
            "Resources requested: 2.0/2 CPUs, 0/0 GPUs, 0.0/7.38 GiB heap, 0.0/3.69 GiB objects\n",
            "Result logdir: /root/ray_results/trainable_func_2022-07-17_23-35-36\n",
            "Number of trials: 12/50 (1 PENDING, 4 RUNNING, 7 TERMINATED)\n",
            "\n",
            "\n",
            "Trial trainable_func_32b37edc reported score=0.5374584281463329,should_checkpoint=True with parameters={'act1 ': 'relu', 'act2': 'tanh', 'act3': 'relu', 'l1': 256, 'l2': 256, 'l3': 64, 'lr': 0.0006000000000000001, 'batch_size': 16, 'hidden_dim1': 150.0, 'hidden_dim2': 120.0, 'hidden_dim3': 140.0}. This trial completed.\n",
            "Trial trainable_func_33fa2a20 reported score=0.5454385346953153,should_checkpoint=True with parameters={'act1 ': 'tanh', 'act2': 'selu', 'act3': 'selu', 'l1': 16, 'l2': 32, 'l3': 8, 'lr': 0.0006000000000000001, 'batch_size': 32, 'hidden_dim1': 170.0, 'hidden_dim2': 70.0, 'hidden_dim3': 160.0}.\n",
            "Trial trainable_func_33fa2a20 reported score=0.5454385346953153,should_checkpoint=True with parameters={'act1 ': 'tanh', 'act2': 'selu', 'act3': 'selu', 'l1': 16, 'l2': 32, 'l3': 8, 'lr': 0.0006000000000000001, 'batch_size': 32, 'hidden_dim1': 170.0, 'hidden_dim2': 70.0, 'hidden_dim3': 160.0}. This trial completed.\n",
            "Trial trainable_func_370fa8e8 reported score=0.4964619883040936,should_checkpoint=True with parameters={'act1 ': 'relu', 'act2': 'tanh', 'act3': 'tanh', 'l1': 32, 'l2': 16, 'l3': 128, 'lr': 0.0005, 'batch_size': 16, 'hidden_dim1': 140.0, 'hidden_dim2': 130.0, 'hidden_dim3': 80.0}.\n",
            "Trial trainable_func_3978c33a reported score=0.4118713450292398,should_checkpoint=True with parameters={'act1 ': 'selu', 'act2': 'selu', 'act3': 'relu', 'l1': 256, 'l2': 4, 'l3': 128, 'lr': 0.0009, 'batch_size': 32, 'hidden_dim1': 50.0, 'hidden_dim2': 80.0, 'hidden_dim3': 140.0}.\n",
            "Trial trainable_func_3639cbf6 reported score=0.5068615927123127,should_checkpoint=True with parameters={'act1 ': 'selu', 'act2': 'tanh', 'act3': 'tanh', 'l1': 4, 'l2': 4, 'l3': 256, 'lr': 0.0009, 'batch_size': 8, 'hidden_dim1': 100.0, 'hidden_dim2': 190.0, 'hidden_dim3': 200.0}.\n",
            "Trial trainable_func_36701a3a reported score=0.4741344076604192,should_checkpoint=True with parameters={'act1 ': 'relu', 'act2': 'relu', 'act3': 'selu', 'l1': 32, 'l2': 8, 'l3': 4, 'lr': 0.001, 'batch_size': 8, 'hidden_dim1': 80.0, 'hidden_dim2': 160.0, 'hidden_dim3': 110.0}. This trial completed.\n",
            "== Status ==\n",
            "Current time: 2022-07-17 23:36:07 (running for 00:00:31.02)\n",
            "Memory usage on this node: 2.7/12.7 GiB\n",
            "Using AsyncHyperBand: num_stopped=3\n",
            "Bracket: Iter 8.000: 0.5261554400706402 | Iter 4.000: 0.4904980001863659\n",
            "Bracket: Iter 8.000: 0.469395531577822\n",
            "Bracket: \n",
            "Bracket: \n",
            "Bracket: \n",
            "Resources requested: 2.0/2 CPUs, 0/0 GPUs, 0.0/7.38 GiB heap, 0.0/3.69 GiB objects\n",
            "Result logdir: /root/ray_results/trainable_func_2022-07-17_23-35-36\n",
            "Number of trials: 14/50 (1 PENDING, 4 RUNNING, 9 TERMINATED)\n",
            "\n",
            "\n",
            "Trial trainable_func_3978c33a reported score=0.4118713450292398,should_checkpoint=True with parameters={'act1 ': 'selu', 'act2': 'selu', 'act3': 'relu', 'l1': 256, 'l2': 4, 'l3': 128, 'lr': 0.0009, 'batch_size': 32, 'hidden_dim1': 50.0, 'hidden_dim2': 80.0, 'hidden_dim3': 140.0}. This trial completed.\n",
            "Trial trainable_func_3a0bc310 reported score=0.6224806201550388,should_checkpoint=True with parameters={'act1 ': 'selu', 'act2': 'relu', 'act3': 'tanh', 'l1': 8, 'l2': 4, 'l3': 4, 'lr': 0.0007, 'batch_size': 32, 'hidden_dim1': 150.0, 'hidden_dim2': 170.0, 'hidden_dim3': 180.0}.\n",
            "Trial trainable_func_3b396670 reported score=0.5186600058771672,should_checkpoint=True with parameters={'act1 ': 'tanh', 'act2': 'relu', 'act3': 'relu', 'l1': 64, 'l2': 4, 'l3': 16, 'lr': 0.0008, 'batch_size': 8, 'hidden_dim1': 200.0, 'hidden_dim2': 200.0, 'hidden_dim3': 90.0}.\n",
            "Trial trainable_func_370fa8e8 reported score=0.4964619883040936,should_checkpoint=True with parameters={'act1 ': 'relu', 'act2': 'tanh', 'act3': 'tanh', 'l1': 32, 'l2': 16, 'l3': 128, 'lr': 0.0005, 'batch_size': 16, 'hidden_dim1': 140.0, 'hidden_dim2': 130.0, 'hidden_dim3': 80.0}.\n",
            "Trial trainable_func_3639cbf6 reported score=0.5068615927123127,should_checkpoint=True with parameters={'act1 ': 'selu', 'act2': 'tanh', 'act3': 'tanh', 'l1': 4, 'l2': 4, 'l3': 256, 'lr': 0.0009, 'batch_size': 8, 'hidden_dim1': 100.0, 'hidden_dim2': 190.0, 'hidden_dim3': 200.0}.\n",
            "== Status ==\n",
            "Current time: 2022-07-17 23:36:12 (running for 00:00:36.02)\n",
            "Memory usage on this node: 2.7/12.7 GiB\n",
            "Using AsyncHyperBand: num_stopped=4\n",
            "Bracket: Iter 8.000: 0.5261554400706402 | Iter 4.000: 0.4741344076604192\n",
            "Bracket: Iter 8.000: 0.469395531577822\n",
            "Bracket: \n",
            "Bracket: \n",
            "Bracket: \n",
            "Resources requested: 2.0/2 CPUs, 0/0 GPUs, 0.0/7.38 GiB heap, 0.0/3.69 GiB objects\n",
            "Result logdir: /root/ray_results/trainable_func_2022-07-17_23-35-36\n",
            "Number of trials: 16/50 (1 PENDING, 4 RUNNING, 11 TERMINATED)\n",
            "\n",
            "\n",
            "Trial trainable_func_3a0bc310 reported score=0.6224806201550388,should_checkpoint=True with parameters={'act1 ': 'selu', 'act2': 'relu', 'act3': 'tanh', 'l1': 8, 'l2': 4, 'l3': 4, 'lr': 0.0007, 'batch_size': 32, 'hidden_dim1': 150.0, 'hidden_dim2': 170.0, 'hidden_dim3': 180.0}.\n",
            "Trial trainable_func_3639cbf6 reported score=0.5068615927123127,should_checkpoint=True with parameters={'act1 ': 'selu', 'act2': 'tanh', 'act3': 'tanh', 'l1': 4, 'l2': 4, 'l3': 256, 'lr': 0.0009, 'batch_size': 8, 'hidden_dim1': 100.0, 'hidden_dim2': 190.0, 'hidden_dim3': 200.0}. This trial completed.\n",
            "Trial trainable_func_370fa8e8 reported score=0.4964619883040936,should_checkpoint=True with parameters={'act1 ': 'relu', 'act2': 'tanh', 'act3': 'tanh', 'l1': 32, 'l2': 16, 'l3': 128, 'lr': 0.0005, 'batch_size': 16, 'hidden_dim1': 140.0, 'hidden_dim2': 130.0, 'hidden_dim3': 80.0}. This trial completed.\n",
            "Trial trainable_func_3a0bc310 reported score=0.6224806201550388,should_checkpoint=True with parameters={'act1 ': 'selu', 'act2': 'relu', 'act3': 'tanh', 'l1': 8, 'l2': 4, 'l3': 4, 'lr': 0.0007, 'batch_size': 32, 'hidden_dim1': 150.0, 'hidden_dim2': 170.0, 'hidden_dim3': 180.0}. This trial completed.\n",
            "Trial trainable_func_3f268484 reported score=0.3295908183632735,should_checkpoint=True with parameters={'act1 ': 'tanh', 'act2': 'selu', 'act3': 'selu', 'l1': 16, 'l2': 32, 'l3': 16, 'lr': 0.0007, 'batch_size': 32, 'hidden_dim1': 180.0, 'hidden_dim2': 50.0, 'hidden_dim3': 160.0}.\n",
            "Trial trainable_func_3f5b065a reported score=0.3602530155928214,should_checkpoint=True with parameters={'act1 ': 'tanh', 'act2': 'selu', 'act3': 'selu', 'l1': 16, 'l2': 32, 'l3': 8, 'lr': 0.0007, 'batch_size': 32, 'hidden_dim1': 190.0, 'hidden_dim2': 50.0, 'hidden_dim3': 160.0}.\n",
            "Trial trainable_func_3b396670 reported score=0.5186600058771672,should_checkpoint=True with parameters={'act1 ': 'tanh', 'act2': 'relu', 'act3': 'relu', 'l1': 64, 'l2': 4, 'l3': 16, 'lr': 0.0008, 'batch_size': 8, 'hidden_dim1': 200.0, 'hidden_dim2': 200.0, 'hidden_dim3': 90.0}.\n",
            "Trial trainable_func_3b92bde2 reported score=0.49843068875326946,should_checkpoint=True with parameters={'act1 ': 'tanh', 'act2': 'selu', 'act3': 'selu', 'l1': 16, 'l2': 32, 'l3': 16, 'lr': 0.0007, 'batch_size': 8, 'hidden_dim1': 190.0, 'hidden_dim2': 50.0, 'hidden_dim3': 180.0}.\n",
            "== Status ==\n",
            "Current time: 2022-07-17 23:36:17 (running for 00:00:41.13)\n",
            "Memory usage on this node: 2.7/12.7 GiB\n",
            "Using AsyncHyperBand: num_stopped=5\n",
            "Bracket: Iter 8.000: 0.506872345445965 | Iter 4.000: 0.4741344076604192\n",
            "Bracket: Iter 8.000: 0.4964619883040936\n",
            "Bracket: \n",
            "Bracket: \n",
            "Bracket: \n",
            "Resources requested: 2.0/2 CPUs, 0/0 GPUs, 0.0/7.38 GiB heap, 0.0/3.69 GiB objects\n",
            "Result logdir: /root/ray_results/trainable_func_2022-07-17_23-35-36\n",
            "Number of trials: 19/50 (1 PENDING, 4 RUNNING, 14 TERMINATED)\n",
            "\n",
            "\n",
            "Trial trainable_func_3f5b065a reported score=0.3602530155928214,should_checkpoint=True with parameters={'act1 ': 'tanh', 'act2': 'selu', 'act3': 'selu', 'l1': 16, 'l2': 32, 'l3': 8, 'lr': 0.0007, 'batch_size': 32, 'hidden_dim1': 190.0, 'hidden_dim2': 50.0, 'hidden_dim3': 160.0}. This trial completed.\n",
            "Trial trainable_func_3f7fa6d6 reported score=0.4989056492162082,should_checkpoint=True with parameters={'act1 ': 'tanh', 'act2': 'relu', 'act3': 'relu', 'l1': 8, 'l2': 128, 'l3': 16, 'lr': 0.0007, 'batch_size': 8, 'hidden_dim1': 200.0, 'hidden_dim2': 150.0, 'hidden_dim3': 180.0}.\n",
            "Trial trainable_func_3f268484 reported score=0.3295908183632735,should_checkpoint=True with parameters={'act1 ': 'tanh', 'act2': 'selu', 'act3': 'selu', 'l1': 16, 'l2': 32, 'l3': 16, 'lr': 0.0007, 'batch_size': 32, 'hidden_dim1': 180.0, 'hidden_dim2': 50.0, 'hidden_dim3': 160.0}.\n",
            "Trial trainable_func_3f268484 reported score=0.3295908183632735,should_checkpoint=True with parameters={'act1 ': 'tanh', 'act2': 'selu', 'act3': 'selu', 'l1': 16, 'l2': 32, 'l3': 16, 'lr': 0.0007, 'batch_size': 32, 'hidden_dim1': 180.0, 'hidden_dim2': 50.0, 'hidden_dim3': 160.0}. This trial completed.\n",
            "Trial trainable_func_3b396670 reported score=0.5186600058771672,should_checkpoint=True with parameters={'act1 ': 'tanh', 'act2': 'relu', 'act3': 'relu', 'l1': 64, 'l2': 4, 'l3': 16, 'lr': 0.0008, 'batch_size': 8, 'hidden_dim1': 200.0, 'hidden_dim2': 200.0, 'hidden_dim3': 90.0}.\n",
            "Trial trainable_func_3b92bde2 reported score=0.49843068875326946,should_checkpoint=True with parameters={'act1 ': 'tanh', 'act2': 'selu', 'act3': 'selu', 'l1': 16, 'l2': 32, 'l3': 16, 'lr': 0.0007, 'batch_size': 8, 'hidden_dim1': 190.0, 'hidden_dim2': 50.0, 'hidden_dim3': 180.0}.\n",
            "Trial trainable_func_413c934e reported score=0.4800583090379008,should_checkpoint=True with parameters={'act1 ': 'tanh', 'act2': 'relu', 'act3': 'relu', 'l1': 64, 'l2': 128, 'l3': 16, 'lr': 0.0007, 'batch_size': 8, 'hidden_dim1': 120.0, 'hidden_dim2': 150.0, 'hidden_dim3': 100.0}.\n",
            "== Status ==\n",
            "Current time: 2022-07-17 23:36:22 (running for 00:00:46.38)\n",
            "Memory usage on this node: 2.7/12.7 GiB\n",
            "Using AsyncHyperBand: num_stopped=6\n",
            "Bracket: Iter 8.000: 0.506872345445965 | Iter 4.000: 0.46988153131558974\n",
            "Bracket: Iter 8.000: 0.4964619883040936\n",
            "Bracket: \n",
            "Bracket: \n",
            "Bracket: \n",
            "Resources requested: 2.0/2 CPUs, 0/0 GPUs, 0.0/7.38 GiB heap, 0.0/3.69 GiB objects\n",
            "Result logdir: /root/ray_results/trainable_func_2022-07-17_23-35-36\n",
            "Number of trials: 21/50 (1 PENDING, 4 RUNNING, 16 TERMINATED)\n",
            "\n",
            "\n",
            "Trial trainable_func_3f7fa6d6 reported score=0.4989056492162082,should_checkpoint=True with parameters={'act1 ': 'tanh', 'act2': 'relu', 'act3': 'relu', 'l1': 8, 'l2': 128, 'l3': 16, 'lr': 0.0007, 'batch_size': 8, 'hidden_dim1': 200.0, 'hidden_dim2': 150.0, 'hidden_dim3': 180.0}.\n",
            "Trial trainable_func_3b396670 reported score=0.5186600058771672,should_checkpoint=True with parameters={'act1 ': 'tanh', 'act2': 'relu', 'act3': 'relu', 'l1': 64, 'l2': 4, 'l3': 16, 'lr': 0.0008, 'batch_size': 8, 'hidden_dim1': 200.0, 'hidden_dim2': 200.0, 'hidden_dim3': 90.0}. This trial completed.\n",
            "Trial trainable_func_432d7506 reported score=0.4775198354393183,should_checkpoint=True with parameters={'act1 ': 'tanh', 'act2': 'relu', 'act3': 'relu', 'l1': 8, 'l2': 128, 'l3': 32, 'lr': 0.0008, 'batch_size': 8, 'hidden_dim1': 120.0, 'hidden_dim2': 150.0, 'hidden_dim3': 100.0}.\n",
            "== Status ==\n",
            "Current time: 2022-07-17 23:36:28 (running for 00:00:51.66)\n",
            "Memory usage on this node: 2.7/12.7 GiB\n",
            "Using AsyncHyperBand: num_stopped=6\n",
            "Bracket: Iter 8.000: 0.506872345445965 | Iter 4.000: 0.47709635834916\n",
            "Bracket: Iter 8.000: 0.49744633852868153\n",
            "Bracket: \n",
            "Bracket: \n",
            "Bracket: \n",
            "Resources requested: 2.0/2 CPUs, 0/0 GPUs, 0.0/7.38 GiB heap, 0.0/3.69 GiB objects\n",
            "Result logdir: /root/ray_results/trainable_func_2022-07-17_23-35-36\n",
            "Number of trials: 22/50 (1 PENDING, 4 RUNNING, 17 TERMINATED)\n",
            "\n",
            "\n",
            "Trial trainable_func_3b92bde2 reported score=0.49843068875326946,should_checkpoint=True with parameters={'act1 ': 'tanh', 'act2': 'selu', 'act3': 'selu', 'l1': 16, 'l2': 32, 'l3': 16, 'lr': 0.0007, 'batch_size': 8, 'hidden_dim1': 190.0, 'hidden_dim2': 50.0, 'hidden_dim3': 180.0}.\n",
            "Trial trainable_func_413c934e reported score=0.4800583090379008,should_checkpoint=True with parameters={'act1 ': 'tanh', 'act2': 'relu', 'act3': 'relu', 'l1': 64, 'l2': 128, 'l3': 16, 'lr': 0.0007, 'batch_size': 8, 'hidden_dim1': 120.0, 'hidden_dim2': 150.0, 'hidden_dim3': 100.0}.\n",
            "Trial trainable_func_3b92bde2 reported score=0.49843068875326946,should_checkpoint=True with parameters={'act1 ': 'tanh', 'act2': 'selu', 'act3': 'selu', 'l1': 16, 'l2': 32, 'l3': 16, 'lr': 0.0007, 'batch_size': 8, 'hidden_dim1': 190.0, 'hidden_dim2': 50.0, 'hidden_dim3': 180.0}. This trial completed.\n",
            "Trial trainable_func_3f7fa6d6 reported score=0.4989056492162082,should_checkpoint=True with parameters={'act1 ': 'tanh', 'act2': 'relu', 'act3': 'relu', 'l1': 8, 'l2': 128, 'l3': 16, 'lr': 0.0007, 'batch_size': 8, 'hidden_dim1': 200.0, 'hidden_dim2': 150.0, 'hidden_dim3': 180.0}.\n",
            "Trial trainable_func_46793ce0 reported score=0.5797494172494173,should_checkpoint=True with parameters={'act1 ': 'selu', 'act2': 'relu', 'act3': 'relu', 'l1': 8, 'l2': 128, 'l3': 4, 'lr': 0.0007, 'batch_size': 16, 'hidden_dim1': 120.0, 'hidden_dim2': 150.0, 'hidden_dim3': 50.0}.\n",
            "Trial trainable_func_3f7fa6d6 reported score=0.4989056492162082,should_checkpoint=True with parameters={'act1 ': 'tanh', 'act2': 'relu', 'act3': 'relu', 'l1': 8, 'l2': 128, 'l3': 16, 'lr': 0.0007, 'batch_size': 8, 'hidden_dim1': 200.0, 'hidden_dim2': 150.0, 'hidden_dim3': 180.0}. This trial completed.\n",
            "== Status ==\n",
            "Current time: 2022-07-17 23:36:33 (running for 00:00:56.67)\n",
            "Memory usage on this node: 2.7/12.7 GiB\n",
            "Using AsyncHyperBand: num_stopped=7\n",
            "Bracket: Iter 8.000: 0.5068669690791389 | Iter 4.000: 0.4775198354393183\n",
            "Bracket: Iter 8.000: 0.49744633852868153\n",
            "Bracket: \n",
            "Bracket: \n",
            "Bracket: \n",
            "Resources requested: 2.0/2 CPUs, 0/0 GPUs, 0.0/7.38 GiB heap, 0.0/3.69 GiB objects\n",
            "Result logdir: /root/ray_results/trainable_func_2022-07-17_23-35-36\n",
            "Number of trials: 24/50 (1 PENDING, 4 RUNNING, 19 TERMINATED)\n",
            "\n",
            "\n",
            "Trial trainable_func_48a96ee0 reported score=0.47999708624708626,should_checkpoint=True with parameters={'act1 ': 'selu', 'act2': 'relu', 'act3': 'relu', 'l1': 8, 'l2': 128, 'l3': 4, 'lr': 0.0008, 'batch_size': 16, 'hidden_dim1': 120.0, 'hidden_dim2': 150.0, 'hidden_dim3': 50.0}.\n",
            "Trial trainable_func_432d7506 reported score=0.4775198354393183,should_checkpoint=True with parameters={'act1 ': 'tanh', 'act2': 'relu', 'act3': 'relu', 'l1': 8, 'l2': 128, 'l3': 32, 'lr': 0.0008, 'batch_size': 8, 'hidden_dim1': 120.0, 'hidden_dim2': 150.0, 'hidden_dim3': 100.0}.\n",
            "Trial trainable_func_413c934e reported score=0.4800583090379008,should_checkpoint=True with parameters={'act1 ': 'tanh', 'act2': 'relu', 'act3': 'relu', 'l1': 64, 'l2': 128, 'l3': 16, 'lr': 0.0007, 'batch_size': 8, 'hidden_dim1': 120.0, 'hidden_dim2': 150.0, 'hidden_dim3': 100.0}. This trial completed.\n",
            "Trial trainable_func_49f1196a reported score=0.5220862470862471,should_checkpoint=True with parameters={'act1 ': 'selu', 'act2': 'relu', 'act3': 'relu', 'l1': 128, 'l2': 128, 'l3': 32, 'lr': 0.0008, 'batch_size': 16, 'hidden_dim1': 120.0, 'hidden_dim2': 160.0, 'hidden_dim3': 50.0}.\n",
            "Trial trainable_func_46793ce0 reported score=0.5797494172494173,should_checkpoint=True with parameters={'act1 ': 'selu', 'act2': 'relu', 'act3': 'relu', 'l1': 8, 'l2': 128, 'l3': 4, 'lr': 0.0007, 'batch_size': 16, 'hidden_dim1': 120.0, 'hidden_dim2': 150.0, 'hidden_dim3': 50.0}.\n",
            "== Status ==\n",
            "Current time: 2022-07-17 23:36:38 (running for 00:01:02.11)\n",
            "Memory usage on this node: 2.7/12.7 GiB\n",
            "Using AsyncHyperBand: num_stopped=8\n",
            "Bracket: Iter 8.000: 0.5068615927123127 | Iter 4.000: 0.4775198354393183\n",
            "Bracket: Iter 8.000: 0.49744633852868153\n",
            "Bracket: \n",
            "Bracket: \n",
            "Bracket: \n",
            "Resources requested: 2.0/2 CPUs, 0/0 GPUs, 0.0/7.38 GiB heap, 0.0/3.69 GiB objects\n",
            "Result logdir: /root/ray_results/trainable_func_2022-07-17_23-35-36\n",
            "Number of trials: 25/50 (1 PENDING, 4 RUNNING, 20 TERMINATED)\n",
            "\n",
            "\n",
            "Trial trainable_func_48a96ee0 reported score=0.47999708624708626,should_checkpoint=True with parameters={'act1 ': 'selu', 'act2': 'relu', 'act3': 'relu', 'l1': 8, 'l2': 128, 'l3': 4, 'lr': 0.0008, 'batch_size': 16, 'hidden_dim1': 120.0, 'hidden_dim2': 150.0, 'hidden_dim3': 50.0}.\n",
            "Trial trainable_func_432d7506 reported score=0.4775198354393183,should_checkpoint=True with parameters={'act1 ': 'tanh', 'act2': 'relu', 'act3': 'relu', 'l1': 8, 'l2': 128, 'l3': 32, 'lr': 0.0008, 'batch_size': 8, 'hidden_dim1': 120.0, 'hidden_dim2': 150.0, 'hidden_dim3': 100.0}.\n",
            "Trial trainable_func_49f1196a reported score=0.5220862470862471,should_checkpoint=True with parameters={'act1 ': 'selu', 'act2': 'relu', 'act3': 'relu', 'l1': 128, 'l2': 128, 'l3': 32, 'lr': 0.0008, 'batch_size': 16, 'hidden_dim1': 120.0, 'hidden_dim2': 160.0, 'hidden_dim3': 50.0}.\n",
            "Trial trainable_func_46793ce0 reported score=0.5797494172494173,should_checkpoint=True with parameters={'act1 ': 'selu', 'act2': 'relu', 'act3': 'relu', 'l1': 8, 'l2': 128, 'l3': 4, 'lr': 0.0007, 'batch_size': 16, 'hidden_dim1': 120.0, 'hidden_dim2': 150.0, 'hidden_dim3': 50.0}.\n",
            "Trial trainable_func_432d7506 reported score=0.4775198354393183,should_checkpoint=True with parameters={'act1 ': 'tanh', 'act2': 'relu', 'act3': 'relu', 'l1': 8, 'l2': 128, 'l3': 32, 'lr': 0.0008, 'batch_size': 8, 'hidden_dim1': 120.0, 'hidden_dim2': 150.0, 'hidden_dim3': 100.0}. This trial completed.\n",
            "Trial trainable_func_46793ce0 reported score=0.5797494172494173,should_checkpoint=True with parameters={'act1 ': 'selu', 'act2': 'relu', 'act3': 'relu', 'l1': 8, 'l2': 128, 'l3': 4, 'lr': 0.0007, 'batch_size': 16, 'hidden_dim1': 120.0, 'hidden_dim2': 150.0, 'hidden_dim3': 50.0}. This trial completed.\n",
            "Trial trainable_func_5061669c reported score=0.6356457242582898,should_checkpoint=True with parameters={'act1 ': 'selu', 'act2': 'selu', 'act3': 'selu', 'l1': 128, 'l2': 4, 'l3': 4, 'lr': 0.0006000000000000001, 'batch_size': 32, 'hidden_dim1': 160.0, 'hidden_dim2': 170.0, 'hidden_dim3': 180.0}.\n",
            "== Status ==\n",
            "Current time: 2022-07-17 23:36:44 (running for 00:01:07.56)\n",
            "Memory usage on this node: 2.7/12.7 GiB\n",
            "Using AsyncHyperBand: num_stopped=9\n",
            "Bracket: Iter 8.000: 0.5028836209642604 | Iter 4.000: 0.47878907223860956\n",
            "Bracket: Iter 8.000: 0.49843068875326946\n",
            "Bracket: \n",
            "Bracket: \n",
            "Bracket: \n",
            "Resources requested: 2.0/2 CPUs, 0/0 GPUs, 0.0/7.38 GiB heap, 0.0/3.69 GiB objects\n",
            "Result logdir: /root/ray_results/trainable_func_2022-07-17_23-35-36\n",
            "Number of trials: 27/50 (1 PENDING, 4 RUNNING, 22 TERMINATED)\n",
            "\n",
            "\n",
            "Trial trainable_func_4b5e69ec reported score=0.48773391812865496,should_checkpoint=True with parameters={'act1 ': 'selu', 'act2': 'relu', 'act3': 'tanh', 'l1': 8, 'l2': 16, 'l3': 32, 'lr': 0.0008, 'batch_size': 16, 'hidden_dim1': 160.0, 'hidden_dim2': 170.0, 'hidden_dim3': 50.0}.\n",
            "Trial trainable_func_48a96ee0 reported score=0.47999708624708626,should_checkpoint=True with parameters={'act1 ': 'selu', 'act2': 'relu', 'act3': 'relu', 'l1': 8, 'l2': 128, 'l3': 4, 'lr': 0.0008, 'batch_size': 16, 'hidden_dim1': 120.0, 'hidden_dim2': 150.0, 'hidden_dim3': 50.0}. This trial completed.\n",
            "Trial trainable_func_49f1196a reported score=0.5220862470862471,should_checkpoint=True with parameters={'act1 ': 'selu', 'act2': 'relu', 'act3': 'relu', 'l1': 128, 'l2': 128, 'l3': 32, 'lr': 0.0008, 'batch_size': 16, 'hidden_dim1': 120.0, 'hidden_dim2': 160.0, 'hidden_dim3': 50.0}.\n",
            "Trial trainable_func_5080c0aa reported score=0.570460704607046,should_checkpoint=True with parameters={'act1 ': 'selu', 'act2': 'relu', 'act3': 'relu', 'l1': 8, 'l2': 16, 'l3': 4, 'lr': 0.0008, 'batch_size': 16, 'hidden_dim1': 160.0, 'hidden_dim2': 170.0, 'hidden_dim3': 50.0}.\n",
            "Trial trainable_func_49f1196a reported score=0.5220862470862471,should_checkpoint=True with parameters={'act1 ': 'selu', 'act2': 'relu', 'act3': 'relu', 'l1': 128, 'l2': 128, 'l3': 32, 'lr': 0.0008, 'batch_size': 16, 'hidden_dim1': 120.0, 'hidden_dim2': 160.0, 'hidden_dim3': 50.0}. This trial completed.\n",
            "== Status ==\n",
            "Current time: 2022-07-17 23:36:49 (running for 00:01:12.61)\n",
            "Memory usage on this node: 2.7/12.7 GiB\n",
            "Using AsyncHyperBand: num_stopped=9\n",
            "Bracket: Iter 8.000: 0.5068669690791389 | Iter 4.000: 0.4800583090379008\n",
            "Bracket: Iter 8.000: 0.49843068875326946\n",
            "Bracket: \n",
            "Bracket: \n",
            "Bracket: \n",
            "Resources requested: 2.0/2 CPUs, 0/0 GPUs, 0.0/7.38 GiB heap, 0.0/3.69 GiB objects\n",
            "Result logdir: /root/ray_results/trainable_func_2022-07-17_23-35-36\n",
            "Number of trials: 29/50 (1 PENDING, 4 RUNNING, 24 TERMINATED)\n",
            "\n",
            "\n",
            "Trial trainable_func_5236c458 reported score=0.49596136962247583,should_checkpoint=True with parameters={'act1 ': 'selu', 'act2': 'relu', 'act3': 'relu', 'l1': 128, 'l2': 16, 'l3': 4, 'lr': 0.0006000000000000001, 'batch_size': 16, 'hidden_dim1': 160.0, 'hidden_dim2': 170.0, 'hidden_dim3': 60.0}.\n",
            "Trial trainable_func_4b5e69ec reported score=0.48773391812865496,should_checkpoint=True with parameters={'act1 ': 'selu', 'act2': 'relu', 'act3': 'tanh', 'l1': 8, 'l2': 16, 'l3': 32, 'lr': 0.0008, 'batch_size': 16, 'hidden_dim1': 160.0, 'hidden_dim2': 170.0, 'hidden_dim3': 50.0}.\n",
            "Trial trainable_func_5061669c reported score=0.6356457242582898,should_checkpoint=True with parameters={'act1 ': 'selu', 'act2': 'selu', 'act3': 'selu', 'l1': 128, 'l2': 4, 'l3': 4, 'lr': 0.0006000000000000001, 'batch_size': 32, 'hidden_dim1': 160.0, 'hidden_dim2': 170.0, 'hidden_dim3': 180.0}.\n",
            "Trial trainable_func_5061669c reported score=0.6356457242582898,should_checkpoint=True with parameters={'act1 ': 'selu', 'act2': 'selu', 'act3': 'selu', 'l1': 128, 'l2': 4, 'l3': 4, 'lr': 0.0006000000000000001, 'batch_size': 32, 'hidden_dim1': 160.0, 'hidden_dim2': 170.0, 'hidden_dim3': 180.0}. This trial completed.\n",
            "Trial trainable_func_536cdb0a reported score=0.5677953722098866,should_checkpoint=True with parameters={'act1 ': 'selu', 'act2': 'relu', 'act3': 'tanh', 'l1': 8, 'l2': 16, 'l3': 4, 'lr': 0.0006000000000000001, 'batch_size': 16, 'hidden_dim1': 160.0, 'hidden_dim2': 200.0, 'hidden_dim3': 70.0}.\n",
            "Trial trainable_func_5080c0aa reported score=0.570460704607046,should_checkpoint=True with parameters={'act1 ': 'selu', 'act2': 'relu', 'act3': 'relu', 'l1': 8, 'l2': 16, 'l3': 4, 'lr': 0.0008, 'batch_size': 16, 'hidden_dim1': 160.0, 'hidden_dim2': 170.0, 'hidden_dim3': 50.0}.\n",
            "Trial trainable_func_4b5e69ec reported score=0.48773391812865496,should_checkpoint=True with parameters={'act1 ': 'selu', 'act2': 'relu', 'act3': 'tanh', 'l1': 8, 'l2': 16, 'l3': 32, 'lr': 0.0008, 'batch_size': 16, 'hidden_dim1': 160.0, 'hidden_dim2': 170.0, 'hidden_dim3': 50.0}. This trial completed.\n",
            "Trial trainable_func_5236c458 reported score=0.49596136962247583,should_checkpoint=True with parameters={'act1 ': 'selu', 'act2': 'relu', 'act3': 'relu', 'l1': 128, 'l2': 16, 'l3': 4, 'lr': 0.0006000000000000001, 'batch_size': 16, 'hidden_dim1': 160.0, 'hidden_dim2': 170.0, 'hidden_dim3': 60.0}.\n",
            "== Status ==\n",
            "Current time: 2022-07-17 23:36:54 (running for 00:01:18.01)\n",
            "Memory usage on this node: 2.7/12.7 GiB\n",
            "Using AsyncHyperBand: num_stopped=9\n",
            "Bracket: Iter 8.000: 0.5068669690791389 | Iter 4.000: 0.4894819791270545\n",
            "Bracket: Iter 8.000: 0.49843068875326946\n",
            "Bracket: \n",
            "Bracket: \n",
            "Bracket: \n",
            "Resources requested: 2.0/2 CPUs, 0/0 GPUs, 0.0/7.38 GiB heap, 0.0/3.69 GiB objects\n",
            "Result logdir: /root/ray_results/trainable_func_2022-07-17_23-35-36\n",
            "Number of trials: 31/50 (1 PENDING, 4 RUNNING, 26 TERMINATED)\n",
            "\n",
            "\n",
            "Trial trainable_func_54f263a0 reported score=0.4660009302866446,should_checkpoint=True with parameters={'act1 ': 'selu', 'act2': 'selu', 'act3': 'selu', 'l1': 128, 'l2': 4, 'l3': 4, 'lr': 0.0006000000000000001, 'batch_size': 32, 'hidden_dim1': 150.0, 'hidden_dim2': 200.0, 'hidden_dim3': 180.0}.\n",
            "Trial trainable_func_54f263a0 reported score=0.46598639455782315,should_checkpoint=True with parameters={'act1 ': 'selu', 'act2': 'selu', 'act3': 'selu', 'l1': 128, 'l2': 4, 'l3': 4, 'lr': 0.0006000000000000001, 'batch_size': 32, 'hidden_dim1': 150.0, 'hidden_dim2': 200.0, 'hidden_dim3': 180.0}. This trial completed.\n",
            "Trial trainable_func_5080c0aa reported score=0.570460704607046,should_checkpoint=True with parameters={'act1 ': 'selu', 'act2': 'relu', 'act3': 'relu', 'l1': 8, 'l2': 16, 'l3': 4, 'lr': 0.0008, 'batch_size': 16, 'hidden_dim1': 160.0, 'hidden_dim2': 170.0, 'hidden_dim3': 50.0}. This trial completed.\n",
            "Trial trainable_func_536cdb0a reported score=0.5677953722098866,should_checkpoint=True with parameters={'act1 ': 'selu', 'act2': 'relu', 'act3': 'tanh', 'l1': 8, 'l2': 16, 'l3': 4, 'lr': 0.0006000000000000001, 'batch_size': 16, 'hidden_dim1': 160.0, 'hidden_dim2': 200.0, 'hidden_dim3': 70.0}.\n",
            "Trial trainable_func_56ac0a02 reported score=0.5474981024113972,should_checkpoint=True with parameters={'act1 ': 'selu', 'act2': 'selu', 'act3': 'selu', 'l1': 128, 'l2': 4, 'l3': 4, 'lr': 0.0006000000000000001, 'batch_size': 32, 'hidden_dim1': 140.0, 'hidden_dim2': 200.0, 'hidden_dim3': 180.0}.\n",
            "Trial trainable_func_587df82c reported score=0.5739494563620335,should_checkpoint=True with parameters={'act1 ': 'selu', 'act2': 'selu', 'act3': 'selu', 'l1': 128, 'l2': 4, 'l3': 4, 'lr': 0.0005, 'batch_size': 32, 'hidden_dim1': 140.0, 'hidden_dim2': 180.0, 'hidden_dim3': 140.0}.\n",
            "Trial trainable_func_5236c458 reported score=0.49596136962247583,should_checkpoint=True with parameters={'act1 ': 'selu', 'act2': 'relu', 'act3': 'relu', 'l1': 128, 'l2': 16, 'l3': 4, 'lr': 0.0006000000000000001, 'batch_size': 16, 'hidden_dim1': 160.0, 'hidden_dim2': 170.0, 'hidden_dim3': 60.0}. This trial completed.\n",
            "Trial trainable_func_58c37a78 reported score=0.4685981855428738,should_checkpoint=True with parameters={'act1 ': 'selu', 'act2': 'selu', 'act3': 'selu', 'l1': 128, 'l2': 4, 'l3': 4, 'lr': 0.0005, 'batch_size': 32, 'hidden_dim1': 140.0, 'hidden_dim2': 190.0, 'hidden_dim3': 140.0}.\n",
            "== Status ==\n",
            "Current time: 2022-07-17 23:36:59 (running for 00:01:23.19)\n",
            "Memory usage on this node: 2.7/12.7 GiB\n",
            "Using AsyncHyperBand: num_stopped=10\n",
            "Bracket: Iter 8.000: 0.506872345445965 | Iter 4.000: 0.4894819791270545\n",
            "Bracket: Iter 8.000: 0.49843068875326946\n",
            "Bracket: \n",
            "Bracket: \n",
            "Bracket: \n",
            "Resources requested: 2.0/2 CPUs, 0/0 GPUs, 0.0/7.38 GiB heap, 0.0/3.69 GiB objects\n",
            "Result logdir: /root/ray_results/trainable_func_2022-07-17_23-35-36\n",
            "Number of trials: 34/50 (1 PENDING, 4 RUNNING, 29 TERMINATED)\n",
            "\n",
            "\n",
            "Trial trainable_func_536cdb0a reported score=0.5677953722098866,should_checkpoint=True with parameters={'act1 ': 'selu', 'act2': 'relu', 'act3': 'tanh', 'l1': 8, 'l2': 16, 'l3': 4, 'lr': 0.0006000000000000001, 'batch_size': 16, 'hidden_dim1': 160.0, 'hidden_dim2': 200.0, 'hidden_dim3': 70.0}. This trial completed.\n",
            "Trial trainable_func_59a6bfae reported score=0.37165977760959423,should_checkpoint=True with parameters={'act1 ': 'selu', 'act2': 'selu', 'act3': 'selu', 'l1': 128, 'l2': 4, 'l3': 4, 'lr': 0.0005, 'batch_size': 32, 'hidden_dim1': 140.0, 'hidden_dim2': 190.0, 'hidden_dim3': 140.0}.\n",
            "Trial trainable_func_56ac0a02 reported score=0.5474981024113972,should_checkpoint=True with parameters={'act1 ': 'selu', 'act2': 'selu', 'act3': 'selu', 'l1': 128, 'l2': 4, 'l3': 4, 'lr': 0.0006000000000000001, 'batch_size': 32, 'hidden_dim1': 140.0, 'hidden_dim2': 200.0, 'hidden_dim3': 180.0}.\n",
            "Trial trainable_func_587df82c reported score=0.5739494563620334,should_checkpoint=True with parameters={'act1 ': 'selu', 'act2': 'selu', 'act3': 'selu', 'l1': 128, 'l2': 4, 'l3': 4, 'lr': 0.0005, 'batch_size': 32, 'hidden_dim1': 140.0, 'hidden_dim2': 180.0, 'hidden_dim3': 140.0}.\n",
            "Trial trainable_func_56ac0a02 reported score=0.5474981024113972,should_checkpoint=True with parameters={'act1 ': 'selu', 'act2': 'selu', 'act3': 'selu', 'l1': 128, 'l2': 4, 'l3': 4, 'lr': 0.0006000000000000001, 'batch_size': 32, 'hidden_dim1': 140.0, 'hidden_dim2': 200.0, 'hidden_dim3': 180.0}. This trial completed.\n",
            "Trial trainable_func_5b85e962 reported score=0.4830701754385964,should_checkpoint=True with parameters={'act1 ': 'selu', 'act2': 'selu', 'act3': 'selu', 'l1': 128, 'l2': 4, 'l3': 4, 'lr': 0.0005, 'batch_size': 32, 'hidden_dim1': 140.0, 'hidden_dim2': 190.0, 'hidden_dim3': 140.0}.\n",
            "Trial trainable_func_587df82c reported score=0.5739494563620335,should_checkpoint=True with parameters={'act1 ': 'selu', 'act2': 'selu', 'act3': 'selu', 'l1': 128, 'l2': 4, 'l3': 4, 'lr': 0.0005, 'batch_size': 32, 'hidden_dim1': 140.0, 'hidden_dim2': 180.0, 'hidden_dim3': 140.0}. This trial completed.\n",
            "== Status ==\n",
            "Current time: 2022-07-17 23:37:04 (running for 00:01:28.35)\n",
            "Memory usage on this node: 2.7/12.7 GiB\n",
            "Using AsyncHyperBand: num_stopped=10\n",
            "Bracket: Iter 8.000: 0.514479296266106 | Iter 4.000: 0.4894819791270545\n",
            "Bracket: Iter 8.000: 0.49843068875326946\n",
            "Bracket: \n",
            "Bracket: \n",
            "Bracket: \n",
            "Resources requested: 2.0/2 CPUs, 0/0 GPUs, 0.0/7.38 GiB heap, 0.0/3.69 GiB objects\n",
            "Result logdir: /root/ray_results/trainable_func_2022-07-17_23-35-36\n",
            "Number of trials: 36/50 (1 PENDING, 4 RUNNING, 31 TERMINATED)\n",
            "\n",
            "\n",
            "Trial trainable_func_58c37a78 reported score=0.46861281826163304,should_checkpoint=True with parameters={'act1 ': 'selu', 'act2': 'selu', 'act3': 'selu', 'l1': 128, 'l2': 4, 'l3': 4, 'lr': 0.0005, 'batch_size': 32, 'hidden_dim1': 140.0, 'hidden_dim2': 190.0, 'hidden_dim3': 140.0}. This trial completed.\n",
            "Trial trainable_func_5cbff3d6 reported score=0.3885640025990903,should_checkpoint=True with parameters={'act1 ': 'selu', 'act2': 'selu', 'act3': 'selu', 'l1': 128, 'l2': 8, 'l3': 4, 'lr': 0.0005, 'batch_size': 32, 'hidden_dim1': 130.0, 'hidden_dim2': 180.0, 'hidden_dim3': 140.0}.\n",
            "Trial trainable_func_5d5e189a reported score=0.5330273892773894,should_checkpoint=True with parameters={'act1 ': 'selu', 'act2': 'selu', 'act3': 'tanh', 'l1': 8, 'l2': 8, 'l3': 4, 'lr': 0.0007, 'batch_size': 32, 'hidden_dim1': 130.0, 'hidden_dim2': 130.0, 'hidden_dim3': 70.0}.\n",
            "Trial trainable_func_59a6bfae reported score=0.37165977760959423,should_checkpoint=True with parameters={'act1 ': 'selu', 'act2': 'selu', 'act3': 'selu', 'l1': 128, 'l2': 4, 'l3': 4, 'lr': 0.0005, 'batch_size': 32, 'hidden_dim1': 140.0, 'hidden_dim2': 190.0, 'hidden_dim3': 140.0}.\n",
            "Trial trainable_func_5b85e962 reported score=0.4830701754385964,should_checkpoint=True with parameters={'act1 ': 'selu', 'act2': 'selu', 'act3': 'selu', 'l1': 128, 'l2': 4, 'l3': 4, 'lr': 0.0005, 'batch_size': 32, 'hidden_dim1': 140.0, 'hidden_dim2': 190.0, 'hidden_dim3': 140.0}. This trial completed.\n",
            "Trial trainable_func_59a6bfae reported score=0.37165977760959423,should_checkpoint=True with parameters={'act1 ': 'selu', 'act2': 'selu', 'act3': 'selu', 'l1': 128, 'l2': 4, 'l3': 4, 'lr': 0.0005, 'batch_size': 32, 'hidden_dim1': 140.0, 'hidden_dim2': 190.0, 'hidden_dim3': 140.0}. This trial completed.\n",
            "== Status ==\n",
            "Current time: 2022-07-17 23:37:09 (running for 00:01:33.37)\n",
            "Memory usage on this node: 2.6/12.7 GiB\n",
            "Using AsyncHyperBand: num_stopped=12\n",
            "Bracket: Iter 8.000: 0.514479296266106 | Iter 4.000: 0.4989056492162082\n",
            "Bracket: Iter 8.000: 0.4964619883040936\n",
            "Bracket: \n",
            "Bracket: \n",
            "Bracket: \n",
            "Resources requested: 2.0/2 CPUs, 0/0 GPUs, 0.0/7.38 GiB heap, 0.0/3.69 GiB objects\n",
            "Result logdir: /root/ray_results/trainable_func_2022-07-17_23-35-36\n",
            "Number of trials: 39/50 (1 PENDING, 4 RUNNING, 34 TERMINATED)\n",
            "\n",
            "\n",
            "Trial trainable_func_5d74349a reported score=0.5314958318656804,should_checkpoint=True with parameters={'act1 ': 'selu', 'act2': 'relu', 'act3': 'tanh', 'l1': 4, 'l2': 8, 'l3': 64, 'lr': 0.0007, 'batch_size': 32, 'hidden_dim1': 130.0, 'hidden_dim2': 140.0, 'hidden_dim3': 70.0}.\n",
            "Trial trainable_func_5cbff3d6 reported score=0.3885640025990903,should_checkpoint=True with parameters={'act1 ': 'selu', 'act2': 'selu', 'act3': 'selu', 'l1': 128, 'l2': 8, 'l3': 4, 'lr': 0.0005, 'batch_size': 32, 'hidden_dim1': 130.0, 'hidden_dim2': 180.0, 'hidden_dim3': 140.0}.\n",
            "Trial trainable_func_604ea704 reported score=0.4764489555751691,should_checkpoint=True with parameters={'act1 ': 'selu', 'act2': 'relu', 'act3': 'tanh', 'l1': 4, 'l2': 8, 'l3': 64, 'lr': 0.0007, 'batch_size': 16, 'hidden_dim1': 100.0, 'hidden_dim2': 140.0, 'hidden_dim3': 70.0}.\n",
            "Trial trainable_func_5d5e189a reported score=0.5330273892773894,should_checkpoint=True with parameters={'act1 ': 'selu', 'act2': 'selu', 'act3': 'tanh', 'l1': 8, 'l2': 8, 'l3': 4, 'lr': 0.0007, 'batch_size': 32, 'hidden_dim1': 130.0, 'hidden_dim2': 130.0, 'hidden_dim3': 70.0}.\n",
            "Trial trainable_func_5d5e189a reported score=0.5330273892773894,should_checkpoint=True with parameters={'act1 ': 'selu', 'act2': 'selu', 'act3': 'tanh', 'l1': 8, 'l2': 8, 'l3': 4, 'lr': 0.0007, 'batch_size': 32, 'hidden_dim1': 130.0, 'hidden_dim2': 130.0, 'hidden_dim3': 70.0}. This trial completed.\n",
            "Trial trainable_func_5cbff3d6 reported score=0.3885640025990903,should_checkpoint=True with parameters={'act1 ': 'selu', 'act2': 'selu', 'act3': 'selu', 'l1': 128, 'l2': 8, 'l3': 4, 'lr': 0.0005, 'batch_size': 32, 'hidden_dim1': 130.0, 'hidden_dim2': 180.0, 'hidden_dim3': 140.0}. This trial completed.\n",
            "Trial trainable_func_605ce35a reported score=0.6069724284199364,should_checkpoint=True with parameters={'act1 ': 'selu', 'act2': 'relu', 'act3': 'tanh', 'l1': 4, 'l2': 256, 'l3': 64, 'lr': 0.0007, 'batch_size': 16, 'hidden_dim1': 100.0, 'hidden_dim2': 130.0, 'hidden_dim3': 70.0}.\n",
            "Trial trainable_func_61b5188a reported score=0.5773391812865498,should_checkpoint=True with parameters={'act1 ': 'selu', 'act2': 'relu', 'act3': 'relu', 'l1': 4, 'l2': 256, 'l3': 64, 'lr': 0.0009, 'batch_size': 16, 'hidden_dim1': 100.0, 'hidden_dim2': 140.0, 'hidden_dim3': 190.0}.\n",
            "== Status ==\n",
            "Current time: 2022-07-17 23:37:15 (running for 00:01:38.54)\n",
            "Memory usage on this node: 2.7/12.7 GiB\n",
            "Using AsyncHyperBand: num_stopped=12\n",
            "Bracket: Iter 8.000: 0.5220862470862471 | Iter 4.000: 0.4989056492162082\n",
            "Bracket: Iter 8.000: 0.4964619883040936\n",
            "Bracket: \n",
            "Bracket: \n",
            "Bracket: \n",
            "Resources requested: 2.0/2 CPUs, 0/0 GPUs, 0.0/7.38 GiB heap, 0.0/3.69 GiB objects\n",
            "Result logdir: /root/ray_results/trainable_func_2022-07-17_23-35-36\n",
            "Number of trials: 42/50 (1 PENDING, 4 RUNNING, 37 TERMINATED)\n",
            "\n",
            "\n",
            "Trial trainable_func_5d74349a reported score=0.5314958318656804,should_checkpoint=True with parameters={'act1 ': 'selu', 'act2': 'relu', 'act3': 'tanh', 'l1': 4, 'l2': 8, 'l3': 64, 'lr': 0.0007, 'batch_size': 32, 'hidden_dim1': 130.0, 'hidden_dim2': 140.0, 'hidden_dim3': 70.0}.\n",
            "Trial trainable_func_5d74349a reported score=0.5314958318656804,should_checkpoint=True with parameters={'act1 ': 'selu', 'act2': 'relu', 'act3': 'tanh', 'l1': 4, 'l2': 8, 'l3': 64, 'lr': 0.0007, 'batch_size': 32, 'hidden_dim1': 130.0, 'hidden_dim2': 140.0, 'hidden_dim3': 70.0}. This trial completed.\n",
            "Trial trainable_func_604ea704 reported score=0.4764489555751691,should_checkpoint=True with parameters={'act1 ': 'selu', 'act2': 'relu', 'act3': 'tanh', 'l1': 4, 'l2': 8, 'l3': 64, 'lr': 0.0007, 'batch_size': 16, 'hidden_dim1': 100.0, 'hidden_dim2': 140.0, 'hidden_dim3': 70.0}.\n",
            "Trial trainable_func_61cee8fa reported score=0.40723711099433646,should_checkpoint=True with parameters={'act1 ': 'relu', 'act2': 'relu', 'act3': 'tanh', 'l1': 4, 'l2': 256, 'l3': 64, 'lr': 0.0009, 'batch_size': 16, 'hidden_dim1': 100.0, 'hidden_dim2': 140.0, 'hidden_dim3': 190.0}.\n",
            "Trial trainable_func_604ea704 reported score=0.4764489555751691,should_checkpoint=True with parameters={'act1 ': 'selu', 'act2': 'relu', 'act3': 'tanh', 'l1': 4, 'l2': 8, 'l3': 64, 'lr': 0.0007, 'batch_size': 16, 'hidden_dim1': 100.0, 'hidden_dim2': 140.0, 'hidden_dim3': 70.0}. This trial completed.\n",
            "Trial trainable_func_605ce35a reported score=0.6069724284199364,should_checkpoint=True with parameters={'act1 ': 'selu', 'act2': 'relu', 'act3': 'tanh', 'l1': 4, 'l2': 256, 'l3': 64, 'lr': 0.0007, 'batch_size': 16, 'hidden_dim1': 100.0, 'hidden_dim2': 130.0, 'hidden_dim3': 70.0}.\n",
            "Trial trainable_func_61b5188a reported score=0.5773391812865498,should_checkpoint=True with parameters={'act1 ': 'selu', 'act2': 'relu', 'act3': 'relu', 'l1': 4, 'l2': 256, 'l3': 64, 'lr': 0.0009, 'batch_size': 16, 'hidden_dim1': 100.0, 'hidden_dim2': 140.0, 'hidden_dim3': 190.0}.\n",
            "Trial trainable_func_643ce4b6 reported score=0.5737052391252103,should_checkpoint=True with parameters={'act1 ': 'relu', 'act2': 'tanh', 'act3': 'relu', 'l1': 256, 'l2': 256, 'l3': 64, 'lr': 0.0009, 'batch_size': 16, 'hidden_dim1': 100.0, 'hidden_dim2': 160.0, 'hidden_dim3': 170.0}.\n",
            "== Status ==\n",
            "Current time: 2022-07-17 23:37:20 (running for 00:01:43.55)\n",
            "Memory usage on this node: 2.7/12.7 GiB\n",
            "Using AsyncHyperBand: num_stopped=13\n",
            "Bracket: Iter 8.000: 0.5220862470862471 | Iter 4.000: 0.5068615927123127\n",
            "Bracket: Iter 8.000: 0.489766081871345\n",
            "Bracket: \n",
            "Bracket: \n",
            "Bracket: \n",
            "Resources requested: 2.0/2 CPUs, 0/0 GPUs, 0.0/7.38 GiB heap, 0.0/3.69 GiB objects\n",
            "Result logdir: /root/ray_results/trainable_func_2022-07-17_23-35-36\n",
            "Number of trials: 44/50 (1 PENDING, 4 RUNNING, 39 TERMINATED)\n",
            "\n",
            "\n",
            "Trial trainable_func_61cee8fa reported score=0.40723711099433646,should_checkpoint=True with parameters={'act1 ': 'relu', 'act2': 'relu', 'act3': 'tanh', 'l1': 4, 'l2': 256, 'l3': 64, 'lr': 0.0009, 'batch_size': 16, 'hidden_dim1': 100.0, 'hidden_dim2': 140.0, 'hidden_dim3': 190.0}. This trial completed.\n",
            "Trial trainable_func_652fb132 reported score=0.5496488147497804,should_checkpoint=True with parameters={'act1 ': 'relu', 'act2': 'tanh', 'act3': 'relu', 'l1': 256, 'l2': 256, 'l3': 256, 'lr': 0.0009, 'batch_size': 16, 'hidden_dim1': 110.0, 'hidden_dim2': 160.0, 'hidden_dim3': 190.0}.\n",
            "Trial trainable_func_605ce35a reported score=0.6069724284199364,should_checkpoint=True with parameters={'act1 ': 'selu', 'act2': 'relu', 'act3': 'tanh', 'l1': 4, 'l2': 256, 'l3': 64, 'lr': 0.0007, 'batch_size': 16, 'hidden_dim1': 100.0, 'hidden_dim2': 130.0, 'hidden_dim3': 70.0}. This trial completed.\n",
            "Trial trainable_func_61b5188a reported score=0.5773391812865498,should_checkpoint=True with parameters={'act1 ': 'selu', 'act2': 'relu', 'act3': 'relu', 'l1': 4, 'l2': 256, 'l3': 64, 'lr': 0.0009, 'batch_size': 16, 'hidden_dim1': 100.0, 'hidden_dim2': 140.0, 'hidden_dim3': 190.0}. This trial completed.\n",
            "Trial trainable_func_66a94942 reported score=0.5625436452513967,should_checkpoint=True with parameters={'act1 ': 'tanh', 'act2': 'tanh', 'act3': 'relu', 'l1': 256, 'l2': 256, 'l3': 256, 'lr': 0.0006000000000000001, 'batch_size': 16, 'hidden_dim1': 170.0, 'hidden_dim2': 160.0, 'hidden_dim3': 120.0}.\n",
            "Trial trainable_func_67c38680 reported score=0.5137460558606988,should_checkpoint=True with parameters={'act1 ': 'selu', 'act2': 'tanh', 'act3': 'tanh', 'l1': 256, 'l2': 256, 'l3': 64, 'lr': 0.0006000000000000001, 'batch_size': 16, 'hidden_dim1': 110.0, 'hidden_dim2': 110.0, 'hidden_dim3': 60.0}.\n",
            "Trial trainable_func_643ce4b6 reported score=0.5737052391252103,should_checkpoint=True with parameters={'act1 ': 'relu', 'act2': 'tanh', 'act3': 'relu', 'l1': 256, 'l2': 256, 'l3': 64, 'lr': 0.0009, 'batch_size': 16, 'hidden_dim1': 100.0, 'hidden_dim2': 160.0, 'hidden_dim3': 170.0}.\n",
            "== Status ==\n",
            "Current time: 2022-07-17 23:37:25 (running for 00:01:48.99)\n",
            "Memory usage on this node: 2.7/12.7 GiB\n",
            "Using AsyncHyperBand: num_stopped=14\n",
            "Bracket: Iter 8.000: 0.5330273892773894 | Iter 4.000: 0.5068615927123127\n",
            "Bracket: Iter 8.000: 0.489766081871345\n",
            "Bracket: \n",
            "Bracket: \n",
            "Bracket: \n",
            "Resources requested: 2.0/2 CPUs, 0/0 GPUs, 0.0/7.38 GiB heap, 0.0/3.69 GiB objects\n",
            "Result logdir: /root/ray_results/trainable_func_2022-07-17_23-35-36\n",
            "Number of trials: 47/50 (1 PENDING, 4 RUNNING, 42 TERMINATED)\n",
            "\n",
            "\n",
            "Trial trainable_func_652fb132 reported score=0.5496488147497804,should_checkpoint=True with parameters={'act1 ': 'relu', 'act2': 'tanh', 'act3': 'relu', 'l1': 256, 'l2': 256, 'l3': 256, 'lr': 0.0009, 'batch_size': 16, 'hidden_dim1': 110.0, 'hidden_dim2': 160.0, 'hidden_dim3': 190.0}.\n",
            "Trial trainable_func_643ce4b6 reported score=0.5737052391252103,should_checkpoint=True with parameters={'act1 ': 'relu', 'act2': 'tanh', 'act3': 'relu', 'l1': 256, 'l2': 256, 'l3': 64, 'lr': 0.0009, 'batch_size': 16, 'hidden_dim1': 100.0, 'hidden_dim2': 160.0, 'hidden_dim3': 170.0}. This trial completed.\n",
            "Trial trainable_func_66a94942 reported score=0.5625436452513967,should_checkpoint=True with parameters={'act1 ': 'tanh', 'act2': 'tanh', 'act3': 'relu', 'l1': 256, 'l2': 256, 'l3': 256, 'lr': 0.0006000000000000001, 'batch_size': 16, 'hidden_dim1': 170.0, 'hidden_dim2': 160.0, 'hidden_dim3': 120.0}.\n",
            "Trial trainable_func_67c38680 reported score=0.5137460558606988,should_checkpoint=True with parameters={'act1 ': 'selu', 'act2': 'tanh', 'act3': 'tanh', 'l1': 256, 'l2': 256, 'l3': 64, 'lr': 0.0006000000000000001, 'batch_size': 16, 'hidden_dim1': 110.0, 'hidden_dim2': 110.0, 'hidden_dim3': 60.0}.\n",
            "Trial trainable_func_68312dac reported score=0.6071849929211893,should_checkpoint=True with parameters={'act1 ': 'tanh', 'act2': 'tanh', 'act3': 'tanh', 'l1': 256, 'l2': 256, 'l3': 256, 'lr': 0.0006000000000000001, 'batch_size': 16, 'hidden_dim1': 70.0, 'hidden_dim2': 110.0, 'hidden_dim3': 60.0}.\n",
            "== Status ==\n",
            "Current time: 2022-07-17 23:37:30 (running for 00:01:54.02)\n",
            "Memory usage on this node: 2.7/12.7 GiB\n",
            "Using AsyncHyperBand: num_stopped=14\n",
            "Bracket: Iter 8.000: 0.5392329619863523 | Iter 4.000: 0.506872345445965\n",
            "Bracket: Iter 8.000: 0.489766081871345\n",
            "Bracket: \n",
            "Bracket: \n",
            "Bracket: \n",
            "Resources requested: 2.0/2 CPUs, 0/0 GPUs, 0.0/7.38 GiB heap, 0.0/3.69 GiB objects\n",
            "Result logdir: /root/ray_results/trainable_func_2022-07-17_23-35-36\n",
            "Number of trials: 48/50 (1 PENDING, 4 RUNNING, 43 TERMINATED)\n",
            "\n",
            "\n",
            "Trial trainable_func_67c38680 reported score=0.5137460558606988,should_checkpoint=True with parameters={'act1 ': 'selu', 'act2': 'tanh', 'act3': 'tanh', 'l1': 256, 'l2': 256, 'l3': 64, 'lr': 0.0006000000000000001, 'batch_size': 16, 'hidden_dim1': 110.0, 'hidden_dim2': 110.0, 'hidden_dim3': 60.0}. This trial completed.\n",
            "Trial trainable_func_652fb132 reported score=0.5496488147497804,should_checkpoint=True with parameters={'act1 ': 'relu', 'act2': 'tanh', 'act3': 'relu', 'l1': 256, 'l2': 256, 'l3': 256, 'lr': 0.0009, 'batch_size': 16, 'hidden_dim1': 110.0, 'hidden_dim2': 160.0, 'hidden_dim3': 190.0}. This trial completed.\n",
            "Trial trainable_func_6b87be8a reported score=0.565009874917709,should_checkpoint=True with parameters={'act1 ': 'tanh', 'act2': 'relu', 'act3': 'tanh', 'l1': 32, 'l2': 64, 'l3': 256, 'lr': 0.0006000000000000001, 'batch_size': 16, 'hidden_dim1': 110.0, 'hidden_dim2': 120.0, 'hidden_dim3': 60.0}.\n",
            "Trial trainable_func_6cfc3502 reported score=0.5423986986098788,should_checkpoint=True with parameters={'act1 ': 'tanh', 'act2': 'relu', 'act3': 'tanh', 'l1': 32, 'l2': 64, 'l3': 8, 'lr': 0.0007, 'batch_size': 16, 'hidden_dim1': 90.0, 'hidden_dim2': 170.0, 'hidden_dim3': 60.0}.\n",
            "Trial trainable_func_66a94942 reported score=0.5625436452513967,should_checkpoint=True with parameters={'act1 ': 'tanh', 'act2': 'tanh', 'act3': 'relu', 'l1': 256, 'l2': 256, 'l3': 256, 'lr': 0.0006000000000000001, 'batch_size': 16, 'hidden_dim1': 170.0, 'hidden_dim2': 160.0, 'hidden_dim3': 120.0}. This trial completed.\n",
            "Trial trainable_func_6d15657c reported score=0.3911469598654169,should_checkpoint=True with parameters={'act1 ': 'tanh', 'act2': 'relu', 'act3': 'tanh', 'l1': 32, 'l2': 64, 'l3': 16, 'lr': 0.0007, 'batch_size': 16, 'hidden_dim1': 70.0, 'hidden_dim2': 120.0, 'hidden_dim3': 120.0}.\n",
            "Trial trainable_func_68312dac reported score=0.6071849929211893,should_checkpoint=True with parameters={'act1 ': 'tanh', 'act2': 'tanh', 'act3': 'tanh', 'l1': 256, 'l2': 256, 'l3': 256, 'lr': 0.0006000000000000001, 'batch_size': 16, 'hidden_dim1': 70.0, 'hidden_dim2': 110.0, 'hidden_dim3': 60.0}.\n",
            "== Status ==\n",
            "Current time: 2022-07-17 23:37:35 (running for 00:01:59.38)\n",
            "Memory usage on this node: 2.7/12.7 GiB\n",
            "Using AsyncHyperBand: num_stopped=15\n",
            "Bracket: Iter 8.000: 0.5392329619863523 | Iter 4.000: 0.5103092006533319\n",
            "Bracket: Iter 8.000: 0.489766081871345\n",
            "Bracket: \n",
            "Bracket: \n",
            "Bracket: \n",
            "Resources requested: 2.0/2 CPUs, 0/0 GPUs, 0.0/7.38 GiB heap, 0.0/3.69 GiB objects\n",
            "Result logdir: /root/ray_results/trainable_func_2022-07-17_23-35-36\n",
            "Number of trials: 50/50 (4 RUNNING, 46 TERMINATED)\n",
            "\n",
            "\n",
            "Trial trainable_func_6b87be8a reported score=0.565009874917709,should_checkpoint=True with parameters={'act1 ': 'tanh', 'act2': 'relu', 'act3': 'tanh', 'l1': 32, 'l2': 64, 'l3': 256, 'lr': 0.0006000000000000001, 'batch_size': 16, 'hidden_dim1': 110.0, 'hidden_dim2': 120.0, 'hidden_dim3': 60.0}.\n",
            "Trial trainable_func_6cfc3502 reported score=0.5423986986098788,should_checkpoint=True with parameters={'act1 ': 'tanh', 'act2': 'relu', 'act3': 'tanh', 'l1': 32, 'l2': 64, 'l3': 8, 'lr': 0.0007, 'batch_size': 16, 'hidden_dim1': 90.0, 'hidden_dim2': 170.0, 'hidden_dim3': 60.0}.\n",
            "Trial trainable_func_68312dac reported score=0.6071849929211893,should_checkpoint=True with parameters={'act1 ': 'tanh', 'act2': 'tanh', 'act3': 'tanh', 'l1': 256, 'l2': 256, 'l3': 256, 'lr': 0.0006000000000000001, 'batch_size': 16, 'hidden_dim1': 70.0, 'hidden_dim2': 110.0, 'hidden_dim3': 60.0}. This trial completed.\n",
            "Trial trainable_func_6d15657c reported score=0.3911469598654169,should_checkpoint=True with parameters={'act1 ': 'tanh', 'act2': 'relu', 'act3': 'tanh', 'l1': 32, 'l2': 64, 'l3': 16, 'lr': 0.0007, 'batch_size': 16, 'hidden_dim1': 70.0, 'hidden_dim2': 120.0, 'hidden_dim3': 120.0}.\n",
            "== Status ==\n",
            "Current time: 2022-07-17 23:37:40 (running for 00:02:04.40)\n",
            "Memory usage on this node: 2.5/12.7 GiB\n",
            "Using AsyncHyperBand: num_stopped=15\n",
            "Bracket: Iter 8.000: 0.5454385346953153 | Iter 4.000: 0.5103092006533319\n",
            "Bracket: Iter 8.000: 0.4964619883040936\n",
            "Bracket: \n",
            "Bracket: \n",
            "Bracket: \n",
            "Resources requested: 1.5/2 CPUs, 0/0 GPUs, 0.0/7.38 GiB heap, 0.0/3.69 GiB objects\n",
            "Result logdir: /root/ray_results/trainable_func_2022-07-17_23-35-36\n",
            "Number of trials: 50/50 (3 RUNNING, 47 TERMINATED)\n",
            "\n",
            "\n",
            "Trial trainable_func_6b87be8a reported score=0.565009874917709,should_checkpoint=True with parameters={'act1 ': 'tanh', 'act2': 'relu', 'act3': 'tanh', 'l1': 32, 'l2': 64, 'l3': 256, 'lr': 0.0006000000000000001, 'batch_size': 16, 'hidden_dim1': 110.0, 'hidden_dim2': 120.0, 'hidden_dim3': 60.0}. This trial completed.\n",
            "Trial trainable_func_6cfc3502 reported score=0.5423986986098788,should_checkpoint=True with parameters={'act1 ': 'tanh', 'act2': 'relu', 'act3': 'tanh', 'l1': 32, 'l2': 64, 'l3': 8, 'lr': 0.0007, 'batch_size': 16, 'hidden_dim1': 90.0, 'hidden_dim2': 170.0, 'hidden_dim3': 60.0}. This trial completed.\n"
          ]
        },
        {
          "output_type": "stream",
          "name": "stderr",
          "text": [
            "2022-07-17 23:37:42,516\tINFO tune.py:748 -- Total run time: 126.08 seconds (125.91 seconds for the tuning loop).\n"
          ]
        },
        {
          "output_type": "stream",
          "name": "stdout",
          "text": [
            "Trial trainable_func_6d15657c reported score=0.3911469598654169,should_checkpoint=True with parameters={'act1 ': 'tanh', 'act2': 'relu', 'act3': 'tanh', 'l1': 32, 'l2': 64, 'l3': 16, 'lr': 0.0007, 'batch_size': 16, 'hidden_dim1': 70.0, 'hidden_dim2': 120.0, 'hidden_dim3': 120.0}. This trial completed.\n",
            "== Status ==\n",
            "Current time: 2022-07-17 23:37:42 (running for 00:02:05.94)\n",
            "Memory usage on this node: 2.0/12.7 GiB\n",
            "Using AsyncHyperBand: num_stopped=15\n",
            "Bracket: Iter 8.000: 0.5454385346953153 | Iter 4.000: 0.5103092006533319\n",
            "Bracket: Iter 8.000: 0.4964619883040936\n",
            "Bracket: \n",
            "Bracket: \n",
            "Bracket: \n",
            "Resources requested: 0/2 CPUs, 0/0 GPUs, 0.0/7.38 GiB heap, 0.0/3.69 GiB objects\n",
            "Result logdir: /root/ray_results/trainable_func_2022-07-17_23-35-36\n",
            "Number of trials: 50/50 (50 TERMINATED)\n",
            "+-------------------------+------------+------------------+------+------+--------+--------------+----------+----------------------+\n",
            "| Trial name              | status     | loc              |   l1 |   l2 |     lr |   batch_size |    score |   training_iteration |\n",
            "|-------------------------+------------+------------------+------+------+--------+--------------+----------+----------------------|\n",
            "| trainable_func_28b36e60 | TERMINATED | 172.28.0.2:53398 |  128 |  256 | 0.0008 |           16 | 0.593196 |                   10 |\n",
            "| trainable_func_28d3395c | TERMINATED | 172.28.0.2:53399 |  256 |    8 | 0.0005 |           32 | 0.41036  |                   10 |\n",
            "| trainable_func_28d68f58 | TERMINATED | 172.28.0.2:53463 |    4 |  256 | 0.0009 |           16 | 0.506872 |                   10 |\n",
            "| trainable_func_28d9ee46 | TERMINATED | 172.28.0.2:53452 |   32 |   64 | 0.001  |           32 | 0.401333 |                   10 |\n",
            "| trainable_func_28dddcfe | TERMINATED | 172.28.0.2:53399 |  128 |  256 | 0.0008 |           16 | 0.438173 |                    4 |\n",
            "| trainable_func_30b9d018 | TERMINATED | 172.28.0.2:53398 |  128 |  256 | 0.0006 |           32 | 0.412383 |                   10 |\n",
            "| trainable_func_32b37edc | TERMINATED | 172.28.0.2:53399 |  256 |  256 | 0.0006 |           16 | 0.537458 |                   10 |\n",
            "| trainable_func_3347042c | TERMINATED | 172.28.0.2:53452 |    8 |   64 | 0.001  |           16 | 0.465629 |                    4 |\n",
            "| trainable_func_33fa2a20 | TERMINATED | 172.28.0.2:53463 |   16 |   32 | 0.0006 |           32 | 0.545439 |                   10 |\n",
            "| trainable_func_3639cbf6 | TERMINATED | 172.28.0.2:53452 |    4 |    4 | 0.0009 |            8 | 0.506862 |                    8 |\n",
            "| trainable_func_36701a3a | TERMINATED | 172.28.0.2:53398 |   32 |    8 | 0.001  |            8 | 0.474134 |                    4 |\n",
            "| trainable_func_370fa8e8 | TERMINATED | 172.28.0.2:53399 |   32 |   16 | 0.0005 |           16 | 0.496462 |                   10 |\n",
            "| trainable_func_3978c33a | TERMINATED | 172.28.0.2:53463 |  256 |    4 | 0.0009 |           32 | 0.411871 |                    4 |\n",
            "| trainable_func_3a0bc310 | TERMINATED | 172.28.0.2:53398 |    8 |    4 | 0.0007 |           32 | 0.622481 |                   10 |\n",
            "| trainable_func_3b396670 | TERMINATED | 172.28.0.2:53463 |   64 |    4 | 0.0008 |            8 | 0.51866  |                   10 |\n",
            "| trainable_func_3b92bde2 | TERMINATED | 172.28.0.2:53452 |   16 |   32 | 0.0007 |            8 | 0.498431 |                   10 |\n",
            "| trainable_func_3f268484 | TERMINATED | 172.28.0.2:53399 |   16 |   32 | 0.0007 |           32 | 0.329591 |                   10 |\n",
            "| trainable_func_3f5b065a | TERMINATED | 172.28.0.2:53398 |   16 |   32 | 0.0007 |           32 | 0.360253 |                    4 |\n",
            "| trainable_func_3f7fa6d6 | TERMINATED | 172.28.0.2:53398 |    8 |  128 | 0.0007 |            8 | 0.498906 |                    8 |\n",
            "| trainable_func_413c934e | TERMINATED | 172.28.0.2:53399 |   64 |  128 | 0.0007 |            8 | 0.480058 |                    8 |\n",
            "| trainable_func_432d7506 | TERMINATED | 172.28.0.2:53463 |    8 |  128 | 0.0008 |            8 | 0.47752  |                    8 |\n",
            "| trainable_func_46793ce0 | TERMINATED | 172.28.0.2:53452 |    8 |  128 | 0.0007 |           16 | 0.579749 |                   10 |\n",
            "| trainable_func_48a96ee0 | TERMINATED | 172.28.0.2:53398 |    8 |  128 | 0.0008 |           16 | 0.479997 |                   10 |\n",
            "| trainable_func_49f1196a | TERMINATED | 172.28.0.2:53399 |  128 |  128 | 0.0008 |           16 | 0.522086 |                   10 |\n",
            "| trainable_func_4b5e69ec | TERMINATED | 172.28.0.2:53463 |    8 |   16 | 0.0008 |           16 | 0.487734 |                   10 |\n",
            "| trainable_func_5061669c | TERMINATED | 172.28.0.2:53452 |  128 |    4 | 0.0006 |           32 | 0.635646 |                   10 |\n",
            "| trainable_func_5080c0aa | TERMINATED | 172.28.0.2:53398 |    8 |   16 | 0.0008 |           16 | 0.570461 |                   10 |\n",
            "| trainable_func_5236c458 | TERMINATED | 172.28.0.2:53399 |  128 |   16 | 0.0006 |           16 | 0.495961 |                   10 |\n",
            "| trainable_func_536cdb0a | TERMINATED | 172.28.0.2:53452 |    8 |   16 | 0.0006 |           16 | 0.567795 |                   10 |\n",
            "| trainable_func_54f263a0 | TERMINATED | 172.28.0.2:53463 |  128 |    4 | 0.0006 |           32 | 0.465986 |                    4 |\n",
            "| trainable_func_56ac0a02 | TERMINATED | 172.28.0.2:53463 |  128 |    4 | 0.0006 |           32 | 0.547498 |                   10 |\n",
            "| trainable_func_587df82c | TERMINATED | 172.28.0.2:53398 |  128 |    4 | 0.0005 |           32 | 0.573949 |                   10 |\n",
            "| trainable_func_58c37a78 | TERMINATED | 172.28.0.2:53399 |  128 |    4 | 0.0005 |           32 | 0.468613 |                    8 |\n",
            "| trainable_func_59a6bfae | TERMINATED | 172.28.0.2:53452 |  128 |    4 | 0.0005 |           32 | 0.37166  |                   10 |\n",
            "| trainable_func_5b85e962 | TERMINATED | 172.28.0.2:53463 |  128 |    4 | 0.0005 |           32 | 0.48307  |                    8 |\n",
            "| trainable_func_5cbff3d6 | TERMINATED | 172.28.0.2:53398 |  128 |    8 | 0.0005 |           32 | 0.388564 |                   10 |\n",
            "| trainable_func_5d5e189a | TERMINATED | 172.28.0.2:53399 |    8 |    8 | 0.0007 |           32 | 0.533027 |                   10 |\n",
            "| trainable_func_5d74349a | TERMINATED | 172.28.0.2:53463 |    4 |    8 | 0.0007 |           32 | 0.531496 |                   10 |\n",
            "| trainable_func_604ea704 | TERMINATED | 172.28.0.2:53452 |    4 |    8 | 0.0007 |           16 | 0.476449 |                    8 |\n",
            "| trainable_func_605ce35a | TERMINATED | 172.28.0.2:53399 |    4 |  256 | 0.0007 |           16 | 0.606972 |                   10 |\n",
            "| trainable_func_61b5188a | TERMINATED | 172.28.0.2:53398 |    4 |  256 | 0.0009 |           16 | 0.577339 |                   10 |\n",
            "| trainable_func_61cee8fa | TERMINATED | 172.28.0.2:53463 |    4 |  256 | 0.0009 |           16 | 0.407237 |                    4 |\n",
            "| trainable_func_643ce4b6 | TERMINATED | 172.28.0.2:53452 |  256 |  256 | 0.0009 |           16 | 0.573705 |                   10 |\n",
            "| trainable_func_652fb132 | TERMINATED | 172.28.0.2:53463 |  256 |  256 | 0.0009 |           16 | 0.549649 |                   10 |\n",
            "| trainable_func_66a94942 | TERMINATED | 172.28.0.2:53399 |  256 |  256 | 0.0006 |           16 | 0.562544 |                   10 |\n",
            "| trainable_func_67c38680 | TERMINATED | 172.28.0.2:53398 |  256 |  256 | 0.0006 |           16 | 0.513746 |                    8 |\n",
            "| trainable_func_68312dac | TERMINATED | 172.28.0.2:53452 |  256 |  256 | 0.0006 |           16 | 0.607185 |                   10 |\n",
            "| trainable_func_6b87be8a | TERMINATED | 172.28.0.2:53398 |   32 |   64 | 0.0006 |           16 | 0.56501  |                   10 |\n",
            "| trainable_func_6cfc3502 | TERMINATED | 172.28.0.2:53463 |   32 |   64 | 0.0007 |           16 | 0.542399 |                   10 |\n",
            "| trainable_func_6d15657c | TERMINATED | 172.28.0.2:53399 |   32 |   64 | 0.0007 |           16 | 0.391147 |                   10 |\n",
            "+-------------------------+------------+------------------+------+------+--------+--------------+----------+----------------------+\n",
            "\n",
            "\n",
            "Best trial config: {'act1 ': 'selu', 'act2': 'selu', 'act3': 'selu', 'l1': 128, 'l2': 4, 'l3': 4, 'lr': 0.0006000000000000001, 'batch_size': 32, 'hidden_dim1': 160.0, 'hidden_dim2': 170.0, 'hidden_dim3': 180.0}\n",
            "Best trial final validation score: 0.6356457242582898\n",
            "Best trial test set score: 0.655127227209607\n",
            "Best trial test set score: None\n"
          ]
        }
      ],
      "source": [
        "def main(num_samples=10, max_num_epochs=10, gpus_per_trial=2):\n",
        "\n",
        "    # define data directory here if you want to load data from files\n",
        "    data_dir = os.path.abspath(\"./data\")\n",
        "    load_data(data_dir)\n",
        "\n",
        "    # define the search space of hyperparameters\n",
        "    config = {\n",
        "        \"act1 \": tune.choice([\"relu\",\"tanh\",\"selu\"]),\n",
        "        \"act2\" : tune.choice([\"relu\",\"tanh\",\"selu\"]),\n",
        "        \"act3\" : tune.choice([\"relu\",\"tanh\",\"selu\"]),\n",
        "        \"l1\": tune.choice([2**2,2**3,2**4,2**5,2**6,2**7,2**8]), #tune.sample_from(lambda _: 2**np.random.randint(2, 8)),\n",
        "        \"l2\": tune.choice([2**2,2**3,2**4,2**5,2**6,2**7,2**8]), #tune.sample_from(lambda _: 2**np.random.randint(2, 8)),\n",
        "        \"l3\": tune.choice([2**2,2**3,2**4,2**5,2**6,2**7,2**8]), #tune.sample_from(lambda _: 2**np.random.randint(2, 8)),\n",
        "        \"lr\": tune.quniform(0.0005, 0.001, 0.0001),\n",
        "        \"batch_size\": tune.choice([8, 16, 32]),\n",
        "        \"hidden_dim1\" : tune.quniform(50, 200, 10),\n",
        "        \"hidden_dim2\" : tune.quniform(50, 200, 10),\n",
        "        \"hidden_dim3\" : tune.quniform(50, 200, 10),\n",
        "    }\n",
        "    \n",
        "\n",
        "    # Optuna search algorithm\n",
        "    from ray.tune.suggest.optuna import OptunaSearch \n",
        "    from ray.tune.suggest import ConcurrencyLimiter\n",
        "    search_alg = OptunaSearch(\n",
        "        metric=\"score\", #or accuracy, etc.\n",
        "        mode=\"max\", #or max\n",
        "        # seed = 42,\n",
        "        # points_to_evaluate=[\n",
        "        # {'lr': 0.0005, 'hidden_size': 150.0, 'readout1_out': 200.0, 'readout2_out': 180.0}\n",
        "        # ],\n",
        "        )\n",
        "    search_alg = ConcurrencyLimiter(search_alg, max_concurrent=10)\n",
        "\n",
        "    scheduler = ASHAScheduler(\n",
        "        metric =\"score\",\n",
        "        mode=\"max\",\n",
        "        max_t=max_num_epochs,\n",
        "        reduction_factor=2, \n",
        "        grace_period=4,\n",
        "        brackets=5\n",
        "        )\n",
        "    \n",
        "    reporter = CLIReporter(\n",
        "        parameter_columns=[\"l1\", \"l2\", \"lr\", \"batch_size\"],\n",
        "        metric_columns=[\"score\", \"training_iteration\"]\n",
        "        )\n",
        "    \n",
        "    # wrap data loading and training for tuning using `partial` \n",
        "    # (note that there exist other methods for this purpose)\n",
        "    result = tune.run(\n",
        "        partial(trainable_func, data_dir=data_dir, epochs=max_num_epochs),\n",
        "        scheduler=scheduler,\n",
        "        search_alg=search_alg,\n",
        "        num_samples=num_samples,\n",
        "        config=config,\n",
        "        verbose=2,\n",
        "        checkpoint_score_attr=\"score\",\n",
        "        checkpoint_freq=0,\n",
        "        keep_checkpoints_num=1,\n",
        "        # checkpoint_at_end=True,\n",
        "        # reuse_actors=reuse_actors_status,\n",
        "        progress_reporter=reporter,\n",
        "        resources_per_trial={\"cpu\": 0.5, \"gpu\": gpus_per_trial},\n",
        "        stop={\"training_iteration\": max_num_epochs},                \n",
        "        )\n",
        "\n",
        "    best_trial = result.get_best_trial(\"score\", \"max\", \"last\")\n",
        "    print(\"Best trial config: {}\".format(best_trial.config))\n",
        "    print(\"Best trial final validation score: {}\".format(\n",
        "        best_trial.last_result[\"score\"]))\n",
        "# ////////\n",
        "    best_trained_model = Net(best_trial.config)\n",
        "\n",
        "    device = \"cpu\"\n",
        "    if torch.cuda.is_available():\n",
        "        device = \"cuda:0\"\n",
        "        if gpus_per_trial > 1:\n",
        "            best_trained_model = nn.DataParallel(best_trained_model)\n",
        "    best_trained_model.to(device)\n",
        "\n",
        "    best_checkpoint_dir = best_trial.checkpoint.value\n",
        "    model_state, optimizer_state = torch.load(os.path.join(\n",
        "        best_checkpoint_dir, \"checkpoint\"))\n",
        "    best_trained_model.load_state_dict(model_state)\n",
        "\n",
        "    test_score_value = test_score(best_trial.config, best_trained_model, device)\n",
        "    print(\"Best trial test set score: {}\".format(test_score_value))\n",
        "#///////////\n",
        "    # if ray.util.client.ray.is_connected():\n",
        "    #     # If using Ray Client, we want to make sure checkpoint access\n",
        "    #     # happens on the server. So we wrap `test_best_model` in a Ray task.\n",
        "    #     # We have to make sure it gets executed on the same node that\n",
        "    #     # ``tune.run`` is called on.\n",
        "    #     from ray.util.ml_utils.node import force_on_current_node\n",
        "    #     remote_fn = force_on_current_node(ray.remote(test_score2))\n",
        "    #     ray.get(remote_fn.remote(best_trial))\n",
        "    # else:\n",
        "    #    best_trial.config, best_trained_model=test_score2(best_trial)\n",
        "    # print(\"--------------------------------------------------\")\n",
        "    # return best_trial.config, best_trained_model\n",
        "\n",
        "if __name__ == \"__main__\":\n",
        "    # You can change the number of GPUs per trial here:\n",
        "    main(num_samples=50, max_num_epochs=10, gpus_per_trial=0)"
      ]
    },
    {
      "cell_type": "markdown",
      "source": [
        "# Other Schedulers and search algorithms of Ray Tune"
      ],
      "metadata": {
        "id": "kJ6nakNSF9XB"
      }
    },
    {
      "cell_type": "code",
      "source": [
        "!pip install -U hyperopt\n",
        "!pip install hpbandster ConfigSpace\n",
        "!pip install optuna"
      ],
      "metadata": {
        "id": "dGA2FwtBFmNJ",
        "colab": {
          "base_uri": "https://localhost:8080/"
        },
        "outputId": "1e990ec5-8e53-4615-da5b-d069840a291e"
      },
      "execution_count": 259,
      "outputs": [
        {
          "output_type": "stream",
          "name": "stdout",
          "text": [
            "Looking in indexes: https://pypi.org/simple, https://us-python.pkg.dev/colab-wheels/public/simple/\n",
            "Requirement already satisfied: hyperopt in /usr/local/lib/python3.7/dist-packages (0.2.7)\n",
            "Requirement already satisfied: numpy in /usr/local/lib/python3.7/dist-packages (from hyperopt) (1.21.6)\n",
            "Requirement already satisfied: scipy in /usr/local/lib/python3.7/dist-packages (from hyperopt) (1.7.3)\n",
            "Requirement already satisfied: six in /usr/local/lib/python3.7/dist-packages (from hyperopt) (1.15.0)\n",
            "Requirement already satisfied: cloudpickle in /usr/local/lib/python3.7/dist-packages (from hyperopt) (1.3.0)\n",
            "Requirement already satisfied: py4j in /usr/local/lib/python3.7/dist-packages (from hyperopt) (0.10.9.5)\n",
            "Requirement already satisfied: tqdm in /usr/local/lib/python3.7/dist-packages (from hyperopt) (4.64.0)\n",
            "Requirement already satisfied: networkx>=2.2 in /usr/local/lib/python3.7/dist-packages (from hyperopt) (2.6.3)\n",
            "Requirement already satisfied: future in /usr/local/lib/python3.7/dist-packages (from hyperopt) (0.16.0)\n",
            "Looking in indexes: https://pypi.org/simple, https://us-python.pkg.dev/colab-wheels/public/simple/\n",
            "Requirement already satisfied: hpbandster in /usr/local/lib/python3.7/dist-packages (0.7.4)\n",
            "Requirement already satisfied: ConfigSpace in /usr/local/lib/python3.7/dist-packages (0.5.0)\n",
            "Requirement already satisfied: netifaces in /usr/local/lib/python3.7/dist-packages (from hpbandster) (0.11.0)\n",
            "Requirement already satisfied: serpent in /usr/local/lib/python3.7/dist-packages (from hpbandster) (1.41)\n",
            "Requirement already satisfied: numpy in /usr/local/lib/python3.7/dist-packages (from hpbandster) (1.21.6)\n",
            "Requirement already satisfied: Pyro4 in /usr/local/lib/python3.7/dist-packages (from hpbandster) (4.82)\n",
            "Requirement already satisfied: statsmodels in /usr/local/lib/python3.7/dist-packages (from hpbandster) (0.10.2)\n",
            "Requirement already satisfied: scipy in /usr/local/lib/python3.7/dist-packages (from hpbandster) (1.7.3)\n",
            "Requirement already satisfied: pyparsing in /usr/local/lib/python3.7/dist-packages (from ConfigSpace) (3.0.9)\n",
            "Requirement already satisfied: cython in /usr/local/lib/python3.7/dist-packages (from ConfigSpace) (0.29.30)\n",
            "Requirement already satisfied: pandas>=0.19 in /usr/local/lib/python3.7/dist-packages (from statsmodels->hpbandster) (1.3.5)\n",
            "Requirement already satisfied: patsy>=0.4.0 in /usr/local/lib/python3.7/dist-packages (from statsmodels->hpbandster) (0.5.2)\n",
            "Requirement already satisfied: python-dateutil>=2.7.3 in /usr/local/lib/python3.7/dist-packages (from pandas>=0.19->statsmodels->hpbandster) (2.8.2)\n",
            "Requirement already satisfied: pytz>=2017.3 in /usr/local/lib/python3.7/dist-packages (from pandas>=0.19->statsmodels->hpbandster) (2022.1)\n",
            "Requirement already satisfied: six in /usr/local/lib/python3.7/dist-packages (from patsy>=0.4.0->statsmodels->hpbandster) (1.15.0)\n",
            "Looking in indexes: https://pypi.org/simple, https://us-python.pkg.dev/colab-wheels/public/simple/\n",
            "Requirement already satisfied: optuna in /usr/local/lib/python3.7/dist-packages (2.10.1)\n",
            "Requirement already satisfied: alembic in /usr/local/lib/python3.7/dist-packages (from optuna) (1.8.1)\n",
            "Requirement already satisfied: numpy in /usr/local/lib/python3.7/dist-packages (from optuna) (1.21.6)\n",
            "Requirement already satisfied: cmaes>=0.8.2 in /usr/local/lib/python3.7/dist-packages (from optuna) (0.8.2)\n",
            "Requirement already satisfied: sqlalchemy>=1.1.0 in /usr/local/lib/python3.7/dist-packages (from optuna) (1.4.39)\n",
            "Requirement already satisfied: tqdm in /usr/local/lib/python3.7/dist-packages (from optuna) (4.64.0)\n",
            "Requirement already satisfied: packaging>=20.0 in /usr/local/lib/python3.7/dist-packages (from optuna) (21.3)\n",
            "Requirement already satisfied: PyYAML in /usr/local/lib/python3.7/dist-packages (from optuna) (3.13)\n",
            "Requirement already satisfied: colorlog in /usr/local/lib/python3.7/dist-packages (from optuna) (6.6.0)\n",
            "Requirement already satisfied: cliff in /usr/local/lib/python3.7/dist-packages (from optuna) (3.10.1)\n",
            "Requirement already satisfied: scipy!=1.4.0 in /usr/local/lib/python3.7/dist-packages (from optuna) (1.7.3)\n",
            "Requirement already satisfied: pyparsing!=3.0.5,>=2.0.2 in /usr/local/lib/python3.7/dist-packages (from packaging>=20.0->optuna) (3.0.9)\n",
            "Requirement already satisfied: importlib-metadata in /usr/local/lib/python3.7/dist-packages (from sqlalchemy>=1.1.0->optuna) (4.12.0)\n",
            "Requirement already satisfied: greenlet!=0.4.17 in /usr/local/lib/python3.7/dist-packages (from sqlalchemy>=1.1.0->optuna) (1.1.2)\n",
            "Requirement already satisfied: importlib-resources in /usr/local/lib/python3.7/dist-packages (from alembic->optuna) (5.8.0)\n",
            "Requirement already satisfied: Mako in /usr/local/lib/python3.7/dist-packages (from alembic->optuna) (1.2.1)\n",
            "Requirement already satisfied: PrettyTable>=0.7.2 in /usr/local/lib/python3.7/dist-packages (from cliff->optuna) (3.3.0)\n",
            "Requirement already satisfied: cmd2>=1.0.0 in /usr/local/lib/python3.7/dist-packages (from cliff->optuna) (2.4.2)\n",
            "Requirement already satisfied: stevedore>=2.0.1 in /usr/local/lib/python3.7/dist-packages (from cliff->optuna) (3.5.0)\n",
            "Requirement already satisfied: pbr!=2.1.0,>=2.0.0 in /usr/local/lib/python3.7/dist-packages (from cliff->optuna) (5.9.0)\n",
            "Requirement already satisfied: autopage>=0.4.0 in /usr/local/lib/python3.7/dist-packages (from cliff->optuna) (0.5.1)\n",
            "Requirement already satisfied: wcwidth>=0.1.7 in /usr/local/lib/python3.7/dist-packages (from cmd2>=1.0.0->cliff->optuna) (0.2.5)\n",
            "Requirement already satisfied: attrs>=16.3.0 in /usr/local/lib/python3.7/dist-packages (from cmd2>=1.0.0->cliff->optuna) (21.4.0)\n",
            "Requirement already satisfied: pyperclip>=1.6 in /usr/local/lib/python3.7/dist-packages (from cmd2>=1.0.0->cliff->optuna) (1.8.2)\n",
            "Requirement already satisfied: typing-extensions in /usr/local/lib/python3.7/dist-packages (from cmd2>=1.0.0->cliff->optuna) (4.1.1)\n",
            "Requirement already satisfied: zipp>=0.5 in /usr/local/lib/python3.7/dist-packages (from importlib-metadata->sqlalchemy>=1.1.0->optuna) (3.8.0)\n",
            "Requirement already satisfied: MarkupSafe>=0.9.2 in /usr/local/lib/python3.7/dist-packages (from Mako->alembic->optuna) (2.0.1)\n"
          ]
        }
      ]
    },
    {
      "cell_type": "code",
      "source": [
        "from ray.tune.suggest.hyperopt import HyperOptSearch\n",
        "from ray.tune.suggest.optuna import OptunaSearch  \n",
        "from ray.tune.suggest.dragonfly import DragonflySearch\n",
        "from ray.tune.suggest.bayesopt import BayesOptSearch\n",
        "from ray.tune.schedulers.hb_bohb import HyperBandForBOHB\n",
        "from ray.tune.schedulers import AsyncHyperBandScheduler\n",
        "from ray.tune.schedulers import MedianStoppingRule\n",
        "from ray.tune.schedulers import PopulationBasedTraining\n",
        "from ray.tune.suggest.bohb import TuneBOHB\n",
        "from ray.tune.suggest.basic_variant import BasicVariantGenerator\n",
        "from ray.tune.suggest import ConcurrencyLimiter"
      ],
      "metadata": {
        "id": "sy83gBi6FnsQ"
      },
      "execution_count": 260,
      "outputs": []
    },
    {
      "cell_type": "code",
      "source": [
        ""
      ],
      "metadata": {
        "id": "_kw8wfvFFnwg"
      },
      "execution_count": 260,
      "outputs": []
    },
    {
      "cell_type": "markdown",
      "source": [
        "**Schedulers**"
      ],
      "metadata": {
        "id": "sh-iJmsnG-CQ"
      }
    },
    {
      "cell_type": "code",
      "source": [
        "training_iteration = 50 #max_num_epochs\n",
        "\n",
        "## ASHA\n",
        "scheduler = AsyncHyperBandScheduler(\n",
        "    time_attr=\"training_iteration\",\n",
        "    max_t=training_iteration,\n",
        "    metric=\"loss\", #or accuracy, etc.\n",
        "    mode=\"min\", #or max\n",
        "    reduction_factor=2, \n",
        "    grace_period=4,\n",
        "    brackets=5,\n",
        "    )\n",
        "\n",
        "## BOHB\n",
        "scheduler = HyperBandForBOHB(\n",
        "    time_attr=\"training_iteration\",\n",
        "    max_t=training_iteration, \n",
        "    reduction_factor=8, \n",
        "    stop_last_trials=True,\n",
        "    metric=\"loss\", #or accuracy, etc.\n",
        "    mode=\"min\", #or max\n",
        "    )\n",
        "\n",
        "## Median\n",
        "scheduler = MedianStoppingRule(\n",
        "    time_attr=\"training_iteration\",\n",
        "    grace_period=10,\n",
        "    min_samples_required=10,\n",
        "    hard_stop = True,\n",
        "    metric=\"loss\", #or accuracy, etc.\n",
        "    mode=\"min\", #or max\n",
        "    )\n",
        "\n",
        "## PBT\n",
        "scheduler = PopulationBasedTraining(\n",
        "    time_attr=\"training_iteration\",\n",
        "    metric=\"loss\", #or accuracy, etc.\n",
        "    mode=\"min\", #or max\n",
        "    perturbation_interval=10,  # every 10 `time_attr` units\n",
        "                            # (training_iterations in this case)\n",
        "    # hyperparam_mutations={\n",
        "    #     \"lr\": [8e-3, 7e-3, 6e-3, 5e-3, 4e-3],\n",
        "    #     \"dropout\": tune.quniform(0.0, 0.4, 0.05),\n",
        "    #     \"dropout1\": tune.quniform(0.0, 0.4, 0.05),\n",
        "    #     \"dropout2\": tune.quniform(0.0, 0.4, 0.05),\n",
        "    #     \"max_norm_val\":tune.choice([2.5, 3, 3.5, 4]),\n",
        "    #     }\n",
        "    )\n"
      ],
      "metadata": {
        "id": "wTFMuWRzpOHa"
      },
      "execution_count": 261,
      "outputs": []
    },
    {
      "cell_type": "markdown",
      "source": [
        "# Search algorithms"
      ],
      "metadata": {
        "id": "sMh8_-2DHEmL"
      }
    },
    {
      "cell_type": "code",
      "source": [
        "pip install dragonfly-opt"
      ],
      "metadata": {
        "id": "btd638nXFnz3",
        "colab": {
          "base_uri": "https://localhost:8080/"
        },
        "outputId": "efc2674c-1805-4c53-9952-66e8134b1d00"
      },
      "execution_count": 262,
      "outputs": [
        {
          "output_type": "stream",
          "name": "stdout",
          "text": [
            "Looking in indexes: https://pypi.org/simple, https://us-python.pkg.dev/colab-wheels/public/simple/\n",
            "Requirement already satisfied: dragonfly-opt in /usr/local/lib/python3.7/dist-packages (0.1.6)\n",
            "Requirement already satisfied: numpy in /usr/local/lib/python3.7/dist-packages (from dragonfly-opt) (1.21.6)\n",
            "Requirement already satisfied: six in /usr/local/lib/python3.7/dist-packages (from dragonfly-opt) (1.15.0)\n",
            "Requirement already satisfied: future in /usr/local/lib/python3.7/dist-packages (from dragonfly-opt) (0.16.0)\n",
            "Requirement already satisfied: scipy in /usr/local/lib/python3.7/dist-packages (from dragonfly-opt) (1.7.3)\n"
          ]
        }
      ]
    },
    {
      "cell_type": "code",
      "source": [
        "from ray.tune.suggest.dragonfly import DragonflySearch as DragonflySearch1"
      ],
      "metadata": {
        "id": "yTmTHrwQHk5n"
      },
      "execution_count": 263,
      "outputs": []
    },
    {
      "cell_type": "code",
      "source": [
        "## BOHB\n",
        "search_alg = TuneBOHB(\n",
        "    # space=config_space,  # If you want to set the space manually\n",
        "    metric=\"loss\", #or accuracy, etc.\n",
        "    mode=\"min\", #or max\n",
        "    # seed = 42,\n",
        "    # points_to_evaluate=[\n",
        "    # ],\n",
        "    )\n",
        "\n",
        "## Hyperopt\n",
        "search_alg = HyperOptSearch(\n",
        "    # space=config,\n",
        "    metric=\"loss\", #or accuracy, etc.\n",
        "    mode=\"min\", #or max\n",
        "    n_initial_points=60,\n",
        "    # gamma = 0.1,\n",
        "    # random_state_seed=42,\n",
        "    # points_to_evaluate=[{\"max_norm_val\": 2.5, 'GNN_Layers': 3, 'dropout': 0.25, 'dropout1': 0.35, 'dropout2': 0.15, 'lr': 0.001, 'hidden_size': 80, 'readout1_out': 150, 'readout2_out': 100, 'batch_size': 64}],\n",
        "    )\n",
        "\n",
        "## Optuna\n",
        "search_alg = OptunaSearch(\n",
        "    metric=\"loss\", #or accuracy, etc.\n",
        "    mode=\"min\", #or max\n",
        "    # seed = 42,\n",
        "    # points_to_evaluate=[\n",
        "    # {'dropout': 0.2, 'dropout1': 0.1, 'dropout2': 0.25, 'lr': 0.0005, 'hidden_size': 150.0, 'readout1_out': 200.0, 'readout2_out': 180.0, 'max_norm_val': 2.5}\n",
        "    # ],\n",
        "    )\n",
        "\n",
        "## Dragonfly\n",
        "#search_alg = DragonflySearch1(\n",
        "#    metric=\"loss\", #or accuracy, etc.\n",
        "#    mode=\"min\", #or max\n",
        "#    optimizer=\"bandit\", #[random, bandit, genetic]\n",
        "    # points_to_evaluate=[\n",
        "    # {'max_norm_val': 2.5, 'dropout': 0.3, 'dropout1': 0.1, 'dropout2': 0.0, 'lr': 0.0008, 'hidden_size': 90, 'readout1_out': 150, 'readout2_out': 140}\n",
        "    # ],\n",
        "    # domain=euclidean, #[cartesian, euclidean]\n",
        "#    )\n",
        "\n",
        "## Bayesopt\n",
        "#search_alg = BayesOptSearch(\n",
        "#    metric=\"loss\", #or accuracy, etc.\n",
        "#    mode=\"min\", #or max\n",
        "#    random_search_steps = 60, \n",
        "    # points_to_evaluate=[\n",
        "    # {'max_norm_val': 2.5, 'dropout': 0.3, 'dropout1': 0.1, 'dropout2': 0.0, 'lr': 0.0008, 'hidden_size': 90, 'readout1_out': 150, 'readout2_out': 140}\n",
        "    # ],\n",
        "#    )\n"
      ],
      "metadata": {
        "id": "-zFCU4ZRl9qZ"
      },
      "execution_count": 264,
      "outputs": []
    },
    {
      "cell_type": "code",
      "source": [
        ""
      ],
      "metadata": {
        "id": "0KUeZmAOFn3K"
      },
      "execution_count": 264,
      "outputs": []
    }
  ]
}