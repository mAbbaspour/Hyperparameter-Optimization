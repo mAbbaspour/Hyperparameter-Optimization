{
  "nbformat": 4,
  "nbformat_minor": 0,
  "metadata": {
    "colab": {
      "name": "Untitled2.ipynb",
      "provenance": [],
      "authorship_tag": "ABX9TyMsXxUkFEyouM0H6CrNrrGT",
      "include_colab_link": true
    },
    "kernelspec": {
      "name": "python3",
      "display_name": "Python 3"
    },
    "language_info": {
      "name": "python"
    }
  },
  "cells": [
    {
      "cell_type": "markdown",
      "metadata": {
        "id": "view-in-github",
        "colab_type": "text"
      },
      "source": [
        "<a href=\"https://colab.research.google.com/github/mAbbaspour/Hyperparameter-Optimization/blob/main/median%20%26%20optuna%20overfitt%20without%20pca.ipynb\" target=\"_parent\"><img src=\"https://colab.research.google.com/assets/colab-badge.svg\" alt=\"Open In Colab\"/></a>"
      ]
    },
    {
      "cell_type": "code",
      "execution_count": 27,
      "metadata": {
        "id": "ILPIxw-kyDnX"
      },
      "outputs": [],
      "source": [
        "import torch\n",
        "import torch.nn as nn\n",
        "import torch.nn.functional as f\n",
        "import numpy as np\n",
        "import math;"
      ]
    },
    {
      "cell_type": "code",
      "source": [
        "from google.colab import files\n",
        "uploaded = files.upload()\n",
        "uploaded2 = files.upload()\n"
      ],
      "metadata": {
        "colab": {
          "resources": {
            "http://localhost:8080/nbextensions/google.colab/files.js": {
              "data": "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",
              "ok": true,
              "headers": [
                [
                  "content-type",
                  "application/javascript"
                ]
              ],
              "status": 200,
              "status_text": ""
            }
          },
          "base_uri": "https://localhost:8080/",
          "height": 130
        },
        "id": "u7FsUDH0yOsG",
        "outputId": "4c6f1004-41f6-4142-bb8d-4032b8df5edf"
      },
      "execution_count": 5,
      "outputs": [
        {
          "output_type": "display_data",
          "data": {
            "text/plain": [
              "<IPython.core.display.HTML object>"
            ],
            "text/html": [
              "\n",
              "     <input type=\"file\" id=\"files-161c01fc-0786-40b6-9783-1964c01e0d68\" name=\"files[]\" multiple disabled\n",
              "        style=\"border:none\" />\n",
              "     <output id=\"result-161c01fc-0786-40b6-9783-1964c01e0d68\">\n",
              "      Upload widget is only available when the cell has been executed in the\n",
              "      current browser session. Please rerun this cell to enable.\n",
              "      </output>\n",
              "      <script src=\"/nbextensions/google.colab/files.js\"></script> "
            ]
          },
          "metadata": {}
        },
        {
          "output_type": "stream",
          "name": "stdout",
          "text": [
            "Saving lipo(Lables).csv to lipo(Lables) (1).csv\n"
          ]
        },
        {
          "output_type": "display_data",
          "data": {
            "text/plain": [
              "<IPython.core.display.HTML object>"
            ],
            "text/html": [
              "\n",
              "     <input type=\"file\" id=\"files-6c51ad64-e1ce-468a-b2e7-9d3546a3eaf6\" name=\"files[]\" multiple disabled\n",
              "        style=\"border:none\" />\n",
              "     <output id=\"result-6c51ad64-e1ce-468a-b2e7-9d3546a3eaf6\">\n",
              "      Upload widget is only available when the cell has been executed in the\n",
              "      current browser session. Please rerun this cell to enable.\n",
              "      </output>\n",
              "      <script src=\"/nbextensions/google.colab/files.js\"></script> "
            ]
          },
          "metadata": {}
        },
        {
          "output_type": "stream",
          "name": "stdout",
          "text": [
            "Saving lipo_global_cdf_rdkit.csv to lipo_global_cdf_rdkit (1).csv\n"
          ]
        }
      ]
    },
    {
      "cell_type": "code",
      "source": [
        "import random\n",
        "random.seed(1)\n",
        "import pandas as pd\n",
        "import io\n",
        "from sklearn import preprocessing\n",
        "from sklearn.decomposition import PCA\n",
        "from sklearn.model_selection import train_test_split"
      ],
      "metadata": {
        "id": "kOlQesRTz5uf"
      },
      "execution_count": 28,
      "outputs": []
    },
    {
      "cell_type": "code",
      "source": [
        "data = pd.read_csv(io.BytesIO(uploaded2['lipo_global_cdf_rdkit.csv']))\n",
        "dataY = pd.read_csv(io.BytesIO(uploaded['lipo(Lables).csv']))\n",
        "print(data[data.isnull().any(axis=1)])"
      ],
      "metadata": {
        "colab": {
          "base_uri": "https://localhost:8080/"
        },
        "id": "fRMnWELk0hzG",
        "outputId": "2bd814ab-e2f1-4af2-8a8f-21046729531b"
      },
      "execution_count": 29,
      "outputs": [
        {
          "output_type": "stream",
          "name": "stdout",
          "text": [
            "      ('RDKit2DNormalized_calculated', <class 'bool'>)  \\\n",
            "1561                                              True   \n",
            "\n",
            "      ('BalabanJ', <class 'numpy.float64'>)  \\\n",
            "1561                                  0.895   \n",
            "\n",
            "      ('BertzCT', <class 'numpy.float64'>)  ('Chi0', <class 'numpy.float64'>)  \\\n",
            "1561                              0.230752                           0.031331   \n",
            "\n",
            "      ('Chi0n', <class 'numpy.float64'>)  ('Chi0v', <class 'numpy.float64'>)  \\\n",
            "1561                            0.032387                            0.061726   \n",
            "\n",
            "      ('Chi1', <class 'numpy.float64'>)  ('Chi1n', <class 'numpy.float64'>)  \\\n",
            "1561                           0.050799                            0.045963   \n",
            "\n",
            "      ('Chi1v', <class 'numpy.float64'>)  ('Chi2n', <class 'numpy.float64'>)  \\\n",
            "1561                            0.116251                             0.04344   \n",
            "\n",
            "      ...  ('fr_sulfonamd', <class 'numpy.float64'>)  \\\n",
            "1561  ...                               1.593061e-17   \n",
            "\n",
            "      ('fr_sulfone', <class 'numpy.float64'>)  \\\n",
            "1561                             5.766101e-14   \n",
            "\n",
            "      ('fr_term_acetylene', <class 'numpy.float64'>)  \\\n",
            "1561                                    2.957989e-11   \n",
            "\n",
            "      ('fr_tetrazole', <class 'numpy.float64'>)  \\\n",
            "1561                                   0.168378   \n",
            "\n",
            "      ('fr_thiazole', <class 'numpy.float64'>)  \\\n",
            "1561                                   0.16738   \n",
            "\n",
            "      ('fr_thiocyan', <class 'numpy.float64'>)  \\\n",
            "1561                              1.481515e-18   \n",
            "\n",
            "      ('fr_thiophene', <class 'numpy.float64'>)  \\\n",
            "1561                               2.324150e-16   \n",
            "\n",
            "      ('fr_unbrch_alkane', <class 'numpy.float64'>)  \\\n",
            "1561                                   4.703598e-08   \n",
            "\n",
            "      ('fr_urea', <class 'numpy.float64'>)  ('qed', <class 'numpy.float64'>)  \n",
            "1561                              0.166633                          0.542261  \n",
            "\n",
            "[1 rows x 201 columns]\n"
          ]
        }
      ]
    },
    {
      "cell_type": "code",
      "source": [
        "data = data.drop(1561)\n",
        "dataY = dataY.drop(1561)\n"
      ],
      "metadata": {
        "id": "V3Ar9j9W07gS"
      },
      "execution_count": 30,
      "outputs": []
    },
    {
      "cell_type": "code",
      "source": [
        "arrayY = dataY.values\n",
        "Y = arrayY[0: ,1 ]\n",
        "array = data.values\n",
        "X = array[0:,1:]"
      ],
      "metadata": {
        "id": "gtHiOJkA1wtF"
      },
      "execution_count": 31,
      "outputs": []
    },
    {
      "cell_type": "code",
      "source": [
        "X_train, X_test ,Y_train , Y_test  = train_test_split(X, Y ,test_size=0.2)\n",
        "scaler_data  = preprocessing.MinMaxScaler()\n",
        "X_train = scaler_data.fit_transform(X_train)\n",
        "X_test =  scaler_data.transform(X_test)\n",
        "scaler_labels = preprocessing.MinMaxScaler()\n",
        "Y_train = scaler_labels.fit_transform(Y_train.reshape(-1, 1))\n",
        "Y_test = scaler_labels.transform(Y_test.reshape(-1, 1))\n"
      ],
      "metadata": {
        "id": "NPJmIBPJ13cJ"
      },
      "execution_count": 32,
      "outputs": []
    },
    {
      "cell_type": "code",
      "source": [
        "print(X_test.shape)\n",
        "print(Y_test.shape)\n",
        "print(X_train.shape)\n",
        "print(Y_train.shape)\n",
        "device = torch.device('cuda:0' if torch.cuda.is_available() else 'cpu')"
      ],
      "metadata": {
        "colab": {
          "base_uri": "https://localhost:8080/"
        },
        "id": "PNk098Tl2z43",
        "outputId": "dedc0c9d-af6b-4278-f5c1-0452ed310e55"
      },
      "execution_count": 33,
      "outputs": [
        {
          "output_type": "stream",
          "name": "stdout",
          "text": [
            "(840, 200)\n",
            "(840, 1)\n",
            "(3359, 200)\n",
            "(3359, 1)\n"
          ]
        }
      ]
    },
    {
      "cell_type": "code",
      "source": [
        "Y_train_new =  Y_train.astype(np.float)\n",
        "Y_test_new = Y_test.astype(np.float)\n",
        "print(Y_train_new.shape)\n",
        "print(Y_test_new.shape)\n",
        "device = torch.device('cuda:0' if torch.cuda.is_available() else 'cpu')\n",
        "tensor_x_train = torch.tensor(X_train, dtype=torch.float).to(device) \n",
        "tensor_x_test = torch.tensor(X_test, dtype=torch.float).to(device) \n",
        "\n",
        "tensor_y_train = torch.tensor(Y_train_new , dtype=torch.float).to(device)\n",
        "tensor_y_test= torch.tensor(Y_test_new, dtype=torch.float).to(device)\n"
      ],
      "metadata": {
        "colab": {
          "base_uri": "https://localhost:8080/"
        },
        "id": "a2MoxZYK29NR",
        "outputId": "c42e429d-7ea0-476b-c035-c0076e3ff2f4"
      },
      "execution_count": 34,
      "outputs": [
        {
          "output_type": "stream",
          "name": "stdout",
          "text": [
            "(3359, 1)\n",
            "(840, 1)\n"
          ]
        },
        {
          "output_type": "stream",
          "name": "stderr",
          "text": [
            "/usr/local/lib/python3.7/dist-packages/ipykernel_launcher.py:1: DeprecationWarning: `np.float` is a deprecated alias for the builtin `float`. To silence this warning, use `float` by itself. Doing this will not modify any behavior and is safe. If you specifically wanted the numpy scalar type, use `np.float64` here.\n",
            "Deprecated in NumPy 1.20; for more details and guidance: https://numpy.org/devdocs/release/1.20.0-notes.html#deprecations\n",
            "  \"\"\"Entry point for launching an IPython kernel.\n",
            "/usr/local/lib/python3.7/dist-packages/ipykernel_launcher.py:2: DeprecationWarning: `np.float` is a deprecated alias for the builtin `float`. To silence this warning, use `float` by itself. Doing this will not modify any behavior and is safe. If you specifically wanted the numpy scalar type, use `np.float64` here.\n",
            "Deprecated in NumPy 1.20; for more details and guidance: https://numpy.org/devdocs/release/1.20.0-notes.html#deprecations\n",
            "  \n"
          ]
        }
      ]
    },
    {
      "cell_type": "code",
      "source": [
        "from torch.utils.data import TensorDataset\n",
        "trainset = TensorDataset(tensor_x_train, tensor_y_train) \n",
        "testset = TensorDataset(tensor_x_test,tensor_y_test)"
      ],
      "metadata": {
        "id": "rDqhgM0F3I-t"
      },
      "execution_count": 35,
      "outputs": []
    },
    {
      "cell_type": "code",
      "source": [
        "%%capture\n",
        "try:\n",
        "    import ray\n",
        "except:\n",
        "    !pip install -U ray\n",
        "    import ray"
      ],
      "metadata": {
        "id": "omvheB7z3cZd"
      },
      "execution_count": 36,
      "outputs": []
    },
    {
      "cell_type": "code",
      "source": [
        "from functools import partial\n",
        "import numpy as np\n",
        "import os\n",
        "import torch.nn.functional as F\n",
        "import torch.optim as optim\n",
        "from torch.utils.data import random_split\n",
        "from torchsummary import summary\n",
        "\n",
        "from ray import tune\n",
        "# a = {\"a\":tune.quniform(50, 200, 10) , \"b\": 5}\n",
        "# print(type(a.get(\"a\")))\n",
        "from ray.tune import CLIReporter\n",
        "from ray.tune.schedulers import ASHAScheduler"
      ],
      "metadata": {
        "id": "7B0YdBu93fDD"
      },
      "execution_count": 37,
      "outputs": []
    },
    {
      "cell_type": "code",
      "source": [
        "def load_data(data_dir=None):\n",
        "    return trainset, testset"
      ],
      "metadata": {
        "id": "TXohltqA3lPE"
      },
      "execution_count": 38,
      "outputs": []
    },
    {
      "cell_type": "code",
      "source": [
        "# # Net().__init__(self , confing) \n",
        "#     config = {\n",
        "#         \"act1 \": tune.choice([\"relu\",\"tanh\",\"selu\"]),\n",
        "#         \"act2\" : tune.choice([\"relu\",\"tanh\",\"selu\"]),\n",
        "#         \"act3\" : tune.choice([\"relu\",\"tanh\",\"selu\"]),\n",
        "#         \"lr\": tune.quniform(0.0005, 0.001, 0.0001),\n",
        "#         \"batch_size\": tune.choice([8, 16, 32]),\n",
        "#         \"hidden_dim1\" : tune.quniform(50, 200, 10),\n",
        "#         \"hidden_dim2\" : tune.quniform(50, 200, 10),\n",
        "#         \"hidden_dim3\" : tune.quniform(50, 200, 10),\n",
        "#     }\n",
        "#   self = { \"confing\": confing , \"hd\":}\n",
        "class Net(nn.Module):\n",
        "    def __init__(self, config):\n",
        "        super().__init__()\n",
        "\n",
        "        self.config = config\n",
        "        self.hidden_dim1 = int(self.config.get(\"hidden_dim1\", 100))\n",
        "        self.hidden_dim2 = int(self.config.get(\"hidden_dim2\", 100))\n",
        "        self.hidden_dim3 = int(self.config.get(\"hidden_dim3\", 100))\n",
        "\n",
        "        self.act1 = self.config.get(\"act1\", \"relu\") \n",
        "        self.act2 = self.config.get(\"act2\", \"relu\") \n",
        "        self.act3 = self.config.get(\"act3\", \"relu\")\n",
        "\n",
        "        self.linear1 = nn.Linear(200, self.hidden_dim1)\n",
        "        self.linear2 = nn.Linear(self.hidden_dim1, self.hidden_dim2)\n",
        "        self.linear3 = nn.Linear(self.hidden_dim2, self.hidden_dim3)\n",
        "        self.linear4 = nn.Linear(self.hidden_dim3, 1)\n",
        "    \n",
        "    @staticmethod\n",
        "    def activation_func(act_str):\n",
        "        if act_str==\"tanh\":\n",
        "            return eval(\"torch.\"+act_str)\n",
        "        elif act_str==\"selu\" or act_str==\"relu\":   \n",
        "            return eval(\"torch.nn.functional.\"+act_str)\n",
        "\n",
        "    def forward(self, x):\n",
        "        output = self.linear1(x)\n",
        "        output = self.activation_func(self.act1)(output)\n",
        "        output = self.linear2(output)\n",
        "        output = self.activation_func(self.act2)(output)\n",
        "        output = self.linear3(output)\n",
        "        output = self.activation_func(self.act3)(output)\n",
        "        output = self.linear4(output)        \n",
        "        return output"
      ],
      "metadata": {
        "id": "pL-xixOc3n7s"
      },
      "execution_count": 39,
      "outputs": []
    },
    {
      "cell_type": "code",
      "source": [
        "model = Net({})"
      ],
      "metadata": {
        "id": "0r654a5N3rr7"
      },
      "execution_count": 40,
      "outputs": []
    },
    {
      "cell_type": "code",
      "source": [
        "from prettytable import PrettyTable\n",
        "\n",
        "def count_parameters(model):\n",
        "    table = PrettyTable([\"Modules\", \"Parameters\"])\n",
        "    total_params = 0\n",
        "    for name, parameter in model.named_parameters():\n",
        "        if not parameter.requires_grad: continue\n",
        "        param = parameter.numel()\n",
        "        table.add_row([name, param])\n",
        "        total_params+=param\n",
        "    print(table)\n",
        "    print(f\"Total Trainable Params: {total_params}\")\n",
        "    return total_params"
      ],
      "metadata": {
        "id": "CMv6wpET3t6T"
      },
      "execution_count": 41,
      "outputs": []
    },
    {
      "cell_type": "code",
      "source": [
        "summary(model, (1,tensor_x_train.shape[1]))\n",
        "\n",
        "count_parameters(model)"
      ],
      "metadata": {
        "colab": {
          "base_uri": "https://localhost:8080/"
        },
        "id": "mTP2lYjZ3woI",
        "outputId": "164c1ea6-88c7-49ed-9d24-5c6207c96acd"
      },
      "execution_count": 42,
      "outputs": [
        {
          "output_type": "stream",
          "name": "stdout",
          "text": [
            "----------------------------------------------------------------\n",
            "        Layer (type)               Output Shape         Param #\n",
            "================================================================\n",
            "            Linear-1               [-1, 1, 100]          20,100\n",
            "            Linear-2               [-1, 1, 100]          10,100\n",
            "            Linear-3               [-1, 1, 100]          10,100\n",
            "            Linear-4                 [-1, 1, 1]             101\n",
            "================================================================\n",
            "Total params: 40,401\n",
            "Trainable params: 40,401\n",
            "Non-trainable params: 0\n",
            "----------------------------------------------------------------\n",
            "Input size (MB): 0.00\n",
            "Forward/backward pass size (MB): 0.00\n",
            "Params size (MB): 0.15\n",
            "Estimated Total Size (MB): 0.16\n",
            "----------------------------------------------------------------\n",
            "+----------------+------------+\n",
            "|    Modules     | Parameters |\n",
            "+----------------+------------+\n",
            "| linear1.weight |   20000    |\n",
            "|  linear1.bias  |    100     |\n",
            "| linear2.weight |   10000    |\n",
            "|  linear2.bias  |    100     |\n",
            "| linear3.weight |   10000    |\n",
            "|  linear3.bias  |    100     |\n",
            "| linear4.weight |    100     |\n",
            "|  linear4.bias  |     1      |\n",
            "+----------------+------------+\n",
            "Total Trainable Params: 40401\n"
          ]
        },
        {
          "output_type": "execute_result",
          "data": {
            "text/plain": [
              "40401"
            ]
          },
          "metadata": {},
          "execution_count": 42
        }
      ]
    },
    {
      "cell_type": "code",
      "source": [
        "def trainable_func(config, checkpoint_dir=None, data_dir=None, epochs=10):\n",
        "\n",
        "    net = Net(config)\n",
        "\n",
        "    device = \"cpu\"\n",
        "    if torch.cuda.is_available():\n",
        "        device = \"cuda:0\"\n",
        "        if torch.cuda.device_count() > 1:\n",
        "            net = nn.DataParallel(net)\n",
        "    net.to(device)\n",
        "\n",
        "    '''\n",
        "    Define a loss function\n",
        "    '''\n",
        "    ## Classification\n",
        "    # criterion = nn.CrossEntropyLoss()\n",
        "\n",
        "    ## Regression\n",
        "    criterion = nn.MSELoss(reduction='sum')\n",
        "\n",
        "    # Define an optimizer \n",
        "    optimizer = optim.Adam(net.parameters(), lr=config.get(\"lr\",0.0003))\n",
        "\n",
        "    if checkpoint_dir:\n",
        "        model_state, optimizer_state = torch.load(\n",
        "            os.path.join(checkpoint_dir, \"checkpoint\"))\n",
        "        net.load_state_dict(model_state)\n",
        "        optimizer.load_state_dict(optimizer_state)\n",
        "\n",
        "    # Load data\n",
        "    trainset, testset = load_data(data_dir)\n",
        "\n",
        "    # Split the dataset into training and validation sets\n",
        "    train_size = int(len(trainset) * 0.8)\n",
        "    train_subset, val_subset = random_split(trainset, [train_size, len(trainset) - train_size])\n",
        "\n",
        "    # Define data loaders (which combines a dataset and a sampler, and provides an iterable over the given dataset)\n",
        "    trainloader = torch.utils.data.DataLoader(\n",
        "        train_subset,\n",
        "        batch_size=int(config.get(\"batch_size\",32)),\n",
        "        shuffle=True,\n",
        "        num_workers=2)\n",
        "    valloader = torch.utils.data.DataLoader(\n",
        "        val_subset,\n",
        "        batch_size=int(config.get(\"batch_size\",32)),\n",
        "        shuffle=True,\n",
        "        num_workers=2)\n",
        "\n",
        "    for epoch in range(epochs):  # loop over the dataset multiple times\n",
        "        epoch_train_loss = 0.0\n",
        "        # epoch_steps = 0\n",
        "        net.train() # Prepare model for training\n",
        "        for i, data in enumerate(trainloader):\n",
        "            # get the inputs; data is a list of [inputs, labels]\n",
        "            inputs, labels = data\n",
        "            inputs, labels = inputs.to(device), labels.to(device)\n",
        "\n",
        "            # zero the parameter gradients\n",
        "            optimizer.zero_grad()\n",
        "\n",
        "            # forward + backward + optimize\n",
        "            outputs = net(inputs)\n",
        "            loss = criterion(outputs, labels)\n",
        "            loss.backward()\n",
        "            optimizer.step()\n",
        "\n",
        "            '''\n",
        "            Compute train loss without scaling to print\n",
        "            ''' \n",
        "            # outputs = torch.tensor(scaler_labels.inverse_transform(outputs.detach().cpu())).to(device)    \n",
        "            # labels = torch.tensor(scaler_labels.inverse_transform(labels.cpu())).to(device)  \n",
        "            # loss_train = criterion(outputs, labels) \n",
        "            # epoch_train_loss += loss_train.detach().item()\n",
        "        # print(\"[%d] loss: %.3f\" % (epoch + 1, epoch_train_loss / len(train_subset)))\n",
        "\n",
        "        # Validation loss\n",
        "        val_loss = 0.0\n",
        "        net.eval() # Prepare model for evaluation\n",
        "        for i, data in enumerate(valloader):\n",
        "            with torch.no_grad():\n",
        "                inputs, labels = data\n",
        "                inputs, labels = inputs.to(device), labels.to(device)\n",
        "\n",
        "                outputs = net(inputs)\n",
        "\n",
        "                # Inverse transform of the labels' scaler\n",
        "                outputs = torch.tensor(scaler_labels.inverse_transform(outputs.detach().cpu())).to(device)    \n",
        "                labels = torch.tensor(scaler_labels.inverse_transform(labels.cpu())).to(device) \n",
        "\n",
        "                loss = criterion(outputs, labels)\n",
        "                val_loss += loss.cpu().numpy()\n",
        "\n",
        "        with tune.checkpoint_dir(epoch) as checkpoint_dir:\n",
        "            path = os.path.join(checkpoint_dir, \"checkpoint\")\n",
        "            torch.save((net.state_dict(), optimizer.state_dict()), path)\n",
        "\n",
        "        tune.report(epoch = epoch, loss=(val_loss / len(val_subset)))\n",
        "    print(\"Finished Training\")"
      ],
      "metadata": {
        "id": "XLgl-qIy3yrx"
      },
      "execution_count": 43,
      "outputs": []
    },
    {
      "cell_type": "code",
      "source": [
        "def test_score(config, net, device=\"cpu\"):\n",
        "    trainset, testset = load_data()\n",
        "\n",
        "    testloader = torch.utils.data.DataLoader(\n",
        "        testset, batch_size=int(config.get(\"batch_size\",32)), shuffle=False, num_workers=2)\n",
        "    \n",
        "    ## Regression\n",
        "    criterion = nn.MSELoss(reduction='sum')\n",
        "\n",
        "    # Test loss\n",
        "    test_loss = 0.0\n",
        "    net.eval() # Prepare model for evaluation\n",
        "    for i, data in enumerate(testloader):\n",
        "        with torch.no_grad():\n",
        "            inputs, labels = data\n",
        "            inputs, labels = inputs.to(device), labels.to(device)\n",
        "\n",
        "            outputs = net(inputs)\n",
        "\n",
        "            # Inverse transform of the labels' scaler\n",
        "            outputs = torch.tensor(scaler_labels.inverse_transform(outputs.detach().cpu())).to(device)    \n",
        "            labels = torch.tensor(scaler_labels.inverse_transform(labels.cpu())).to(device) \n",
        "\n",
        "            loss = criterion(outputs, labels)\n",
        "            test_loss += loss.cpu().numpy()\n",
        "\n",
        "    return test_loss / len(testset)"
      ],
      "metadata": {
        "id": "9XPNE3So332_"
      },
      "execution_count": 44,
      "outputs": []
    },
    {
      "cell_type": "code",
      "source": [
        "ray.shutdown()\n",
        "ray.init() # Here we use ray.init() to evaluate available_resources for Ray\n",
        "print(ray.available_resources())\n",
        "ray.shutdown()  # Restart Ray defensively in case the ray connection is lost. \n",
        "\n",
        "# Start Ray runtime with specific resources (not nessesarily all resources)\n",
        "# You can change this values based on your machine resources)\n",
        "ray.init(num_cpus=2, num_gpus=0) \n",
        "\n",
        "\"\"\"Check Ray Tune is working properly (for trainable class)\"\"\"\n",
        "# from ray.tune.utils import validate_save_restore\n",
        "# validate_save_restore(Trainable)\n",
        "# validate_save_restore(Trainable, use_object_store=True)\n",
        "# print(\"Success!\")\n",
        "\"\"\"\"\"\""
      ],
      "metadata": {
        "colab": {
          "base_uri": "https://localhost:8080/",
          "height": 54
        },
        "id": "RiMw9ywn37Eg",
        "outputId": "05d51cfa-5d0b-4a3b-d7d9-5191060c3abb"
      },
      "execution_count": 45,
      "outputs": [
        {
          "output_type": "stream",
          "name": "stdout",
          "text": [
            "{'node:172.28.0.2': 1.0, 'object_store_memory': 4009117286.0, 'CPU': 2.0, 'memory': 8018234574.0}\n"
          ]
        },
        {
          "output_type": "execute_result",
          "data": {
            "text/plain": [
              "''"
            ],
            "application/vnd.google.colaboratory.intrinsic+json": {
              "type": "string"
            }
          },
          "metadata": {},
          "execution_count": 45
        }
      ]
    },
    {
      "cell_type": "code",
      "source": [
        "%%capture\n",
        "\n",
        "%pip install hpbandster ConfigSpace\n",
        "!pip install hpbandster ConfigSpace"
      ],
      "metadata": {
        "id": "NjXuthUt39_d"
      },
      "execution_count": 46,
      "outputs": []
    },
    {
      "cell_type": "code",
      "source": [
        "ray.shutdown()\n",
        "from ray.tune.suggest.hyperopt import HyperOptSearch\n",
        "from ray.tune.schedulers import MedianStoppingRule\n",
        "def main(num_samples=10, max_num_epochs=10, gpus_per_trial=2):\n",
        "\n",
        "    # define data directory here if you want to load data from files\n",
        "    data_dir = os.path.abspath(\"./data\")\n",
        "    load_data(data_dir)\n",
        "\n",
        "    # define the search space of hyperparameters\n",
        "    config = {\n",
        "        \"act1 \": tune.choice([\"relu\",\"tanh\",\"selu\"]),\n",
        "        \"act2\" : tune.choice([\"relu\",\"tanh\",\"selu\"]),\n",
        "        \"act3\" : tune.choice([\"relu\",\"tanh\",\"selu\"]),\n",
        "        \"lr\": tune.quniform(0.0005, 0.001, 0.0001),\n",
        "        \"batch_size\": tune.choice([ 8,16, 32 , 64]),\n",
        "        \"hidden_dim1\" : tune.quniform(120, 330, 15),\n",
        "        \"hidden_dim2\" : tune.quniform(120, 330, 15),\n",
        "        \"hidden_dim3\" : tune.quniform(120, 330, 15),\n",
        "    }\n",
        "\n",
        "    # Optuna search algorithm\n",
        "    from ray.tune.suggest.optuna import OptunaSearch \n",
        "    from ray.tune.suggest import ConcurrencyLimiter\n",
        "    search_alg = OptunaSearch(\n",
        "        metric=\"loss\", #or accuracy, etc.\n",
        "        mode=\"min\", #or max\n",
        "        # seed = 42,\n",
        "        # points_to_evaluate=[\n",
        "        # {'lr': 0.0005, 'hidden_size': 150.0, 'readout1_out': 200.0, 'readout2_out': 180.0}\n",
        "        # ],\n",
        "        )\n",
        "    search_alg = ConcurrencyLimiter(search_alg, max_concurrent=10)\n",
        "    training_iteration = 50\n",
        "    scheduler = MedianStoppingRule(\n",
        "    time_attr=\"training_iteration\",\n",
        "    grace_period=10,\n",
        "    min_samples_required=10,\n",
        "    hard_stop = True,\n",
        "    metric=\"loss\", #or accuracy, etc.\n",
        "    mode=\"min\", #or max\n",
        "    )\n",
        "    \n",
        "    reporter = CLIReporter(\n",
        "        # parameter_columns=[\"l1\", \"l2\", \"lr\", \"batch_size\"],\n",
        "        metric_columns=[\"loss\", \"training_iteration\"]\n",
        "        )\n",
        "    \n",
        "    # wrap data loading and training for tuning using `partial` \n",
        "    # (note that there exist other methods for this purpose)\n",
        "    result = tune.run(\n",
        "        partial(trainable_func, data_dir=data_dir, epochs=max_num_epochs),\n",
        "        scheduler=scheduler,\n",
        "        search_alg=search_alg,\n",
        "        num_samples=num_samples,\n",
        "        config=config,\n",
        "        verbose=2,\n",
        "        checkpoint_score_attr=\"loss\",\n",
        "        checkpoint_freq=0,\n",
        "        keep_checkpoints_num=1,\n",
        "        # checkpoint_at_end=True,\n",
        "        # reuse_actors=reuse_actors_status,\n",
        "        progress_reporter=reporter,\n",
        "        resources_per_trial={\"cpu\": 0.5, \"gpu\": gpus_per_trial},\n",
        "        stop={\"training_iteration\": max_num_epochs},                \n",
        "        )\n",
        "\n",
        "    best_trial = result.get_best_trial(\"loss\", \"min\", \"last\")\n",
        "    print(\"Best trial config: {}\".format(best_trial.config))\n",
        "    print(\"Best trial final validation score: {}\".format(\n",
        "        best_trial.last_result[\"loss\"]))\n",
        "\n",
        "    best_trained_model = Net(best_trial.config)\n",
        "    device = \"cpu\"\n",
        "    if torch.cuda.is_available():\n",
        "        device = \"cuda:0\"\n",
        "        if gpus_per_trial > 1:\n",
        "            best_trained_model = nn.DataParallel(best_trained_model)\n",
        "    best_trained_model.to(device)\n",
        "\n",
        "    best_checkpoint_dir = best_trial.checkpoint.value\n",
        "    model_state, optimizer_state = torch.load(os.path.join(\n",
        "        best_checkpoint_dir, \"checkpoint\"))\n",
        "    best_trained_model.load_state_dict(model_state)\n",
        "\n",
        "    test_score_value = test_score(best_trial.config, best_trained_model, device)\n",
        "    print(\"Best trial test set score: {}\".format(test_score_value))\n",
        "\n",
        "\n",
        "if __name__ == \"__main__\":\n",
        "    # You can change the number of GPUs per trial here:\n",
        "    main(num_samples=50, max_num_epochs=50, gpus_per_trial=0)\n"
      ],
      "metadata": {
        "colab": {
          "base_uri": "https://localhost:8080/"
        },
        "id": "sCHeQbrS4BYR",
        "outputId": "4582726e-6637-4f98-c82c-6be376be0a14"
      },
      "execution_count": 47,
      "outputs": [
        {
          "output_type": "stream",
          "name": "stderr",
          "text": [
            "2022-07-26 12:03:33,086\tINFO tune.py:874 -- Initializing Ray automatically.For cluster usage or custom Ray initialization, call `ray.init(...)` before `tune.run`.\n",
            "\u001b[32m[I 2022-07-26 12:03:38,424]\u001b[0m A new study created in memory with name: optuna\u001b[0m\n",
            "2022-07-26 12:03:38,429\tWARNING callback.py:106 -- The TensorboardX logger cannot be instantiated because either TensorboardX or one of it's dependencies is not installed. Please make sure you have the latest version of TensorboardX installed: `pip install -U tensorboardx`\n"
          ]
        },
        {
          "output_type": "stream",
          "name": "stdout",
          "text": [
            "== Status ==\n",
            "Current time: 2022-07-26 12:03:38 (running for 00:00:00.49)\n",
            "Memory usage on this node: 1.4/12.7 GiB\n",
            "Using MedianStoppingRule: num_stopped=0.\n",
            "Resources requested: 0.5/2 CPUs, 0/0 GPUs, 0.0/7.46 GiB heap, 0.0/3.73 GiB objects\n",
            "Result logdir: /root/ray_results/trainable_func_2022-07-26_12-03-38\n",
            "Number of trials: 1/50 (1 RUNNING)\n",
            "\n",
            "\n",
            "== Status ==\n",
            "Current time: 2022-07-26 12:03:44 (running for 00:00:06.10)\n",
            "Memory usage on this node: 1.6/12.7 GiB\n",
            "Using MedianStoppingRule: num_stopped=0.\n",
            "Resources requested: 2.0/2 CPUs, 0/0 GPUs, 0.0/7.46 GiB heap, 0.0/3.73 GiB objects\n",
            "Result logdir: /root/ray_results/trainable_func_2022-07-26_12-03-38\n",
            "Number of trials: 5/50 (1 PENDING, 4 RUNNING)\n",
            "\n",
            "\n",
            "== Status ==\n",
            "Current time: 2022-07-26 12:03:49 (running for 00:00:11.11)\n",
            "Memory usage on this node: 1.9/12.7 GiB\n",
            "Using MedianStoppingRule: num_stopped=0.\n",
            "Resources requested: 2.0/2 CPUs, 0/0 GPUs, 0.0/7.46 GiB heap, 0.0/3.73 GiB objects\n",
            "Result logdir: /root/ray_results/trainable_func_2022-07-26_12-03-38\n",
            "Number of trials: 5/50 (1 PENDING, 4 RUNNING)\n",
            "\n",
            "\n",
            "Trial trainable_func_fbbf25f8 reported epoch=0,loss=0.7164789914989411,should_checkpoint=True with parameters={'act1 ': 'tanh', 'act2': 'selu', 'act3': 'tanh', 'lr': 0.001, 'batch_size': 32, 'hidden_dim1': 210.0, 'hidden_dim2': 210.0, 'hidden_dim3': 315.0}.\n",
            "Trial trainable_func_fc0a2c74 reported epoch=0,loss=0.7437314087710454,should_checkpoint=True with parameters={'act1 ': 'tanh', 'act2': 'selu', 'act3': 'tanh', 'lr': 0.001, 'batch_size': 16, 'hidden_dim1': 165.0, 'hidden_dim2': 240.0, 'hidden_dim3': 210.0}.\n",
            "== Status ==\n",
            "Current time: 2022-07-26 12:03:55 (running for 00:00:17.30)\n",
            "Memory usage on this node: 2.1/12.7 GiB\n",
            "Using MedianStoppingRule: num_stopped=0.\n",
            "Resources requested: 2.0/2 CPUs, 0/0 GPUs, 0.0/7.46 GiB heap, 0.0/3.73 GiB objects\n",
            "Result logdir: /root/ray_results/trainable_func_2022-07-26_12-03-38\n",
            "Number of trials: 5/50 (1 PENDING, 4 RUNNING)\n",
            "\n",
            "\n",
            "Trial trainable_func_fbbf25f8 reported epoch=2,loss=0.5507318994032948,should_checkpoint=True with parameters={'act1 ': 'tanh', 'act2': 'selu', 'act3': 'tanh', 'lr': 0.001, 'batch_size': 32, 'hidden_dim1': 210.0, 'hidden_dim2': 210.0, 'hidden_dim3': 315.0}.\n",
            "Trial trainable_func_fc3a8798 reported epoch=0,loss=0.9246009217391334,should_checkpoint=True with parameters={'act1 ': 'relu', 'act2': 'tanh', 'act3': 'tanh', 'lr': 0.0008, 'batch_size': 64, 'hidden_dim1': 195.0, 'hidden_dim2': 210.0, 'hidden_dim3': 135.0}.\n",
            "== Status ==\n",
            "Current time: 2022-07-26 12:04:01 (running for 00:00:23.53)\n",
            "Memory usage on this node: 2.2/12.7 GiB\n",
            "Using MedianStoppingRule: num_stopped=0.\n",
            "Resources requested: 2.0/2 CPUs, 0/0 GPUs, 0.0/7.46 GiB heap, 0.0/3.73 GiB objects\n",
            "Result logdir: /root/ray_results/trainable_func_2022-07-26_12-03-38\n",
            "Number of trials: 5/50 (1 PENDING, 4 RUNNING)\n",
            "\n",
            "\n",
            "Trial trainable_func_fc21eeb8 reported epoch=0,loss=0.7814479489216785,should_checkpoint=True with parameters={'act1 ': 'tanh', 'act2': 'relu', 'act3': 'relu', 'lr': 0.001, 'batch_size': 16, 'hidden_dim1': 255.0, 'hidden_dim2': 285.0, 'hidden_dim3': 180.0}.\n",
            "Trial trainable_func_fbbf25f8 reported epoch=4,loss=0.66173119256775,should_checkpoint=True with parameters={'act1 ': 'tanh', 'act2': 'selu', 'act3': 'tanh', 'lr': 0.001, 'batch_size': 32, 'hidden_dim1': 210.0, 'hidden_dim2': 210.0, 'hidden_dim3': 315.0}.\n",
            "Trial trainable_func_fc3a8798 reported epoch=3,loss=0.5585695974323505,should_checkpoint=True with parameters={'act1 ': 'relu', 'act2': 'tanh', 'act3': 'tanh', 'lr': 0.0008, 'batch_size': 64, 'hidden_dim1': 195.0, 'hidden_dim2': 210.0, 'hidden_dim3': 135.0}.\n",
            "Trial trainable_func_fc0a2c74 reported epoch=2,loss=0.625246786812786,should_checkpoint=True with parameters={'act1 ': 'tanh', 'act2': 'selu', 'act3': 'tanh', 'lr': 0.001, 'batch_size': 16, 'hidden_dim1': 165.0, 'hidden_dim2': 240.0, 'hidden_dim3': 210.0}.\n",
            "== Status ==\n",
            "Current time: 2022-07-26 12:04:07 (running for 00:00:28.82)\n",
            "Memory usage on this node: 2.2/12.7 GiB\n",
            "Using MedianStoppingRule: num_stopped=0.\n",
            "Resources requested: 2.0/2 CPUs, 0/0 GPUs, 0.0/7.46 GiB heap, 0.0/3.73 GiB objects\n",
            "Result logdir: /root/ray_results/trainable_func_2022-07-26_12-03-38\n",
            "Number of trials: 5/50 (1 PENDING, 4 RUNNING)\n",
            "\n",
            "\n",
            "Trial trainable_func_fc21eeb8 reported epoch=1,loss=0.6736314686560918,should_checkpoint=True with parameters={'act1 ': 'tanh', 'act2': 'relu', 'act3': 'relu', 'lr': 0.001, 'batch_size': 16, 'hidden_dim1': 255.0, 'hidden_dim2': 285.0, 'hidden_dim3': 180.0}.\n",
            "Trial trainable_func_fc3a8798 reported epoch=6,loss=0.4709987634448057,should_checkpoint=True with parameters={'act1 ': 'relu', 'act2': 'tanh', 'act3': 'tanh', 'lr': 0.0008, 'batch_size': 64, 'hidden_dim1': 195.0, 'hidden_dim2': 210.0, 'hidden_dim3': 135.0}.\n",
            "Trial trainable_func_fc0a2c74 reported epoch=3,loss=0.6181791641619667,should_checkpoint=True with parameters={'act1 ': 'tanh', 'act2': 'selu', 'act3': 'tanh', 'lr': 0.001, 'batch_size': 16, 'hidden_dim1': 165.0, 'hidden_dim2': 240.0, 'hidden_dim3': 210.0}.\n",
            "Trial trainable_func_fbbf25f8 reported epoch=6,loss=0.5171992831386573,should_checkpoint=True with parameters={'act1 ': 'tanh', 'act2': 'selu', 'act3': 'tanh', 'lr': 0.001, 'batch_size': 32, 'hidden_dim1': 210.0, 'hidden_dim2': 210.0, 'hidden_dim3': 315.0}.\n",
            "== Status ==\n",
            "Current time: 2022-07-26 12:04:12 (running for 00:00:34.14)\n",
            "Memory usage on this node: 2.3/12.7 GiB\n",
            "Using MedianStoppingRule: num_stopped=0.\n",
            "Resources requested: 2.0/2 CPUs, 0/0 GPUs, 0.0/7.46 GiB heap, 0.0/3.73 GiB objects\n",
            "Result logdir: /root/ray_results/trainable_func_2022-07-26_12-03-38\n",
            "Number of trials: 5/50 (1 PENDING, 4 RUNNING)\n",
            "\n",
            "\n",
            "Trial trainable_func_fc21eeb8 reported epoch=2,loss=0.7281576047753118,should_checkpoint=True with parameters={'act1 ': 'tanh', 'act2': 'relu', 'act3': 'relu', 'lr': 0.001, 'batch_size': 16, 'hidden_dim1': 255.0, 'hidden_dim2': 285.0, 'hidden_dim3': 180.0}.\n",
            "Trial trainable_func_fc3a8798 reported epoch=9,loss=0.4762362479669492,should_checkpoint=True with parameters={'act1 ': 'relu', 'act2': 'tanh', 'act3': 'tanh', 'lr': 0.0008, 'batch_size': 64, 'hidden_dim1': 195.0, 'hidden_dim2': 210.0, 'hidden_dim3': 135.0}.\n",
            "Trial trainable_func_fc0a2c74 reported epoch=4,loss=0.643589371153957,should_checkpoint=True with parameters={'act1 ': 'tanh', 'act2': 'selu', 'act3': 'tanh', 'lr': 0.001, 'batch_size': 16, 'hidden_dim1': 165.0, 'hidden_dim2': 240.0, 'hidden_dim3': 210.0}.\n",
            "Trial trainable_func_fbbf25f8 reported epoch=8,loss=0.5510294501255528,should_checkpoint=True with parameters={'act1 ': 'tanh', 'act2': 'selu', 'act3': 'tanh', 'lr': 0.001, 'batch_size': 32, 'hidden_dim1': 210.0, 'hidden_dim2': 210.0, 'hidden_dim3': 315.0}.\n",
            "== Status ==\n",
            "Current time: 2022-07-26 12:04:18 (running for 00:00:40.09)\n",
            "Memory usage on this node: 2.3/12.7 GiB\n",
            "Using MedianStoppingRule: num_stopped=0.\n",
            "Resources requested: 2.0/2 CPUs, 0/0 GPUs, 0.0/7.46 GiB heap, 0.0/3.73 GiB objects\n",
            "Result logdir: /root/ray_results/trainable_func_2022-07-26_12-03-38\n",
            "Number of trials: 6/50 (1 PAUSED, 1 PENDING, 4 RUNNING)\n",
            "\n",
            "\n",
            "Trial trainable_func_fc21eeb8 reported epoch=3,loss=0.5916241621569309,should_checkpoint=True with parameters={'act1 ': 'tanh', 'act2': 'relu', 'act3': 'relu', 'lr': 0.001, 'batch_size': 16, 'hidden_dim1': 255.0, 'hidden_dim2': 285.0, 'hidden_dim3': 180.0}.\n",
            "Trial trainable_func_fc0a2c74 reported epoch=5,loss=0.5752642106086994,should_checkpoint=True with parameters={'act1 ': 'tanh', 'act2': 'selu', 'act3': 'tanh', 'lr': 0.001, 'batch_size': 16, 'hidden_dim1': 165.0, 'hidden_dim2': 240.0, 'hidden_dim3': 210.0}.\n",
            "Trial trainable_func_12a411ac reported epoch=0,loss=0.8369020025883901,should_checkpoint=True with parameters={'act1 ': 'tanh', 'act2': 'tanh', 'act3': 'selu', 'lr': 0.0009, 'batch_size': 32, 'hidden_dim1': 180.0, 'hidden_dim2': 270.0, 'hidden_dim3': 195.0}.\n",
            "== Status ==\n",
            "Current time: 2022-07-26 12:04:25 (running for 00:00:46.82)\n",
            "Memory usage on this node: 2.3/12.7 GiB\n",
            "Using MedianStoppingRule: num_stopped=0.\n",
            "Resources requested: 2.0/2 CPUs, 0/0 GPUs, 0.0/7.46 GiB heap, 0.0/3.73 GiB objects\n",
            "Result logdir: /root/ray_results/trainable_func_2022-07-26_12-03-38\n",
            "Number of trials: 7/50 (2 PAUSED, 1 PENDING, 4 RUNNING)\n",
            "\n",
            "\n",
            "Trial trainable_func_fc50187e reported epoch=0,loss=0.7074737515523447,should_checkpoint=True with parameters={'act1 ': 'selu', 'act2': 'selu', 'act3': 'tanh', 'lr': 0.0006000000000000001, 'batch_size': 8, 'hidden_dim1': 270.0, 'hidden_dim2': 165.0, 'hidden_dim3': 285.0}.\n",
            "Trial trainable_func_fc21eeb8 reported epoch=4,loss=0.5869072771825904,should_checkpoint=True with parameters={'act1 ': 'tanh', 'act2': 'relu', 'act3': 'relu', 'lr': 0.001, 'batch_size': 16, 'hidden_dim1': 255.0, 'hidden_dim2': 285.0, 'hidden_dim3': 180.0}.\n",
            "Trial trainable_func_fc0a2c74 reported epoch=6,loss=0.5992731026962476,should_checkpoint=True with parameters={'act1 ': 'tanh', 'act2': 'selu', 'act3': 'tanh', 'lr': 0.001, 'batch_size': 16, 'hidden_dim1': 165.0, 'hidden_dim2': 240.0, 'hidden_dim3': 210.0}.\n",
            "Trial trainable_func_12a411ac reported epoch=2,loss=0.7083881789321419,should_checkpoint=True with parameters={'act1 ': 'tanh', 'act2': 'tanh', 'act3': 'selu', 'lr': 0.0009, 'batch_size': 32, 'hidden_dim1': 180.0, 'hidden_dim2': 270.0, 'hidden_dim3': 195.0}.\n",
            "== Status ==\n",
            "Current time: 2022-07-26 12:04:30 (running for 00:00:52.20)\n",
            "Memory usage on this node: 2.3/12.7 GiB\n",
            "Using MedianStoppingRule: num_stopped=0.\n",
            "Resources requested: 2.0/2 CPUs, 0/0 GPUs, 0.0/7.46 GiB heap, 0.0/3.73 GiB objects\n",
            "Result logdir: /root/ray_results/trainable_func_2022-07-26_12-03-38\n",
            "Number of trials: 7/50 (2 PAUSED, 1 PENDING, 4 RUNNING)\n",
            "\n",
            "\n",
            "Trial trainable_func_fc0a2c74 reported epoch=7,loss=0.5831930952455031,should_checkpoint=True with parameters={'act1 ': 'tanh', 'act2': 'selu', 'act3': 'tanh', 'lr': 0.001, 'batch_size': 16, 'hidden_dim1': 165.0, 'hidden_dim2': 240.0, 'hidden_dim3': 210.0}.\n",
            "Trial trainable_func_fc50187e reported epoch=1,loss=0.7017915401800097,should_checkpoint=True with parameters={'act1 ': 'selu', 'act2': 'selu', 'act3': 'tanh', 'lr': 0.0006000000000000001, 'batch_size': 8, 'hidden_dim1': 270.0, 'hidden_dim2': 165.0, 'hidden_dim3': 285.0}.\n",
            "Trial trainable_func_fc21eeb8 reported epoch=5,loss=0.6748668583857971,should_checkpoint=True with parameters={'act1 ': 'tanh', 'act2': 'relu', 'act3': 'relu', 'lr': 0.001, 'batch_size': 16, 'hidden_dim1': 255.0, 'hidden_dim2': 285.0, 'hidden_dim3': 180.0}.\n",
            "== Status ==\n",
            "Current time: 2022-07-26 12:04:36 (running for 00:00:58.51)\n",
            "Memory usage on this node: 2.3/12.7 GiB\n",
            "Using MedianStoppingRule: num_stopped=0.\n",
            "Resources requested: 2.0/2 CPUs, 0/0 GPUs, 0.0/7.46 GiB heap, 0.0/3.73 GiB objects\n",
            "Result logdir: /root/ray_results/trainable_func_2022-07-26_12-03-38\n",
            "Number of trials: 7/50 (2 PAUSED, 1 PENDING, 4 RUNNING)\n",
            "\n",
            "\n",
            "Trial trainable_func_12a411ac reported epoch=5,loss=0.7213850871682779,should_checkpoint=True with parameters={'act1 ': 'tanh', 'act2': 'tanh', 'act3': 'selu', 'lr': 0.0009, 'batch_size': 32, 'hidden_dim1': 180.0, 'hidden_dim2': 270.0, 'hidden_dim3': 195.0}.\n",
            "Trial trainable_func_fc21eeb8 reported epoch=6,loss=0.6497171935745488,should_checkpoint=True with parameters={'act1 ': 'tanh', 'act2': 'relu', 'act3': 'relu', 'lr': 0.001, 'batch_size': 16, 'hidden_dim1': 255.0, 'hidden_dim2': 285.0, 'hidden_dim3': 180.0}.\n",
            "Trial trainable_func_fc0a2c74 reported epoch=9,loss=0.624632279568955,should_checkpoint=True with parameters={'act1 ': 'tanh', 'act2': 'selu', 'act3': 'tanh', 'lr': 0.001, 'batch_size': 16, 'hidden_dim1': 165.0, 'hidden_dim2': 240.0, 'hidden_dim3': 210.0}.\n",
            "Trial trainable_func_fc50187e reported epoch=2,loss=0.6713686550701412,should_checkpoint=True with parameters={'act1 ': 'selu', 'act2': 'selu', 'act3': 'tanh', 'lr': 0.0006000000000000001, 'batch_size': 8, 'hidden_dim1': 270.0, 'hidden_dim2': 165.0, 'hidden_dim3': 285.0}.\n",
            "Trial trainable_func_12a411ac reported epoch=8,loss=0.6227176045463465,should_checkpoint=True with parameters={'act1 ': 'tanh', 'act2': 'tanh', 'act3': 'selu', 'lr': 0.0009, 'batch_size': 32, 'hidden_dim1': 180.0, 'hidden_dim2': 270.0, 'hidden_dim3': 195.0}.\n",
            "== Status ==\n",
            "Current time: 2022-07-26 12:04:43 (running for 00:01:05.16)\n",
            "Memory usage on this node: 2.3/12.7 GiB\n",
            "Using MedianStoppingRule: num_stopped=0.\n",
            "Resources requested: 2.0/2 CPUs, 0/0 GPUs, 0.0/7.46 GiB heap, 0.0/3.73 GiB objects\n",
            "Result logdir: /root/ray_results/trainable_func_2022-07-26_12-03-38\n",
            "Number of trials: 8/50 (3 PAUSED, 1 PENDING, 4 RUNNING)\n",
            "\n",
            "\n",
            "Trial trainable_func_15ffcbd4 reported epoch=0,loss=0.7262411707010062,should_checkpoint=True with parameters={'act1 ': 'selu', 'act2': 'selu', 'act3': 'selu', 'lr': 0.0009, 'batch_size': 16, 'hidden_dim1': 330.0, 'hidden_dim2': 150.0, 'hidden_dim3': 180.0}.\n",
            "Trial trainable_func_fc50187e reported epoch=3,loss=0.6129029287688517,should_checkpoint=True with parameters={'act1 ': 'selu', 'act2': 'selu', 'act3': 'tanh', 'lr': 0.0006000000000000001, 'batch_size': 8, 'hidden_dim1': 270.0, 'hidden_dim2': 165.0, 'hidden_dim3': 285.0}.\n",
            "Trial trainable_func_fc21eeb8 reported epoch=8,loss=0.5325188557259903,should_checkpoint=True with parameters={'act1 ': 'tanh', 'act2': 'relu', 'act3': 'relu', 'lr': 0.001, 'batch_size': 16, 'hidden_dim1': 255.0, 'hidden_dim2': 285.0, 'hidden_dim3': 180.0}.\n",
            "== Status ==\n",
            "Current time: 2022-07-26 12:04:49 (running for 00:01:11.21)\n",
            "Memory usage on this node: 2.3/12.7 GiB\n",
            "Using MedianStoppingRule: num_stopped=0.\n",
            "Resources requested: 2.0/2 CPUs, 0/0 GPUs, 0.0/7.46 GiB heap, 0.0/3.73 GiB objects\n",
            "Result logdir: /root/ray_results/trainable_func_2022-07-26_12-03-38\n",
            "Number of trials: 9/50 (4 PAUSED, 1 PENDING, 4 RUNNING)\n",
            "\n",
            "\n",
            "Trial trainable_func_212fa088 reported epoch=0,loss=0.6998571670184549,should_checkpoint=True with parameters={'act1 ': 'relu', 'act2': 'relu', 'act3': 'selu', 'lr': 0.001, 'batch_size': 16, 'hidden_dim1': 300.0, 'hidden_dim2': 240.0, 'hidden_dim3': 180.0}.\n",
            "Trial trainable_func_15ffcbd4 reported epoch=2,loss=0.5854642368558861,should_checkpoint=True with parameters={'act1 ': 'selu', 'act2': 'selu', 'act3': 'selu', 'lr': 0.0009, 'batch_size': 16, 'hidden_dim1': 330.0, 'hidden_dim2': 150.0, 'hidden_dim3': 180.0}.\n",
            "== Status ==\n",
            "Current time: 2022-07-26 12:04:54 (running for 00:01:16.21)\n",
            "Memory usage on this node: 2.3/12.7 GiB\n",
            "Using MedianStoppingRule: num_stopped=0.\n",
            "Resources requested: 2.0/2 CPUs, 0/0 GPUs, 0.0/7.46 GiB heap, 0.0/3.73 GiB objects\n",
            "Result logdir: /root/ray_results/trainable_func_2022-07-26_12-03-38\n",
            "Number of trials: 9/50 (4 PAUSED, 1 PENDING, 4 RUNNING)\n",
            "\n",
            "\n",
            "Trial trainable_func_fc21eeb8 reported epoch=9,loss=0.5731761055888922,should_checkpoint=True with parameters={'act1 ': 'tanh', 'act2': 'relu', 'act3': 'relu', 'lr': 0.001, 'batch_size': 16, 'hidden_dim1': 255.0, 'hidden_dim2': 285.0, 'hidden_dim3': 180.0}.\n",
            "Trial trainable_func_fc50187e reported epoch=4,loss=0.5751608699022933,should_checkpoint=True with parameters={'act1 ': 'selu', 'act2': 'selu', 'act3': 'tanh', 'lr': 0.0006000000000000001, 'batch_size': 8, 'hidden_dim1': 270.0, 'hidden_dim2': 165.0, 'hidden_dim3': 285.0}.\n",
            "Trial trainable_func_246e00fa reported epoch=0,loss=0.9519140074550401,should_checkpoint=True with parameters={'act1 ': 'selu', 'act2': 'tanh', 'act3': 'selu', 'lr': 0.0007, 'batch_size': 64, 'hidden_dim1': 285.0, 'hidden_dim2': 300.0, 'hidden_dim3': 270.0}.\n",
            "Trial trainable_func_212fa088 reported epoch=2,loss=0.6214148297627691,should_checkpoint=True with parameters={'act1 ': 'relu', 'act2': 'relu', 'act3': 'selu', 'lr': 0.001, 'batch_size': 16, 'hidden_dim1': 300.0, 'hidden_dim2': 240.0, 'hidden_dim3': 180.0}.\n",
            "Trial trainable_func_15ffcbd4 reported epoch=4,loss=0.5487720414899216,should_checkpoint=True with parameters={'act1 ': 'selu', 'act2': 'selu', 'act3': 'selu', 'lr': 0.0009, 'batch_size': 16, 'hidden_dim1': 330.0, 'hidden_dim2': 150.0, 'hidden_dim3': 180.0}.\n",
            "== Status ==\n",
            "Current time: 2022-07-26 12:05:00 (running for 00:01:21.72)\n",
            "Memory usage on this node: 2.3/12.7 GiB\n",
            "Using MedianStoppingRule: num_stopped=0.\n",
            "Resources requested: 2.0/2 CPUs, 0/0 GPUs, 0.0/7.46 GiB heap, 0.0/3.73 GiB objects\n",
            "Result logdir: /root/ray_results/trainable_func_2022-07-26_12-03-38\n",
            "Number of trials: 10/50 (5 PAUSED, 1 PENDING, 4 RUNNING)\n",
            "\n",
            "\n",
            "Trial trainable_func_246e00fa reported epoch=3,loss=0.7425779784787038,should_checkpoint=True with parameters={'act1 ': 'selu', 'act2': 'tanh', 'act3': 'selu', 'lr': 0.0007, 'batch_size': 64, 'hidden_dim1': 285.0, 'hidden_dim2': 300.0, 'hidden_dim3': 270.0}.\n",
            "Trial trainable_func_fc50187e reported epoch=5,loss=0.5915337969935246,should_checkpoint=True with parameters={'act1 ': 'selu', 'act2': 'selu', 'act3': 'tanh', 'lr': 0.0006000000000000001, 'batch_size': 8, 'hidden_dim1': 270.0, 'hidden_dim2': 165.0, 'hidden_dim3': 285.0}.\n",
            "== Status ==\n",
            "Current time: 2022-07-26 12:05:05 (running for 00:01:27.08)\n",
            "Memory usage on this node: 2.4/12.7 GiB\n",
            "Using MedianStoppingRule: num_stopped=0.\n",
            "Resources requested: 2.0/2 CPUs, 0/0 GPUs, 0.0/7.46 GiB heap, 0.0/3.73 GiB objects\n",
            "Result logdir: /root/ray_results/trainable_func_2022-07-26_12-03-38\n",
            "Number of trials: 10/50 (5 PAUSED, 1 PENDING, 4 RUNNING)\n",
            "\n",
            "\n",
            "Trial trainable_func_246e00fa reported epoch=6,loss=0.6265215631231745,should_checkpoint=True with parameters={'act1 ': 'selu', 'act2': 'tanh', 'act3': 'selu', 'lr': 0.0007, 'batch_size': 64, 'hidden_dim1': 285.0, 'hidden_dim2': 300.0, 'hidden_dim3': 270.0}.\n",
            "Trial trainable_func_212fa088 reported epoch=4,loss=0.5800923329879412,should_checkpoint=True with parameters={'act1 ': 'relu', 'act2': 'relu', 'act3': 'selu', 'lr': 0.001, 'batch_size': 16, 'hidden_dim1': 300.0, 'hidden_dim2': 240.0, 'hidden_dim3': 180.0}.\n",
            "Trial trainable_func_15ffcbd4 reported epoch=6,loss=0.5950729588139344,should_checkpoint=True with parameters={'act1 ': 'selu', 'act2': 'selu', 'act3': 'selu', 'lr': 0.0009, 'batch_size': 16, 'hidden_dim1': 330.0, 'hidden_dim2': 150.0, 'hidden_dim3': 180.0}.\n",
            "== Status ==\n",
            "Current time: 2022-07-26 12:05:10 (running for 00:01:32.12)\n",
            "Memory usage on this node: 2.4/12.7 GiB\n",
            "Using MedianStoppingRule: num_stopped=0.\n",
            "Resources requested: 2.0/2 CPUs, 0/0 GPUs, 0.0/7.46 GiB heap, 0.0/3.73 GiB objects\n",
            "Result logdir: /root/ray_results/trainable_func_2022-07-26_12-03-38\n",
            "Number of trials: 10/50 (5 PAUSED, 1 PENDING, 4 RUNNING)\n",
            "\n",
            "\n",
            "Trial trainable_func_fc50187e reported epoch=6,loss=0.5900857513830314,should_checkpoint=True with parameters={'act1 ': 'selu', 'act2': 'selu', 'act3': 'tanh', 'lr': 0.0006000000000000001, 'batch_size': 8, 'hidden_dim1': 270.0, 'hidden_dim2': 165.0, 'hidden_dim3': 285.0}.\n",
            "Trial trainable_func_212fa088 reported epoch=5,loss=0.6012957071078541,should_checkpoint=True with parameters={'act1 ': 'relu', 'act2': 'relu', 'act3': 'selu', 'lr': 0.001, 'batch_size': 16, 'hidden_dim1': 300.0, 'hidden_dim2': 240.0, 'hidden_dim3': 180.0}.\n",
            "Trial trainable_func_298fb39e reported epoch=0,loss=0.8476093742021514,should_checkpoint=True with parameters={'act1 ': 'selu', 'act2': 'relu', 'act3': 'tanh', 'lr': 0.0005, 'batch_size': 32, 'hidden_dim1': 285.0, 'hidden_dim2': 120.0, 'hidden_dim3': 315.0}.\n",
            "== Status ==\n",
            "Current time: 2022-07-26 12:05:17 (running for 00:01:38.62)\n",
            "Memory usage on this node: 2.4/12.7 GiB\n",
            "Using MedianStoppingRule: num_stopped=0.\n",
            "Resources requested: 2.0/2 CPUs, 0/0 GPUs, 0.0/7.46 GiB heap, 0.0/3.73 GiB objects\n",
            "Result logdir: /root/ray_results/trainable_func_2022-07-26_12-03-38\n",
            "Number of trials: 10/50 (6 PAUSED, 4 RUNNING)\n",
            "\n",
            "\n",
            "Trial trainable_func_15ffcbd4 reported epoch=8,loss=0.5650976954881024,should_checkpoint=True with parameters={'act1 ': 'selu', 'act2': 'selu', 'act3': 'selu', 'lr': 0.0009, 'batch_size': 16, 'hidden_dim1': 330.0, 'hidden_dim2': 150.0, 'hidden_dim3': 180.0}.\n",
            "Trial trainable_func_212fa088 reported epoch=6,loss=0.6082583200127941,should_checkpoint=True with parameters={'act1 ': 'relu', 'act2': 'relu', 'act3': 'selu', 'lr': 0.001, 'batch_size': 16, 'hidden_dim1': 300.0, 'hidden_dim2': 240.0, 'hidden_dim3': 180.0}.\n",
            "Trial trainable_func_fc50187e reported epoch=7,loss=0.63784516715673,should_checkpoint=True with parameters={'act1 ': 'selu', 'act2': 'selu', 'act3': 'tanh', 'lr': 0.0006000000000000001, 'batch_size': 8, 'hidden_dim1': 270.0, 'hidden_dim2': 165.0, 'hidden_dim3': 285.0}.\n",
            "Trial trainable_func_298fb39e reported epoch=3,loss=0.6341660841568959,should_checkpoint=True with parameters={'act1 ': 'selu', 'act2': 'relu', 'act3': 'tanh', 'lr': 0.0005, 'batch_size': 32, 'hidden_dim1': 285.0, 'hidden_dim2': 120.0, 'hidden_dim3': 315.0}.\n",
            "== Status ==\n",
            "Current time: 2022-07-26 12:05:22 (running for 00:01:43.74)\n",
            "Memory usage on this node: 2.4/12.7 GiB\n",
            "Using MedianStoppingRule: num_stopped=0.\n",
            "Resources requested: 1.5/2 CPUs, 0/0 GPUs, 0.0/7.46 GiB heap, 0.0/3.73 GiB objects\n",
            "Result logdir: /root/ray_results/trainable_func_2022-07-26_12-03-38\n",
            "Number of trials: 10/50 (7 PAUSED, 3 RUNNING)\n",
            "\n",
            "\n"
          ]
        },
        {
          "output_type": "stream",
          "name": "stderr",
          "text": [
            "\u001b[2m\u001b[36m(func pid=151415)\u001b[0m 2022-07-26 12:05:22,222\tINFO trainable.py:589 -- Restored on 172.28.0.2 from checkpoint: /root/ray_results/trainable_func_2022-07-26_12-03-38/trainable_func_fbbf25f8_1_act1=tanh,act2=selu,act3=tanh,batch_size=32,hidden_dim1=210.0000,hidden_dim2=210.0000,hidden_dim3=315.00_2022-07-26_12-03-38/checkpoint_tmp30ae20/./\n",
            "\u001b[2m\u001b[36m(func pid=151415)\u001b[0m 2022-07-26 12:05:22,223\tINFO trainable.py:597 -- Current state after restoring: {'_iteration': 10, '_timesteps_total': None, '_time_total': 31.022526264190674, '_episodes_total': None}\n"
          ]
        },
        {
          "output_type": "stream",
          "name": "stdout",
          "text": [
            "Trial trainable_func_212fa088 reported epoch=7,loss=0.6314647668996651,should_checkpoint=True with parameters={'act1 ': 'relu', 'act2': 'relu', 'act3': 'selu', 'lr': 0.001, 'batch_size': 16, 'hidden_dim1': 300.0, 'hidden_dim2': 240.0, 'hidden_dim3': 180.0}.\n",
            "Trial trainable_func_fbbf25f8 reported epoch=0,loss=0.41669172390827036,should_checkpoint=True with parameters={'act1 ': 'tanh', 'act2': 'selu', 'act3': 'tanh', 'lr': 0.001, 'batch_size': 32, 'hidden_dim1': 210.0, 'hidden_dim2': 210.0, 'hidden_dim3': 315.0}.\n"
          ]
        },
        {
          "output_type": "stream",
          "name": "stderr",
          "text": [
            "\u001b[2m\u001b[36m(func pid=151415)\u001b[0m 2022-07-26 12:05:25,432\tINFO trainable.py:589 -- Restored on 172.28.0.2 from checkpoint: /root/ray_results/trainable_func_2022-07-26_12-03-38/trainable_func_fbbf25f8_1_act1=tanh,act2=selu,act3=tanh,batch_size=32,hidden_dim1=210.0000,hidden_dim2=210.0000,hidden_dim3=315.00_2022-07-26_12-03-38/checkpoint_tmpc2a7a1/./\n",
            "\u001b[2m\u001b[36m(func pid=151415)\u001b[0m 2022-07-26 12:05:25,432\tINFO trainable.py:597 -- Current state after restoring: {'_iteration': 11, '_timesteps_total': None, '_time_total': 33.597859144210815, '_episodes_total': None}\n"
          ]
        },
        {
          "output_type": "stream",
          "name": "stdout",
          "text": [
            "Trial trainable_func_fc50187e reported epoch=8,loss=0.5915905020356291,should_checkpoint=True with parameters={'act1 ': 'selu', 'act2': 'selu', 'act3': 'tanh', 'lr': 0.0006000000000000001, 'batch_size': 8, 'hidden_dim1': 270.0, 'hidden_dim2': 165.0, 'hidden_dim3': 285.0}.\n",
            "Trial trainable_func_298fb39e reported epoch=6,loss=0.5999912302444036,should_checkpoint=True with parameters={'act1 ': 'selu', 'act2': 'relu', 'act3': 'tanh', 'lr': 0.0005, 'batch_size': 32, 'hidden_dim1': 285.0, 'hidden_dim2': 120.0, 'hidden_dim3': 315.0}.\n",
            "== Status ==\n",
            "Current time: 2022-07-26 12:05:27 (running for 00:01:49.06)\n",
            "Memory usage on this node: 2.4/12.7 GiB\n",
            "Using MedianStoppingRule: num_stopped=0.\n",
            "Resources requested: 2.0/2 CPUs, 0/0 GPUs, 0.0/7.46 GiB heap, 0.0/3.73 GiB objects\n",
            "Result logdir: /root/ray_results/trainable_func_2022-07-26_12-03-38\n",
            "Number of trials: 10/50 (6 PAUSED, 4 RUNNING)\n",
            "\n",
            "\n"
          ]
        },
        {
          "output_type": "stream",
          "name": "stderr",
          "text": [
            "\u001b[2m\u001b[36m(func pid=151415)\u001b[0m 2022-07-26 12:05:28,584\tINFO trainable.py:589 -- Restored on 172.28.0.2 from checkpoint: /root/ray_results/trainable_func_2022-07-26_12-03-38/trainable_func_fbbf25f8_1_act1=tanh,act2=selu,act3=tanh,batch_size=32,hidden_dim1=210.0000,hidden_dim2=210.0000,hidden_dim3=315.00_2022-07-26_12-03-38/checkpoint_tmpcc55a6/./\n",
            "\u001b[2m\u001b[36m(func pid=151415)\u001b[0m 2022-07-26 12:05:28,584\tINFO trainable.py:597 -- Current state after restoring: {'_iteration': 12, '_timesteps_total': None, '_time_total': 36.10451889038086, '_episodes_total': None}\n"
          ]
        },
        {
          "output_type": "stream",
          "name": "stdout",
          "text": [
            "Trial trainable_func_212fa088 reported epoch=8,loss=0.5067238560496393,should_checkpoint=True with parameters={'act1 ': 'relu', 'act2': 'relu', 'act3': 'selu', 'lr': 0.001, 'batch_size': 16, 'hidden_dim1': 300.0, 'hidden_dim2': 240.0, 'hidden_dim3': 180.0}.\n",
            "Trial trainable_func_fbbf25f8 reported epoch=0,loss=0.28253525854818806,should_checkpoint=True with parameters={'act1 ': 'tanh', 'act2': 'selu', 'act3': 'tanh', 'lr': 0.001, 'batch_size': 32, 'hidden_dim1': 210.0, 'hidden_dim2': 210.0, 'hidden_dim3': 315.0}.\n"
          ]
        },
        {
          "output_type": "stream",
          "name": "stderr",
          "text": [
            "\u001b[2m\u001b[36m(func pid=151415)\u001b[0m 2022-07-26 12:05:31,855\tINFO trainable.py:589 -- Restored on 172.28.0.2 from checkpoint: /root/ray_results/trainable_func_2022-07-26_12-03-38/trainable_func_fbbf25f8_1_act1=tanh,act2=selu,act3=tanh,batch_size=32,hidden_dim1=210.0000,hidden_dim2=210.0000,hidden_dim3=315.00_2022-07-26_12-03-38/checkpoint_tmpdf9d5f/./\n",
            "\u001b[2m\u001b[36m(func pid=151415)\u001b[0m 2022-07-26 12:05:31,855\tINFO trainable.py:597 -- Current state after restoring: {'_iteration': 13, '_timesteps_total': None, '_time_total': 38.751522064208984, '_episodes_total': None}\n"
          ]
        },
        {
          "output_type": "stream",
          "name": "stdout",
          "text": [
            "== Status ==\n",
            "Current time: 2022-07-26 12:05:33 (running for 00:01:55.43)\n",
            "Memory usage on this node: 2.3/12.7 GiB\n",
            "Using MedianStoppingRule: num_stopped=0.\n",
            "Resources requested: 2.0/2 CPUs, 0/0 GPUs, 0.0/7.46 GiB heap, 0.0/3.73 GiB objects\n",
            "Result logdir: /root/ray_results/trainable_func_2022-07-26_12-03-38\n",
            "Number of trials: 10/50 (6 PAUSED, 4 RUNNING)\n",
            "\n",
            "\n"
          ]
        },
        {
          "output_type": "stream",
          "name": "stderr",
          "text": [
            "\u001b[2m\u001b[36m(func pid=151414)\u001b[0m 2022-07-26 12:05:34,374\tINFO trainable.py:589 -- Restored on 172.28.0.2 from checkpoint: /root/ray_results/trainable_func_2022-07-26_12-03-38/trainable_func_fc0a2c74_2_act1=tanh,act2=selu,act3=tanh,batch_size=16,hidden_dim1=165.0000,hidden_dim2=240.0000,hidden_dim3=210.00_2022-07-26_12-03-39/checkpoint_tmp74c886/./\n",
            "\u001b[2m\u001b[36m(func pid=151414)\u001b[0m 2022-07-26 12:05:34,374\tINFO trainable.py:597 -- Current state after restoring: {'_iteration': 10, '_timesteps_total': None, '_time_total': 48.953654289245605, '_episodes_total': None}\n"
          ]
        },
        {
          "output_type": "stream",
          "name": "stdout",
          "text": [
            "Trial trainable_func_298fb39e reported epoch=9,loss=0.6682196885635727,should_checkpoint=True with parameters={'act1 ': 'selu', 'act2': 'relu', 'act3': 'tanh', 'lr': 0.0005, 'batch_size': 32, 'hidden_dim1': 285.0, 'hidden_dim2': 120.0, 'hidden_dim3': 315.0}.\n"
          ]
        },
        {
          "output_type": "stream",
          "name": "stderr",
          "text": [
            "\u001b[2m\u001b[36m(func pid=151415)\u001b[0m 2022-07-26 12:05:34,778\tINFO trainable.py:589 -- Restored on 172.28.0.2 from checkpoint: /root/ray_results/trainable_func_2022-07-26_12-03-38/trainable_func_fbbf25f8_1_act1=tanh,act2=selu,act3=tanh,batch_size=32,hidden_dim1=210.0000,hidden_dim2=210.0000,hidden_dim3=315.00_2022-07-26_12-03-38/checkpoint_tmp59db7b/./\n",
            "\u001b[2m\u001b[36m(func pid=151415)\u001b[0m 2022-07-26 12:05:34,779\tINFO trainable.py:597 -- Current state after restoring: {'_iteration': 14, '_timesteps_total': None, '_time_total': 41.13297891616821, '_episodes_total': None}\n"
          ]
        },
        {
          "output_type": "stream",
          "name": "stdout",
          "text": [
            "Trial trainable_func_fc50187e reported epoch=9,loss=0.5820020077395245,should_checkpoint=True with parameters={'act1 ': 'selu', 'act2': 'selu', 'act3': 'tanh', 'lr': 0.0006000000000000001, 'batch_size': 8, 'hidden_dim1': 270.0, 'hidden_dim2': 165.0, 'hidden_dim3': 285.0}.\n"
          ]
        },
        {
          "output_type": "stream",
          "name": "stderr",
          "text": [
            "\u001b[2m\u001b[36m(func pid=151453)\u001b[0m 2022-07-26 12:05:35,267\tINFO trainable.py:589 -- Restored on 172.28.0.2 from checkpoint: /root/ray_results/trainable_func_2022-07-26_12-03-38/trainable_func_fc21eeb8_3_act1=tanh,act2=relu,act3=relu,batch_size=16,hidden_dim1=255.0000,hidden_dim2=285.0000,hidden_dim3=180.00_2022-07-26_12-03-39/checkpoint_tmp2100f6/./\n",
            "\u001b[2m\u001b[36m(func pid=151453)\u001b[0m 2022-07-26 12:05:35,268\tINFO trainable.py:597 -- Current state after restoring: {'_iteration': 10, '_timesteps_total': None, '_time_total': 57.78723883628845, '_episodes_total': None}\n",
            "\u001b[2m\u001b[36m(func pid=151479)\u001b[0m 2022-07-26 12:05:35,900\tINFO trainable.py:589 -- Restored on 172.28.0.2 from checkpoint: /root/ray_results/trainable_func_2022-07-26_12-03-38/trainable_func_fc3a8798_4_act1=relu,act2=tanh,act3=tanh,batch_size=64,hidden_dim1=195.0000,hidden_dim2=210.0000,hidden_dim3=135.00_2022-07-26_12-03-39/checkpoint_tmp092bd9/./\n",
            "\u001b[2m\u001b[36m(func pid=151479)\u001b[0m 2022-07-26 12:05:35,900\tINFO trainable.py:597 -- Current state after restoring: {'_iteration': 10, '_timesteps_total': None, '_time_total': 17.77274775505066, '_episodes_total': None}\n"
          ]
        },
        {
          "output_type": "stream",
          "name": "stdout",
          "text": [
            "Trial trainable_func_fbbf25f8 reported epoch=0,loss=0.3045577695187131,should_checkpoint=True with parameters={'act1 ': 'tanh', 'act2': 'selu', 'act3': 'tanh', 'lr': 0.001, 'batch_size': 32, 'hidden_dim1': 210.0, 'hidden_dim2': 210.0, 'hidden_dim3': 315.0}.\n",
            "Trial trainable_func_fc3a8798 reported epoch=0,loss=0.3644493156245378,should_checkpoint=True with parameters={'act1 ': 'relu', 'act2': 'tanh', 'act3': 'tanh', 'lr': 0.0008, 'batch_size': 64, 'hidden_dim1': 195.0, 'hidden_dim2': 210.0, 'hidden_dim3': 135.0}.\n"
          ]
        },
        {
          "output_type": "stream",
          "name": "stderr",
          "text": [
            "\u001b[2m\u001b[36m(func pid=151415)\u001b[0m 2022-07-26 12:05:37,645\tINFO trainable.py:589 -- Restored on 172.28.0.2 from checkpoint: /root/ray_results/trainable_func_2022-07-26_12-03-38/trainable_func_fbbf25f8_1_act1=tanh,act2=selu,act3=tanh,batch_size=32,hidden_dim1=210.0000,hidden_dim2=210.0000,hidden_dim3=315.00_2022-07-26_12-03-38/checkpoint_tmp24c821/./\n",
            "\u001b[2m\u001b[36m(func pid=151415)\u001b[0m 2022-07-26 12:05:37,645\tINFO trainable.py:597 -- Current state after restoring: {'_iteration': 15, '_timesteps_total': None, '_time_total': 43.44477152824402, '_episodes_total': None}\n"
          ]
        },
        {
          "output_type": "stream",
          "name": "stdout",
          "text": [
            "Trial trainable_func_fc0a2c74 reported epoch=0,loss=0.337069488121943,should_checkpoint=True with parameters={'act1 ': 'tanh', 'act2': 'selu', 'act3': 'tanh', 'lr': 0.001, 'batch_size': 16, 'hidden_dim1': 165.0, 'hidden_dim2': 240.0, 'hidden_dim3': 210.0}.\n"
          ]
        },
        {
          "output_type": "stream",
          "name": "stderr",
          "text": [
            "\u001b[2m\u001b[36m(func pid=151479)\u001b[0m 2022-07-26 12:05:38,047\tINFO trainable.py:589 -- Restored on 172.28.0.2 from checkpoint: /root/ray_results/trainable_func_2022-07-26_12-03-38/trainable_func_fc3a8798_4_act1=relu,act2=tanh,act3=tanh,batch_size=64,hidden_dim1=195.0000,hidden_dim2=210.0000,hidden_dim3=135.00_2022-07-26_12-03-39/checkpoint_tmp3820f8/./\n",
            "\u001b[2m\u001b[36m(func pid=151479)\u001b[0m 2022-07-26 12:05:38,056\tINFO trainable.py:597 -- Current state after restoring: {'_iteration': 11, '_timesteps_total': None, '_time_total': 19.15143895149231, '_episodes_total': None}\n",
            "\u001b[2m\u001b[36m(func pid=151414)\u001b[0m 2022-07-26 12:05:38,644\tINFO trainable.py:589 -- Restored on 172.28.0.2 from checkpoint: /root/ray_results/trainable_func_2022-07-26_12-03-38/trainable_func_fc0a2c74_2_act1=tanh,act2=selu,act3=tanh,batch_size=16,hidden_dim1=165.0000,hidden_dim2=240.0000,hidden_dim3=210.00_2022-07-26_12-03-39/checkpoint_tmp1db4c0/./\n",
            "\u001b[2m\u001b[36m(func pid=151414)\u001b[0m 2022-07-26 12:05:38,644\tINFO trainable.py:597 -- Current state after restoring: {'_iteration': 11, '_timesteps_total': None, '_time_total': 52.45854330062866, '_episodes_total': None}\n"
          ]
        },
        {
          "output_type": "stream",
          "name": "stdout",
          "text": [
            "== Status ==\n",
            "Current time: 2022-07-26 12:05:39 (running for 00:02:00.96)\n",
            "Memory usage on this node: 2.4/12.7 GiB\n",
            "Using MedianStoppingRule: num_stopped=0.\n",
            "Resources requested: 2.0/2 CPUs, 0/0 GPUs, 0.0/7.46 GiB heap, 0.0/3.73 GiB objects\n",
            "Result logdir: /root/ray_results/trainable_func_2022-07-26_12-03-38\n",
            "Number of trials: 10/50 (6 PAUSED, 4 RUNNING)\n",
            "\n",
            "\n"
          ]
        },
        {
          "output_type": "stream",
          "name": "stderr",
          "text": [
            "\u001b[2m\u001b[36m(func pid=151479)\u001b[0m 2022-07-26 12:05:39,962\tINFO trainable.py:589 -- Restored on 172.28.0.2 from checkpoint: /root/ray_results/trainable_func_2022-07-26_12-03-38/trainable_func_fc3a8798_4_act1=relu,act2=tanh,act3=tanh,batch_size=64,hidden_dim1=195.0000,hidden_dim2=210.0000,hidden_dim3=135.00_2022-07-26_12-03-39/checkpoint_tmp9d6191/./\n",
            "\u001b[2m\u001b[36m(func pid=151479)\u001b[0m 2022-07-26 12:05:39,962\tINFO trainable.py:597 -- Current state after restoring: {'_iteration': 12, '_timesteps_total': None, '_time_total': 20.46304965019226, '_episodes_total': None}\n"
          ]
        },
        {
          "output_type": "stream",
          "name": "stdout",
          "text": [
            "Trial trainable_func_fc21eeb8 reported epoch=0,loss=0.3637813765508104,should_checkpoint=True with parameters={'act1 ': 'tanh', 'act2': 'relu', 'act3': 'relu', 'lr': 0.001, 'batch_size': 16, 'hidden_dim1': 255.0, 'hidden_dim2': 285.0, 'hidden_dim3': 180.0}.\n"
          ]
        },
        {
          "output_type": "stream",
          "name": "stderr",
          "text": [
            "\u001b[2m\u001b[36m(func pid=151415)\u001b[0m 2022-07-26 12:05:40,754\tINFO trainable.py:589 -- Restored on 172.28.0.2 from checkpoint: /root/ray_results/trainable_func_2022-07-26_12-03-38/trainable_func_fbbf25f8_1_act1=tanh,act2=selu,act3=tanh,batch_size=32,hidden_dim1=210.0000,hidden_dim2=210.0000,hidden_dim3=315.00_2022-07-26_12-03-38/checkpoint_tmp98bf3a/./\n",
            "\u001b[2m\u001b[36m(func pid=151415)\u001b[0m 2022-07-26 12:05:40,754\tINFO trainable.py:597 -- Current state after restoring: {'_iteration': 16, '_timesteps_total': None, '_time_total': 46.03007459640503, '_episodes_total': None}\n",
            "\u001b[2m\u001b[36m(func pid=151453)\u001b[0m 2022-07-26 12:05:41,391\tINFO trainable.py:589 -- Restored on 172.28.0.2 from checkpoint: /root/ray_results/trainable_func_2022-07-26_12-03-38/trainable_func_fc21eeb8_3_act1=tanh,act2=relu,act3=relu,batch_size=16,hidden_dim1=255.0000,hidden_dim2=285.0000,hidden_dim3=180.00_2022-07-26_12-03-39/checkpoint_tmp04a6d6/./\n",
            "\u001b[2m\u001b[36m(func pid=151453)\u001b[0m 2022-07-26 12:05:41,392\tINFO trainable.py:597 -- Current state after restoring: {'_iteration': 11, '_timesteps_total': None, '_time_total': 62.97999167442322, '_episodes_total': None}\n",
            "\u001b[2m\u001b[36m(func pid=151479)\u001b[0m 2022-07-26 12:05:42,069\tINFO trainable.py:589 -- Restored on 172.28.0.2 from checkpoint: /root/ray_results/trainable_func_2022-07-26_12-03-38/trainable_func_fc3a8798_4_act1=relu,act2=tanh,act3=tanh,batch_size=64,hidden_dim1=195.0000,hidden_dim2=210.0000,hidden_dim3=135.00_2022-07-26_12-03-39/checkpoint_tmp896d76/./\n",
            "\u001b[2m\u001b[36m(func pid=151479)\u001b[0m 2022-07-26 12:05:42,069\tINFO trainable.py:597 -- Current state after restoring: {'_iteration': 13, '_timesteps_total': None, '_time_total': 21.64121985435486, '_episodes_total': None}\n"
          ]
        },
        {
          "output_type": "stream",
          "name": "stdout",
          "text": [
            "Trial trainable_func_fbbf25f8 reported epoch=0,loss=0.23254296745658837,should_checkpoint=True with parameters={'act1 ': 'tanh', 'act2': 'selu', 'act3': 'tanh', 'lr': 0.001, 'batch_size': 32, 'hidden_dim1': 210.0, 'hidden_dim2': 210.0, 'hidden_dim3': 315.0}.\n"
          ]
        },
        {
          "output_type": "stream",
          "name": "stderr",
          "text": [
            "\u001b[2m\u001b[36m(func pid=151414)\u001b[0m 2022-07-26 12:05:43,277\tINFO trainable.py:589 -- Restored on 172.28.0.2 from checkpoint: /root/ray_results/trainable_func_2022-07-26_12-03-38/trainable_func_fc0a2c74_2_act1=tanh,act2=selu,act3=tanh,batch_size=16,hidden_dim1=165.0000,hidden_dim2=240.0000,hidden_dim3=210.00_2022-07-26_12-03-39/checkpoint_tmp4ce596/./\n",
            "\u001b[2m\u001b[36m(func pid=151414)\u001b[0m 2022-07-26 12:05:43,278\tINFO trainable.py:597 -- Current state after restoring: {'_iteration': 12, '_timesteps_total': None, '_time_total': 56.438501596450806, '_episodes_total': None}\n"
          ]
        },
        {
          "output_type": "stream",
          "name": "stdout",
          "text": [
            "Trial trainable_func_fc3a8798 reported epoch=0,loss=0.2779112064877807,should_checkpoint=True with parameters={'act1 ': 'relu', 'act2': 'tanh', 'act3': 'tanh', 'lr': 0.0008, 'batch_size': 64, 'hidden_dim1': 195.0, 'hidden_dim2': 210.0, 'hidden_dim3': 135.0}.\n",
            "== Status ==\n",
            "Current time: 2022-07-26 12:05:44 (running for 00:02:05.98)\n",
            "Memory usage on this node: 2.4/12.7 GiB\n",
            "Using MedianStoppingRule: num_stopped=0.\n",
            "Resources requested: 1.5/2 CPUs, 0/0 GPUs, 0.0/7.46 GiB heap, 0.0/3.73 GiB objects\n",
            "Result logdir: /root/ray_results/trainable_func_2022-07-26_12-03-38\n",
            "Number of trials: 10/50 (7 PAUSED, 3 RUNNING)\n",
            "\n",
            "\n"
          ]
        },
        {
          "output_type": "stream",
          "name": "stderr",
          "text": [
            "\u001b[2m\u001b[36m(func pid=151415)\u001b[0m 2022-07-26 12:05:43,796\tINFO trainable.py:589 -- Restored on 172.28.0.2 from checkpoint: /root/ray_results/trainable_func_2022-07-26_12-03-38/trainable_func_fbbf25f8_1_act1=tanh,act2=selu,act3=tanh,batch_size=32,hidden_dim1=210.0000,hidden_dim2=210.0000,hidden_dim3=315.00_2022-07-26_12-03-38/checkpoint_tmp2f6226/./\n",
            "\u001b[2m\u001b[36m(func pid=151415)\u001b[0m 2022-07-26 12:05:43,796\tINFO trainable.py:597 -- Current state after restoring: {'_iteration': 17, '_timesteps_total': None, '_time_total': 48.61290955543518, '_episodes_total': None}\n",
            "\u001b[2m\u001b[36m(func pid=151479)\u001b[0m 2022-07-26 12:05:44,446\tINFO trainable.py:589 -- Restored on 172.28.0.2 from checkpoint: /root/ray_results/trainable_func_2022-07-26_12-03-38/trainable_func_fc3a8798_4_act1=relu,act2=tanh,act3=tanh,batch_size=64,hidden_dim1=195.0000,hidden_dim2=210.0000,hidden_dim3=135.00_2022-07-26_12-03-39/checkpoint_tmpd5e37d/./\n",
            "\u001b[2m\u001b[36m(func pid=151479)\u001b[0m 2022-07-26 12:05:44,446\tINFO trainable.py:597 -- Current state after restoring: {'_iteration': 14, '_timesteps_total': None, '_time_total': 23.041603088378906, '_episodes_total': None}\n"
          ]
        },
        {
          "output_type": "stream",
          "name": "stdout",
          "text": [
            "Trial trainable_func_fc21eeb8 reported epoch=0,loss=0.35887442841814915,should_checkpoint=True with parameters={'act1 ': 'tanh', 'act2': 'relu', 'act3': 'relu', 'lr': 0.001, 'batch_size': 16, 'hidden_dim1': 255.0, 'hidden_dim2': 285.0, 'hidden_dim3': 180.0}.\n"
          ]
        },
        {
          "output_type": "stream",
          "name": "stderr",
          "text": [
            "\u001b[2m\u001b[36m(func pid=151479)\u001b[0m 2022-07-26 12:05:46,352\tINFO trainable.py:589 -- Restored on 172.28.0.2 from checkpoint: /root/ray_results/trainable_func_2022-07-26_12-03-38/trainable_func_fc3a8798_4_act1=relu,act2=tanh,act3=tanh,batch_size=64,hidden_dim1=195.0000,hidden_dim2=210.0000,hidden_dim3=135.00_2022-07-26_12-03-39/checkpoint_tmp6119c7/./\n",
            "\u001b[2m\u001b[36m(func pid=151479)\u001b[0m 2022-07-26 12:05:46,352\tINFO trainable.py:597 -- Current state after restoring: {'_iteration': 15, '_timesteps_total': None, '_time_total': 24.35125207901001, '_episodes_total': None}\n",
            "\u001b[2m\u001b[36m(func pid=151453)\u001b[0m 2022-07-26 12:05:46,834\tINFO trainable.py:589 -- Restored on 172.28.0.2 from checkpoint: /root/ray_results/trainable_func_2022-07-26_12-03-38/trainable_func_fc21eeb8_3_act1=tanh,act2=relu,act3=relu,batch_size=16,hidden_dim1=255.0000,hidden_dim2=285.0000,hidden_dim3=180.00_2022-07-26_12-03-39/checkpoint_tmpcb31d4/./\n",
            "\u001b[2m\u001b[36m(func pid=151453)\u001b[0m 2022-07-26 12:05:46,834\tINFO trainable.py:597 -- Current state after restoring: {'_iteration': 12, '_timesteps_total': None, '_time_total': 67.90672302246094, '_episodes_total': None}\n"
          ]
        },
        {
          "output_type": "stream",
          "name": "stdout",
          "text": [
            "Trial trainable_func_fc0a2c74 reported epoch=0,loss=0.4071736604511739,should_checkpoint=True with parameters={'act1 ': 'tanh', 'act2': 'selu', 'act3': 'tanh', 'lr': 0.001, 'batch_size': 16, 'hidden_dim1': 165.0, 'hidden_dim2': 240.0, 'hidden_dim3': 210.0}.\n"
          ]
        },
        {
          "output_type": "stream",
          "name": "stderr",
          "text": [
            "\u001b[2m\u001b[36m(func pid=151415)\u001b[0m 2022-07-26 12:05:47,276\tINFO trainable.py:589 -- Restored on 172.28.0.2 from checkpoint: /root/ray_results/trainable_func_2022-07-26_12-03-38/trainable_func_fbbf25f8_1_act1=tanh,act2=selu,act3=tanh,batch_size=32,hidden_dim1=210.0000,hidden_dim2=210.0000,hidden_dim3=315.00_2022-07-26_12-03-38/checkpoint_tmp4cf16f/./\n",
            "\u001b[2m\u001b[36m(func pid=151415)\u001b[0m 2022-07-26 12:05:47,277\tINFO trainable.py:597 -- Current state after restoring: {'_iteration': 18, '_timesteps_total': None, '_time_total': 51.07034921646118, '_episodes_total': None}\n",
            "\u001b[2m\u001b[36m(func pid=151414)\u001b[0m 2022-07-26 12:05:47,761\tINFO trainable.py:589 -- Restored on 172.28.0.2 from checkpoint: /root/ray_results/trainable_func_2022-07-26_12-03-38/trainable_func_fc0a2c74_2_act1=tanh,act2=selu,act3=tanh,batch_size=16,hidden_dim1=165.0000,hidden_dim2=240.0000,hidden_dim3=210.00_2022-07-26_12-03-39/checkpoint_tmp0799ac/./\n",
            "\u001b[2m\u001b[36m(func pid=151414)\u001b[0m 2022-07-26 12:05:47,761\tINFO trainable.py:597 -- Current state after restoring: {'_iteration': 13, '_timesteps_total': None, '_time_total': 60.167983531951904, '_episodes_total': None}\n",
            "\u001b[2m\u001b[36m(func pid=151479)\u001b[0m 2022-07-26 12:05:48,394\tINFO trainable.py:589 -- Restored on 172.28.0.2 from checkpoint: /root/ray_results/trainable_func_2022-07-26_12-03-38/trainable_func_fc3a8798_4_act1=relu,act2=tanh,act3=tanh,batch_size=64,hidden_dim1=195.0000,hidden_dim2=210.0000,hidden_dim3=135.00_2022-07-26_12-03-39/checkpoint_tmp07aede/./\n",
            "\u001b[2m\u001b[36m(func pid=151479)\u001b[0m 2022-07-26 12:05:48,396\tINFO trainable.py:597 -- Current state after restoring: {'_iteration': 16, '_timesteps_total': None, '_time_total': 25.455151319503784, '_episodes_total': None}\n"
          ]
        },
        {
          "output_type": "stream",
          "name": "stdout",
          "text": [
            "Trial trainable_func_fbbf25f8 reported epoch=0,loss=0.18493990773836438,should_checkpoint=True with parameters={'act1 ': 'tanh', 'act2': 'selu', 'act3': 'tanh', 'lr': 0.001, 'batch_size': 32, 'hidden_dim1': 210.0, 'hidden_dim2': 210.0, 'hidden_dim3': 315.0}.\n",
            "== Status ==\n",
            "Current time: 2022-07-26 12:05:49 (running for 00:02:11.14)\n",
            "Memory usage on this node: 2.4/12.7 GiB\n",
            "Using MedianStoppingRule: num_stopped=0.\n",
            "Resources requested: 2.0/2 CPUs, 0/0 GPUs, 0.0/7.46 GiB heap, 0.0/3.73 GiB objects\n",
            "Result logdir: /root/ray_results/trainable_func_2022-07-26_12-03-38\n",
            "Number of trials: 10/50 (6 PAUSED, 4 RUNNING)\n",
            "\n",
            "\n",
            "Trial trainable_func_fc3a8798 reported epoch=0,loss=0.17490770769825006,should_checkpoint=True with parameters={'act1 ': 'relu', 'act2': 'tanh', 'act3': 'tanh', 'lr': 0.0008, 'batch_size': 64, 'hidden_dim1': 195.0, 'hidden_dim2': 210.0, 'hidden_dim3': 135.0}.\n"
          ]
        },
        {
          "output_type": "stream",
          "name": "stderr",
          "text": [
            "\u001b[2m\u001b[36m(func pid=151415)\u001b[0m 2022-07-26 12:05:50,055\tINFO trainable.py:589 -- Restored on 172.28.0.2 from checkpoint: /root/ray_results/trainable_func_2022-07-26_12-03-38/trainable_func_fbbf25f8_1_act1=tanh,act2=selu,act3=tanh,batch_size=32,hidden_dim1=210.0000,hidden_dim2=210.0000,hidden_dim3=315.00_2022-07-26_12-03-38/checkpoint_tmp3633d3/./\n",
            "\u001b[2m\u001b[36m(func pid=151415)\u001b[0m 2022-07-26 12:05:50,055\tINFO trainable.py:597 -- Current state after restoring: {'_iteration': 19, '_timesteps_total': None, '_time_total': 53.33776092529297, '_episodes_total': None}\n",
            "\u001b[2m\u001b[36m(func pid=151479)\u001b[0m 2022-07-26 12:05:50,707\tINFO trainable.py:589 -- Restored on 172.28.0.2 from checkpoint: /root/ray_results/trainable_func_2022-07-26_12-03-38/trainable_func_fc3a8798_4_act1=relu,act2=tanh,act3=tanh,batch_size=64,hidden_dim1=195.0000,hidden_dim2=210.0000,hidden_dim3=135.00_2022-07-26_12-03-39/checkpoint_tmpd7f508/./\n",
            "\u001b[2m\u001b[36m(func pid=151479)\u001b[0m 2022-07-26 12:05:50,707\tINFO trainable.py:597 -- Current state after restoring: {'_iteration': 17, '_timesteps_total': None, '_time_total': 26.79438805580139, '_episodes_total': None}\n",
            "\u001b[2m\u001b[36m(func pid=151414)\u001b[0m 2022-07-26 12:05:52,041\tINFO trainable.py:589 -- Restored on 172.28.0.2 from checkpoint: /root/ray_results/trainable_func_2022-07-26_12-03-38/trainable_func_fc0a2c74_2_act1=tanh,act2=selu,act3=tanh,batch_size=16,hidden_dim1=165.0000,hidden_dim2=240.0000,hidden_dim3=210.00_2022-07-26_12-03-39/checkpoint_tmp4e7e2e/./\n",
            "\u001b[2m\u001b[36m(func pid=151414)\u001b[0m 2022-07-26 12:05:52,041\tINFO trainable.py:597 -- Current state after restoring: {'_iteration': 14, '_timesteps_total': None, '_time_total': 63.798540115356445, '_episodes_total': None}\n"
          ]
        },
        {
          "output_type": "stream",
          "name": "stdout",
          "text": [
            "Trial trainable_func_fc21eeb8 reported epoch=0,loss=0.3504559142671058,should_checkpoint=True with parameters={'act1 ': 'tanh', 'act2': 'relu', 'act3': 'relu', 'lr': 0.001, 'batch_size': 16, 'hidden_dim1': 255.0, 'hidden_dim2': 285.0, 'hidden_dim3': 180.0}.\n"
          ]
        },
        {
          "output_type": "stream",
          "name": "stderr",
          "text": [
            "\u001b[2m\u001b[36m(func pid=151479)\u001b[0m 2022-07-26 12:05:52,588\tINFO trainable.py:589 -- Restored on 172.28.0.2 from checkpoint: /root/ray_results/trainable_func_2022-07-26_12-03-38/trainable_func_fc3a8798_4_act1=relu,act2=tanh,act3=tanh,batch_size=64,hidden_dim1=195.0000,hidden_dim2=210.0000,hidden_dim3=135.00_2022-07-26_12-03-39/checkpoint_tmpc0aaa8/./\n",
            "\u001b[2m\u001b[36m(func pid=151479)\u001b[0m 2022-07-26 12:05:52,589\tINFO trainable.py:597 -- Current state after restoring: {'_iteration': 18, '_timesteps_total': None, '_time_total': 28.21753478050232, '_episodes_total': None}\n",
            "\u001b[2m\u001b[36m(func pid=151453)\u001b[0m 2022-07-26 12:05:53,056\tINFO trainable.py:589 -- Restored on 172.28.0.2 from checkpoint: /root/ray_results/trainable_func_2022-07-26_12-03-38/trainable_func_fc21eeb8_3_act1=tanh,act2=relu,act3=relu,batch_size=16,hidden_dim1=255.0000,hidden_dim2=285.0000,hidden_dim3=180.00_2022-07-26_12-03-39/checkpoint_tmp479579/./\n",
            "\u001b[2m\u001b[36m(func pid=151453)\u001b[0m 2022-07-26 12:05:53,057\tINFO trainable.py:597 -- Current state after restoring: {'_iteration': 13, '_timesteps_total': None, '_time_total': 73.31012082099915, '_episodes_total': None}\n",
            "\u001b[2m\u001b[36m(func pid=151415)\u001b[0m 2022-07-26 12:05:53,685\tINFO trainable.py:589 -- Restored on 172.28.0.2 from checkpoint: /root/ray_results/trainable_func_2022-07-26_12-03-38/trainable_func_fbbf25f8_1_act1=tanh,act2=selu,act3=tanh,batch_size=32,hidden_dim1=210.0000,hidden_dim2=210.0000,hidden_dim3=315.00_2022-07-26_12-03-38/checkpoint_tmp1889b8/./\n",
            "\u001b[2m\u001b[36m(func pid=151415)\u001b[0m 2022-07-26 12:05:53,685\tINFO trainable.py:597 -- Current state after restoring: {'_iteration': 20, '_timesteps_total': None, '_time_total': 55.8664436340332, '_episodes_total': None}\n",
            "\u001b[2m\u001b[36m(func pid=151479)\u001b[0m 2022-07-26 12:05:54,356\tINFO trainable.py:589 -- Restored on 172.28.0.2 from checkpoint: /root/ray_results/trainable_func_2022-07-26_12-03-38/trainable_func_fc3a8798_4_act1=relu,act2=tanh,act3=tanh,batch_size=64,hidden_dim1=195.0000,hidden_dim2=210.0000,hidden_dim3=135.00_2022-07-26_12-03-39/checkpoint_tmp20e4f2/./\n",
            "\u001b[2m\u001b[36m(func pid=151479)\u001b[0m 2022-07-26 12:05:54,357\tINFO trainable.py:597 -- Current state after restoring: {'_iteration': 19, '_timesteps_total': None, '_time_total': 29.074980974197388, '_episodes_total': None}\n"
          ]
        },
        {
          "output_type": "stream",
          "name": "stdout",
          "text": [
            "Trial trainable_func_fc3a8798 reported epoch=0,loss=0.1667530899896409,should_checkpoint=True with parameters={'act1 ': 'relu', 'act2': 'tanh', 'act3': 'tanh', 'lr': 0.0008, 'batch_size': 64, 'hidden_dim1': 195.0, 'hidden_dim2': 210.0, 'hidden_dim3': 135.0}.\n",
            "== Status ==\n",
            "Current time: 2022-07-26 12:05:55 (running for 00:02:17.33)\n",
            "Memory usage on this node: 2.4/12.7 GiB\n",
            "Using MedianStoppingRule: num_stopped=0.\n",
            "Resources requested: 2.0/2 CPUs, 0/0 GPUs, 0.0/7.46 GiB heap, 0.0/3.73 GiB objects\n",
            "Result logdir: /root/ray_results/trainable_func_2022-07-26_12-03-38\n",
            "Number of trials: 10/50 (6 PAUSED, 4 RUNNING)\n",
            "\n",
            "\n",
            "Trial trainable_func_fc0a2c74 reported epoch=0,loss=0.29261943558197395,should_checkpoint=True with parameters={'act1 ': 'tanh', 'act2': 'selu', 'act3': 'tanh', 'lr': 0.001, 'batch_size': 16, 'hidden_dim1': 165.0, 'hidden_dim2': 240.0, 'hidden_dim3': 210.0}.\n"
          ]
        },
        {
          "output_type": "stream",
          "name": "stderr",
          "text": [
            "\u001b[2m\u001b[36m(func pid=151479)\u001b[0m 2022-07-26 12:05:56,214\tINFO trainable.py:589 -- Restored on 172.28.0.2 from checkpoint: /root/ray_results/trainable_func_2022-07-26_12-03-38/trainable_func_fc3a8798_4_act1=relu,act2=tanh,act3=tanh,batch_size=64,hidden_dim1=195.0000,hidden_dim2=210.0000,hidden_dim3=135.00_2022-07-26_12-03-39/checkpoint_tmpfbeb4c/./\n",
            "\u001b[2m\u001b[36m(func pid=151479)\u001b[0m 2022-07-26 12:05:56,215\tINFO trainable.py:597 -- Current state after restoring: {'_iteration': 20, '_timesteps_total': None, '_time_total': 30.452434062957764, '_episodes_total': None}\n"
          ]
        },
        {
          "output_type": "stream",
          "name": "stdout",
          "text": [
            "Trial trainable_func_fbbf25f8 reported epoch=0,loss=0.18100470025077878,should_checkpoint=True with parameters={'act1 ': 'tanh', 'act2': 'selu', 'act3': 'tanh', 'lr': 0.001, 'batch_size': 32, 'hidden_dim1': 210.0, 'hidden_dim2': 210.0, 'hidden_dim3': 315.0}.\n"
          ]
        },
        {
          "output_type": "stream",
          "name": "stderr",
          "text": [
            "\u001b[2m\u001b[36m(func pid=151414)\u001b[0m 2022-07-26 12:05:56,577\tINFO trainable.py:589 -- Restored on 172.28.0.2 from checkpoint: /root/ray_results/trainable_func_2022-07-26_12-03-38/trainable_func_fc0a2c74_2_act1=tanh,act2=selu,act3=tanh,batch_size=16,hidden_dim1=165.0000,hidden_dim2=240.0000,hidden_dim3=210.00_2022-07-26_12-03-39/checkpoint_tmp572ea3/./\n",
            "\u001b[2m\u001b[36m(func pid=151414)\u001b[0m 2022-07-26 12:05:56,577\tINFO trainable.py:597 -- Current state after restoring: {'_iteration': 15, '_timesteps_total': None, '_time_total': 67.67981839179993, '_episodes_total': None}\n",
            "\u001b[2m\u001b[36m(func pid=151415)\u001b[0m 2022-07-26 12:05:57,212\tINFO trainable.py:589 -- Restored on 172.28.0.2 from checkpoint: /root/ray_results/trainable_func_2022-07-26_12-03-38/trainable_func_fbbf25f8_1_act1=tanh,act2=selu,act3=tanh,batch_size=32,hidden_dim1=210.0000,hidden_dim2=210.0000,hidden_dim3=315.00_2022-07-26_12-03-38/checkpoint_tmpeffe38/./\n",
            "\u001b[2m\u001b[36m(func pid=151415)\u001b[0m 2022-07-26 12:05:57,212\tINFO trainable.py:597 -- Current state after restoring: {'_iteration': 21, '_timesteps_total': None, '_time_total': 58.36755156517029, '_episodes_total': None}\n"
          ]
        },
        {
          "output_type": "stream",
          "name": "stdout",
          "text": [
            "Trial trainable_func_fc21eeb8 reported epoch=0,loss=0.28289392606748887,should_checkpoint=True with parameters={'act1 ': 'tanh', 'act2': 'relu', 'act3': 'relu', 'lr': 0.001, 'batch_size': 16, 'hidden_dim1': 255.0, 'hidden_dim2': 285.0, 'hidden_dim3': 180.0}.\n"
          ]
        },
        {
          "output_type": "stream",
          "name": "stderr",
          "text": [
            "\u001b[2m\u001b[36m(func pid=151479)\u001b[0m 2022-07-26 12:05:57,928\tINFO trainable.py:589 -- Restored on 172.28.0.2 from checkpoint: /root/ray_results/trainable_func_2022-07-26_12-03-38/trainable_func_fc3a8798_4_act1=relu,act2=tanh,act3=tanh,batch_size=64,hidden_dim1=195.0000,hidden_dim2=210.0000,hidden_dim3=135.00_2022-07-26_12-03-39/checkpoint_tmp63eba2/./\n",
            "\u001b[2m\u001b[36m(func pid=151479)\u001b[0m 2022-07-26 12:05:57,929\tINFO trainable.py:597 -- Current state after restoring: {'_iteration': 21, '_timesteps_total': None, '_time_total': 31.585688829421997, '_episodes_total': None}\n",
            "\u001b[2m\u001b[36m(func pid=151453)\u001b[0m 2022-07-26 12:05:58,542\tINFO trainable.py:589 -- Restored on 172.28.0.2 from checkpoint: /root/ray_results/trainable_func_2022-07-26_12-03-38/trainable_func_fc21eeb8_3_act1=tanh,act2=relu,act3=relu,batch_size=16,hidden_dim1=255.0000,hidden_dim2=285.0000,hidden_dim3=180.00_2022-07-26_12-03-39/checkpoint_tmp76865e/./\n",
            "\u001b[2m\u001b[36m(func pid=151453)\u001b[0m 2022-07-26 12:05:58,542\tINFO trainable.py:597 -- Current state after restoring: {'_iteration': 14, '_timesteps_total': None, '_time_total': 78.14596152305603, '_episodes_total': None}\n",
            "\u001b[2m\u001b[36m(func pid=151479)\u001b[0m 2022-07-26 12:05:59,833\tINFO trainable.py:589 -- Restored on 172.28.0.2 from checkpoint: /root/ray_results/trainable_func_2022-07-26_12-03-38/trainable_func_fc3a8798_4_act1=relu,act2=tanh,act3=tanh,batch_size=64,hidden_dim1=195.0000,hidden_dim2=210.0000,hidden_dim3=135.00_2022-07-26_12-03-39/checkpoint_tmpb4d072/./\n",
            "\u001b[2m\u001b[36m(func pid=151479)\u001b[0m 2022-07-26 12:05:59,834\tINFO trainable.py:597 -- Current state after restoring: {'_iteration': 22, '_timesteps_total': None, '_time_total': 32.90905833244324, '_episodes_total': None}\n"
          ]
        },
        {
          "output_type": "stream",
          "name": "stdout",
          "text": [
            "== Status ==\n",
            "Current time: 2022-07-26 12:06:00 (running for 00:02:22.51)\n",
            "Memory usage on this node: 2.4/12.7 GiB\n",
            "Using MedianStoppingRule: num_stopped=0.\n",
            "Resources requested: 1.5/2 CPUs, 0/0 GPUs, 0.0/7.46 GiB heap, 0.0/3.73 GiB objects\n",
            "Result logdir: /root/ray_results/trainable_func_2022-07-26_12-03-38\n",
            "Number of trials: 10/50 (7 PAUSED, 3 RUNNING)\n",
            "\n",
            "\n"
          ]
        },
        {
          "output_type": "stream",
          "name": "stderr",
          "text": [
            "\u001b[2m\u001b[36m(func pid=151415)\u001b[0m 2022-07-26 12:06:00,435\tINFO trainable.py:589 -- Restored on 172.28.0.2 from checkpoint: /root/ray_results/trainable_func_2022-07-26_12-03-38/trainable_func_fbbf25f8_1_act1=tanh,act2=selu,act3=tanh,batch_size=32,hidden_dim1=210.0000,hidden_dim2=210.0000,hidden_dim3=315.00_2022-07-26_12-03-38/checkpoint_tmpc9348e/./\n",
            "\u001b[2m\u001b[36m(func pid=151415)\u001b[0m 2022-07-26 12:06:00,435\tINFO trainable.py:597 -- Current state after restoring: {'_iteration': 22, '_timesteps_total': None, '_time_total': 60.82396197319031, '_episodes_total': None}\n",
            "\u001b[2m\u001b[36m(func pid=151414)\u001b[0m 2022-07-26 12:06:00,971\tINFO trainable.py:589 -- Restored on 172.28.0.2 from checkpoint: /root/ray_results/trainable_func_2022-07-26_12-03-38/trainable_func_fc0a2c74_2_act1=tanh,act2=selu,act3=tanh,batch_size=16,hidden_dim1=165.0000,hidden_dim2=240.0000,hidden_dim3=210.00_2022-07-26_12-03-39/checkpoint_tmp09ba26/./\n",
            "\u001b[2m\u001b[36m(func pid=151414)\u001b[0m 2022-07-26 12:06:00,971\tINFO trainable.py:597 -- Current state after restoring: {'_iteration': 16, '_timesteps_total': None, '_time_total': 71.51422953605652, '_episodes_total': None}\n"
          ]
        },
        {
          "output_type": "stream",
          "name": "stdout",
          "text": [
            "Trial trainable_func_fc3a8798 reported epoch=0,loss=0.1814559378378194,should_checkpoint=True with parameters={'act1 ': 'relu', 'act2': 'tanh', 'act3': 'tanh', 'lr': 0.0008, 'batch_size': 64, 'hidden_dim1': 195.0, 'hidden_dim2': 210.0, 'hidden_dim3': 135.0}.\n"
          ]
        },
        {
          "output_type": "stream",
          "name": "stderr",
          "text": [
            "\u001b[2m\u001b[36m(func pid=151479)\u001b[0m 2022-07-26 12:06:01,875\tINFO trainable.py:589 -- Restored on 172.28.0.2 from checkpoint: /root/ray_results/trainable_func_2022-07-26_12-03-38/trainable_func_fc3a8798_4_act1=relu,act2=tanh,act3=tanh,batch_size=64,hidden_dim1=195.0000,hidden_dim2=210.0000,hidden_dim3=135.00_2022-07-26_12-03-39/checkpoint_tmp188ad9/./\n",
            "\u001b[2m\u001b[36m(func pid=151479)\u001b[0m 2022-07-26 12:06:01,876\tINFO trainable.py:597 -- Current state after restoring: {'_iteration': 23, '_timesteps_total': None, '_time_total': 34.30620741844177, '_episodes_total': None}\n"
          ]
        },
        {
          "output_type": "stream",
          "name": "stdout",
          "text": [
            "Trial trainable_func_fbbf25f8 reported epoch=0,loss=0.23235450039716077,should_checkpoint=True with parameters={'act1 ': 'tanh', 'act2': 'selu', 'act3': 'tanh', 'lr': 0.001, 'batch_size': 32, 'hidden_dim1': 210.0, 'hidden_dim2': 210.0, 'hidden_dim3': 315.0}.\n"
          ]
        },
        {
          "output_type": "stream",
          "name": "stderr",
          "text": [
            "\u001b[2m\u001b[36m(func pid=151415)\u001b[0m 2022-07-26 12:06:03,392\tINFO trainable.py:589 -- Restored on 172.28.0.2 from checkpoint: /root/ray_results/trainable_func_2022-07-26_12-03-38/trainable_func_fbbf25f8_1_act1=tanh,act2=selu,act3=tanh,batch_size=32,hidden_dim1=210.0000,hidden_dim2=210.0000,hidden_dim3=315.00_2022-07-26_12-03-38/checkpoint_tmpe7dab2/./\n",
            "\u001b[2m\u001b[36m(func pid=151415)\u001b[0m 2022-07-26 12:06:03,392\tINFO trainable.py:597 -- Current state after restoring: {'_iteration': 23, '_timesteps_total': None, '_time_total': 63.16176223754883, '_episodes_total': None}\n",
            "\u001b[2m\u001b[36m(func pid=151479)\u001b[0m 2022-07-26 12:06:03,927\tINFO trainable.py:589 -- Restored on 172.28.0.2 from checkpoint: /root/ray_results/trainable_func_2022-07-26_12-03-38/trainable_func_fc3a8798_4_act1=relu,act2=tanh,act3=tanh,batch_size=64,hidden_dim1=195.0000,hidden_dim2=210.0000,hidden_dim3=135.00_2022-07-26_12-03-39/checkpoint_tmpbde213/./\n",
            "\u001b[2m\u001b[36m(func pid=151479)\u001b[0m 2022-07-26 12:06:03,927\tINFO trainable.py:597 -- Current state after restoring: {'_iteration': 24, '_timesteps_total': None, '_time_total': 35.77477979660034, '_episodes_total': None}\n"
          ]
        },
        {
          "output_type": "stream",
          "name": "stdout",
          "text": [
            "Trial trainable_func_fc21eeb8 reported epoch=0,loss=0.259836735081208,should_checkpoint=True with parameters={'act1 ': 'tanh', 'act2': 'relu', 'act3': 'relu', 'lr': 0.001, 'batch_size': 16, 'hidden_dim1': 255.0, 'hidden_dim2': 285.0, 'hidden_dim3': 180.0}.\n"
          ]
        },
        {
          "output_type": "stream",
          "name": "stderr",
          "text": [
            "\u001b[2m\u001b[36m(func pid=151453)\u001b[0m 2022-07-26 12:06:04,754\tINFO trainable.py:589 -- Restored on 172.28.0.2 from checkpoint: /root/ray_results/trainable_func_2022-07-26_12-03-38/trainable_func_fc21eeb8_3_act1=tanh,act2=relu,act3=relu,batch_size=16,hidden_dim1=255.0000,hidden_dim2=285.0000,hidden_dim3=180.00_2022-07-26_12-03-39/checkpoint_tmp53c34e/./\n",
            "\u001b[2m\u001b[36m(func pid=151453)\u001b[0m 2022-07-26 12:06:04,754\tINFO trainable.py:597 -- Current state after restoring: {'_iteration': 15, '_timesteps_total': None, '_time_total': 83.66447520256042, '_episodes_total': None}\n"
          ]
        },
        {
          "output_type": "stream",
          "name": "stdout",
          "text": [
            "Trial trainable_func_fc0a2c74 reported epoch=0,loss=0.26220846258213343,should_checkpoint=True with parameters={'act1 ': 'tanh', 'act2': 'selu', 'act3': 'tanh', 'lr': 0.001, 'batch_size': 16, 'hidden_dim1': 165.0, 'hidden_dim2': 240.0, 'hidden_dim3': 210.0}.\n"
          ]
        },
        {
          "output_type": "stream",
          "name": "stderr",
          "text": [
            "\u001b[2m\u001b[36m(func pid=151414)\u001b[0m 2022-07-26 12:06:05,526\tINFO trainable.py:589 -- Restored on 172.28.0.2 from checkpoint: /root/ray_results/trainable_func_2022-07-26_12-03-38/trainable_func_fc0a2c74_2_act1=tanh,act2=selu,act3=tanh,batch_size=16,hidden_dim1=165.0000,hidden_dim2=240.0000,hidden_dim3=210.00_2022-07-26_12-03-39/checkpoint_tmp4d6dbc/./\n",
            "\u001b[2m\u001b[36m(func pid=151414)\u001b[0m 2022-07-26 12:06:05,527\tINFO trainable.py:597 -- Current state after restoring: {'_iteration': 17, '_timesteps_total': None, '_time_total': 75.48157811164856, '_episodes_total': None}\n"
          ]
        },
        {
          "output_type": "stream",
          "name": "stdout",
          "text": [
            "== Status ==\n",
            "Current time: 2022-07-26 12:06:06 (running for 00:02:27.73)\n",
            "Memory usage on this node: 2.3/12.7 GiB\n",
            "Using MedianStoppingRule: num_stopped=0.\n",
            "Resources requested: 1.5/2 CPUs, 0/0 GPUs, 0.0/7.46 GiB heap, 0.0/3.73 GiB objects\n",
            "Result logdir: /root/ray_results/trainable_func_2022-07-26_12-03-38\n",
            "Number of trials: 10/50 (7 PAUSED, 3 RUNNING)\n",
            "\n",
            "\n"
          ]
        },
        {
          "output_type": "stream",
          "name": "stderr",
          "text": [
            "\u001b[2m\u001b[36m(func pid=151479)\u001b[0m 2022-07-26 12:06:06,183\tINFO trainable.py:589 -- Restored on 172.28.0.2 from checkpoint: /root/ray_results/trainable_func_2022-07-26_12-03-38/trainable_func_fc3a8798_4_act1=relu,act2=tanh,act3=tanh,batch_size=64,hidden_dim1=195.0000,hidden_dim2=210.0000,hidden_dim3=135.00_2022-07-26_12-03-39/checkpoint_tmpdc1752/./\n",
            "\u001b[2m\u001b[36m(func pid=151479)\u001b[0m 2022-07-26 12:06:06,183\tINFO trainable.py:597 -- Current state after restoring: {'_iteration': 25, '_timesteps_total': None, '_time_total': 37.06065559387207, '_episodes_total': None}\n",
            "\u001b[2m\u001b[36m(func pid=151415)\u001b[0m 2022-07-26 12:06:06,843\tINFO trainable.py:589 -- Restored on 172.28.0.2 from checkpoint: /root/ray_results/trainable_func_2022-07-26_12-03-38/trainable_func_fbbf25f8_1_act1=tanh,act2=selu,act3=tanh,batch_size=32,hidden_dim1=210.0000,hidden_dim2=210.0000,hidden_dim3=315.00_2022-07-26_12-03-38/checkpoint_tmp488c43/./\n",
            "\u001b[2m\u001b[36m(func pid=151415)\u001b[0m 2022-07-26 12:06:06,844\tINFO trainable.py:597 -- Current state after restoring: {'_iteration': 24, '_timesteps_total': None, '_time_total': 65.7963764667511, '_episodes_total': None}\n"
          ]
        },
        {
          "output_type": "stream",
          "name": "stdout",
          "text": [
            "Trial trainable_func_fc3a8798 reported epoch=0,loss=0.13095864575886026,should_checkpoint=True with parameters={'act1 ': 'relu', 'act2': 'tanh', 'act3': 'tanh', 'lr': 0.0008, 'batch_size': 64, 'hidden_dim1': 195.0, 'hidden_dim2': 210.0, 'hidden_dim3': 135.0}.\n"
          ]
        },
        {
          "output_type": "stream",
          "name": "stderr",
          "text": [
            "\u001b[2m\u001b[36m(func pid=151479)\u001b[0m 2022-07-26 12:06:08,125\tINFO trainable.py:589 -- Restored on 172.28.0.2 from checkpoint: /root/ray_results/trainable_func_2022-07-26_12-03-38/trainable_func_fc3a8798_4_act1=relu,act2=tanh,act3=tanh,batch_size=64,hidden_dim1=195.0000,hidden_dim2=210.0000,hidden_dim3=135.00_2022-07-26_12-03-39/checkpoint_tmp1ea422/./\n",
            "\u001b[2m\u001b[36m(func pid=151479)\u001b[0m 2022-07-26 12:06:08,125\tINFO trainable.py:597 -- Current state after restoring: {'_iteration': 26, '_timesteps_total': None, '_time_total': 38.34511590003967, '_episodes_total': None}\n"
          ]
        },
        {
          "output_type": "stream",
          "name": "stdout",
          "text": [
            "Trial trainable_func_fbbf25f8 reported epoch=0,loss=0.1769399948524999,should_checkpoint=True with parameters={'act1 ': 'tanh', 'act2': 'selu', 'act3': 'tanh', 'lr': 0.001, 'batch_size': 32, 'hidden_dim1': 210.0, 'hidden_dim2': 210.0, 'hidden_dim3': 315.0}.\n",
            "Trial trainable_func_fc21eeb8 reported epoch=0,loss=0.24361679791603197,should_checkpoint=True with parameters={'act1 ': 'tanh', 'act2': 'relu', 'act3': 'relu', 'lr': 0.001, 'batch_size': 16, 'hidden_dim1': 255.0, 'hidden_dim2': 285.0, 'hidden_dim3': 180.0}.\n"
          ]
        },
        {
          "output_type": "stream",
          "name": "stderr",
          "text": [
            "\u001b[2m\u001b[36m(func pid=151415)\u001b[0m 2022-07-26 12:06:09,738\tINFO trainable.py:589 -- Restored on 172.28.0.2 from checkpoint: /root/ray_results/trainable_func_2022-07-26_12-03-38/trainable_func_fbbf25f8_1_act1=tanh,act2=selu,act3=tanh,batch_size=32,hidden_dim1=210.0000,hidden_dim2=210.0000,hidden_dim3=315.00_2022-07-26_12-03-38/checkpoint_tmp42d837/./\n",
            "\u001b[2m\u001b[36m(func pid=151415)\u001b[0m 2022-07-26 12:06:09,738\tINFO trainable.py:597 -- Current state after restoring: {'_iteration': 25, '_timesteps_total': None, '_time_total': 68.41477251052856, '_episodes_total': None}\n",
            "\u001b[2m\u001b[36m(func pid=151479)\u001b[0m 2022-07-26 12:06:10,015\tINFO trainable.py:589 -- Restored on 172.28.0.2 from checkpoint: /root/ray_results/trainable_func_2022-07-26_12-03-38/trainable_func_fc3a8798_4_act1=relu,act2=tanh,act3=tanh,batch_size=64,hidden_dim1=195.0000,hidden_dim2=210.0000,hidden_dim3=135.00_2022-07-26_12-03-39/checkpoint_tmpdbea6f/./\n",
            "\u001b[2m\u001b[36m(func pid=151479)\u001b[0m 2022-07-26 12:06:10,016\tINFO trainable.py:597 -- Current state after restoring: {'_iteration': 27, '_timesteps_total': None, '_time_total': 39.80277609825134, '_episodes_total': None}\n"
          ]
        },
        {
          "output_type": "stream",
          "name": "stdout",
          "text": [
            "Trial trainable_func_fc0a2c74 reported epoch=0,loss=0.24291682962354405,should_checkpoint=True with parameters={'act1 ': 'tanh', 'act2': 'selu', 'act3': 'tanh', 'lr': 0.001, 'batch_size': 16, 'hidden_dim1': 165.0, 'hidden_dim2': 240.0, 'hidden_dim3': 210.0}.\n"
          ]
        },
        {
          "output_type": "stream",
          "name": "stderr",
          "text": [
            "\u001b[2m\u001b[36m(func pid=151453)\u001b[0m 2022-07-26 12:06:10,519\tINFO trainable.py:589 -- Restored on 172.28.0.2 from checkpoint: /root/ray_results/trainable_func_2022-07-26_12-03-38/trainable_func_fc21eeb8_3_act1=tanh,act2=relu,act3=relu,batch_size=16,hidden_dim1=255.0000,hidden_dim2=285.0000,hidden_dim3=180.00_2022-07-26_12-03-39/checkpoint_tmpe0f146/./\n",
            "\u001b[2m\u001b[36m(func pid=151453)\u001b[0m 2022-07-26 12:06:10,520\tINFO trainable.py:597 -- Current state after restoring: {'_iteration': 16, '_timesteps_total': None, '_time_total': 88.55195450782776, '_episodes_total': None}\n"
          ]
        },
        {
          "output_type": "stream",
          "name": "stdout",
          "text": [
            "== Status ==\n",
            "Current time: 2022-07-26 12:06:11 (running for 00:02:32.81)\n",
            "Memory usage on this node: 2.3/12.7 GiB\n",
            "Using MedianStoppingRule: num_stopped=0.\n",
            "Resources requested: 1.5/2 CPUs, 0/0 GPUs, 0.0/7.46 GiB heap, 0.0/3.73 GiB objects\n",
            "Result logdir: /root/ray_results/trainable_func_2022-07-26_12-03-38\n",
            "Number of trials: 10/50 (7 PAUSED, 3 RUNNING)\n",
            "\n",
            "\n"
          ]
        },
        {
          "output_type": "stream",
          "name": "stderr",
          "text": [
            "\u001b[2m\u001b[36m(func pid=151414)\u001b[0m 2022-07-26 12:06:11,279\tINFO trainable.py:589 -- Restored on 172.28.0.2 from checkpoint: /root/ray_results/trainable_func_2022-07-26_12-03-38/trainable_func_fc0a2c74_2_act1=tanh,act2=selu,act3=tanh,batch_size=16,hidden_dim1=165.0000,hidden_dim2=240.0000,hidden_dim3=210.00_2022-07-26_12-03-39/checkpoint_tmpfbf34c/./\n",
            "\u001b[2m\u001b[36m(func pid=151414)\u001b[0m 2022-07-26 12:06:11,279\tINFO trainable.py:597 -- Current state after restoring: {'_iteration': 18, '_timesteps_total': None, '_time_total': 79.46650195121765, '_episodes_total': None}\n",
            "\u001b[2m\u001b[36m(func pid=151479)\u001b[0m 2022-07-26 12:06:11,766\tINFO trainable.py:589 -- Restored on 172.28.0.2 from checkpoint: /root/ray_results/trainable_func_2022-07-26_12-03-38/trainable_func_fc3a8798_4_act1=relu,act2=tanh,act3=tanh,batch_size=64,hidden_dim1=195.0000,hidden_dim2=210.0000,hidden_dim3=135.00_2022-07-26_12-03-39/checkpoint_tmpce947e/./\n",
            "\u001b[2m\u001b[36m(func pid=151479)\u001b[0m 2022-07-26 12:06:11,768\tINFO trainable.py:597 -- Current state after restoring: {'_iteration': 28, '_timesteps_total': None, '_time_total': 40.88587236404419, '_episodes_total': None}\n",
            "\u001b[2m\u001b[36m(func pid=151415)\u001b[0m 2022-07-26 12:06:12,371\tINFO trainable.py:589 -- Restored on 172.28.0.2 from checkpoint: /root/ray_results/trainable_func_2022-07-26_12-03-38/trainable_func_fbbf25f8_1_act1=tanh,act2=selu,act3=tanh,batch_size=32,hidden_dim1=210.0000,hidden_dim2=210.0000,hidden_dim3=315.00_2022-07-26_12-03-38/checkpoint_tmp582184/./\n",
            "\u001b[2m\u001b[36m(func pid=151415)\u001b[0m 2022-07-26 12:06:12,379\tINFO trainable.py:597 -- Current state after restoring: {'_iteration': 26, '_timesteps_total': None, '_time_total': 70.16871976852417, '_episodes_total': None}\n"
          ]
        },
        {
          "output_type": "stream",
          "name": "stdout",
          "text": [
            "Trial trainable_func_fc3a8798 reported epoch=0,loss=0.16235156571318804,should_checkpoint=True with parameters={'act1 ': 'relu', 'act2': 'tanh', 'act3': 'tanh', 'lr': 0.0008, 'batch_size': 64, 'hidden_dim1': 195.0, 'hidden_dim2': 210.0, 'hidden_dim3': 135.0}.\n"
          ]
        },
        {
          "output_type": "stream",
          "name": "stderr",
          "text": [
            "\u001b[2m\u001b[36m(func pid=151479)\u001b[0m 2022-07-26 12:06:13,729\tINFO trainable.py:589 -- Restored on 172.28.0.2 from checkpoint: /root/ray_results/trainable_func_2022-07-26_12-03-38/trainable_func_fc3a8798_4_act1=relu,act2=tanh,act3=tanh,batch_size=64,hidden_dim1=195.0000,hidden_dim2=210.0000,hidden_dim3=135.00_2022-07-26_12-03-39/checkpoint_tmp16262a/./\n",
            "\u001b[2m\u001b[36m(func pid=151479)\u001b[0m 2022-07-26 12:06:13,730\tINFO trainable.py:597 -- Current state after restoring: {'_iteration': 29, '_timesteps_total': None, '_time_total': 42.221627712249756, '_episodes_total': None}\n"
          ]
        },
        {
          "output_type": "stream",
          "name": "stdout",
          "text": [
            "Trial trainable_func_fbbf25f8 reported epoch=0,loss=0.17415112718957862,should_checkpoint=True with parameters={'act1 ': 'tanh', 'act2': 'selu', 'act3': 'tanh', 'lr': 0.001, 'batch_size': 32, 'hidden_dim1': 210.0, 'hidden_dim2': 210.0, 'hidden_dim3': 315.0}.\n"
          ]
        },
        {
          "output_type": "stream",
          "name": "stderr",
          "text": [
            "\u001b[2m\u001b[36m(func pid=151415)\u001b[0m 2022-07-26 12:06:15,344\tINFO trainable.py:589 -- Restored on 172.28.0.2 from checkpoint: /root/ray_results/trainable_func_2022-07-26_12-03-38/trainable_func_fbbf25f8_1_act1=tanh,act2=selu,act3=tanh,batch_size=32,hidden_dim1=210.0000,hidden_dim2=210.0000,hidden_dim3=315.00_2022-07-26_12-03-38/checkpoint_tmpe2bd70/./\n",
            "\u001b[2m\u001b[36m(func pid=151415)\u001b[0m 2022-07-26 12:06:15,345\tINFO trainable.py:597 -- Current state after restoring: {'_iteration': 27, '_timesteps_total': None, '_time_total': 72.65621089935303, '_episodes_total': None}\n"
          ]
        },
        {
          "output_type": "stream",
          "name": "stdout",
          "text": [
            "Trial trainable_func_fc21eeb8 reported epoch=0,loss=0.27193861890573057,should_checkpoint=True with parameters={'act1 ': 'tanh', 'act2': 'relu', 'act3': 'relu', 'lr': 0.001, 'batch_size': 16, 'hidden_dim1': 255.0, 'hidden_dim2': 285.0, 'hidden_dim3': 180.0}.\n"
          ]
        },
        {
          "output_type": "stream",
          "name": "stderr",
          "text": [
            "\u001b[2m\u001b[36m(func pid=151414)\u001b[0m 2022-07-26 12:06:15,728\tINFO trainable.py:589 -- Restored on 172.28.0.2 from checkpoint: /root/ray_results/trainable_func_2022-07-26_12-03-38/trainable_func_fc0a2c74_2_act1=tanh,act2=selu,act3=tanh,batch_size=16,hidden_dim1=165.0000,hidden_dim2=240.0000,hidden_dim3=210.00_2022-07-26_12-03-39/checkpoint_tmpd4f5ab/./\n",
            "\u001b[2m\u001b[36m(func pid=151414)\u001b[0m 2022-07-26 12:06:15,729\tINFO trainable.py:597 -- Current state after restoring: {'_iteration': 19, '_timesteps_total': None, '_time_total': 83.34479212760925, '_episodes_total': None}\n",
            "\u001b[2m\u001b[36m(func pid=151479)\u001b[0m 2022-07-26 12:06:16,166\tINFO trainable.py:589 -- Restored on 172.28.0.2 from checkpoint: /root/ray_results/trainable_func_2022-07-26_12-03-38/trainable_func_fc3a8798_4_act1=relu,act2=tanh,act3=tanh,batch_size=64,hidden_dim1=195.0000,hidden_dim2=210.0000,hidden_dim3=135.00_2022-07-26_12-03-39/checkpoint_tmp73f514/./\n",
            "\u001b[2m\u001b[36m(func pid=151479)\u001b[0m 2022-07-26 12:06:16,167\tINFO trainable.py:597 -- Current state after restoring: {'_iteration': 30, '_timesteps_total': None, '_time_total': 43.6216242313385, '_episodes_total': None}\n",
            "\u001b[2m\u001b[36m(func pid=151453)\u001b[0m 2022-07-26 12:06:16,841\tINFO trainable.py:589 -- Restored on 172.28.0.2 from checkpoint: /root/ray_results/trainable_func_2022-07-26_12-03-38/trainable_func_fc21eeb8_3_act1=tanh,act2=relu,act3=relu,batch_size=16,hidden_dim1=255.0000,hidden_dim2=285.0000,hidden_dim3=180.00_2022-07-26_12-03-39/checkpoint_tmp7c9288/./\n",
            "\u001b[2m\u001b[36m(func pid=151453)\u001b[0m 2022-07-26 12:06:16,841\tINFO trainable.py:597 -- Current state after restoring: {'_iteration': 17, '_timesteps_total': None, '_time_total': 93.61577892303467, '_episodes_total': None}\n"
          ]
        },
        {
          "output_type": "stream",
          "name": "stdout",
          "text": [
            "== Status ==\n",
            "Current time: 2022-07-26 12:06:16 (running for 00:02:38.38)\n",
            "Memory usage on this node: 2.4/12.7 GiB\n",
            "Using MedianStoppingRule: num_stopped=0.\n",
            "Resources requested: 1.5/2 CPUs, 0/0 GPUs, 0.0/7.46 GiB heap, 0.0/3.73 GiB objects\n",
            "Result logdir: /root/ray_results/trainable_func_2022-07-26_12-03-38\n",
            "Number of trials: 10/50 (7 PAUSED, 3 RUNNING)\n",
            "\n",
            "\n",
            "Trial trainable_func_fc3a8798 reported epoch=0,loss=0.20370389356384008,should_checkpoint=True with parameters={'act1 ': 'relu', 'act2': 'tanh', 'act3': 'tanh', 'lr': 0.0008, 'batch_size': 64, 'hidden_dim1': 195.0, 'hidden_dim2': 210.0, 'hidden_dim3': 135.0}.\n"
          ]
        },
        {
          "output_type": "stream",
          "name": "stderr",
          "text": [
            "\u001b[2m\u001b[36m(func pid=151415)\u001b[0m 2022-07-26 12:06:18,393\tINFO trainable.py:589 -- Restored on 172.28.0.2 from checkpoint: /root/ray_results/trainable_func_2022-07-26_12-03-38/trainable_func_fbbf25f8_1_act1=tanh,act2=selu,act3=tanh,batch_size=32,hidden_dim1=210.0000,hidden_dim2=210.0000,hidden_dim3=315.00_2022-07-26_12-03-38/checkpoint_tmp60fbd6/./\n",
            "\u001b[2m\u001b[36m(func pid=151415)\u001b[0m 2022-07-26 12:06:18,394\tINFO trainable.py:597 -- Current state after restoring: {'_iteration': 28, '_timesteps_total': None, '_time_total': 74.84079694747925, '_episodes_total': None}\n",
            "\u001b[2m\u001b[36m(func pid=151479)\u001b[0m 2022-07-26 12:06:18,955\tINFO trainable.py:589 -- Restored on 172.28.0.2 from checkpoint: /root/ray_results/trainable_func_2022-07-26_12-03-38/trainable_func_fc3a8798_4_act1=relu,act2=tanh,act3=tanh,batch_size=64,hidden_dim1=195.0000,hidden_dim2=210.0000,hidden_dim3=135.00_2022-07-26_12-03-39/checkpoint_tmp2ee69e/./\n",
            "\u001b[2m\u001b[36m(func pid=151479)\u001b[0m 2022-07-26 12:06:18,955\tINFO trainable.py:597 -- Current state after restoring: {'_iteration': 31, '_timesteps_total': None, '_time_total': 45.32266116142273, '_episodes_total': None}\n"
          ]
        },
        {
          "output_type": "stream",
          "name": "stdout",
          "text": [
            "Trial trainable_func_fc0a2c74 reported epoch=0,loss=0.18657503750338658,should_checkpoint=True with parameters={'act1 ': 'tanh', 'act2': 'selu', 'act3': 'tanh', 'lr': 0.001, 'batch_size': 16, 'hidden_dim1': 165.0, 'hidden_dim2': 240.0, 'hidden_dim3': 210.0}.\n",
            "Trial trainable_func_fbbf25f8 reported epoch=0,loss=0.12226188702645187,should_checkpoint=True with parameters={'act1 ': 'tanh', 'act2': 'selu', 'act3': 'tanh', 'lr': 0.001, 'batch_size': 32, 'hidden_dim1': 210.0, 'hidden_dim2': 210.0, 'hidden_dim3': 315.0}.\n"
          ]
        },
        {
          "output_type": "stream",
          "name": "stderr",
          "text": [
            "\u001b[2m\u001b[36m(func pid=151414)\u001b[0m 2022-07-26 12:06:20,691\tINFO trainable.py:589 -- Restored on 172.28.0.2 from checkpoint: /root/ray_results/trainable_func_2022-07-26_12-03-38/trainable_func_fc0a2c74_2_act1=tanh,act2=selu,act3=tanh,batch_size=16,hidden_dim1=165.0000,hidden_dim2=240.0000,hidden_dim3=210.00_2022-07-26_12-03-39/checkpoint_tmpbbba89/./\n",
            "\u001b[2m\u001b[36m(func pid=151414)\u001b[0m 2022-07-26 12:06:20,691\tINFO trainable.py:597 -- Current state after restoring: {'_iteration': 20, '_timesteps_total': None, '_time_total': 87.75186371803284, '_episodes_total': None}\n",
            "\u001b[2m\u001b[36m(func pid=151479)\u001b[0m 2022-07-26 12:06:21,063\tINFO trainable.py:589 -- Restored on 172.28.0.2 from checkpoint: /root/ray_results/trainable_func_2022-07-26_12-03-38/trainable_func_fc3a8798_4_act1=relu,act2=tanh,act3=tanh,batch_size=64,hidden_dim1=195.0000,hidden_dim2=210.0000,hidden_dim3=135.00_2022-07-26_12-03-39/checkpoint_tmpa917b0/./\n",
            "\u001b[2m\u001b[36m(func pid=151479)\u001b[0m 2022-07-26 12:06:21,063\tINFO trainable.py:597 -- Current state after restoring: {'_iteration': 32, '_timesteps_total': None, '_time_total': 46.639294147491455, '_episodes_total': None}\n",
            "\u001b[2m\u001b[36m(func pid=151415)\u001b[0m 2022-07-26 12:06:21,705\tINFO trainable.py:589 -- Restored on 172.28.0.2 from checkpoint: /root/ray_results/trainable_func_2022-07-26_12-03-38/trainable_func_fbbf25f8_1_act1=tanh,act2=selu,act3=tanh,batch_size=32,hidden_dim1=210.0000,hidden_dim2=210.0000,hidden_dim3=315.00_2022-07-26_12-03-38/checkpoint_tmp7bb314/./\n",
            "\u001b[2m\u001b[36m(func pid=151415)\u001b[0m 2022-07-26 12:06:21,706\tINFO trainable.py:597 -- Current state after restoring: {'_iteration': 29, '_timesteps_total': None, '_time_total': 77.10813093185425, '_episodes_total': None}\n"
          ]
        },
        {
          "output_type": "stream",
          "name": "stdout",
          "text": [
            "Trial trainable_func_fc21eeb8 reported epoch=0,loss=0.2478050814359111,should_checkpoint=True with parameters={'act1 ': 'tanh', 'act2': 'relu', 'act3': 'relu', 'lr': 0.001, 'batch_size': 16, 'hidden_dim1': 255.0, 'hidden_dim2': 285.0, 'hidden_dim3': 180.0}.\n",
            "== Status ==\n",
            "Current time: 2022-07-26 12:06:22 (running for 00:02:44.04)\n",
            "Memory usage on this node: 2.3/12.7 GiB\n",
            "Using MedianStoppingRule: num_stopped=0.\n",
            "Resources requested: 2.0/2 CPUs, 0/0 GPUs, 0.0/7.46 GiB heap, 0.0/3.73 GiB objects\n",
            "Result logdir: /root/ray_results/trainable_func_2022-07-26_12-03-38\n",
            "Number of trials: 10/50 (6 PAUSED, 4 RUNNING)\n",
            "\n",
            "\n"
          ]
        },
        {
          "output_type": "stream",
          "name": "stderr",
          "text": [
            "\u001b[2m\u001b[36m(func pid=151453)\u001b[0m 2022-07-26 12:06:22,944\tINFO trainable.py:589 -- Restored on 172.28.0.2 from checkpoint: /root/ray_results/trainable_func_2022-07-26_12-03-38/trainable_func_fc21eeb8_3_act1=tanh,act2=relu,act3=relu,batch_size=16,hidden_dim1=255.0000,hidden_dim2=285.0000,hidden_dim3=180.00_2022-07-26_12-03-39/checkpoint_tmp01622d/./\n",
            "\u001b[2m\u001b[36m(func pid=151453)\u001b[0m 2022-07-26 12:06:22,944\tINFO trainable.py:597 -- Current state after restoring: {'_iteration': 18, '_timesteps_total': None, '_time_total': 99.21348309516907, '_episodes_total': None}\n",
            "\u001b[2m\u001b[36m(func pid=151479)\u001b[0m 2022-07-26 12:06:23,579\tINFO trainable.py:589 -- Restored on 172.28.0.2 from checkpoint: /root/ray_results/trainable_func_2022-07-26_12-03-38/trainable_func_fc3a8798_4_act1=relu,act2=tanh,act3=tanh,batch_size=64,hidden_dim1=195.0000,hidden_dim2=210.0000,hidden_dim3=135.00_2022-07-26_12-03-39/checkpoint_tmpd4cb42/./\n",
            "\u001b[2m\u001b[36m(func pid=151479)\u001b[0m 2022-07-26 12:06:23,579\tINFO trainable.py:597 -- Current state after restoring: {'_iteration': 33, '_timesteps_total': None, '_time_total': 48.03814148902893, '_episodes_total': None}\n",
            "\u001b[2m\u001b[36m(func pid=151414)\u001b[0m 2022-07-26 12:06:24,824\tINFO trainable.py:589 -- Restored on 172.28.0.2 from checkpoint: /root/ray_results/trainable_func_2022-07-26_12-03-38/trainable_func_fc0a2c74_2_act1=tanh,act2=selu,act3=tanh,batch_size=16,hidden_dim1=165.0000,hidden_dim2=240.0000,hidden_dim3=210.00_2022-07-26_12-03-39/checkpoint_tmpbde2a7/./\n",
            "\u001b[2m\u001b[36m(func pid=151414)\u001b[0m 2022-07-26 12:06:24,825\tINFO trainable.py:597 -- Current state after restoring: {'_iteration': 21, '_timesteps_total': None, '_time_total': 91.32811665534973, '_episodes_total': None}\n"
          ]
        },
        {
          "output_type": "stream",
          "name": "stdout",
          "text": [
            "Trial trainable_func_fc3a8798 reported epoch=0,loss=0.09620433365634043,should_checkpoint=True with parameters={'act1 ': 'relu', 'act2': 'tanh', 'act3': 'tanh', 'lr': 0.0008, 'batch_size': 64, 'hidden_dim1': 195.0, 'hidden_dim2': 210.0, 'hidden_dim3': 135.0}.\n"
          ]
        },
        {
          "output_type": "stream",
          "name": "stderr",
          "text": [
            "\u001b[2m\u001b[36m(func pid=151415)\u001b[0m 2022-07-26 12:06:25,297\tINFO trainable.py:589 -- Restored on 172.28.0.2 from checkpoint: /root/ray_results/trainable_func_2022-07-26_12-03-38/trainable_func_fbbf25f8_1_act1=tanh,act2=selu,act3=tanh,batch_size=32,hidden_dim1=210.0000,hidden_dim2=210.0000,hidden_dim3=315.00_2022-07-26_12-03-38/checkpoint_tmpc1e5db/./\n",
            "\u001b[2m\u001b[36m(func pid=151415)\u001b[0m 2022-07-26 12:06:25,297\tINFO trainable.py:597 -- Current state after restoring: {'_iteration': 30, '_timesteps_total': None, '_time_total': 79.8839647769928, '_episodes_total': None}\n",
            "\u001b[2m\u001b[36m(func pid=151479)\u001b[0m 2022-07-26 12:06:25,932\tINFO trainable.py:589 -- Restored on 172.28.0.2 from checkpoint: /root/ray_results/trainable_func_2022-07-26_12-03-38/trainable_func_fc3a8798_4_act1=relu,act2=tanh,act3=tanh,batch_size=64,hidden_dim1=195.0000,hidden_dim2=210.0000,hidden_dim3=135.00_2022-07-26_12-03-39/checkpoint_tmp1cac04/./\n",
            "\u001b[2m\u001b[36m(func pid=151479)\u001b[0m 2022-07-26 12:06:25,934\tINFO trainable.py:597 -- Current state after restoring: {'_iteration': 34, '_timesteps_total': None, '_time_total': 49.29570436477661, '_episodes_total': None}\n"
          ]
        },
        {
          "output_type": "stream",
          "name": "stdout",
          "text": [
            "== Status ==\n",
            "Current time: 2022-07-26 12:06:27 (running for 00:02:49.12)\n",
            "Memory usage on this node: 2.3/12.7 GiB\n",
            "Using MedianStoppingRule: num_stopped=0.\n",
            "Resources requested: 2.0/2 CPUs, 0/0 GPUs, 0.0/7.46 GiB heap, 0.0/3.73 GiB objects\n",
            "Result logdir: /root/ray_results/trainable_func_2022-07-26_12-03-38\n",
            "Number of trials: 10/50 (6 PAUSED, 4 RUNNING)\n",
            "\n",
            "\n"
          ]
        },
        {
          "output_type": "stream",
          "name": "stderr",
          "text": [
            "\u001b[2m\u001b[36m(func pid=151479)\u001b[0m 2022-07-26 12:06:28,368\tINFO trainable.py:589 -- Restored on 172.28.0.2 from checkpoint: /root/ray_results/trainable_func_2022-07-26_12-03-38/trainable_func_fc3a8798_4_act1=relu,act2=tanh,act3=tanh,batch_size=64,hidden_dim1=195.0000,hidden_dim2=210.0000,hidden_dim3=135.00_2022-07-26_12-03-39/checkpoint_tmp6eded7/./\n",
            "\u001b[2m\u001b[36m(func pid=151479)\u001b[0m 2022-07-26 12:06:28,368\tINFO trainable.py:597 -- Current state after restoring: {'_iteration': 35, '_timesteps_total': None, '_time_total': 50.893266439437866, '_episodes_total': None}\n"
          ]
        },
        {
          "output_type": "stream",
          "name": "stdout",
          "text": [
            "Trial trainable_func_fc21eeb8 reported epoch=0,loss=0.23367130206619796,should_checkpoint=True with parameters={'act1 ': 'tanh', 'act2': 'relu', 'act3': 'relu', 'lr': 0.001, 'batch_size': 16, 'hidden_dim1': 255.0, 'hidden_dim2': 285.0, 'hidden_dim3': 180.0}.\n",
            "Trial trainable_func_fbbf25f8 reported epoch=0,loss=0.12137333392472555,should_checkpoint=True with parameters={'act1 ': 'tanh', 'act2': 'selu', 'act3': 'tanh', 'lr': 0.001, 'batch_size': 32, 'hidden_dim1': 210.0, 'hidden_dim2': 210.0, 'hidden_dim3': 315.0}.\n"
          ]
        },
        {
          "output_type": "stream",
          "name": "stderr",
          "text": [
            "\u001b[2m\u001b[36m(func pid=151453)\u001b[0m 2022-07-26 12:06:29,410\tINFO trainable.py:589 -- Restored on 172.28.0.2 from checkpoint: /root/ray_results/trainable_func_2022-07-26_12-03-38/trainable_func_fc21eeb8_3_act1=tanh,act2=relu,act3=relu,batch_size=16,hidden_dim1=255.0000,hidden_dim2=285.0000,hidden_dim3=180.00_2022-07-26_12-03-39/checkpoint_tmpf05a07/./\n",
            "\u001b[2m\u001b[36m(func pid=151453)\u001b[0m 2022-07-26 12:06:29,410\tINFO trainable.py:597 -- Current state after restoring: {'_iteration': 19, '_timesteps_total': None, '_time_total': 104.38659477233887, '_episodes_total': None}\n"
          ]
        },
        {
          "output_type": "stream",
          "name": "stdout",
          "text": [
            "Trial trainable_func_fc0a2c74 reported epoch=0,loss=0.21430812485139972,should_checkpoint=True with parameters={'act1 ': 'tanh', 'act2': 'selu', 'act3': 'tanh', 'lr': 0.001, 'batch_size': 16, 'hidden_dim1': 165.0, 'hidden_dim2': 240.0, 'hidden_dim3': 210.0}.\n"
          ]
        },
        {
          "output_type": "stream",
          "name": "stderr",
          "text": [
            "\u001b[2m\u001b[36m(func pid=151415)\u001b[0m 2022-07-26 12:06:29,914\tINFO trainable.py:589 -- Restored on 172.28.0.2 from checkpoint: /root/ray_results/trainable_func_2022-07-26_12-03-38/trainable_func_fbbf25f8_1_act1=tanh,act2=selu,act3=tanh,batch_size=32,hidden_dim1=210.0000,hidden_dim2=210.0000,hidden_dim3=315.00_2022-07-26_12-03-38/checkpoint_tmpba139d/./\n",
            "\u001b[2m\u001b[36m(func pid=151415)\u001b[0m 2022-07-26 12:06:29,914\tINFO trainable.py:597 -- Current state after restoring: {'_iteration': 31, '_timesteps_total': None, '_time_total': 83.45899987220764, '_episodes_total': None}\n",
            "\u001b[2m\u001b[36m(func pid=151414)\u001b[0m 2022-07-26 12:06:30,299\tINFO trainable.py:589 -- Restored on 172.28.0.2 from checkpoint: /root/ray_results/trainable_func_2022-07-26_12-03-38/trainable_func_fc0a2c74_2_act1=tanh,act2=selu,act3=tanh,batch_size=16,hidden_dim1=165.0000,hidden_dim2=240.0000,hidden_dim3=210.00_2022-07-26_12-03-39/checkpoint_tmpebffd3/./\n",
            "\u001b[2m\u001b[36m(func pid=151414)\u001b[0m 2022-07-26 12:06:30,299\tINFO trainable.py:597 -- Current state after restoring: {'_iteration': 22, '_timesteps_total': None, '_time_total': 96.04541206359863, '_episodes_total': None}\n",
            "\u001b[2m\u001b[36m(func pid=151479)\u001b[0m 2022-07-26 12:06:30,693\tINFO trainable.py:589 -- Restored on 172.28.0.2 from checkpoint: /root/ray_results/trainable_func_2022-07-26_12-03-38/trainable_func_fc3a8798_4_act1=relu,act2=tanh,act3=tanh,batch_size=64,hidden_dim1=195.0000,hidden_dim2=210.0000,hidden_dim3=135.00_2022-07-26_12-03-39/checkpoint_tmpc8a19d/./\n",
            "\u001b[2m\u001b[36m(func pid=151479)\u001b[0m 2022-07-26 12:06:30,694\tINFO trainable.py:597 -- Current state after restoring: {'_iteration': 36, '_timesteps_total': None, '_time_total': 52.36579179763794, '_episodes_total': None}\n"
          ]
        },
        {
          "output_type": "stream",
          "name": "stdout",
          "text": [
            "Trial trainable_func_fc3a8798 reported epoch=0,loss=0.11202727641495754,should_checkpoint=True with parameters={'act1 ': 'relu', 'act2': 'tanh', 'act3': 'tanh', 'lr': 0.0008, 'batch_size': 64, 'hidden_dim1': 195.0, 'hidden_dim2': 210.0, 'hidden_dim3': 135.0}.\n"
          ]
        },
        {
          "output_type": "stream",
          "name": "stderr",
          "text": [
            "\u001b[2m\u001b[36m(func pid=151479)\u001b[0m 2022-07-26 12:06:32,451\tINFO trainable.py:589 -- Restored on 172.28.0.2 from checkpoint: /root/ray_results/trainable_func_2022-07-26_12-03-38/trainable_func_fc3a8798_4_act1=relu,act2=tanh,act3=tanh,batch_size=64,hidden_dim1=195.0000,hidden_dim2=210.0000,hidden_dim3=135.00_2022-07-26_12-03-39/checkpoint_tmp80c6af/./\n",
            "\u001b[2m\u001b[36m(func pid=151479)\u001b[0m 2022-07-26 12:06:32,451\tINFO trainable.py:597 -- Current state after restoring: {'_iteration': 37, '_timesteps_total': None, '_time_total': 53.670945167541504, '_episodes_total': None}\n",
            "\u001b[2m\u001b[36m(func pid=151415)\u001b[0m 2022-07-26 12:06:33,116\tINFO trainable.py:589 -- Restored on 172.28.0.2 from checkpoint: /root/ray_results/trainable_func_2022-07-26_12-03-38/trainable_func_fbbf25f8_1_act1=tanh,act2=selu,act3=tanh,batch_size=32,hidden_dim1=210.0000,hidden_dim2=210.0000,hidden_dim3=315.00_2022-07-26_12-03-38/checkpoint_tmpc4679e/./\n",
            "\u001b[2m\u001b[36m(func pid=151415)\u001b[0m 2022-07-26 12:06:33,116\tINFO trainable.py:597 -- Current state after restoring: {'_iteration': 32, '_timesteps_total': None, '_time_total': 85.76322484016418, '_episodes_total': None}\n"
          ]
        },
        {
          "output_type": "stream",
          "name": "stdout",
          "text": [
            "== Status ==\n",
            "Current time: 2022-07-26 12:06:33 (running for 00:02:54.65)\n",
            "Memory usage on this node: 2.3/12.7 GiB\n",
            "Using MedianStoppingRule: num_stopped=0.\n",
            "Resources requested: 1.5/2 CPUs, 0/0 GPUs, 0.0/7.46 GiB heap, 0.0/3.73 GiB objects\n",
            "Result logdir: /root/ray_results/trainable_func_2022-07-26_12-03-38\n",
            "Number of trials: 10/50 (7 PAUSED, 3 RUNNING)\n",
            "\n",
            "\n",
            "Trial trainable_func_fc21eeb8 reported epoch=0,loss=0.25070595695694503,should_checkpoint=True with parameters={'act1 ': 'tanh', 'act2': 'relu', 'act3': 'relu', 'lr': 0.001, 'batch_size': 16, 'hidden_dim1': 255.0, 'hidden_dim2': 285.0, 'hidden_dim3': 180.0}.\n"
          ]
        },
        {
          "output_type": "stream",
          "name": "stderr",
          "text": [
            "\u001b[2m\u001b[36m(func pid=151479)\u001b[0m 2022-07-26 12:06:34,313\tINFO trainable.py:589 -- Restored on 172.28.0.2 from checkpoint: /root/ray_results/trainable_func_2022-07-26_12-03-38/trainable_func_fc3a8798_4_act1=relu,act2=tanh,act3=tanh,batch_size=64,hidden_dim1=195.0000,hidden_dim2=210.0000,hidden_dim3=135.00_2022-07-26_12-03-39/checkpoint_tmp612a46/./\n",
            "\u001b[2m\u001b[36m(func pid=151479)\u001b[0m 2022-07-26 12:06:34,314\tINFO trainable.py:597 -- Current state after restoring: {'_iteration': 38, '_timesteps_total': None, '_time_total': 55.0248498916626, '_episodes_total': None}\n",
            "\u001b[2m\u001b[36m(func pid=151414)\u001b[0m 2022-07-26 12:06:34,808\tINFO trainable.py:589 -- Restored on 172.28.0.2 from checkpoint: /root/ray_results/trainable_func_2022-07-26_12-03-38/trainable_func_fc0a2c74_2_act1=tanh,act2=selu,act3=tanh,batch_size=16,hidden_dim1=165.0000,hidden_dim2=240.0000,hidden_dim3=210.00_2022-07-26_12-03-39/checkpoint_tmpb7b821/./\n",
            "\u001b[2m\u001b[36m(func pid=151414)\u001b[0m 2022-07-26 12:06:34,808\tINFO trainable.py:597 -- Current state after restoring: {'_iteration': 23, '_timesteps_total': None, '_time_total': 99.91069006919861, '_episodes_total': None}\n"
          ]
        },
        {
          "output_type": "stream",
          "name": "stdout",
          "text": [
            "Trial trainable_func_fbbf25f8 reported epoch=0,loss=0.18337923555882574,should_checkpoint=True with parameters={'act1 ': 'tanh', 'act2': 'selu', 'act3': 'tanh', 'lr': 0.001, 'batch_size': 32, 'hidden_dim1': 210.0, 'hidden_dim2': 210.0, 'hidden_dim3': 315.0}.\n"
          ]
        },
        {
          "output_type": "stream",
          "name": "stderr",
          "text": [
            "\u001b[2m\u001b[36m(func pid=151453)\u001b[0m 2022-07-26 12:06:35,425\tINFO trainable.py:589 -- Restored on 172.28.0.2 from checkpoint: /root/ray_results/trainable_func_2022-07-26_12-03-38/trainable_func_fc21eeb8_3_act1=tanh,act2=relu,act3=relu,batch_size=16,hidden_dim1=255.0000,hidden_dim2=285.0000,hidden_dim3=180.00_2022-07-26_12-03-39/checkpoint_tmp3a10d0/./\n",
            "\u001b[2m\u001b[36m(func pid=151453)\u001b[0m 2022-07-26 12:06:35,425\tINFO trainable.py:597 -- Current state after restoring: {'_iteration': 20, '_timesteps_total': None, '_time_total': 109.18793535232544, '_episodes_total': None}\n",
            "\u001b[2m\u001b[36m(func pid=151415)\u001b[0m 2022-07-26 12:06:35,989\tINFO trainable.py:589 -- Restored on 172.28.0.2 from checkpoint: /root/ray_results/trainable_func_2022-07-26_12-03-38/trainable_func_fbbf25f8_1_act1=tanh,act2=selu,act3=tanh,batch_size=32,hidden_dim1=210.0000,hidden_dim2=210.0000,hidden_dim3=315.00_2022-07-26_12-03-38/checkpoint_tmpfafd4e/./\n",
            "\u001b[2m\u001b[36m(func pid=151415)\u001b[0m 2022-07-26 12:06:35,989\tINFO trainable.py:597 -- Current state after restoring: {'_iteration': 33, '_timesteps_total': None, '_time_total': 87.90787982940674, '_episodes_total': None}\n",
            "\u001b[2m\u001b[36m(func pid=151479)\u001b[0m 2022-07-26 12:06:36,583\tINFO trainable.py:589 -- Restored on 172.28.0.2 from checkpoint: /root/ray_results/trainable_func_2022-07-26_12-03-38/trainable_func_fc3a8798_4_act1=relu,act2=tanh,act3=tanh,batch_size=64,hidden_dim1=195.0000,hidden_dim2=210.0000,hidden_dim3=135.00_2022-07-26_12-03-39/checkpoint_tmp36f235/./\n",
            "\u001b[2m\u001b[36m(func pid=151479)\u001b[0m 2022-07-26 12:06:36,583\tINFO trainable.py:597 -- Current state after restoring: {'_iteration': 39, '_timesteps_total': None, '_time_total': 56.19937753677368, '_episodes_total': None}\n"
          ]
        },
        {
          "output_type": "stream",
          "name": "stdout",
          "text": [
            "Trial trainable_func_fc3a8798 reported epoch=0,loss=0.08503743191483674,should_checkpoint=True with parameters={'act1 ': 'relu', 'act2': 'tanh', 'act3': 'tanh', 'lr': 0.0008, 'batch_size': 64, 'hidden_dim1': 195.0, 'hidden_dim2': 210.0, 'hidden_dim3': 135.0}.\n",
            "== Status ==\n",
            "Current time: 2022-07-26 12:06:38 (running for 00:02:59.97)\n",
            "Memory usage on this node: 2.2/12.7 GiB\n",
            "Using MedianStoppingRule: num_stopped=0.\n",
            "Resources requested: 1.5/2 CPUs, 0/0 GPUs, 0.0/7.46 GiB heap, 0.0/3.73 GiB objects\n",
            "Result logdir: /root/ray_results/trainable_func_2022-07-26_12-03-38\n",
            "Number of trials: 10/50 (7 PAUSED, 3 RUNNING)\n",
            "\n",
            "\n"
          ]
        },
        {
          "output_type": "stream",
          "name": "stderr",
          "text": [
            "\u001b[2m\u001b[36m(func pid=151479)\u001b[0m 2022-07-26 12:06:38,436\tINFO trainable.py:589 -- Restored on 172.28.0.2 from checkpoint: /root/ray_results/trainable_func_2022-07-26_12-03-38/trainable_func_fc3a8798_4_act1=relu,act2=tanh,act3=tanh,batch_size=64,hidden_dim1=195.0000,hidden_dim2=210.0000,hidden_dim3=135.00_2022-07-26_12-03-39/checkpoint_tmp334410/./\n",
            "\u001b[2m\u001b[36m(func pid=151479)\u001b[0m 2022-07-26 12:06:38,436\tINFO trainable.py:597 -- Current state after restoring: {'_iteration': 40, '_timesteps_total': None, '_time_total': 57.42405462265015, '_episodes_total': None}\n"
          ]
        },
        {
          "output_type": "stream",
          "name": "stdout",
          "text": [
            "Trial trainable_func_fc0a2c74 reported epoch=0,loss=0.1872742916034774,should_checkpoint=True with parameters={'act1 ': 'tanh', 'act2': 'selu', 'act3': 'tanh', 'lr': 0.001, 'batch_size': 16, 'hidden_dim1': 165.0, 'hidden_dim2': 240.0, 'hidden_dim3': 210.0}.\n"
          ]
        },
        {
          "output_type": "stream",
          "name": "stderr",
          "text": [
            "\u001b[2m\u001b[36m(func pid=151415)\u001b[0m 2022-07-26 12:06:38,899\tINFO trainable.py:589 -- Restored on 172.28.0.2 from checkpoint: /root/ray_results/trainable_func_2022-07-26_12-03-38/trainable_func_fbbf25f8_1_act1=tanh,act2=selu,act3=tanh,batch_size=32,hidden_dim1=210.0000,hidden_dim2=210.0000,hidden_dim3=315.00_2022-07-26_12-03-38/checkpoint_tmpb7c8cb/./\n",
            "\u001b[2m\u001b[36m(func pid=151415)\u001b[0m 2022-07-26 12:06:38,907\tINFO trainable.py:597 -- Current state after restoring: {'_iteration': 34, '_timesteps_total': None, '_time_total': 90.15619087219238, '_episodes_total': None}\n",
            "\u001b[2m\u001b[36m(func pid=151414)\u001b[0m 2022-07-26 12:06:39,473\tINFO trainable.py:589 -- Restored on 172.28.0.2 from checkpoint: /root/ray_results/trainable_func_2022-07-26_12-03-38/trainable_func_fc0a2c74_2_act1=tanh,act2=selu,act3=tanh,batch_size=16,hidden_dim1=165.0000,hidden_dim2=240.0000,hidden_dim3=210.00_2022-07-26_12-03-39/checkpoint_tmp506270/./\n",
            "\u001b[2m\u001b[36m(func pid=151414)\u001b[0m 2022-07-26 12:06:39,473\tINFO trainable.py:597 -- Current state after restoring: {'_iteration': 24, '_timesteps_total': None, '_time_total': 103.54789066314697, '_episodes_total': None}\n"
          ]
        },
        {
          "output_type": "stream",
          "name": "stdout",
          "text": [
            "Trial trainable_func_fc21eeb8 reported epoch=0,loss=0.19838762965585247,should_checkpoint=True with parameters={'act1 ': 'tanh', 'act2': 'relu', 'act3': 'relu', 'lr': 0.001, 'batch_size': 16, 'hidden_dim1': 255.0, 'hidden_dim2': 285.0, 'hidden_dim3': 180.0}.\n"
          ]
        },
        {
          "output_type": "stream",
          "name": "stderr",
          "text": [
            "\u001b[2m\u001b[36m(func pid=151479)\u001b[0m 2022-07-26 12:06:40,095\tINFO trainable.py:589 -- Restored on 172.28.0.2 from checkpoint: /root/ray_results/trainable_func_2022-07-26_12-03-38/trainable_func_fc3a8798_4_act1=relu,act2=tanh,act3=tanh,batch_size=64,hidden_dim1=195.0000,hidden_dim2=210.0000,hidden_dim3=135.00_2022-07-26_12-03-39/checkpoint_tmp2a04d9/./\n",
            "\u001b[2m\u001b[36m(func pid=151479)\u001b[0m 2022-07-26 12:06:40,095\tINFO trainable.py:597 -- Current state after restoring: {'_iteration': 41, '_timesteps_total': None, '_time_total': 58.38917589187622, '_episodes_total': None}\n",
            "\u001b[2m\u001b[36m(func pid=151453)\u001b[0m 2022-07-26 12:06:40,762\tINFO trainable.py:589 -- Restored on 172.28.0.2 from checkpoint: /root/ray_results/trainable_func_2022-07-26_12-03-38/trainable_func_fc21eeb8_3_act1=tanh,act2=relu,act3=relu,batch_size=16,hidden_dim1=255.0000,hidden_dim2=285.0000,hidden_dim3=180.00_2022-07-26_12-03-39/checkpoint_tmpd6617b/./\n",
            "\u001b[2m\u001b[36m(func pid=151453)\u001b[0m 2022-07-26 12:06:40,763\tINFO trainable.py:597 -- Current state after restoring: {'_iteration': 21, '_timesteps_total': None, '_time_total': 113.85426592826843, '_episodes_total': None}\n"
          ]
        },
        {
          "output_type": "stream",
          "name": "stdout",
          "text": [
            "Trial trainable_func_fbbf25f8 reported epoch=0,loss=0.11887688274675953,should_checkpoint=True with parameters={'act1 ': 'tanh', 'act2': 'selu', 'act3': 'tanh', 'lr': 0.001, 'batch_size': 32, 'hidden_dim1': 210.0, 'hidden_dim2': 210.0, 'hidden_dim3': 315.0}.\n"
          ]
        },
        {
          "output_type": "stream",
          "name": "stderr",
          "text": [
            "\u001b[2m\u001b[36m(func pid=151479)\u001b[0m 2022-07-26 12:06:41,915\tINFO trainable.py:589 -- Restored on 172.28.0.2 from checkpoint: /root/ray_results/trainable_func_2022-07-26_12-03-38/trainable_func_fc3a8798_4_act1=relu,act2=tanh,act3=tanh,batch_size=64,hidden_dim1=195.0000,hidden_dim2=210.0000,hidden_dim3=135.00_2022-07-26_12-03-39/checkpoint_tmp348c39/./\n",
            "\u001b[2m\u001b[36m(func pid=151479)\u001b[0m 2022-07-26 12:06:41,916\tINFO trainable.py:597 -- Current state after restoring: {'_iteration': 42, '_timesteps_total': None, '_time_total': 59.682079792022705, '_episodes_total': None}\n",
            "\u001b[2m\u001b[36m(func pid=151415)\u001b[0m 2022-07-26 12:06:42,476\tINFO trainable.py:589 -- Restored on 172.28.0.2 from checkpoint: /root/ray_results/trainable_func_2022-07-26_12-03-38/trainable_func_fbbf25f8_1_act1=tanh,act2=selu,act3=tanh,batch_size=32,hidden_dim1=210.0000,hidden_dim2=210.0000,hidden_dim3=315.00_2022-07-26_12-03-38/checkpoint_tmpd109a9/./\n",
            "\u001b[2m\u001b[36m(func pid=151415)\u001b[0m 2022-07-26 12:06:42,477\tINFO trainable.py:597 -- Current state after restoring: {'_iteration': 35, '_timesteps_total': None, '_time_total': 92.81194305419922, '_episodes_total': None}\n"
          ]
        },
        {
          "output_type": "stream",
          "name": "stdout",
          "text": [
            "Trial trainable_func_fc3a8798 reported epoch=0,loss=0.15315540163377508,should_checkpoint=True with parameters={'act1 ': 'relu', 'act2': 'tanh', 'act3': 'tanh', 'lr': 0.0008, 'batch_size': 64, 'hidden_dim1': 195.0, 'hidden_dim2': 210.0, 'hidden_dim3': 135.0}.\n",
            "== Status ==\n",
            "Current time: 2022-07-26 12:06:43 (running for 00:03:05.21)\n",
            "Memory usage on this node: 2.3/12.7 GiB\n",
            "Using MedianStoppingRule: num_stopped=0.\n",
            "Resources requested: 1.5/2 CPUs, 0/0 GPUs, 0.0/7.46 GiB heap, 0.0/3.73 GiB objects\n",
            "Result logdir: /root/ray_results/trainable_func_2022-07-26_12-03-38\n",
            "Number of trials: 10/50 (7 PAUSED, 3 RUNNING)\n",
            "\n",
            "\n"
          ]
        },
        {
          "output_type": "stream",
          "name": "stderr",
          "text": [
            "\u001b[2m\u001b[36m(func pid=151479)\u001b[0m 2022-07-26 12:06:43,664\tINFO trainable.py:589 -- Restored on 172.28.0.2 from checkpoint: /root/ray_results/trainable_func_2022-07-26_12-03-38/trainable_func_fc3a8798_4_act1=relu,act2=tanh,act3=tanh,batch_size=64,hidden_dim1=195.0000,hidden_dim2=210.0000,hidden_dim3=135.00_2022-07-26_12-03-39/checkpoint_tmp3d3df5/./\n",
            "\u001b[2m\u001b[36m(func pid=151479)\u001b[0m 2022-07-26 12:06:43,665\tINFO trainable.py:597 -- Current state after restoring: {'_iteration': 43, '_timesteps_total': None, '_time_total': 60.969560861587524, '_episodes_total': None}\n",
            "\u001b[2m\u001b[36m(func pid=151414)\u001b[0m 2022-07-26 12:06:44,261\tINFO trainable.py:589 -- Restored on 172.28.0.2 from checkpoint: /root/ray_results/trainable_func_2022-07-26_12-03-38/trainable_func_fc0a2c74_2_act1=tanh,act2=selu,act3=tanh,batch_size=16,hidden_dim1=165.0000,hidden_dim2=240.0000,hidden_dim3=210.00_2022-07-26_12-03-39/checkpoint_tmp1f9f1b/./\n",
            "\u001b[2m\u001b[36m(func pid=151414)\u001b[0m 2022-07-26 12:06:44,262\tINFO trainable.py:597 -- Current state after restoring: {'_iteration': 25, '_timesteps_total': None, '_time_total': 107.49477577209473, '_episodes_total': None}\n",
            "\u001b[2m\u001b[36m(func pid=151479)\u001b[0m 2022-07-26 12:06:45,434\tINFO trainable.py:589 -- Restored on 172.28.0.2 from checkpoint: /root/ray_results/trainable_func_2022-07-26_12-03-38/trainable_func_fc3a8798_4_act1=relu,act2=tanh,act3=tanh,batch_size=64,hidden_dim1=195.0000,hidden_dim2=210.0000,hidden_dim3=135.00_2022-07-26_12-03-39/checkpoint_tmp287de8/./\n",
            "\u001b[2m\u001b[36m(func pid=151479)\u001b[0m 2022-07-26 12:06:45,434\tINFO trainable.py:597 -- Current state after restoring: {'_iteration': 44, '_timesteps_total': None, '_time_total': 62.19633078575134, '_episodes_total': None}\n"
          ]
        },
        {
          "output_type": "stream",
          "name": "stdout",
          "text": [
            "Trial trainable_func_fc21eeb8 reported epoch=0,loss=0.18823617280215402,should_checkpoint=True with parameters={'act1 ': 'tanh', 'act2': 'relu', 'act3': 'relu', 'lr': 0.001, 'batch_size': 16, 'hidden_dim1': 255.0, 'hidden_dim2': 285.0, 'hidden_dim3': 180.0}.\n"
          ]
        },
        {
          "output_type": "stream",
          "name": "stderr",
          "text": [
            "\u001b[2m\u001b[36m(func pid=151415)\u001b[0m 2022-07-26 12:06:45,986\tINFO trainable.py:589 -- Restored on 172.28.0.2 from checkpoint: /root/ray_results/trainable_func_2022-07-26_12-03-38/trainable_func_fbbf25f8_1_act1=tanh,act2=selu,act3=tanh,batch_size=32,hidden_dim1=210.0000,hidden_dim2=210.0000,hidden_dim3=315.00_2022-07-26_12-03-38/checkpoint_tmpf9c6db/./\n",
            "\u001b[2m\u001b[36m(func pid=151415)\u001b[0m 2022-07-26 12:06:45,987\tINFO trainable.py:597 -- Current state after restoring: {'_iteration': 36, '_timesteps_total': None, '_time_total': 95.41540384292603, '_episodes_total': None}\n",
            "\u001b[2m\u001b[36m(func pid=151453)\u001b[0m 2022-07-26 12:06:46,588\tINFO trainable.py:589 -- Restored on 172.28.0.2 from checkpoint: /root/ray_results/trainable_func_2022-07-26_12-03-38/trainable_func_fc21eeb8_3_act1=tanh,act2=relu,act3=relu,batch_size=16,hidden_dim1=255.0000,hidden_dim2=285.0000,hidden_dim3=180.00_2022-07-26_12-03-39/checkpoint_tmp56aed7/./\n",
            "\u001b[2m\u001b[36m(func pid=151453)\u001b[0m 2022-07-26 12:06:46,589\tINFO trainable.py:597 -- Current state after restoring: {'_iteration': 22, '_timesteps_total': None, '_time_total': 119.01867127418518, '_episodes_total': None}\n",
            "\u001b[2m\u001b[36m(func pid=151479)\u001b[0m 2022-07-26 12:06:47,382\tINFO trainable.py:589 -- Restored on 172.28.0.2 from checkpoint: /root/ray_results/trainable_func_2022-07-26_12-03-38/trainable_func_fc3a8798_4_act1=relu,act2=tanh,act3=tanh,batch_size=64,hidden_dim1=195.0000,hidden_dim2=210.0000,hidden_dim3=135.00_2022-07-26_12-03-39/checkpoint_tmp8f3a51/./\n",
            "\u001b[2m\u001b[36m(func pid=151479)\u001b[0m 2022-07-26 12:06:47,382\tINFO trainable.py:597 -- Current state after restoring: {'_iteration': 45, '_timesteps_total': None, '_time_total': 63.59415936470032, '_episodes_total': None}\n"
          ]
        },
        {
          "output_type": "stream",
          "name": "stdout",
          "text": [
            "Trial trainable_func_fc0a2c74 reported epoch=0,loss=0.16531892408767215,should_checkpoint=True with parameters={'act1 ': 'tanh', 'act2': 'selu', 'act3': 'tanh', 'lr': 0.001, 'batch_size': 16, 'hidden_dim1': 165.0, 'hidden_dim2': 240.0, 'hidden_dim3': 210.0}.\n",
            "== Status ==\n",
            "Current time: 2022-07-26 12:06:48 (running for 00:03:10.43)\n",
            "Memory usage on this node: 2.2/12.7 GiB\n",
            "Using MedianStoppingRule: num_stopped=0.\n",
            "Resources requested: 1.5/2 CPUs, 0/0 GPUs, 0.0/7.46 GiB heap, 0.0/3.73 GiB objects\n",
            "Result logdir: /root/ray_results/trainable_func_2022-07-26_12-03-38\n",
            "Number of trials: 10/50 (7 PAUSED, 3 RUNNING)\n",
            "\n",
            "\n",
            "Trial trainable_func_fbbf25f8 reported epoch=0,loss=0.13905318849906254,should_checkpoint=True with parameters={'act1 ': 'tanh', 'act2': 'selu', 'act3': 'tanh', 'lr': 0.001, 'batch_size': 32, 'hidden_dim1': 210.0, 'hidden_dim2': 210.0, 'hidden_dim3': 315.0}.\n",
            "Trial trainable_func_fc3a8798 reported epoch=0,loss=0.07418375168031194,should_checkpoint=True with parameters={'act1 ': 'relu', 'act2': 'tanh', 'act3': 'tanh', 'lr': 0.0008, 'batch_size': 64, 'hidden_dim1': 195.0, 'hidden_dim2': 210.0, 'hidden_dim3': 135.0}.\n"
          ]
        },
        {
          "output_type": "stream",
          "name": "stderr",
          "text": [
            "\u001b[2m\u001b[36m(func pid=151414)\u001b[0m 2022-07-26 12:06:48,881\tINFO trainable.py:589 -- Restored on 172.28.0.2 from checkpoint: /root/ray_results/trainable_func_2022-07-26_12-03-38/trainable_func_fc0a2c74_2_act1=tanh,act2=selu,act3=tanh,batch_size=16,hidden_dim1=165.0000,hidden_dim2=240.0000,hidden_dim3=210.00_2022-07-26_12-03-39/checkpoint_tmpfe1304/./\n",
            "\u001b[2m\u001b[36m(func pid=151414)\u001b[0m 2022-07-26 12:06:48,881\tINFO trainable.py:597 -- Current state after restoring: {'_iteration': 26, '_timesteps_total': None, '_time_total': 111.63977718353271, '_episodes_total': None}\n",
            "\u001b[2m\u001b[36m(func pid=151415)\u001b[0m 2022-07-26 12:06:49,467\tINFO trainable.py:589 -- Restored on 172.28.0.2 from checkpoint: /root/ray_results/trainable_func_2022-07-26_12-03-38/trainable_func_fbbf25f8_1_act1=tanh,act2=selu,act3=tanh,batch_size=32,hidden_dim1=210.0000,hidden_dim2=210.0000,hidden_dim3=315.00_2022-07-26_12-03-38/checkpoint_tmp70b498/./\n",
            "\u001b[2m\u001b[36m(func pid=151415)\u001b[0m 2022-07-26 12:06:49,467\tINFO trainable.py:597 -- Current state after restoring: {'_iteration': 37, '_timesteps_total': None, '_time_total': 98.07015490531921, '_episodes_total': None}\n",
            "\u001b[2m\u001b[36m(func pid=151479)\u001b[0m 2022-07-26 12:06:49,963\tINFO trainable.py:589 -- Restored on 172.28.0.2 from checkpoint: /root/ray_results/trainable_func_2022-07-26_12-03-38/trainable_func_fc3a8798_4_act1=relu,act2=tanh,act3=tanh,batch_size=64,hidden_dim1=195.0000,hidden_dim2=210.0000,hidden_dim3=135.00_2022-07-26_12-03-39/checkpoint_tmp760979/./\n",
            "\u001b[2m\u001b[36m(func pid=151479)\u001b[0m 2022-07-26 12:06:49,963\tINFO trainable.py:597 -- Current state after restoring: {'_iteration': 46, '_timesteps_total': None, '_time_total': 64.96039509773254, '_episodes_total': None}\n"
          ]
        },
        {
          "output_type": "stream",
          "name": "stdout",
          "text": [
            "Trial trainable_func_fc21eeb8 reported epoch=0,loss=0.1652971347855351,should_checkpoint=True with parameters={'act1 ': 'tanh', 'act2': 'relu', 'act3': 'relu', 'lr': 0.001, 'batch_size': 16, 'hidden_dim1': 255.0, 'hidden_dim2': 285.0, 'hidden_dim3': 180.0}.\n"
          ]
        },
        {
          "output_type": "stream",
          "name": "stderr",
          "text": [
            "\u001b[2m\u001b[36m(func pid=151479)\u001b[0m 2022-07-26 12:06:51,861\tINFO trainable.py:589 -- Restored on 172.28.0.2 from checkpoint: /root/ray_results/trainable_func_2022-07-26_12-03-38/trainable_func_fc3a8798_4_act1=relu,act2=tanh,act3=tanh,batch_size=64,hidden_dim1=195.0000,hidden_dim2=210.0000,hidden_dim3=135.00_2022-07-26_12-03-39/checkpoint_tmp713629/./\n",
            "\u001b[2m\u001b[36m(func pid=151479)\u001b[0m 2022-07-26 12:06:51,861\tINFO trainable.py:597 -- Current state after restoring: {'_iteration': 47, '_timesteps_total': None, '_time_total': 66.27333617210388, '_episodes_total': None}\n",
            "\u001b[2m\u001b[36m(func pid=151453)\u001b[0m 2022-07-26 12:06:52,338\tINFO trainable.py:589 -- Restored on 172.28.0.2 from checkpoint: /root/ray_results/trainable_func_2022-07-26_12-03-38/trainable_func_fc21eeb8_3_act1=tanh,act2=relu,act3=relu,batch_size=16,hidden_dim1=255.0000,hidden_dim2=285.0000,hidden_dim3=180.00_2022-07-26_12-03-39/checkpoint_tmp81cd82/./\n",
            "\u001b[2m\u001b[36m(func pid=151453)\u001b[0m 2022-07-26 12:06:52,338\tINFO trainable.py:597 -- Current state after restoring: {'_iteration': 23, '_timesteps_total': None, '_time_total': 124.01410508155823, '_episodes_total': None}\n",
            "\u001b[2m\u001b[36m(func pid=151414)\u001b[0m 2022-07-26 12:06:52,697\tINFO trainable.py:589 -- Restored on 172.28.0.2 from checkpoint: /root/ray_results/trainable_func_2022-07-26_12-03-38/trainable_func_fc0a2c74_2_act1=tanh,act2=selu,act3=tanh,batch_size=16,hidden_dim1=165.0000,hidden_dim2=240.0000,hidden_dim3=210.00_2022-07-26_12-03-39/checkpoint_tmpd378ba/./\n",
            "\u001b[2m\u001b[36m(func pid=151414)\u001b[0m 2022-07-26 12:06:52,697\tINFO trainable.py:597 -- Current state after restoring: {'_iteration': 27, '_timesteps_total': None, '_time_total': 114.93344831466675, '_episodes_total': None}\n",
            "\u001b[2m\u001b[36m(func pid=151415)\u001b[0m 2022-07-26 12:06:53,214\tINFO trainable.py:589 -- Restored on 172.28.0.2 from checkpoint: /root/ray_results/trainable_func_2022-07-26_12-03-38/trainable_func_fbbf25f8_1_act1=tanh,act2=selu,act3=tanh,batch_size=32,hidden_dim1=210.0000,hidden_dim2=210.0000,hidden_dim3=315.00_2022-07-26_12-03-38/checkpoint_tmp40f706/./\n",
            "\u001b[2m\u001b[36m(func pid=151415)\u001b[0m 2022-07-26 12:06:53,214\tINFO trainable.py:597 -- Current state after restoring: {'_iteration': 38, '_timesteps_total': None, '_time_total': 100.50393533706665, '_episodes_total': None}\n",
            "\u001b[2m\u001b[36m(func pid=151479)\u001b[0m 2022-07-26 12:06:53,753\tINFO trainable.py:589 -- Restored on 172.28.0.2 from checkpoint: /root/ray_results/trainable_func_2022-07-26_12-03-38/trainable_func_fc3a8798_4_act1=relu,act2=tanh,act3=tanh,batch_size=64,hidden_dim1=195.0000,hidden_dim2=210.0000,hidden_dim3=135.00_2022-07-26_12-03-39/checkpoint_tmp770dc4/./\n",
            "\u001b[2m\u001b[36m(func pid=151479)\u001b[0m 2022-07-26 12:06:53,753\tINFO trainable.py:597 -- Current state after restoring: {'_iteration': 48, '_timesteps_total': None, '_time_total': 67.26493120193481, '_episodes_total': None}\n"
          ]
        },
        {
          "output_type": "stream",
          "name": "stdout",
          "text": [
            "Trial trainable_func_fc3a8798 reported epoch=0,loss=0.08865045953862179,should_checkpoint=True with parameters={'act1 ': 'relu', 'act2': 'tanh', 'act3': 'tanh', 'lr': 0.0008, 'batch_size': 64, 'hidden_dim1': 195.0, 'hidden_dim2': 210.0, 'hidden_dim3': 135.0}.\n",
            "== Status ==\n",
            "Current time: 2022-07-26 12:06:55 (running for 00:03:16.75)\n",
            "Memory usage on this node: 2.3/12.7 GiB\n",
            "Using MedianStoppingRule: num_stopped=0.\n",
            "Resources requested: 2.0/2 CPUs, 0/0 GPUs, 0.0/7.46 GiB heap, 0.0/3.73 GiB objects\n",
            "Result logdir: /root/ray_results/trainable_func_2022-07-26_12-03-38\n",
            "Number of trials: 10/50 (6 PAUSED, 4 RUNNING)\n",
            "\n",
            "\n",
            "Trial trainable_func_fbbf25f8 reported epoch=0,loss=0.12239485901908324,should_checkpoint=True with parameters={'act1 ': 'tanh', 'act2': 'selu', 'act3': 'tanh', 'lr': 0.001, 'batch_size': 32, 'hidden_dim1': 210.0, 'hidden_dim2': 210.0, 'hidden_dim3': 315.0}.\n"
          ]
        },
        {
          "output_type": "stream",
          "name": "stderr",
          "text": [
            "\u001b[2m\u001b[36m(func pid=151479)\u001b[0m 2022-07-26 12:06:55,779\tINFO trainable.py:589 -- Restored on 172.28.0.2 from checkpoint: /root/ray_results/trainable_func_2022-07-26_12-03-38/trainable_func_fc3a8798_4_act1=relu,act2=tanh,act3=tanh,batch_size=64,hidden_dim1=195.0000,hidden_dim2=210.0000,hidden_dim3=135.00_2022-07-26_12-03-39/checkpoint_tmp4ca5f1/./\n",
            "\u001b[2m\u001b[36m(func pid=151479)\u001b[0m 2022-07-26 12:06:55,780\tINFO trainable.py:597 -- Current state after restoring: {'_iteration': 49, '_timesteps_total': None, '_time_total': 68.66892981529236, '_episodes_total': None}\n",
            "\u001b[2m\u001b[36m(func pid=151415)\u001b[0m 2022-07-26 12:06:56,473\tINFO trainable.py:589 -- Restored on 172.28.0.2 from checkpoint: /root/ray_results/trainable_func_2022-07-26_12-03-38/trainable_func_fbbf25f8_1_act1=tanh,act2=selu,act3=tanh,batch_size=32,hidden_dim1=210.0000,hidden_dim2=210.0000,hidden_dim3=315.00_2022-07-26_12-03-38/checkpoint_tmp4f04aa/./\n",
            "\u001b[2m\u001b[36m(func pid=151415)\u001b[0m 2022-07-26 12:06:56,473\tINFO trainable.py:597 -- Current state after restoring: {'_iteration': 39, '_timesteps_total': None, '_time_total': 103.15244674682617, '_episodes_total': None}\n"
          ]
        },
        {
          "output_type": "stream",
          "name": "stdout",
          "text": [
            "Trial trainable_func_fc0a2c74 reported epoch=0,loss=0.23163229845589162,should_checkpoint=True with parameters={'act1 ': 'tanh', 'act2': 'selu', 'act3': 'tanh', 'lr': 0.001, 'batch_size': 16, 'hidden_dim1': 165.0, 'hidden_dim2': 240.0, 'hidden_dim3': 210.0}.\n",
            "Trial trainable_func_fc3a8798 reported epoch=0,loss=0.07047487017794182,should_checkpoint=True with parameters={'act1 ': 'relu', 'act2': 'tanh', 'act3': 'tanh', 'lr': 0.0008, 'batch_size': 64, 'hidden_dim1': 195.0, 'hidden_dim2': 210.0, 'hidden_dim3': 135.0}. This trial completed.\n"
          ]
        },
        {
          "output_type": "stream",
          "name": "stderr",
          "text": [
            "\u001b[2m\u001b[36m(func pid=151414)\u001b[0m 2022-07-26 12:06:57,216\tINFO trainable.py:589 -- Restored on 172.28.0.2 from checkpoint: /root/ray_results/trainable_func_2022-07-26_12-03-38/trainable_func_fc0a2c74_2_act1=tanh,act2=selu,act3=tanh,batch_size=16,hidden_dim1=165.0000,hidden_dim2=240.0000,hidden_dim3=210.00_2022-07-26_12-03-39/checkpoint_tmp292c7b/./\n",
            "\u001b[2m\u001b[36m(func pid=151414)\u001b[0m 2022-07-26 12:06:57,219\tINFO trainable.py:597 -- Current state after restoring: {'_iteration': 28, '_timesteps_total': None, '_time_total': 118.76761174201965, '_episodes_total': None}\n"
          ]
        },
        {
          "output_type": "stream",
          "name": "stdout",
          "text": [
            "Trial trainable_func_fc21eeb8 reported epoch=0,loss=0.18207759093424739,should_checkpoint=True with parameters={'act1 ': 'tanh', 'act2': 'relu', 'act3': 'relu', 'lr': 0.001, 'batch_size': 16, 'hidden_dim1': 255.0, 'hidden_dim2': 285.0, 'hidden_dim3': 180.0}.\n"
          ]
        },
        {
          "output_type": "stream",
          "name": "stderr",
          "text": [
            "\u001b[2m\u001b[36m(func pid=151453)\u001b[0m 2022-07-26 12:06:58,552\tINFO trainable.py:589 -- Restored on 172.28.0.2 from checkpoint: /root/ray_results/trainable_func_2022-07-26_12-03-38/trainable_func_fc21eeb8_3_act1=tanh,act2=relu,act3=relu,batch_size=16,hidden_dim1=255.0000,hidden_dim2=285.0000,hidden_dim3=180.00_2022-07-26_12-03-39/checkpoint_tmpf67450/./\n",
            "\u001b[2m\u001b[36m(func pid=151453)\u001b[0m 2022-07-26 12:06:58,552\tINFO trainable.py:597 -- Current state after restoring: {'_iteration': 24, '_timesteps_total': None, '_time_total': 129.53660082817078, '_episodes_total': None}\n",
            "\u001b[2m\u001b[36m(func pid=151415)\u001b[0m 2022-07-26 12:06:59,990\tINFO trainable.py:589 -- Restored on 172.28.0.2 from checkpoint: /root/ray_results/trainable_func_2022-07-26_12-03-38/trainable_func_fbbf25f8_1_act1=tanh,act2=selu,act3=tanh,batch_size=32,hidden_dim1=210.0000,hidden_dim2=210.0000,hidden_dim3=315.00_2022-07-26_12-03-38/checkpoint_tmp783325/./\n",
            "\u001b[2m\u001b[36m(func pid=151415)\u001b[0m 2022-07-26 12:06:59,990\tINFO trainable.py:597 -- Current state after restoring: {'_iteration': 40, '_timesteps_total': None, '_time_total': 105.96598100662231, '_episodes_total': None}\n"
          ]
        },
        {
          "output_type": "stream",
          "name": "stdout",
          "text": [
            "Trial trainable_func_723b597c reported epoch=0,loss=0.812447865571828,should_checkpoint=True with parameters={'act1 ': 'relu', 'act2': 'tanh', 'act3': 'tanh', 'lr': 0.0008, 'batch_size': 16, 'hidden_dim1': 300.0, 'hidden_dim2': 180.0, 'hidden_dim3': 180.0}.\n",
            "== Status ==\n",
            "Current time: 2022-07-26 12:07:01 (running for 00:03:22.72)\n",
            "Memory usage on this node: 2.3/12.7 GiB\n",
            "Using MedianStoppingRule: num_stopped=0.\n",
            "Resources requested: 2.0/2 CPUs, 0/0 GPUs, 0.0/7.46 GiB heap, 0.0/3.73 GiB objects\n",
            "Result logdir: /root/ray_results/trainable_func_2022-07-26_12-03-38\n",
            "Number of trials: 11/50 (6 PAUSED, 4 RUNNING, 1 TERMINATED)\n",
            "\n",
            "\n"
          ]
        },
        {
          "output_type": "stream",
          "name": "stderr",
          "text": [
            "\u001b[2m\u001b[36m(func pid=151414)\u001b[0m 2022-07-26 12:07:02,155\tINFO trainable.py:589 -- Restored on 172.28.0.2 from checkpoint: /root/ray_results/trainable_func_2022-07-26_12-03-38/trainable_func_fc0a2c74_2_act1=tanh,act2=selu,act3=tanh,batch_size=16,hidden_dim1=165.0000,hidden_dim2=240.0000,hidden_dim3=210.00_2022-07-26_12-03-39/checkpoint_tmped8cba/./\n",
            "\u001b[2m\u001b[36m(func pid=151414)\u001b[0m 2022-07-26 12:07:02,155\tINFO trainable.py:597 -- Current state after restoring: {'_iteration': 29, '_timesteps_total': None, '_time_total': 123.05574679374695, '_episodes_total': None}\n"
          ]
        },
        {
          "output_type": "stream",
          "name": "stdout",
          "text": [
            "Trial trainable_func_fbbf25f8 reported epoch=0,loss=0.09530746073595384,should_checkpoint=True with parameters={'act1 ': 'tanh', 'act2': 'selu', 'act3': 'tanh', 'lr': 0.001, 'batch_size': 32, 'hidden_dim1': 210.0, 'hidden_dim2': 210.0, 'hidden_dim3': 315.0}.\n"
          ]
        },
        {
          "output_type": "stream",
          "name": "stderr",
          "text": [
            "\u001b[2m\u001b[36m(func pid=151415)\u001b[0m 2022-07-26 12:07:03,225\tINFO trainable.py:589 -- Restored on 172.28.0.2 from checkpoint: /root/ray_results/trainable_func_2022-07-26_12-03-38/trainable_func_fbbf25f8_1_act1=tanh,act2=selu,act3=tanh,batch_size=32,hidden_dim1=210.0000,hidden_dim2=210.0000,hidden_dim3=315.00_2022-07-26_12-03-38/checkpoint_tmp3376b0/./\n",
            "\u001b[2m\u001b[36m(func pid=151415)\u001b[0m 2022-07-26 12:07:03,225\tINFO trainable.py:597 -- Current state after restoring: {'_iteration': 41, '_timesteps_total': None, '_time_total': 108.63666439056396, '_episodes_total': None}\n"
          ]
        },
        {
          "output_type": "stream",
          "name": "stdout",
          "text": [
            "Trial trainable_func_fc21eeb8 reported epoch=0,loss=0.14208213718688556,should_checkpoint=True with parameters={'act1 ': 'tanh', 'act2': 'relu', 'act3': 'relu', 'lr': 0.001, 'batch_size': 16, 'hidden_dim1': 255.0, 'hidden_dim2': 285.0, 'hidden_dim3': 180.0}.\n"
          ]
        },
        {
          "output_type": "stream",
          "name": "stderr",
          "text": [
            "\u001b[2m\u001b[36m(func pid=151453)\u001b[0m 2022-07-26 12:07:05,118\tINFO trainable.py:589 -- Restored on 172.28.0.2 from checkpoint: /root/ray_results/trainable_func_2022-07-26_12-03-38/trainable_func_fc21eeb8_3_act1=tanh,act2=relu,act3=relu,batch_size=16,hidden_dim1=255.0000,hidden_dim2=285.0000,hidden_dim3=180.00_2022-07-26_12-03-39/checkpoint_tmpec89ad/./\n",
            "\u001b[2m\u001b[36m(func pid=151453)\u001b[0m 2022-07-26 12:07:05,118\tINFO trainable.py:597 -- Current state after restoring: {'_iteration': 25, '_timesteps_total': None, '_time_total': 135.4179766178131, '_episodes_total': None}\n"
          ]
        },
        {
          "output_type": "stream",
          "name": "stdout",
          "text": [
            "== Status ==\n",
            "Current time: 2022-07-26 12:07:06 (running for 00:03:28.01)\n",
            "Memory usage on this node: 2.3/12.7 GiB\n",
            "Using MedianStoppingRule: num_stopped=0.\n",
            "Resources requested: 1.5/2 CPUs, 0/0 GPUs, 0.0/7.46 GiB heap, 0.0/3.73 GiB objects\n",
            "Result logdir: /root/ray_results/trainable_func_2022-07-26_12-03-38\n",
            "Number of trials: 11/50 (7 PAUSED, 3 RUNNING, 1 TERMINATED)\n",
            "\n",
            "\n",
            "Trial trainable_func_fc0a2c74 reported epoch=0,loss=0.1575890496155021,should_checkpoint=True with parameters={'act1 ': 'tanh', 'act2': 'selu', 'act3': 'tanh', 'lr': 0.001, 'batch_size': 16, 'hidden_dim1': 165.0, 'hidden_dim2': 240.0, 'hidden_dim3': 210.0}.\n"
          ]
        },
        {
          "output_type": "stream",
          "name": "stderr",
          "text": [
            "\u001b[2m\u001b[36m(func pid=151415)\u001b[0m 2022-07-26 12:07:06,468\tINFO trainable.py:589 -- Restored on 172.28.0.2 from checkpoint: /root/ray_results/trainable_func_2022-07-26_12-03-38/trainable_func_fbbf25f8_1_act1=tanh,act2=selu,act3=tanh,batch_size=32,hidden_dim1=210.0000,hidden_dim2=210.0000,hidden_dim3=315.00_2022-07-26_12-03-38/checkpoint_tmp7a894a/./\n",
            "\u001b[2m\u001b[36m(func pid=151415)\u001b[0m 2022-07-26 12:07:06,472\tINFO trainable.py:597 -- Current state after restoring: {'_iteration': 42, '_timesteps_total': None, '_time_total': 111.13098621368408, '_episodes_total': None}\n",
            "\u001b[2m\u001b[36m(func pid=151414)\u001b[0m 2022-07-26 12:07:06,999\tINFO trainable.py:589 -- Restored on 172.28.0.2 from checkpoint: /root/ray_results/trainable_func_2022-07-26_12-03-38/trainable_func_fc0a2c74_2_act1=tanh,act2=selu,act3=tanh,batch_size=16,hidden_dim1=165.0000,hidden_dim2=240.0000,hidden_dim3=210.00_2022-07-26_12-03-39/checkpoint_tmp874941/./\n",
            "\u001b[2m\u001b[36m(func pid=151414)\u001b[0m 2022-07-26 12:07:06,999\tINFO trainable.py:597 -- Current state after restoring: {'_iteration': 30, '_timesteps_total': None, '_time_total': 127.27398562431335, '_episodes_total': None}\n"
          ]
        },
        {
          "output_type": "stream",
          "name": "stdout",
          "text": [
            "Trial trainable_func_723b597c reported epoch=2,loss=0.6209876393973535,should_checkpoint=True with parameters={'act1 ': 'relu', 'act2': 'tanh', 'act3': 'tanh', 'lr': 0.0008, 'batch_size': 16, 'hidden_dim1': 300.0, 'hidden_dim2': 180.0, 'hidden_dim3': 180.0}.\n",
            "Trial trainable_func_fbbf25f8 reported epoch=0,loss=0.2152058992802469,should_checkpoint=True with parameters={'act1 ': 'tanh', 'act2': 'selu', 'act3': 'tanh', 'lr': 0.001, 'batch_size': 32, 'hidden_dim1': 210.0, 'hidden_dim2': 210.0, 'hidden_dim3': 315.0}.\n"
          ]
        },
        {
          "output_type": "stream",
          "name": "stderr",
          "text": [
            "\u001b[2m\u001b[36m(func pid=151415)\u001b[0m 2022-07-26 12:07:10,029\tINFO trainable.py:589 -- Restored on 172.28.0.2 from checkpoint: /root/ray_results/trainable_func_2022-07-26_12-03-38/trainable_func_fbbf25f8_1_act1=tanh,act2=selu,act3=tanh,batch_size=32,hidden_dim1=210.0000,hidden_dim2=210.0000,hidden_dim3=315.00_2022-07-26_12-03-38/checkpoint_tmp060909/./\n",
            "\u001b[2m\u001b[36m(func pid=151415)\u001b[0m 2022-07-26 12:07:10,029\tINFO trainable.py:597 -- Current state after restoring: {'_iteration': 43, '_timesteps_total': None, '_time_total': 113.94379186630249, '_episodes_total': None}\n"
          ]
        },
        {
          "output_type": "stream",
          "name": "stdout",
          "text": [
            "Trial trainable_func_fc21eeb8 reported epoch=0,loss=0.1761533565852701,should_checkpoint=True with parameters={'act1 ': 'tanh', 'act2': 'relu', 'act3': 'relu', 'lr': 0.001, 'batch_size': 16, 'hidden_dim1': 255.0, 'hidden_dim2': 285.0, 'hidden_dim3': 180.0}.\n"
          ]
        },
        {
          "output_type": "stream",
          "name": "stderr",
          "text": [
            "\u001b[2m\u001b[36m(func pid=151453)\u001b[0m 2022-07-26 12:07:11,329\tINFO trainable.py:589 -- Restored on 172.28.0.2 from checkpoint: /root/ray_results/trainable_func_2022-07-26_12-03-38/trainable_func_fc21eeb8_3_act1=tanh,act2=relu,act3=relu,batch_size=16,hidden_dim1=255.0000,hidden_dim2=285.0000,hidden_dim3=180.00_2022-07-26_12-03-39/checkpoint_tmpc7e4e3/./\n",
            "\u001b[2m\u001b[36m(func pid=151453)\u001b[0m 2022-07-26 12:07:11,329\tINFO trainable.py:597 -- Current state after restoring: {'_iteration': 26, '_timesteps_total': None, '_time_total': 141.01493048667908, '_episodes_total': None}\n",
            "\u001b[2m\u001b[36m(func pid=151414)\u001b[0m 2022-07-26 12:07:11,701\tINFO trainable.py:589 -- Restored on 172.28.0.2 from checkpoint: /root/ray_results/trainable_func_2022-07-26_12-03-38/trainable_func_fc0a2c74_2_act1=tanh,act2=selu,act3=tanh,batch_size=16,hidden_dim1=165.0000,hidden_dim2=240.0000,hidden_dim3=210.00_2022-07-26_12-03-39/checkpoint_tmp42b120/./\n",
            "\u001b[2m\u001b[36m(func pid=151414)\u001b[0m 2022-07-26 12:07:11,703\tINFO trainable.py:597 -- Current state after restoring: {'_iteration': 31, '_timesteps_total': None, '_time_total': 131.38121438026428, '_episodes_total': None}\n"
          ]
        },
        {
          "output_type": "stream",
          "name": "stdout",
          "text": [
            "== Status ==\n",
            "Current time: 2022-07-26 12:07:11 (running for 00:03:33.24)\n",
            "Memory usage on this node: 2.3/12.7 GiB\n",
            "Using MedianStoppingRule: num_stopped=0.\n",
            "Resources requested: 1.5/2 CPUs, 0/0 GPUs, 0.0/7.46 GiB heap, 0.0/3.73 GiB objects\n",
            "Result logdir: /root/ray_results/trainable_func_2022-07-26_12-03-38\n",
            "Number of trials: 11/50 (7 PAUSED, 3 RUNNING, 1 TERMINATED)\n",
            "\n",
            "\n"
          ]
        },
        {
          "output_type": "stream",
          "name": "stderr",
          "text": [
            "\u001b[2m\u001b[36m(func pid=151415)\u001b[0m 2022-07-26 12:07:13,161\tINFO trainable.py:589 -- Restored on 172.28.0.2 from checkpoint: /root/ray_results/trainable_func_2022-07-26_12-03-38/trainable_func_fbbf25f8_1_act1=tanh,act2=selu,act3=tanh,batch_size=32,hidden_dim1=210.0000,hidden_dim2=210.0000,hidden_dim3=315.00_2022-07-26_12-03-38/checkpoint_tmp99e3d8/./\n",
            "\u001b[2m\u001b[36m(func pid=151415)\u001b[0m 2022-07-26 12:07:13,161\tINFO trainable.py:597 -- Current state after restoring: {'_iteration': 44, '_timesteps_total': None, '_time_total': 116.44906949996948, '_episodes_total': None}\n"
          ]
        },
        {
          "output_type": "stream",
          "name": "stdout",
          "text": [
            "Trial trainable_func_fbbf25f8 reported epoch=0,loss=0.1062553514766724,should_checkpoint=True with parameters={'act1 ': 'tanh', 'act2': 'selu', 'act3': 'tanh', 'lr': 0.001, 'batch_size': 32, 'hidden_dim1': 210.0, 'hidden_dim2': 210.0, 'hidden_dim3': 315.0}.\n",
            "Trial trainable_func_fc0a2c74 reported epoch=0,loss=0.14364710371020153,should_checkpoint=True with parameters={'act1 ': 'tanh', 'act2': 'selu', 'act3': 'tanh', 'lr': 0.001, 'batch_size': 16, 'hidden_dim1': 165.0, 'hidden_dim2': 240.0, 'hidden_dim3': 210.0}.\n",
            "Trial trainable_func_723b597c reported epoch=4,loss=0.6011640744323431,should_checkpoint=True with parameters={'act1 ': 'relu', 'act2': 'tanh', 'act3': 'tanh', 'lr': 0.0008, 'batch_size': 16, 'hidden_dim1': 300.0, 'hidden_dim2': 180.0, 'hidden_dim3': 180.0}.\n"
          ]
        },
        {
          "output_type": "stream",
          "name": "stderr",
          "text": [
            "\u001b[2m\u001b[36m(func pid=151415)\u001b[0m 2022-07-26 12:07:15,927\tINFO trainable.py:589 -- Restored on 172.28.0.2 from checkpoint: /root/ray_results/trainable_func_2022-07-26_12-03-38/trainable_func_fbbf25f8_1_act1=tanh,act2=selu,act3=tanh,batch_size=32,hidden_dim1=210.0000,hidden_dim2=210.0000,hidden_dim3=315.00_2022-07-26_12-03-38/checkpoint_tmp91d5e1/./\n",
            "\u001b[2m\u001b[36m(func pid=151415)\u001b[0m 2022-07-26 12:07:15,927\tINFO trainable.py:597 -- Current state after restoring: {'_iteration': 45, '_timesteps_total': None, '_time_total': 118.92296767234802, '_episodes_total': None}\n"
          ]
        },
        {
          "output_type": "stream",
          "name": "stdout",
          "text": [
            "Trial trainable_func_fc21eeb8 reported epoch=0,loss=0.19348779299226596,should_checkpoint=True with parameters={'act1 ': 'tanh', 'act2': 'relu', 'act3': 'relu', 'lr': 0.001, 'batch_size': 16, 'hidden_dim1': 255.0, 'hidden_dim2': 285.0, 'hidden_dim3': 180.0}.\n"
          ]
        },
        {
          "output_type": "stream",
          "name": "stderr",
          "text": [
            "\u001b[2m\u001b[36m(func pid=151414)\u001b[0m 2022-07-26 12:07:16,546\tINFO trainable.py:589 -- Restored on 172.28.0.2 from checkpoint: /root/ray_results/trainable_func_2022-07-26_12-03-38/trainable_func_fc0a2c74_2_act1=tanh,act2=selu,act3=tanh,batch_size=16,hidden_dim1=165.0000,hidden_dim2=240.0000,hidden_dim3=210.00_2022-07-26_12-03-39/checkpoint_tmp1dac33/./\n",
            "\u001b[2m\u001b[36m(func pid=151414)\u001b[0m 2022-07-26 12:07:16,547\tINFO trainable.py:597 -- Current state after restoring: {'_iteration': 32, '_timesteps_total': None, '_time_total': 135.32759642601013, '_episodes_total': None}\n",
            "\u001b[2m\u001b[36m(func pid=151453)\u001b[0m 2022-07-26 12:07:17,245\tINFO trainable.py:589 -- Restored on 172.28.0.2 from checkpoint: /root/ray_results/trainable_func_2022-07-26_12-03-38/trainable_func_fc21eeb8_3_act1=tanh,act2=relu,act3=relu,batch_size=16,hidden_dim1=255.0000,hidden_dim2=285.0000,hidden_dim3=180.00_2022-07-26_12-03-39/checkpoint_tmp5a4931/./\n",
            "\u001b[2m\u001b[36m(func pid=151453)\u001b[0m 2022-07-26 12:07:17,251\tINFO trainable.py:597 -- Current state after restoring: {'_iteration': 27, '_timesteps_total': None, '_time_total': 146.1473400592804, '_episodes_total': None}\n"
          ]
        },
        {
          "output_type": "stream",
          "name": "stdout",
          "text": [
            "== Status ==\n",
            "Current time: 2022-07-26 12:07:17 (running for 00:03:38.79)\n",
            "Memory usage on this node: 2.3/12.7 GiB\n",
            "Using MedianStoppingRule: num_stopped=0.\n",
            "Resources requested: 1.5/2 CPUs, 0/0 GPUs, 0.0/7.46 GiB heap, 0.0/3.73 GiB objects\n",
            "Result logdir: /root/ray_results/trainable_func_2022-07-26_12-03-38\n",
            "Number of trials: 11/50 (7 PAUSED, 3 RUNNING, 1 TERMINATED)\n",
            "\n",
            "\n"
          ]
        },
        {
          "output_type": "stream",
          "name": "stderr",
          "text": [
            "\u001b[2m\u001b[36m(func pid=151415)\u001b[0m 2022-07-26 12:07:18,995\tINFO trainable.py:589 -- Restored on 172.28.0.2 from checkpoint: /root/ray_results/trainable_func_2022-07-26_12-03-38/trainable_func_fbbf25f8_1_act1=tanh,act2=selu,act3=tanh,batch_size=32,hidden_dim1=210.0000,hidden_dim2=210.0000,hidden_dim3=315.00_2022-07-26_12-03-38/checkpoint_tmp9a973b/./\n",
            "\u001b[2m\u001b[36m(func pid=151415)\u001b[0m 2022-07-26 12:07:18,995\tINFO trainable.py:597 -- Current state after restoring: {'_iteration': 46, '_timesteps_total': None, '_time_total': 121.42044043540955, '_episodes_total': None}\n",
            "\u001b[2m\u001b[36m(func pid=151414)\u001b[0m 2022-07-26 12:07:21,253\tINFO trainable.py:589 -- Restored on 172.28.0.2 from checkpoint: /root/ray_results/trainable_func_2022-07-26_12-03-38/trainable_func_fc0a2c74_2_act1=tanh,act2=selu,act3=tanh,batch_size=16,hidden_dim1=165.0000,hidden_dim2=240.0000,hidden_dim3=210.00_2022-07-26_12-03-39/checkpoint_tmpe3efd5/./\n",
            "\u001b[2m\u001b[36m(func pid=151414)\u001b[0m 2022-07-26 12:07:21,253\tINFO trainable.py:597 -- Current state after restoring: {'_iteration': 33, '_timesteps_total': None, '_time_total': 139.4406123161316, '_episodes_total': None}\n"
          ]
        },
        {
          "output_type": "stream",
          "name": "stdout",
          "text": [
            "Trial trainable_func_fbbf25f8 reported epoch=0,loss=0.10703170767519253,should_checkpoint=True with parameters={'act1 ': 'tanh', 'act2': 'selu', 'act3': 'tanh', 'lr': 0.001, 'batch_size': 32, 'hidden_dim1': 210.0, 'hidden_dim2': 210.0, 'hidden_dim3': 315.0}.\n"
          ]
        },
        {
          "output_type": "stream",
          "name": "stderr",
          "text": [
            "\u001b[2m\u001b[36m(func pid=151415)\u001b[0m 2022-07-26 12:07:22,165\tINFO trainable.py:589 -- Restored on 172.28.0.2 from checkpoint: /root/ray_results/trainable_func_2022-07-26_12-03-38/trainable_func_fbbf25f8_1_act1=tanh,act2=selu,act3=tanh,batch_size=32,hidden_dim1=210.0000,hidden_dim2=210.0000,hidden_dim3=315.00_2022-07-26_12-03-38/checkpoint_tmp138dfc/./\n",
            "\u001b[2m\u001b[36m(func pid=151415)\u001b[0m 2022-07-26 12:07:22,165\tINFO trainable.py:597 -- Current state after restoring: {'_iteration': 47, '_timesteps_total': None, '_time_total': 124.03250122070312, '_episodes_total': None}\n"
          ]
        },
        {
          "output_type": "stream",
          "name": "stdout",
          "text": [
            "Trial trainable_func_fc21eeb8 reported epoch=0,loss=0.13540920129164732,should_checkpoint=True with parameters={'act1 ': 'tanh', 'act2': 'relu', 'act3': 'relu', 'lr': 0.001, 'batch_size': 16, 'hidden_dim1': 255.0, 'hidden_dim2': 285.0, 'hidden_dim3': 180.0}.\n",
            "== Status ==\n",
            "Current time: 2022-07-26 12:07:22 (running for 00:03:44.28)\n",
            "Memory usage on this node: 2.3/12.7 GiB\n",
            "Using MedianStoppingRule: num_stopped=0.\n",
            "Resources requested: 2.0/2 CPUs, 0/0 GPUs, 0.0/7.46 GiB heap, 0.0/3.73 GiB objects\n",
            "Result logdir: /root/ray_results/trainable_func_2022-07-26_12-03-38\n",
            "Number of trials: 11/50 (6 PAUSED, 4 RUNNING, 1 TERMINATED)\n",
            "\n",
            "\n"
          ]
        },
        {
          "output_type": "stream",
          "name": "stderr",
          "text": [
            "\u001b[2m\u001b[36m(func pid=151453)\u001b[0m 2022-07-26 12:07:23,370\tINFO trainable.py:589 -- Restored on 172.28.0.2 from checkpoint: /root/ray_results/trainable_func_2022-07-26_12-03-38/trainable_func_fc21eeb8_3_act1=tanh,act2=relu,act3=relu,batch_size=16,hidden_dim1=255.0000,hidden_dim2=285.0000,hidden_dim3=180.00_2022-07-26_12-03-39/checkpoint_tmp11f30f/./\n",
            "\u001b[2m\u001b[36m(func pid=151453)\u001b[0m 2022-07-26 12:07:23,371\tINFO trainable.py:597 -- Current state after restoring: {'_iteration': 28, '_timesteps_total': None, '_time_total': 151.59288239479065, '_episodes_total': None}\n"
          ]
        },
        {
          "output_type": "stream",
          "name": "stdout",
          "text": [
            "Trial trainable_func_723b597c reported epoch=6,loss=0.6204978233405433,should_checkpoint=True with parameters={'act1 ': 'relu', 'act2': 'tanh', 'act3': 'tanh', 'lr': 0.0008, 'batch_size': 16, 'hidden_dim1': 300.0, 'hidden_dim2': 180.0, 'hidden_dim3': 180.0}.\n",
            "Trial trainable_func_fc0a2c74 reported epoch=0,loss=0.17696679676807311,should_checkpoint=True with parameters={'act1 ': 'tanh', 'act2': 'selu', 'act3': 'tanh', 'lr': 0.001, 'batch_size': 16, 'hidden_dim1': 165.0, 'hidden_dim2': 240.0, 'hidden_dim3': 210.0}.\n"
          ]
        },
        {
          "output_type": "stream",
          "name": "stderr",
          "text": [
            "\u001b[2m\u001b[36m(func pid=151415)\u001b[0m 2022-07-26 12:07:25,237\tINFO trainable.py:589 -- Restored on 172.28.0.2 from checkpoint: /root/ray_results/trainable_func_2022-07-26_12-03-38/trainable_func_fbbf25f8_1_act1=tanh,act2=selu,act3=tanh,batch_size=32,hidden_dim1=210.0000,hidden_dim2=210.0000,hidden_dim3=315.00_2022-07-26_12-03-38/checkpoint_tmp357776/./\n",
            "\u001b[2m\u001b[36m(func pid=151415)\u001b[0m 2022-07-26 12:07:25,237\tINFO trainable.py:597 -- Current state after restoring: {'_iteration': 48, '_timesteps_total': None, '_time_total': 126.5167715549469, '_episodes_total': None}\n",
            "\u001b[2m\u001b[36m(func pid=151414)\u001b[0m 2022-07-26 12:07:25,821\tINFO trainable.py:589 -- Restored on 172.28.0.2 from checkpoint: /root/ray_results/trainable_func_2022-07-26_12-03-38/trainable_func_fc0a2c74_2_act1=tanh,act2=selu,act3=tanh,batch_size=16,hidden_dim1=165.0000,hidden_dim2=240.0000,hidden_dim3=210.00_2022-07-26_12-03-39/checkpoint_tmpa84074/./\n",
            "\u001b[2m\u001b[36m(func pid=151414)\u001b[0m 2022-07-26 12:07:25,822\tINFO trainable.py:597 -- Current state after restoring: {'_iteration': 34, '_timesteps_total': None, '_time_total': 143.35594987869263, '_episodes_total': None}\n"
          ]
        },
        {
          "output_type": "stream",
          "name": "stdout",
          "text": [
            "Trial trainable_func_fbbf25f8 reported epoch=0,loss=0.09854731314586138,should_checkpoint=True with parameters={'act1 ': 'tanh', 'act2': 'selu', 'act3': 'tanh', 'lr': 0.001, 'batch_size': 32, 'hidden_dim1': 210.0, 'hidden_dim2': 210.0, 'hidden_dim3': 315.0}.\n",
            "== Status ==\n",
            "Current time: 2022-07-26 12:07:27 (running for 00:03:49.31)\n",
            "Memory usage on this node: 2.3/12.7 GiB\n",
            "Using MedianStoppingRule: num_stopped=0.\n",
            "Resources requested: 2.0/2 CPUs, 0/0 GPUs, 0.0/7.46 GiB heap, 0.0/3.73 GiB objects\n",
            "Result logdir: /root/ray_results/trainable_func_2022-07-26_12-03-38\n",
            "Number of trials: 11/50 (6 PAUSED, 4 RUNNING, 1 TERMINATED)\n",
            "\n",
            "\n"
          ]
        },
        {
          "output_type": "stream",
          "name": "stderr",
          "text": [
            "\u001b[2m\u001b[36m(func pid=151415)\u001b[0m 2022-07-26 12:07:28,333\tINFO trainable.py:589 -- Restored on 172.28.0.2 from checkpoint: /root/ray_results/trainable_func_2022-07-26_12-03-38/trainable_func_fbbf25f8_1_act1=tanh,act2=selu,act3=tanh,batch_size=32,hidden_dim1=210.0000,hidden_dim2=210.0000,hidden_dim3=315.00_2022-07-26_12-03-38/checkpoint_tmpd1c8dd/./\n",
            "\u001b[2m\u001b[36m(func pid=151415)\u001b[0m 2022-07-26 12:07:28,338\tINFO trainable.py:597 -- Current state after restoring: {'_iteration': 49, '_timesteps_total': None, '_time_total': 129.00522804260254, '_episodes_total': None}\n"
          ]
        },
        {
          "output_type": "stream",
          "name": "stdout",
          "text": [
            "Trial trainable_func_fc21eeb8 reported epoch=0,loss=0.13044981962023866,should_checkpoint=True with parameters={'act1 ': 'tanh', 'act2': 'relu', 'act3': 'relu', 'lr': 0.001, 'batch_size': 16, 'hidden_dim1': 255.0, 'hidden_dim2': 285.0, 'hidden_dim3': 180.0}.\n"
          ]
        },
        {
          "output_type": "stream",
          "name": "stderr",
          "text": [
            "\u001b[2m\u001b[36m(func pid=151453)\u001b[0m 2022-07-26 12:07:29,093\tINFO trainable.py:589 -- Restored on 172.28.0.2 from checkpoint: /root/ray_results/trainable_func_2022-07-26_12-03-38/trainable_func_fc21eeb8_3_act1=tanh,act2=relu,act3=relu,batch_size=16,hidden_dim1=255.0000,hidden_dim2=285.0000,hidden_dim3=180.00_2022-07-26_12-03-39/checkpoint_tmpaca715/./\n",
            "\u001b[2m\u001b[36m(func pid=151453)\u001b[0m 2022-07-26 12:07:29,093\tINFO trainable.py:597 -- Current state after restoring: {'_iteration': 29, '_timesteps_total': None, '_time_total': 156.64405870437622, '_episodes_total': None}\n",
            "\u001b[2m\u001b[36m(func pid=151414)\u001b[0m 2022-07-26 12:07:30,178\tINFO trainable.py:589 -- Restored on 172.28.0.2 from checkpoint: /root/ray_results/trainable_func_2022-07-26_12-03-38/trainable_func_fc0a2c74_2_act1=tanh,act2=selu,act3=tanh,batch_size=16,hidden_dim1=165.0000,hidden_dim2=240.0000,hidden_dim3=210.00_2022-07-26_12-03-39/checkpoint_tmp945a1a/./\n",
            "\u001b[2m\u001b[36m(func pid=151414)\u001b[0m 2022-07-26 12:07:30,178\tINFO trainable.py:597 -- Current state after restoring: {'_iteration': 35, '_timesteps_total': None, '_time_total': 147.00943899154663, '_episodes_total': None}\n"
          ]
        },
        {
          "output_type": "stream",
          "name": "stdout",
          "text": [
            "Trial trainable_func_fbbf25f8 reported epoch=0,loss=0.10470488515537259,should_checkpoint=True with parameters={'act1 ': 'tanh', 'act2': 'selu', 'act3': 'tanh', 'lr': 0.001, 'batch_size': 32, 'hidden_dim1': 210.0, 'hidden_dim2': 210.0, 'hidden_dim3': 315.0}. This trial completed.\n",
            "Trial trainable_func_723b597c reported epoch=8,loss=0.5699089142347246,should_checkpoint=True with parameters={'act1 ': 'relu', 'act2': 'tanh', 'act3': 'tanh', 'lr': 0.0008, 'batch_size': 16, 'hidden_dim1': 300.0, 'hidden_dim2': 180.0, 'hidden_dim3': 180.0}.\n",
            "Trial trainable_func_fc21eeb8 reported epoch=0,loss=0.1741686816483148,should_checkpoint=True with parameters={'act1 ': 'tanh', 'act2': 'relu', 'act3': 'relu', 'lr': 0.001, 'batch_size': 16, 'hidden_dim1': 255.0, 'hidden_dim2': 285.0, 'hidden_dim3': 180.0}.\n",
            "== Status ==\n",
            "Current time: 2022-07-26 12:07:34 (running for 00:03:55.73)\n",
            "Memory usage on this node: 2.3/12.7 GiB\n",
            "Using MedianStoppingRule: num_stopped=0.\n",
            "Resources requested: 2.0/2 CPUs, 0/0 GPUs, 0.0/7.46 GiB heap, 0.0/3.73 GiB objects\n",
            "Result logdir: /root/ray_results/trainable_func_2022-07-26_12-03-38\n",
            "Number of trials: 12/50 (6 PAUSED, 4 RUNNING, 2 TERMINATED)\n",
            "\n",
            "\n",
            "Trial trainable_func_fc0a2c74 reported epoch=0,loss=0.13397681472392847,should_checkpoint=True with parameters={'act1 ': 'tanh', 'act2': 'selu', 'act3': 'tanh', 'lr': 0.001, 'batch_size': 16, 'hidden_dim1': 165.0, 'hidden_dim2': 240.0, 'hidden_dim3': 210.0}.\n"
          ]
        },
        {
          "output_type": "stream",
          "name": "stderr",
          "text": [
            "\u001b[2m\u001b[36m(func pid=151453)\u001b[0m 2022-07-26 12:07:34,617\tINFO trainable.py:589 -- Restored on 172.28.0.2 from checkpoint: /root/ray_results/trainable_func_2022-07-26_12-03-38/trainable_func_fc21eeb8_3_act1=tanh,act2=relu,act3=relu,batch_size=16,hidden_dim1=255.0000,hidden_dim2=285.0000,hidden_dim3=180.00_2022-07-26_12-03-39/checkpoint_tmp947d13/./\n",
            "\u001b[2m\u001b[36m(func pid=151453)\u001b[0m 2022-07-26 12:07:34,617\tINFO trainable.py:597 -- Current state after restoring: {'_iteration': 30, '_timesteps_total': None, '_time_total': 161.67176818847656, '_episodes_total': None}\n",
            "\u001b[2m\u001b[36m(func pid=151414)\u001b[0m 2022-07-26 12:07:34,994\tINFO trainable.py:589 -- Restored on 172.28.0.2 from checkpoint: /root/ray_results/trainable_func_2022-07-26_12-03-38/trainable_func_fc0a2c74_2_act1=tanh,act2=selu,act3=tanh,batch_size=16,hidden_dim1=165.0000,hidden_dim2=240.0000,hidden_dim3=210.00_2022-07-26_12-03-39/checkpoint_tmp2ade90/./\n",
            "\u001b[2m\u001b[36m(func pid=151414)\u001b[0m 2022-07-26 12:07:34,995\tINFO trainable.py:597 -- Current state after restoring: {'_iteration': 36, '_timesteps_total': None, '_time_total': 151.01105165481567, '_episodes_total': None}\n"
          ]
        },
        {
          "output_type": "stream",
          "name": "stdout",
          "text": [
            "Trial trainable_func_863efd20 reported epoch=0,loss=0.8603203292299824,should_checkpoint=True with parameters={'act1 ': 'selu', 'act2': 'tanh', 'act3': 'selu', 'lr': 0.0007, 'batch_size': 16, 'hidden_dim1': 300.0, 'hidden_dim2': 225.0, 'hidden_dim3': 270.0}.\n",
            "== Status ==\n",
            "Current time: 2022-07-26 12:07:39 (running for 00:04:00.77)\n",
            "Memory usage on this node: 2.3/12.7 GiB\n",
            "Using MedianStoppingRule: num_stopped=0.\n",
            "Resources requested: 2.0/2 CPUs, 0/0 GPUs, 0.0/7.46 GiB heap, 0.0/3.73 GiB objects\n",
            "Result logdir: /root/ray_results/trainable_func_2022-07-26_12-03-38\n",
            "Number of trials: 12/50 (6 PAUSED, 4 RUNNING, 2 TERMINATED)\n",
            "\n",
            "\n",
            "Trial trainable_func_723b597c reported epoch=10,loss=0.5658842816981752,should_checkpoint=True with parameters={'act1 ': 'relu', 'act2': 'tanh', 'act3': 'tanh', 'lr': 0.0008, 'batch_size': 16, 'hidden_dim1': 300.0, 'hidden_dim2': 180.0, 'hidden_dim3': 180.0}.\n"
          ]
        },
        {
          "output_type": "stream",
          "name": "stderr",
          "text": [
            "\u001b[2m\u001b[36m(func pid=151414)\u001b[0m 2022-07-26 12:07:39,823\tINFO trainable.py:589 -- Restored on 172.28.0.2 from checkpoint: /root/ray_results/trainable_func_2022-07-26_12-03-38/trainable_func_fc0a2c74_2_act1=tanh,act2=selu,act3=tanh,batch_size=16,hidden_dim1=165.0000,hidden_dim2=240.0000,hidden_dim3=210.00_2022-07-26_12-03-39/checkpoint_tmpeba814/./\n",
            "\u001b[2m\u001b[36m(func pid=151414)\u001b[0m 2022-07-26 12:07:39,824\tINFO trainable.py:597 -- Current state after restoring: {'_iteration': 37, '_timesteps_total': None, '_time_total': 155.2038059234619, '_episodes_total': None}\n"
          ]
        },
        {
          "output_type": "stream",
          "name": "stdout",
          "text": [
            "Trial trainable_func_fc21eeb8 reported epoch=0,loss=0.11972853303184602,should_checkpoint=True with parameters={'act1 ': 'tanh', 'act2': 'relu', 'act3': 'relu', 'lr': 0.001, 'batch_size': 16, 'hidden_dim1': 255.0, 'hidden_dim2': 285.0, 'hidden_dim3': 180.0}.\n"
          ]
        },
        {
          "output_type": "stream",
          "name": "stderr",
          "text": [
            "\u001b[2m\u001b[36m(func pid=151479)\u001b[0m 2022-07-26 12:07:40,264\tINFO trainable.py:589 -- Restored on 172.28.0.2 from checkpoint: /root/ray_results/trainable_func_2022-07-26_12-03-38/trainable_func_fc50187e_5_act1=selu,act2=selu,act3=tanh,batch_size=8,hidden_dim1=270.0000,hidden_dim2=165.0000,hidden_dim3=285.000_2022-07-26_12-04-16/checkpoint_tmp84c711/./\n",
            "\u001b[2m\u001b[36m(func pid=151479)\u001b[0m 2022-07-26 12:07:40,264\tINFO trainable.py:597 -- Current state after restoring: {'_iteration': 10, '_timesteps_total': None, '_time_total': 78.00340008735657, '_episodes_total': None}\n",
            "\u001b[2m\u001b[36m(func pid=151453)\u001b[0m 2022-07-26 12:07:40,750\tINFO trainable.py:589 -- Restored on 172.28.0.2 from checkpoint: /root/ray_results/trainable_func_2022-07-26_12-03-38/trainable_func_fc21eeb8_3_act1=tanh,act2=relu,act3=relu,batch_size=16,hidden_dim1=255.0000,hidden_dim2=285.0000,hidden_dim3=180.00_2022-07-26_12-03-39/checkpoint_tmpf6509e/./\n",
            "\u001b[2m\u001b[36m(func pid=151453)\u001b[0m 2022-07-26 12:07:40,750\tINFO trainable.py:597 -- Current state after restoring: {'_iteration': 31, '_timesteps_total': None, '_time_total': 166.85998940467834, '_episodes_total': None}\n"
          ]
        },
        {
          "output_type": "stream",
          "name": "stdout",
          "text": [
            "Trial trainable_func_863efd20 reported epoch=2,loss=0.6882428104068781,should_checkpoint=True with parameters={'act1 ': 'selu', 'act2': 'tanh', 'act3': 'selu', 'lr': 0.0007, 'batch_size': 16, 'hidden_dim1': 300.0, 'hidden_dim2': 225.0, 'hidden_dim3': 270.0}.\n",
            "Trial trainable_func_fc0a2c74 reported epoch=0,loss=0.1377295018649293,should_checkpoint=True with parameters={'act1 ': 'tanh', 'act2': 'selu', 'act3': 'tanh', 'lr': 0.001, 'batch_size': 16, 'hidden_dim1': 165.0, 'hidden_dim2': 240.0, 'hidden_dim3': 210.0}.\n"
          ]
        },
        {
          "output_type": "stream",
          "name": "stderr",
          "text": [
            "\u001b[2m\u001b[36m(func pid=151414)\u001b[0m 2022-07-26 12:07:44,067\tINFO trainable.py:589 -- Restored on 172.28.0.2 from checkpoint: /root/ray_results/trainable_func_2022-07-26_12-03-38/trainable_func_fc0a2c74_2_act1=tanh,act2=selu,act3=tanh,batch_size=16,hidden_dim1=165.0000,hidden_dim2=240.0000,hidden_dim3=210.00_2022-07-26_12-03-39/checkpoint_tmp7b671d/./\n",
            "\u001b[2m\u001b[36m(func pid=151414)\u001b[0m 2022-07-26 12:07:44,067\tINFO trainable.py:597 -- Current state after restoring: {'_iteration': 38, '_timesteps_total': None, '_time_total': 158.87613677978516, '_episodes_total': None}\n"
          ]
        },
        {
          "output_type": "stream",
          "name": "stdout",
          "text": [
            "Trial trainable_func_fc21eeb8 reported epoch=0,loss=0.1183746432392114,should_checkpoint=True with parameters={'act1 ': 'tanh', 'act2': 'relu', 'act3': 'relu', 'lr': 0.001, 'batch_size': 16, 'hidden_dim1': 255.0, 'hidden_dim2': 285.0, 'hidden_dim3': 180.0}.\n",
            "== Status ==\n",
            "Current time: 2022-07-26 12:07:46 (running for 00:04:07.74)\n",
            "Memory usage on this node: 2.3/12.7 GiB\n",
            "Using MedianStoppingRule: num_stopped=0.\n",
            "Resources requested: 2.0/2 CPUs, 0/0 GPUs, 0.0/7.46 GiB heap, 0.0/3.73 GiB objects\n",
            "Result logdir: /root/ray_results/trainable_func_2022-07-26_12-03-38\n",
            "Number of trials: 12/50 (6 PAUSED, 4 RUNNING, 2 TERMINATED)\n",
            "\n",
            "\n"
          ]
        },
        {
          "output_type": "stream",
          "name": "stderr",
          "text": [
            "\u001b[2m\u001b[36m(func pid=151453)\u001b[0m 2022-07-26 12:07:46,754\tINFO trainable.py:589 -- Restored on 172.28.0.2 from checkpoint: /root/ray_results/trainable_func_2022-07-26_12-03-38/trainable_func_fc21eeb8_3_act1=tanh,act2=relu,act3=relu,batch_size=16,hidden_dim1=255.0000,hidden_dim2=285.0000,hidden_dim3=180.00_2022-07-26_12-03-39/checkpoint_tmpf0ceb6/./\n",
            "\u001b[2m\u001b[36m(func pid=151453)\u001b[0m 2022-07-26 12:07:46,754\tINFO trainable.py:597 -- Current state after restoring: {'_iteration': 32, '_timesteps_total': None, '_time_total': 172.25920414924622, '_episodes_total': None}\n"
          ]
        },
        {
          "output_type": "stream",
          "name": "stdout",
          "text": [
            "Trial trainable_func_fc50187e reported epoch=0,loss=0.32573622447253736,should_checkpoint=True with parameters={'act1 ': 'selu', 'act2': 'selu', 'act3': 'tanh', 'lr': 0.0006000000000000001, 'batch_size': 8, 'hidden_dim1': 270.0, 'hidden_dim2': 165.0, 'hidden_dim3': 285.0}.\n"
          ]
        },
        {
          "output_type": "stream",
          "name": "stderr",
          "text": [
            "\u001b[2m\u001b[36m(func pid=151479)\u001b[0m 2022-07-26 12:07:48,115\tINFO trainable.py:589 -- Restored on 172.28.0.2 from checkpoint: /root/ray_results/trainable_func_2022-07-26_12-03-38/trainable_func_fc50187e_5_act1=selu,act2=selu,act3=tanh,batch_size=8,hidden_dim1=270.0000,hidden_dim2=165.0000,hidden_dim3=285.000_2022-07-26_12-04-16/checkpoint_tmpbc8314/./\n",
            "\u001b[2m\u001b[36m(func pid=151479)\u001b[0m 2022-07-26 12:07:48,115\tINFO trainable.py:597 -- Current state after restoring: {'_iteration': 11, '_timesteps_total': None, '_time_total': 85.23982620239258, '_episodes_total': None}\n",
            "\u001b[2m\u001b[36m(func pid=151414)\u001b[0m 2022-07-26 12:07:48,605\tINFO trainable.py:589 -- Restored on 172.28.0.2 from checkpoint: /root/ray_results/trainable_func_2022-07-26_12-03-38/trainable_func_fc0a2c74_2_act1=tanh,act2=selu,act3=tanh,batch_size=16,hidden_dim1=165.0000,hidden_dim2=240.0000,hidden_dim3=210.00_2022-07-26_12-03-39/checkpoint_tmpa8c4d0/./\n",
            "\u001b[2m\u001b[36m(func pid=151414)\u001b[0m 2022-07-26 12:07:48,605\tINFO trainable.py:597 -- Current state after restoring: {'_iteration': 39, '_timesteps_total': None, '_time_total': 162.8089315891266, '_episodes_total': None}\n"
          ]
        },
        {
          "output_type": "stream",
          "name": "stdout",
          "text": [
            "Trial trainable_func_863efd20 reported epoch=4,loss=0.6572968078966441,should_checkpoint=True with parameters={'act1 ': 'selu', 'act2': 'tanh', 'act3': 'selu', 'lr': 0.0007, 'batch_size': 16, 'hidden_dim1': 300.0, 'hidden_dim2': 225.0, 'hidden_dim3': 270.0}.\n",
            "Trial trainable_func_fc21eeb8 reported epoch=0,loss=0.12032002618310253,should_checkpoint=True with parameters={'act1 ': 'tanh', 'act2': 'relu', 'act3': 'relu', 'lr': 0.001, 'batch_size': 16, 'hidden_dim1': 255.0, 'hidden_dim2': 285.0, 'hidden_dim3': 180.0}.\n",
            "== Status ==\n",
            "Current time: 2022-07-26 12:07:51 (running for 00:04:13.55)\n",
            "Memory usage on this node: 2.3/12.7 GiB\n",
            "Using MedianStoppingRule: num_stopped=0.\n",
            "Resources requested: 2.0/2 CPUs, 0/0 GPUs, 0.0/7.46 GiB heap, 0.0/3.73 GiB objects\n",
            "Result logdir: /root/ray_results/trainable_func_2022-07-26_12-03-38\n",
            "Number of trials: 12/50 (6 PAUSED, 4 RUNNING, 2 TERMINATED)\n",
            "\n",
            "\n"
          ]
        },
        {
          "output_type": "stream",
          "name": "stderr",
          "text": [
            "\u001b[2m\u001b[36m(func pid=151453)\u001b[0m 2022-07-26 12:07:52,609\tINFO trainable.py:589 -- Restored on 172.28.0.2 from checkpoint: /root/ray_results/trainable_func_2022-07-26_12-03-38/trainable_func_fc21eeb8_3_act1=tanh,act2=relu,act3=relu,batch_size=16,hidden_dim1=255.0000,hidden_dim2=285.0000,hidden_dim3=180.00_2022-07-26_12-03-39/checkpoint_tmp7e5701/./\n",
            "\u001b[2m\u001b[36m(func pid=151453)\u001b[0m 2022-07-26 12:07:52,610\tINFO trainable.py:597 -- Current state after restoring: {'_iteration': 33, '_timesteps_total': None, '_time_total': 177.46298217773438, '_episodes_total': None}\n"
          ]
        },
        {
          "output_type": "stream",
          "name": "stdout",
          "text": [
            "Trial trainable_func_fc0a2c74 reported epoch=0,loss=0.13000493650870745,should_checkpoint=True with parameters={'act1 ': 'tanh', 'act2': 'selu', 'act3': 'tanh', 'lr': 0.001, 'batch_size': 16, 'hidden_dim1': 165.0, 'hidden_dim2': 240.0, 'hidden_dim3': 210.0}.\n"
          ]
        },
        {
          "output_type": "stream",
          "name": "stderr",
          "text": [
            "\u001b[2m\u001b[36m(func pid=151414)\u001b[0m 2022-07-26 12:07:53,302\tINFO trainable.py:589 -- Restored on 172.28.0.2 from checkpoint: /root/ray_results/trainable_func_2022-07-26_12-03-38/trainable_func_fc0a2c74_2_act1=tanh,act2=selu,act3=tanh,batch_size=16,hidden_dim1=165.0000,hidden_dim2=240.0000,hidden_dim3=210.00_2022-07-26_12-03-39/checkpoint_tmpa2d422/./\n",
            "\u001b[2m\u001b[36m(func pid=151414)\u001b[0m 2022-07-26 12:07:53,305\tINFO trainable.py:597 -- Current state after restoring: {'_iteration': 40, '_timesteps_total': None, '_time_total': 166.8908371925354, '_episodes_total': None}\n"
          ]
        },
        {
          "output_type": "stream",
          "name": "stdout",
          "text": [
            "Trial trainable_func_fc50187e reported epoch=0,loss=0.3320750241370725,should_checkpoint=True with parameters={'act1 ': 'selu', 'act2': 'selu', 'act3': 'tanh', 'lr': 0.0006000000000000001, 'batch_size': 8, 'hidden_dim1': 270.0, 'hidden_dim2': 165.0, 'hidden_dim3': 285.0}.\n"
          ]
        },
        {
          "output_type": "stream",
          "name": "stderr",
          "text": [
            "\u001b[2m\u001b[36m(func pid=151479)\u001b[0m 2022-07-26 12:07:56,276\tINFO trainable.py:589 -- Restored on 172.28.0.2 from checkpoint: /root/ray_results/trainable_func_2022-07-26_12-03-38/trainable_func_fc50187e_5_act1=selu,act2=selu,act3=tanh,batch_size=8,hidden_dim1=270.0000,hidden_dim2=165.0000,hidden_dim3=285.000_2022-07-26_12-04-16/checkpoint_tmp60b90d/./\n",
            "\u001b[2m\u001b[36m(func pid=151479)\u001b[0m 2022-07-26 12:07:56,276\tINFO trainable.py:597 -- Current state after restoring: {'_iteration': 12, '_timesteps_total': None, '_time_total': 92.82586359977722, '_episodes_total': None}\n"
          ]
        },
        {
          "output_type": "stream",
          "name": "stdout",
          "text": [
            "== Status ==\n",
            "Current time: 2022-07-26 12:07:57 (running for 00:04:19.13)\n",
            "Memory usage on this node: 2.3/12.7 GiB\n",
            "Using MedianStoppingRule: num_stopped=0.\n",
            "Resources requested: 1.5/2 CPUs, 0/0 GPUs, 0.0/7.46 GiB heap, 0.0/3.73 GiB objects\n",
            "Result logdir: /root/ray_results/trainable_func_2022-07-26_12-03-38\n",
            "Number of trials: 12/50 (7 PAUSED, 3 RUNNING, 2 TERMINATED)\n",
            "\n",
            "\n"
          ]
        },
        {
          "output_type": "stream",
          "name": "stderr",
          "text": [
            "\u001b[2m\u001b[36m(func pid=151414)\u001b[0m 2022-07-26 12:07:57,584\tINFO trainable.py:589 -- Restored on 172.28.0.2 from checkpoint: /root/ray_results/trainable_func_2022-07-26_12-03-38/trainable_func_fc0a2c74_2_act1=tanh,act2=selu,act3=tanh,batch_size=16,hidden_dim1=165.0000,hidden_dim2=240.0000,hidden_dim3=210.00_2022-07-26_12-03-39/checkpoint_tmpc9f35a/./\n",
            "\u001b[2m\u001b[36m(func pid=151414)\u001b[0m 2022-07-26 12:07:57,584\tINFO trainable.py:597 -- Current state after restoring: {'_iteration': 41, '_timesteps_total': None, '_time_total': 170.44129395484924, '_episodes_total': None}\n"
          ]
        },
        {
          "output_type": "stream",
          "name": "stdout",
          "text": [
            "Trial trainable_func_fc21eeb8 reported epoch=0,loss=0.1411794106107929,should_checkpoint=True with parameters={'act1 ': 'tanh', 'act2': 'relu', 'act3': 'relu', 'lr': 0.001, 'batch_size': 16, 'hidden_dim1': 255.0, 'hidden_dim2': 285.0, 'hidden_dim3': 180.0}.\n"
          ]
        },
        {
          "output_type": "stream",
          "name": "stderr",
          "text": [
            "\u001b[2m\u001b[36m(func pid=151453)\u001b[0m 2022-07-26 12:07:58,799\tINFO trainable.py:589 -- Restored on 172.28.0.2 from checkpoint: /root/ray_results/trainable_func_2022-07-26_12-03-38/trainable_func_fc21eeb8_3_act1=tanh,act2=relu,act3=relu,batch_size=16,hidden_dim1=255.0000,hidden_dim2=285.0000,hidden_dim3=180.00_2022-07-26_12-03-39/checkpoint_tmp24ef54/./\n",
            "\u001b[2m\u001b[36m(func pid=151453)\u001b[0m 2022-07-26 12:07:58,802\tINFO trainable.py:597 -- Current state after restoring: {'_iteration': 34, '_timesteps_total': None, '_time_total': 182.95547032356262, '_episodes_total': None}\n"
          ]
        },
        {
          "output_type": "stream",
          "name": "stdout",
          "text": [
            "Trial trainable_func_863efd20 reported epoch=6,loss=0.6344742661207816,should_checkpoint=True with parameters={'act1 ': 'selu', 'act2': 'tanh', 'act3': 'selu', 'lr': 0.0007, 'batch_size': 16, 'hidden_dim1': 300.0, 'hidden_dim2': 225.0, 'hidden_dim3': 270.0}.\n",
            "Trial trainable_func_fc0a2c74 reported epoch=0,loss=0.10832131803717134,should_checkpoint=True with parameters={'act1 ': 'tanh', 'act2': 'selu', 'act3': 'tanh', 'lr': 0.001, 'batch_size': 16, 'hidden_dim1': 165.0, 'hidden_dim2': 240.0, 'hidden_dim3': 210.0}.\n"
          ]
        },
        {
          "output_type": "stream",
          "name": "stderr",
          "text": [
            "\u001b[2m\u001b[36m(func pid=151414)\u001b[0m 2022-07-26 12:08:01,991\tINFO trainable.py:589 -- Restored on 172.28.0.2 from checkpoint: /root/ray_results/trainable_func_2022-07-26_12-03-38/trainable_func_fc0a2c74_2_act1=tanh,act2=selu,act3=tanh,batch_size=16,hidden_dim1=165.0000,hidden_dim2=240.0000,hidden_dim3=210.00_2022-07-26_12-03-39/checkpoint_tmp4764e2/./\n",
            "\u001b[2m\u001b[36m(func pid=151414)\u001b[0m 2022-07-26 12:08:01,991\tINFO trainable.py:597 -- Current state after restoring: {'_iteration': 42, '_timesteps_total': None, '_time_total': 174.2452199459076, '_episodes_total': None}\n"
          ]
        },
        {
          "output_type": "stream",
          "name": "stdout",
          "text": [
            "Trial trainable_func_fc50187e reported epoch=0,loss=0.30051883302991067,should_checkpoint=True with parameters={'act1 ': 'selu', 'act2': 'selu', 'act3': 'tanh', 'lr': 0.0006000000000000001, 'batch_size': 8, 'hidden_dim1': 270.0, 'hidden_dim2': 165.0, 'hidden_dim3': 285.0}.\n",
            "== Status ==\n",
            "Current time: 2022-07-26 12:08:03 (running for 00:04:24.87)\n",
            "Memory usage on this node: 2.3/12.7 GiB\n",
            "Using MedianStoppingRule: num_stopped=0.\n",
            "Resources requested: 2.0/2 CPUs, 0/0 GPUs, 0.0/7.46 GiB heap, 0.0/3.73 GiB objects\n",
            "Result logdir: /root/ray_results/trainable_func_2022-07-26_12-03-38\n",
            "Number of trials: 12/50 (6 PAUSED, 4 RUNNING, 2 TERMINATED)\n",
            "\n",
            "\n"
          ]
        },
        {
          "output_type": "stream",
          "name": "stderr",
          "text": [
            "\u001b[2m\u001b[36m(func pid=151479)\u001b[0m 2022-07-26 12:08:03,936\tINFO trainable.py:589 -- Restored on 172.28.0.2 from checkpoint: /root/ray_results/trainable_func_2022-07-26_12-03-38/trainable_func_fc50187e_5_act1=selu,act2=selu,act3=tanh,batch_size=8,hidden_dim1=270.0000,hidden_dim2=165.0000,hidden_dim3=285.000_2022-07-26_12-04-16/checkpoint_tmpb8264a/./\n",
            "\u001b[2m\u001b[36m(func pid=151479)\u001b[0m 2022-07-26 12:08:03,936\tINFO trainable.py:597 -- Current state after restoring: {'_iteration': 13, '_timesteps_total': None, '_time_total': 99.83313059806824, '_episodes_total': None}\n"
          ]
        },
        {
          "output_type": "stream",
          "name": "stdout",
          "text": [
            "Trial trainable_func_fc21eeb8 reported epoch=0,loss=0.12418955912352106,should_checkpoint=True with parameters={'act1 ': 'tanh', 'act2': 'relu', 'act3': 'relu', 'lr': 0.001, 'batch_size': 16, 'hidden_dim1': 255.0, 'hidden_dim2': 285.0, 'hidden_dim3': 180.0}.\n"
          ]
        },
        {
          "output_type": "stream",
          "name": "stderr",
          "text": [
            "\u001b[2m\u001b[36m(func pid=151453)\u001b[0m 2022-07-26 12:08:04,731\tINFO trainable.py:589 -- Restored on 172.28.0.2 from checkpoint: /root/ray_results/trainable_func_2022-07-26_12-03-38/trainable_func_fc21eeb8_3_act1=tanh,act2=relu,act3=relu,batch_size=16,hidden_dim1=255.0000,hidden_dim2=285.0000,hidden_dim3=180.00_2022-07-26_12-03-39/checkpoint_tmpc2da02/./\n",
            "\u001b[2m\u001b[36m(func pid=151453)\u001b[0m 2022-07-26 12:08:04,731\tINFO trainable.py:597 -- Current state after restoring: {'_iteration': 35, '_timesteps_total': None, '_time_total': 188.2351176738739, '_episodes_total': None}\n",
            "\u001b[2m\u001b[36m(func pid=151414)\u001b[0m 2022-07-26 12:08:06,174\tINFO trainable.py:589 -- Restored on 172.28.0.2 from checkpoint: /root/ray_results/trainable_func_2022-07-26_12-03-38/trainable_func_fc0a2c74_2_act1=tanh,act2=selu,act3=tanh,batch_size=16,hidden_dim1=165.0000,hidden_dim2=240.0000,hidden_dim3=210.00_2022-07-26_12-03-39/checkpoint_tmp89705a/./\n",
            "\u001b[2m\u001b[36m(func pid=151414)\u001b[0m 2022-07-26 12:08:06,175\tINFO trainable.py:597 -- Current state after restoring: {'_iteration': 43, '_timesteps_total': None, '_time_total': 177.87144494056702, '_episodes_total': None}\n"
          ]
        },
        {
          "output_type": "stream",
          "name": "stdout",
          "text": [
            "Trial trainable_func_863efd20 reported epoch=8,loss=0.6740663494937135,should_checkpoint=True with parameters={'act1 ': 'selu', 'act2': 'tanh', 'act3': 'selu', 'lr': 0.0007, 'batch_size': 16, 'hidden_dim1': 300.0, 'hidden_dim2': 225.0, 'hidden_dim3': 270.0}.\n",
            "== Status ==\n",
            "Current time: 2022-07-26 12:08:08 (running for 00:04:30.55)\n",
            "Memory usage on this node: 2.3/12.7 GiB\n",
            "Using MedianStoppingRule: num_stopped=0.\n",
            "Resources requested: 2.0/2 CPUs, 0/0 GPUs, 0.0/7.46 GiB heap, 0.0/3.73 GiB objects\n",
            "Result logdir: /root/ray_results/trainable_func_2022-07-26_12-03-38\n",
            "Number of trials: 12/50 (6 PAUSED, 4 RUNNING, 2 TERMINATED)\n",
            "\n",
            "\n",
            "Trial trainable_func_fc0a2c74 reported epoch=0,loss=0.12272403494437685,should_checkpoint=True with parameters={'act1 ': 'tanh', 'act2': 'selu', 'act3': 'tanh', 'lr': 0.001, 'batch_size': 16, 'hidden_dim1': 165.0, 'hidden_dim2': 240.0, 'hidden_dim3': 210.0}.\n",
            "Trial trainable_func_fc21eeb8 reported epoch=0,loss=0.1550062619562917,should_checkpoint=True with parameters={'act1 ': 'tanh', 'act2': 'relu', 'act3': 'relu', 'lr': 0.001, 'batch_size': 16, 'hidden_dim1': 255.0, 'hidden_dim2': 285.0, 'hidden_dim3': 180.0}.\n"
          ]
        },
        {
          "output_type": "stream",
          "name": "stderr",
          "text": [
            "\u001b[2m\u001b[36m(func pid=151414)\u001b[0m 2022-07-26 12:08:10,482\tINFO trainable.py:589 -- Restored on 172.28.0.2 from checkpoint: /root/ray_results/trainable_func_2022-07-26_12-03-38/trainable_func_fc0a2c74_2_act1=tanh,act2=selu,act3=tanh,batch_size=16,hidden_dim1=165.0000,hidden_dim2=240.0000,hidden_dim3=210.00_2022-07-26_12-03-39/checkpoint_tmp0c9863/./\n",
            "\u001b[2m\u001b[36m(func pid=151414)\u001b[0m 2022-07-26 12:08:10,483\tINFO trainable.py:597 -- Current state after restoring: {'_iteration': 44, '_timesteps_total': None, '_time_total': 181.64200830459595, '_episodes_total': None}\n"
          ]
        },
        {
          "output_type": "stream",
          "name": "stdout",
          "text": [
            "Trial trainable_func_fc50187e reported epoch=0,loss=0.2777920102819001,should_checkpoint=True with parameters={'act1 ': 'selu', 'act2': 'selu', 'act3': 'tanh', 'lr': 0.0006000000000000001, 'batch_size': 8, 'hidden_dim1': 270.0, 'hidden_dim2': 165.0, 'hidden_dim3': 285.0}.\n"
          ]
        },
        {
          "output_type": "stream",
          "name": "stderr",
          "text": [
            "\u001b[2m\u001b[36m(func pid=151453)\u001b[0m 2022-07-26 12:08:11,110\tINFO trainable.py:589 -- Restored on 172.28.0.2 from checkpoint: /root/ray_results/trainable_func_2022-07-26_12-03-38/trainable_func_fc21eeb8_3_act1=tanh,act2=relu,act3=relu,batch_size=16,hidden_dim1=255.0000,hidden_dim2=285.0000,hidden_dim3=180.00_2022-07-26_12-03-39/checkpoint_tmpd7b3f7/./\n",
            "\u001b[2m\u001b[36m(func pid=151453)\u001b[0m 2022-07-26 12:08:11,110\tINFO trainable.py:597 -- Current state after restoring: {'_iteration': 36, '_timesteps_total': None, '_time_total': 193.9247944355011, '_episodes_total': None}\n",
            "\u001b[2m\u001b[36m(func pid=151479)\u001b[0m 2022-07-26 12:08:11,753\tINFO trainable.py:589 -- Restored on 172.28.0.2 from checkpoint: /root/ray_results/trainable_func_2022-07-26_12-03-38/trainable_func_fc50187e_5_act1=selu,act2=selu,act3=tanh,batch_size=8,hidden_dim1=270.0000,hidden_dim2=165.0000,hidden_dim3=285.000_2022-07-26_12-04-16/checkpoint_tmpc378c6/./\n",
            "\u001b[2m\u001b[36m(func pid=151479)\u001b[0m 2022-07-26 12:08:11,753\tINFO trainable.py:597 -- Current state after restoring: {'_iteration': 14, '_timesteps_total': None, '_time_total': 106.84487509727478, '_episodes_total': None}\n"
          ]
        },
        {
          "output_type": "stream",
          "name": "stdout",
          "text": [
            "== Status ==\n",
            "Current time: 2022-07-26 12:08:14 (running for 00:04:35.73)\n",
            "Memory usage on this node: 2.3/12.7 GiB\n",
            "Using MedianStoppingRule: num_stopped=0.\n",
            "Resources requested: 2.0/2 CPUs, 0/0 GPUs, 0.0/7.46 GiB heap, 0.0/3.73 GiB objects\n",
            "Result logdir: /root/ray_results/trainable_func_2022-07-26_12-03-38\n",
            "Number of trials: 12/50 (6 PAUSED, 4 RUNNING, 2 TERMINATED)\n",
            "\n",
            "\n"
          ]
        },
        {
          "output_type": "stream",
          "name": "stderr",
          "text": [
            "\u001b[2m\u001b[36m(func pid=151414)\u001b[0m 2022-07-26 12:08:14,886\tINFO trainable.py:589 -- Restored on 172.28.0.2 from checkpoint: /root/ray_results/trainable_func_2022-07-26_12-03-38/trainable_func_fc0a2c74_2_act1=tanh,act2=selu,act3=tanh,batch_size=16,hidden_dim1=165.0000,hidden_dim2=240.0000,hidden_dim3=210.00_2022-07-26_12-03-39/checkpoint_tmp8cfa95/./\n",
            "\u001b[2m\u001b[36m(func pid=151414)\u001b[0m 2022-07-26 12:08:14,887\tINFO trainable.py:597 -- Current state after restoring: {'_iteration': 45, '_timesteps_total': None, '_time_total': 185.29814887046814, '_episodes_total': None}\n"
          ]
        },
        {
          "output_type": "stream",
          "name": "stdout",
          "text": [
            "Trial trainable_func_fc21eeb8 reported epoch=0,loss=0.14053668476841666,should_checkpoint=True with parameters={'act1 ': 'tanh', 'act2': 'relu', 'act3': 'relu', 'lr': 0.001, 'batch_size': 16, 'hidden_dim1': 255.0, 'hidden_dim2': 285.0, 'hidden_dim3': 180.0}.\n"
          ]
        },
        {
          "output_type": "stream",
          "name": "stderr",
          "text": [
            "\u001b[2m\u001b[36m(func pid=151453)\u001b[0m 2022-07-26 12:08:17,216\tINFO trainable.py:589 -- Restored on 172.28.0.2 from checkpoint: /root/ray_results/trainable_func_2022-07-26_12-03-38/trainable_func_fc21eeb8_3_act1=tanh,act2=relu,act3=relu,batch_size=16,hidden_dim1=255.0000,hidden_dim2=285.0000,hidden_dim3=180.00_2022-07-26_12-03-39/checkpoint_tmpc1574d/./\n",
            "\u001b[2m\u001b[36m(func pid=151453)\u001b[0m 2022-07-26 12:08:17,216\tINFO trainable.py:597 -- Current state after restoring: {'_iteration': 37, '_timesteps_total': None, '_time_total': 199.4630696773529, '_episodes_total': None}\n"
          ]
        },
        {
          "output_type": "stream",
          "name": "stdout",
          "text": [
            "Trial trainable_func_863efd20 reported epoch=10,loss=0.5389818977056949,should_checkpoint=True with parameters={'act1 ': 'selu', 'act2': 'tanh', 'act3': 'selu', 'lr': 0.0007, 'batch_size': 16, 'hidden_dim1': 300.0, 'hidden_dim2': 225.0, 'hidden_dim3': 270.0}.\n",
            "Trial trainable_func_fc0a2c74 reported epoch=0,loss=0.15270640148538536,should_checkpoint=True with parameters={'act1 ': 'tanh', 'act2': 'selu', 'act3': 'tanh', 'lr': 0.001, 'batch_size': 16, 'hidden_dim1': 165.0, 'hidden_dim2': 240.0, 'hidden_dim3': 210.0}.\n"
          ]
        },
        {
          "output_type": "stream",
          "name": "stderr",
          "text": [
            "\u001b[2m\u001b[36m(func pid=151415)\u001b[0m 2022-07-26 12:08:18,482\tINFO trainable.py:589 -- Restored on 172.28.0.2 from checkpoint: /root/ray_results/trainable_func_2022-07-26_12-03-38/trainable_func_12a411ac_6_act1=tanh,act2=tanh,act3=selu,batch_size=32,hidden_dim1=180.0000,hidden_dim2=270.0000,hidden_dim3=195.00_2022-07-26_12-04-22/checkpoint_tmp218828/./\n",
            "\u001b[2m\u001b[36m(func pid=151415)\u001b[0m 2022-07-26 12:08:18,483\tINFO trainable.py:597 -- Current state after restoring: {'_iteration': 10, '_timesteps_total': None, '_time_total': 23.577406883239746, '_episodes_total': None}\n",
            "\u001b[2m\u001b[36m(func pid=151414)\u001b[0m 2022-07-26 12:08:19,016\tINFO trainable.py:589 -- Restored on 172.28.0.2 from checkpoint: /root/ray_results/trainable_func_2022-07-26_12-03-38/trainable_func_fc0a2c74_2_act1=tanh,act2=selu,act3=tanh,batch_size=16,hidden_dim1=165.0000,hidden_dim2=240.0000,hidden_dim3=210.00_2022-07-26_12-03-39/checkpoint_tmp6b4b9f/./\n",
            "\u001b[2m\u001b[36m(func pid=151414)\u001b[0m 2022-07-26 12:08:19,016\tINFO trainable.py:597 -- Current state after restoring: {'_iteration': 46, '_timesteps_total': None, '_time_total': 188.7999804019928, '_episodes_total': None}\n"
          ]
        },
        {
          "output_type": "stream",
          "name": "stdout",
          "text": [
            "Trial trainable_func_fc50187e reported epoch=0,loss=0.2693557446239013,should_checkpoint=True with parameters={'act1 ': 'selu', 'act2': 'selu', 'act3': 'tanh', 'lr': 0.0006000000000000001, 'batch_size': 8, 'hidden_dim1': 270.0, 'hidden_dim2': 165.0, 'hidden_dim3': 285.0}.\n",
            "== Status ==\n",
            "Current time: 2022-07-26 12:08:19 (running for 00:04:41.10)\n",
            "Memory usage on this node: 2.3/12.7 GiB\n",
            "Using MedianStoppingRule: num_stopped=0.\n",
            "Resources requested: 1.5/2 CPUs, 0/0 GPUs, 0.0/7.46 GiB heap, 0.0/3.73 GiB objects\n",
            "Result logdir: /root/ray_results/trainable_func_2022-07-26_12-03-38\n",
            "Number of trials: 12/50 (7 PAUSED, 3 RUNNING, 2 TERMINATED)\n",
            "\n",
            "\n"
          ]
        },
        {
          "output_type": "stream",
          "name": "stderr",
          "text": [
            "\u001b[2m\u001b[36m(func pid=151479)\u001b[0m 2022-07-26 12:08:19,575\tINFO trainable.py:589 -- Restored on 172.28.0.2 from checkpoint: /root/ray_results/trainable_func_2022-07-26_12-03-38/trainable_func_fc50187e_5_act1=selu,act2=selu,act3=tanh,batch_size=8,hidden_dim1=270.0000,hidden_dim2=165.0000,hidden_dim3=285.000_2022-07-26_12-04-16/checkpoint_tmp53d2af/./\n",
            "\u001b[2m\u001b[36m(func pid=151479)\u001b[0m 2022-07-26 12:08:19,575\tINFO trainable.py:597 -- Current state after restoring: {'_iteration': 15, '_timesteps_total': None, '_time_total': 114.09628033638, '_episodes_total': None}\n"
          ]
        },
        {
          "output_type": "stream",
          "name": "stdout",
          "text": [
            "Trial trainable_func_12a411ac reported epoch=0,loss=0.4616616783425312,should_checkpoint=True with parameters={'act1 ': 'tanh', 'act2': 'tanh', 'act3': 'selu', 'lr': 0.0009, 'batch_size': 32, 'hidden_dim1': 180.0, 'hidden_dim2': 270.0, 'hidden_dim3': 195.0}.\n"
          ]
        },
        {
          "output_type": "stream",
          "name": "stderr",
          "text": [
            "\u001b[2m\u001b[36m(func pid=151415)\u001b[0m 2022-07-26 12:08:21,337\tINFO trainable.py:589 -- Restored on 172.28.0.2 from checkpoint: /root/ray_results/trainable_func_2022-07-26_12-03-38/trainable_func_12a411ac_6_act1=tanh,act2=tanh,act3=selu,batch_size=32,hidden_dim1=180.0000,hidden_dim2=270.0000,hidden_dim3=195.00_2022-07-26_12-04-22/checkpoint_tmpe557c0/./\n",
            "\u001b[2m\u001b[36m(func pid=151415)\u001b[0m 2022-07-26 12:08:21,337\tINFO trainable.py:597 -- Current state after restoring: {'_iteration': 11, '_timesteps_total': None, '_time_total': 25.863722562789917, '_episodes_total': None}\n"
          ]
        },
        {
          "output_type": "stream",
          "name": "stdout",
          "text": [
            "Trial trainable_func_fc21eeb8 reported epoch=0,loss=0.09949181119514419,should_checkpoint=True with parameters={'act1 ': 'tanh', 'act2': 'relu', 'act3': 'relu', 'lr': 0.001, 'batch_size': 16, 'hidden_dim1': 255.0, 'hidden_dim2': 285.0, 'hidden_dim3': 180.0}.\n"
          ]
        },
        {
          "output_type": "stream",
          "name": "stderr",
          "text": [
            "\u001b[2m\u001b[36m(func pid=151414)\u001b[0m 2022-07-26 12:08:23,184\tINFO trainable.py:589 -- Restored on 172.28.0.2 from checkpoint: /root/ray_results/trainable_func_2022-07-26_12-03-38/trainable_func_fc0a2c74_2_act1=tanh,act2=selu,act3=tanh,batch_size=16,hidden_dim1=165.0000,hidden_dim2=240.0000,hidden_dim3=210.00_2022-07-26_12-03-39/checkpoint_tmpb11cf9/./\n",
            "\u001b[2m\u001b[36m(func pid=151414)\u001b[0m 2022-07-26 12:08:23,184\tINFO trainable.py:597 -- Current state after restoring: {'_iteration': 47, '_timesteps_total': None, '_time_total': 192.49373769760132, '_episodes_total': None}\n",
            "\u001b[2m\u001b[36m(func pid=151453)\u001b[0m 2022-07-26 12:08:23,812\tINFO trainable.py:589 -- Restored on 172.28.0.2 from checkpoint: /root/ray_results/trainable_func_2022-07-26_12-03-38/trainable_func_fc21eeb8_3_act1=tanh,act2=relu,act3=relu,batch_size=16,hidden_dim1=255.0000,hidden_dim2=285.0000,hidden_dim3=180.00_2022-07-26_12-03-39/checkpoint_tmp2557a1/./\n",
            "\u001b[2m\u001b[36m(func pid=151453)\u001b[0m 2022-07-26 12:08:23,813\tINFO trainable.py:597 -- Current state after restoring: {'_iteration': 38, '_timesteps_total': None, '_time_total': 205.00607681274414, '_episodes_total': None}\n",
            "\u001b[2m\u001b[36m(func pid=151415)\u001b[0m 2022-07-26 12:08:24,390\tINFO trainable.py:589 -- Restored on 172.28.0.2 from checkpoint: /root/ray_results/trainable_func_2022-07-26_12-03-38/trainable_func_12a411ac_6_act1=tanh,act2=tanh,act3=selu,batch_size=32,hidden_dim1=180.0000,hidden_dim2=270.0000,hidden_dim3=195.00_2022-07-26_12-04-22/checkpoint_tmpf57781/./\n",
            "\u001b[2m\u001b[36m(func pid=151415)\u001b[0m 2022-07-26 12:08:24,391\tINFO trainable.py:597 -- Current state after restoring: {'_iteration': 12, '_timesteps_total': None, '_time_total': 27.984532594680786, '_episodes_total': None}\n"
          ]
        },
        {
          "output_type": "stream",
          "name": "stdout",
          "text": [
            "Trial trainable_func_12a411ac reported epoch=0,loss=0.38734055431424186,should_checkpoint=True with parameters={'act1 ': 'tanh', 'act2': 'tanh', 'act3': 'selu', 'lr': 0.0009, 'batch_size': 32, 'hidden_dim1': 180.0, 'hidden_dim2': 270.0, 'hidden_dim3': 195.0}.\n",
            "== Status ==\n",
            "Current time: 2022-07-26 12:08:26 (running for 00:04:47.97)\n",
            "Memory usage on this node: 2.3/12.7 GiB\n",
            "Using MedianStoppingRule: num_stopped=0.\n",
            "Resources requested: 2.0/2 CPUs, 0/0 GPUs, 0.0/7.46 GiB heap, 0.0/3.73 GiB objects\n",
            "Result logdir: /root/ray_results/trainable_func_2022-07-26_12-03-38\n",
            "Number of trials: 12/50 (6 PAUSED, 4 RUNNING, 2 TERMINATED)\n",
            "\n",
            "\n",
            "Trial trainable_func_fc0a2c74 reported epoch=0,loss=0.10841061115904378,should_checkpoint=True with parameters={'act1 ': 'tanh', 'act2': 'selu', 'act3': 'tanh', 'lr': 0.001, 'batch_size': 16, 'hidden_dim1': 165.0, 'hidden_dim2': 240.0, 'hidden_dim3': 210.0}.\n"
          ]
        },
        {
          "output_type": "stream",
          "name": "stderr",
          "text": [
            "\u001b[2m\u001b[36m(func pid=151415)\u001b[0m 2022-07-26 12:08:26,823\tINFO trainable.py:589 -- Restored on 172.28.0.2 from checkpoint: /root/ray_results/trainable_func_2022-07-26_12-03-38/trainable_func_12a411ac_6_act1=tanh,act2=tanh,act3=selu,batch_size=32,hidden_dim1=180.0000,hidden_dim2=270.0000,hidden_dim3=195.00_2022-07-26_12-04-22/checkpoint_tmp4f7abd/./\n",
            "\u001b[2m\u001b[36m(func pid=151415)\u001b[0m 2022-07-26 12:08:26,823\tINFO trainable.py:597 -- Current state after restoring: {'_iteration': 13, '_timesteps_total': None, '_time_total': 29.969438314437866, '_episodes_total': None}\n"
          ]
        },
        {
          "output_type": "stream",
          "name": "stdout",
          "text": [
            "Trial trainable_func_fc50187e reported epoch=0,loss=0.2916854730977415,should_checkpoint=True with parameters={'act1 ': 'selu', 'act2': 'selu', 'act3': 'tanh', 'lr': 0.0006000000000000001, 'batch_size': 8, 'hidden_dim1': 270.0, 'hidden_dim2': 165.0, 'hidden_dim3': 285.0}.\n"
          ]
        },
        {
          "output_type": "stream",
          "name": "stderr",
          "text": [
            "\u001b[2m\u001b[36m(func pid=151414)\u001b[0m 2022-07-26 12:08:27,362\tINFO trainable.py:589 -- Restored on 172.28.0.2 from checkpoint: /root/ray_results/trainable_func_2022-07-26_12-03-38/trainable_func_fc0a2c74_2_act1=tanh,act2=selu,act3=tanh,batch_size=16,hidden_dim1=165.0000,hidden_dim2=240.0000,hidden_dim3=210.00_2022-07-26_12-03-39/checkpoint_tmp67eaf7/./\n",
            "\u001b[2m\u001b[36m(func pid=151414)\u001b[0m 2022-07-26 12:08:27,362\tINFO trainable.py:597 -- Current state after restoring: {'_iteration': 48, '_timesteps_total': None, '_time_total': 195.83191680908203, '_episodes_total': None}\n",
            "\u001b[2m\u001b[36m(func pid=151479)\u001b[0m 2022-07-26 12:08:27,979\tINFO trainable.py:589 -- Restored on 172.28.0.2 from checkpoint: /root/ray_results/trainable_func_2022-07-26_12-03-38/trainable_func_fc50187e_5_act1=selu,act2=selu,act3=tanh,batch_size=8,hidden_dim1=270.0000,hidden_dim2=165.0000,hidden_dim3=285.000_2022-07-26_12-04-16/checkpoint_tmp23d865/./\n",
            "\u001b[2m\u001b[36m(func pid=151479)\u001b[0m 2022-07-26 12:08:27,979\tINFO trainable.py:597 -- Current state after restoring: {'_iteration': 16, '_timesteps_total': None, '_time_total': 121.78640103340149, '_episodes_total': None}\n"
          ]
        },
        {
          "output_type": "stream",
          "name": "stdout",
          "text": [
            "Trial trainable_func_fc21eeb8 reported epoch=0,loss=0.1199006713000774,should_checkpoint=True with parameters={'act1 ': 'tanh', 'act2': 'relu', 'act3': 'relu', 'lr': 0.001, 'batch_size': 16, 'hidden_dim1': 255.0, 'hidden_dim2': 285.0, 'hidden_dim3': 180.0}.\n"
          ]
        },
        {
          "output_type": "stream",
          "name": "stderr",
          "text": [
            "\u001b[2m\u001b[36m(func pid=151415)\u001b[0m 2022-07-26 12:08:29,331\tINFO trainable.py:589 -- Restored on 172.28.0.2 from checkpoint: /root/ray_results/trainable_func_2022-07-26_12-03-38/trainable_func_12a411ac_6_act1=tanh,act2=tanh,act3=selu,batch_size=32,hidden_dim1=180.0000,hidden_dim2=270.0000,hidden_dim3=195.00_2022-07-26_12-04-22/checkpoint_tmpf6863d/./\n",
            "\u001b[2m\u001b[36m(func pid=151415)\u001b[0m 2022-07-26 12:08:29,331\tINFO trainable.py:597 -- Current state after restoring: {'_iteration': 14, '_timesteps_total': None, '_time_total': 32.17428159713745, '_episodes_total': None}\n",
            "\u001b[2m\u001b[36m(func pid=151453)\u001b[0m 2022-07-26 12:08:29,737\tINFO trainable.py:589 -- Restored on 172.28.0.2 from checkpoint: /root/ray_results/trainable_func_2022-07-26_12-03-38/trainable_func_fc21eeb8_3_act1=tanh,act2=relu,act3=relu,batch_size=16,hidden_dim1=255.0000,hidden_dim2=285.0000,hidden_dim3=180.00_2022-07-26_12-03-39/checkpoint_tmp748e02/./\n",
            "\u001b[2m\u001b[36m(func pid=151453)\u001b[0m 2022-07-26 12:08:29,738\tINFO trainable.py:597 -- Current state after restoring: {'_iteration': 39, '_timesteps_total': None, '_time_total': 210.34673428535461, '_episodes_total': None}\n"
          ]
        },
        {
          "output_type": "stream",
          "name": "stdout",
          "text": [
            "== Status ==\n",
            "Current time: 2022-07-26 12:08:31 (running for 00:04:53.13)\n",
            "Memory usage on this node: 2.3/12.7 GiB\n",
            "Using MedianStoppingRule: num_stopped=0.\n",
            "Resources requested: 1.5/2 CPUs, 0/0 GPUs, 0.0/7.46 GiB heap, 0.0/3.73 GiB objects\n",
            "Result logdir: /root/ray_results/trainable_func_2022-07-26_12-03-38\n",
            "Number of trials: 12/50 (7 PAUSED, 3 RUNNING, 2 TERMINATED)\n",
            "\n",
            "\n",
            "Trial trainable_func_12a411ac reported epoch=0,loss=0.2747735423660371,should_checkpoint=True with parameters={'act1 ': 'tanh', 'act2': 'tanh', 'act3': 'selu', 'lr': 0.0009, 'batch_size': 32, 'hidden_dim1': 180.0, 'hidden_dim2': 270.0, 'hidden_dim3': 195.0}.\n"
          ]
        },
        {
          "output_type": "stream",
          "name": "stderr",
          "text": [
            "\u001b[2m\u001b[36m(func pid=151414)\u001b[0m 2022-07-26 12:08:31,596\tINFO trainable.py:589 -- Restored on 172.28.0.2 from checkpoint: /root/ray_results/trainable_func_2022-07-26_12-03-38/trainable_func_fc0a2c74_2_act1=tanh,act2=selu,act3=tanh,batch_size=16,hidden_dim1=165.0000,hidden_dim2=240.0000,hidden_dim3=210.00_2022-07-26_12-03-39/checkpoint_tmp9f150a/./\n",
            "\u001b[2m\u001b[36m(func pid=151414)\u001b[0m 2022-07-26 12:08:31,597\tINFO trainable.py:597 -- Current state after restoring: {'_iteration': 49, '_timesteps_total': None, '_time_total': 199.55776238441467, '_episodes_total': None}\n",
            "\u001b[2m\u001b[36m(func pid=151415)\u001b[0m 2022-07-26 12:08:32,335\tINFO trainable.py:589 -- Restored on 172.28.0.2 from checkpoint: /root/ray_results/trainable_func_2022-07-26_12-03-38/trainable_func_12a411ac_6_act1=tanh,act2=tanh,act3=selu,batch_size=32,hidden_dim1=180.0000,hidden_dim2=270.0000,hidden_dim3=195.00_2022-07-26_12-04-22/checkpoint_tmp54675b/./\n",
            "\u001b[2m\u001b[36m(func pid=151415)\u001b[0m 2022-07-26 12:08:32,336\tINFO trainable.py:597 -- Current state after restoring: {'_iteration': 15, '_timesteps_total': None, '_time_total': 34.57736539840698, '_episodes_total': None}\n"
          ]
        },
        {
          "output_type": "stream",
          "name": "stdout",
          "text": [
            "Trial trainable_func_fc21eeb8 reported epoch=0,loss=0.09616542266126733,should_checkpoint=True with parameters={'act1 ': 'tanh', 'act2': 'relu', 'act3': 'relu', 'lr': 0.001, 'batch_size': 16, 'hidden_dim1': 255.0, 'hidden_dim2': 285.0, 'hidden_dim3': 180.0}.\n"
          ]
        },
        {
          "output_type": "stream",
          "name": "stderr",
          "text": [
            "\u001b[2m\u001b[36m(func pid=151415)\u001b[0m 2022-07-26 12:08:35,186\tINFO trainable.py:589 -- Restored on 172.28.0.2 from checkpoint: /root/ray_results/trainable_func_2022-07-26_12-03-38/trainable_func_12a411ac_6_act1=tanh,act2=tanh,act3=selu,batch_size=32,hidden_dim1=180.0000,hidden_dim2=270.0000,hidden_dim3=195.00_2022-07-26_12-04-22/checkpoint_tmpd35a76/./\n",
            "\u001b[2m\u001b[36m(func pid=151415)\u001b[0m 2022-07-26 12:08:35,186\tINFO trainable.py:597 -- Current state after restoring: {'_iteration': 16, '_timesteps_total': None, '_time_total': 36.72079396247864, '_episodes_total': None}\n",
            "\u001b[2m\u001b[36m(func pid=151453)\u001b[0m 2022-07-26 12:08:35,555\tINFO trainable.py:589 -- Restored on 172.28.0.2 from checkpoint: /root/ray_results/trainable_func_2022-07-26_12-03-38/trainable_func_fc21eeb8_3_act1=tanh,act2=relu,act3=relu,batch_size=16,hidden_dim1=255.0000,hidden_dim2=285.0000,hidden_dim3=180.00_2022-07-26_12-03-39/checkpoint_tmpe96395/./\n",
            "\u001b[2m\u001b[36m(func pid=151453)\u001b[0m 2022-07-26 12:08:35,555\tINFO trainable.py:597 -- Current state after restoring: {'_iteration': 40, '_timesteps_total': None, '_time_total': 215.74777221679688, '_episodes_total': None}\n"
          ]
        },
        {
          "output_type": "stream",
          "name": "stdout",
          "text": [
            "Trial trainable_func_fc0a2c74 reported epoch=0,loss=0.09443767318399082,should_checkpoint=True with parameters={'act1 ': 'tanh', 'act2': 'selu', 'act3': 'tanh', 'lr': 0.001, 'batch_size': 16, 'hidden_dim1': 165.0, 'hidden_dim2': 240.0, 'hidden_dim3': 210.0}. This trial completed.\n",
            "Trial trainable_func_fc50187e reported epoch=0,loss=0.2869629437507059,should_checkpoint=True with parameters={'act1 ': 'selu', 'act2': 'selu', 'act3': 'tanh', 'lr': 0.0006000000000000001, 'batch_size': 8, 'hidden_dim1': 270.0, 'hidden_dim2': 165.0, 'hidden_dim3': 285.0}.\n"
          ]
        },
        {
          "output_type": "stream",
          "name": "stderr",
          "text": [
            "\u001b[2m\u001b[36m(func pid=151479)\u001b[0m 2022-07-26 12:08:36,277\tINFO trainable.py:589 -- Restored on 172.28.0.2 from checkpoint: /root/ray_results/trainable_func_2022-07-26_12-03-38/trainable_func_fc50187e_5_act1=selu,act2=selu,act3=tanh,batch_size=8,hidden_dim1=270.0000,hidden_dim2=165.0000,hidden_dim3=285.000_2022-07-26_12-04-16/checkpoint_tmp261084/./\n",
            "\u001b[2m\u001b[36m(func pid=151479)\u001b[0m 2022-07-26 12:08:36,277\tINFO trainable.py:597 -- Current state after restoring: {'_iteration': 17, '_timesteps_total': None, '_time_total': 129.3489751815796, '_episodes_total': None}\n"
          ]
        },
        {
          "output_type": "stream",
          "name": "stdout",
          "text": [
            "Trial trainable_func_acd98d1a reported epoch=0,loss=1.1851143221240368,should_checkpoint=True with parameters={'act1 ': 'tanh', 'act2': 'tanh', 'act3': 'selu', 'lr': 0.0007, 'batch_size': 64, 'hidden_dim1': 210.0, 'hidden_dim2': 210.0, 'hidden_dim3': 330.0}.\n",
            "== Status ==\n",
            "Current time: 2022-07-26 12:08:36 (running for 00:04:58.56)\n",
            "Memory usage on this node: 2.3/12.7 GiB\n",
            "Using MedianStoppingRule: num_stopped=0.\n",
            "Resources requested: 2.0/2 CPUs, 0/0 GPUs, 0.0/7.46 GiB heap, 0.0/3.73 GiB objects\n",
            "Result logdir: /root/ray_results/trainable_func_2022-07-26_12-03-38\n",
            "Number of trials: 13/50 (6 PAUSED, 4 RUNNING, 3 TERMINATED)\n",
            "\n",
            "\n",
            "Trial trainable_func_12a411ac reported epoch=0,loss=0.24800393783549599,should_checkpoint=True with parameters={'act1 ': 'tanh', 'act2': 'tanh', 'act3': 'selu', 'lr': 0.0009, 'batch_size': 32, 'hidden_dim1': 180.0, 'hidden_dim2': 270.0, 'hidden_dim3': 195.0}.\n"
          ]
        },
        {
          "output_type": "stream",
          "name": "stderr",
          "text": [
            "\u001b[2m\u001b[36m(func pid=151415)\u001b[0m 2022-07-26 12:08:38,108\tINFO trainable.py:589 -- Restored on 172.28.0.2 from checkpoint: /root/ray_results/trainable_func_2022-07-26_12-03-38/trainable_func_12a411ac_6_act1=tanh,act2=tanh,act3=selu,batch_size=32,hidden_dim1=180.0000,hidden_dim2=270.0000,hidden_dim3=195.00_2022-07-26_12-04-22/checkpoint_tmpc0a3a9/./\n",
            "\u001b[2m\u001b[36m(func pid=151415)\u001b[0m 2022-07-26 12:08:38,112\tINFO trainable.py:597 -- Current state after restoring: {'_iteration': 17, '_timesteps_total': None, '_time_total': 39.00532507896423, '_episodes_total': None}\n"
          ]
        },
        {
          "output_type": "stream",
          "name": "stdout",
          "text": [
            "Trial trainable_func_fc21eeb8 reported epoch=0,loss=0.09128438342346765,should_checkpoint=True with parameters={'act1 ': 'tanh', 'act2': 'relu', 'act3': 'relu', 'lr': 0.001, 'batch_size': 16, 'hidden_dim1': 255.0, 'hidden_dim2': 285.0, 'hidden_dim3': 180.0}.\n"
          ]
        },
        {
          "output_type": "stream",
          "name": "stderr",
          "text": [
            "\u001b[2m\u001b[36m(func pid=151415)\u001b[0m 2022-07-26 12:08:41,065\tINFO trainable.py:589 -- Restored on 172.28.0.2 from checkpoint: /root/ray_results/trainable_func_2022-07-26_12-03-38/trainable_func_12a411ac_6_act1=tanh,act2=tanh,act3=selu,batch_size=32,hidden_dim1=180.0000,hidden_dim2=270.0000,hidden_dim3=195.00_2022-07-26_12-04-22/checkpoint_tmp194cbd/./\n",
            "\u001b[2m\u001b[36m(func pid=151415)\u001b[0m 2022-07-26 12:08:41,069\tINFO trainable.py:597 -- Current state after restoring: {'_iteration': 18, '_timesteps_total': None, '_time_total': 41.376763343811035, '_episodes_total': None}\n",
            "\u001b[2m\u001b[36m(func pid=151453)\u001b[0m 2022-07-26 12:08:41,638\tINFO trainable.py:589 -- Restored on 172.28.0.2 from checkpoint: /root/ray_results/trainable_func_2022-07-26_12-03-38/trainable_func_fc21eeb8_3_act1=tanh,act2=relu,act3=relu,batch_size=16,hidden_dim1=255.0000,hidden_dim2=285.0000,hidden_dim3=180.00_2022-07-26_12-03-39/checkpoint_tmp60c729/./\n",
            "\u001b[2m\u001b[36m(func pid=151453)\u001b[0m 2022-07-26 12:08:41,638\tINFO trainable.py:597 -- Current state after restoring: {'_iteration': 41, '_timesteps_total': None, '_time_total': 221.15742945671082, '_episodes_total': None}\n"
          ]
        },
        {
          "output_type": "stream",
          "name": "stdout",
          "text": [
            "Trial trainable_func_12a411ac reported epoch=0,loss=0.2227199383654582,should_checkpoint=True with parameters={'act1 ': 'tanh', 'act2': 'tanh', 'act3': 'selu', 'lr': 0.0009, 'batch_size': 32, 'hidden_dim1': 180.0, 'hidden_dim2': 270.0, 'hidden_dim3': 195.0}.\n",
            "== Status ==\n",
            "Current time: 2022-07-26 12:08:42 (running for 00:05:04.44)\n",
            "Memory usage on this node: 2.3/12.7 GiB\n",
            "Using MedianStoppingRule: num_stopped=0.\n",
            "Resources requested: 2.0/2 CPUs, 0/0 GPUs, 0.0/7.46 GiB heap, 0.0/3.73 GiB objects\n",
            "Result logdir: /root/ray_results/trainable_func_2022-07-26_12-03-38\n",
            "Number of trials: 13/50 (6 PAUSED, 4 RUNNING, 3 TERMINATED)\n",
            "\n",
            "\n",
            "Trial trainable_func_acd98d1a reported epoch=4,loss=0.6518127315388934,should_checkpoint=True with parameters={'act1 ': 'tanh', 'act2': 'tanh', 'act3': 'selu', 'lr': 0.0007, 'batch_size': 64, 'hidden_dim1': 210.0, 'hidden_dim2': 210.0, 'hidden_dim3': 330.0}.\n"
          ]
        },
        {
          "output_type": "stream",
          "name": "stderr",
          "text": [
            "\u001b[2m\u001b[36m(func pid=151415)\u001b[0m 2022-07-26 12:08:43,387\tINFO trainable.py:589 -- Restored on 172.28.0.2 from checkpoint: /root/ray_results/trainable_func_2022-07-26_12-03-38/trainable_func_12a411ac_6_act1=tanh,act2=tanh,act3=selu,batch_size=32,hidden_dim1=180.0000,hidden_dim2=270.0000,hidden_dim3=195.00_2022-07-26_12-04-22/checkpoint_tmpcd46be/./\n",
            "\u001b[2m\u001b[36m(func pid=151415)\u001b[0m 2022-07-26 12:08:43,388\tINFO trainable.py:597 -- Current state after restoring: {'_iteration': 19, '_timesteps_total': None, '_time_total': 43.166571378707886, '_episodes_total': None}\n"
          ]
        },
        {
          "output_type": "stream",
          "name": "stdout",
          "text": [
            "Trial trainable_func_fc50187e reported epoch=0,loss=0.23791154850059412,should_checkpoint=True with parameters={'act1 ': 'selu', 'act2': 'selu', 'act3': 'tanh', 'lr': 0.0006000000000000001, 'batch_size': 8, 'hidden_dim1': 270.0, 'hidden_dim2': 165.0, 'hidden_dim3': 285.0}.\n"
          ]
        },
        {
          "output_type": "stream",
          "name": "stderr",
          "text": [
            "\u001b[2m\u001b[36m(func pid=151479)\u001b[0m 2022-07-26 12:08:44,796\tINFO trainable.py:589 -- Restored on 172.28.0.2 from checkpoint: /root/ray_results/trainable_func_2022-07-26_12-03-38/trainable_func_fc50187e_5_act1=selu,act2=selu,act3=tanh,batch_size=8,hidden_dim1=270.0000,hidden_dim2=165.0000,hidden_dim3=285.000_2022-07-26_12-04-16/checkpoint_tmpbe6159/./\n",
            "\u001b[2m\u001b[36m(func pid=151479)\u001b[0m 2022-07-26 12:08:44,797\tINFO trainable.py:597 -- Current state after restoring: {'_iteration': 18, '_timesteps_total': None, '_time_total': 137.20427870750427, '_episodes_total': None}\n",
            "\u001b[2m\u001b[36m(func pid=151415)\u001b[0m 2022-07-26 12:08:46,326\tINFO trainable.py:589 -- Restored on 172.28.0.2 from checkpoint: /root/ray_results/trainable_func_2022-07-26_12-03-38/trainable_func_12a411ac_6_act1=tanh,act2=tanh,act3=selu,batch_size=32,hidden_dim1=180.0000,hidden_dim2=270.0000,hidden_dim3=195.00_2022-07-26_12-04-22/checkpoint_tmp1279b0/./\n",
            "\u001b[2m\u001b[36m(func pid=151415)\u001b[0m 2022-07-26 12:08:46,326\tINFO trainable.py:597 -- Current state after restoring: {'_iteration': 20, '_timesteps_total': None, '_time_total': 45.46087074279785, '_episodes_total': None}\n"
          ]
        },
        {
          "output_type": "stream",
          "name": "stdout",
          "text": [
            "Trial trainable_func_fc21eeb8 reported epoch=0,loss=0.08926583144759971,should_checkpoint=True with parameters={'act1 ': 'tanh', 'act2': 'relu', 'act3': 'relu', 'lr': 0.001, 'batch_size': 16, 'hidden_dim1': 255.0, 'hidden_dim2': 285.0, 'hidden_dim3': 180.0}.\n"
          ]
        },
        {
          "output_type": "stream",
          "name": "stderr",
          "text": [
            "\u001b[2m\u001b[36m(func pid=151453)\u001b[0m 2022-07-26 12:08:47,192\tINFO trainable.py:589 -- Restored on 172.28.0.2 from checkpoint: /root/ray_results/trainable_func_2022-07-26_12-03-38/trainable_func_fc21eeb8_3_act1=tanh,act2=relu,act3=relu,batch_size=16,hidden_dim1=255.0000,hidden_dim2=285.0000,hidden_dim3=180.00_2022-07-26_12-03-39/checkpoint_tmpb89218/./\n",
            "\u001b[2m\u001b[36m(func pid=151453)\u001b[0m 2022-07-26 12:08:47,192\tINFO trainable.py:597 -- Current state after restoring: {'_iteration': 42, '_timesteps_total': None, '_time_total': 226.1756145954132, '_episodes_total': None}\n"
          ]
        },
        {
          "output_type": "stream",
          "name": "stdout",
          "text": [
            "Trial trainable_func_12a411ac reported epoch=0,loss=0.21061989643814183,should_checkpoint=True with parameters={'act1 ': 'tanh', 'act2': 'tanh', 'act3': 'selu', 'lr': 0.0009, 'batch_size': 32, 'hidden_dim1': 180.0, 'hidden_dim2': 270.0, 'hidden_dim3': 195.0}.\n",
            "== Status ==\n",
            "Current time: 2022-07-26 12:08:48 (running for 00:05:10.23)\n",
            "Memory usage on this node: 2.3/12.7 GiB\n",
            "Using MedianStoppingRule: num_stopped=0.\n",
            "Resources requested: 2.0/2 CPUs, 0/0 GPUs, 0.0/7.46 GiB heap, 0.0/3.73 GiB objects\n",
            "Result logdir: /root/ray_results/trainable_func_2022-07-26_12-03-38\n",
            "Number of trials: 13/50 (6 PAUSED, 4 RUNNING, 3 TERMINATED)\n",
            "\n",
            "\n",
            "Trial trainable_func_acd98d1a reported epoch=8,loss=0.5938137799902188,should_checkpoint=True with parameters={'act1 ': 'tanh', 'act2': 'tanh', 'act3': 'selu', 'lr': 0.0007, 'batch_size': 64, 'hidden_dim1': 210.0, 'hidden_dim2': 210.0, 'hidden_dim3': 330.0}.\n"
          ]
        },
        {
          "output_type": "stream",
          "name": "stderr",
          "text": [
            "\u001b[2m\u001b[36m(func pid=151415)\u001b[0m 2022-07-26 12:08:49,246\tINFO trainable.py:589 -- Restored on 172.28.0.2 from checkpoint: /root/ray_results/trainable_func_2022-07-26_12-03-38/trainable_func_12a411ac_6_act1=tanh,act2=tanh,act3=selu,batch_size=32,hidden_dim1=180.0000,hidden_dim2=270.0000,hidden_dim3=195.00_2022-07-26_12-04-22/checkpoint_tmp53917e/./\n",
            "\u001b[2m\u001b[36m(func pid=151415)\u001b[0m 2022-07-26 12:08:49,246\tINFO trainable.py:597 -- Current state after restoring: {'_iteration': 21, '_timesteps_total': None, '_time_total': 47.78037190437317, '_episodes_total': None}\n"
          ]
        },
        {
          "output_type": "stream",
          "name": "stdout",
          "text": [
            "Trial trainable_func_acd98d1a reported epoch=9,loss=0.6632452932405363,should_checkpoint=True with parameters={'act1 ': 'tanh', 'act2': 'tanh', 'act3': 'selu', 'lr': 0.0007, 'batch_size': 64, 'hidden_dim1': 210.0, 'hidden_dim2': 210.0, 'hidden_dim3': 330.0}. This trial completed.\n"
          ]
        },
        {
          "output_type": "stream",
          "name": "stderr",
          "text": [
            "\u001b[2m\u001b[36m(func pid=151415)\u001b[0m 2022-07-26 12:08:51,982\tINFO trainable.py:589 -- Restored on 172.28.0.2 from checkpoint: /root/ray_results/trainable_func_2022-07-26_12-03-38/trainable_func_12a411ac_6_act1=tanh,act2=tanh,act3=selu,batch_size=32,hidden_dim1=180.0000,hidden_dim2=270.0000,hidden_dim3=195.00_2022-07-26_12-04-22/checkpoint_tmp3c4452/./\n",
            "\u001b[2m\u001b[36m(func pid=151415)\u001b[0m 2022-07-26 12:08:51,982\tINFO trainable.py:597 -- Current state after restoring: {'_iteration': 22, '_timesteps_total': None, '_time_total': 49.86697578430176, '_episodes_total': None}\n"
          ]
        },
        {
          "output_type": "stream",
          "name": "stdout",
          "text": [
            "Trial trainable_func_fc50187e reported epoch=0,loss=0.25157940869116874,should_checkpoint=True with parameters={'act1 ': 'selu', 'act2': 'selu', 'act3': 'tanh', 'lr': 0.0006000000000000001, 'batch_size': 8, 'hidden_dim1': 270.0, 'hidden_dim2': 165.0, 'hidden_dim3': 285.0}.\n",
            "Trial trainable_func_b5de167e reported epoch=0,loss=1.0043627231726497,should_checkpoint=True with parameters={'act1 ': 'selu', 'act2': 'selu', 'act3': 'selu', 'lr': 0.0007, 'batch_size': 64, 'hidden_dim1': 240.0, 'hidden_dim2': 270.0, 'hidden_dim3': 135.0}.\n"
          ]
        },
        {
          "output_type": "stream",
          "name": "stderr",
          "text": [
            "\u001b[2m\u001b[36m(func pid=151479)\u001b[0m 2022-07-26 12:08:52,561\tINFO trainable.py:589 -- Restored on 172.28.0.2 from checkpoint: /root/ray_results/trainable_func_2022-07-26_12-03-38/trainable_func_fc50187e_5_act1=selu,act2=selu,act3=tanh,batch_size=8,hidden_dim1=270.0000,hidden_dim2=165.0000,hidden_dim3=285.000_2022-07-26_12-04-16/checkpoint_tmp7ac963/./\n",
            "\u001b[2m\u001b[36m(func pid=151479)\u001b[0m 2022-07-26 12:08:52,561\tINFO trainable.py:597 -- Current state after restoring: {'_iteration': 19, '_timesteps_total': None, '_time_total': 144.531676530838, '_episodes_total': None}\n"
          ]
        },
        {
          "output_type": "stream",
          "name": "stdout",
          "text": [
            "Trial trainable_func_fc21eeb8 reported epoch=0,loss=0.11060055614636558,should_checkpoint=True with parameters={'act1 ': 'tanh', 'act2': 'relu', 'act3': 'relu', 'lr': 0.001, 'batch_size': 16, 'hidden_dim1': 255.0, 'hidden_dim2': 285.0, 'hidden_dim3': 180.0}.\n"
          ]
        },
        {
          "output_type": "stream",
          "name": "stderr",
          "text": [
            "\u001b[2m\u001b[36m(func pid=151453)\u001b[0m 2022-07-26 12:08:53,491\tINFO trainable.py:589 -- Restored on 172.28.0.2 from checkpoint: /root/ray_results/trainable_func_2022-07-26_12-03-38/trainable_func_fc21eeb8_3_act1=tanh,act2=relu,act3=relu,batch_size=16,hidden_dim1=255.0000,hidden_dim2=285.0000,hidden_dim3=180.00_2022-07-26_12-03-39/checkpoint_tmpb52087/./\n",
            "\u001b[2m\u001b[36m(func pid=151453)\u001b[0m 2022-07-26 12:08:53,491\tINFO trainable.py:597 -- Current state after restoring: {'_iteration': 43, '_timesteps_total': None, '_time_total': 231.8114471435547, '_episodes_total': None}\n"
          ]
        },
        {
          "output_type": "stream",
          "name": "stdout",
          "text": [
            "== Status ==\n",
            "Current time: 2022-07-26 12:08:53 (running for 00:05:15.44)\n",
            "Memory usage on this node: 2.3/12.7 GiB\n",
            "Using MedianStoppingRule: num_stopped=1.\n",
            "Resources requested: 2.0/2 CPUs, 0/0 GPUs, 0.0/7.46 GiB heap, 0.0/3.73 GiB objects\n",
            "Result logdir: /root/ray_results/trainable_func_2022-07-26_12-03-38\n",
            "Number of trials: 14/50 (6 PAUSED, 4 RUNNING, 4 TERMINATED)\n",
            "\n",
            "\n",
            "Trial trainable_func_12a411ac reported epoch=0,loss=0.18540583327283047,should_checkpoint=True with parameters={'act1 ': 'tanh', 'act2': 'tanh', 'act3': 'selu', 'lr': 0.0009, 'batch_size': 32, 'hidden_dim1': 180.0, 'hidden_dim2': 270.0, 'hidden_dim3': 195.0}.\n"
          ]
        },
        {
          "output_type": "stream",
          "name": "stderr",
          "text": [
            "\u001b[2m\u001b[36m(func pid=151415)\u001b[0m 2022-07-26 12:08:54,938\tINFO trainable.py:589 -- Restored on 172.28.0.2 from checkpoint: /root/ray_results/trainable_func_2022-07-26_12-03-38/trainable_func_12a411ac_6_act1=tanh,act2=tanh,act3=selu,batch_size=32,hidden_dim1=180.0000,hidden_dim2=270.0000,hidden_dim3=195.00_2022-07-26_12-04-22/checkpoint_tmpa3f040/./\n",
            "\u001b[2m\u001b[36m(func pid=151415)\u001b[0m 2022-07-26 12:08:54,938\tINFO trainable.py:597 -- Current state after restoring: {'_iteration': 23, '_timesteps_total': None, '_time_total': 52.230984687805176, '_episodes_total': None}\n"
          ]
        },
        {
          "output_type": "stream",
          "name": "stdout",
          "text": [
            "Trial trainable_func_b5de167e reported epoch=4,loss=0.5327152855975088,should_checkpoint=True with parameters={'act1 ': 'selu', 'act2': 'selu', 'act3': 'selu', 'lr': 0.0007, 'batch_size': 64, 'hidden_dim1': 240.0, 'hidden_dim2': 270.0, 'hidden_dim3': 135.0}.\n"
          ]
        },
        {
          "output_type": "stream",
          "name": "stderr",
          "text": [
            "\u001b[2m\u001b[36m(func pid=151415)\u001b[0m 2022-07-26 12:08:57,778\tINFO trainable.py:589 -- Restored on 172.28.0.2 from checkpoint: /root/ray_results/trainable_func_2022-07-26_12-03-38/trainable_func_12a411ac_6_act1=tanh,act2=tanh,act3=selu,batch_size=32,hidden_dim1=180.0000,hidden_dim2=270.0000,hidden_dim3=195.00_2022-07-26_12-04-22/checkpoint_tmp810302/./\n",
            "\u001b[2m\u001b[36m(func pid=151415)\u001b[0m 2022-07-26 12:08:57,779\tINFO trainable.py:597 -- Current state after restoring: {'_iteration': 24, '_timesteps_total': None, '_time_total': 54.46802115440369, '_episodes_total': None}\n"
          ]
        },
        {
          "output_type": "stream",
          "name": "stdout",
          "text": [
            "Trial trainable_func_fc21eeb8 reported epoch=0,loss=0.07912744192202188,should_checkpoint=True with parameters={'act1 ': 'tanh', 'act2': 'relu', 'act3': 'relu', 'lr': 0.001, 'batch_size': 16, 'hidden_dim1': 255.0, 'hidden_dim2': 285.0, 'hidden_dim3': 180.0}.\n",
            "== Status ==\n",
            "Current time: 2022-07-26 12:08:58 (running for 00:05:20.52)\n",
            "Memory usage on this node: 2.3/12.7 GiB\n",
            "Using MedianStoppingRule: num_stopped=1.\n",
            "Resources requested: 2.0/2 CPUs, 0/0 GPUs, 0.0/7.46 GiB heap, 0.0/3.73 GiB objects\n",
            "Result logdir: /root/ray_results/trainable_func_2022-07-26_12-03-38\n",
            "Number of trials: 14/50 (6 PAUSED, 4 RUNNING, 4 TERMINATED)\n",
            "\n",
            "\n"
          ]
        },
        {
          "output_type": "stream",
          "name": "stderr",
          "text": [
            "\u001b[2m\u001b[36m(func pid=151453)\u001b[0m 2022-07-26 12:08:59,433\tINFO trainable.py:589 -- Restored on 172.28.0.2 from checkpoint: /root/ray_results/trainable_func_2022-07-26_12-03-38/trainable_func_fc21eeb8_3_act1=tanh,act2=relu,act3=relu,batch_size=16,hidden_dim1=255.0000,hidden_dim2=285.0000,hidden_dim3=180.00_2022-07-26_12-03-39/checkpoint_tmpa0c4a3/./\n",
            "\u001b[2m\u001b[36m(func pid=151453)\u001b[0m 2022-07-26 12:08:59,434\tINFO trainable.py:597 -- Current state after restoring: {'_iteration': 44, '_timesteps_total': None, '_time_total': 237.25943446159363, '_episodes_total': None}\n"
          ]
        },
        {
          "output_type": "stream",
          "name": "stdout",
          "text": [
            "Trial trainable_func_12a411ac reported epoch=0,loss=0.2702913855212962,should_checkpoint=True with parameters={'act1 ': 'tanh', 'act2': 'tanh', 'act3': 'selu', 'lr': 0.0009, 'batch_size': 32, 'hidden_dim1': 180.0, 'hidden_dim2': 270.0, 'hidden_dim3': 195.0}.\n",
            "Trial trainable_func_fc50187e reported epoch=0,loss=0.3778979798206981,should_checkpoint=True with parameters={'act1 ': 'selu', 'act2': 'selu', 'act3': 'tanh', 'lr': 0.0006000000000000001, 'batch_size': 8, 'hidden_dim1': 270.0, 'hidden_dim2': 165.0, 'hidden_dim3': 285.0}.\n"
          ]
        },
        {
          "output_type": "stream",
          "name": "stderr",
          "text": [
            "\u001b[2m\u001b[36m(func pid=151415)\u001b[0m 2022-07-26 12:09:00,475\tINFO trainable.py:589 -- Restored on 172.28.0.2 from checkpoint: /root/ray_results/trainable_func_2022-07-26_12-03-38/trainable_func_12a411ac_6_act1=tanh,act2=tanh,act3=selu,batch_size=32,hidden_dim1=180.0000,hidden_dim2=270.0000,hidden_dim3=195.00_2022-07-26_12-04-22/checkpoint_tmp246707/./\n",
            "\u001b[2m\u001b[36m(func pid=151415)\u001b[0m 2022-07-26 12:09:00,475\tINFO trainable.py:597 -- Current state after restoring: {'_iteration': 25, '_timesteps_total': None, '_time_total': 56.65775680541992, '_episodes_total': None}\n",
            "\u001b[2m\u001b[36m(func pid=151479)\u001b[0m 2022-07-26 12:09:01,004\tINFO trainable.py:589 -- Restored on 172.28.0.2 from checkpoint: /root/ray_results/trainable_func_2022-07-26_12-03-38/trainable_func_fc50187e_5_act1=selu,act2=selu,act3=tanh,batch_size=8,hidden_dim1=270.0000,hidden_dim2=165.0000,hidden_dim3=285.000_2022-07-26_12-04-16/checkpoint_tmpc8fb28/./\n",
            "\u001b[2m\u001b[36m(func pid=151479)\u001b[0m 2022-07-26 12:09:01,004\tINFO trainable.py:597 -- Current state after restoring: {'_iteration': 20, '_timesteps_total': None, '_time_total': 152.1191782951355, '_episodes_total': None}\n",
            "\u001b[2m\u001b[36m(func pid=151415)\u001b[0m 2022-07-26 12:09:03,179\tINFO trainable.py:589 -- Restored on 172.28.0.2 from checkpoint: /root/ray_results/trainable_func_2022-07-26_12-03-38/trainable_func_12a411ac_6_act1=tanh,act2=tanh,act3=selu,batch_size=32,hidden_dim1=180.0000,hidden_dim2=270.0000,hidden_dim3=195.00_2022-07-26_12-04-22/checkpoint_tmp671c25/./\n",
            "\u001b[2m\u001b[36m(func pid=151415)\u001b[0m 2022-07-26 12:09:03,191\tINFO trainable.py:597 -- Current state after restoring: {'_iteration': 26, '_timesteps_total': None, '_time_total': 58.7996985912323, '_episodes_total': None}\n"
          ]
        },
        {
          "output_type": "stream",
          "name": "stdout",
          "text": [
            "Trial trainable_func_b5de167e reported epoch=8,loss=0.5360691950662018,should_checkpoint=True with parameters={'act1 ': 'selu', 'act2': 'selu', 'act3': 'selu', 'lr': 0.0007, 'batch_size': 64, 'hidden_dim1': 240.0, 'hidden_dim2': 270.0, 'hidden_dim3': 135.0}.\n",
            "== Status ==\n",
            "Current time: 2022-07-26 12:09:04 (running for 00:05:25.91)\n",
            "Memory usage on this node: 2.3/12.7 GiB\n",
            "Using MedianStoppingRule: num_stopped=1.\n",
            "Resources requested: 2.0/2 CPUs, 0/0 GPUs, 0.0/7.46 GiB heap, 0.0/3.73 GiB objects\n",
            "Result logdir: /root/ray_results/trainable_func_2022-07-26_12-03-38\n",
            "Number of trials: 14/50 (6 PAUSED, 4 RUNNING, 4 TERMINATED)\n",
            "\n",
            "\n",
            "Trial trainable_func_fc21eeb8 reported epoch=0,loss=0.11972923843505967,should_checkpoint=True with parameters={'act1 ': 'tanh', 'act2': 'relu', 'act3': 'relu', 'lr': 0.001, 'batch_size': 16, 'hidden_dim1': 255.0, 'hidden_dim2': 285.0, 'hidden_dim3': 180.0}.\n",
            "Trial trainable_func_12a411ac reported epoch=0,loss=0.17241265530804592,should_checkpoint=True with parameters={'act1 ': 'tanh', 'act2': 'tanh', 'act3': 'selu', 'lr': 0.0009, 'batch_size': 32, 'hidden_dim1': 180.0, 'hidden_dim2': 270.0, 'hidden_dim3': 195.0}.\n"
          ]
        },
        {
          "output_type": "stream",
          "name": "stderr",
          "text": [
            "\u001b[2m\u001b[36m(func pid=151453)\u001b[0m 2022-07-26 12:09:05,603\tINFO trainable.py:589 -- Restored on 172.28.0.2 from checkpoint: /root/ray_results/trainable_func_2022-07-26_12-03-38/trainable_func_fc21eeb8_3_act1=tanh,act2=relu,act3=relu,batch_size=16,hidden_dim1=255.0000,hidden_dim2=285.0000,hidden_dim3=180.00_2022-07-26_12-03-39/checkpoint_tmpbcd950/./\n",
            "\u001b[2m\u001b[36m(func pid=151453)\u001b[0m 2022-07-26 12:09:05,604\tINFO trainable.py:597 -- Current state after restoring: {'_iteration': 45, '_timesteps_total': None, '_time_total': 242.81884217262268, '_episodes_total': None}\n",
            "\u001b[2m\u001b[36m(func pid=151415)\u001b[0m 2022-07-26 12:09:06,134\tINFO trainable.py:589 -- Restored on 172.28.0.2 from checkpoint: /root/ray_results/trainable_func_2022-07-26_12-03-38/trainable_func_12a411ac_6_act1=tanh,act2=tanh,act3=selu,batch_size=32,hidden_dim1=180.0000,hidden_dim2=270.0000,hidden_dim3=195.00_2022-07-26_12-04-22/checkpoint_tmpbba170/./\n",
            "\u001b[2m\u001b[36m(func pid=151415)\u001b[0m 2022-07-26 12:09:06,137\tINFO trainable.py:597 -- Current state after restoring: {'_iteration': 27, '_timesteps_total': None, '_time_total': 61.25069069862366, '_episodes_total': None}\n",
            "\u001b[2m\u001b[36m(func pid=151414)\u001b[0m 2022-07-26 12:09:06,682\tINFO trainable.py:589 -- Restored on 172.28.0.2 from checkpoint: /root/ray_results/trainable_func_2022-07-26_12-03-38/trainable_func_15ffcbd4_7_act1=selu,act2=selu,act3=selu,batch_size=16,hidden_dim1=330.0000,hidden_dim2=150.0000,hidden_dim3=180.00_2022-07-26_12-04-41/checkpoint_tmpbc3751/./\n",
            "\u001b[2m\u001b[36m(func pid=151414)\u001b[0m 2022-07-26 12:09:06,683\tINFO trainable.py:597 -- Current state after restoring: {'_iteration': 10, '_timesteps_total': None, '_time_total': 40.333632469177246, '_episodes_total': None}\n"
          ]
        },
        {
          "output_type": "stream",
          "name": "stdout",
          "text": [
            "Trial trainable_func_fc50187e reported epoch=0,loss=0.20997750503507975,should_checkpoint=True with parameters={'act1 ': 'selu', 'act2': 'selu', 'act3': 'tanh', 'lr': 0.0006000000000000001, 'batch_size': 8, 'hidden_dim1': 270.0, 'hidden_dim2': 165.0, 'hidden_dim3': 285.0}.\n"
          ]
        },
        {
          "output_type": "stream",
          "name": "stderr",
          "text": [
            "\u001b[2m\u001b[36m(func pid=151415)\u001b[0m 2022-07-26 12:09:08,907\tINFO trainable.py:589 -- Restored on 172.28.0.2 from checkpoint: /root/ray_results/trainable_func_2022-07-26_12-03-38/trainable_func_12a411ac_6_act1=tanh,act2=tanh,act3=selu,batch_size=32,hidden_dim1=180.0000,hidden_dim2=270.0000,hidden_dim3=195.00_2022-07-26_12-04-22/checkpoint_tmp85b73b/./\n",
            "\u001b[2m\u001b[36m(func pid=151415)\u001b[0m 2022-07-26 12:09:08,908\tINFO trainable.py:597 -- Current state after restoring: {'_iteration': 28, '_timesteps_total': None, '_time_total': 63.50640296936035, '_episodes_total': None}\n",
            "\u001b[2m\u001b[36m(func pid=151479)\u001b[0m 2022-07-26 12:09:09,484\tINFO trainable.py:589 -- Restored on 172.28.0.2 from checkpoint: /root/ray_results/trainable_func_2022-07-26_12-03-38/trainable_func_fc50187e_5_act1=selu,act2=selu,act3=tanh,batch_size=8,hidden_dim1=270.0000,hidden_dim2=165.0000,hidden_dim3=285.000_2022-07-26_12-04-16/checkpoint_tmp2cef76/./\n",
            "\u001b[2m\u001b[36m(func pid=151479)\u001b[0m 2022-07-26 12:09:09,484\tINFO trainable.py:597 -- Current state after restoring: {'_iteration': 21, '_timesteps_total': None, '_time_total': 159.6786069869995, '_episodes_total': None}\n"
          ]
        },
        {
          "output_type": "stream",
          "name": "stdout",
          "text": [
            "== Status ==\n",
            "Current time: 2022-07-26 12:09:09 (running for 00:05:31.01)\n",
            "Memory usage on this node: 2.3/12.7 GiB\n",
            "Using MedianStoppingRule: num_stopped=1.\n",
            "Resources requested: 1.5/2 CPUs, 0/0 GPUs, 0.0/7.46 GiB heap, 0.0/3.73 GiB objects\n",
            "Result logdir: /root/ray_results/trainable_func_2022-07-26_12-03-38\n",
            "Number of trials: 14/50 (7 PAUSED, 3 RUNNING, 4 TERMINATED)\n",
            "\n",
            "\n",
            "Trial trainable_func_fc21eeb8 reported epoch=0,loss=0.09213438176894656,should_checkpoint=True with parameters={'act1 ': 'tanh', 'act2': 'relu', 'act3': 'relu', 'lr': 0.001, 'batch_size': 16, 'hidden_dim1': 255.0, 'hidden_dim2': 285.0, 'hidden_dim3': 180.0}.\n",
            "Trial trainable_func_15ffcbd4 reported epoch=0,loss=0.36551780558391267,should_checkpoint=True with parameters={'act1 ': 'selu', 'act2': 'selu', 'act3': 'selu', 'lr': 0.0009, 'batch_size': 16, 'hidden_dim1': 330.0, 'hidden_dim2': 150.0, 'hidden_dim3': 180.0}.\n",
            "Trial trainable_func_12a411ac reported epoch=0,loss=0.12739796510929088,should_checkpoint=True with parameters={'act1 ': 'tanh', 'act2': 'tanh', 'act3': 'selu', 'lr': 0.0009, 'batch_size': 32, 'hidden_dim1': 180.0, 'hidden_dim2': 270.0, 'hidden_dim3': 195.0}.\n"
          ]
        },
        {
          "output_type": "stream",
          "name": "stderr",
          "text": [
            "\u001b[2m\u001b[36m(func pid=151453)\u001b[0m 2022-07-26 12:09:11,005\tINFO trainable.py:589 -- Restored on 172.28.0.2 from checkpoint: /root/ray_results/trainable_func_2022-07-26_12-03-38/trainable_func_fc21eeb8_3_act1=tanh,act2=relu,act3=relu,batch_size=16,hidden_dim1=255.0000,hidden_dim2=285.0000,hidden_dim3=180.00_2022-07-26_12-03-39/checkpoint_tmp55b7b9/./\n",
            "\u001b[2m\u001b[36m(func pid=151453)\u001b[0m 2022-07-26 12:09:11,005\tINFO trainable.py:597 -- Current state after restoring: {'_iteration': 46, '_timesteps_total': None, '_time_total': 247.6414144039154, '_episodes_total': None}\n",
            "\u001b[2m\u001b[36m(func pid=151414)\u001b[0m 2022-07-26 12:09:11,392\tINFO trainable.py:589 -- Restored on 172.28.0.2 from checkpoint: /root/ray_results/trainable_func_2022-07-26_12-03-38/trainable_func_15ffcbd4_7_act1=selu,act2=selu,act3=selu,batch_size=16,hidden_dim1=330.0000,hidden_dim2=150.0000,hidden_dim3=180.00_2022-07-26_12-04-41/checkpoint_tmp2b4a56/./\n",
            "\u001b[2m\u001b[36m(func pid=151414)\u001b[0m 2022-07-26 12:09:11,392\tINFO trainable.py:597 -- Current state after restoring: {'_iteration': 11, '_timesteps_total': None, '_time_total': 44.407750368118286, '_episodes_total': None}\n",
            "\u001b[2m\u001b[36m(func pid=151415)\u001b[0m 2022-07-26 12:09:11,952\tINFO trainable.py:589 -- Restored on 172.28.0.2 from checkpoint: /root/ray_results/trainable_func_2022-07-26_12-03-38/trainable_func_12a411ac_6_act1=tanh,act2=tanh,act3=selu,batch_size=32,hidden_dim1=180.0000,hidden_dim2=270.0000,hidden_dim3=195.00_2022-07-26_12-04-22/checkpoint_tmpa16bcc/./\n",
            "\u001b[2m\u001b[36m(func pid=151415)\u001b[0m 2022-07-26 12:09:11,957\tINFO trainable.py:597 -- Current state after restoring: {'_iteration': 29, '_timesteps_total': None, '_time_total': 65.60607743263245, '_episodes_total': None}\n"
          ]
        },
        {
          "output_type": "stream",
          "name": "stdout",
          "text": [
            "== Status ==\n",
            "Current time: 2022-07-26 12:09:14 (running for 00:05:36.42)\n",
            "Memory usage on this node: 2.3/12.7 GiB\n",
            "Using MedianStoppingRule: num_stopped=1.\n",
            "Resources requested: 1.5/2 CPUs, 0/0 GPUs, 0.0/7.46 GiB heap, 0.0/3.73 GiB objects\n",
            "Result logdir: /root/ray_results/trainable_func_2022-07-26_12-03-38\n",
            "Number of trials: 14/50 (7 PAUSED, 3 RUNNING, 4 TERMINATED)\n",
            "\n",
            "\n"
          ]
        },
        {
          "output_type": "stream",
          "name": "stderr",
          "text": [
            "\u001b[2m\u001b[36m(func pid=151415)\u001b[0m 2022-07-26 12:09:14,879\tINFO trainable.py:589 -- Restored on 172.28.0.2 from checkpoint: /root/ray_results/trainable_func_2022-07-26_12-03-38/trainable_func_12a411ac_6_act1=tanh,act2=tanh,act3=selu,batch_size=32,hidden_dim1=180.0000,hidden_dim2=270.0000,hidden_dim3=195.00_2022-07-26_12-04-22/checkpoint_tmpb04d82/./\n",
            "\u001b[2m\u001b[36m(func pid=151415)\u001b[0m 2022-07-26 12:09:14,879\tINFO trainable.py:597 -- Current state after restoring: {'_iteration': 30, '_timesteps_total': None, '_time_total': 67.96658563613892, '_episodes_total': None}\n"
          ]
        },
        {
          "output_type": "stream",
          "name": "stdout",
          "text": [
            "Trial trainable_func_fc21eeb8 reported epoch=0,loss=0.08509828731825438,should_checkpoint=True with parameters={'act1 ': 'tanh', 'act2': 'relu', 'act3': 'relu', 'lr': 0.001, 'batch_size': 16, 'hidden_dim1': 255.0, 'hidden_dim2': 285.0, 'hidden_dim3': 180.0}.\n"
          ]
        },
        {
          "output_type": "stream",
          "name": "stderr",
          "text": [
            "\u001b[2m\u001b[36m(func pid=151414)\u001b[0m 2022-07-26 12:09:16,205\tINFO trainable.py:589 -- Restored on 172.28.0.2 from checkpoint: /root/ray_results/trainable_func_2022-07-26_12-03-38/trainable_func_15ffcbd4_7_act1=selu,act2=selu,act3=selu,batch_size=16,hidden_dim1=330.0000,hidden_dim2=150.0000,hidden_dim3=180.00_2022-07-26_12-04-41/checkpoint_tmpf91f45/./\n",
            "\u001b[2m\u001b[36m(func pid=151414)\u001b[0m 2022-07-26 12:09:16,206\tINFO trainable.py:597 -- Current state after restoring: {'_iteration': 12, '_timesteps_total': None, '_time_total': 48.41789364814758, '_episodes_total': None}\n"
          ]
        },
        {
          "output_type": "stream",
          "name": "stdout",
          "text": [
            "Trial trainable_func_fc50187e reported epoch=0,loss=0.17273299622683463,should_checkpoint=True with parameters={'act1 ': 'selu', 'act2': 'selu', 'act3': 'tanh', 'lr': 0.0006000000000000001, 'batch_size': 8, 'hidden_dim1': 270.0, 'hidden_dim2': 165.0, 'hidden_dim3': 285.0}.\n",
            "Trial trainable_func_12a411ac reported epoch=0,loss=0.13812333551935804,should_checkpoint=True with parameters={'act1 ': 'tanh', 'act2': 'tanh', 'act3': 'selu', 'lr': 0.0009, 'batch_size': 32, 'hidden_dim1': 180.0, 'hidden_dim2': 270.0, 'hidden_dim3': 195.0}.\n"
          ]
        },
        {
          "output_type": "stream",
          "name": "stderr",
          "text": [
            "\u001b[2m\u001b[36m(func pid=151453)\u001b[0m 2022-07-26 12:09:16,965\tINFO trainable.py:589 -- Restored on 172.28.0.2 from checkpoint: /root/ray_results/trainable_func_2022-07-26_12-03-38/trainable_func_fc21eeb8_3_act1=tanh,act2=relu,act3=relu,batch_size=16,hidden_dim1=255.0000,hidden_dim2=285.0000,hidden_dim3=180.00_2022-07-26_12-03-39/checkpoint_tmp297564/./\n",
            "\u001b[2m\u001b[36m(func pid=151453)\u001b[0m 2022-07-26 12:09:16,965\tINFO trainable.py:597 -- Current state after restoring: {'_iteration': 47, '_timesteps_total': None, '_time_total': 252.73568654060364, '_episodes_total': None}\n",
            "\u001b[2m\u001b[36m(func pid=151479)\u001b[0m 2022-07-26 12:09:17,502\tINFO trainable.py:589 -- Restored on 172.28.0.2 from checkpoint: /root/ray_results/trainable_func_2022-07-26_12-03-38/trainable_func_fc50187e_5_act1=selu,act2=selu,act3=tanh,batch_size=8,hidden_dim1=270.0000,hidden_dim2=165.0000,hidden_dim3=285.000_2022-07-26_12-04-16/checkpoint_tmpe7732d/./\n",
            "\u001b[2m\u001b[36m(func pid=151479)\u001b[0m 2022-07-26 12:09:17,509\tINFO trainable.py:597 -- Current state after restoring: {'_iteration': 22, '_timesteps_total': None, '_time_total': 167.22319674491882, '_episodes_total': None}\n",
            "\u001b[2m\u001b[36m(func pid=151415)\u001b[0m 2022-07-26 12:09:18,128\tINFO trainable.py:589 -- Restored on 172.28.0.2 from checkpoint: /root/ray_results/trainable_func_2022-07-26_12-03-38/trainable_func_12a411ac_6_act1=tanh,act2=tanh,act3=selu,batch_size=32,hidden_dim1=180.0000,hidden_dim2=270.0000,hidden_dim3=195.00_2022-07-26_12-04-22/checkpoint_tmp25b400/./\n",
            "\u001b[2m\u001b[36m(func pid=151415)\u001b[0m 2022-07-26 12:09:18,128\tINFO trainable.py:597 -- Current state after restoring: {'_iteration': 31, '_timesteps_total': None, '_time_total': 70.18072843551636, '_episodes_total': None}\n"
          ]
        },
        {
          "output_type": "stream",
          "name": "stdout",
          "text": [
            "Trial trainable_func_15ffcbd4 reported epoch=0,loss=0.302219331730778,should_checkpoint=True with parameters={'act1 ': 'selu', 'act2': 'selu', 'act3': 'selu', 'lr': 0.0009, 'batch_size': 16, 'hidden_dim1': 330.0, 'hidden_dim2': 150.0, 'hidden_dim3': 180.0}.\n",
            "== Status ==\n",
            "Current time: 2022-07-26 12:09:20 (running for 00:05:41.78)\n",
            "Memory usage on this node: 2.3/12.7 GiB\n",
            "Using MedianStoppingRule: num_stopped=1.\n",
            "Resources requested: 2.0/2 CPUs, 0/0 GPUs, 0.0/7.46 GiB heap, 0.0/3.73 GiB objects\n",
            "Result logdir: /root/ray_results/trainable_func_2022-07-26_12-03-38\n",
            "Number of trials: 14/50 (6 PAUSED, 4 RUNNING, 4 TERMINATED)\n",
            "\n",
            "\n"
          ]
        },
        {
          "output_type": "stream",
          "name": "stderr",
          "text": [
            "\u001b[2m\u001b[36m(func pid=151414)\u001b[0m 2022-07-26 12:09:20,629\tINFO trainable.py:589 -- Restored on 172.28.0.2 from checkpoint: /root/ray_results/trainable_func_2022-07-26_12-03-38/trainable_func_15ffcbd4_7_act1=selu,act2=selu,act3=selu,batch_size=16,hidden_dim1=330.0000,hidden_dim2=150.0000,hidden_dim3=180.00_2022-07-26_12-04-41/checkpoint_tmp5c9305/./\n",
            "\u001b[2m\u001b[36m(func pid=151414)\u001b[0m 2022-07-26 12:09:20,629\tINFO trainable.py:597 -- Current state after restoring: {'_iteration': 13, '_timesteps_total': None, '_time_total': 52.41153001785278, '_episodes_total': None}\n",
            "\u001b[2m\u001b[36m(func pid=151415)\u001b[0m 2022-07-26 12:09:21,218\tINFO trainable.py:589 -- Restored on 172.28.0.2 from checkpoint: /root/ray_results/trainable_func_2022-07-26_12-03-38/trainable_func_12a411ac_6_act1=tanh,act2=tanh,act3=selu,batch_size=32,hidden_dim1=180.0000,hidden_dim2=270.0000,hidden_dim3=195.00_2022-07-26_12-04-22/checkpoint_tmp8ba2a0/./\n",
            "\u001b[2m\u001b[36m(func pid=151415)\u001b[0m 2022-07-26 12:09:21,218\tINFO trainable.py:597 -- Current state after restoring: {'_iteration': 32, '_timesteps_total': None, '_time_total': 72.32378625869751, '_episodes_total': None}\n"
          ]
        },
        {
          "output_type": "stream",
          "name": "stdout",
          "text": [
            "Trial trainable_func_fc21eeb8 reported epoch=0,loss=0.0808976052079643,should_checkpoint=True with parameters={'act1 ': 'tanh', 'act2': 'relu', 'act3': 'relu', 'lr': 0.001, 'batch_size': 16, 'hidden_dim1': 255.0, 'hidden_dim2': 285.0, 'hidden_dim3': 180.0}.\n"
          ]
        },
        {
          "output_type": "stream",
          "name": "stderr",
          "text": [
            "\u001b[2m\u001b[36m(func pid=151453)\u001b[0m 2022-07-26 12:09:22,529\tINFO trainable.py:589 -- Restored on 172.28.0.2 from checkpoint: /root/ray_results/trainable_func_2022-07-26_12-03-38/trainable_func_fc21eeb8_3_act1=tanh,act2=relu,act3=relu,batch_size=16,hidden_dim1=255.0000,hidden_dim2=285.0000,hidden_dim3=180.00_2022-07-26_12-03-39/checkpoint_tmpcf9fe7/./\n",
            "\u001b[2m\u001b[36m(func pid=151453)\u001b[0m 2022-07-26 12:09:22,530\tINFO trainable.py:597 -- Current state after restoring: {'_iteration': 48, '_timesteps_total': None, '_time_total': 257.65288281440735, '_episodes_total': None}\n"
          ]
        },
        {
          "output_type": "stream",
          "name": "stdout",
          "text": [
            "Trial trainable_func_12a411ac reported epoch=0,loss=0.17138828509075615,should_checkpoint=True with parameters={'act1 ': 'tanh', 'act2': 'tanh', 'act3': 'selu', 'lr': 0.0009, 'batch_size': 32, 'hidden_dim1': 180.0, 'hidden_dim2': 270.0, 'hidden_dim3': 195.0}.\n"
          ]
        },
        {
          "output_type": "stream",
          "name": "stderr",
          "text": [
            "\u001b[2m\u001b[36m(func pid=151415)\u001b[0m 2022-07-26 12:09:24,058\tINFO trainable.py:589 -- Restored on 172.28.0.2 from checkpoint: /root/ray_results/trainable_func_2022-07-26_12-03-38/trainable_func_12a411ac_6_act1=tanh,act2=tanh,act3=selu,batch_size=32,hidden_dim1=180.0000,hidden_dim2=270.0000,hidden_dim3=195.00_2022-07-26_12-04-22/checkpoint_tmp29dc73/./\n",
            "\u001b[2m\u001b[36m(func pid=151415)\u001b[0m 2022-07-26 12:09:24,060\tINFO trainable.py:597 -- Current state after restoring: {'_iteration': 33, '_timesteps_total': None, '_time_total': 74.60651731491089, '_episodes_total': None}\n"
          ]
        },
        {
          "output_type": "stream",
          "name": "stdout",
          "text": [
            "Trial trainable_func_fc50187e reported epoch=0,loss=0.2075881048140889,should_checkpoint=True with parameters={'act1 ': 'selu', 'act2': 'selu', 'act3': 'tanh', 'lr': 0.0006000000000000001, 'batch_size': 8, 'hidden_dim1': 270.0, 'hidden_dim2': 165.0, 'hidden_dim3': 285.0}.\n"
          ]
        },
        {
          "output_type": "stream",
          "name": "stderr",
          "text": [
            "\u001b[2m\u001b[36m(func pid=151479)\u001b[0m 2022-07-26 12:09:25,130\tINFO trainable.py:589 -- Restored on 172.28.0.2 from checkpoint: /root/ray_results/trainable_func_2022-07-26_12-03-38/trainable_func_fc50187e_5_act1=selu,act2=selu,act3=tanh,batch_size=8,hidden_dim1=270.0000,hidden_dim2=165.0000,hidden_dim3=285.000_2022-07-26_12-04-16/checkpoint_tmp71133d/./\n",
            "\u001b[2m\u001b[36m(func pid=151479)\u001b[0m 2022-07-26 12:09:25,130\tINFO trainable.py:597 -- Current state after restoring: {'_iteration': 23, '_timesteps_total': None, '_time_total': 174.44299864768982, '_episodes_total': None}\n",
            "\u001b[2m\u001b[36m(func pid=151414)\u001b[0m 2022-07-26 12:09:25,806\tINFO trainable.py:589 -- Restored on 172.28.0.2 from checkpoint: /root/ray_results/trainable_func_2022-07-26_12-03-38/trainable_func_15ffcbd4_7_act1=selu,act2=selu,act3=selu,batch_size=16,hidden_dim1=330.0000,hidden_dim2=150.0000,hidden_dim3=180.00_2022-07-26_12-04-41/checkpoint_tmp408137/./\n",
            "\u001b[2m\u001b[36m(func pid=151414)\u001b[0m 2022-07-26 12:09:25,806\tINFO trainable.py:597 -- Current state after restoring: {'_iteration': 14, '_timesteps_total': None, '_time_total': 56.62412357330322, '_episodes_total': None}\n"
          ]
        },
        {
          "output_type": "stream",
          "name": "stdout",
          "text": [
            "== Status ==\n",
            "Current time: 2022-07-26 12:09:25 (running for 00:05:47.34)\n",
            "Memory usage on this node: 2.3/12.7 GiB\n",
            "Using MedianStoppingRule: num_stopped=1.\n",
            "Resources requested: 1.5/2 CPUs, 0/0 GPUs, 0.0/7.46 GiB heap, 0.0/3.73 GiB objects\n",
            "Result logdir: /root/ray_results/trainable_func_2022-07-26_12-03-38\n",
            "Number of trials: 14/50 (7 PAUSED, 3 RUNNING, 4 TERMINATED)\n",
            "\n",
            "\n"
          ]
        },
        {
          "output_type": "stream",
          "name": "stderr",
          "text": [
            "\u001b[2m\u001b[36m(func pid=151415)\u001b[0m 2022-07-26 12:09:26,777\tINFO trainable.py:589 -- Restored on 172.28.0.2 from checkpoint: /root/ray_results/trainable_func_2022-07-26_12-03-38/trainable_func_12a411ac_6_act1=tanh,act2=tanh,act3=selu,batch_size=32,hidden_dim1=180.0000,hidden_dim2=270.0000,hidden_dim3=195.00_2022-07-26_12-04-22/checkpoint_tmp990d6a/./\n",
            "\u001b[2m\u001b[36m(func pid=151415)\u001b[0m 2022-07-26 12:09:26,777\tINFO trainable.py:597 -- Current state after restoring: {'_iteration': 34, '_timesteps_total': None, '_time_total': 76.6796727180481, '_episodes_total': None}\n"
          ]
        },
        {
          "output_type": "stream",
          "name": "stdout",
          "text": [
            "Trial trainable_func_fc21eeb8 reported epoch=0,loss=0.10816576020767206,should_checkpoint=True with parameters={'act1 ': 'tanh', 'act2': 'relu', 'act3': 'relu', 'lr': 0.001, 'batch_size': 16, 'hidden_dim1': 255.0, 'hidden_dim2': 285.0, 'hidden_dim3': 180.0}.\n"
          ]
        },
        {
          "output_type": "stream",
          "name": "stderr",
          "text": [
            "\u001b[2m\u001b[36m(func pid=151453)\u001b[0m 2022-07-26 12:09:28,366\tINFO trainable.py:589 -- Restored on 172.28.0.2 from checkpoint: /root/ray_results/trainable_func_2022-07-26_12-03-38/trainable_func_fc21eeb8_3_act1=tanh,act2=relu,act3=relu,batch_size=16,hidden_dim1=255.0000,hidden_dim2=285.0000,hidden_dim3=180.00_2022-07-26_12-03-39/checkpoint_tmpb56cd9/./\n",
            "\u001b[2m\u001b[36m(func pid=151453)\u001b[0m 2022-07-26 12:09:28,366\tINFO trainable.py:597 -- Current state after restoring: {'_iteration': 49, '_timesteps_total': None, '_time_total': 262.92931032180786, '_episodes_total': None}\n"
          ]
        },
        {
          "output_type": "stream",
          "name": "stdout",
          "text": [
            "Trial trainable_func_12a411ac reported epoch=0,loss=0.11635364886878426,should_checkpoint=True with parameters={'act1 ': 'tanh', 'act2': 'tanh', 'act3': 'selu', 'lr': 0.0009, 'batch_size': 32, 'hidden_dim1': 180.0, 'hidden_dim2': 270.0, 'hidden_dim3': 195.0}.\n"
          ]
        },
        {
          "output_type": "stream",
          "name": "stderr",
          "text": [
            "\u001b[2m\u001b[36m(func pid=151415)\u001b[0m 2022-07-26 12:09:29,626\tINFO trainable.py:589 -- Restored on 172.28.0.2 from checkpoint: /root/ray_results/trainable_func_2022-07-26_12-03-38/trainable_func_12a411ac_6_act1=tanh,act2=tanh,act3=selu,batch_size=32,hidden_dim1=180.0000,hidden_dim2=270.0000,hidden_dim3=195.00_2022-07-26_12-04-22/checkpoint_tmpc8eda6/./\n",
            "\u001b[2m\u001b[36m(func pid=151415)\u001b[0m 2022-07-26 12:09:29,627\tINFO trainable.py:597 -- Current state after restoring: {'_iteration': 35, '_timesteps_total': None, '_time_total': 78.94274926185608, '_episodes_total': None}\n"
          ]
        },
        {
          "output_type": "stream",
          "name": "stdout",
          "text": [
            "Trial trainable_func_15ffcbd4 reported epoch=0,loss=0.2622568942128297,should_checkpoint=True with parameters={'act1 ': 'selu', 'act2': 'selu', 'act3': 'selu', 'lr': 0.0009, 'batch_size': 16, 'hidden_dim1': 330.0, 'hidden_dim2': 150.0, 'hidden_dim3': 180.0}.\n"
          ]
        },
        {
          "output_type": "stream",
          "name": "stderr",
          "text": [
            "\u001b[2m\u001b[36m(func pid=151414)\u001b[0m 2022-07-26 12:09:30,721\tINFO trainable.py:589 -- Restored on 172.28.0.2 from checkpoint: /root/ray_results/trainable_func_2022-07-26_12-03-38/trainable_func_15ffcbd4_7_act1=selu,act2=selu,act3=selu,batch_size=16,hidden_dim1=330.0000,hidden_dim2=150.0000,hidden_dim3=180.00_2022-07-26_12-04-41/checkpoint_tmpcec37e/./\n",
            "\u001b[2m\u001b[36m(func pid=151414)\u001b[0m 2022-07-26 12:09:30,722\tINFO trainable.py:597 -- Current state after restoring: {'_iteration': 15, '_timesteps_total': None, '_time_total': 61.000943422317505, '_episodes_total': None}\n"
          ]
        },
        {
          "output_type": "stream",
          "name": "stdout",
          "text": [
            "== Status ==\n",
            "Current time: 2022-07-26 12:09:32 (running for 00:05:53.66)\n",
            "Memory usage on this node: 2.3/12.7 GiB\n",
            "Using MedianStoppingRule: num_stopped=1.\n",
            "Resources requested: 2.0/2 CPUs, 0/0 GPUs, 0.0/7.46 GiB heap, 0.0/3.73 GiB objects\n",
            "Result logdir: /root/ray_results/trainable_func_2022-07-26_12-03-38\n",
            "Number of trials: 14/50 (6 PAUSED, 4 RUNNING, 4 TERMINATED)\n",
            "\n",
            "\n",
            "Trial trainable_func_fc50187e reported epoch=0,loss=0.1743318193605458,should_checkpoint=True with parameters={'act1 ': 'selu', 'act2': 'selu', 'act3': 'tanh', 'lr': 0.0006000000000000001, 'batch_size': 8, 'hidden_dim1': 270.0, 'hidden_dim2': 165.0, 'hidden_dim3': 285.0}.\n"
          ]
        },
        {
          "output_type": "stream",
          "name": "stderr",
          "text": [
            "\u001b[2m\u001b[36m(func pid=151415)\u001b[0m 2022-07-26 12:09:32,629\tINFO trainable.py:589 -- Restored on 172.28.0.2 from checkpoint: /root/ray_results/trainable_func_2022-07-26_12-03-38/trainable_func_12a411ac_6_act1=tanh,act2=tanh,act3=selu,batch_size=32,hidden_dim1=180.0000,hidden_dim2=270.0000,hidden_dim3=195.00_2022-07-26_12-04-22/checkpoint_tmp3a302c/./\n",
            "\u001b[2m\u001b[36m(func pid=151415)\u001b[0m 2022-07-26 12:09:32,630\tINFO trainable.py:597 -- Current state after restoring: {'_iteration': 36, '_timesteps_total': None, '_time_total': 81.3816785812378, '_episodes_total': None}\n",
            "\u001b[2m\u001b[36m(func pid=151479)\u001b[0m 2022-07-26 12:09:33,194\tINFO trainable.py:589 -- Restored on 172.28.0.2 from checkpoint: /root/ray_results/trainable_func_2022-07-26_12-03-38/trainable_func_fc50187e_5_act1=selu,act2=selu,act3=tanh,batch_size=8,hidden_dim1=270.0000,hidden_dim2=165.0000,hidden_dim3=285.000_2022-07-26_12-04-16/checkpoint_tmpb186ad/./\n",
            "\u001b[2m\u001b[36m(func pid=151479)\u001b[0m 2022-07-26 12:09:33,195\tINFO trainable.py:597 -- Current state after restoring: {'_iteration': 24, '_timesteps_total': None, '_time_total': 181.81034755706787, '_episodes_total': None}\n"
          ]
        },
        {
          "output_type": "stream",
          "name": "stdout",
          "text": [
            "Trial trainable_func_fc21eeb8 reported epoch=0,loss=0.08098344968974865,should_checkpoint=True with parameters={'act1 ': 'tanh', 'act2': 'relu', 'act3': 'relu', 'lr': 0.001, 'batch_size': 16, 'hidden_dim1': 255.0, 'hidden_dim2': 285.0, 'hidden_dim3': 180.0}. This trial completed.\n",
            "Trial trainable_func_cf4dc514 reported epoch=0,loss=1.062771837656791,should_checkpoint=True with parameters={'act1 ': 'relu', 'act2': 'selu', 'act3': 'relu', 'lr': 0.0006000000000000001, 'batch_size': 64, 'hidden_dim1': 225.0, 'hidden_dim2': 180.0, 'hidden_dim3': 150.0}.\n",
            "Trial trainable_func_12a411ac reported epoch=0,loss=0.11596338961145475,should_checkpoint=True with parameters={'act1 ': 'tanh', 'act2': 'tanh', 'act3': 'selu', 'lr': 0.0009, 'batch_size': 32, 'hidden_dim1': 180.0, 'hidden_dim2': 270.0, 'hidden_dim3': 195.0}.\n",
            "Trial trainable_func_15ffcbd4 reported epoch=0,loss=0.2599059192058983,should_checkpoint=True with parameters={'act1 ': 'selu', 'act2': 'selu', 'act3': 'selu', 'lr': 0.0009, 'batch_size': 16, 'hidden_dim1': 330.0, 'hidden_dim2': 150.0, 'hidden_dim3': 180.0}.\n"
          ]
        },
        {
          "output_type": "stream",
          "name": "stderr",
          "text": [
            "\u001b[2m\u001b[36m(func pid=151415)\u001b[0m 2022-07-26 12:09:35,536\tINFO trainable.py:589 -- Restored on 172.28.0.2 from checkpoint: /root/ray_results/trainable_func_2022-07-26_12-03-38/trainable_func_12a411ac_6_act1=tanh,act2=tanh,act3=selu,batch_size=32,hidden_dim1=180.0000,hidden_dim2=270.0000,hidden_dim3=195.00_2022-07-26_12-04-22/checkpoint_tmpc9b89b/./\n",
            "\u001b[2m\u001b[36m(func pid=151415)\u001b[0m 2022-07-26 12:09:35,536\tINFO trainable.py:597 -- Current state after restoring: {'_iteration': 37, '_timesteps_total': None, '_time_total': 83.84611582756042, '_episodes_total': None}\n",
            "\u001b[2m\u001b[36m(func pid=151414)\u001b[0m 2022-07-26 12:09:36,021\tINFO trainable.py:589 -- Restored on 172.28.0.2 from checkpoint: /root/ray_results/trainable_func_2022-07-26_12-03-38/trainable_func_15ffcbd4_7_act1=selu,act2=selu,act3=selu,batch_size=16,hidden_dim1=330.0000,hidden_dim2=150.0000,hidden_dim3=180.00_2022-07-26_12-04-41/checkpoint_tmp24e8c6/./\n",
            "\u001b[2m\u001b[36m(func pid=151414)\u001b[0m 2022-07-26 12:09:36,027\tINFO trainable.py:597 -- Current state after restoring: {'_iteration': 16, '_timesteps_total': None, '_time_total': 65.51819372177124, '_episodes_total': None}\n"
          ]
        },
        {
          "output_type": "stream",
          "name": "stdout",
          "text": [
            "== Status ==\n",
            "Current time: 2022-07-26 12:09:37 (running for 00:05:58.79)\n",
            "Memory usage on this node: 2.3/12.7 GiB\n",
            "Using MedianStoppingRule: num_stopped=1.\n",
            "Resources requested: 2.0/2 CPUs, 0/0 GPUs, 0.0/7.46 GiB heap, 0.0/3.73 GiB objects\n",
            "Result logdir: /root/ray_results/trainable_func_2022-07-26_12-03-38\n",
            "Number of trials: 15/50 (6 PAUSED, 4 RUNNING, 5 TERMINATED)\n",
            "\n",
            "\n"
          ]
        },
        {
          "output_type": "stream",
          "name": "stderr",
          "text": [
            "\u001b[2m\u001b[36m(func pid=151415)\u001b[0m 2022-07-26 12:09:38,377\tINFO trainable.py:589 -- Restored on 172.28.0.2 from checkpoint: /root/ray_results/trainable_func_2022-07-26_12-03-38/trainable_func_12a411ac_6_act1=tanh,act2=tanh,act3=selu,batch_size=32,hidden_dim1=180.0000,hidden_dim2=270.0000,hidden_dim3=195.00_2022-07-26_12-04-22/checkpoint_tmpf5ddf2/./\n",
            "\u001b[2m\u001b[36m(func pid=151415)\u001b[0m 2022-07-26 12:09:38,378\tINFO trainable.py:597 -- Current state after restoring: {'_iteration': 38, '_timesteps_total': None, '_time_total': 86.135582447052, '_episodes_total': None}\n"
          ]
        },
        {
          "output_type": "stream",
          "name": "stdout",
          "text": [
            "Trial trainable_func_cf4dc514 reported epoch=4,loss=0.646756232852271,should_checkpoint=True with parameters={'act1 ': 'relu', 'act2': 'selu', 'act3': 'relu', 'lr': 0.0006000000000000001, 'batch_size': 64, 'hidden_dim1': 225.0, 'hidden_dim2': 180.0, 'hidden_dim3': 150.0}.\n",
            "Trial trainable_func_15ffcbd4 reported epoch=0,loss=0.24485327422187927,should_checkpoint=True with parameters={'act1 ': 'selu', 'act2': 'selu', 'act3': 'selu', 'lr': 0.0009, 'batch_size': 16, 'hidden_dim1': 330.0, 'hidden_dim2': 150.0, 'hidden_dim3': 180.0}.\n",
            "Trial trainable_func_fc50187e reported epoch=0,loss=0.18725472709976904,should_checkpoint=True with parameters={'act1 ': 'selu', 'act2': 'selu', 'act3': 'tanh', 'lr': 0.0006000000000000001, 'batch_size': 8, 'hidden_dim1': 270.0, 'hidden_dim2': 165.0, 'hidden_dim3': 285.0}.\n"
          ]
        },
        {
          "output_type": "stream",
          "name": "stderr",
          "text": [
            "\u001b[2m\u001b[36m(func pid=151414)\u001b[0m 2022-07-26 12:09:41,049\tINFO trainable.py:589 -- Restored on 172.28.0.2 from checkpoint: /root/ray_results/trainable_func_2022-07-26_12-03-38/trainable_func_15ffcbd4_7_act1=selu,act2=selu,act3=selu,batch_size=16,hidden_dim1=330.0000,hidden_dim2=150.0000,hidden_dim3=180.00_2022-07-26_12-04-41/checkpoint_tmp9a6c9f/./\n",
            "\u001b[2m\u001b[36m(func pid=151414)\u001b[0m 2022-07-26 12:09:41,049\tINFO trainable.py:597 -- Current state after restoring: {'_iteration': 17, '_timesteps_total': None, '_time_total': 70.2014832496643, '_episodes_total': None}\n"
          ]
        },
        {
          "output_type": "stream",
          "name": "stdout",
          "text": [
            "Trial trainable_func_12a411ac reported epoch=0,loss=0.11496794269560906,should_checkpoint=True with parameters={'act1 ': 'tanh', 'act2': 'tanh', 'act3': 'selu', 'lr': 0.0009, 'batch_size': 32, 'hidden_dim1': 180.0, 'hidden_dim2': 270.0, 'hidden_dim3': 195.0}.\n"
          ]
        },
        {
          "output_type": "stream",
          "name": "stderr",
          "text": [
            "\u001b[2m\u001b[36m(func pid=151479)\u001b[0m 2022-07-26 12:09:41,329\tINFO trainable.py:589 -- Restored on 172.28.0.2 from checkpoint: /root/ray_results/trainable_func_2022-07-26_12-03-38/trainable_func_fc50187e_5_act1=selu,act2=selu,act3=tanh,batch_size=8,hidden_dim1=270.0000,hidden_dim2=165.0000,hidden_dim3=285.000_2022-07-26_12-04-16/checkpoint_tmpe9055d/./\n",
            "\u001b[2m\u001b[36m(func pid=151479)\u001b[0m 2022-07-26 12:09:41,329\tINFO trainable.py:597 -- Current state after restoring: {'_iteration': 25, '_timesteps_total': None, '_time_total': 189.56648111343384, '_episodes_total': None}\n",
            "\u001b[2m\u001b[36m(func pid=151415)\u001b[0m 2022-07-26 12:09:41,766\tINFO trainable.py:589 -- Restored on 172.28.0.2 from checkpoint: /root/ray_results/trainable_func_2022-07-26_12-03-38/trainable_func_12a411ac_6_act1=tanh,act2=tanh,act3=selu,batch_size=32,hidden_dim1=180.0000,hidden_dim2=270.0000,hidden_dim3=195.00_2022-07-26_12-04-22/checkpoint_tmpd6a582/./\n",
            "\u001b[2m\u001b[36m(func pid=151415)\u001b[0m 2022-07-26 12:09:41,766\tINFO trainable.py:597 -- Current state after restoring: {'_iteration': 39, '_timesteps_total': None, '_time_total': 88.50149297714233, '_episodes_total': None}\n"
          ]
        },
        {
          "output_type": "stream",
          "name": "stdout",
          "text": [
            "== Status ==\n",
            "Current time: 2022-07-26 12:09:43 (running for 00:06:04.66)\n",
            "Memory usage on this node: 2.3/12.7 GiB\n",
            "Using MedianStoppingRule: num_stopped=1.\n",
            "Resources requested: 2.0/2 CPUs, 0/0 GPUs, 0.0/7.46 GiB heap, 0.0/3.73 GiB objects\n",
            "Result logdir: /root/ray_results/trainable_func_2022-07-26_12-03-38\n",
            "Number of trials: 15/50 (6 PAUSED, 4 RUNNING, 5 TERMINATED)\n",
            "\n",
            "\n",
            "Trial trainable_func_cf4dc514 reported epoch=7,loss=0.6033585438264288,should_checkpoint=True with parameters={'act1 ': 'relu', 'act2': 'selu', 'act3': 'relu', 'lr': 0.0006000000000000001, 'batch_size': 64, 'hidden_dim1': 225.0, 'hidden_dim2': 180.0, 'hidden_dim3': 150.0}.\n"
          ]
        },
        {
          "output_type": "stream",
          "name": "stderr",
          "text": [
            "\u001b[2m\u001b[36m(func pid=151415)\u001b[0m 2022-07-26 12:09:44,605\tINFO trainable.py:589 -- Restored on 172.28.0.2 from checkpoint: /root/ray_results/trainable_func_2022-07-26_12-03-38/trainable_func_12a411ac_6_act1=tanh,act2=tanh,act3=selu,batch_size=32,hidden_dim1=180.0000,hidden_dim2=270.0000,hidden_dim3=195.00_2022-07-26_12-04-22/checkpoint_tmpa9eaa5/./\n",
            "\u001b[2m\u001b[36m(func pid=151415)\u001b[0m 2022-07-26 12:09:44,605\tINFO trainable.py:597 -- Current state after restoring: {'_iteration': 40, '_timesteps_total': None, '_time_total': 90.97474884986877, '_episodes_total': None}\n",
            "\u001b[2m\u001b[36m(func pid=151414)\u001b[0m 2022-07-26 12:09:45,666\tINFO trainable.py:589 -- Restored on 172.28.0.2 from checkpoint: /root/ray_results/trainable_func_2022-07-26_12-03-38/trainable_func_15ffcbd4_7_act1=selu,act2=selu,act3=selu,batch_size=16,hidden_dim1=330.0000,hidden_dim2=150.0000,hidden_dim3=180.00_2022-07-26_12-04-41/checkpoint_tmp013773/./\n",
            "\u001b[2m\u001b[36m(func pid=151414)\u001b[0m 2022-07-26 12:09:45,672\tINFO trainable.py:597 -- Current state after restoring: {'_iteration': 18, '_timesteps_total': None, '_time_total': 74.44595384597778, '_episodes_total': None}\n"
          ]
        },
        {
          "output_type": "stream",
          "name": "stdout",
          "text": [
            "Trial trainable_func_12a411ac reported epoch=0,loss=0.10207885394293216,should_checkpoint=True with parameters={'act1 ': 'tanh', 'act2': 'tanh', 'act3': 'selu', 'lr': 0.0009, 'batch_size': 32, 'hidden_dim1': 180.0, 'hidden_dim2': 270.0, 'hidden_dim3': 195.0}.\n"
          ]
        },
        {
          "output_type": "stream",
          "name": "stderr",
          "text": [
            "\u001b[2m\u001b[36m(func pid=151415)\u001b[0m 2022-07-26 12:09:47,520\tINFO trainable.py:589 -- Restored on 172.28.0.2 from checkpoint: /root/ray_results/trainable_func_2022-07-26_12-03-38/trainable_func_12a411ac_6_act1=tanh,act2=tanh,act3=selu,batch_size=32,hidden_dim1=180.0000,hidden_dim2=270.0000,hidden_dim3=195.00_2022-07-26_12-04-22/checkpoint_tmpeaaddd/./\n",
            "\u001b[2m\u001b[36m(func pid=151415)\u001b[0m 2022-07-26 12:09:47,537\tINFO trainable.py:597 -- Current state after restoring: {'_iteration': 41, '_timesteps_total': None, '_time_total': 93.28512477874756, '_episodes_total': None}\n"
          ]
        },
        {
          "output_type": "stream",
          "name": "stdout",
          "text": [
            "Trial trainable_func_cf4dc514 reported epoch=10,loss=0.5639321395427891,should_checkpoint=True with parameters={'act1 ': 'relu', 'act2': 'selu', 'act3': 'relu', 'lr': 0.0006000000000000001, 'batch_size': 64, 'hidden_dim1': 225.0, 'hidden_dim2': 180.0, 'hidden_dim3': 150.0}. This trial completed.\n",
            "== Status ==\n",
            "Current time: 2022-07-26 12:09:48 (running for 00:06:10.26)\n",
            "Memory usage on this node: 2.3/12.7 GiB\n",
            "Using MedianStoppingRule: num_stopped=2.\n",
            "Resources requested: 2.0/2 CPUs, 0/0 GPUs, 0.0/7.46 GiB heap, 0.0/3.73 GiB objects\n",
            "Result logdir: /root/ray_results/trainable_func_2022-07-26_12-03-38\n",
            "Number of trials: 15/50 (6 PAUSED, 4 RUNNING, 5 TERMINATED)\n",
            "\n",
            "\n",
            "Trial trainable_func_fc50187e reported epoch=0,loss=0.191311238948247,should_checkpoint=True with parameters={'act1 ': 'selu', 'act2': 'selu', 'act3': 'tanh', 'lr': 0.0006000000000000001, 'batch_size': 8, 'hidden_dim1': 270.0, 'hidden_dim2': 165.0, 'hidden_dim3': 285.0}.\n"
          ]
        },
        {
          "output_type": "stream",
          "name": "stderr",
          "text": [
            "\u001b[2m\u001b[36m(func pid=151479)\u001b[0m 2022-07-26 12:09:49,455\tINFO trainable.py:589 -- Restored on 172.28.0.2 from checkpoint: /root/ray_results/trainable_func_2022-07-26_12-03-38/trainable_func_fc50187e_5_act1=selu,act2=selu,act3=tanh,batch_size=8,hidden_dim1=270.0000,hidden_dim2=165.0000,hidden_dim3=285.000_2022-07-26_12-04-16/checkpoint_tmp8e28d7/./\n",
            "\u001b[2m\u001b[36m(func pid=151479)\u001b[0m 2022-07-26 12:09:49,455\tINFO trainable.py:597 -- Current state after restoring: {'_iteration': 26, '_timesteps_total': None, '_time_total': 197.13444805145264, '_episodes_total': None}\n"
          ]
        },
        {
          "output_type": "stream",
          "name": "stdout",
          "text": [
            "Trial trainable_func_15ffcbd4 reported epoch=0,loss=0.2647434759930672,should_checkpoint=True with parameters={'act1 ': 'selu', 'act2': 'selu', 'act3': 'selu', 'lr': 0.0009, 'batch_size': 16, 'hidden_dim1': 330.0, 'hidden_dim2': 150.0, 'hidden_dim3': 180.0}.\n",
            "Trial trainable_func_d8724be2 reported epoch=0,loss=1.1053759409158932,should_checkpoint=True with parameters={'act1 ': 'tanh', 'act2': 'relu', 'act3': 'tanh', 'lr': 0.0006000000000000001, 'batch_size': 64, 'hidden_dim1': 135.0, 'hidden_dim2': 300.0, 'hidden_dim3': 195.0}.\n"
          ]
        },
        {
          "output_type": "stream",
          "name": "stderr",
          "text": [
            "\u001b[2m\u001b[36m(func pid=151415)\u001b[0m 2022-07-26 12:09:50,402\tINFO trainable.py:589 -- Restored on 172.28.0.2 from checkpoint: /root/ray_results/trainable_func_2022-07-26_12-03-38/trainable_func_12a411ac_6_act1=tanh,act2=tanh,act3=selu,batch_size=32,hidden_dim1=180.0000,hidden_dim2=270.0000,hidden_dim3=195.00_2022-07-26_12-04-22/checkpoint_tmpcdb8de/./\n",
            "\u001b[2m\u001b[36m(func pid=151415)\u001b[0m 2022-07-26 12:09:50,404\tINFO trainable.py:597 -- Current state after restoring: {'_iteration': 42, '_timesteps_total': None, '_time_total': 95.7550880908966, '_episodes_total': None}\n",
            "\u001b[2m\u001b[36m(func pid=151414)\u001b[0m 2022-07-26 12:09:50,947\tINFO trainable.py:589 -- Restored on 172.28.0.2 from checkpoint: /root/ray_results/trainable_func_2022-07-26_12-03-38/trainable_func_15ffcbd4_7_act1=selu,act2=selu,act3=selu,batch_size=16,hidden_dim1=330.0000,hidden_dim2=150.0000,hidden_dim3=180.00_2022-07-26_12-04-41/checkpoint_tmpa2f0d0/./\n",
            "\u001b[2m\u001b[36m(func pid=151414)\u001b[0m 2022-07-26 12:09:50,947\tINFO trainable.py:597 -- Current state after restoring: {'_iteration': 19, '_timesteps_total': None, '_time_total': 79.0324456691742, '_episodes_total': None}\n"
          ]
        },
        {
          "output_type": "stream",
          "name": "stdout",
          "text": [
            "Trial trainable_func_12a411ac reported epoch=0,loss=0.11574272534826838,should_checkpoint=True with parameters={'act1 ': 'tanh', 'act2': 'tanh', 'act3': 'selu', 'lr': 0.0009, 'batch_size': 32, 'hidden_dim1': 180.0, 'hidden_dim2': 270.0, 'hidden_dim3': 195.0}.\n"
          ]
        },
        {
          "output_type": "stream",
          "name": "stderr",
          "text": [
            "\u001b[2m\u001b[36m(func pid=151415)\u001b[0m 2022-07-26 12:09:53,360\tINFO trainable.py:589 -- Restored on 172.28.0.2 from checkpoint: /root/ray_results/trainable_func_2022-07-26_12-03-38/trainable_func_12a411ac_6_act1=tanh,act2=tanh,act3=selu,batch_size=32,hidden_dim1=180.0000,hidden_dim2=270.0000,hidden_dim3=195.00_2022-07-26_12-04-22/checkpoint_tmpdd942c/./\n",
            "\u001b[2m\u001b[36m(func pid=151415)\u001b[0m 2022-07-26 12:09:53,361\tINFO trainable.py:597 -- Current state after restoring: {'_iteration': 43, '_timesteps_total': None, '_time_total': 98.1710274219513, '_episodes_total': None}\n"
          ]
        },
        {
          "output_type": "stream",
          "name": "stdout",
          "text": [
            "== Status ==\n",
            "Current time: 2022-07-26 12:09:54 (running for 00:06:16.28)\n",
            "Memory usage on this node: 2.3/12.7 GiB\n",
            "Using MedianStoppingRule: num_stopped=2.\n",
            "Resources requested: 2.0/2 CPUs, 0/0 GPUs, 0.0/7.46 GiB heap, 0.0/3.73 GiB objects\n",
            "Result logdir: /root/ray_results/trainable_func_2022-07-26_12-03-38\n",
            "Number of trials: 16/50 (6 PAUSED, 4 RUNNING, 6 TERMINATED)\n",
            "\n",
            "\n",
            "Trial trainable_func_15ffcbd4 reported epoch=0,loss=0.20178118118781393,should_checkpoint=True with parameters={'act1 ': 'selu', 'act2': 'selu', 'act3': 'selu', 'lr': 0.0009, 'batch_size': 16, 'hidden_dim1': 330.0, 'hidden_dim2': 150.0, 'hidden_dim3': 180.0}.\n"
          ]
        },
        {
          "output_type": "stream",
          "name": "stderr",
          "text": [
            "\u001b[2m\u001b[36m(func pid=151414)\u001b[0m 2022-07-26 12:09:56,091\tINFO trainable.py:589 -- Restored on 172.28.0.2 from checkpoint: /root/ray_results/trainable_func_2022-07-26_12-03-38/trainable_func_15ffcbd4_7_act1=selu,act2=selu,act3=selu,batch_size=16,hidden_dim1=330.0000,hidden_dim2=150.0000,hidden_dim3=180.00_2022-07-26_12-04-41/checkpoint_tmpf983d8/./\n",
            "\u001b[2m\u001b[36m(func pid=151414)\u001b[0m 2022-07-26 12:09:56,093\tINFO trainable.py:597 -- Current state after restoring: {'_iteration': 20, '_timesteps_total': None, '_time_total': 83.68095803260803, '_episodes_total': None}\n"
          ]
        },
        {
          "output_type": "stream",
          "name": "stdout",
          "text": [
            "Trial trainable_func_d8724be2 reported epoch=4,loss=0.6239292160856136,should_checkpoint=True with parameters={'act1 ': 'tanh', 'act2': 'relu', 'act3': 'tanh', 'lr': 0.0006000000000000001, 'batch_size': 64, 'hidden_dim1': 135.0, 'hidden_dim2': 300.0, 'hidden_dim3': 195.0}.\n"
          ]
        },
        {
          "output_type": "stream",
          "name": "stderr",
          "text": [
            "\u001b[2m\u001b[36m(func pid=151415)\u001b[0m 2022-07-26 12:09:56,891\tINFO trainable.py:589 -- Restored on 172.28.0.2 from checkpoint: /root/ray_results/trainable_func_2022-07-26_12-03-38/trainable_func_12a411ac_6_act1=tanh,act2=tanh,act3=selu,batch_size=32,hidden_dim1=180.0000,hidden_dim2=270.0000,hidden_dim3=195.00_2022-07-26_12-04-22/checkpoint_tmp4cc09d/./\n",
            "\u001b[2m\u001b[36m(func pid=151415)\u001b[0m 2022-07-26 12:09:56,891\tINFO trainable.py:597 -- Current state after restoring: {'_iteration': 44, '_timesteps_total': None, '_time_total': 100.69925117492676, '_episodes_total': None}\n"
          ]
        },
        {
          "output_type": "stream",
          "name": "stdout",
          "text": [
            "Trial trainable_func_fc50187e reported epoch=0,loss=0.1431420560328178,should_checkpoint=True with parameters={'act1 ': 'selu', 'act2': 'selu', 'act3': 'tanh', 'lr': 0.0006000000000000001, 'batch_size': 8, 'hidden_dim1': 270.0, 'hidden_dim2': 165.0, 'hidden_dim3': 285.0}.\n"
          ]
        },
        {
          "output_type": "stream",
          "name": "stderr",
          "text": [
            "\u001b[2m\u001b[36m(func pid=151479)\u001b[0m 2022-07-26 12:09:57,672\tINFO trainable.py:589 -- Restored on 172.28.0.2 from checkpoint: /root/ray_results/trainable_func_2022-07-26_12-03-38/trainable_func_fc50187e_5_act1=selu,act2=selu,act3=tanh,batch_size=8,hidden_dim1=270.0000,hidden_dim2=165.0000,hidden_dim3=285.000_2022-07-26_12-04-16/checkpoint_tmp8c75c0/./\n",
            "\u001b[2m\u001b[36m(func pid=151479)\u001b[0m 2022-07-26 12:09:57,672\tINFO trainable.py:597 -- Current state after restoring: {'_iteration': 27, '_timesteps_total': None, '_time_total': 204.67418909072876, '_episodes_total': None}\n"
          ]
        },
        {
          "output_type": "stream",
          "name": "stdout",
          "text": [
            "Trial trainable_func_12a411ac reported epoch=0,loss=0.10860543855668914,should_checkpoint=True with parameters={'act1 ': 'tanh', 'act2': 'tanh', 'act3': 'selu', 'lr': 0.0009, 'batch_size': 32, 'hidden_dim1': 180.0, 'hidden_dim2': 270.0, 'hidden_dim3': 195.0}.\n",
            "== Status ==\n",
            "Current time: 2022-07-26 12:09:59 (running for 00:06:21.48)\n",
            "Memory usage on this node: 2.3/12.7 GiB\n",
            "Using MedianStoppingRule: num_stopped=2.\n",
            "Resources requested: 1.5/2 CPUs, 0/0 GPUs, 0.0/7.46 GiB heap, 0.0/3.73 GiB objects\n",
            "Result logdir: /root/ray_results/trainable_func_2022-07-26_12-03-38\n",
            "Number of trials: 16/50 (7 PAUSED, 3 RUNNING, 6 TERMINATED)\n",
            "\n",
            "\n"
          ]
        },
        {
          "output_type": "stream",
          "name": "stderr",
          "text": [
            "\u001b[2m\u001b[36m(func pid=151415)\u001b[0m 2022-07-26 12:09:59,955\tINFO trainable.py:589 -- Restored on 172.28.0.2 from checkpoint: /root/ray_results/trainable_func_2022-07-26_12-03-38/trainable_func_12a411ac_6_act1=tanh,act2=tanh,act3=selu,batch_size=32,hidden_dim1=180.0000,hidden_dim2=270.0000,hidden_dim3=195.00_2022-07-26_12-04-22/checkpoint_tmp32b03f/./\n",
            "\u001b[2m\u001b[36m(func pid=151415)\u001b[0m 2022-07-26 12:09:59,956\tINFO trainable.py:597 -- Current state after restoring: {'_iteration': 45, '_timesteps_total': None, '_time_total': 103.20853781700134, '_episodes_total': None}\n",
            "\u001b[2m\u001b[36m(func pid=151414)\u001b[0m 2022-07-26 12:10:01,203\tINFO trainable.py:589 -- Restored on 172.28.0.2 from checkpoint: /root/ray_results/trainable_func_2022-07-26_12-03-38/trainable_func_15ffcbd4_7_act1=selu,act2=selu,act3=selu,batch_size=16,hidden_dim1=330.0000,hidden_dim2=150.0000,hidden_dim3=180.00_2022-07-26_12-04-41/checkpoint_tmp8dd521/./\n",
            "\u001b[2m\u001b[36m(func pid=151414)\u001b[0m 2022-07-26 12:10:01,204\tINFO trainable.py:597 -- Current state after restoring: {'_iteration': 21, '_timesteps_total': None, '_time_total': 88.0681540966034, '_episodes_total': None}\n"
          ]
        },
        {
          "output_type": "stream",
          "name": "stdout",
          "text": [
            "Trial trainable_func_d8724be2 reported epoch=8,loss=0.605193458081129,should_checkpoint=True with parameters={'act1 ': 'tanh', 'act2': 'relu', 'act3': 'tanh', 'lr': 0.0006000000000000001, 'batch_size': 64, 'hidden_dim1': 135.0, 'hidden_dim2': 300.0, 'hidden_dim3': 195.0}.\n"
          ]
        },
        {
          "output_type": "stream",
          "name": "stderr",
          "text": [
            "\u001b[2m\u001b[36m(func pid=151415)\u001b[0m 2022-07-26 12:10:02,830\tINFO trainable.py:589 -- Restored on 172.28.0.2 from checkpoint: /root/ray_results/trainable_func_2022-07-26_12-03-38/trainable_func_12a411ac_6_act1=tanh,act2=tanh,act3=selu,batch_size=32,hidden_dim1=180.0000,hidden_dim2=270.0000,hidden_dim3=195.00_2022-07-26_12-04-22/checkpoint_tmpd52a5e/./\n",
            "\u001b[2m\u001b[36m(func pid=151415)\u001b[0m 2022-07-26 12:10:02,830\tINFO trainable.py:597 -- Current state after restoring: {'_iteration': 46, '_timesteps_total': None, '_time_total': 105.68933081626892, '_episodes_total': None}\n"
          ]
        },
        {
          "output_type": "stream",
          "name": "stdout",
          "text": [
            "Trial trainable_func_d8724be2 reported epoch=10,loss=0.5406007749981024,should_checkpoint=True with parameters={'act1 ': 'tanh', 'act2': 'relu', 'act3': 'tanh', 'lr': 0.0006000000000000001, 'batch_size': 64, 'hidden_dim1': 135.0, 'hidden_dim2': 300.0, 'hidden_dim3': 195.0}. This trial completed.\n",
            "Trial trainable_func_12a411ac reported epoch=0,loss=0.09796857706921902,should_checkpoint=True with parameters={'act1 ': 'tanh', 'act2': 'tanh', 'act3': 'selu', 'lr': 0.0009, 'batch_size': 32, 'hidden_dim1': 180.0, 'hidden_dim2': 270.0, 'hidden_dim3': 195.0}.\n",
            "== Status ==\n",
            "Current time: 2022-07-26 12:10:05 (running for 00:06:26.94)\n",
            "Memory usage on this node: 2.3/12.7 GiB\n",
            "Using MedianStoppingRule: num_stopped=3.\n",
            "Resources requested: 2.0/2 CPUs, 0/0 GPUs, 0.0/7.46 GiB heap, 0.0/3.73 GiB objects\n",
            "Result logdir: /root/ray_results/trainable_func_2022-07-26_12-03-38\n",
            "Number of trials: 17/50 (6 PAUSED, 4 RUNNING, 7 TERMINATED)\n",
            "\n",
            "\n",
            "Trial trainable_func_fc50187e reported epoch=0,loss=0.12422417053222815,should_checkpoint=True with parameters={'act1 ': 'selu', 'act2': 'selu', 'act3': 'tanh', 'lr': 0.0006000000000000001, 'batch_size': 8, 'hidden_dim1': 270.0, 'hidden_dim2': 165.0, 'hidden_dim3': 285.0}.\n"
          ]
        },
        {
          "output_type": "stream",
          "name": "stderr",
          "text": [
            "\u001b[2m\u001b[36m(func pid=151415)\u001b[0m 2022-07-26 12:10:05,964\tINFO trainable.py:589 -- Restored on 172.28.0.2 from checkpoint: /root/ray_results/trainable_func_2022-07-26_12-03-38/trainable_func_12a411ac_6_act1=tanh,act2=tanh,act3=selu,batch_size=32,hidden_dim1=180.0000,hidden_dim2=270.0000,hidden_dim3=195.00_2022-07-26_12-04-22/checkpoint_tmpdb9432/./\n",
            "\u001b[2m\u001b[36m(func pid=151415)\u001b[0m 2022-07-26 12:10:05,964\tINFO trainable.py:597 -- Current state after restoring: {'_iteration': 47, '_timesteps_total': None, '_time_total': 108.2168116569519, '_episodes_total': None}\n"
          ]
        },
        {
          "output_type": "stream",
          "name": "stdout",
          "text": [
            "Trial trainable_func_15ffcbd4 reported epoch=0,loss=0.19228904394389923,should_checkpoint=True with parameters={'act1 ': 'selu', 'act2': 'selu', 'act3': 'selu', 'lr': 0.0009, 'batch_size': 16, 'hidden_dim1': 330.0, 'hidden_dim2': 150.0, 'hidden_dim3': 180.0}.\n"
          ]
        },
        {
          "output_type": "stream",
          "name": "stderr",
          "text": [
            "\u001b[2m\u001b[36m(func pid=151479)\u001b[0m 2022-07-26 12:10:06,461\tINFO trainable.py:589 -- Restored on 172.28.0.2 from checkpoint: /root/ray_results/trainable_func_2022-07-26_12-03-38/trainable_func_fc50187e_5_act1=selu,act2=selu,act3=tanh,batch_size=8,hidden_dim1=270.0000,hidden_dim2=165.0000,hidden_dim3=285.000_2022-07-26_12-04-16/checkpoint_tmp682ab0/./\n",
            "\u001b[2m\u001b[36m(func pid=151479)\u001b[0m 2022-07-26 12:10:06,462\tINFO trainable.py:597 -- Current state after restoring: {'_iteration': 28, '_timesteps_total': None, '_time_total': 212.85862183570862, '_episodes_total': None}\n",
            "\u001b[2m\u001b[36m(func pid=151414)\u001b[0m 2022-07-26 12:10:07,159\tINFO trainable.py:589 -- Restored on 172.28.0.2 from checkpoint: /root/ray_results/trainable_func_2022-07-26_12-03-38/trainable_func_15ffcbd4_7_act1=selu,act2=selu,act3=selu,batch_size=16,hidden_dim1=330.0000,hidden_dim2=150.0000,hidden_dim3=180.00_2022-07-26_12-04-41/checkpoint_tmpe5cdc2/./\n",
            "\u001b[2m\u001b[36m(func pid=151414)\u001b[0m 2022-07-26 12:10:07,159\tINFO trainable.py:597 -- Current state after restoring: {'_iteration': 22, '_timesteps_total': None, '_time_total': 92.72445726394653, '_episodes_total': None}\n",
            "\u001b[2m\u001b[36m(func pid=151415)\u001b[0m 2022-07-26 12:10:08,852\tINFO trainable.py:589 -- Restored on 172.28.0.2 from checkpoint: /root/ray_results/trainable_func_2022-07-26_12-03-38/trainable_func_12a411ac_6_act1=tanh,act2=tanh,act3=selu,batch_size=32,hidden_dim1=180.0000,hidden_dim2=270.0000,hidden_dim3=195.00_2022-07-26_12-04-22/checkpoint_tmp95fdce/./\n",
            "\u001b[2m\u001b[36m(func pid=151415)\u001b[0m 2022-07-26 12:10:08,852\tINFO trainable.py:597 -- Current state after restoring: {'_iteration': 48, '_timesteps_total': None, '_time_total': 110.51744985580444, '_episodes_total': None}\n"
          ]
        },
        {
          "output_type": "stream",
          "name": "stdout",
          "text": [
            "Trial trainable_func_12a411ac reported epoch=0,loss=0.10799002603562464,should_checkpoint=True with parameters={'act1 ': 'tanh', 'act2': 'tanh', 'act3': 'selu', 'lr': 0.0009, 'batch_size': 32, 'hidden_dim1': 180.0, 'hidden_dim2': 270.0, 'hidden_dim3': 195.0}.\n",
            "== Status ==\n",
            "Current time: 2022-07-26 12:10:11 (running for 00:06:32.91)\n",
            "Memory usage on this node: 2.3/12.7 GiB\n",
            "Using MedianStoppingRule: num_stopped=3.\n",
            "Resources requested: 2.0/2 CPUs, 0/0 GPUs, 0.0/7.46 GiB heap, 0.0/3.73 GiB objects\n",
            "Result logdir: /root/ray_results/trainable_func_2022-07-26_12-03-38\n",
            "Number of trials: 17/50 (6 PAUSED, 4 RUNNING, 7 TERMINATED)\n",
            "\n",
            "\n",
            "Trial trainable_func_e199be12 reported epoch=0,loss=0.7260093698047411,should_checkpoint=True with parameters={'act1 ': 'relu', 'act2': 'selu', 'act3': 'selu', 'lr': 0.0007, 'batch_size': 8, 'hidden_dim1': 330.0, 'hidden_dim2': 270.0, 'hidden_dim3': 225.0}.\n",
            "Trial trainable_func_15ffcbd4 reported epoch=0,loss=0.20933294096972357,should_checkpoint=True with parameters={'act1 ': 'selu', 'act2': 'selu', 'act3': 'selu', 'lr': 0.0009, 'batch_size': 16, 'hidden_dim1': 330.0, 'hidden_dim2': 150.0, 'hidden_dim3': 180.0}.\n"
          ]
        },
        {
          "output_type": "stream",
          "name": "stderr",
          "text": [
            "\u001b[2m\u001b[36m(func pid=151415)\u001b[0m 2022-07-26 12:10:11,818\tINFO trainable.py:589 -- Restored on 172.28.0.2 from checkpoint: /root/ray_results/trainable_func_2022-07-26_12-03-38/trainable_func_12a411ac_6_act1=tanh,act2=tanh,act3=selu,batch_size=32,hidden_dim1=180.0000,hidden_dim2=270.0000,hidden_dim3=195.00_2022-07-26_12-04-22/checkpoint_tmp5ae3a6/./\n",
            "\u001b[2m\u001b[36m(func pid=151415)\u001b[0m 2022-07-26 12:10:11,819\tINFO trainable.py:597 -- Current state after restoring: {'_iteration': 49, '_timesteps_total': None, '_time_total': 112.98002028465271, '_episodes_total': None}\n",
            "\u001b[2m\u001b[36m(func pid=151414)\u001b[0m 2022-07-26 12:10:12,362\tINFO trainable.py:589 -- Restored on 172.28.0.2 from checkpoint: /root/ray_results/trainable_func_2022-07-26_12-03-38/trainable_func_15ffcbd4_7_act1=selu,act2=selu,act3=selu,batch_size=16,hidden_dim1=330.0000,hidden_dim2=150.0000,hidden_dim3=180.00_2022-07-26_12-04-41/checkpoint_tmp180d8c/./\n",
            "\u001b[2m\u001b[36m(func pid=151414)\u001b[0m 2022-07-26 12:10:12,362\tINFO trainable.py:597 -- Current state after restoring: {'_iteration': 23, '_timesteps_total': None, '_time_total': 97.23642945289612, '_episodes_total': None}\n"
          ]
        },
        {
          "output_type": "stream",
          "name": "stdout",
          "text": [
            "Trial trainable_func_fc50187e reported epoch=0,loss=0.19577593845457417,should_checkpoint=True with parameters={'act1 ': 'selu', 'act2': 'selu', 'act3': 'tanh', 'lr': 0.0006000000000000001, 'batch_size': 8, 'hidden_dim1': 270.0, 'hidden_dim2': 165.0, 'hidden_dim3': 285.0}.\n",
            "Trial trainable_func_12a411ac reported epoch=0,loss=0.19289212334506955,should_checkpoint=True with parameters={'act1 ': 'tanh', 'act2': 'tanh', 'act3': 'selu', 'lr': 0.0009, 'batch_size': 32, 'hidden_dim1': 180.0, 'hidden_dim2': 270.0, 'hidden_dim3': 195.0}. This trial completed.\n"
          ]
        },
        {
          "output_type": "stream",
          "name": "stderr",
          "text": [
            "\u001b[2m\u001b[36m(func pid=151479)\u001b[0m 2022-07-26 12:10:14,514\tINFO trainable.py:589 -- Restored on 172.28.0.2 from checkpoint: /root/ray_results/trainable_func_2022-07-26_12-03-38/trainable_func_fc50187e_5_act1=selu,act2=selu,act3=tanh,batch_size=8,hidden_dim1=270.0000,hidden_dim2=165.0000,hidden_dim3=285.000_2022-07-26_12-04-16/checkpoint_tmp2ef31c/./\n",
            "\u001b[2m\u001b[36m(func pid=151479)\u001b[0m 2022-07-26 12:10:14,515\tINFO trainable.py:597 -- Current state after restoring: {'_iteration': 29, '_timesteps_total': None, '_time_total': 220.36786246299744, '_episodes_total': None}\n"
          ]
        },
        {
          "output_type": "stream",
          "name": "stdout",
          "text": [
            "Trial trainable_func_e7d2baea reported epoch=0,loss=1.0914764452596282,should_checkpoint=True with parameters={'act1 ': 'relu', 'act2': 'selu', 'act3': 'relu', 'lr': 0.0005, 'batch_size': 32, 'hidden_dim1': 210.0, 'hidden_dim2': 120.0, 'hidden_dim3': 240.0}.\n",
            "== Status ==\n",
            "Current time: 2022-07-26 12:10:16 (running for 00:06:38.28)\n",
            "Memory usage on this node: 2.3/12.7 GiB\n",
            "Using MedianStoppingRule: num_stopped=3.\n",
            "Resources requested: 2.0/2 CPUs, 0/0 GPUs, 0.0/7.46 GiB heap, 0.0/3.73 GiB objects\n",
            "Result logdir: /root/ray_results/trainable_func_2022-07-26_12-03-38\n",
            "Number of trials: 18/50 (6 PAUSED, 4 RUNNING, 8 TERMINATED)\n",
            "\n",
            "\n",
            "Trial trainable_func_15ffcbd4 reported epoch=0,loss=0.16062186966453176,should_checkpoint=True with parameters={'act1 ': 'selu', 'act2': 'selu', 'act3': 'selu', 'lr': 0.0009, 'batch_size': 16, 'hidden_dim1': 330.0, 'hidden_dim2': 150.0, 'hidden_dim3': 180.0}.\n"
          ]
        },
        {
          "output_type": "stream",
          "name": "stderr",
          "text": [
            "\u001b[2m\u001b[36m(func pid=151414)\u001b[0m 2022-07-26 12:10:17,435\tINFO trainable.py:589 -- Restored on 172.28.0.2 from checkpoint: /root/ray_results/trainable_func_2022-07-26_12-03-38/trainable_func_15ffcbd4_7_act1=selu,act2=selu,act3=selu,batch_size=16,hidden_dim1=330.0000,hidden_dim2=150.0000,hidden_dim3=180.00_2022-07-26_12-04-41/checkpoint_tmp0c8eb0/./\n",
            "\u001b[2m\u001b[36m(func pid=151414)\u001b[0m 2022-07-26 12:10:17,435\tINFO trainable.py:597 -- Current state after restoring: {'_iteration': 24, '_timesteps_total': None, '_time_total': 101.84788346290588, '_episodes_total': None}\n"
          ]
        },
        {
          "output_type": "stream",
          "name": "stdout",
          "text": [
            "Trial trainable_func_e199be12 reported epoch=1,loss=0.820705206135206,should_checkpoint=True with parameters={'act1 ': 'relu', 'act2': 'selu', 'act3': 'selu', 'lr': 0.0007, 'batch_size': 8, 'hidden_dim1': 330.0, 'hidden_dim2': 270.0, 'hidden_dim3': 225.0}.\n",
            "== Status ==\n",
            "Current time: 2022-07-26 12:10:21 (running for 00:06:43.53)\n",
            "Memory usage on this node: 2.3/12.7 GiB\n",
            "Using MedianStoppingRule: num_stopped=3.\n",
            "Resources requested: 2.0/2 CPUs, 0/0 GPUs, 0.0/7.46 GiB heap, 0.0/3.73 GiB objects\n",
            "Result logdir: /root/ray_results/trainable_func_2022-07-26_12-03-38\n",
            "Number of trials: 18/50 (6 PAUSED, 4 RUNNING, 8 TERMINATED)\n",
            "\n",
            "\n",
            "Trial trainable_func_fc50187e reported epoch=0,loss=0.1703505936565082,should_checkpoint=True with parameters={'act1 ': 'selu', 'act2': 'selu', 'act3': 'tanh', 'lr': 0.0006000000000000001, 'batch_size': 8, 'hidden_dim1': 270.0, 'hidden_dim2': 165.0, 'hidden_dim3': 285.0}.\n"
          ]
        },
        {
          "output_type": "stream",
          "name": "stderr",
          "text": [
            "\u001b[2m\u001b[36m(func pid=151414)\u001b[0m 2022-07-26 12:10:22,642\tINFO trainable.py:589 -- Restored on 172.28.0.2 from checkpoint: /root/ray_results/trainable_func_2022-07-26_12-03-38/trainable_func_15ffcbd4_7_act1=selu,act2=selu,act3=selu,batch_size=16,hidden_dim1=330.0000,hidden_dim2=150.0000,hidden_dim3=180.00_2022-07-26_12-04-41/checkpoint_tmp3ab97e/./\n",
            "\u001b[2m\u001b[36m(func pid=151414)\u001b[0m 2022-07-26 12:10:22,650\tINFO trainable.py:597 -- Current state after restoring: {'_iteration': 25, '_timesteps_total': None, '_time_total': 106.35929036140442, '_episodes_total': None}\n",
            "\u001b[2m\u001b[36m(func pid=151479)\u001b[0m 2022-07-26 12:10:23,022\tINFO trainable.py:589 -- Restored on 172.28.0.2 from checkpoint: /root/ray_results/trainable_func_2022-07-26_12-03-38/trainable_func_fc50187e_5_act1=selu,act2=selu,act3=tanh,batch_size=8,hidden_dim1=270.0000,hidden_dim2=165.0000,hidden_dim3=285.000_2022-07-26_12-04-16/checkpoint_tmpf73c3c/./\n",
            "\u001b[2m\u001b[36m(func pid=151479)\u001b[0m 2022-07-26 12:10:23,022\tINFO trainable.py:597 -- Current state after restoring: {'_iteration': 30, '_timesteps_total': None, '_time_total': 228.5219624042511, '_episodes_total': None}\n"
          ]
        },
        {
          "output_type": "stream",
          "name": "stdout",
          "text": [
            "Trial trainable_func_e7d2baea reported epoch=3,loss=0.6719057296468446,should_checkpoint=True with parameters={'act1 ': 'relu', 'act2': 'selu', 'act3': 'relu', 'lr': 0.0005, 'batch_size': 32, 'hidden_dim1': 210.0, 'hidden_dim2': 120.0, 'hidden_dim3': 240.0}.\n",
            "Trial trainable_func_15ffcbd4 reported epoch=0,loss=0.22590034602815098,should_checkpoint=True with parameters={'act1 ': 'selu', 'act2': 'selu', 'act3': 'selu', 'lr': 0.0009, 'batch_size': 16, 'hidden_dim1': 330.0, 'hidden_dim2': 150.0, 'hidden_dim3': 180.0}.\n",
            "== Status ==\n",
            "Current time: 2022-07-26 12:10:27 (running for 00:06:49.04)\n",
            "Memory usage on this node: 2.3/12.7 GiB\n",
            "Using MedianStoppingRule: num_stopped=3.\n",
            "Resources requested: 2.0/2 CPUs, 0/0 GPUs, 0.0/7.46 GiB heap, 0.0/3.73 GiB objects\n",
            "Result logdir: /root/ray_results/trainable_func_2022-07-26_12-03-38\n",
            "Number of trials: 18/50 (6 PAUSED, 4 RUNNING, 8 TERMINATED)\n",
            "\n",
            "\n"
          ]
        },
        {
          "output_type": "stream",
          "name": "stderr",
          "text": [
            "\u001b[2m\u001b[36m(func pid=151414)\u001b[0m 2022-07-26 12:10:27,982\tINFO trainable.py:589 -- Restored on 172.28.0.2 from checkpoint: /root/ray_results/trainable_func_2022-07-26_12-03-38/trainable_func_15ffcbd4_7_act1=selu,act2=selu,act3=selu,batch_size=16,hidden_dim1=330.0000,hidden_dim2=150.0000,hidden_dim3=180.00_2022-07-26_12-04-41/checkpoint_tmpa6d7cb/./\n",
            "\u001b[2m\u001b[36m(func pid=151414)\u001b[0m 2022-07-26 12:10:27,983\tINFO trainable.py:597 -- Current state after restoring: {'_iteration': 26, '_timesteps_total': None, '_time_total': 111.08027243614197, '_episodes_total': None}\n"
          ]
        },
        {
          "output_type": "stream",
          "name": "stdout",
          "text": [
            "Trial trainable_func_e199be12 reported epoch=2,loss=0.5929133302098337,should_checkpoint=True with parameters={'act1 ': 'relu', 'act2': 'selu', 'act3': 'selu', 'lr': 0.0007, 'batch_size': 8, 'hidden_dim1': 330.0, 'hidden_dim2': 270.0, 'hidden_dim3': 225.0}.\n",
            "Trial trainable_func_e7d2baea reported epoch=7,loss=0.5846347690304092,should_checkpoint=True with parameters={'act1 ': 'relu', 'act2': 'selu', 'act3': 'relu', 'lr': 0.0005, 'batch_size': 32, 'hidden_dim1': 210.0, 'hidden_dim2': 120.0, 'hidden_dim3': 240.0}.\n",
            "Trial trainable_func_fc50187e reported epoch=0,loss=0.2061286332101683,should_checkpoint=True with parameters={'act1 ': 'selu', 'act2': 'selu', 'act3': 'tanh', 'lr': 0.0006000000000000001, 'batch_size': 8, 'hidden_dim1': 270.0, 'hidden_dim2': 165.0, 'hidden_dim3': 285.0}.\n"
          ]
        },
        {
          "output_type": "stream",
          "name": "stderr",
          "text": [
            "\u001b[2m\u001b[36m(func pid=151479)\u001b[0m 2022-07-26 12:10:31,841\tINFO trainable.py:589 -- Restored on 172.28.0.2 from checkpoint: /root/ray_results/trainable_func_2022-07-26_12-03-38/trainable_func_fc50187e_5_act1=selu,act2=selu,act3=tanh,batch_size=8,hidden_dim1=270.0000,hidden_dim2=165.0000,hidden_dim3=285.000_2022-07-26_12-04-16/checkpoint_tmp7bf547/./\n",
            "\u001b[2m\u001b[36m(func pid=151479)\u001b[0m 2022-07-26 12:10:31,841\tINFO trainable.py:597 -- Current state after restoring: {'_iteration': 31, '_timesteps_total': None, '_time_total': 236.7168140411377, '_episodes_total': None}\n"
          ]
        },
        {
          "output_type": "stream",
          "name": "stdout",
          "text": [
            "Trial trainable_func_15ffcbd4 reported epoch=0,loss=0.19328442162287973,should_checkpoint=True with parameters={'act1 ': 'selu', 'act2': 'selu', 'act3': 'selu', 'lr': 0.0009, 'batch_size': 16, 'hidden_dim1': 330.0, 'hidden_dim2': 150.0, 'hidden_dim3': 180.0}.\n",
            "== Status ==\n",
            "Current time: 2022-07-26 12:10:32 (running for 00:06:54.07)\n",
            "Memory usage on this node: 2.3/12.7 GiB\n",
            "Using MedianStoppingRule: num_stopped=3.\n",
            "Resources requested: 2.0/2 CPUs, 0/0 GPUs, 0.0/7.46 GiB heap, 0.0/3.73 GiB objects\n",
            "Result logdir: /root/ray_results/trainable_func_2022-07-26_12-03-38\n",
            "Number of trials: 18/50 (6 PAUSED, 4 RUNNING, 8 TERMINATED)\n",
            "\n",
            "\n"
          ]
        },
        {
          "output_type": "stream",
          "name": "stderr",
          "text": [
            "\u001b[2m\u001b[36m(func pid=151414)\u001b[0m 2022-07-26 12:10:33,145\tINFO trainable.py:589 -- Restored on 172.28.0.2 from checkpoint: /root/ray_results/trainable_func_2022-07-26_12-03-38/trainable_func_15ffcbd4_7_act1=selu,act2=selu,act3=selu,batch_size=16,hidden_dim1=330.0000,hidden_dim2=150.0000,hidden_dim3=180.00_2022-07-26_12-04-41/checkpoint_tmp538c07/./\n",
            "\u001b[2m\u001b[36m(func pid=151414)\u001b[0m 2022-07-26 12:10:33,145\tINFO trainable.py:597 -- Current state after restoring: {'_iteration': 27, '_timesteps_total': None, '_time_total': 115.5793936252594, '_episodes_total': None}\n"
          ]
        },
        {
          "output_type": "stream",
          "name": "stdout",
          "text": [
            "Trial trainable_func_e7d2baea reported epoch=10,loss=0.6077922155306452,should_checkpoint=True with parameters={'act1 ': 'relu', 'act2': 'selu', 'act3': 'relu', 'lr': 0.0005, 'batch_size': 32, 'hidden_dim1': 210.0, 'hidden_dim2': 120.0, 'hidden_dim3': 240.0}. This trial completed.\n",
            "Trial trainable_func_15ffcbd4 reported epoch=0,loss=0.18690042549780392,should_checkpoint=True with parameters={'act1 ': 'selu', 'act2': 'selu', 'act3': 'selu', 'lr': 0.0009, 'batch_size': 16, 'hidden_dim1': 330.0, 'hidden_dim2': 150.0, 'hidden_dim3': 180.0}.\n",
            "== Status ==\n",
            "Current time: 2022-07-26 12:10:37 (running for 00:06:59.33)\n",
            "Memory usage on this node: 2.3/12.7 GiB\n",
            "Using MedianStoppingRule: num_stopped=4.\n",
            "Resources requested: 2.0/2 CPUs, 0/0 GPUs, 0.0/7.46 GiB heap, 0.0/3.73 GiB objects\n",
            "Result logdir: /root/ray_results/trainable_func_2022-07-26_12-03-38\n",
            "Number of trials: 19/50 (6 PAUSED, 4 RUNNING, 9 TERMINATED)\n",
            "\n",
            "\n",
            "Trial trainable_func_e199be12 reported epoch=3,loss=0.6307887180374655,should_checkpoint=True with parameters={'act1 ': 'relu', 'act2': 'selu', 'act3': 'selu', 'lr': 0.0007, 'batch_size': 8, 'hidden_dim1': 330.0, 'hidden_dim2': 270.0, 'hidden_dim3': 225.0}.\n"
          ]
        },
        {
          "output_type": "stream",
          "name": "stderr",
          "text": [
            "\u001b[2m\u001b[36m(func pid=151414)\u001b[0m 2022-07-26 12:10:38,133\tINFO trainable.py:589 -- Restored on 172.28.0.2 from checkpoint: /root/ray_results/trainable_func_2022-07-26_12-03-38/trainable_func_15ffcbd4_7_act1=selu,act2=selu,act3=selu,batch_size=16,hidden_dim1=330.0000,hidden_dim2=150.0000,hidden_dim3=180.00_2022-07-26_12-04-41/checkpoint_tmp55edb2/./\n",
            "\u001b[2m\u001b[36m(func pid=151414)\u001b[0m 2022-07-26 12:10:38,133\tINFO trainable.py:597 -- Current state after restoring: {'_iteration': 28, '_timesteps_total': None, '_time_total': 120.06711840629578, '_episodes_total': None}\n"
          ]
        },
        {
          "output_type": "stream",
          "name": "stdout",
          "text": [
            "Trial trainable_func_fc50187e reported epoch=0,loss=0.13421290041071393,should_checkpoint=True with parameters={'act1 ': 'selu', 'act2': 'selu', 'act3': 'tanh', 'lr': 0.0006000000000000001, 'batch_size': 8, 'hidden_dim1': 270.0, 'hidden_dim2': 165.0, 'hidden_dim3': 285.0}.\n"
          ]
        },
        {
          "output_type": "stream",
          "name": "stderr",
          "text": [
            "\u001b[2m\u001b[36m(func pid=151479)\u001b[0m 2022-07-26 12:10:39,489\tINFO trainable.py:589 -- Restored on 172.28.0.2 from checkpoint: /root/ray_results/trainable_func_2022-07-26_12-03-38/trainable_func_fc50187e_5_act1=selu,act2=selu,act3=tanh,batch_size=8,hidden_dim1=270.0000,hidden_dim2=165.0000,hidden_dim3=285.000_2022-07-26_12-04-16/checkpoint_tmpcf3a95/./\n",
            "\u001b[2m\u001b[36m(func pid=151479)\u001b[0m 2022-07-26 12:10:39,492\tINFO trainable.py:597 -- Current state after restoring: {'_iteration': 32, '_timesteps_total': None, '_time_total': 243.88877391815186, '_episodes_total': None}\n"
          ]
        },
        {
          "output_type": "stream",
          "name": "stdout",
          "text": [
            "== Status ==\n",
            "Current time: 2022-07-26 12:10:43 (running for 00:07:04.62)\n",
            "Memory usage on this node: 2.3/12.7 GiB\n",
            "Using MedianStoppingRule: num_stopped=4.\n",
            "Resources requested: 1.5/2 CPUs, 0/0 GPUs, 0.0/7.46 GiB heap, 0.0/3.73 GiB objects\n",
            "Result logdir: /root/ray_results/trainable_func_2022-07-26_12-03-38\n",
            "Number of trials: 19/50 (7 PAUSED, 3 RUNNING, 9 TERMINATED)\n",
            "\n",
            "\n"
          ]
        },
        {
          "output_type": "stream",
          "name": "stderr",
          "text": [
            "\u001b[2m\u001b[36m(func pid=151414)\u001b[0m 2022-07-26 12:10:43,093\tINFO trainable.py:589 -- Restored on 172.28.0.2 from checkpoint: /root/ray_results/trainable_func_2022-07-26_12-03-38/trainable_func_15ffcbd4_7_act1=selu,act2=selu,act3=selu,batch_size=16,hidden_dim1=330.0000,hidden_dim2=150.0000,hidden_dim3=180.00_2022-07-26_12-04-41/checkpoint_tmp18840b/./\n",
            "\u001b[2m\u001b[36m(func pid=151414)\u001b[0m 2022-07-26 12:10:43,093\tINFO trainable.py:597 -- Current state after restoring: {'_iteration': 29, '_timesteps_total': None, '_time_total': 124.40412640571594, '_episodes_total': None}\n"
          ]
        },
        {
          "output_type": "stream",
          "name": "stdout",
          "text": [
            "Trial trainable_func_f4b83eba reported epoch=0,loss=0.8715084899216485,should_checkpoint=True with parameters={'act1 ': 'selu', 'act2': 'tanh', 'act3': 'tanh', 'lr': 0.0005, 'batch_size': 8, 'hidden_dim1': 285.0, 'hidden_dim2': 315.0, 'hidden_dim3': 330.0}.\n",
            "Trial trainable_func_fc50187e reported epoch=0,loss=0.11832587550615148,should_checkpoint=True with parameters={'act1 ': 'selu', 'act2': 'selu', 'act3': 'tanh', 'lr': 0.0006000000000000001, 'batch_size': 8, 'hidden_dim1': 270.0, 'hidden_dim2': 165.0, 'hidden_dim3': 285.0}.\n",
            "Trial trainable_func_15ffcbd4 reported epoch=0,loss=0.1887817156923178,should_checkpoint=True with parameters={'act1 ': 'selu', 'act2': 'selu', 'act3': 'selu', 'lr': 0.0009, 'batch_size': 16, 'hidden_dim1': 330.0, 'hidden_dim2': 150.0, 'hidden_dim3': 180.0}.\n"
          ]
        },
        {
          "output_type": "stream",
          "name": "stderr",
          "text": [
            "\u001b[2m\u001b[36m(func pid=151479)\u001b[0m 2022-07-26 12:10:47,447\tINFO trainable.py:589 -- Restored on 172.28.0.2 from checkpoint: /root/ray_results/trainable_func_2022-07-26_12-03-38/trainable_func_fc50187e_5_act1=selu,act2=selu,act3=tanh,batch_size=8,hidden_dim1=270.0000,hidden_dim2=165.0000,hidden_dim3=285.000_2022-07-26_12-04-16/checkpoint_tmpfee0a7/./\n",
            "\u001b[2m\u001b[36m(func pid=151479)\u001b[0m 2022-07-26 12:10:47,459\tINFO trainable.py:597 -- Current state after restoring: {'_iteration': 33, '_timesteps_total': None, '_time_total': 251.22716808319092, '_episodes_total': None}\n",
            "\u001b[2m\u001b[36m(func pid=151414)\u001b[0m 2022-07-26 12:10:48,134\tINFO trainable.py:589 -- Restored on 172.28.0.2 from checkpoint: /root/ray_results/trainable_func_2022-07-26_12-03-38/trainable_func_15ffcbd4_7_act1=selu,act2=selu,act3=selu,batch_size=16,hidden_dim1=330.0000,hidden_dim2=150.0000,hidden_dim3=180.00_2022-07-26_12-04-41/checkpoint_tmp5de938/./\n",
            "\u001b[2m\u001b[36m(func pid=151414)\u001b[0m 2022-07-26 12:10:48,134\tINFO trainable.py:597 -- Current state after restoring: {'_iteration': 30, '_timesteps_total': None, '_time_total': 128.65675735473633, '_episodes_total': None}\n"
          ]
        },
        {
          "output_type": "stream",
          "name": "stdout",
          "text": [
            "== Status ==\n",
            "Current time: 2022-07-26 12:10:48 (running for 00:07:09.66)\n",
            "Memory usage on this node: 2.3/12.7 GiB\n",
            "Using MedianStoppingRule: num_stopped=4.\n",
            "Resources requested: 1.5/2 CPUs, 0/0 GPUs, 0.0/7.46 GiB heap, 0.0/3.73 GiB objects\n",
            "Result logdir: /root/ray_results/trainable_func_2022-07-26_12-03-38\n",
            "Number of trials: 19/50 (7 PAUSED, 3 RUNNING, 9 TERMINATED)\n",
            "\n",
            "\n",
            "Trial trainable_func_e199be12 reported epoch=4,loss=0.5609692456978712,should_checkpoint=True with parameters={'act1 ': 'relu', 'act2': 'selu', 'act3': 'selu', 'lr': 0.0007, 'batch_size': 8, 'hidden_dim1': 330.0, 'hidden_dim2': 270.0, 'hidden_dim3': 225.0}.\n"
          ]
        },
        {
          "output_type": "stream",
          "name": "stderr",
          "text": [
            "\u001b[2m\u001b[36m(func pid=151414)\u001b[0m 2022-07-26 12:10:52,921\tINFO trainable.py:589 -- Restored on 172.28.0.2 from checkpoint: /root/ray_results/trainable_func_2022-07-26_12-03-38/trainable_func_15ffcbd4_7_act1=selu,act2=selu,act3=selu,batch_size=16,hidden_dim1=330.0000,hidden_dim2=150.0000,hidden_dim3=180.00_2022-07-26_12-04-41/checkpoint_tmpe4cb02/./\n",
            "\u001b[2m\u001b[36m(func pid=151414)\u001b[0m 2022-07-26 12:10:52,921\tINFO trainable.py:597 -- Current state after restoring: {'_iteration': 31, '_timesteps_total': None, '_time_total': 132.8310296535492, '_episodes_total': None}\n"
          ]
        },
        {
          "output_type": "stream",
          "name": "stdout",
          "text": [
            "Trial trainable_func_f4b83eba reported epoch=1,loss=0.7708245166050922,should_checkpoint=True with parameters={'act1 ': 'selu', 'act2': 'tanh', 'act3': 'tanh', 'lr': 0.0005, 'batch_size': 8, 'hidden_dim1': 285.0, 'hidden_dim2': 315.0, 'hidden_dim3': 330.0}.\n",
            "Trial trainable_func_fc50187e reported epoch=0,loss=0.15081495726080588,should_checkpoint=True with parameters={'act1 ': 'selu', 'act2': 'selu', 'act3': 'tanh', 'lr': 0.0006000000000000001, 'batch_size': 8, 'hidden_dim1': 270.0, 'hidden_dim2': 165.0, 'hidden_dim3': 285.0}.\n",
            "== Status ==\n",
            "Current time: 2022-07-26 12:10:55 (running for 00:07:17.18)\n",
            "Memory usage on this node: 2.3/12.7 GiB\n",
            "Using MedianStoppingRule: num_stopped=4.\n",
            "Resources requested: 2.0/2 CPUs, 0/0 GPUs, 0.0/7.46 GiB heap, 0.0/3.73 GiB objects\n",
            "Result logdir: /root/ray_results/trainable_func_2022-07-26_12-03-38\n",
            "Number of trials: 19/50 (6 PAUSED, 4 RUNNING, 9 TERMINATED)\n",
            "\n",
            "\n"
          ]
        },
        {
          "output_type": "stream",
          "name": "stderr",
          "text": [
            "\u001b[2m\u001b[36m(func pid=151479)\u001b[0m 2022-07-26 12:10:56,212\tINFO trainable.py:589 -- Restored on 172.28.0.2 from checkpoint: /root/ray_results/trainable_func_2022-07-26_12-03-38/trainable_func_fc50187e_5_act1=selu,act2=selu,act3=tanh,batch_size=8,hidden_dim1=270.0000,hidden_dim2=165.0000,hidden_dim3=285.000_2022-07-26_12-04-16/checkpoint_tmp65fbed/./\n",
            "\u001b[2m\u001b[36m(func pid=151479)\u001b[0m 2022-07-26 12:10:56,213\tINFO trainable.py:597 -- Current state after restoring: {'_iteration': 34, '_timesteps_total': None, '_time_total': 259.3614604473114, '_episodes_total': None}\n"
          ]
        },
        {
          "output_type": "stream",
          "name": "stdout",
          "text": [
            "Trial trainable_func_e199be12 reported epoch=5,loss=0.6542439825486044,should_checkpoint=True with parameters={'act1 ': 'relu', 'act2': 'selu', 'act3': 'selu', 'lr': 0.0007, 'batch_size': 8, 'hidden_dim1': 330.0, 'hidden_dim2': 270.0, 'hidden_dim3': 225.0}.\n",
            "Trial trainable_func_15ffcbd4 reported epoch=0,loss=0.12715810438064132,should_checkpoint=True with parameters={'act1 ': 'selu', 'act2': 'selu', 'act3': 'selu', 'lr': 0.0009, 'batch_size': 16, 'hidden_dim1': 330.0, 'hidden_dim2': 150.0, 'hidden_dim3': 180.0}.\n"
          ]
        },
        {
          "output_type": "stream",
          "name": "stderr",
          "text": [
            "\u001b[2m\u001b[36m(func pid=151414)\u001b[0m 2022-07-26 12:10:57,669\tINFO trainable.py:589 -- Restored on 172.28.0.2 from checkpoint: /root/ray_results/trainable_func_2022-07-26_12-03-38/trainable_func_15ffcbd4_7_act1=selu,act2=selu,act3=selu,batch_size=16,hidden_dim1=330.0000,hidden_dim2=150.0000,hidden_dim3=180.00_2022-07-26_12-04-41/checkpoint_tmp72604c/./\n",
            "\u001b[2m\u001b[36m(func pid=151414)\u001b[0m 2022-07-26 12:10:57,669\tINFO trainable.py:597 -- Current state after restoring: {'_iteration': 32, '_timesteps_total': None, '_time_total': 137.09901809692383, '_episodes_total': None}\n"
          ]
        },
        {
          "output_type": "stream",
          "name": "stdout",
          "text": [
            "== Status ==\n",
            "Current time: 2022-07-26 12:11:01 (running for 00:07:23.48)\n",
            "Memory usage on this node: 2.3/12.7 GiB\n",
            "Using MedianStoppingRule: num_stopped=4.\n",
            "Resources requested: 2.0/2 CPUs, 0/0 GPUs, 0.0/7.46 GiB heap, 0.0/3.73 GiB objects\n",
            "Result logdir: /root/ray_results/trainable_func_2022-07-26_12-03-38\n",
            "Number of trials: 19/50 (6 PAUSED, 4 RUNNING, 9 TERMINATED)\n",
            "\n",
            "\n",
            "Trial trainable_func_f4b83eba reported epoch=2,loss=0.7620419376913639,should_checkpoint=True with parameters={'act1 ': 'selu', 'act2': 'tanh', 'act3': 'tanh', 'lr': 0.0005, 'batch_size': 8, 'hidden_dim1': 285.0, 'hidden_dim2': 315.0, 'hidden_dim3': 330.0}.\n"
          ]
        },
        {
          "output_type": "stream",
          "name": "stderr",
          "text": [
            "\u001b[2m\u001b[36m(func pid=151414)\u001b[0m 2022-07-26 12:11:02,454\tINFO trainable.py:589 -- Restored on 172.28.0.2 from checkpoint: /root/ray_results/trainable_func_2022-07-26_12-03-38/trainable_func_15ffcbd4_7_act1=selu,act2=selu,act3=selu,batch_size=16,hidden_dim1=330.0000,hidden_dim2=150.0000,hidden_dim3=180.00_2022-07-26_12-04-41/checkpoint_tmp91f641/./\n",
            "\u001b[2m\u001b[36m(func pid=151414)\u001b[0m 2022-07-26 12:11:02,454\tINFO trainable.py:597 -- Current state after restoring: {'_iteration': 33, '_timesteps_total': None, '_time_total': 141.2663769721985, '_episodes_total': None}\n"
          ]
        },
        {
          "output_type": "stream",
          "name": "stdout",
          "text": [
            "Trial trainable_func_fc50187e reported epoch=0,loss=0.10646372807000717,should_checkpoint=True with parameters={'act1 ': 'selu', 'act2': 'selu', 'act3': 'tanh', 'lr': 0.0006000000000000001, 'batch_size': 8, 'hidden_dim1': 270.0, 'hidden_dim2': 165.0, 'hidden_dim3': 285.0}.\n"
          ]
        },
        {
          "output_type": "stream",
          "name": "stderr",
          "text": [
            "\u001b[2m\u001b[36m(func pid=151479)\u001b[0m 2022-07-26 12:11:04,780\tINFO trainable.py:589 -- Restored on 172.28.0.2 from checkpoint: /root/ray_results/trainable_func_2022-07-26_12-03-38/trainable_func_fc50187e_5_act1=selu,act2=selu,act3=tanh,batch_size=8,hidden_dim1=270.0000,hidden_dim2=165.0000,hidden_dim3=285.000_2022-07-26_12-04-16/checkpoint_tmpe021c5/./\n",
            "\u001b[2m\u001b[36m(func pid=151479)\u001b[0m 2022-07-26 12:11:04,780\tINFO trainable.py:597 -- Current state after restoring: {'_iteration': 35, '_timesteps_total': None, '_time_total': 267.35577392578125, '_episodes_total': None}\n"
          ]
        },
        {
          "output_type": "stream",
          "name": "stdout",
          "text": [
            "Trial trainable_func_e199be12 reported epoch=6,loss=0.6171964010684635,should_checkpoint=True with parameters={'act1 ': 'relu', 'act2': 'selu', 'act3': 'selu', 'lr': 0.0007, 'batch_size': 8, 'hidden_dim1': 330.0, 'hidden_dim2': 270.0, 'hidden_dim3': 225.0}.\n",
            "Trial trainable_func_15ffcbd4 reported epoch=0,loss=0.15849639868898016,should_checkpoint=True with parameters={'act1 ': 'selu', 'act2': 'selu', 'act3': 'selu', 'lr': 0.0009, 'batch_size': 16, 'hidden_dim1': 330.0, 'hidden_dim2': 150.0, 'hidden_dim3': 180.0}.\n",
            "== Status ==\n",
            "Current time: 2022-07-26 12:11:07 (running for 00:07:28.95)\n",
            "Memory usage on this node: 2.3/12.7 GiB\n",
            "Using MedianStoppingRule: num_stopped=4.\n",
            "Resources requested: 1.5/2 CPUs, 0/0 GPUs, 0.0/7.46 GiB heap, 0.0/3.73 GiB objects\n",
            "Result logdir: /root/ray_results/trainable_func_2022-07-26_12-03-38\n",
            "Number of trials: 19/50 (7 PAUSED, 3 RUNNING, 9 TERMINATED)\n",
            "\n",
            "\n"
          ]
        },
        {
          "output_type": "stream",
          "name": "stderr",
          "text": [
            "\u001b[2m\u001b[36m(func pid=151414)\u001b[0m 2022-07-26 12:11:07,420\tINFO trainable.py:589 -- Restored on 172.28.0.2 from checkpoint: /root/ray_results/trainable_func_2022-07-26_12-03-38/trainable_func_15ffcbd4_7_act1=selu,act2=selu,act3=selu,batch_size=16,hidden_dim1=330.0000,hidden_dim2=150.0000,hidden_dim3=180.00_2022-07-26_12-04-41/checkpoint_tmp625241/./\n",
            "\u001b[2m\u001b[36m(func pid=151414)\u001b[0m 2022-07-26 12:11:07,421\tINFO trainable.py:597 -- Current state after restoring: {'_iteration': 34, '_timesteps_total': None, '_time_total': 145.6574637889862, '_episodes_total': None}\n"
          ]
        },
        {
          "output_type": "stream",
          "name": "stdout",
          "text": [
            "Trial trainable_func_f4b83eba reported epoch=3,loss=0.7394824677854133,should_checkpoint=True with parameters={'act1 ': 'selu', 'act2': 'tanh', 'act3': 'tanh', 'lr': 0.0005, 'batch_size': 8, 'hidden_dim1': 285.0, 'hidden_dim2': 315.0, 'hidden_dim3': 330.0}.\n"
          ]
        },
        {
          "output_type": "stream",
          "name": "stderr",
          "text": [
            "\u001b[2m\u001b[36m(func pid=151414)\u001b[0m 2022-07-26 12:11:12,142\tINFO trainable.py:589 -- Restored on 172.28.0.2 from checkpoint: /root/ray_results/trainable_func_2022-07-26_12-03-38/trainable_func_15ffcbd4_7_act1=selu,act2=selu,act3=selu,batch_size=16,hidden_dim1=330.0000,hidden_dim2=150.0000,hidden_dim3=180.00_2022-07-26_12-04-41/checkpoint_tmp0935fb/./\n",
            "\u001b[2m\u001b[36m(func pid=151414)\u001b[0m 2022-07-26 12:11:12,142\tINFO trainable.py:597 -- Current state after restoring: {'_iteration': 35, '_timesteps_total': None, '_time_total': 149.74009346961975, '_episodes_total': None}\n"
          ]
        },
        {
          "output_type": "stream",
          "name": "stdout",
          "text": [
            "Trial trainable_func_fc50187e reported epoch=0,loss=0.12122364865684838,should_checkpoint=True with parameters={'act1 ': 'selu', 'act2': 'selu', 'act3': 'tanh', 'lr': 0.0006000000000000001, 'batch_size': 8, 'hidden_dim1': 270.0, 'hidden_dim2': 165.0, 'hidden_dim3': 285.0}.\n",
            "== Status ==\n",
            "Current time: 2022-07-26 12:11:12 (running for 00:07:34.38)\n",
            "Memory usage on this node: 2.3/12.7 GiB\n",
            "Using MedianStoppingRule: num_stopped=4.\n",
            "Resources requested: 2.0/2 CPUs, 0/0 GPUs, 0.0/7.46 GiB heap, 0.0/3.73 GiB objects\n",
            "Result logdir: /root/ray_results/trainable_func_2022-07-26_12-03-38\n",
            "Number of trials: 19/50 (6 PAUSED, 4 RUNNING, 9 TERMINATED)\n",
            "\n",
            "\n"
          ]
        },
        {
          "output_type": "stream",
          "name": "stderr",
          "text": [
            "\u001b[2m\u001b[36m(func pid=151479)\u001b[0m 2022-07-26 12:11:13,423\tINFO trainable.py:589 -- Restored on 172.28.0.2 from checkpoint: /root/ray_results/trainable_func_2022-07-26_12-03-38/trainable_func_fc50187e_5_act1=selu,act2=selu,act3=tanh,batch_size=8,hidden_dim1=270.0000,hidden_dim2=165.0000,hidden_dim3=285.000_2022-07-26_12-04-16/checkpoint_tmp320714/./\n",
            "\u001b[2m\u001b[36m(func pid=151479)\u001b[0m 2022-07-26 12:11:13,423\tINFO trainable.py:597 -- Current state after restoring: {'_iteration': 36, '_timesteps_total': None, '_time_total': 275.3821544647217, '_episodes_total': None}\n"
          ]
        },
        {
          "output_type": "stream",
          "name": "stdout",
          "text": [
            "Trial trainable_func_e199be12 reported epoch=7,loss=0.5819236854902472,should_checkpoint=True with parameters={'act1 ': 'relu', 'act2': 'selu', 'act3': 'selu', 'lr': 0.0007, 'batch_size': 8, 'hidden_dim1': 330.0, 'hidden_dim2': 270.0, 'hidden_dim3': 225.0}.\n",
            "Trial trainable_func_15ffcbd4 reported epoch=0,loss=0.1354427217002485,should_checkpoint=True with parameters={'act1 ': 'selu', 'act2': 'selu', 'act3': 'selu', 'lr': 0.0009, 'batch_size': 16, 'hidden_dim1': 330.0, 'hidden_dim2': 150.0, 'hidden_dim3': 180.0}.\n"
          ]
        },
        {
          "output_type": "stream",
          "name": "stderr",
          "text": [
            "\u001b[2m\u001b[36m(func pid=151414)\u001b[0m 2022-07-26 12:11:17,152\tINFO trainable.py:589 -- Restored on 172.28.0.2 from checkpoint: /root/ray_results/trainable_func_2022-07-26_12-03-38/trainable_func_15ffcbd4_7_act1=selu,act2=selu,act3=selu,batch_size=16,hidden_dim1=330.0000,hidden_dim2=150.0000,hidden_dim3=180.00_2022-07-26_12-04-41/checkpoint_tmp209996/./\n",
            "\u001b[2m\u001b[36m(func pid=151414)\u001b[0m 2022-07-26 12:11:17,153\tINFO trainable.py:597 -- Current state after restoring: {'_iteration': 36, '_timesteps_total': None, '_time_total': 154.17313718795776, '_episodes_total': None}\n"
          ]
        },
        {
          "output_type": "stream",
          "name": "stdout",
          "text": [
            "Trial trainable_func_fc50187e reported epoch=0,loss=0.12699303677452992,should_checkpoint=True with parameters={'act1 ': 'selu', 'act2': 'selu', 'act3': 'tanh', 'lr': 0.0006000000000000001, 'batch_size': 8, 'hidden_dim1': 270.0, 'hidden_dim2': 165.0, 'hidden_dim3': 285.0}.\n",
            "== Status ==\n",
            "Current time: 2022-07-26 12:11:21 (running for 00:07:42.59)\n",
            "Memory usage on this node: 2.3/12.7 GiB\n",
            "Using MedianStoppingRule: num_stopped=4.\n",
            "Resources requested: 2.0/2 CPUs, 0/0 GPUs, 0.0/7.46 GiB heap, 0.0/3.73 GiB objects\n",
            "Result logdir: /root/ray_results/trainable_func_2022-07-26_12-03-38\n",
            "Number of trials: 19/50 (6 PAUSED, 4 RUNNING, 9 TERMINATED)\n",
            "\n",
            "\n",
            "Trial trainable_func_f4b83eba reported epoch=4,loss=0.7008560667419802,should_checkpoint=True with parameters={'act1 ': 'selu', 'act2': 'tanh', 'act3': 'tanh', 'lr': 0.0005, 'batch_size': 8, 'hidden_dim1': 285.0, 'hidden_dim2': 315.0, 'hidden_dim3': 330.0}.\n",
            "Trial trainable_func_15ffcbd4 reported epoch=0,loss=0.11958373218451498,should_checkpoint=True with parameters={'act1 ': 'selu', 'act2': 'selu', 'act3': 'selu', 'lr': 0.0009, 'batch_size': 16, 'hidden_dim1': 330.0, 'hidden_dim2': 150.0, 'hidden_dim3': 180.0}.\n"
          ]
        },
        {
          "output_type": "stream",
          "name": "stderr",
          "text": [
            "\u001b[2m\u001b[36m(func pid=151479)\u001b[0m 2022-07-26 12:11:21,611\tINFO trainable.py:589 -- Restored on 172.28.0.2 from checkpoint: /root/ray_results/trainable_func_2022-07-26_12-03-38/trainable_func_fc50187e_5_act1=selu,act2=selu,act3=tanh,batch_size=8,hidden_dim1=270.0000,hidden_dim2=165.0000,hidden_dim3=285.000_2022-07-26_12-04-16/checkpoint_tmp833e8e/./\n",
            "\u001b[2m\u001b[36m(func pid=151479)\u001b[0m 2022-07-26 12:11:21,611\tINFO trainable.py:597 -- Current state after restoring: {'_iteration': 37, '_timesteps_total': None, '_time_total': 282.96890354156494, '_episodes_total': None}\n",
            "\u001b[2m\u001b[36m(func pid=151414)\u001b[0m 2022-07-26 12:11:22,328\tINFO trainable.py:589 -- Restored on 172.28.0.2 from checkpoint: /root/ray_results/trainable_func_2022-07-26_12-03-38/trainable_func_15ffcbd4_7_act1=selu,act2=selu,act3=selu,batch_size=16,hidden_dim1=330.0000,hidden_dim2=150.0000,hidden_dim3=180.00_2022-07-26_12-04-41/checkpoint_tmp1ee34a/./\n",
            "\u001b[2m\u001b[36m(func pid=151414)\u001b[0m 2022-07-26 12:11:22,328\tINFO trainable.py:597 -- Current state after restoring: {'_iteration': 37, '_timesteps_total': None, '_time_total': 158.6488835811615, '_episodes_total': None}\n"
          ]
        },
        {
          "output_type": "stream",
          "name": "stdout",
          "text": [
            "Trial trainable_func_e199be12 reported epoch=8,loss=0.6423674391970232,should_checkpoint=True with parameters={'act1 ': 'relu', 'act2': 'selu', 'act3': 'selu', 'lr': 0.0007, 'batch_size': 8, 'hidden_dim1': 330.0, 'hidden_dim2': 270.0, 'hidden_dim3': 225.0}.\n",
            "Trial trainable_func_15ffcbd4 reported epoch=0,loss=0.1162011357074167,should_checkpoint=True with parameters={'act1 ': 'selu', 'act2': 'selu', 'act3': 'selu', 'lr': 0.0009, 'batch_size': 16, 'hidden_dim1': 330.0, 'hidden_dim2': 150.0, 'hidden_dim3': 180.0}.\n",
            "== Status ==\n",
            "Current time: 2022-07-26 12:11:26 (running for 00:07:48.38)\n",
            "Memory usage on this node: 2.3/12.7 GiB\n",
            "Using MedianStoppingRule: num_stopped=4.\n",
            "Resources requested: 2.0/2 CPUs, 0/0 GPUs, 0.0/7.46 GiB heap, 0.0/3.73 GiB objects\n",
            "Result logdir: /root/ray_results/trainable_func_2022-07-26_12-03-38\n",
            "Number of trials: 19/50 (6 PAUSED, 4 RUNNING, 9 TERMINATED)\n",
            "\n",
            "\n"
          ]
        },
        {
          "output_type": "stream",
          "name": "stderr",
          "text": [
            "\u001b[2m\u001b[36m(func pid=151414)\u001b[0m 2022-07-26 12:11:27,417\tINFO trainable.py:589 -- Restored on 172.28.0.2 from checkpoint: /root/ray_results/trainable_func_2022-07-26_12-03-38/trainable_func_15ffcbd4_7_act1=selu,act2=selu,act3=selu,batch_size=16,hidden_dim1=330.0000,hidden_dim2=150.0000,hidden_dim3=180.00_2022-07-26_12-04-41/checkpoint_tmp9a8acd/./\n",
            "\u001b[2m\u001b[36m(func pid=151414)\u001b[0m 2022-07-26 12:11:27,418\tINFO trainable.py:597 -- Current state after restoring: {'_iteration': 38, '_timesteps_total': None, '_time_total': 163.1230046749115, '_episodes_total': None}\n"
          ]
        },
        {
          "output_type": "stream",
          "name": "stdout",
          "text": [
            "Trial trainable_func_fc50187e reported epoch=0,loss=0.12134527074396101,should_checkpoint=True with parameters={'act1 ': 'selu', 'act2': 'selu', 'act3': 'tanh', 'lr': 0.0006000000000000001, 'batch_size': 8, 'hidden_dim1': 270.0, 'hidden_dim2': 165.0, 'hidden_dim3': 285.0}.\n"
          ]
        },
        {
          "output_type": "stream",
          "name": "stderr",
          "text": [
            "\u001b[2m\u001b[36m(func pid=151479)\u001b[0m 2022-07-26 12:11:29,680\tINFO trainable.py:589 -- Restored on 172.28.0.2 from checkpoint: /root/ray_results/trainable_func_2022-07-26_12-03-38/trainable_func_fc50187e_5_act1=selu,act2=selu,act3=tanh,batch_size=8,hidden_dim1=270.0000,hidden_dim2=165.0000,hidden_dim3=285.000_2022-07-26_12-04-16/checkpoint_tmp8cd239/./\n",
            "\u001b[2m\u001b[36m(func pid=151479)\u001b[0m 2022-07-26 12:11:29,680\tINFO trainable.py:597 -- Current state after restoring: {'_iteration': 38, '_timesteps_total': None, '_time_total': 290.5292069911957, '_episodes_total': None}\n"
          ]
        },
        {
          "output_type": "stream",
          "name": "stdout",
          "text": [
            "Trial trainable_func_f4b83eba reported epoch=5,loss=0.6975753112562819,should_checkpoint=True with parameters={'act1 ': 'selu', 'act2': 'tanh', 'act3': 'tanh', 'lr': 0.0005, 'batch_size': 8, 'hidden_dim1': 285.0, 'hidden_dim2': 315.0, 'hidden_dim3': 330.0}.\n",
            "== Status ==\n",
            "Current time: 2022-07-26 12:11:32 (running for 00:07:54.00)\n",
            "Memory usage on this node: 2.3/12.7 GiB\n",
            "Using MedianStoppingRule: num_stopped=4.\n",
            "Resources requested: 1.5/2 CPUs, 0/0 GPUs, 0.0/7.46 GiB heap, 0.0/3.73 GiB objects\n",
            "Result logdir: /root/ray_results/trainable_func_2022-07-26_12-03-38\n",
            "Number of trials: 19/50 (7 PAUSED, 3 RUNNING, 9 TERMINATED)\n",
            "\n",
            "\n"
          ]
        },
        {
          "output_type": "stream",
          "name": "stderr",
          "text": [
            "\u001b[2m\u001b[36m(func pid=151414)\u001b[0m 2022-07-26 12:11:32,464\tINFO trainable.py:589 -- Restored on 172.28.0.2 from checkpoint: /root/ray_results/trainable_func_2022-07-26_12-03-38/trainable_func_15ffcbd4_7_act1=selu,act2=selu,act3=selu,batch_size=16,hidden_dim1=330.0000,hidden_dim2=150.0000,hidden_dim3=180.00_2022-07-26_12-04-41/checkpoint_tmp4a2b5d/./\n",
            "\u001b[2m\u001b[36m(func pid=151414)\u001b[0m 2022-07-26 12:11:32,464\tINFO trainable.py:597 -- Current state after restoring: {'_iteration': 39, '_timesteps_total': None, '_time_total': 167.4251832962036, '_episodes_total': None}\n"
          ]
        },
        {
          "output_type": "stream",
          "name": "stdout",
          "text": [
            "Trial trainable_func_e199be12 reported epoch=9,loss=0.6578574953038392,should_checkpoint=True with parameters={'act1 ': 'relu', 'act2': 'selu', 'act3': 'selu', 'lr': 0.0007, 'batch_size': 8, 'hidden_dim1': 330.0, 'hidden_dim2': 270.0, 'hidden_dim3': 225.0}.\n",
            "Trial trainable_func_15ffcbd4 reported epoch=0,loss=0.13788202450594159,should_checkpoint=True with parameters={'act1 ': 'selu', 'act2': 'selu', 'act3': 'selu', 'lr': 0.0009, 'batch_size': 16, 'hidden_dim1': 330.0, 'hidden_dim2': 150.0, 'hidden_dim3': 180.0}.\n",
            "== Status ==\n",
            "Current time: 2022-07-26 12:11:37 (running for 00:07:59.06)\n",
            "Memory usage on this node: 2.3/12.7 GiB\n",
            "Using MedianStoppingRule: num_stopped=4.\n",
            "Resources requested: 1.5/2 CPUs, 0/0 GPUs, 0.0/7.46 GiB heap, 0.0/3.73 GiB objects\n",
            "Result logdir: /root/ray_results/trainable_func_2022-07-26_12-03-38\n",
            "Number of trials: 19/50 (7 PAUSED, 3 RUNNING, 9 TERMINATED)\n",
            "\n",
            "\n",
            "Trial trainable_func_fc50187e reported epoch=0,loss=0.1470176335695474,should_checkpoint=True with parameters={'act1 ': 'selu', 'act2': 'selu', 'act3': 'tanh', 'lr': 0.0006000000000000001, 'batch_size': 8, 'hidden_dim1': 270.0, 'hidden_dim2': 165.0, 'hidden_dim3': 285.0}.\n"
          ]
        },
        {
          "output_type": "stream",
          "name": "stderr",
          "text": [
            "\u001b[2m\u001b[36m(func pid=151414)\u001b[0m 2022-07-26 12:11:37,522\tINFO trainable.py:589 -- Restored on 172.28.0.2 from checkpoint: /root/ray_results/trainable_func_2022-07-26_12-03-38/trainable_func_15ffcbd4_7_act1=selu,act2=selu,act3=selu,batch_size=16,hidden_dim1=330.0000,hidden_dim2=150.0000,hidden_dim3=180.00_2022-07-26_12-04-41/checkpoint_tmpe6a5f4/./\n",
            "\u001b[2m\u001b[36m(func pid=151414)\u001b[0m 2022-07-26 12:11:37,522\tINFO trainable.py:597 -- Current state after restoring: {'_iteration': 40, '_timesteps_total': None, '_time_total': 171.92493104934692, '_episodes_total': None}\n",
            "\u001b[2m\u001b[36m(func pid=151479)\u001b[0m 2022-07-26 12:11:38,124\tINFO trainable.py:589 -- Restored on 172.28.0.2 from checkpoint: /root/ray_results/trainable_func_2022-07-26_12-03-38/trainable_func_fc50187e_5_act1=selu,act2=selu,act3=tanh,batch_size=8,hidden_dim1=270.0000,hidden_dim2=165.0000,hidden_dim3=285.000_2022-07-26_12-04-16/checkpoint_tmp07679c/./\n",
            "\u001b[2m\u001b[36m(func pid=151479)\u001b[0m 2022-07-26 12:11:38,125\tINFO trainable.py:597 -- Current state after restoring: {'_iteration': 39, '_timesteps_total': None, '_time_total': 298.2766180038452, '_episodes_total': None}\n"
          ]
        },
        {
          "output_type": "stream",
          "name": "stdout",
          "text": [
            "Trial trainable_func_f4b83eba reported epoch=6,loss=0.7266489634888192,should_checkpoint=True with parameters={'act1 ': 'selu', 'act2': 'tanh', 'act3': 'tanh', 'lr': 0.0005, 'batch_size': 8, 'hidden_dim1': 285.0, 'hidden_dim2': 315.0, 'hidden_dim3': 330.0}.\n",
            "Trial trainable_func_15ffcbd4 reported epoch=0,loss=0.12052300499426352,should_checkpoint=True with parameters={'act1 ': 'selu', 'act2': 'selu', 'act3': 'selu', 'lr': 0.0009, 'batch_size': 16, 'hidden_dim1': 330.0, 'hidden_dim2': 150.0, 'hidden_dim3': 180.0}.\n",
            "== Status ==\n",
            "Current time: 2022-07-26 12:11:42 (running for 00:08:04.51)\n",
            "Memory usage on this node: 2.3/12.7 GiB\n",
            "Using MedianStoppingRule: num_stopped=4.\n",
            "Resources requested: 2.0/2 CPUs, 0/0 GPUs, 0.0/7.46 GiB heap, 0.0/3.73 GiB objects\n",
            "Result logdir: /root/ray_results/trainable_func_2022-07-26_12-03-38\n",
            "Number of trials: 19/50 (6 PAUSED, 4 RUNNING, 9 TERMINATED)\n",
            "\n",
            "\n"
          ]
        },
        {
          "output_type": "stream",
          "name": "stderr",
          "text": [
            "\u001b[2m\u001b[36m(func pid=151414)\u001b[0m 2022-07-26 12:11:43,585\tINFO trainable.py:589 -- Restored on 172.28.0.2 from checkpoint: /root/ray_results/trainable_func_2022-07-26_12-03-38/trainable_func_15ffcbd4_7_act1=selu,act2=selu,act3=selu,batch_size=16,hidden_dim1=330.0000,hidden_dim2=150.0000,hidden_dim3=180.00_2022-07-26_12-04-41/checkpoint_tmp24e96b/./\n",
            "\u001b[2m\u001b[36m(func pid=151414)\u001b[0m 2022-07-26 12:11:43,592\tINFO trainable.py:597 -- Current state after restoring: {'_iteration': 41, '_timesteps_total': None, '_time_total': 177.33500337600708, '_episodes_total': None}\n"
          ]
        },
        {
          "output_type": "stream",
          "name": "stdout",
          "text": [
            "Trial trainable_func_e199be12 reported epoch=10,loss=0.6625147348595645,should_checkpoint=True with parameters={'act1 ': 'relu', 'act2': 'selu', 'act3': 'selu', 'lr': 0.0007, 'batch_size': 8, 'hidden_dim1': 330.0, 'hidden_dim2': 270.0, 'hidden_dim3': 225.0}. This trial completed.\n",
            "Trial trainable_func_fc50187e reported epoch=0,loss=0.1312570983208318,should_checkpoint=True with parameters={'act1 ': 'selu', 'act2': 'selu', 'act3': 'tanh', 'lr': 0.0006000000000000001, 'batch_size': 8, 'hidden_dim1': 270.0, 'hidden_dim2': 165.0, 'hidden_dim3': 285.0}.\n"
          ]
        },
        {
          "output_type": "stream",
          "name": "stderr",
          "text": [
            "\u001b[2m\u001b[36m(func pid=151479)\u001b[0m 2022-07-26 12:11:47,194\tINFO trainable.py:589 -- Restored on 172.28.0.2 from checkpoint: /root/ray_results/trainable_func_2022-07-26_12-03-38/trainable_func_fc50187e_5_act1=selu,act2=selu,act3=tanh,batch_size=8,hidden_dim1=270.0000,hidden_dim2=165.0000,hidden_dim3=285.000_2022-07-26_12-04-16/checkpoint_tmp806351/./\n",
            "\u001b[2m\u001b[36m(func pid=151479)\u001b[0m 2022-07-26 12:11:47,195\tINFO trainable.py:597 -- Current state after restoring: {'_iteration': 40, '_timesteps_total': None, '_time_total': 306.67285418510437, '_episodes_total': None}\n"
          ]
        },
        {
          "output_type": "stream",
          "name": "stdout",
          "text": [
            "Trial trainable_func_15ffcbd4 reported epoch=0,loss=0.10833187694587647,should_checkpoint=True with parameters={'act1 ': 'selu', 'act2': 'selu', 'act3': 'selu', 'lr': 0.0009, 'batch_size': 16, 'hidden_dim1': 330.0, 'hidden_dim2': 150.0, 'hidden_dim3': 180.0}.\n",
            "== Status ==\n",
            "Current time: 2022-07-26 12:11:48 (running for 00:08:09.62)\n",
            "Memory usage on this node: 2.3/12.7 GiB\n",
            "Using MedianStoppingRule: num_stopped=5.\n",
            "Resources requested: 2.0/2 CPUs, 0/0 GPUs, 0.0/7.46 GiB heap, 0.0/3.73 GiB objects\n",
            "Result logdir: /root/ray_results/trainable_func_2022-07-26_12-03-38\n",
            "Number of trials: 20/50 (6 PAUSED, 4 RUNNING, 10 TERMINATED)\n",
            "\n",
            "\n"
          ]
        },
        {
          "output_type": "stream",
          "name": "stderr",
          "text": [
            "\u001b[2m\u001b[36m(func pid=151414)\u001b[0m 2022-07-26 12:11:48,695\tINFO trainable.py:589 -- Restored on 172.28.0.2 from checkpoint: /root/ray_results/trainable_func_2022-07-26_12-03-38/trainable_func_15ffcbd4_7_act1=selu,act2=selu,act3=selu,batch_size=16,hidden_dim1=330.0000,hidden_dim2=150.0000,hidden_dim3=180.00_2022-07-26_12-04-41/checkpoint_tmp41fde2/./\n",
            "\u001b[2m\u001b[36m(func pid=151414)\u001b[0m 2022-07-26 12:11:48,695\tINFO trainable.py:597 -- Current state after restoring: {'_iteration': 42, '_timesteps_total': None, '_time_total': 181.77553749084473, '_episodes_total': None}\n"
          ]
        },
        {
          "output_type": "stream",
          "name": "stdout",
          "text": [
            "Trial trainable_func_1da60140 reported epoch=0,loss=0.8219546759884159,should_checkpoint=True with parameters={'act1 ': 'selu', 'act2': 'tanh', 'act3': 'tanh', 'lr': 0.0008, 'batch_size': 8, 'hidden_dim1': 285.0, 'hidden_dim2': 330.0, 'hidden_dim3': 135.0}.\n",
            "Trial trainable_func_f4b83eba reported epoch=7,loss=0.6709678385419033,should_checkpoint=True with parameters={'act1 ': 'selu', 'act2': 'tanh', 'act3': 'tanh', 'lr': 0.0005, 'batch_size': 8, 'hidden_dim1': 285.0, 'hidden_dim2': 315.0, 'hidden_dim3': 330.0}.\n",
            "Trial trainable_func_15ffcbd4 reported epoch=0,loss=0.09326090741230512,should_checkpoint=True with parameters={'act1 ': 'selu', 'act2': 'selu', 'act3': 'selu', 'lr': 0.0009, 'batch_size': 16, 'hidden_dim1': 330.0, 'hidden_dim2': 150.0, 'hidden_dim3': 180.0}.\n",
            "== Status ==\n",
            "Current time: 2022-07-26 12:11:53 (running for 00:08:15.08)\n",
            "Memory usage on this node: 2.3/12.7 GiB\n",
            "Using MedianStoppingRule: num_stopped=5.\n",
            "Resources requested: 2.0/2 CPUs, 0/0 GPUs, 0.0/7.46 GiB heap, 0.0/3.73 GiB objects\n",
            "Result logdir: /root/ray_results/trainable_func_2022-07-26_12-03-38\n",
            "Number of trials: 20/50 (6 PAUSED, 4 RUNNING, 10 TERMINATED)\n",
            "\n",
            "\n"
          ]
        },
        {
          "output_type": "stream",
          "name": "stderr",
          "text": [
            "\u001b[2m\u001b[36m(func pid=151414)\u001b[0m 2022-07-26 12:11:54,245\tINFO trainable.py:589 -- Restored on 172.28.0.2 from checkpoint: /root/ray_results/trainable_func_2022-07-26_12-03-38/trainable_func_15ffcbd4_7_act1=selu,act2=selu,act3=selu,batch_size=16,hidden_dim1=330.0000,hidden_dim2=150.0000,hidden_dim3=180.00_2022-07-26_12-04-41/checkpoint_tmp2d70c3/./\n",
            "\u001b[2m\u001b[36m(func pid=151414)\u001b[0m 2022-07-26 12:11:54,245\tINFO trainable.py:597 -- Current state after restoring: {'_iteration': 43, '_timesteps_total': None, '_time_total': 186.4944577217102, '_episodes_total': None}\n"
          ]
        },
        {
          "output_type": "stream",
          "name": "stdout",
          "text": [
            "Trial trainable_func_fc50187e reported epoch=0,loss=0.10760728457650538,should_checkpoint=True with parameters={'act1 ': 'selu', 'act2': 'selu', 'act3': 'tanh', 'lr': 0.0006000000000000001, 'batch_size': 8, 'hidden_dim1': 270.0, 'hidden_dim2': 165.0, 'hidden_dim3': 285.0}.\n"
          ]
        },
        {
          "output_type": "stream",
          "name": "stderr",
          "text": [
            "\u001b[2m\u001b[36m(func pid=151479)\u001b[0m 2022-07-26 12:11:55,993\tINFO trainable.py:589 -- Restored on 172.28.0.2 from checkpoint: /root/ray_results/trainable_func_2022-07-26_12-03-38/trainable_func_fc50187e_5_act1=selu,act2=selu,act3=tanh,batch_size=8,hidden_dim1=270.0000,hidden_dim2=165.0000,hidden_dim3=285.000_2022-07-26_12-04-16/checkpoint_tmpedd6da/./\n",
            "\u001b[2m\u001b[36m(func pid=151479)\u001b[0m 2022-07-26 12:11:55,993\tINFO trainable.py:597 -- Current state after restoring: {'_iteration': 41, '_timesteps_total': None, '_time_total': 314.86483812332153, '_episodes_total': None}\n"
          ]
        },
        {
          "output_type": "stream",
          "name": "stdout",
          "text": [
            "Trial trainable_func_15ffcbd4 reported epoch=0,loss=0.08251484328852474,should_checkpoint=True with parameters={'act1 ': 'selu', 'act2': 'selu', 'act3': 'selu', 'lr': 0.0009, 'batch_size': 16, 'hidden_dim1': 330.0, 'hidden_dim2': 150.0, 'hidden_dim3': 180.0}.\n",
            "== Status ==\n",
            "Current time: 2022-07-26 12:11:58 (running for 00:08:20.51)\n",
            "Memory usage on this node: 2.3/12.7 GiB\n",
            "Using MedianStoppingRule: num_stopped=5.\n",
            "Resources requested: 1.5/2 CPUs, 0/0 GPUs, 0.0/7.46 GiB heap, 0.0/3.73 GiB objects\n",
            "Result logdir: /root/ray_results/trainable_func_2022-07-26_12-03-38\n",
            "Number of trials: 20/50 (7 PAUSED, 3 RUNNING, 10 TERMINATED)\n",
            "\n",
            "\n"
          ]
        },
        {
          "output_type": "stream",
          "name": "stderr",
          "text": [
            "\u001b[2m\u001b[36m(func pid=151414)\u001b[0m 2022-07-26 12:11:58,983\tINFO trainable.py:589 -- Restored on 172.28.0.2 from checkpoint: /root/ray_results/trainable_func_2022-07-26_12-03-38/trainable_func_15ffcbd4_7_act1=selu,act2=selu,act3=selu,batch_size=16,hidden_dim1=330.0000,hidden_dim2=150.0000,hidden_dim3=180.00_2022-07-26_12-04-41/checkpoint_tmp8f0f5d/./\n",
            "\u001b[2m\u001b[36m(func pid=151414)\u001b[0m 2022-07-26 12:11:58,983\tINFO trainable.py:597 -- Current state after restoring: {'_iteration': 44, '_timesteps_total': None, '_time_total': 190.71770358085632, '_episodes_total': None}\n"
          ]
        },
        {
          "output_type": "stream",
          "name": "stdout",
          "text": [
            "Trial trainable_func_1da60140 reported epoch=1,loss=0.6883174306214979,should_checkpoint=True with parameters={'act1 ': 'selu', 'act2': 'tanh', 'act3': 'tanh', 'lr': 0.0008, 'batch_size': 8, 'hidden_dim1': 285.0, 'hidden_dim2': 330.0, 'hidden_dim3': 135.0}.\n",
            "Trial trainable_func_f4b83eba reported epoch=8,loss=0.6842608775909701,should_checkpoint=True with parameters={'act1 ': 'selu', 'act2': 'tanh', 'act3': 'tanh', 'lr': 0.0005, 'batch_size': 8, 'hidden_dim1': 285.0, 'hidden_dim2': 315.0, 'hidden_dim3': 330.0}.\n",
            "== Status ==\n",
            "Current time: 2022-07-26 12:12:04 (running for 00:08:25.61)\n",
            "Memory usage on this node: 2.3/12.7 GiB\n",
            "Using MedianStoppingRule: num_stopped=5.\n",
            "Resources requested: 1.5/2 CPUs, 0/0 GPUs, 0.0/7.46 GiB heap, 0.0/3.73 GiB objects\n",
            "Result logdir: /root/ray_results/trainable_func_2022-07-26_12-03-38\n",
            "Number of trials: 20/50 (7 PAUSED, 3 RUNNING, 10 TERMINATED)\n",
            "\n",
            "\n",
            "Trial trainable_func_fc50187e reported epoch=0,loss=0.09904169329523967,should_checkpoint=True with parameters={'act1 ': 'selu', 'act2': 'selu', 'act3': 'tanh', 'lr': 0.0006000000000000001, 'batch_size': 8, 'hidden_dim1': 270.0, 'hidden_dim2': 165.0, 'hidden_dim3': 285.0}.\n"
          ]
        },
        {
          "output_type": "stream",
          "name": "stderr",
          "text": [
            "\u001b[2m\u001b[36m(func pid=151414)\u001b[0m 2022-07-26 12:12:04,080\tINFO trainable.py:589 -- Restored on 172.28.0.2 from checkpoint: /root/ray_results/trainable_func_2022-07-26_12-03-38/trainable_func_15ffcbd4_7_act1=selu,act2=selu,act3=selu,batch_size=16,hidden_dim1=330.0000,hidden_dim2=150.0000,hidden_dim3=180.00_2022-07-26_12-04-41/checkpoint_tmpe3e82b/./\n",
            "\u001b[2m\u001b[36m(func pid=151414)\u001b[0m 2022-07-26 12:12:04,080\tINFO trainable.py:597 -- Current state after restoring: {'_iteration': 45, '_timesteps_total': None, '_time_total': 195.08868598937988, '_episodes_total': None}\n",
            "\u001b[2m\u001b[36m(func pid=151479)\u001b[0m 2022-07-26 12:12:04,779\tINFO trainable.py:589 -- Restored on 172.28.0.2 from checkpoint: /root/ray_results/trainable_func_2022-07-26_12-03-38/trainable_func_fc50187e_5_act1=selu,act2=selu,act3=tanh,batch_size=8,hidden_dim1=270.0000,hidden_dim2=165.0000,hidden_dim3=285.000_2022-07-26_12-04-16/checkpoint_tmp5b0671/./\n",
            "\u001b[2m\u001b[36m(func pid=151479)\u001b[0m 2022-07-26 12:12:04,779\tINFO trainable.py:597 -- Current state after restoring: {'_iteration': 42, '_timesteps_total': None, '_time_total': 323.0268919467926, '_episodes_total': None}\n"
          ]
        },
        {
          "output_type": "stream",
          "name": "stdout",
          "text": [
            "Trial trainable_func_1da60140 reported epoch=2,loss=0.695504266512059,should_checkpoint=True with parameters={'act1 ': 'selu', 'act2': 'tanh', 'act3': 'tanh', 'lr': 0.0008, 'batch_size': 8, 'hidden_dim1': 285.0, 'hidden_dim2': 330.0, 'hidden_dim3': 135.0}.\n",
            "Trial trainable_func_15ffcbd4 reported epoch=0,loss=0.10819633459567864,should_checkpoint=True with parameters={'act1 ': 'selu', 'act2': 'selu', 'act3': 'selu', 'lr': 0.0009, 'batch_size': 16, 'hidden_dim1': 330.0, 'hidden_dim2': 150.0, 'hidden_dim3': 180.0}.\n"
          ]
        },
        {
          "output_type": "stream",
          "name": "stderr",
          "text": [
            "\u001b[2m\u001b[36m(func pid=151414)\u001b[0m 2022-07-26 12:12:08,930\tINFO trainable.py:589 -- Restored on 172.28.0.2 from checkpoint: /root/ray_results/trainable_func_2022-07-26_12-03-38/trainable_func_15ffcbd4_7_act1=selu,act2=selu,act3=selu,batch_size=16,hidden_dim1=330.0000,hidden_dim2=150.0000,hidden_dim3=180.00_2022-07-26_12-04-41/checkpoint_tmpcb2f3b/./\n",
            "\u001b[2m\u001b[36m(func pid=151414)\u001b[0m 2022-07-26 12:12:08,930\tINFO trainable.py:597 -- Current state after restoring: {'_iteration': 46, '_timesteps_total': None, '_time_total': 199.4012393951416, '_episodes_total': None}\n"
          ]
        },
        {
          "output_type": "stream",
          "name": "stdout",
          "text": [
            "Trial trainable_func_f4b83eba reported epoch=9,loss=0.7441815290528099,should_checkpoint=True with parameters={'act1 ': 'selu', 'act2': 'tanh', 'act3': 'tanh', 'lr': 0.0005, 'batch_size': 8, 'hidden_dim1': 285.0, 'hidden_dim2': 315.0, 'hidden_dim3': 330.0}. This trial completed.\n",
            "== Status ==\n",
            "Current time: 2022-07-26 12:12:11 (running for 00:08:32.69)\n",
            "Memory usage on this node: 2.3/12.7 GiB\n",
            "Using MedianStoppingRule: num_stopped=6.\n",
            "Resources requested: 2.0/2 CPUs, 0/0 GPUs, 0.0/7.46 GiB heap, 0.0/3.73 GiB objects\n",
            "Result logdir: /root/ray_results/trainable_func_2022-07-26_12-03-38\n",
            "Number of trials: 20/50 (6 PAUSED, 4 RUNNING, 10 TERMINATED)\n",
            "\n",
            "\n",
            "Trial trainable_func_fc50187e reported epoch=0,loss=0.1264925352055887,should_checkpoint=True with parameters={'act1 ': 'selu', 'act2': 'selu', 'act3': 'tanh', 'lr': 0.0006000000000000001, 'batch_size': 8, 'hidden_dim1': 270.0, 'hidden_dim2': 165.0, 'hidden_dim3': 285.0}.\n"
          ]
        },
        {
          "output_type": "stream",
          "name": "stderr",
          "text": [
            "\u001b[2m\u001b[36m(func pid=151479)\u001b[0m 2022-07-26 12:12:12,778\tINFO trainable.py:589 -- Restored on 172.28.0.2 from checkpoint: /root/ray_results/trainable_func_2022-07-26_12-03-38/trainable_func_fc50187e_5_act1=selu,act2=selu,act3=tanh,batch_size=8,hidden_dim1=270.0000,hidden_dim2=165.0000,hidden_dim3=285.000_2022-07-26_12-04-16/checkpoint_tmp5467de/./\n",
            "\u001b[2m\u001b[36m(func pid=151479)\u001b[0m 2022-07-26 12:12:12,779\tINFO trainable.py:597 -- Current state after restoring: {'_iteration': 43, '_timesteps_total': None, '_time_total': 330.4768946170807, '_episodes_total': None}\n"
          ]
        },
        {
          "output_type": "stream",
          "name": "stdout",
          "text": [
            "Trial trainable_func_15ffcbd4 reported epoch=0,loss=0.08051970068015102,should_checkpoint=True with parameters={'act1 ': 'selu', 'act2': 'selu', 'act3': 'selu', 'lr': 0.0009, 'batch_size': 16, 'hidden_dim1': 330.0, 'hidden_dim2': 150.0, 'hidden_dim3': 180.0}.\n",
            "Trial trainable_func_2d56590a reported epoch=0,loss=0.7439825953496773,should_checkpoint=True with parameters={'act1 ': 'selu', 'act2': 'relu', 'act3': 'relu', 'lr': 0.0009, 'batch_size': 16, 'hidden_dim1': 285.0, 'hidden_dim2': 150.0, 'hidden_dim3': 120.0}.\n"
          ]
        },
        {
          "output_type": "stream",
          "name": "stderr",
          "text": [
            "\u001b[2m\u001b[36m(func pid=151414)\u001b[0m 2022-07-26 12:12:14,673\tINFO trainable.py:589 -- Restored on 172.28.0.2 from checkpoint: /root/ray_results/trainable_func_2022-07-26_12-03-38/trainable_func_15ffcbd4_7_act1=selu,act2=selu,act3=selu,batch_size=16,hidden_dim1=330.0000,hidden_dim2=150.0000,hidden_dim3=180.00_2022-07-26_12-04-41/checkpoint_tmp3e45f0/./\n",
            "\u001b[2m\u001b[36m(func pid=151414)\u001b[0m 2022-07-26 12:12:14,673\tINFO trainable.py:597 -- Current state after restoring: {'_iteration': 47, '_timesteps_total': None, '_time_total': 204.43629574775696, '_episodes_total': None}\n"
          ]
        },
        {
          "output_type": "stream",
          "name": "stdout",
          "text": [
            "Trial trainable_func_1da60140 reported epoch=3,loss=0.6825937965000686,should_checkpoint=True with parameters={'act1 ': 'selu', 'act2': 'tanh', 'act3': 'tanh', 'lr': 0.0008, 'batch_size': 8, 'hidden_dim1': 285.0, 'hidden_dim2': 330.0, 'hidden_dim3': 135.0}.\n",
            "== Status ==\n",
            "Current time: 2022-07-26 12:12:17 (running for 00:08:38.82)\n",
            "Memory usage on this node: 2.3/12.7 GiB\n",
            "Using MedianStoppingRule: num_stopped=6.\n",
            "Resources requested: 2.0/2 CPUs, 0/0 GPUs, 0.0/7.46 GiB heap, 0.0/3.73 GiB objects\n",
            "Result logdir: /root/ray_results/trainable_func_2022-07-26_12-03-38\n",
            "Number of trials: 21/50 (6 PAUSED, 4 RUNNING, 11 TERMINATED)\n",
            "\n",
            "\n",
            "Trial trainable_func_15ffcbd4 reported epoch=0,loss=0.07067550927808709,should_checkpoint=True with parameters={'act1 ': 'selu', 'act2': 'selu', 'act3': 'selu', 'lr': 0.0009, 'batch_size': 16, 'hidden_dim1': 330.0, 'hidden_dim2': 150.0, 'hidden_dim3': 180.0}.\n"
          ]
        },
        {
          "output_type": "stream",
          "name": "stderr",
          "text": [
            "\u001b[2m\u001b[36m(func pid=151414)\u001b[0m 2022-07-26 12:12:19,637\tINFO trainable.py:589 -- Restored on 172.28.0.2 from checkpoint: /root/ray_results/trainable_func_2022-07-26_12-03-38/trainable_func_15ffcbd4_7_act1=selu,act2=selu,act3=selu,batch_size=16,hidden_dim1=330.0000,hidden_dim2=150.0000,hidden_dim3=180.00_2022-07-26_12-04-41/checkpoint_tmpfa7393/./\n",
            "\u001b[2m\u001b[36m(func pid=151414)\u001b[0m 2022-07-26 12:12:19,637\tINFO trainable.py:597 -- Current state after restoring: {'_iteration': 48, '_timesteps_total': None, '_time_total': 208.81023812294006, '_episodes_total': None}\n"
          ]
        },
        {
          "output_type": "stream",
          "name": "stdout",
          "text": [
            "Trial trainable_func_fc50187e reported epoch=0,loss=0.09671129515138091,should_checkpoint=True with parameters={'act1 ': 'selu', 'act2': 'selu', 'act3': 'tanh', 'lr': 0.0006000000000000001, 'batch_size': 8, 'hidden_dim1': 270.0, 'hidden_dim2': 165.0, 'hidden_dim3': 285.0}.\n",
            "Trial trainable_func_2d56590a reported epoch=2,loss=0.6016636904678201,should_checkpoint=True with parameters={'act1 ': 'selu', 'act2': 'relu', 'act3': 'relu', 'lr': 0.0009, 'batch_size': 16, 'hidden_dim1': 285.0, 'hidden_dim2': 150.0, 'hidden_dim3': 120.0}.\n"
          ]
        },
        {
          "output_type": "stream",
          "name": "stderr",
          "text": [
            "\u001b[2m\u001b[36m(func pid=151479)\u001b[0m 2022-07-26 12:12:21,814\tINFO trainable.py:589 -- Restored on 172.28.0.2 from checkpoint: /root/ray_results/trainable_func_2022-07-26_12-03-38/trainable_func_fc50187e_5_act1=selu,act2=selu,act3=tanh,batch_size=8,hidden_dim1=270.0000,hidden_dim2=165.0000,hidden_dim3=285.000_2022-07-26_12-04-16/checkpoint_tmpd0b610/./\n",
            "\u001b[2m\u001b[36m(func pid=151479)\u001b[0m 2022-07-26 12:12:21,814\tINFO trainable.py:597 -- Current state after restoring: {'_iteration': 44, '_timesteps_total': None, '_time_total': 338.9392087459564, '_episodes_total': None}\n"
          ]
        },
        {
          "output_type": "stream",
          "name": "stdout",
          "text": [
            "Trial trainable_func_15ffcbd4 reported epoch=0,loss=0.11813697978767806,should_checkpoint=True with parameters={'act1 ': 'selu', 'act2': 'selu', 'act3': 'selu', 'lr': 0.0009, 'batch_size': 16, 'hidden_dim1': 330.0, 'hidden_dim2': 150.0, 'hidden_dim3': 180.0}.\n",
            "== Status ==\n",
            "Current time: 2022-07-26 12:12:24 (running for 00:08:45.71)\n",
            "Memory usage on this node: 2.3/12.7 GiB\n",
            "Using MedianStoppingRule: num_stopped=6.\n",
            "Resources requested: 2.0/2 CPUs, 0/0 GPUs, 0.0/7.46 GiB heap, 0.0/3.73 GiB objects\n",
            "Result logdir: /root/ray_results/trainable_func_2022-07-26_12-03-38\n",
            "Number of trials: 21/50 (6 PAUSED, 4 RUNNING, 11 TERMINATED)\n",
            "\n",
            "\n"
          ]
        },
        {
          "output_type": "stream",
          "name": "stderr",
          "text": [
            "\u001b[2m\u001b[36m(func pid=151414)\u001b[0m 2022-07-26 12:12:24,642\tINFO trainable.py:589 -- Restored on 172.28.0.2 from checkpoint: /root/ray_results/trainable_func_2022-07-26_12-03-38/trainable_func_15ffcbd4_7_act1=selu,act2=selu,act3=selu,batch_size=16,hidden_dim1=330.0000,hidden_dim2=150.0000,hidden_dim3=180.00_2022-07-26_12-04-41/checkpoint_tmp179791/./\n",
            "\u001b[2m\u001b[36m(func pid=151414)\u001b[0m 2022-07-26 12:12:24,642\tINFO trainable.py:597 -- Current state after restoring: {'_iteration': 49, '_timesteps_total': None, '_time_total': 213.2885308265686, '_episodes_total': None}\n"
          ]
        },
        {
          "output_type": "stream",
          "name": "stdout",
          "text": [
            "Trial trainable_func_1da60140 reported epoch=4,loss=0.6645269852816763,should_checkpoint=True with parameters={'act1 ': 'selu', 'act2': 'tanh', 'act3': 'tanh', 'lr': 0.0008, 'batch_size': 8, 'hidden_dim1': 285.0, 'hidden_dim2': 330.0, 'hidden_dim3': 135.0}.\n",
            "Trial trainable_func_15ffcbd4 reported epoch=0,loss=0.09132106471236068,should_checkpoint=True with parameters={'act1 ': 'selu', 'act2': 'selu', 'act3': 'selu', 'lr': 0.0009, 'batch_size': 16, 'hidden_dim1': 330.0, 'hidden_dim2': 150.0, 'hidden_dim3': 180.0}. This trial completed.\n",
            "== Status ==\n",
            "Current time: 2022-07-26 12:12:29 (running for 00:08:50.82)\n",
            "Memory usage on this node: 2.3/12.7 GiB\n",
            "Using MedianStoppingRule: num_stopped=6.\n",
            "Resources requested: 2.0/2 CPUs, 0/0 GPUs, 0.0/7.46 GiB heap, 0.0/3.73 GiB objects\n",
            "Result logdir: /root/ray_results/trainable_func_2022-07-26_12-03-38\n",
            "Number of trials: 21/50 (6 PAUSED, 4 RUNNING, 11 TERMINATED)\n",
            "\n",
            "\n",
            "Trial trainable_func_2d56590a reported epoch=4,loss=0.606702445631226,should_checkpoint=True with parameters={'act1 ': 'selu', 'act2': 'relu', 'act3': 'relu', 'lr': 0.0009, 'batch_size': 16, 'hidden_dim1': 285.0, 'hidden_dim2': 150.0, 'hidden_dim3': 120.0}.\n",
            "Trial trainable_func_fc50187e reported epoch=0,loss=0.12761473197917683,should_checkpoint=True with parameters={'act1 ': 'selu', 'act2': 'selu', 'act3': 'tanh', 'lr': 0.0006000000000000001, 'batch_size': 8, 'hidden_dim1': 270.0, 'hidden_dim2': 165.0, 'hidden_dim3': 285.0}.\n"
          ]
        },
        {
          "output_type": "stream",
          "name": "stderr",
          "text": [
            "\u001b[2m\u001b[36m(func pid=151479)\u001b[0m 2022-07-26 12:12:31,181\tINFO trainable.py:589 -- Restored on 172.28.0.2 from checkpoint: /root/ray_results/trainable_func_2022-07-26_12-03-38/trainable_func_fc50187e_5_act1=selu,act2=selu,act3=tanh,batch_size=8,hidden_dim1=270.0000,hidden_dim2=165.0000,hidden_dim3=285.000_2022-07-26_12-04-16/checkpoint_tmpbacd18/./\n",
            "\u001b[2m\u001b[36m(func pid=151479)\u001b[0m 2022-07-26 12:12:31,181\tINFO trainable.py:597 -- Current state after restoring: {'_iteration': 45, '_timesteps_total': None, '_time_total': 347.6457257270813, '_episodes_total': None}\n"
          ]
        },
        {
          "output_type": "stream",
          "name": "stdout",
          "text": [
            "Trial trainable_func_3823def2 reported epoch=0,loss=0.8949727162720154,should_checkpoint=True with parameters={'act1 ': 'relu', 'act2': 'relu', 'act3': 'relu', 'lr': 0.0008, 'batch_size': 16, 'hidden_dim1': 270.0, 'hidden_dim2': 255.0, 'hidden_dim3': 120.0}.\n",
            "Trial trainable_func_1da60140 reported epoch=5,loss=0.6216367210519262,should_checkpoint=True with parameters={'act1 ': 'selu', 'act2': 'tanh', 'act3': 'tanh', 'lr': 0.0008, 'batch_size': 8, 'hidden_dim1': 285.0, 'hidden_dim2': 330.0, 'hidden_dim3': 135.0}.\n",
            "== Status ==\n",
            "Current time: 2022-07-26 12:12:37 (running for 00:08:58.71)\n",
            "Memory usage on this node: 7.8/12.7 GiB\n",
            "Using MedianStoppingRule: num_stopped=6.\n",
            "Resources requested: 2.0/2 CPUs, 0/0 GPUs, 0.0/7.46 GiB heap, 0.0/3.73 GiB objects\n",
            "Result logdir: /root/ray_results/trainable_func_2022-07-26_12-03-38\n",
            "Number of trials: 22/50 (6 PAUSED, 4 RUNNING, 12 TERMINATED)\n",
            "\n",
            "\n",
            "Trial trainable_func_3823def2 reported epoch=1,loss=0.6757505384274395,should_checkpoint=True with parameters={'act1 ': 'relu', 'act2': 'relu', 'act3': 'relu', 'lr': 0.0008, 'batch_size': 16, 'hidden_dim1': 270.0, 'hidden_dim2': 255.0, 'hidden_dim3': 120.0}.\n",
            "Trial trainable_func_2d56590a reported epoch=6,loss=0.5359243298068511,should_checkpoint=True with parameters={'act1 ': 'selu', 'act2': 'relu', 'act3': 'relu', 'lr': 0.0009, 'batch_size': 16, 'hidden_dim1': 285.0, 'hidden_dim2': 150.0, 'hidden_dim3': 120.0}.\n",
            "Trial trainable_func_fc50187e reported epoch=0,loss=0.12035970084718213,should_checkpoint=True with parameters={'act1 ': 'selu', 'act2': 'selu', 'act3': 'tanh', 'lr': 0.0006000000000000001, 'batch_size': 8, 'hidden_dim1': 270.0, 'hidden_dim2': 165.0, 'hidden_dim3': 285.0}.\n",
            "== Status ==\n",
            "Current time: 2022-07-26 12:12:43 (running for 00:09:04.96)\n",
            "Memory usage on this node: 2.3/12.7 GiB\n",
            "Using MedianStoppingRule: num_stopped=6.\n",
            "Resources requested: 2.0/2 CPUs, 0/0 GPUs, 0.0/7.46 GiB heap, 0.0/3.73 GiB objects\n",
            "Result logdir: /root/ray_results/trainable_func_2022-07-26_12-03-38\n",
            "Number of trials: 22/50 (6 PAUSED, 4 RUNNING, 12 TERMINATED)\n",
            "\n",
            "\n"
          ]
        },
        {
          "output_type": "stream",
          "name": "stderr",
          "text": [
            "\u001b[2m\u001b[36m(func pid=151479)\u001b[0m 2022-07-26 12:12:44,022\tINFO trainable.py:589 -- Restored on 172.28.0.2 from checkpoint: /root/ray_results/trainable_func_2022-07-26_12-03-38/trainable_func_fc50187e_5_act1=selu,act2=selu,act3=tanh,batch_size=8,hidden_dim1=270.0000,hidden_dim2=165.0000,hidden_dim3=285.000_2022-07-26_12-04-16/checkpoint_tmp70e2c7/./\n",
            "\u001b[2m\u001b[36m(func pid=151479)\u001b[0m 2022-07-26 12:12:44,022\tINFO trainable.py:597 -- Current state after restoring: {'_iteration': 46, '_timesteps_total': None, '_time_total': 359.8498058319092, '_episodes_total': None}\n"
          ]
        },
        {
          "output_type": "stream",
          "name": "stdout",
          "text": [
            "Trial trainable_func_3823def2 reported epoch=3,loss=0.5929711017594451,should_checkpoint=True with parameters={'act1 ': 'relu', 'act2': 'relu', 'act3': 'relu', 'lr': 0.0008, 'batch_size': 16, 'hidden_dim1': 270.0, 'hidden_dim2': 255.0, 'hidden_dim3': 120.0}.\n",
            "== Status ==\n",
            "Current time: 2022-07-26 12:12:48 (running for 00:09:10.49)\n",
            "Memory usage on this node: 2.3/12.7 GiB\n",
            "Using MedianStoppingRule: num_stopped=6.\n",
            "Resources requested: 2.0/2 CPUs, 0/0 GPUs, 0.0/7.46 GiB heap, 0.0/3.73 GiB objects\n",
            "Result logdir: /root/ray_results/trainable_func_2022-07-26_12-03-38\n",
            "Number of trials: 22/50 (6 PAUSED, 4 RUNNING, 12 TERMINATED)\n",
            "\n",
            "\n",
            "Trial trainable_func_1da60140 reported epoch=6,loss=0.6469838431207476,should_checkpoint=True with parameters={'act1 ': 'selu', 'act2': 'tanh', 'act3': 'tanh', 'lr': 0.0008, 'batch_size': 8, 'hidden_dim1': 285.0, 'hidden_dim2': 330.0, 'hidden_dim3': 135.0}.\n",
            "Trial trainable_func_2d56590a reported epoch=8,loss=0.5960378022048564,should_checkpoint=True with parameters={'act1 ': 'selu', 'act2': 'relu', 'act3': 'relu', 'lr': 0.0009, 'batch_size': 16, 'hidden_dim1': 285.0, 'hidden_dim2': 150.0, 'hidden_dim3': 120.0}.\n",
            "Trial trainable_func_fc50187e reported epoch=0,loss=0.1004900948533616,should_checkpoint=True with parameters={'act1 ': 'selu', 'act2': 'selu', 'act3': 'tanh', 'lr': 0.0006000000000000001, 'batch_size': 8, 'hidden_dim1': 270.0, 'hidden_dim2': 165.0, 'hidden_dim3': 285.0}.\n"
          ]
        },
        {
          "output_type": "stream",
          "name": "stderr",
          "text": [
            "\u001b[2m\u001b[36m(func pid=151479)\u001b[0m 2022-07-26 12:12:52,767\tINFO trainable.py:589 -- Restored on 172.28.0.2 from checkpoint: /root/ray_results/trainable_func_2022-07-26_12-03-38/trainable_func_fc50187e_5_act1=selu,act2=selu,act3=tanh,batch_size=8,hidden_dim1=270.0000,hidden_dim2=165.0000,hidden_dim3=285.000_2022-07-26_12-04-16/checkpoint_tmpca74f1/./\n",
            "\u001b[2m\u001b[36m(func pid=151479)\u001b[0m 2022-07-26 12:12:52,767\tINFO trainable.py:597 -- Current state after restoring: {'_iteration': 47, '_timesteps_total': None, '_time_total': 368.0393326282501, '_episodes_total': None}\n"
          ]
        },
        {
          "output_type": "stream",
          "name": "stdout",
          "text": [
            "== Status ==\n",
            "Current time: 2022-07-26 12:12:54 (running for 00:09:16.45)\n",
            "Memory usage on this node: 2.3/12.7 GiB\n",
            "Using MedianStoppingRule: num_stopped=6.\n",
            "Resources requested: 2.0/2 CPUs, 0/0 GPUs, 0.0/7.46 GiB heap, 0.0/3.73 GiB objects\n",
            "Result logdir: /root/ray_results/trainable_func_2022-07-26_12-03-38\n",
            "Number of trials: 22/50 (6 PAUSED, 4 RUNNING, 12 TERMINATED)\n",
            "\n",
            "\n",
            "Trial trainable_func_3823def2 reported epoch=5,loss=0.5939814974022377,should_checkpoint=True with parameters={'act1 ': 'relu', 'act2': 'relu', 'act3': 'relu', 'lr': 0.0008, 'batch_size': 16, 'hidden_dim1': 270.0, 'hidden_dim2': 255.0, 'hidden_dim3': 120.0}.\n",
            "Trial trainable_func_2d56590a reported epoch=10,loss=0.5402076207935744,should_checkpoint=True with parameters={'act1 ': 'selu', 'act2': 'relu', 'act3': 'relu', 'lr': 0.0009, 'batch_size': 16, 'hidden_dim1': 285.0, 'hidden_dim2': 150.0, 'hidden_dim3': 120.0}. This trial completed.\n",
            "Trial trainable_func_1da60140 reported epoch=7,loss=0.5790459750379556,should_checkpoint=True with parameters={'act1 ': 'selu', 'act2': 'tanh', 'act3': 'tanh', 'lr': 0.0008, 'batch_size': 8, 'hidden_dim1': 285.0, 'hidden_dim2': 330.0, 'hidden_dim3': 135.0}.\n",
            "Trial trainable_func_fc50187e reported epoch=0,loss=0.12227144866175055,should_checkpoint=True with parameters={'act1 ': 'selu', 'act2': 'selu', 'act3': 'tanh', 'lr': 0.0006000000000000001, 'batch_size': 8, 'hidden_dim1': 270.0, 'hidden_dim2': 165.0, 'hidden_dim3': 285.0}.\n",
            "== Status ==\n",
            "Current time: 2022-07-26 12:13:01 (running for 00:09:22.62)\n",
            "Memory usage on this node: 2.3/12.7 GiB\n",
            "Using MedianStoppingRule: num_stopped=7.\n",
            "Resources requested: 2.0/2 CPUs, 0/0 GPUs, 0.0/7.46 GiB heap, 0.0/3.73 GiB objects\n",
            "Result logdir: /root/ray_results/trainable_func_2022-07-26_12-03-38\n",
            "Number of trials: 23/50 (6 PAUSED, 4 RUNNING, 13 TERMINATED)\n",
            "\n",
            "\n"
          ]
        },
        {
          "output_type": "stream",
          "name": "stderr",
          "text": [
            "\u001b[2m\u001b[36m(func pid=151479)\u001b[0m 2022-07-26 12:13:01,611\tINFO trainable.py:589 -- Restored on 172.28.0.2 from checkpoint: /root/ray_results/trainable_func_2022-07-26_12-03-38/trainable_func_fc50187e_5_act1=selu,act2=selu,act3=tanh,batch_size=8,hidden_dim1=270.0000,hidden_dim2=165.0000,hidden_dim3=285.000_2022-07-26_12-04-16/checkpoint_tmp423c72/./\n",
            "\u001b[2m\u001b[36m(func pid=151479)\u001b[0m 2022-07-26 12:13:01,611\tINFO trainable.py:597 -- Current state after restoring: {'_iteration': 48, '_timesteps_total': None, '_time_total': 376.30610060691833, '_episodes_total': None}\n"
          ]
        },
        {
          "output_type": "stream",
          "name": "stdout",
          "text": [
            "Trial trainable_func_49c4dc60 reported epoch=0,loss=0.8879820829063831,should_checkpoint=True with parameters={'act1 ': 'relu', 'act2': 'relu', 'act3': 'relu', 'lr': 0.0008, 'batch_size': 16, 'hidden_dim1': 285.0, 'hidden_dim2': 255.0, 'hidden_dim3': 120.0}.\n",
            "== Status ==\n",
            "Current time: 2022-07-26 12:13:07 (running for 00:09:28.68)\n",
            "Memory usage on this node: 2.3/12.7 GiB\n",
            "Using MedianStoppingRule: num_stopped=7.\n",
            "Resources requested: 2.0/2 CPUs, 0/0 GPUs, 0.0/7.46 GiB heap, 0.0/3.73 GiB objects\n",
            "Result logdir: /root/ray_results/trainable_func_2022-07-26_12-03-38\n",
            "Number of trials: 23/50 (6 PAUSED, 4 RUNNING, 13 TERMINATED)\n",
            "\n",
            "\n",
            "Trial trainable_func_3823def2 reported epoch=7,loss=0.5860787059373473,should_checkpoint=True with parameters={'act1 ': 'relu', 'act2': 'relu', 'act3': 'relu', 'lr': 0.0008, 'batch_size': 16, 'hidden_dim1': 270.0, 'hidden_dim2': 255.0, 'hidden_dim3': 120.0}.\n",
            "Trial trainable_func_1da60140 reported epoch=8,loss=0.5755214584270087,should_checkpoint=True with parameters={'act1 ': 'selu', 'act2': 'tanh', 'act3': 'tanh', 'lr': 0.0008, 'batch_size': 8, 'hidden_dim1': 285.0, 'hidden_dim2': 330.0, 'hidden_dim3': 135.0}.\n",
            "Trial trainable_func_fc50187e reported epoch=0,loss=0.12406188803211249,should_checkpoint=True with parameters={'act1 ': 'selu', 'act2': 'selu', 'act3': 'tanh', 'lr': 0.0006000000000000001, 'batch_size': 8, 'hidden_dim1': 270.0, 'hidden_dim2': 165.0, 'hidden_dim3': 285.0}.\n"
          ]
        },
        {
          "output_type": "stream",
          "name": "stderr",
          "text": [
            "\u001b[2m\u001b[36m(func pid=151479)\u001b[0m 2022-07-26 12:13:10,384\tINFO trainable.py:589 -- Restored on 172.28.0.2 from checkpoint: /root/ray_results/trainable_func_2022-07-26_12-03-38/trainable_func_fc50187e_5_act1=selu,act2=selu,act3=tanh,batch_size=8,hidden_dim1=270.0000,hidden_dim2=165.0000,hidden_dim3=285.000_2022-07-26_12-04-16/checkpoint_tmp51d4f6/./\n",
            "\u001b[2m\u001b[36m(func pid=151479)\u001b[0m 2022-07-26 12:13:10,384\tINFO trainable.py:597 -- Current state after restoring: {'_iteration': 49, '_timesteps_total': None, '_time_total': 384.2957515716553, '_episodes_total': None}\n"
          ]
        },
        {
          "output_type": "stream",
          "name": "stdout",
          "text": [
            "Trial trainable_func_49c4dc60 reported epoch=2,loss=0.5729869603636275,should_checkpoint=True with parameters={'act1 ': 'relu', 'act2': 'relu', 'act3': 'relu', 'lr': 0.0008, 'batch_size': 16, 'hidden_dim1': 285.0, 'hidden_dim2': 255.0, 'hidden_dim3': 120.0}.\n",
            "== Status ==\n",
            "Current time: 2022-07-26 12:13:12 (running for 00:09:34.14)\n",
            "Memory usage on this node: 2.3/12.7 GiB\n",
            "Using MedianStoppingRule: num_stopped=7.\n",
            "Resources requested: 2.0/2 CPUs, 0/0 GPUs, 0.0/7.46 GiB heap, 0.0/3.73 GiB objects\n",
            "Result logdir: /root/ray_results/trainable_func_2022-07-26_12-03-38\n",
            "Number of trials: 23/50 (6 PAUSED, 4 RUNNING, 13 TERMINATED)\n",
            "\n",
            "\n",
            "Trial trainable_func_3823def2 reported epoch=9,loss=0.5246523216537493,should_checkpoint=True with parameters={'act1 ': 'relu', 'act2': 'relu', 'act3': 'relu', 'lr': 0.0008, 'batch_size': 16, 'hidden_dim1': 270.0, 'hidden_dim2': 255.0, 'hidden_dim3': 120.0}.\n",
            "Trial trainable_func_1da60140 reported epoch=9,loss=0.604479509312772,should_checkpoint=True with parameters={'act1 ': 'selu', 'act2': 'tanh', 'act3': 'tanh', 'lr': 0.0008, 'batch_size': 8, 'hidden_dim1': 285.0, 'hidden_dim2': 330.0, 'hidden_dim3': 135.0}. This trial completed.\n",
            "== Status ==\n",
            "Current time: 2022-07-26 12:13:18 (running for 00:09:39.57)\n",
            "Memory usage on this node: 2.3/12.7 GiB\n",
            "Using MedianStoppingRule: num_stopped=8.\n",
            "Resources requested: 2.0/2 CPUs, 0/0 GPUs, 0.0/7.46 GiB heap, 0.0/3.73 GiB objects\n",
            "Result logdir: /root/ray_results/trainable_func_2022-07-26_12-03-38\n",
            "Number of trials: 23/50 (6 PAUSED, 4 RUNNING, 13 TERMINATED)\n",
            "\n",
            "\n",
            "Trial trainable_func_fc50187e reported epoch=0,loss=0.09924268170048559,should_checkpoint=True with parameters={'act1 ': 'selu', 'act2': 'selu', 'act3': 'tanh', 'lr': 0.0006000000000000001, 'batch_size': 8, 'hidden_dim1': 270.0, 'hidden_dim2': 165.0, 'hidden_dim3': 285.0}. This trial completed.\n",
            "Trial trainable_func_55338ea2 reported epoch=0,loss=1.1011711136561018,should_checkpoint=True with parameters={'act1 ': 'relu', 'act2': 'relu', 'act3': 'relu', 'lr': 0.0008, 'batch_size': 64, 'hidden_dim1': 255.0, 'hidden_dim2': 255.0, 'hidden_dim3': 165.0}.\n",
            "Trial trainable_func_49c4dc60 reported epoch=4,loss=0.506867821108216,should_checkpoint=True with parameters={'act1 ': 'relu', 'act2': 'relu', 'act3': 'relu', 'lr': 0.0008, 'batch_size': 16, 'hidden_dim1': 285.0, 'hidden_dim2': 255.0, 'hidden_dim3': 120.0}.\n",
            "Trial trainable_func_557a3582 reported epoch=0,loss=0.7608401531469825,should_checkpoint=True with parameters={'act1 ': 'relu', 'act2': 'relu', 'act3': 'relu', 'lr': 0.0008, 'batch_size': 16, 'hidden_dim1': 255.0, 'hidden_dim2': 255.0, 'hidden_dim3': 165.0}.\n",
            "== Status ==\n",
            "Current time: 2022-07-26 12:13:23 (running for 00:09:45.23)\n",
            "Memory usage on this node: 2.3/12.7 GiB\n",
            "Using MedianStoppingRule: num_stopped=8.\n",
            "Resources requested: 2.0/2 CPUs, 0/0 GPUs, 0.0/7.46 GiB heap, 0.0/3.73 GiB objects\n",
            "Result logdir: /root/ray_results/trainable_func_2022-07-26_12-03-38\n",
            "Number of trials: 25/50 (6 PAUSED, 4 RUNNING, 15 TERMINATED)\n",
            "\n",
            "\n",
            "Trial trainable_func_55338ea2 reported epoch=4,loss=0.6063858469099525,should_checkpoint=True with parameters={'act1 ': 'relu', 'act2': 'relu', 'act3': 'relu', 'lr': 0.0008, 'batch_size': 64, 'hidden_dim1': 255.0, 'hidden_dim2': 255.0, 'hidden_dim3': 165.0}.\n",
            "Trial trainable_func_49c4dc60 reported epoch=5,loss=0.5408921311968095,should_checkpoint=True with parameters={'act1 ': 'relu', 'act2': 'relu', 'act3': 'relu', 'lr': 0.0008, 'batch_size': 16, 'hidden_dim1': 285.0, 'hidden_dim2': 255.0, 'hidden_dim3': 120.0}.\n",
            "Trial trainable_func_3823def2 reported epoch=11,loss=0.6360600283949114,should_checkpoint=True with parameters={'act1 ': 'relu', 'act2': 'relu', 'act3': 'relu', 'lr': 0.0008, 'batch_size': 16, 'hidden_dim1': 270.0, 'hidden_dim2': 255.0, 'hidden_dim3': 120.0}.\n"
          ]
        },
        {
          "output_type": "stream",
          "name": "stderr",
          "text": [
            "\u001b[2m\u001b[36m(func pid=151414)\u001b[0m 2022-07-26 12:13:27,352\tINFO trainable.py:589 -- Restored on 172.28.0.2 from checkpoint: /root/ray_results/trainable_func_2022-07-26_12-03-38/trainable_func_212fa088_8_act1=relu,act2=relu,act3=selu,batch_size=16,hidden_dim1=300.0000,hidden_dim2=240.0000,hidden_dim3=180.00_2022-07-26_12-04-46/checkpoint_tmp69aff1/./\n",
            "\u001b[2m\u001b[36m(func pid=151414)\u001b[0m 2022-07-26 12:13:27,352\tINFO trainable.py:597 -- Current state after restoring: {'_iteration': 10, '_timesteps_total': None, '_time_total': 47.16233801841736, '_episodes_total': None}\n"
          ]
        },
        {
          "output_type": "stream",
          "name": "stdout",
          "text": [
            "== Status ==\n",
            "Current time: 2022-07-26 12:13:29 (running for 00:09:50.88)\n",
            "Memory usage on this node: 2.3/12.7 GiB\n",
            "Using MedianStoppingRule: num_stopped=8.\n",
            "Resources requested: 2.0/2 CPUs, 0/0 GPUs, 0.0/7.46 GiB heap, 0.0/3.73 GiB objects\n",
            "Result logdir: /root/ray_results/trainable_func_2022-07-26_12-03-38\n",
            "Number of trials: 25/50 (6 PAUSED, 4 RUNNING, 15 TERMINATED)\n",
            "\n",
            "\n",
            "Trial trainable_func_557a3582 reported epoch=2,loss=0.621277319994545,should_checkpoint=True with parameters={'act1 ': 'relu', 'act2': 'relu', 'act3': 'relu', 'lr': 0.0008, 'batch_size': 16, 'hidden_dim1': 255.0, 'hidden_dim2': 255.0, 'hidden_dim3': 165.0}.\n",
            "Trial trainable_func_55338ea2 reported epoch=8,loss=0.7378762675807088,should_checkpoint=True with parameters={'act1 ': 'relu', 'act2': 'relu', 'act3': 'relu', 'lr': 0.0008, 'batch_size': 64, 'hidden_dim1': 255.0, 'hidden_dim2': 255.0, 'hidden_dim3': 165.0}.\n",
            "Trial trainable_func_212fa088 reported epoch=0,loss=0.28693956730031883,should_checkpoint=True with parameters={'act1 ': 'relu', 'act2': 'relu', 'act3': 'selu', 'lr': 0.001, 'batch_size': 16, 'hidden_dim1': 300.0, 'hidden_dim2': 240.0, 'hidden_dim3': 180.0}.\n",
            "Trial trainable_func_55338ea2 reported epoch=10,loss=0.5985017087774867,should_checkpoint=True with parameters={'act1 ': 'relu', 'act2': 'relu', 'act3': 'relu', 'lr': 0.0008, 'batch_size': 64, 'hidden_dim1': 255.0, 'hidden_dim2': 255.0, 'hidden_dim3': 165.0}. This trial completed.\n",
            "== Status ==\n",
            "Current time: 2022-07-26 12:13:34 (running for 00:09:56.14)\n",
            "Memory usage on this node: 2.3/12.7 GiB\n",
            "Using MedianStoppingRule: num_stopped=9.\n",
            "Resources requested: 2.0/2 CPUs, 0/0 GPUs, 0.0/7.46 GiB heap, 0.0/3.73 GiB objects\n",
            "Result logdir: /root/ray_results/trainable_func_2022-07-26_12-03-38\n",
            "Number of trials: 26/50 (6 PAUSED, 4 RUNNING, 16 TERMINATED)\n",
            "\n",
            "\n",
            "Trial trainable_func_49c4dc60 reported epoch=7,loss=0.5136569080890295,should_checkpoint=True with parameters={'act1 ': 'relu', 'act2': 'relu', 'act3': 'relu', 'lr': 0.0008, 'batch_size': 16, 'hidden_dim1': 285.0, 'hidden_dim2': 255.0, 'hidden_dim3': 120.0}.\n",
            "Trial trainable_func_5e88b018 reported epoch=0,loss=0.8691493288678563,should_checkpoint=True with parameters={'act1 ': 'relu', 'act2': 'relu', 'act3': 'relu', 'lr': 0.001, 'batch_size': 16, 'hidden_dim1': 120.0, 'hidden_dim2': 225.0, 'hidden_dim3': 120.0}.\n",
            "Trial trainable_func_212fa088 reported epoch=1,loss=0.308787999007518,should_checkpoint=True with parameters={'act1 ': 'relu', 'act2': 'relu', 'act3': 'selu', 'lr': 0.001, 'batch_size': 16, 'hidden_dim1': 300.0, 'hidden_dim2': 240.0, 'hidden_dim3': 180.0}.\n"
          ]
        },
        {
          "output_type": "stream",
          "name": "stderr",
          "text": [
            "\u001b[2m\u001b[36m(func pid=151414)\u001b[0m 2022-07-26 12:13:38,762\tINFO trainable.py:589 -- Restored on 172.28.0.2 from checkpoint: /root/ray_results/trainable_func_2022-07-26_12-03-38/trainable_func_212fa088_8_act1=relu,act2=relu,act3=selu,batch_size=16,hidden_dim1=300.0000,hidden_dim2=240.0000,hidden_dim3=180.00_2022-07-26_12-04-46/checkpoint_tmpa37731/./\n",
            "\u001b[2m\u001b[36m(func pid=151414)\u001b[0m 2022-07-26 12:13:38,763\tINFO trainable.py:597 -- Current state after restoring: {'_iteration': 12, '_timesteps_total': None, '_time_total': 57.99022340774536, '_episodes_total': None}\n"
          ]
        },
        {
          "output_type": "stream",
          "name": "stdout",
          "text": [
            "Trial trainable_func_557a3582 reported epoch=4,loss=0.7056733320741102,should_checkpoint=True with parameters={'act1 ': 'relu', 'act2': 'relu', 'act3': 'relu', 'lr': 0.0008, 'batch_size': 16, 'hidden_dim1': 255.0, 'hidden_dim2': 255.0, 'hidden_dim3': 165.0}.\n",
            "== Status ==\n",
            "Current time: 2022-07-26 12:13:39 (running for 00:10:01.56)\n",
            "Memory usage on this node: 2.4/12.7 GiB\n",
            "Using MedianStoppingRule: num_stopped=9.\n",
            "Resources requested: 2.0/2 CPUs, 0/0 GPUs, 0.0/7.46 GiB heap, 0.0/3.73 GiB objects\n",
            "Result logdir: /root/ray_results/trainable_func_2022-07-26_12-03-38\n",
            "Number of trials: 26/50 (6 PAUSED, 4 RUNNING, 16 TERMINATED)\n",
            "\n",
            "\n",
            "Trial trainable_func_49c4dc60 reported epoch=8,loss=0.5457108360905615,should_checkpoint=True with parameters={'act1 ': 'relu', 'act2': 'relu', 'act3': 'relu', 'lr': 0.0008, 'batch_size': 16, 'hidden_dim1': 285.0, 'hidden_dim2': 255.0, 'hidden_dim3': 120.0}.\n",
            "Trial trainable_func_5e88b018 reported epoch=2,loss=0.734460361682992,should_checkpoint=True with parameters={'act1 ': 'relu', 'act2': 'relu', 'act3': 'relu', 'lr': 0.001, 'batch_size': 16, 'hidden_dim1': 120.0, 'hidden_dim2': 225.0, 'hidden_dim3': 120.0}.\n",
            "Trial trainable_func_212fa088 reported epoch=0,loss=0.28857521281272774,should_checkpoint=True with parameters={'act1 ': 'relu', 'act2': 'relu', 'act3': 'selu', 'lr': 0.001, 'batch_size': 16, 'hidden_dim1': 300.0, 'hidden_dim2': 240.0, 'hidden_dim3': 180.0}.\n",
            "== Status ==\n",
            "Current time: 2022-07-26 12:13:45 (running for 00:10:06.60)\n",
            "Memory usage on this node: 2.3/12.7 GiB\n",
            "Using MedianStoppingRule: num_stopped=9.\n",
            "Resources requested: 2.0/2 CPUs, 0/0 GPUs, 0.0/7.46 GiB heap, 0.0/3.73 GiB objects\n",
            "Result logdir: /root/ray_results/trainable_func_2022-07-26_12-03-38\n",
            "Number of trials: 26/50 (6 PAUSED, 4 RUNNING, 16 TERMINATED)\n",
            "\n",
            "\n"
          ]
        },
        {
          "output_type": "stream",
          "name": "stderr",
          "text": [
            "\u001b[2m\u001b[36m(func pid=151414)\u001b[0m 2022-07-26 12:13:45,043\tINFO trainable.py:589 -- Restored on 172.28.0.2 from checkpoint: /root/ray_results/trainable_func_2022-07-26_12-03-38/trainable_func_212fa088_8_act1=relu,act2=relu,act3=selu,batch_size=16,hidden_dim1=300.0000,hidden_dim2=240.0000,hidden_dim3=180.00_2022-07-26_12-04-46/checkpoint_tmp46eed3/./\n",
            "\u001b[2m\u001b[36m(func pid=151414)\u001b[0m 2022-07-26 12:13:45,043\tINFO trainable.py:597 -- Current state after restoring: {'_iteration': 13, '_timesteps_total': None, '_time_total': 63.58906555175781, '_episodes_total': None}\n"
          ]
        },
        {
          "output_type": "stream",
          "name": "stdout",
          "text": [
            "Trial trainable_func_557a3582 reported epoch=6,loss=0.5686008836594018,should_checkpoint=True with parameters={'act1 ': 'relu', 'act2': 'relu', 'act3': 'relu', 'lr': 0.0008, 'batch_size': 16, 'hidden_dim1': 255.0, 'hidden_dim2': 255.0, 'hidden_dim3': 165.0}.\n",
            "Trial trainable_func_212fa088 reported epoch=0,loss=0.26587027512121464,should_checkpoint=True with parameters={'act1 ': 'relu', 'act2': 'relu', 'act3': 'selu', 'lr': 0.001, 'batch_size': 16, 'hidden_dim1': 300.0, 'hidden_dim2': 240.0, 'hidden_dim3': 180.0}.\n",
            "== Status ==\n",
            "Current time: 2022-07-26 12:13:50 (running for 00:10:11.91)\n",
            "Memory usage on this node: 2.3/12.7 GiB\n",
            "Using MedianStoppingRule: num_stopped=9.\n",
            "Resources requested: 2.0/2 CPUs, 0/0 GPUs, 0.0/7.46 GiB heap, 0.0/3.73 GiB objects\n",
            "Result logdir: /root/ray_results/trainable_func_2022-07-26_12-03-38\n",
            "Number of trials: 26/50 (6 PAUSED, 4 RUNNING, 16 TERMINATED)\n",
            "\n",
            "\n",
            "Trial trainable_func_5e88b018 reported epoch=4,loss=0.6051947670197515,should_checkpoint=True with parameters={'act1 ': 'relu', 'act2': 'relu', 'act3': 'relu', 'lr': 0.001, 'batch_size': 16, 'hidden_dim1': 120.0, 'hidden_dim2': 225.0, 'hidden_dim3': 120.0}.\n",
            "Trial trainable_func_49c4dc60 reported epoch=10,loss=0.6086224298240454,should_checkpoint=True with parameters={'act1 ': 'relu', 'act2': 'relu', 'act3': 'relu', 'lr': 0.0008, 'batch_size': 16, 'hidden_dim1': 285.0, 'hidden_dim2': 255.0, 'hidden_dim3': 120.0}.\n"
          ]
        },
        {
          "output_type": "stream",
          "name": "stderr",
          "text": [
            "\u001b[2m\u001b[36m(func pid=151414)\u001b[0m 2022-07-26 12:13:50,924\tINFO trainable.py:589 -- Restored on 172.28.0.2 from checkpoint: /root/ray_results/trainable_func_2022-07-26_12-03-38/trainable_func_212fa088_8_act1=relu,act2=relu,act3=selu,batch_size=16,hidden_dim1=300.0000,hidden_dim2=240.0000,hidden_dim3=180.00_2022-07-26_12-04-46/checkpoint_tmpe4515e/./\n",
            "\u001b[2m\u001b[36m(func pid=151414)\u001b[0m 2022-07-26 12:13:50,925\tINFO trainable.py:597 -- Current state after restoring: {'_iteration': 14, '_timesteps_total': None, '_time_total': 68.88358092308044, '_episodes_total': None}\n"
          ]
        },
        {
          "output_type": "stream",
          "name": "stdout",
          "text": [
            "== Status ==\n",
            "Current time: 2022-07-26 12:13:55 (running for 00:10:17.17)\n",
            "Memory usage on this node: 2.3/12.7 GiB\n",
            "Using MedianStoppingRule: num_stopped=9.\n",
            "Resources requested: 2.0/2 CPUs, 0/0 GPUs, 0.0/7.46 GiB heap, 0.0/3.73 GiB objects\n",
            "Result logdir: /root/ray_results/trainable_func_2022-07-26_12-03-38\n",
            "Number of trials: 26/50 (6 PAUSED, 4 RUNNING, 16 TERMINATED)\n",
            "\n",
            "\n",
            "Trial trainable_func_212fa088 reported epoch=0,loss=0.24468109945689154,should_checkpoint=True with parameters={'act1 ': 'relu', 'act2': 'relu', 'act3': 'selu', 'lr': 0.001, 'batch_size': 16, 'hidden_dim1': 300.0, 'hidden_dim2': 240.0, 'hidden_dim3': 180.0}.\n"
          ]
        },
        {
          "output_type": "stream",
          "name": "stderr",
          "text": [
            "\u001b[2m\u001b[36m(func pid=151415)\u001b[0m 2022-07-26 12:13:56,162\tINFO trainable.py:589 -- Restored on 172.28.0.2 from checkpoint: /root/ray_results/trainable_func_2022-07-26_12-03-38/trainable_func_246e00fa_9_act1=selu,act2=tanh,act3=selu,batch_size=64,hidden_dim1=285.0000,hidden_dim2=300.0000,hidden_dim3=270.00_2022-07-26_12-04-55/checkpoint_tmp9c1e47/./\n",
            "\u001b[2m\u001b[36m(func pid=151415)\u001b[0m 2022-07-26 12:13:56,162\tINFO trainable.py:597 -- Current state after restoring: {'_iteration': 10, '_timesteps_total': None, '_time_total': 16.919456243515015, '_episodes_total': None}\n",
            "\u001b[2m\u001b[36m(func pid=151414)\u001b[0m 2022-07-26 12:13:56,884\tINFO trainable.py:589 -- Restored on 172.28.0.2 from checkpoint: /root/ray_results/trainable_func_2022-07-26_12-03-38/trainable_func_212fa088_8_act1=relu,act2=relu,act3=selu,batch_size=16,hidden_dim1=300.0000,hidden_dim2=240.0000,hidden_dim3=180.00_2022-07-26_12-04-46/checkpoint_tmp3aa1fc/./\n",
            "\u001b[2m\u001b[36m(func pid=151414)\u001b[0m 2022-07-26 12:13:56,884\tINFO trainable.py:597 -- Current state after restoring: {'_iteration': 15, '_timesteps_total': None, '_time_total': 74.1358757019043, '_episodes_total': None}\n"
          ]
        },
        {
          "output_type": "stream",
          "name": "stdout",
          "text": [
            "Trial trainable_func_246e00fa reported epoch=0,loss=0.28764787757174193,should_checkpoint=True with parameters={'act1 ': 'selu', 'act2': 'tanh', 'act3': 'selu', 'lr': 0.0007, 'batch_size': 64, 'hidden_dim1': 285.0, 'hidden_dim2': 300.0, 'hidden_dim3': 270.0}.\n",
            "Trial trainable_func_5e88b018 reported epoch=6,loss=0.5916169193052863,should_checkpoint=True with parameters={'act1 ': 'relu', 'act2': 'relu', 'act3': 'relu', 'lr': 0.001, 'batch_size': 16, 'hidden_dim1': 120.0, 'hidden_dim2': 225.0, 'hidden_dim3': 120.0}.\n",
            "Trial trainable_func_557a3582 reported epoch=8,loss=0.5003514621864757,should_checkpoint=True with parameters={'act1 ': 'relu', 'act2': 'relu', 'act3': 'relu', 'lr': 0.0008, 'batch_size': 16, 'hidden_dim1': 255.0, 'hidden_dim2': 255.0, 'hidden_dim3': 165.0}.\n",
            "== Status ==\n",
            "Current time: 2022-07-26 12:14:01 (running for 00:10:22.80)\n",
            "Memory usage on this node: 2.3/12.7 GiB\n",
            "Using MedianStoppingRule: num_stopped=9.\n",
            "Resources requested: 2.0/2 CPUs, 0/0 GPUs, 0.0/7.46 GiB heap, 0.0/3.73 GiB objects\n",
            "Result logdir: /root/ray_results/trainable_func_2022-07-26_12-03-38\n",
            "Number of trials: 26/50 (6 PAUSED, 4 RUNNING, 16 TERMINATED)\n",
            "\n",
            "\n"
          ]
        },
        {
          "output_type": "stream",
          "name": "stderr",
          "text": [
            "\u001b[2m\u001b[36m(func pid=151415)\u001b[0m 2022-07-26 12:14:01,713\tINFO trainable.py:589 -- Restored on 172.28.0.2 from checkpoint: /root/ray_results/trainable_func_2022-07-26_12-03-38/trainable_func_246e00fa_9_act1=selu,act2=tanh,act3=selu,batch_size=64,hidden_dim1=285.0000,hidden_dim2=300.0000,hidden_dim3=270.00_2022-07-26_12-04-55/checkpoint_tmp2d19ed/./\n",
            "\u001b[2m\u001b[36m(func pid=151415)\u001b[0m 2022-07-26 12:14:01,713\tINFO trainable.py:597 -- Current state after restoring: {'_iteration': 13, '_timesteps_total': None, '_time_total': 21.970951557159424, '_episodes_total': None}\n"
          ]
        },
        {
          "output_type": "stream",
          "name": "stdout",
          "text": [
            "Trial trainable_func_212fa088 reported epoch=0,loss=0.24367831599968806,should_checkpoint=True with parameters={'act1 ': 'relu', 'act2': 'relu', 'act3': 'selu', 'lr': 0.001, 'batch_size': 16, 'hidden_dim1': 300.0, 'hidden_dim2': 240.0, 'hidden_dim3': 180.0}.\n"
          ]
        },
        {
          "output_type": "stream",
          "name": "stderr",
          "text": [
            "\u001b[2m\u001b[36m(func pid=151414)\u001b[0m 2022-07-26 12:14:02,810\tINFO trainable.py:589 -- Restored on 172.28.0.2 from checkpoint: /root/ray_results/trainable_func_2022-07-26_12-03-38/trainable_func_212fa088_8_act1=relu,act2=relu,act3=selu,batch_size=16,hidden_dim1=300.0000,hidden_dim2=240.0000,hidden_dim3=180.00_2022-07-26_12-04-46/checkpoint_tmp3f9a1d/./\n",
            "\u001b[2m\u001b[36m(func pid=151414)\u001b[0m 2022-07-26 12:14:02,810\tINFO trainable.py:597 -- Current state after restoring: {'_iteration': 16, '_timesteps_total': None, '_time_total': 79.39570045471191, '_episodes_total': None}\n"
          ]
        },
        {
          "output_type": "stream",
          "name": "stdout",
          "text": [
            "Trial trainable_func_246e00fa reported epoch=0,loss=0.22939511305486246,should_checkpoint=True with parameters={'act1 ': 'selu', 'act2': 'tanh', 'act3': 'selu', 'lr': 0.0007, 'batch_size': 64, 'hidden_dim1': 285.0, 'hidden_dim2': 300.0, 'hidden_dim3': 270.0}.\n"
          ]
        },
        {
          "output_type": "stream",
          "name": "stderr",
          "text": [
            "\u001b[2m\u001b[36m(func pid=151415)\u001b[0m 2022-07-26 12:14:04,248\tINFO trainable.py:589 -- Restored on 172.28.0.2 from checkpoint: /root/ray_results/trainable_func_2022-07-26_12-03-38/trainable_func_246e00fa_9_act1=selu,act2=tanh,act3=selu,batch_size=64,hidden_dim1=285.0000,hidden_dim2=300.0000,hidden_dim3=270.00_2022-07-26_12-04-55/checkpoint_tmp8be940/./\n",
            "\u001b[2m\u001b[36m(func pid=151415)\u001b[0m 2022-07-26 12:14:04,248\tINFO trainable.py:597 -- Current state after restoring: {'_iteration': 14, '_timesteps_total': None, '_time_total': 23.748922109603882, '_episodes_total': None}\n"
          ]
        },
        {
          "output_type": "stream",
          "name": "stdout",
          "text": [
            "Trial trainable_func_5e88b018 reported epoch=8,loss=0.7503797782413406,should_checkpoint=True with parameters={'act1 ': 'relu', 'act2': 'relu', 'act3': 'relu', 'lr': 0.001, 'batch_size': 16, 'hidden_dim1': 120.0, 'hidden_dim2': 225.0, 'hidden_dim3': 120.0}.\n",
            "== Status ==\n",
            "Current time: 2022-07-26 12:14:06 (running for 00:10:28.37)\n",
            "Memory usage on this node: 2.3/12.7 GiB\n",
            "Using MedianStoppingRule: num_stopped=9.\n",
            "Resources requested: 1.5/2 CPUs, 0/0 GPUs, 0.0/7.46 GiB heap, 0.0/3.73 GiB objects\n",
            "Result logdir: /root/ray_results/trainable_func_2022-07-26_12-03-38\n",
            "Number of trials: 26/50 (7 PAUSED, 3 RUNNING, 16 TERMINATED)\n",
            "\n",
            "\n"
          ]
        },
        {
          "output_type": "stream",
          "name": "stderr",
          "text": [
            "\u001b[2m\u001b[36m(func pid=151415)\u001b[0m 2022-07-26 12:14:06,837\tINFO trainable.py:589 -- Restored on 172.28.0.2 from checkpoint: /root/ray_results/trainable_func_2022-07-26_12-03-38/trainable_func_246e00fa_9_act1=selu,act2=tanh,act3=selu,batch_size=64,hidden_dim1=285.0000,hidden_dim2=300.0000,hidden_dim3=270.00_2022-07-26_12-04-55/checkpoint_tmpbc99fa/./\n",
            "\u001b[2m\u001b[36m(func pid=151415)\u001b[0m 2022-07-26 12:14:06,837\tINFO trainable.py:597 -- Current state after restoring: {'_iteration': 15, '_timesteps_total': None, '_time_total': 25.671417474746704, '_episodes_total': None}\n"
          ]
        },
        {
          "output_type": "stream",
          "name": "stdout",
          "text": [
            "Trial trainable_func_557a3582 reported epoch=10,loss=0.5029309668682981,should_checkpoint=True with parameters={'act1 ': 'relu', 'act2': 'relu', 'act3': 'relu', 'lr': 0.0008, 'batch_size': 16, 'hidden_dim1': 255.0, 'hidden_dim2': 255.0, 'hidden_dim3': 165.0}.\n",
            "Trial trainable_func_212fa088 reported epoch=0,loss=0.26203119033663286,should_checkpoint=True with parameters={'act1 ': 'relu', 'act2': 'relu', 'act3': 'selu', 'lr': 0.001, 'batch_size': 16, 'hidden_dim1': 300.0, 'hidden_dim2': 240.0, 'hidden_dim3': 180.0}.\n",
            "Trial trainable_func_246e00fa reported epoch=0,loss=0.22558552402774834,should_checkpoint=True with parameters={'act1 ': 'selu', 'act2': 'tanh', 'act3': 'selu', 'lr': 0.0007, 'batch_size': 64, 'hidden_dim1': 285.0, 'hidden_dim2': 300.0, 'hidden_dim3': 270.0}.\n"
          ]
        },
        {
          "output_type": "stream",
          "name": "stderr",
          "text": [
            "\u001b[2m\u001b[36m(func pid=151414)\u001b[0m 2022-07-26 12:14:08,873\tINFO trainable.py:589 -- Restored on 172.28.0.2 from checkpoint: /root/ray_results/trainable_func_2022-07-26_12-03-38/trainable_func_212fa088_8_act1=relu,act2=relu,act3=selu,batch_size=16,hidden_dim1=300.0000,hidden_dim2=240.0000,hidden_dim3=180.00_2022-07-26_12-04-46/checkpoint_tmpce28e6/./\n",
            "\u001b[2m\u001b[36m(func pid=151414)\u001b[0m 2022-07-26 12:14:08,874\tINFO trainable.py:597 -- Current state after restoring: {'_iteration': 17, '_timesteps_total': None, '_time_total': 84.9777250289917, '_episodes_total': None}\n",
            "\u001b[2m\u001b[36m(func pid=151415)\u001b[0m 2022-07-26 12:14:09,448\tINFO trainable.py:589 -- Restored on 172.28.0.2 from checkpoint: /root/ray_results/trainable_func_2022-07-26_12-03-38/trainable_func_246e00fa_9_act1=selu,act2=tanh,act3=selu,batch_size=64,hidden_dim1=285.0000,hidden_dim2=300.0000,hidden_dim3=270.00_2022-07-26_12-04-55/checkpoint_tmp4cd1f7/./\n",
            "\u001b[2m\u001b[36m(func pid=151415)\u001b[0m 2022-07-26 12:14:09,448\tINFO trainable.py:597 -- Current state after restoring: {'_iteration': 16, '_timesteps_total': None, '_time_total': 27.45149302482605, '_episodes_total': None}\n"
          ]
        },
        {
          "output_type": "stream",
          "name": "stdout",
          "text": [
            "Trial trainable_func_5e88b018 reported epoch=10,loss=0.5576713470024304,should_checkpoint=True with parameters={'act1 ': 'relu', 'act2': 'relu', 'act3': 'relu', 'lr': 0.001, 'batch_size': 16, 'hidden_dim1': 120.0, 'hidden_dim2': 225.0, 'hidden_dim3': 120.0}. This trial completed.\n"
          ]
        },
        {
          "output_type": "stream",
          "name": "stderr",
          "text": [
            "\u001b[2m\u001b[36m(func pid=151415)\u001b[0m 2022-07-26 12:14:11,765\tINFO trainable.py:589 -- Restored on 172.28.0.2 from checkpoint: /root/ray_results/trainable_func_2022-07-26_12-03-38/trainable_func_246e00fa_9_act1=selu,act2=tanh,act3=selu,batch_size=64,hidden_dim1=285.0000,hidden_dim2=300.0000,hidden_dim3=270.00_2022-07-26_12-04-55/checkpoint_tmp0421f3/./\n",
            "\u001b[2m\u001b[36m(func pid=151415)\u001b[0m 2022-07-26 12:14:11,765\tINFO trainable.py:597 -- Current state after restoring: {'_iteration': 17, '_timesteps_total': None, '_time_total': 29.135111093521118, '_episodes_total': None}\n"
          ]
        },
        {
          "output_type": "stream",
          "name": "stdout",
          "text": [
            "== Status ==\n",
            "Current time: 2022-07-26 12:14:12 (running for 00:10:33.60)\n",
            "Memory usage on this node: 2.3/12.7 GiB\n",
            "Using MedianStoppingRule: num_stopped=10.\n",
            "Resources requested: 2.0/2 CPUs, 0/0 GPUs, 0.0/7.46 GiB heap, 0.0/3.73 GiB objects\n",
            "Result logdir: /root/ray_results/trainable_func_2022-07-26_12-03-38\n",
            "Number of trials: 27/50 (6 PAUSED, 4 RUNNING, 17 TERMINATED)\n",
            "\n",
            "\n",
            "Trial trainable_func_557a3582 reported epoch=11,loss=0.5301899633937621,should_checkpoint=True with parameters={'act1 ': 'relu', 'act2': 'relu', 'act3': 'relu', 'lr': 0.0008, 'batch_size': 16, 'hidden_dim1': 255.0, 'hidden_dim2': 255.0, 'hidden_dim3': 165.0}. This trial completed.\n",
            "Trial trainable_func_7581ef6e reported epoch=0,loss=1.1964451916859464,should_checkpoint=True with parameters={'act1 ': 'tanh', 'act2': 'tanh', 'act3': 'tanh', 'lr': 0.0009, 'batch_size': 64, 'hidden_dim1': 165.0, 'hidden_dim2': 285.0, 'hidden_dim3': 240.0}.\n",
            "Trial trainable_func_212fa088 reported epoch=0,loss=0.27744793000007156,should_checkpoint=True with parameters={'act1 ': 'relu', 'act2': 'relu', 'act3': 'selu', 'lr': 0.001, 'batch_size': 16, 'hidden_dim1': 300.0, 'hidden_dim2': 240.0, 'hidden_dim3': 180.0}.\n"
          ]
        },
        {
          "output_type": "stream",
          "name": "stderr",
          "text": [
            "\u001b[2m\u001b[36m(func pid=151415)\u001b[0m 2022-07-26 12:14:14,227\tINFO trainable.py:589 -- Restored on 172.28.0.2 from checkpoint: /root/ray_results/trainable_func_2022-07-26_12-03-38/trainable_func_246e00fa_9_act1=selu,act2=tanh,act3=selu,batch_size=64,hidden_dim1=285.0000,hidden_dim2=300.0000,hidden_dim3=270.00_2022-07-26_12-04-55/checkpoint_tmp7ff63f/./\n",
            "\u001b[2m\u001b[36m(func pid=151415)\u001b[0m 2022-07-26 12:14:14,227\tINFO trainable.py:597 -- Current state after restoring: {'_iteration': 18, '_timesteps_total': None, '_time_total': 30.950134992599487, '_episodes_total': None}\n",
            "\u001b[2m\u001b[36m(func pid=151414)\u001b[0m 2022-07-26 12:14:14,854\tINFO trainable.py:589 -- Restored on 172.28.0.2 from checkpoint: /root/ray_results/trainable_func_2022-07-26_12-03-38/trainable_func_212fa088_8_act1=relu,act2=relu,act3=selu,batch_size=16,hidden_dim1=300.0000,hidden_dim2=240.0000,hidden_dim3=180.00_2022-07-26_12-04-46/checkpoint_tmpa58016/./\n",
            "\u001b[2m\u001b[36m(func pid=151414)\u001b[0m 2022-07-26 12:14:14,856\tINFO trainable.py:597 -- Current state after restoring: {'_iteration': 18, '_timesteps_total': None, '_time_total': 90.27781867980957, '_episodes_total': None}\n"
          ]
        },
        {
          "output_type": "stream",
          "name": "stdout",
          "text": [
            "Trial trainable_func_753fd746 reported epoch=0,loss=0.7616305329893963,should_checkpoint=True with parameters={'act1 ': 'relu', 'act2': 'relu', 'act3': 'relu', 'lr': 0.0008, 'batch_size': 16, 'hidden_dim1': 180.0, 'hidden_dim2': 285.0, 'hidden_dim3': 255.0}.\n",
            "Trial trainable_func_246e00fa reported epoch=0,loss=0.16806216124950094,should_checkpoint=True with parameters={'act1 ': 'selu', 'act2': 'tanh', 'act3': 'selu', 'lr': 0.0007, 'batch_size': 64, 'hidden_dim1': 285.0, 'hidden_dim2': 300.0, 'hidden_dim3': 270.0}.\n"
          ]
        },
        {
          "output_type": "stream",
          "name": "stderr",
          "text": [
            "\u001b[2m\u001b[36m(func pid=151415)\u001b[0m 2022-07-26 12:14:16,977\tINFO trainable.py:589 -- Restored on 172.28.0.2 from checkpoint: /root/ray_results/trainable_func_2022-07-26_12-03-38/trainable_func_246e00fa_9_act1=selu,act2=tanh,act3=selu,batch_size=64,hidden_dim1=285.0000,hidden_dim2=300.0000,hidden_dim3=270.00_2022-07-26_12-04-55/checkpoint_tmpd6592e/./\n",
            "\u001b[2m\u001b[36m(func pid=151415)\u001b[0m 2022-07-26 12:14:16,977\tINFO trainable.py:597 -- Current state after restoring: {'_iteration': 19, '_timesteps_total': None, '_time_total': 33.04578423500061, '_episodes_total': None}\n"
          ]
        },
        {
          "output_type": "stream",
          "name": "stdout",
          "text": [
            "== Status ==\n",
            "Current time: 2022-07-26 12:14:18 (running for 00:10:40.02)\n",
            "Memory usage on this node: 2.3/12.7 GiB\n",
            "Using MedianStoppingRule: num_stopped=11.\n",
            "Resources requested: 2.0/2 CPUs, 0/0 GPUs, 0.0/7.46 GiB heap, 0.0/3.73 GiB objects\n",
            "Result logdir: /root/ray_results/trainable_func_2022-07-26_12-03-38\n",
            "Number of trials: 28/50 (6 PAUSED, 4 RUNNING, 18 TERMINATED)\n",
            "\n",
            "\n"
          ]
        },
        {
          "output_type": "stream",
          "name": "stderr",
          "text": [
            "\u001b[2m\u001b[36m(func pid=151415)\u001b[0m 2022-07-26 12:14:19,200\tINFO trainable.py:589 -- Restored on 172.28.0.2 from checkpoint: /root/ray_results/trainable_func_2022-07-26_12-03-38/trainable_func_246e00fa_9_act1=selu,act2=tanh,act3=selu,batch_size=64,hidden_dim1=285.0000,hidden_dim2=300.0000,hidden_dim3=270.00_2022-07-26_12-04-55/checkpoint_tmp7ce873/./\n",
            "\u001b[2m\u001b[36m(func pid=151415)\u001b[0m 2022-07-26 12:14:19,200\tINFO trainable.py:597 -- Current state after restoring: {'_iteration': 20, '_timesteps_total': None, '_time_total': 34.627241134643555, '_episodes_total': None}\n"
          ]
        },
        {
          "output_type": "stream",
          "name": "stdout",
          "text": [
            "Trial trainable_func_7581ef6e reported epoch=4,loss=0.6450733271046714,should_checkpoint=True with parameters={'act1 ': 'tanh', 'act2': 'tanh', 'act3': 'tanh', 'lr': 0.0009, 'batch_size': 64, 'hidden_dim1': 165.0, 'hidden_dim2': 285.0, 'hidden_dim3': 240.0}.\n",
            "Trial trainable_func_212fa088 reported epoch=0,loss=0.2041558239447081,should_checkpoint=True with parameters={'act1 ': 'relu', 'act2': 'relu', 'act3': 'selu', 'lr': 0.001, 'batch_size': 16, 'hidden_dim1': 300.0, 'hidden_dim2': 240.0, 'hidden_dim3': 180.0}.\n"
          ]
        },
        {
          "output_type": "stream",
          "name": "stderr",
          "text": [
            "\u001b[2m\u001b[36m(func pid=151414)\u001b[0m 2022-07-26 12:14:20,917\tINFO trainable.py:589 -- Restored on 172.28.0.2 from checkpoint: /root/ray_results/trainable_func_2022-07-26_12-03-38/trainable_func_212fa088_8_act1=relu,act2=relu,act3=selu,batch_size=16,hidden_dim1=300.0000,hidden_dim2=240.0000,hidden_dim3=180.00_2022-07-26_12-04-46/checkpoint_tmp8691cd/./\n",
            "\u001b[2m\u001b[36m(func pid=151414)\u001b[0m 2022-07-26 12:14:20,917\tINFO trainable.py:597 -- Current state after restoring: {'_iteration': 19, '_timesteps_total': None, '_time_total': 95.69409203529358, '_episodes_total': None}\n",
            "\u001b[2m\u001b[36m(func pid=151415)\u001b[0m 2022-07-26 12:14:21,596\tINFO trainable.py:589 -- Restored on 172.28.0.2 from checkpoint: /root/ray_results/trainable_func_2022-07-26_12-03-38/trainable_func_246e00fa_9_act1=selu,act2=tanh,act3=selu,batch_size=64,hidden_dim1=285.0000,hidden_dim2=300.0000,hidden_dim3=270.00_2022-07-26_12-04-55/checkpoint_tmp42c921/./\n",
            "\u001b[2m\u001b[36m(func pid=151415)\u001b[0m 2022-07-26 12:14:21,596\tINFO trainable.py:597 -- Current state after restoring: {'_iteration': 21, '_timesteps_total': None, '_time_total': 36.45553731918335, '_episodes_total': None}\n"
          ]
        },
        {
          "output_type": "stream",
          "name": "stdout",
          "text": [
            "Trial trainable_func_246e00fa reported epoch=0,loss=0.13815594029409514,should_checkpoint=True with parameters={'act1 ': 'selu', 'act2': 'tanh', 'act3': 'selu', 'lr': 0.0007, 'batch_size': 64, 'hidden_dim1': 285.0, 'hidden_dim2': 300.0, 'hidden_dim3': 270.0}.\n",
            "== Status ==\n",
            "Current time: 2022-07-26 12:14:23 (running for 00:10:45.09)\n",
            "Memory usage on this node: 2.3/12.7 GiB\n",
            "Using MedianStoppingRule: num_stopped=11.\n",
            "Resources requested: 2.0/2 CPUs, 0/0 GPUs, 0.0/7.46 GiB heap, 0.0/3.73 GiB objects\n",
            "Result logdir: /root/ray_results/trainable_func_2022-07-26_12-03-38\n",
            "Number of trials: 28/50 (6 PAUSED, 4 RUNNING, 18 TERMINATED)\n",
            "\n",
            "\n",
            "Trial trainable_func_753fd746 reported epoch=2,loss=0.7665555551930842,should_checkpoint=True with parameters={'act1 ': 'relu', 'act2': 'relu', 'act3': 'relu', 'lr': 0.0008, 'batch_size': 16, 'hidden_dim1': 180.0, 'hidden_dim2': 285.0, 'hidden_dim3': 255.0}.\n"
          ]
        },
        {
          "output_type": "stream",
          "name": "stderr",
          "text": [
            "\u001b[2m\u001b[36m(func pid=151415)\u001b[0m 2022-07-26 12:14:24,201\tINFO trainable.py:589 -- Restored on 172.28.0.2 from checkpoint: /root/ray_results/trainable_func_2022-07-26_12-03-38/trainable_func_246e00fa_9_act1=selu,act2=tanh,act3=selu,batch_size=64,hidden_dim1=285.0000,hidden_dim2=300.0000,hidden_dim3=270.00_2022-07-26_12-04-55/checkpoint_tmp324aa9/./\n",
            "\u001b[2m\u001b[36m(func pid=151415)\u001b[0m 2022-07-26 12:14:24,202\tINFO trainable.py:597 -- Current state after restoring: {'_iteration': 22, '_timesteps_total': None, '_time_total': 38.33747720718384, '_episodes_total': None}\n"
          ]
        },
        {
          "output_type": "stream",
          "name": "stdout",
          "text": [
            "Trial trainable_func_7581ef6e reported epoch=8,loss=0.5685275628941098,should_checkpoint=True with parameters={'act1 ': 'tanh', 'act2': 'tanh', 'act3': 'tanh', 'lr': 0.0009, 'batch_size': 64, 'hidden_dim1': 165.0, 'hidden_dim2': 285.0, 'hidden_dim3': 240.0}.\n",
            "Trial trainable_func_212fa088 reported epoch=0,loss=0.15664625468476506,should_checkpoint=True with parameters={'act1 ': 'relu', 'act2': 'relu', 'act3': 'selu', 'lr': 0.001, 'batch_size': 16, 'hidden_dim1': 300.0, 'hidden_dim2': 240.0, 'hidden_dim3': 180.0}.\n"
          ]
        },
        {
          "output_type": "stream",
          "name": "stderr",
          "text": [
            "\u001b[2m\u001b[36m(func pid=151415)\u001b[0m 2022-07-26 12:14:26,783\tINFO trainable.py:589 -- Restored on 172.28.0.2 from checkpoint: /root/ray_results/trainable_func_2022-07-26_12-03-38/trainable_func_246e00fa_9_act1=selu,act2=tanh,act3=selu,batch_size=64,hidden_dim1=285.0000,hidden_dim2=300.0000,hidden_dim3=270.00_2022-07-26_12-04-55/checkpoint_tmpb85270/./\n",
            "\u001b[2m\u001b[36m(func pid=151415)\u001b[0m 2022-07-26 12:14:26,783\tINFO trainable.py:597 -- Current state after restoring: {'_iteration': 23, '_timesteps_total': None, '_time_total': 40.32397127151489, '_episodes_total': None}\n",
            "\u001b[2m\u001b[36m(func pid=151414)\u001b[0m 2022-07-26 12:14:27,284\tINFO trainable.py:589 -- Restored on 172.28.0.2 from checkpoint: /root/ray_results/trainable_func_2022-07-26_12-03-38/trainable_func_212fa088_8_act1=relu,act2=relu,act3=selu,batch_size=16,hidden_dim1=300.0000,hidden_dim2=240.0000,hidden_dim3=180.00_2022-07-26_12-04-46/checkpoint_tmpa06aba/./\n",
            "\u001b[2m\u001b[36m(func pid=151414)\u001b[0m 2022-07-26 12:14:27,284\tINFO trainable.py:597 -- Current state after restoring: {'_iteration': 20, '_timesteps_total': None, '_time_total': 101.51078128814697, '_episodes_total': None}\n"
          ]
        },
        {
          "output_type": "stream",
          "name": "stdout",
          "text": [
            "== Status ==\n",
            "Current time: 2022-07-26 12:14:28 (running for 00:10:50.13)\n",
            "Memory usage on this node: 2.3/12.7 GiB\n",
            "Using MedianStoppingRule: num_stopped=11.\n",
            "Resources requested: 2.0/2 CPUs, 0/0 GPUs, 0.0/7.46 GiB heap, 0.0/3.73 GiB objects\n",
            "Result logdir: /root/ray_results/trainable_func_2022-07-26_12-03-38\n",
            "Number of trials: 28/50 (6 PAUSED, 4 RUNNING, 18 TERMINATED)\n",
            "\n",
            "\n",
            "Trial trainable_func_246e00fa reported epoch=0,loss=0.15509883001175281,should_checkpoint=True with parameters={'act1 ': 'selu', 'act2': 'tanh', 'act3': 'selu', 'lr': 0.0007, 'batch_size': 64, 'hidden_dim1': 285.0, 'hidden_dim2': 300.0, 'hidden_dim3': 270.0}.\n",
            "Trial trainable_func_7581ef6e reported epoch=10,loss=0.5621981127163186,should_checkpoint=True with parameters={'act1 ': 'tanh', 'act2': 'tanh', 'act3': 'tanh', 'lr': 0.0009, 'batch_size': 64, 'hidden_dim1': 165.0, 'hidden_dim2': 285.0, 'hidden_dim3': 240.0}. This trial completed.\n"
          ]
        },
        {
          "output_type": "stream",
          "name": "stderr",
          "text": [
            "\u001b[2m\u001b[36m(func pid=151415)\u001b[0m 2022-07-26 12:14:29,268\tINFO trainable.py:589 -- Restored on 172.28.0.2 from checkpoint: /root/ray_results/trainable_func_2022-07-26_12-03-38/trainable_func_246e00fa_9_act1=selu,act2=tanh,act3=selu,batch_size=64,hidden_dim1=285.0000,hidden_dim2=300.0000,hidden_dim3=270.00_2022-07-26_12-04-55/checkpoint_tmpfe16e3/./\n",
            "\u001b[2m\u001b[36m(func pid=151415)\u001b[0m 2022-07-26 12:14:29,268\tINFO trainable.py:597 -- Current state after restoring: {'_iteration': 24, '_timesteps_total': None, '_time_total': 42.201048851013184, '_episodes_total': None}\n",
            "\u001b[2m\u001b[36m(func pid=151415)\u001b[0m 2022-07-26 12:14:31,791\tINFO trainable.py:589 -- Restored on 172.28.0.2 from checkpoint: /root/ray_results/trainable_func_2022-07-26_12-03-38/trainable_func_246e00fa_9_act1=selu,act2=tanh,act3=selu,batch_size=64,hidden_dim1=285.0000,hidden_dim2=300.0000,hidden_dim3=270.00_2022-07-26_12-04-55/checkpoint_tmp6e9ad8/./\n",
            "\u001b[2m\u001b[36m(func pid=151415)\u001b[0m 2022-07-26 12:14:31,792\tINFO trainable.py:597 -- Current state after restoring: {'_iteration': 25, '_timesteps_total': None, '_time_total': 44.11954069137573, '_episodes_total': None}\n"
          ]
        },
        {
          "output_type": "stream",
          "name": "stdout",
          "text": [
            "Trial trainable_func_212fa088 reported epoch=0,loss=0.17320646227169562,should_checkpoint=True with parameters={'act1 ': 'relu', 'act2': 'relu', 'act3': 'selu', 'lr': 0.001, 'batch_size': 16, 'hidden_dim1': 300.0, 'hidden_dim2': 240.0, 'hidden_dim3': 180.0}.\n",
            "Trial trainable_func_753fd746 reported epoch=4,loss=0.7109829750432615,should_checkpoint=True with parameters={'act1 ': 'relu', 'act2': 'relu', 'act3': 'relu', 'lr': 0.0008, 'batch_size': 16, 'hidden_dim1': 180.0, 'hidden_dim2': 285.0, 'hidden_dim3': 255.0}.\n",
            "Trial trainable_func_7faaad32 reported epoch=0,loss=0.7626674542430164,should_checkpoint=True with parameters={'act1 ': 'relu', 'act2': 'tanh', 'act3': 'relu', 'lr': 0.0007, 'batch_size': 16, 'hidden_dim1': 240.0, 'hidden_dim2': 195.0, 'hidden_dim3': 270.0}.\n"
          ]
        },
        {
          "output_type": "stream",
          "name": "stderr",
          "text": [
            "\u001b[2m\u001b[36m(func pid=151414)\u001b[0m 2022-07-26 12:14:33,057\tINFO trainable.py:589 -- Restored on 172.28.0.2 from checkpoint: /root/ray_results/trainable_func_2022-07-26_12-03-38/trainable_func_212fa088_8_act1=relu,act2=relu,act3=selu,batch_size=16,hidden_dim1=300.0000,hidden_dim2=240.0000,hidden_dim3=180.00_2022-07-26_12-04-46/checkpoint_tmp4b7608/./\n",
            "\u001b[2m\u001b[36m(func pid=151414)\u001b[0m 2022-07-26 12:14:33,057\tINFO trainable.py:597 -- Current state after restoring: {'_iteration': 21, '_timesteps_total': None, '_time_total': 106.70054292678833, '_episodes_total': None}\n"
          ]
        },
        {
          "output_type": "stream",
          "name": "stdout",
          "text": [
            "Trial trainable_func_246e00fa reported epoch=0,loss=0.1221813378135117,should_checkpoint=True with parameters={'act1 ': 'selu', 'act2': 'tanh', 'act3': 'selu', 'lr': 0.0007, 'batch_size': 64, 'hidden_dim1': 285.0, 'hidden_dim2': 300.0, 'hidden_dim3': 270.0}.\n",
            "== Status ==\n",
            "Current time: 2022-07-26 12:14:33 (running for 00:10:55.31)\n",
            "Memory usage on this node: 2.3/12.7 GiB\n",
            "Using MedianStoppingRule: num_stopped=12.\n",
            "Resources requested: 2.0/2 CPUs, 0/0 GPUs, 0.0/7.46 GiB heap, 0.0/3.73 GiB objects\n",
            "Result logdir: /root/ray_results/trainable_func_2022-07-26_12-03-38\n",
            "Number of trials: 29/50 (6 PAUSED, 4 RUNNING, 19 TERMINATED)\n",
            "\n",
            "\n"
          ]
        },
        {
          "output_type": "stream",
          "name": "stderr",
          "text": [
            "\u001b[2m\u001b[36m(func pid=151415)\u001b[0m 2022-07-26 12:14:34,201\tINFO trainable.py:589 -- Restored on 172.28.0.2 from checkpoint: /root/ray_results/trainable_func_2022-07-26_12-03-38/trainable_func_246e00fa_9_act1=selu,act2=tanh,act3=selu,batch_size=64,hidden_dim1=285.0000,hidden_dim2=300.0000,hidden_dim3=270.00_2022-07-26_12-04-55/checkpoint_tmp8b9baa/./\n",
            "\u001b[2m\u001b[36m(func pid=151415)\u001b[0m 2022-07-26 12:14:34,201\tINFO trainable.py:597 -- Current state after restoring: {'_iteration': 26, '_timesteps_total': None, '_time_total': 46.05209136009216, '_episodes_total': None}\n",
            "\u001b[2m\u001b[36m(func pid=151415)\u001b[0m 2022-07-26 12:14:36,736\tINFO trainable.py:589 -- Restored on 172.28.0.2 from checkpoint: /root/ray_results/trainable_func_2022-07-26_12-03-38/trainable_func_246e00fa_9_act1=selu,act2=tanh,act3=selu,batch_size=64,hidden_dim1=285.0000,hidden_dim2=300.0000,hidden_dim3=270.00_2022-07-26_12-04-55/checkpoint_tmpd8159f/./\n",
            "\u001b[2m\u001b[36m(func pid=151415)\u001b[0m 2022-07-26 12:14:36,736\tINFO trainable.py:597 -- Current state after restoring: {'_iteration': 27, '_timesteps_total': None, '_time_total': 47.85560727119446, '_episodes_total': None}\n"
          ]
        },
        {
          "output_type": "stream",
          "name": "stdout",
          "text": [
            "Trial trainable_func_212fa088 reported epoch=0,loss=0.14809428692357113,should_checkpoint=True with parameters={'act1 ': 'relu', 'act2': 'relu', 'act3': 'selu', 'lr': 0.001, 'batch_size': 16, 'hidden_dim1': 300.0, 'hidden_dim2': 240.0, 'hidden_dim3': 180.0}.\n",
            "Trial trainable_func_753fd746 reported epoch=5,loss=0.5676759237725284,should_checkpoint=True with parameters={'act1 ': 'relu', 'act2': 'relu', 'act3': 'relu', 'lr': 0.0008, 'batch_size': 16, 'hidden_dim1': 180.0, 'hidden_dim2': 285.0, 'hidden_dim3': 255.0}.\n"
          ]
        },
        {
          "output_type": "stream",
          "name": "stderr",
          "text": [
            "\u001b[2m\u001b[36m(func pid=151414)\u001b[0m 2022-07-26 12:14:38,502\tINFO trainable.py:589 -- Restored on 172.28.0.2 from checkpoint: /root/ray_results/trainable_func_2022-07-26_12-03-38/trainable_func_212fa088_8_act1=relu,act2=relu,act3=selu,batch_size=16,hidden_dim1=300.0000,hidden_dim2=240.0000,hidden_dim3=180.00_2022-07-26_12-04-46/checkpoint_tmp3689f4/./\n",
            "\u001b[2m\u001b[36m(func pid=151414)\u001b[0m 2022-07-26 12:14:38,502\tINFO trainable.py:597 -- Current state after restoring: {'_iteration': 22, '_timesteps_total': None, '_time_total': 111.6926782131195, '_episodes_total': None}\n"
          ]
        },
        {
          "output_type": "stream",
          "name": "stdout",
          "text": [
            "== Status ==\n",
            "Current time: 2022-07-26 12:14:39 (running for 00:11:00.72)\n",
            "Memory usage on this node: 2.3/12.7 GiB\n",
            "Using MedianStoppingRule: num_stopped=12.\n",
            "Resources requested: 1.5/2 CPUs, 0/0 GPUs, 0.0/7.46 GiB heap, 0.0/3.73 GiB objects\n",
            "Result logdir: /root/ray_results/trainable_func_2022-07-26_12-03-38\n",
            "Number of trials: 29/50 (7 PAUSED, 3 RUNNING, 19 TERMINATED)\n",
            "\n",
            "\n"
          ]
        },
        {
          "output_type": "stream",
          "name": "stderr",
          "text": [
            "\u001b[2m\u001b[36m(func pid=151415)\u001b[0m 2022-07-26 12:14:39,188\tINFO trainable.py:589 -- Restored on 172.28.0.2 from checkpoint: /root/ray_results/trainable_func_2022-07-26_12-03-38/trainable_func_246e00fa_9_act1=selu,act2=tanh,act3=selu,batch_size=64,hidden_dim1=285.0000,hidden_dim2=300.0000,hidden_dim3=270.00_2022-07-26_12-04-55/checkpoint_tmpc22e5e/./\n",
            "\u001b[2m\u001b[36m(func pid=151415)\u001b[0m 2022-07-26 12:14:39,189\tINFO trainable.py:597 -- Current state after restoring: {'_iteration': 28, '_timesteps_total': None, '_time_total': 49.644906997680664, '_episodes_total': None}\n"
          ]
        },
        {
          "output_type": "stream",
          "name": "stdout",
          "text": [
            "Trial trainable_func_7faaad32 reported epoch=2,loss=0.8025400374230549,should_checkpoint=True with parameters={'act1 ': 'relu', 'act2': 'tanh', 'act3': 'relu', 'lr': 0.0007, 'batch_size': 16, 'hidden_dim1': 240.0, 'hidden_dim2': 195.0, 'hidden_dim3': 270.0}.\n",
            "Trial trainable_func_246e00fa reported epoch=0,loss=0.08712718221524393,should_checkpoint=True with parameters={'act1 ': 'selu', 'act2': 'tanh', 'act3': 'selu', 'lr': 0.0007, 'batch_size': 64, 'hidden_dim1': 285.0, 'hidden_dim2': 300.0, 'hidden_dim3': 270.0}.\n"
          ]
        },
        {
          "output_type": "stream",
          "name": "stderr",
          "text": [
            "\u001b[2m\u001b[36m(func pid=151415)\u001b[0m 2022-07-26 12:14:41,890\tINFO trainable.py:589 -- Restored on 172.28.0.2 from checkpoint: /root/ray_results/trainable_func_2022-07-26_12-03-38/trainable_func_246e00fa_9_act1=selu,act2=tanh,act3=selu,batch_size=64,hidden_dim1=285.0000,hidden_dim2=300.0000,hidden_dim3=270.00_2022-07-26_12-04-55/checkpoint_tmp80d07d/./\n",
            "\u001b[2m\u001b[36m(func pid=151415)\u001b[0m 2022-07-26 12:14:41,890\tINFO trainable.py:597 -- Current state after restoring: {'_iteration': 29, '_timesteps_total': None, '_time_total': 51.66782093048096, '_episodes_total': None}\n"
          ]
        },
        {
          "output_type": "stream",
          "name": "stdout",
          "text": [
            "== Status ==\n",
            "Current time: 2022-07-26 12:14:44 (running for 00:11:05.81)\n",
            "Memory usage on this node: 2.3/12.7 GiB\n",
            "Using MedianStoppingRule: num_stopped=12.\n",
            "Resources requested: 1.5/2 CPUs, 0/0 GPUs, 0.0/7.46 GiB heap, 0.0/3.73 GiB objects\n",
            "Result logdir: /root/ray_results/trainable_func_2022-07-26_12-03-38\n",
            "Number of trials: 29/50 (7 PAUSED, 3 RUNNING, 19 TERMINATED)\n",
            "\n",
            "\n",
            "Trial trainable_func_212fa088 reported epoch=0,loss=0.17659385941126907,should_checkpoint=True with parameters={'act1 ': 'relu', 'act2': 'relu', 'act3': 'selu', 'lr': 0.001, 'batch_size': 16, 'hidden_dim1': 300.0, 'hidden_dim2': 240.0, 'hidden_dim3': 180.0}.\n"
          ]
        },
        {
          "output_type": "stream",
          "name": "stderr",
          "text": [
            "\u001b[2m\u001b[36m(func pid=151415)\u001b[0m 2022-07-26 12:14:44,279\tINFO trainable.py:589 -- Restored on 172.28.0.2 from checkpoint: /root/ray_results/trainable_func_2022-07-26_12-03-38/trainable_func_246e00fa_9_act1=selu,act2=tanh,act3=selu,batch_size=64,hidden_dim1=285.0000,hidden_dim2=300.0000,hidden_dim3=270.00_2022-07-26_12-04-55/checkpoint_tmpade231/./\n",
            "\u001b[2m\u001b[36m(func pid=151415)\u001b[0m 2022-07-26 12:14:44,290\tINFO trainable.py:597 -- Current state after restoring: {'_iteration': 30, '_timesteps_total': None, '_time_total': 53.56951570510864, '_episodes_total': None}\n",
            "\u001b[2m\u001b[36m(func pid=151414)\u001b[0m 2022-07-26 12:14:44,857\tINFO trainable.py:589 -- Restored on 172.28.0.2 from checkpoint: /root/ray_results/trainable_func_2022-07-26_12-03-38/trainable_func_212fa088_8_act1=relu,act2=relu,act3=selu,batch_size=16,hidden_dim1=300.0000,hidden_dim2=240.0000,hidden_dim3=180.00_2022-07-26_12-04-46/checkpoint_tmpea8e1b/./\n",
            "\u001b[2m\u001b[36m(func pid=151414)\u001b[0m 2022-07-26 12:14:44,858\tINFO trainable.py:597 -- Current state after restoring: {'_iteration': 23, '_timesteps_total': None, '_time_total': 117.1103663444519, '_episodes_total': None}\n"
          ]
        },
        {
          "output_type": "stream",
          "name": "stdout",
          "text": [
            "Trial trainable_func_246e00fa reported epoch=0,loss=0.08111179909996358,should_checkpoint=True with parameters={'act1 ': 'selu', 'act2': 'tanh', 'act3': 'selu', 'lr': 0.0007, 'batch_size': 64, 'hidden_dim1': 285.0, 'hidden_dim2': 300.0, 'hidden_dim3': 270.0}.\n"
          ]
        },
        {
          "output_type": "stream",
          "name": "stderr",
          "text": [
            "\u001b[2m\u001b[36m(func pid=151415)\u001b[0m 2022-07-26 12:14:46,868\tINFO trainable.py:589 -- Restored on 172.28.0.2 from checkpoint: /root/ray_results/trainable_func_2022-07-26_12-03-38/trainable_func_246e00fa_9_act1=selu,act2=tanh,act3=selu,batch_size=64,hidden_dim1=285.0000,hidden_dim2=300.0000,hidden_dim3=270.00_2022-07-26_12-04-55/checkpoint_tmpf68795/./\n",
            "\u001b[2m\u001b[36m(func pid=151415)\u001b[0m 2022-07-26 12:14:46,868\tINFO trainable.py:597 -- Current state after restoring: {'_iteration': 31, '_timesteps_total': None, '_time_total': 55.49722361564636, '_episodes_total': None}\n"
          ]
        },
        {
          "output_type": "stream",
          "name": "stdout",
          "text": [
            "Trial trainable_func_7faaad32 reported epoch=4,loss=0.5959681785147991,should_checkpoint=True with parameters={'act1 ': 'relu', 'act2': 'tanh', 'act3': 'relu', 'lr': 0.0007, 'batch_size': 16, 'hidden_dim1': 240.0, 'hidden_dim2': 195.0, 'hidden_dim3': 270.0}.\n",
            "Trial trainable_func_753fd746 reported epoch=7,loss=0.6310564132142871,should_checkpoint=True with parameters={'act1 ': 'relu', 'act2': 'relu', 'act3': 'relu', 'lr': 0.0008, 'batch_size': 16, 'hidden_dim1': 180.0, 'hidden_dim2': 285.0, 'hidden_dim3': 255.0}.\n",
            "== Status ==\n",
            "Current time: 2022-07-26 12:14:49 (running for 00:11:10.96)\n",
            "Memory usage on this node: 2.3/12.7 GiB\n",
            "Using MedianStoppingRule: num_stopped=12.\n",
            "Resources requested: 1.5/2 CPUs, 0/0 GPUs, 0.0/7.46 GiB heap, 0.0/3.73 GiB objects\n",
            "Result logdir: /root/ray_results/trainable_func_2022-07-26_12-03-38\n",
            "Number of trials: 29/50 (7 PAUSED, 3 RUNNING, 19 TERMINATED)\n",
            "\n",
            "\n"
          ]
        },
        {
          "output_type": "stream",
          "name": "stderr",
          "text": [
            "\u001b[2m\u001b[36m(func pid=151415)\u001b[0m 2022-07-26 12:14:49,421\tINFO trainable.py:589 -- Restored on 172.28.0.2 from checkpoint: /root/ray_results/trainable_func_2022-07-26_12-03-38/trainable_func_246e00fa_9_act1=selu,act2=tanh,act3=selu,batch_size=64,hidden_dim1=285.0000,hidden_dim2=300.0000,hidden_dim3=270.00_2022-07-26_12-04-55/checkpoint_tmpb95123/./\n",
            "\u001b[2m\u001b[36m(func pid=151415)\u001b[0m 2022-07-26 12:14:49,422\tINFO trainable.py:597 -- Current state after restoring: {'_iteration': 32, '_timesteps_total': None, '_time_total': 57.47339200973511, '_episodes_total': None}\n"
          ]
        },
        {
          "output_type": "stream",
          "name": "stdout",
          "text": [
            "Trial trainable_func_212fa088 reported epoch=0,loss=0.16767491758493658,should_checkpoint=True with parameters={'act1 ': 'relu', 'act2': 'relu', 'act3': 'selu', 'lr': 0.001, 'batch_size': 16, 'hidden_dim1': 300.0, 'hidden_dim2': 240.0, 'hidden_dim3': 180.0}.\n"
          ]
        },
        {
          "output_type": "stream",
          "name": "stderr",
          "text": [
            "\u001b[2m\u001b[36m(func pid=151414)\u001b[0m 2022-07-26 12:14:50,683\tINFO trainable.py:589 -- Restored on 172.28.0.2 from checkpoint: /root/ray_results/trainable_func_2022-07-26_12-03-38/trainable_func_212fa088_8_act1=relu,act2=relu,act3=selu,batch_size=16,hidden_dim1=300.0000,hidden_dim2=240.0000,hidden_dim3=180.00_2022-07-26_12-04-46/checkpoint_tmpf6de7b/./\n",
            "\u001b[2m\u001b[36m(func pid=151414)\u001b[0m 2022-07-26 12:14:50,683\tINFO trainable.py:597 -- Current state after restoring: {'_iteration': 24, '_timesteps_total': None, '_time_total': 122.30860805511475, '_episodes_total': None}\n"
          ]
        },
        {
          "output_type": "stream",
          "name": "stdout",
          "text": [
            "Trial trainable_func_246e00fa reported epoch=0,loss=0.08892572528422757,should_checkpoint=True with parameters={'act1 ': 'selu', 'act2': 'tanh', 'act3': 'selu', 'lr': 0.0007, 'batch_size': 64, 'hidden_dim1': 285.0, 'hidden_dim2': 300.0, 'hidden_dim3': 270.0}.\n"
          ]
        },
        {
          "output_type": "stream",
          "name": "stderr",
          "text": [
            "\u001b[2m\u001b[36m(func pid=151415)\u001b[0m 2022-07-26 12:14:51,956\tINFO trainable.py:589 -- Restored on 172.28.0.2 from checkpoint: /root/ray_results/trainable_func_2022-07-26_12-03-38/trainable_func_246e00fa_9_act1=selu,act2=tanh,act3=selu,batch_size=64,hidden_dim1=285.0000,hidden_dim2=300.0000,hidden_dim3=270.00_2022-07-26_12-04-55/checkpoint_tmp0c7639/./\n",
            "\u001b[2m\u001b[36m(func pid=151415)\u001b[0m 2022-07-26 12:14:51,956\tINFO trainable.py:597 -- Current state after restoring: {'_iteration': 33, '_timesteps_total': None, '_time_total': 59.40117120742798, '_episodes_total': None}\n"
          ]
        },
        {
          "output_type": "stream",
          "name": "stdout",
          "text": [
            "Trial trainable_func_753fd746 reported epoch=8,loss=0.517975562944809,should_checkpoint=True with parameters={'act1 ': 'relu', 'act2': 'relu', 'act3': 'relu', 'lr': 0.0008, 'batch_size': 16, 'hidden_dim1': 180.0, 'hidden_dim2': 285.0, 'hidden_dim3': 255.0}.\n",
            "== Status ==\n",
            "Current time: 2022-07-26 12:14:54 (running for 00:11:16.06)\n",
            "Memory usage on this node: 2.3/12.7 GiB\n",
            "Using MedianStoppingRule: num_stopped=12.\n",
            "Resources requested: 1.5/2 CPUs, 0/0 GPUs, 0.0/7.46 GiB heap, 0.0/3.73 GiB objects\n",
            "Result logdir: /root/ray_results/trainable_func_2022-07-26_12-03-38\n",
            "Number of trials: 29/50 (7 PAUSED, 3 RUNNING, 19 TERMINATED)\n",
            "\n",
            "\n",
            "Trial trainable_func_7faaad32 reported epoch=6,loss=0.5073656616636762,should_checkpoint=True with parameters={'act1 ': 'relu', 'act2': 'tanh', 'act3': 'relu', 'lr': 0.0007, 'batch_size': 16, 'hidden_dim1': 240.0, 'hidden_dim2': 195.0, 'hidden_dim3': 270.0}.\n"
          ]
        },
        {
          "output_type": "stream",
          "name": "stderr",
          "text": [
            "\u001b[2m\u001b[36m(func pid=151415)\u001b[0m 2022-07-26 12:14:54,536\tINFO trainable.py:589 -- Restored on 172.28.0.2 from checkpoint: /root/ray_results/trainable_func_2022-07-26_12-03-38/trainable_func_246e00fa_9_act1=selu,act2=tanh,act3=selu,batch_size=64,hidden_dim1=285.0000,hidden_dim2=300.0000,hidden_dim3=270.00_2022-07-26_12-04-55/checkpoint_tmp35b129/./\n",
            "\u001b[2m\u001b[36m(func pid=151415)\u001b[0m 2022-07-26 12:14:54,536\tINFO trainable.py:597 -- Current state after restoring: {'_iteration': 34, '_timesteps_total': None, '_time_total': 61.31472945213318, '_episodes_total': None}\n"
          ]
        },
        {
          "output_type": "stream",
          "name": "stdout",
          "text": [
            "Trial trainable_func_246e00fa reported epoch=0,loss=0.07437139207506045,should_checkpoint=True with parameters={'act1 ': 'selu', 'act2': 'tanh', 'act3': 'selu', 'lr': 0.0007, 'batch_size': 64, 'hidden_dim1': 285.0, 'hidden_dim2': 300.0, 'hidden_dim3': 270.0}.\n",
            "Trial trainable_func_212fa088 reported epoch=0,loss=0.12720657676783473,should_checkpoint=True with parameters={'act1 ': 'relu', 'act2': 'relu', 'act3': 'selu', 'lr': 0.001, 'batch_size': 16, 'hidden_dim1': 300.0, 'hidden_dim2': 240.0, 'hidden_dim3': 180.0}.\n"
          ]
        },
        {
          "output_type": "stream",
          "name": "stderr",
          "text": [
            "\u001b[2m\u001b[36m(func pid=151415)\u001b[0m 2022-07-26 12:14:56,847\tINFO trainable.py:589 -- Restored on 172.28.0.2 from checkpoint: /root/ray_results/trainable_func_2022-07-26_12-03-38/trainable_func_246e00fa_9_act1=selu,act2=tanh,act3=selu,batch_size=64,hidden_dim1=285.0000,hidden_dim2=300.0000,hidden_dim3=270.00_2022-07-26_12-04-55/checkpoint_tmp7b7e96/./\n",
            "\u001b[2m\u001b[36m(func pid=151415)\u001b[0m 2022-07-26 12:14:56,848\tINFO trainable.py:597 -- Current state after restoring: {'_iteration': 35, '_timesteps_total': None, '_time_total': 63.17724347114563, '_episodes_total': None}\n",
            "\u001b[2m\u001b[36m(func pid=151414)\u001b[0m 2022-07-26 12:14:57,552\tINFO trainable.py:589 -- Restored on 172.28.0.2 from checkpoint: /root/ray_results/trainable_func_2022-07-26_12-03-38/trainable_func_212fa088_8_act1=relu,act2=relu,act3=selu,batch_size=16,hidden_dim1=300.0000,hidden_dim2=240.0000,hidden_dim3=180.00_2022-07-26_12-04-46/checkpoint_tmpf7136a/./\n",
            "\u001b[2m\u001b[36m(func pid=151414)\u001b[0m 2022-07-26 12:14:57,552\tINFO trainable.py:597 -- Current state after restoring: {'_iteration': 25, '_timesteps_total': None, '_time_total': 128.0532841682434, '_episodes_total': None}\n"
          ]
        },
        {
          "output_type": "stream",
          "name": "stdout",
          "text": [
            "Trial trainable_func_753fd746 reported epoch=9,loss=0.5512657774495577,should_checkpoint=True with parameters={'act1 ': 'relu', 'act2': 'relu', 'act3': 'relu', 'lr': 0.0008, 'batch_size': 16, 'hidden_dim1': 180.0, 'hidden_dim2': 285.0, 'hidden_dim3': 255.0}.\n"
          ]
        },
        {
          "output_type": "stream",
          "name": "stderr",
          "text": [
            "\u001b[2m\u001b[36m(func pid=151415)\u001b[0m 2022-07-26 12:14:59,107\tINFO trainable.py:589 -- Restored on 172.28.0.2 from checkpoint: /root/ray_results/trainable_func_2022-07-26_12-03-38/trainable_func_246e00fa_9_act1=selu,act2=tanh,act3=selu,batch_size=64,hidden_dim1=285.0000,hidden_dim2=300.0000,hidden_dim3=270.00_2022-07-26_12-04-55/checkpoint_tmp00a03a/./\n",
            "\u001b[2m\u001b[36m(func pid=151415)\u001b[0m 2022-07-26 12:14:59,107\tINFO trainable.py:597 -- Current state after restoring: {'_iteration': 36, '_timesteps_total': None, '_time_total': 64.84905791282654, '_episodes_total': None}\n"
          ]
        },
        {
          "output_type": "stream",
          "name": "stdout",
          "text": [
            "== Status ==\n",
            "Current time: 2022-07-26 12:15:00 (running for 00:11:22.49)\n",
            "Memory usage on this node: 2.3/12.7 GiB\n",
            "Using MedianStoppingRule: num_stopped=12.\n",
            "Resources requested: 2.0/2 CPUs, 0/0 GPUs, 0.0/7.46 GiB heap, 0.0/3.73 GiB objects\n",
            "Result logdir: /root/ray_results/trainable_func_2022-07-26_12-03-38\n",
            "Number of trials: 29/50 (6 PAUSED, 4 RUNNING, 19 TERMINATED)\n",
            "\n",
            "\n"
          ]
        },
        {
          "output_type": "stream",
          "name": "stderr",
          "text": [
            "\u001b[2m\u001b[36m(func pid=151415)\u001b[0m 2022-07-26 12:15:01,427\tINFO trainable.py:589 -- Restored on 172.28.0.2 from checkpoint: /root/ray_results/trainable_func_2022-07-26_12-03-38/trainable_func_246e00fa_9_act1=selu,act2=tanh,act3=selu,batch_size=64,hidden_dim1=285.0000,hidden_dim2=300.0000,hidden_dim3=270.00_2022-07-26_12-04-55/checkpoint_tmpcdf2bb/./\n",
            "\u001b[2m\u001b[36m(func pid=151415)\u001b[0m 2022-07-26 12:15:01,427\tINFO trainable.py:597 -- Current state after restoring: {'_iteration': 37, '_timesteps_total': None, '_time_total': 66.6424572467804, '_episodes_total': None}\n"
          ]
        },
        {
          "output_type": "stream",
          "name": "stdout",
          "text": [
            "Trial trainable_func_7faaad32 reported epoch=8,loss=0.5016724535971251,should_checkpoint=True with parameters={'act1 ': 'relu', 'act2': 'tanh', 'act3': 'relu', 'lr': 0.0007, 'batch_size': 16, 'hidden_dim1': 240.0, 'hidden_dim2': 195.0, 'hidden_dim3': 270.0}.\n",
            "Trial trainable_func_753fd746 reported epoch=10,loss=0.6020598661870183,should_checkpoint=True with parameters={'act1 ': 'relu', 'act2': 'relu', 'act3': 'relu', 'lr': 0.0008, 'batch_size': 16, 'hidden_dim1': 180.0, 'hidden_dim2': 285.0, 'hidden_dim3': 255.0}.\n",
            "Trial trainable_func_246e00fa reported epoch=0,loss=0.07339022173166714,should_checkpoint=True with parameters={'act1 ': 'selu', 'act2': 'tanh', 'act3': 'selu', 'lr': 0.0007, 'batch_size': 64, 'hidden_dim1': 285.0, 'hidden_dim2': 300.0, 'hidden_dim3': 270.0}.\n",
            "Trial trainable_func_212fa088 reported epoch=0,loss=0.14635869193766035,should_checkpoint=True with parameters={'act1 ': 'relu', 'act2': 'relu', 'act3': 'selu', 'lr': 0.001, 'batch_size': 16, 'hidden_dim1': 300.0, 'hidden_dim2': 240.0, 'hidden_dim3': 180.0}.\n"
          ]
        },
        {
          "output_type": "stream",
          "name": "stderr",
          "text": [
            "\u001b[2m\u001b[36m(func pid=151415)\u001b[0m 2022-07-26 12:15:03,592\tINFO trainable.py:589 -- Restored on 172.28.0.2 from checkpoint: /root/ray_results/trainable_func_2022-07-26_12-03-38/trainable_func_246e00fa_9_act1=selu,act2=tanh,act3=selu,batch_size=64,hidden_dim1=285.0000,hidden_dim2=300.0000,hidden_dim3=270.00_2022-07-26_12-04-55/checkpoint_tmpd16b5c/./\n",
            "\u001b[2m\u001b[36m(func pid=151415)\u001b[0m 2022-07-26 12:15:03,592\tINFO trainable.py:597 -- Current state after restoring: {'_iteration': 38, '_timesteps_total': None, '_time_total': 68.40202951431274, '_episodes_total': None}\n",
            "\u001b[2m\u001b[36m(func pid=151414)\u001b[0m 2022-07-26 12:15:04,132\tINFO trainable.py:589 -- Restored on 172.28.0.2 from checkpoint: /root/ray_results/trainable_func_2022-07-26_12-03-38/trainable_func_212fa088_8_act1=relu,act2=relu,act3=selu,batch_size=16,hidden_dim1=300.0000,hidden_dim2=240.0000,hidden_dim3=180.00_2022-07-26_12-04-46/checkpoint_tmp67c271/./\n",
            "\u001b[2m\u001b[36m(func pid=151414)\u001b[0m 2022-07-26 12:15:04,132\tINFO trainable.py:597 -- Current state after restoring: {'_iteration': 26, '_timesteps_total': None, '_time_total': 133.8296446800232, '_episodes_total': None}\n",
            "\u001b[2m\u001b[36m(func pid=151415)\u001b[0m 2022-07-26 12:15:05,829\tINFO trainable.py:589 -- Restored on 172.28.0.2 from checkpoint: /root/ray_results/trainable_func_2022-07-26_12-03-38/trainable_func_246e00fa_9_act1=selu,act2=tanh,act3=selu,batch_size=64,hidden_dim1=285.0000,hidden_dim2=300.0000,hidden_dim3=270.00_2022-07-26_12-04-55/checkpoint_tmpd97d45/./\n",
            "\u001b[2m\u001b[36m(func pid=151415)\u001b[0m 2022-07-26 12:15:05,830\tINFO trainable.py:597 -- Current state after restoring: {'_iteration': 39, '_timesteps_total': None, '_time_total': 70.1071548461914, '_episodes_total': None}\n"
          ]
        },
        {
          "output_type": "stream",
          "name": "stdout",
          "text": [
            "== Status ==\n",
            "Current time: 2022-07-26 12:15:06 (running for 00:11:27.91)\n",
            "Memory usage on this node: 2.3/12.7 GiB\n",
            "Using MedianStoppingRule: num_stopped=12.\n",
            "Resources requested: 2.0/2 CPUs, 0/0 GPUs, 0.0/7.46 GiB heap, 0.0/3.73 GiB objects\n",
            "Result logdir: /root/ray_results/trainable_func_2022-07-26_12-03-38\n",
            "Number of trials: 29/50 (6 PAUSED, 4 RUNNING, 19 TERMINATED)\n",
            "\n",
            "\n",
            "Trial trainable_func_753fd746 reported epoch=11,loss=0.5537412475093358,should_checkpoint=True with parameters={'act1 ': 'relu', 'act2': 'relu', 'act3': 'relu', 'lr': 0.0008, 'batch_size': 16, 'hidden_dim1': 180.0, 'hidden_dim2': 285.0, 'hidden_dim3': 255.0}. This trial completed.\n"
          ]
        },
        {
          "output_type": "stream",
          "name": "stderr",
          "text": [
            "\u001b[2m\u001b[36m(func pid=151415)\u001b[0m 2022-07-26 12:15:08,204\tINFO trainable.py:589 -- Restored on 172.28.0.2 from checkpoint: /root/ray_results/trainable_func_2022-07-26_12-03-38/trainable_func_246e00fa_9_act1=selu,act2=tanh,act3=selu,batch_size=64,hidden_dim1=285.0000,hidden_dim2=300.0000,hidden_dim3=270.00_2022-07-26_12-04-55/checkpoint_tmpa1293b/./\n",
            "\u001b[2m\u001b[36m(func pid=151415)\u001b[0m 2022-07-26 12:15:08,205\tINFO trainable.py:597 -- Current state after restoring: {'_iteration': 40, '_timesteps_total': None, '_time_total': 71.97788310050964, '_episodes_total': None}\n"
          ]
        },
        {
          "output_type": "stream",
          "name": "stdout",
          "text": [
            "Trial trainable_func_212fa088 reported epoch=0,loss=0.15778580755010538,should_checkpoint=True with parameters={'act1 ': 'relu', 'act2': 'relu', 'act3': 'selu', 'lr': 0.001, 'batch_size': 16, 'hidden_dim1': 300.0, 'hidden_dim2': 240.0, 'hidden_dim3': 180.0}.\n",
            "Trial trainable_func_96e04430 reported epoch=0,loss=1.1923560524102073,should_checkpoint=True with parameters={'act1 ': 'tanh', 'act2': 'tanh', 'act3': 'relu', 'lr': 0.0007, 'batch_size': 64, 'hidden_dim1': 240.0, 'hidden_dim2': 195.0, 'hidden_dim3': 150.0}.\n",
            "Trial trainable_func_7faaad32 reported epoch=10,loss=0.5064135446688594,should_checkpoint=True with parameters={'act1 ': 'relu', 'act2': 'tanh', 'act3': 'relu', 'lr': 0.0007, 'batch_size': 16, 'hidden_dim1': 240.0, 'hidden_dim2': 195.0, 'hidden_dim3': 270.0}.\n",
            "Trial trainable_func_246e00fa reported epoch=0,loss=0.06660165436781924,should_checkpoint=True with parameters={'act1 ': 'selu', 'act2': 'tanh', 'act3': 'selu', 'lr': 0.0007, 'batch_size': 64, 'hidden_dim1': 285.0, 'hidden_dim2': 300.0, 'hidden_dim3': 270.0}.\n"
          ]
        },
        {
          "output_type": "stream",
          "name": "stderr",
          "text": [
            "\u001b[2m\u001b[36m(func pid=151414)\u001b[0m 2022-07-26 12:15:10,090\tINFO trainable.py:589 -- Restored on 172.28.0.2 from checkpoint: /root/ray_results/trainable_func_2022-07-26_12-03-38/trainable_func_212fa088_8_act1=relu,act2=relu,act3=selu,batch_size=16,hidden_dim1=300.0000,hidden_dim2=240.0000,hidden_dim3=180.00_2022-07-26_12-04-46/checkpoint_tmpdd7433/./\n",
            "\u001b[2m\u001b[36m(func pid=151414)\u001b[0m 2022-07-26 12:15:10,091\tINFO trainable.py:597 -- Current state after restoring: {'_iteration': 27, '_timesteps_total': None, '_time_total': 139.2723846435547, '_episodes_total': None}\n",
            "\u001b[2m\u001b[36m(func pid=151415)\u001b[0m 2022-07-26 12:15:10,841\tINFO trainable.py:589 -- Restored on 172.28.0.2 from checkpoint: /root/ray_results/trainable_func_2022-07-26_12-03-38/trainable_func_246e00fa_9_act1=selu,act2=tanh,act3=selu,batch_size=64,hidden_dim1=285.0000,hidden_dim2=300.0000,hidden_dim3=270.00_2022-07-26_12-04-55/checkpoint_tmpd76f6a/./\n",
            "\u001b[2m\u001b[36m(func pid=151415)\u001b[0m 2022-07-26 12:15:10,842\tINFO trainable.py:597 -- Current state after restoring: {'_iteration': 41, '_timesteps_total': None, '_time_total': 73.97748231887817, '_episodes_total': None}\n"
          ]
        },
        {
          "output_type": "stream",
          "name": "stdout",
          "text": [
            "== Status ==\n",
            "Current time: 2022-07-26 12:15:11 (running for 00:11:33.04)\n",
            "Memory usage on this node: 2.3/12.7 GiB\n",
            "Using MedianStoppingRule: num_stopped=13.\n",
            "Resources requested: 2.0/2 CPUs, 0/0 GPUs, 0.0/7.46 GiB heap, 0.0/3.73 GiB objects\n",
            "Result logdir: /root/ray_results/trainable_func_2022-07-26_12-03-38\n",
            "Number of trials: 30/50 (6 PAUSED, 4 RUNNING, 20 TERMINATED)\n",
            "\n",
            "\n"
          ]
        },
        {
          "output_type": "stream",
          "name": "stderr",
          "text": [
            "\u001b[2m\u001b[36m(func pid=151415)\u001b[0m 2022-07-26 12:15:13,149\tINFO trainable.py:589 -- Restored on 172.28.0.2 from checkpoint: /root/ray_results/trainable_func_2022-07-26_12-03-38/trainable_func_246e00fa_9_act1=selu,act2=tanh,act3=selu,batch_size=64,hidden_dim1=285.0000,hidden_dim2=300.0000,hidden_dim3=270.00_2022-07-26_12-04-55/checkpoint_tmp543c51/./\n",
            "\u001b[2m\u001b[36m(func pid=151415)\u001b[0m 2022-07-26 12:15:13,149\tINFO trainable.py:597 -- Current state after restoring: {'_iteration': 42, '_timesteps_total': None, '_time_total': 75.87956118583679, '_episodes_total': None}\n"
          ]
        },
        {
          "output_type": "stream",
          "name": "stdout",
          "text": [
            "Trial trainable_func_7faaad32 reported epoch=11,loss=0.533894417926115,should_checkpoint=True with parameters={'act1 ': 'relu', 'act2': 'tanh', 'act3': 'relu', 'lr': 0.0007, 'batch_size': 16, 'hidden_dim1': 240.0, 'hidden_dim2': 195.0, 'hidden_dim3': 270.0}. This trial completed.\n",
            "Trial trainable_func_96e04430 reported epoch=4,loss=0.730199481824653,should_checkpoint=True with parameters={'act1 ': 'tanh', 'act2': 'tanh', 'act3': 'relu', 'lr': 0.0007, 'batch_size': 64, 'hidden_dim1': 240.0, 'hidden_dim2': 195.0, 'hidden_dim3': 150.0}.\n",
            "Trial trainable_func_212fa088 reported epoch=0,loss=0.1384049107579155,should_checkpoint=True with parameters={'act1 ': 'relu', 'act2': 'relu', 'act3': 'selu', 'lr': 0.001, 'batch_size': 16, 'hidden_dim1': 300.0, 'hidden_dim2': 240.0, 'hidden_dim3': 180.0}.\n"
          ]
        },
        {
          "output_type": "stream",
          "name": "stderr",
          "text": [
            "\u001b[2m\u001b[36m(func pid=151415)\u001b[0m 2022-07-26 12:15:15,702\tINFO trainable.py:589 -- Restored on 172.28.0.2 from checkpoint: /root/ray_results/trainable_func_2022-07-26_12-03-38/trainable_func_246e00fa_9_act1=selu,act2=tanh,act3=selu,batch_size=64,hidden_dim1=285.0000,hidden_dim2=300.0000,hidden_dim3=270.00_2022-07-26_12-04-55/checkpoint_tmpbdc1ef/./\n",
            "\u001b[2m\u001b[36m(func pid=151415)\u001b[0m 2022-07-26 12:15:15,702\tINFO trainable.py:597 -- Current state after restoring: {'_iteration': 43, '_timesteps_total': None, '_time_total': 77.74456310272217, '_episodes_total': None}\n",
            "\u001b[2m\u001b[36m(func pid=151414)\u001b[0m 2022-07-26 12:15:16,416\tINFO trainable.py:589 -- Restored on 172.28.0.2 from checkpoint: /root/ray_results/trainable_func_2022-07-26_12-03-38/trainable_func_212fa088_8_act1=relu,act2=relu,act3=selu,batch_size=16,hidden_dim1=300.0000,hidden_dim2=240.0000,hidden_dim3=180.00_2022-07-26_12-04-46/checkpoint_tmpd875a7/./\n",
            "\u001b[2m\u001b[36m(func pid=151414)\u001b[0m 2022-07-26 12:15:16,418\tINFO trainable.py:597 -- Current state after restoring: {'_iteration': 28, '_timesteps_total': None, '_time_total': 144.75470662117004, '_episodes_total': None}\n"
          ]
        },
        {
          "output_type": "stream",
          "name": "stdout",
          "text": [
            "== Status ==\n",
            "Current time: 2022-07-26 12:15:17 (running for 00:11:38.65)\n",
            "Memory usage on this node: 2.3/12.7 GiB\n",
            "Using MedianStoppingRule: num_stopped=14.\n",
            "Resources requested: 2.0/2 CPUs, 0/0 GPUs, 0.0/7.46 GiB heap, 0.0/3.73 GiB objects\n",
            "Result logdir: /root/ray_results/trainable_func_2022-07-26_12-03-38\n",
            "Number of trials: 31/50 (6 PAUSED, 4 RUNNING, 21 TERMINATED)\n",
            "\n",
            "\n",
            "Trial trainable_func_246e00fa reported epoch=0,loss=0.05742497652936135,should_checkpoint=True with parameters={'act1 ': 'selu', 'act2': 'tanh', 'act3': 'selu', 'lr': 0.0007, 'batch_size': 64, 'hidden_dim1': 285.0, 'hidden_dim2': 300.0, 'hidden_dim3': 270.0}.\n",
            "Trial trainable_func_9a64f722 reported epoch=0,loss=0.6304580183752035,should_checkpoint=True with parameters={'act1 ': 'selu', 'act2': 'tanh', 'act3': 'selu', 'lr': 0.0009, 'batch_size': 16, 'hidden_dim1': 315.0, 'hidden_dim2': 120.0, 'hidden_dim3': 180.0}.\n"
          ]
        },
        {
          "output_type": "stream",
          "name": "stderr",
          "text": [
            "\u001b[2m\u001b[36m(func pid=151415)\u001b[0m 2022-07-26 12:15:18,007\tINFO trainable.py:589 -- Restored on 172.28.0.2 from checkpoint: /root/ray_results/trainable_func_2022-07-26_12-03-38/trainable_func_246e00fa_9_act1=selu,act2=tanh,act3=selu,batch_size=64,hidden_dim1=285.0000,hidden_dim2=300.0000,hidden_dim3=270.00_2022-07-26_12-04-55/checkpoint_tmp8d23ba/./\n",
            "\u001b[2m\u001b[36m(func pid=151415)\u001b[0m 2022-07-26 12:15:18,007\tINFO trainable.py:597 -- Current state after restoring: {'_iteration': 44, '_timesteps_total': None, '_time_total': 79.39360809326172, '_episodes_total': None}\n",
            "\u001b[2m\u001b[36m(func pid=151415)\u001b[0m 2022-07-26 12:15:20,515\tINFO trainable.py:589 -- Restored on 172.28.0.2 from checkpoint: /root/ray_results/trainable_func_2022-07-26_12-03-38/trainable_func_246e00fa_9_act1=selu,act2=tanh,act3=selu,batch_size=64,hidden_dim1=285.0000,hidden_dim2=300.0000,hidden_dim3=270.00_2022-07-26_12-04-55/checkpoint_tmp3cdbd6/./\n",
            "\u001b[2m\u001b[36m(func pid=151415)\u001b[0m 2022-07-26 12:15:20,515\tINFO trainable.py:597 -- Current state after restoring: {'_iteration': 45, '_timesteps_total': None, '_time_total': 81.2274169921875, '_episodes_total': None}\n"
          ]
        },
        {
          "output_type": "stream",
          "name": "stdout",
          "text": [
            "Trial trainable_func_96e04430 reported epoch=8,loss=0.5273157982910536,should_checkpoint=True with parameters={'act1 ': 'tanh', 'act2': 'tanh', 'act3': 'relu', 'lr': 0.0007, 'batch_size': 64, 'hidden_dim1': 240.0, 'hidden_dim2': 195.0, 'hidden_dim3': 150.0}.\n",
            "== Status ==\n",
            "Current time: 2022-07-26 12:15:22 (running for 00:11:43.80)\n",
            "Memory usage on this node: 2.3/12.7 GiB\n",
            "Using MedianStoppingRule: num_stopped=14.\n",
            "Resources requested: 2.0/2 CPUs, 0/0 GPUs, 0.0/7.46 GiB heap, 0.0/3.73 GiB objects\n",
            "Result logdir: /root/ray_results/trainable_func_2022-07-26_12-03-38\n",
            "Number of trials: 31/50 (6 PAUSED, 4 RUNNING, 21 TERMINATED)\n",
            "\n",
            "\n",
            "Trial trainable_func_212fa088 reported epoch=0,loss=0.1386022952097046,should_checkpoint=True with parameters={'act1 ': 'relu', 'act2': 'relu', 'act3': 'selu', 'lr': 0.001, 'batch_size': 16, 'hidden_dim1': 300.0, 'hidden_dim2': 240.0, 'hidden_dim3': 180.0}.\n",
            "Trial trainable_func_246e00fa reported epoch=0,loss=0.08441623348885213,should_checkpoint=True with parameters={'act1 ': 'selu', 'act2': 'tanh', 'act3': 'selu', 'lr': 0.0007, 'batch_size': 64, 'hidden_dim1': 285.0, 'hidden_dim2': 300.0, 'hidden_dim3': 270.0}.\n"
          ]
        },
        {
          "output_type": "stream",
          "name": "stderr",
          "text": [
            "\u001b[2m\u001b[36m(func pid=151414)\u001b[0m 2022-07-26 12:15:23,011\tINFO trainable.py:589 -- Restored on 172.28.0.2 from checkpoint: /root/ray_results/trainable_func_2022-07-26_12-03-38/trainable_func_212fa088_8_act1=relu,act2=relu,act3=selu,batch_size=16,hidden_dim1=300.0000,hidden_dim2=240.0000,hidden_dim3=180.00_2022-07-26_12-04-46/checkpoint_tmpa9220f/./\n",
            "\u001b[2m\u001b[36m(func pid=151414)\u001b[0m 2022-07-26 12:15:23,011\tINFO trainable.py:597 -- Current state after restoring: {'_iteration': 29, '_timesteps_total': None, '_time_total': 150.74143528938293, '_episodes_total': None}\n",
            "\u001b[2m\u001b[36m(func pid=151415)\u001b[0m 2022-07-26 12:15:23,567\tINFO trainable.py:589 -- Restored on 172.28.0.2 from checkpoint: /root/ray_results/trainable_func_2022-07-26_12-03-38/trainable_func_246e00fa_9_act1=selu,act2=tanh,act3=selu,batch_size=64,hidden_dim1=285.0000,hidden_dim2=300.0000,hidden_dim3=270.00_2022-07-26_12-04-55/checkpoint_tmp8f6097/./\n",
            "\u001b[2m\u001b[36m(func pid=151415)\u001b[0m 2022-07-26 12:15:23,567\tINFO trainable.py:597 -- Current state after restoring: {'_iteration': 46, '_timesteps_total': None, '_time_total': 83.34064102172852, '_episodes_total': None}\n"
          ]
        },
        {
          "output_type": "stream",
          "name": "stdout",
          "text": [
            "Trial trainable_func_9a64f722 reported epoch=2,loss=1.0202684385009049,should_checkpoint=True with parameters={'act1 ': 'selu', 'act2': 'tanh', 'act3': 'selu', 'lr': 0.0009, 'batch_size': 16, 'hidden_dim1': 315.0, 'hidden_dim2': 120.0, 'hidden_dim3': 180.0}.\n",
            "Trial trainable_func_96e04430 reported epoch=11,loss=0.5118697207630797,should_checkpoint=True with parameters={'act1 ': 'tanh', 'act2': 'tanh', 'act3': 'relu', 'lr': 0.0007, 'batch_size': 64, 'hidden_dim1': 240.0, 'hidden_dim2': 195.0, 'hidden_dim3': 150.0}. This trial completed.\n"
          ]
        },
        {
          "output_type": "stream",
          "name": "stderr",
          "text": [
            "\u001b[2m\u001b[36m(func pid=151415)\u001b[0m 2022-07-26 12:15:26,100\tINFO trainable.py:589 -- Restored on 172.28.0.2 from checkpoint: /root/ray_results/trainable_func_2022-07-26_12-03-38/trainable_func_246e00fa_9_act1=selu,act2=tanh,act3=selu,batch_size=64,hidden_dim1=285.0000,hidden_dim2=300.0000,hidden_dim3=270.00_2022-07-26_12-04-55/checkpoint_tmp084ac2/./\n",
            "\u001b[2m\u001b[36m(func pid=151415)\u001b[0m 2022-07-26 12:15:26,103\tINFO trainable.py:597 -- Current state after restoring: {'_iteration': 47, '_timesteps_total': None, '_time_total': 85.20865821838379, '_episodes_total': None}\n"
          ]
        },
        {
          "output_type": "stream",
          "name": "stdout",
          "text": [
            "== Status ==\n",
            "Current time: 2022-07-26 12:15:27 (running for 00:11:49.52)\n",
            "Memory usage on this node: 2.3/12.7 GiB\n",
            "Using MedianStoppingRule: num_stopped=15.\n",
            "Resources requested: 2.0/2 CPUs, 0/0 GPUs, 0.0/7.46 GiB heap, 0.0/3.73 GiB objects\n",
            "Result logdir: /root/ray_results/trainable_func_2022-07-26_12-03-38\n",
            "Number of trials: 32/50 (6 PAUSED, 4 RUNNING, 22 TERMINATED)\n",
            "\n",
            "\n",
            "Trial trainable_func_246e00fa reported epoch=0,loss=0.052566284895018946,should_checkpoint=True with parameters={'act1 ': 'selu', 'act2': 'tanh', 'act3': 'selu', 'lr': 0.0007, 'batch_size': 64, 'hidden_dim1': 285.0, 'hidden_dim2': 300.0, 'hidden_dim3': 270.0}.\n",
            "Trial trainable_func_212fa088 reported epoch=0,loss=0.1155077616421715,should_checkpoint=True with parameters={'act1 ': 'relu', 'act2': 'relu', 'act3': 'selu', 'lr': 0.001, 'batch_size': 16, 'hidden_dim1': 300.0, 'hidden_dim2': 240.0, 'hidden_dim3': 180.0}.\n"
          ]
        },
        {
          "output_type": "stream",
          "name": "stderr",
          "text": [
            "\u001b[2m\u001b[36m(func pid=151415)\u001b[0m 2022-07-26 12:15:28,734\tINFO trainable.py:589 -- Restored on 172.28.0.2 from checkpoint: /root/ray_results/trainable_func_2022-07-26_12-03-38/trainable_func_246e00fa_9_act1=selu,act2=tanh,act3=selu,batch_size=64,hidden_dim1=285.0000,hidden_dim2=300.0000,hidden_dim3=270.00_2022-07-26_12-04-55/checkpoint_tmp5e07d5/./\n",
            "\u001b[2m\u001b[36m(func pid=151415)\u001b[0m 2022-07-26 12:15:28,742\tINFO trainable.py:597 -- Current state after restoring: {'_iteration': 48, '_timesteps_total': None, '_time_total': 87.17397952079773, '_episodes_total': None}\n",
            "\u001b[2m\u001b[36m(func pid=151414)\u001b[0m 2022-07-26 12:15:29,076\tINFO trainable.py:589 -- Restored on 172.28.0.2 from checkpoint: /root/ray_results/trainable_func_2022-07-26_12-03-38/trainable_func_212fa088_8_act1=relu,act2=relu,act3=selu,batch_size=16,hidden_dim1=300.0000,hidden_dim2=240.0000,hidden_dim3=180.00_2022-07-26_12-04-46/checkpoint_tmp1e3ea1/./\n",
            "\u001b[2m\u001b[36m(func pid=151414)\u001b[0m 2022-07-26 12:15:29,077\tINFO trainable.py:597 -- Current state after restoring: {'_iteration': 30, '_timesteps_total': None, '_time_total': 156.25454568862915, '_episodes_total': None}\n"
          ]
        },
        {
          "output_type": "stream",
          "name": "stdout",
          "text": [
            "Trial trainable_func_a0cb085e reported epoch=0,loss=0.699494718245087,should_checkpoint=True with parameters={'act1 ': 'selu', 'act2': 'relu', 'act3': 'selu', 'lr': 0.0009, 'batch_size': 16, 'hidden_dim1': 300.0, 'hidden_dim2': 135.0, 'hidden_dim3': 180.0}.\n"
          ]
        },
        {
          "output_type": "stream",
          "name": "stderr",
          "text": [
            "\u001b[2m\u001b[36m(func pid=151415)\u001b[0m 2022-07-26 12:15:31,253\tINFO trainable.py:589 -- Restored on 172.28.0.2 from checkpoint: /root/ray_results/trainable_func_2022-07-26_12-03-38/trainable_func_246e00fa_9_act1=selu,act2=tanh,act3=selu,batch_size=64,hidden_dim1=285.0000,hidden_dim2=300.0000,hidden_dim3=270.00_2022-07-26_12-04-55/checkpoint_tmpc3b392/./\n",
            "\u001b[2m\u001b[36m(func pid=151415)\u001b[0m 2022-07-26 12:15:31,253\tINFO trainable.py:597 -- Current state after restoring: {'_iteration': 49, '_timesteps_total': None, '_time_total': 89.10729122161865, '_episodes_total': None}\n"
          ]
        },
        {
          "output_type": "stream",
          "name": "stdout",
          "text": [
            "Trial trainable_func_9a64f722 reported epoch=4,loss=0.5577538642382956,should_checkpoint=True with parameters={'act1 ': 'selu', 'act2': 'tanh', 'act3': 'selu', 'lr': 0.0009, 'batch_size': 16, 'hidden_dim1': 315.0, 'hidden_dim2': 120.0, 'hidden_dim3': 180.0}.\n",
            "Trial trainable_func_246e00fa reported epoch=0,loss=0.06218692103934148,should_checkpoint=True with parameters={'act1 ': 'selu', 'act2': 'tanh', 'act3': 'selu', 'lr': 0.0007, 'batch_size': 64, 'hidden_dim1': 285.0, 'hidden_dim2': 300.0, 'hidden_dim3': 270.0}. This trial completed.\n",
            "== Status ==\n",
            "Current time: 2022-07-26 12:15:33 (running for 00:11:55.02)\n",
            "Memory usage on this node: 2.3/12.7 GiB\n",
            "Using MedianStoppingRule: num_stopped=15.\n",
            "Resources requested: 2.0/2 CPUs, 0/0 GPUs, 0.0/7.46 GiB heap, 0.0/3.73 GiB objects\n",
            "Result logdir: /root/ray_results/trainable_func_2022-07-26_12-03-38\n",
            "Number of trials: 32/50 (6 PAUSED, 4 RUNNING, 22 TERMINATED)\n",
            "\n",
            "\n",
            "Trial trainable_func_212fa088 reported epoch=0,loss=0.10275900672107759,should_checkpoint=True with parameters={'act1 ': 'relu', 'act2': 'relu', 'act3': 'selu', 'lr': 0.001, 'batch_size': 16, 'hidden_dim1': 300.0, 'hidden_dim2': 240.0, 'hidden_dim3': 180.0}.\n"
          ]
        },
        {
          "output_type": "stream",
          "name": "stderr",
          "text": [
            "\u001b[2m\u001b[36m(func pid=151414)\u001b[0m 2022-07-26 12:15:35,492\tINFO trainable.py:589 -- Restored on 172.28.0.2 from checkpoint: /root/ray_results/trainable_func_2022-07-26_12-03-38/trainable_func_212fa088_8_act1=relu,act2=relu,act3=selu,batch_size=16,hidden_dim1=300.0000,hidden_dim2=240.0000,hidden_dim3=180.00_2022-07-26_12-04-46/checkpoint_tmp19e5e6/./\n",
            "\u001b[2m\u001b[36m(func pid=151414)\u001b[0m 2022-07-26 12:15:35,524\tINFO trainable.py:597 -- Current state after restoring: {'_iteration': 31, '_timesteps_total': None, '_time_total': 161.94192552566528, '_episodes_total': None}\n"
          ]
        },
        {
          "output_type": "stream",
          "name": "stdout",
          "text": [
            "Trial trainable_func_a5ef0060 reported epoch=0,loss=0.8767735933308819,should_checkpoint=True with parameters={'act1 ': 'selu', 'act2': 'tanh', 'act3': 'selu', 'lr': 0.0006000000000000001, 'batch_size': 64, 'hidden_dim1': 315.0, 'hidden_dim2': 330.0, 'hidden_dim3': 300.0}.\n",
            "Trial trainable_func_a0cb085e reported epoch=2,loss=0.6336665760257603,should_checkpoint=True with parameters={'act1 ': 'selu', 'act2': 'relu', 'act3': 'selu', 'lr': 0.0009, 'batch_size': 16, 'hidden_dim1': 300.0, 'hidden_dim2': 135.0, 'hidden_dim3': 180.0}.\n",
            "== Status ==\n",
            "Current time: 2022-07-26 12:15:39 (running for 00:12:00.97)\n",
            "Memory usage on this node: 2.3/12.7 GiB\n",
            "Using MedianStoppingRule: num_stopped=15.\n",
            "Resources requested: 2.0/2 CPUs, 0/0 GPUs, 0.0/7.46 GiB heap, 0.0/3.73 GiB objects\n",
            "Result logdir: /root/ray_results/trainable_func_2022-07-26_12-03-38\n",
            "Number of trials: 33/50 (6 PAUSED, 4 RUNNING, 23 TERMINATED)\n",
            "\n",
            "\n",
            "Trial trainable_func_9a64f722 reported epoch=6,loss=0.5119175842345459,should_checkpoint=True with parameters={'act1 ': 'selu', 'act2': 'tanh', 'act3': 'selu', 'lr': 0.0009, 'batch_size': 16, 'hidden_dim1': 315.0, 'hidden_dim2': 120.0, 'hidden_dim3': 180.0}.\n",
            "Trial trainable_func_212fa088 reported epoch=0,loss=0.11749882599320643,should_checkpoint=True with parameters={'act1 ': 'relu', 'act2': 'relu', 'act3': 'selu', 'lr': 0.001, 'batch_size': 16, 'hidden_dim1': 300.0, 'hidden_dim2': 240.0, 'hidden_dim3': 180.0}.\n",
            "Trial trainable_func_a5ef0060 reported epoch=3,loss=0.6022459144949078,should_checkpoint=True with parameters={'act1 ': 'selu', 'act2': 'tanh', 'act3': 'selu', 'lr': 0.0006000000000000001, 'batch_size': 64, 'hidden_dim1': 315.0, 'hidden_dim2': 330.0, 'hidden_dim3': 300.0}.\n"
          ]
        },
        {
          "output_type": "stream",
          "name": "stderr",
          "text": [
            "\u001b[2m\u001b[36m(func pid=151414)\u001b[0m 2022-07-26 12:15:41,836\tINFO trainable.py:589 -- Restored on 172.28.0.2 from checkpoint: /root/ray_results/trainable_func_2022-07-26_12-03-38/trainable_func_212fa088_8_act1=relu,act2=relu,act3=selu,batch_size=16,hidden_dim1=300.0000,hidden_dim2=240.0000,hidden_dim3=180.00_2022-07-26_12-04-46/checkpoint_tmp40f90c/./\n",
            "\u001b[2m\u001b[36m(func pid=151414)\u001b[0m 2022-07-26 12:15:41,836\tINFO trainable.py:597 -- Current state after restoring: {'_iteration': 32, '_timesteps_total': None, '_time_total': 167.75603818893433, '_episodes_total': None}\n"
          ]
        },
        {
          "output_type": "stream",
          "name": "stdout",
          "text": [
            "Trial trainable_func_a0cb085e reported epoch=4,loss=0.6832160439352426,should_checkpoint=True with parameters={'act1 ': 'selu', 'act2': 'relu', 'act3': 'selu', 'lr': 0.0009, 'batch_size': 16, 'hidden_dim1': 300.0, 'hidden_dim2': 135.0, 'hidden_dim3': 180.0}.\n",
            "== Status ==\n",
            "Current time: 2022-07-26 12:15:45 (running for 00:12:07.09)\n",
            "Memory usage on this node: 2.3/12.7 GiB\n",
            "Using MedianStoppingRule: num_stopped=15.\n",
            "Resources requested: 2.0/2 CPUs, 0/0 GPUs, 0.0/7.46 GiB heap, 0.0/3.73 GiB objects\n",
            "Result logdir: /root/ray_results/trainable_func_2022-07-26_12-03-38\n",
            "Number of trials: 33/50 (6 PAUSED, 4 RUNNING, 23 TERMINATED)\n",
            "\n",
            "\n",
            "Trial trainable_func_9a64f722 reported epoch=8,loss=0.5006892102354127,should_checkpoint=True with parameters={'act1 ': 'selu', 'act2': 'tanh', 'act3': 'selu', 'lr': 0.0009, 'batch_size': 16, 'hidden_dim1': 315.0, 'hidden_dim2': 120.0, 'hidden_dim3': 180.0}.\n",
            "Trial trainable_func_a5ef0060 reported epoch=6,loss=0.5590684097817638,should_checkpoint=True with parameters={'act1 ': 'selu', 'act2': 'tanh', 'act3': 'selu', 'lr': 0.0006000000000000001, 'batch_size': 64, 'hidden_dim1': 315.0, 'hidden_dim2': 330.0, 'hidden_dim3': 300.0}.\n",
            "Trial trainable_func_212fa088 reported epoch=0,loss=0.18110235142835518,should_checkpoint=True with parameters={'act1 ': 'relu', 'act2': 'relu', 'act3': 'selu', 'lr': 0.001, 'batch_size': 16, 'hidden_dim1': 300.0, 'hidden_dim2': 240.0, 'hidden_dim3': 180.0}.\n"
          ]
        },
        {
          "output_type": "stream",
          "name": "stderr",
          "text": [
            "\u001b[2m\u001b[36m(func pid=151414)\u001b[0m 2022-07-26 12:15:48,262\tINFO trainable.py:589 -- Restored on 172.28.0.2 from checkpoint: /root/ray_results/trainable_func_2022-07-26_12-03-38/trainable_func_212fa088_8_act1=relu,act2=relu,act3=selu,batch_size=16,hidden_dim1=300.0000,hidden_dim2=240.0000,hidden_dim3=180.00_2022-07-26_12-04-46/checkpoint_tmp62a5de/./\n",
            "\u001b[2m\u001b[36m(func pid=151414)\u001b[0m 2022-07-26 12:15:48,262\tINFO trainable.py:597 -- Current state after restoring: {'_iteration': 33, '_timesteps_total': None, '_time_total': 173.6105511188507, '_episodes_total': None}\n"
          ]
        },
        {
          "output_type": "stream",
          "name": "stdout",
          "text": [
            "== Status ==\n",
            "Current time: 2022-07-26 12:15:50 (running for 00:12:12.42)\n",
            "Memory usage on this node: 2.3/12.7 GiB\n",
            "Using MedianStoppingRule: num_stopped=15.\n",
            "Resources requested: 2.0/2 CPUs, 0/0 GPUs, 0.0/7.46 GiB heap, 0.0/3.73 GiB objects\n",
            "Result logdir: /root/ray_results/trainable_func_2022-07-26_12-03-38\n",
            "Number of trials: 33/50 (6 PAUSED, 4 RUNNING, 23 TERMINATED)\n",
            "\n",
            "\n",
            "Trial trainable_func_a0cb085e reported epoch=6,loss=0.5224127544331186,should_checkpoint=True with parameters={'act1 ': 'selu', 'act2': 'relu', 'act3': 'selu', 'lr': 0.0009, 'batch_size': 16, 'hidden_dim1': 300.0, 'hidden_dim2': 135.0, 'hidden_dim3': 180.0}.\n",
            "Trial trainable_func_a5ef0060 reported epoch=9,loss=0.5269304853247029,should_checkpoint=True with parameters={'act1 ': 'selu', 'act2': 'tanh', 'act3': 'selu', 'lr': 0.0006000000000000001, 'batch_size': 64, 'hidden_dim1': 315.0, 'hidden_dim2': 330.0, 'hidden_dim3': 300.0}.\n",
            "Trial trainable_func_9a64f722 reported epoch=10,loss=0.5242472425254587,should_checkpoint=True with parameters={'act1 ': 'selu', 'act2': 'tanh', 'act3': 'selu', 'lr': 0.0009, 'batch_size': 16, 'hidden_dim1': 315.0, 'hidden_dim2': 120.0, 'hidden_dim3': 180.0}.\n",
            "Trial trainable_func_212fa088 reported epoch=0,loss=0.12312755584215505,should_checkpoint=True with parameters={'act1 ': 'relu', 'act2': 'relu', 'act3': 'selu', 'lr': 0.001, 'batch_size': 16, 'hidden_dim1': 300.0, 'hidden_dim2': 240.0, 'hidden_dim3': 180.0}.\n"
          ]
        },
        {
          "output_type": "stream",
          "name": "stderr",
          "text": [
            "\u001b[2m\u001b[36m(func pid=151414)\u001b[0m 2022-07-26 12:15:54,565\tINFO trainable.py:589 -- Restored on 172.28.0.2 from checkpoint: /root/ray_results/trainable_func_2022-07-26_12-03-38/trainable_func_212fa088_8_act1=relu,act2=relu,act3=selu,batch_size=16,hidden_dim1=300.0000,hidden_dim2=240.0000,hidden_dim3=180.00_2022-07-26_12-04-46/checkpoint_tmp33ced9/./\n",
            "\u001b[2m\u001b[36m(func pid=151414)\u001b[0m 2022-07-26 12:15:54,565\tINFO trainable.py:597 -- Current state after restoring: {'_iteration': 34, '_timesteps_total': None, '_time_total': 179.2393970489502, '_episodes_total': None}\n"
          ]
        },
        {
          "output_type": "stream",
          "name": "stdout",
          "text": [
            "Trial trainable_func_a5ef0060 reported epoch=11,loss=0.5075056116768052,should_checkpoint=True with parameters={'act1 ': 'selu', 'act2': 'tanh', 'act3': 'selu', 'lr': 0.0006000000000000001, 'batch_size': 64, 'hidden_dim1': 315.0, 'hidden_dim2': 330.0, 'hidden_dim3': 300.0}. This trial completed.\n",
            "== Status ==\n",
            "Current time: 2022-07-26 12:15:56 (running for 00:12:17.98)\n",
            "Memory usage on this node: 2.3/12.7 GiB\n",
            "Using MedianStoppingRule: num_stopped=16.\n",
            "Resources requested: 2.0/2 CPUs, 0/0 GPUs, 0.0/7.46 GiB heap, 0.0/3.73 GiB objects\n",
            "Result logdir: /root/ray_results/trainable_func_2022-07-26_12-03-38\n",
            "Number of trials: 33/50 (6 PAUSED, 4 RUNNING, 23 TERMINATED)\n",
            "\n",
            "\n",
            "Trial trainable_func_9a64f722 reported epoch=11,loss=0.5319832832314869,should_checkpoint=True with parameters={'act1 ': 'selu', 'act2': 'tanh', 'act3': 'selu', 'lr': 0.0009, 'batch_size': 16, 'hidden_dim1': 315.0, 'hidden_dim2': 120.0, 'hidden_dim3': 180.0}. This trial completed.\n",
            "Trial trainable_func_b3a0bfb4 reported epoch=0,loss=0.7947192632479807,should_checkpoint=True with parameters={'act1 ': 'selu', 'act2': 'tanh', 'act3': 'selu', 'lr': 0.0009, 'batch_size': 64, 'hidden_dim1': 300.0, 'hidden_dim2': 300.0, 'hidden_dim3': 180.0}.\n",
            "Trial trainable_func_a0cb085e reported epoch=8,loss=0.5255664884451038,should_checkpoint=True with parameters={'act1 ': 'selu', 'act2': 'relu', 'act3': 'selu', 'lr': 0.0009, 'batch_size': 16, 'hidden_dim1': 300.0, 'hidden_dim2': 135.0, 'hidden_dim3': 180.0}.\n",
            "Trial trainable_func_b470a3c8 reported epoch=0,loss=0.9189823452371574,should_checkpoint=True with parameters={'act1 ': 'tanh', 'act2': 'tanh', 'act3': 'selu', 'lr': 0.001, 'batch_size': 64, 'hidden_dim1': 300.0, 'hidden_dim2': 300.0, 'hidden_dim3': 270.0}.\n",
            "Trial trainable_func_212fa088 reported epoch=0,loss=0.10877005419737766,should_checkpoint=True with parameters={'act1 ': 'relu', 'act2': 'relu', 'act3': 'selu', 'lr': 0.001, 'batch_size': 16, 'hidden_dim1': 300.0, 'hidden_dim2': 240.0, 'hidden_dim3': 180.0}.\n"
          ]
        },
        {
          "output_type": "stream",
          "name": "stderr",
          "text": [
            "\u001b[2m\u001b[36m(func pid=151414)\u001b[0m 2022-07-26 12:16:00,298\tINFO trainable.py:589 -- Restored on 172.28.0.2 from checkpoint: /root/ray_results/trainable_func_2022-07-26_12-03-38/trainable_func_212fa088_8_act1=relu,act2=relu,act3=selu,batch_size=16,hidden_dim1=300.0000,hidden_dim2=240.0000,hidden_dim3=180.00_2022-07-26_12-04-46/checkpoint_tmpc019bf/./\n",
            "\u001b[2m\u001b[36m(func pid=151414)\u001b[0m 2022-07-26 12:16:00,298\tINFO trainable.py:597 -- Current state after restoring: {'_iteration': 35, '_timesteps_total': None, '_time_total': 184.57196736335754, '_episodes_total': None}\n"
          ]
        },
        {
          "output_type": "stream",
          "name": "stdout",
          "text": [
            "== Status ==\n",
            "Current time: 2022-07-26 12:16:01 (running for 00:12:23.33)\n",
            "Memory usage on this node: 2.3/12.7 GiB\n",
            "Using MedianStoppingRule: num_stopped=17.\n",
            "Resources requested: 2.0/2 CPUs, 0/0 GPUs, 0.0/7.46 GiB heap, 0.0/3.73 GiB objects\n",
            "Result logdir: /root/ray_results/trainable_func_2022-07-26_12-03-38\n",
            "Number of trials: 35/50 (6 PAUSED, 4 RUNNING, 25 TERMINATED)\n",
            "\n",
            "\n",
            "Trial trainable_func_b3a0bfb4 reported epoch=3,loss=0.5727294561307897,should_checkpoint=True with parameters={'act1 ': 'selu', 'act2': 'tanh', 'act3': 'selu', 'lr': 0.0009, 'batch_size': 64, 'hidden_dim1': 300.0, 'hidden_dim2': 300.0, 'hidden_dim3': 180.0}.\n",
            "Trial trainable_func_212fa088 reported epoch=0,loss=0.10059697286081552,should_checkpoint=True with parameters={'act1 ': 'relu', 'act2': 'relu', 'act3': 'selu', 'lr': 0.001, 'batch_size': 16, 'hidden_dim1': 300.0, 'hidden_dim2': 240.0, 'hidden_dim3': 180.0}.\n",
            "Trial trainable_func_b470a3c8 reported epoch=4,loss=0.6026609432650563,should_checkpoint=True with parameters={'act1 ': 'tanh', 'act2': 'tanh', 'act3': 'selu', 'lr': 0.001, 'batch_size': 64, 'hidden_dim1': 300.0, 'hidden_dim2': 300.0, 'hidden_dim3': 270.0}.\n"
          ]
        },
        {
          "output_type": "stream",
          "name": "stderr",
          "text": [
            "\u001b[2m\u001b[36m(func pid=151414)\u001b[0m 2022-07-26 12:16:06,567\tINFO trainable.py:589 -- Restored on 172.28.0.2 from checkpoint: /root/ray_results/trainable_func_2022-07-26_12-03-38/trainable_func_212fa088_8_act1=relu,act2=relu,act3=selu,batch_size=16,hidden_dim1=300.0000,hidden_dim2=240.0000,hidden_dim3=180.00_2022-07-26_12-04-46/checkpoint_tmp5bc592/./\n",
            "\u001b[2m\u001b[36m(func pid=151414)\u001b[0m 2022-07-26 12:16:06,567\tINFO trainable.py:597 -- Current state after restoring: {'_iteration': 36, '_timesteps_total': None, '_time_total': 190.25055694580078, '_episodes_total': None}\n"
          ]
        },
        {
          "output_type": "stream",
          "name": "stdout",
          "text": [
            "Trial trainable_func_a0cb085e reported epoch=10,loss=0.48221744537555766,should_checkpoint=True with parameters={'act1 ': 'selu', 'act2': 'relu', 'act3': 'selu', 'lr': 0.0009, 'batch_size': 16, 'hidden_dim1': 300.0, 'hidden_dim2': 135.0, 'hidden_dim3': 180.0}.\n",
            "== Status ==\n",
            "Current time: 2022-07-26 12:16:07 (running for 00:12:29.37)\n",
            "Memory usage on this node: 2.3/12.7 GiB\n",
            "Using MedianStoppingRule: num_stopped=17.\n",
            "Resources requested: 2.0/2 CPUs, 0/0 GPUs, 0.0/7.46 GiB heap, 0.0/3.73 GiB objects\n",
            "Result logdir: /root/ray_results/trainable_func_2022-07-26_12-03-38\n",
            "Number of trials: 35/50 (6 PAUSED, 4 RUNNING, 25 TERMINATED)\n",
            "\n",
            "\n",
            "Trial trainable_func_b3a0bfb4 reported epoch=7,loss=0.5368229371414068,should_checkpoint=True with parameters={'act1 ': 'selu', 'act2': 'tanh', 'act3': 'selu', 'lr': 0.0009, 'batch_size': 64, 'hidden_dim1': 300.0, 'hidden_dim2': 300.0, 'hidden_dim3': 180.0}.\n",
            "Trial trainable_func_212fa088 reported epoch=0,loss=0.08883527137435883,should_checkpoint=True with parameters={'act1 ': 'relu', 'act2': 'relu', 'act3': 'selu', 'lr': 0.001, 'batch_size': 16, 'hidden_dim1': 300.0, 'hidden_dim2': 240.0, 'hidden_dim3': 180.0}.\n"
          ]
        },
        {
          "output_type": "stream",
          "name": "stderr",
          "text": [
            "\u001b[2m\u001b[36m(func pid=151414)\u001b[0m 2022-07-26 12:16:12,750\tINFO trainable.py:589 -- Restored on 172.28.0.2 from checkpoint: /root/ray_results/trainable_func_2022-07-26_12-03-38/trainable_func_212fa088_8_act1=relu,act2=relu,act3=selu,batch_size=16,hidden_dim1=300.0000,hidden_dim2=240.0000,hidden_dim3=180.00_2022-07-26_12-04-46/checkpoint_tmpf347ed/./\n",
            "\u001b[2m\u001b[36m(func pid=151414)\u001b[0m 2022-07-26 12:16:12,750\tINFO trainable.py:597 -- Current state after restoring: {'_iteration': 37, '_timesteps_total': None, '_time_total': 195.72878170013428, '_episodes_total': None}\n"
          ]
        },
        {
          "output_type": "stream",
          "name": "stdout",
          "text": [
            "== Status ==\n",
            "Current time: 2022-07-26 12:16:13 (running for 00:12:34.60)\n",
            "Memory usage on this node: 2.3/12.7 GiB\n",
            "Using MedianStoppingRule: num_stopped=17.\n",
            "Resources requested: 2.0/2 CPUs, 0/0 GPUs, 0.0/7.46 GiB heap, 0.0/3.73 GiB objects\n",
            "Result logdir: /root/ray_results/trainable_func_2022-07-26_12-03-38\n",
            "Number of trials: 35/50 (6 PAUSED, 4 RUNNING, 25 TERMINATED)\n",
            "\n",
            "\n",
            "Trial trainable_func_b470a3c8 reported epoch=8,loss=0.539854194414144,should_checkpoint=True with parameters={'act1 ': 'tanh', 'act2': 'tanh', 'act3': 'selu', 'lr': 0.001, 'batch_size': 64, 'hidden_dim1': 300.0, 'hidden_dim2': 300.0, 'hidden_dim3': 270.0}.\n",
            "Trial trainable_func_a0cb085e reported epoch=12,loss=0.5383843102160015,should_checkpoint=True with parameters={'act1 ': 'selu', 'act2': 'relu', 'act3': 'selu', 'lr': 0.0009, 'batch_size': 16, 'hidden_dim1': 300.0, 'hidden_dim2': 135.0, 'hidden_dim3': 180.0}.\n",
            "Trial trainable_func_b3a0bfb4 reported epoch=11,loss=0.5394519284467554,should_checkpoint=True with parameters={'act1 ': 'selu', 'act2': 'tanh', 'act3': 'selu', 'lr': 0.0009, 'batch_size': 64, 'hidden_dim1': 300.0, 'hidden_dim2': 300.0, 'hidden_dim3': 180.0}.\n"
          ]
        },
        {
          "output_type": "stream",
          "name": "stderr",
          "text": [
            "\u001b[2m\u001b[36m(func pid=151453)\u001b[0m 2022-07-26 12:16:16,505\tINFO trainable.py:589 -- Restored on 172.28.0.2 from checkpoint: /root/ray_results/trainable_func_2022-07-26_12-03-38/trainable_func_298fb39e_10_act1=selu,act2=relu,act3=tanh,batch_size=32,hidden_dim1=285.0000,hidden_dim2=120.0000,hidden_dim3=315.0_2022-07-26_12-05-12/checkpoint_tmp5bfbcd/./\n",
            "\u001b[2m\u001b[36m(func pid=151453)\u001b[0m 2022-07-26 12:16:16,505\tINFO trainable.py:597 -- Current state after restoring: {'_iteration': 10, '_timesteps_total': None, '_time_total': 21.342907190322876, '_episodes_total': None}\n"
          ]
        },
        {
          "output_type": "stream",
          "name": "stdout",
          "text": [
            "Trial trainable_func_b3a0bfb4 reported epoch=12,loss=0.47696044855995984,should_checkpoint=True with parameters={'act1 ': 'selu', 'act2': 'tanh', 'act3': 'selu', 'lr': 0.0009, 'batch_size': 64, 'hidden_dim1': 300.0, 'hidden_dim2': 300.0, 'hidden_dim3': 180.0}. This trial completed.\n",
            "== Status ==\n",
            "Current time: 2022-07-26 12:16:18 (running for 00:12:39.81)\n",
            "Memory usage on this node: 2.3/12.7 GiB\n",
            "Using MedianStoppingRule: num_stopped=18.\n",
            "Resources requested: 2.0/2 CPUs, 0/0 GPUs, 0.0/7.46 GiB heap, 0.0/3.73 GiB objects\n",
            "Result logdir: /root/ray_results/trainable_func_2022-07-26_12-03-38\n",
            "Number of trials: 36/50 (6 PAUSED, 4 RUNNING, 26 TERMINATED)\n",
            "\n",
            "\n",
            "Trial trainable_func_212fa088 reported epoch=0,loss=0.1105754681263779,should_checkpoint=True with parameters={'act1 ': 'relu', 'act2': 'relu', 'act3': 'selu', 'lr': 0.001, 'batch_size': 16, 'hidden_dim1': 300.0, 'hidden_dim2': 240.0, 'hidden_dim3': 180.0}.\n",
            "Trial trainable_func_298fb39e reported epoch=0,loss=0.32352936656084447,should_checkpoint=True with parameters={'act1 ': 'selu', 'act2': 'relu', 'act3': 'tanh', 'lr': 0.0005, 'batch_size': 32, 'hidden_dim1': 285.0, 'hidden_dim2': 120.0, 'hidden_dim3': 315.0}.\n"
          ]
        },
        {
          "output_type": "stream",
          "name": "stderr",
          "text": [
            "\u001b[2m\u001b[36m(func pid=151414)\u001b[0m 2022-07-26 12:16:19,097\tINFO trainable.py:589 -- Restored on 172.28.0.2 from checkpoint: /root/ray_results/trainable_func_2022-07-26_12-03-38/trainable_func_212fa088_8_act1=relu,act2=relu,act3=selu,batch_size=16,hidden_dim1=300.0000,hidden_dim2=240.0000,hidden_dim3=180.00_2022-07-26_12-04-46/checkpoint_tmpd542b8/./\n",
            "\u001b[2m\u001b[36m(func pid=151414)\u001b[0m 2022-07-26 12:16:19,098\tINFO trainable.py:597 -- Current state after restoring: {'_iteration': 38, '_timesteps_total': None, '_time_total': 201.3312270641327, '_episodes_total': None}\n"
          ]
        },
        {
          "output_type": "stream",
          "name": "stdout",
          "text": [
            "Trial trainable_func_c070a31c reported epoch=0,loss=1.1188902114992418,should_checkpoint=True with parameters={'act1 ': 'tanh', 'act2': 'relu', 'act3': 'selu', 'lr': 0.0008, 'batch_size': 64, 'hidden_dim1': 255.0, 'hidden_dim2': 240.0, 'hidden_dim3': 270.0}.\n",
            "Trial trainable_func_b470a3c8 reported epoch=12,loss=0.5231592625441808,should_checkpoint=True with parameters={'act1 ': 'tanh', 'act2': 'tanh', 'act3': 'selu', 'lr': 0.001, 'batch_size': 64, 'hidden_dim1': 300.0, 'hidden_dim2': 300.0, 'hidden_dim3': 270.0}. This trial completed.\n",
            "Trial trainable_func_c1b6a53c reported epoch=0,loss=0.9970795496599626,should_checkpoint=True with parameters={'act1 ': 'relu', 'act2': 'relu', 'act3': 'tanh', 'lr': 0.0008, 'batch_size': 64, 'hidden_dim1': 255.0, 'hidden_dim2': 240.0, 'hidden_dim3': 135.0}.\n",
            "== Status ==\n",
            "Current time: 2022-07-26 12:16:23 (running for 00:12:45.10)\n",
            "Memory usage on this node: 2.3/12.7 GiB\n",
            "Using MedianStoppingRule: num_stopped=19.\n",
            "Resources requested: 2.0/2 CPUs, 0/0 GPUs, 0.0/7.46 GiB heap, 0.0/3.73 GiB objects\n",
            "Result logdir: /root/ray_results/trainable_func_2022-07-26_12-03-38\n",
            "Number of trials: 37/50 (6 PAUSED, 4 RUNNING, 27 TERMINATED)\n",
            "\n",
            "\n",
            "Trial trainable_func_212fa088 reported epoch=0,loss=0.09869701599443757,should_checkpoint=True with parameters={'act1 ': 'relu', 'act2': 'relu', 'act3': 'selu', 'lr': 0.001, 'batch_size': 16, 'hidden_dim1': 300.0, 'hidden_dim2': 240.0, 'hidden_dim3': 180.0}.\n",
            "Trial trainable_func_c070a31c reported epoch=4,loss=0.6452432676489901,should_checkpoint=True with parameters={'act1 ': 'tanh', 'act2': 'relu', 'act3': 'selu', 'lr': 0.0008, 'batch_size': 64, 'hidden_dim1': 255.0, 'hidden_dim2': 240.0, 'hidden_dim3': 270.0}.\n"
          ]
        },
        {
          "output_type": "stream",
          "name": "stderr",
          "text": [
            "\u001b[2m\u001b[36m(func pid=151414)\u001b[0m 2022-07-26 12:16:25,822\tINFO trainable.py:589 -- Restored on 172.28.0.2 from checkpoint: /root/ray_results/trainable_func_2022-07-26_12-03-38/trainable_func_212fa088_8_act1=relu,act2=relu,act3=selu,batch_size=16,hidden_dim1=300.0000,hidden_dim2=240.0000,hidden_dim3=180.00_2022-07-26_12-04-46/checkpoint_tmp51a305/./\n",
            "\u001b[2m\u001b[36m(func pid=151414)\u001b[0m 2022-07-26 12:16:25,822\tINFO trainable.py:597 -- Current state after restoring: {'_iteration': 39, '_timesteps_total': None, '_time_total': 207.46373915672302, '_episodes_total': None}\n"
          ]
        },
        {
          "output_type": "stream",
          "name": "stdout",
          "text": [
            "Trial trainable_func_298fb39e reported epoch=3,loss=0.32124995292395414,should_checkpoint=True with parameters={'act1 ': 'selu', 'act2': 'relu', 'act3': 'tanh', 'lr': 0.0005, 'batch_size': 32, 'hidden_dim1': 285.0, 'hidden_dim2': 120.0, 'hidden_dim3': 315.0}.\n"
          ]
        },
        {
          "output_type": "stream",
          "name": "stderr",
          "text": [
            "\u001b[2m\u001b[36m(func pid=151453)\u001b[0m 2022-07-26 12:16:26,635\tINFO trainable.py:589 -- Restored on 172.28.0.2 from checkpoint: /root/ray_results/trainable_func_2022-07-26_12-03-38/trainable_func_298fb39e_10_act1=selu,act2=relu,act3=tanh,batch_size=32,hidden_dim1=285.0000,hidden_dim2=120.0000,hidden_dim3=315.0_2022-07-26_12-05-12/checkpoint_tmp3b1843/./\n",
            "\u001b[2m\u001b[36m(func pid=151453)\u001b[0m 2022-07-26 12:16:26,635\tINFO trainable.py:597 -- Current state after restoring: {'_iteration': 14, '_timesteps_total': None, '_time_total': 30.88111925125122, '_episodes_total': None}\n"
          ]
        },
        {
          "output_type": "stream",
          "name": "stdout",
          "text": [
            "Trial trainable_func_c1b6a53c reported epoch=4,loss=0.5725212233895279,should_checkpoint=True with parameters={'act1 ': 'relu', 'act2': 'relu', 'act3': 'tanh', 'lr': 0.0008, 'batch_size': 64, 'hidden_dim1': 255.0, 'hidden_dim2': 240.0, 'hidden_dim3': 135.0}.\n",
            "== Status ==\n",
            "Current time: 2022-07-26 12:16:28 (running for 00:12:50.25)\n",
            "Memory usage on this node: 2.3/12.7 GiB\n",
            "Using MedianStoppingRule: num_stopped=19.\n",
            "Resources requested: 2.0/2 CPUs, 0/0 GPUs, 0.0/7.46 GiB heap, 0.0/3.73 GiB objects\n",
            "Result logdir: /root/ray_results/trainable_func_2022-07-26_12-03-38\n",
            "Number of trials: 37/50 (6 PAUSED, 4 RUNNING, 27 TERMINATED)\n",
            "\n",
            "\n"
          ]
        },
        {
          "output_type": "stream",
          "name": "stderr",
          "text": [
            "\u001b[2m\u001b[36m(func pid=151453)\u001b[0m 2022-07-26 12:16:29,591\tINFO trainable.py:589 -- Restored on 172.28.0.2 from checkpoint: /root/ray_results/trainable_func_2022-07-26_12-03-38/trainable_func_298fb39e_10_act1=selu,act2=relu,act3=tanh,batch_size=32,hidden_dim1=285.0000,hidden_dim2=120.0000,hidden_dim3=315.0_2022-07-26_12-05-12/checkpoint_tmpb89e59/./\n",
            "\u001b[2m\u001b[36m(func pid=151453)\u001b[0m 2022-07-26 12:16:29,591\tINFO trainable.py:597 -- Current state after restoring: {'_iteration': 15, '_timesteps_total': None, '_time_total': 33.27482342720032, '_episodes_total': None}\n"
          ]
        },
        {
          "output_type": "stream",
          "name": "stdout",
          "text": [
            "Trial trainable_func_212fa088 reported epoch=0,loss=0.10641732169796644,should_checkpoint=True with parameters={'act1 ': 'relu', 'act2': 'relu', 'act3': 'selu', 'lr': 0.001, 'batch_size': 16, 'hidden_dim1': 300.0, 'hidden_dim2': 240.0, 'hidden_dim3': 180.0}.\n",
            "Trial trainable_func_c070a31c reported epoch=8,loss=0.5609936396054572,should_checkpoint=True with parameters={'act1 ': 'tanh', 'act2': 'relu', 'act3': 'selu', 'lr': 0.0008, 'batch_size': 64, 'hidden_dim1': 255.0, 'hidden_dim2': 240.0, 'hidden_dim3': 270.0}.\n"
          ]
        },
        {
          "output_type": "stream",
          "name": "stderr",
          "text": [
            "\u001b[2m\u001b[36m(func pid=151414)\u001b[0m 2022-07-26 12:16:31,751\tINFO trainable.py:589 -- Restored on 172.28.0.2 from checkpoint: /root/ray_results/trainable_func_2022-07-26_12-03-38/trainable_func_212fa088_8_act1=relu,act2=relu,act3=selu,batch_size=16,hidden_dim1=300.0000,hidden_dim2=240.0000,hidden_dim3=180.00_2022-07-26_12-04-46/checkpoint_tmp537e62/./\n",
            "\u001b[2m\u001b[36m(func pid=151414)\u001b[0m 2022-07-26 12:16:31,751\tINFO trainable.py:597 -- Current state after restoring: {'_iteration': 40, '_timesteps_total': None, '_time_total': 212.85677099227905, '_episodes_total': None}\n"
          ]
        },
        {
          "output_type": "stream",
          "name": "stdout",
          "text": [
            "Trial trainable_func_298fb39e reported epoch=0,loss=0.2056567801933749,should_checkpoint=True with parameters={'act1 ': 'selu', 'act2': 'relu', 'act3': 'tanh', 'lr': 0.0005, 'batch_size': 32, 'hidden_dim1': 285.0, 'hidden_dim2': 120.0, 'hidden_dim3': 315.0}.\n"
          ]
        },
        {
          "output_type": "stream",
          "name": "stderr",
          "text": [
            "\u001b[2m\u001b[36m(func pid=151453)\u001b[0m 2022-07-26 12:16:32,820\tINFO trainable.py:589 -- Restored on 172.28.0.2 from checkpoint: /root/ray_results/trainable_func_2022-07-26_12-03-38/trainable_func_298fb39e_10_act1=selu,act2=relu,act3=tanh,batch_size=32,hidden_dim1=285.0000,hidden_dim2=120.0000,hidden_dim3=315.0_2022-07-26_12-05-12/checkpoint_tmp5e4ba2/./\n",
            "\u001b[2m\u001b[36m(func pid=151453)\u001b[0m 2022-07-26 12:16:32,820\tINFO trainable.py:597 -- Current state after restoring: {'_iteration': 16, '_timesteps_total': None, '_time_total': 35.77688527107239, '_episodes_total': None}\n"
          ]
        },
        {
          "output_type": "stream",
          "name": "stdout",
          "text": [
            "Trial trainable_func_c070a31c reported epoch=9,loss=0.5884083533409123,should_checkpoint=True with parameters={'act1 ': 'tanh', 'act2': 'relu', 'act3': 'selu', 'lr': 0.0008, 'batch_size': 64, 'hidden_dim1': 255.0, 'hidden_dim2': 240.0, 'hidden_dim3': 270.0}. This trial completed.\n",
            "Trial trainable_func_c1b6a53c reported epoch=8,loss=0.5109784519400782,should_checkpoint=True with parameters={'act1 ': 'relu', 'act2': 'relu', 'act3': 'tanh', 'lr': 0.0008, 'batch_size': 64, 'hidden_dim1': 255.0, 'hidden_dim2': 240.0, 'hidden_dim3': 135.0}.\n",
            "== Status ==\n",
            "Current time: 2022-07-26 12:16:34 (running for 00:12:56.34)\n",
            "Memory usage on this node: 2.3/12.7 GiB\n",
            "Using MedianStoppingRule: num_stopped=20.\n",
            "Resources requested: 2.0/2 CPUs, 0/0 GPUs, 0.0/7.46 GiB heap, 0.0/3.73 GiB objects\n",
            "Result logdir: /root/ray_results/trainable_func_2022-07-26_12-03-38\n",
            "Number of trials: 38/50 (6 PAUSED, 4 RUNNING, 28 TERMINATED)\n",
            "\n",
            "\n",
            "Trial trainable_func_c986ab72 reported epoch=0,loss=0.9787882415348783,should_checkpoint=True with parameters={'act1 ': 'relu', 'act2': 'relu', 'act3': 'tanh', 'lr': 0.0007, 'batch_size': 32, 'hidden_dim1': 195.0, 'hidden_dim2': 225.0, 'hidden_dim3': 150.0}.\n"
          ]
        },
        {
          "output_type": "stream",
          "name": "stderr",
          "text": [
            "\u001b[2m\u001b[36m(func pid=151453)\u001b[0m 2022-07-26 12:16:35,626\tINFO trainable.py:589 -- Restored on 172.28.0.2 from checkpoint: /root/ray_results/trainable_func_2022-07-26_12-03-38/trainable_func_298fb39e_10_act1=selu,act2=relu,act3=tanh,batch_size=32,hidden_dim1=285.0000,hidden_dim2=120.0000,hidden_dim3=315.0_2022-07-26_12-05-12/checkpoint_tmpc192e1/./\n",
            "\u001b[2m\u001b[36m(func pid=151453)\u001b[0m 2022-07-26 12:16:35,626\tINFO trainable.py:597 -- Current state after restoring: {'_iteration': 17, '_timesteps_total': None, '_time_total': 38.1158242225647, '_episodes_total': None}\n"
          ]
        },
        {
          "output_type": "stream",
          "name": "stdout",
          "text": [
            "Trial trainable_func_212fa088 reported epoch=0,loss=0.07915612527431393,should_checkpoint=True with parameters={'act1 ': 'relu', 'act2': 'relu', 'act3': 'selu', 'lr': 0.001, 'batch_size': 16, 'hidden_dim1': 300.0, 'hidden_dim2': 240.0, 'hidden_dim3': 180.0}.\n",
            "Trial trainable_func_298fb39e reported epoch=0,loss=0.2199303158233175,should_checkpoint=True with parameters={'act1 ': 'selu', 'act2': 'relu', 'act3': 'tanh', 'lr': 0.0005, 'batch_size': 32, 'hidden_dim1': 285.0, 'hidden_dim2': 120.0, 'hidden_dim3': 315.0}.\n",
            "Trial trainable_func_c1b6a53c reported epoch=11,loss=0.5524256199513722,should_checkpoint=True with parameters={'act1 ': 'relu', 'act2': 'relu', 'act3': 'tanh', 'lr': 0.0008, 'batch_size': 64, 'hidden_dim1': 255.0, 'hidden_dim2': 240.0, 'hidden_dim3': 135.0}. This trial completed.\n"
          ]
        },
        {
          "output_type": "stream",
          "name": "stderr",
          "text": [
            "\u001b[2m\u001b[36m(func pid=151414)\u001b[0m 2022-07-26 12:16:37,766\tINFO trainable.py:589 -- Restored on 172.28.0.2 from checkpoint: /root/ray_results/trainable_func_2022-07-26_12-03-38/trainable_func_212fa088_8_act1=relu,act2=relu,act3=selu,batch_size=16,hidden_dim1=300.0000,hidden_dim2=240.0000,hidden_dim3=180.00_2022-07-26_12-04-46/checkpoint_tmp6735e9/./\n",
            "\u001b[2m\u001b[36m(func pid=151414)\u001b[0m 2022-07-26 12:16:37,766\tINFO trainable.py:597 -- Current state after restoring: {'_iteration': 41, '_timesteps_total': None, '_time_total': 218.2578296661377, '_episodes_total': None}\n",
            "\u001b[2m\u001b[36m(func pid=151453)\u001b[0m 2022-07-26 12:16:38,356\tINFO trainable.py:589 -- Restored on 172.28.0.2 from checkpoint: /root/ray_results/trainable_func_2022-07-26_12-03-38/trainable_func_298fb39e_10_act1=selu,act2=relu,act3=tanh,batch_size=32,hidden_dim1=285.0000,hidden_dim2=120.0000,hidden_dim3=315.0_2022-07-26_12-05-12/checkpoint_tmpa2a4b1/./\n",
            "\u001b[2m\u001b[36m(func pid=151453)\u001b[0m 2022-07-26 12:16:38,356\tINFO trainable.py:597 -- Current state after restoring: {'_iteration': 18, '_timesteps_total': None, '_time_total': 40.2327926158905, '_episodes_total': None}\n"
          ]
        },
        {
          "output_type": "stream",
          "name": "stdout",
          "text": [
            "Trial trainable_func_cc46c0d6 reported epoch=0,loss=0.9682260269437702,should_checkpoint=True with parameters={'act1 ': 'selu', 'act2': 'tanh', 'act3': 'tanh', 'lr': 0.001, 'batch_size': 32, 'hidden_dim1': 225.0, 'hidden_dim2': 210.0, 'hidden_dim3': 210.0}.\n",
            "== Status ==\n",
            "Current time: 2022-07-26 12:16:40 (running for 00:13:02.11)\n",
            "Memory usage on this node: 2.3/12.7 GiB\n",
            "Using MedianStoppingRule: num_stopped=21.\n",
            "Resources requested: 2.0/2 CPUs, 0/0 GPUs, 0.0/7.46 GiB heap, 0.0/3.73 GiB objects\n",
            "Result logdir: /root/ray_results/trainable_func_2022-07-26_12-03-38\n",
            "Number of trials: 39/50 (6 PAUSED, 4 RUNNING, 29 TERMINATED)\n",
            "\n",
            "\n"
          ]
        },
        {
          "output_type": "stream",
          "name": "stderr",
          "text": [
            "\u001b[2m\u001b[36m(func pid=151453)\u001b[0m 2022-07-26 12:16:41,542\tINFO trainable.py:589 -- Restored on 172.28.0.2 from checkpoint: /root/ray_results/trainable_func_2022-07-26_12-03-38/trainable_func_298fb39e_10_act1=selu,act2=relu,act3=tanh,batch_size=32,hidden_dim1=285.0000,hidden_dim2=120.0000,hidden_dim3=315.0_2022-07-26_12-05-12/checkpoint_tmp8fd348/./\n",
            "\u001b[2m\u001b[36m(func pid=151453)\u001b[0m 2022-07-26 12:16:41,543\tINFO trainable.py:597 -- Current state after restoring: {'_iteration': 19, '_timesteps_total': None, '_time_total': 42.75579786300659, '_episodes_total': None}\n"
          ]
        },
        {
          "output_type": "stream",
          "name": "stdout",
          "text": [
            "Trial trainable_func_c986ab72 reported epoch=3,loss=0.6004722107818471,should_checkpoint=True with parameters={'act1 ': 'relu', 'act2': 'relu', 'act3': 'tanh', 'lr': 0.0007, 'batch_size': 32, 'hidden_dim1': 195.0, 'hidden_dim2': 225.0, 'hidden_dim3': 150.0}.\n",
            "Trial trainable_func_212fa088 reported epoch=0,loss=0.08720904393502268,should_checkpoint=True with parameters={'act1 ': 'relu', 'act2': 'relu', 'act3': 'selu', 'lr': 0.001, 'batch_size': 16, 'hidden_dim1': 300.0, 'hidden_dim2': 240.0, 'hidden_dim3': 180.0}.\n"
          ]
        },
        {
          "output_type": "stream",
          "name": "stderr",
          "text": [
            "\u001b[2m\u001b[36m(func pid=151414)\u001b[0m 2022-07-26 12:16:43,448\tINFO trainable.py:589 -- Restored on 172.28.0.2 from checkpoint: /root/ray_results/trainable_func_2022-07-26_12-03-38/trainable_func_212fa088_8_act1=relu,act2=relu,act3=selu,batch_size=16,hidden_dim1=300.0000,hidden_dim2=240.0000,hidden_dim3=180.00_2022-07-26_12-04-46/checkpoint_tmp1b0fae/./\n",
            "\u001b[2m\u001b[36m(func pid=151414)\u001b[0m 2022-07-26 12:16:43,448\tINFO trainable.py:597 -- Current state after restoring: {'_iteration': 42, '_timesteps_total': None, '_time_total': 223.32032370567322, '_episodes_total': None}\n"
          ]
        },
        {
          "output_type": "stream",
          "name": "stdout",
          "text": [
            "Trial trainable_func_298fb39e reported epoch=0,loss=0.19289014616814196,should_checkpoint=True with parameters={'act1 ': 'selu', 'act2': 'relu', 'act3': 'tanh', 'lr': 0.0005, 'batch_size': 32, 'hidden_dim1': 285.0, 'hidden_dim2': 120.0, 'hidden_dim3': 315.0}.\n"
          ]
        },
        {
          "output_type": "stream",
          "name": "stderr",
          "text": [
            "\u001b[2m\u001b[36m(func pid=151453)\u001b[0m 2022-07-26 12:16:44,531\tINFO trainable.py:589 -- Restored on 172.28.0.2 from checkpoint: /root/ray_results/trainable_func_2022-07-26_12-03-38/trainable_func_298fb39e_10_act1=selu,act2=relu,act3=tanh,batch_size=32,hidden_dim1=285.0000,hidden_dim2=120.0000,hidden_dim3=315.0_2022-07-26_12-05-12/checkpoint_tmpb6100f/./\n",
            "\u001b[2m\u001b[36m(func pid=151453)\u001b[0m 2022-07-26 12:16:44,533\tINFO trainable.py:597 -- Current state after restoring: {'_iteration': 20, '_timesteps_total': None, '_time_total': 45.18982172012329, '_episodes_total': None}\n"
          ]
        },
        {
          "output_type": "stream",
          "name": "stdout",
          "text": [
            "Trial trainable_func_cc46c0d6 reported epoch=3,loss=0.6729695018433738,should_checkpoint=True with parameters={'act1 ': 'selu', 'act2': 'tanh', 'act3': 'tanh', 'lr': 0.001, 'batch_size': 32, 'hidden_dim1': 225.0, 'hidden_dim2': 210.0, 'hidden_dim3': 210.0}.\n",
            "== Status ==\n",
            "Current time: 2022-07-26 12:16:46 (running for 00:13:07.57)\n",
            "Memory usage on this node: 2.3/12.7 GiB\n",
            "Using MedianStoppingRule: num_stopped=21.\n",
            "Resources requested: 2.0/2 CPUs, 0/0 GPUs, 0.0/7.46 GiB heap, 0.0/3.73 GiB objects\n",
            "Result logdir: /root/ray_results/trainable_func_2022-07-26_12-03-38\n",
            "Number of trials: 39/50 (6 PAUSED, 4 RUNNING, 29 TERMINATED)\n",
            "\n",
            "\n"
          ]
        },
        {
          "output_type": "stream",
          "name": "stderr",
          "text": [
            "\u001b[2m\u001b[36m(func pid=151453)\u001b[0m 2022-07-26 12:16:47,533\tINFO trainable.py:589 -- Restored on 172.28.0.2 from checkpoint: /root/ray_results/trainable_func_2022-07-26_12-03-38/trainable_func_298fb39e_10_act1=selu,act2=relu,act3=tanh,batch_size=32,hidden_dim1=285.0000,hidden_dim2=120.0000,hidden_dim3=315.0_2022-07-26_12-05-12/checkpoint_tmp608253/./\n",
            "\u001b[2m\u001b[36m(func pid=151453)\u001b[0m 2022-07-26 12:16:47,534\tINFO trainable.py:597 -- Current state after restoring: {'_iteration': 21, '_timesteps_total': None, '_time_total': 47.612637519836426, '_episodes_total': None}\n"
          ]
        },
        {
          "output_type": "stream",
          "name": "stdout",
          "text": [
            "Trial trainable_func_c986ab72 reported epoch=6,loss=0.6468914744125962,should_checkpoint=True with parameters={'act1 ': 'relu', 'act2': 'relu', 'act3': 'tanh', 'lr': 0.0007, 'batch_size': 32, 'hidden_dim1': 195.0, 'hidden_dim2': 225.0, 'hidden_dim3': 150.0}.\n",
            "Trial trainable_func_212fa088 reported epoch=0,loss=0.10070948012660039,should_checkpoint=True with parameters={'act1 ': 'relu', 'act2': 'relu', 'act3': 'selu', 'lr': 0.001, 'batch_size': 16, 'hidden_dim1': 300.0, 'hidden_dim2': 240.0, 'hidden_dim3': 180.0}.\n",
            "Trial trainable_func_298fb39e reported epoch=0,loss=0.15626618622871602,should_checkpoint=True with parameters={'act1 ': 'selu', 'act2': 'relu', 'act3': 'tanh', 'lr': 0.0005, 'batch_size': 32, 'hidden_dim1': 285.0, 'hidden_dim2': 120.0, 'hidden_dim3': 315.0}.\n"
          ]
        },
        {
          "output_type": "stream",
          "name": "stderr",
          "text": [
            "\u001b[2m\u001b[36m(func pid=151414)\u001b[0m 2022-07-26 12:16:50,041\tINFO trainable.py:589 -- Restored on 172.28.0.2 from checkpoint: /root/ray_results/trainable_func_2022-07-26_12-03-38/trainable_func_212fa088_8_act1=relu,act2=relu,act3=selu,batch_size=16,hidden_dim1=300.0000,hidden_dim2=240.0000,hidden_dim3=180.00_2022-07-26_12-04-46/checkpoint_tmp4c7240/./\n",
            "\u001b[2m\u001b[36m(func pid=151414)\u001b[0m 2022-07-26 12:16:50,041\tINFO trainable.py:597 -- Current state after restoring: {'_iteration': 43, '_timesteps_total': None, '_time_total': 229.2301709651947, '_episodes_total': None}\n",
            "\u001b[2m\u001b[36m(func pid=151453)\u001b[0m 2022-07-26 12:16:50,476\tINFO trainable.py:589 -- Restored on 172.28.0.2 from checkpoint: /root/ray_results/trainable_func_2022-07-26_12-03-38/trainable_func_298fb39e_10_act1=selu,act2=relu,act3=tanh,batch_size=32,hidden_dim1=285.0000,hidden_dim2=120.0000,hidden_dim3=315.0_2022-07-26_12-05-12/checkpoint_tmp1c9304/./\n",
            "\u001b[2m\u001b[36m(func pid=151453)\u001b[0m 2022-07-26 12:16:50,476\tINFO trainable.py:597 -- Current state after restoring: {'_iteration': 22, '_timesteps_total': None, '_time_total': 49.82453680038452, '_episodes_total': None}\n"
          ]
        },
        {
          "output_type": "stream",
          "name": "stdout",
          "text": [
            "== Status ==\n",
            "Current time: 2022-07-26 12:16:52 (running for 00:13:14.21)\n",
            "Memory usage on this node: 2.3/12.7 GiB\n",
            "Using MedianStoppingRule: num_stopped=21.\n",
            "Resources requested: 2.0/2 CPUs, 0/0 GPUs, 0.0/7.46 GiB heap, 0.0/3.73 GiB objects\n",
            "Result logdir: /root/ray_results/trainable_func_2022-07-26_12-03-38\n",
            "Number of trials: 39/50 (6 PAUSED, 4 RUNNING, 29 TERMINATED)\n",
            "\n",
            "\n",
            "Trial trainable_func_cc46c0d6 reported epoch=6,loss=0.5986368140528538,should_checkpoint=True with parameters={'act1 ': 'selu', 'act2': 'tanh', 'act3': 'tanh', 'lr': 0.001, 'batch_size': 32, 'hidden_dim1': 225.0, 'hidden_dim2': 210.0, 'hidden_dim3': 210.0}.\n"
          ]
        },
        {
          "output_type": "stream",
          "name": "stderr",
          "text": [
            "\u001b[2m\u001b[36m(func pid=151453)\u001b[0m 2022-07-26 12:16:52,955\tINFO trainable.py:589 -- Restored on 172.28.0.2 from checkpoint: /root/ray_results/trainable_func_2022-07-26_12-03-38/trainable_func_298fb39e_10_act1=selu,act2=relu,act3=tanh,batch_size=32,hidden_dim1=285.0000,hidden_dim2=120.0000,hidden_dim3=315.0_2022-07-26_12-05-12/checkpoint_tmp3b1b2a/./\n",
            "\u001b[2m\u001b[36m(func pid=151453)\u001b[0m 2022-07-26 12:16:52,955\tINFO trainable.py:597 -- Current state after restoring: {'_iteration': 23, '_timesteps_total': None, '_time_total': 51.88353991508484, '_episodes_total': None}\n"
          ]
        },
        {
          "output_type": "stream",
          "name": "stdout",
          "text": [
            "Trial trainable_func_212fa088 reported epoch=0,loss=0.13390769238746256,should_checkpoint=True with parameters={'act1 ': 'relu', 'act2': 'relu', 'act3': 'selu', 'lr': 0.001, 'batch_size': 16, 'hidden_dim1': 300.0, 'hidden_dim2': 240.0, 'hidden_dim3': 180.0}.\n",
            "Trial trainable_func_298fb39e reported epoch=0,loss=0.11091918144070144,should_checkpoint=True with parameters={'act1 ': 'selu', 'act2': 'relu', 'act3': 'tanh', 'lr': 0.0005, 'batch_size': 32, 'hidden_dim1': 285.0, 'hidden_dim2': 120.0, 'hidden_dim3': 315.0}.\n",
            "Trial trainable_func_c986ab72 reported epoch=9,loss=0.5551721135415381,should_checkpoint=True with parameters={'act1 ': 'relu', 'act2': 'relu', 'act3': 'tanh', 'lr': 0.0007, 'batch_size': 32, 'hidden_dim1': 195.0, 'hidden_dim2': 225.0, 'hidden_dim3': 150.0}.\n"
          ]
        },
        {
          "output_type": "stream",
          "name": "stderr",
          "text": [
            "\u001b[2m\u001b[36m(func pid=151414)\u001b[0m 2022-07-26 12:16:55,256\tINFO trainable.py:589 -- Restored on 172.28.0.2 from checkpoint: /root/ray_results/trainable_func_2022-07-26_12-03-38/trainable_func_212fa088_8_act1=relu,act2=relu,act3=selu,batch_size=16,hidden_dim1=300.0000,hidden_dim2=240.0000,hidden_dim3=180.00_2022-07-26_12-04-46/checkpoint_tmp8f42a2/./\n",
            "\u001b[2m\u001b[36m(func pid=151414)\u001b[0m 2022-07-26 12:16:55,257\tINFO trainable.py:597 -- Current state after restoring: {'_iteration': 44, '_timesteps_total': None, '_time_total': 234.00451564788818, '_episodes_total': None}\n",
            "\u001b[2m\u001b[36m(func pid=151453)\u001b[0m 2022-07-26 12:16:55,813\tINFO trainable.py:589 -- Restored on 172.28.0.2 from checkpoint: /root/ray_results/trainable_func_2022-07-26_12-03-38/trainable_func_298fb39e_10_act1=selu,act2=relu,act3=tanh,batch_size=32,hidden_dim1=285.0000,hidden_dim2=120.0000,hidden_dim3=315.0_2022-07-26_12-05-12/checkpoint_tmpd37e1f/./\n",
            "\u001b[2m\u001b[36m(func pid=151453)\u001b[0m 2022-07-26 12:16:55,814\tINFO trainable.py:597 -- Current state after restoring: {'_iteration': 24, '_timesteps_total': None, '_time_total': 53.90572500228882, '_episodes_total': None}\n"
          ]
        },
        {
          "output_type": "stream",
          "name": "stdout",
          "text": [
            "Trial trainable_func_c986ab72 reported epoch=10,loss=0.5884571435510699,should_checkpoint=True with parameters={'act1 ': 'relu', 'act2': 'relu', 'act3': 'tanh', 'lr': 0.0007, 'batch_size': 32, 'hidden_dim1': 195.0, 'hidden_dim2': 225.0, 'hidden_dim3': 150.0}. This trial completed.\n",
            "== Status ==\n",
            "Current time: 2022-07-26 12:16:57 (running for 00:13:19.37)\n",
            "Memory usage on this node: 2.3/12.7 GiB\n",
            "Using MedianStoppingRule: num_stopped=22.\n",
            "Resources requested: 2.0/2 CPUs, 0/0 GPUs, 0.0/7.46 GiB heap, 0.0/3.73 GiB objects\n",
            "Result logdir: /root/ray_results/trainable_func_2022-07-26_12-03-38\n",
            "Number of trials: 39/50 (6 PAUSED, 4 RUNNING, 29 TERMINATED)\n",
            "\n",
            "\n"
          ]
        },
        {
          "output_type": "stream",
          "name": "stderr",
          "text": [
            "\u001b[2m\u001b[36m(func pid=151453)\u001b[0m 2022-07-26 12:16:58,677\tINFO trainable.py:589 -- Restored on 172.28.0.2 from checkpoint: /root/ray_results/trainable_func_2022-07-26_12-03-38/trainable_func_298fb39e_10_act1=selu,act2=relu,act3=tanh,batch_size=32,hidden_dim1=285.0000,hidden_dim2=120.0000,hidden_dim3=315.0_2022-07-26_12-05-12/checkpoint_tmpba84a1/./\n",
            "\u001b[2m\u001b[36m(func pid=151453)\u001b[0m 2022-07-26 12:16:58,677\tINFO trainable.py:597 -- Current state after restoring: {'_iteration': 25, '_timesteps_total': None, '_time_total': 56.274577379226685, '_episodes_total': None}\n"
          ]
        },
        {
          "output_type": "stream",
          "name": "stdout",
          "text": [
            "Trial trainable_func_cc46c0d6 reported epoch=9,loss=0.6003677870437134,should_checkpoint=True with parameters={'act1 ': 'selu', 'act2': 'tanh', 'act3': 'tanh', 'lr': 0.001, 'batch_size': 32, 'hidden_dim1': 225.0, 'hidden_dim2': 210.0, 'hidden_dim3': 210.0}. This trial completed.\n",
            "Trial trainable_func_d83670e4 reported epoch=0,loss=0.8201672201034038,should_checkpoint=True with parameters={'act1 ': 'selu', 'act2': 'tanh', 'act3': 'tanh', 'lr': 0.001, 'batch_size': 32, 'hidden_dim1': 225.0, 'hidden_dim2': 315.0, 'hidden_dim3': 210.0}.\n",
            "Trial trainable_func_212fa088 reported epoch=0,loss=0.08559839008574503,should_checkpoint=True with parameters={'act1 ': 'relu', 'act2': 'relu', 'act3': 'selu', 'lr': 0.001, 'batch_size': 16, 'hidden_dim1': 300.0, 'hidden_dim2': 240.0, 'hidden_dim3': 180.0}.\n",
            "Trial trainable_func_298fb39e reported epoch=0,loss=0.14374707818886034,should_checkpoint=True with parameters={'act1 ': 'selu', 'act2': 'relu', 'act3': 'tanh', 'lr': 0.0005, 'batch_size': 32, 'hidden_dim1': 285.0, 'hidden_dim2': 120.0, 'hidden_dim3': 315.0}.\n"
          ]
        },
        {
          "output_type": "stream",
          "name": "stderr",
          "text": [
            "\u001b[2m\u001b[36m(func pid=151414)\u001b[0m 2022-07-26 12:17:01,152\tINFO trainable.py:589 -- Restored on 172.28.0.2 from checkpoint: /root/ray_results/trainable_func_2022-07-26_12-03-38/trainable_func_212fa088_8_act1=relu,act2=relu,act3=selu,batch_size=16,hidden_dim1=300.0000,hidden_dim2=240.0000,hidden_dim3=180.00_2022-07-26_12-04-46/checkpoint_tmpf8ab1b/./\n",
            "\u001b[2m\u001b[36m(func pid=151414)\u001b[0m 2022-07-26 12:17:01,152\tINFO trainable.py:597 -- Current state after restoring: {'_iteration': 45, '_timesteps_total': None, '_time_total': 239.42288446426392, '_episodes_total': None}\n",
            "\u001b[2m\u001b[36m(func pid=151453)\u001b[0m 2022-07-26 12:17:01,783\tINFO trainable.py:589 -- Restored on 172.28.0.2 from checkpoint: /root/ray_results/trainable_func_2022-07-26_12-03-38/trainable_func_298fb39e_10_act1=selu,act2=relu,act3=tanh,batch_size=32,hidden_dim1=285.0000,hidden_dim2=120.0000,hidden_dim3=315.0_2022-07-26_12-05-12/checkpoint_tmped634f/./\n",
            "\u001b[2m\u001b[36m(func pid=151453)\u001b[0m 2022-07-26 12:17:01,784\tINFO trainable.py:597 -- Current state after restoring: {'_iteration': 26, '_timesteps_total': None, '_time_total': 58.36363196372986, '_episodes_total': None}\n"
          ]
        },
        {
          "output_type": "stream",
          "name": "stdout",
          "text": [
            "== Status ==\n",
            "Current time: 2022-07-26 12:17:02 (running for 00:13:24.46)\n",
            "Memory usage on this node: 2.3/12.7 GiB\n",
            "Using MedianStoppingRule: num_stopped=23.\n",
            "Resources requested: 2.0/2 CPUs, 0/0 GPUs, 0.0/7.46 GiB heap, 0.0/3.73 GiB objects\n",
            "Result logdir: /root/ray_results/trainable_func_2022-07-26_12-03-38\n",
            "Number of trials: 41/50 (6 PAUSED, 4 RUNNING, 31 TERMINATED)\n",
            "\n",
            "\n",
            "Trial trainable_func_d94a09a0 reported epoch=0,loss=0.9027960403450269,should_checkpoint=True with parameters={'act1 ': 'selu', 'act2': 'selu', 'act3': 'selu', 'lr': 0.0009, 'batch_size': 16, 'hidden_dim1': 315.0, 'hidden_dim2': 135.0, 'hidden_dim3': 180.0}.\n"
          ]
        },
        {
          "output_type": "stream",
          "name": "stderr",
          "text": [
            "\u001b[2m\u001b[36m(func pid=151453)\u001b[0m 2022-07-26 12:17:04,628\tINFO trainable.py:589 -- Restored on 172.28.0.2 from checkpoint: /root/ray_results/trainable_func_2022-07-26_12-03-38/trainable_func_298fb39e_10_act1=selu,act2=relu,act3=tanh,batch_size=32,hidden_dim1=285.0000,hidden_dim2=120.0000,hidden_dim3=315.0_2022-07-26_12-05-12/checkpoint_tmp623021/./\n",
            "\u001b[2m\u001b[36m(func pid=151453)\u001b[0m 2022-07-26 12:17:04,628\tINFO trainable.py:597 -- Current state after restoring: {'_iteration': 27, '_timesteps_total': None, '_time_total': 60.78584313392639, '_episodes_total': None}\n"
          ]
        },
        {
          "output_type": "stream",
          "name": "stdout",
          "text": [
            "Trial trainable_func_212fa088 reported epoch=0,loss=0.07934049709024686,should_checkpoint=True with parameters={'act1 ': 'relu', 'act2': 'relu', 'act3': 'selu', 'lr': 0.001, 'batch_size': 16, 'hidden_dim1': 300.0, 'hidden_dim2': 240.0, 'hidden_dim3': 180.0}.\n",
            "Trial trainable_func_298fb39e reported epoch=0,loss=0.1027968396328385,should_checkpoint=True with parameters={'act1 ': 'selu', 'act2': 'relu', 'act3': 'tanh', 'lr': 0.0005, 'batch_size': 32, 'hidden_dim1': 285.0, 'hidden_dim2': 120.0, 'hidden_dim3': 315.0}.\n"
          ]
        },
        {
          "output_type": "stream",
          "name": "stderr",
          "text": [
            "\u001b[2m\u001b[36m(func pid=151414)\u001b[0m 2022-07-26 12:17:07,100\tINFO trainable.py:589 -- Restored on 172.28.0.2 from checkpoint: /root/ray_results/trainable_func_2022-07-26_12-03-38/trainable_func_212fa088_8_act1=relu,act2=relu,act3=selu,batch_size=16,hidden_dim1=300.0000,hidden_dim2=240.0000,hidden_dim3=180.00_2022-07-26_12-04-46/checkpoint_tmp52c23b/./\n",
            "\u001b[2m\u001b[36m(func pid=151414)\u001b[0m 2022-07-26 12:17:07,102\tINFO trainable.py:597 -- Current state after restoring: {'_iteration': 46, '_timesteps_total': None, '_time_total': 245.05823874473572, '_episodes_total': None}\n",
            "\u001b[2m\u001b[36m(func pid=151453)\u001b[0m 2022-07-26 12:17:07,747\tINFO trainable.py:589 -- Restored on 172.28.0.2 from checkpoint: /root/ray_results/trainable_func_2022-07-26_12-03-38/trainable_func_298fb39e_10_act1=selu,act2=relu,act3=tanh,batch_size=32,hidden_dim1=285.0000,hidden_dim2=120.0000,hidden_dim3=315.0_2022-07-26_12-05-12/checkpoint_tmp144c0c/./\n",
            "\u001b[2m\u001b[36m(func pid=151453)\u001b[0m 2022-07-26 12:17:07,747\tINFO trainable.py:597 -- Current state after restoring: {'_iteration': 28, '_timesteps_total': None, '_time_total': 63.035011291503906, '_episodes_total': None}\n"
          ]
        },
        {
          "output_type": "stream",
          "name": "stdout",
          "text": [
            "Trial trainable_func_d83670e4 reported epoch=3,loss=0.6107190232689488,should_checkpoint=True with parameters={'act1 ': 'selu', 'act2': 'tanh', 'act3': 'tanh', 'lr': 0.001, 'batch_size': 32, 'hidden_dim1': 225.0, 'hidden_dim2': 315.0, 'hidden_dim3': 210.0}.\n",
            "== Status ==\n",
            "Current time: 2022-07-26 12:17:09 (running for 00:13:31.55)\n",
            "Memory usage on this node: 2.3/12.7 GiB\n",
            "Using MedianStoppingRule: num_stopped=23.\n",
            "Resources requested: 2.0/2 CPUs, 0/0 GPUs, 0.0/7.46 GiB heap, 0.0/3.73 GiB objects\n",
            "Result logdir: /root/ray_results/trainable_func_2022-07-26_12-03-38\n",
            "Number of trials: 41/50 (6 PAUSED, 4 RUNNING, 31 TERMINATED)\n",
            "\n",
            "\n",
            "Trial trainable_func_d94a09a0 reported epoch=2,loss=0.5991928442340838,should_checkpoint=True with parameters={'act1 ': 'selu', 'act2': 'selu', 'act3': 'selu', 'lr': 0.0009, 'batch_size': 16, 'hidden_dim1': 315.0, 'hidden_dim2': 135.0, 'hidden_dim3': 180.0}.\n"
          ]
        },
        {
          "output_type": "stream",
          "name": "stderr",
          "text": [
            "\u001b[2m\u001b[36m(func pid=151453)\u001b[0m 2022-07-26 12:17:10,488\tINFO trainable.py:589 -- Restored on 172.28.0.2 from checkpoint: /root/ray_results/trainable_func_2022-07-26_12-03-38/trainable_func_298fb39e_10_act1=selu,act2=relu,act3=tanh,batch_size=32,hidden_dim1=285.0000,hidden_dim2=120.0000,hidden_dim3=315.0_2022-07-26_12-05-12/checkpoint_tmpa4800f/./\n",
            "\u001b[2m\u001b[36m(func pid=151453)\u001b[0m 2022-07-26 12:17:10,488\tINFO trainable.py:597 -- Current state after restoring: {'_iteration': 29, '_timesteps_total': None, '_time_total': 65.2450520992279, '_episodes_total': None}\n"
          ]
        },
        {
          "output_type": "stream",
          "name": "stdout",
          "text": [
            "Trial trainable_func_212fa088 reported epoch=0,loss=0.0955262487702941,should_checkpoint=True with parameters={'act1 ': 'relu', 'act2': 'relu', 'act3': 'selu', 'lr': 0.001, 'batch_size': 16, 'hidden_dim1': 300.0, 'hidden_dim2': 240.0, 'hidden_dim3': 180.0}.\n",
            "Trial trainable_func_298fb39e reported epoch=0,loss=0.0766835895481821,should_checkpoint=True with parameters={'act1 ': 'selu', 'act2': 'relu', 'act3': 'tanh', 'lr': 0.0005, 'batch_size': 32, 'hidden_dim1': 285.0, 'hidden_dim2': 120.0, 'hidden_dim3': 315.0}.\n"
          ]
        },
        {
          "output_type": "stream",
          "name": "stderr",
          "text": [
            "\u001b[2m\u001b[36m(func pid=151414)\u001b[0m 2022-07-26 12:17:12,861\tINFO trainable.py:589 -- Restored on 172.28.0.2 from checkpoint: /root/ray_results/trainable_func_2022-07-26_12-03-38/trainable_func_212fa088_8_act1=relu,act2=relu,act3=selu,batch_size=16,hidden_dim1=300.0000,hidden_dim2=240.0000,hidden_dim3=180.00_2022-07-26_12-04-46/checkpoint_tmpbf3200/./\n",
            "\u001b[2m\u001b[36m(func pid=151414)\u001b[0m 2022-07-26 12:17:12,862\tINFO trainable.py:597 -- Current state after restoring: {'_iteration': 47, '_timesteps_total': None, '_time_total': 250.12107157707214, '_episodes_total': None}\n",
            "\u001b[2m\u001b[36m(func pid=151453)\u001b[0m 2022-07-26 12:17:13,450\tINFO trainable.py:589 -- Restored on 172.28.0.2 from checkpoint: /root/ray_results/trainable_func_2022-07-26_12-03-38/trainable_func_298fb39e_10_act1=selu,act2=relu,act3=tanh,batch_size=32,hidden_dim1=285.0000,hidden_dim2=120.0000,hidden_dim3=315.0_2022-07-26_12-05-12/checkpoint_tmpf53cba/./\n",
            "\u001b[2m\u001b[36m(func pid=151453)\u001b[0m 2022-07-26 12:17:13,456\tINFO trainable.py:597 -- Current state after restoring: {'_iteration': 30, '_timesteps_total': None, '_time_total': 67.49662923812866, '_episodes_total': None}\n"
          ]
        },
        {
          "output_type": "stream",
          "name": "stdout",
          "text": [
            "Trial trainable_func_d83670e4 reported epoch=5,loss=0.5623176148665342,should_checkpoint=True with parameters={'act1 ': 'selu', 'act2': 'tanh', 'act3': 'tanh', 'lr': 0.001, 'batch_size': 32, 'hidden_dim1': 225.0, 'hidden_dim2': 315.0, 'hidden_dim3': 210.0}.\n",
            "== Status ==\n",
            "Current time: 2022-07-26 12:17:15 (running for 00:13:36.98)\n",
            "Memory usage on this node: 2.3/12.7 GiB\n",
            "Using MedianStoppingRule: num_stopped=23.\n",
            "Resources requested: 2.0/2 CPUs, 0/0 GPUs, 0.0/7.46 GiB heap, 0.0/3.73 GiB objects\n",
            "Result logdir: /root/ray_results/trainable_func_2022-07-26_12-03-38\n",
            "Number of trials: 41/50 (6 PAUSED, 4 RUNNING, 31 TERMINATED)\n",
            "\n",
            "\n"
          ]
        },
        {
          "output_type": "stream",
          "name": "stderr",
          "text": [
            "\u001b[2m\u001b[36m(func pid=151453)\u001b[0m 2022-07-26 12:17:16,075\tINFO trainable.py:589 -- Restored on 172.28.0.2 from checkpoint: /root/ray_results/trainable_func_2022-07-26_12-03-38/trainable_func_298fb39e_10_act1=selu,act2=relu,act3=tanh,batch_size=32,hidden_dim1=285.0000,hidden_dim2=120.0000,hidden_dim3=315.0_2022-07-26_12-05-12/checkpoint_tmp6c27be/./\n",
            "\u001b[2m\u001b[36m(func pid=151453)\u001b[0m 2022-07-26 12:17:16,075\tINFO trainable.py:597 -- Current state after restoring: {'_iteration': 31, '_timesteps_total': None, '_time_total': 69.4271948337555, '_episodes_total': None}\n"
          ]
        },
        {
          "output_type": "stream",
          "name": "stdout",
          "text": [
            "Trial trainable_func_d94a09a0 reported epoch=4,loss=0.5684436419610287,should_checkpoint=True with parameters={'act1 ': 'selu', 'act2': 'selu', 'act3': 'selu', 'lr': 0.0009, 'batch_size': 16, 'hidden_dim1': 315.0, 'hidden_dim2': 135.0, 'hidden_dim3': 180.0}.\n",
            "Trial trainable_func_298fb39e reported epoch=0,loss=0.0861408041495863,should_checkpoint=True with parameters={'act1 ': 'selu', 'act2': 'relu', 'act3': 'tanh', 'lr': 0.0005, 'batch_size': 32, 'hidden_dim1': 285.0, 'hidden_dim2': 120.0, 'hidden_dim3': 315.0}.\n",
            "Trial trainable_func_d83670e4 reported epoch=7,loss=0.5106978334274794,should_checkpoint=True with parameters={'act1 ': 'selu', 'act2': 'tanh', 'act3': 'tanh', 'lr': 0.001, 'batch_size': 32, 'hidden_dim1': 225.0, 'hidden_dim2': 315.0, 'hidden_dim3': 210.0}.\n",
            "Trial trainable_func_212fa088 reported epoch=0,loss=0.0732749466335026,should_checkpoint=True with parameters={'act1 ': 'relu', 'act2': 'relu', 'act3': 'selu', 'lr': 0.001, 'batch_size': 16, 'hidden_dim1': 300.0, 'hidden_dim2': 240.0, 'hidden_dim3': 180.0}.\n"
          ]
        },
        {
          "output_type": "stream",
          "name": "stderr",
          "text": [
            "\u001b[2m\u001b[36m(func pid=151453)\u001b[0m 2022-07-26 12:17:18,821\tINFO trainable.py:589 -- Restored on 172.28.0.2 from checkpoint: /root/ray_results/trainable_func_2022-07-26_12-03-38/trainable_func_298fb39e_10_act1=selu,act2=relu,act3=tanh,batch_size=32,hidden_dim1=285.0000,hidden_dim2=120.0000,hidden_dim3=315.0_2022-07-26_12-05-12/checkpoint_tmp9c3e6b/./\n",
            "\u001b[2m\u001b[36m(func pid=151453)\u001b[0m 2022-07-26 12:17:18,821\tINFO trainable.py:597 -- Current state after restoring: {'_iteration': 32, '_timesteps_total': None, '_time_total': 71.76843643188477, '_episodes_total': None}\n",
            "\u001b[2m\u001b[36m(func pid=151414)\u001b[0m 2022-07-26 12:17:19,519\tINFO trainable.py:589 -- Restored on 172.28.0.2 from checkpoint: /root/ray_results/trainable_func_2022-07-26_12-03-38/trainable_func_212fa088_8_act1=relu,act2=relu,act3=selu,batch_size=16,hidden_dim1=300.0000,hidden_dim2=240.0000,hidden_dim3=180.00_2022-07-26_12-04-46/checkpoint_tmpf04a67/./\n",
            "\u001b[2m\u001b[36m(func pid=151414)\u001b[0m 2022-07-26 12:17:19,519\tINFO trainable.py:597 -- Current state after restoring: {'_iteration': 48, '_timesteps_total': None, '_time_total': 255.82174682617188, '_episodes_total': None}\n"
          ]
        },
        {
          "output_type": "stream",
          "name": "stdout",
          "text": [
            "== Status ==\n",
            "Current time: 2022-07-26 12:17:20 (running for 00:13:42.47)\n",
            "Memory usage on this node: 2.3/12.7 GiB\n",
            "Using MedianStoppingRule: num_stopped=23.\n",
            "Resources requested: 2.0/2 CPUs, 0/0 GPUs, 0.0/7.46 GiB heap, 0.0/3.73 GiB objects\n",
            "Result logdir: /root/ray_results/trainable_func_2022-07-26_12-03-38\n",
            "Number of trials: 41/50 (6 PAUSED, 4 RUNNING, 31 TERMINATED)\n",
            "\n",
            "\n"
          ]
        },
        {
          "output_type": "stream",
          "name": "stderr",
          "text": [
            "\u001b[2m\u001b[36m(func pid=151453)\u001b[0m 2022-07-26 12:17:21,424\tINFO trainable.py:589 -- Restored on 172.28.0.2 from checkpoint: /root/ray_results/trainable_func_2022-07-26_12-03-38/trainable_func_298fb39e_10_act1=selu,act2=relu,act3=tanh,batch_size=32,hidden_dim1=285.0000,hidden_dim2=120.0000,hidden_dim3=315.0_2022-07-26_12-05-12/checkpoint_tmpa765bd/./\n",
            "\u001b[2m\u001b[36m(func pid=151453)\u001b[0m 2022-07-26 12:17:21,424\tINFO trainable.py:597 -- Current state after restoring: {'_iteration': 33, '_timesteps_total': None, '_time_total': 73.82693696022034, '_episodes_total': None}\n"
          ]
        },
        {
          "output_type": "stream",
          "name": "stdout",
          "text": [
            "Trial trainable_func_298fb39e reported epoch=0,loss=0.08133033818651265,should_checkpoint=True with parameters={'act1 ': 'selu', 'act2': 'relu', 'act3': 'tanh', 'lr': 0.0005, 'batch_size': 32, 'hidden_dim1': 285.0, 'hidden_dim2': 120.0, 'hidden_dim3': 315.0}.\n",
            "Trial trainable_func_d83670e4 reported epoch=9,loss=0.5382334721860844,should_checkpoint=True with parameters={'act1 ': 'selu', 'act2': 'tanh', 'act3': 'tanh', 'lr': 0.001, 'batch_size': 32, 'hidden_dim1': 225.0, 'hidden_dim2': 315.0, 'hidden_dim3': 210.0}.\n",
            "Trial trainable_func_212fa088 reported epoch=0,loss=0.08902791066120515,should_checkpoint=True with parameters={'act1 ': 'relu', 'act2': 'relu', 'act3': 'selu', 'lr': 0.001, 'batch_size': 16, 'hidden_dim1': 300.0, 'hidden_dim2': 240.0, 'hidden_dim3': 180.0}.\n"
          ]
        },
        {
          "output_type": "stream",
          "name": "stderr",
          "text": [
            "\u001b[2m\u001b[36m(func pid=151453)\u001b[0m 2022-07-26 12:17:24,335\tINFO trainable.py:589 -- Restored on 172.28.0.2 from checkpoint: /root/ray_results/trainable_func_2022-07-26_12-03-38/trainable_func_298fb39e_10_act1=selu,act2=relu,act3=tanh,batch_size=32,hidden_dim1=285.0000,hidden_dim2=120.0000,hidden_dim3=315.0_2022-07-26_12-05-12/checkpoint_tmp0190d7/./\n",
            "\u001b[2m\u001b[36m(func pid=151453)\u001b[0m 2022-07-26 12:17:24,335\tINFO trainable.py:597 -- Current state after restoring: {'_iteration': 34, '_timesteps_total': None, '_time_total': 76.04978847503662, '_episodes_total': None}\n",
            "\u001b[2m\u001b[36m(func pid=151414)\u001b[0m 2022-07-26 12:17:24,958\tINFO trainable.py:589 -- Restored on 172.28.0.2 from checkpoint: /root/ray_results/trainable_func_2022-07-26_12-03-38/trainable_func_212fa088_8_act1=relu,act2=relu,act3=selu,batch_size=16,hidden_dim1=300.0000,hidden_dim2=240.0000,hidden_dim3=180.00_2022-07-26_12-04-46/checkpoint_tmpd9880b/./\n",
            "\u001b[2m\u001b[36m(func pid=151414)\u001b[0m 2022-07-26 12:17:24,958\tINFO trainable.py:597 -- Current state after restoring: {'_iteration': 49, '_timesteps_total': None, '_time_total': 260.45470571517944, '_episodes_total': None}\n"
          ]
        },
        {
          "output_type": "stream",
          "name": "stdout",
          "text": [
            "Trial trainable_func_d94a09a0 reported epoch=6,loss=0.5312450036467881,should_checkpoint=True with parameters={'act1 ': 'selu', 'act2': 'selu', 'act3': 'selu', 'lr': 0.0009, 'batch_size': 16, 'hidden_dim1': 315.0, 'hidden_dim2': 135.0, 'hidden_dim3': 180.0}.\n",
            "== Status ==\n",
            "Current time: 2022-07-26 12:17:26 (running for 00:13:48.20)\n",
            "Memory usage on this node: 2.3/12.7 GiB\n",
            "Using MedianStoppingRule: num_stopped=23.\n",
            "Resources requested: 2.0/2 CPUs, 0/0 GPUs, 0.0/7.46 GiB heap, 0.0/3.73 GiB objects\n",
            "Result logdir: /root/ray_results/trainable_func_2022-07-26_12-03-38\n",
            "Number of trials: 41/50 (6 PAUSED, 4 RUNNING, 31 TERMINATED)\n",
            "\n",
            "\n"
          ]
        },
        {
          "output_type": "stream",
          "name": "stderr",
          "text": [
            "\u001b[2m\u001b[36m(func pid=151453)\u001b[0m 2022-07-26 12:17:27,277\tINFO trainable.py:589 -- Restored on 172.28.0.2 from checkpoint: /root/ray_results/trainable_func_2022-07-26_12-03-38/trainable_func_298fb39e_10_act1=selu,act2=relu,act3=tanh,batch_size=32,hidden_dim1=285.0000,hidden_dim2=120.0000,hidden_dim3=315.0_2022-07-26_12-05-12/checkpoint_tmpee3e10/./\n",
            "\u001b[2m\u001b[36m(func pid=151453)\u001b[0m 2022-07-26 12:17:27,279\tINFO trainable.py:597 -- Current state after restoring: {'_iteration': 35, '_timesteps_total': None, '_time_total': 78.33442711830139, '_episodes_total': None}\n"
          ]
        },
        {
          "output_type": "stream",
          "name": "stdout",
          "text": [
            "Trial trainable_func_298fb39e reported epoch=0,loss=0.0712992161393695,should_checkpoint=True with parameters={'act1 ': 'selu', 'act2': 'relu', 'act3': 'tanh', 'lr': 0.0005, 'batch_size': 32, 'hidden_dim1': 285.0, 'hidden_dim2': 120.0, 'hidden_dim3': 315.0}.\n"
          ]
        },
        {
          "output_type": "stream",
          "name": "stderr",
          "text": [
            "\u001b[2m\u001b[36m(func pid=151453)\u001b[0m 2022-07-26 12:17:29,994\tINFO trainable.py:589 -- Restored on 172.28.0.2 from checkpoint: /root/ray_results/trainable_func_2022-07-26_12-03-38/trainable_func_298fb39e_10_act1=selu,act2=relu,act3=tanh,batch_size=32,hidden_dim1=285.0000,hidden_dim2=120.0000,hidden_dim3=315.0_2022-07-26_12-05-12/checkpoint_tmpca3464/./\n",
            "\u001b[2m\u001b[36m(func pid=151453)\u001b[0m 2022-07-26 12:17:29,995\tINFO trainable.py:597 -- Current state after restoring: {'_iteration': 36, '_timesteps_total': None, '_time_total': 80.46401143074036, '_episodes_total': None}\n"
          ]
        },
        {
          "output_type": "stream",
          "name": "stdout",
          "text": [
            "Trial trainable_func_d83670e4 reported epoch=11,loss=0.5355123697417274,should_checkpoint=True with parameters={'act1 ': 'selu', 'act2': 'tanh', 'act3': 'tanh', 'lr': 0.001, 'batch_size': 32, 'hidden_dim1': 225.0, 'hidden_dim2': 315.0, 'hidden_dim3': 210.0}.\n",
            "Trial trainable_func_212fa088 reported epoch=0,loss=0.07098294482275319,should_checkpoint=True with parameters={'act1 ': 'relu', 'act2': 'relu', 'act3': 'selu', 'lr': 0.001, 'batch_size': 16, 'hidden_dim1': 300.0, 'hidden_dim2': 240.0, 'hidden_dim3': 180.0}. This trial completed.\n",
            "== Status ==\n",
            "Current time: 2022-07-26 12:17:32 (running for 00:13:53.94)\n",
            "Memory usage on this node: 2.3/12.7 GiB\n",
            "Using MedianStoppingRule: num_stopped=23.\n",
            "Resources requested: 2.0/2 CPUs, 0/0 GPUs, 0.0/7.46 GiB heap, 0.0/3.73 GiB objects\n",
            "Result logdir: /root/ray_results/trainable_func_2022-07-26_12-03-38\n",
            "Number of trials: 42/50 (6 PAUSED, 4 RUNNING, 32 TERMINATED)\n",
            "\n",
            "\n",
            "Trial trainable_func_d83670e4 reported epoch=12,loss=0.5288203938106072,should_checkpoint=True with parameters={'act1 ': 'selu', 'act2': 'tanh', 'act3': 'tanh', 'lr': 0.001, 'batch_size': 32, 'hidden_dim1': 225.0, 'hidden_dim2': 315.0, 'hidden_dim3': 210.0}. This trial completed.\n"
          ]
        },
        {
          "output_type": "stream",
          "name": "stderr",
          "text": [
            "\u001b[2m\u001b[36m(func pid=151453)\u001b[0m 2022-07-26 12:17:33,068\tINFO trainable.py:589 -- Restored on 172.28.0.2 from checkpoint: /root/ray_results/trainable_func_2022-07-26_12-03-38/trainable_func_298fb39e_10_act1=selu,act2=relu,act3=tanh,batch_size=32,hidden_dim1=285.0000,hidden_dim2=120.0000,hidden_dim3=315.0_2022-07-26_12-05-12/checkpoint_tmpc8f1bd/./\n",
            "\u001b[2m\u001b[36m(func pid=151453)\u001b[0m 2022-07-26 12:17:33,068\tINFO trainable.py:597 -- Current state after restoring: {'_iteration': 37, '_timesteps_total': None, '_time_total': 82.81973814964294, '_episodes_total': None}\n"
          ]
        },
        {
          "output_type": "stream",
          "name": "stdout",
          "text": [
            "Trial trainable_func_d94a09a0 reported epoch=8,loss=0.6492726843919309,should_checkpoint=True with parameters={'act1 ': 'selu', 'act2': 'selu', 'act3': 'selu', 'lr': 0.0009, 'batch_size': 16, 'hidden_dim1': 315.0, 'hidden_dim2': 135.0, 'hidden_dim3': 180.0}.\n",
            "Trial trainable_func_eb909624 reported epoch=0,loss=0.7352349770958936,should_checkpoint=True with parameters={'act1 ': 'relu', 'act2': 'relu', 'act3': 'selu', 'lr': 0.001, 'batch_size': 16, 'hidden_dim1': 270.0, 'hidden_dim2': 270.0, 'hidden_dim3': 210.0}.\n",
            "Trial trainable_func_298fb39e reported epoch=0,loss=0.08345562497704942,should_checkpoint=True with parameters={'act1 ': 'selu', 'act2': 'relu', 'act3': 'tanh', 'lr': 0.0005, 'batch_size': 32, 'hidden_dim1': 285.0, 'hidden_dim2': 120.0, 'hidden_dim3': 315.0}.\n"
          ]
        },
        {
          "output_type": "stream",
          "name": "stderr",
          "text": [
            "\u001b[2m\u001b[36m(func pid=151453)\u001b[0m 2022-07-26 12:17:35,855\tINFO trainable.py:589 -- Restored on 172.28.0.2 from checkpoint: /root/ray_results/trainable_func_2022-07-26_12-03-38/trainable_func_298fb39e_10_act1=selu,act2=relu,act3=tanh,batch_size=32,hidden_dim1=285.0000,hidden_dim2=120.0000,hidden_dim3=315.0_2022-07-26_12-05-12/checkpoint_tmp0cf75e/./\n",
            "\u001b[2m\u001b[36m(func pid=151453)\u001b[0m 2022-07-26 12:17:35,855\tINFO trainable.py:597 -- Current state after restoring: {'_iteration': 38, '_timesteps_total': None, '_time_total': 85.02847528457642, '_episodes_total': None}\n"
          ]
        },
        {
          "output_type": "stream",
          "name": "stdout",
          "text": [
            "== Status ==\n",
            "Current time: 2022-07-26 12:17:37 (running for 00:13:59.26)\n",
            "Memory usage on this node: 2.3/12.7 GiB\n",
            "Using MedianStoppingRule: num_stopped=24.\n",
            "Resources requested: 2.0/2 CPUs, 0/0 GPUs, 0.0/7.46 GiB heap, 0.0/3.73 GiB objects\n",
            "Result logdir: /root/ray_results/trainable_func_2022-07-26_12-03-38\n",
            "Number of trials: 43/50 (6 PAUSED, 4 RUNNING, 33 TERMINATED)\n",
            "\n",
            "\n",
            "Trial trainable_func_ed3da9da reported epoch=0,loss=0.844568410357706,should_checkpoint=True with parameters={'act1 ': 'relu', 'act2': 'relu', 'act3': 'selu', 'lr': 0.001, 'batch_size': 16, 'hidden_dim1': 270.0, 'hidden_dim2': 270.0, 'hidden_dim3': 225.0}.\n"
          ]
        },
        {
          "output_type": "stream",
          "name": "stderr",
          "text": [
            "\u001b[2m\u001b[36m(func pid=151453)\u001b[0m 2022-07-26 12:17:39,125\tINFO trainable.py:589 -- Restored on 172.28.0.2 from checkpoint: /root/ray_results/trainable_func_2022-07-26_12-03-38/trainable_func_298fb39e_10_act1=selu,act2=relu,act3=tanh,batch_size=32,hidden_dim1=285.0000,hidden_dim2=120.0000,hidden_dim3=315.0_2022-07-26_12-05-12/checkpoint_tmp48f9ac/./\n",
            "\u001b[2m\u001b[36m(func pid=151453)\u001b[0m 2022-07-26 12:17:39,125\tINFO trainable.py:597 -- Current state after restoring: {'_iteration': 39, '_timesteps_total': None, '_time_total': 87.68698835372925, '_episodes_total': None}\n"
          ]
        },
        {
          "output_type": "stream",
          "name": "stdout",
          "text": [
            "Trial trainable_func_298fb39e reported epoch=0,loss=0.06085951137379632,should_checkpoint=True with parameters={'act1 ': 'selu', 'act2': 'relu', 'act3': 'tanh', 'lr': 0.0005, 'batch_size': 32, 'hidden_dim1': 285.0, 'hidden_dim2': 120.0, 'hidden_dim3': 315.0}.\n",
            "Trial trainable_func_d94a09a0 reported epoch=10,loss=0.5762431725533679,should_checkpoint=True with parameters={'act1 ': 'selu', 'act2': 'selu', 'act3': 'selu', 'lr': 0.0009, 'batch_size': 16, 'hidden_dim1': 315.0, 'hidden_dim2': 135.0, 'hidden_dim3': 180.0}.\n",
            "Trial trainable_func_eb909624 reported epoch=2,loss=0.7111445409640232,should_checkpoint=True with parameters={'act1 ': 'relu', 'act2': 'relu', 'act3': 'selu', 'lr': 0.001, 'batch_size': 16, 'hidden_dim1': 270.0, 'hidden_dim2': 270.0, 'hidden_dim3': 210.0}.\n"
          ]
        },
        {
          "output_type": "stream",
          "name": "stderr",
          "text": [
            "\u001b[2m\u001b[36m(func pid=151453)\u001b[0m 2022-07-26 12:17:42,072\tINFO trainable.py:589 -- Restored on 172.28.0.2 from checkpoint: /root/ray_results/trainable_func_2022-07-26_12-03-38/trainable_func_298fb39e_10_act1=selu,act2=relu,act3=tanh,batch_size=32,hidden_dim1=285.0000,hidden_dim2=120.0000,hidden_dim3=315.0_2022-07-26_12-05-12/checkpoint_tmpc2cf5f/./\n",
            "\u001b[2m\u001b[36m(func pid=151453)\u001b[0m 2022-07-26 12:17:42,072\tINFO trainable.py:597 -- Current state after restoring: {'_iteration': 40, '_timesteps_total': None, '_time_total': 89.975350856781, '_episodes_total': None}\n"
          ]
        },
        {
          "output_type": "stream",
          "name": "stdout",
          "text": [
            "== Status ==\n",
            "Current time: 2022-07-26 12:17:44 (running for 00:14:06.00)\n",
            "Memory usage on this node: 2.3/12.7 GiB\n",
            "Using MedianStoppingRule: num_stopped=24.\n",
            "Resources requested: 2.0/2 CPUs, 0/0 GPUs, 0.0/7.46 GiB heap, 0.0/3.73 GiB objects\n",
            "Result logdir: /root/ray_results/trainable_func_2022-07-26_12-03-38\n",
            "Number of trials: 43/50 (6 PAUSED, 4 RUNNING, 33 TERMINATED)\n",
            "\n",
            "\n"
          ]
        },
        {
          "output_type": "stream",
          "name": "stderr",
          "text": [
            "\u001b[2m\u001b[36m(func pid=151453)\u001b[0m 2022-07-26 12:17:45,019\tINFO trainable.py:589 -- Restored on 172.28.0.2 from checkpoint: /root/ray_results/trainable_func_2022-07-26_12-03-38/trainable_func_298fb39e_10_act1=selu,act2=relu,act3=tanh,batch_size=32,hidden_dim1=285.0000,hidden_dim2=120.0000,hidden_dim3=315.0_2022-07-26_12-05-12/checkpoint_tmp6458b5/./\n",
            "\u001b[2m\u001b[36m(func pid=151453)\u001b[0m 2022-07-26 12:17:45,019\tINFO trainable.py:597 -- Current state after restoring: {'_iteration': 41, '_timesteps_total': None, '_time_total': 92.24747371673584, '_episodes_total': None}\n"
          ]
        },
        {
          "output_type": "stream",
          "name": "stdout",
          "text": [
            "Trial trainable_func_d94a09a0 reported epoch=11,loss=0.5675104328544643,should_checkpoint=True with parameters={'act1 ': 'selu', 'act2': 'selu', 'act3': 'selu', 'lr': 0.0009, 'batch_size': 16, 'hidden_dim1': 315.0, 'hidden_dim2': 135.0, 'hidden_dim3': 180.0}. This trial completed.\n",
            "Trial trainable_func_ed3da9da reported epoch=2,loss=0.6549166898458896,should_checkpoint=True with parameters={'act1 ': 'relu', 'act2': 'relu', 'act3': 'selu', 'lr': 0.001, 'batch_size': 16, 'hidden_dim1': 270.0, 'hidden_dim2': 270.0, 'hidden_dim3': 225.0}.\n",
            "Trial trainable_func_298fb39e reported epoch=0,loss=0.07216637041105482,should_checkpoint=True with parameters={'act1 ': 'selu', 'act2': 'relu', 'act3': 'tanh', 'lr': 0.0005, 'batch_size': 32, 'hidden_dim1': 285.0, 'hidden_dim2': 120.0, 'hidden_dim3': 315.0}.\n"
          ]
        },
        {
          "output_type": "stream",
          "name": "stderr",
          "text": [
            "\u001b[2m\u001b[36m(func pid=151453)\u001b[0m 2022-07-26 12:17:48,096\tINFO trainable.py:589 -- Restored on 172.28.0.2 from checkpoint: /root/ray_results/trainable_func_2022-07-26_12-03-38/trainable_func_298fb39e_10_act1=selu,act2=relu,act3=tanh,batch_size=32,hidden_dim1=285.0000,hidden_dim2=120.0000,hidden_dim3=315.0_2022-07-26_12-05-12/checkpoint_tmp2b1983/./\n",
            "\u001b[2m\u001b[36m(func pid=151453)\u001b[0m 2022-07-26 12:17:48,096\tINFO trainable.py:597 -- Current state after restoring: {'_iteration': 42, '_timesteps_total': None, '_time_total': 94.77460789680481, '_episodes_total': None}\n"
          ]
        },
        {
          "output_type": "stream",
          "name": "stdout",
          "text": [
            "== Status ==\n",
            "Current time: 2022-07-26 12:17:50 (running for 00:14:11.89)\n",
            "Memory usage on this node: 2.3/12.7 GiB\n",
            "Using MedianStoppingRule: num_stopped=25.\n",
            "Resources requested: 2.0/2 CPUs, 0/0 GPUs, 0.0/7.46 GiB heap, 0.0/3.73 GiB objects\n",
            "Result logdir: /root/ray_results/trainable_func_2022-07-26_12-03-38\n",
            "Number of trials: 44/50 (6 PAUSED, 4 RUNNING, 34 TERMINATED)\n",
            "\n",
            "\n",
            "Trial trainable_func_f5108b1e reported epoch=0,loss=0.986269559165867,should_checkpoint=True with parameters={'act1 ': 'relu', 'act2': 'relu', 'act3': 'selu', 'lr': 0.001, 'batch_size': 16, 'hidden_dim1': 270.0, 'hidden_dim2': 270.0, 'hidden_dim3': 225.0}.\n",
            "Trial trainable_func_eb909624 reported epoch=4,loss=0.6009513841327376,should_checkpoint=True with parameters={'act1 ': 'relu', 'act2': 'relu', 'act3': 'selu', 'lr': 0.001, 'batch_size': 16, 'hidden_dim1': 270.0, 'hidden_dim2': 270.0, 'hidden_dim3': 210.0}.\n"
          ]
        },
        {
          "output_type": "stream",
          "name": "stderr",
          "text": [
            "\u001b[2m\u001b[36m(func pid=151453)\u001b[0m 2022-07-26 12:17:50,821\tINFO trainable.py:589 -- Restored on 172.28.0.2 from checkpoint: /root/ray_results/trainable_func_2022-07-26_12-03-38/trainable_func_298fb39e_10_act1=selu,act2=relu,act3=tanh,batch_size=32,hidden_dim1=285.0000,hidden_dim2=120.0000,hidden_dim3=315.0_2022-07-26_12-05-12/checkpoint_tmp824609/./\n",
            "\u001b[2m\u001b[36m(func pid=151453)\u001b[0m 2022-07-26 12:17:50,821\tINFO trainable.py:597 -- Current state after restoring: {'_iteration': 43, '_timesteps_total': None, '_time_total': 96.98195028305054, '_episodes_total': None}\n"
          ]
        },
        {
          "output_type": "stream",
          "name": "stdout",
          "text": [
            "Trial trainable_func_298fb39e reported epoch=0,loss=0.05958844388197723,should_checkpoint=True with parameters={'act1 ': 'selu', 'act2': 'relu', 'act3': 'tanh', 'lr': 0.0005, 'batch_size': 32, 'hidden_dim1': 285.0, 'hidden_dim2': 120.0, 'hidden_dim3': 315.0}.\n"
          ]
        },
        {
          "output_type": "stream",
          "name": "stderr",
          "text": [
            "\u001b[2m\u001b[36m(func pid=151453)\u001b[0m 2022-07-26 12:17:53,730\tINFO trainable.py:589 -- Restored on 172.28.0.2 from checkpoint: /root/ray_results/trainable_func_2022-07-26_12-03-38/trainable_func_298fb39e_10_act1=selu,act2=relu,act3=tanh,batch_size=32,hidden_dim1=285.0000,hidden_dim2=120.0000,hidden_dim3=315.0_2022-07-26_12-05-12/checkpoint_tmp3e4159/./\n",
            "\u001b[2m\u001b[36m(func pid=151453)\u001b[0m 2022-07-26 12:17:53,730\tINFO trainable.py:597 -- Current state after restoring: {'_iteration': 44, '_timesteps_total': None, '_time_total': 99.24634528160095, '_episodes_total': None}\n"
          ]
        },
        {
          "output_type": "stream",
          "name": "stdout",
          "text": [
            "== Status ==\n",
            "Current time: 2022-07-26 12:17:55 (running for 00:14:17.25)\n",
            "Memory usage on this node: 2.3/12.7 GiB\n",
            "Using MedianStoppingRule: num_stopped=25.\n",
            "Resources requested: 2.0/2 CPUs, 0/0 GPUs, 0.0/7.46 GiB heap, 0.0/3.73 GiB objects\n",
            "Result logdir: /root/ray_results/trainable_func_2022-07-26_12-03-38\n",
            "Number of trials: 44/50 (6 PAUSED, 4 RUNNING, 34 TERMINATED)\n",
            "\n",
            "\n",
            "Trial trainable_func_ed3da9da reported epoch=4,loss=0.6206249830064033,should_checkpoint=True with parameters={'act1 ': 'relu', 'act2': 'relu', 'act3': 'selu', 'lr': 0.001, 'batch_size': 16, 'hidden_dim1': 270.0, 'hidden_dim2': 270.0, 'hidden_dim3': 225.0}.\n"
          ]
        },
        {
          "output_type": "stream",
          "name": "stderr",
          "text": [
            "\u001b[2m\u001b[36m(func pid=151453)\u001b[0m 2022-07-26 12:17:56,685\tINFO trainable.py:589 -- Restored on 172.28.0.2 from checkpoint: /root/ray_results/trainable_func_2022-07-26_12-03-38/trainable_func_298fb39e_10_act1=selu,act2=relu,act3=tanh,batch_size=32,hidden_dim1=285.0000,hidden_dim2=120.0000,hidden_dim3=315.0_2022-07-26_12-05-12/checkpoint_tmp81ad67/./\n",
            "\u001b[2m\u001b[36m(func pid=151453)\u001b[0m 2022-07-26 12:17:56,685\tINFO trainable.py:597 -- Current state after restoring: {'_iteration': 45, '_timesteps_total': None, '_time_total': 101.62744688987732, '_episodes_total': None}\n"
          ]
        },
        {
          "output_type": "stream",
          "name": "stdout",
          "text": [
            "Trial trainable_func_f5108b1e reported epoch=2,loss=0.8322224477667937,should_checkpoint=True with parameters={'act1 ': 'relu', 'act2': 'relu', 'act3': 'selu', 'lr': 0.001, 'batch_size': 16, 'hidden_dim1': 270.0, 'hidden_dim2': 270.0, 'hidden_dim3': 225.0}.\n",
            "Trial trainable_func_298fb39e reported epoch=0,loss=0.05991496391451587,should_checkpoint=True with parameters={'act1 ': 'selu', 'act2': 'relu', 'act3': 'tanh', 'lr': 0.0005, 'batch_size': 32, 'hidden_dim1': 285.0, 'hidden_dim2': 120.0, 'hidden_dim3': 315.0}.\n"
          ]
        },
        {
          "output_type": "stream",
          "name": "stderr",
          "text": [
            "\u001b[2m\u001b[36m(func pid=151453)\u001b[0m 2022-07-26 12:17:59,471\tINFO trainable.py:589 -- Restored on 172.28.0.2 from checkpoint: /root/ray_results/trainable_func_2022-07-26_12-03-38/trainable_func_298fb39e_10_act1=selu,act2=relu,act3=tanh,batch_size=32,hidden_dim1=285.0000,hidden_dim2=120.0000,hidden_dim3=315.0_2022-07-26_12-05-12/checkpoint_tmpb53b54/./\n",
            "\u001b[2m\u001b[36m(func pid=151453)\u001b[0m 2022-07-26 12:17:59,471\tINFO trainable.py:597 -- Current state after restoring: {'_iteration': 46, '_timesteps_total': None, '_time_total': 103.89098024368286, '_episodes_total': None}\n"
          ]
        },
        {
          "output_type": "stream",
          "name": "stdout",
          "text": [
            "Trial trainable_func_eb909624 reported epoch=6,loss=0.6251587971637248,should_checkpoint=True with parameters={'act1 ': 'relu', 'act2': 'relu', 'act3': 'selu', 'lr': 0.001, 'batch_size': 16, 'hidden_dim1': 270.0, 'hidden_dim2': 270.0, 'hidden_dim3': 210.0}.\n",
            "== Status ==\n",
            "Current time: 2022-07-26 12:18:01 (running for 00:14:23.48)\n",
            "Memory usage on this node: 2.3/12.7 GiB\n",
            "Using MedianStoppingRule: num_stopped=25.\n",
            "Resources requested: 2.0/2 CPUs, 0/0 GPUs, 0.0/7.46 GiB heap, 0.0/3.73 GiB objects\n",
            "Result logdir: /root/ray_results/trainable_func_2022-07-26_12-03-38\n",
            "Number of trials: 44/50 (6 PAUSED, 4 RUNNING, 34 TERMINATED)\n",
            "\n",
            "\n",
            "Trial trainable_func_ed3da9da reported epoch=5,loss=0.5745786311162216,should_checkpoint=True with parameters={'act1 ': 'relu', 'act2': 'relu', 'act3': 'selu', 'lr': 0.001, 'batch_size': 16, 'hidden_dim1': 270.0, 'hidden_dim2': 270.0, 'hidden_dim3': 225.0}.\n"
          ]
        },
        {
          "output_type": "stream",
          "name": "stderr",
          "text": [
            "\u001b[2m\u001b[36m(func pid=151453)\u001b[0m 2022-07-26 12:18:02,438\tINFO trainable.py:589 -- Restored on 172.28.0.2 from checkpoint: /root/ray_results/trainable_func_2022-07-26_12-03-38/trainable_func_298fb39e_10_act1=selu,act2=relu,act3=tanh,batch_size=32,hidden_dim1=285.0000,hidden_dim2=120.0000,hidden_dim3=315.0_2022-07-26_12-05-12/checkpoint_tmp9470c8/./\n",
            "\u001b[2m\u001b[36m(func pid=151453)\u001b[0m 2022-07-26 12:18:02,438\tINFO trainable.py:597 -- Current state after restoring: {'_iteration': 47, '_timesteps_total': None, '_time_total': 106.31681847572327, '_episodes_total': None}\n"
          ]
        },
        {
          "output_type": "stream",
          "name": "stdout",
          "text": [
            "Trial trainable_func_298fb39e reported epoch=0,loss=0.07148640896156756,should_checkpoint=True with parameters={'act1 ': 'selu', 'act2': 'relu', 'act3': 'tanh', 'lr': 0.0005, 'batch_size': 32, 'hidden_dim1': 285.0, 'hidden_dim2': 120.0, 'hidden_dim3': 315.0}.\n"
          ]
        },
        {
          "output_type": "stream",
          "name": "stderr",
          "text": [
            "\u001b[2m\u001b[36m(func pid=151453)\u001b[0m 2022-07-26 12:18:05,332\tINFO trainable.py:589 -- Restored on 172.28.0.2 from checkpoint: /root/ray_results/trainable_func_2022-07-26_12-03-38/trainable_func_298fb39e_10_act1=selu,act2=relu,act3=tanh,batch_size=32,hidden_dim1=285.0000,hidden_dim2=120.0000,hidden_dim3=315.0_2022-07-26_12-05-12/checkpoint_tmp1183bf/./\n",
            "\u001b[2m\u001b[36m(func pid=151453)\u001b[0m 2022-07-26 12:18:05,332\tINFO trainable.py:597 -- Current state after restoring: {'_iteration': 48, '_timesteps_total': None, '_time_total': 108.56101202964783, '_episodes_total': None}\n"
          ]
        },
        {
          "output_type": "stream",
          "name": "stdout",
          "text": [
            "Trial trainable_func_f5108b1e reported epoch=4,loss=0.675108634786934,should_checkpoint=True with parameters={'act1 ': 'relu', 'act2': 'relu', 'act3': 'selu', 'lr': 0.001, 'batch_size': 16, 'hidden_dim1': 270.0, 'hidden_dim2': 270.0, 'hidden_dim3': 225.0}.\n",
            "== Status ==\n",
            "Current time: 2022-07-26 12:18:07 (running for 00:14:28.71)\n",
            "Memory usage on this node: 2.3/12.7 GiB\n",
            "Using MedianStoppingRule: num_stopped=25.\n",
            "Resources requested: 2.0/2 CPUs, 0/0 GPUs, 0.0/7.46 GiB heap, 0.0/3.73 GiB objects\n",
            "Result logdir: /root/ray_results/trainable_func_2022-07-26_12-03-38\n",
            "Number of trials: 44/50 (6 PAUSED, 4 RUNNING, 34 TERMINATED)\n",
            "\n",
            "\n",
            "Trial trainable_func_ed3da9da reported epoch=6,loss=0.5827569736602229,should_checkpoint=True with parameters={'act1 ': 'relu', 'act2': 'relu', 'act3': 'selu', 'lr': 0.001, 'batch_size': 16, 'hidden_dim1': 270.0, 'hidden_dim2': 270.0, 'hidden_dim3': 225.0}.\n"
          ]
        },
        {
          "output_type": "stream",
          "name": "stderr",
          "text": [
            "\u001b[2m\u001b[36m(func pid=151453)\u001b[0m 2022-07-26 12:18:08,119\tINFO trainable.py:589 -- Restored on 172.28.0.2 from checkpoint: /root/ray_results/trainable_func_2022-07-26_12-03-38/trainable_func_298fb39e_10_act1=selu,act2=relu,act3=tanh,batch_size=32,hidden_dim1=285.0000,hidden_dim2=120.0000,hidden_dim3=315.0_2022-07-26_12-05-12/checkpoint_tmpddbca3/./\n",
            "\u001b[2m\u001b[36m(func pid=151453)\u001b[0m 2022-07-26 12:18:08,120\tINFO trainable.py:597 -- Current state after restoring: {'_iteration': 49, '_timesteps_total': None, '_time_total': 110.8397479057312, '_episodes_total': None}\n"
          ]
        },
        {
          "output_type": "stream",
          "name": "stdout",
          "text": [
            "Trial trainable_func_298fb39e reported epoch=0,loss=0.05857518526957679,should_checkpoint=True with parameters={'act1 ': 'selu', 'act2': 'relu', 'act3': 'tanh', 'lr': 0.0005, 'batch_size': 32, 'hidden_dim1': 285.0, 'hidden_dim2': 120.0, 'hidden_dim3': 315.0}. This trial completed.\n",
            "Trial trainable_func_eb909624 reported epoch=8,loss=0.5645671844158817,should_checkpoint=True with parameters={'act1 ': 'relu', 'act2': 'relu', 'act3': 'selu', 'lr': 0.001, 'batch_size': 16, 'hidden_dim1': 270.0, 'hidden_dim2': 270.0, 'hidden_dim3': 210.0}.\n",
            "Trial trainable_func_f5108b1e reported epoch=5,loss=0.6780761055923057,should_checkpoint=True with parameters={'act1 ': 'relu', 'act2': 'relu', 'act3': 'selu', 'lr': 0.001, 'batch_size': 16, 'hidden_dim1': 270.0, 'hidden_dim2': 270.0, 'hidden_dim3': 225.0}.\n",
            "== Status ==\n",
            "Current time: 2022-07-26 12:18:12 (running for 00:14:33.73)\n",
            "Memory usage on this node: 2.3/12.7 GiB\n",
            "Using MedianStoppingRule: num_stopped=25.\n",
            "Resources requested: 2.0/2 CPUs, 0/0 GPUs, 0.0/7.46 GiB heap, 0.0/3.73 GiB objects\n",
            "Result logdir: /root/ray_results/trainable_func_2022-07-26_12-03-38\n",
            "Number of trials: 45/50 (6 PAUSED, 4 RUNNING, 35 TERMINATED)\n",
            "\n",
            "\n",
            "Trial trainable_func_035cc7d2 reported epoch=0,loss=0.8227929106603069,should_checkpoint=True with parameters={'act1 ': 'relu', 'act2': 'relu', 'act3': 'tanh', 'lr': 0.0005, 'batch_size': 32, 'hidden_dim1': 270.0, 'hidden_dim2': 180.0, 'hidden_dim3': 300.0}.\n",
            "Trial trainable_func_ed3da9da reported epoch=7,loss=0.7870352192786534,should_checkpoint=True with parameters={'act1 ': 'relu', 'act2': 'relu', 'act3': 'selu', 'lr': 0.001, 'batch_size': 16, 'hidden_dim1': 270.0, 'hidden_dim2': 270.0, 'hidden_dim3': 225.0}.\n",
            "Trial trainable_func_eb909624 reported epoch=9,loss=0.5937777851396664,should_checkpoint=True with parameters={'act1 ': 'relu', 'act2': 'relu', 'act3': 'selu', 'lr': 0.001, 'batch_size': 16, 'hidden_dim1': 270.0, 'hidden_dim2': 270.0, 'hidden_dim3': 210.0}.\n",
            "Trial trainable_func_f5108b1e reported epoch=6,loss=0.7113274810839281,should_checkpoint=True with parameters={'act1 ': 'relu', 'act2': 'relu', 'act3': 'selu', 'lr': 0.001, 'batch_size': 16, 'hidden_dim1': 270.0, 'hidden_dim2': 270.0, 'hidden_dim3': 225.0}.\n",
            "== Status ==\n",
            "Current time: 2022-07-26 12:18:17 (running for 00:14:38.94)\n",
            "Memory usage on this node: 2.3/12.7 GiB\n",
            "Using MedianStoppingRule: num_stopped=25.\n",
            "Resources requested: 2.0/2 CPUs, 0/0 GPUs, 0.0/7.46 GiB heap, 0.0/3.73 GiB objects\n",
            "Result logdir: /root/ray_results/trainable_func_2022-07-26_12-03-38\n",
            "Number of trials: 45/50 (6 PAUSED, 4 RUNNING, 35 TERMINATED)\n",
            "\n",
            "\n",
            "Trial trainable_func_ed3da9da reported epoch=8,loss=0.5267871618430225,should_checkpoint=True with parameters={'act1 ': 'relu', 'act2': 'relu', 'act3': 'selu', 'lr': 0.001, 'batch_size': 16, 'hidden_dim1': 270.0, 'hidden_dim2': 270.0, 'hidden_dim3': 225.0}.\n",
            "Trial trainable_func_035cc7d2 reported epoch=3,loss=0.5564991891266986,should_checkpoint=True with parameters={'act1 ': 'relu', 'act2': 'relu', 'act3': 'tanh', 'lr': 0.0005, 'batch_size': 32, 'hidden_dim1': 270.0, 'hidden_dim2': 180.0, 'hidden_dim3': 300.0}.\n",
            "Trial trainable_func_eb909624 reported epoch=10,loss=0.5927245978576029,should_checkpoint=True with parameters={'act1 ': 'relu', 'act2': 'relu', 'act3': 'selu', 'lr': 0.001, 'batch_size': 16, 'hidden_dim1': 270.0, 'hidden_dim2': 270.0, 'hidden_dim3': 210.0}. This trial completed.\n",
            "Trial trainable_func_f5108b1e reported epoch=7,loss=0.6540754104058785,should_checkpoint=True with parameters={'act1 ': 'relu', 'act2': 'relu', 'act3': 'selu', 'lr': 0.001, 'batch_size': 16, 'hidden_dim1': 270.0, 'hidden_dim2': 270.0, 'hidden_dim3': 225.0}.\n",
            "== Status ==\n",
            "Current time: 2022-07-26 12:18:22 (running for 00:14:44.22)\n",
            "Memory usage on this node: 2.3/12.7 GiB\n",
            "Using MedianStoppingRule: num_stopped=26.\n",
            "Resources requested: 2.0/2 CPUs, 0/0 GPUs, 0.0/7.46 GiB heap, 0.0/3.73 GiB objects\n",
            "Result logdir: /root/ray_results/trainable_func_2022-07-26_12-03-38\n",
            "Number of trials: 46/50 (6 PAUSED, 4 RUNNING, 36 TERMINATED)\n",
            "\n",
            "\n",
            "Trial trainable_func_0994af84 reported epoch=0,loss=0.93010666221004,should_checkpoint=True with parameters={'act1 ': 'selu', 'act2': 'relu', 'act3': 'tanh', 'lr': 0.0005, 'batch_size': 32, 'hidden_dim1': 300.0, 'hidden_dim2': 180.0, 'hidden_dim3': 300.0}.\n",
            "Trial trainable_func_ed3da9da reported epoch=9,loss=0.559686442600255,should_checkpoint=True with parameters={'act1 ': 'relu', 'act2': 'relu', 'act3': 'selu', 'lr': 0.001, 'batch_size': 16, 'hidden_dim1': 270.0, 'hidden_dim2': 270.0, 'hidden_dim3': 225.0}.\n",
            "Trial trainable_func_035cc7d2 reported epoch=6,loss=0.5266109162464803,should_checkpoint=True with parameters={'act1 ': 'relu', 'act2': 'relu', 'act3': 'tanh', 'lr': 0.0005, 'batch_size': 32, 'hidden_dim1': 270.0, 'hidden_dim2': 180.0, 'hidden_dim3': 300.0}.\n",
            "Trial trainable_func_f5108b1e reported epoch=8,loss=0.6005784688145892,should_checkpoint=True with parameters={'act1 ': 'relu', 'act2': 'relu', 'act3': 'selu', 'lr': 0.001, 'batch_size': 16, 'hidden_dim1': 270.0, 'hidden_dim2': 270.0, 'hidden_dim3': 225.0}.\n",
            "== Status ==\n",
            "Current time: 2022-07-26 12:18:28 (running for 00:14:49.94)\n",
            "Memory usage on this node: 2.3/12.7 GiB\n",
            "Using MedianStoppingRule: num_stopped=26.\n",
            "Resources requested: 2.0/2 CPUs, 0/0 GPUs, 0.0/7.46 GiB heap, 0.0/3.73 GiB objects\n",
            "Result logdir: /root/ray_results/trainable_func_2022-07-26_12-03-38\n",
            "Number of trials: 46/50 (6 PAUSED, 4 RUNNING, 36 TERMINATED)\n",
            "\n",
            "\n",
            "Trial trainable_func_ed3da9da reported epoch=10,loss=0.5509248080318657,should_checkpoint=True with parameters={'act1 ': 'relu', 'act2': 'relu', 'act3': 'selu', 'lr': 0.001, 'batch_size': 16, 'hidden_dim1': 270.0, 'hidden_dim2': 270.0, 'hidden_dim3': 225.0}.\n",
            "Trial trainable_func_0994af84 reported epoch=3,loss=0.6368399490986095,should_checkpoint=True with parameters={'act1 ': 'selu', 'act2': 'relu', 'act3': 'tanh', 'lr': 0.0005, 'batch_size': 32, 'hidden_dim1': 300.0, 'hidden_dim2': 180.0, 'hidden_dim3': 300.0}.\n",
            "Trial trainable_func_035cc7d2 reported epoch=9,loss=0.5039723390022675,should_checkpoint=True with parameters={'act1 ': 'relu', 'act2': 'relu', 'act3': 'tanh', 'lr': 0.0005, 'batch_size': 32, 'hidden_dim1': 270.0, 'hidden_dim2': 180.0, 'hidden_dim3': 300.0}.\n",
            "Trial trainable_func_f5108b1e reported epoch=9,loss=0.5596498006183444,should_checkpoint=True with parameters={'act1 ': 'relu', 'act2': 'relu', 'act3': 'selu', 'lr': 0.001, 'batch_size': 16, 'hidden_dim1': 270.0, 'hidden_dim2': 270.0, 'hidden_dim3': 225.0}. This trial completed.\n",
            "== Status ==\n",
            "Current time: 2022-07-26 12:18:33 (running for 00:14:55.16)\n",
            "Memory usage on this node: 2.3/12.7 GiB\n",
            "Using MedianStoppingRule: num_stopped=27.\n",
            "Resources requested: 2.0/2 CPUs, 0/0 GPUs, 0.0/7.46 GiB heap, 0.0/3.73 GiB objects\n",
            "Result logdir: /root/ray_results/trainable_func_2022-07-26_12-03-38\n",
            "Number of trials: 46/50 (6 PAUSED, 4 RUNNING, 36 TERMINATED)\n",
            "\n",
            "\n",
            "Trial trainable_func_ed3da9da reported epoch=11,loss=0.5365782608286709,should_checkpoint=True with parameters={'act1 ': 'relu', 'act2': 'relu', 'act3': 'selu', 'lr': 0.001, 'batch_size': 16, 'hidden_dim1': 270.0, 'hidden_dim2': 270.0, 'hidden_dim3': 225.0}. This trial completed.\n",
            "Trial trainable_func_114ff166 reported epoch=0,loss=1.0710265042224902,should_checkpoint=True with parameters={'act1 ': 'selu', 'act2': 'relu', 'act3': 'tanh', 'lr': 0.0006000000000000001, 'batch_size': 32, 'hidden_dim1': 300.0, 'hidden_dim2': 165.0, 'hidden_dim3': 300.0}.\n",
            "Trial trainable_func_0994af84 reported epoch=6,loss=0.632897591750146,should_checkpoint=True with parameters={'act1 ': 'selu', 'act2': 'relu', 'act3': 'tanh', 'lr': 0.0005, 'batch_size': 32, 'hidden_dim1': 300.0, 'hidden_dim2': 180.0, 'hidden_dim3': 300.0}.\n",
            "Trial trainable_func_11e2d0d0 reported epoch=0,loss=0.8347419609028619,should_checkpoint=True with parameters={'act1 ': 'selu', 'act2': 'relu', 'act3': 'tanh', 'lr': 0.0005, 'batch_size': 32, 'hidden_dim1': 300.0, 'hidden_dim2': 165.0, 'hidden_dim3': 300.0}.\n",
            "Trial trainable_func_035cc7d2 reported epoch=12,loss=0.4991192114323719,should_checkpoint=True with parameters={'act1 ': 'relu', 'act2': 'relu', 'act3': 'tanh', 'lr': 0.0005, 'batch_size': 32, 'hidden_dim1': 270.0, 'hidden_dim2': 180.0, 'hidden_dim3': 300.0}. This trial completed.\n",
            "== Status ==\n",
            "Current time: 2022-07-26 12:18:39 (running for 00:15:00.87)\n",
            "Memory usage on this node: 2.3/12.7 GiB\n",
            "Using MedianStoppingRule: num_stopped=29.\n",
            "Resources requested: 2.0/2 CPUs, 0/0 GPUs, 0.0/7.46 GiB heap, 0.0/3.73 GiB objects\n",
            "Result logdir: /root/ray_results/trainable_func_2022-07-26_12-03-38\n",
            "Number of trials: 48/50 (6 PAUSED, 4 RUNNING, 38 TERMINATED)\n",
            "\n",
            "\n",
            "Trial trainable_func_14b6f994 reported epoch=0,loss=1.1205278537660113,should_checkpoint=True with parameters={'act1 ': 'selu', 'act2': 'tanh', 'act3': 'tanh', 'lr': 0.0006000000000000001, 'batch_size': 32, 'hidden_dim1': 300.0, 'hidden_dim2': 165.0, 'hidden_dim3': 315.0}.\n",
            "Trial trainable_func_114ff166 reported epoch=3,loss=0.6142395564974872,should_checkpoint=True with parameters={'act1 ': 'selu', 'act2': 'relu', 'act3': 'tanh', 'lr': 0.0006000000000000001, 'batch_size': 32, 'hidden_dim1': 300.0, 'hidden_dim2': 165.0, 'hidden_dim3': 300.0}.\n",
            "Trial trainable_func_0994af84 reported epoch=9,loss=0.5888588826329678,should_checkpoint=True with parameters={'act1 ': 'selu', 'act2': 'relu', 'act3': 'tanh', 'lr': 0.0005, 'batch_size': 32, 'hidden_dim1': 300.0, 'hidden_dim2': 180.0, 'hidden_dim3': 300.0}. This trial completed.\n",
            "Trial trainable_func_11e2d0d0 reported epoch=3,loss=0.6050419021555363,should_checkpoint=True with parameters={'act1 ': 'selu', 'act2': 'relu', 'act3': 'tanh', 'lr': 0.0005, 'batch_size': 32, 'hidden_dim1': 300.0, 'hidden_dim2': 165.0, 'hidden_dim3': 300.0}.\n",
            "== Status ==\n",
            "Current time: 2022-07-26 12:18:44 (running for 00:15:05.95)\n",
            "Memory usage on this node: 2.3/12.7 GiB\n",
            "Using MedianStoppingRule: num_stopped=30.\n",
            "Resources requested: 2.0/2 CPUs, 0/0 GPUs, 0.0/7.46 GiB heap, 0.0/3.73 GiB objects\n",
            "Result logdir: /root/ray_results/trainable_func_2022-07-26_12-03-38\n",
            "Number of trials: 50/50 (6 PAUSED, 4 RUNNING, 40 TERMINATED)\n",
            "\n",
            "\n",
            "Trial trainable_func_173b0192 reported epoch=0,loss=0.9737565862175408,should_checkpoint=True with parameters={'act1 ': 'selu', 'act2': 'tanh', 'act3': 'tanh', 'lr': 0.0006000000000000001, 'batch_size': 32, 'hidden_dim1': 150.0, 'hidden_dim2': 150.0, 'hidden_dim3': 315.0}.\n",
            "Trial trainable_func_14b6f994 reported epoch=3,loss=0.6247933756576208,should_checkpoint=True with parameters={'act1 ': 'selu', 'act2': 'tanh', 'act3': 'tanh', 'lr': 0.0006000000000000001, 'batch_size': 32, 'hidden_dim1': 300.0, 'hidden_dim2': 165.0, 'hidden_dim3': 315.0}.\n",
            "Trial trainable_func_114ff166 reported epoch=6,loss=0.48509302704755003,should_checkpoint=True with parameters={'act1 ': 'selu', 'act2': 'relu', 'act3': 'tanh', 'lr': 0.0006000000000000001, 'batch_size': 32, 'hidden_dim1': 300.0, 'hidden_dim2': 165.0, 'hidden_dim3': 300.0}.\n",
            "== Status ==\n",
            "Current time: 2022-07-26 12:18:49 (running for 00:15:11.50)\n",
            "Memory usage on this node: 2.3/12.7 GiB\n",
            "Using MedianStoppingRule: num_stopped=30.\n",
            "Resources requested: 2.0/2 CPUs, 0/0 GPUs, 0.0/7.46 GiB heap, 0.0/3.73 GiB objects\n",
            "Result logdir: /root/ray_results/trainable_func_2022-07-26_12-03-38\n",
            "Number of trials: 50/50 (6 PAUSED, 4 RUNNING, 40 TERMINATED)\n",
            "\n",
            "\n",
            "Trial trainable_func_11e2d0d0 reported epoch=6,loss=0.5792610602501818,should_checkpoint=True with parameters={'act1 ': 'selu', 'act2': 'relu', 'act3': 'tanh', 'lr': 0.0005, 'batch_size': 32, 'hidden_dim1': 300.0, 'hidden_dim2': 165.0, 'hidden_dim3': 300.0}.\n",
            "Trial trainable_func_173b0192 reported epoch=3,loss=0.642810608107038,should_checkpoint=True with parameters={'act1 ': 'selu', 'act2': 'tanh', 'act3': 'tanh', 'lr': 0.0006000000000000001, 'batch_size': 32, 'hidden_dim1': 150.0, 'hidden_dim2': 150.0, 'hidden_dim3': 315.0}.\n",
            "== Status ==\n",
            "Current time: 2022-07-26 12:18:55 (running for 00:15:17.32)\n",
            "Memory usage on this node: 2.3/12.7 GiB\n",
            "Using MedianStoppingRule: num_stopped=30.\n",
            "Resources requested: 2.0/2 CPUs, 0/0 GPUs, 0.0/7.46 GiB heap, 0.0/3.73 GiB objects\n",
            "Result logdir: /root/ray_results/trainable_func_2022-07-26_12-03-38\n",
            "Number of trials: 50/50 (6 PAUSED, 4 RUNNING, 40 TERMINATED)\n",
            "\n",
            "\n",
            "Trial trainable_func_14b6f994 reported epoch=6,loss=0.6202794649427904,should_checkpoint=True with parameters={'act1 ': 'selu', 'act2': 'tanh', 'act3': 'tanh', 'lr': 0.0006000000000000001, 'batch_size': 32, 'hidden_dim1': 300.0, 'hidden_dim2': 165.0, 'hidden_dim3': 315.0}.\n",
            "Trial trainable_func_114ff166 reported epoch=9,loss=0.48440626158100386,should_checkpoint=True with parameters={'act1 ': 'selu', 'act2': 'relu', 'act3': 'tanh', 'lr': 0.0006000000000000001, 'batch_size': 32, 'hidden_dim1': 300.0, 'hidden_dim2': 165.0, 'hidden_dim3': 300.0}.\n",
            "Trial trainable_func_173b0192 reported epoch=6,loss=0.5912967016201768,should_checkpoint=True with parameters={'act1 ': 'selu', 'act2': 'tanh', 'act3': 'tanh', 'lr': 0.0006000000000000001, 'batch_size': 32, 'hidden_dim1': 150.0, 'hidden_dim2': 150.0, 'hidden_dim3': 315.0}.\n",
            "Trial trainable_func_11e2d0d0 reported epoch=9,loss=0.5653489246905391,should_checkpoint=True with parameters={'act1 ': 'selu', 'act2': 'relu', 'act3': 'tanh', 'lr': 0.0005, 'batch_size': 32, 'hidden_dim1': 300.0, 'hidden_dim2': 165.0, 'hidden_dim3': 300.0}. This trial completed.\n"
          ]
        },
        {
          "output_type": "stream",
          "name": "stderr",
          "text": [
            "\u001b[2m\u001b[36m(func pid=151415)\u001b[0m 2022-07-26 12:18:59,003\tINFO trainable.py:589 -- Restored on 172.28.0.2 from checkpoint: /root/ray_results/trainable_func_2022-07-26_12-03-38/trainable_func_723b597c_11_act1=relu,act2=tanh,act3=tanh,batch_size=16,hidden_dim1=300.0000,hidden_dim2=180.0000,hidden_dim3=180.0_2022-07-26_12-06-57/checkpoint_tmpdd4803/./\n",
            "\u001b[2m\u001b[36m(func pid=151415)\u001b[0m 2022-07-26 12:18:59,003\tINFO trainable.py:597 -- Current state after restoring: {'_iteration': 11, '_timesteps_total': None, '_time_total': 42.36622095108032, '_episodes_total': None}\n"
          ]
        },
        {
          "output_type": "stream",
          "name": "stdout",
          "text": [
            "== Status ==\n",
            "Current time: 2022-07-26 12:19:01 (running for 00:15:22.96)\n",
            "Memory usage on this node: 2.3/12.7 GiB\n",
            "Using MedianStoppingRule: num_stopped=31.\n",
            "Resources requested: 2.0/2 CPUs, 0/0 GPUs, 0.0/7.46 GiB heap, 0.0/3.73 GiB objects\n",
            "Result logdir: /root/ray_results/trainable_func_2022-07-26_12-03-38\n",
            "Number of trials: 50/50 (5 PAUSED, 4 RUNNING, 41 TERMINATED)\n",
            "\n",
            "\n",
            "Trial trainable_func_114ff166 reported epoch=11,loss=0.5867488675758212,should_checkpoint=True with parameters={'act1 ': 'selu', 'act2': 'relu', 'act3': 'tanh', 'lr': 0.0006000000000000001, 'batch_size': 32, 'hidden_dim1': 300.0, 'hidden_dim2': 165.0, 'hidden_dim3': 300.0}.\n",
            "Trial trainable_func_14b6f994 reported epoch=9,loss=0.5580642299112774,should_checkpoint=True with parameters={'act1 ': 'selu', 'act2': 'tanh', 'act3': 'tanh', 'lr': 0.0006000000000000001, 'batch_size': 32, 'hidden_dim1': 300.0, 'hidden_dim2': 165.0, 'hidden_dim3': 315.0}.\n",
            "Trial trainable_func_173b0192 reported epoch=9,loss=0.5522414169011567,should_checkpoint=True with parameters={'act1 ': 'selu', 'act2': 'tanh', 'act3': 'tanh', 'lr': 0.0006000000000000001, 'batch_size': 32, 'hidden_dim1': 150.0, 'hidden_dim2': 150.0, 'hidden_dim3': 315.0}.\n",
            "Trial trainable_func_723b597c reported epoch=0,loss=0.3415070165631572,should_checkpoint=True with parameters={'act1 ': 'relu', 'act2': 'tanh', 'act3': 'tanh', 'lr': 0.0008, 'batch_size': 16, 'hidden_dim1': 300.0, 'hidden_dim2': 180.0, 'hidden_dim3': 180.0}.\n",
            "Trial trainable_func_14b6f994 reported epoch=10,loss=0.539740960077195,should_checkpoint=True with parameters={'act1 ': 'selu', 'act2': 'tanh', 'act3': 'tanh', 'lr': 0.0006000000000000001, 'batch_size': 32, 'hidden_dim1': 300.0, 'hidden_dim2': 165.0, 'hidden_dim3': 315.0}. This trial completed.\n",
            "Trial trainable_func_173b0192 reported epoch=10,loss=0.5532730801164332,should_checkpoint=True with parameters={'act1 ': 'selu', 'act2': 'tanh', 'act3': 'tanh', 'lr': 0.0006000000000000001, 'batch_size': 32, 'hidden_dim1': 150.0, 'hidden_dim2': 150.0, 'hidden_dim3': 315.0}. This trial completed.\n"
          ]
        },
        {
          "output_type": "stream",
          "name": "stderr",
          "text": [
            "\u001b[2m\u001b[36m(func pid=151453)\u001b[0m 2022-07-26 12:19:05,190\tINFO trainable.py:589 -- Restored on 172.28.0.2 from checkpoint: /root/ray_results/trainable_func_2022-07-26_12-03-38/trainable_func_863efd20_12_act1=selu,act2=tanh,act3=selu,batch_size=16,hidden_dim1=300.0000,hidden_dim2=225.0000,hidden_dim3=270.0_2022-07-26_12-07-30/checkpoint_tmpc49fda/./\n",
            "\u001b[2m\u001b[36m(func pid=151453)\u001b[0m 2022-07-26 12:19:05,190\tINFO trainable.py:597 -- Current state after restoring: {'_iteration': 11, '_timesteps_total': None, '_time_total': 47.00433540344238, '_episodes_total': None}\n",
            "\u001b[2m\u001b[36m(func pid=151414)\u001b[0m 2022-07-26 12:19:05,398\tINFO trainable.py:589 -- Restored on 172.28.0.2 from checkpoint: /root/ray_results/trainable_func_2022-07-26_12-03-38/trainable_func_b5de167e_14_act1=selu,act2=selu,act3=selu,batch_size=64,hidden_dim1=240.0000,hidden_dim2=270.0000,hidden_dim3=135.0_2022-07-26_12-08-50/checkpoint_tmpb8bed9/./\n",
            "\u001b[2m\u001b[36m(func pid=151414)\u001b[0m 2022-07-26 12:19:05,399\tINFO trainable.py:597 -- Current state after restoring: {'_iteration': 11, '_timesteps_total': None, '_time_total': 14.847983121871948, '_episodes_total': None}\n"
          ]
        },
        {
          "output_type": "stream",
          "name": "stdout",
          "text": [
            "Trial trainable_func_b5de167e reported epoch=0,loss=0.32621570162196967,should_checkpoint=True with parameters={'act1 ': 'selu', 'act2': 'selu', 'act3': 'selu', 'lr': 0.0007, 'batch_size': 64, 'hidden_dim1': 240.0, 'hidden_dim2': 270.0, 'hidden_dim3': 135.0}.\n",
            "== Status ==\n",
            "Current time: 2022-07-26 12:19:06 (running for 00:15:28.29)\n",
            "Memory usage on this node: 2.3/12.7 GiB\n",
            "Using MedianStoppingRule: num_stopped=33.\n",
            "Resources requested: 2.0/2 CPUs, 0/0 GPUs, 0.0/7.46 GiB heap, 0.0/3.73 GiB objects\n",
            "Result logdir: /root/ray_results/trainable_func_2022-07-26_12-03-38\n",
            "Number of trials: 50/50 (3 PAUSED, 4 RUNNING, 43 TERMINATED)\n",
            "\n",
            "\n",
            "Trial trainable_func_114ff166 reported epoch=13,loss=0.5122349532292818,should_checkpoint=True with parameters={'act1 ': 'selu', 'act2': 'relu', 'act3': 'tanh', 'lr': 0.0006000000000000001, 'batch_size': 32, 'hidden_dim1': 300.0, 'hidden_dim2': 165.0, 'hidden_dim3': 300.0}. This trial completed.\n"
          ]
        },
        {
          "output_type": "stream",
          "name": "stderr",
          "text": [
            "\u001b[2m\u001b[36m(func pid=151479)\u001b[0m 2022-07-26 12:19:07,208\tINFO trainable.py:589 -- Restored on 172.28.0.2 from checkpoint: /root/ray_results/trainable_func_2022-07-26_12-03-38/trainable_func_3823def2_22_act1=relu,act2=relu,act3=relu,batch_size=16,hidden_dim1=270.0000,hidden_dim2=255.0000,hidden_dim3=120.0_2022-07-26_12-12-29/checkpoint_tmp4f5730/./\n",
            "\u001b[2m\u001b[36m(func pid=151479)\u001b[0m 2022-07-26 12:19:07,208\tINFO trainable.py:597 -- Current state after restoring: {'_iteration': 12, '_timesteps_total': None, '_time_total': 57.31794214248657, '_episodes_total': None}\n"
          ]
        },
        {
          "output_type": "stream",
          "name": "stdout",
          "text": [
            "Trial trainable_func_863efd20 reported epoch=0,loss=0.32868830415053946,should_checkpoint=True with parameters={'act1 ': 'selu', 'act2': 'tanh', 'act3': 'selu', 'lr': 0.0007, 'batch_size': 16, 'hidden_dim1': 300.0, 'hidden_dim2': 225.0, 'hidden_dim3': 270.0}.\n",
            "Trial trainable_func_b5de167e reported epoch=4,loss=0.29840183317485974,should_checkpoint=True with parameters={'act1 ': 'selu', 'act2': 'selu', 'act3': 'selu', 'lr': 0.0007, 'batch_size': 64, 'hidden_dim1': 240.0, 'hidden_dim2': 270.0, 'hidden_dim3': 135.0}.\n",
            "== Status ==\n",
            "Current time: 2022-07-26 12:19:11 (running for 00:15:33.43)\n",
            "Memory usage on this node: 2.3/12.7 GiB\n",
            "Using MedianStoppingRule: num_stopped=34.\n",
            "Resources requested: 2.0/2 CPUs, 0/0 GPUs, 0.0/7.46 GiB heap, 0.0/3.73 GiB objects\n",
            "Result logdir: /root/ray_results/trainable_func_2022-07-26_12-03-38\n",
            "Number of trials: 50/50 (2 PAUSED, 4 RUNNING, 44 TERMINATED)\n",
            "\n",
            "\n",
            "Trial trainable_func_3823def2 reported epoch=0,loss=0.27648452923003375,should_checkpoint=True with parameters={'act1 ': 'relu', 'act2': 'relu', 'act3': 'relu', 'lr': 0.0008, 'batch_size': 16, 'hidden_dim1': 270.0, 'hidden_dim2': 255.0, 'hidden_dim3': 120.0}.\n",
            "Trial trainable_func_723b597c reported epoch=2,loss=0.3077475232313508,should_checkpoint=True with parameters={'act1 ': 'relu', 'act2': 'tanh', 'act3': 'tanh', 'lr': 0.0008, 'batch_size': 16, 'hidden_dim1': 300.0, 'hidden_dim2': 180.0, 'hidden_dim3': 180.0}.\n",
            "== Status ==\n",
            "Current time: 2022-07-26 12:19:17 (running for 00:15:38.74)\n",
            "Memory usage on this node: 2.3/12.7 GiB\n",
            "Using MedianStoppingRule: num_stopped=34.\n",
            "Resources requested: 2.0/2 CPUs, 0/0 GPUs, 0.0/7.46 GiB heap, 0.0/3.73 GiB objects\n",
            "Result logdir: /root/ray_results/trainable_func_2022-07-26_12-03-38\n",
            "Number of trials: 50/50 (2 PAUSED, 4 RUNNING, 44 TERMINATED)\n",
            "\n",
            "\n",
            "Trial trainable_func_b5de167e reported epoch=8,loss=0.3170893281486017,should_checkpoint=True with parameters={'act1 ': 'selu', 'act2': 'selu', 'act3': 'selu', 'lr': 0.0007, 'batch_size': 64, 'hidden_dim1': 240.0, 'hidden_dim2': 270.0, 'hidden_dim3': 135.0}.\n",
            "Trial trainable_func_863efd20 reported epoch=2,loss=0.30046944615499327,should_checkpoint=True with parameters={'act1 ': 'selu', 'act2': 'tanh', 'act3': 'selu', 'lr': 0.0007, 'batch_size': 16, 'hidden_dim1': 300.0, 'hidden_dim2': 225.0, 'hidden_dim3': 270.0}.\n",
            "Trial trainable_func_723b597c reported epoch=4,loss=0.31232643152010364,should_checkpoint=True with parameters={'act1 ': 'relu', 'act2': 'tanh', 'act3': 'tanh', 'lr': 0.0008, 'batch_size': 16, 'hidden_dim1': 300.0, 'hidden_dim2': 180.0, 'hidden_dim3': 180.0}.\n",
            "Trial trainable_func_3823def2 reported epoch=2,loss=0.3053935917078189,should_checkpoint=True with parameters={'act1 ': 'relu', 'act2': 'relu', 'act3': 'relu', 'lr': 0.0008, 'batch_size': 16, 'hidden_dim1': 270.0, 'hidden_dim2': 255.0, 'hidden_dim3': 120.0}.\n",
            "== Status ==\n",
            "Current time: 2022-07-26 12:19:22 (running for 00:15:43.75)\n",
            "Memory usage on this node: 2.3/12.7 GiB\n",
            "Using MedianStoppingRule: num_stopped=34.\n",
            "Resources requested: 2.0/2 CPUs, 0/0 GPUs, 0.0/7.46 GiB heap, 0.0/3.73 GiB objects\n",
            "Result logdir: /root/ray_results/trainable_func_2022-07-26_12-03-38\n",
            "Number of trials: 50/50 (2 PAUSED, 4 RUNNING, 44 TERMINATED)\n",
            "\n",
            "\n",
            "Trial trainable_func_b5de167e reported epoch=12,loss=0.3251353676396751,should_checkpoint=True with parameters={'act1 ': 'selu', 'act2': 'selu', 'act3': 'selu', 'lr': 0.0007, 'batch_size': 64, 'hidden_dim1': 240.0, 'hidden_dim2': 270.0, 'hidden_dim3': 135.0}.\n",
            "Trial trainable_func_b5de167e reported epoch=13,loss=0.31263029605668774,should_checkpoint=True with parameters={'act1 ': 'selu', 'act2': 'selu', 'act3': 'selu', 'lr': 0.0007, 'batch_size': 64, 'hidden_dim1': 240.0, 'hidden_dim2': 270.0, 'hidden_dim3': 135.0}. This trial completed.\n"
          ]
        },
        {
          "output_type": "stream",
          "name": "stderr",
          "text": [
            "\u001b[2m\u001b[36m(func pid=151414)\u001b[0m 2022-07-26 12:19:24,553\tINFO trainable.py:589 -- Restored on 172.28.0.2 from checkpoint: /root/ray_results/trainable_func_2022-07-26_12-03-38/trainable_func_49c4dc60_23_act1=relu,act2=relu,act3=relu,batch_size=16,hidden_dim1=285.0000,hidden_dim2=255.0000,hidden_dim3=120.0_2022-07-26_12-12-59/checkpoint_tmpc34103/./\n",
            "\u001b[2m\u001b[36m(func pid=151414)\u001b[0m 2022-07-26 12:19:24,553\tINFO trainable.py:597 -- Current state after restoring: {'_iteration': 12, '_timesteps_total': None, '_time_total': 56.51489186286926, '_episodes_total': None}\n"
          ]
        },
        {
          "output_type": "stream",
          "name": "stdout",
          "text": [
            "Trial trainable_func_863efd20 reported epoch=4,loss=0.33844293847607154,should_checkpoint=True with parameters={'act1 ': 'selu', 'act2': 'tanh', 'act3': 'selu', 'lr': 0.0007, 'batch_size': 16, 'hidden_dim1': 300.0, 'hidden_dim2': 225.0, 'hidden_dim3': 270.0}.\n",
            "== Status ==\n",
            "Current time: 2022-07-26 12:19:28 (running for 00:15:50.26)\n",
            "Memory usage on this node: 2.3/12.7 GiB\n",
            "Using MedianStoppingRule: num_stopped=35.\n",
            "Resources requested: 2.0/2 CPUs, 0/0 GPUs, 0.0/7.46 GiB heap, 0.0/3.73 GiB objects\n",
            "Result logdir: /root/ray_results/trainable_func_2022-07-26_12-03-38\n",
            "Number of trials: 50/50 (1 PAUSED, 4 RUNNING, 45 TERMINATED)\n",
            "\n",
            "\n",
            "Trial trainable_func_49c4dc60 reported epoch=0,loss=0.3827604534613878,should_checkpoint=True with parameters={'act1 ': 'relu', 'act2': 'relu', 'act3': 'relu', 'lr': 0.0008, 'batch_size': 16, 'hidden_dim1': 285.0, 'hidden_dim2': 255.0, 'hidden_dim3': 120.0}.\n",
            "Trial trainable_func_723b597c reported epoch=6,loss=0.3240832802921839,should_checkpoint=True with parameters={'act1 ': 'relu', 'act2': 'tanh', 'act3': 'tanh', 'lr': 0.0008, 'batch_size': 16, 'hidden_dim1': 300.0, 'hidden_dim2': 180.0, 'hidden_dim3': 180.0}.\n",
            "Trial trainable_func_3823def2 reported epoch=4,loss=0.2778203609683859,should_checkpoint=True with parameters={'act1 ': 'relu', 'act2': 'relu', 'act3': 'relu', 'lr': 0.0008, 'batch_size': 16, 'hidden_dim1': 270.0, 'hidden_dim2': 255.0, 'hidden_dim3': 120.0}.\n",
            "Trial trainable_func_863efd20 reported epoch=5,loss=0.3561626330368528,should_checkpoint=True with parameters={'act1 ': 'selu', 'act2': 'tanh', 'act3': 'selu', 'lr': 0.0007, 'batch_size': 16, 'hidden_dim1': 300.0, 'hidden_dim2': 225.0, 'hidden_dim3': 270.0}.\n",
            "== Status ==\n",
            "Current time: 2022-07-26 12:19:33 (running for 00:15:55.28)\n",
            "Memory usage on this node: 2.3/12.7 GiB\n",
            "Using MedianStoppingRule: num_stopped=35.\n",
            "Resources requested: 2.0/2 CPUs, 0/0 GPUs, 0.0/7.46 GiB heap, 0.0/3.73 GiB objects\n",
            "Result logdir: /root/ray_results/trainable_func_2022-07-26_12-03-38\n",
            "Number of trials: 50/50 (1 PAUSED, 4 RUNNING, 45 TERMINATED)\n",
            "\n",
            "\n",
            "Trial trainable_func_723b597c reported epoch=8,loss=0.3220618964142873,should_checkpoint=True with parameters={'act1 ': 'relu', 'act2': 'tanh', 'act3': 'tanh', 'lr': 0.0008, 'batch_size': 16, 'hidden_dim1': 300.0, 'hidden_dim2': 180.0, 'hidden_dim3': 180.0}.\n",
            "Trial trainable_func_49c4dc60 reported epoch=2,loss=0.35025246932843185,should_checkpoint=True with parameters={'act1 ': 'relu', 'act2': 'relu', 'act3': 'relu', 'lr': 0.0008, 'batch_size': 16, 'hidden_dim1': 285.0, 'hidden_dim2': 255.0, 'hidden_dim3': 120.0}.\n",
            "Trial trainable_func_3823def2 reported epoch=6,loss=0.2647979262572314,should_checkpoint=True with parameters={'act1 ': 'relu', 'act2': 'relu', 'act3': 'relu', 'lr': 0.0008, 'batch_size': 16, 'hidden_dim1': 270.0, 'hidden_dim2': 255.0, 'hidden_dim3': 120.0}.\n",
            "== Status ==\n",
            "Current time: 2022-07-26 12:19:41 (running for 00:16:02.63)\n",
            "Memory usage on this node: 2.3/12.7 GiB\n",
            "Using MedianStoppingRule: num_stopped=35.\n",
            "Resources requested: 2.0/2 CPUs, 0/0 GPUs, 0.0/7.46 GiB heap, 0.0/3.73 GiB objects\n",
            "Result logdir: /root/ray_results/trainable_func_2022-07-26_12-03-38\n",
            "Number of trials: 50/50 (1 PAUSED, 4 RUNNING, 45 TERMINATED)\n",
            "\n",
            "\n",
            "Trial trainable_func_723b597c reported epoch=9,loss=0.315217930807179,should_checkpoint=True with parameters={'act1 ': 'relu', 'act2': 'tanh', 'act3': 'tanh', 'lr': 0.0008, 'batch_size': 16, 'hidden_dim1': 300.0, 'hidden_dim2': 180.0, 'hidden_dim3': 180.0}. This trial completed.\n"
          ]
        },
        {
          "output_type": "stream",
          "name": "stderr",
          "text": [
            "\u001b[2m\u001b[36m(func pid=151415)\u001b[0m 2022-07-26 12:19:42,299\tINFO trainable.py:589 -- Restored on 172.28.0.2 from checkpoint: /root/ray_results/trainable_func_2022-07-26_12-03-38/trainable_func_a0cb085e_32_act1=selu,act2=relu,act3=selu,batch_size=16,hidden_dim1=300.0000,hidden_dim2=135.0000,hidden_dim3=180.0_2022-07-26_12-15-25/checkpoint_tmpec4f1e/./\n",
            "\u001b[2m\u001b[36m(func pid=151415)\u001b[0m 2022-07-26 12:19:42,299\tINFO trainable.py:597 -- Current state after restoring: {'_iteration': 13, '_timesteps_total': None, '_time_total': 50.835614919662476, '_episodes_total': None}\n"
          ]
        },
        {
          "output_type": "stream",
          "name": "stdout",
          "text": [
            "Trial trainable_func_863efd20 reported epoch=7,loss=0.3295046428242086,should_checkpoint=True with parameters={'act1 ': 'selu', 'act2': 'tanh', 'act3': 'selu', 'lr': 0.0007, 'batch_size': 16, 'hidden_dim1': 300.0, 'hidden_dim2': 225.0, 'hidden_dim3': 270.0}.\n",
            "Trial trainable_func_a0cb085e reported epoch=0,loss=0.3263649356288803,should_checkpoint=True with parameters={'act1 ': 'selu', 'act2': 'relu', 'act3': 'selu', 'lr': 0.0009, 'batch_size': 16, 'hidden_dim1': 300.0, 'hidden_dim2': 135.0, 'hidden_dim3': 180.0}.\n",
            "== Status ==\n",
            "Current time: 2022-07-26 12:19:46 (running for 00:16:08.15)\n",
            "Memory usage on this node: 2.3/12.7 GiB\n",
            "Using MedianStoppingRule: num_stopped=36.\n",
            "Resources requested: 2.0/2 CPUs, 0/0 GPUs, 0.0/7.46 GiB heap, 0.0/3.73 GiB objects\n",
            "Result logdir: /root/ray_results/trainable_func_2022-07-26_12-03-38\n",
            "Number of trials: 50/50 (4 RUNNING, 46 TERMINATED)\n",
            "\n",
            "\n",
            "Trial trainable_func_49c4dc60 reported epoch=4,loss=0.35495883199036954,should_checkpoint=True with parameters={'act1 ': 'relu', 'act2': 'relu', 'act3': 'relu', 'lr': 0.0008, 'batch_size': 16, 'hidden_dim1': 285.0, 'hidden_dim2': 255.0, 'hidden_dim3': 120.0}.\n",
            "Trial trainable_func_3823def2 reported epoch=8,loss=0.2998403318202576,should_checkpoint=True with parameters={'act1 ': 'relu', 'act2': 'relu', 'act3': 'relu', 'lr': 0.0008, 'batch_size': 16, 'hidden_dim1': 270.0, 'hidden_dim2': 255.0, 'hidden_dim3': 120.0}.\n",
            "Trial trainable_func_863efd20 reported epoch=9,loss=0.3690963726695081,should_checkpoint=True with parameters={'act1 ': 'selu', 'act2': 'tanh', 'act3': 'selu', 'lr': 0.0007, 'batch_size': 16, 'hidden_dim1': 300.0, 'hidden_dim2': 225.0, 'hidden_dim3': 270.0}.\n",
            "== Status ==\n",
            "Current time: 2022-07-26 12:19:52 (running for 00:16:14.48)\n",
            "Memory usage on this node: 2.3/12.7 GiB\n",
            "Using MedianStoppingRule: num_stopped=36.\n",
            "Resources requested: 2.0/2 CPUs, 0/0 GPUs, 0.0/7.46 GiB heap, 0.0/3.73 GiB objects\n",
            "Result logdir: /root/ray_results/trainable_func_2022-07-26_12-03-38\n",
            "Number of trials: 50/50 (4 RUNNING, 46 TERMINATED)\n",
            "\n",
            "\n",
            "Trial trainable_func_49c4dc60 reported epoch=5,loss=0.34184710800538193,should_checkpoint=True with parameters={'act1 ': 'relu', 'act2': 'relu', 'act3': 'relu', 'lr': 0.0008, 'batch_size': 16, 'hidden_dim1': 285.0, 'hidden_dim2': 255.0, 'hidden_dim3': 120.0}.\n",
            "Trial trainable_func_a0cb085e reported epoch=2,loss=0.2832320486643559,should_checkpoint=True with parameters={'act1 ': 'selu', 'act2': 'relu', 'act3': 'selu', 'lr': 0.0009, 'batch_size': 16, 'hidden_dim1': 300.0, 'hidden_dim2': 135.0, 'hidden_dim3': 180.0}.\n",
            "Trial trainable_func_863efd20 reported epoch=10,loss=0.3830388449142414,should_checkpoint=True with parameters={'act1 ': 'selu', 'act2': 'tanh', 'act3': 'selu', 'lr': 0.0007, 'batch_size': 16, 'hidden_dim1': 300.0, 'hidden_dim2': 225.0, 'hidden_dim3': 270.0}. This trial completed.\n",
            "== Status ==\n",
            "Current time: 2022-07-26 12:19:58 (running for 00:16:19.90)\n",
            "Memory usage on this node: 2.1/12.7 GiB\n",
            "Using MedianStoppingRule: num_stopped=37.\n",
            "Resources requested: 1.5/2 CPUs, 0/0 GPUs, 0.0/7.46 GiB heap, 0.0/3.73 GiB objects\n",
            "Result logdir: /root/ray_results/trainable_func_2022-07-26_12-03-38\n",
            "Number of trials: 50/50 (3 RUNNING, 47 TERMINATED)\n",
            "\n",
            "\n",
            "Trial trainable_func_3823def2 reported epoch=10,loss=0.531825284155292,should_checkpoint=True with parameters={'act1 ': 'relu', 'act2': 'relu', 'act3': 'relu', 'lr': 0.0008, 'batch_size': 16, 'hidden_dim1': 270.0, 'hidden_dim2': 255.0, 'hidden_dim3': 120.0}.\n",
            "Trial trainable_func_a0cb085e reported epoch=4,loss=0.38375090202364986,should_checkpoint=True with parameters={'act1 ': 'selu', 'act2': 'relu', 'act3': 'selu', 'lr': 0.0009, 'batch_size': 16, 'hidden_dim1': 300.0, 'hidden_dim2': 135.0, 'hidden_dim3': 180.0}.\n",
            "Trial trainable_func_49c4dc60 reported epoch=7,loss=0.3423319704884437,should_checkpoint=True with parameters={'act1 ': 'relu', 'act2': 'relu', 'act3': 'relu', 'lr': 0.0008, 'batch_size': 16, 'hidden_dim1': 285.0, 'hidden_dim2': 255.0, 'hidden_dim3': 120.0}.\n",
            "== Status ==\n",
            "Current time: 2022-07-26 12:20:03 (running for 00:16:25.00)\n",
            "Memory usage on this node: 2.1/12.7 GiB\n",
            "Using MedianStoppingRule: num_stopped=37.\n",
            "Resources requested: 1.5/2 CPUs, 0/0 GPUs, 0.0/7.46 GiB heap, 0.0/3.73 GiB objects\n",
            "Result logdir: /root/ray_results/trainable_func_2022-07-26_12-03-38\n",
            "Number of trials: 50/50 (3 RUNNING, 47 TERMINATED)\n",
            "\n",
            "\n",
            "Trial trainable_func_49c4dc60 reported epoch=8,loss=0.3352704106961368,should_checkpoint=True with parameters={'act1 ': 'relu', 'act2': 'relu', 'act3': 'relu', 'lr': 0.0008, 'batch_size': 16, 'hidden_dim1': 285.0, 'hidden_dim2': 255.0, 'hidden_dim3': 120.0}. This trial completed.\n",
            "Trial trainable_func_3823def2 reported epoch=12,loss=0.3560907769237606,should_checkpoint=True with parameters={'act1 ': 'relu', 'act2': 'relu', 'act3': 'relu', 'lr': 0.0008, 'batch_size': 16, 'hidden_dim1': 270.0, 'hidden_dim2': 255.0, 'hidden_dim3': 120.0}.\n",
            "Trial trainable_func_a0cb085e reported epoch=6,loss=0.33169525475734446,should_checkpoint=True with parameters={'act1 ': 'selu', 'act2': 'relu', 'act3': 'selu', 'lr': 0.0009, 'batch_size': 16, 'hidden_dim1': 300.0, 'hidden_dim2': 135.0, 'hidden_dim3': 180.0}.\n",
            "Trial trainable_func_3823def2 reported epoch=13,loss=0.30794955060494605,should_checkpoint=True with parameters={'act1 ': 'relu', 'act2': 'relu', 'act3': 'relu', 'lr': 0.0008, 'batch_size': 16, 'hidden_dim1': 270.0, 'hidden_dim2': 255.0, 'hidden_dim3': 120.0}. This trial completed.\n",
            "== Status ==\n",
            "Current time: 2022-07-26 12:20:08 (running for 00:16:30.05)\n",
            "Memory usage on this node: 1.9/12.7 GiB\n",
            "Using MedianStoppingRule: num_stopped=39.\n",
            "Resources requested: 1.0/2 CPUs, 0/0 GPUs, 0.0/7.46 GiB heap, 0.0/3.73 GiB objects\n",
            "Result logdir: /root/ray_results/trainable_func_2022-07-26_12-03-38\n",
            "Number of trials: 50/50 (2 RUNNING, 48 TERMINATED)\n",
            "\n",
            "\n"
          ]
        },
        {
          "output_type": "stream",
          "name": "stderr",
          "text": [
            "2022-07-26 12:20:12,475\tINFO tune.py:748 -- Total run time: 994.21 seconds (993.87 seconds for the tuning loop).\n"
          ]
        },
        {
          "output_type": "stream",
          "name": "stdout",
          "text": [
            "Trial trainable_func_a0cb085e reported epoch=10,loss=0.31619265247541,should_checkpoint=True with parameters={'act1 ': 'selu', 'act2': 'relu', 'act3': 'selu', 'lr': 0.0009, 'batch_size': 16, 'hidden_dim1': 300.0, 'hidden_dim2': 135.0, 'hidden_dim3': 180.0}. This trial completed.\n",
            "== Status ==\n",
            "Current time: 2022-07-26 12:20:12 (running for 00:16:33.90)\n",
            "Memory usage on this node: 1.6/12.7 GiB\n",
            "Using MedianStoppingRule: num_stopped=40.\n",
            "Resources requested: 0/2 CPUs, 0/0 GPUs, 0.0/7.46 GiB heap, 0.0/3.73 GiB objects\n",
            "Result logdir: /root/ray_results/trainable_func_2022-07-26_12-03-38\n",
            "Number of trials: 50/50 (50 TERMINATED)\n",
            "+-------------------------+------------+-------------------+---------+--------+--------+--------------+---------------+---------------+---------------+--------+-----------+----------------------+\n",
            "| Trial name              | status     | loc               | act1    | act2   | act3   |   batch_size |   hidden_dim1 |   hidden_dim2 |   hidden_dim3 |     lr |      loss |   training_iteration |\n",
            "|-------------------------+------------+-------------------+---------+--------+--------+--------------+---------------+---------------+---------------+--------+-----------+----------------------|\n",
            "| trainable_func_fbbf25f8 | TERMINATED | 172.28.0.2:151415 | tanh    | selu   | tanh   |           32 |           210 |           210 |           315 | 0.001  | 0.104705  |                   50 |\n",
            "| trainable_func_fc0a2c74 | TERMINATED | 172.28.0.2:151414 | tanh    | selu   | tanh   |           16 |           165 |           240 |           210 | 0.001  | 0.0944377 |                   50 |\n",
            "| trainable_func_fc21eeb8 | TERMINATED | 172.28.0.2:151453 | tanh    | relu   | relu   |           16 |           255 |           285 |           180 | 0.001  | 0.0809834 |                   50 |\n",
            "| trainable_func_fc3a8798 | TERMINATED | 172.28.0.2:151479 | relu    | tanh   | tanh   |           64 |           195 |           210 |           135 | 0.0008 | 0.0704749 |                   50 |\n",
            "| trainable_func_fc50187e | TERMINATED | 172.28.0.2:151479 | selu    | selu   | tanh   |            8 |           270 |           165 |           285 | 0.0006 | 0.0992427 |                   50 |\n",
            "| trainable_func_12a411ac | TERMINATED | 172.28.0.2:151415 | tanh    | tanh   | selu   |           32 |           180 |           270 |           195 | 0.0009 | 0.192892  |                   50 |\n",
            "| trainable_func_15ffcbd4 | TERMINATED | 172.28.0.2:151414 | selu    | selu   | selu   |           16 |           330 |           150 |           180 | 0.0009 | 0.0913211 |                   50 |\n",
            "| trainable_func_212fa088 | TERMINATED | 172.28.0.2:151414 | relu    | relu   | selu   |           16 |           300 |           240 |           180 | 0.001  | 0.0709829 |                   50 |\n",
            "| trainable_func_246e00fa | TERMINATED | 172.28.0.2:151415 | selu    | tanh   | selu   |           64 |           285 |           300 |           270 | 0.0007 | 0.0621869 |                   50 |\n",
            "| trainable_func_298fb39e | TERMINATED | 172.28.0.2:151453 | selu    | relu   | tanh   |           32 |           285 |           120 |           315 | 0.0005 | 0.0585752 |                   50 |\n",
            "| trainable_func_723b597c | TERMINATED | 172.28.0.2:151415 | relu    | tanh   | tanh   |           16 |           300 |           180 |           180 | 0.0008 | 0.315218  |                   21 |\n",
            "| trainable_func_863efd20 | TERMINATED | 172.28.0.2:151453 | selu    | tanh   | selu   |           16 |           300 |           225 |           270 | 0.0007 | 0.383039  |                   22 |\n",
            "| trainable_func_acd98d1a | TERMINATED | 172.28.0.2:151414 | tanh    | tanh   | selu   |           64 |           210 |           210 |           330 | 0.0007 | 0.663245  |                   10 |\n",
            "| trainable_func_b5de167e | TERMINATED | 172.28.0.2:151414 | selu    | selu   | selu   |           64 |           240 |           270 |           135 | 0.0007 | 0.31263   |                   25 |\n",
            "| trainable_func_cf4dc514 | TERMINATED | 172.28.0.2:151453 | relu    | selu   | relu   |           64 |           225 |           180 |           150 | 0.0006 | 0.563932  |                   11 |\n",
            "| trainable_func_d8724be2 | TERMINATED | 172.28.0.2:151453 | tanh    | relu   | tanh   |           64 |           135 |           300 |           195 | 0.0006 | 0.540601  |                   11 |\n",
            "| trainable_func_e199be12 | TERMINATED | 172.28.0.2:151453 | relu    | selu   | selu   |            8 |           330 |           270 |           225 | 0.0007 | 0.662515  |                   11 |\n",
            "| trainable_func_e7d2baea | TERMINATED | 172.28.0.2:151415 | relu    | selu   | relu   |           32 |           210 |           120 |           240 | 0.0005 | 0.607792  |                   11 |\n",
            "| trainable_func_f4b83eba | TERMINATED | 172.28.0.2:151415 | selu    | tanh   | tanh   |            8 |           285 |           315 |           330 | 0.0005 | 0.744182  |                   10 |\n",
            "| trainable_func_1da60140 | TERMINATED | 172.28.0.2:151453 | selu    | tanh   | tanh   |            8 |           285 |           330 |           135 | 0.0008 | 0.60448   |                   10 |\n",
            "| trainable_func_2d56590a | TERMINATED | 172.28.0.2:151415 | selu    | relu   | relu   |           16 |           285 |           150 |           120 | 0.0009 | 0.540208  |                   11 |\n",
            "| trainable_func_3823def2 | TERMINATED | 172.28.0.2:151479 | relu    | relu   | relu   |           16 |           270 |           255 |           120 | 0.0008 | 0.30795   |                   26 |\n",
            "| trainable_func_49c4dc60 | TERMINATED | 172.28.0.2:151414 | relu    | relu   | relu   |           16 |           285 |           255 |           120 | 0.0008 | 0.33527   |                   21 |\n",
            "| trainable_func_55338ea2 | TERMINATED | 172.28.0.2:151453 | relu    | relu   | relu   |           64 |           255 |           255 |           165 | 0.0008 | 0.598502  |                   11 |\n",
            "| trainable_func_557a3582 | TERMINATED | 172.28.0.2:151479 | relu    | relu   | relu   |           16 |           255 |           255 |           165 | 0.0008 | 0.53019   |                   12 |\n",
            "| trainable_func_5e88b018 | TERMINATED | 172.28.0.2:151453 | relu    | relu   | relu   |           16 |           120 |           225 |           120 | 0.001  | 0.557671  |                   11 |\n",
            "| trainable_func_753fd746 | TERMINATED | 172.28.0.2:151453 | relu    | relu   | relu   |           16 |           180 |           285 |           255 | 0.0008 | 0.553741  |                   12 |\n",
            "| trainable_func_7581ef6e | TERMINATED | 172.28.0.2:151479 | tanh    | tanh   | tanh   |           64 |           165 |           285 |           240 | 0.0009 | 0.562198  |                   11 |\n",
            "| trainable_func_7faaad32 | TERMINATED | 172.28.0.2:151479 | relu    | tanh   | relu   |           16 |           240 |           195 |           270 | 0.0007 | 0.533894  |                   12 |\n",
            "| trainable_func_96e04430 | TERMINATED | 172.28.0.2:151453 | tanh    | tanh   | relu   |           64 |           240 |           195 |           150 | 0.0007 | 0.51187   |                   12 |\n",
            "| trainable_func_9a64f722 | TERMINATED | 172.28.0.2:151479 | selu    | tanh   | selu   |           16 |           315 |           120 |           180 | 0.0009 | 0.531983  |                   12 |\n",
            "| trainable_func_a0cb085e | TERMINATED | 172.28.0.2:151415 | selu    | relu   | selu   |           16 |           300 |           135 |           180 | 0.0009 | 0.316193  |                   24 |\n",
            "| trainable_func_a5ef0060 | TERMINATED | 172.28.0.2:151415 | selu    | tanh   | selu   |           64 |           315 |           330 |           300 | 0.0006 | 0.507506  |                   12 |\n",
            "| trainable_func_b3a0bfb4 | TERMINATED | 172.28.0.2:151415 | selu    | tanh   | selu   |           64 |           300 |           300 |           180 | 0.0009 | 0.47696   |                   13 |\n",
            "| trainable_func_b470a3c8 | TERMINATED | 172.28.0.2:151479 | tanh    | tanh   | selu   |           64 |           300 |           300 |           270 | 0.001  | 0.523159  |                   13 |\n",
            "| trainable_func_c070a31c | TERMINATED | 172.28.0.2:151415 | tanh    | relu   | selu   |           64 |           255 |           240 |           270 | 0.0008 | 0.588408  |                   10 |\n",
            "| trainable_func_c1b6a53c | TERMINATED | 172.28.0.2:151479 | relu    | relu   | tanh   |           64 |           255 |           240 |           135 | 0.0008 | 0.552426  |                   12 |\n",
            "| trainable_func_c986ab72 | TERMINATED | 172.28.0.2:151415 | relu    | relu   | tanh   |           32 |           195 |           225 |           150 | 0.0007 | 0.588457  |                   11 |\n",
            "| trainable_func_cc46c0d6 | TERMINATED | 172.28.0.2:151479 | selu    | tanh   | tanh   |           32 |           225 |           210 |           210 | 0.001  | 0.600368  |                   10 |\n",
            "| trainable_func_d83670e4 | TERMINATED | 172.28.0.2:151415 | selu    | tanh   | tanh   |           32 |           225 |           315 |           210 | 0.001  | 0.52882   |                   13 |\n",
            "| trainable_func_d94a09a0 | TERMINATED | 172.28.0.2:151479 | selu    | selu   | selu   |           16 |           315 |           135 |           180 | 0.0009 | 0.56751   |                   12 |\n",
            "| trainable_func_eb909624 | TERMINATED | 172.28.0.2:151414 | relu    | relu   | selu   |           16 |           270 |           270 |           210 | 0.001  | 0.592725  |                   11 |\n",
            "| trainable_func_ed3da9da | TERMINATED | 172.28.0.2:151415 | relu    | relu   | selu   |           16 |           270 |           270 |           225 | 0.001  | 0.536578  |                   12 |\n",
            "| trainable_func_f5108b1e | TERMINATED | 172.28.0.2:151479 | relu    | relu   | selu   |           16 |           270 |           270 |           225 | 0.001  | 0.55965   |                   10 |\n",
            "| trainable_func_035cc7d2 | TERMINATED | 172.28.0.2:151453 | relu    | relu   | tanh   |           32 |           270 |           180 |           300 | 0.0005 | 0.499119  |                   13 |\n",
            "| trainable_func_0994af84 | TERMINATED | 172.28.0.2:151414 | selu    | relu   | tanh   |           32 |           300 |           180 |           300 | 0.0005 | 0.588859  |                   10 |\n",
            "| trainable_func_114ff166 | TERMINATED | 172.28.0.2:151479 | selu    | relu   | tanh   |           32 |           300 |           165 |           300 | 0.0006 | 0.512235  |                   14 |\n",
            "| trainable_func_11e2d0d0 | TERMINATED | 172.28.0.2:151415 | selu    | relu   | tanh   |           32 |           300 |           165 |           300 | 0.0005 | 0.565349  |                   10 |\n",
            "| trainable_func_14b6f994 | TERMINATED | 172.28.0.2:151453 | selu    | tanh   | tanh   |           32 |           300 |           165 |           315 | 0.0006 | 0.539741  |                   11 |\n",
            "| trainable_func_173b0192 | TERMINATED | 172.28.0.2:151414 | selu    | tanh   | tanh   |           32 |           150 |           150 |           315 | 0.0006 | 0.553273  |                   11 |\n",
            "+-------------------------+------------+-------------------+---------+--------+--------+--------------+---------------+---------------+---------------+--------+-----------+----------------------+\n",
            "\n",
            "\n",
            "Best trial config: {'act1 ': 'selu', 'act2': 'relu', 'act3': 'tanh', 'lr': 0.0005, 'batch_size': 32, 'hidden_dim1': 285.0, 'hidden_dim2': 120.0, 'hidden_dim3': 315.0}\n",
            "Best trial final validation score: 0.05857518526957679\n",
            "Best trial test set score: 0.4589142555019274\n"
          ]
        }
      ]
    },
    {
      "cell_type": "code",
      "source": [
        ""
      ],
      "metadata": {
        "id": "SpFYLRt34Itr"
      },
      "execution_count": 47,
      "outputs": []
    }
  ]
}