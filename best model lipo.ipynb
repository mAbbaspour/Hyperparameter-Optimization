{
  "nbformat": 4,
  "nbformat_minor": 0,
  "metadata": {
    "colab": {
      "name": "Untitled3.ipynb",
      "provenance": [],
      "authorship_tag": "ABX9TyMDFYxlXkSJKjZeRjpgv+aO",
      "include_colab_link": true
    },
    "kernelspec": {
      "name": "python3",
      "display_name": "Python 3"
    },
    "language_info": {
      "name": "python"
    }
  },
  "cells": [
    {
      "cell_type": "markdown",
      "metadata": {
        "id": "view-in-github",
        "colab_type": "text"
      },
      "source": [
        "<a href=\"https://colab.research.google.com/github/mAbbaspour/Hyperparameter-Optimization/blob/main/best%20model.ipynb\" target=\"_parent\"><img src=\"https://colab.research.google.com/assets/colab-badge.svg\" alt=\"Open In Colab\"/></a>"
      ]
    },
    {
      "cell_type": "code",
      "execution_count": 3,
      "metadata": {
        "id": "ivTHup27j7Wx"
      },
      "outputs": [],
      "source": [
        "import torch\n",
        "import torch.nn as nn\n",
        "import torch.nn.functional as f\n",
        "import numpy as np\n",
        "import math;\n",
        "import random\n",
        "random.seed(1)\n",
        "import pandas as pd\n",
        "import io\n",
        "from sklearn import preprocessing\n",
        "from sklearn.decomposition import PCA\n",
        "from sklearn.model_selection import train_test_split\n"
      ]
    },
    {
      "cell_type": "code",
      "source": [
        "from google.colab import files\n",
        "uploaded = files.upload()\n",
        "uploaded2 = files.upload()\n"
      ],
      "metadata": {
        "colab": {
          "resources": {
            "http://localhost:8080/nbextensions/google.colab/files.js": {
              "data": "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",
              "ok": true,
              "headers": [
                [
                  "content-type",
                  "application/javascript"
                ]
              ],
              "status": 200,
              "status_text": ""
            }
          },
          "base_uri": "https://localhost:8080/",
          "height": 130
        },
        "id": "N-oNX-VHlUf9",
        "outputId": "7c0e17cc-f61c-4a64-d56e-79ab4196cdf5"
      },
      "execution_count": 4,
      "outputs": [
        {
          "output_type": "display_data",
          "data": {
            "text/plain": [
              "<IPython.core.display.HTML object>"
            ],
            "text/html": [
              "\n",
              "     <input type=\"file\" id=\"files-752896f6-2cb8-47f4-8bf2-72a63695f092\" name=\"files[]\" multiple disabled\n",
              "        style=\"border:none\" />\n",
              "     <output id=\"result-752896f6-2cb8-47f4-8bf2-72a63695f092\">\n",
              "      Upload widget is only available when the cell has been executed in the\n",
              "      current browser session. Please rerun this cell to enable.\n",
              "      </output>\n",
              "      <script src=\"/nbextensions/google.colab/files.js\"></script> "
            ]
          },
          "metadata": {}
        },
        {
          "output_type": "stream",
          "name": "stdout",
          "text": [
            "Saving lipo(Lables).csv to lipo(Lables).csv\n"
          ]
        },
        {
          "output_type": "display_data",
          "data": {
            "text/plain": [
              "<IPython.core.display.HTML object>"
            ],
            "text/html": [
              "\n",
              "     <input type=\"file\" id=\"files-a40ddb62-7356-46aa-b7a4-9aeb78508bbe\" name=\"files[]\" multiple disabled\n",
              "        style=\"border:none\" />\n",
              "     <output id=\"result-a40ddb62-7356-46aa-b7a4-9aeb78508bbe\">\n",
              "      Upload widget is only available when the cell has been executed in the\n",
              "      current browser session. Please rerun this cell to enable.\n",
              "      </output>\n",
              "      <script src=\"/nbextensions/google.colab/files.js\"></script> "
            ]
          },
          "metadata": {}
        },
        {
          "output_type": "stream",
          "name": "stdout",
          "text": [
            "Saving lipo_global_cdf_rdkit.csv to lipo_global_cdf_rdkit.csv\n"
          ]
        }
      ]
    },
    {
      "cell_type": "code",
      "source": [
        "data = pd.read_csv(io.BytesIO(uploaded2['lipo_global_cdf_rdkit.csv']))\n",
        "dataY = pd.read_csv(io.BytesIO(uploaded['lipo(Lables).csv']))\n",
        "print(data[data.isnull().any(axis=1)])"
      ],
      "metadata": {
        "colab": {
          "base_uri": "https://localhost:8080/"
        },
        "id": "mN4yl3yHlJXJ",
        "outputId": "6e9488f5-8b18-4803-ffea-f41423154ed5"
      },
      "execution_count": 20,
      "outputs": [
        {
          "output_type": "stream",
          "name": "stdout",
          "text": [
            "      ('RDKit2DNormalized_calculated', <class 'bool'>)  \\\n",
            "1561                                              True   \n",
            "\n",
            "      ('BalabanJ', <class 'numpy.float64'>)  \\\n",
            "1561                                  0.895   \n",
            "\n",
            "      ('BertzCT', <class 'numpy.float64'>)  ('Chi0', <class 'numpy.float64'>)  \\\n",
            "1561                              0.230752                           0.031331   \n",
            "\n",
            "      ('Chi0n', <class 'numpy.float64'>)  ('Chi0v', <class 'numpy.float64'>)  \\\n",
            "1561                            0.032387                            0.061726   \n",
            "\n",
            "      ('Chi1', <class 'numpy.float64'>)  ('Chi1n', <class 'numpy.float64'>)  \\\n",
            "1561                           0.050799                            0.045963   \n",
            "\n",
            "      ('Chi1v', <class 'numpy.float64'>)  ('Chi2n', <class 'numpy.float64'>)  \\\n",
            "1561                            0.116251                             0.04344   \n",
            "\n",
            "      ...  ('fr_sulfonamd', <class 'numpy.float64'>)  \\\n",
            "1561  ...                               1.593061e-17   \n",
            "\n",
            "      ('fr_sulfone', <class 'numpy.float64'>)  \\\n",
            "1561                             5.766101e-14   \n",
            "\n",
            "      ('fr_term_acetylene', <class 'numpy.float64'>)  \\\n",
            "1561                                    2.957989e-11   \n",
            "\n",
            "      ('fr_tetrazole', <class 'numpy.float64'>)  \\\n",
            "1561                                   0.168378   \n",
            "\n",
            "      ('fr_thiazole', <class 'numpy.float64'>)  \\\n",
            "1561                                   0.16738   \n",
            "\n",
            "      ('fr_thiocyan', <class 'numpy.float64'>)  \\\n",
            "1561                              1.481515e-18   \n",
            "\n",
            "      ('fr_thiophene', <class 'numpy.float64'>)  \\\n",
            "1561                               2.324150e-16   \n",
            "\n",
            "      ('fr_unbrch_alkane', <class 'numpy.float64'>)  \\\n",
            "1561                                   4.703598e-08   \n",
            "\n",
            "      ('fr_urea', <class 'numpy.float64'>)  ('qed', <class 'numpy.float64'>)  \n",
            "1561                              0.166633                          0.542261  \n",
            "\n",
            "[1 rows x 201 columns]\n"
          ]
        }
      ]
    },
    {
      "cell_type": "code",
      "source": [
        "data = data.drop(1561)\n",
        "dataY = dataY.drop(1561)"
      ],
      "metadata": {
        "id": "cTZje0SVlO6A"
      },
      "execution_count": 21,
      "outputs": []
    },
    {
      "cell_type": "code",
      "source": [
        "arrayY = dataY.values\n",
        "Y = arrayY[0: ,1 ]\n",
        "array = data.values\n",
        "X = array[0:,1:]"
      ],
      "metadata": {
        "id": "Kf0cnUprlrVZ"
      },
      "execution_count": 22,
      "outputs": []
    },
    {
      "cell_type": "code",
      "source": [
        "X_train, X_test ,Y_train , Y_test  = train_test_split(X, Y ,test_size=0.2)\n",
        "scaler_data  = preprocessing.MinMaxScaler()\n",
        "X_train = scaler_data.fit_transform(X_train)\n",
        "X_test =  scaler_data.transform(X_test)\n",
        "scaler_labels = preprocessing.MinMaxScaler()\n",
        "Y_train = scaler_labels.fit_transform(Y_train.reshape(-1, 1))\n",
        "Y_test = scaler_labels.transform(Y_test.reshape(-1, 1))\n"
      ],
      "metadata": {
        "id": "Uyl5TUB7ltlD"
      },
      "execution_count": 23,
      "outputs": []
    },
    {
      "cell_type": "code",
      "source": [
        "print(X_test.shape)\n",
        "print(Y_test.shape)\n",
        "print(X_train.shape)\n",
        "print(Y_train.shape)\n",
        "device = torch.device('cuda:0' if torch.cuda.is_available() else 'cpu')"
      ],
      "metadata": {
        "colab": {
          "base_uri": "https://localhost:8080/"
        },
        "id": "ChBpA7TglyYH",
        "outputId": "0c2d9914-6de1-4a92-e325-e97636787e02"
      },
      "execution_count": 24,
      "outputs": [
        {
          "output_type": "stream",
          "name": "stdout",
          "text": [
            "(840, 200)\n",
            "(840, 1)\n",
            "(3359, 200)\n",
            "(3359, 1)\n"
          ]
        }
      ]
    },
    {
      "cell_type": "code",
      "source": [
        "Y_train_new =  Y_train.astype(np.float)\n",
        "Y_test_new = Y_test.astype(np.float)\n",
        "print(Y_train_new.shape)\n",
        "print(Y_test_new.shape)\n",
        "device = torch.device('cuda:0' if torch.cuda.is_available() else 'cpu')\n",
        "tensor_x_train = torch.tensor(X_train, dtype=torch.float).to(device) \n",
        "tensor_x_test = torch.tensor(X_test, dtype=torch.float).to(device) \n",
        "\n",
        "tensor_y_train = torch.tensor(Y_train_new , dtype=torch.float).to(device)\n",
        "tensor_y_test= torch.tensor(Y_test_new, dtype=torch.float).to(device)\n"
      ],
      "metadata": {
        "colab": {
          "base_uri": "https://localhost:8080/"
        },
        "id": "NAGFB0mfl3je",
        "outputId": "707b4c54-75fd-4b74-d34b-f6a459e309a5"
      },
      "execution_count": 25,
      "outputs": [
        {
          "output_type": "stream",
          "name": "stdout",
          "text": [
            "(3359, 1)\n",
            "(840, 1)\n"
          ]
        },
        {
          "output_type": "stream",
          "name": "stderr",
          "text": [
            "/usr/local/lib/python3.7/dist-packages/ipykernel_launcher.py:1: DeprecationWarning: `np.float` is a deprecated alias for the builtin `float`. To silence this warning, use `float` by itself. Doing this will not modify any behavior and is safe. If you specifically wanted the numpy scalar type, use `np.float64` here.\n",
            "Deprecated in NumPy 1.20; for more details and guidance: https://numpy.org/devdocs/release/1.20.0-notes.html#deprecations\n",
            "  \"\"\"Entry point for launching an IPython kernel.\n",
            "/usr/local/lib/python3.7/dist-packages/ipykernel_launcher.py:2: DeprecationWarning: `np.float` is a deprecated alias for the builtin `float`. To silence this warning, use `float` by itself. Doing this will not modify any behavior and is safe. If you specifically wanted the numpy scalar type, use `np.float64` here.\n",
            "Deprecated in NumPy 1.20; for more details and guidance: https://numpy.org/devdocs/release/1.20.0-notes.html#deprecations\n",
            "  \n"
          ]
        }
      ]
    },
    {
      "cell_type": "code",
      "source": [
        "from torch.utils.data import TensorDataset\n",
        "trainset = TensorDataset(tensor_x_train, tensor_y_train) \n",
        "testset = TensorDataset(tensor_x_test,tensor_y_test)"
      ],
      "metadata": {
        "id": "uEMnx9XTl7vz"
      },
      "execution_count": 26,
      "outputs": []
    },
    {
      "cell_type": "code",
      "source": [
        "%%capture\n",
        "try:\n",
        "    import ray\n",
        "except:\n",
        "    !pip install -U ray\n",
        "    import ray"
      ],
      "metadata": {
        "id": "6UBVYkNHl8yn"
      },
      "execution_count": 27,
      "outputs": []
    },
    {
      "cell_type": "code",
      "source": [
        "from functools import partial\n",
        "import numpy as np\n",
        "import os\n",
        "import torch.nn.functional as F\n",
        "import torch.optim as optim\n",
        "from torch.utils.data import random_split\n",
        "from torchsummary import summary\n",
        "from ray import tune\n",
        "# a = {\"a\":tune.quniform(50, 200, 10) , \"b\": 5}\n",
        "# print(type(a.get(\"a\")))\n",
        "from ray.tune import CLIReporter\n",
        "from ray.tune.schedulers import ASHAScheduler"
      ],
      "metadata": {
        "id": "4jP4qDXSl_SC"
      },
      "execution_count": 28,
      "outputs": []
    },
    {
      "cell_type": "code",
      "source": [
        "def load_data(data_dir=None):\n",
        "    return trainset, testset"
      ],
      "metadata": {
        "id": "dx1ufZazmKNj"
      },
      "execution_count": 29,
      "outputs": []
    },
    {
      "cell_type": "code",
      "source": [
        "class Net(nn.Module):\n",
        "    def __init__(self, config):\n",
        "        super().__init__()\n",
        "\n",
        "        self.config = config\n",
        "        self.hidden_dim1 = int(self.config.get(\"hidden_dim1\", 100))\n",
        "        self.hidden_dim2 = int(self.config.get(\"hidden_dim2\", 100))\n",
        "        self.hidden_dim3 = int(self.config.get(\"hidden_dim3\", 100))\n",
        "\n",
        "        self.act1 = self.config.get(\"act1\", \"relu\") \n",
        "        self.act2 = self.config.get(\"act2\", \"relu\") \n",
        "        self.act3 = self.config.get(\"act3\", \"relu\")\n",
        "\n",
        "        self.linear1 = nn.Linear(200, self.hidden_dim1)\n",
        "        self.linear2 = nn.Linear(self.hidden_dim1, self.hidden_dim2)\n",
        "        self.linear3 = nn.Linear(self.hidden_dim2, self.hidden_dim3)\n",
        "        self.linear4 = nn.Linear(self.hidden_dim3, 1)\n",
        "    \n",
        "    @staticmethod\n",
        "    def activation_func(act_str):\n",
        "        if act_str==\"tanh\":\n",
        "            return eval(\"torch.\"+act_str)\n",
        "        elif act_str==\"selu\" or act_str==\"relu\":   \n",
        "            return eval(\"torch.nn.functional.\"+act_str)\n",
        "\n",
        "    def forward(self, x):\n",
        "        output = self.linear1(x)\n",
        "        output = self.activation_func(self.act1)(output)\n",
        "        output = self.linear2(output)\n",
        "        output = self.activation_func(self.act2)(output)\n",
        "        output = self.linear3(output)\n",
        "        output = self.activation_func(self.act3)(output)\n",
        "        output = self.linear4(output)        \n",
        "        return output"
      ],
      "metadata": {
        "id": "l5XwOPvbmSdv"
      },
      "execution_count": 30,
      "outputs": []
    },
    {
      "cell_type": "code",
      "source": [
        "model = Net({})"
      ],
      "metadata": {
        "id": "44F-VZdBmCyC"
      },
      "execution_count": 31,
      "outputs": []
    },
    {
      "cell_type": "code",
      "source": [
        "def trainable_func(config, checkpoint_dir=None, data_dir=None, epochs=50):\n",
        "\n",
        "    net = Net(config)\n",
        "\n",
        "    device = \"cpu\"\n",
        "    if torch.cuda.is_available():\n",
        "        device = \"cuda:0\"\n",
        "        if torch.cuda.device_count() > 1:\n",
        "            net = nn.DataParallel(net)\n",
        "    net.to(device)\n",
        "\n",
        "    '''\n",
        "    Define a loss function\n",
        "    '''\n",
        "    ## Classification\n",
        "    # criterion = nn.CrossEntropyLoss()\n",
        "\n",
        "    ## Regression\n",
        "    criterion = nn.MSELoss(reduction='sum')\n",
        "\n",
        "    # Define an optimizer \n",
        "    optimizer = optim.Adam(net.parameters(), lr=config.get(\"lr\",0.0003))\n",
        "\n",
        "    if checkpoint_dir:\n",
        "        model_state, optimizer_state = torch.load(\n",
        "            os.path.join(checkpoint_dir, \"checkpoint\"))\n",
        "        net.load_state_dict(model_state)\n",
        "        optimizer.load_state_dict(optimizer_state)\n",
        "\n",
        "    # Load data\n",
        "    trainset, testset = load_data(data_dir)\n",
        "\n",
        "    # Split the dataset into training and validation sets\n",
        "    train_size = int(len(trainset) * 0.8)\n",
        "    train_subset, val_subset = random_split(trainset, [train_size, len(trainset) - train_size])\n",
        "\n",
        "    # Define data loaders (which combines a dataset and a sampler, and provides an iterable over the given dataset)\n",
        "    trainloader = torch.utils.data.DataLoader(\n",
        "        train_subset,\n",
        "        batch_size=int(config.get(\"batch_size\",32)),\n",
        "        shuffle=True,\n",
        "        num_workers=2)\n",
        "    valloader = torch.utils.data.DataLoader(\n",
        "        val_subset,\n",
        "        batch_size=int(config.get(\"batch_size\",32)),\n",
        "        shuffle=True,\n",
        "        num_workers=2)\n",
        "\n",
        "    for epoch in range(epochs):  # loop over the dataset multiple times\n",
        "        epoch_train_loss = 0.0\n",
        "        # epoch_steps = 0\n",
        "        net.train() # Prepare model for training\n",
        "        for i, data in enumerate(trainloader):\n",
        "            # get the inputs; data is a list of [inputs, labels]\n",
        "            inputs, labels = data\n",
        "            inputs, labels = inputs.to(device), labels.to(device)\n",
        "\n",
        "            # zero the parameter gradients\n",
        "            optimizer.zero_grad()\n",
        "\n",
        "            # forward + backward + optimize\n",
        "            outputs = net(inputs)\n",
        "            loss = criterion(outputs, labels)\n",
        "            loss.backward()\n",
        "            optimizer.step()\n",
        "\n",
        "            '''\n",
        "            Compute train loss without scaling to print\n",
        "            ''' \n",
        "            # outputs = torch.tensor(scaler_labels.inverse_transform(outputs.detach().cpu())).to(device)    \n",
        "            # labels = torch.tensor(scaler_labels.inverse_transform(labels.cpu())).to(device)  \n",
        "            # loss_train = criterion(outputs, labels) \n",
        "            # epoch_train_loss += loss_train.detach().item()\n",
        "        # print(\"[%d] loss: %.3f\" % (epoch + 1, epoch_train_loss / len(train_subset)))\n",
        "\n",
        "        # Validation loss\n",
        "        val_loss = 0.0\n",
        "        net.eval() # Prepare model for evaluation\n",
        "        for i, data in enumerate(valloader):\n",
        "            with torch.no_grad():\n",
        "                inputs, labels = data\n",
        "                inputs, labels = inputs.to(device), labels.to(device)\n",
        "\n",
        "                outputs = net(inputs)\n",
        "\n",
        "                # Inverse transform of the labels' scaler\n",
        "                outputs = torch.tensor(scaler_labels.inverse_transform(outputs.detach().cpu())).to(device)    \n",
        "                labels = torch.tensor(scaler_labels.inverse_transform(labels.cpu())).to(device) \n",
        "\n",
        "                loss = criterion(outputs, labels)\n",
        "                val_loss += loss.cpu().numpy()\n",
        "\n",
        "        with tune.checkpoint_dir(epoch) as checkpoint_dir:\n",
        "            path = os.path.join(checkpoint_dir, \"checkpoint\")\n",
        "            torch.save((net.state_dict(), optimizer.state_dict()), path)\n",
        "\n",
        "        tune.report(epoch = epoch, loss=(val_loss / len(val_subset)))\n",
        "    print(\"Finished Training\")"
      ],
      "metadata": {
        "id": "qWCrpLhrm9QR"
      },
      "execution_count": 32,
      "outputs": []
    },
    {
      "cell_type": "code",
      "source": [
        "def test_score(config, net, device=\"cpu\"):\n",
        "    trainset, testset = load_data()\n",
        "\n",
        "    testloader = torch.utils.data.DataLoader(\n",
        "        testset, batch_size=int(config.get(\"batch_size\",32)), shuffle=False, num_workers=2)\n",
        "    \n",
        "    ## Regression\n",
        "    criterion = nn.MSELoss(reduction='sum')\n",
        "\n",
        "    # Test loss\n",
        "    test_loss = 0.0\n",
        "    net.eval() # Prepare model for evaluation\n",
        "    for i, data in enumerate(testloader):\n",
        "        with torch.no_grad():\n",
        "            inputs, labels = data\n",
        "            inputs, labels = inputs.to(device), labels.to(device)\n",
        "\n",
        "            outputs = net(inputs)\n",
        "\n",
        "            # Inverse transform of the labels' scaler\n",
        "            outputs = torch.tensor(scaler_labels.inverse_transform(outputs.detach().cpu())).to(device)    \n",
        "            labels = torch.tensor(scaler_labels.inverse_transform(labels.cpu())).to(device) \n",
        "\n",
        "            loss = criterion(outputs, labels)\n",
        "            test_loss += loss.cpu().numpy()\n",
        "\n",
        "    return test_loss / len(testset)"
      ],
      "metadata": {
        "id": "187wfxeknQIX"
      },
      "execution_count": 33,
      "outputs": []
    },
    {
      "cell_type": "code",
      "source": [
        "import random\n",
        "random.seed(1)\n",
        "Best_trial_config = {'act1 ': 'relu', 'act2': 'selu', 'act3': 'selu', 'lr': 0.001, 'batch_size': 32, 'hidden_dim1': 285.0, 'hidden_dim2': 180.0, 'hidden_dim3': 165.0}\n",
        "epochs = 50\n",
        "config = {'act1 ': 'relu', 'act2': 'selu', 'act3': 'selu', 'lr': 0.001, 'batch_size': 32, 'hidden_dim1': 285.0, 'hidden_dim2': 180.0, 'hidden_dim3': 165.0}\n",
        "net = Net(Best_trial_config)\n",
        "criterion = nn.MSELoss(reduction='sum')\n",
        "\n",
        "    # # Define an optimizer \n",
        "optimizer = optim.Adam(net.parameters(), lr=config.get(\"lr\",0.0003))\n",
        "\n",
        "trainset, testset = load_data()\n",
        "\n",
        "    # Split the dataset into training and validation sets\n",
        "train_size = int(len(trainset) * 0.8)\n",
        "train_subset, val_subset = random_split(trainset, [train_size, len(trainset) - train_size])\n",
        "\n",
        "    # Define data loaders (which combines a dataset and a sampler, and provides an iterable over the given dataset)\n",
        "trainloader = torch.utils.data.DataLoader(\n",
        "    train_subset,\n",
        "    batch_size=int(config.get(\"batch_size\",32)),\n",
        "    shuffle=True,\n",
        "    num_workers=2)\n",
        "valloader = torch.utils.data.DataLoader(\n",
        "    val_subset,\n",
        "    batch_size=int(config.get(\"batch_size\",32)),\n",
        "    shuffle=True,\n",
        "    num_workers=2)\n",
        "\n",
        "for epoch in range(epochs):  # loop over the dataset multiple times\n",
        "     epoch_train_loss = 0.0\n",
        "        # epoch_steps = 0\n",
        "     net.train() # Prepare model for training\n",
        "     for i, data in enumerate(trainloader):\n",
        "            # get the inputs; data is a list of [inputs, labels]\n",
        "            inputs, labels = data\n",
        "            inputs, labels = inputs.to(device), labels.to(device)\n",
        "\n",
        "            # zero the parameter gradients\n",
        "            optimizer.zero_grad()\n",
        "\n",
        "            # forward + backward + optimize\n",
        "            outputs = net(inputs)\n",
        "            loss = criterion(outputs, labels)\n",
        "            loss.backward()\n",
        "            optimizer.step()\n",
        "\n",
        "            '''\n",
        "            Compute train loss without scaling to print\n",
        "            ''' \n",
        "            # outputs = torch.tensor(scaler_labels.inverse_transform(outputs.detach().cpu())).to(device)    \n",
        "            # labels = torch.tensor(scaler_labels.inverse_transform(labels.cpu())).to(device)  \n",
        "            # loss_train = criterion(outputs, labels) \n",
        "            # epoch_train_loss += loss_train.detach().item()\n",
        "        # print(\"[%d] loss: %.3f\" % (epoch + 1, epoch_train_loss / len(train_subset)))\n",
        "\n",
        "        # Validation loss\n",
        "     val_loss = 0.0\n",
        "     net.eval() # Prepare model for evaluation\n",
        "     for i, data in enumerate(valloader):\n",
        "            with torch.no_grad():\n",
        "                inputs, labels = data\n",
        "                inputs, labels = inputs.to(device), labels.to(device)\n",
        "\n",
        "                outputs = net(inputs)\n",
        "\n",
        "                # Inverse transform of the labels' scaler\n",
        "                outputs = torch.tensor(scaler_labels.inverse_transform(outputs.detach().cpu())).to(device)    \n",
        "                labels = torch.tensor(scaler_labels.inverse_transform(labels.cpu())).to(device) \n",
        "\n",
        "                loss = criterion(outputs, labels)\n",
        "                val_loss += loss.cpu().numpy()\n",
        "\n",
        "        # with tune.checkpoint_dir(epoch) as checkpoint_dir:\n",
        "        #     path = os.path.join(checkpoint_dir, \"checkpoint\")\n",
        "        #     torch.save((net.state_dict(), optimizer.state_dict()), path)\n",
        "\n",
        "        # tune.report(epoch = epoch, loss=(val_loss / len(val_subset)))\n",
        "print(\"Finished Training\")\n",
        "device = \"cpu\"\n",
        "# best_trained_model.to(device)\n",
        "test_score_value = test_score(Best_trial_config, net, device)\n",
        "print(test_score_value)"
      ],
      "metadata": {
        "colab": {
          "base_uri": "https://localhost:8080/"
        },
        "id": "mDeOn4PBnTxe",
        "outputId": "c3cd00ff-0e2e-4dbb-9df1-b72870f0cc13"
      },
      "execution_count": 46,
      "outputs": [
        {
          "output_type": "stream",
          "name": "stdout",
          "text": [
            "Finished Training\n",
            "0.4039787035159856\n"
          ]
        }
      ]
    }
  ]
}
