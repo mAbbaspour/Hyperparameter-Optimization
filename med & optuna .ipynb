{
  "nbformat": 4,
  "nbformat_minor": 0,
  "metadata": {
    "colab": {
      "name": "Untitled2.ipynb",
      "provenance": [],
      "authorship_tag": "ABX9TyP2ApLpaZaaJiGxAt24QPpr",
      "include_colab_link": true
    },
    "kernelspec": {
      "name": "python3",
      "display_name": "Python 3"
    },
    "language_info": {
      "name": "python"
    }
  },
  "cells": [
    {
      "cell_type": "markdown",
      "metadata": {
        "id": "view-in-github",
        "colab_type": "text"
      },
      "source": [
        "<a href=\"https://colab.research.google.com/github/mAbbaspour/Hyperparameter-Optimization/blob/main/med%20%26%20optuna%20.ipynb\" target=\"_parent\"><img src=\"https://colab.research.google.com/assets/colab-badge.svg\" alt=\"Open In Colab\"/></a>"
      ]
    },
    {
      "cell_type": "code",
      "execution_count": 207,
      "metadata": {
        "id": "ILPIxw-kyDnX"
      },
      "outputs": [],
      "source": [
        "import torch\n",
        "import torch.nn as nn\n",
        "import torch.nn.functional as f\n",
        "import numpy as np\n",
        "import math;"
      ]
    },
    {
      "cell_type": "code",
      "source": [
        "from google.colab import files\n",
        "uploaded = files.upload()\n",
        "uploaded2 = files.upload()\n"
      ],
      "metadata": {
        "colab": {
          "resources": {
            "http://localhost:8080/nbextensions/google.colab/files.js": {
              "data": "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",
              "ok": true,
              "headers": [
                [
                  "content-type",
                  "application/javascript"
                ]
              ],
              "status": 200,
              "status_text": ""
            }
          },
          "base_uri": "https://localhost:8080/",
          "height": 130
        },
        "id": "u7FsUDH0yOsG",
        "outputId": "4c6f1004-41f6-4142-bb8d-4032b8df5edf"
      },
      "execution_count": 5,
      "outputs": [
        {
          "output_type": "display_data",
          "data": {
            "text/plain": [
              "<IPython.core.display.HTML object>"
            ],
            "text/html": [
              "\n",
              "     <input type=\"file\" id=\"files-161c01fc-0786-40b6-9783-1964c01e0d68\" name=\"files[]\" multiple disabled\n",
              "        style=\"border:none\" />\n",
              "     <output id=\"result-161c01fc-0786-40b6-9783-1964c01e0d68\">\n",
              "      Upload widget is only available when the cell has been executed in the\n",
              "      current browser session. Please rerun this cell to enable.\n",
              "      </output>\n",
              "      <script src=\"/nbextensions/google.colab/files.js\"></script> "
            ]
          },
          "metadata": {}
        },
        {
          "output_type": "stream",
          "name": "stdout",
          "text": [
            "Saving lipo(Lables).csv to lipo(Lables) (1).csv\n"
          ]
        },
        {
          "output_type": "display_data",
          "data": {
            "text/plain": [
              "<IPython.core.display.HTML object>"
            ],
            "text/html": [
              "\n",
              "     <input type=\"file\" id=\"files-6c51ad64-e1ce-468a-b2e7-9d3546a3eaf6\" name=\"files[]\" multiple disabled\n",
              "        style=\"border:none\" />\n",
              "     <output id=\"result-6c51ad64-e1ce-468a-b2e7-9d3546a3eaf6\">\n",
              "      Upload widget is only available when the cell has been executed in the\n",
              "      current browser session. Please rerun this cell to enable.\n",
              "      </output>\n",
              "      <script src=\"/nbextensions/google.colab/files.js\"></script> "
            ]
          },
          "metadata": {}
        },
        {
          "output_type": "stream",
          "name": "stdout",
          "text": [
            "Saving lipo_global_cdf_rdkit.csv to lipo_global_cdf_rdkit (1).csv\n"
          ]
        }
      ]
    },
    {
      "cell_type": "code",
      "source": [
        "import random\n",
        "random.seed(1)\n",
        "import pandas as pd\n",
        "import io\n",
        "from sklearn import preprocessing\n",
        "from sklearn.decomposition import PCA\n",
        "from sklearn.model_selection import train_test_split"
      ],
      "metadata": {
        "id": "kOlQesRTz5uf"
      },
      "execution_count": 208,
      "outputs": []
    },
    {
      "cell_type": "code",
      "source": [
        "data = pd.read_csv(io.BytesIO(uploaded2['lipo_global_cdf_rdkit.csv']))\n",
        "dataY = pd.read_csv(io.BytesIO(uploaded['lipo(Lables).csv']))\n",
        "print(data[data.isnull().any(axis=1)])"
      ],
      "metadata": {
        "colab": {
          "base_uri": "https://localhost:8080/"
        },
        "id": "fRMnWELk0hzG",
        "outputId": "aff1d5f4-6e53-481f-c866-19889d5d7ac2"
      },
      "execution_count": 209,
      "outputs": [
        {
          "output_type": "stream",
          "name": "stdout",
          "text": [
            "      ('RDKit2DNormalized_calculated', <class 'bool'>)  \\\n",
            "1561                                              True   \n",
            "\n",
            "      ('BalabanJ', <class 'numpy.float64'>)  \\\n",
            "1561                                  0.895   \n",
            "\n",
            "      ('BertzCT', <class 'numpy.float64'>)  ('Chi0', <class 'numpy.float64'>)  \\\n",
            "1561                              0.230752                           0.031331   \n",
            "\n",
            "      ('Chi0n', <class 'numpy.float64'>)  ('Chi0v', <class 'numpy.float64'>)  \\\n",
            "1561                            0.032387                            0.061726   \n",
            "\n",
            "      ('Chi1', <class 'numpy.float64'>)  ('Chi1n', <class 'numpy.float64'>)  \\\n",
            "1561                           0.050799                            0.045963   \n",
            "\n",
            "      ('Chi1v', <class 'numpy.float64'>)  ('Chi2n', <class 'numpy.float64'>)  \\\n",
            "1561                            0.116251                             0.04344   \n",
            "\n",
            "      ...  ('fr_sulfonamd', <class 'numpy.float64'>)  \\\n",
            "1561  ...                               1.593061e-17   \n",
            "\n",
            "      ('fr_sulfone', <class 'numpy.float64'>)  \\\n",
            "1561                             5.766101e-14   \n",
            "\n",
            "      ('fr_term_acetylene', <class 'numpy.float64'>)  \\\n",
            "1561                                    2.957989e-11   \n",
            "\n",
            "      ('fr_tetrazole', <class 'numpy.float64'>)  \\\n",
            "1561                                   0.168378   \n",
            "\n",
            "      ('fr_thiazole', <class 'numpy.float64'>)  \\\n",
            "1561                                   0.16738   \n",
            "\n",
            "      ('fr_thiocyan', <class 'numpy.float64'>)  \\\n",
            "1561                              1.481515e-18   \n",
            "\n",
            "      ('fr_thiophene', <class 'numpy.float64'>)  \\\n",
            "1561                               2.324150e-16   \n",
            "\n",
            "      ('fr_unbrch_alkane', <class 'numpy.float64'>)  \\\n",
            "1561                                   4.703598e-08   \n",
            "\n",
            "      ('fr_urea', <class 'numpy.float64'>)  ('qed', <class 'numpy.float64'>)  \n",
            "1561                              0.166633                          0.542261  \n",
            "\n",
            "[1 rows x 201 columns]\n"
          ]
        }
      ]
    },
    {
      "cell_type": "code",
      "source": [
        "data = data.drop(1561)\n",
        "dataY = dataY.drop(1561)\n"
      ],
      "metadata": {
        "id": "V3Ar9j9W07gS"
      },
      "execution_count": 210,
      "outputs": []
    },
    {
      "cell_type": "code",
      "source": [
        "arrayY = dataY.values\n",
        "Y = arrayY[0: ,1 ]\n",
        "array = data.values\n",
        "X = array[0:,1:]"
      ],
      "metadata": {
        "id": "gtHiOJkA1wtF"
      },
      "execution_count": 211,
      "outputs": []
    },
    {
      "cell_type": "code",
      "source": [
        "X_train, X_test ,Y_train , Y_test  = train_test_split(X, Y ,test_size=0.2)\n",
        "scaler_data  = preprocessing.MinMaxScaler()\n",
        "X_train = scaler_data.fit_transform(X_train)\n",
        "X_test =  scaler_data.transform(X_test)\n",
        "scaler_labels = preprocessing.MinMaxScaler()\n",
        "Y_train = scaler_labels.fit_transform(Y_train.reshape(-1, 1))\n",
        "Y_test = scaler_labels.transform(Y_test.reshape(-1, 1))\n"
      ],
      "metadata": {
        "id": "NPJmIBPJ13cJ"
      },
      "execution_count": 212,
      "outputs": []
    },
    {
      "cell_type": "code",
      "source": [
        "from sklearn.decomposition import PCA\n",
        "import matplotlib.pyplot as plt\n",
        "pca = PCA(n_components=200)\n",
        "pca.fit(X_train)\n",
        "print(pca.explained_variance_ratio_)\n",
        "plt.plot(np.arange(200),pca.explained_variance_ratio_)\n",
        "plt.show()"
      ],
      "metadata": {
        "colab": {
          "base_uri": "https://localhost:8080/",
          "height": 1000
        },
        "id": "A2vKgH1ioDmU",
        "outputId": "dda309dc-46fb-4c82-e89d-04cba59a630a"
      },
      "execution_count": 213,
      "outputs": [
        {
          "output_type": "stream",
          "name": "stdout",
          "text": [
            "[1.91474461e-01 7.13030031e-02 6.05795345e-02 5.32003960e-02\n",
            " 4.49900576e-02 4.26345394e-02 3.39114279e-02 3.08767138e-02\n",
            " 2.69378689e-02 2.52713180e-02 2.19279229e-02 2.09080449e-02\n",
            " 1.76472427e-02 1.73332261e-02 1.58191067e-02 1.50477975e-02\n",
            " 1.45823823e-02 1.36123524e-02 1.32565053e-02 1.20481294e-02\n",
            " 1.17159862e-02 1.03977082e-02 9.76276820e-03 9.33694112e-03\n",
            " 8.76711175e-03 8.50898713e-03 8.19812059e-03 7.63257977e-03\n",
            " 7.17219724e-03 6.88438715e-03 6.55831118e-03 6.24903864e-03\n",
            " 6.08243701e-03 5.69140598e-03 5.47380485e-03 4.96464022e-03\n",
            " 4.95056648e-03 4.86123279e-03 4.66984138e-03 4.42039230e-03\n",
            " 4.26260106e-03 4.10749079e-03 4.02358477e-03 3.84099535e-03\n",
            " 3.77209999e-03 3.52825139e-03 3.44870443e-03 3.27862557e-03\n",
            " 3.15718120e-03 3.06469174e-03 2.91070124e-03 2.82629254e-03\n",
            " 2.76916807e-03 2.73524105e-03 2.66641057e-03 2.55329008e-03\n",
            " 2.48485366e-03 2.28381692e-03 2.21695025e-03 2.13910370e-03\n",
            " 2.03096940e-03 1.96383057e-03 1.91025874e-03 1.84916711e-03\n",
            " 1.81103201e-03 1.72744562e-03 1.69388999e-03 1.57258102e-03\n",
            " 1.54582011e-03 1.40730316e-03 1.38552238e-03 1.33845645e-03\n",
            " 1.25871382e-03 1.21920618e-03 1.13980826e-03 1.10980428e-03\n",
            " 1.06531861e-03 1.00463707e-03 9.55435418e-04 9.35924058e-04\n",
            " 9.14958886e-04 8.46094598e-04 8.40191880e-04 8.03783728e-04\n",
            " 7.97858477e-04 7.83923341e-04 7.62332858e-04 7.15764241e-04\n",
            " 6.87326284e-04 6.55442442e-04 6.34859391e-04 6.11647138e-04\n",
            " 5.90327349e-04 5.70001300e-04 5.54146410e-04 5.20118044e-04\n",
            " 5.10546796e-04 4.94694465e-04 4.69243110e-04 4.50361198e-04\n",
            " 4.44365750e-04 4.42136880e-04 4.17480719e-04 3.88593752e-04\n",
            " 3.79921255e-04 3.60104010e-04 3.53105146e-04 3.42469664e-04\n",
            " 3.28605760e-04 3.20773266e-04 2.98035989e-04 2.94662332e-04\n",
            " 2.89083921e-04 2.83073793e-04 2.73321120e-04 2.58784588e-04\n",
            " 2.49502780e-04 2.35472437e-04 2.22209119e-04 2.17634727e-04\n",
            " 2.07079740e-04 1.85669675e-04 1.83634443e-04 1.79363593e-04\n",
            " 1.69241695e-04 1.61999841e-04 1.54246900e-04 1.48311903e-04\n",
            " 1.42752813e-04 1.32536678e-04 1.31808853e-04 1.20726475e-04\n",
            " 1.13306728e-04 1.08240385e-04 1.03184069e-04 9.69944049e-05\n",
            " 9.43788894e-05 8.82942797e-05 8.39112504e-05 7.93535967e-05\n",
            " 7.27065602e-05 7.05675946e-05 6.64450094e-05 6.37825901e-05\n",
            " 6.05533432e-05 5.65394026e-05 5.45655620e-05 5.25344888e-05\n",
            " 5.10982713e-05 4.71517699e-05 4.43583489e-05 4.25600633e-05\n",
            " 4.11897209e-05 3.97549975e-05 3.25247792e-05 3.10516937e-05\n",
            " 3.00060959e-05 2.78889112e-05 2.63333567e-05 2.18254675e-05\n",
            " 1.87811281e-05 1.59133817e-05 1.48655095e-05 1.37438198e-05\n",
            " 1.20519761e-05 1.17304531e-05 6.87425562e-06 5.27432637e-06\n",
            " 4.23443970e-06 3.53249448e-06 2.84900730e-06 1.88133391e-06\n",
            " 6.51256853e-07 3.05380508e-07 1.43243216e-07 5.34084906e-08\n",
            " 1.41012635e-08 2.80285385e-19 1.08221330e-30 3.77616792e-32\n",
            " 1.09925728e-33 1.09925728e-33 1.09925728e-33 1.09925728e-33\n",
            " 1.09925728e-33 1.09925728e-33 1.09925728e-33 1.09925728e-33\n",
            " 1.09925728e-33 1.09925728e-33 1.09925728e-33 1.09925728e-33\n",
            " 1.09925728e-33 1.09925728e-33 1.09925728e-33 1.09925728e-33\n",
            " 1.09925728e-33 1.09925728e-33 1.09925728e-33 7.98740506e-34]\n"
          ]
        },
        {
          "output_type": "display_data",
          "data": {
            "text/plain": [
              "<Figure size 432x288 with 1 Axes>"
            ],
            "image/png": "[encoded data removed]"
          },
          "metadata": {
            "needs_background": "light"
          }
        }
      ]
    },
    {
      "cell_type": "code",
      "source": [
        "pca = PCA(n_components=75)\n",
        "pca.fit(X_train)\n",
        "X_train=pca.transform(X_train)\n",
        "\n",
        "\n",
        "\n",
        "X_test = pca.transform(X_test)\n"
      ],
      "metadata": {
        "id": "GfGtQhtaok_8"
      },
      "execution_count": 214,
      "outputs": []
    },
    {
      "cell_type": "code",
      "source": [
        "print(X_test.shape)\n",
        "print(Y_test.shape)\n",
        "print(X_train.shape)\n",
        "print(Y_train.shape)\n",
        "device = torch.device('cuda:0' if torch.cuda.is_available() else 'cpu')"
      ],
      "metadata": {
        "colab": {
          "base_uri": "https://localhost:8080/"
        },
        "id": "PNk098Tl2z43",
        "outputId": "9850cef1-0b35-438f-85fa-41322fd28678"
      },
      "execution_count": 215,
      "outputs": [
        {
          "output_type": "stream",
          "name": "stdout",
          "text": [
            "(840, 75)\n",
            "(840, 1)\n",
            "(3359, 75)\n",
            "(3359, 1)\n"
          ]
        }
      ]
    },
    {
      "cell_type": "code",
      "source": [
        "Y_train_new =  Y_train.astype(np.float)\n",
        "Y_test_new = Y_test.astype(np.float)\n",
        "print(Y_train_new.shape)\n",
        "print(Y_test_new.shape)\n",
        "device = torch.device('cuda:0' if torch.cuda.is_available() else 'cpu')\n",
        "tensor_x_train = torch.tensor(X_train, dtype=torch.float).to(device) \n",
        "tensor_x_test = torch.tensor(X_test, dtype=torch.float).to(device) \n",
        "\n",
        "tensor_y_train = torch.tensor(Y_train_new , dtype=torch.float).to(device)\n",
        "tensor_y_test= torch.tensor(Y_test_new, dtype=torch.float).to(device)\n"
      ],
      "metadata": {
        "colab": {
          "base_uri": "https://localhost:8080/"
        },
        "id": "a2MoxZYK29NR",
        "outputId": "ae4e4235-1a7e-4bc2-c8c5-6f5475102736"
      },
      "execution_count": 216,
      "outputs": [
        {
          "output_type": "stream",
          "name": "stdout",
          "text": [
            "(3359, 1)\n",
            "(840, 1)\n"
          ]
        },
        {
          "output_type": "stream",
          "name": "stderr",
          "text": [
            "/usr/local/lib/python3.7/dist-packages/ipykernel_launcher.py:1: DeprecationWarning: `np.float` is a deprecated alias for the builtin `float`. To silence this warning, use `float` by itself. Doing this will not modify any behavior and is safe. If you specifically wanted the numpy scalar type, use `np.float64` here.\n",
            "Deprecated in NumPy 1.20; for more details and guidance: https://numpy.org/devdocs/release/1.20.0-notes.html#deprecations\n",
            "  \"\"\"Entry point for launching an IPython kernel.\n",
            "/usr/local/lib/python3.7/dist-packages/ipykernel_launcher.py:2: DeprecationWarning: `np.float` is a deprecated alias for the builtin `float`. To silence this warning, use `float` by itself. Doing this will not modify any behavior and is safe. If you specifically wanted the numpy scalar type, use `np.float64` here.\n",
            "Deprecated in NumPy 1.20; for more details and guidance: https://numpy.org/devdocs/release/1.20.0-notes.html#deprecations\n",
            "  \n"
          ]
        }
      ]
    },
    {
      "cell_type": "code",
      "source": [
        "from torch.utils.data import TensorDataset\n",
        "trainset = TensorDataset(tensor_x_train, tensor_y_train) \n",
        "testset = TensorDataset(tensor_x_test,tensor_y_test)"
      ],
      "metadata": {
        "id": "rDqhgM0F3I-t"
      },
      "execution_count": 217,
      "outputs": []
    },
    {
      "cell_type": "code",
      "source": [
        "%%capture\n",
        "try:\n",
        "    import ray\n",
        "except:\n",
        "    !pip install -U ray\n",
        "    import ray"
      ],
      "metadata": {
        "id": "omvheB7z3cZd"
      },
      "execution_count": 218,
      "outputs": []
    },
    {
      "cell_type": "code",
      "source": [
        "from functools import partial\n",
        "import numpy as np\n",
        "import os\n",
        "import torch.nn.functional as F\n",
        "import torch.optim as optim\n",
        "from torch.utils.data import random_split\n",
        "from torchsummary import summary\n",
        "\n",
        "from ray import tune\n",
        "# a = {\"a\":tune.quniform(50, 200, 10) , \"b\": 5}\n",
        "# print(type(a.get(\"a\")))\n",
        "from ray.tune import CLIReporter\n",
        "from ray.tune.schedulers import ASHAScheduler"
      ],
      "metadata": {
        "id": "7B0YdBu93fDD"
      },
      "execution_count": 219,
      "outputs": []
    },
    {
      "cell_type": "code",
      "source": [
        "def load_data(data_dir=None):\n",
        "    return trainset, testset"
      ],
      "metadata": {
        "id": "TXohltqA3lPE"
      },
      "execution_count": 220,
      "outputs": []
    },
    {
      "cell_type": "code",
      "source": [
        "# # Net().__init__(self , confing) \n",
        "#     config = {\n",
        "#         \"act1 \": tune.choice([\"relu\",\"tanh\",\"selu\"]),\n",
        "#         \"act2\" : tune.choice([\"relu\",\"tanh\",\"selu\"]),\n",
        "#         \"act3\" : tune.choice([\"relu\",\"tanh\",\"selu\"]),\n",
        "#         \"lr\": tune.quniform(0.0005, 0.001, 0.0001),\n",
        "#         \"batch_size\": tune.choice([8, 16, 32]),\n",
        "#         \"hidden_dim1\" : tune.quniform(50, 200, 10),\n",
        "#         \"hidden_dim2\" : tune.quniform(50, 200, 10),\n",
        "#         \"hidden_dim3\" : tune.quniform(50, 200, 10),\n",
        "#     }\n",
        "#   self = { \"confing\": confing , \"hd\":}\n",
        "class Net(nn.Module):\n",
        "    def __init__(self, config):\n",
        "        super().__init__()\n",
        "\n",
        "        self.config = config\n",
        "        self.hidden_dim1 = int(self.config.get(\"hidden_dim1\", 100))\n",
        "        self.hidden_dim2 = int(self.config.get(\"hidden_dim2\", 100))\n",
        "        self.hidden_dim3 = int(self.config.get(\"hidden_dim3\", 100))\n",
        "\n",
        "        self.act1 = self.config.get(\"act1\", \"relu\") \n",
        "        self.act2 = self.config.get(\"act2\", \"relu\") \n",
        "        self.act3 = self.config.get(\"act3\", \"relu\")\n",
        "\n",
        "        self.linear1 = nn.Linear(75, self.hidden_dim1)\n",
        "        self.linear2 = nn.Linear(self.hidden_dim1, self.hidden_dim2)\n",
        "        self.linear3 = nn.Linear(self.hidden_dim2, self.hidden_dim3)\n",
        "        self.linear4 = nn.Linear(self.hidden_dim3, 1)\n",
        "    \n",
        "    @staticmethod\n",
        "    def activation_func(act_str):\n",
        "        if act_str==\"tanh\":\n",
        "            return eval(\"torch.\"+act_str)\n",
        "        elif act_str==\"selu\" or act_str==\"relu\":   \n",
        "            return eval(\"torch.nn.functional.\"+act_str)\n",
        "\n",
        "    def forward(self, x):\n",
        "        output = self.linear1(x)\n",
        "        output = self.activation_func(self.act1)(output)\n",
        "        output = self.linear2(output)\n",
        "        output = self.activation_func(self.act2)(output)\n",
        "        output = self.linear3(output)\n",
        "        output = self.activation_func(self.act3)(output)\n",
        "        output = self.linear4(output)        \n",
        "        return output"
      ],
      "metadata": {
        "id": "pL-xixOc3n7s"
      },
      "execution_count": 221,
      "outputs": []
    },
    {
      "cell_type": "code",
      "source": [
        "model = Net({})"
      ],
      "metadata": {
        "id": "0r654a5N3rr7"
      },
      "execution_count": 222,
      "outputs": []
    },
    {
      "cell_type": "code",
      "source": [
        "from prettytable import PrettyTable\n",
        "\n",
        "def count_parameters(model):\n",
        "    table = PrettyTable([\"Modules\", \"Parameters\"])\n",
        "    total_params = 0\n",
        "    for name, parameter in model.named_parameters():\n",
        "        if not parameter.requires_grad: continue\n",
        "        param = parameter.numel()\n",
        "        table.add_row([name, param])\n",
        "        total_params+=param\n",
        "    print(table)\n",
        "    print(f\"Total Trainable Params: {total_params}\")\n",
        "    return total_params"
      ],
      "metadata": {
        "id": "CMv6wpET3t6T"
      },
      "execution_count": 223,
      "outputs": []
    },
    {
      "cell_type": "code",
      "source": [
        "summary(model, (1,tensor_x_train.shape[1]))\n",
        "\n",
        "count_parameters(model)"
      ],
      "metadata": {
        "colab": {
          "base_uri": "https://localhost:8080/"
        },
        "id": "mTP2lYjZ3woI",
        "outputId": "26cd9fbe-9a92-461e-f11e-57dddf9bdd8e"
      },
      "execution_count": 224,
      "outputs": [
        {
          "output_type": "stream",
          "name": "stdout",
          "text": [
            "----------------------------------------------------------------\n",
            "        Layer (type)               Output Shape         Param #\n",
            "================================================================\n",
            "            Linear-1               [-1, 1, 100]           7,600\n",
            "            Linear-2               [-1, 1, 100]          10,100\n",
            "            Linear-3               [-1, 1, 100]          10,100\n",
            "            Linear-4                 [-1, 1, 1]             101\n",
            "================================================================\n",
            "Total params: 27,901\n",
            "Trainable params: 27,901\n",
            "Non-trainable params: 0\n",
            "----------------------------------------------------------------\n",
            "Input size (MB): 0.00\n",
            "Forward/backward pass size (MB): 0.00\n",
            "Params size (MB): 0.11\n",
            "Estimated Total Size (MB): 0.11\n",
            "----------------------------------------------------------------\n",
            "+----------------+------------+\n",
            "|    Modules     | Parameters |\n",
            "+----------------+------------+\n",
            "| linear1.weight |    7500    |\n",
            "|  linear1.bias  |    100     |\n",
            "| linear2.weight |   10000    |\n",
            "|  linear2.bias  |    100     |\n",
            "| linear3.weight |   10000    |\n",
            "|  linear3.bias  |    100     |\n",
            "| linear4.weight |    100     |\n",
            "|  linear4.bias  |     1      |\n",
            "+----------------+------------+\n",
            "Total Trainable Params: 27901\n"
          ]
        },
        {
          "output_type": "execute_result",
          "data": {
            "text/plain": [
              "27901"
            ]
          },
          "metadata": {},
          "execution_count": 224
        }
      ]
    },
    {
      "cell_type": "code",
      "source": [
        "def trainable_func(config, checkpoint_dir=None, data_dir=None, epochs=10):\n",
        "\n",
        "    net = Net(config)\n",
        "\n",
        "    device = \"cpu\"\n",
        "    if torch.cuda.is_available():\n",
        "        device = \"cuda:0\"\n",
        "        if torch.cuda.device_count() > 1:\n",
        "            net = nn.DataParallel(net)\n",
        "    net.to(device)\n",
        "\n",
        "    '''\n",
        "    Define a loss function\n",
        "    '''\n",
        "    ## Classification\n",
        "    # criterion = nn.CrossEntropyLoss()\n",
        "\n",
        "    ## Regression\n",
        "    criterion = nn.MSELoss(reduction='sum')\n",
        "\n",
        "    # Define an optimizer \n",
        "    optimizer = optim.Adam(net.parameters(), lr=config.get(\"lr\",0.0003))\n",
        "\n",
        "    if checkpoint_dir:\n",
        "        model_state, optimizer_state = torch.load(\n",
        "            os.path.join(checkpoint_dir, \"checkpoint\"))\n",
        "        net.load_state_dict(model_state)\n",
        "        optimizer.load_state_dict(optimizer_state)\n",
        "\n",
        "    # Load data\n",
        "    trainset, testset = load_data(data_dir)\n",
        "\n",
        "    # Split the dataset into training and validation sets\n",
        "    train_size = int(len(trainset) * 0.8)\n",
        "    train_subset, val_subset = random_split(trainset, [train_size, len(trainset) - train_size])\n",
        "\n",
        "    # Define data loaders (which combines a dataset and a sampler, and provides an iterable over the given dataset)\n",
        "    trainloader = torch.utils.data.DataLoader(\n",
        "        train_subset,\n",
        "        batch_size=int(config.get(\"batch_size\",32)),\n",
        "        shuffle=True,\n",
        "        num_workers=2)\n",
        "    valloader = torch.utils.data.DataLoader(\n",
        "        val_subset,\n",
        "        batch_size=int(config.get(\"batch_size\",32)),\n",
        "        shuffle=True,\n",
        "        num_workers=2)\n",
        "\n",
        "    for epoch in range(epochs):  # loop over the dataset multiple times\n",
        "        epoch_train_loss = 0.0\n",
        "        # epoch_steps = 0\n",
        "        net.train() # Prepare model for training\n",
        "        for i, data in enumerate(trainloader):\n",
        "            # get the inputs; data is a list of [inputs, labels]\n",
        "            inputs, labels = data\n",
        "            inputs, labels = inputs.to(device), labels.to(device)\n",
        "\n",
        "            # zero the parameter gradients\n",
        "            optimizer.zero_grad()\n",
        "\n",
        "            # forward + backward + optimize\n",
        "            outputs = net(inputs)\n",
        "            loss = criterion(outputs, labels)\n",
        "            loss.backward()\n",
        "            optimizer.step()\n",
        "\n",
        "            '''\n",
        "            Compute train loss without scaling to print\n",
        "            ''' \n",
        "            # outputs = torch.tensor(scaler_labels.inverse_transform(outputs.detach().cpu())).to(device)    \n",
        "            # labels = torch.tensor(scaler_labels.inverse_transform(labels.cpu())).to(device)  \n",
        "            # loss_train = criterion(outputs, labels) \n",
        "            # epoch_train_loss += loss_train.detach().item()\n",
        "        # print(\"[%d] loss: %.3f\" % (epoch + 1, epoch_train_loss / len(train_subset)))\n",
        "\n",
        "        # Validation loss\n",
        "        val_loss = 0.0\n",
        "        net.eval() # Prepare model for evaluation\n",
        "        for i, data in enumerate(valloader):\n",
        "            with torch.no_grad():\n",
        "                inputs, labels = data\n",
        "                inputs, labels = inputs.to(device), labels.to(device)\n",
        "\n",
        "                outputs = net(inputs)\n",
        "\n",
        "                # Inverse transform of the labels' scaler\n",
        "                outputs = torch.tensor(scaler_labels.inverse_transform(outputs.detach().cpu())).to(device)    \n",
        "                labels = torch.tensor(scaler_labels.inverse_transform(labels.cpu())).to(device) \n",
        "\n",
        "                loss = criterion(outputs, labels)\n",
        "                val_loss += loss.cpu().numpy()\n",
        "\n",
        "        with tune.checkpoint_dir(epoch) as checkpoint_dir:\n",
        "            path = os.path.join(checkpoint_dir, \"checkpoint\")\n",
        "            torch.save((net.state_dict(), optimizer.state_dict()), path)\n",
        "\n",
        "        tune.report(epoch = epoch, loss=(val_loss / len(val_subset)))\n",
        "    print(\"Finished Training\")"
      ],
      "metadata": {
        "id": "XLgl-qIy3yrx"
      },
      "execution_count": 225,
      "outputs": []
    },
    {
      "cell_type": "code",
      "source": [
        "def test_score(config, net, device=\"cpu\"):\n",
        "    trainset, testset = load_data()\n",
        "\n",
        "    testloader = torch.utils.data.DataLoader(\n",
        "        testset, batch_size=int(config.get(\"batch_size\",32)), shuffle=False, num_workers=2)\n",
        "    \n",
        "    ## Regression\n",
        "    criterion = nn.MSELoss(reduction='sum')\n",
        "\n",
        "    # Test loss\n",
        "    test_loss = 0.0\n",
        "    net.eval() # Prepare model for evaluation\n",
        "    for i, data in enumerate(testloader):\n",
        "        with torch.no_grad():\n",
        "            inputs, labels = data\n",
        "            inputs, labels = inputs.to(device), labels.to(device)\n",
        "\n",
        "            outputs = net(inputs)\n",
        "\n",
        "            # Inverse transform of the labels' scaler\n",
        "            outputs = torch.tensor(scaler_labels.inverse_transform(outputs.detach().cpu())).to(device)    \n",
        "            labels = torch.tensor(scaler_labels.inverse_transform(labels.cpu())).to(device) \n",
        "\n",
        "            loss = criterion(outputs, labels)\n",
        "            test_loss += loss.cpu().numpy()\n",
        "\n",
        "    return test_loss / len(testset)"
      ],
      "metadata": {
        "id": "9XPNE3So332_"
      },
      "execution_count": 226,
      "outputs": []
    },
    {
      "cell_type": "code",
      "source": [
        "ray.shutdown()\n",
        "ray.init() # Here we use ray.init() to evaluate available_resources for Ray\n",
        "print(ray.available_resources())\n",
        "ray.shutdown()  # Restart Ray defensively in case the ray connection is lost. \n",
        "\n",
        "# Start Ray runtime with specific resources (not nessesarily all resources)\n",
        "# You can change this values based on your machine resources)\n",
        "ray.init(num_cpus=2, num_gpus=0) \n",
        "\n",
        "\"\"\"Check Ray Tune is working properly (for trainable class)\"\"\"\n",
        "# from ray.tune.utils import validate_save_restore\n",
        "# validate_save_restore(Trainable)\n",
        "# validate_save_restore(Trainable, use_object_store=True)\n",
        "# print(\"Success!\")\n",
        "\"\"\"\"\"\""
      ],
      "metadata": {
        "colab": {
          "base_uri": "https://localhost:8080/",
          "height": 54
        },
        "id": "RiMw9ywn37Eg",
        "outputId": "3b7bf9bd-ebda-490f-998d-d3712e3ca820"
      },
      "execution_count": 227,
      "outputs": [
        {
          "output_type": "stream",
          "name": "stdout",
          "text": [
            "{'CPU': 2.0, 'node:172.28.0.2': 1.0, 'object_store_memory': 4011017011.0, 'memory': 8022034023.0}\n"
          ]
        },
        {
          "output_type": "execute_result",
          "data": {
            "text/plain": [
              "''"
            ],
            "application/vnd.google.colaboratory.intrinsic+json": {
              "type": "string"
            }
          },
          "metadata": {},
          "execution_count": 227
        }
      ]
    },
    {
      "cell_type": "code",
      "source": [
        "%%capture\n",
        "\n",
        "%pip install hpbandster ConfigSpace\n",
        "!pip install hpbandster ConfigSpace\n",
        "!pip install bayesian-optimization"
      ],
      "metadata": {
        "id": "NjXuthUt39_d"
      },
      "execution_count": 228,
      "outputs": []
    },
    {
      "cell_type": "code",
      "source": [
        "ray.shutdown()\n",
        "from ray.tune.schedulers import AsyncHyperBandScheduler\n",
        "from ray.tune.suggest.hyperopt import HyperOptSearch\n",
        "from ray.tune.suggest.bayesopt import BayesOptSearch\n",
        "from ray.tune.suggest.hyperopt import HyperOptSearch\n",
        "from ray.tune.schedulers import PopulationBasedTraining\n",
        "ray.shutdown()\n",
        "from ray.tune.schedulers import AsyncHyperBandScheduler\n",
        "from ray.tune.suggest.hyperopt import HyperOptSearch\n",
        "from ray.tune.suggest.bayesopt import BayesOptSearch\n",
        "from ray.tune.suggest.hyperopt import HyperOptSearch\n",
        "from ray.tune.schedulers import PopulationBasedTraining\n",
        "from ray.tune.schedulers import MedianStoppingRule\n",
        "def main(num_samples=10, max_num_epochs=10, gpus_per_trial=2):\n",
        "\n",
        "    # define data directory here if you want to load data from files\n",
        "    data_dir = os.path.abspath(\"./data\")\n",
        "    load_data(data_dir)\n",
        "\n",
        "    # define the search space of hyperparameters\n",
        "    config = {\n",
        "        \"act1 \": tune.choice([\"relu\",\"tanh\",\"selu\"]),\n",
        "        \"act2\" : tune.choice([\"relu\",\"tanh\",\"selu\"]),\n",
        "        \"act3\" : tune.choice([\"relu\",\"tanh\",\"selu\"]),\n",
        "        \"lr\": tune.quniform(0.0005, 0.001, 0.0001),\n",
        "        \"batch_size\": tune.choice([ 8,16, 32 , 64]),\n",
        "        \"hidden_dim1\" : tune.quniform(120, 330, 15),\n",
        "        \"hidden_dim2\" : tune.quniform(120, 330, 15),\n",
        "        \"hidden_dim3\" : tune.quniform(120, 330, 15),\n",
        "    }\n",
        "\n",
        "    # Optuna search algorithm\n",
        "    from ray.tune.suggest.optuna import OptunaSearch \n",
        "    from ray.tune.suggest import ConcurrencyLimiter\n",
        "    search_alg = OptunaSearch(\n",
        "        metric=\"loss\", #or accuracy, etc.\n",
        "        mode=\"min\", #or max\n",
        "        # seed = 42,\n",
        "        # points_to_evaluate=[\n",
        "        # {'lr': 0.0005, 'hidden_size': 150.0, 'readout1_out': 200.0, 'readout2_out': 180.0}\n",
        "        # ],\n",
        "        )\n",
        "    search_alg = ConcurrencyLimiter(search_alg, max_concurrent=10)\n",
        "    training_iteration = 50\n",
        "    scheduler = MedianStoppingRule(\n",
        "    time_attr=\"training_iteration\",\n",
        "    grace_period=10,\n",
        "    min_samples_required=10,\n",
        "    hard_stop = True,\n",
        "    metric=\"loss\", #or accuracy, etc.\n",
        "    mode=\"min\", #or max\n",
        "    )\n",
        "    \n",
        "    reporter = CLIReporter(\n",
        "        # parameter_columns=[\"l1\", \"l2\", \"lr\", \"batch_size\"],\n",
        "        metric_columns=[\"loss\", \"training_iteration\"]\n",
        "        )\n",
        "    \n",
        "    # wrap data loading and training for tuning using `partial` \n",
        "    # (note that there exist other methods for this purpose)\n",
        "    result = tune.run(\n",
        "        partial(trainable_func, data_dir=data_dir, epochs=max_num_epochs),\n",
        "        scheduler=scheduler,\n",
        "        search_alg=search_alg,\n",
        "        num_samples=num_samples,\n",
        "        config=config,\n",
        "        verbose=2,\n",
        "        checkpoint_score_attr=\"loss\",\n",
        "        checkpoint_freq=0,\n",
        "        keep_checkpoints_num=1,\n",
        "        # checkpoint_at_end=True,\n",
        "        # reuse_actors=reuse_actors_status,\n",
        "        progress_reporter=reporter,\n",
        "        resources_per_trial={\"cpu\": 0.5, \"gpu\": gpus_per_trial},\n",
        "        stop={\"training_iteration\": max_num_epochs},                \n",
        "        )\n",
        "\n",
        "    best_trial = result.get_best_trial(\"loss\", \"min\", \"last\")\n",
        "    print(\"Best trial config: {}\".format(best_trial.config))\n",
        "    print(\"Best trial final validation score: {}\".format(\n",
        "        best_trial.last_result[\"loss\"]))\n",
        "\n",
        "    best_trained_model = Net(best_trial.config)\n",
        "    device = \"cpu\"\n",
        "    if torch.cuda.is_available():\n",
        "        device = \"cuda:0\"\n",
        "        if gpus_per_trial > 1:\n",
        "            best_trained_model = nn.DataParallel(best_trained_model)\n",
        "    best_trained_model.to(device)\n",
        "\n",
        "    best_checkpoint_dir = best_trial.checkpoint.value\n",
        "    model_state, optimizer_state = torch.load(os.path.join(\n",
        "        best_checkpoint_dir, \"checkpoint\"))\n",
        "    best_trained_model.load_state_dict(model_state)\n",
        "\n",
        "    test_score_value = test_score(best_trial.config, best_trained_model, device)\n",
        "    print(\"Best trial test set score: {}\".format(test_score_value))\n",
        "\n",
        "\n",
        "if __name__ == \"__main__\":\n",
        "    # You can change the number of GPUs per trial here:\n",
        "    main(num_samples=50, max_num_epochs=50, gpus_per_trial=0)\n"
      ],
      "metadata": {
        "colab": {
          "base_uri": "https://localhost:8080/"
        },
        "id": "sCHeQbrS4BYR",
        "outputId": "6679b7e3-a629-45b0-9104-a9ab9e116089"
      },
      "execution_count": 229,
      "outputs": [
        {
          "output_type": "stream",
          "name": "stderr",
          "text": [
            "2022-07-26 14:32:58,479\tINFO tune.py:874 -- Initializing Ray automatically.For cluster usage or custom Ray initialization, call `ray.init(...)` before `tune.run`.\n",
            "\u001b[32m[I 2022-07-26 14:33:03,153]\u001b[0m A new study created in memory with name: optuna\u001b[0m\n",
            "2022-07-26 14:33:03,158\tWARNING callback.py:106 -- The TensorboardX logger cannot be instantiated because either TensorboardX or one of it's dependencies is not installed. Please make sure you have the latest version of TensorboardX installed: `pip install -U tensorboardx`\n"
          ]
        },
        {
          "output_type": "stream",
          "name": "stdout",
          "text": [
            "== Status ==\n",
            "Current time: 2022-07-26 14:33:03 (running for 00:00:00.23)\n",
            "Memory usage on this node: 1.4/12.7 GiB\n",
            "Using MedianStoppingRule: num_stopped=0.\n",
            "Resources requested: 0.5/2 CPUs, 0/0 GPUs, 0.0/7.47 GiB heap, 0.0/3.73 GiB objects\n",
            "Result logdir: /root/ray_results/trainable_func_2022-07-26_14-33-03\n",
            "Number of trials: 1/50 (1 RUNNING)\n",
            "\n",
            "\n",
            "== Status ==\n",
            "Current time: 2022-07-26 14:33:08 (running for 00:00:05.41)\n",
            "Memory usage on this node: 1.6/12.7 GiB\n",
            "Using MedianStoppingRule: num_stopped=0.\n",
            "Resources requested: 2.0/2 CPUs, 0/0 GPUs, 0.0/7.47 GiB heap, 0.0/3.73 GiB objects\n",
            "Result logdir: /root/ray_results/trainable_func_2022-07-26_14-33-03\n",
            "Number of trials: 5/50 (1 PENDING, 4 RUNNING)\n",
            "\n",
            "\n",
            "== Status ==\n",
            "Current time: 2022-07-26 14:33:13 (running for 00:00:10.42)\n",
            "Memory usage on this node: 2.0/12.7 GiB\n",
            "Using MedianStoppingRule: num_stopped=0.\n",
            "Resources requested: 2.0/2 CPUs, 0/0 GPUs, 0.0/7.47 GiB heap, 0.0/3.73 GiB objects\n",
            "Result logdir: /root/ray_results/trainable_func_2022-07-26_14-33-03\n",
            "Number of trials: 5/50 (1 PENDING, 4 RUNNING)\n",
            "\n",
            "\n",
            "Trial trainable_func_db477d10 reported epoch=0,loss=0.6672396430266796,should_checkpoint=True with parameters={'act1 ': 'tanh', 'act2': 'selu', 'act3': 'tanh', 'lr': 0.001, 'batch_size': 32, 'hidden_dim1': 240.0, 'hidden_dim2': 315.0, 'hidden_dim3': 165.0}.\n",
            "Trial trainable_func_db2426a8 reported epoch=0,loss=0.6172199602093805,should_checkpoint=True with parameters={'act1 ': 'selu', 'act2': 'selu', 'act3': 'tanh', 'lr': 0.0006000000000000001, 'batch_size': 32, 'hidden_dim1': 315.0, 'hidden_dim2': 210.0, 'hidden_dim3': 300.0}.\n",
            "== Status ==\n",
            "Current time: 2022-07-26 14:33:18 (running for 00:00:15.72)\n",
            "Memory usage on this node: 2.2/12.7 GiB\n",
            "Using MedianStoppingRule: num_stopped=0.\n",
            "Resources requested: 2.0/2 CPUs, 0/0 GPUs, 0.0/7.47 GiB heap, 0.0/3.73 GiB objects\n",
            "Result logdir: /root/ray_results/trainable_func_2022-07-26_14-33-03\n",
            "Number of trials: 5/50 (1 PENDING, 4 RUNNING)\n",
            "\n",
            "\n",
            "Trial trainable_func_db4df2bc reported epoch=0,loss=0.8625507479408553,should_checkpoint=True with parameters={'act1 ': 'tanh', 'act2': 'relu', 'act3': 'selu', 'lr': 0.0009, 'batch_size': 64, 'hidden_dim1': 255.0, 'hidden_dim2': 255.0, 'hidden_dim3': 285.0}.\n",
            "Trial trainable_func_db2426a8 reported epoch=2,loss=0.6050117660795571,should_checkpoint=True with parameters={'act1 ': 'selu', 'act2': 'selu', 'act3': 'tanh', 'lr': 0.0006000000000000001, 'batch_size': 32, 'hidden_dim1': 315.0, 'hidden_dim2': 210.0, 'hidden_dim3': 300.0}.\n",
            "Trial trainable_func_db477d10 reported epoch=3,loss=0.5707131865614026,should_checkpoint=True with parameters={'act1 ': 'tanh', 'act2': 'selu', 'act3': 'tanh', 'lr': 0.001, 'batch_size': 32, 'hidden_dim1': 240.0, 'hidden_dim2': 315.0, 'hidden_dim3': 165.0}.\n",
            "== Status ==\n",
            "Current time: 2022-07-26 14:33:24 (running for 00:00:21.06)\n",
            "Memory usage on this node: 2.3/12.7 GiB\n",
            "Using MedianStoppingRule: num_stopped=0.\n",
            "Resources requested: 2.0/2 CPUs, 0/0 GPUs, 0.0/7.47 GiB heap, 0.0/3.73 GiB objects\n",
            "Result logdir: /root/ray_results/trainable_func_2022-07-26_14-33-03\n",
            "Number of trials: 5/50 (1 PENDING, 4 RUNNING)\n",
            "\n",
            "\n",
            "Trial trainable_func_db547e7a reported epoch=0,loss=0.6603988429454736,should_checkpoint=True with parameters={'act1 ': 'selu', 'act2': 'tanh', 'act3': 'relu', 'lr': 0.0009, 'batch_size': 16, 'hidden_dim1': 225.0, 'hidden_dim2': 195.0, 'hidden_dim3': 255.0}.\n",
            "Trial trainable_func_db4df2bc reported epoch=3,loss=0.5702471310357808,should_checkpoint=True with parameters={'act1 ': 'tanh', 'act2': 'relu', 'act3': 'selu', 'lr': 0.0009, 'batch_size': 64, 'hidden_dim1': 255.0, 'hidden_dim2': 255.0, 'hidden_dim3': 285.0}.\n",
            "Trial trainable_func_db2426a8 reported epoch=4,loss=0.4777515140059225,should_checkpoint=True with parameters={'act1 ': 'selu', 'act2': 'selu', 'act3': 'tanh', 'lr': 0.0006000000000000001, 'batch_size': 32, 'hidden_dim1': 315.0, 'hidden_dim2': 210.0, 'hidden_dim3': 300.0}.\n",
            "== Status ==\n",
            "Current time: 2022-07-26 14:33:30 (running for 00:00:26.85)\n",
            "Memory usage on this node: 2.3/12.7 GiB\n",
            "Using MedianStoppingRule: num_stopped=0.\n",
            "Resources requested: 2.0/2 CPUs, 0/0 GPUs, 0.0/7.47 GiB heap, 0.0/3.73 GiB objects\n",
            "Result logdir: /root/ray_results/trainable_func_2022-07-26_14-33-03\n",
            "Number of trials: 5/50 (1 PENDING, 4 RUNNING)\n",
            "\n",
            "\n",
            "Trial trainable_func_db477d10 reported epoch=5,loss=0.5283577669421601,should_checkpoint=True with parameters={'act1 ': 'tanh', 'act2': 'selu', 'act3': 'tanh', 'lr': 0.001, 'batch_size': 32, 'hidden_dim1': 240.0, 'hidden_dim2': 315.0, 'hidden_dim3': 165.0}.\n",
            "Trial trainable_func_db4df2bc reported epoch=6,loss=0.575188133138396,should_checkpoint=True with parameters={'act1 ': 'tanh', 'act2': 'relu', 'act3': 'selu', 'lr': 0.0009, 'batch_size': 64, 'hidden_dim1': 255.0, 'hidden_dim2': 255.0, 'hidden_dim3': 285.0}.\n",
            "Trial trainable_func_db547e7a reported epoch=2,loss=0.5728090926606021,should_checkpoint=True with parameters={'act1 ': 'selu', 'act2': 'tanh', 'act3': 'relu', 'lr': 0.0009, 'batch_size': 16, 'hidden_dim1': 225.0, 'hidden_dim2': 195.0, 'hidden_dim3': 255.0}.\n",
            "Trial trainable_func_db2426a8 reported epoch=6,loss=0.4701734387218106,should_checkpoint=True with parameters={'act1 ': 'selu', 'act2': 'selu', 'act3': 'tanh', 'lr': 0.0006000000000000001, 'batch_size': 32, 'hidden_dim1': 315.0, 'hidden_dim2': 210.0, 'hidden_dim3': 300.0}.\n",
            "== Status ==\n",
            "Current time: 2022-07-26 14:33:35 (running for 00:00:32.54)\n",
            "Memory usage on this node: 2.3/12.7 GiB\n",
            "Using MedianStoppingRule: num_stopped=0.\n",
            "Resources requested: 2.0/2 CPUs, 0/0 GPUs, 0.0/7.47 GiB heap, 0.0/3.73 GiB objects\n",
            "Result logdir: /root/ray_results/trainable_func_2022-07-26_14-33-03\n",
            "Number of trials: 5/50 (1 PENDING, 4 RUNNING)\n",
            "\n",
            "\n",
            "Trial trainable_func_db477d10 reported epoch=7,loss=0.5988428637006262,should_checkpoint=True with parameters={'act1 ': 'tanh', 'act2': 'selu', 'act3': 'tanh', 'lr': 0.001, 'batch_size': 32, 'hidden_dim1': 240.0, 'hidden_dim2': 315.0, 'hidden_dim3': 165.0}.\n",
            "Trial trainable_func_db4df2bc reported epoch=9,loss=0.571666555311252,should_checkpoint=True with parameters={'act1 ': 'tanh', 'act2': 'relu', 'act3': 'selu', 'lr': 0.0009, 'batch_size': 64, 'hidden_dim1': 255.0, 'hidden_dim2': 255.0, 'hidden_dim3': 285.0}.\n",
            "== Status ==\n",
            "Current time: 2022-07-26 14:33:40 (running for 00:00:37.67)\n",
            "Memory usage on this node: 2.3/12.7 GiB\n",
            "Using MedianStoppingRule: num_stopped=0.\n",
            "Resources requested: 1.5/2 CPUs, 0/0 GPUs, 0.0/7.47 GiB heap, 0.0/3.73 GiB objects\n",
            "Result logdir: /root/ray_results/trainable_func_2022-07-26_14-33-03\n",
            "Number of trials: 5/50 (1 PAUSED, 1 PENDING, 3 RUNNING)\n",
            "\n",
            "\n",
            "Trial trainable_func_db547e7a reported epoch=3,loss=0.556622415984853,should_checkpoint=True with parameters={'act1 ': 'selu', 'act2': 'tanh', 'act3': 'relu', 'lr': 0.0009, 'batch_size': 16, 'hidden_dim1': 225.0, 'hidden_dim2': 195.0, 'hidden_dim3': 255.0}.\n",
            "Trial trainable_func_db2426a8 reported epoch=8,loss=0.49788354577187033,should_checkpoint=True with parameters={'act1 ': 'selu', 'act2': 'selu', 'act3': 'tanh', 'lr': 0.0006000000000000001, 'batch_size': 32, 'hidden_dim1': 315.0, 'hidden_dim2': 210.0, 'hidden_dim3': 300.0}.\n",
            "Trial trainable_func_db477d10 reported epoch=9,loss=0.5065994815121725,should_checkpoint=True with parameters={'act1 ': 'tanh', 'act2': 'selu', 'act3': 'tanh', 'lr': 0.001, 'batch_size': 32, 'hidden_dim1': 240.0, 'hidden_dim2': 315.0, 'hidden_dim3': 165.0}.\n",
            "Trial trainable_func_db5c1630 reported epoch=0,loss=0.6221927935508563,should_checkpoint=True with parameters={'act1 ': 'relu', 'act2': 'relu', 'act3': 'relu', 'lr': 0.001, 'batch_size': 16, 'hidden_dim1': 240.0, 'hidden_dim2': 240.0, 'hidden_dim3': 210.0}.\n",
            "Trial trainable_func_db547e7a reported epoch=4,loss=0.5321561575035656,should_checkpoint=True with parameters={'act1 ': 'selu', 'act2': 'tanh', 'act3': 'relu', 'lr': 0.0009, 'batch_size': 16, 'hidden_dim1': 225.0, 'hidden_dim2': 195.0, 'hidden_dim3': 255.0}.\n",
            "== Status ==\n",
            "Current time: 2022-07-26 14:33:46 (running for 00:00:42.84)\n",
            "Memory usage on this node: 2.4/12.7 GiB\n",
            "Using MedianStoppingRule: num_stopped=0.\n",
            "Resources requested: 2.0/2 CPUs, 0/0 GPUs, 0.0/7.47 GiB heap, 0.0/3.73 GiB objects\n",
            "Result logdir: /root/ray_results/trainable_func_2022-07-26_14-33-03\n",
            "Number of trials: 8/50 (3 PAUSED, 1 PENDING, 4 RUNNING)\n",
            "\n",
            "\n",
            "Trial trainable_func_f328243e reported epoch=0,loss=0.8833982696738877,should_checkpoint=True with parameters={'act1 ': 'selu', 'act2': 'relu', 'act3': 'tanh', 'lr': 0.0009, 'batch_size': 64, 'hidden_dim1': 120.0, 'hidden_dim2': 330.0, 'hidden_dim3': 315.0}.\n",
            "Trial trainable_func_db547e7a reported epoch=5,loss=0.5195210849611313,should_checkpoint=True with parameters={'act1 ': 'selu', 'act2': 'tanh', 'act3': 'relu', 'lr': 0.0009, 'batch_size': 16, 'hidden_dim1': 225.0, 'hidden_dim2': 195.0, 'hidden_dim3': 255.0}.\n",
            "== Status ==\n",
            "Current time: 2022-07-26 14:33:51 (running for 00:00:47.86)\n",
            "Memory usage on this node: 2.4/12.7 GiB\n",
            "Using MedianStoppingRule: num_stopped=0.\n",
            "Resources requested: 2.0/2 CPUs, 0/0 GPUs, 0.0/7.47 GiB heap, 0.0/3.73 GiB objects\n",
            "Result logdir: /root/ray_results/trainable_func_2022-07-26_14-33-03\n",
            "Number of trials: 8/50 (3 PAUSED, 1 PENDING, 4 RUNNING)\n",
            "\n",
            "\n",
            "Trial trainable_func_f328243e reported epoch=3,loss=0.5650529381125691,should_checkpoint=True with parameters={'act1 ': 'selu', 'act2': 'relu', 'act3': 'tanh', 'lr': 0.0009, 'batch_size': 64, 'hidden_dim1': 120.0, 'hidden_dim2': 330.0, 'hidden_dim3': 315.0}.\n",
            "Trial trainable_func_f19bcd82 reported epoch=0,loss=0.6108993665487508,should_checkpoint=True with parameters={'act1 ': 'tanh', 'act2': 'tanh', 'act3': 'selu', 'lr': 0.0007, 'batch_size': 8, 'hidden_dim1': 225.0, 'hidden_dim2': 315.0, 'hidden_dim3': 315.0}.\n",
            "Trial trainable_func_db5c1630 reported epoch=2,loss=0.5381867064083485,should_checkpoint=True with parameters={'act1 ': 'relu', 'act2': 'relu', 'act3': 'relu', 'lr': 0.001, 'batch_size': 16, 'hidden_dim1': 240.0, 'hidden_dim2': 240.0, 'hidden_dim3': 210.0}.\n",
            "== Status ==\n",
            "Current time: 2022-07-26 14:33:57 (running for 00:00:54.05)\n",
            "Memory usage on this node: 2.4/12.7 GiB\n",
            "Using MedianStoppingRule: num_stopped=0.\n",
            "Resources requested: 2.0/2 CPUs, 0/0 GPUs, 0.0/7.47 GiB heap, 0.0/3.73 GiB objects\n",
            "Result logdir: /root/ray_results/trainable_func_2022-07-26_14-33-03\n",
            "Number of trials: 8/50 (3 PAUSED, 1 PENDING, 4 RUNNING)\n",
            "\n",
            "\n",
            "Trial trainable_func_f328243e reported epoch=6,loss=0.538347436909215,should_checkpoint=True with parameters={'act1 ': 'selu', 'act2': 'relu', 'act3': 'tanh', 'lr': 0.0009, 'batch_size': 64, 'hidden_dim1': 120.0, 'hidden_dim2': 330.0, 'hidden_dim3': 315.0}.\n",
            "Trial trainable_func_db547e7a reported epoch=7,loss=0.5114958457992648,should_checkpoint=True with parameters={'act1 ': 'selu', 'act2': 'tanh', 'act3': 'relu', 'lr': 0.0009, 'batch_size': 16, 'hidden_dim1': 225.0, 'hidden_dim2': 195.0, 'hidden_dim3': 255.0}.\n",
            "Trial trainable_func_db5c1630 reported epoch=3,loss=0.5075646694698472,should_checkpoint=True with parameters={'act1 ': 'relu', 'act2': 'relu', 'act3': 'relu', 'lr': 0.001, 'batch_size': 16, 'hidden_dim1': 240.0, 'hidden_dim2': 240.0, 'hidden_dim3': 210.0}.\n",
            "== Status ==\n",
            "Current time: 2022-07-26 14:34:02 (running for 00:00:59.62)\n",
            "Memory usage on this node: 2.4/12.7 GiB\n",
            "Using MedianStoppingRule: num_stopped=0.\n",
            "Resources requested: 2.0/2 CPUs, 0/0 GPUs, 0.0/7.47 GiB heap, 0.0/3.73 GiB objects\n",
            "Result logdir: /root/ray_results/trainable_func_2022-07-26_14-33-03\n",
            "Number of trials: 8/50 (3 PAUSED, 1 PENDING, 4 RUNNING)\n",
            "\n",
            "\n",
            "Trial trainable_func_f328243e reported epoch=9,loss=0.5284951464320147,should_checkpoint=True with parameters={'act1 ': 'selu', 'act2': 'relu', 'act3': 'tanh', 'lr': 0.0009, 'batch_size': 64, 'hidden_dim1': 120.0, 'hidden_dim2': 330.0, 'hidden_dim3': 315.0}.\n",
            "Trial trainable_func_f19bcd82 reported epoch=1,loss=0.6063731563868695,should_checkpoint=True with parameters={'act1 ': 'tanh', 'act2': 'tanh', 'act3': 'selu', 'lr': 0.0007, 'batch_size': 8, 'hidden_dim1': 225.0, 'hidden_dim2': 315.0, 'hidden_dim3': 315.0}.\n",
            "Trial trainable_func_db5c1630 reported epoch=4,loss=0.509215564057696,should_checkpoint=True with parameters={'act1 ': 'relu', 'act2': 'relu', 'act3': 'relu', 'lr': 0.001, 'batch_size': 16, 'hidden_dim1': 240.0, 'hidden_dim2': 240.0, 'hidden_dim3': 210.0}.\n",
            "Trial trainable_func_db547e7a reported epoch=9,loss=0.5862511495585645,should_checkpoint=True with parameters={'act1 ': 'selu', 'act2': 'tanh', 'act3': 'relu', 'lr': 0.0009, 'batch_size': 16, 'hidden_dim1': 225.0, 'hidden_dim2': 195.0, 'hidden_dim3': 255.0}.\n",
            "== Status ==\n",
            "Current time: 2022-07-26 14:34:07 (running for 00:01:04.82)\n",
            "Memory usage on this node: 2.5/12.7 GiB\n",
            "Using MedianStoppingRule: num_stopped=0.\n",
            "Resources requested: 2.0/2 CPUs, 0/0 GPUs, 0.0/7.47 GiB heap, 0.0/3.73 GiB objects\n",
            "Result logdir: /root/ray_results/trainable_func_2022-07-26_14-33-03\n",
            "Number of trials: 9/50 (4 PAUSED, 1 PENDING, 4 RUNNING)\n",
            "\n",
            "\n",
            "Trial trainable_func_f474cfe0 reported epoch=0,loss=0.6352091276570059,should_checkpoint=True with parameters={'act1 ': 'selu', 'act2': 'selu', 'act3': 'tanh', 'lr': 0.0008, 'batch_size': 16, 'hidden_dim1': 225.0, 'hidden_dim2': 210.0, 'hidden_dim3': 240.0}.\n",
            "Trial trainable_func_db5c1630 reported epoch=5,loss=0.4789167962155172,should_checkpoint=True with parameters={'act1 ': 'relu', 'act2': 'relu', 'act3': 'relu', 'lr': 0.001, 'batch_size': 16, 'hidden_dim1': 240.0, 'hidden_dim2': 240.0, 'hidden_dim3': 210.0}.\n",
            "Trial trainable_func_007a81ea reported epoch=0,loss=0.7283288160573724,should_checkpoint=True with parameters={'act1 ': 'selu', 'act2': 'selu', 'act3': 'tanh', 'lr': 0.0005, 'batch_size': 32, 'hidden_dim1': 120.0, 'hidden_dim2': 285.0, 'hidden_dim3': 225.0}.\n",
            "== Status ==\n",
            "Current time: 2022-07-26 14:34:14 (running for 00:01:10.85)\n",
            "Memory usage on this node: 2.5/12.7 GiB\n",
            "Using MedianStoppingRule: num_stopped=0.\n",
            "Resources requested: 2.0/2 CPUs, 0/0 GPUs, 0.0/7.47 GiB heap, 0.0/3.73 GiB objects\n",
            "Result logdir: /root/ray_results/trainable_func_2022-07-26_14-33-03\n",
            "Number of trials: 10/50 (5 PAUSED, 1 PENDING, 4 RUNNING)\n",
            "\n",
            "\n",
            "Trial trainable_func_f19bcd82 reported epoch=2,loss=0.5915127682382144,should_checkpoint=True with parameters={'act1 ': 'tanh', 'act2': 'tanh', 'act3': 'selu', 'lr': 0.0007, 'batch_size': 8, 'hidden_dim1': 225.0, 'hidden_dim2': 315.0, 'hidden_dim3': 315.0}.\n",
            "Trial trainable_func_db5c1630 reported epoch=6,loss=0.49315731954296704,should_checkpoint=True with parameters={'act1 ': 'relu', 'act2': 'relu', 'act3': 'relu', 'lr': 0.001, 'batch_size': 16, 'hidden_dim1': 240.0, 'hidden_dim2': 240.0, 'hidden_dim3': 210.0}.\n",
            "Trial trainable_func_007a81ea reported epoch=2,loss=0.5980440238669923,should_checkpoint=True with parameters={'act1 ': 'selu', 'act2': 'selu', 'act3': 'tanh', 'lr': 0.0005, 'batch_size': 32, 'hidden_dim1': 120.0, 'hidden_dim2': 285.0, 'hidden_dim3': 225.0}.\n",
            "Trial trainable_func_f474cfe0 reported epoch=2,loss=0.6328440007661164,should_checkpoint=True with parameters={'act1 ': 'selu', 'act2': 'selu', 'act3': 'tanh', 'lr': 0.0008, 'batch_size': 16, 'hidden_dim1': 225.0, 'hidden_dim2': 210.0, 'hidden_dim3': 240.0}.\n",
            "== Status ==\n",
            "Current time: 2022-07-26 14:34:19 (running for 00:01:16.15)\n",
            "Memory usage on this node: 2.5/12.7 GiB\n",
            "Using MedianStoppingRule: num_stopped=0.\n",
            "Resources requested: 2.0/2 CPUs, 0/0 GPUs, 0.0/7.47 GiB heap, 0.0/3.73 GiB objects\n",
            "Result logdir: /root/ray_results/trainable_func_2022-07-26_14-33-03\n",
            "Number of trials: 10/50 (5 PAUSED, 1 PENDING, 4 RUNNING)\n",
            "\n",
            "\n",
            "Trial trainable_func_007a81ea reported epoch=5,loss=0.576772314594912,should_checkpoint=True with parameters={'act1 ': 'selu', 'act2': 'selu', 'act3': 'tanh', 'lr': 0.0005, 'batch_size': 32, 'hidden_dim1': 120.0, 'hidden_dim2': 285.0, 'hidden_dim3': 225.0}.\n",
            "Trial trainable_func_f19bcd82 reported epoch=3,loss=0.5582083668532734,should_checkpoint=True with parameters={'act1 ': 'tanh', 'act2': 'tanh', 'act3': 'selu', 'lr': 0.0007, 'batch_size': 8, 'hidden_dim1': 225.0, 'hidden_dim2': 315.0, 'hidden_dim3': 315.0}.\n",
            "== Status ==\n",
            "Current time: 2022-07-26 14:34:26 (running for 00:01:22.97)\n",
            "Memory usage on this node: 3.8/12.7 GiB\n",
            "Using MedianStoppingRule: num_stopped=0.\n",
            "Resources requested: 2.0/2 CPUs, 0/0 GPUs, 0.0/7.47 GiB heap, 0.0/3.73 GiB objects\n",
            "Result logdir: /root/ray_results/trainable_func_2022-07-26_14-33-03\n",
            "Number of trials: 10/50 (5 PAUSED, 1 PENDING, 4 RUNNING)\n",
            "\n",
            "\n",
            "Trial trainable_func_db5c1630 reported epoch=8,loss=0.48346953589592545,should_checkpoint=True with parameters={'act1 ': 'relu', 'act2': 'relu', 'act3': 'relu', 'lr': 0.001, 'batch_size': 16, 'hidden_dim1': 240.0, 'hidden_dim2': 240.0, 'hidden_dim3': 210.0}.\n",
            "Trial trainable_func_f474cfe0 reported epoch=4,loss=0.5416521237809611,should_checkpoint=True with parameters={'act1 ': 'selu', 'act2': 'selu', 'act3': 'tanh', 'lr': 0.0008, 'batch_size': 16, 'hidden_dim1': 225.0, 'hidden_dim2': 210.0, 'hidden_dim3': 240.0}.\n",
            "Trial trainable_func_007a81ea reported epoch=7,loss=0.5461231521350347,should_checkpoint=True with parameters={'act1 ': 'selu', 'act2': 'selu', 'act3': 'tanh', 'lr': 0.0005, 'batch_size': 32, 'hidden_dim1': 120.0, 'hidden_dim2': 285.0, 'hidden_dim3': 225.0}.\n",
            "== Status ==\n",
            "Current time: 2022-07-26 14:34:33 (running for 00:01:30.00)\n",
            "Memory usage on this node: 10.3/12.7 GiB\n",
            "Using MedianStoppingRule: num_stopped=0.\n",
            "Resources requested: 1.5/2 CPUs, 0/0 GPUs, 0.0/7.47 GiB heap, 0.0/3.73 GiB objects\n",
            "Result logdir: /root/ray_results/trainable_func_2022-07-26_14-33-03\n",
            "Number of trials: 10/50 (6 PAUSED, 1 PENDING, 3 RUNNING)\n",
            "\n",
            "\n",
            "Trial trainable_func_f474cfe0 reported epoch=5,loss=0.5583112534075084,should_checkpoint=True with parameters={'act1 ': 'selu', 'act2': 'selu', 'act3': 'tanh', 'lr': 0.0008, 'batch_size': 16, 'hidden_dim1': 225.0, 'hidden_dim2': 210.0, 'hidden_dim3': 240.0}.\n",
            "Trial trainable_func_007a81ea reported epoch=9,loss=0.579630133283759,should_checkpoint=True with parameters={'act1 ': 'selu', 'act2': 'selu', 'act3': 'tanh', 'lr': 0.0005, 'batch_size': 32, 'hidden_dim1': 120.0, 'hidden_dim2': 285.0, 'hidden_dim3': 225.0}.\n"
          ]
        },
        {
          "output_type": "stream",
          "name": "stderr",
          "text": [
            "\u001b[2m\u001b[36m(func pid=269297)\u001b[0m 2022-07-26 14:34:37,318\tINFO trainable.py:589 -- Restored on 172.28.0.2 from checkpoint: /root/ray_results/trainable_func_2022-07-26_14-33-03/trainable_func_db2426a8_1_act1=selu,act2=selu,act3=tanh,batch_size=32,hidden_dim1=315.0000,hidden_dim2=210.0000,hidden_dim3=300.00_2022-07-26_14-33-03/checkpoint_tmp748678/./\n",
            "\u001b[2m\u001b[36m(func pid=269297)\u001b[0m 2022-07-26 14:34:37,318\tINFO trainable.py:597 -- Current state after restoring: {'_iteration': 10, '_timesteps_total': None, '_time_total': 29.592334508895874, '_episodes_total': None}\n"
          ]
        },
        {
          "output_type": "stream",
          "name": "stdout",
          "text": [
            "Trial trainable_func_024430e8 reported epoch=0,loss=0.6653445433007145,should_checkpoint=True with parameters={'act1 ': 'tanh', 'act2': 'tanh', 'act3': 'relu', 'lr': 0.0009, 'batch_size': 16, 'hidden_dim1': 255.0, 'hidden_dim2': 120.0, 'hidden_dim3': 300.0}.\n",
            "Trial trainable_func_f19bcd82 reported epoch=4,loss=0.6631050386073631,should_checkpoint=True with parameters={'act1 ': 'tanh', 'act2': 'tanh', 'act3': 'selu', 'lr': 0.0007, 'batch_size': 8, 'hidden_dim1': 225.0, 'hidden_dim2': 315.0, 'hidden_dim3': 315.0}.\n",
            "Trial trainable_func_db2426a8 reported epoch=0,loss=0.29133571783629314,should_checkpoint=True with parameters={'act1 ': 'selu', 'act2': 'selu', 'act3': 'tanh', 'lr': 0.0006000000000000001, 'batch_size': 32, 'hidden_dim1': 315.0, 'hidden_dim2': 210.0, 'hidden_dim3': 300.0}.\n",
            "== Status ==\n",
            "Current time: 2022-07-26 14:34:39 (running for 00:01:36.43)\n",
            "Memory usage on this node: 2.5/12.7 GiB\n",
            "Using MedianStoppingRule: num_stopped=0.\n",
            "Resources requested: 2.0/2 CPUs, 0/0 GPUs, 0.0/7.47 GiB heap, 0.0/3.73 GiB objects\n",
            "Result logdir: /root/ray_results/trainable_func_2022-07-26_14-33-03\n",
            "Number of trials: 10/50 (6 PAUSED, 4 RUNNING)\n",
            "\n",
            "\n"
          ]
        },
        {
          "output_type": "stream",
          "name": "stderr",
          "text": [
            "\u001b[2m\u001b[36m(func pid=269297)\u001b[0m 2022-07-26 14:34:40,298\tINFO trainable.py:589 -- Restored on 172.28.0.2 from checkpoint: /root/ray_results/trainable_func_2022-07-26_14-33-03/trainable_func_db2426a8_1_act1=selu,act2=selu,act3=tanh,batch_size=32,hidden_dim1=315.0000,hidden_dim2=210.0000,hidden_dim3=300.00_2022-07-26_14-33-03/checkpoint_tmp76890b/./\n",
            "\u001b[2m\u001b[36m(func pid=269297)\u001b[0m 2022-07-26 14:34:40,298\tINFO trainable.py:597 -- Current state after restoring: {'_iteration': 11, '_timesteps_total': None, '_time_total': 31.846400260925293, '_episodes_total': None}\n"
          ]
        },
        {
          "output_type": "stream",
          "name": "stdout",
          "text": [
            "Trial trainable_func_f474cfe0 reported epoch=7,loss=0.5242180636202276,should_checkpoint=True with parameters={'act1 ': 'selu', 'act2': 'selu', 'act3': 'tanh', 'lr': 0.0008, 'batch_size': 16, 'hidden_dim1': 225.0, 'hidden_dim2': 210.0, 'hidden_dim3': 240.0}.\n"
          ]
        },
        {
          "output_type": "stream",
          "name": "stderr",
          "text": [
            "\u001b[2m\u001b[36m(func pid=269297)\u001b[0m 2022-07-26 14:34:43,381\tINFO trainable.py:589 -- Restored on 172.28.0.2 from checkpoint: /root/ray_results/trainable_func_2022-07-26_14-33-03/trainable_func_db2426a8_1_act1=selu,act2=selu,act3=tanh,batch_size=32,hidden_dim1=315.0000,hidden_dim2=210.0000,hidden_dim3=300.00_2022-07-26_14-33-03/checkpoint_tmp0a56ec/./\n",
            "\u001b[2m\u001b[36m(func pid=269297)\u001b[0m 2022-07-26 14:34:43,382\tINFO trainable.py:597 -- Current state after restoring: {'_iteration': 12, '_timesteps_total': None, '_time_total': 34.17213010787964, '_episodes_total': None}\n"
          ]
        },
        {
          "output_type": "stream",
          "name": "stdout",
          "text": [
            "Trial trainable_func_024430e8 reported epoch=2,loss=0.5301062155929511,should_checkpoint=True with parameters={'act1 ': 'tanh', 'act2': 'tanh', 'act3': 'relu', 'lr': 0.0009, 'batch_size': 16, 'hidden_dim1': 255.0, 'hidden_dim2': 120.0, 'hidden_dim3': 300.0}.\n",
            "== Status ==\n",
            "Current time: 2022-07-26 14:34:45 (running for 00:01:42.17)\n",
            "Memory usage on this node: 2.5/12.7 GiB\n",
            "Using MedianStoppingRule: num_stopped=0.\n",
            "Resources requested: 2.0/2 CPUs, 0/0 GPUs, 0.0/7.47 GiB heap, 0.0/3.73 GiB objects\n",
            "Result logdir: /root/ray_results/trainable_func_2022-07-26_14-33-03\n",
            "Number of trials: 10/50 (6 PAUSED, 4 RUNNING)\n",
            "\n",
            "\n",
            "Trial trainable_func_db2426a8 reported epoch=0,loss=0.21774947918968834,should_checkpoint=True with parameters={'act1 ': 'selu', 'act2': 'selu', 'act3': 'tanh', 'lr': 0.0006000000000000001, 'batch_size': 32, 'hidden_dim1': 315.0, 'hidden_dim2': 210.0, 'hidden_dim3': 300.0}.\n",
            "Trial trainable_func_f19bcd82 reported epoch=5,loss=0.5839283207719979,should_checkpoint=True with parameters={'act1 ': 'tanh', 'act2': 'tanh', 'act3': 'selu', 'lr': 0.0007, 'batch_size': 8, 'hidden_dim1': 225.0, 'hidden_dim2': 315.0, 'hidden_dim3': 315.0}.\n"
          ]
        },
        {
          "output_type": "stream",
          "name": "stderr",
          "text": [
            "\u001b[2m\u001b[36m(func pid=269297)\u001b[0m 2022-07-26 14:34:46,391\tINFO trainable.py:589 -- Restored on 172.28.0.2 from checkpoint: /root/ray_results/trainable_func_2022-07-26_14-33-03/trainable_func_db2426a8_1_act1=selu,act2=selu,act3=tanh,batch_size=32,hidden_dim1=315.0000,hidden_dim2=210.0000,hidden_dim3=300.00_2022-07-26_14-33-03/checkpoint_tmpe0a6f5/./\n",
            "\u001b[2m\u001b[36m(func pid=269297)\u001b[0m 2022-07-26 14:34:46,392\tINFO trainable.py:597 -- Current state after restoring: {'_iteration': 13, '_timesteps_total': None, '_time_total': 36.6581084728241, '_episodes_total': None}\n"
          ]
        },
        {
          "output_type": "stream",
          "name": "stdout",
          "text": [
            "Trial trainable_func_f474cfe0 reported epoch=9,loss=0.533005521642772,should_checkpoint=True with parameters={'act1 ': 'selu', 'act2': 'selu', 'act3': 'tanh', 'lr': 0.0008, 'batch_size': 16, 'hidden_dim1': 225.0, 'hidden_dim2': 210.0, 'hidden_dim3': 240.0}.\n"
          ]
        },
        {
          "output_type": "stream",
          "name": "stderr",
          "text": [
            "\u001b[2m\u001b[36m(func pid=269297)\u001b[0m 2022-07-26 14:34:49,028\tINFO trainable.py:589 -- Restored on 172.28.0.2 from checkpoint: /root/ray_results/trainable_func_2022-07-26_14-33-03/trainable_func_db2426a8_1_act1=selu,act2=selu,act3=tanh,batch_size=32,hidden_dim1=315.0000,hidden_dim2=210.0000,hidden_dim3=300.00_2022-07-26_14-33-03/checkpoint_tmpfe5fb2/./\n",
            "\u001b[2m\u001b[36m(func pid=269297)\u001b[0m 2022-07-26 14:34:49,029\tINFO trainable.py:597 -- Current state after restoring: {'_iteration': 14, '_timesteps_total': None, '_time_total': 38.68879437446594, '_episodes_total': None}\n",
            "\u001b[2m\u001b[36m(func pid=269252)\u001b[0m 2022-07-26 14:34:49,698\tINFO trainable.py:589 -- Restored on 172.28.0.2 from checkpoint: /root/ray_results/trainable_func_2022-07-26_14-33-03/trainable_func_db477d10_2_act1=tanh,act2=selu,act3=tanh,batch_size=32,hidden_dim1=240.0000,hidden_dim2=315.0000,hidden_dim3=165.00_2022-07-26_14-33-03/checkpoint_tmpd31482/./\n",
            "\u001b[2m\u001b[36m(func pid=269252)\u001b[0m 2022-07-26 14:34:49,698\tINFO trainable.py:597 -- Current state after restoring: {'_iteration': 10, '_timesteps_total': None, '_time_total': 28.18030023574829, '_episodes_total': None}\n"
          ]
        },
        {
          "output_type": "stream",
          "name": "stdout",
          "text": [
            "Trial trainable_func_024430e8 reported epoch=4,loss=0.5334912725972776,should_checkpoint=True with parameters={'act1 ': 'tanh', 'act2': 'tanh', 'act3': 'relu', 'lr': 0.0009, 'batch_size': 16, 'hidden_dim1': 255.0, 'hidden_dim2': 120.0, 'hidden_dim3': 300.0}.\n",
            "Trial trainable_func_db2426a8 reported epoch=0,loss=0.19366065407504696,should_checkpoint=True with parameters={'act1 ': 'selu', 'act2': 'selu', 'act3': 'tanh', 'lr': 0.0006000000000000001, 'batch_size': 32, 'hidden_dim1': 315.0, 'hidden_dim2': 210.0, 'hidden_dim3': 300.0}.\n",
            "== Status ==\n",
            "Current time: 2022-07-26 14:34:51 (running for 00:01:48.32)\n",
            "Memory usage on this node: 2.5/12.7 GiB\n",
            "Using MedianStoppingRule: num_stopped=0.\n",
            "Resources requested: 2.0/2 CPUs, 0/0 GPUs, 0.0/7.47 GiB heap, 0.0/3.73 GiB objects\n",
            "Result logdir: /root/ray_results/trainable_func_2022-07-26_14-33-03\n",
            "Number of trials: 10/50 (6 PAUSED, 4 RUNNING)\n",
            "\n",
            "\n"
          ]
        },
        {
          "output_type": "stream",
          "name": "stderr",
          "text": [
            "\u001b[2m\u001b[36m(func pid=269297)\u001b[0m 2022-07-26 14:34:52,004\tINFO trainable.py:589 -- Restored on 172.28.0.2 from checkpoint: /root/ray_results/trainable_func_2022-07-26_14-33-03/trainable_func_db2426a8_1_act1=selu,act2=selu,act3=tanh,batch_size=32,hidden_dim1=315.0000,hidden_dim2=210.0000,hidden_dim3=300.00_2022-07-26_14-33-03/checkpoint_tmpe0e0f0/./\n",
            "\u001b[2m\u001b[36m(func pid=269297)\u001b[0m 2022-07-26 14:34:52,004\tINFO trainable.py:597 -- Current state after restoring: {'_iteration': 15, '_timesteps_total': None, '_time_total': 41.12573838233948, '_episodes_total': None}\n"
          ]
        },
        {
          "output_type": "stream",
          "name": "stdout",
          "text": [
            "Trial trainable_func_db477d10 reported epoch=0,loss=0.34101527283440747,should_checkpoint=True with parameters={'act1 ': 'tanh', 'act2': 'selu', 'act3': 'tanh', 'lr': 0.001, 'batch_size': 32, 'hidden_dim1': 240.0, 'hidden_dim2': 315.0, 'hidden_dim3': 165.0}.\n"
          ]
        },
        {
          "output_type": "stream",
          "name": "stderr",
          "text": [
            "\u001b[2m\u001b[36m(func pid=269252)\u001b[0m 2022-07-26 14:34:52,689\tINFO trainable.py:589 -- Restored on 172.28.0.2 from checkpoint: /root/ray_results/trainable_func_2022-07-26_14-33-03/trainable_func_db477d10_2_act1=tanh,act2=selu,act3=tanh,batch_size=32,hidden_dim1=240.0000,hidden_dim2=315.0000,hidden_dim3=165.00_2022-07-26_14-33-03/checkpoint_tmp0876b0/./\n",
            "\u001b[2m\u001b[36m(func pid=269252)\u001b[0m 2022-07-26 14:34:52,690\tINFO trainable.py:597 -- Current state after restoring: {'_iteration': 11, '_timesteps_total': None, '_time_total': 30.209430932998657, '_episodes_total': None}\n"
          ]
        },
        {
          "output_type": "stream",
          "name": "stdout",
          "text": [
            "Trial trainable_func_f19bcd82 reported epoch=6,loss=0.5939055745414228,should_checkpoint=True with parameters={'act1 ': 'tanh', 'act2': 'tanh', 'act3': 'selu', 'lr': 0.0007, 'batch_size': 8, 'hidden_dim1': 225.0, 'hidden_dim2': 315.0, 'hidden_dim3': 315.0}.\n"
          ]
        },
        {
          "output_type": "stream",
          "name": "stderr",
          "text": [
            "\u001b[2m\u001b[36m(func pid=269297)\u001b[0m 2022-07-26 14:34:54,985\tINFO trainable.py:589 -- Restored on 172.28.0.2 from checkpoint: /root/ray_results/trainable_func_2022-07-26_14-33-03/trainable_func_db2426a8_1_act1=selu,act2=selu,act3=tanh,batch_size=32,hidden_dim1=315.0000,hidden_dim2=210.0000,hidden_dim3=300.00_2022-07-26_14-33-03/checkpoint_tmpcab88e/./\n",
            "\u001b[2m\u001b[36m(func pid=269297)\u001b[0m 2022-07-26 14:34:54,985\tINFO trainable.py:597 -- Current state after restoring: {'_iteration': 16, '_timesteps_total': None, '_time_total': 43.38860607147217, '_episodes_total': None}\n",
            "\u001b[2m\u001b[36m(func pid=269252)\u001b[0m 2022-07-26 14:34:55,705\tINFO trainable.py:589 -- Restored on 172.28.0.2 from checkpoint: /root/ray_results/trainable_func_2022-07-26_14-33-03/trainable_func_db477d10_2_act1=tanh,act2=selu,act3=tanh,batch_size=32,hidden_dim1=240.0000,hidden_dim2=315.0000,hidden_dim3=165.00_2022-07-26_14-33-03/checkpoint_tmpf35b9d/./\n",
            "\u001b[2m\u001b[36m(func pid=269252)\u001b[0m 2022-07-26 14:34:55,705\tINFO trainable.py:597 -- Current state after restoring: {'_iteration': 12, '_timesteps_total': None, '_time_total': 32.444825887680054, '_episodes_total': None}\n"
          ]
        },
        {
          "output_type": "stream",
          "name": "stdout",
          "text": [
            "Trial trainable_func_024430e8 reported epoch=6,loss=0.5185944664542065,should_checkpoint=True with parameters={'act1 ': 'tanh', 'act2': 'tanh', 'act3': 'relu', 'lr': 0.0009, 'batch_size': 16, 'hidden_dim1': 255.0, 'hidden_dim2': 120.0, 'hidden_dim3': 300.0}.\n",
            "Trial trainable_func_db2426a8 reported epoch=0,loss=0.15183106598725113,should_checkpoint=True with parameters={'act1 ': 'selu', 'act2': 'selu', 'act3': 'tanh', 'lr': 0.0006000000000000001, 'batch_size': 32, 'hidden_dim1': 315.0, 'hidden_dim2': 210.0, 'hidden_dim3': 300.0}.\n",
            "== Status ==\n",
            "Current time: 2022-07-26 14:34:57 (running for 00:01:54.13)\n",
            "Memory usage on this node: 2.5/12.7 GiB\n",
            "Using MedianStoppingRule: num_stopped=0.\n",
            "Resources requested: 2.0/2 CPUs, 0/0 GPUs, 0.0/7.47 GiB heap, 0.0/3.73 GiB objects\n",
            "Result logdir: /root/ray_results/trainable_func_2022-07-26_14-33-03\n",
            "Number of trials: 10/50 (6 PAUSED, 4 RUNNING)\n",
            "\n",
            "\n",
            "Trial trainable_func_db477d10 reported epoch=0,loss=0.21883861058624413,should_checkpoint=True with parameters={'act1 ': 'tanh', 'act2': 'selu', 'act3': 'tanh', 'lr': 0.001, 'batch_size': 32, 'hidden_dim1': 240.0, 'hidden_dim2': 315.0, 'hidden_dim3': 165.0}.\n"
          ]
        },
        {
          "output_type": "stream",
          "name": "stderr",
          "text": [
            "\u001b[2m\u001b[36m(func pid=269297)\u001b[0m 2022-07-26 14:34:58,005\tINFO trainable.py:589 -- Restored on 172.28.0.2 from checkpoint: /root/ray_results/trainable_func_2022-07-26_14-33-03/trainable_func_db2426a8_1_act1=selu,act2=selu,act3=tanh,batch_size=32,hidden_dim1=315.0000,hidden_dim2=210.0000,hidden_dim3=300.00_2022-07-26_14-33-03/checkpoint_tmp54b829/./\n",
            "\u001b[2m\u001b[36m(func pid=269297)\u001b[0m 2022-07-26 14:34:58,010\tINFO trainable.py:597 -- Current state after restoring: {'_iteration': 17, '_timesteps_total': None, '_time_total': 45.65672302246094, '_episodes_total': None}\n",
            "\u001b[2m\u001b[36m(func pid=269252)\u001b[0m 2022-07-26 14:34:58,738\tINFO trainable.py:589 -- Restored on 172.28.0.2 from checkpoint: /root/ray_results/trainable_func_2022-07-26_14-33-03/trainable_func_db477d10_2_act1=tanh,act2=selu,act3=tanh,batch_size=32,hidden_dim1=240.0000,hidden_dim2=315.0000,hidden_dim3=165.00_2022-07-26_14-33-03/checkpoint_tmpb2cee3/./\n",
            "\u001b[2m\u001b[36m(func pid=269252)\u001b[0m 2022-07-26 14:34:58,739\tINFO trainable.py:597 -- Current state after restoring: {'_iteration': 13, '_timesteps_total': None, '_time_total': 34.62668037414551, '_episodes_total': None}\n"
          ]
        },
        {
          "output_type": "stream",
          "name": "stdout",
          "text": [
            "Trial trainable_func_f19bcd82 reported epoch=7,loss=0.5832504789554575,should_checkpoint=True with parameters={'act1 ': 'tanh', 'act2': 'tanh', 'act3': 'selu', 'lr': 0.0007, 'batch_size': 8, 'hidden_dim1': 225.0, 'hidden_dim2': 315.0, 'hidden_dim3': 315.0}.\n"
          ]
        },
        {
          "output_type": "stream",
          "name": "stderr",
          "text": [
            "\u001b[2m\u001b[36m(func pid=269297)\u001b[0m 2022-07-26 14:35:01,033\tINFO trainable.py:589 -- Restored on 172.28.0.2 from checkpoint: /root/ray_results/trainable_func_2022-07-26_14-33-03/trainable_func_db2426a8_1_act1=selu,act2=selu,act3=tanh,batch_size=32,hidden_dim1=315.0000,hidden_dim2=210.0000,hidden_dim3=300.00_2022-07-26_14-33-03/checkpoint_tmp9f0aeb/./\n",
            "\u001b[2m\u001b[36m(func pid=269297)\u001b[0m 2022-07-26 14:35:01,034\tINFO trainable.py:597 -- Current state after restoring: {'_iteration': 18, '_timesteps_total': None, '_time_total': 47.84490466117859, '_episodes_total': None}\n",
            "\u001b[2m\u001b[36m(func pid=269252)\u001b[0m 2022-07-26 14:35:01,577\tINFO trainable.py:589 -- Restored on 172.28.0.2 from checkpoint: /root/ray_results/trainable_func_2022-07-26_14-33-03/trainable_func_db477d10_2_act1=tanh,act2=selu,act3=tanh,batch_size=32,hidden_dim1=240.0000,hidden_dim2=315.0000,hidden_dim3=165.00_2022-07-26_14-33-03/checkpoint_tmpff0bf5/./\n",
            "\u001b[2m\u001b[36m(func pid=269252)\u001b[0m 2022-07-26 14:35:01,578\tINFO trainable.py:597 -- Current state after restoring: {'_iteration': 14, '_timesteps_total': None, '_time_total': 36.72522497177124, '_episodes_total': None}\n"
          ]
        },
        {
          "output_type": "stream",
          "name": "stdout",
          "text": [
            "Trial trainable_func_024430e8 reported epoch=8,loss=0.5280078268935205,should_checkpoint=True with parameters={'act1 ': 'tanh', 'act2': 'tanh', 'act3': 'relu', 'lr': 0.0009, 'batch_size': 16, 'hidden_dim1': 255.0, 'hidden_dim2': 120.0, 'hidden_dim3': 300.0}.\n",
            "Trial trainable_func_db2426a8 reported epoch=0,loss=0.11310800659798652,should_checkpoint=True with parameters={'act1 ': 'selu', 'act2': 'selu', 'act3': 'tanh', 'lr': 0.0006000000000000001, 'batch_size': 32, 'hidden_dim1': 315.0, 'hidden_dim2': 210.0, 'hidden_dim3': 300.0}.\n",
            "== Status ==\n",
            "Current time: 2022-07-26 14:35:03 (running for 00:02:00.42)\n",
            "Memory usage on this node: 2.5/12.7 GiB\n",
            "Using MedianStoppingRule: num_stopped=0.\n",
            "Resources requested: 2.0/2 CPUs, 0/0 GPUs, 0.0/7.47 GiB heap, 0.0/3.73 GiB objects\n",
            "Result logdir: /root/ray_results/trainable_func_2022-07-26_14-33-03\n",
            "Number of trials: 10/50 (6 PAUSED, 4 RUNNING)\n",
            "\n",
            "\n",
            "Trial trainable_func_db477d10 reported epoch=0,loss=0.17316038826740396,should_checkpoint=True with parameters={'act1 ': 'tanh', 'act2': 'selu', 'act3': 'tanh', 'lr': 0.001, 'batch_size': 32, 'hidden_dim1': 240.0, 'hidden_dim2': 315.0, 'hidden_dim3': 165.0}.\n"
          ]
        },
        {
          "output_type": "stream",
          "name": "stderr",
          "text": [
            "\u001b[2m\u001b[36m(func pid=269297)\u001b[0m 2022-07-26 14:35:04,146\tINFO trainable.py:589 -- Restored on 172.28.0.2 from checkpoint: /root/ray_results/trainable_func_2022-07-26_14-33-03/trainable_func_db2426a8_1_act1=selu,act2=selu,act3=tanh,batch_size=32,hidden_dim1=315.0000,hidden_dim2=210.0000,hidden_dim3=300.00_2022-07-26_14-33-03/checkpoint_tmp53ced8/./\n",
            "\u001b[2m\u001b[36m(func pid=269297)\u001b[0m 2022-07-26 14:35:04,147\tINFO trainable.py:597 -- Current state after restoring: {'_iteration': 19, '_timesteps_total': None, '_time_total': 50.37172842025757, '_episodes_total': None}\n",
            "\u001b[2m\u001b[36m(func pid=269252)\u001b[0m 2022-07-26 14:35:04,782\tINFO trainable.py:589 -- Restored on 172.28.0.2 from checkpoint: /root/ray_results/trainable_func_2022-07-26_14-33-03/trainable_func_db477d10_2_act1=tanh,act2=selu,act3=tanh,batch_size=32,hidden_dim1=240.0000,hidden_dim2=315.0000,hidden_dim3=165.00_2022-07-26_14-33-03/checkpoint_tmp247324/./\n",
            "\u001b[2m\u001b[36m(func pid=269252)\u001b[0m 2022-07-26 14:35:04,782\tINFO trainable.py:597 -- Current state after restoring: {'_iteration': 15, '_timesteps_total': None, '_time_total': 38.92550778388977, '_episodes_total': None}\n",
            "\u001b[2m\u001b[36m(func pid=269322)\u001b[0m 2022-07-26 14:35:05,566\tINFO trainable.py:589 -- Restored on 172.28.0.2 from checkpoint: /root/ray_results/trainable_func_2022-07-26_14-33-03/trainable_func_db4df2bc_3_act1=tanh,act2=relu,act3=selu,batch_size=64,hidden_dim1=255.0000,hidden_dim2=255.0000,hidden_dim3=285.00_2022-07-26_14-33-03/checkpoint_tmp660670/./\n",
            "\u001b[2m\u001b[36m(func pid=269322)\u001b[0m 2022-07-26 14:35:05,566\tINFO trainable.py:597 -- Current state after restoring: {'_iteration': 10, '_timesteps_total': None, '_time_total': 19.001229763031006, '_episodes_total': None}\n",
            "\u001b[2m\u001b[36m(func pid=269297)\u001b[0m 2022-07-26 14:35:07,007\tINFO trainable.py:589 -- Restored on 172.28.0.2 from checkpoint: /root/ray_results/trainable_func_2022-07-26_14-33-03/trainable_func_db2426a8_1_act1=selu,act2=selu,act3=tanh,batch_size=32,hidden_dim1=315.0000,hidden_dim2=210.0000,hidden_dim3=300.00_2022-07-26_14-33-03/checkpoint_tmp398c31/./\n",
            "\u001b[2m\u001b[36m(func pid=269297)\u001b[0m 2022-07-26 14:35:07,009\tINFO trainable.py:597 -- Current state after restoring: {'_iteration': 20, '_timesteps_total': None, '_time_total': 52.57351899147034, '_episodes_total': None}\n"
          ]
        },
        {
          "output_type": "stream",
          "name": "stdout",
          "text": [
            "Trial trainable_func_db4df2bc reported epoch=0,loss=0.21987838443663837,should_checkpoint=True with parameters={'act1 ': 'tanh', 'act2': 'relu', 'act3': 'selu', 'lr': 0.0009, 'batch_size': 64, 'hidden_dim1': 255.0, 'hidden_dim2': 255.0, 'hidden_dim3': 285.0}.\n"
          ]
        },
        {
          "output_type": "stream",
          "name": "stderr",
          "text": [
            "\u001b[2m\u001b[36m(func pid=269252)\u001b[0m 2022-07-26 14:35:07,640\tINFO trainable.py:589 -- Restored on 172.28.0.2 from checkpoint: /root/ray_results/trainable_func_2022-07-26_14-33-03/trainable_func_db477d10_2_act1=tanh,act2=selu,act3=tanh,batch_size=32,hidden_dim1=240.0000,hidden_dim2=315.0000,hidden_dim3=165.00_2022-07-26_14-33-03/checkpoint_tmpae3586/./\n",
            "\u001b[2m\u001b[36m(func pid=269252)\u001b[0m 2022-07-26 14:35:07,640\tINFO trainable.py:597 -- Current state after restoring: {'_iteration': 16, '_timesteps_total': None, '_time_total': 40.864792823791504, '_episodes_total': None}\n",
            "\u001b[2m\u001b[36m(func pid=269322)\u001b[0m 2022-07-26 14:35:08,262\tINFO trainable.py:589 -- Restored on 172.28.0.2 from checkpoint: /root/ray_results/trainable_func_2022-07-26_14-33-03/trainable_func_db4df2bc_3_act1=tanh,act2=relu,act3=selu,batch_size=64,hidden_dim1=255.0000,hidden_dim2=255.0000,hidden_dim3=285.00_2022-07-26_14-33-03/checkpoint_tmp5af6a7/./\n",
            "\u001b[2m\u001b[36m(func pid=269322)\u001b[0m 2022-07-26 14:35:08,263\tINFO trainable.py:597 -- Current state after restoring: {'_iteration': 11, '_timesteps_total': None, '_time_total': 20.59135603904724, '_episodes_total': None}\n"
          ]
        },
        {
          "output_type": "stream",
          "name": "stdout",
          "text": [
            "Trial trainable_func_f19bcd82 reported epoch=8,loss=0.5669135747974,should_checkpoint=True with parameters={'act1 ': 'tanh', 'act2': 'tanh', 'act3': 'selu', 'lr': 0.0007, 'batch_size': 8, 'hidden_dim1': 225.0, 'hidden_dim2': 315.0, 'hidden_dim3': 315.0}.\n",
            "Trial trainable_func_db2426a8 reported epoch=0,loss=0.10323971103165175,should_checkpoint=True with parameters={'act1 ': 'selu', 'act2': 'selu', 'act3': 'tanh', 'lr': 0.0006000000000000001, 'batch_size': 32, 'hidden_dim1': 315.0, 'hidden_dim2': 210.0, 'hidden_dim3': 300.0}.\n",
            "== Status ==\n",
            "Current time: 2022-07-26 14:35:09 (running for 00:02:05.88)\n",
            "Memory usage on this node: 2.5/12.7 GiB\n",
            "Using MedianStoppingRule: num_stopped=0.\n",
            "Resources requested: 2.0/2 CPUs, 0/0 GPUs, 0.0/7.47 GiB heap, 0.0/3.73 GiB objects\n",
            "Result logdir: /root/ray_results/trainable_func_2022-07-26_14-33-03\n",
            "Number of trials: 10/50 (6 PAUSED, 4 RUNNING)\n",
            "\n",
            "\n"
          ]
        },
        {
          "output_type": "stream",
          "name": "stderr",
          "text": [
            "\u001b[2m\u001b[36m(func pid=269297)\u001b[0m 2022-07-26 14:35:09,708\tINFO trainable.py:589 -- Restored on 172.28.0.2 from checkpoint: /root/ray_results/trainable_func_2022-07-26_14-33-03/trainable_func_db2426a8_1_act1=selu,act2=selu,act3=tanh,batch_size=32,hidden_dim1=315.0000,hidden_dim2=210.0000,hidden_dim3=300.00_2022-07-26_14-33-03/checkpoint_tmp697115/./\n",
            "\u001b[2m\u001b[36m(func pid=269297)\u001b[0m 2022-07-26 14:35:09,709\tINFO trainable.py:597 -- Current state after restoring: {'_iteration': 21, '_timesteps_total': None, '_time_total': 54.488688468933105, '_episodes_total': None}\n"
          ]
        },
        {
          "output_type": "stream",
          "name": "stdout",
          "text": [
            "Trial trainable_func_db477d10 reported epoch=0,loss=0.13160350640726687,should_checkpoint=True with parameters={'act1 ': 'tanh', 'act2': 'selu', 'act3': 'tanh', 'lr': 0.001, 'batch_size': 32, 'hidden_dim1': 240.0, 'hidden_dim2': 315.0, 'hidden_dim3': 165.0}.\n"
          ]
        },
        {
          "output_type": "stream",
          "name": "stderr",
          "text": [
            "\u001b[2m\u001b[36m(func pid=269252)\u001b[0m 2022-07-26 14:35:10,351\tINFO trainable.py:589 -- Restored on 172.28.0.2 from checkpoint: /root/ray_results/trainable_func_2022-07-26_14-33-03/trainable_func_db477d10_2_act1=tanh,act2=selu,act3=tanh,batch_size=32,hidden_dim1=240.0000,hidden_dim2=315.0000,hidden_dim3=165.00_2022-07-26_14-33-03/checkpoint_tmp43fec3/./\n",
            "\u001b[2m\u001b[36m(func pid=269252)\u001b[0m 2022-07-26 14:35:10,351\tINFO trainable.py:597 -- Current state after restoring: {'_iteration': 17, '_timesteps_total': None, '_time_total': 43.01494789123535, '_episodes_total': None}\n",
            "\u001b[2m\u001b[36m(func pid=269322)\u001b[0m 2022-07-26 14:35:11,013\tINFO trainable.py:589 -- Restored on 172.28.0.2 from checkpoint: /root/ray_results/trainable_func_2022-07-26_14-33-03/trainable_func_db4df2bc_3_act1=tanh,act2=relu,act3=selu,batch_size=64,hidden_dim1=255.0000,hidden_dim2=255.0000,hidden_dim3=285.00_2022-07-26_14-33-03/checkpoint_tmp345d1d/./\n",
            "\u001b[2m\u001b[36m(func pid=269322)\u001b[0m 2022-07-26 14:35:11,013\tINFO trainable.py:597 -- Current state after restoring: {'_iteration': 12, '_timesteps_total': None, '_time_total': 22.155699253082275, '_episodes_total': None}\n",
            "\u001b[2m\u001b[36m(func pid=269297)\u001b[0m 2022-07-26 14:35:12,164\tINFO trainable.py:589 -- Restored on 172.28.0.2 from checkpoint: /root/ray_results/trainable_func_2022-07-26_14-33-03/trainable_func_db2426a8_1_act1=selu,act2=selu,act3=tanh,batch_size=32,hidden_dim1=315.0000,hidden_dim2=210.0000,hidden_dim3=300.00_2022-07-26_14-33-03/checkpoint_tmp78ad66/./\n",
            "\u001b[2m\u001b[36m(func pid=269297)\u001b[0m 2022-07-26 14:35:12,165\tINFO trainable.py:597 -- Current state after restoring: {'_iteration': 22, '_timesteps_total': None, '_time_total': 56.2759804725647, '_episodes_total': None}\n"
          ]
        },
        {
          "output_type": "stream",
          "name": "stdout",
          "text": [
            "Trial trainable_func_db4df2bc reported epoch=0,loss=0.17500496604318974,should_checkpoint=True with parameters={'act1 ': 'tanh', 'act2': 'relu', 'act3': 'selu', 'lr': 0.0009, 'batch_size': 64, 'hidden_dim1': 255.0, 'hidden_dim2': 255.0, 'hidden_dim3': 285.0}.\n"
          ]
        },
        {
          "output_type": "stream",
          "name": "stderr",
          "text": [
            "\u001b[2m\u001b[36m(func pid=269252)\u001b[0m 2022-07-26 14:35:12,948\tINFO trainable.py:589 -- Restored on 172.28.0.2 from checkpoint: /root/ray_results/trainable_func_2022-07-26_14-33-03/trainable_func_db477d10_2_act1=tanh,act2=selu,act3=tanh,batch_size=32,hidden_dim1=240.0000,hidden_dim2=315.0000,hidden_dim3=165.00_2022-07-26_14-33-03/checkpoint_tmp5b2451/./\n",
            "\u001b[2m\u001b[36m(func pid=269252)\u001b[0m 2022-07-26 14:35:12,948\tINFO trainable.py:597 -- Current state after restoring: {'_iteration': 18, '_timesteps_total': None, '_time_total': 45.14921307563782, '_episodes_total': None}\n",
            "\u001b[2m\u001b[36m(func pid=269322)\u001b[0m 2022-07-26 14:35:13,514\tINFO trainable.py:589 -- Restored on 172.28.0.2 from checkpoint: /root/ray_results/trainable_func_2022-07-26_14-33-03/trainable_func_db4df2bc_3_act1=tanh,act2=relu,act3=selu,batch_size=64,hidden_dim1=255.0000,hidden_dim2=255.0000,hidden_dim3=285.00_2022-07-26_14-33-03/checkpoint_tmpdd354e/./\n",
            "\u001b[2m\u001b[36m(func pid=269322)\u001b[0m 2022-07-26 14:35:13,514\tINFO trainable.py:597 -- Current state after restoring: {'_iteration': 13, '_timesteps_total': None, '_time_total': 23.69096088409424, '_episodes_total': None}\n"
          ]
        },
        {
          "output_type": "stream",
          "name": "stdout",
          "text": [
            "Trial trainable_func_db2426a8 reported epoch=0,loss=0.10326474148934753,should_checkpoint=True with parameters={'act1 ': 'selu', 'act2': 'selu', 'act3': 'tanh', 'lr': 0.0006000000000000001, 'batch_size': 32, 'hidden_dim1': 315.0, 'hidden_dim2': 210.0, 'hidden_dim3': 300.0}.\n",
            "== Status ==\n",
            "Current time: 2022-07-26 14:35:14 (running for 00:02:11.04)\n",
            "Memory usage on this node: 2.5/12.7 GiB\n",
            "Using MedianStoppingRule: num_stopped=0.\n",
            "Resources requested: 2.0/2 CPUs, 0/0 GPUs, 0.0/7.47 GiB heap, 0.0/3.73 GiB objects\n",
            "Result logdir: /root/ray_results/trainable_func_2022-07-26_14-33-03\n",
            "Number of trials: 10/50 (6 PAUSED, 4 RUNNING)\n",
            "\n",
            "\n"
          ]
        },
        {
          "output_type": "stream",
          "name": "stderr",
          "text": [
            "\u001b[2m\u001b[36m(func pid=269297)\u001b[0m 2022-07-26 14:35:14,738\tINFO trainable.py:589 -- Restored on 172.28.0.2 from checkpoint: /root/ray_results/trainable_func_2022-07-26_14-33-03/trainable_func_db2426a8_1_act1=selu,act2=selu,act3=tanh,batch_size=32,hidden_dim1=315.0000,hidden_dim2=210.0000,hidden_dim3=300.00_2022-07-26_14-33-03/checkpoint_tmp4ac24d/./\n",
            "\u001b[2m\u001b[36m(func pid=269297)\u001b[0m 2022-07-26 14:35:14,738\tINFO trainable.py:597 -- Current state after restoring: {'_iteration': 23, '_timesteps_total': None, '_time_total': 58.289592027664185, '_episodes_total': None}\n"
          ]
        },
        {
          "output_type": "stream",
          "name": "stdout",
          "text": [
            "Trial trainable_func_db477d10 reported epoch=0,loss=0.11701951724995784,should_checkpoint=True with parameters={'act1 ': 'tanh', 'act2': 'selu', 'act3': 'tanh', 'lr': 0.001, 'batch_size': 32, 'hidden_dim1': 240.0, 'hidden_dim2': 315.0, 'hidden_dim3': 165.0}.\n"
          ]
        },
        {
          "output_type": "stream",
          "name": "stderr",
          "text": [
            "\u001b[2m\u001b[36m(func pid=269252)\u001b[0m 2022-07-26 14:35:15,513\tINFO trainable.py:589 -- Restored on 172.28.0.2 from checkpoint: /root/ray_results/trainable_func_2022-07-26_14-33-03/trainable_func_db477d10_2_act1=tanh,act2=selu,act3=tanh,batch_size=32,hidden_dim1=240.0000,hidden_dim2=315.0000,hidden_dim3=165.00_2022-07-26_14-33-03/checkpoint_tmp2430d8/./\n",
            "\u001b[2m\u001b[36m(func pid=269252)\u001b[0m 2022-07-26 14:35:15,514\tINFO trainable.py:597 -- Current state after restoring: {'_iteration': 19, '_timesteps_total': None, '_time_total': 47.161128520965576, '_episodes_total': None}\n"
          ]
        },
        {
          "output_type": "stream",
          "name": "stdout",
          "text": [
            "Trial trainable_func_f19bcd82 reported epoch=9,loss=0.556973113669169,should_checkpoint=True with parameters={'act1 ': 'tanh', 'act2': 'tanh', 'act3': 'selu', 'lr': 0.0007, 'batch_size': 8, 'hidden_dim1': 225.0, 'hidden_dim2': 315.0, 'hidden_dim3': 315.0}.\n"
          ]
        },
        {
          "output_type": "stream",
          "name": "stderr",
          "text": [
            "\u001b[2m\u001b[36m(func pid=269322)\u001b[0m 2022-07-26 14:35:15,995\tINFO trainable.py:589 -- Restored on 172.28.0.2 from checkpoint: /root/ray_results/trainable_func_2022-07-26_14-33-03/trainable_func_db4df2bc_3_act1=tanh,act2=relu,act3=selu,batch_size=64,hidden_dim1=255.0000,hidden_dim2=255.0000,hidden_dim3=285.00_2022-07-26_14-33-03/checkpoint_tmp3fbaab/./\n",
            "\u001b[2m\u001b[36m(func pid=269322)\u001b[0m 2022-07-26 14:35:15,996\tINFO trainable.py:597 -- Current state after restoring: {'_iteration': 14, '_timesteps_total': None, '_time_total': 25.45484161376953, '_episodes_total': None}\n",
            "\u001b[2m\u001b[36m(func pid=269253)\u001b[0m 2022-07-26 14:35:16,718\tINFO trainable.py:589 -- Restored on 172.28.0.2 from checkpoint: /root/ray_results/trainable_func_2022-07-26_14-33-03/trainable_func_db547e7a_4_act1=selu,act2=tanh,act3=relu,batch_size=16,hidden_dim1=225.0000,hidden_dim2=195.0000,hidden_dim3=255.00_2022-07-26_14-33-03/checkpoint_tmp3b3405/./\n",
            "\u001b[2m\u001b[36m(func pid=269253)\u001b[0m 2022-07-26 14:35:16,718\tINFO trainable.py:597 -- Current state after restoring: {'_iteration': 10, '_timesteps_total': None, '_time_total': 46.77441096305847, '_episodes_total': None}\n",
            "\u001b[2m\u001b[36m(func pid=269297)\u001b[0m 2022-07-26 14:35:17,560\tINFO trainable.py:589 -- Restored on 172.28.0.2 from checkpoint: /root/ray_results/trainable_func_2022-07-26_14-33-03/trainable_func_db2426a8_1_act1=selu,act2=selu,act3=tanh,batch_size=32,hidden_dim1=315.0000,hidden_dim2=210.0000,hidden_dim3=300.00_2022-07-26_14-33-03/checkpoint_tmp692670/./\n",
            "\u001b[2m\u001b[36m(func pid=269297)\u001b[0m 2022-07-26 14:35:17,560\tINFO trainable.py:597 -- Current state after restoring: {'_iteration': 24, '_timesteps_total': None, '_time_total': 60.49808979034424, '_episodes_total': None}\n",
            "\u001b[2m\u001b[36m(func pid=269322)\u001b[0m 2022-07-26 14:35:18,103\tINFO trainable.py:589 -- Restored on 172.28.0.2 from checkpoint: /root/ray_results/trainable_func_2022-07-26_14-33-03/trainable_func_db4df2bc_3_act1=tanh,act2=relu,act3=selu,batch_size=64,hidden_dim1=255.0000,hidden_dim2=255.0000,hidden_dim3=285.00_2022-07-26_14-33-03/checkpoint_tmp506f31/./\n",
            "\u001b[2m\u001b[36m(func pid=269322)\u001b[0m 2022-07-26 14:35:18,104\tINFO trainable.py:597 -- Current state after restoring: {'_iteration': 15, '_timesteps_total': None, '_time_total': 26.831144332885742, '_episodes_total': None}\n",
            "\u001b[2m\u001b[36m(func pid=269252)\u001b[0m 2022-07-26 14:35:18,909\tINFO trainable.py:589 -- Restored on 172.28.0.2 from checkpoint: /root/ray_results/trainable_func_2022-07-26_14-33-03/trainable_func_db477d10_2_act1=tanh,act2=selu,act3=tanh,batch_size=32,hidden_dim1=240.0000,hidden_dim2=315.0000,hidden_dim3=165.00_2022-07-26_14-33-03/checkpoint_tmp5441b9/./\n",
            "\u001b[2m\u001b[36m(func pid=269252)\u001b[0m 2022-07-26 14:35:18,918\tINFO trainable.py:597 -- Current state after restoring: {'_iteration': 20, '_timesteps_total': None, '_time_total': 49.3489465713501, '_episodes_total': None}\n"
          ]
        },
        {
          "output_type": "stream",
          "name": "stdout",
          "text": [
            "Trial trainable_func_db4df2bc reported epoch=0,loss=0.10855891801164365,should_checkpoint=True with parameters={'act1 ': 'tanh', 'act2': 'relu', 'act3': 'selu', 'lr': 0.0009, 'batch_size': 64, 'hidden_dim1': 255.0, 'hidden_dim2': 255.0, 'hidden_dim3': 285.0}.\n",
            "== Status ==\n",
            "Current time: 2022-07-26 14:35:19 (running for 00:02:16.39)\n",
            "Memory usage on this node: 2.5/12.7 GiB\n",
            "Using MedianStoppingRule: num_stopped=0.\n",
            "Resources requested: 2.0/2 CPUs, 0/0 GPUs, 0.0/7.47 GiB heap, 0.0/3.73 GiB objects\n",
            "Result logdir: /root/ray_results/trainable_func_2022-07-26_14-33-03\n",
            "Number of trials: 10/50 (6 PAUSED, 4 RUNNING)\n",
            "\n",
            "\n",
            "Trial trainable_func_db547e7a reported epoch=0,loss=0.3578746186556505,should_checkpoint=True with parameters={'act1 ': 'selu', 'act2': 'tanh', 'act3': 'relu', 'lr': 0.0009, 'batch_size': 16, 'hidden_dim1': 225.0, 'hidden_dim2': 195.0, 'hidden_dim3': 255.0}.\n"
          ]
        },
        {
          "output_type": "stream",
          "name": "stderr",
          "text": [
            "\u001b[2m\u001b[36m(func pid=269322)\u001b[0m 2022-07-26 14:35:19,975\tINFO trainable.py:589 -- Restored on 172.28.0.2 from checkpoint: /root/ray_results/trainable_func_2022-07-26_14-33-03/trainable_func_db4df2bc_3_act1=tanh,act2=relu,act3=selu,batch_size=64,hidden_dim1=255.0000,hidden_dim2=255.0000,hidden_dim3=285.00_2022-07-26_14-33-03/checkpoint_tmpefe8da/./\n",
            "\u001b[2m\u001b[36m(func pid=269322)\u001b[0m 2022-07-26 14:35:19,975\tINFO trainable.py:597 -- Current state after restoring: {'_iteration': 16, '_timesteps_total': None, '_time_total': 28.159597396850586, '_episodes_total': None}\n"
          ]
        },
        {
          "output_type": "stream",
          "name": "stdout",
          "text": [
            "Trial trainable_func_db2426a8 reported epoch=0,loss=0.07617674265086988,should_checkpoint=True with parameters={'act1 ': 'selu', 'act2': 'selu', 'act3': 'tanh', 'lr': 0.0006000000000000001, 'batch_size': 32, 'hidden_dim1': 315.0, 'hidden_dim2': 210.0, 'hidden_dim3': 300.0}.\n"
          ]
        },
        {
          "output_type": "stream",
          "name": "stderr",
          "text": [
            "\u001b[2m\u001b[36m(func pid=269253)\u001b[0m 2022-07-26 14:35:20,535\tINFO trainable.py:589 -- Restored on 172.28.0.2 from checkpoint: /root/ray_results/trainable_func_2022-07-26_14-33-03/trainable_func_db547e7a_4_act1=selu,act2=tanh,act3=relu,batch_size=16,hidden_dim1=225.0000,hidden_dim2=195.0000,hidden_dim3=255.00_2022-07-26_14-33-03/checkpoint_tmp62d896/./\n",
            "\u001b[2m\u001b[36m(func pid=269253)\u001b[0m 2022-07-26 14:35:20,535\tINFO trainable.py:597 -- Current state after restoring: {'_iteration': 11, '_timesteps_total': None, '_time_total': 49.85613250732422, '_episodes_total': None}\n"
          ]
        },
        {
          "output_type": "stream",
          "name": "stdout",
          "text": [
            "Trial trainable_func_db477d10 reported epoch=0,loss=0.11190134977510245,should_checkpoint=True with parameters={'act1 ': 'tanh', 'act2': 'selu', 'act3': 'tanh', 'lr': 0.001, 'batch_size': 32, 'hidden_dim1': 240.0, 'hidden_dim2': 315.0, 'hidden_dim3': 165.0}.\n"
          ]
        },
        {
          "output_type": "stream",
          "name": "stderr",
          "text": [
            "\u001b[2m\u001b[36m(func pid=269297)\u001b[0m 2022-07-26 14:35:21,010\tINFO trainable.py:589 -- Restored on 172.28.0.2 from checkpoint: /root/ray_results/trainable_func_2022-07-26_14-33-03/trainable_func_db2426a8_1_act1=selu,act2=selu,act3=tanh,batch_size=32,hidden_dim1=315.0000,hidden_dim2=210.0000,hidden_dim3=300.00_2022-07-26_14-33-03/checkpoint_tmp60c2ce/./\n",
            "\u001b[2m\u001b[36m(func pid=269297)\u001b[0m 2022-07-26 14:35:21,010\tINFO trainable.py:597 -- Current state after restoring: {'_iteration': 25, '_timesteps_total': None, '_time_total': 62.57526183128357, '_episodes_total': None}\n",
            "\u001b[2m\u001b[36m(func pid=269252)\u001b[0m 2022-07-26 14:35:21,663\tINFO trainable.py:589 -- Restored on 172.28.0.2 from checkpoint: /root/ray_results/trainable_func_2022-07-26_14-33-03/trainable_func_db477d10_2_act1=tanh,act2=selu,act3=tanh,batch_size=32,hidden_dim1=240.0000,hidden_dim2=315.0000,hidden_dim3=165.00_2022-07-26_14-33-03/checkpoint_tmpe1c505/./\n",
            "\u001b[2m\u001b[36m(func pid=269252)\u001b[0m 2022-07-26 14:35:21,663\tINFO trainable.py:597 -- Current state after restoring: {'_iteration': 21, '_timesteps_total': None, '_time_total': 51.03451943397522, '_episodes_total': None}\n",
            "\u001b[2m\u001b[36m(func pid=269322)\u001b[0m 2022-07-26 14:35:22,404\tINFO trainable.py:589 -- Restored on 172.28.0.2 from checkpoint: /root/ray_results/trainable_func_2022-07-26_14-33-03/trainable_func_db4df2bc_3_act1=tanh,act2=relu,act3=selu,batch_size=64,hidden_dim1=255.0000,hidden_dim2=255.0000,hidden_dim3=285.00_2022-07-26_14-33-03/checkpoint_tmpc3cc9b/./\n",
            "\u001b[2m\u001b[36m(func pid=269322)\u001b[0m 2022-07-26 14:35:22,404\tINFO trainable.py:597 -- Current state after restoring: {'_iteration': 17, '_timesteps_total': None, '_time_total': 29.23794460296631, '_episodes_total': None}\n",
            "\u001b[2m\u001b[36m(func pid=269297)\u001b[0m 2022-07-26 14:35:23,438\tINFO trainable.py:589 -- Restored on 172.28.0.2 from checkpoint: /root/ray_results/trainable_func_2022-07-26_14-33-03/trainable_func_db2426a8_1_act1=selu,act2=selu,act3=tanh,batch_size=32,hidden_dim1=315.0000,hidden_dim2=210.0000,hidden_dim3=300.00_2022-07-26_14-33-03/checkpoint_tmp0630bf/./\n",
            "\u001b[2m\u001b[36m(func pid=269297)\u001b[0m 2022-07-26 14:35:23,438\tINFO trainable.py:597 -- Current state after restoring: {'_iteration': 26, '_timesteps_total': None, '_time_total': 64.34270691871643, '_episodes_total': None}\n",
            "\u001b[2m\u001b[36m(func pid=269253)\u001b[0m 2022-07-26 14:35:23,959\tINFO trainable.py:589 -- Restored on 172.28.0.2 from checkpoint: /root/ray_results/trainable_func_2022-07-26_14-33-03/trainable_func_db547e7a_4_act1=selu,act2=tanh,act3=relu,batch_size=16,hidden_dim1=225.0000,hidden_dim2=195.0000,hidden_dim3=255.00_2022-07-26_14-33-03/checkpoint_tmp79ab53/./\n",
            "\u001b[2m\u001b[36m(func pid=269253)\u001b[0m 2022-07-26 14:35:23,959\tINFO trainable.py:597 -- Current state after restoring: {'_iteration': 12, '_timesteps_total': None, '_time_total': 52.551979064941406, '_episodes_total': None}\n",
            "\u001b[2m\u001b[36m(func pid=269252)\u001b[0m 2022-07-26 14:35:24,422\tINFO trainable.py:589 -- Restored on 172.28.0.2 from checkpoint: /root/ray_results/trainable_func_2022-07-26_14-33-03/trainable_func_db477d10_2_act1=tanh,act2=selu,act3=tanh,batch_size=32,hidden_dim1=240.0000,hidden_dim2=315.0000,hidden_dim3=165.00_2022-07-26_14-33-03/checkpoint_tmp47467e/./\n",
            "\u001b[2m\u001b[36m(func pid=269252)\u001b[0m 2022-07-26 14:35:24,423\tINFO trainable.py:597 -- Current state after restoring: {'_iteration': 22, '_timesteps_total': None, '_time_total': 53.0859534740448, '_episodes_total': None}\n"
          ]
        },
        {
          "output_type": "stream",
          "name": "stdout",
          "text": [
            "== Status ==\n",
            "Current time: 2022-07-26 14:35:25 (running for 00:02:21.98)\n",
            "Memory usage on this node: 2.5/12.7 GiB\n",
            "Using MedianStoppingRule: num_stopped=0.\n",
            "Resources requested: 1.5/2 CPUs, 0/0 GPUs, 0.0/7.47 GiB heap, 0.0/3.73 GiB objects\n",
            "Result logdir: /root/ray_results/trainable_func_2022-07-26_14-33-03\n",
            "Number of trials: 10/50 (7 PAUSED, 3 RUNNING)\n",
            "\n",
            "\n"
          ]
        },
        {
          "output_type": "stream",
          "name": "stderr",
          "text": [
            "\u001b[2m\u001b[36m(func pid=269322)\u001b[0m 2022-07-26 14:35:25,170\tINFO trainable.py:589 -- Restored on 172.28.0.2 from checkpoint: /root/ray_results/trainable_func_2022-07-26_14-33-03/trainable_func_db4df2bc_3_act1=tanh,act2=relu,act3=selu,batch_size=64,hidden_dim1=255.0000,hidden_dim2=255.0000,hidden_dim3=285.00_2022-07-26_14-33-03/checkpoint_tmp194f42/./\n",
            "\u001b[2m\u001b[36m(func pid=269322)\u001b[0m 2022-07-26 14:35:25,173\tINFO trainable.py:597 -- Current state after restoring: {'_iteration': 18, '_timesteps_total': None, '_time_total': 30.652228832244873, '_episodes_total': None}\n",
            "\u001b[2m\u001b[36m(func pid=269297)\u001b[0m 2022-07-26 14:35:25,936\tINFO trainable.py:589 -- Restored on 172.28.0.2 from checkpoint: /root/ray_results/trainable_func_2022-07-26_14-33-03/trainable_func_db2426a8_1_act1=selu,act2=selu,act3=tanh,batch_size=32,hidden_dim1=315.0000,hidden_dim2=210.0000,hidden_dim3=300.00_2022-07-26_14-33-03/checkpoint_tmp05d1c6/./\n",
            "\u001b[2m\u001b[36m(func pid=269297)\u001b[0m 2022-07-26 14:35:25,936\tINFO trainable.py:597 -- Current state after restoring: {'_iteration': 27, '_timesteps_total': None, '_time_total': 65.98516321182251, '_episodes_total': None}\n"
          ]
        },
        {
          "output_type": "stream",
          "name": "stdout",
          "text": [
            "Trial trainable_func_db477d10 reported epoch=0,loss=0.08669010792234404,should_checkpoint=True with parameters={'act1 ': 'tanh', 'act2': 'selu', 'act3': 'tanh', 'lr': 0.001, 'batch_size': 32, 'hidden_dim1': 240.0, 'hidden_dim2': 315.0, 'hidden_dim3': 165.0}.\n",
            "Trial trainable_func_db4df2bc reported epoch=0,loss=0.05605292427023406,should_checkpoint=True with parameters={'act1 ': 'tanh', 'act2': 'relu', 'act3': 'selu', 'lr': 0.0009, 'batch_size': 64, 'hidden_dim1': 255.0, 'hidden_dim2': 255.0, 'hidden_dim3': 285.0}.\n"
          ]
        },
        {
          "output_type": "stream",
          "name": "stderr",
          "text": [
            "\u001b[2m\u001b[36m(func pid=269252)\u001b[0m 2022-07-26 14:35:27,135\tINFO trainable.py:589 -- Restored on 172.28.0.2 from checkpoint: /root/ray_results/trainable_func_2022-07-26_14-33-03/trainable_func_db477d10_2_act1=tanh,act2=selu,act3=tanh,batch_size=32,hidden_dim1=240.0000,hidden_dim2=315.0000,hidden_dim3=165.00_2022-07-26_14-33-03/checkpoint_tmpa963ba/./\n",
            "\u001b[2m\u001b[36m(func pid=269252)\u001b[0m 2022-07-26 14:35:27,136\tINFO trainable.py:597 -- Current state after restoring: {'_iteration': 23, '_timesteps_total': None, '_time_total': 55.35532474517822, '_episodes_total': None}\n"
          ]
        },
        {
          "output_type": "stream",
          "name": "stdout",
          "text": [
            "Trial trainable_func_db547e7a reported epoch=0,loss=0.18959162071729355,should_checkpoint=True with parameters={'act1 ': 'selu', 'act2': 'tanh', 'act3': 'relu', 'lr': 0.0009, 'batch_size': 16, 'hidden_dim1': 225.0, 'hidden_dim2': 195.0, 'hidden_dim3': 255.0}.\n"
          ]
        },
        {
          "output_type": "stream",
          "name": "stderr",
          "text": [
            "\u001b[2m\u001b[36m(func pid=269322)\u001b[0m 2022-07-26 14:35:27,561\tINFO trainable.py:589 -- Restored on 172.28.0.2 from checkpoint: /root/ray_results/trainable_func_2022-07-26_14-33-03/trainable_func_db4df2bc_3_act1=tanh,act2=relu,act3=selu,batch_size=64,hidden_dim1=255.0000,hidden_dim2=255.0000,hidden_dim3=285.00_2022-07-26_14-33-03/checkpoint_tmpba75ab/./\n",
            "\u001b[2m\u001b[36m(func pid=269322)\u001b[0m 2022-07-26 14:35:27,562\tINFO trainable.py:597 -- Current state after restoring: {'_iteration': 19, '_timesteps_total': None, '_time_total': 32.30175304412842, '_episodes_total': None}\n",
            "\u001b[2m\u001b[36m(func pid=269253)\u001b[0m 2022-07-26 14:35:28,216\tINFO trainable.py:589 -- Restored on 172.28.0.2 from checkpoint: /root/ray_results/trainable_func_2022-07-26_14-33-03/trainable_func_db547e7a_4_act1=selu,act2=tanh,act3=relu,batch_size=16,hidden_dim1=225.0000,hidden_dim2=195.0000,hidden_dim3=255.00_2022-07-26_14-33-03/checkpoint_tmp17d5c4/./\n",
            "\u001b[2m\u001b[36m(func pid=269253)\u001b[0m 2022-07-26 14:35:28,216\tINFO trainable.py:597 -- Current state after restoring: {'_iteration': 13, '_timesteps_total': None, '_time_total': 55.62507390975952, '_episodes_total': None}\n"
          ]
        },
        {
          "output_type": "stream",
          "name": "stdout",
          "text": [
            "Trial trainable_func_db2426a8 reported epoch=0,loss=0.09433935907192773,should_checkpoint=True with parameters={'act1 ': 'selu', 'act2': 'selu', 'act3': 'tanh', 'lr': 0.0006000000000000001, 'batch_size': 32, 'hidden_dim1': 315.0, 'hidden_dim2': 210.0, 'hidden_dim3': 300.0}.\n"
          ]
        },
        {
          "output_type": "stream",
          "name": "stderr",
          "text": [
            "\u001b[2m\u001b[36m(func pid=269297)\u001b[0m 2022-07-26 14:35:28,850\tINFO trainable.py:589 -- Restored on 172.28.0.2 from checkpoint: /root/ray_results/trainable_func_2022-07-26_14-33-03/trainable_func_db2426a8_1_act1=selu,act2=selu,act3=tanh,batch_size=32,hidden_dim1=315.0000,hidden_dim2=210.0000,hidden_dim3=300.00_2022-07-26_14-33-03/checkpoint_tmp8f5b59/./\n",
            "\u001b[2m\u001b[36m(func pid=269297)\u001b[0m 2022-07-26 14:35:28,858\tINFO trainable.py:597 -- Current state after restoring: {'_iteration': 28, '_timesteps_total': None, '_time_total': 68.16819477081299, '_episodes_total': None}\n",
            "\u001b[2m\u001b[36m(func pid=269252)\u001b[0m 2022-07-26 14:35:29,677\tINFO trainable.py:589 -- Restored on 172.28.0.2 from checkpoint: /root/ray_results/trainable_func_2022-07-26_14-33-03/trainable_func_db477d10_2_act1=tanh,act2=selu,act3=tanh,batch_size=32,hidden_dim1=240.0000,hidden_dim2=315.0000,hidden_dim3=165.00_2022-07-26_14-33-03/checkpoint_tmp922c4f/./\n",
            "\u001b[2m\u001b[36m(func pid=269252)\u001b[0m 2022-07-26 14:35:29,677\tINFO trainable.py:597 -- Current state after restoring: {'_iteration': 24, '_timesteps_total': None, '_time_total': 57.27907633781433, '_episodes_total': None}\n",
            "\u001b[2m\u001b[36m(func pid=269322)\u001b[0m 2022-07-26 14:35:30,417\tINFO trainable.py:589 -- Restored on 172.28.0.2 from checkpoint: /root/ray_results/trainable_func_2022-07-26_14-33-03/trainable_func_db4df2bc_3_act1=tanh,act2=relu,act3=selu,batch_size=64,hidden_dim1=255.0000,hidden_dim2=255.0000,hidden_dim3=285.00_2022-07-26_14-33-03/checkpoint_tmp734b73/./\n",
            "\u001b[2m\u001b[36m(func pid=269322)\u001b[0m 2022-07-26 14:35:30,417\tINFO trainable.py:597 -- Current state after restoring: {'_iteration': 20, '_timesteps_total': None, '_time_total': 33.856019735336304, '_episodes_total': None}\n"
          ]
        },
        {
          "output_type": "stream",
          "name": "stdout",
          "text": [
            "== Status ==\n",
            "Current time: 2022-07-26 14:35:30 (running for 00:02:27.22)\n",
            "Memory usage on this node: 2.5/12.7 GiB\n",
            "Using MedianStoppingRule: num_stopped=0.\n",
            "Resources requested: 1.5/2 CPUs, 0/0 GPUs, 0.0/7.47 GiB heap, 0.0/3.73 GiB objects\n",
            "Result logdir: /root/ray_results/trainable_func_2022-07-26_14-33-03\n",
            "Number of trials: 10/50 (7 PAUSED, 3 RUNNING)\n",
            "\n",
            "\n"
          ]
        },
        {
          "output_type": "stream",
          "name": "stderr",
          "text": [
            "\u001b[2m\u001b[36m(func pid=269297)\u001b[0m 2022-07-26 14:35:31,483\tINFO trainable.py:589 -- Restored on 172.28.0.2 from checkpoint: /root/ray_results/trainable_func_2022-07-26_14-33-03/trainable_func_db2426a8_1_act1=selu,act2=selu,act3=tanh,batch_size=32,hidden_dim1=315.0000,hidden_dim2=210.0000,hidden_dim3=300.00_2022-07-26_14-33-03/checkpoint_tmpf20afe/./\n",
            "\u001b[2m\u001b[36m(func pid=269297)\u001b[0m 2022-07-26 14:35:31,483\tINFO trainable.py:597 -- Current state after restoring: {'_iteration': 29, '_timesteps_total': None, '_time_total': 70.15911412239075, '_episodes_total': None}\n"
          ]
        },
        {
          "output_type": "stream",
          "name": "stdout",
          "text": [
            "Trial trainable_func_db477d10 reported epoch=0,loss=0.08976672165688025,should_checkpoint=True with parameters={'act1 ': 'tanh', 'act2': 'selu', 'act3': 'tanh', 'lr': 0.001, 'batch_size': 32, 'hidden_dim1': 240.0, 'hidden_dim2': 315.0, 'hidden_dim3': 165.0}.\n"
          ]
        },
        {
          "output_type": "stream",
          "name": "stderr",
          "text": [
            "\u001b[2m\u001b[36m(func pid=269253)\u001b[0m 2022-07-26 14:35:32,067\tINFO trainable.py:589 -- Restored on 172.28.0.2 from checkpoint: /root/ray_results/trainable_func_2022-07-26_14-33-03/trainable_func_db547e7a_4_act1=selu,act2=tanh,act3=relu,batch_size=16,hidden_dim1=225.0000,hidden_dim2=195.0000,hidden_dim3=255.00_2022-07-26_14-33-03/checkpoint_tmpfa6d78/./\n",
            "\u001b[2m\u001b[36m(func pid=269253)\u001b[0m 2022-07-26 14:35:32,067\tINFO trainable.py:597 -- Current state after restoring: {'_iteration': 14, '_timesteps_total': None, '_time_total': 58.7537362575531, '_episodes_total': None}\n",
            "\u001b[2m\u001b[36m(func pid=269322)\u001b[0m 2022-07-26 14:35:32,560\tINFO trainable.py:589 -- Restored on 172.28.0.2 from checkpoint: /root/ray_results/trainable_func_2022-07-26_14-33-03/trainable_func_db4df2bc_3_act1=tanh,act2=relu,act3=selu,batch_size=64,hidden_dim1=255.0000,hidden_dim2=255.0000,hidden_dim3=285.00_2022-07-26_14-33-03/checkpoint_tmpdbd994/./\n",
            "\u001b[2m\u001b[36m(func pid=269322)\u001b[0m 2022-07-26 14:35:32,568\tINFO trainable.py:597 -- Current state after restoring: {'_iteration': 21, '_timesteps_total': None, '_time_total': 35.42072868347168, '_episodes_total': None}\n"
          ]
        },
        {
          "output_type": "stream",
          "name": "stdout",
          "text": [
            "Trial trainable_func_db4df2bc reported epoch=0,loss=0.04223958216324038,should_checkpoint=True with parameters={'act1 ': 'tanh', 'act2': 'relu', 'act3': 'selu', 'lr': 0.0009, 'batch_size': 64, 'hidden_dim1': 255.0, 'hidden_dim2': 255.0, 'hidden_dim3': 285.0}.\n"
          ]
        },
        {
          "output_type": "stream",
          "name": "stderr",
          "text": [
            "\u001b[2m\u001b[36m(func pid=269252)\u001b[0m 2022-07-26 14:35:33,210\tINFO trainable.py:589 -- Restored on 172.28.0.2 from checkpoint: /root/ray_results/trainable_func_2022-07-26_14-33-03/trainable_func_db477d10_2_act1=tanh,act2=selu,act3=tanh,batch_size=32,hidden_dim1=240.0000,hidden_dim2=315.0000,hidden_dim3=165.00_2022-07-26_14-33-03/checkpoint_tmpf1f0cf/./\n",
            "\u001b[2m\u001b[36m(func pid=269252)\u001b[0m 2022-07-26 14:35:33,210\tINFO trainable.py:597 -- Current state after restoring: {'_iteration': 25, '_timesteps_total': None, '_time_total': 59.29946231842041, '_episodes_total': None}\n",
            "\u001b[2m\u001b[36m(func pid=269297)\u001b[0m 2022-07-26 14:35:33,951\tINFO trainable.py:589 -- Restored on 172.28.0.2 from checkpoint: /root/ray_results/trainable_func_2022-07-26_14-33-03/trainable_func_db2426a8_1_act1=selu,act2=selu,act3=tanh,batch_size=32,hidden_dim1=315.0000,hidden_dim2=210.0000,hidden_dim3=300.00_2022-07-26_14-33-03/checkpoint_tmp9ae120/./\n",
            "\u001b[2m\u001b[36m(func pid=269297)\u001b[0m 2022-07-26 14:35:33,951\tINFO trainable.py:597 -- Current state after restoring: {'_iteration': 30, '_timesteps_total': None, '_time_total': 71.51013159751892, '_episodes_total': None}\n"
          ]
        },
        {
          "output_type": "stream",
          "name": "stdout",
          "text": [
            "Trial trainable_func_db547e7a reported epoch=0,loss=0.16411768180534034,should_checkpoint=True with parameters={'act1 ': 'selu', 'act2': 'tanh', 'act3': 'relu', 'lr': 0.0009, 'batch_size': 16, 'hidden_dim1': 225.0, 'hidden_dim2': 195.0, 'hidden_dim3': 255.0}.\n"
          ]
        },
        {
          "output_type": "stream",
          "name": "stderr",
          "text": [
            "\u001b[2m\u001b[36m(func pid=269322)\u001b[0m 2022-07-26 14:35:34,777\tINFO trainable.py:589 -- Restored on 172.28.0.2 from checkpoint: /root/ray_results/trainable_func_2022-07-26_14-33-03/trainable_func_db4df2bc_3_act1=tanh,act2=relu,act3=selu,batch_size=64,hidden_dim1=255.0000,hidden_dim2=255.0000,hidden_dim3=285.00_2022-07-26_14-33-03/checkpoint_tmpaf2847/./\n",
            "\u001b[2m\u001b[36m(func pid=269322)\u001b[0m 2022-07-26 14:35:34,777\tINFO trainable.py:597 -- Current state after restoring: {'_iteration': 22, '_timesteps_total': None, '_time_total': 36.715646266937256, '_episodes_total': None}\n"
          ]
        },
        {
          "output_type": "stream",
          "name": "stdout",
          "text": [
            "== Status ==\n",
            "Current time: 2022-07-26 14:35:35 (running for 00:02:32.31)\n",
            "Memory usage on this node: 2.5/12.7 GiB\n",
            "Using MedianStoppingRule: num_stopped=0.\n",
            "Resources requested: 1.5/2 CPUs, 0/0 GPUs, 0.0/7.47 GiB heap, 0.0/3.73 GiB objects\n",
            "Result logdir: /root/ray_results/trainable_func_2022-07-26_14-33-03\n",
            "Number of trials: 10/50 (7 PAUSED, 3 RUNNING)\n",
            "\n",
            "\n"
          ]
        },
        {
          "output_type": "stream",
          "name": "stderr",
          "text": [
            "\u001b[2m\u001b[36m(func pid=269253)\u001b[0m 2022-07-26 14:35:35,484\tINFO trainable.py:589 -- Restored on 172.28.0.2 from checkpoint: /root/ray_results/trainable_func_2022-07-26_14-33-03/trainable_func_db547e7a_4_act1=selu,act2=tanh,act3=relu,batch_size=16,hidden_dim1=225.0000,hidden_dim2=195.0000,hidden_dim3=255.00_2022-07-26_14-33-03/checkpoint_tmp4f5264/./\n",
            "\u001b[2m\u001b[36m(func pid=269253)\u001b[0m 2022-07-26 14:35:35,484\tINFO trainable.py:597 -- Current state after restoring: {'_iteration': 15, '_timesteps_total': None, '_time_total': 61.454813957214355, '_episodes_total': None}\n"
          ]
        },
        {
          "output_type": "stream",
          "name": "stdout",
          "text": [
            "Trial trainable_func_db2426a8 reported epoch=0,loss=0.05212533209592808,should_checkpoint=True with parameters={'act1 ': 'selu', 'act2': 'selu', 'act3': 'tanh', 'lr': 0.0006000000000000001, 'batch_size': 32, 'hidden_dim1': 315.0, 'hidden_dim2': 210.0, 'hidden_dim3': 300.0}.\n"
          ]
        },
        {
          "output_type": "stream",
          "name": "stderr",
          "text": [
            "\u001b[2m\u001b[36m(func pid=269252)\u001b[0m 2022-07-26 14:35:36,145\tINFO trainable.py:589 -- Restored on 172.28.0.2 from checkpoint: /root/ray_results/trainable_func_2022-07-26_14-33-03/trainable_func_db477d10_2_act1=tanh,act2=selu,act3=tanh,batch_size=32,hidden_dim1=240.0000,hidden_dim2=315.0000,hidden_dim3=165.00_2022-07-26_14-33-03/checkpoint_tmpa9fb1b/./\n",
            "\u001b[2m\u001b[36m(func pid=269252)\u001b[0m 2022-07-26 14:35:36,148\tINFO trainable.py:597 -- Current state after restoring: {'_iteration': 26, '_timesteps_total': None, '_time_total': 61.46951103210449, '_episodes_total': None}\n",
            "\u001b[2m\u001b[36m(func pid=269297)\u001b[0m 2022-07-26 14:35:36,679\tINFO trainable.py:589 -- Restored on 172.28.0.2 from checkpoint: /root/ray_results/trainable_func_2022-07-26_14-33-03/trainable_func_db2426a8_1_act1=selu,act2=selu,act3=tanh,batch_size=32,hidden_dim1=315.0000,hidden_dim2=210.0000,hidden_dim3=300.00_2022-07-26_14-33-03/checkpoint_tmp0013c5/./\n",
            "\u001b[2m\u001b[36m(func pid=269297)\u001b[0m 2022-07-26 14:35:36,679\tINFO trainable.py:597 -- Current state after restoring: {'_iteration': 31, '_timesteps_total': None, '_time_total': 73.57049918174744, '_episodes_total': None}\n",
            "\u001b[2m\u001b[36m(func pid=269322)\u001b[0m 2022-07-26 14:35:37,348\tINFO trainable.py:589 -- Restored on 172.28.0.2 from checkpoint: /root/ray_results/trainable_func_2022-07-26_14-33-03/trainable_func_db4df2bc_3_act1=tanh,act2=relu,act3=selu,batch_size=64,hidden_dim1=255.0000,hidden_dim2=255.0000,hidden_dim3=285.00_2022-07-26_14-33-03/checkpoint_tmp7ed5db/./\n",
            "\u001b[2m\u001b[36m(func pid=269322)\u001b[0m 2022-07-26 14:35:37,348\tINFO trainable.py:597 -- Current state after restoring: {'_iteration': 23, '_timesteps_total': None, '_time_total': 38.169037103652954, '_episodes_total': None}\n"
          ]
        },
        {
          "output_type": "stream",
          "name": "stdout",
          "text": [
            "Trial trainable_func_db477d10 reported epoch=0,loss=0.07083109289981102,should_checkpoint=True with parameters={'act1 ': 'tanh', 'act2': 'selu', 'act3': 'tanh', 'lr': 0.001, 'batch_size': 32, 'hidden_dim1': 240.0, 'hidden_dim2': 315.0, 'hidden_dim3': 165.0}.\n"
          ]
        },
        {
          "output_type": "stream",
          "name": "stderr",
          "text": [
            "\u001b[2m\u001b[36m(func pid=269252)\u001b[0m 2022-07-26 14:35:38,938\tINFO trainable.py:589 -- Restored on 172.28.0.2 from checkpoint: /root/ray_results/trainable_func_2022-07-26_14-33-03/trainable_func_db477d10_2_act1=tanh,act2=selu,act3=tanh,batch_size=32,hidden_dim1=240.0000,hidden_dim2=315.0000,hidden_dim3=165.00_2022-07-26_14-33-03/checkpoint_tmpc00e3e/./\n",
            "\u001b[2m\u001b[36m(func pid=269252)\u001b[0m 2022-07-26 14:35:38,938\tINFO trainable.py:597 -- Current state after restoring: {'_iteration': 27, '_timesteps_total': None, '_time_total': 63.687256813049316, '_episodes_total': None}\n",
            "\u001b[2m\u001b[36m(func pid=269322)\u001b[0m 2022-07-26 14:35:39,254\tINFO trainable.py:589 -- Restored on 172.28.0.2 from checkpoint: /root/ray_results/trainable_func_2022-07-26_14-33-03/trainable_func_db4df2bc_3_act1=tanh,act2=relu,act3=selu,batch_size=64,hidden_dim1=255.0000,hidden_dim2=255.0000,hidden_dim3=285.00_2022-07-26_14-33-03/checkpoint_tmpbd1cca/./\n",
            "\u001b[2m\u001b[36m(func pid=269322)\u001b[0m 2022-07-26 14:35:39,254\tINFO trainable.py:597 -- Current state after restoring: {'_iteration': 24, '_timesteps_total': None, '_time_total': 39.677027225494385, '_episodes_total': None}\n",
            "\u001b[2m\u001b[36m(func pid=269253)\u001b[0m 2022-07-26 14:35:39,855\tINFO trainable.py:589 -- Restored on 172.28.0.2 from checkpoint: /root/ray_results/trainable_func_2022-07-26_14-33-03/trainable_func_db547e7a_4_act1=selu,act2=tanh,act3=relu,batch_size=16,hidden_dim1=225.0000,hidden_dim2=195.0000,hidden_dim3=255.00_2022-07-26_14-33-03/checkpoint_tmp27b377/./\n",
            "\u001b[2m\u001b[36m(func pid=269253)\u001b[0m 2022-07-26 14:35:39,855\tINFO trainable.py:597 -- Current state after restoring: {'_iteration': 16, '_timesteps_total': None, '_time_total': 64.51092839241028, '_episodes_total': None}\n",
            "\u001b[2m\u001b[36m(func pid=269297)\u001b[0m 2022-07-26 14:35:40,488\tINFO trainable.py:589 -- Restored on 172.28.0.2 from checkpoint: /root/ray_results/trainable_func_2022-07-26_14-33-03/trainable_func_db2426a8_1_act1=selu,act2=selu,act3=tanh,batch_size=32,hidden_dim1=315.0000,hidden_dim2=210.0000,hidden_dim3=300.00_2022-07-26_14-33-03/checkpoint_tmp89e824/./\n",
            "\u001b[2m\u001b[36m(func pid=269297)\u001b[0m 2022-07-26 14:35:40,488\tINFO trainable.py:597 -- Current state after restoring: {'_iteration': 32, '_timesteps_total': None, '_time_total': 75.85688757896423, '_episodes_total': None}\n"
          ]
        },
        {
          "output_type": "stream",
          "name": "stdout",
          "text": [
            "== Status ==\n",
            "Current time: 2022-07-26 14:35:40 (running for 00:02:37.34)\n",
            "Memory usage on this node: 2.5/12.7 GiB\n",
            "Using MedianStoppingRule: num_stopped=0.\n",
            "Resources requested: 2.0/2 CPUs, 0/0 GPUs, 0.0/7.47 GiB heap, 0.0/3.73 GiB objects\n",
            "Result logdir: /root/ray_results/trainable_func_2022-07-26_14-33-03\n",
            "Number of trials: 10/50 (6 PAUSED, 4 RUNNING)\n",
            "\n",
            "\n",
            "Trial trainable_func_db4df2bc reported epoch=0,loss=0.04993516090216671,should_checkpoint=True with parameters={'act1 ': 'tanh', 'act2': 'relu', 'act3': 'selu', 'lr': 0.0009, 'batch_size': 64, 'hidden_dim1': 255.0, 'hidden_dim2': 255.0, 'hidden_dim3': 285.0}.\n"
          ]
        },
        {
          "output_type": "stream",
          "name": "stderr",
          "text": [
            "\u001b[2m\u001b[36m(func pid=269322)\u001b[0m 2022-07-26 14:35:40,982\tINFO trainable.py:589 -- Restored on 172.28.0.2 from checkpoint: /root/ray_results/trainable_func_2022-07-26_14-33-03/trainable_func_db4df2bc_3_act1=tanh,act2=relu,act3=selu,batch_size=64,hidden_dim1=255.0000,hidden_dim2=255.0000,hidden_dim3=285.00_2022-07-26_14-33-03/checkpoint_tmpcd9339/./\n",
            "\u001b[2m\u001b[36m(func pid=269322)\u001b[0m 2022-07-26 14:35:40,982\tINFO trainable.py:597 -- Current state after restoring: {'_iteration': 25, '_timesteps_total': None, '_time_total': 40.79509782791138, '_episodes_total': None}\n",
            "\u001b[2m\u001b[36m(func pid=269252)\u001b[0m 2022-07-26 14:35:41,746\tINFO trainable.py:589 -- Restored on 172.28.0.2 from checkpoint: /root/ray_results/trainable_func_2022-07-26_14-33-03/trainable_func_db477d10_2_act1=tanh,act2=selu,act3=tanh,batch_size=32,hidden_dim1=240.0000,hidden_dim2=315.0000,hidden_dim3=165.00_2022-07-26_14-33-03/checkpoint_tmp7aa0dd/./\n",
            "\u001b[2m\u001b[36m(func pid=269252)\u001b[0m 2022-07-26 14:35:41,747\tINFO trainable.py:597 -- Current state after restoring: {'_iteration': 28, '_timesteps_total': None, '_time_total': 65.06713223457336, '_episodes_total': None}\n"
          ]
        },
        {
          "output_type": "stream",
          "name": "stdout",
          "text": [
            "Trial trainable_func_db2426a8 reported epoch=0,loss=0.05969404585092634,should_checkpoint=True with parameters={'act1 ': 'selu', 'act2': 'selu', 'act3': 'tanh', 'lr': 0.0006000000000000001, 'batch_size': 32, 'hidden_dim1': 315.0, 'hidden_dim2': 210.0, 'hidden_dim3': 300.0}.\n",
            "Trial trainable_func_db547e7a reported epoch=0,loss=0.14186514530854813,should_checkpoint=True with parameters={'act1 ': 'selu', 'act2': 'tanh', 'act3': 'relu', 'lr': 0.0009, 'batch_size': 16, 'hidden_dim1': 225.0, 'hidden_dim2': 195.0, 'hidden_dim3': 255.0}.\n"
          ]
        },
        {
          "output_type": "stream",
          "name": "stderr",
          "text": [
            "\u001b[2m\u001b[36m(func pid=269297)\u001b[0m 2022-07-26 14:35:42,799\tINFO trainable.py:589 -- Restored on 172.28.0.2 from checkpoint: /root/ray_results/trainable_func_2022-07-26_14-33-03/trainable_func_db2426a8_1_act1=selu,act2=selu,act3=tanh,batch_size=32,hidden_dim1=315.0000,hidden_dim2=210.0000,hidden_dim3=300.00_2022-07-26_14-33-03/checkpoint_tmpee2a16/./\n",
            "\u001b[2m\u001b[36m(func pid=269297)\u001b[0m 2022-07-26 14:35:42,799\tINFO trainable.py:597 -- Current state after restoring: {'_iteration': 33, '_timesteps_total': None, '_time_total': 77.74542880058289, '_episodes_total': None}\n",
            "\u001b[2m\u001b[36m(func pid=269322)\u001b[0m 2022-07-26 14:35:43,377\tINFO trainable.py:589 -- Restored on 172.28.0.2 from checkpoint: /root/ray_results/trainable_func_2022-07-26_14-33-03/trainable_func_db4df2bc_3_act1=tanh,act2=relu,act3=selu,batch_size=64,hidden_dim1=255.0000,hidden_dim2=255.0000,hidden_dim3=285.00_2022-07-26_14-33-03/checkpoint_tmp9f13c8/./\n",
            "\u001b[2m\u001b[36m(func pid=269322)\u001b[0m 2022-07-26 14:35:43,377\tINFO trainable.py:597 -- Current state after restoring: {'_iteration': 26, '_timesteps_total': None, '_time_total': 42.491557598114014, '_episodes_total': None}\n"
          ]
        },
        {
          "output_type": "stream",
          "name": "stdout",
          "text": [
            "Trial trainable_func_db477d10 reported epoch=0,loss=0.07177924488458565,should_checkpoint=True with parameters={'act1 ': 'tanh', 'act2': 'selu', 'act3': 'tanh', 'lr': 0.001, 'batch_size': 32, 'hidden_dim1': 240.0, 'hidden_dim2': 315.0, 'hidden_dim3': 165.0}.\n"
          ]
        },
        {
          "output_type": "stream",
          "name": "stderr",
          "text": [
            "\u001b[2m\u001b[36m(func pid=269253)\u001b[0m 2022-07-26 14:35:43,873\tINFO trainable.py:589 -- Restored on 172.28.0.2 from checkpoint: /root/ray_results/trainable_func_2022-07-26_14-33-03/trainable_func_db547e7a_4_act1=selu,act2=tanh,act3=relu,batch_size=16,hidden_dim1=225.0000,hidden_dim2=195.0000,hidden_dim3=255.00_2022-07-26_14-33-03/checkpoint_tmpce8b66/./\n",
            "\u001b[2m\u001b[36m(func pid=269253)\u001b[0m 2022-07-26 14:35:43,874\tINFO trainable.py:597 -- Current state after restoring: {'_iteration': 17, '_timesteps_total': None, '_time_total': 67.22545337677002, '_episodes_total': None}\n",
            "\u001b[2m\u001b[36m(func pid=269252)\u001b[0m 2022-07-26 14:35:44,619\tINFO trainable.py:589 -- Restored on 172.28.0.2 from checkpoint: /root/ray_results/trainable_func_2022-07-26_14-33-03/trainable_func_db477d10_2_act1=tanh,act2=selu,act3=tanh,batch_size=32,hidden_dim1=240.0000,hidden_dim2=315.0000,hidden_dim3=165.00_2022-07-26_14-33-03/checkpoint_tmp0bac3f/./\n",
            "\u001b[2m\u001b[36m(func pid=269252)\u001b[0m 2022-07-26 14:35:44,620\tINFO trainable.py:597 -- Current state after restoring: {'_iteration': 29, '_timesteps_total': None, '_time_total': 67.02873826026917, '_episodes_total': None}\n",
            "\u001b[2m\u001b[36m(func pid=269297)\u001b[0m 2022-07-26 14:35:45,036\tINFO trainable.py:589 -- Restored on 172.28.0.2 from checkpoint: /root/ray_results/trainable_func_2022-07-26_14-33-03/trainable_func_db2426a8_1_act1=selu,act2=selu,act3=tanh,batch_size=32,hidden_dim1=315.0000,hidden_dim2=210.0000,hidden_dim3=300.00_2022-07-26_14-33-03/checkpoint_tmpda1dfa/./\n",
            "\u001b[2m\u001b[36m(func pid=269297)\u001b[0m 2022-07-26 14:35:45,036\tINFO trainable.py:597 -- Current state after restoring: {'_iteration': 34, '_timesteps_total': None, '_time_total': 79.39920258522034, '_episodes_total': None}\n",
            "\u001b[2m\u001b[36m(func pid=269322)\u001b[0m 2022-07-26 14:35:45,753\tINFO trainable.py:589 -- Restored on 172.28.0.2 from checkpoint: /root/ray_results/trainable_func_2022-07-26_14-33-03/trainable_func_db4df2bc_3_act1=tanh,act2=relu,act3=selu,batch_size=64,hidden_dim1=255.0000,hidden_dim2=255.0000,hidden_dim3=285.00_2022-07-26_14-33-03/checkpoint_tmp3a8c5b/./\n",
            "\u001b[2m\u001b[36m(func pid=269322)\u001b[0m 2022-07-26 14:35:45,754\tINFO trainable.py:597 -- Current state after restoring: {'_iteration': 27, '_timesteps_total': None, '_time_total': 43.854366064071655, '_episodes_total': None}\n"
          ]
        },
        {
          "output_type": "stream",
          "name": "stdout",
          "text": [
            "== Status ==\n",
            "Current time: 2022-07-26 14:35:45 (running for 00:02:42.56)\n",
            "Memory usage on this node: 2.5/12.7 GiB\n",
            "Using MedianStoppingRule: num_stopped=0.\n",
            "Resources requested: 1.5/2 CPUs, 0/0 GPUs, 0.0/7.47 GiB heap, 0.0/3.73 GiB objects\n",
            "Result logdir: /root/ray_results/trainable_func_2022-07-26_14-33-03\n",
            "Number of trials: 10/50 (7 PAUSED, 3 RUNNING)\n",
            "\n",
            "\n"
          ]
        },
        {
          "output_type": "stream",
          "name": "stderr",
          "text": [
            "\u001b[2m\u001b[36m(func pid=269252)\u001b[0m 2022-07-26 14:35:47,104\tINFO trainable.py:589 -- Restored on 172.28.0.2 from checkpoint: /root/ray_results/trainable_func_2022-07-26_14-33-03/trainable_func_db477d10_2_act1=tanh,act2=selu,act3=tanh,batch_size=32,hidden_dim1=240.0000,hidden_dim2=315.0000,hidden_dim3=165.00_2022-07-26_14-33-03/checkpoint_tmp2a5efd/./\n",
            "\u001b[2m\u001b[36m(func pid=269252)\u001b[0m 2022-07-26 14:35:47,104\tINFO trainable.py:597 -- Current state after restoring: {'_iteration': 30, '_timesteps_total': None, '_time_total': 68.92164397239685, '_episodes_total': None}\n"
          ]
        },
        {
          "output_type": "stream",
          "name": "stdout",
          "text": [
            "Trial trainable_func_db2426a8 reported epoch=0,loss=0.062077146763005665,should_checkpoint=True with parameters={'act1 ': 'selu', 'act2': 'selu', 'act3': 'tanh', 'lr': 0.0006000000000000001, 'batch_size': 32, 'hidden_dim1': 315.0, 'hidden_dim2': 210.0, 'hidden_dim3': 300.0}.\n"
          ]
        },
        {
          "output_type": "stream",
          "name": "stderr",
          "text": [
            "\u001b[2m\u001b[36m(func pid=269253)\u001b[0m 2022-07-26 14:35:47,685\tINFO trainable.py:589 -- Restored on 172.28.0.2 from checkpoint: /root/ray_results/trainable_func_2022-07-26_14-33-03/trainable_func_db547e7a_4_act1=selu,act2=tanh,act3=relu,batch_size=16,hidden_dim1=225.0000,hidden_dim2=195.0000,hidden_dim3=255.00_2022-07-26_14-33-03/checkpoint_tmp60d9bb/./\n",
            "\u001b[2m\u001b[36m(func pid=269253)\u001b[0m 2022-07-26 14:35:47,685\tINFO trainable.py:597 -- Current state after restoring: {'_iteration': 18, '_timesteps_total': None, '_time_total': 70.42681574821472, '_episodes_total': None}\n"
          ]
        },
        {
          "output_type": "stream",
          "name": "stdout",
          "text": [
            "Trial trainable_func_db4df2bc reported epoch=0,loss=0.033756949247565504,should_checkpoint=True with parameters={'act1 ': 'tanh', 'act2': 'relu', 'act3': 'selu', 'lr': 0.0009, 'batch_size': 64, 'hidden_dim1': 255.0, 'hidden_dim2': 255.0, 'hidden_dim3': 285.0}.\n"
          ]
        },
        {
          "output_type": "stream",
          "name": "stderr",
          "text": [
            "\u001b[2m\u001b[36m(func pid=269297)\u001b[0m 2022-07-26 14:35:48,174\tINFO trainable.py:589 -- Restored on 172.28.0.2 from checkpoint: /root/ray_results/trainable_func_2022-07-26_14-33-03/trainable_func_db2426a8_1_act1=selu,act2=selu,act3=tanh,batch_size=32,hidden_dim1=315.0000,hidden_dim2=210.0000,hidden_dim3=300.00_2022-07-26_14-33-03/checkpoint_tmp144502/./\n",
            "\u001b[2m\u001b[36m(func pid=269297)\u001b[0m 2022-07-26 14:35:48,174\tINFO trainable.py:597 -- Current state after restoring: {'_iteration': 35, '_timesteps_total': None, '_time_total': 81.77689695358276, '_episodes_total': None}\n"
          ]
        },
        {
          "output_type": "stream",
          "name": "stdout",
          "text": [
            "Trial trainable_func_db477d10 reported epoch=0,loss=0.1015898921491474,should_checkpoint=True with parameters={'act1 ': 'tanh', 'act2': 'selu', 'act3': 'tanh', 'lr': 0.001, 'batch_size': 32, 'hidden_dim1': 240.0, 'hidden_dim2': 315.0, 'hidden_dim3': 165.0}.\n"
          ]
        },
        {
          "output_type": "stream",
          "name": "stderr",
          "text": [
            "\u001b[2m\u001b[36m(func pid=269322)\u001b[0m 2022-07-26 14:35:48,982\tINFO trainable.py:589 -- Restored on 172.28.0.2 from checkpoint: /root/ray_results/trainable_func_2022-07-26_14-33-03/trainable_func_db4df2bc_3_act1=tanh,act2=relu,act3=selu,batch_size=64,hidden_dim1=255.0000,hidden_dim2=255.0000,hidden_dim3=285.00_2022-07-26_14-33-03/checkpoint_tmpbc8f05/./\n",
            "\u001b[2m\u001b[36m(func pid=269322)\u001b[0m 2022-07-26 14:35:48,982\tINFO trainable.py:597 -- Current state after restoring: {'_iteration': 28, '_timesteps_total': None, '_time_total': 45.51440954208374, '_episodes_total': None}\n",
            "\u001b[2m\u001b[36m(func pid=269252)\u001b[0m 2022-07-26 14:35:50,259\tINFO trainable.py:589 -- Restored on 172.28.0.2 from checkpoint: /root/ray_results/trainable_func_2022-07-26_14-33-03/trainable_func_db477d10_2_act1=tanh,act2=selu,act3=tanh,batch_size=32,hidden_dim1=240.0000,hidden_dim2=315.0000,hidden_dim3=165.00_2022-07-26_14-33-03/checkpoint_tmpbf3ba7/./\n",
            "\u001b[2m\u001b[36m(func pid=269252)\u001b[0m 2022-07-26 14:35:50,259\tINFO trainable.py:597 -- Current state after restoring: {'_iteration': 31, '_timesteps_total': None, '_time_total': 70.28900861740112, '_episodes_total': None}\n"
          ]
        },
        {
          "output_type": "stream",
          "name": "stdout",
          "text": [
            "== Status ==\n",
            "Current time: 2022-07-26 14:35:51 (running for 00:02:47.85)\n",
            "Memory usage on this node: 2.5/12.7 GiB\n",
            "Using MedianStoppingRule: num_stopped=0.\n",
            "Resources requested: 2.0/2 CPUs, 0/0 GPUs, 0.0/7.47 GiB heap, 0.0/3.73 GiB objects\n",
            "Result logdir: /root/ray_results/trainable_func_2022-07-26_14-33-03\n",
            "Number of trials: 10/50 (6 PAUSED, 4 RUNNING)\n",
            "\n",
            "\n",
            "Trial trainable_func_db547e7a reported epoch=0,loss=0.13561819721184123,should_checkpoint=True with parameters={'act1 ': 'selu', 'act2': 'tanh', 'act3': 'relu', 'lr': 0.0009, 'batch_size': 16, 'hidden_dim1': 225.0, 'hidden_dim2': 195.0, 'hidden_dim3': 255.0}.\n"
          ]
        },
        {
          "output_type": "stream",
          "name": "stderr",
          "text": [
            "\u001b[2m\u001b[36m(func pid=269297)\u001b[0m 2022-07-26 14:35:51,495\tINFO trainable.py:589 -- Restored on 172.28.0.2 from checkpoint: /root/ray_results/trainable_func_2022-07-26_14-33-03/trainable_func_db2426a8_1_act1=selu,act2=selu,act3=tanh,batch_size=32,hidden_dim1=315.0000,hidden_dim2=210.0000,hidden_dim3=300.00_2022-07-26_14-33-03/checkpoint_tmpe145ab/./\n",
            "\u001b[2m\u001b[36m(func pid=269297)\u001b[0m 2022-07-26 14:35:51,495\tINFO trainable.py:597 -- Current state after restoring: {'_iteration': 36, '_timesteps_total': None, '_time_total': 84.58793759346008, '_episodes_total': None}\n",
            "\u001b[2m\u001b[36m(func pid=269253)\u001b[0m 2022-07-26 14:35:51,949\tINFO trainable.py:589 -- Restored on 172.28.0.2 from checkpoint: /root/ray_results/trainable_func_2022-07-26_14-33-03/trainable_func_db547e7a_4_act1=selu,act2=tanh,act3=relu,batch_size=16,hidden_dim1=225.0000,hidden_dim2=195.0000,hidden_dim3=255.00_2022-07-26_14-33-03/checkpoint_tmp1a45b5/./\n",
            "\u001b[2m\u001b[36m(func pid=269253)\u001b[0m 2022-07-26 14:35:51,949\tINFO trainable.py:597 -- Current state after restoring: {'_iteration': 19, '_timesteps_total': None, '_time_total': 73.98854303359985, '_episodes_total': None}\n"
          ]
        },
        {
          "output_type": "stream",
          "name": "stdout",
          "text": [
            "Trial trainable_func_db2426a8 reported epoch=0,loss=0.0456282040664436,should_checkpoint=True with parameters={'act1 ': 'selu', 'act2': 'selu', 'act3': 'tanh', 'lr': 0.0006000000000000001, 'batch_size': 32, 'hidden_dim1': 315.0, 'hidden_dim2': 210.0, 'hidden_dim3': 300.0}.\n"
          ]
        },
        {
          "output_type": "stream",
          "name": "stderr",
          "text": [
            "\u001b[2m\u001b[36m(func pid=269322)\u001b[0m 2022-07-26 14:35:52,511\tINFO trainable.py:589 -- Restored on 172.28.0.2 from checkpoint: /root/ray_results/trainable_func_2022-07-26_14-33-03/trainable_func_db4df2bc_3_act1=tanh,act2=relu,act3=selu,batch_size=64,hidden_dim1=255.0000,hidden_dim2=255.0000,hidden_dim3=285.00_2022-07-26_14-33-03/checkpoint_tmp84c9ac/./\n",
            "\u001b[2m\u001b[36m(func pid=269322)\u001b[0m 2022-07-26 14:35:52,511\tINFO trainable.py:597 -- Current state after restoring: {'_iteration': 29, '_timesteps_total': None, '_time_total': 47.7210578918457, '_episodes_total': None}\n",
            "\u001b[2m\u001b[36m(func pid=269252)\u001b[0m 2022-07-26 14:35:53,162\tINFO trainable.py:589 -- Restored on 172.28.0.2 from checkpoint: /root/ray_results/trainable_func_2022-07-26_14-33-03/trainable_func_db477d10_2_act1=tanh,act2=selu,act3=tanh,batch_size=32,hidden_dim1=240.0000,hidden_dim2=315.0000,hidden_dim3=165.00_2022-07-26_14-33-03/checkpoint_tmp83ccd5/./\n",
            "\u001b[2m\u001b[36m(func pid=269252)\u001b[0m 2022-07-26 14:35:53,162\tINFO trainable.py:597 -- Current state after restoring: {'_iteration': 32, '_timesteps_total': None, '_time_total': 71.91836595535278, '_episodes_total': None}\n",
            "\u001b[2m\u001b[36m(func pid=269297)\u001b[0m 2022-07-26 14:35:53,909\tINFO trainable.py:589 -- Restored on 172.28.0.2 from checkpoint: /root/ray_results/trainable_func_2022-07-26_14-33-03/trainable_func_db2426a8_1_act1=selu,act2=selu,act3=tanh,batch_size=32,hidden_dim1=315.0000,hidden_dim2=210.0000,hidden_dim3=300.00_2022-07-26_14-33-03/checkpoint_tmpeccfec/./\n",
            "\u001b[2m\u001b[36m(func pid=269297)\u001b[0m 2022-07-26 14:35:53,909\tINFO trainable.py:597 -- Current state after restoring: {'_iteration': 37, '_timesteps_total': None, '_time_total': 86.26745104789734, '_episodes_total': None}\n"
          ]
        },
        {
          "output_type": "stream",
          "name": "stdout",
          "text": [
            "Trial trainable_func_db4df2bc reported epoch=0,loss=0.033302963641814745,should_checkpoint=True with parameters={'act1 ': 'tanh', 'act2': 'relu', 'act3': 'selu', 'lr': 0.0009, 'batch_size': 64, 'hidden_dim1': 255.0, 'hidden_dim2': 255.0, 'hidden_dim3': 285.0}.\n"
          ]
        },
        {
          "output_type": "stream",
          "name": "stderr",
          "text": [
            "\u001b[2m\u001b[36m(func pid=269322)\u001b[0m 2022-07-26 14:35:54,658\tINFO trainable.py:589 -- Restored on 172.28.0.2 from checkpoint: /root/ray_results/trainable_func_2022-07-26_14-33-03/trainable_func_db4df2bc_3_act1=tanh,act2=relu,act3=selu,batch_size=64,hidden_dim1=255.0000,hidden_dim2=255.0000,hidden_dim3=285.00_2022-07-26_14-33-03/checkpoint_tmpd37ff0/./\n",
            "\u001b[2m\u001b[36m(func pid=269322)\u001b[0m 2022-07-26 14:35:54,659\tINFO trainable.py:597 -- Current state after restoring: {'_iteration': 30, '_timesteps_total': None, '_time_total': 49.23813009262085, '_episodes_total': None}\n"
          ]
        },
        {
          "output_type": "stream",
          "name": "stdout",
          "text": [
            "Trial trainable_func_db477d10 reported epoch=0,loss=0.0579588539852313,should_checkpoint=True with parameters={'act1 ': 'tanh', 'act2': 'selu', 'act3': 'tanh', 'lr': 0.001, 'batch_size': 32, 'hidden_dim1': 240.0, 'hidden_dim2': 315.0, 'hidden_dim3': 165.0}.\n"
          ]
        },
        {
          "output_type": "stream",
          "name": "stderr",
          "text": [
            "\u001b[2m\u001b[36m(func pid=269253)\u001b[0m 2022-07-26 14:35:55,639\tINFO trainable.py:589 -- Restored on 172.28.0.2 from checkpoint: /root/ray_results/trainable_func_2022-07-26_14-33-03/trainable_func_db547e7a_4_act1=selu,act2=tanh,act3=relu,batch_size=16,hidden_dim1=225.0000,hidden_dim2=195.0000,hidden_dim3=255.00_2022-07-26_14-33-03/checkpoint_tmp8718c2/./\n",
            "\u001b[2m\u001b[36m(func pid=269253)\u001b[0m 2022-07-26 14:35:55,639\tINFO trainable.py:597 -- Current state after restoring: {'_iteration': 20, '_timesteps_total': None, '_time_total': 77.05369472503662, '_episodes_total': None}\n"
          ]
        },
        {
          "output_type": "stream",
          "name": "stdout",
          "text": [
            "== Status ==\n",
            "Current time: 2022-07-26 14:35:56 (running for 00:02:53.00)\n",
            "Memory usage on this node: 2.4/12.7 GiB\n",
            "Using MedianStoppingRule: num_stopped=0.\n",
            "Resources requested: 1.5/2 CPUs, 0/0 GPUs, 0.0/7.47 GiB heap, 0.0/3.73 GiB objects\n",
            "Result logdir: /root/ray_results/trainable_func_2022-07-26_14-33-03\n",
            "Number of trials: 10/50 (7 PAUSED, 3 RUNNING)\n",
            "\n",
            "\n"
          ]
        },
        {
          "output_type": "stream",
          "name": "stderr",
          "text": [
            "\u001b[2m\u001b[36m(func pid=269252)\u001b[0m 2022-07-26 14:35:56,206\tINFO trainable.py:589 -- Restored on 172.28.0.2 from checkpoint: /root/ray_results/trainable_func_2022-07-26_14-33-03/trainable_func_db477d10_2_act1=tanh,act2=selu,act3=tanh,batch_size=32,hidden_dim1=240.0000,hidden_dim2=315.0000,hidden_dim3=165.00_2022-07-26_14-33-03/checkpoint_tmp5eada7/./\n",
            "\u001b[2m\u001b[36m(func pid=269252)\u001b[0m 2022-07-26 14:35:56,206\tINFO trainable.py:597 -- Current state after restoring: {'_iteration': 33, '_timesteps_total': None, '_time_total': 74.13806438446045, '_episodes_total': None}\n",
            "\u001b[2m\u001b[36m(func pid=269297)\u001b[0m 2022-07-26 14:35:56,657\tINFO trainable.py:589 -- Restored on 172.28.0.2 from checkpoint: /root/ray_results/trainable_func_2022-07-26_14-33-03/trainable_func_db2426a8_1_act1=selu,act2=selu,act3=tanh,batch_size=32,hidden_dim1=315.0000,hidden_dim2=210.0000,hidden_dim3=300.00_2022-07-26_14-33-03/checkpoint_tmp8ddc5d/./\n",
            "\u001b[2m\u001b[36m(func pid=269297)\u001b[0m 2022-07-26 14:35:56,657\tINFO trainable.py:597 -- Current state after restoring: {'_iteration': 38, '_timesteps_total': None, '_time_total': 88.3349039554596, '_episodes_total': None}\n",
            "\u001b[2m\u001b[36m(func pid=269322)\u001b[0m 2022-07-26 14:35:57,398\tINFO trainable.py:589 -- Restored on 172.28.0.2 from checkpoint: /root/ray_results/trainable_func_2022-07-26_14-33-03/trainable_func_db4df2bc_3_act1=tanh,act2=relu,act3=selu,batch_size=64,hidden_dim1=255.0000,hidden_dim2=255.0000,hidden_dim3=285.00_2022-07-26_14-33-03/checkpoint_tmp8c3195/./\n",
            "\u001b[2m\u001b[36m(func pid=269322)\u001b[0m 2022-07-26 14:35:57,398\tINFO trainable.py:597 -- Current state after restoring: {'_iteration': 31, '_timesteps_total': None, '_time_total': 50.565295696258545, '_episodes_total': None}\n"
          ]
        },
        {
          "output_type": "stream",
          "name": "stdout",
          "text": [
            "Trial trainable_func_db547e7a reported epoch=0,loss=0.1105884702018323,should_checkpoint=True with parameters={'act1 ': 'selu', 'act2': 'tanh', 'act3': 'relu', 'lr': 0.0009, 'batch_size': 16, 'hidden_dim1': 225.0, 'hidden_dim2': 195.0, 'hidden_dim3': 255.0}.\n"
          ]
        },
        {
          "output_type": "stream",
          "name": "stderr",
          "text": [
            "\u001b[2m\u001b[36m(func pid=269252)\u001b[0m 2022-07-26 14:35:58,599\tINFO trainable.py:589 -- Restored on 172.28.0.2 from checkpoint: /root/ray_results/trainable_func_2022-07-26_14-33-03/trainable_func_db477d10_2_act1=tanh,act2=selu,act3=tanh,batch_size=32,hidden_dim1=240.0000,hidden_dim2=315.0000,hidden_dim3=165.00_2022-07-26_14-33-03/checkpoint_tmpeddf55/./\n",
            "\u001b[2m\u001b[36m(func pid=269252)\u001b[0m 2022-07-26 14:35:58,600\tINFO trainable.py:597 -- Current state after restoring: {'_iteration': 34, '_timesteps_total': None, '_time_total': 75.83427929878235, '_episodes_total': None}\n"
          ]
        },
        {
          "output_type": "stream",
          "name": "stdout",
          "text": [
            "Trial trainable_func_db2426a8 reported epoch=0,loss=0.04302994568595659,should_checkpoint=True with parameters={'act1 ': 'selu', 'act2': 'selu', 'act3': 'tanh', 'lr': 0.0006000000000000001, 'batch_size': 32, 'hidden_dim1': 315.0, 'hidden_dim2': 210.0, 'hidden_dim3': 300.0}.\n",
            "Trial trainable_func_db4df2bc reported epoch=0,loss=0.05068906788335831,should_checkpoint=True with parameters={'act1 ': 'tanh', 'act2': 'relu', 'act3': 'selu', 'lr': 0.0009, 'batch_size': 64, 'hidden_dim1': 255.0, 'hidden_dim2': 255.0, 'hidden_dim3': 285.0}.\n"
          ]
        },
        {
          "output_type": "stream",
          "name": "stderr",
          "text": [
            "\u001b[2m\u001b[36m(func pid=269253)\u001b[0m 2022-07-26 14:35:59,141\tINFO trainable.py:589 -- Restored on 172.28.0.2 from checkpoint: /root/ray_results/trainable_func_2022-07-26_14-33-03/trainable_func_db547e7a_4_act1=selu,act2=tanh,act3=relu,batch_size=16,hidden_dim1=225.0000,hidden_dim2=195.0000,hidden_dim3=255.00_2022-07-26_14-33-03/checkpoint_tmpb17baf/./\n",
            "\u001b[2m\u001b[36m(func pid=269253)\u001b[0m 2022-07-26 14:35:59,141\tINFO trainable.py:597 -- Current state after restoring: {'_iteration': 21, '_timesteps_total': None, '_time_total': 79.93286967277527, '_episodes_total': None}\n",
            "\u001b[2m\u001b[36m(func pid=269297)\u001b[0m 2022-07-26 14:35:59,562\tINFO trainable.py:589 -- Restored on 172.28.0.2 from checkpoint: /root/ray_results/trainable_func_2022-07-26_14-33-03/trainable_func_db2426a8_1_act1=selu,act2=selu,act3=tanh,batch_size=32,hidden_dim1=315.0000,hidden_dim2=210.0000,hidden_dim3=300.00_2022-07-26_14-33-03/checkpoint_tmp475c0a/./\n",
            "\u001b[2m\u001b[36m(func pid=269297)\u001b[0m 2022-07-26 14:35:59,565\tINFO trainable.py:597 -- Current state after restoring: {'_iteration': 39, '_timesteps_total': None, '_time_total': 90.57850956916809, '_episodes_total': None}\n",
            "\u001b[2m\u001b[36m(func pid=269322)\u001b[0m 2022-07-26 14:36:00,187\tINFO trainable.py:589 -- Restored on 172.28.0.2 from checkpoint: /root/ray_results/trainable_func_2022-07-26_14-33-03/trainable_func_db4df2bc_3_act1=tanh,act2=relu,act3=selu,batch_size=64,hidden_dim1=255.0000,hidden_dim2=255.0000,hidden_dim3=285.00_2022-07-26_14-33-03/checkpoint_tmpf00d99/./\n",
            "\u001b[2m\u001b[36m(func pid=269322)\u001b[0m 2022-07-26 14:36:00,187\tINFO trainable.py:597 -- Current state after restoring: {'_iteration': 32, '_timesteps_total': None, '_time_total': 51.98274540901184, '_episodes_total': None}\n",
            "\u001b[2m\u001b[36m(func pid=269252)\u001b[0m 2022-07-26 14:36:00,913\tINFO trainable.py:589 -- Restored on 172.28.0.2 from checkpoint: /root/ray_results/trainable_func_2022-07-26_14-33-03/trainable_func_db477d10_2_act1=tanh,act2=selu,act3=tanh,batch_size=32,hidden_dim1=240.0000,hidden_dim2=315.0000,hidden_dim3=165.00_2022-07-26_14-33-03/checkpoint_tmpea3ca7/./\n",
            "\u001b[2m\u001b[36m(func pid=269252)\u001b[0m 2022-07-26 14:36:00,913\tINFO trainable.py:597 -- Current state after restoring: {'_iteration': 35, '_timesteps_total': None, '_time_total': 77.4141013622284, '_episodes_total': None}\n"
          ]
        },
        {
          "output_type": "stream",
          "name": "stdout",
          "text": [
            "== Status ==\n",
            "Current time: 2022-07-26 14:36:01 (running for 00:02:58.55)\n",
            "Memory usage on this node: 2.5/12.7 GiB\n",
            "Using MedianStoppingRule: num_stopped=0.\n",
            "Resources requested: 2.0/2 CPUs, 0/0 GPUs, 0.0/7.47 GiB heap, 0.0/3.73 GiB objects\n",
            "Result logdir: /root/ray_results/trainable_func_2022-07-26_14-33-03\n",
            "Number of trials: 10/50 (6 PAUSED, 4 RUNNING)\n",
            "\n",
            "\n"
          ]
        },
        {
          "output_type": "stream",
          "name": "stderr",
          "text": [
            "\u001b[2m\u001b[36m(func pid=269322)\u001b[0m 2022-07-26 14:36:02,217\tINFO trainable.py:589 -- Restored on 172.28.0.2 from checkpoint: /root/ray_results/trainable_func_2022-07-26_14-33-03/trainable_func_db4df2bc_3_act1=tanh,act2=relu,act3=selu,batch_size=64,hidden_dim1=255.0000,hidden_dim2=255.0000,hidden_dim3=285.00_2022-07-26_14-33-03/checkpoint_tmpbe97d7/./\n",
            "\u001b[2m\u001b[36m(func pid=269322)\u001b[0m 2022-07-26 14:36:02,217\tINFO trainable.py:597 -- Current state after restoring: {'_iteration': 33, '_timesteps_total': None, '_time_total': 53.48370385169983, '_episodes_total': None}\n",
            "\u001b[2m\u001b[36m(func pid=269297)\u001b[0m 2022-07-26 14:36:02,629\tINFO trainable.py:589 -- Restored on 172.28.0.2 from checkpoint: /root/ray_results/trainable_func_2022-07-26_14-33-03/trainable_func_db2426a8_1_act1=selu,act2=selu,act3=tanh,batch_size=32,hidden_dim1=315.0000,hidden_dim2=210.0000,hidden_dim3=300.00_2022-07-26_14-33-03/checkpoint_tmp091bce/./\n",
            "\u001b[2m\u001b[36m(func pid=269297)\u001b[0m 2022-07-26 14:36:02,630\tINFO trainable.py:597 -- Current state after restoring: {'_iteration': 40, '_timesteps_total': None, '_time_total': 92.71560835838318, '_episodes_total': None}\n"
          ]
        },
        {
          "output_type": "stream",
          "name": "stdout",
          "text": [
            "Trial trainable_func_db477d10 reported epoch=0,loss=0.05996112380933355,should_checkpoint=True with parameters={'act1 ': 'tanh', 'act2': 'selu', 'act3': 'tanh', 'lr': 0.001, 'batch_size': 32, 'hidden_dim1': 240.0, 'hidden_dim2': 315.0, 'hidden_dim3': 165.0}.\n"
          ]
        },
        {
          "output_type": "stream",
          "name": "stderr",
          "text": [
            "\u001b[2m\u001b[36m(func pid=269253)\u001b[0m 2022-07-26 14:36:03,243\tINFO trainable.py:589 -- Restored on 172.28.0.2 from checkpoint: /root/ray_results/trainable_func_2022-07-26_14-33-03/trainable_func_db547e7a_4_act1=selu,act2=tanh,act3=relu,batch_size=16,hidden_dim1=225.0000,hidden_dim2=195.0000,hidden_dim3=255.00_2022-07-26_14-33-03/checkpoint_tmp2d4551/./\n",
            "\u001b[2m\u001b[36m(func pid=269253)\u001b[0m 2022-07-26 14:36:03,243\tINFO trainable.py:597 -- Current state after restoring: {'_iteration': 22, '_timesteps_total': None, '_time_total': 83.00241780281067, '_episodes_total': None}\n",
            "\u001b[2m\u001b[36m(func pid=269252)\u001b[0m 2022-07-26 14:36:03,840\tINFO trainable.py:589 -- Restored on 172.28.0.2 from checkpoint: /root/ray_results/trainable_func_2022-07-26_14-33-03/trainable_func_db477d10_2_act1=tanh,act2=selu,act3=tanh,batch_size=32,hidden_dim1=240.0000,hidden_dim2=315.0000,hidden_dim3=165.00_2022-07-26_14-33-03/checkpoint_tmpd7e122/./\n",
            "\u001b[2m\u001b[36m(func pid=269252)\u001b[0m 2022-07-26 14:36:03,840\tINFO trainable.py:597 -- Current state after restoring: {'_iteration': 36, '_timesteps_total': None, '_time_total': 79.24123668670654, '_episodes_total': None}\n"
          ]
        },
        {
          "output_type": "stream",
          "name": "stdout",
          "text": [
            "Trial trainable_func_db2426a8 reported epoch=0,loss=0.04597572037392835,should_checkpoint=True with parameters={'act1 ': 'selu', 'act2': 'selu', 'act3': 'tanh', 'lr': 0.0006000000000000001, 'batch_size': 32, 'hidden_dim1': 315.0, 'hidden_dim2': 210.0, 'hidden_dim3': 300.0}.\n"
          ]
        },
        {
          "output_type": "stream",
          "name": "stderr",
          "text": [
            "\u001b[2m\u001b[36m(func pid=269322)\u001b[0m 2022-07-26 14:36:04,493\tINFO trainable.py:589 -- Restored on 172.28.0.2 from checkpoint: /root/ray_results/trainable_func_2022-07-26_14-33-03/trainable_func_db4df2bc_3_act1=tanh,act2=relu,act3=selu,batch_size=64,hidden_dim1=255.0000,hidden_dim2=255.0000,hidden_dim3=285.00_2022-07-26_14-33-03/checkpoint_tmp633a87/./\n",
            "\u001b[2m\u001b[36m(func pid=269322)\u001b[0m 2022-07-26 14:36:04,493\tINFO trainable.py:597 -- Current state after restoring: {'_iteration': 34, '_timesteps_total': None, '_time_total': 54.66410732269287, '_episodes_total': None}\n",
            "\u001b[2m\u001b[36m(func pid=269297)\u001b[0m 2022-07-26 14:36:05,260\tINFO trainable.py:589 -- Restored on 172.28.0.2 from checkpoint: /root/ray_results/trainable_func_2022-07-26_14-33-03/trainable_func_db2426a8_1_act1=selu,act2=selu,act3=tanh,batch_size=32,hidden_dim1=315.0000,hidden_dim2=210.0000,hidden_dim3=300.00_2022-07-26_14-33-03/checkpoint_tmpd1a8f4/./\n",
            "\u001b[2m\u001b[36m(func pid=269297)\u001b[0m 2022-07-26 14:36:05,260\tINFO trainable.py:597 -- Current state after restoring: {'_iteration': 41, '_timesteps_total': None, '_time_total': 94.50785660743713, '_episodes_total': None}\n"
          ]
        },
        {
          "output_type": "stream",
          "name": "stdout",
          "text": [
            "Trial trainable_func_db4df2bc reported epoch=0,loss=0.03872798621928213,should_checkpoint=True with parameters={'act1 ': 'tanh', 'act2': 'relu', 'act3': 'selu', 'lr': 0.0009, 'batch_size': 64, 'hidden_dim1': 255.0, 'hidden_dim2': 255.0, 'hidden_dim3': 285.0}.\n"
          ]
        },
        {
          "output_type": "stream",
          "name": "stderr",
          "text": [
            "\u001b[2m\u001b[36m(func pid=269322)\u001b[0m 2022-07-26 14:36:06,471\tINFO trainable.py:589 -- Restored on 172.28.0.2 from checkpoint: /root/ray_results/trainable_func_2022-07-26_14-33-03/trainable_func_db4df2bc_3_act1=tanh,act2=relu,act3=selu,batch_size=64,hidden_dim1=255.0000,hidden_dim2=255.0000,hidden_dim3=285.00_2022-07-26_14-33-03/checkpoint_tmp4db4d1/./\n",
            "\u001b[2m\u001b[36m(func pid=269322)\u001b[0m 2022-07-26 14:36:06,471\tINFO trainable.py:597 -- Current state after restoring: {'_iteration': 35, '_timesteps_total': None, '_time_total': 56.186460733413696, '_episodes_total': None}\n"
          ]
        },
        {
          "output_type": "stream",
          "name": "stdout",
          "text": [
            "== Status ==\n",
            "Current time: 2022-07-26 14:36:07 (running for 00:03:03.87)\n",
            "Memory usage on this node: 2.5/12.7 GiB\n",
            "Using MedianStoppingRule: num_stopped=0.\n",
            "Resources requested: 1.5/2 CPUs, 0/0 GPUs, 0.0/7.47 GiB heap, 0.0/3.73 GiB objects\n",
            "Result logdir: /root/ray_results/trainable_func_2022-07-26_14-33-03\n",
            "Number of trials: 10/50 (7 PAUSED, 3 RUNNING)\n",
            "\n",
            "\n",
            "Trial trainable_func_db547e7a reported epoch=0,loss=0.08254191716640163,should_checkpoint=True with parameters={'act1 ': 'selu', 'act2': 'tanh', 'act3': 'relu', 'lr': 0.0009, 'batch_size': 16, 'hidden_dim1': 225.0, 'hidden_dim2': 195.0, 'hidden_dim3': 255.0}.\n"
          ]
        },
        {
          "output_type": "stream",
          "name": "stderr",
          "text": [
            "\u001b[2m\u001b[36m(func pid=269252)\u001b[0m 2022-07-26 14:36:07,050\tINFO trainable.py:589 -- Restored on 172.28.0.2 from checkpoint: /root/ray_results/trainable_func_2022-07-26_14-33-03/trainable_func_db477d10_2_act1=tanh,act2=selu,act3=tanh,batch_size=32,hidden_dim1=240.0000,hidden_dim2=315.0000,hidden_dim3=165.00_2022-07-26_14-33-03/checkpoint_tmp740bab/./\n",
            "\u001b[2m\u001b[36m(func pid=269252)\u001b[0m 2022-07-26 14:36:07,050\tINFO trainable.py:597 -- Current state after restoring: {'_iteration': 37, '_timesteps_total': None, '_time_total': 81.54549741744995, '_episodes_total': None}\n",
            "\u001b[2m\u001b[36m(func pid=269253)\u001b[0m 2022-07-26 14:36:07,576\tINFO trainable.py:589 -- Restored on 172.28.0.2 from checkpoint: /root/ray_results/trainable_func_2022-07-26_14-33-03/trainable_func_db547e7a_4_act1=selu,act2=tanh,act3=relu,batch_size=16,hidden_dim1=225.0000,hidden_dim2=195.0000,hidden_dim3=255.00_2022-07-26_14-33-03/checkpoint_tmp9ee8b3/./\n",
            "\u001b[2m\u001b[36m(func pid=269253)\u001b[0m 2022-07-26 14:36:07,576\tINFO trainable.py:597 -- Current state after restoring: {'_iteration': 23, '_timesteps_total': None, '_time_total': 86.34736275672913, '_episodes_total': None}\n",
            "\u001b[2m\u001b[36m(func pid=269297)\u001b[0m 2022-07-26 14:36:08,139\tINFO trainable.py:589 -- Restored on 172.28.0.2 from checkpoint: /root/ray_results/trainable_func_2022-07-26_14-33-03/trainable_func_db2426a8_1_act1=selu,act2=selu,act3=tanh,batch_size=32,hidden_dim1=315.0000,hidden_dim2=210.0000,hidden_dim3=300.00_2022-07-26_14-33-03/checkpoint_tmpb45aa7/./\n",
            "\u001b[2m\u001b[36m(func pid=269297)\u001b[0m 2022-07-26 14:36:08,139\tINFO trainable.py:597 -- Current state after restoring: {'_iteration': 42, '_timesteps_total': None, '_time_total': 96.39557313919067, '_episodes_total': None}\n"
          ]
        },
        {
          "output_type": "stream",
          "name": "stdout",
          "text": [
            "Trial trainable_func_db477d10 reported epoch=0,loss=0.05112777779373773,should_checkpoint=True with parameters={'act1 ': 'tanh', 'act2': 'selu', 'act3': 'tanh', 'lr': 0.001, 'batch_size': 32, 'hidden_dim1': 240.0, 'hidden_dim2': 315.0, 'hidden_dim3': 165.0}.\n"
          ]
        },
        {
          "output_type": "stream",
          "name": "stderr",
          "text": [
            "\u001b[2m\u001b[36m(func pid=269322)\u001b[0m 2022-07-26 14:36:08,835\tINFO trainable.py:589 -- Restored on 172.28.0.2 from checkpoint: /root/ray_results/trainable_func_2022-07-26_14-33-03/trainable_func_db4df2bc_3_act1=tanh,act2=relu,act3=selu,batch_size=64,hidden_dim1=255.0000,hidden_dim2=255.0000,hidden_dim3=285.00_2022-07-26_14-33-03/checkpoint_tmp54860a/./\n",
            "\u001b[2m\u001b[36m(func pid=269322)\u001b[0m 2022-07-26 14:36:08,835\tINFO trainable.py:597 -- Current state after restoring: {'_iteration': 36, '_timesteps_total': None, '_time_total': 57.42016077041626, '_episodes_total': None}\n",
            "\u001b[2m\u001b[36m(func pid=269252)\u001b[0m 2022-07-26 14:36:09,443\tINFO trainable.py:589 -- Restored on 172.28.0.2 from checkpoint: /root/ray_results/trainable_func_2022-07-26_14-33-03/trainable_func_db477d10_2_act1=tanh,act2=selu,act3=tanh,batch_size=32,hidden_dim1=240.0000,hidden_dim2=315.0000,hidden_dim3=165.00_2022-07-26_14-33-03/checkpoint_tmp0383dd/./\n",
            "\u001b[2m\u001b[36m(func pid=269252)\u001b[0m 2022-07-26 14:36:09,443\tINFO trainable.py:597 -- Current state after restoring: {'_iteration': 38, '_timesteps_total': None, '_time_total': 83.32262110710144, '_episodes_total': None}\n"
          ]
        },
        {
          "output_type": "stream",
          "name": "stdout",
          "text": [
            "Trial trainable_func_db2426a8 reported epoch=0,loss=0.03800985623876416,should_checkpoint=True with parameters={'act1 ': 'selu', 'act2': 'selu', 'act3': 'tanh', 'lr': 0.0006000000000000001, 'batch_size': 32, 'hidden_dim1': 315.0, 'hidden_dim2': 210.0, 'hidden_dim3': 300.0}.\n"
          ]
        },
        {
          "output_type": "stream",
          "name": "stderr",
          "text": [
            "\u001b[2m\u001b[36m(func pid=269322)\u001b[0m 2022-07-26 14:36:10,822\tINFO trainable.py:589 -- Restored on 172.28.0.2 from checkpoint: /root/ray_results/trainable_func_2022-07-26_14-33-03/trainable_func_db4df2bc_3_act1=tanh,act2=relu,act3=selu,batch_size=64,hidden_dim1=255.0000,hidden_dim2=255.0000,hidden_dim3=285.00_2022-07-26_14-33-03/checkpoint_tmp214117/./\n",
            "\u001b[2m\u001b[36m(func pid=269322)\u001b[0m 2022-07-26 14:36:10,822\tINFO trainable.py:597 -- Current state after restoring: {'_iteration': 37, '_timesteps_total': None, '_time_total': 59.02884912490845, '_episodes_total': None}\n",
            "\u001b[2m\u001b[36m(func pid=269297)\u001b[0m 2022-07-26 14:36:11,373\tINFO trainable.py:589 -- Restored on 172.28.0.2 from checkpoint: /root/ray_results/trainable_func_2022-07-26_14-33-03/trainable_func_db2426a8_1_act1=selu,act2=selu,act3=tanh,batch_size=32,hidden_dim1=315.0000,hidden_dim2=210.0000,hidden_dim3=300.00_2022-07-26_14-33-03/checkpoint_tmp09c1bf/./\n",
            "\u001b[2m\u001b[36m(func pid=269297)\u001b[0m 2022-07-26 14:36:11,373\tINFO trainable.py:597 -- Current state after restoring: {'_iteration': 43, '_timesteps_total': None, '_time_total': 98.81656098365784, '_episodes_total': None}\n",
            "\u001b[2m\u001b[36m(func pid=269253)\u001b[0m 2022-07-26 14:36:11,832\tINFO trainable.py:589 -- Restored on 172.28.0.2 from checkpoint: /root/ray_results/trainable_func_2022-07-26_14-33-03/trainable_func_db547e7a_4_act1=selu,act2=tanh,act3=relu,batch_size=16,hidden_dim1=225.0000,hidden_dim2=195.0000,hidden_dim3=255.00_2022-07-26_14-33-03/checkpoint_tmpb27865/./\n",
            "\u001b[2m\u001b[36m(func pid=269253)\u001b[0m 2022-07-26 14:36:11,832\tINFO trainable.py:597 -- Current state after restoring: {'_iteration': 24, '_timesteps_total': None, '_time_total': 89.25965619087219, '_episodes_total': None}\n",
            "\u001b[2m\u001b[36m(func pid=269252)\u001b[0m 2022-07-26 14:36:12,184\tINFO trainable.py:589 -- Restored on 172.28.0.2 from checkpoint: /root/ray_results/trainable_func_2022-07-26_14-33-03/trainable_func_db477d10_2_act1=tanh,act2=selu,act3=tanh,batch_size=32,hidden_dim1=240.0000,hidden_dim2=315.0000,hidden_dim3=165.00_2022-07-26_14-33-03/checkpoint_tmpf200df/./\n",
            "\u001b[2m\u001b[36m(func pid=269252)\u001b[0m 2022-07-26 14:36:12,185\tINFO trainable.py:597 -- Current state after restoring: {'_iteration': 39, '_timesteps_total': None, '_time_total': 85.00597929954529, '_episodes_total': None}\n"
          ]
        },
        {
          "output_type": "stream",
          "name": "stdout",
          "text": [
            "== Status ==\n",
            "Current time: 2022-07-26 14:36:12 (running for 00:03:09.00)\n",
            "Memory usage on this node: 2.5/12.7 GiB\n",
            "Using MedianStoppingRule: num_stopped=0.\n",
            "Resources requested: 1.5/2 CPUs, 0/0 GPUs, 0.0/7.47 GiB heap, 0.0/3.73 GiB objects\n",
            "Result logdir: /root/ray_results/trainable_func_2022-07-26_14-33-03\n",
            "Number of trials: 10/50 (7 PAUSED, 3 RUNNING)\n",
            "\n",
            "\n",
            "Trial trainable_func_db4df2bc reported epoch=0,loss=0.03671996214196748,should_checkpoint=True with parameters={'act1 ': 'tanh', 'act2': 'relu', 'act3': 'selu', 'lr': 0.0009, 'batch_size': 64, 'hidden_dim1': 255.0, 'hidden_dim2': 255.0, 'hidden_dim3': 285.0}.\n"
          ]
        },
        {
          "output_type": "stream",
          "name": "stderr",
          "text": [
            "\u001b[2m\u001b[36m(func pid=269322)\u001b[0m 2022-07-26 14:36:12,870\tINFO trainable.py:589 -- Restored on 172.28.0.2 from checkpoint: /root/ray_results/trainable_func_2022-07-26_14-33-03/trainable_func_db4df2bc_3_act1=tanh,act2=relu,act3=selu,batch_size=64,hidden_dim1=255.0000,hidden_dim2=255.0000,hidden_dim3=285.00_2022-07-26_14-33-03/checkpoint_tmp69acc7/./\n",
            "\u001b[2m\u001b[36m(func pid=269322)\u001b[0m 2022-07-26 14:36:12,871\tINFO trainable.py:597 -- Current state after restoring: {'_iteration': 38, '_timesteps_total': None, '_time_total': 59.96892690658569, '_episodes_total': None}\n",
            "\u001b[2m\u001b[36m(func pid=269297)\u001b[0m 2022-07-26 14:36:13,836\tINFO trainable.py:589 -- Restored on 172.28.0.2 from checkpoint: /root/ray_results/trainable_func_2022-07-26_14-33-03/trainable_func_db2426a8_1_act1=selu,act2=selu,act3=tanh,batch_size=32,hidden_dim1=315.0000,hidden_dim2=210.0000,hidden_dim3=300.00_2022-07-26_14-33-03/checkpoint_tmp5d8201/./\n",
            "\u001b[2m\u001b[36m(func pid=269297)\u001b[0m 2022-07-26 14:36:13,837\tINFO trainable.py:597 -- Current state after restoring: {'_iteration': 44, '_timesteps_total': None, '_time_total': 100.5478036403656, '_episodes_total': None}\n"
          ]
        },
        {
          "output_type": "stream",
          "name": "stdout",
          "text": [
            "Trial trainable_func_db477d10 reported epoch=0,loss=0.05774699834462321,should_checkpoint=True with parameters={'act1 ': 'tanh', 'act2': 'selu', 'act3': 'tanh', 'lr': 0.001, 'batch_size': 32, 'hidden_dim1': 240.0, 'hidden_dim2': 315.0, 'hidden_dim3': 165.0}.\n",
            "Trial trainable_func_db547e7a reported epoch=0,loss=0.07716714934729697,should_checkpoint=True with parameters={'act1 ': 'selu', 'act2': 'tanh', 'act3': 'relu', 'lr': 0.0009, 'batch_size': 16, 'hidden_dim1': 225.0, 'hidden_dim2': 195.0, 'hidden_dim3': 255.0}.\n"
          ]
        },
        {
          "output_type": "stream",
          "name": "stderr",
          "text": [
            "\u001b[2m\u001b[36m(func pid=269252)\u001b[0m 2022-07-26 14:36:14,909\tINFO trainable.py:589 -- Restored on 172.28.0.2 from checkpoint: /root/ray_results/trainable_func_2022-07-26_14-33-03/trainable_func_db477d10_2_act1=tanh,act2=selu,act3=tanh,batch_size=32,hidden_dim1=240.0000,hidden_dim2=315.0000,hidden_dim3=165.00_2022-07-26_14-33-03/checkpoint_tmpea4ff8/./\n",
            "\u001b[2m\u001b[36m(func pid=269252)\u001b[0m 2022-07-26 14:36:14,909\tINFO trainable.py:597 -- Current state after restoring: {'_iteration': 40, '_timesteps_total': None, '_time_total': 87.1325113773346, '_episodes_total': None}\n",
            "\u001b[2m\u001b[36m(func pid=269253)\u001b[0m 2022-07-26 14:36:15,953\tINFO trainable.py:589 -- Restored on 172.28.0.2 from checkpoint: /root/ray_results/trainable_func_2022-07-26_14-33-03/trainable_func_db547e7a_4_act1=selu,act2=tanh,act3=relu,batch_size=16,hidden_dim1=225.0000,hidden_dim2=195.0000,hidden_dim3=255.00_2022-07-26_14-33-03/checkpoint_tmpda0aea/./\n",
            "\u001b[2m\u001b[36m(func pid=269253)\u001b[0m 2022-07-26 14:36:15,953\tINFO trainable.py:597 -- Current state after restoring: {'_iteration': 25, '_timesteps_total': None, '_time_total': 92.2481484413147, '_episodes_total': None}\n"
          ]
        },
        {
          "output_type": "stream",
          "name": "stdout",
          "text": [
            "Trial trainable_func_db2426a8 reported epoch=0,loss=0.05680664106584537,should_checkpoint=True with parameters={'act1 ': 'selu', 'act2': 'selu', 'act3': 'tanh', 'lr': 0.0006000000000000001, 'batch_size': 32, 'hidden_dim1': 315.0, 'hidden_dim2': 210.0, 'hidden_dim3': 300.0}.\n"
          ]
        },
        {
          "output_type": "stream",
          "name": "stderr",
          "text": [
            "\u001b[2m\u001b[36m(func pid=269322)\u001b[0m 2022-07-26 14:36:16,661\tINFO trainable.py:589 -- Restored on 172.28.0.2 from checkpoint: /root/ray_results/trainable_func_2022-07-26_14-33-03/trainable_func_db4df2bc_3_act1=tanh,act2=relu,act3=selu,batch_size=64,hidden_dim1=255.0000,hidden_dim2=255.0000,hidden_dim3=285.00_2022-07-26_14-33-03/checkpoint_tmpcf8edf/./\n",
            "\u001b[2m\u001b[36m(func pid=269322)\u001b[0m 2022-07-26 14:36:16,661\tINFO trainable.py:597 -- Current state after restoring: {'_iteration': 39, '_timesteps_total': None, '_time_total': 61.42784333229065, '_episodes_total': None}\n",
            "\u001b[2m\u001b[36m(func pid=269297)\u001b[0m 2022-07-26 14:36:17,802\tINFO trainable.py:589 -- Restored on 172.28.0.2 from checkpoint: /root/ray_results/trainable_func_2022-07-26_14-33-03/trainable_func_db2426a8_1_act1=selu,act2=selu,act3=tanh,batch_size=32,hidden_dim1=315.0000,hidden_dim2=210.0000,hidden_dim3=300.00_2022-07-26_14-33-03/checkpoint_tmpbfbbd2/./\n",
            "\u001b[2m\u001b[36m(func pid=269297)\u001b[0m 2022-07-26 14:36:17,803\tINFO trainable.py:597 -- Current state after restoring: {'_iteration': 45, '_timesteps_total': None, '_time_total': 103.08320808410645, '_episodes_total': None}\n"
          ]
        },
        {
          "output_type": "stream",
          "name": "stdout",
          "text": [
            "== Status ==\n",
            "Current time: 2022-07-26 14:36:17 (running for 00:03:14.61)\n",
            "Memory usage on this node: 2.5/12.7 GiB\n",
            "Using MedianStoppingRule: num_stopped=0.\n",
            "Resources requested: 1.5/2 CPUs, 0/0 GPUs, 0.0/7.47 GiB heap, 0.0/3.73 GiB objects\n",
            "Result logdir: /root/ray_results/trainable_func_2022-07-26_14-33-03\n",
            "Number of trials: 10/50 (7 PAUSED, 3 RUNNING)\n",
            "\n",
            "\n",
            "Trial trainable_func_db4df2bc reported epoch=0,loss=0.04267485683624069,should_checkpoint=True with parameters={'act1 ': 'tanh', 'act2': 'relu', 'act3': 'selu', 'lr': 0.0009, 'batch_size': 64, 'hidden_dim1': 255.0, 'hidden_dim2': 255.0, 'hidden_dim3': 285.0}.\n"
          ]
        },
        {
          "output_type": "stream",
          "name": "stderr",
          "text": [
            "\u001b[2m\u001b[36m(func pid=269252)\u001b[0m 2022-07-26 14:36:18,791\tINFO trainable.py:589 -- Restored on 172.28.0.2 from checkpoint: /root/ray_results/trainable_func_2022-07-26_14-33-03/trainable_func_db477d10_2_act1=tanh,act2=selu,act3=tanh,batch_size=32,hidden_dim1=240.0000,hidden_dim2=315.0000,hidden_dim3=165.00_2022-07-26_14-33-03/checkpoint_tmp76bc20/./\n",
            "\u001b[2m\u001b[36m(func pid=269252)\u001b[0m 2022-07-26 14:36:18,791\tINFO trainable.py:597 -- Current state after restoring: {'_iteration': 41, '_timesteps_total': None, '_time_total': 90.29083371162415, '_episodes_total': None}\n",
            "\u001b[2m\u001b[36m(func pid=269322)\u001b[0m 2022-07-26 14:36:19,637\tINFO trainable.py:589 -- Restored on 172.28.0.2 from checkpoint: /root/ray_results/trainable_func_2022-07-26_14-33-03/trainable_func_db4df2bc_3_act1=tanh,act2=relu,act3=selu,batch_size=64,hidden_dim1=255.0000,hidden_dim2=255.0000,hidden_dim3=285.00_2022-07-26_14-33-03/checkpoint_tmpc20309/./\n",
            "\u001b[2m\u001b[36m(func pid=269322)\u001b[0m 2022-07-26 14:36:19,637\tINFO trainable.py:597 -- Current state after restoring: {'_iteration': 40, '_timesteps_total': None, '_time_total': 63.53526425361633, '_episodes_total': None}\n"
          ]
        },
        {
          "output_type": "stream",
          "name": "stdout",
          "text": [
            "Trial trainable_func_db547e7a reported epoch=0,loss=0.08447510422103771,should_checkpoint=True with parameters={'act1 ': 'selu', 'act2': 'tanh', 'act3': 'relu', 'lr': 0.0009, 'batch_size': 16, 'hidden_dim1': 225.0, 'hidden_dim2': 195.0, 'hidden_dim3': 255.0}.\n"
          ]
        },
        {
          "output_type": "stream",
          "name": "stderr",
          "text": [
            "\u001b[2m\u001b[36m(func pid=269253)\u001b[0m 2022-07-26 14:36:20,674\tINFO trainable.py:589 -- Restored on 172.28.0.2 from checkpoint: /root/ray_results/trainable_func_2022-07-26_14-33-03/trainable_func_db547e7a_4_act1=selu,act2=tanh,act3=relu,batch_size=16,hidden_dim1=225.0000,hidden_dim2=195.0000,hidden_dim3=255.00_2022-07-26_14-33-03/checkpoint_tmpafdf77/./\n",
            "\u001b[2m\u001b[36m(func pid=269253)\u001b[0m 2022-07-26 14:36:20,674\tINFO trainable.py:597 -- Current state after restoring: {'_iteration': 26, '_timesteps_total': None, '_time_total': 96.42192268371582, '_episodes_total': None}\n"
          ]
        },
        {
          "output_type": "stream",
          "name": "stdout",
          "text": [
            "Trial trainable_func_db477d10 reported epoch=0,loss=0.04552659914400222,should_checkpoint=True with parameters={'act1 ': 'tanh', 'act2': 'selu', 'act3': 'tanh', 'lr': 0.001, 'batch_size': 32, 'hidden_dim1': 240.0, 'hidden_dim2': 315.0, 'hidden_dim3': 165.0}.\n"
          ]
        },
        {
          "output_type": "stream",
          "name": "stderr",
          "text": [
            "\u001b[2m\u001b[36m(func pid=269297)\u001b[0m 2022-07-26 14:36:21,133\tINFO trainable.py:589 -- Restored on 172.28.0.2 from checkpoint: /root/ray_results/trainable_func_2022-07-26_14-33-03/trainable_func_db2426a8_1_act1=selu,act2=selu,act3=tanh,batch_size=32,hidden_dim1=315.0000,hidden_dim2=210.0000,hidden_dim3=300.00_2022-07-26_14-33-03/checkpoint_tmp79121f/./\n",
            "\u001b[2m\u001b[36m(func pid=269297)\u001b[0m 2022-07-26 14:36:21,134\tINFO trainable.py:597 -- Current state after restoring: {'_iteration': 46, '_timesteps_total': None, '_time_total': 105.52133131027222, '_episodes_total': None}\n",
            "\u001b[2m\u001b[36m(func pid=269322)\u001b[0m 2022-07-26 14:36:21,716\tINFO trainable.py:589 -- Restored on 172.28.0.2 from checkpoint: /root/ray_results/trainable_func_2022-07-26_14-33-03/trainable_func_db4df2bc_3_act1=tanh,act2=relu,act3=selu,batch_size=64,hidden_dim1=255.0000,hidden_dim2=255.0000,hidden_dim3=285.00_2022-07-26_14-33-03/checkpoint_tmpa62a72/./\n",
            "\u001b[2m\u001b[36m(func pid=269322)\u001b[0m 2022-07-26 14:36:21,716\tINFO trainable.py:597 -- Current state after restoring: {'_iteration': 41, '_timesteps_total': None, '_time_total': 64.77164149284363, '_episodes_total': None}\n",
            "\u001b[2m\u001b[36m(func pid=269252)\u001b[0m 2022-07-26 14:36:22,298\tINFO trainable.py:589 -- Restored on 172.28.0.2 from checkpoint: /root/ray_results/trainable_func_2022-07-26_14-33-03/trainable_func_db477d10_2_act1=tanh,act2=selu,act3=tanh,batch_size=32,hidden_dim1=240.0000,hidden_dim2=315.0000,hidden_dim3=165.00_2022-07-26_14-33-03/checkpoint_tmpf37897/./\n",
            "\u001b[2m\u001b[36m(func pid=269252)\u001b[0m 2022-07-26 14:36:22,298\tINFO trainable.py:597 -- Current state after restoring: {'_iteration': 42, '_timesteps_total': None, '_time_total': 92.3491439819336, '_episodes_total': None}\n"
          ]
        },
        {
          "output_type": "stream",
          "name": "stdout",
          "text": [
            "== Status ==\n",
            "Current time: 2022-07-26 14:36:23 (running for 00:03:20.04)\n",
            "Memory usage on this node: 2.5/12.7 GiB\n",
            "Using MedianStoppingRule: num_stopped=0.\n",
            "Resources requested: 2.0/2 CPUs, 0/0 GPUs, 0.0/7.47 GiB heap, 0.0/3.73 GiB objects\n",
            "Result logdir: /root/ray_results/trainable_func_2022-07-26_14-33-03\n",
            "Number of trials: 10/50 (6 PAUSED, 4 RUNNING)\n",
            "\n",
            "\n",
            "Trial trainable_func_db2426a8 reported epoch=0,loss=0.04406749732836244,should_checkpoint=True with parameters={'act1 ': 'selu', 'act2': 'selu', 'act3': 'tanh', 'lr': 0.0006000000000000001, 'batch_size': 32, 'hidden_dim1': 315.0, 'hidden_dim2': 210.0, 'hidden_dim3': 300.0}.\n"
          ]
        },
        {
          "output_type": "stream",
          "name": "stderr",
          "text": [
            "\u001b[2m\u001b[36m(func pid=269322)\u001b[0m 2022-07-26 14:36:23,584\tINFO trainable.py:589 -- Restored on 172.28.0.2 from checkpoint: /root/ray_results/trainable_func_2022-07-26_14-33-03/trainable_func_db4df2bc_3_act1=tanh,act2=relu,act3=selu,batch_size=64,hidden_dim1=255.0000,hidden_dim2=255.0000,hidden_dim3=285.00_2022-07-26_14-33-03/checkpoint_tmp2c8fa2/./\n",
            "\u001b[2m\u001b[36m(func pid=269322)\u001b[0m 2022-07-26 14:36:23,584\tINFO trainable.py:597 -- Current state after restoring: {'_iteration': 42, '_timesteps_total': None, '_time_total': 66.23160338401794, '_episodes_total': None}\n",
            "\u001b[2m\u001b[36m(func pid=269297)\u001b[0m 2022-07-26 14:36:23,962\tINFO trainable.py:589 -- Restored on 172.28.0.2 from checkpoint: /root/ray_results/trainable_func_2022-07-26_14-33-03/trainable_func_db2426a8_1_act1=selu,act2=selu,act3=tanh,batch_size=32,hidden_dim1=315.0000,hidden_dim2=210.0000,hidden_dim3=300.00_2022-07-26_14-33-03/checkpoint_tmp04c979/./\n",
            "\u001b[2m\u001b[36m(func pid=269297)\u001b[0m 2022-07-26 14:36:23,966\tINFO trainable.py:597 -- Current state after restoring: {'_iteration': 47, '_timesteps_total': None, '_time_total': 107.60288000106812, '_episodes_total': None}\n",
            "\u001b[2m\u001b[36m(func pid=269253)\u001b[0m 2022-07-26 14:36:24,485\tINFO trainable.py:589 -- Restored on 172.28.0.2 from checkpoint: /root/ray_results/trainable_func_2022-07-26_14-33-03/trainable_func_db547e7a_4_act1=selu,act2=tanh,act3=relu,batch_size=16,hidden_dim1=225.0000,hidden_dim2=195.0000,hidden_dim3=255.00_2022-07-26_14-33-03/checkpoint_tmpc65115/./\n",
            "\u001b[2m\u001b[36m(func pid=269253)\u001b[0m 2022-07-26 14:36:24,488\tINFO trainable.py:597 -- Current state after restoring: {'_iteration': 27, '_timesteps_total': None, '_time_total': 99.20472025871277, '_episodes_total': None}\n"
          ]
        },
        {
          "output_type": "stream",
          "name": "stdout",
          "text": [
            "Trial trainable_func_db4df2bc reported epoch=0,loss=0.03628009038046048,should_checkpoint=True with parameters={'act1 ': 'tanh', 'act2': 'relu', 'act3': 'selu', 'lr': 0.0009, 'batch_size': 64, 'hidden_dim1': 255.0, 'hidden_dim2': 255.0, 'hidden_dim3': 285.0}.\n"
          ]
        },
        {
          "output_type": "stream",
          "name": "stderr",
          "text": [
            "\u001b[2m\u001b[36m(func pid=269252)\u001b[0m 2022-07-26 14:36:25,281\tINFO trainable.py:589 -- Restored on 172.28.0.2 from checkpoint: /root/ray_results/trainable_func_2022-07-26_14-33-03/trainable_func_db477d10_2_act1=tanh,act2=selu,act3=tanh,batch_size=32,hidden_dim1=240.0000,hidden_dim2=315.0000,hidden_dim3=165.00_2022-07-26_14-33-03/checkpoint_tmp4d96e7/./\n",
            "\u001b[2m\u001b[36m(func pid=269252)\u001b[0m 2022-07-26 14:36:25,281\tINFO trainable.py:597 -- Current state after restoring: {'_iteration': 43, '_timesteps_total': None, '_time_total': 94.29427361488342, '_episodes_total': None}\n",
            "\u001b[2m\u001b[36m(func pid=269322)\u001b[0m 2022-07-26 14:36:26,032\tINFO trainable.py:589 -- Restored on 172.28.0.2 from checkpoint: /root/ray_results/trainable_func_2022-07-26_14-33-03/trainable_func_db4df2bc_3_act1=tanh,act2=relu,act3=selu,batch_size=64,hidden_dim1=255.0000,hidden_dim2=255.0000,hidden_dim3=285.00_2022-07-26_14-33-03/checkpoint_tmp11a389/./\n",
            "\u001b[2m\u001b[36m(func pid=269322)\u001b[0m 2022-07-26 14:36:26,042\tINFO trainable.py:597 -- Current state after restoring: {'_iteration': 43, '_timesteps_total': None, '_time_total': 67.65095829963684, '_episodes_total': None}\n",
            "\u001b[2m\u001b[36m(func pid=269297)\u001b[0m 2022-07-26 14:36:26,739\tINFO trainable.py:589 -- Restored on 172.28.0.2 from checkpoint: /root/ray_results/trainable_func_2022-07-26_14-33-03/trainable_func_db2426a8_1_act1=selu,act2=selu,act3=tanh,batch_size=32,hidden_dim1=315.0000,hidden_dim2=210.0000,hidden_dim3=300.00_2022-07-26_14-33-03/checkpoint_tmp885efc/./\n",
            "\u001b[2m\u001b[36m(func pid=269297)\u001b[0m 2022-07-26 14:36:26,740\tINFO trainable.py:597 -- Current state after restoring: {'_iteration': 48, '_timesteps_total': None, '_time_total': 109.58290338516235, '_episodes_total': None}\n"
          ]
        },
        {
          "output_type": "stream",
          "name": "stdout",
          "text": [
            "Trial trainable_func_db477d10 reported epoch=0,loss=0.04774502352263879,should_checkpoint=True with parameters={'act1 ': 'tanh', 'act2': 'selu', 'act3': 'tanh', 'lr': 0.001, 'batch_size': 32, 'hidden_dim1': 240.0, 'hidden_dim2': 315.0, 'hidden_dim3': 165.0}.\n",
            "Trial trainable_func_db547e7a reported epoch=0,loss=0.06944335792919688,should_checkpoint=True with parameters={'act1 ': 'selu', 'act2': 'tanh', 'act3': 'relu', 'lr': 0.0009, 'batch_size': 16, 'hidden_dim1': 225.0, 'hidden_dim2': 195.0, 'hidden_dim3': 255.0}.\n"
          ]
        },
        {
          "output_type": "stream",
          "name": "stderr",
          "text": [
            "\u001b[2m\u001b[36m(func pid=269252)\u001b[0m 2022-07-26 14:36:28,003\tINFO trainable.py:589 -- Restored on 172.28.0.2 from checkpoint: /root/ray_results/trainable_func_2022-07-26_14-33-03/trainable_func_db477d10_2_act1=tanh,act2=selu,act3=tanh,batch_size=32,hidden_dim1=240.0000,hidden_dim2=315.0000,hidden_dim3=165.00_2022-07-26_14-33-03/checkpoint_tmp1a0431/./\n",
            "\u001b[2m\u001b[36m(func pid=269252)\u001b[0m 2022-07-26 14:36:28,004\tINFO trainable.py:597 -- Current state after restoring: {'_iteration': 44, '_timesteps_total': None, '_time_total': 96.57134652137756, '_episodes_total': None}\n"
          ]
        },
        {
          "output_type": "stream",
          "name": "stdout",
          "text": [
            "== Status ==\n",
            "Current time: 2022-07-26 14:36:28 (running for 00:03:25.20)\n",
            "Memory usage on this node: 2.4/12.7 GiB\n",
            "Using MedianStoppingRule: num_stopped=0.\n",
            "Resources requested: 1.5/2 CPUs, 0/0 GPUs, 0.0/7.47 GiB heap, 0.0/3.73 GiB objects\n",
            "Result logdir: /root/ray_results/trainable_func_2022-07-26_14-33-03\n",
            "Number of trials: 10/50 (7 PAUSED, 3 RUNNING)\n",
            "\n",
            "\n"
          ]
        },
        {
          "output_type": "stream",
          "name": "stderr",
          "text": [
            "\u001b[2m\u001b[36m(func pid=269253)\u001b[0m 2022-07-26 14:36:28,391\tINFO trainable.py:589 -- Restored on 172.28.0.2 from checkpoint: /root/ray_results/trainable_func_2022-07-26_14-33-03/trainable_func_db547e7a_4_act1=selu,act2=tanh,act3=relu,batch_size=16,hidden_dim1=225.0000,hidden_dim2=195.0000,hidden_dim3=255.00_2022-07-26_14-33-03/checkpoint_tmp57ae8e/./\n",
            "\u001b[2m\u001b[36m(func pid=269253)\u001b[0m 2022-07-26 14:36:28,392\tINFO trainable.py:597 -- Current state after restoring: {'_iteration': 28, '_timesteps_total': None, '_time_total': 102.48899555206299, '_episodes_total': None}\n"
          ]
        },
        {
          "output_type": "stream",
          "name": "stdout",
          "text": [
            "Trial trainable_func_db2426a8 reported epoch=0,loss=0.04044979156032983,should_checkpoint=True with parameters={'act1 ': 'selu', 'act2': 'selu', 'act3': 'tanh', 'lr': 0.0006000000000000001, 'batch_size': 32, 'hidden_dim1': 315.0, 'hidden_dim2': 210.0, 'hidden_dim3': 300.0}.\n"
          ]
        },
        {
          "output_type": "stream",
          "name": "stderr",
          "text": [
            "\u001b[2m\u001b[36m(func pid=269322)\u001b[0m 2022-07-26 14:36:28,987\tINFO trainable.py:589 -- Restored on 172.28.0.2 from checkpoint: /root/ray_results/trainable_func_2022-07-26_14-33-03/trainable_func_db4df2bc_3_act1=tanh,act2=relu,act3=selu,batch_size=64,hidden_dim1=255.0000,hidden_dim2=255.0000,hidden_dim3=285.00_2022-07-26_14-33-03/checkpoint_tmp65b0bc/./\n",
            "\u001b[2m\u001b[36m(func pid=269322)\u001b[0m 2022-07-26 14:36:28,988\tINFO trainable.py:597 -- Current state after restoring: {'_iteration': 44, '_timesteps_total': None, '_time_total': 69.38054156303406, '_episodes_total': None}\n",
            "\u001b[2m\u001b[36m(func pid=269297)\u001b[0m 2022-07-26 14:36:29,721\tINFO trainable.py:589 -- Restored on 172.28.0.2 from checkpoint: /root/ray_results/trainable_func_2022-07-26_14-33-03/trainable_func_db2426a8_1_act1=selu,act2=selu,act3=tanh,batch_size=32,hidden_dim1=315.0000,hidden_dim2=210.0000,hidden_dim3=300.00_2022-07-26_14-33-03/checkpoint_tmp0b2ff3/./\n",
            "\u001b[2m\u001b[36m(func pid=269297)\u001b[0m 2022-07-26 14:36:29,721\tINFO trainable.py:597 -- Current state after restoring: {'_iteration': 49, '_timesteps_total': None, '_time_total': 111.55771565437317, '_episodes_total': None}\n"
          ]
        },
        {
          "output_type": "stream",
          "name": "stdout",
          "text": [
            "Trial trainable_func_db4df2bc reported epoch=0,loss=0.031835766383043466,should_checkpoint=True with parameters={'act1 ': 'tanh', 'act2': 'relu', 'act3': 'selu', 'lr': 0.0009, 'batch_size': 64, 'hidden_dim1': 255.0, 'hidden_dim2': 255.0, 'hidden_dim3': 285.0}.\n"
          ]
        },
        {
          "output_type": "stream",
          "name": "stderr",
          "text": [
            "\u001b[2m\u001b[36m(func pid=269252)\u001b[0m 2022-07-26 14:36:30,572\tINFO trainable.py:589 -- Restored on 172.28.0.2 from checkpoint: /root/ray_results/trainable_func_2022-07-26_14-33-03/trainable_func_db477d10_2_act1=tanh,act2=selu,act3=tanh,batch_size=32,hidden_dim1=240.0000,hidden_dim2=315.0000,hidden_dim3=165.00_2022-07-26_14-33-03/checkpoint_tmp01a4b4/./\n",
            "\u001b[2m\u001b[36m(func pid=269252)\u001b[0m 2022-07-26 14:36:30,572\tINFO trainable.py:597 -- Current state after restoring: {'_iteration': 45, '_timesteps_total': None, '_time_total': 98.57118487358093, '_episodes_total': None}\n",
            "\u001b[2m\u001b[36m(func pid=269322)\u001b[0m 2022-07-26 14:36:31,401\tINFO trainable.py:589 -- Restored on 172.28.0.2 from checkpoint: /root/ray_results/trainable_func_2022-07-26_14-33-03/trainable_func_db4df2bc_3_act1=tanh,act2=relu,act3=selu,batch_size=64,hidden_dim1=255.0000,hidden_dim2=255.0000,hidden_dim3=285.00_2022-07-26_14-33-03/checkpoint_tmp64e18e/./\n",
            "\u001b[2m\u001b[36m(func pid=269322)\u001b[0m 2022-07-26 14:36:31,401\tINFO trainable.py:597 -- Current state after restoring: {'_iteration': 45, '_timesteps_total': None, '_time_total': 70.77064728736877, '_episodes_total': None}\n"
          ]
        },
        {
          "output_type": "stream",
          "name": "stdout",
          "text": [
            "Trial trainable_func_db2426a8 reported epoch=0,loss=0.03811114635633227,should_checkpoint=True with parameters={'act1 ': 'selu', 'act2': 'selu', 'act3': 'tanh', 'lr': 0.0006000000000000001, 'batch_size': 32, 'hidden_dim1': 315.0, 'hidden_dim2': 210.0, 'hidden_dim3': 300.0}. This trial completed.\n"
          ]
        },
        {
          "output_type": "stream",
          "name": "stderr",
          "text": [
            "\u001b[2m\u001b[36m(func pid=269253)\u001b[0m 2022-07-26 14:36:32,428\tINFO trainable.py:589 -- Restored on 172.28.0.2 from checkpoint: /root/ray_results/trainable_func_2022-07-26_14-33-03/trainable_func_db547e7a_4_act1=selu,act2=tanh,act3=relu,batch_size=16,hidden_dim1=225.0000,hidden_dim2=195.0000,hidden_dim3=255.00_2022-07-26_14-33-03/checkpoint_tmp9b51e0/./\n",
            "\u001b[2m\u001b[36m(func pid=269253)\u001b[0m 2022-07-26 14:36:32,428\tINFO trainable.py:597 -- Current state after restoring: {'_iteration': 29, '_timesteps_total': None, '_time_total': 105.85711312294006, '_episodes_total': None}\n",
            "\u001b[2m\u001b[36m(func pid=269252)\u001b[0m 2022-07-26 14:36:33,208\tINFO trainable.py:589 -- Restored on 172.28.0.2 from checkpoint: /root/ray_results/trainable_func_2022-07-26_14-33-03/trainable_func_db477d10_2_act1=tanh,act2=selu,act3=tanh,batch_size=32,hidden_dim1=240.0000,hidden_dim2=315.0000,hidden_dim3=165.00_2022-07-26_14-33-03/checkpoint_tmp168d3d/./\n",
            "\u001b[2m\u001b[36m(func pid=269252)\u001b[0m 2022-07-26 14:36:33,209\tINFO trainable.py:597 -- Current state after restoring: {'_iteration': 46, '_timesteps_total': None, '_time_total': 100.42583513259888, '_episodes_total': None}\n",
            "\u001b[2m\u001b[36m(func pid=269322)\u001b[0m 2022-07-26 14:36:33,692\tINFO trainable.py:589 -- Restored on 172.28.0.2 from checkpoint: /root/ray_results/trainable_func_2022-07-26_14-33-03/trainable_func_db4df2bc_3_act1=tanh,act2=relu,act3=selu,batch_size=64,hidden_dim1=255.0000,hidden_dim2=255.0000,hidden_dim3=285.00_2022-07-26_14-33-03/checkpoint_tmpcd1710/./\n",
            "\u001b[2m\u001b[36m(func pid=269322)\u001b[0m 2022-07-26 14:36:33,693\tINFO trainable.py:597 -- Current state after restoring: {'_iteration': 46, '_timesteps_total': None, '_time_total': 72.15188646316528, '_episodes_total': None}\n"
          ]
        },
        {
          "output_type": "stream",
          "name": "stdout",
          "text": [
            "== Status ==\n",
            "Current time: 2022-07-26 14:36:33 (running for 00:03:30.51)\n",
            "Memory usage on this node: 2.5/12.7 GiB\n",
            "Using MedianStoppingRule: num_stopped=0.\n",
            "Resources requested: 1.5/2 CPUs, 0/0 GPUs, 0.0/7.47 GiB heap, 0.0/3.73 GiB objects\n",
            "Result logdir: /root/ray_results/trainable_func_2022-07-26_14-33-03\n",
            "Number of trials: 11/50 (7 PAUSED, 3 RUNNING, 1 TERMINATED)\n",
            "\n",
            "\n",
            "Trial trainable_func_57dafa64 reported epoch=0,loss=0.9487894519732372,should_checkpoint=True with parameters={'act1 ': 'tanh', 'act2': 'relu', 'act3': 'selu', 'lr': 0.0009, 'batch_size': 64, 'hidden_dim1': 120.0, 'hidden_dim2': 150.0, 'hidden_dim3': 330.0}.\n",
            "Trial trainable_func_db477d10 reported epoch=0,loss=0.0738113455409718,should_checkpoint=True with parameters={'act1 ': 'tanh', 'act2': 'selu', 'act3': 'tanh', 'lr': 0.001, 'batch_size': 32, 'hidden_dim1': 240.0, 'hidden_dim2': 315.0, 'hidden_dim3': 165.0}.\n",
            "Trial trainable_func_db547e7a reported epoch=0,loss=0.07302968000499753,should_checkpoint=True with parameters={'act1 ': 'selu', 'act2': 'tanh', 'act3': 'relu', 'lr': 0.0009, 'batch_size': 16, 'hidden_dim1': 225.0, 'hidden_dim2': 195.0, 'hidden_dim3': 255.0}.\n"
          ]
        },
        {
          "output_type": "stream",
          "name": "stderr",
          "text": [
            "\u001b[2m\u001b[36m(func pid=269322)\u001b[0m 2022-07-26 14:36:35,904\tINFO trainable.py:589 -- Restored on 172.28.0.2 from checkpoint: /root/ray_results/trainable_func_2022-07-26_14-33-03/trainable_func_db4df2bc_3_act1=tanh,act2=relu,act3=selu,batch_size=64,hidden_dim1=255.0000,hidden_dim2=255.0000,hidden_dim3=285.00_2022-07-26_14-33-03/checkpoint_tmp470b1b/./\n",
            "\u001b[2m\u001b[36m(func pid=269322)\u001b[0m 2022-07-26 14:36:35,905\tINFO trainable.py:597 -- Current state after restoring: {'_iteration': 47, '_timesteps_total': None, '_time_total': 73.9717948436737, '_episodes_total': None}\n",
            "\u001b[2m\u001b[36m(func pid=269252)\u001b[0m 2022-07-26 14:36:36,198\tINFO trainable.py:589 -- Restored on 172.28.0.2 from checkpoint: /root/ray_results/trainable_func_2022-07-26_14-33-03/trainable_func_db477d10_2_act1=tanh,act2=selu,act3=tanh,batch_size=32,hidden_dim1=240.0000,hidden_dim2=315.0000,hidden_dim3=165.00_2022-07-26_14-33-03/checkpoint_tmp878182/./\n",
            "\u001b[2m\u001b[36m(func pid=269252)\u001b[0m 2022-07-26 14:36:36,198\tINFO trainable.py:597 -- Current state after restoring: {'_iteration': 47, '_timesteps_total': None, '_time_total': 102.91940760612488, '_episodes_total': None}\n",
            "\u001b[2m\u001b[36m(func pid=269253)\u001b[0m 2022-07-26 14:36:36,700\tINFO trainable.py:589 -- Restored on 172.28.0.2 from checkpoint: /root/ray_results/trainable_func_2022-07-26_14-33-03/trainable_func_db547e7a_4_act1=selu,act2=tanh,act3=relu,batch_size=16,hidden_dim1=225.0000,hidden_dim2=195.0000,hidden_dim3=255.00_2022-07-26_14-33-03/checkpoint_tmpbff734/./\n",
            "\u001b[2m\u001b[36m(func pid=269253)\u001b[0m 2022-07-26 14:36:36,700\tINFO trainable.py:597 -- Current state after restoring: {'_iteration': 30, '_timesteps_total': None, '_time_total': 109.08395075798035, '_episodes_total': None}\n"
          ]
        },
        {
          "output_type": "stream",
          "name": "stdout",
          "text": [
            "Trial trainable_func_db4df2bc reported epoch=0,loss=0.025764938780525225,should_checkpoint=True with parameters={'act1 ': 'tanh', 'act2': 'relu', 'act3': 'selu', 'lr': 0.0009, 'batch_size': 64, 'hidden_dim1': 255.0, 'hidden_dim2': 255.0, 'hidden_dim3': 285.0}.\n"
          ]
        },
        {
          "output_type": "stream",
          "name": "stderr",
          "text": [
            "\u001b[2m\u001b[36m(func pid=269322)\u001b[0m 2022-07-26 14:36:37,640\tINFO trainable.py:589 -- Restored on 172.28.0.2 from checkpoint: /root/ray_results/trainable_func_2022-07-26_14-33-03/trainable_func_db4df2bc_3_act1=tanh,act2=relu,act3=selu,batch_size=64,hidden_dim1=255.0000,hidden_dim2=255.0000,hidden_dim3=285.00_2022-07-26_14-33-03/checkpoint_tmp533049/./\n",
            "\u001b[2m\u001b[36m(func pid=269322)\u001b[0m 2022-07-26 14:36:37,641\tINFO trainable.py:597 -- Current state after restoring: {'_iteration': 48, '_timesteps_total': None, '_time_total': 75.0399751663208, '_episodes_total': None}\n",
            "\u001b[2m\u001b[36m(func pid=269252)\u001b[0m 2022-07-26 14:36:38,444\tINFO trainable.py:589 -- Restored on 172.28.0.2 from checkpoint: /root/ray_results/trainable_func_2022-07-26_14-33-03/trainable_func_db477d10_2_act1=tanh,act2=selu,act3=tanh,batch_size=32,hidden_dim1=240.0000,hidden_dim2=315.0000,hidden_dim3=165.00_2022-07-26_14-33-03/checkpoint_tmp5b5d77/./\n",
            "\u001b[2m\u001b[36m(func pid=269252)\u001b[0m 2022-07-26 14:36:38,450\tINFO trainable.py:597 -- Current state after restoring: {'_iteration': 48, '_timesteps_total': None, '_time_total': 104.72343301773071, '_episodes_total': None}\n"
          ]
        },
        {
          "output_type": "stream",
          "name": "stdout",
          "text": [
            "== Status ==\n",
            "Current time: 2022-07-26 14:36:39 (running for 00:03:36.00)\n",
            "Memory usage on this node: 2.5/12.7 GiB\n",
            "Using MedianStoppingRule: num_stopped=0.\n",
            "Resources requested: 2.0/2 CPUs, 0/0 GPUs, 0.0/7.47 GiB heap, 0.0/3.73 GiB objects\n",
            "Result logdir: /root/ray_results/trainable_func_2022-07-26_14-33-03\n",
            "Number of trials: 11/50 (6 PAUSED, 4 RUNNING, 1 TERMINATED)\n",
            "\n",
            "\n",
            "Trial trainable_func_57dafa64 reported epoch=4,loss=0.5432327996509125,should_checkpoint=True with parameters={'act1 ': 'tanh', 'act2': 'relu', 'act3': 'selu', 'lr': 0.0009, 'batch_size': 64, 'hidden_dim1': 120.0, 'hidden_dim2': 150.0, 'hidden_dim3': 330.0}.\n"
          ]
        },
        {
          "output_type": "stream",
          "name": "stderr",
          "text": [
            "\u001b[2m\u001b[36m(func pid=269322)\u001b[0m 2022-07-26 14:36:39,817\tINFO trainable.py:589 -- Restored on 172.28.0.2 from checkpoint: /root/ray_results/trainable_func_2022-07-26_14-33-03/trainable_func_db4df2bc_3_act1=tanh,act2=relu,act3=selu,batch_size=64,hidden_dim1=255.0000,hidden_dim2=255.0000,hidden_dim3=285.00_2022-07-26_14-33-03/checkpoint_tmp698710/./\n",
            "\u001b[2m\u001b[36m(func pid=269322)\u001b[0m 2022-07-26 14:36:39,817\tINFO trainable.py:597 -- Current state after restoring: {'_iteration': 49, '_timesteps_total': None, '_time_total': 76.53936576843262, '_episodes_total': None}\n",
            "\u001b[2m\u001b[36m(func pid=269253)\u001b[0m 2022-07-26 14:36:40,602\tINFO trainable.py:589 -- Restored on 172.28.0.2 from checkpoint: /root/ray_results/trainable_func_2022-07-26_14-33-03/trainable_func_db547e7a_4_act1=selu,act2=tanh,act3=relu,batch_size=16,hidden_dim1=225.0000,hidden_dim2=195.0000,hidden_dim3=255.00_2022-07-26_14-33-03/checkpoint_tmpb47992/./\n",
            "\u001b[2m\u001b[36m(func pid=269253)\u001b[0m 2022-07-26 14:36:40,602\tINFO trainable.py:597 -- Current state after restoring: {'_iteration': 31, '_timesteps_total': None, '_time_total': 112.32586765289307, '_episodes_total': None}\n",
            "\u001b[2m\u001b[36m(func pid=269252)\u001b[0m 2022-07-26 14:36:41,165\tINFO trainable.py:589 -- Restored on 172.28.0.2 from checkpoint: /root/ray_results/trainable_func_2022-07-26_14-33-03/trainable_func_db477d10_2_act1=tanh,act2=selu,act3=tanh,batch_size=32,hidden_dim1=240.0000,hidden_dim2=315.0000,hidden_dim3=165.00_2022-07-26_14-33-03/checkpoint_tmp3a2c31/./\n",
            "\u001b[2m\u001b[36m(func pid=269252)\u001b[0m 2022-07-26 14:36:41,165\tINFO trainable.py:597 -- Current state after restoring: {'_iteration': 49, '_timesteps_total': None, '_time_total': 106.94456362724304, '_episodes_total': None}\n"
          ]
        },
        {
          "output_type": "stream",
          "name": "stdout",
          "text": [
            "Trial trainable_func_db4df2bc reported epoch=0,loss=0.022743515355938236,should_checkpoint=True with parameters={'act1 ': 'tanh', 'act2': 'relu', 'act3': 'selu', 'lr': 0.0009, 'batch_size': 64, 'hidden_dim1': 255.0, 'hidden_dim2': 255.0, 'hidden_dim3': 285.0}. This trial completed.\n",
            "Trial trainable_func_db477d10 reported epoch=0,loss=0.053590074823956425,should_checkpoint=True with parameters={'act1 ': 'tanh', 'act2': 'selu', 'act3': 'tanh', 'lr': 0.001, 'batch_size': 32, 'hidden_dim1': 240.0, 'hidden_dim2': 315.0, 'hidden_dim3': 165.0}. This trial completed.\n",
            "Trial trainable_func_5d45b2a0 reported epoch=0,loss=0.8074613770347993,should_checkpoint=True with parameters={'act1 ': 'selu', 'act2': 'tanh', 'act3': 'tanh', 'lr': 0.0006000000000000001, 'batch_size': 32, 'hidden_dim1': 195.0, 'hidden_dim2': 315.0, 'hidden_dim3': 150.0}.\n",
            "Trial trainable_func_db547e7a reported epoch=0,loss=0.0626595059468006,should_checkpoint=True with parameters={'act1 ': 'selu', 'act2': 'tanh', 'act3': 'relu', 'lr': 0.0009, 'batch_size': 16, 'hidden_dim1': 225.0, 'hidden_dim2': 195.0, 'hidden_dim3': 255.0}.\n",
            "== Status ==\n",
            "Current time: 2022-07-26 14:36:44 (running for 00:03:41.33)\n",
            "Memory usage on this node: 2.5/12.7 GiB\n",
            "Using MedianStoppingRule: num_stopped=0.\n",
            "Resources requested: 2.0/2 CPUs, 0/0 GPUs, 0.0/7.47 GiB heap, 0.0/3.73 GiB objects\n",
            "Result logdir: /root/ray_results/trainable_func_2022-07-26_14-33-03\n",
            "Number of trials: 13/50 (6 PAUSED, 4 RUNNING, 3 TERMINATED)\n",
            "\n",
            "\n",
            "Trial trainable_func_57dafa64 reported epoch=8,loss=0.5409371354771819,should_checkpoint=True with parameters={'act1 ': 'tanh', 'act2': 'relu', 'act3': 'selu', 'lr': 0.0009, 'batch_size': 64, 'hidden_dim1': 120.0, 'hidden_dim2': 150.0, 'hidden_dim3': 330.0}.\n"
          ]
        },
        {
          "output_type": "stream",
          "name": "stderr",
          "text": [
            "\u001b[2m\u001b[36m(func pid=269253)\u001b[0m 2022-07-26 14:36:45,186\tINFO trainable.py:589 -- Restored on 172.28.0.2 from checkpoint: /root/ray_results/trainable_func_2022-07-26_14-33-03/trainable_func_db547e7a_4_act1=selu,act2=tanh,act3=relu,batch_size=16,hidden_dim1=225.0000,hidden_dim2=195.0000,hidden_dim3=255.00_2022-07-26_14-33-03/checkpoint_tmpc425e4/./\n",
            "\u001b[2m\u001b[36m(func pid=269253)\u001b[0m 2022-07-26 14:36:45,189\tINFO trainable.py:597 -- Current state after restoring: {'_iteration': 32, '_timesteps_total': None, '_time_total': 116.18374466896057, '_episodes_total': None}\n",
            "\u001b[2m\u001b[36m(func pid=269297)\u001b[0m 2022-07-26 14:36:48,523\tINFO trainable.py:589 -- Restored on 172.28.0.2 from checkpoint: /root/ray_results/trainable_func_2022-07-26_14-33-03/trainable_func_db5c1630_5_act1=relu,act2=relu,act3=relu,batch_size=16,hidden_dim1=240.0000,hidden_dim2=240.0000,hidden_dim3=210.00_2022-07-26_14-33-40/checkpoint_tmp498817/./\n",
            "\u001b[2m\u001b[36m(func pid=269297)\u001b[0m 2022-07-26 14:36:48,523\tINFO trainable.py:597 -- Current state after restoring: {'_iteration': 10, '_timesteps_total': None, '_time_total': 50.25682067871094, '_episodes_total': None}\n",
            "\u001b[2m\u001b[36m(func pid=269253)\u001b[0m 2022-07-26 14:36:49,262\tINFO trainable.py:589 -- Restored on 172.28.0.2 from checkpoint: /root/ray_results/trainable_func_2022-07-26_14-33-03/trainable_func_db547e7a_4_act1=selu,act2=tanh,act3=relu,batch_size=16,hidden_dim1=225.0000,hidden_dim2=195.0000,hidden_dim3=255.00_2022-07-26_14-33-03/checkpoint_tmped6d60/./\n",
            "\u001b[2m\u001b[36m(func pid=269253)\u001b[0m 2022-07-26 14:36:49,262\tINFO trainable.py:597 -- Current state after restoring: {'_iteration': 33, '_timesteps_total': None, '_time_total': 119.57212376594543, '_episodes_total': None}\n"
          ]
        },
        {
          "output_type": "stream",
          "name": "stdout",
          "text": [
            "Trial trainable_func_5d45b2a0 reported epoch=3,loss=0.5773612435739588,should_checkpoint=True with parameters={'act1 ': 'selu', 'act2': 'tanh', 'act3': 'tanh', 'lr': 0.0006000000000000001, 'batch_size': 32, 'hidden_dim1': 195.0, 'hidden_dim2': 315.0, 'hidden_dim3': 150.0}.\n",
            "== Status ==\n",
            "Current time: 2022-07-26 14:36:50 (running for 00:03:47.35)\n",
            "Memory usage on this node: 2.5/12.7 GiB\n",
            "Using MedianStoppingRule: num_stopped=0.\n",
            "Resources requested: 2.0/2 CPUs, 0/0 GPUs, 0.0/7.47 GiB heap, 0.0/3.73 GiB objects\n",
            "Result logdir: /root/ray_results/trainable_func_2022-07-26_14-33-03\n",
            "Number of trials: 13/50 (6 PAUSED, 4 RUNNING, 3 TERMINATED)\n",
            "\n",
            "\n",
            "Trial trainable_func_5e4b47b4 reported epoch=0,loss=0.7656173795711515,should_checkpoint=True with parameters={'act1 ': 'tanh', 'act2': 'tanh', 'act3': 'tanh', 'lr': 0.0005, 'batch_size': 8, 'hidden_dim1': 315.0, 'hidden_dim2': 285.0, 'hidden_dim3': 165.0}.\n",
            "Trial trainable_func_db5c1630 reported epoch=0,loss=0.19931235659460744,should_checkpoint=True with parameters={'act1 ': 'relu', 'act2': 'relu', 'act3': 'relu', 'lr': 0.001, 'batch_size': 16, 'hidden_dim1': 240.0, 'hidden_dim2': 240.0, 'hidden_dim3': 210.0}.\n",
            "Trial trainable_func_db547e7a reported epoch=0,loss=0.0661465802053744,should_checkpoint=True with parameters={'act1 ': 'selu', 'act2': 'tanh', 'act3': 'relu', 'lr': 0.0009, 'batch_size': 16, 'hidden_dim1': 225.0, 'hidden_dim2': 195.0, 'hidden_dim3': 255.0}.\n"
          ]
        },
        {
          "output_type": "stream",
          "name": "stderr",
          "text": [
            "\u001b[2m\u001b[36m(func pid=269297)\u001b[0m 2022-07-26 14:36:53,012\tINFO trainable.py:589 -- Restored on 172.28.0.2 from checkpoint: /root/ray_results/trainable_func_2022-07-26_14-33-03/trainable_func_db5c1630_5_act1=relu,act2=relu,act3=relu,batch_size=16,hidden_dim1=240.0000,hidden_dim2=240.0000,hidden_dim3=210.00_2022-07-26_14-33-40/checkpoint_tmp213ebd/./\n",
            "\u001b[2m\u001b[36m(func pid=269297)\u001b[0m 2022-07-26 14:36:53,013\tINFO trainable.py:597 -- Current state after restoring: {'_iteration': 11, '_timesteps_total': None, '_time_total': 54.16748094558716, '_episodes_total': None}\n",
            "\u001b[2m\u001b[36m(func pid=269253)\u001b[0m 2022-07-26 14:36:53,641\tINFO trainable.py:589 -- Restored on 172.28.0.2 from checkpoint: /root/ray_results/trainable_func_2022-07-26_14-33-03/trainable_func_db547e7a_4_act1=selu,act2=tanh,act3=relu,batch_size=16,hidden_dim1=225.0000,hidden_dim2=195.0000,hidden_dim3=255.00_2022-07-26_14-33-03/checkpoint_tmp2f0dd9/./\n",
            "\u001b[2m\u001b[36m(func pid=269253)\u001b[0m 2022-07-26 14:36:53,642\tINFO trainable.py:597 -- Current state after restoring: {'_iteration': 34, '_timesteps_total': None, '_time_total': 122.90327310562134, '_episodes_total': None}\n"
          ]
        },
        {
          "output_type": "stream",
          "name": "stdout",
          "text": [
            "== Status ==\n",
            "Current time: 2022-07-26 14:36:56 (running for 00:03:53.54)\n",
            "Memory usage on this node: 2.5/12.7 GiB\n",
            "Using MedianStoppingRule: num_stopped=0.\n",
            "Resources requested: 2.0/2 CPUs, 0/0 GPUs, 0.0/7.47 GiB heap, 0.0/3.73 GiB objects\n",
            "Result logdir: /root/ray_results/trainable_func_2022-07-26_14-33-03\n",
            "Number of trials: 13/50 (6 PAUSED, 4 RUNNING, 3 TERMINATED)\n",
            "\n",
            "\n",
            "Trial trainable_func_5d45b2a0 reported epoch=6,loss=0.5986952989475137,should_checkpoint=True with parameters={'act1 ': 'selu', 'act2': 'tanh', 'act3': 'tanh', 'lr': 0.0006000000000000001, 'batch_size': 32, 'hidden_dim1': 195.0, 'hidden_dim2': 315.0, 'hidden_dim3': 150.0}.\n",
            "Trial trainable_func_5e4b47b4 reported epoch=1,loss=0.6774531865931325,should_checkpoint=True with parameters={'act1 ': 'tanh', 'act2': 'tanh', 'act3': 'tanh', 'lr': 0.0005, 'batch_size': 8, 'hidden_dim1': 315.0, 'hidden_dim2': 285.0, 'hidden_dim3': 165.0}.\n"
          ]
        },
        {
          "output_type": "stream",
          "name": "stderr",
          "text": [
            "\u001b[2m\u001b[36m(func pid=269297)\u001b[0m 2022-07-26 14:36:57,265\tINFO trainable.py:589 -- Restored on 172.28.0.2 from checkpoint: /root/ray_results/trainable_func_2022-07-26_14-33-03/trainable_func_db5c1630_5_act1=relu,act2=relu,act3=relu,batch_size=16,hidden_dim1=240.0000,hidden_dim2=240.0000,hidden_dim3=210.00_2022-07-26_14-33-40/checkpoint_tmp72ac80/./\n",
            "\u001b[2m\u001b[36m(func pid=269297)\u001b[0m 2022-07-26 14:36:57,265\tINFO trainable.py:597 -- Current state after restoring: {'_iteration': 12, '_timesteps_total': None, '_time_total': 57.85117220878601, '_episodes_total': None}\n",
            "\u001b[2m\u001b[36m(func pid=269253)\u001b[0m 2022-07-26 14:36:58,007\tINFO trainable.py:589 -- Restored on 172.28.0.2 from checkpoint: /root/ray_results/trainable_func_2022-07-26_14-33-03/trainable_func_db547e7a_4_act1=selu,act2=tanh,act3=relu,batch_size=16,hidden_dim1=225.0000,hidden_dim2=195.0000,hidden_dim3=255.00_2022-07-26_14-33-03/checkpoint_tmp8d03d0/./\n",
            "\u001b[2m\u001b[36m(func pid=269253)\u001b[0m 2022-07-26 14:36:58,008\tINFO trainable.py:597 -- Current state after restoring: {'_iteration': 35, '_timesteps_total': None, '_time_total': 126.28703951835632, '_episodes_total': None}\n"
          ]
        },
        {
          "output_type": "stream",
          "name": "stdout",
          "text": [
            "Trial trainable_func_db5c1630 reported epoch=0,loss=0.1410541202654093,should_checkpoint=True with parameters={'act1 ': 'relu', 'act2': 'relu', 'act3': 'relu', 'lr': 0.001, 'batch_size': 16, 'hidden_dim1': 240.0, 'hidden_dim2': 240.0, 'hidden_dim3': 210.0}.\n",
            "== Status ==\n",
            "Current time: 2022-07-26 14:37:01 (running for 00:03:58.74)\n",
            "Memory usage on this node: 2.5/12.7 GiB\n",
            "Using MedianStoppingRule: num_stopped=0.\n",
            "Resources requested: 1.5/2 CPUs, 0/0 GPUs, 0.0/7.47 GiB heap, 0.0/3.73 GiB objects\n",
            "Result logdir: /root/ray_results/trainable_func_2022-07-26_14-33-03\n",
            "Number of trials: 13/50 (7 PAUSED, 3 RUNNING, 3 TERMINATED)\n",
            "\n",
            "\n",
            "Trial trainable_func_db547e7a reported epoch=0,loss=0.05699296552432965,should_checkpoint=True with parameters={'act1 ': 'selu', 'act2': 'tanh', 'act3': 'relu', 'lr': 0.0009, 'batch_size': 16, 'hidden_dim1': 225.0, 'hidden_dim2': 195.0, 'hidden_dim3': 255.0}.\n"
          ]
        },
        {
          "output_type": "stream",
          "name": "stderr",
          "text": [
            "\u001b[2m\u001b[36m(func pid=269297)\u001b[0m 2022-07-26 14:37:01,928\tINFO trainable.py:589 -- Restored on 172.28.0.2 from checkpoint: /root/ray_results/trainable_func_2022-07-26_14-33-03/trainable_func_db5c1630_5_act1=relu,act2=relu,act3=relu,batch_size=16,hidden_dim1=240.0000,hidden_dim2=240.0000,hidden_dim3=210.00_2022-07-26_14-33-40/checkpoint_tmp956666/./\n",
            "\u001b[2m\u001b[36m(func pid=269297)\u001b[0m 2022-07-26 14:37:01,928\tINFO trainable.py:597 -- Current state after restoring: {'_iteration': 13, '_timesteps_total': None, '_time_total': 61.978679895401, '_episodes_total': None}\n"
          ]
        },
        {
          "output_type": "stream",
          "name": "stdout",
          "text": [
            "Trial trainable_func_5d45b2a0 reported epoch=9,loss=0.579365928827527,should_checkpoint=True with parameters={'act1 ': 'selu', 'act2': 'tanh', 'act3': 'tanh', 'lr': 0.0006000000000000001, 'batch_size': 32, 'hidden_dim1': 195.0, 'hidden_dim2': 315.0, 'hidden_dim3': 150.0}. This trial completed.\n"
          ]
        },
        {
          "output_type": "stream",
          "name": "stderr",
          "text": [
            "\u001b[2m\u001b[36m(func pid=269253)\u001b[0m 2022-07-26 14:37:02,613\tINFO trainable.py:589 -- Restored on 172.28.0.2 from checkpoint: /root/ray_results/trainable_func_2022-07-26_14-33-03/trainable_func_db547e7a_4_act1=selu,act2=tanh,act3=relu,batch_size=16,hidden_dim1=225.0000,hidden_dim2=195.0000,hidden_dim3=255.00_2022-07-26_14-33-03/checkpoint_tmpe7a4bb/./\n",
            "\u001b[2m\u001b[36m(func pid=269253)\u001b[0m 2022-07-26 14:37:02,614\tINFO trainable.py:597 -- Current state after restoring: {'_iteration': 36, '_timesteps_total': None, '_time_total': 129.78595185279846, '_episodes_total': None}\n"
          ]
        },
        {
          "output_type": "stream",
          "name": "stdout",
          "text": [
            "Trial trainable_func_5e4b47b4 reported epoch=2,loss=0.6493535431003022,should_checkpoint=True with parameters={'act1 ': 'tanh', 'act2': 'tanh', 'act3': 'tanh', 'lr': 0.0005, 'batch_size': 8, 'hidden_dim1': 315.0, 'hidden_dim2': 285.0, 'hidden_dim3': 165.0}.\n"
          ]
        },
        {
          "output_type": "stream",
          "name": "stderr",
          "text": [
            "\u001b[2m\u001b[36m(func pid=269253)\u001b[0m 2022-07-26 14:37:06,376\tINFO trainable.py:589 -- Restored on 172.28.0.2 from checkpoint: /root/ray_results/trainable_func_2022-07-26_14-33-03/trainable_func_db547e7a_4_act1=selu,act2=tanh,act3=relu,batch_size=16,hidden_dim1=225.0000,hidden_dim2=195.0000,hidden_dim3=255.00_2022-07-26_14-33-03/checkpoint_tmpa10b77/./\n",
            "\u001b[2m\u001b[36m(func pid=269253)\u001b[0m 2022-07-26 14:37:06,376\tINFO trainable.py:597 -- Current state after restoring: {'_iteration': 37, '_timesteps_total': None, '_time_total': 133.05002355575562, '_episodes_total': None}\n",
            "\u001b[2m\u001b[36m(func pid=269297)\u001b[0m 2022-07-26 14:37:07,149\tINFO trainable.py:589 -- Restored on 172.28.0.2 from checkpoint: /root/ray_results/trainable_func_2022-07-26_14-33-03/trainable_func_db5c1630_5_act1=relu,act2=relu,act3=relu,batch_size=16,hidden_dim1=240.0000,hidden_dim2=240.0000,hidden_dim3=210.00_2022-07-26_14-33-40/checkpoint_tmpedf5d2/./\n",
            "\u001b[2m\u001b[36m(func pid=269297)\u001b[0m 2022-07-26 14:37:07,150\tINFO trainable.py:597 -- Current state after restoring: {'_iteration': 14, '_timesteps_total': None, '_time_total': 65.99837136268616, '_episodes_total': None}\n"
          ]
        },
        {
          "output_type": "stream",
          "name": "stdout",
          "text": [
            "== Status ==\n",
            "Current time: 2022-07-26 14:37:07 (running for 00:04:03.97)\n",
            "Memory usage on this node: 2.5/12.7 GiB\n",
            "Using MedianStoppingRule: num_stopped=1.\n",
            "Resources requested: 1.5/2 CPUs, 0/0 GPUs, 0.0/7.47 GiB heap, 0.0/3.73 GiB objects\n",
            "Result logdir: /root/ray_results/trainable_func_2022-07-26_14-33-03\n",
            "Number of trials: 14/50 (7 PAUSED, 3 RUNNING, 4 TERMINATED)\n",
            "\n",
            "\n",
            "Trial trainable_func_db547e7a reported epoch=0,loss=0.060717278163298874,should_checkpoint=True with parameters={'act1 ': 'selu', 'act2': 'tanh', 'act3': 'relu', 'lr': 0.0009, 'batch_size': 16, 'hidden_dim1': 225.0, 'hidden_dim2': 195.0, 'hidden_dim3': 255.0}.\n",
            "Trial trainable_func_69e07374 reported epoch=0,loss=0.6704202985610317,should_checkpoint=True with parameters={'act1 ': 'relu', 'act2': 'relu', 'act3': 'relu', 'lr': 0.0005, 'batch_size': 8, 'hidden_dim1': 135.0, 'hidden_dim2': 300.0, 'hidden_dim3': 330.0}.\n"
          ]
        },
        {
          "output_type": "stream",
          "name": "stderr",
          "text": [
            "\u001b[2m\u001b[36m(func pid=269253)\u001b[0m 2022-07-26 14:37:10,107\tINFO trainable.py:589 -- Restored on 172.28.0.2 from checkpoint: /root/ray_results/trainable_func_2022-07-26_14-33-03/trainable_func_db547e7a_4_act1=selu,act2=tanh,act3=relu,batch_size=16,hidden_dim1=225.0000,hidden_dim2=195.0000,hidden_dim3=255.00_2022-07-26_14-33-03/checkpoint_tmp8d8c64/./\n",
            "\u001b[2m\u001b[36m(func pid=269253)\u001b[0m 2022-07-26 14:37:10,107\tINFO trainable.py:597 -- Current state after restoring: {'_iteration': 38, '_timesteps_total': None, '_time_total': 136.10480642318726, '_episodes_total': None}\n"
          ]
        },
        {
          "output_type": "stream",
          "name": "stdout",
          "text": [
            "Trial trainable_func_5e4b47b4 reported epoch=3,loss=0.5949676833436148,should_checkpoint=True with parameters={'act1 ': 'tanh', 'act2': 'tanh', 'act3': 'tanh', 'lr': 0.0005, 'batch_size': 8, 'hidden_dim1': 315.0, 'hidden_dim2': 285.0, 'hidden_dim3': 165.0}.\n",
            "Trial trainable_func_db5c1630 reported epoch=0,loss=0.10620938873421266,should_checkpoint=True with parameters={'act1 ': 'relu', 'act2': 'relu', 'act3': 'relu', 'lr': 0.001, 'batch_size': 16, 'hidden_dim1': 240.0, 'hidden_dim2': 240.0, 'hidden_dim3': 210.0}.\n"
          ]
        },
        {
          "output_type": "stream",
          "name": "stderr",
          "text": [
            "\u001b[2m\u001b[36m(func pid=269297)\u001b[0m 2022-07-26 14:37:11,430\tINFO trainable.py:589 -- Restored on 172.28.0.2 from checkpoint: /root/ray_results/trainable_func_2022-07-26_14-33-03/trainable_func_db5c1630_5_act1=relu,act2=relu,act3=relu,batch_size=16,hidden_dim1=240.0000,hidden_dim2=240.0000,hidden_dim3=210.00_2022-07-26_14-33-40/checkpoint_tmp663993/./\n",
            "\u001b[2m\u001b[36m(func pid=269297)\u001b[0m 2022-07-26 14:37:11,440\tINFO trainable.py:597 -- Current state after restoring: {'_iteration': 15, '_timesteps_total': None, '_time_total': 69.73621654510498, '_episodes_total': None}\n"
          ]
        },
        {
          "output_type": "stream",
          "name": "stdout",
          "text": [
            "== Status ==\n",
            "Current time: 2022-07-26 14:37:13 (running for 00:04:10.14)\n",
            "Memory usage on this node: 2.5/12.7 GiB\n",
            "Using MedianStoppingRule: num_stopped=1.\n",
            "Resources requested: 2.0/2 CPUs, 0/0 GPUs, 0.0/7.47 GiB heap, 0.0/3.73 GiB objects\n",
            "Result logdir: /root/ray_results/trainable_func_2022-07-26_14-33-03\n",
            "Number of trials: 14/50 (6 PAUSED, 4 RUNNING, 4 TERMINATED)\n",
            "\n",
            "\n"
          ]
        },
        {
          "output_type": "stream",
          "name": "stderr",
          "text": [
            "\u001b[2m\u001b[36m(func pid=269253)\u001b[0m 2022-07-26 14:37:14,062\tINFO trainable.py:589 -- Restored on 172.28.0.2 from checkpoint: /root/ray_results/trainable_func_2022-07-26_14-33-03/trainable_func_db547e7a_4_act1=selu,act2=tanh,act3=relu,batch_size=16,hidden_dim1=225.0000,hidden_dim2=195.0000,hidden_dim3=255.00_2022-07-26_14-33-03/checkpoint_tmpe5f5f9/./\n",
            "\u001b[2m\u001b[36m(func pid=269253)\u001b[0m 2022-07-26 14:37:14,062\tINFO trainable.py:597 -- Current state after restoring: {'_iteration': 39, '_timesteps_total': None, '_time_total': 139.28870248794556, '_episodes_total': None}\n",
            "\u001b[2m\u001b[36m(func pid=269297)\u001b[0m 2022-07-26 14:37:16,095\tINFO trainable.py:589 -- Restored on 172.28.0.2 from checkpoint: /root/ray_results/trainable_func_2022-07-26_14-33-03/trainable_func_db5c1630_5_act1=relu,act2=relu,act3=relu,batch_size=16,hidden_dim1=240.0000,hidden_dim2=240.0000,hidden_dim3=210.00_2022-07-26_14-33-40/checkpoint_tmp500e07/./\n",
            "\u001b[2m\u001b[36m(func pid=269297)\u001b[0m 2022-07-26 14:37:16,096\tINFO trainable.py:597 -- Current state after restoring: {'_iteration': 16, '_timesteps_total': None, '_time_total': 73.61798119544983, '_episodes_total': None}\n"
          ]
        },
        {
          "output_type": "stream",
          "name": "stdout",
          "text": [
            "Trial trainable_func_69e07374 reported epoch=1,loss=0.5819997263331746,should_checkpoint=True with parameters={'act1 ': 'relu', 'act2': 'relu', 'act3': 'relu', 'lr': 0.0005, 'batch_size': 8, 'hidden_dim1': 135.0, 'hidden_dim2': 300.0, 'hidden_dim3': 330.0}.\n",
            "Trial trainable_func_5e4b47b4 reported epoch=4,loss=0.613426288671407,should_checkpoint=True with parameters={'act1 ': 'tanh', 'act2': 'tanh', 'act3': 'tanh', 'lr': 0.0005, 'batch_size': 8, 'hidden_dim1': 315.0, 'hidden_dim2': 285.0, 'hidden_dim3': 165.0}.\n",
            "Trial trainable_func_db547e7a reported epoch=0,loss=0.05546273007927169,should_checkpoint=True with parameters={'act1 ': 'selu', 'act2': 'tanh', 'act3': 'relu', 'lr': 0.0009, 'batch_size': 16, 'hidden_dim1': 225.0, 'hidden_dim2': 195.0, 'hidden_dim3': 255.0}.\n"
          ]
        },
        {
          "output_type": "stream",
          "name": "stderr",
          "text": [
            "\u001b[2m\u001b[36m(func pid=269253)\u001b[0m 2022-07-26 14:37:18,306\tINFO trainable.py:589 -- Restored on 172.28.0.2 from checkpoint: /root/ray_results/trainable_func_2022-07-26_14-33-03/trainable_func_db547e7a_4_act1=selu,act2=tanh,act3=relu,batch_size=16,hidden_dim1=225.0000,hidden_dim2=195.0000,hidden_dim3=255.00_2022-07-26_14-33-03/checkpoint_tmp9c89d2/./\n",
            "\u001b[2m\u001b[36m(func pid=269253)\u001b[0m 2022-07-26 14:37:18,306\tINFO trainable.py:597 -- Current state after restoring: {'_iteration': 40, '_timesteps_total': None, '_time_total': 142.7725145816803, '_episodes_total': None}\n"
          ]
        },
        {
          "output_type": "stream",
          "name": "stdout",
          "text": [
            "Trial trainable_func_db5c1630 reported epoch=0,loss=0.08714611712900958,should_checkpoint=True with parameters={'act1 ': 'relu', 'act2': 'relu', 'act3': 'relu', 'lr': 0.001, 'batch_size': 16, 'hidden_dim1': 240.0, 'hidden_dim2': 240.0, 'hidden_dim3': 210.0}.\n",
            "== Status ==\n",
            "Current time: 2022-07-26 14:37:20 (running for 00:04:17.02)\n",
            "Memory usage on this node: 2.5/12.7 GiB\n",
            "Using MedianStoppingRule: num_stopped=1.\n",
            "Resources requested: 2.0/2 CPUs, 0/0 GPUs, 0.0/7.47 GiB heap, 0.0/3.73 GiB objects\n",
            "Result logdir: /root/ray_results/trainable_func_2022-07-26_14-33-03\n",
            "Number of trials: 14/50 (6 PAUSED, 4 RUNNING, 4 TERMINATED)\n",
            "\n",
            "\n"
          ]
        },
        {
          "output_type": "stream",
          "name": "stderr",
          "text": [
            "\u001b[2m\u001b[36m(func pid=269297)\u001b[0m 2022-07-26 14:37:20,761\tINFO trainable.py:589 -- Restored on 172.28.0.2 from checkpoint: /root/ray_results/trainable_func_2022-07-26_14-33-03/trainable_func_db5c1630_5_act1=relu,act2=relu,act3=relu,batch_size=16,hidden_dim1=240.0000,hidden_dim2=240.0000,hidden_dim3=210.00_2022-07-26_14-33-40/checkpoint_tmp0d636e/./\n",
            "\u001b[2m\u001b[36m(func pid=269297)\u001b[0m 2022-07-26 14:37:20,763\tINFO trainable.py:597 -- Current state after restoring: {'_iteration': 17, '_timesteps_total': None, '_time_total': 77.6831533908844, '_episodes_total': None}\n",
            "\u001b[2m\u001b[36m(func pid=269253)\u001b[0m 2022-07-26 14:37:22,252\tINFO trainable.py:589 -- Restored on 172.28.0.2 from checkpoint: /root/ray_results/trainable_func_2022-07-26_14-33-03/trainable_func_db547e7a_4_act1=selu,act2=tanh,act3=relu,batch_size=16,hidden_dim1=225.0000,hidden_dim2=195.0000,hidden_dim3=255.00_2022-07-26_14-33-03/checkpoint_tmpf5d623/./\n",
            "\u001b[2m\u001b[36m(func pid=269253)\u001b[0m 2022-07-26 14:37:22,252\tINFO trainable.py:597 -- Current state after restoring: {'_iteration': 41, '_timesteps_total': None, '_time_total': 146.01110887527466, '_episodes_total': None}\n"
          ]
        },
        {
          "output_type": "stream",
          "name": "stdout",
          "text": [
            "Trial trainable_func_69e07374 reported epoch=2,loss=0.5626683922027711,should_checkpoint=True with parameters={'act1 ': 'relu', 'act2': 'relu', 'act3': 'relu', 'lr': 0.0005, 'batch_size': 8, 'hidden_dim1': 135.0, 'hidden_dim2': 300.0, 'hidden_dim3': 330.0}.\n",
            "Trial trainable_func_5e4b47b4 reported epoch=5,loss=0.6061440597474311,should_checkpoint=True with parameters={'act1 ': 'tanh', 'act2': 'tanh', 'act3': 'tanh', 'lr': 0.0005, 'batch_size': 8, 'hidden_dim1': 315.0, 'hidden_dim2': 285.0, 'hidden_dim3': 165.0}.\n"
          ]
        },
        {
          "output_type": "stream",
          "name": "stderr",
          "text": [
            "\u001b[2m\u001b[36m(func pid=269297)\u001b[0m 2022-07-26 14:37:24,764\tINFO trainable.py:589 -- Restored on 172.28.0.2 from checkpoint: /root/ray_results/trainable_func_2022-07-26_14-33-03/trainable_func_db5c1630_5_act1=relu,act2=relu,act3=relu,batch_size=16,hidden_dim1=240.0000,hidden_dim2=240.0000,hidden_dim3=210.00_2022-07-26_14-33-40/checkpoint_tmpdc4292/./\n",
            "\u001b[2m\u001b[36m(func pid=269297)\u001b[0m 2022-07-26 14:37:24,764\tINFO trainable.py:597 -- Current state after restoring: {'_iteration': 18, '_timesteps_total': None, '_time_total': 81.03551387786865, '_episodes_total': None}\n"
          ]
        },
        {
          "output_type": "stream",
          "name": "stdout",
          "text": [
            "Trial trainable_func_db547e7a reported epoch=0,loss=0.06426738581356879,should_checkpoint=True with parameters={'act1 ': 'selu', 'act2': 'tanh', 'act3': 'relu', 'lr': 0.0009, 'batch_size': 16, 'hidden_dim1': 225.0, 'hidden_dim2': 195.0, 'hidden_dim3': 255.0}.\n",
            "== Status ==\n",
            "Current time: 2022-07-26 14:37:25 (running for 00:04:22.39)\n",
            "Memory usage on this node: 2.5/12.7 GiB\n",
            "Using MedianStoppingRule: num_stopped=1.\n",
            "Resources requested: 2.0/2 CPUs, 0/0 GPUs, 0.0/7.47 GiB heap, 0.0/3.73 GiB objects\n",
            "Result logdir: /root/ray_results/trainable_func_2022-07-26_14-33-03\n",
            "Number of trials: 14/50 (6 PAUSED, 4 RUNNING, 4 TERMINATED)\n",
            "\n",
            "\n"
          ]
        },
        {
          "output_type": "stream",
          "name": "stderr",
          "text": [
            "\u001b[2m\u001b[36m(func pid=269253)\u001b[0m 2022-07-26 14:37:26,241\tINFO trainable.py:589 -- Restored on 172.28.0.2 from checkpoint: /root/ray_results/trainable_func_2022-07-26_14-33-03/trainable_func_db547e7a_4_act1=selu,act2=tanh,act3=relu,batch_size=16,hidden_dim1=225.0000,hidden_dim2=195.0000,hidden_dim3=255.00_2022-07-26_14-33-03/checkpoint_tmp30170d/./\n",
            "\u001b[2m\u001b[36m(func pid=269253)\u001b[0m 2022-07-26 14:37:26,241\tINFO trainable.py:597 -- Current state after restoring: {'_iteration': 42, '_timesteps_total': None, '_time_total': 149.27679181098938, '_episodes_total': None}\n"
          ]
        },
        {
          "output_type": "stream",
          "name": "stdout",
          "text": [
            "Trial trainable_func_db5c1630 reported epoch=0,loss=0.10003808049367159,should_checkpoint=True with parameters={'act1 ': 'relu', 'act2': 'relu', 'act3': 'relu', 'lr': 0.001, 'batch_size': 16, 'hidden_dim1': 240.0, 'hidden_dim2': 240.0, 'hidden_dim3': 210.0}.\n"
          ]
        },
        {
          "output_type": "stream",
          "name": "stderr",
          "text": [
            "\u001b[2m\u001b[36m(func pid=269297)\u001b[0m 2022-07-26 14:37:29,408\tINFO trainable.py:589 -- Restored on 172.28.0.2 from checkpoint: /root/ray_results/trainable_func_2022-07-26_14-33-03/trainable_func_db5c1630_5_act1=relu,act2=relu,act3=relu,batch_size=16,hidden_dim1=240.0000,hidden_dim2=240.0000,hidden_dim3=210.00_2022-07-26_14-33-40/checkpoint_tmpf050c1/./\n",
            "\u001b[2m\u001b[36m(func pid=269297)\u001b[0m 2022-07-26 14:37:29,409\tINFO trainable.py:597 -- Current state after restoring: {'_iteration': 19, '_timesteps_total': None, '_time_total': 84.95987820625305, '_episodes_total': None}\n",
            "\u001b[2m\u001b[36m(func pid=269253)\u001b[0m 2022-07-26 14:37:30,199\tINFO trainable.py:589 -- Restored on 172.28.0.2 from checkpoint: /root/ray_results/trainable_func_2022-07-26_14-33-03/trainable_func_db547e7a_4_act1=selu,act2=tanh,act3=relu,batch_size=16,hidden_dim1=225.0000,hidden_dim2=195.0000,hidden_dim3=255.00_2022-07-26_14-33-03/checkpoint_tmpc49da5/./\n",
            "\u001b[2m\u001b[36m(func pid=269253)\u001b[0m 2022-07-26 14:37:30,200\tINFO trainable.py:597 -- Current state after restoring: {'_iteration': 43, '_timesteps_total': None, '_time_total': 152.5171103477478, '_episodes_total': None}\n"
          ]
        },
        {
          "output_type": "stream",
          "name": "stdout",
          "text": [
            "Trial trainable_func_5e4b47b4 reported epoch=6,loss=0.5692591018272096,should_checkpoint=True with parameters={'act1 ': 'tanh', 'act2': 'tanh', 'act3': 'tanh', 'lr': 0.0005, 'batch_size': 8, 'hidden_dim1': 315.0, 'hidden_dim2': 285.0, 'hidden_dim3': 165.0}.\n",
            "== Status ==\n",
            "Current time: 2022-07-26 14:37:31 (running for 00:04:28.45)\n",
            "Memory usage on this node: 2.5/12.7 GiB\n",
            "Using MedianStoppingRule: num_stopped=1.\n",
            "Resources requested: 2.0/2 CPUs, 0/0 GPUs, 0.0/7.47 GiB heap, 0.0/3.73 GiB objects\n",
            "Result logdir: /root/ray_results/trainable_func_2022-07-26_14-33-03\n",
            "Number of trials: 14/50 (6 PAUSED, 4 RUNNING, 4 TERMINATED)\n",
            "\n",
            "\n",
            "Trial trainable_func_69e07374 reported epoch=3,loss=0.5172092082253293,should_checkpoint=True with parameters={'act1 ': 'relu', 'act2': 'relu', 'act3': 'relu', 'lr': 0.0005, 'batch_size': 8, 'hidden_dim1': 135.0, 'hidden_dim2': 300.0, 'hidden_dim3': 330.0}.\n",
            "Trial trainable_func_db547e7a reported epoch=0,loss=0.05709015120009822,should_checkpoint=True with parameters={'act1 ': 'selu', 'act2': 'tanh', 'act3': 'relu', 'lr': 0.0009, 'batch_size': 16, 'hidden_dim1': 225.0, 'hidden_dim2': 195.0, 'hidden_dim3': 255.0}.\n"
          ]
        },
        {
          "output_type": "stream",
          "name": "stderr",
          "text": [
            "\u001b[2m\u001b[36m(func pid=269297)\u001b[0m 2022-07-26 14:37:33,909\tINFO trainable.py:589 -- Restored on 172.28.0.2 from checkpoint: /root/ray_results/trainable_func_2022-07-26_14-33-03/trainable_func_db5c1630_5_act1=relu,act2=relu,act3=relu,batch_size=16,hidden_dim1=240.0000,hidden_dim2=240.0000,hidden_dim3=210.00_2022-07-26_14-33-40/checkpoint_tmp29095c/./\n",
            "\u001b[2m\u001b[36m(func pid=269297)\u001b[0m 2022-07-26 14:37:33,910\tINFO trainable.py:597 -- Current state after restoring: {'_iteration': 20, '_timesteps_total': None, '_time_total': 88.95830631256104, '_episodes_total': None}\n",
            "\u001b[2m\u001b[36m(func pid=269253)\u001b[0m 2022-07-26 14:37:34,655\tINFO trainable.py:589 -- Restored on 172.28.0.2 from checkpoint: /root/ray_results/trainable_func_2022-07-26_14-33-03/trainable_func_db547e7a_4_act1=selu,act2=tanh,act3=relu,batch_size=16,hidden_dim1=225.0000,hidden_dim2=195.0000,hidden_dim3=255.00_2022-07-26_14-33-03/checkpoint_tmpa625e5/./\n",
            "\u001b[2m\u001b[36m(func pid=269253)\u001b[0m 2022-07-26 14:37:34,655\tINFO trainable.py:597 -- Current state after restoring: {'_iteration': 44, '_timesteps_total': None, '_time_total': 156.00597476959229, '_episodes_total': None}\n"
          ]
        },
        {
          "output_type": "stream",
          "name": "stdout",
          "text": [
            "Trial trainable_func_db5c1630 reported epoch=0,loss=0.07041023924947472,should_checkpoint=True with parameters={'act1 ': 'relu', 'act2': 'relu', 'act3': 'relu', 'lr': 0.001, 'batch_size': 16, 'hidden_dim1': 240.0, 'hidden_dim2': 240.0, 'hidden_dim3': 210.0}.\n",
            "== Status ==\n",
            "Current time: 2022-07-26 14:37:37 (running for 00:04:34.77)\n",
            "Memory usage on this node: 2.5/12.7 GiB\n",
            "Using MedianStoppingRule: num_stopped=1.\n",
            "Resources requested: 2.0/2 CPUs, 0/0 GPUs, 0.0/7.47 GiB heap, 0.0/3.73 GiB objects\n",
            "Result logdir: /root/ray_results/trainable_func_2022-07-26_14-33-03\n",
            "Number of trials: 14/50 (6 PAUSED, 4 RUNNING, 4 TERMINATED)\n",
            "\n",
            "\n",
            "Trial trainable_func_5e4b47b4 reported epoch=7,loss=0.6047281345224653,should_checkpoint=True with parameters={'act1 ': 'tanh', 'act2': 'tanh', 'act3': 'tanh', 'lr': 0.0005, 'batch_size': 8, 'hidden_dim1': 315.0, 'hidden_dim2': 285.0, 'hidden_dim3': 165.0}.\n"
          ]
        },
        {
          "output_type": "stream",
          "name": "stderr",
          "text": [
            "\u001b[2m\u001b[36m(func pid=269297)\u001b[0m 2022-07-26 14:37:38,392\tINFO trainable.py:589 -- Restored on 172.28.0.2 from checkpoint: /root/ray_results/trainable_func_2022-07-26_14-33-03/trainable_func_db5c1630_5_act1=relu,act2=relu,act3=relu,batch_size=16,hidden_dim1=240.0000,hidden_dim2=240.0000,hidden_dim3=210.00_2022-07-26_14-33-40/checkpoint_tmp484de0/./\n",
            "\u001b[2m\u001b[36m(func pid=269297)\u001b[0m 2022-07-26 14:37:38,394\tINFO trainable.py:597 -- Current state after restoring: {'_iteration': 21, '_timesteps_total': None, '_time_total': 92.96633100509644, '_episodes_total': None}\n",
            "\u001b[2m\u001b[36m(func pid=269253)\u001b[0m 2022-07-26 14:37:39,147\tINFO trainable.py:589 -- Restored on 172.28.0.2 from checkpoint: /root/ray_results/trainable_func_2022-07-26_14-33-03/trainable_func_db547e7a_4_act1=selu,act2=tanh,act3=relu,batch_size=16,hidden_dim1=225.0000,hidden_dim2=195.0000,hidden_dim3=255.00_2022-07-26_14-33-03/checkpoint_tmpb50b83/./\n",
            "\u001b[2m\u001b[36m(func pid=269253)\u001b[0m 2022-07-26 14:37:39,147\tINFO trainable.py:597 -- Current state after restoring: {'_iteration': 45, '_timesteps_total': None, '_time_total': 159.49900007247925, '_episodes_total': None}\n"
          ]
        },
        {
          "output_type": "stream",
          "name": "stdout",
          "text": [
            "Trial trainable_func_69e07374 reported epoch=4,loss=0.5503131578449871,should_checkpoint=True with parameters={'act1 ': 'relu', 'act2': 'relu', 'act3': 'relu', 'lr': 0.0005, 'batch_size': 8, 'hidden_dim1': 135.0, 'hidden_dim2': 300.0, 'hidden_dim3': 330.0}.\n",
            "Trial trainable_func_db547e7a reported epoch=0,loss=0.045140919774784335,should_checkpoint=True with parameters={'act1 ': 'selu', 'act2': 'tanh', 'act3': 'relu', 'lr': 0.0009, 'batch_size': 16, 'hidden_dim1': 225.0, 'hidden_dim2': 195.0, 'hidden_dim3': 255.0}.\n"
          ]
        },
        {
          "output_type": "stream",
          "name": "stderr",
          "text": [
            "\u001b[2m\u001b[36m(func pid=269297)\u001b[0m 2022-07-26 14:37:42,727\tINFO trainable.py:589 -- Restored on 172.28.0.2 from checkpoint: /root/ray_results/trainable_func_2022-07-26_14-33-03/trainable_func_db5c1630_5_act1=relu,act2=relu,act3=relu,batch_size=16,hidden_dim1=240.0000,hidden_dim2=240.0000,hidden_dim3=210.00_2022-07-26_14-33-40/checkpoint_tmp71c923/./\n",
            "\u001b[2m\u001b[36m(func pid=269297)\u001b[0m 2022-07-26 14:37:42,728\tINFO trainable.py:597 -- Current state after restoring: {'_iteration': 22, '_timesteps_total': None, '_time_total': 96.90466833114624, '_episodes_total': None}\n",
            "\u001b[2m\u001b[36m(func pid=269253)\u001b[0m 2022-07-26 14:37:43,463\tINFO trainable.py:589 -- Restored on 172.28.0.2 from checkpoint: /root/ray_results/trainable_func_2022-07-26_14-33-03/trainable_func_db547e7a_4_act1=selu,act2=tanh,act3=relu,batch_size=16,hidden_dim1=225.0000,hidden_dim2=195.0000,hidden_dim3=255.00_2022-07-26_14-33-03/checkpoint_tmpa860c8/./\n",
            "\u001b[2m\u001b[36m(func pid=269253)\u001b[0m 2022-07-26 14:37:43,464\tINFO trainable.py:597 -- Current state after restoring: {'_iteration': 46, '_timesteps_total': None, '_time_total': 162.71879816055298, '_episodes_total': None}\n"
          ]
        },
        {
          "output_type": "stream",
          "name": "stdout",
          "text": [
            "== Status ==\n",
            "Current time: 2022-07-26 14:37:43 (running for 00:04:40.27)\n",
            "Memory usage on this node: 2.5/12.7 GiB\n",
            "Using MedianStoppingRule: num_stopped=1.\n",
            "Resources requested: 1.5/2 CPUs, 0/0 GPUs, 0.0/7.47 GiB heap, 0.0/3.73 GiB objects\n",
            "Result logdir: /root/ray_results/trainable_func_2022-07-26_14-33-03\n",
            "Number of trials: 14/50 (7 PAUSED, 3 RUNNING, 4 TERMINATED)\n",
            "\n",
            "\n",
            "Trial trainable_func_5e4b47b4 reported epoch=8,loss=0.5967384803505636,should_checkpoint=True with parameters={'act1 ': 'tanh', 'act2': 'tanh', 'act3': 'tanh', 'lr': 0.0005, 'batch_size': 8, 'hidden_dim1': 315.0, 'hidden_dim2': 285.0, 'hidden_dim3': 165.0}.\n",
            "Trial trainable_func_db5c1630 reported epoch=0,loss=0.06708479072546078,should_checkpoint=True with parameters={'act1 ': 'relu', 'act2': 'relu', 'act3': 'relu', 'lr': 0.001, 'batch_size': 16, 'hidden_dim1': 240.0, 'hidden_dim2': 240.0, 'hidden_dim3': 210.0}.\n",
            "Trial trainable_func_69e07374 reported epoch=5,loss=0.5476230483345793,should_checkpoint=True with parameters={'act1 ': 'relu', 'act2': 'relu', 'act3': 'relu', 'lr': 0.0005, 'batch_size': 8, 'hidden_dim1': 135.0, 'hidden_dim2': 300.0, 'hidden_dim3': 330.0}.\n"
          ]
        },
        {
          "output_type": "stream",
          "name": "stderr",
          "text": [
            "\u001b[2m\u001b[36m(func pid=269297)\u001b[0m 2022-07-26 14:37:47,155\tINFO trainable.py:589 -- Restored on 172.28.0.2 from checkpoint: /root/ray_results/trainable_func_2022-07-26_14-33-03/trainable_func_db5c1630_5_act1=relu,act2=relu,act3=relu,batch_size=16,hidden_dim1=240.0000,hidden_dim2=240.0000,hidden_dim3=210.00_2022-07-26_14-33-40/checkpoint_tmp613ef0/./\n",
            "\u001b[2m\u001b[36m(func pid=269297)\u001b[0m 2022-07-26 14:37:47,156\tINFO trainable.py:597 -- Current state after restoring: {'_iteration': 23, '_timesteps_total': None, '_time_total': 100.89289736747742, '_episodes_total': None}\n",
            "\u001b[2m\u001b[36m(func pid=269253)\u001b[0m 2022-07-26 14:37:47,774\tINFO trainable.py:589 -- Restored on 172.28.0.2 from checkpoint: /root/ray_results/trainable_func_2022-07-26_14-33-03/trainable_func_db547e7a_4_act1=selu,act2=tanh,act3=relu,batch_size=16,hidden_dim1=225.0000,hidden_dim2=195.0000,hidden_dim3=255.00_2022-07-26_14-33-03/checkpoint_tmp8e4d97/./\n",
            "\u001b[2m\u001b[36m(func pid=269253)\u001b[0m 2022-07-26 14:37:47,774\tINFO trainable.py:597 -- Current state after restoring: {'_iteration': 47, '_timesteps_total': None, '_time_total': 166.11048102378845, '_episodes_total': None}\n"
          ]
        },
        {
          "output_type": "stream",
          "name": "stdout",
          "text": [
            "== Status ==\n",
            "Current time: 2022-07-26 14:37:50 (running for 00:04:47.58)\n",
            "Memory usage on this node: 2.5/12.7 GiB\n",
            "Using MedianStoppingRule: num_stopped=1.\n",
            "Resources requested: 2.0/2 CPUs, 0/0 GPUs, 0.0/7.47 GiB heap, 0.0/3.73 GiB objects\n",
            "Result logdir: /root/ray_results/trainable_func_2022-07-26_14-33-03\n",
            "Number of trials: 14/50 (6 PAUSED, 4 RUNNING, 4 TERMINATED)\n",
            "\n",
            "\n",
            "Trial trainable_func_db547e7a reported epoch=0,loss=0.04377855798771498,should_checkpoint=True with parameters={'act1 ': 'selu', 'act2': 'tanh', 'act3': 'relu', 'lr': 0.0009, 'batch_size': 16, 'hidden_dim1': 225.0, 'hidden_dim2': 195.0, 'hidden_dim3': 255.0}.\n"
          ]
        },
        {
          "output_type": "stream",
          "name": "stderr",
          "text": [
            "\u001b[2m\u001b[36m(func pid=269297)\u001b[0m 2022-07-26 14:37:51,394\tINFO trainable.py:589 -- Restored on 172.28.0.2 from checkpoint: /root/ray_results/trainable_func_2022-07-26_14-33-03/trainable_func_db5c1630_5_act1=relu,act2=relu,act3=relu,batch_size=16,hidden_dim1=240.0000,hidden_dim2=240.0000,hidden_dim3=210.00_2022-07-26_14-33-40/checkpoint_tmpcb04c3/./\n",
            "\u001b[2m\u001b[36m(func pid=269297)\u001b[0m 2022-07-26 14:37:51,394\tINFO trainable.py:597 -- Current state after restoring: {'_iteration': 24, '_timesteps_total': None, '_time_total': 104.46345400810242, '_episodes_total': None}\n",
            "\u001b[2m\u001b[36m(func pid=269253)\u001b[0m 2022-07-26 14:37:52,027\tINFO trainable.py:589 -- Restored on 172.28.0.2 from checkpoint: /root/ray_results/trainable_func_2022-07-26_14-33-03/trainable_func_db547e7a_4_act1=selu,act2=tanh,act3=relu,batch_size=16,hidden_dim1=225.0000,hidden_dim2=195.0000,hidden_dim3=255.00_2022-07-26_14-33-03/checkpoint_tmp4049ad/./\n",
            "\u001b[2m\u001b[36m(func pid=269253)\u001b[0m 2022-07-26 14:37:52,027\tINFO trainable.py:597 -- Current state after restoring: {'_iteration': 48, '_timesteps_total': None, '_time_total': 169.3312017917633, '_episodes_total': None}\n"
          ]
        },
        {
          "output_type": "stream",
          "name": "stdout",
          "text": [
            "Trial trainable_func_5e4b47b4 reported epoch=9,loss=0.5898675234307748,should_checkpoint=True with parameters={'act1 ': 'tanh', 'act2': 'tanh', 'act3': 'tanh', 'lr': 0.0005, 'batch_size': 8, 'hidden_dim1': 315.0, 'hidden_dim2': 285.0, 'hidden_dim3': 165.0}. This trial completed.\n",
            "Trial trainable_func_87539166 reported epoch=0,loss=0.6461951297418607,should_checkpoint=True with parameters={'act1 ': 'selu', 'act2': 'tanh', 'act3': 'relu', 'lr': 0.0007, 'batch_size': 32, 'hidden_dim1': 165.0, 'hidden_dim2': 120.0, 'hidden_dim3': 225.0}.\n",
            "Trial trainable_func_69e07374 reported epoch=6,loss=0.529075214207337,should_checkpoint=True with parameters={'act1 ': 'relu', 'act2': 'relu', 'act3': 'relu', 'lr': 0.0005, 'batch_size': 8, 'hidden_dim1': 135.0, 'hidden_dim2': 300.0, 'hidden_dim3': 330.0}.\n",
            "Trial trainable_func_db5c1630 reported epoch=0,loss=0.053357811659218324,should_checkpoint=True with parameters={'act1 ': 'relu', 'act2': 'relu', 'act3': 'relu', 'lr': 0.001, 'batch_size': 16, 'hidden_dim1': 240.0, 'hidden_dim2': 240.0, 'hidden_dim3': 210.0}.\n",
            "== Status ==\n",
            "Current time: 2022-07-26 14:37:55 (running for 00:04:52.69)\n",
            "Memory usage on this node: 2.5/12.7 GiB\n",
            "Using MedianStoppingRule: num_stopped=2.\n",
            "Resources requested: 1.5/2 CPUs, 0/0 GPUs, 0.0/7.47 GiB heap, 0.0/3.73 GiB objects\n",
            "Result logdir: /root/ray_results/trainable_func_2022-07-26_14-33-03\n",
            "Number of trials: 15/50 (7 PAUSED, 3 RUNNING, 5 TERMINATED)\n",
            "\n",
            "\n"
          ]
        },
        {
          "output_type": "stream",
          "name": "stderr",
          "text": [
            "\u001b[2m\u001b[36m(func pid=269297)\u001b[0m 2022-07-26 14:37:55,882\tINFO trainable.py:589 -- Restored on 172.28.0.2 from checkpoint: /root/ray_results/trainable_func_2022-07-26_14-33-03/trainable_func_db5c1630_5_act1=relu,act2=relu,act3=relu,batch_size=16,hidden_dim1=240.0000,hidden_dim2=240.0000,hidden_dim3=210.00_2022-07-26_14-33-40/checkpoint_tmp30424f/./\n",
            "\u001b[2m\u001b[36m(func pid=269297)\u001b[0m 2022-07-26 14:37:55,882\tINFO trainable.py:597 -- Current state after restoring: {'_iteration': 25, '_timesteps_total': None, '_time_total': 108.54767346382141, '_episodes_total': None}\n",
            "\u001b[2m\u001b[36m(func pid=269253)\u001b[0m 2022-07-26 14:37:56,640\tINFO trainable.py:589 -- Restored on 172.28.0.2 from checkpoint: /root/ray_results/trainable_func_2022-07-26_14-33-03/trainable_func_db547e7a_4_act1=selu,act2=tanh,act3=relu,batch_size=16,hidden_dim1=225.0000,hidden_dim2=195.0000,hidden_dim3=255.00_2022-07-26_14-33-03/checkpoint_tmpcd5299/./\n",
            "\u001b[2m\u001b[36m(func pid=269253)\u001b[0m 2022-07-26 14:37:56,640\tINFO trainable.py:597 -- Current state after restoring: {'_iteration': 49, '_timesteps_total': None, '_time_total': 172.97420024871826, '_episodes_total': None}\n"
          ]
        },
        {
          "output_type": "stream",
          "name": "stdout",
          "text": [
            "Trial trainable_func_87539166 reported epoch=4,loss=0.5230913242561817,should_checkpoint=True with parameters={'act1 ': 'selu', 'act2': 'tanh', 'act3': 'relu', 'lr': 0.0007, 'batch_size': 32, 'hidden_dim1': 165.0, 'hidden_dim2': 120.0, 'hidden_dim3': 225.0}.\n",
            "Trial trainable_func_db547e7a reported epoch=0,loss=0.05419177196872722,should_checkpoint=True with parameters={'act1 ': 'selu', 'act2': 'tanh', 'act3': 'relu', 'lr': 0.0009, 'batch_size': 16, 'hidden_dim1': 225.0, 'hidden_dim2': 195.0, 'hidden_dim3': 255.0}. This trial completed.\n"
          ]
        },
        {
          "output_type": "stream",
          "name": "stderr",
          "text": [
            "\u001b[2m\u001b[36m(func pid=269297)\u001b[0m 2022-07-26 14:38:00,480\tINFO trainable.py:589 -- Restored on 172.28.0.2 from checkpoint: /root/ray_results/trainable_func_2022-07-26_14-33-03/trainable_func_db5c1630_5_act1=relu,act2=relu,act3=relu,batch_size=16,hidden_dim1=240.0000,hidden_dim2=240.0000,hidden_dim3=210.00_2022-07-26_14-33-40/checkpoint_tmp1eb8d7/./\n",
            "\u001b[2m\u001b[36m(func pid=269297)\u001b[0m 2022-07-26 14:38:00,480\tINFO trainable.py:597 -- Current state after restoring: {'_iteration': 26, '_timesteps_total': None, '_time_total': 112.54707932472229, '_episodes_total': None}\n"
          ]
        },
        {
          "output_type": "stream",
          "name": "stdout",
          "text": [
            "== Status ==\n",
            "Current time: 2022-07-26 14:38:01 (running for 00:04:58.11)\n",
            "Memory usage on this node: 2.5/12.7 GiB\n",
            "Using MedianStoppingRule: num_stopped=2.\n",
            "Resources requested: 2.0/2 CPUs, 0/0 GPUs, 0.0/7.47 GiB heap, 0.0/3.73 GiB objects\n",
            "Result logdir: /root/ray_results/trainable_func_2022-07-26_14-33-03\n",
            "Number of trials: 16/50 (6 PAUSED, 4 RUNNING, 6 TERMINATED)\n",
            "\n",
            "\n",
            "Trial trainable_func_8c5b9ef6 reported epoch=0,loss=0.8088894002656316,should_checkpoint=True with parameters={'act1 ': 'tanh', 'act2': 'relu', 'act3': 'selu', 'lr': 0.0008, 'batch_size': 32, 'hidden_dim1': 120.0, 'hidden_dim2': 120.0, 'hidden_dim3': 135.0}.\n",
            "Trial trainable_func_69e07374 reported epoch=7,loss=0.5253351029854185,should_checkpoint=True with parameters={'act1 ': 'relu', 'act2': 'relu', 'act3': 'relu', 'lr': 0.0005, 'batch_size': 8, 'hidden_dim1': 135.0, 'hidden_dim2': 300.0, 'hidden_dim3': 330.0}.\n",
            "Trial trainable_func_87539166 reported epoch=7,loss=0.5039651142111199,should_checkpoint=True with parameters={'act1 ': 'selu', 'act2': 'tanh', 'act3': 'relu', 'lr': 0.0007, 'batch_size': 32, 'hidden_dim1': 165.0, 'hidden_dim2': 120.0, 'hidden_dim3': 225.0}.\n",
            "Trial trainable_func_db5c1630 reported epoch=0,loss=0.05458948759528219,should_checkpoint=True with parameters={'act1 ': 'relu', 'act2': 'relu', 'act3': 'relu', 'lr': 0.001, 'batch_size': 16, 'hidden_dim1': 240.0, 'hidden_dim2': 240.0, 'hidden_dim3': 210.0}.\n"
          ]
        },
        {
          "output_type": "stream",
          "name": "stderr",
          "text": [
            "\u001b[2m\u001b[36m(func pid=269297)\u001b[0m 2022-07-26 14:38:05,574\tINFO trainable.py:589 -- Restored on 172.28.0.2 from checkpoint: /root/ray_results/trainable_func_2022-07-26_14-33-03/trainable_func_db5c1630_5_act1=relu,act2=relu,act3=relu,batch_size=16,hidden_dim1=240.0000,hidden_dim2=240.0000,hidden_dim3=210.00_2022-07-26_14-33-40/checkpoint_tmp0bd071/./\n",
            "\u001b[2m\u001b[36m(func pid=269297)\u001b[0m 2022-07-26 14:38:05,580\tINFO trainable.py:597 -- Current state after restoring: {'_iteration': 27, '_timesteps_total': None, '_time_total': 117.01424098014832, '_episodes_total': None}\n"
          ]
        },
        {
          "output_type": "stream",
          "name": "stdout",
          "text": [
            "== Status ==\n",
            "Current time: 2022-07-26 14:38:06 (running for 00:05:03.40)\n",
            "Memory usage on this node: 2.5/12.7 GiB\n",
            "Using MedianStoppingRule: num_stopped=2.\n",
            "Resources requested: 2.0/2 CPUs, 0/0 GPUs, 0.0/7.47 GiB heap, 0.0/3.73 GiB objects\n",
            "Result logdir: /root/ray_results/trainable_func_2022-07-26_14-33-03\n",
            "Number of trials: 16/50 (6 PAUSED, 4 RUNNING, 6 TERMINATED)\n",
            "\n",
            "\n",
            "Trial trainable_func_8c5b9ef6 reported epoch=3,loss=0.535458122059842,should_checkpoint=True with parameters={'act1 ': 'tanh', 'act2': 'relu', 'act3': 'selu', 'lr': 0.0008, 'batch_size': 32, 'hidden_dim1': 120.0, 'hidden_dim2': 120.0, 'hidden_dim3': 135.0}.\n",
            "Trial trainable_func_87539166 reported epoch=10,loss=0.5208464922374151,should_checkpoint=True with parameters={'act1 ': 'selu', 'act2': 'tanh', 'act3': 'relu', 'lr': 0.0007, 'batch_size': 32, 'hidden_dim1': 165.0, 'hidden_dim2': 120.0, 'hidden_dim3': 225.0}.\n"
          ]
        },
        {
          "output_type": "stream",
          "name": "stderr",
          "text": [
            "\u001b[2m\u001b[36m(func pid=269297)\u001b[0m 2022-07-26 14:38:10,252\tINFO trainable.py:589 -- Restored on 172.28.0.2 from checkpoint: /root/ray_results/trainable_func_2022-07-26_14-33-03/trainable_func_db5c1630_5_act1=relu,act2=relu,act3=relu,batch_size=16,hidden_dim1=240.0000,hidden_dim2=240.0000,hidden_dim3=210.00_2022-07-26_14-33-40/checkpoint_tmpb07bcd/./\n",
            "\u001b[2m\u001b[36m(func pid=269297)\u001b[0m 2022-07-26 14:38:10,252\tINFO trainable.py:597 -- Current state after restoring: {'_iteration': 28, '_timesteps_total': None, '_time_total': 121.07639861106873, '_episodes_total': None}\n",
            "\u001b[2m\u001b[36m(func pid=269252)\u001b[0m 2022-07-26 14:38:10,880\tINFO trainable.py:589 -- Restored on 172.28.0.2 from checkpoint: /root/ray_results/trainable_func_2022-07-26_14-33-03/trainable_func_f19bcd82_6_act1=tanh,act2=tanh,act3=selu,batch_size=8,hidden_dim1=225.0000,hidden_dim2=315.0000,hidden_dim3=315.000_2022-07-26_14-33-43/checkpoint_tmp0d3f52/./\n",
            "\u001b[2m\u001b[36m(func pid=269252)\u001b[0m 2022-07-26 14:38:10,880\tINFO trainable.py:597 -- Current state after restoring: {'_iteration': 10, '_timesteps_total': None, '_time_total': 92.45124506950378, '_episodes_total': None}\n"
          ]
        },
        {
          "output_type": "stream",
          "name": "stdout",
          "text": [
            "Trial trainable_func_69e07374 reported epoch=8,loss=0.5262495417540113,should_checkpoint=True with parameters={'act1 ': 'relu', 'act2': 'relu', 'act3': 'relu', 'lr': 0.0005, 'batch_size': 8, 'hidden_dim1': 135.0, 'hidden_dim2': 300.0, 'hidden_dim3': 330.0}.\n",
            "Trial trainable_func_8c5b9ef6 reported epoch=6,loss=0.5281927915257507,should_checkpoint=True with parameters={'act1 ': 'tanh', 'act2': 'relu', 'act3': 'selu', 'lr': 0.0008, 'batch_size': 32, 'hidden_dim1': 120.0, 'hidden_dim2': 120.0, 'hidden_dim3': 135.0}.\n",
            "== Status ==\n",
            "Current time: 2022-07-26 14:38:12 (running for 00:05:09.28)\n",
            "Memory usage on this node: 2.5/12.7 GiB\n",
            "Using MedianStoppingRule: num_stopped=2.\n",
            "Resources requested: 2.0/2 CPUs, 0/0 GPUs, 0.0/7.47 GiB heap, 0.0/3.73 GiB objects\n",
            "Result logdir: /root/ray_results/trainable_func_2022-07-26_14-33-03\n",
            "Number of trials: 16/50 (6 PAUSED, 4 RUNNING, 6 TERMINATED)\n",
            "\n",
            "\n",
            "Trial trainable_func_db5c1630 reported epoch=0,loss=0.06179983799759332,should_checkpoint=True with parameters={'act1 ': 'relu', 'act2': 'relu', 'act3': 'relu', 'lr': 0.001, 'batch_size': 16, 'hidden_dim1': 240.0, 'hidden_dim2': 240.0, 'hidden_dim3': 210.0}.\n"
          ]
        },
        {
          "output_type": "stream",
          "name": "stderr",
          "text": [
            "\u001b[2m\u001b[36m(func pid=269297)\u001b[0m 2022-07-26 14:38:14,787\tINFO trainable.py:589 -- Restored on 172.28.0.2 from checkpoint: /root/ray_results/trainable_func_2022-07-26_14-33-03/trainable_func_db5c1630_5_act1=relu,act2=relu,act3=relu,batch_size=16,hidden_dim1=240.0000,hidden_dim2=240.0000,hidden_dim3=210.00_2022-07-26_14-33-40/checkpoint_tmp2d0dfa/./\n",
            "\u001b[2m\u001b[36m(func pid=269297)\u001b[0m 2022-07-26 14:38:14,787\tINFO trainable.py:597 -- Current state after restoring: {'_iteration': 29, '_timesteps_total': None, '_time_total': 124.8953070640564, '_episodes_total': None}\n"
          ]
        },
        {
          "output_type": "stream",
          "name": "stdout",
          "text": [
            "Trial trainable_func_f19bcd82 reported epoch=0,loss=0.24944317452414524,should_checkpoint=True with parameters={'act1 ': 'tanh', 'act2': 'tanh', 'act3': 'selu', 'lr': 0.0007, 'batch_size': 8, 'hidden_dim1': 225.0, 'hidden_dim2': 315.0, 'hidden_dim3': 315.0}.\n",
            "== Status ==\n",
            "Current time: 2022-07-26 14:38:18 (running for 00:05:15.26)\n",
            "Memory usage on this node: 2.5/12.7 GiB\n",
            "Using MedianStoppingRule: num_stopped=2.\n",
            "Resources requested: 2.0/2 CPUs, 0/0 GPUs, 0.0/7.47 GiB heap, 0.0/3.73 GiB objects\n",
            "Result logdir: /root/ray_results/trainable_func_2022-07-26_14-33-03\n",
            "Number of trials: 16/50 (6 PAUSED, 4 RUNNING, 6 TERMINATED)\n",
            "\n",
            "\n",
            "Trial trainable_func_69e07374 reported epoch=9,loss=0.5286586019267637,should_checkpoint=True with parameters={'act1 ': 'relu', 'act2': 'relu', 'act3': 'relu', 'lr': 0.0005, 'batch_size': 8, 'hidden_dim1': 135.0, 'hidden_dim2': 300.0, 'hidden_dim3': 330.0}.\n",
            "Trial trainable_func_8c5b9ef6 reported epoch=10,loss=0.5269209718692067,should_checkpoint=True with parameters={'act1 ': 'tanh', 'act2': 'relu', 'act3': 'selu', 'lr': 0.0008, 'batch_size': 32, 'hidden_dim1': 120.0, 'hidden_dim2': 120.0, 'hidden_dim3': 135.0}.\n"
          ]
        },
        {
          "output_type": "stream",
          "name": "stderr",
          "text": [
            "\u001b[2m\u001b[36m(func pid=269252)\u001b[0m 2022-07-26 14:38:19,009\tINFO trainable.py:589 -- Restored on 172.28.0.2 from checkpoint: /root/ray_results/trainable_func_2022-07-26_14-33-03/trainable_func_f19bcd82_6_act1=tanh,act2=tanh,act3=selu,batch_size=8,hidden_dim1=225.0000,hidden_dim2=315.0000,hidden_dim3=315.000_2022-07-26_14-33-43/checkpoint_tmpe415f1/./\n",
            "\u001b[2m\u001b[36m(func pid=269252)\u001b[0m 2022-07-26 14:38:19,009\tINFO trainable.py:597 -- Current state after restoring: {'_iteration': 11, '_timesteps_total': None, '_time_total': 99.97268652915955, '_episodes_total': None}\n",
            "\u001b[2m\u001b[36m(func pid=269297)\u001b[0m 2022-07-26 14:38:19,601\tINFO trainable.py:589 -- Restored on 172.28.0.2 from checkpoint: /root/ray_results/trainable_func_2022-07-26_14-33-03/trainable_func_db5c1630_5_act1=relu,act2=relu,act3=relu,batch_size=16,hidden_dim1=240.0000,hidden_dim2=240.0000,hidden_dim3=210.00_2022-07-26_14-33-40/checkpoint_tmpefdc14/./\n",
            "\u001b[2m\u001b[36m(func pid=269297)\u001b[0m 2022-07-26 14:38:19,604\tINFO trainable.py:597 -- Current state after restoring: {'_iteration': 30, '_timesteps_total': None, '_time_total': 128.97417521476746, '_episodes_total': None}\n",
            "\u001b[2m\u001b[36m(func pid=269253)\u001b[0m 2022-07-26 14:38:20,353\tINFO trainable.py:589 -- Restored on 172.28.0.2 from checkpoint: /root/ray_results/trainable_func_2022-07-26_14-33-03/trainable_func_f328243e_7_act1=selu,act2=relu,act3=tanh,batch_size=64,hidden_dim1=120.0000,hidden_dim2=330.0000,hidden_dim3=315.00_2022-07-26_14-33-45/checkpoint_tmpa65596/./\n",
            "\u001b[2m\u001b[36m(func pid=269253)\u001b[0m 2022-07-26 14:38:20,353\tINFO trainable.py:597 -- Current state after restoring: {'_iteration': 10, '_timesteps_total': None, '_time_total': 19.56964874267578, '_episodes_total': None}\n"
          ]
        },
        {
          "output_type": "stream",
          "name": "stdout",
          "text": [
            "Trial trainable_func_f328243e reported epoch=0,loss=0.21793762062043162,should_checkpoint=True with parameters={'act1 ': 'selu', 'act2': 'relu', 'act3': 'tanh', 'lr': 0.0009, 'batch_size': 64, 'hidden_dim1': 120.0, 'hidden_dim2': 330.0, 'hidden_dim3': 315.0}.\n"
          ]
        },
        {
          "output_type": "stream",
          "name": "stderr",
          "text": [
            "\u001b[2m\u001b[36m(func pid=269253)\u001b[0m 2022-07-26 14:38:22,407\tINFO trainable.py:589 -- Restored on 172.28.0.2 from checkpoint: /root/ray_results/trainable_func_2022-07-26_14-33-03/trainable_func_f328243e_7_act1=selu,act2=relu,act3=tanh,batch_size=64,hidden_dim1=120.0000,hidden_dim2=330.0000,hidden_dim3=315.00_2022-07-26_14-33-45/checkpoint_tmp72cf7a/./\n",
            "\u001b[2m\u001b[36m(func pid=269253)\u001b[0m 2022-07-26 14:38:22,407\tINFO trainable.py:597 -- Current state after restoring: {'_iteration': 11, '_timesteps_total': None, '_time_total': 21.032825231552124, '_episodes_total': None}\n"
          ]
        },
        {
          "output_type": "stream",
          "name": "stdout",
          "text": [
            "Trial trainable_func_db5c1630 reported epoch=0,loss=0.09368282521952147,should_checkpoint=True with parameters={'act1 ': 'relu', 'act2': 'relu', 'act3': 'relu', 'lr': 0.001, 'batch_size': 16, 'hidden_dim1': 240.0, 'hidden_dim2': 240.0, 'hidden_dim3': 210.0}.\n",
            "== Status ==\n",
            "Current time: 2022-07-26 14:38:23 (running for 00:05:20.47)\n",
            "Memory usage on this node: 2.5/12.7 GiB\n",
            "Using MedianStoppingRule: num_stopped=2.\n",
            "Resources requested: 2.0/2 CPUs, 0/0 GPUs, 0.0/7.47 GiB heap, 0.0/3.73 GiB objects\n",
            "Result logdir: /root/ray_results/trainable_func_2022-07-26_14-33-03\n",
            "Number of trials: 16/50 (6 PAUSED, 4 RUNNING, 6 TERMINATED)\n",
            "\n",
            "\n"
          ]
        },
        {
          "output_type": "stream",
          "name": "stderr",
          "text": [
            "\u001b[2m\u001b[36m(func pid=269297)\u001b[0m 2022-07-26 14:38:24,137\tINFO trainable.py:589 -- Restored on 172.28.0.2 from checkpoint: /root/ray_results/trainable_func_2022-07-26_14-33-03/trainable_func_db5c1630_5_act1=relu,act2=relu,act3=relu,batch_size=16,hidden_dim1=240.0000,hidden_dim2=240.0000,hidden_dim3=210.00_2022-07-26_14-33-40/checkpoint_tmp3606b5/./\n",
            "\u001b[2m\u001b[36m(func pid=269297)\u001b[0m 2022-07-26 14:38:24,143\tINFO trainable.py:597 -- Current state after restoring: {'_iteration': 31, '_timesteps_total': None, '_time_total': 132.98669004440308, '_episodes_total': None}\n",
            "\u001b[2m\u001b[36m(func pid=269253)\u001b[0m 2022-07-26 14:38:24,826\tINFO trainable.py:589 -- Restored on 172.28.0.2 from checkpoint: /root/ray_results/trainable_func_2022-07-26_14-33-03/trainable_func_f328243e_7_act1=selu,act2=relu,act3=tanh,batch_size=64,hidden_dim1=120.0000,hidden_dim2=330.0000,hidden_dim3=315.00_2022-07-26_14-33-45/checkpoint_tmpd72be0/./\n",
            "\u001b[2m\u001b[36m(func pid=269253)\u001b[0m 2022-07-26 14:38:24,826\tINFO trainable.py:597 -- Current state after restoring: {'_iteration': 12, '_timesteps_total': None, '_time_total': 22.397822856903076, '_episodes_total': None}\n"
          ]
        },
        {
          "output_type": "stream",
          "name": "stdout",
          "text": [
            "Trial trainable_func_69e07374 reported epoch=10,loss=0.524248734519922,should_checkpoint=True with parameters={'act1 ': 'relu', 'act2': 'relu', 'act3': 'relu', 'lr': 0.0005, 'batch_size': 8, 'hidden_dim1': 135.0, 'hidden_dim2': 300.0, 'hidden_dim3': 330.0}. This trial completed.\n",
            "Trial trainable_func_f19bcd82 reported epoch=0,loss=0.22377292576647326,should_checkpoint=True with parameters={'act1 ': 'tanh', 'act2': 'tanh', 'act3': 'selu', 'lr': 0.0007, 'batch_size': 8, 'hidden_dim1': 225.0, 'hidden_dim2': 315.0, 'hidden_dim3': 315.0}.\n"
          ]
        },
        {
          "output_type": "stream",
          "name": "stderr",
          "text": [
            "\u001b[2m\u001b[36m(func pid=269252)\u001b[0m 2022-07-26 14:38:26,624\tINFO trainable.py:589 -- Restored on 172.28.0.2 from checkpoint: /root/ray_results/trainable_func_2022-07-26_14-33-03/trainable_func_f19bcd82_6_act1=tanh,act2=tanh,act3=selu,batch_size=8,hidden_dim1=225.0000,hidden_dim2=315.0000,hidden_dim3=315.000_2022-07-26_14-33-43/checkpoint_tmp615311/./\n",
            "\u001b[2m\u001b[36m(func pid=269252)\u001b[0m 2022-07-26 14:38:26,624\tINFO trainable.py:597 -- Current state after restoring: {'_iteration': 12, '_timesteps_total': None, '_time_total': 106.79439616203308, '_episodes_total': None}\n",
            "\u001b[2m\u001b[36m(func pid=269253)\u001b[0m 2022-07-26 14:38:27,328\tINFO trainable.py:589 -- Restored on 172.28.0.2 from checkpoint: /root/ray_results/trainable_func_2022-07-26_14-33-03/trainable_func_f328243e_7_act1=selu,act2=relu,act3=tanh,batch_size=64,hidden_dim1=120.0000,hidden_dim2=330.0000,hidden_dim3=315.00_2022-07-26_14-33-45/checkpoint_tmpc9475b/./\n",
            "\u001b[2m\u001b[36m(func pid=269253)\u001b[0m 2022-07-26 14:38:27,328\tINFO trainable.py:597 -- Current state after restoring: {'_iteration': 13, '_timesteps_total': None, '_time_total': 23.85402536392212, '_episodes_total': None}\n"
          ]
        },
        {
          "output_type": "stream",
          "name": "stdout",
          "text": [
            "Trial trainable_func_9b7d283c reported epoch=0,loss=0.8579698345766125,should_checkpoint=True with parameters={'act1 ': 'relu', 'act2': 'relu', 'act3': 'selu', 'lr': 0.0009, 'batch_size': 64, 'hidden_dim1': 210.0, 'hidden_dim2': 165.0, 'hidden_dim3': 135.0}.\n"
          ]
        },
        {
          "output_type": "stream",
          "name": "stderr",
          "text": [
            "\u001b[2m\u001b[36m(func pid=269297)\u001b[0m 2022-07-26 14:38:28,343\tINFO trainable.py:589 -- Restored on 172.28.0.2 from checkpoint: /root/ray_results/trainable_func_2022-07-26_14-33-03/trainable_func_db5c1630_5_act1=relu,act2=relu,act3=relu,batch_size=16,hidden_dim1=240.0000,hidden_dim2=240.0000,hidden_dim3=210.00_2022-07-26_14-33-40/checkpoint_tmp6c0b61/./\n",
            "\u001b[2m\u001b[36m(func pid=269297)\u001b[0m 2022-07-26 14:38:28,343\tINFO trainable.py:597 -- Current state after restoring: {'_iteration': 32, '_timesteps_total': None, '_time_total': 136.4709930419922, '_episodes_total': None}\n"
          ]
        },
        {
          "output_type": "stream",
          "name": "stdout",
          "text": [
            "Trial trainable_func_f328243e reported epoch=0,loss=0.12140825408846745,should_checkpoint=True with parameters={'act1 ': 'selu', 'act2': 'relu', 'act3': 'tanh', 'lr': 0.0009, 'batch_size': 64, 'hidden_dim1': 120.0, 'hidden_dim2': 330.0, 'hidden_dim3': 315.0}.\n",
            "== Status ==\n",
            "Current time: 2022-07-26 14:38:28 (running for 00:05:25.79)\n",
            "Memory usage on this node: 2.5/12.7 GiB\n",
            "Using MedianStoppingRule: num_stopped=3.\n",
            "Resources requested: 2.0/2 CPUs, 0/0 GPUs, 0.0/7.47 GiB heap, 0.0/3.73 GiB objects\n",
            "Result logdir: /root/ray_results/trainable_func_2022-07-26_14-33-03\n",
            "Number of trials: 17/50 (6 PAUSED, 4 RUNNING, 7 TERMINATED)\n",
            "\n",
            "\n"
          ]
        },
        {
          "output_type": "stream",
          "name": "stderr",
          "text": [
            "\u001b[2m\u001b[36m(func pid=269253)\u001b[0m 2022-07-26 14:38:29,649\tINFO trainable.py:589 -- Restored on 172.28.0.2 from checkpoint: /root/ray_results/trainable_func_2022-07-26_14-33-03/trainable_func_f328243e_7_act1=selu,act2=relu,act3=tanh,batch_size=64,hidden_dim1=120.0000,hidden_dim2=330.0000,hidden_dim3=315.00_2022-07-26_14-33-45/checkpoint_tmp39d503/./\n",
            "\u001b[2m\u001b[36m(func pid=269253)\u001b[0m 2022-07-26 14:38:29,649\tINFO trainable.py:597 -- Current state after restoring: {'_iteration': 14, '_timesteps_total': None, '_time_total': 25.445011854171753, '_episodes_total': None}\n",
            "\u001b[2m\u001b[36m(func pid=269253)\u001b[0m 2022-07-26 14:38:32,027\tINFO trainable.py:589 -- Restored on 172.28.0.2 from checkpoint: /root/ray_results/trainable_func_2022-07-26_14-33-03/trainable_func_f328243e_7_act1=selu,act2=relu,act3=tanh,batch_size=64,hidden_dim1=120.0000,hidden_dim2=330.0000,hidden_dim3=315.00_2022-07-26_14-33-45/checkpoint_tmpec8b2b/./\n",
            "\u001b[2m\u001b[36m(func pid=269253)\u001b[0m 2022-07-26 14:38:32,027\tINFO trainable.py:597 -- Current state after restoring: {'_iteration': 15, '_timesteps_total': None, '_time_total': 27.00418496131897, '_episodes_total': None}\n"
          ]
        },
        {
          "output_type": "stream",
          "name": "stdout",
          "text": [
            "Trial trainable_func_db5c1630 reported epoch=0,loss=0.052470442026718335,should_checkpoint=True with parameters={'act1 ': 'relu', 'act2': 'relu', 'act3': 'relu', 'lr': 0.001, 'batch_size': 16, 'hidden_dim1': 240.0, 'hidden_dim2': 240.0, 'hidden_dim3': 210.0}.\n"
          ]
        },
        {
          "output_type": "stream",
          "name": "stderr",
          "text": [
            "\u001b[2m\u001b[36m(func pid=269297)\u001b[0m 2022-07-26 14:38:32,945\tINFO trainable.py:589 -- Restored on 172.28.0.2 from checkpoint: /root/ray_results/trainable_func_2022-07-26_14-33-03/trainable_func_db5c1630_5_act1=relu,act2=relu,act3=relu,batch_size=16,hidden_dim1=240.0000,hidden_dim2=240.0000,hidden_dim3=210.00_2022-07-26_14-33-40/checkpoint_tmpd23681/./\n",
            "\u001b[2m\u001b[36m(func pid=269297)\u001b[0m 2022-07-26 14:38:32,945\tINFO trainable.py:597 -- Current state after restoring: {'_iteration': 33, '_timesteps_total': None, '_time_total': 140.36534452438354, '_episodes_total': None}\n"
          ]
        },
        {
          "output_type": "stream",
          "name": "stdout",
          "text": [
            "Trial trainable_func_9b7d283c reported epoch=5,loss=0.5491659819721507,should_checkpoint=True with parameters={'act1 ': 'relu', 'act2': 'relu', 'act3': 'selu', 'lr': 0.0009, 'batch_size': 64, 'hidden_dim1': 210.0, 'hidden_dim2': 165.0, 'hidden_dim3': 135.0}.\n",
            "== Status ==\n",
            "Current time: 2022-07-26 14:38:34 (running for 00:05:31.07)\n",
            "Memory usage on this node: 2.4/12.7 GiB\n",
            "Using MedianStoppingRule: num_stopped=3.\n",
            "Resources requested: 1.5/2 CPUs, 0/0 GPUs, 0.0/7.47 GiB heap, 0.0/3.73 GiB objects\n",
            "Result logdir: /root/ray_results/trainable_func_2022-07-26_14-33-03\n",
            "Number of trials: 17/50 (7 PAUSED, 3 RUNNING, 7 TERMINATED)\n",
            "\n",
            "\n",
            "Trial trainable_func_f19bcd82 reported epoch=0,loss=0.17985138275639578,should_checkpoint=True with parameters={'act1 ': 'tanh', 'act2': 'tanh', 'act3': 'selu', 'lr': 0.0007, 'batch_size': 8, 'hidden_dim1': 225.0, 'hidden_dim2': 315.0, 'hidden_dim3': 315.0}.\n"
          ]
        },
        {
          "output_type": "stream",
          "name": "stderr",
          "text": [
            "\u001b[2m\u001b[36m(func pid=269253)\u001b[0m 2022-07-26 14:38:34,254\tINFO trainable.py:589 -- Restored on 172.28.0.2 from checkpoint: /root/ray_results/trainable_func_2022-07-26_14-33-03/trainable_func_f328243e_7_act1=selu,act2=relu,act3=tanh,batch_size=64,hidden_dim1=120.0000,hidden_dim2=330.0000,hidden_dim3=315.00_2022-07-26_14-33-45/checkpoint_tmped7c4d/./\n",
            "\u001b[2m\u001b[36m(func pid=269253)\u001b[0m 2022-07-26 14:38:34,254\tINFO trainable.py:597 -- Current state after restoring: {'_iteration': 16, '_timesteps_total': None, '_time_total': 28.672176122665405, '_episodes_total': None}\n",
            "\u001b[2m\u001b[36m(func pid=269252)\u001b[0m 2022-07-26 14:38:34,727\tINFO trainable.py:589 -- Restored on 172.28.0.2 from checkpoint: /root/ray_results/trainable_func_2022-07-26_14-33-03/trainable_func_f19bcd82_6_act1=tanh,act2=tanh,act3=selu,batch_size=8,hidden_dim1=225.0000,hidden_dim2=315.0000,hidden_dim3=315.000_2022-07-26_14-33-43/checkpoint_tmp117e9a/./\n",
            "\u001b[2m\u001b[36m(func pid=269252)\u001b[0m 2022-07-26 14:38:34,727\tINFO trainable.py:597 -- Current state after restoring: {'_iteration': 13, '_timesteps_total': None, '_time_total': 114.05013489723206, '_episodes_total': None}\n"
          ]
        },
        {
          "output_type": "stream",
          "name": "stdout",
          "text": [
            "Trial trainable_func_f328243e reported epoch=0,loss=0.07013105380283675,should_checkpoint=True with parameters={'act1 ': 'selu', 'act2': 'relu', 'act3': 'tanh', 'lr': 0.0009, 'batch_size': 64, 'hidden_dim1': 120.0, 'hidden_dim2': 330.0, 'hidden_dim3': 315.0}.\n"
          ]
        },
        {
          "output_type": "stream",
          "name": "stderr",
          "text": [
            "\u001b[2m\u001b[36m(func pid=269253)\u001b[0m 2022-07-26 14:38:36,211\tINFO trainable.py:589 -- Restored on 172.28.0.2 from checkpoint: /root/ray_results/trainable_func_2022-07-26_14-33-03/trainable_func_f328243e_7_act1=selu,act2=relu,act3=tanh,batch_size=64,hidden_dim1=120.0000,hidden_dim2=330.0000,hidden_dim3=315.00_2022-07-26_14-33-45/checkpoint_tmpcd9518/./\n",
            "\u001b[2m\u001b[36m(func pid=269253)\u001b[0m 2022-07-26 14:38:36,214\tINFO trainable.py:597 -- Current state after restoring: {'_iteration': 17, '_timesteps_total': None, '_time_total': 29.871811628341675, '_episodes_total': None}\n",
            "\u001b[2m\u001b[36m(func pid=269297)\u001b[0m 2022-07-26 14:38:37,058\tINFO trainable.py:589 -- Restored on 172.28.0.2 from checkpoint: /root/ray_results/trainable_func_2022-07-26_14-33-03/trainable_func_db5c1630_5_act1=relu,act2=relu,act3=relu,batch_size=16,hidden_dim1=240.0000,hidden_dim2=240.0000,hidden_dim3=210.00_2022-07-26_14-33-40/checkpoint_tmp8859bb/./\n",
            "\u001b[2m\u001b[36m(func pid=269297)\u001b[0m 2022-07-26 14:38:37,058\tINFO trainable.py:597 -- Current state after restoring: {'_iteration': 34, '_timesteps_total': None, '_time_total': 143.7622001171112, '_episodes_total': None}\n"
          ]
        },
        {
          "output_type": "stream",
          "name": "stdout",
          "text": [
            "Trial trainable_func_9b7d283c reported epoch=9,loss=0.5366267415862754,should_checkpoint=True with parameters={'act1 ': 'relu', 'act2': 'relu', 'act3': 'selu', 'lr': 0.0009, 'batch_size': 64, 'hidden_dim1': 210.0, 'hidden_dim2': 165.0, 'hidden_dim3': 135.0}. This trial completed.\n"
          ]
        },
        {
          "output_type": "stream",
          "name": "stderr",
          "text": [
            "\u001b[2m\u001b[36m(func pid=269253)\u001b[0m 2022-07-26 14:38:38,501\tINFO trainable.py:589 -- Restored on 172.28.0.2 from checkpoint: /root/ray_results/trainable_func_2022-07-26_14-33-03/trainable_func_f328243e_7_act1=selu,act2=relu,act3=tanh,batch_size=64,hidden_dim1=120.0000,hidden_dim2=330.0000,hidden_dim3=315.00_2022-07-26_14-33-45/checkpoint_tmpe666ca/./\n",
            "\u001b[2m\u001b[36m(func pid=269253)\u001b[0m 2022-07-26 14:38:38,501\tINFO trainable.py:597 -- Current state after restoring: {'_iteration': 18, '_timesteps_total': None, '_time_total': 31.394298791885376, '_episodes_total': None}\n"
          ]
        },
        {
          "output_type": "stream",
          "name": "stdout",
          "text": [
            "== Status ==\n",
            "Current time: 2022-07-26 14:38:40 (running for 00:05:36.99)\n",
            "Memory usage on this node: 2.5/12.7 GiB\n",
            "Using MedianStoppingRule: num_stopped=4.\n",
            "Resources requested: 2.0/2 CPUs, 0/0 GPUs, 0.0/7.47 GiB heap, 0.0/3.73 GiB objects\n",
            "Result logdir: /root/ray_results/trainable_func_2022-07-26_14-33-03\n",
            "Number of trials: 18/50 (6 PAUSED, 4 RUNNING, 8 TERMINATED)\n",
            "\n",
            "\n",
            "Trial trainable_func_a306f592 reported epoch=0,loss=0.6960311268322146,should_checkpoint=True with parameters={'act1 ': 'tanh', 'act2': 'selu', 'act3': 'selu', 'lr': 0.0007, 'batch_size': 32, 'hidden_dim1': 240.0, 'hidden_dim2': 210.0, 'hidden_dim3': 195.0}.\n"
          ]
        },
        {
          "output_type": "stream",
          "name": "stderr",
          "text": [
            "\u001b[2m\u001b[36m(func pid=269253)\u001b[0m 2022-07-26 14:38:40,778\tINFO trainable.py:589 -- Restored on 172.28.0.2 from checkpoint: /root/ray_results/trainable_func_2022-07-26_14-33-03/trainable_func_f328243e_7_act1=selu,act2=relu,act3=tanh,batch_size=64,hidden_dim1=120.0000,hidden_dim2=330.0000,hidden_dim3=315.00_2022-07-26_14-33-45/checkpoint_tmpe8206a/./\n",
            "\u001b[2m\u001b[36m(func pid=269253)\u001b[0m 2022-07-26 14:38:40,785\tINFO trainable.py:597 -- Current state after restoring: {'_iteration': 19, '_timesteps_total': None, '_time_total': 33.022730350494385, '_episodes_total': None}\n"
          ]
        },
        {
          "output_type": "stream",
          "name": "stdout",
          "text": [
            "Trial trainable_func_db5c1630 reported epoch=0,loss=0.053390959556605756,should_checkpoint=True with parameters={'act1 ': 'relu', 'act2': 'relu', 'act3': 'relu', 'lr': 0.001, 'batch_size': 16, 'hidden_dim1': 240.0, 'hidden_dim2': 240.0, 'hidden_dim3': 210.0}.\n"
          ]
        },
        {
          "output_type": "stream",
          "name": "stderr",
          "text": [
            "\u001b[2m\u001b[36m(func pid=269297)\u001b[0m 2022-07-26 14:38:41,806\tINFO trainable.py:589 -- Restored on 172.28.0.2 from checkpoint: /root/ray_results/trainable_func_2022-07-26_14-33-03/trainable_func_db5c1630_5_act1=relu,act2=relu,act3=relu,batch_size=16,hidden_dim1=240.0000,hidden_dim2=240.0000,hidden_dim3=210.00_2022-07-26_14-33-40/checkpoint_tmp620ee9/./\n",
            "\u001b[2m\u001b[36m(func pid=269297)\u001b[0m 2022-07-26 14:38:41,816\tINFO trainable.py:597 -- Current state after restoring: {'_iteration': 35, '_timesteps_total': None, '_time_total': 147.67538571357727, '_episodes_total': None}\n"
          ]
        },
        {
          "output_type": "stream",
          "name": "stdout",
          "text": [
            "Trial trainable_func_f328243e reported epoch=0,loss=0.046237681590111664,should_checkpoint=True with parameters={'act1 ': 'selu', 'act2': 'relu', 'act3': 'tanh', 'lr': 0.0009, 'batch_size': 64, 'hidden_dim1': 120.0, 'hidden_dim2': 330.0, 'hidden_dim3': 315.0}.\n",
            "Trial trainable_func_f19bcd82 reported epoch=0,loss=0.18953877798868382,should_checkpoint=True with parameters={'act1 ': 'tanh', 'act2': 'tanh', 'act3': 'selu', 'lr': 0.0007, 'batch_size': 8, 'hidden_dim1': 225.0, 'hidden_dim2': 315.0, 'hidden_dim3': 315.0}.\n"
          ]
        },
        {
          "output_type": "stream",
          "name": "stderr",
          "text": [
            "\u001b[2m\u001b[36m(func pid=269253)\u001b[0m 2022-07-26 14:38:42,763\tINFO trainable.py:589 -- Restored on 172.28.0.2 from checkpoint: /root/ray_results/trainable_func_2022-07-26_14-33-03/trainable_func_f328243e_7_act1=selu,act2=relu,act3=tanh,batch_size=64,hidden_dim1=120.0000,hidden_dim2=330.0000,hidden_dim3=315.00_2022-07-26_14-33-45/checkpoint_tmp984539/./\n",
            "\u001b[2m\u001b[36m(func pid=269253)\u001b[0m 2022-07-26 14:38:42,764\tINFO trainable.py:597 -- Current state after restoring: {'_iteration': 20, '_timesteps_total': None, '_time_total': 34.38738012313843, '_episodes_total': None}\n",
            "\u001b[2m\u001b[36m(func pid=269252)\u001b[0m 2022-07-26 14:38:43,286\tINFO trainable.py:589 -- Restored on 172.28.0.2 from checkpoint: /root/ray_results/trainable_func_2022-07-26_14-33-03/trainable_func_f19bcd82_6_act1=tanh,act2=tanh,act3=selu,batch_size=8,hidden_dim1=225.0000,hidden_dim2=315.0000,hidden_dim3=315.000_2022-07-26_14-33-43/checkpoint_tmped80ab/./\n",
            "\u001b[2m\u001b[36m(func pid=269252)\u001b[0m 2022-07-26 14:38:43,286\tINFO trainable.py:597 -- Current state after restoring: {'_iteration': 14, '_timesteps_total': None, '_time_total': 121.9955747127533, '_episodes_total': None}\n",
            "\u001b[2m\u001b[36m(func pid=269253)\u001b[0m 2022-07-26 14:38:44,608\tINFO trainable.py:589 -- Restored on 172.28.0.2 from checkpoint: /root/ray_results/trainable_func_2022-07-26_14-33-03/trainable_func_f328243e_7_act1=selu,act2=relu,act3=tanh,batch_size=64,hidden_dim1=120.0000,hidden_dim2=330.0000,hidden_dim3=315.00_2022-07-26_14-33-45/checkpoint_tmp2bc4fb/./\n",
            "\u001b[2m\u001b[36m(func pid=269253)\u001b[0m 2022-07-26 14:38:44,612\tINFO trainable.py:597 -- Current state after restoring: {'_iteration': 21, '_timesteps_total': None, '_time_total': 35.599326610565186, '_episodes_total': None}\n"
          ]
        },
        {
          "output_type": "stream",
          "name": "stdout",
          "text": [
            "== Status ==\n",
            "Current time: 2022-07-26 14:38:45 (running for 00:05:42.04)\n",
            "Memory usage on this node: 2.5/12.7 GiB\n",
            "Using MedianStoppingRule: num_stopped=4.\n",
            "Resources requested: 2.0/2 CPUs, 0/0 GPUs, 0.0/7.47 GiB heap, 0.0/3.73 GiB objects\n",
            "Result logdir: /root/ray_results/trainable_func_2022-07-26_14-33-03\n",
            "Number of trials: 18/50 (6 PAUSED, 4 RUNNING, 8 TERMINATED)\n",
            "\n",
            "\n"
          ]
        },
        {
          "output_type": "stream",
          "name": "stderr",
          "text": [
            "\u001b[2m\u001b[36m(func pid=269297)\u001b[0m 2022-07-26 14:38:46,095\tINFO trainable.py:589 -- Restored on 172.28.0.2 from checkpoint: /root/ray_results/trainable_func_2022-07-26_14-33-03/trainable_func_db5c1630_5_act1=relu,act2=relu,act3=relu,batch_size=16,hidden_dim1=240.0000,hidden_dim2=240.0000,hidden_dim3=210.00_2022-07-26_14-33-40/checkpoint_tmp67f281/./\n",
            "\u001b[2m\u001b[36m(func pid=269297)\u001b[0m 2022-07-26 14:38:46,095\tINFO trainable.py:597 -- Current state after restoring: {'_iteration': 36, '_timesteps_total': None, '_time_total': 151.24169778823853, '_episodes_total': None}\n",
            "\u001b[2m\u001b[36m(func pid=269253)\u001b[0m 2022-07-26 14:38:47,004\tINFO trainable.py:589 -- Restored on 172.28.0.2 from checkpoint: /root/ray_results/trainable_func_2022-07-26_14-33-03/trainable_func_f328243e_7_act1=selu,act2=relu,act3=tanh,batch_size=64,hidden_dim1=120.0000,hidden_dim2=330.0000,hidden_dim3=315.00_2022-07-26_14-33-45/checkpoint_tmp14632e/./\n",
            "\u001b[2m\u001b[36m(func pid=269253)\u001b[0m 2022-07-26 14:38:47,004\tINFO trainable.py:597 -- Current state after restoring: {'_iteration': 22, '_timesteps_total': None, '_time_total': 37.03565812110901, '_episodes_total': None}\n"
          ]
        },
        {
          "output_type": "stream",
          "name": "stdout",
          "text": [
            "Trial trainable_func_a306f592 reported epoch=3,loss=0.5490730959829079,should_checkpoint=True with parameters={'act1 ': 'tanh', 'act2': 'selu', 'act3': 'selu', 'lr': 0.0007, 'batch_size': 32, 'hidden_dim1': 240.0, 'hidden_dim2': 210.0, 'hidden_dim3': 195.0}.\n",
            "Trial trainable_func_f328243e reported epoch=0,loss=0.03650963938719653,should_checkpoint=True with parameters={'act1 ': 'selu', 'act2': 'relu', 'act3': 'tanh', 'lr': 0.0009, 'batch_size': 64, 'hidden_dim1': 120.0, 'hidden_dim2': 330.0, 'hidden_dim3': 315.0}.\n"
          ]
        },
        {
          "output_type": "stream",
          "name": "stderr",
          "text": [
            "\u001b[2m\u001b[36m(func pid=269253)\u001b[0m 2022-07-26 14:38:49,136\tINFO trainable.py:589 -- Restored on 172.28.0.2 from checkpoint: /root/ray_results/trainable_func_2022-07-26_14-33-03/trainable_func_f328243e_7_act1=selu,act2=relu,act3=tanh,batch_size=64,hidden_dim1=120.0000,hidden_dim2=330.0000,hidden_dim3=315.00_2022-07-26_14-33-45/checkpoint_tmp070b46/./\n",
            "\u001b[2m\u001b[36m(func pid=269253)\u001b[0m 2022-07-26 14:38:49,136\tINFO trainable.py:597 -- Current state after restoring: {'_iteration': 23, '_timesteps_total': None, '_time_total': 38.46349263191223, '_episodes_total': None}\n"
          ]
        },
        {
          "output_type": "stream",
          "name": "stdout",
          "text": [
            "Trial trainable_func_db5c1630 reported epoch=0,loss=0.04510394018100134,should_checkpoint=True with parameters={'act1 ': 'relu', 'act2': 'relu', 'act3': 'relu', 'lr': 0.001, 'batch_size': 16, 'hidden_dim1': 240.0, 'hidden_dim2': 240.0, 'hidden_dim3': 210.0}.\n",
            "== Status ==\n",
            "Current time: 2022-07-26 14:38:50 (running for 00:05:47.36)\n",
            "Memory usage on this node: 2.5/12.7 GiB\n",
            "Using MedianStoppingRule: num_stopped=4.\n",
            "Resources requested: 1.5/2 CPUs, 0/0 GPUs, 0.0/7.47 GiB heap, 0.0/3.73 GiB objects\n",
            "Result logdir: /root/ray_results/trainable_func_2022-07-26_14-33-03\n",
            "Number of trials: 18/50 (7 PAUSED, 3 RUNNING, 8 TERMINATED)\n",
            "\n",
            "\n",
            "Trial trainable_func_f19bcd82 reported epoch=0,loss=0.19087629559735825,should_checkpoint=True with parameters={'act1 ': 'tanh', 'act2': 'tanh', 'act3': 'selu', 'lr': 0.0007, 'batch_size': 8, 'hidden_dim1': 225.0, 'hidden_dim2': 315.0, 'hidden_dim3': 315.0}.\n"
          ]
        },
        {
          "output_type": "stream",
          "name": "stderr",
          "text": [
            "\u001b[2m\u001b[36m(func pid=269297)\u001b[0m 2022-07-26 14:38:50,540\tINFO trainable.py:589 -- Restored on 172.28.0.2 from checkpoint: /root/ray_results/trainable_func_2022-07-26_14-33-03/trainable_func_db5c1630_5_act1=relu,act2=relu,act3=relu,batch_size=16,hidden_dim1=240.0000,hidden_dim2=240.0000,hidden_dim3=210.00_2022-07-26_14-33-40/checkpoint_tmpdcaf56/./\n",
            "\u001b[2m\u001b[36m(func pid=269297)\u001b[0m 2022-07-26 14:38:50,540\tINFO trainable.py:597 -- Current state after restoring: {'_iteration': 37, '_timesteps_total': None, '_time_total': 154.96648406982422, '_episodes_total': None}\n",
            "\u001b[2m\u001b[36m(func pid=269252)\u001b[0m 2022-07-26 14:38:51,169\tINFO trainable.py:589 -- Restored on 172.28.0.2 from checkpoint: /root/ray_results/trainable_func_2022-07-26_14-33-03/trainable_func_f19bcd82_6_act1=tanh,act2=tanh,act3=selu,batch_size=8,hidden_dim1=225.0000,hidden_dim2=315.0000,hidden_dim3=315.000_2022-07-26_14-33-43/checkpoint_tmpa60120/./\n",
            "\u001b[2m\u001b[36m(func pid=269252)\u001b[0m 2022-07-26 14:38:51,169\tINFO trainable.py:597 -- Current state after restoring: {'_iteration': 15, '_timesteps_total': None, '_time_total': 129.3487069606781, '_episodes_total': None}\n",
            "\u001b[2m\u001b[36m(func pid=269253)\u001b[0m 2022-07-26 14:38:51,969\tINFO trainable.py:589 -- Restored on 172.28.0.2 from checkpoint: /root/ray_results/trainable_func_2022-07-26_14-33-03/trainable_func_f328243e_7_act1=selu,act2=relu,act3=tanh,batch_size=64,hidden_dim1=120.0000,hidden_dim2=330.0000,hidden_dim3=315.00_2022-07-26_14-33-45/checkpoint_tmpa7ad10/./\n",
            "\u001b[2m\u001b[36m(func pid=269253)\u001b[0m 2022-07-26 14:38:51,969\tINFO trainable.py:597 -- Current state after restoring: {'_iteration': 24, '_timesteps_total': None, '_time_total': 40.04177761077881, '_episodes_total': None}\n"
          ]
        },
        {
          "output_type": "stream",
          "name": "stdout",
          "text": [
            "Trial trainable_func_a306f592 reported epoch=6,loss=0.4914459151388425,should_checkpoint=True with parameters={'act1 ': 'tanh', 'act2': 'selu', 'act3': 'selu', 'lr': 0.0007, 'batch_size': 32, 'hidden_dim1': 240.0, 'hidden_dim2': 210.0, 'hidden_dim3': 195.0}.\n",
            "Trial trainable_func_f328243e reported epoch=0,loss=0.044879754415699365,should_checkpoint=True with parameters={'act1 ': 'selu', 'act2': 'relu', 'act3': 'tanh', 'lr': 0.0009, 'batch_size': 64, 'hidden_dim1': 120.0, 'hidden_dim2': 330.0, 'hidden_dim3': 315.0}.\n"
          ]
        },
        {
          "output_type": "stream",
          "name": "stderr",
          "text": [
            "\u001b[2m\u001b[36m(func pid=269253)\u001b[0m 2022-07-26 14:38:54,331\tINFO trainable.py:589 -- Restored on 172.28.0.2 from checkpoint: /root/ray_results/trainable_func_2022-07-26_14-33-03/trainable_func_f328243e_7_act1=selu,act2=relu,act3=tanh,batch_size=64,hidden_dim1=120.0000,hidden_dim2=330.0000,hidden_dim3=315.00_2022-07-26_14-33-45/checkpoint_tmp09bf22/./\n",
            "\u001b[2m\u001b[36m(func pid=269253)\u001b[0m 2022-07-26 14:38:54,331\tINFO trainable.py:597 -- Current state after restoring: {'_iteration': 25, '_timesteps_total': None, '_time_total': 41.59517478942871, '_episodes_total': None}\n",
            "\u001b[2m\u001b[36m(func pid=269297)\u001b[0m 2022-07-26 14:38:54,835\tINFO trainable.py:589 -- Restored on 172.28.0.2 from checkpoint: /root/ray_results/trainable_func_2022-07-26_14-33-03/trainable_func_db5c1630_5_act1=relu,act2=relu,act3=relu,batch_size=16,hidden_dim1=240.0000,hidden_dim2=240.0000,hidden_dim3=210.00_2022-07-26_14-33-40/checkpoint_tmp41f1c1/./\n",
            "\u001b[2m\u001b[36m(func pid=269297)\u001b[0m 2022-07-26 14:38:54,835\tINFO trainable.py:597 -- Current state after restoring: {'_iteration': 38, '_timesteps_total': None, '_time_total': 158.61416697502136, '_episodes_total': None}\n"
          ]
        },
        {
          "output_type": "stream",
          "name": "stdout",
          "text": [
            "== Status ==\n",
            "Current time: 2022-07-26 14:38:55 (running for 00:05:52.50)\n",
            "Memory usage on this node: 2.5/12.7 GiB\n",
            "Using MedianStoppingRule: num_stopped=4.\n",
            "Resources requested: 2.0/2 CPUs, 0/0 GPUs, 0.0/7.47 GiB heap, 0.0/3.73 GiB objects\n",
            "Result logdir: /root/ray_results/trainable_func_2022-07-26_14-33-03\n",
            "Number of trials: 18/50 (6 PAUSED, 4 RUNNING, 8 TERMINATED)\n",
            "\n",
            "\n"
          ]
        },
        {
          "output_type": "stream",
          "name": "stderr",
          "text": [
            "\u001b[2m\u001b[36m(func pid=269253)\u001b[0m 2022-07-26 14:38:56,363\tINFO trainable.py:589 -- Restored on 172.28.0.2 from checkpoint: /root/ray_results/trainable_func_2022-07-26_14-33-03/trainable_func_f328243e_7_act1=selu,act2=relu,act3=tanh,batch_size=64,hidden_dim1=120.0000,hidden_dim2=330.0000,hidden_dim3=315.00_2022-07-26_14-33-45/checkpoint_tmp5af13d/./\n",
            "\u001b[2m\u001b[36m(func pid=269253)\u001b[0m 2022-07-26 14:38:56,363\tINFO trainable.py:597 -- Current state after restoring: {'_iteration': 26, '_timesteps_total': None, '_time_total': 42.878772497177124, '_episodes_total': None}\n"
          ]
        },
        {
          "output_type": "stream",
          "name": "stdout",
          "text": [
            "Trial trainable_func_a306f592 reported epoch=9,loss=0.5129666085777311,should_checkpoint=True with parameters={'act1 ': 'tanh', 'act2': 'selu', 'act3': 'selu', 'lr': 0.0007, 'batch_size': 32, 'hidden_dim1': 240.0, 'hidden_dim2': 210.0, 'hidden_dim3': 195.0}.\n",
            "Trial trainable_func_db5c1630 reported epoch=0,loss=0.05163110606123382,should_checkpoint=True with parameters={'act1 ': 'relu', 'act2': 'relu', 'act3': 'relu', 'lr': 0.001, 'batch_size': 16, 'hidden_dim1': 240.0, 'hidden_dim2': 240.0, 'hidden_dim3': 210.0}.\n"
          ]
        },
        {
          "output_type": "stream",
          "name": "stderr",
          "text": [
            "\u001b[2m\u001b[36m(func pid=269253)\u001b[0m 2022-07-26 14:38:58,733\tINFO trainable.py:589 -- Restored on 172.28.0.2 from checkpoint: /root/ray_results/trainable_func_2022-07-26_14-33-03/trainable_func_f328243e_7_act1=selu,act2=relu,act3=tanh,batch_size=64,hidden_dim1=120.0000,hidden_dim2=330.0000,hidden_dim3=315.00_2022-07-26_14-33-45/checkpoint_tmpc424c6/./\n",
            "\u001b[2m\u001b[36m(func pid=269253)\u001b[0m 2022-07-26 14:38:58,733\tINFO trainable.py:597 -- Current state after restoring: {'_iteration': 27, '_timesteps_total': None, '_time_total': 44.564266204833984, '_episodes_total': None}\n"
          ]
        },
        {
          "output_type": "stream",
          "name": "stdout",
          "text": [
            "Trial trainable_func_f19bcd82 reported epoch=0,loss=0.2211489582980054,should_checkpoint=True with parameters={'act1 ': 'tanh', 'act2': 'tanh', 'act3': 'selu', 'lr': 0.0007, 'batch_size': 8, 'hidden_dim1': 225.0, 'hidden_dim2': 315.0, 'hidden_dim3': 315.0}.\n"
          ]
        },
        {
          "output_type": "stream",
          "name": "stderr",
          "text": [
            "\u001b[2m\u001b[36m(func pid=269297)\u001b[0m 2022-07-26 14:38:59,052\tINFO trainable.py:589 -- Restored on 172.28.0.2 from checkpoint: /root/ray_results/trainable_func_2022-07-26_14-33-03/trainable_func_db5c1630_5_act1=relu,act2=relu,act3=relu,batch_size=16,hidden_dim1=240.0000,hidden_dim2=240.0000,hidden_dim3=210.00_2022-07-26_14-33-40/checkpoint_tmp72b965/./\n",
            "\u001b[2m\u001b[36m(func pid=269297)\u001b[0m 2022-07-26 14:38:59,052\tINFO trainable.py:597 -- Current state after restoring: {'_iteration': 39, '_timesteps_total': None, '_time_total': 162.43602514266968, '_episodes_total': None}\n"
          ]
        },
        {
          "output_type": "stream",
          "name": "stdout",
          "text": [
            "Trial trainable_func_f328243e reported epoch=0,loss=0.03140920700040658,should_checkpoint=True with parameters={'act1 ': 'selu', 'act2': 'relu', 'act3': 'tanh', 'lr': 0.0009, 'batch_size': 64, 'hidden_dim1': 120.0, 'hidden_dim2': 330.0, 'hidden_dim3': 315.0}.\n"
          ]
        },
        {
          "output_type": "stream",
          "name": "stderr",
          "text": [
            "\u001b[2m\u001b[36m(func pid=269252)\u001b[0m 2022-07-26 14:38:59,799\tINFO trainable.py:589 -- Restored on 172.28.0.2 from checkpoint: /root/ray_results/trainable_func_2022-07-26_14-33-03/trainable_func_f19bcd82_6_act1=tanh,act2=tanh,act3=selu,batch_size=8,hidden_dim1=225.0000,hidden_dim2=315.0000,hidden_dim3=315.000_2022-07-26_14-33-43/checkpoint_tmp551730/./\n",
            "\u001b[2m\u001b[36m(func pid=269252)\u001b[0m 2022-07-26 14:38:59,799\tINFO trainable.py:597 -- Current state after restoring: {'_iteration': 16, '_timesteps_total': None, '_time_total': 136.67837953567505, '_episodes_total': None}\n",
            "\u001b[2m\u001b[36m(func pid=269253)\u001b[0m 2022-07-26 14:39:00,487\tINFO trainable.py:589 -- Restored on 172.28.0.2 from checkpoint: /root/ray_results/trainable_func_2022-07-26_14-33-03/trainable_func_f328243e_7_act1=selu,act2=relu,act3=tanh,batch_size=64,hidden_dim1=120.0000,hidden_dim2=330.0000,hidden_dim3=315.00_2022-07-26_14-33-45/checkpoint_tmpa7de24/./\n",
            "\u001b[2m\u001b[36m(func pid=269253)\u001b[0m 2022-07-26 14:39:00,487\tINFO trainable.py:597 -- Current state after restoring: {'_iteration': 28, '_timesteps_total': None, '_time_total': 45.49532771110535, '_episodes_total': None}\n"
          ]
        },
        {
          "output_type": "stream",
          "name": "stdout",
          "text": [
            "Trial trainable_func_a306f592 reported epoch=10,loss=0.5858461563432147,should_checkpoint=True with parameters={'act1 ': 'tanh', 'act2': 'selu', 'act3': 'selu', 'lr': 0.0007, 'batch_size': 32, 'hidden_dim1': 240.0, 'hidden_dim2': 210.0, 'hidden_dim3': 195.0}. This trial completed.\n",
            "== Status ==\n",
            "Current time: 2022-07-26 14:39:00 (running for 00:05:57.69)\n",
            "Memory usage on this node: 2.5/12.7 GiB\n",
            "Using MedianStoppingRule: num_stopped=5.\n",
            "Resources requested: 2.0/2 CPUs, 0/0 GPUs, 0.0/7.47 GiB heap, 0.0/3.73 GiB objects\n",
            "Result logdir: /root/ray_results/trainable_func_2022-07-26_14-33-03\n",
            "Number of trials: 18/50 (6 PAUSED, 4 RUNNING, 8 TERMINATED)\n",
            "\n",
            "\n"
          ]
        },
        {
          "output_type": "stream",
          "name": "stderr",
          "text": [
            "\u001b[2m\u001b[36m(func pid=269253)\u001b[0m 2022-07-26 14:39:02,635\tINFO trainable.py:589 -- Restored on 172.28.0.2 from checkpoint: /root/ray_results/trainable_func_2022-07-26_14-33-03/trainable_func_f328243e_7_act1=selu,act2=relu,act3=tanh,batch_size=64,hidden_dim1=120.0000,hidden_dim2=330.0000,hidden_dim3=315.00_2022-07-26_14-33-45/checkpoint_tmp60367b/./\n",
            "\u001b[2m\u001b[36m(func pid=269253)\u001b[0m 2022-07-26 14:39:02,637\tINFO trainable.py:597 -- Current state after restoring: {'_iteration': 29, '_timesteps_total': None, '_time_total': 47.03175640106201, '_episodes_total': None}\n",
            "\u001b[2m\u001b[36m(func pid=269297)\u001b[0m 2022-07-26 14:39:03,421\tINFO trainable.py:589 -- Restored on 172.28.0.2 from checkpoint: /root/ray_results/trainable_func_2022-07-26_14-33-03/trainable_func_db5c1630_5_act1=relu,act2=relu,act3=relu,batch_size=16,hidden_dim1=240.0000,hidden_dim2=240.0000,hidden_dim3=210.00_2022-07-26_14-33-40/checkpoint_tmpbd83d8/./\n",
            "\u001b[2m\u001b[36m(func pid=269297)\u001b[0m 2022-07-26 14:39:03,421\tINFO trainable.py:597 -- Current state after restoring: {'_iteration': 40, '_timesteps_total': None, '_time_total': 166.08431148529053, '_episodes_total': None}\n"
          ]
        },
        {
          "output_type": "stream",
          "name": "stdout",
          "text": [
            "Trial trainable_func_b057d806 reported epoch=0,loss=0.6804510817392286,should_checkpoint=True with parameters={'act1 ': 'tanh', 'act2': 'relu', 'act3': 'selu', 'lr': 0.001, 'batch_size': 16, 'hidden_dim1': 255.0, 'hidden_dim2': 210.0, 'hidden_dim3': 330.0}.\n"
          ]
        },
        {
          "output_type": "stream",
          "name": "stderr",
          "text": [
            "\u001b[2m\u001b[36m(func pid=269253)\u001b[0m 2022-07-26 14:39:04,851\tINFO trainable.py:589 -- Restored on 172.28.0.2 from checkpoint: /root/ray_results/trainable_func_2022-07-26_14-33-03/trainable_func_f328243e_7_act1=selu,act2=relu,act3=tanh,batch_size=64,hidden_dim1=120.0000,hidden_dim2=330.0000,hidden_dim3=315.00_2022-07-26_14-33-45/checkpoint_tmp4f4449/./\n",
            "\u001b[2m\u001b[36m(func pid=269253)\u001b[0m 2022-07-26 14:39:04,851\tINFO trainable.py:597 -- Current state after restoring: {'_iteration': 30, '_timesteps_total': None, '_time_total': 48.56694531440735, '_episodes_total': None}\n"
          ]
        },
        {
          "output_type": "stream",
          "name": "stdout",
          "text": [
            "Trial trainable_func_f328243e reported epoch=0,loss=0.043881310548899176,should_checkpoint=True with parameters={'act1 ': 'selu', 'act2': 'relu', 'act3': 'tanh', 'lr': 0.0009, 'batch_size': 64, 'hidden_dim1': 120.0, 'hidden_dim2': 330.0, 'hidden_dim3': 315.0}.\n",
            "== Status ==\n",
            "Current time: 2022-07-26 14:39:06 (running for 00:06:03.25)\n",
            "Memory usage on this node: 2.5/12.7 GiB\n",
            "Using MedianStoppingRule: num_stopped=5.\n",
            "Resources requested: 2.0/2 CPUs, 0/0 GPUs, 0.0/7.47 GiB heap, 0.0/3.73 GiB objects\n",
            "Result logdir: /root/ray_results/trainable_func_2022-07-26_14-33-03\n",
            "Number of trials: 19/50 (6 PAUSED, 4 RUNNING, 9 TERMINATED)\n",
            "\n",
            "\n",
            "Trial trainable_func_f19bcd82 reported epoch=0,loss=0.14346803902847172,should_checkpoint=True with parameters={'act1 ': 'tanh', 'act2': 'tanh', 'act3': 'selu', 'lr': 0.0007, 'batch_size': 8, 'hidden_dim1': 225.0, 'hidden_dim2': 315.0, 'hidden_dim3': 315.0}.\n"
          ]
        },
        {
          "output_type": "stream",
          "name": "stderr",
          "text": [
            "\u001b[2m\u001b[36m(func pid=269253)\u001b[0m 2022-07-26 14:39:07,184\tINFO trainable.py:589 -- Restored on 172.28.0.2 from checkpoint: /root/ray_results/trainable_func_2022-07-26_14-33-03/trainable_func_f328243e_7_act1=selu,act2=relu,act3=tanh,batch_size=64,hidden_dim1=120.0000,hidden_dim2=330.0000,hidden_dim3=315.00_2022-07-26_14-33-45/checkpoint_tmp82f8fc/./\n",
            "\u001b[2m\u001b[36m(func pid=269253)\u001b[0m 2022-07-26 14:39:07,185\tINFO trainable.py:597 -- Current state after restoring: {'_iteration': 31, '_timesteps_total': None, '_time_total': 50.1046404838562, '_episodes_total': None}\n"
          ]
        },
        {
          "output_type": "stream",
          "name": "stdout",
          "text": [
            "Trial trainable_func_db5c1630 reported epoch=0,loss=0.03733148581702747,should_checkpoint=True with parameters={'act1 ': 'relu', 'act2': 'relu', 'act3': 'relu', 'lr': 0.001, 'batch_size': 16, 'hidden_dim1': 240.0, 'hidden_dim2': 240.0, 'hidden_dim3': 210.0}.\n"
          ]
        },
        {
          "output_type": "stream",
          "name": "stderr",
          "text": [
            "\u001b[2m\u001b[36m(func pid=269252)\u001b[0m 2022-07-26 14:39:07,673\tINFO trainable.py:589 -- Restored on 172.28.0.2 from checkpoint: /root/ray_results/trainable_func_2022-07-26_14-33-03/trainable_func_f19bcd82_6_act1=tanh,act2=tanh,act3=selu,batch_size=8,hidden_dim1=225.0000,hidden_dim2=315.0000,hidden_dim3=315.000_2022-07-26_14-33-43/checkpoint_tmp99a286/./\n",
            "\u001b[2m\u001b[36m(func pid=269252)\u001b[0m 2022-07-26 14:39:07,673\tINFO trainable.py:597 -- Current state after restoring: {'_iteration': 17, '_timesteps_total': None, '_time_total': 143.73188829421997, '_episodes_total': None}\n",
            "\u001b[2m\u001b[36m(func pid=269297)\u001b[0m 2022-07-26 14:39:08,381\tINFO trainable.py:589 -- Restored on 172.28.0.2 from checkpoint: /root/ray_results/trainable_func_2022-07-26_14-33-03/trainable_func_db5c1630_5_act1=relu,act2=relu,act3=relu,batch_size=16,hidden_dim1=240.0000,hidden_dim2=240.0000,hidden_dim3=210.00_2022-07-26_14-33-40/checkpoint_tmp3f3a75/./\n",
            "\u001b[2m\u001b[36m(func pid=269297)\u001b[0m 2022-07-26 14:39:08,382\tINFO trainable.py:597 -- Current state after restoring: {'_iteration': 41, '_timesteps_total': None, '_time_total': 169.9289743900299, '_episodes_total': None}\n",
            "\u001b[2m\u001b[36m(func pid=269253)\u001b[0m 2022-07-26 14:39:09,023\tINFO trainable.py:589 -- Restored on 172.28.0.2 from checkpoint: /root/ray_results/trainable_func_2022-07-26_14-33-03/trainable_func_f328243e_7_act1=selu,act2=relu,act3=tanh,batch_size=64,hidden_dim1=120.0000,hidden_dim2=330.0000,hidden_dim3=315.00_2022-07-26_14-33-45/checkpoint_tmpad9d7f/./\n",
            "\u001b[2m\u001b[36m(func pid=269253)\u001b[0m 2022-07-26 14:39:09,024\tINFO trainable.py:597 -- Current state after restoring: {'_iteration': 32, '_timesteps_total': None, '_time_total': 51.307413816452026, '_episodes_total': None}\n"
          ]
        },
        {
          "output_type": "stream",
          "name": "stdout",
          "text": [
            "== Status ==\n",
            "Current time: 2022-07-26 14:39:11 (running for 00:06:08.41)\n",
            "Memory usage on this node: 2.5/12.7 GiB\n",
            "Using MedianStoppingRule: num_stopped=5.\n",
            "Resources requested: 1.5/2 CPUs, 0/0 GPUs, 0.0/7.47 GiB heap, 0.0/3.73 GiB objects\n",
            "Result logdir: /root/ray_results/trainable_func_2022-07-26_14-33-03\n",
            "Number of trials: 19/50 (7 PAUSED, 3 RUNNING, 9 TERMINATED)\n",
            "\n",
            "\n"
          ]
        },
        {
          "output_type": "stream",
          "name": "stderr",
          "text": [
            "\u001b[2m\u001b[36m(func pid=269253)\u001b[0m 2022-07-26 14:39:11,599\tINFO trainable.py:589 -- Restored on 172.28.0.2 from checkpoint: /root/ray_results/trainable_func_2022-07-26_14-33-03/trainable_func_f328243e_7_act1=selu,act2=relu,act3=tanh,batch_size=64,hidden_dim1=120.0000,hidden_dim2=330.0000,hidden_dim3=315.00_2022-07-26_14-33-45/checkpoint_tmpe871c3/./\n",
            "\u001b[2m\u001b[36m(func pid=269253)\u001b[0m 2022-07-26 14:39:11,599\tINFO trainable.py:597 -- Current state after restoring: {'_iteration': 33, '_timesteps_total': None, '_time_total': 53.126325368881226, '_episodes_total': None}\n"
          ]
        },
        {
          "output_type": "stream",
          "name": "stdout",
          "text": [
            "Trial trainable_func_b057d806 reported epoch=2,loss=0.64044711706018,should_checkpoint=True with parameters={'act1 ': 'tanh', 'act2': 'relu', 'act3': 'selu', 'lr': 0.001, 'batch_size': 16, 'hidden_dim1': 255.0, 'hidden_dim2': 210.0, 'hidden_dim3': 330.0}.\n"
          ]
        },
        {
          "output_type": "stream",
          "name": "stderr",
          "text": [
            "\u001b[2m\u001b[36m(func pid=269297)\u001b[0m 2022-07-26 14:39:12,829\tINFO trainable.py:589 -- Restored on 172.28.0.2 from checkpoint: /root/ray_results/trainable_func_2022-07-26_14-33-03/trainable_func_db5c1630_5_act1=relu,act2=relu,act3=relu,batch_size=16,hidden_dim1=240.0000,hidden_dim2=240.0000,hidden_dim3=210.00_2022-07-26_14-33-40/checkpoint_tmp464c40/./\n",
            "\u001b[2m\u001b[36m(func pid=269297)\u001b[0m 2022-07-26 14:39:12,829\tINFO trainable.py:597 -- Current state after restoring: {'_iteration': 42, '_timesteps_total': None, '_time_total': 173.8698229789734, '_episodes_total': None}\n"
          ]
        },
        {
          "output_type": "stream",
          "name": "stdout",
          "text": [
            "Trial trainable_func_f328243e reported epoch=0,loss=0.03344290598205847,should_checkpoint=True with parameters={'act1 ': 'selu', 'act2': 'relu', 'act3': 'tanh', 'lr': 0.0009, 'batch_size': 64, 'hidden_dim1': 120.0, 'hidden_dim2': 330.0, 'hidden_dim3': 315.0}.\n"
          ]
        },
        {
          "output_type": "stream",
          "name": "stderr",
          "text": [
            "\u001b[2m\u001b[36m(func pid=269253)\u001b[0m 2022-07-26 14:39:13,753\tINFO trainable.py:589 -- Restored on 172.28.0.2 from checkpoint: /root/ray_results/trainable_func_2022-07-26_14-33-03/trainable_func_f328243e_7_act1=selu,act2=relu,act3=tanh,batch_size=64,hidden_dim1=120.0000,hidden_dim2=330.0000,hidden_dim3=315.00_2022-07-26_14-33-45/checkpoint_tmp96fdef/./\n",
            "\u001b[2m\u001b[36m(func pid=269253)\u001b[0m 2022-07-26 14:39:13,753\tINFO trainable.py:597 -- Current state after restoring: {'_iteration': 34, '_timesteps_total': None, '_time_total': 54.610015869140625, '_episodes_total': None}\n"
          ]
        },
        {
          "output_type": "stream",
          "name": "stdout",
          "text": [
            "Trial trainable_func_f19bcd82 reported epoch=0,loss=0.11446360387686674,should_checkpoint=True with parameters={'act1 ': 'tanh', 'act2': 'tanh', 'act3': 'selu', 'lr': 0.0007, 'batch_size': 8, 'hidden_dim1': 225.0, 'hidden_dim2': 315.0, 'hidden_dim3': 315.0}.\n"
          ]
        },
        {
          "output_type": "stream",
          "name": "stderr",
          "text": [
            "\u001b[2m\u001b[36m(func pid=269252)\u001b[0m 2022-07-26 14:39:15,544\tINFO trainable.py:589 -- Restored on 172.28.0.2 from checkpoint: /root/ray_results/trainable_func_2022-07-26_14-33-03/trainable_func_f19bcd82_6_act1=tanh,act2=tanh,act3=selu,batch_size=8,hidden_dim1=225.0000,hidden_dim2=315.0000,hidden_dim3=315.000_2022-07-26_14-33-43/checkpoint_tmp0f0378/./\n",
            "\u001b[2m\u001b[36m(func pid=269252)\u001b[0m 2022-07-26 14:39:15,547\tINFO trainable.py:597 -- Current state after restoring: {'_iteration': 18, '_timesteps_total': None, '_time_total': 151.17969870567322, '_episodes_total': None}\n",
            "\u001b[2m\u001b[36m(func pid=269253)\u001b[0m 2022-07-26 14:39:16,315\tINFO trainable.py:589 -- Restored on 172.28.0.2 from checkpoint: /root/ray_results/trainable_func_2022-07-26_14-33-03/trainable_func_f328243e_7_act1=selu,act2=relu,act3=tanh,batch_size=64,hidden_dim1=120.0000,hidden_dim2=330.0000,hidden_dim3=315.00_2022-07-26_14-33-45/checkpoint_tmp56a569/./\n",
            "\u001b[2m\u001b[36m(func pid=269253)\u001b[0m 2022-07-26 14:39:16,315\tINFO trainable.py:597 -- Current state after restoring: {'_iteration': 35, '_timesteps_total': None, '_time_total': 56.031686544418335, '_episodes_total': None}\n"
          ]
        },
        {
          "output_type": "stream",
          "name": "stdout",
          "text": [
            "Trial trainable_func_db5c1630 reported epoch=0,loss=0.037093741959187715,should_checkpoint=True with parameters={'act1 ': 'relu', 'act2': 'relu', 'act3': 'relu', 'lr': 0.001, 'batch_size': 16, 'hidden_dim1': 240.0, 'hidden_dim2': 240.0, 'hidden_dim3': 210.0}.\n",
            "== Status ==\n",
            "Current time: 2022-07-26 14:39:17 (running for 00:06:14.05)\n",
            "Memory usage on this node: 2.5/12.7 GiB\n",
            "Using MedianStoppingRule: num_stopped=5.\n",
            "Resources requested: 1.5/2 CPUs, 0/0 GPUs, 0.0/7.47 GiB heap, 0.0/3.73 GiB objects\n",
            "Result logdir: /root/ray_results/trainable_func_2022-07-26_14-33-03\n",
            "Number of trials: 19/50 (7 PAUSED, 3 RUNNING, 9 TERMINATED)\n",
            "\n",
            "\n"
          ]
        },
        {
          "output_type": "stream",
          "name": "stderr",
          "text": [
            "\u001b[2m\u001b[36m(func pid=269297)\u001b[0m 2022-07-26 14:39:17,229\tINFO trainable.py:589 -- Restored on 172.28.0.2 from checkpoint: /root/ray_results/trainable_func_2022-07-26_14-33-03/trainable_func_db5c1630_5_act1=relu,act2=relu,act3=relu,batch_size=16,hidden_dim1=240.0000,hidden_dim2=240.0000,hidden_dim3=210.00_2022-07-26_14-33-40/checkpoint_tmpda0f12/./\n",
            "\u001b[2m\u001b[36m(func pid=269297)\u001b[0m 2022-07-26 14:39:17,236\tINFO trainable.py:597 -- Current state after restoring: {'_iteration': 43, '_timesteps_total': None, '_time_total': 177.4909269809723, '_episodes_total': None}\n",
            "\u001b[2m\u001b[36m(func pid=269253)\u001b[0m 2022-07-26 14:39:18,392\tINFO trainable.py:589 -- Restored on 172.28.0.2 from checkpoint: /root/ray_results/trainable_func_2022-07-26_14-33-03/trainable_func_f328243e_7_act1=selu,act2=relu,act3=tanh,batch_size=64,hidden_dim1=120.0000,hidden_dim2=330.0000,hidden_dim3=315.00_2022-07-26_14-33-45/checkpoint_tmp260bd5/./\n",
            "\u001b[2m\u001b[36m(func pid=269253)\u001b[0m 2022-07-26 14:39:18,392\tINFO trainable.py:597 -- Current state after restoring: {'_iteration': 36, '_timesteps_total': None, '_time_total': 57.40829515457153, '_episodes_total': None}\n"
          ]
        },
        {
          "output_type": "stream",
          "name": "stdout",
          "text": [
            "Trial trainable_func_f328243e reported epoch=0,loss=0.025316004026692287,should_checkpoint=True with parameters={'act1 ': 'selu', 'act2': 'relu', 'act3': 'tanh', 'lr': 0.0009, 'batch_size': 64, 'hidden_dim1': 120.0, 'hidden_dim2': 330.0, 'hidden_dim3': 315.0}.\n",
            "Trial trainable_func_b057d806 reported epoch=4,loss=0.6211760241955583,should_checkpoint=True with parameters={'act1 ': 'tanh', 'act2': 'relu', 'act3': 'selu', 'lr': 0.001, 'batch_size': 16, 'hidden_dim1': 255.0, 'hidden_dim2': 210.0, 'hidden_dim3': 330.0}.\n"
          ]
        },
        {
          "output_type": "stream",
          "name": "stderr",
          "text": [
            "\u001b[2m\u001b[36m(func pid=269253)\u001b[0m 2022-07-26 14:39:20,310\tINFO trainable.py:589 -- Restored on 172.28.0.2 from checkpoint: /root/ray_results/trainable_func_2022-07-26_14-33-03/trainable_func_f328243e_7_act1=selu,act2=relu,act3=tanh,batch_size=64,hidden_dim1=120.0000,hidden_dim2=330.0000,hidden_dim3=315.00_2022-07-26_14-33-45/checkpoint_tmp3accee/./\n",
            "\u001b[2m\u001b[36m(func pid=269253)\u001b[0m 2022-07-26 14:39:20,311\tINFO trainable.py:597 -- Current state after restoring: {'_iteration': 37, '_timesteps_total': None, '_time_total': 58.90944290161133, '_episodes_total': None}\n",
            "\u001b[2m\u001b[36m(func pid=269297)\u001b[0m 2022-07-26 14:39:21,867\tINFO trainable.py:589 -- Restored on 172.28.0.2 from checkpoint: /root/ray_results/trainable_func_2022-07-26_14-33-03/trainable_func_db5c1630_5_act1=relu,act2=relu,act3=relu,batch_size=16,hidden_dim1=240.0000,hidden_dim2=240.0000,hidden_dim3=210.00_2022-07-26_14-33-40/checkpoint_tmpc309e3/./\n",
            "\u001b[2m\u001b[36m(func pid=269297)\u001b[0m 2022-07-26 14:39:21,868\tINFO trainable.py:597 -- Current state after restoring: {'_iteration': 44, '_timesteps_total': None, '_time_total': 181.45248532295227, '_episodes_total': None}\n",
            "\u001b[2m\u001b[36m(func pid=269253)\u001b[0m 2022-07-26 14:39:22,584\tINFO trainable.py:589 -- Restored on 172.28.0.2 from checkpoint: /root/ray_results/trainable_func_2022-07-26_14-33-03/trainable_func_f328243e_7_act1=selu,act2=relu,act3=tanh,batch_size=64,hidden_dim1=120.0000,hidden_dim2=330.0000,hidden_dim3=315.00_2022-07-26_14-33-45/checkpoint_tmp291881/./\n",
            "\u001b[2m\u001b[36m(func pid=269253)\u001b[0m 2022-07-26 14:39:22,592\tINFO trainable.py:597 -- Current state after restoring: {'_iteration': 38, '_timesteps_total': None, '_time_total': 60.362120389938354, '_episodes_total': None}\n"
          ]
        },
        {
          "output_type": "stream",
          "name": "stdout",
          "text": [
            "== Status ==\n",
            "Current time: 2022-07-26 14:39:22 (running for 00:06:19.40)\n",
            "Memory usage on this node: 2.5/12.7 GiB\n",
            "Using MedianStoppingRule: num_stopped=5.\n",
            "Resources requested: 1.5/2 CPUs, 0/0 GPUs, 0.0/7.47 GiB heap, 0.0/3.73 GiB objects\n",
            "Result logdir: /root/ray_results/trainable_func_2022-07-26_14-33-03\n",
            "Number of trials: 19/50 (7 PAUSED, 3 RUNNING, 9 TERMINATED)\n",
            "\n",
            "\n",
            "Trial trainable_func_f19bcd82 reported epoch=0,loss=0.1293139515258911,should_checkpoint=True with parameters={'act1 ': 'tanh', 'act2': 'tanh', 'act3': 'selu', 'lr': 0.0007, 'batch_size': 8, 'hidden_dim1': 225.0, 'hidden_dim2': 315.0, 'hidden_dim3': 315.0}.\n"
          ]
        },
        {
          "output_type": "stream",
          "name": "stderr",
          "text": [
            "\u001b[2m\u001b[36m(func pid=269252)\u001b[0m 2022-07-26 14:39:23,640\tINFO trainable.py:589 -- Restored on 172.28.0.2 from checkpoint: /root/ray_results/trainable_func_2022-07-26_14-33-03/trainable_func_f19bcd82_6_act1=tanh,act2=tanh,act3=selu,batch_size=8,hidden_dim1=225.0000,hidden_dim2=315.0000,hidden_dim3=315.000_2022-07-26_14-33-43/checkpoint_tmp70c4f6/./\n",
            "\u001b[2m\u001b[36m(func pid=269252)\u001b[0m 2022-07-26 14:39:23,640\tINFO trainable.py:597 -- Current state after restoring: {'_iteration': 19, '_timesteps_total': None, '_time_total': 158.52455592155457, '_episodes_total': None}\n",
            "\u001b[2m\u001b[36m(func pid=269253)\u001b[0m 2022-07-26 14:39:24,806\tINFO trainable.py:589 -- Restored on 172.28.0.2 from checkpoint: /root/ray_results/trainable_func_2022-07-26_14-33-03/trainable_func_f328243e_7_act1=selu,act2=relu,act3=tanh,batch_size=64,hidden_dim1=120.0000,hidden_dim2=330.0000,hidden_dim3=315.00_2022-07-26_14-33-45/checkpoint_tmp216d82/./\n",
            "\u001b[2m\u001b[36m(func pid=269253)\u001b[0m 2022-07-26 14:39:24,807\tINFO trainable.py:597 -- Current state after restoring: {'_iteration': 39, '_timesteps_total': None, '_time_total': 61.9506733417511, '_episodes_total': None}\n"
          ]
        },
        {
          "output_type": "stream",
          "name": "stdout",
          "text": [
            "Trial trainable_func_db5c1630 reported epoch=0,loss=0.029257547196890204,should_checkpoint=True with parameters={'act1 ': 'relu', 'act2': 'relu', 'act3': 'relu', 'lr': 0.001, 'batch_size': 16, 'hidden_dim1': 240.0, 'hidden_dim2': 240.0, 'hidden_dim3': 210.0}.\n",
            "Trial trainable_func_f328243e reported epoch=0,loss=0.030146695552975413,should_checkpoint=True with parameters={'act1 ': 'selu', 'act2': 'relu', 'act3': 'tanh', 'lr': 0.0009, 'batch_size': 64, 'hidden_dim1': 120.0, 'hidden_dim2': 330.0, 'hidden_dim3': 315.0}.\n"
          ]
        },
        {
          "output_type": "stream",
          "name": "stderr",
          "text": [
            "\u001b[2m\u001b[36m(func pid=269297)\u001b[0m 2022-07-26 14:39:26,630\tINFO trainable.py:589 -- Restored on 172.28.0.2 from checkpoint: /root/ray_results/trainable_func_2022-07-26_14-33-03/trainable_func_db5c1630_5_act1=relu,act2=relu,act3=relu,batch_size=16,hidden_dim1=240.0000,hidden_dim2=240.0000,hidden_dim3=210.00_2022-07-26_14-33-40/checkpoint_tmpeb7268/./\n",
            "\u001b[2m\u001b[36m(func pid=269297)\u001b[0m 2022-07-26 14:39:26,630\tINFO trainable.py:597 -- Current state after restoring: {'_iteration': 45, '_timesteps_total': None, '_time_total': 185.55912280082703, '_episodes_total': None}\n",
            "\u001b[2m\u001b[36m(func pid=269253)\u001b[0m 2022-07-26 14:39:27,333\tINFO trainable.py:589 -- Restored on 172.28.0.2 from checkpoint: /root/ray_results/trainable_func_2022-07-26_14-33-03/trainable_func_f328243e_7_act1=selu,act2=relu,act3=tanh,batch_size=64,hidden_dim1=120.0000,hidden_dim2=330.0000,hidden_dim3=315.00_2022-07-26_14-33-45/checkpoint_tmpe16920/./\n",
            "\u001b[2m\u001b[36m(func pid=269253)\u001b[0m 2022-07-26 14:39:27,334\tINFO trainable.py:597 -- Current state after restoring: {'_iteration': 40, '_timesteps_total': None, '_time_total': 63.62152290344238, '_episodes_total': None}\n"
          ]
        },
        {
          "output_type": "stream",
          "name": "stdout",
          "text": [
            "Trial trainable_func_b057d806 reported epoch=6,loss=0.6087846083073722,should_checkpoint=True with parameters={'act1 ': 'tanh', 'act2': 'relu', 'act3': 'selu', 'lr': 0.001, 'batch_size': 16, 'hidden_dim1': 255.0, 'hidden_dim2': 210.0, 'hidden_dim3': 330.0}.\n",
            "== Status ==\n",
            "Current time: 2022-07-26 14:39:28 (running for 00:06:25.01)\n",
            "Memory usage on this node: 2.5/12.7 GiB\n",
            "Using MedianStoppingRule: num_stopped=5.\n",
            "Resources requested: 2.0/2 CPUs, 0/0 GPUs, 0.0/7.47 GiB heap, 0.0/3.73 GiB objects\n",
            "Result logdir: /root/ray_results/trainable_func_2022-07-26_14-33-03\n",
            "Number of trials: 19/50 (6 PAUSED, 4 RUNNING, 9 TERMINATED)\n",
            "\n",
            "\n"
          ]
        },
        {
          "output_type": "stream",
          "name": "stderr",
          "text": [
            "\u001b[2m\u001b[36m(func pid=269253)\u001b[0m 2022-07-26 14:39:29,656\tINFO trainable.py:589 -- Restored on 172.28.0.2 from checkpoint: /root/ray_results/trainable_func_2022-07-26_14-33-03/trainable_func_f328243e_7_act1=selu,act2=relu,act3=tanh,batch_size=64,hidden_dim1=120.0000,hidden_dim2=330.0000,hidden_dim3=315.00_2022-07-26_14-33-45/checkpoint_tmp14f1c0/./\n",
            "\u001b[2m\u001b[36m(func pid=269253)\u001b[0m 2022-07-26 14:39:29,657\tINFO trainable.py:597 -- Current state after restoring: {'_iteration': 41, '_timesteps_total': None, '_time_total': 65.16690492630005, '_episodes_total': None}\n"
          ]
        },
        {
          "output_type": "stream",
          "name": "stdout",
          "text": [
            "Trial trainable_func_f19bcd82 reported epoch=0,loss=0.16338531055525243,should_checkpoint=True with parameters={'act1 ': 'tanh', 'act2': 'tanh', 'act3': 'selu', 'lr': 0.0007, 'batch_size': 8, 'hidden_dim1': 225.0, 'hidden_dim2': 315.0, 'hidden_dim3': 315.0}.\n"
          ]
        },
        {
          "output_type": "stream",
          "name": "stderr",
          "text": [
            "\u001b[2m\u001b[36m(func pid=269297)\u001b[0m 2022-07-26 14:39:31,027\tINFO trainable.py:589 -- Restored on 172.28.0.2 from checkpoint: /root/ray_results/trainable_func_2022-07-26_14-33-03/trainable_func_db5c1630_5_act1=relu,act2=relu,act3=relu,batch_size=16,hidden_dim1=240.0000,hidden_dim2=240.0000,hidden_dim3=210.00_2022-07-26_14-33-40/checkpoint_tmp16e7d6/./\n",
            "\u001b[2m\u001b[36m(func pid=269297)\u001b[0m 2022-07-26 14:39:31,027\tINFO trainable.py:597 -- Current state after restoring: {'_iteration': 46, '_timesteps_total': None, '_time_total': 189.25114226341248, '_episodes_total': None}\n",
            "\u001b[2m\u001b[36m(func pid=269252)\u001b[0m 2022-07-26 14:39:31,645\tINFO trainable.py:589 -- Restored on 172.28.0.2 from checkpoint: /root/ray_results/trainable_func_2022-07-26_14-33-03/trainable_func_f19bcd82_6_act1=tanh,act2=tanh,act3=selu,batch_size=8,hidden_dim1=225.0000,hidden_dim2=315.0000,hidden_dim3=315.000_2022-07-26_14-33-43/checkpoint_tmpa49c82/./\n",
            "\u001b[2m\u001b[36m(func pid=269252)\u001b[0m 2022-07-26 14:39:31,645\tINFO trainable.py:597 -- Current state after restoring: {'_iteration': 20, '_timesteps_total': None, '_time_total': 165.9377477169037, '_episodes_total': None}\n",
            "\u001b[2m\u001b[36m(func pid=269253)\u001b[0m 2022-07-26 14:39:32,257\tINFO trainable.py:589 -- Restored on 172.28.0.2 from checkpoint: /root/ray_results/trainable_func_2022-07-26_14-33-03/trainable_func_f328243e_7_act1=selu,act2=relu,act3=tanh,batch_size=64,hidden_dim1=120.0000,hidden_dim2=330.0000,hidden_dim3=315.00_2022-07-26_14-33-45/checkpoint_tmp015720/./\n",
            "\u001b[2m\u001b[36m(func pid=269253)\u001b[0m 2022-07-26 14:39:32,257\tINFO trainable.py:597 -- Current state after restoring: {'_iteration': 42, '_timesteps_total': None, '_time_total': 66.67235374450684, '_episodes_total': None}\n"
          ]
        },
        {
          "output_type": "stream",
          "name": "stdout",
          "text": [
            "Trial trainable_func_f328243e reported epoch=0,loss=0.036304515888431206,should_checkpoint=True with parameters={'act1 ': 'selu', 'act2': 'relu', 'act3': 'tanh', 'lr': 0.0009, 'batch_size': 64, 'hidden_dim1': 120.0, 'hidden_dim2': 330.0, 'hidden_dim3': 315.0}.\n",
            "== Status ==\n",
            "Current time: 2022-07-26 14:39:33 (running for 00:06:30.55)\n",
            "Memory usage on this node: 2.5/12.7 GiB\n",
            "Using MedianStoppingRule: num_stopped=5.\n",
            "Resources requested: 2.0/2 CPUs, 0/0 GPUs, 0.0/7.47 GiB heap, 0.0/3.73 GiB objects\n",
            "Result logdir: /root/ray_results/trainable_func_2022-07-26_14-33-03\n",
            "Number of trials: 19/50 (6 PAUSED, 4 RUNNING, 9 TERMINATED)\n",
            "\n",
            "\n"
          ]
        },
        {
          "output_type": "stream",
          "name": "stderr",
          "text": [
            "\u001b[2m\u001b[36m(func pid=269253)\u001b[0m 2022-07-26 14:39:34,258\tINFO trainable.py:589 -- Restored on 172.28.0.2 from checkpoint: /root/ray_results/trainable_func_2022-07-26_14-33-03/trainable_func_f328243e_7_act1=selu,act2=relu,act3=tanh,batch_size=64,hidden_dim1=120.0000,hidden_dim2=330.0000,hidden_dim3=315.00_2022-07-26_14-33-45/checkpoint_tmp54989f/./\n",
            "\u001b[2m\u001b[36m(func pid=269253)\u001b[0m 2022-07-26 14:39:34,259\tINFO trainable.py:597 -- Current state after restoring: {'_iteration': 43, '_timesteps_total': None, '_time_total': 68.10307097434998, '_episodes_total': None}\n"
          ]
        },
        {
          "output_type": "stream",
          "name": "stdout",
          "text": [
            "Trial trainable_func_db5c1630 reported epoch=0,loss=0.04111918924443909,should_checkpoint=True with parameters={'act1 ': 'relu', 'act2': 'relu', 'act3': 'relu', 'lr': 0.001, 'batch_size': 16, 'hidden_dim1': 240.0, 'hidden_dim2': 240.0, 'hidden_dim3': 210.0}.\n"
          ]
        },
        {
          "output_type": "stream",
          "name": "stderr",
          "text": [
            "\u001b[2m\u001b[36m(func pid=269297)\u001b[0m 2022-07-26 14:39:35,371\tINFO trainable.py:589 -- Restored on 172.28.0.2 from checkpoint: /root/ray_results/trainable_func_2022-07-26_14-33-03/trainable_func_db5c1630_5_act1=relu,act2=relu,act3=relu,batch_size=16,hidden_dim1=240.0000,hidden_dim2=240.0000,hidden_dim3=210.00_2022-07-26_14-33-40/checkpoint_tmp4ece1f/./\n",
            "\u001b[2m\u001b[36m(func pid=269297)\u001b[0m 2022-07-26 14:39:35,372\tINFO trainable.py:597 -- Current state after restoring: {'_iteration': 47, '_timesteps_total': None, '_time_total': 192.95892190933228, '_episodes_total': None}\n"
          ]
        },
        {
          "output_type": "stream",
          "name": "stdout",
          "text": [
            "Trial trainable_func_b057d806 reported epoch=8,loss=0.5604694166900045,should_checkpoint=True with parameters={'act1 ': 'tanh', 'act2': 'relu', 'act3': 'selu', 'lr': 0.001, 'batch_size': 16, 'hidden_dim1': 255.0, 'hidden_dim2': 210.0, 'hidden_dim3': 330.0}.\n"
          ]
        },
        {
          "output_type": "stream",
          "name": "stderr",
          "text": [
            "\u001b[2m\u001b[36m(func pid=269253)\u001b[0m 2022-07-26 14:39:36,434\tINFO trainable.py:589 -- Restored on 172.28.0.2 from checkpoint: /root/ray_results/trainable_func_2022-07-26_14-33-03/trainable_func_f328243e_7_act1=selu,act2=relu,act3=tanh,batch_size=64,hidden_dim1=120.0000,hidden_dim2=330.0000,hidden_dim3=315.00_2022-07-26_14-33-45/checkpoint_tmp46d696/./\n",
            "\u001b[2m\u001b[36m(func pid=269253)\u001b[0m 2022-07-26 14:39:36,434\tINFO trainable.py:597 -- Current state after restoring: {'_iteration': 44, '_timesteps_total': None, '_time_total': 69.65053629875183, '_episodes_total': None}\n",
            "\u001b[2m\u001b[36m(func pid=269253)\u001b[0m 2022-07-26 14:39:38,421\tINFO trainable.py:589 -- Restored on 172.28.0.2 from checkpoint: /root/ray_results/trainable_func_2022-07-26_14-33-03/trainable_func_f328243e_7_act1=selu,act2=relu,act3=tanh,batch_size=64,hidden_dim1=120.0000,hidden_dim2=330.0000,hidden_dim3=315.00_2022-07-26_14-33-45/checkpoint_tmpfba617/./\n",
            "\u001b[2m\u001b[36m(func pid=269253)\u001b[0m 2022-07-26 14:39:38,422\tINFO trainable.py:597 -- Current state after restoring: {'_iteration': 45, '_timesteps_total': None, '_time_total': 70.8887710571289, '_episodes_total': None}\n"
          ]
        },
        {
          "output_type": "stream",
          "name": "stdout",
          "text": [
            "Trial trainable_func_f19bcd82 reported epoch=0,loss=0.11958581295671676,should_checkpoint=True with parameters={'act1 ': 'tanh', 'act2': 'tanh', 'act3': 'selu', 'lr': 0.0007, 'batch_size': 8, 'hidden_dim1': 225.0, 'hidden_dim2': 315.0, 'hidden_dim3': 315.0}.\n",
            "== Status ==\n",
            "Current time: 2022-07-26 14:39:39 (running for 00:06:35.86)\n",
            "Memory usage on this node: 2.5/12.7 GiB\n",
            "Using MedianStoppingRule: num_stopped=5.\n",
            "Resources requested: 1.5/2 CPUs, 0/0 GPUs, 0.0/7.47 GiB heap, 0.0/3.73 GiB objects\n",
            "Result logdir: /root/ray_results/trainable_func_2022-07-26_14-33-03\n",
            "Number of trials: 19/50 (7 PAUSED, 3 RUNNING, 9 TERMINATED)\n",
            "\n",
            "\n"
          ]
        },
        {
          "output_type": "stream",
          "name": "stderr",
          "text": [
            "\u001b[2m\u001b[36m(func pid=269252)\u001b[0m 2022-07-26 14:39:39,046\tINFO trainable.py:589 -- Restored on 172.28.0.2 from checkpoint: /root/ray_results/trainable_func_2022-07-26_14-33-03/trainable_func_f19bcd82_6_act1=tanh,act2=tanh,act3=selu,batch_size=8,hidden_dim1=225.0000,hidden_dim2=315.0000,hidden_dim3=315.000_2022-07-26_14-33-43/checkpoint_tmp6362c0/./\n",
            "\u001b[2m\u001b[36m(func pid=269252)\u001b[0m 2022-07-26 14:39:39,047\tINFO trainable.py:597 -- Current state after restoring: {'_iteration': 21, '_timesteps_total': None, '_time_total': 172.8591079711914, '_episodes_total': None}\n"
          ]
        },
        {
          "output_type": "stream",
          "name": "stdout",
          "text": [
            "Trial trainable_func_f328243e reported epoch=0,loss=0.03969927722203975,should_checkpoint=True with parameters={'act1 ': 'selu', 'act2': 'relu', 'act3': 'tanh', 'lr': 0.0009, 'batch_size': 64, 'hidden_dim1': 120.0, 'hidden_dim2': 330.0, 'hidden_dim3': 315.0}.\n"
          ]
        },
        {
          "output_type": "stream",
          "name": "stderr",
          "text": [
            "\u001b[2m\u001b[36m(func pid=269297)\u001b[0m 2022-07-26 14:39:40,136\tINFO trainable.py:589 -- Restored on 172.28.0.2 from checkpoint: /root/ray_results/trainable_func_2022-07-26_14-33-03/trainable_func_db5c1630_5_act1=relu,act2=relu,act3=relu,batch_size=16,hidden_dim1=240.0000,hidden_dim2=240.0000,hidden_dim3=210.00_2022-07-26_14-33-40/checkpoint_tmpcd01d8/./\n",
            "\u001b[2m\u001b[36m(func pid=269297)\u001b[0m 2022-07-26 14:39:40,136\tINFO trainable.py:597 -- Current state after restoring: {'_iteration': 48, '_timesteps_total': None, '_time_total': 197.11093711853027, '_episodes_total': None}\n",
            "\u001b[2m\u001b[36m(func pid=269253)\u001b[0m 2022-07-26 14:39:40,837\tINFO trainable.py:589 -- Restored on 172.28.0.2 from checkpoint: /root/ray_results/trainable_func_2022-07-26_14-33-03/trainable_func_f328243e_7_act1=selu,act2=relu,act3=tanh,batch_size=64,hidden_dim1=120.0000,hidden_dim2=330.0000,hidden_dim3=315.00_2022-07-26_14-33-45/checkpoint_tmp2931f2/./\n",
            "\u001b[2m\u001b[36m(func pid=269253)\u001b[0m 2022-07-26 14:39:40,837\tINFO trainable.py:597 -- Current state after restoring: {'_iteration': 46, '_timesteps_total': None, '_time_total': 72.40143656730652, '_episodes_total': None}\n"
          ]
        },
        {
          "output_type": "stream",
          "name": "stdout",
          "text": [
            "Trial trainable_func_b057d806 reported epoch=9,loss=0.5805494224635497,should_checkpoint=True with parameters={'act1 ': 'tanh', 'act2': 'relu', 'act3': 'selu', 'lr': 0.001, 'batch_size': 16, 'hidden_dim1': 255.0, 'hidden_dim2': 210.0, 'hidden_dim3': 330.0}. This trial completed.\n",
            "Trial trainable_func_c82e5202 reported epoch=0,loss=0.8617051198953322,should_checkpoint=True with parameters={'act1 ': 'tanh', 'act2': 'relu', 'act3': 'selu', 'lr': 0.0008, 'batch_size': 64, 'hidden_dim1': 165.0, 'hidden_dim2': 255.0, 'hidden_dim3': 255.0}.\n"
          ]
        },
        {
          "output_type": "stream",
          "name": "stderr",
          "text": [
            "\u001b[2m\u001b[36m(func pid=269253)\u001b[0m 2022-07-26 14:39:43,006\tINFO trainable.py:589 -- Restored on 172.28.0.2 from checkpoint: /root/ray_results/trainable_func_2022-07-26_14-33-03/trainable_func_f328243e_7_act1=selu,act2=relu,act3=tanh,batch_size=64,hidden_dim1=120.0000,hidden_dim2=330.0000,hidden_dim3=315.00_2022-07-26_14-33-45/checkpoint_tmp851fc2/./\n",
            "\u001b[2m\u001b[36m(func pid=269253)\u001b[0m 2022-07-26 14:39:43,010\tINFO trainable.py:597 -- Current state after restoring: {'_iteration': 47, '_timesteps_total': None, '_time_total': 73.8032615184784, '_episodes_total': None}\n"
          ]
        },
        {
          "output_type": "stream",
          "name": "stdout",
          "text": [
            "== Status ==\n",
            "Current time: 2022-07-26 14:39:44 (running for 00:06:41.37)\n",
            "Memory usage on this node: 2.5/12.7 GiB\n",
            "Using MedianStoppingRule: num_stopped=6.\n",
            "Resources requested: 2.0/2 CPUs, 0/0 GPUs, 0.0/7.47 GiB heap, 0.0/3.73 GiB objects\n",
            "Result logdir: /root/ray_results/trainable_func_2022-07-26_14-33-03\n",
            "Number of trials: 20/50 (6 PAUSED, 4 RUNNING, 10 TERMINATED)\n",
            "\n",
            "\n",
            "Trial trainable_func_db5c1630 reported epoch=0,loss=0.048925558771898116,should_checkpoint=True with parameters={'act1 ': 'relu', 'act2': 'relu', 'act3': 'relu', 'lr': 0.001, 'batch_size': 16, 'hidden_dim1': 240.0, 'hidden_dim2': 240.0, 'hidden_dim3': 210.0}.\n"
          ]
        },
        {
          "output_type": "stream",
          "name": "stderr",
          "text": [
            "\u001b[2m\u001b[36m(func pid=269253)\u001b[0m 2022-07-26 14:39:44,961\tINFO trainable.py:589 -- Restored on 172.28.0.2 from checkpoint: /root/ray_results/trainable_func_2022-07-26_14-33-03/trainable_func_f328243e_7_act1=selu,act2=relu,act3=tanh,batch_size=64,hidden_dim1=120.0000,hidden_dim2=330.0000,hidden_dim3=315.00_2022-07-26_14-33-45/checkpoint_tmp00ce7e/./\n",
            "\u001b[2m\u001b[36m(func pid=269253)\u001b[0m 2022-07-26 14:39:44,961\tINFO trainable.py:597 -- Current state after restoring: {'_iteration': 48, '_timesteps_total': None, '_time_total': 75.2919270992279, '_episodes_total': None}\n",
            "\u001b[2m\u001b[36m(func pid=269297)\u001b[0m 2022-07-26 14:39:45,608\tINFO trainable.py:589 -- Restored on 172.28.0.2 from checkpoint: /root/ray_results/trainable_func_2022-07-26_14-33-03/trainable_func_db5c1630_5_act1=relu,act2=relu,act3=relu,batch_size=16,hidden_dim1=240.0000,hidden_dim2=240.0000,hidden_dim3=210.00_2022-07-26_14-33-40/checkpoint_tmp1e7ce0/./\n",
            "\u001b[2m\u001b[36m(func pid=269297)\u001b[0m 2022-07-26 14:39:45,608\tINFO trainable.py:597 -- Current state after restoring: {'_iteration': 49, '_timesteps_total': None, '_time_total': 201.5552875995636, '_episodes_total': None}\n"
          ]
        },
        {
          "output_type": "stream",
          "name": "stdout",
          "text": [
            "Trial trainable_func_f19bcd82 reported epoch=0,loss=0.12376468926551819,should_checkpoint=True with parameters={'act1 ': 'tanh', 'act2': 'tanh', 'act3': 'selu', 'lr': 0.0007, 'batch_size': 8, 'hidden_dim1': 225.0, 'hidden_dim2': 315.0, 'hidden_dim3': 315.0}.\n",
            "Trial trainable_func_f328243e reported epoch=0,loss=0.026829633258575934,should_checkpoint=True with parameters={'act1 ': 'selu', 'act2': 'relu', 'act3': 'tanh', 'lr': 0.0009, 'batch_size': 64, 'hidden_dim1': 120.0, 'hidden_dim2': 330.0, 'hidden_dim3': 315.0}.\n"
          ]
        },
        {
          "output_type": "stream",
          "name": "stderr",
          "text": [
            "\u001b[2m\u001b[36m(func pid=269252)\u001b[0m 2022-07-26 14:39:46,462\tINFO trainable.py:589 -- Restored on 172.28.0.2 from checkpoint: /root/ray_results/trainable_func_2022-07-26_14-33-03/trainable_func_f19bcd82_6_act1=tanh,act2=tanh,act3=selu,batch_size=8,hidden_dim1=225.0000,hidden_dim2=315.0000,hidden_dim3=315.000_2022-07-26_14-33-43/checkpoint_tmpecab3b/./\n",
            "\u001b[2m\u001b[36m(func pid=269252)\u001b[0m 2022-07-26 14:39:46,462\tINFO trainable.py:597 -- Current state after restoring: {'_iteration': 22, '_timesteps_total': None, '_time_total': 179.69048833847046, '_episodes_total': None}\n",
            "\u001b[2m\u001b[36m(func pid=269253)\u001b[0m 2022-07-26 14:39:47,259\tINFO trainable.py:589 -- Restored on 172.28.0.2 from checkpoint: /root/ray_results/trainable_func_2022-07-26_14-33-03/trainable_func_f328243e_7_act1=selu,act2=relu,act3=tanh,batch_size=64,hidden_dim1=120.0000,hidden_dim2=330.0000,hidden_dim3=315.00_2022-07-26_14-33-45/checkpoint_tmp0bcdc9/./\n",
            "\u001b[2m\u001b[36m(func pid=269253)\u001b[0m 2022-07-26 14:39:47,260\tINFO trainable.py:597 -- Current state after restoring: {'_iteration': 49, '_timesteps_total': None, '_time_total': 76.76420569419861, '_episodes_total': None}\n"
          ]
        },
        {
          "output_type": "stream",
          "name": "stdout",
          "text": [
            "Trial trainable_func_c82e5202 reported epoch=4,loss=0.5388463786656148,should_checkpoint=True with parameters={'act1 ': 'tanh', 'act2': 'relu', 'act3': 'selu', 'lr': 0.0008, 'batch_size': 64, 'hidden_dim1': 165.0, 'hidden_dim2': 255.0, 'hidden_dim3': 255.0}.\n",
            "Trial trainable_func_f328243e reported epoch=0,loss=0.03026427533880667,should_checkpoint=True with parameters={'act1 ': 'selu', 'act2': 'relu', 'act3': 'tanh', 'lr': 0.0009, 'batch_size': 64, 'hidden_dim1': 120.0, 'hidden_dim2': 330.0, 'hidden_dim3': 315.0}. This trial completed.\n",
            "Trial trainable_func_db5c1630 reported epoch=0,loss=0.04653142993898138,should_checkpoint=True with parameters={'act1 ': 'relu', 'act2': 'relu', 'act3': 'relu', 'lr': 0.001, 'batch_size': 16, 'hidden_dim1': 240.0, 'hidden_dim2': 240.0, 'hidden_dim3': 210.0}. This trial completed.\n",
            "== Status ==\n",
            "Current time: 2022-07-26 14:39:49 (running for 00:06:46.61)\n",
            "Memory usage on this node: 2.5/12.7 GiB\n",
            "Using MedianStoppingRule: num_stopped=6.\n",
            "Resources requested: 2.0/2 CPUs, 0/0 GPUs, 0.0/7.47 GiB heap, 0.0/3.73 GiB objects\n",
            "Result logdir: /root/ray_results/trainable_func_2022-07-26_14-33-03\n",
            "Number of trials: 22/50 (6 PAUSED, 4 RUNNING, 12 TERMINATED)\n",
            "\n",
            "\n",
            "Trial trainable_func_ccead41e reported epoch=0,loss=0.9204145764900663,should_checkpoint=True with parameters={'act1 ': 'selu', 'act2': 'relu', 'act3': 'selu', 'lr': 0.0008, 'batch_size': 64, 'hidden_dim1': 120.0, 'hidden_dim2': 255.0, 'hidden_dim3': 270.0}.\n",
            "Trial trainable_func_cd5a29b8 reported epoch=0,loss=0.916298062709406,should_checkpoint=True with parameters={'act1 ': 'selu', 'act2': 'relu', 'act3': 'selu', 'lr': 0.0008, 'batch_size': 64, 'hidden_dim1': 135.0, 'hidden_dim2': 255.0, 'hidden_dim3': 270.0}.\n",
            "Trial trainable_func_c82e5202 reported epoch=8,loss=0.5512714896043226,should_checkpoint=True with parameters={'act1 ': 'tanh', 'act2': 'relu', 'act3': 'selu', 'lr': 0.0008, 'batch_size': 64, 'hidden_dim1': 165.0, 'hidden_dim2': 255.0, 'hidden_dim3': 255.0}.\n",
            "Trial trainable_func_f19bcd82 reported epoch=0,loss=0.11869764798295845,should_checkpoint=True with parameters={'act1 ': 'tanh', 'act2': 'tanh', 'act3': 'selu', 'lr': 0.0007, 'batch_size': 8, 'hidden_dim1': 225.0, 'hidden_dim2': 315.0, 'hidden_dim3': 315.0}.\n",
            "== Status ==\n",
            "Current time: 2022-07-26 14:39:55 (running for 00:06:52.06)\n",
            "Memory usage on this node: 2.5/12.7 GiB\n",
            "Using MedianStoppingRule: num_stopped=6.\n",
            "Resources requested: 1.5/2 CPUs, 0/0 GPUs, 0.0/7.47 GiB heap, 0.0/3.73 GiB objects\n",
            "Result logdir: /root/ray_results/trainable_func_2022-07-26_14-33-03\n",
            "Number of trials: 22/50 (7 PAUSED, 3 RUNNING, 12 TERMINATED)\n",
            "\n",
            "\n"
          ]
        },
        {
          "output_type": "stream",
          "name": "stderr",
          "text": [
            "\u001b[2m\u001b[36m(func pid=269252)\u001b[0m 2022-07-26 14:39:55,247\tINFO trainable.py:589 -- Restored on 172.28.0.2 from checkpoint: /root/ray_results/trainable_func_2022-07-26_14-33-03/trainable_func_f19bcd82_6_act1=tanh,act2=tanh,act3=selu,batch_size=8,hidden_dim1=225.0000,hidden_dim2=315.0000,hidden_dim3=315.000_2022-07-26_14-33-43/checkpoint_tmpd65a5e/./\n",
            "\u001b[2m\u001b[36m(func pid=269252)\u001b[0m 2022-07-26 14:39:55,247\tINFO trainable.py:597 -- Current state after restoring: {'_iteration': 23, '_timesteps_total': None, '_time_total': 187.75583219528198, '_episodes_total': None}\n"
          ]
        },
        {
          "output_type": "stream",
          "name": "stdout",
          "text": [
            "Trial trainable_func_ccead41e reported epoch=4,loss=0.5014045051370158,should_checkpoint=True with parameters={'act1 ': 'selu', 'act2': 'relu', 'act3': 'selu', 'lr': 0.0008, 'batch_size': 64, 'hidden_dim1': 120.0, 'hidden_dim2': 255.0, 'hidden_dim3': 270.0}.\n",
            "Trial trainable_func_c82e5202 reported epoch=10,loss=0.5398467494452104,should_checkpoint=True with parameters={'act1 ': 'tanh', 'act2': 'relu', 'act3': 'selu', 'lr': 0.0008, 'batch_size': 64, 'hidden_dim1': 165.0, 'hidden_dim2': 255.0, 'hidden_dim3': 255.0}. This trial completed.\n",
            "Trial trainable_func_cd5a29b8 reported epoch=4,loss=0.5870245558848998,should_checkpoint=True with parameters={'act1 ': 'selu', 'act2': 'relu', 'act3': 'selu', 'lr': 0.0008, 'batch_size': 64, 'hidden_dim1': 135.0, 'hidden_dim2': 255.0, 'hidden_dim3': 270.0}.\n",
            "Trial trainable_func_d10eb060 reported epoch=0,loss=0.8511748699057943,should_checkpoint=True with parameters={'act1 ': 'selu', 'act2': 'relu', 'act3': 'selu', 'lr': 0.0008, 'batch_size': 64, 'hidden_dim1': 285.0, 'hidden_dim2': 120.0, 'hidden_dim3': 285.0}.\n",
            "== Status ==\n",
            "Current time: 2022-07-26 14:40:00 (running for 00:06:57.76)\n",
            "Memory usage on this node: 2.5/12.7 GiB\n",
            "Using MedianStoppingRule: num_stopped=7.\n",
            "Resources requested: 2.0/2 CPUs, 0/0 GPUs, 0.0/7.47 GiB heap, 0.0/3.73 GiB objects\n",
            "Result logdir: /root/ray_results/trainable_func_2022-07-26_14-33-03\n",
            "Number of trials: 23/50 (6 PAUSED, 4 RUNNING, 13 TERMINATED)\n",
            "\n",
            "\n",
            "Trial trainable_func_ccead41e reported epoch=8,loss=0.49734649502563244,should_checkpoint=True with parameters={'act1 ': 'selu', 'act2': 'relu', 'act3': 'selu', 'lr': 0.0008, 'batch_size': 64, 'hidden_dim1': 120.0, 'hidden_dim2': 255.0, 'hidden_dim3': 270.0}.\n",
            "Trial trainable_func_d10eb060 reported epoch=4,loss=0.5478319478326639,should_checkpoint=True with parameters={'act1 ': 'selu', 'act2': 'relu', 'act3': 'selu', 'lr': 0.0008, 'batch_size': 64, 'hidden_dim1': 285.0, 'hidden_dim2': 120.0, 'hidden_dim3': 285.0}.\n",
            "Trial trainable_func_cd5a29b8 reported epoch=8,loss=0.6060982818295368,should_checkpoint=True with parameters={'act1 ': 'selu', 'act2': 'relu', 'act3': 'selu', 'lr': 0.0008, 'batch_size': 64, 'hidden_dim1': 135.0, 'hidden_dim2': 255.0, 'hidden_dim3': 270.0}.\n",
            "Trial trainable_func_f19bcd82 reported epoch=0,loss=0.09176356079488901,should_checkpoint=True with parameters={'act1 ': 'tanh', 'act2': 'tanh', 'act3': 'selu', 'lr': 0.0007, 'batch_size': 8, 'hidden_dim1': 225.0, 'hidden_dim2': 315.0, 'hidden_dim3': 315.0}.\n"
          ]
        },
        {
          "output_type": "stream",
          "name": "stderr",
          "text": [
            "\u001b[2m\u001b[36m(func pid=269252)\u001b[0m 2022-07-26 14:40:03,702\tINFO trainable.py:589 -- Restored on 172.28.0.2 from checkpoint: /root/ray_results/trainable_func_2022-07-26_14-33-03/trainable_func_f19bcd82_6_act1=tanh,act2=tanh,act3=selu,batch_size=8,hidden_dim1=225.0000,hidden_dim2=315.0000,hidden_dim3=315.000_2022-07-26_14-33-43/checkpoint_tmpcaae26/./\n",
            "\u001b[2m\u001b[36m(func pid=269252)\u001b[0m 2022-07-26 14:40:03,702\tINFO trainable.py:597 -- Current state after restoring: {'_iteration': 24, '_timesteps_total': None, '_time_total': 195.6236219406128, '_episodes_total': None}\n"
          ]
        },
        {
          "output_type": "stream",
          "name": "stdout",
          "text": [
            "Trial trainable_func_cd5a29b8 reported epoch=9,loss=0.6261178495241532,should_checkpoint=True with parameters={'act1 ': 'selu', 'act2': 'relu', 'act3': 'selu', 'lr': 0.0008, 'batch_size': 64, 'hidden_dim1': 135.0, 'hidden_dim2': 255.0, 'hidden_dim3': 270.0}. This trial completed.\n",
            "Trial trainable_func_ccead41e reported epoch=10,loss=0.4928842477621154,should_checkpoint=True with parameters={'act1 ': 'selu', 'act2': 'relu', 'act3': 'selu', 'lr': 0.0008, 'batch_size': 64, 'hidden_dim1': 120.0, 'hidden_dim2': 255.0, 'hidden_dim3': 270.0}. This trial completed.\n",
            "Trial trainable_func_d5fec510 reported epoch=0,loss=0.7860224947943716,should_checkpoint=True with parameters={'act1 ': 'selu', 'act2': 'relu', 'act3': 'tanh', 'lr': 0.0009, 'batch_size': 64, 'hidden_dim1': 270.0, 'hidden_dim2': 120.0, 'hidden_dim3': 285.0}.\n",
            "Trial trainable_func_d617acce reported epoch=0,loss=0.9058260025957393,should_checkpoint=True with parameters={'act1 ': 'selu', 'act2': 'relu', 'act3': 'tanh', 'lr': 0.0009, 'batch_size': 64, 'hidden_dim1': 270.0, 'hidden_dim2': 135.0, 'hidden_dim3': 300.0}.\n",
            "== Status ==\n",
            "Current time: 2022-07-26 14:40:06 (running for 00:07:03.17)\n",
            "Memory usage on this node: 2.5/12.7 GiB\n",
            "Using MedianStoppingRule: num_stopped=9.\n",
            "Resources requested: 2.0/2 CPUs, 0/0 GPUs, 0.0/7.47 GiB heap, 0.0/3.73 GiB objects\n",
            "Result logdir: /root/ray_results/trainable_func_2022-07-26_14-33-03\n",
            "Number of trials: 25/50 (6 PAUSED, 4 RUNNING, 15 TERMINATED)\n",
            "\n",
            "\n",
            "Trial trainable_func_d10eb060 reported epoch=8,loss=0.5185764671446387,should_checkpoint=True with parameters={'act1 ': 'selu', 'act2': 'relu', 'act3': 'selu', 'lr': 0.0008, 'batch_size': 64, 'hidden_dim1': 285.0, 'hidden_dim2': 120.0, 'hidden_dim3': 285.0}.\n",
            "Trial trainable_func_d10eb060 reported epoch=10,loss=0.5351612393084332,should_checkpoint=True with parameters={'act1 ': 'selu', 'act2': 'relu', 'act3': 'selu', 'lr': 0.0008, 'batch_size': 64, 'hidden_dim1': 285.0, 'hidden_dim2': 120.0, 'hidden_dim3': 285.0}. This trial completed.\n",
            "Trial trainable_func_d617acce reported epoch=4,loss=0.5368172866756366,should_checkpoint=True with parameters={'act1 ': 'selu', 'act2': 'relu', 'act3': 'tanh', 'lr': 0.0009, 'batch_size': 64, 'hidden_dim1': 270.0, 'hidden_dim2': 135.0, 'hidden_dim3': 300.0}.\n",
            "Trial trainable_func_d5fec510 reported epoch=5,loss=0.4682989925630431,should_checkpoint=True with parameters={'act1 ': 'selu', 'act2': 'relu', 'act3': 'tanh', 'lr': 0.0009, 'batch_size': 64, 'hidden_dim1': 270.0, 'hidden_dim2': 120.0, 'hidden_dim3': 285.0}.\n",
            "== Status ==\n",
            "Current time: 2022-07-26 14:40:11 (running for 00:07:08.52)\n",
            "Memory usage on this node: 2.5/12.7 GiB\n",
            "Using MedianStoppingRule: num_stopped=10.\n",
            "Resources requested: 2.0/2 CPUs, 0/0 GPUs, 0.0/7.47 GiB heap, 0.0/3.73 GiB objects\n",
            "Result logdir: /root/ray_results/trainable_func_2022-07-26_14-33-03\n",
            "Number of trials: 26/50 (6 PAUSED, 4 RUNNING, 16 TERMINATED)\n",
            "\n",
            "\n",
            "Trial trainable_func_f19bcd82 reported epoch=0,loss=0.11555201522150327,should_checkpoint=True with parameters={'act1 ': 'tanh', 'act2': 'tanh', 'act3': 'selu', 'lr': 0.0007, 'batch_size': 8, 'hidden_dim1': 225.0, 'hidden_dim2': 315.0, 'hidden_dim3': 315.0}.\n"
          ]
        },
        {
          "output_type": "stream",
          "name": "stderr",
          "text": [
            "\u001b[2m\u001b[36m(func pid=269252)\u001b[0m 2022-07-26 14:40:12,415\tINFO trainable.py:589 -- Restored on 172.28.0.2 from checkpoint: /root/ray_results/trainable_func_2022-07-26_14-33-03/trainable_func_f19bcd82_6_act1=tanh,act2=tanh,act3=selu,batch_size=8,hidden_dim1=225.0000,hidden_dim2=315.0000,hidden_dim3=315.000_2022-07-26_14-33-43/checkpoint_tmpdd9b1e/./\n",
            "\u001b[2m\u001b[36m(func pid=269252)\u001b[0m 2022-07-26 14:40:12,415\tINFO trainable.py:597 -- Current state after restoring: {'_iteration': 25, '_timesteps_total': None, '_time_total': 203.80881571769714, '_episodes_total': None}\n"
          ]
        },
        {
          "output_type": "stream",
          "name": "stdout",
          "text": [
            "Trial trainable_func_d99fe3ca reported epoch=0,loss=0.9536602703766919,should_checkpoint=True with parameters={'act1 ': 'tanh', 'act2': 'relu', 'act3': 'tanh', 'lr': 0.0009, 'batch_size': 64, 'hidden_dim1': 180.0, 'hidden_dim2': 330.0, 'hidden_dim3': 300.0}.\n",
            "Trial trainable_func_d617acce reported epoch=8,loss=0.5419332960443912,should_checkpoint=True with parameters={'act1 ': 'selu', 'act2': 'relu', 'act3': 'tanh', 'lr': 0.0009, 'batch_size': 64, 'hidden_dim1': 270.0, 'hidden_dim2': 135.0, 'hidden_dim3': 300.0}.\n",
            "== Status ==\n",
            "Current time: 2022-07-26 14:40:17 (running for 00:07:14.04)\n",
            "Memory usage on this node: 2.5/12.7 GiB\n",
            "Using MedianStoppingRule: num_stopped=10.\n",
            "Resources requested: 2.0/2 CPUs, 0/0 GPUs, 0.0/7.47 GiB heap, 0.0/3.73 GiB objects\n",
            "Result logdir: /root/ray_results/trainable_func_2022-07-26_14-33-03\n",
            "Number of trials: 26/50 (6 PAUSED, 4 RUNNING, 16 TERMINATED)\n",
            "\n",
            "\n",
            "Trial trainable_func_d5fec510 reported epoch=10,loss=0.49909279515968696,should_checkpoint=True with parameters={'act1 ': 'selu', 'act2': 'relu', 'act3': 'tanh', 'lr': 0.0009, 'batch_size': 64, 'hidden_dim1': 270.0, 'hidden_dim2': 120.0, 'hidden_dim3': 285.0}.\n",
            "Trial trainable_func_d99fe3ca reported epoch=4,loss=0.6040748391635857,should_checkpoint=True with parameters={'act1 ': 'tanh', 'act2': 'relu', 'act3': 'tanh', 'lr': 0.0009, 'batch_size': 64, 'hidden_dim1': 180.0, 'hidden_dim2': 330.0, 'hidden_dim3': 300.0}.\n",
            "Trial trainable_func_d617acce reported epoch=10,loss=0.5624639879573566,should_checkpoint=True with parameters={'act1 ': 'selu', 'act2': 'relu', 'act3': 'tanh', 'lr': 0.0009, 'batch_size': 64, 'hidden_dim1': 270.0, 'hidden_dim2': 135.0, 'hidden_dim3': 300.0}. This trial completed.\n"
          ]
        },
        {
          "output_type": "stream",
          "name": "stderr",
          "text": [
            "\u001b[2m\u001b[36m(func pid=269297)\u001b[0m 2022-07-26 14:40:19,373\tINFO trainable.py:589 -- Restored on 172.28.0.2 from checkpoint: /root/ray_results/trainable_func_2022-07-26_14-33-03/trainable_func_f474cfe0_8_act1=selu,act2=selu,act3=tanh,batch_size=16,hidden_dim1=225.0000,hidden_dim2=210.0000,hidden_dim3=240.00_2022-07-26_14-34-05/checkpoint_tmp61e557/./\n",
            "\u001b[2m\u001b[36m(func pid=269297)\u001b[0m 2022-07-26 14:40:19,374\tINFO trainable.py:597 -- Current state after restoring: {'_iteration': 10, '_timesteps_total': None, '_time_total': 43.03346061706543, '_episodes_total': None}\n"
          ]
        },
        {
          "output_type": "stream",
          "name": "stdout",
          "text": [
            "Trial trainable_func_f19bcd82 reported epoch=0,loss=0.09839464061852667,should_checkpoint=True with parameters={'act1 ': 'tanh', 'act2': 'tanh', 'act3': 'selu', 'lr': 0.0007, 'batch_size': 8, 'hidden_dim1': 225.0, 'hidden_dim2': 315.0, 'hidden_dim3': 315.0}.\n",
            "Trial trainable_func_df263fd8 reported epoch=0,loss=0.8413687723683546,should_checkpoint=True with parameters={'act1 ': 'tanh', 'act2': 'relu', 'act3': 'tanh', 'lr': 0.0009, 'batch_size': 64, 'hidden_dim1': 180.0, 'hidden_dim2': 330.0, 'hidden_dim3': 240.0}.\n"
          ]
        },
        {
          "output_type": "stream",
          "name": "stderr",
          "text": [
            "\u001b[2m\u001b[36m(func pid=269252)\u001b[0m 2022-07-26 14:40:21,039\tINFO trainable.py:589 -- Restored on 172.28.0.2 from checkpoint: /root/ray_results/trainable_func_2022-07-26_14-33-03/trainable_func_f19bcd82_6_act1=tanh,act2=tanh,act3=selu,batch_size=8,hidden_dim1=225.0000,hidden_dim2=315.0000,hidden_dim3=315.000_2022-07-26_14-33-43/checkpoint_tmp023d03/./\n",
            "\u001b[2m\u001b[36m(func pid=269252)\u001b[0m 2022-07-26 14:40:21,040\tINFO trainable.py:597 -- Current state after restoring: {'_iteration': 26, '_timesteps_total': None, '_time_total': 211.62410306930542, '_episodes_total': None}\n"
          ]
        },
        {
          "output_type": "stream",
          "name": "stdout",
          "text": [
            "== Status ==\n",
            "Current time: 2022-07-26 14:40:22 (running for 00:07:19.23)\n",
            "Memory usage on this node: 2.5/12.7 GiB\n",
            "Using MedianStoppingRule: num_stopped=11.\n",
            "Resources requested: 2.0/2 CPUs, 0/0 GPUs, 0.0/7.47 GiB heap, 0.0/3.73 GiB objects\n",
            "Result logdir: /root/ray_results/trainable_func_2022-07-26_14-33-03\n",
            "Number of trials: 27/50 (6 PAUSED, 4 RUNNING, 17 TERMINATED)\n",
            "\n",
            "\n",
            "Trial trainable_func_f474cfe0 reported epoch=0,loss=0.26684558575807393,should_checkpoint=True with parameters={'act1 ': 'selu', 'act2': 'selu', 'act3': 'tanh', 'lr': 0.0008, 'batch_size': 16, 'hidden_dim1': 225.0, 'hidden_dim2': 210.0, 'hidden_dim3': 240.0}.\n",
            "Trial trainable_func_d99fe3ca reported epoch=8,loss=0.6282787010708335,should_checkpoint=True with parameters={'act1 ': 'tanh', 'act2': 'relu', 'act3': 'tanh', 'lr': 0.0009, 'batch_size': 64, 'hidden_dim1': 180.0, 'hidden_dim2': 330.0, 'hidden_dim3': 300.0}.\n"
          ]
        },
        {
          "output_type": "stream",
          "name": "stderr",
          "text": [
            "\u001b[2m\u001b[36m(func pid=269297)\u001b[0m 2022-07-26 14:40:26,645\tINFO trainable.py:589 -- Restored on 172.28.0.2 from checkpoint: /root/ray_results/trainable_func_2022-07-26_14-33-03/trainable_func_f474cfe0_8_act1=selu,act2=selu,act3=tanh,batch_size=16,hidden_dim1=225.0000,hidden_dim2=210.0000,hidden_dim3=240.00_2022-07-26_14-34-05/checkpoint_tmp5f4ab3/./\n",
            "\u001b[2m\u001b[36m(func pid=269297)\u001b[0m 2022-07-26 14:40:26,648\tINFO trainable.py:597 -- Current state after restoring: {'_iteration': 12, '_timesteps_total': None, '_time_total': 49.609394550323486, '_episodes_total': None}\n"
          ]
        },
        {
          "output_type": "stream",
          "name": "stdout",
          "text": [
            "Trial trainable_func_d99fe3ca reported epoch=9,loss=0.6213441349075495,should_checkpoint=True with parameters={'act1 ': 'tanh', 'act2': 'relu', 'act3': 'tanh', 'lr': 0.0009, 'batch_size': 64, 'hidden_dim1': 180.0, 'hidden_dim2': 330.0, 'hidden_dim3': 300.0}. This trial completed.\n",
            "Trial trainable_func_df263fd8 reported epoch=4,loss=0.513438305478824,should_checkpoint=True with parameters={'act1 ': 'tanh', 'act2': 'relu', 'act3': 'tanh', 'lr': 0.0009, 'batch_size': 64, 'hidden_dim1': 180.0, 'hidden_dim2': 330.0, 'hidden_dim3': 240.0}.\n",
            "== Status ==\n",
            "Current time: 2022-07-26 14:40:28 (running for 00:07:25.20)\n",
            "Memory usage on this node: 2.5/12.7 GiB\n",
            "Using MedianStoppingRule: num_stopped=12.\n",
            "Resources requested: 2.0/2 CPUs, 0/0 GPUs, 0.0/7.47 GiB heap, 0.0/3.73 GiB objects\n",
            "Result logdir: /root/ray_results/trainable_func_2022-07-26_14-33-03\n",
            "Number of trials: 28/50 (6 PAUSED, 4 RUNNING, 18 TERMINATED)\n",
            "\n",
            "\n",
            "Trial trainable_func_e38ab8d8 reported epoch=0,loss=0.7876999156645963,should_checkpoint=True with parameters={'act1 ': 'tanh', 'act2': 'selu', 'act3': 'tanh', 'lr': 0.0007, 'batch_size': 64, 'hidden_dim1': 285.0, 'hidden_dim2': 285.0, 'hidden_dim3': 225.0}.\n",
            "Trial trainable_func_f19bcd82 reported epoch=0,loss=0.09737526714585736,should_checkpoint=True with parameters={'act1 ': 'tanh', 'act2': 'tanh', 'act3': 'selu', 'lr': 0.0007, 'batch_size': 8, 'hidden_dim1': 225.0, 'hidden_dim2': 315.0, 'hidden_dim3': 315.0}.\n"
          ]
        },
        {
          "output_type": "stream",
          "name": "stderr",
          "text": [
            "\u001b[2m\u001b[36m(func pid=269252)\u001b[0m 2022-07-26 14:40:29,511\tINFO trainable.py:589 -- Restored on 172.28.0.2 from checkpoint: /root/ray_results/trainable_func_2022-07-26_14-33-03/trainable_func_f19bcd82_6_act1=tanh,act2=tanh,act3=selu,batch_size=8,hidden_dim1=225.0000,hidden_dim2=315.0000,hidden_dim3=315.000_2022-07-26_14-33-43/checkpoint_tmp47b4da/./\n",
            "\u001b[2m\u001b[36m(func pid=269252)\u001b[0m 2022-07-26 14:40:29,511\tINFO trainable.py:597 -- Current state after restoring: {'_iteration': 27, '_timesteps_total': None, '_time_total': 219.46037364006042, '_episodes_total': None}\n"
          ]
        },
        {
          "output_type": "stream",
          "name": "stdout",
          "text": [
            "Trial trainable_func_f474cfe0 reported epoch=0,loss=0.25208839618748513,should_checkpoint=True with parameters={'act1 ': 'selu', 'act2': 'selu', 'act3': 'tanh', 'lr': 0.0008, 'batch_size': 16, 'hidden_dim1': 225.0, 'hidden_dim2': 210.0, 'hidden_dim3': 240.0}.\n"
          ]
        },
        {
          "output_type": "stream",
          "name": "stderr",
          "text": [
            "\u001b[2m\u001b[36m(func pid=269297)\u001b[0m 2022-07-26 14:40:31,130\tINFO trainable.py:589 -- Restored on 172.28.0.2 from checkpoint: /root/ray_results/trainable_func_2022-07-26_14-33-03/trainable_func_f474cfe0_8_act1=selu,act2=selu,act3=tanh,batch_size=16,hidden_dim1=225.0000,hidden_dim2=210.0000,hidden_dim3=240.00_2022-07-26_14-34-05/checkpoint_tmp074172/./\n",
            "\u001b[2m\u001b[36m(func pid=269297)\u001b[0m 2022-07-26 14:40:31,130\tINFO trainable.py:597 -- Current state after restoring: {'_iteration': 13, '_timesteps_total': None, '_time_total': 53.271477460861206, '_episodes_total': None}\n"
          ]
        },
        {
          "output_type": "stream",
          "name": "stdout",
          "text": [
            "Trial trainable_func_df263fd8 reported epoch=8,loss=0.5040000689920815,should_checkpoint=True with parameters={'act1 ': 'tanh', 'act2': 'relu', 'act3': 'tanh', 'lr': 0.0009, 'batch_size': 64, 'hidden_dim1': 180.0, 'hidden_dim2': 330.0, 'hidden_dim3': 240.0}.\n",
            "== Status ==\n",
            "Current time: 2022-07-26 14:40:34 (running for 00:07:30.98)\n",
            "Memory usage on this node: 2.5/12.7 GiB\n",
            "Using MedianStoppingRule: num_stopped=12.\n",
            "Resources requested: 2.0/2 CPUs, 0/0 GPUs, 0.0/7.47 GiB heap, 0.0/3.73 GiB objects\n",
            "Result logdir: /root/ray_results/trainable_func_2022-07-26_14-33-03\n",
            "Number of trials: 28/50 (6 PAUSED, 4 RUNNING, 18 TERMINATED)\n",
            "\n",
            "\n"
          ]
        },
        {
          "output_type": "stream",
          "name": "stderr",
          "text": [
            "\u001b[2m\u001b[36m(func pid=269297)\u001b[0m 2022-07-26 14:40:35,113\tINFO trainable.py:589 -- Restored on 172.28.0.2 from checkpoint: /root/ray_results/trainable_func_2022-07-26_14-33-03/trainable_func_f474cfe0_8_act1=selu,act2=selu,act3=tanh,batch_size=16,hidden_dim1=225.0000,hidden_dim2=210.0000,hidden_dim3=240.00_2022-07-26_14-34-05/checkpoint_tmp17e166/./\n",
            "\u001b[2m\u001b[36m(func pid=269297)\u001b[0m 2022-07-26 14:40:35,121\tINFO trainable.py:597 -- Current state after restoring: {'_iteration': 14, '_timesteps_total': None, '_time_total': 56.716196060180664, '_episodes_total': None}\n"
          ]
        },
        {
          "output_type": "stream",
          "name": "stdout",
          "text": [
            "Trial trainable_func_e38ab8d8 reported epoch=4,loss=0.5812636663709747,should_checkpoint=True with parameters={'act1 ': 'tanh', 'act2': 'selu', 'act3': 'tanh', 'lr': 0.0007, 'batch_size': 64, 'hidden_dim1': 285.0, 'hidden_dim2': 285.0, 'hidden_dim3': 225.0}.\n",
            "Trial trainable_func_f19bcd82 reported epoch=0,loss=0.08127209305372386,should_checkpoint=True with parameters={'act1 ': 'tanh', 'act2': 'tanh', 'act3': 'selu', 'lr': 0.0007, 'batch_size': 8, 'hidden_dim1': 225.0, 'hidden_dim2': 315.0, 'hidden_dim3': 315.0}.\n"
          ]
        },
        {
          "output_type": "stream",
          "name": "stderr",
          "text": [
            "\u001b[2m\u001b[36m(func pid=269253)\u001b[0m 2022-07-26 14:40:37,558\tINFO trainable.py:589 -- Restored on 172.28.0.2 from checkpoint: /root/ray_results/trainable_func_2022-07-26_14-33-03/trainable_func_007a81ea_9_act1=selu,act2=selu,act3=tanh,batch_size=32,hidden_dim1=120.0000,hidden_dim2=285.0000,hidden_dim3=225.00_2022-07-26_14-34-08/checkpoint_tmpaa7b12/./\n",
            "\u001b[2m\u001b[36m(func pid=269253)\u001b[0m 2022-07-26 14:40:37,558\tINFO trainable.py:597 -- Current state after restoring: {'_iteration': 10, '_timesteps_total': None, '_time_total': 27.593076467514038, '_episodes_total': None}\n",
            "\u001b[2m\u001b[36m(func pid=269252)\u001b[0m 2022-07-26 14:40:38,252\tINFO trainable.py:589 -- Restored on 172.28.0.2 from checkpoint: /root/ray_results/trainable_func_2022-07-26_14-33-03/trainable_func_f19bcd82_6_act1=tanh,act2=tanh,act3=selu,batch_size=8,hidden_dim1=225.0000,hidden_dim2=315.0000,hidden_dim3=315.000_2022-07-26_14-33-43/checkpoint_tmpdd1277/./\n",
            "\u001b[2m\u001b[36m(func pid=269252)\u001b[0m 2022-07-26 14:40:38,252\tINFO trainable.py:597 -- Current state after restoring: {'_iteration': 28, '_timesteps_total': None, '_time_total': 227.37462496757507, '_episodes_total': None}\n"
          ]
        },
        {
          "output_type": "stream",
          "name": "stdout",
          "text": [
            "Trial trainable_func_f474cfe0 reported epoch=0,loss=0.15939257841941545,should_checkpoint=True with parameters={'act1 ': 'selu', 'act2': 'selu', 'act3': 'tanh', 'lr': 0.0008, 'batch_size': 16, 'hidden_dim1': 225.0, 'hidden_dim2': 210.0, 'hidden_dim3': 240.0}.\n",
            "== Status ==\n",
            "Current time: 2022-07-26 14:40:39 (running for 00:07:36.26)\n",
            "Memory usage on this node: 2.5/12.7 GiB\n",
            "Using MedianStoppingRule: num_stopped=12.\n",
            "Resources requested: 1.5/2 CPUs, 0/0 GPUs, 0.0/7.47 GiB heap, 0.0/3.73 GiB objects\n",
            "Result logdir: /root/ray_results/trainable_func_2022-07-26_14-33-03\n",
            "Number of trials: 28/50 (7 PAUSED, 3 RUNNING, 18 TERMINATED)\n",
            "\n",
            "\n",
            "Trial trainable_func_007a81ea reported epoch=0,loss=0.348935703024556,should_checkpoint=True with parameters={'act1 ': 'selu', 'act2': 'selu', 'act3': 'tanh', 'lr': 0.0005, 'batch_size': 32, 'hidden_dim1': 120.0, 'hidden_dim2': 285.0, 'hidden_dim3': 225.0}.\n"
          ]
        },
        {
          "output_type": "stream",
          "name": "stderr",
          "text": [
            "\u001b[2m\u001b[36m(func pid=269297)\u001b[0m 2022-07-26 14:40:39,463\tINFO trainable.py:589 -- Restored on 172.28.0.2 from checkpoint: /root/ray_results/trainable_func_2022-07-26_14-33-03/trainable_func_f474cfe0_8_act1=selu,act2=selu,act3=tanh,batch_size=16,hidden_dim1=225.0000,hidden_dim2=210.0000,hidden_dim3=240.00_2022-07-26_14-34-05/checkpoint_tmpd82db7/./\n",
            "\u001b[2m\u001b[36m(func pid=269297)\u001b[0m 2022-07-26 14:40:39,464\tINFO trainable.py:597 -- Current state after restoring: {'_iteration': 15, '_timesteps_total': None, '_time_total': 60.26907968521118, '_episodes_total': None}\n"
          ]
        },
        {
          "output_type": "stream",
          "name": "stdout",
          "text": [
            "Trial trainable_func_e38ab8d8 reported epoch=8,loss=0.5978847712269252,should_checkpoint=True with parameters={'act1 ': 'tanh', 'act2': 'selu', 'act3': 'tanh', 'lr': 0.0007, 'batch_size': 64, 'hidden_dim1': 285.0, 'hidden_dim2': 285.0, 'hidden_dim3': 225.0}.\n",
            "Trial trainable_func_e38ab8d8 reported epoch=9,loss=0.5614555818590732,should_checkpoint=True with parameters={'act1 ': 'tanh', 'act2': 'selu', 'act3': 'tanh', 'lr': 0.0007, 'batch_size': 64, 'hidden_dim1': 285.0, 'hidden_dim2': 285.0, 'hidden_dim3': 225.0}. This trial completed.\n"
          ]
        },
        {
          "output_type": "stream",
          "name": "stderr",
          "text": [
            "\u001b[2m\u001b[36m(func pid=269297)\u001b[0m 2022-07-26 14:40:43,800\tINFO trainable.py:589 -- Restored on 172.28.0.2 from checkpoint: /root/ray_results/trainable_func_2022-07-26_14-33-03/trainable_func_f474cfe0_8_act1=selu,act2=selu,act3=tanh,batch_size=16,hidden_dim1=225.0000,hidden_dim2=210.0000,hidden_dim3=240.00_2022-07-26_14-34-05/checkpoint_tmpf67a6c/./\n",
            "\u001b[2m\u001b[36m(func pid=269297)\u001b[0m 2022-07-26 14:40:43,800\tINFO trainable.py:597 -- Current state after restoring: {'_iteration': 16, '_timesteps_total': None, '_time_total': 63.87845206260681, '_episodes_total': None}\n"
          ]
        },
        {
          "output_type": "stream",
          "name": "stdout",
          "text": [
            "== Status ==\n",
            "Current time: 2022-07-26 14:40:44 (running for 00:07:41.34)\n",
            "Memory usage on this node: 2.5/12.7 GiB\n",
            "Using MedianStoppingRule: num_stopped=13.\n",
            "Resources requested: 1.5/2 CPUs, 0/0 GPUs, 0.0/7.47 GiB heap, 0.0/3.73 GiB objects\n",
            "Result logdir: /root/ray_results/trainable_func_2022-07-26_14-33-03\n",
            "Number of trials: 29/50 (7 PAUSED, 3 RUNNING, 19 TERMINATED)\n",
            "\n",
            "\n"
          ]
        },
        {
          "output_type": "stream",
          "name": "stderr",
          "text": [
            "\u001b[2m\u001b[36m(func pid=269253)\u001b[0m 2022-07-26 14:40:44,534\tINFO trainable.py:589 -- Restored on 172.28.0.2 from checkpoint: /root/ray_results/trainable_func_2022-07-26_14-33-03/trainable_func_007a81ea_9_act1=selu,act2=selu,act3=tanh,batch_size=32,hidden_dim1=120.0000,hidden_dim2=285.0000,hidden_dim3=225.00_2022-07-26_14-34-08/checkpoint_tmpbc958e/./\n",
            "\u001b[2m\u001b[36m(func pid=269253)\u001b[0m 2022-07-26 14:40:44,534\tINFO trainable.py:597 -- Current state after restoring: {'_iteration': 13, '_timesteps_total': None, '_time_total': 33.615336418151855, '_episodes_total': None}\n"
          ]
        },
        {
          "output_type": "stream",
          "name": "stdout",
          "text": [
            "Trial trainable_func_f19bcd82 reported epoch=0,loss=0.08731006779299773,should_checkpoint=True with parameters={'act1 ': 'tanh', 'act2': 'tanh', 'act3': 'selu', 'lr': 0.0007, 'batch_size': 8, 'hidden_dim1': 225.0, 'hidden_dim2': 315.0, 'hidden_dim3': 315.0}.\n",
            "Trial trainable_func_007a81ea reported epoch=0,loss=0.2796559861397928,should_checkpoint=True with parameters={'act1 ': 'selu', 'act2': 'selu', 'act3': 'tanh', 'lr': 0.0005, 'batch_size': 32, 'hidden_dim1': 120.0, 'hidden_dim2': 285.0, 'hidden_dim3': 225.0}.\n"
          ]
        },
        {
          "output_type": "stream",
          "name": "stderr",
          "text": [
            "\u001b[2m\u001b[36m(func pid=269252)\u001b[0m 2022-07-26 14:40:46,686\tINFO trainable.py:589 -- Restored on 172.28.0.2 from checkpoint: /root/ray_results/trainable_func_2022-07-26_14-33-03/trainable_func_f19bcd82_6_act1=tanh,act2=tanh,act3=selu,batch_size=8,hidden_dim1=225.0000,hidden_dim2=315.0000,hidden_dim3=315.000_2022-07-26_14-33-43/checkpoint_tmp724c6f/./\n",
            "\u001b[2m\u001b[36m(func pid=269252)\u001b[0m 2022-07-26 14:40:46,686\tINFO trainable.py:597 -- Current state after restoring: {'_iteration': 29, '_timesteps_total': None, '_time_total': 234.97155570983887, '_episodes_total': None}\n"
          ]
        },
        {
          "output_type": "stream",
          "name": "stdout",
          "text": [
            "Trial trainable_func_f474cfe0 reported epoch=0,loss=0.13944259042887883,should_checkpoint=True with parameters={'act1 ': 'selu', 'act2': 'selu', 'act3': 'tanh', 'lr': 0.0008, 'batch_size': 16, 'hidden_dim1': 225.0, 'hidden_dim2': 210.0, 'hidden_dim3': 240.0}.\n"
          ]
        },
        {
          "output_type": "stream",
          "name": "stderr",
          "text": [
            "\u001b[2m\u001b[36m(func pid=269253)\u001b[0m 2022-07-26 14:40:47,244\tINFO trainable.py:589 -- Restored on 172.28.0.2 from checkpoint: /root/ray_results/trainable_func_2022-07-26_14-33-03/trainable_func_007a81ea_9_act1=selu,act2=selu,act3=tanh,batch_size=32,hidden_dim1=120.0000,hidden_dim2=285.0000,hidden_dim3=225.00_2022-07-26_14-34-08/checkpoint_tmp7a8a6c/./\n",
            "\u001b[2m\u001b[36m(func pid=269253)\u001b[0m 2022-07-26 14:40:47,244\tINFO trainable.py:597 -- Current state after restoring: {'_iteration': 14, '_timesteps_total': None, '_time_total': 35.775883436203, '_episodes_total': None}\n",
            "\u001b[2m\u001b[36m(func pid=269297)\u001b[0m 2022-07-26 14:40:47,662\tINFO trainable.py:589 -- Restored on 172.28.0.2 from checkpoint: /root/ray_results/trainable_func_2022-07-26_14-33-03/trainable_func_f474cfe0_8_act1=selu,act2=selu,act3=tanh,batch_size=16,hidden_dim1=225.0000,hidden_dim2=210.0000,hidden_dim3=240.00_2022-07-26_14-34-05/checkpoint_tmp90b1b8/./\n",
            "\u001b[2m\u001b[36m(func pid=269297)\u001b[0m 2022-07-26 14:40:47,662\tINFO trainable.py:597 -- Current state after restoring: {'_iteration': 17, '_timesteps_total': None, '_time_total': 67.06120228767395, '_episodes_total': None}\n"
          ]
        },
        {
          "output_type": "stream",
          "name": "stdout",
          "text": [
            "== Status ==\n",
            "Current time: 2022-07-26 14:40:49 (running for 00:07:46.74)\n",
            "Memory usage on this node: 2.5/12.7 GiB\n",
            "Using MedianStoppingRule: num_stopped=13.\n",
            "Resources requested: 1.5/2 CPUs, 0/0 GPUs, 0.0/7.47 GiB heap, 0.0/3.73 GiB objects\n",
            "Result logdir: /root/ray_results/trainable_func_2022-07-26_14-33-03\n",
            "Number of trials: 29/50 (7 PAUSED, 3 RUNNING, 19 TERMINATED)\n",
            "\n",
            "\n",
            "Trial trainable_func_ed1381a0 reported epoch=0,loss=0.7899924452978747,should_checkpoint=True with parameters={'act1 ': 'relu', 'act2': 'tanh', 'act3': 'relu', 'lr': 0.0009, 'batch_size': 8, 'hidden_dim1': 165.0, 'hidden_dim2': 285.0, 'hidden_dim3': 330.0}.\n"
          ]
        },
        {
          "output_type": "stream",
          "name": "stderr",
          "text": [
            "\u001b[2m\u001b[36m(func pid=269253)\u001b[0m 2022-07-26 14:40:49,922\tINFO trainable.py:589 -- Restored on 172.28.0.2 from checkpoint: /root/ray_results/trainable_func_2022-07-26_14-33-03/trainable_func_007a81ea_9_act1=selu,act2=selu,act3=tanh,batch_size=32,hidden_dim1=120.0000,hidden_dim2=285.0000,hidden_dim3=225.00_2022-07-26_14-34-08/checkpoint_tmpe3cddf/./\n",
            "\u001b[2m\u001b[36m(func pid=269253)\u001b[0m 2022-07-26 14:40:49,923\tINFO trainable.py:597 -- Current state after restoring: {'_iteration': 15, '_timesteps_total': None, '_time_total': 37.89140248298645, '_episodes_total': None}\n",
            "\u001b[2m\u001b[36m(func pid=269297)\u001b[0m 2022-07-26 14:40:51,645\tINFO trainable.py:589 -- Restored on 172.28.0.2 from checkpoint: /root/ray_results/trainable_func_2022-07-26_14-33-03/trainable_func_f474cfe0_8_act1=selu,act2=selu,act3=tanh,batch_size=16,hidden_dim1=225.0000,hidden_dim2=210.0000,hidden_dim3=240.00_2022-07-26_14-34-05/checkpoint_tmp3e0b24/./\n",
            "\u001b[2m\u001b[36m(func pid=269297)\u001b[0m 2022-07-26 14:40:51,646\tINFO trainable.py:597 -- Current state after restoring: {'_iteration': 18, '_timesteps_total': None, '_time_total': 70.23135447502136, '_episodes_total': None}\n"
          ]
        },
        {
          "output_type": "stream",
          "name": "stdout",
          "text": [
            "Trial trainable_func_007a81ea reported epoch=0,loss=0.22796807956521603,should_checkpoint=True with parameters={'act1 ': 'selu', 'act2': 'selu', 'act3': 'tanh', 'lr': 0.0005, 'batch_size': 32, 'hidden_dim1': 120.0, 'hidden_dim2': 285.0, 'hidden_dim3': 225.0}.\n"
          ]
        },
        {
          "output_type": "stream",
          "name": "stderr",
          "text": [
            "\u001b[2m\u001b[36m(func pid=269253)\u001b[0m 2022-07-26 14:40:52,630\tINFO trainable.py:589 -- Restored on 172.28.0.2 from checkpoint: /root/ray_results/trainable_func_2022-07-26_14-33-03/trainable_func_007a81ea_9_act1=selu,act2=selu,act3=tanh,batch_size=32,hidden_dim1=120.0000,hidden_dim2=285.0000,hidden_dim3=225.00_2022-07-26_14-34-08/checkpoint_tmpec3f87/./\n",
            "\u001b[2m\u001b[36m(func pid=269253)\u001b[0m 2022-07-26 14:40:52,630\tINFO trainable.py:597 -- Current state after restoring: {'_iteration': 16, '_timesteps_total': None, '_time_total': 39.7700297832489, '_episodes_total': None}\n"
          ]
        },
        {
          "output_type": "stream",
          "name": "stdout",
          "text": [
            "Trial trainable_func_f19bcd82 reported epoch=0,loss=0.09716789833041994,should_checkpoint=True with parameters={'act1 ': 'tanh', 'act2': 'tanh', 'act3': 'selu', 'lr': 0.0007, 'batch_size': 8, 'hidden_dim1': 225.0, 'hidden_dim2': 315.0, 'hidden_dim3': 315.0}.\n"
          ]
        },
        {
          "output_type": "stream",
          "name": "stderr",
          "text": [
            "\u001b[2m\u001b[36m(func pid=269252)\u001b[0m 2022-07-26 14:40:54,595\tINFO trainable.py:589 -- Restored on 172.28.0.2 from checkpoint: /root/ray_results/trainable_func_2022-07-26_14-33-03/trainable_func_f19bcd82_6_act1=tanh,act2=tanh,act3=selu,batch_size=8,hidden_dim1=225.0000,hidden_dim2=315.0000,hidden_dim3=315.000_2022-07-26_14-33-43/checkpoint_tmp1c5289/./\n",
            "\u001b[2m\u001b[36m(func pid=269252)\u001b[0m 2022-07-26 14:40:54,599\tINFO trainable.py:597 -- Current state after restoring: {'_iteration': 30, '_timesteps_total': None, '_time_total': 242.0768072605133, '_episodes_total': None}\n"
          ]
        },
        {
          "output_type": "stream",
          "name": "stdout",
          "text": [
            "== Status ==\n",
            "Current time: 2022-07-26 14:40:55 (running for 00:07:52.06)\n",
            "Memory usage on this node: 2.5/12.7 GiB\n",
            "Using MedianStoppingRule: num_stopped=13.\n",
            "Resources requested: 1.5/2 CPUs, 0/0 GPUs, 0.0/7.47 GiB heap, 0.0/3.73 GiB objects\n",
            "Result logdir: /root/ray_results/trainable_func_2022-07-26_14-33-03\n",
            "Number of trials: 29/50 (7 PAUSED, 3 RUNNING, 19 TERMINATED)\n",
            "\n",
            "\n",
            "Trial trainable_func_f474cfe0 reported epoch=0,loss=0.12699984443168588,should_checkpoint=True with parameters={'act1 ': 'selu', 'act2': 'selu', 'act3': 'tanh', 'lr': 0.0008, 'batch_size': 16, 'hidden_dim1': 225.0, 'hidden_dim2': 210.0, 'hidden_dim3': 240.0}.\n"
          ]
        },
        {
          "output_type": "stream",
          "name": "stderr",
          "text": [
            "\u001b[2m\u001b[36m(func pid=269253)\u001b[0m 2022-07-26 14:40:55,245\tINFO trainable.py:589 -- Restored on 172.28.0.2 from checkpoint: /root/ray_results/trainable_func_2022-07-26_14-33-03/trainable_func_007a81ea_9_act1=selu,act2=selu,act3=tanh,batch_size=32,hidden_dim1=120.0000,hidden_dim2=285.0000,hidden_dim3=225.00_2022-07-26_14-34-08/checkpoint_tmp45f9b3/./\n",
            "\u001b[2m\u001b[36m(func pid=269253)\u001b[0m 2022-07-26 14:40:55,245\tINFO trainable.py:597 -- Current state after restoring: {'_iteration': 17, '_timesteps_total': None, '_time_total': 41.61022734642029, '_episodes_total': None}\n",
            "\u001b[2m\u001b[36m(func pid=269297)\u001b[0m 2022-07-26 14:40:55,879\tINFO trainable.py:589 -- Restored on 172.28.0.2 from checkpoint: /root/ray_results/trainable_func_2022-07-26_14-33-03/trainable_func_f474cfe0_8_act1=selu,act2=selu,act3=tanh,batch_size=16,hidden_dim1=225.0000,hidden_dim2=210.0000,hidden_dim3=240.00_2022-07-26_14-34-05/checkpoint_tmp4e320c/./\n",
            "\u001b[2m\u001b[36m(func pid=269297)\u001b[0m 2022-07-26 14:40:55,880\tINFO trainable.py:597 -- Current state after restoring: {'_iteration': 19, '_timesteps_total': None, '_time_total': 73.68385457992554, '_episodes_total': None}\n"
          ]
        },
        {
          "output_type": "stream",
          "name": "stdout",
          "text": [
            "Trial trainable_func_ed1381a0 reported epoch=1,loss=0.5859850120004088,should_checkpoint=True with parameters={'act1 ': 'relu', 'act2': 'tanh', 'act3': 'relu', 'lr': 0.0009, 'batch_size': 8, 'hidden_dim1': 165.0, 'hidden_dim2': 285.0, 'hidden_dim3': 330.0}.\n",
            "Trial trainable_func_007a81ea reported epoch=0,loss=0.1973413353454462,should_checkpoint=True with parameters={'act1 ': 'selu', 'act2': 'selu', 'act3': 'tanh', 'lr': 0.0005, 'batch_size': 32, 'hidden_dim1': 120.0, 'hidden_dim2': 285.0, 'hidden_dim3': 225.0}.\n"
          ]
        },
        {
          "output_type": "stream",
          "name": "stderr",
          "text": [
            "\u001b[2m\u001b[36m(func pid=269253)\u001b[0m 2022-07-26 14:40:58,235\tINFO trainable.py:589 -- Restored on 172.28.0.2 from checkpoint: /root/ray_results/trainable_func_2022-07-26_14-33-03/trainable_func_007a81ea_9_act1=selu,act2=selu,act3=tanh,batch_size=32,hidden_dim1=120.0000,hidden_dim2=285.0000,hidden_dim3=225.00_2022-07-26_14-34-08/checkpoint_tmp004823/./\n",
            "\u001b[2m\u001b[36m(func pid=269253)\u001b[0m 2022-07-26 14:40:58,235\tINFO trainable.py:597 -- Current state after restoring: {'_iteration': 18, '_timesteps_total': None, '_time_total': 43.813703536987305, '_episodes_total': None}\n",
            "\u001b[2m\u001b[36m(func pid=269297)\u001b[0m 2022-07-26 14:41:00,172\tINFO trainable.py:589 -- Restored on 172.28.0.2 from checkpoint: /root/ray_results/trainable_func_2022-07-26_14-33-03/trainable_func_f474cfe0_8_act1=selu,act2=selu,act3=tanh,batch_size=16,hidden_dim1=225.0000,hidden_dim2=210.0000,hidden_dim3=240.00_2022-07-26_14-34-05/checkpoint_tmpbd3346/./\n",
            "\u001b[2m\u001b[36m(func pid=269297)\u001b[0m 2022-07-26 14:41:00,172\tINFO trainable.py:597 -- Current state after restoring: {'_iteration': 20, '_timesteps_total': None, '_time_total': 77.22413778305054, '_episodes_total': None}\n"
          ]
        },
        {
          "output_type": "stream",
          "name": "stdout",
          "text": [
            "== Status ==\n",
            "Current time: 2022-07-26 14:41:00 (running for 00:07:57.12)\n",
            "Memory usage on this node: 2.5/12.7 GiB\n",
            "Using MedianStoppingRule: num_stopped=13.\n",
            "Resources requested: 2.0/2 CPUs, 0/0 GPUs, 0.0/7.47 GiB heap, 0.0/3.73 GiB objects\n",
            "Result logdir: /root/ray_results/trainable_func_2022-07-26_14-33-03\n",
            "Number of trials: 29/50 (6 PAUSED, 4 RUNNING, 19 TERMINATED)\n",
            "\n",
            "\n"
          ]
        },
        {
          "output_type": "stream",
          "name": "stderr",
          "text": [
            "\u001b[2m\u001b[36m(func pid=269253)\u001b[0m 2022-07-26 14:41:01,117\tINFO trainable.py:589 -- Restored on 172.28.0.2 from checkpoint: /root/ray_results/trainable_func_2022-07-26_14-33-03/trainable_func_007a81ea_9_act1=selu,act2=selu,act3=tanh,batch_size=32,hidden_dim1=120.0000,hidden_dim2=285.0000,hidden_dim3=225.00_2022-07-26_14-34-08/checkpoint_tmp188014/./\n",
            "\u001b[2m\u001b[36m(func pid=269253)\u001b[0m 2022-07-26 14:41:01,117\tINFO trainable.py:597 -- Current state after restoring: {'_iteration': 19, '_timesteps_total': None, '_time_total': 45.83038783073425, '_episodes_total': None}\n"
          ]
        },
        {
          "output_type": "stream",
          "name": "stdout",
          "text": [
            "Trial trainable_func_f19bcd82 reported epoch=0,loss=0.07933180824782134,should_checkpoint=True with parameters={'act1 ': 'tanh', 'act2': 'tanh', 'act3': 'selu', 'lr': 0.0007, 'batch_size': 8, 'hidden_dim1': 225.0, 'hidden_dim2': 315.0, 'hidden_dim3': 315.0}.\n"
          ]
        },
        {
          "output_type": "stream",
          "name": "stderr",
          "text": [
            "\u001b[2m\u001b[36m(func pid=269252)\u001b[0m 2022-07-26 14:41:02,743\tINFO trainable.py:589 -- Restored on 172.28.0.2 from checkpoint: /root/ray_results/trainable_func_2022-07-26_14-33-03/trainable_func_f19bcd82_6_act1=tanh,act2=tanh,act3=selu,batch_size=8,hidden_dim1=225.0000,hidden_dim2=315.0000,hidden_dim3=315.000_2022-07-26_14-33-43/checkpoint_tmpa6415a/./\n",
            "\u001b[2m\u001b[36m(func pid=269252)\u001b[0m 2022-07-26 14:41:02,743\tINFO trainable.py:597 -- Current state after restoring: {'_iteration': 31, '_timesteps_total': None, '_time_total': 249.39959025382996, '_episodes_total': None}\n"
          ]
        },
        {
          "output_type": "stream",
          "name": "stdout",
          "text": [
            "Trial trainable_func_007a81ea reported epoch=0,loss=0.19044570531890057,should_checkpoint=True with parameters={'act1 ': 'selu', 'act2': 'selu', 'act3': 'tanh', 'lr': 0.0005, 'batch_size': 32, 'hidden_dim1': 120.0, 'hidden_dim2': 285.0, 'hidden_dim3': 225.0}.\n",
            "Trial trainable_func_ed1381a0 reported epoch=2,loss=0.8345991200765209,should_checkpoint=True with parameters={'act1 ': 'relu', 'act2': 'tanh', 'act3': 'relu', 'lr': 0.0009, 'batch_size': 8, 'hidden_dim1': 165.0, 'hidden_dim2': 285.0, 'hidden_dim3': 330.0}.\n",
            "Trial trainable_func_f474cfe0 reported epoch=0,loss=0.10972574975893097,should_checkpoint=True with parameters={'act1 ': 'selu', 'act2': 'selu', 'act3': 'tanh', 'lr': 0.0008, 'batch_size': 16, 'hidden_dim1': 225.0, 'hidden_dim2': 210.0, 'hidden_dim3': 240.0}.\n"
          ]
        },
        {
          "output_type": "stream",
          "name": "stderr",
          "text": [
            "\u001b[2m\u001b[36m(func pid=269253)\u001b[0m 2022-07-26 14:41:03,876\tINFO trainable.py:589 -- Restored on 172.28.0.2 from checkpoint: /root/ray_results/trainable_func_2022-07-26_14-33-03/trainable_func_007a81ea_9_act1=selu,act2=selu,act3=tanh,batch_size=32,hidden_dim1=120.0000,hidden_dim2=285.0000,hidden_dim3=225.00_2022-07-26_14-34-08/checkpoint_tmpd892b9/./\n",
            "\u001b[2m\u001b[36m(func pid=269253)\u001b[0m 2022-07-26 14:41:03,876\tINFO trainable.py:597 -- Current state after restoring: {'_iteration': 20, '_timesteps_total': None, '_time_total': 47.92390155792236, '_episodes_total': None}\n",
            "\u001b[2m\u001b[36m(func pid=269297)\u001b[0m 2022-07-26 14:41:04,409\tINFO trainable.py:589 -- Restored on 172.28.0.2 from checkpoint: /root/ray_results/trainable_func_2022-07-26_14-33-03/trainable_func_f474cfe0_8_act1=selu,act2=selu,act3=tanh,batch_size=16,hidden_dim1=225.0000,hidden_dim2=210.0000,hidden_dim3=240.00_2022-07-26_14-34-05/checkpoint_tmp16fed4/./\n",
            "\u001b[2m\u001b[36m(func pid=269297)\u001b[0m 2022-07-26 14:41:04,409\tINFO trainable.py:597 -- Current state after restoring: {'_iteration': 21, '_timesteps_total': None, '_time_total': 80.72883415222168, '_episodes_total': None}\n"
          ]
        },
        {
          "output_type": "stream",
          "name": "stdout",
          "text": [
            "== Status ==\n",
            "Current time: 2022-07-26 14:41:05 (running for 00:08:02.51)\n",
            "Memory usage on this node: 2.5/12.7 GiB\n",
            "Using MedianStoppingRule: num_stopped=13.\n",
            "Resources requested: 2.0/2 CPUs, 0/0 GPUs, 0.0/7.47 GiB heap, 0.0/3.73 GiB objects\n",
            "Result logdir: /root/ray_results/trainable_func_2022-07-26_14-33-03\n",
            "Number of trials: 29/50 (6 PAUSED, 4 RUNNING, 19 TERMINATED)\n",
            "\n",
            "\n"
          ]
        },
        {
          "output_type": "stream",
          "name": "stderr",
          "text": [
            "\u001b[2m\u001b[36m(func pid=269253)\u001b[0m 2022-07-26 14:41:06,414\tINFO trainable.py:589 -- Restored on 172.28.0.2 from checkpoint: /root/ray_results/trainable_func_2022-07-26_14-33-03/trainable_func_007a81ea_9_act1=selu,act2=selu,act3=tanh,batch_size=32,hidden_dim1=120.0000,hidden_dim2=285.0000,hidden_dim3=225.00_2022-07-26_14-34-08/checkpoint_tmp3fdd7b/./\n",
            "\u001b[2m\u001b[36m(func pid=269253)\u001b[0m 2022-07-26 14:41:06,416\tINFO trainable.py:597 -- Current state after restoring: {'_iteration': 21, '_timesteps_total': None, '_time_total': 49.69269061088562, '_episodes_total': None}\n",
            "\u001b[2m\u001b[36m(func pid=269297)\u001b[0m 2022-07-26 14:41:08,277\tINFO trainable.py:589 -- Restored on 172.28.0.2 from checkpoint: /root/ray_results/trainable_func_2022-07-26_14-33-03/trainable_func_f474cfe0_8_act1=selu,act2=selu,act3=tanh,batch_size=16,hidden_dim1=225.0000,hidden_dim2=210.0000,hidden_dim3=240.00_2022-07-26_14-34-05/checkpoint_tmp7dabe9/./\n",
            "\u001b[2m\u001b[36m(func pid=269297)\u001b[0m 2022-07-26 14:41:08,277\tINFO trainable.py:597 -- Current state after restoring: {'_iteration': 22, '_timesteps_total': None, '_time_total': 84.09203505516052, '_episodes_total': None}\n"
          ]
        },
        {
          "output_type": "stream",
          "name": "stdout",
          "text": [
            "Trial trainable_func_007a81ea reported epoch=0,loss=0.16417560846897308,should_checkpoint=True with parameters={'act1 ': 'selu', 'act2': 'selu', 'act3': 'tanh', 'lr': 0.0005, 'batch_size': 32, 'hidden_dim1': 120.0, 'hidden_dim2': 285.0, 'hidden_dim3': 225.0}.\n"
          ]
        },
        {
          "output_type": "stream",
          "name": "stderr",
          "text": [
            "\u001b[2m\u001b[36m(func pid=269253)\u001b[0m 2022-07-26 14:41:09,225\tINFO trainable.py:589 -- Restored on 172.28.0.2 from checkpoint: /root/ray_results/trainable_func_2022-07-26_14-33-03/trainable_func_007a81ea_9_act1=selu,act2=selu,act3=tanh,batch_size=32,hidden_dim1=120.0000,hidden_dim2=285.0000,hidden_dim3=225.00_2022-07-26_14-34-08/checkpoint_tmp660365/./\n",
            "\u001b[2m\u001b[36m(func pid=269253)\u001b[0m 2022-07-26 14:41:09,226\tINFO trainable.py:597 -- Current state after restoring: {'_iteration': 22, '_timesteps_total': None, '_time_total': 51.87897777557373, '_episodes_total': None}\n"
          ]
        },
        {
          "output_type": "stream",
          "name": "stdout",
          "text": [
            "Trial trainable_func_f19bcd82 reported epoch=0,loss=0.09051263154870864,should_checkpoint=True with parameters={'act1 ': 'tanh', 'act2': 'tanh', 'act3': 'selu', 'lr': 0.0007, 'batch_size': 8, 'hidden_dim1': 225.0, 'hidden_dim2': 315.0, 'hidden_dim3': 315.0}.\n",
            "== Status ==\n",
            "Current time: 2022-07-26 14:41:10 (running for 00:08:07.79)\n",
            "Memory usage on this node: 2.5/12.7 GiB\n",
            "Using MedianStoppingRule: num_stopped=13.\n",
            "Resources requested: 1.5/2 CPUs, 0/0 GPUs, 0.0/7.47 GiB heap, 0.0/3.73 GiB objects\n",
            "Result logdir: /root/ray_results/trainable_func_2022-07-26_14-33-03\n",
            "Number of trials: 29/50 (7 PAUSED, 3 RUNNING, 19 TERMINATED)\n",
            "\n",
            "\n"
          ]
        },
        {
          "output_type": "stream",
          "name": "stderr",
          "text": [
            "\u001b[2m\u001b[36m(func pid=269252)\u001b[0m 2022-07-26 14:41:10,982\tINFO trainable.py:589 -- Restored on 172.28.0.2 from checkpoint: /root/ray_results/trainable_func_2022-07-26_14-33-03/trainable_func_f19bcd82_6_act1=tanh,act2=tanh,act3=selu,batch_size=8,hidden_dim1=225.0000,hidden_dim2=315.0000,hidden_dim3=315.000_2022-07-26_14-33-43/checkpoint_tmp5b88be/./\n",
            "\u001b[2m\u001b[36m(func pid=269252)\u001b[0m 2022-07-26 14:41:10,982\tINFO trainable.py:597 -- Current state after restoring: {'_iteration': 32, '_timesteps_total': None, '_time_total': 256.9333894252777, '_episodes_total': None}\n"
          ]
        },
        {
          "output_type": "stream",
          "name": "stdout",
          "text": [
            "Trial trainable_func_f474cfe0 reported epoch=0,loss=0.10091740563448652,should_checkpoint=True with parameters={'act1 ': 'selu', 'act2': 'selu', 'act3': 'tanh', 'lr': 0.0008, 'batch_size': 16, 'hidden_dim1': 225.0, 'hidden_dim2': 210.0, 'hidden_dim3': 240.0}.\n"
          ]
        },
        {
          "output_type": "stream",
          "name": "stderr",
          "text": [
            "\u001b[2m\u001b[36m(func pid=269253)\u001b[0m 2022-07-26 14:41:11,938\tINFO trainable.py:589 -- Restored on 172.28.0.2 from checkpoint: /root/ray_results/trainable_func_2022-07-26_14-33-03/trainable_func_007a81ea_9_act1=selu,act2=selu,act3=tanh,batch_size=32,hidden_dim1=120.0000,hidden_dim2=285.0000,hidden_dim3=225.00_2022-07-26_14-34-08/checkpoint_tmpb28ee6/./\n",
            "\u001b[2m\u001b[36m(func pid=269253)\u001b[0m 2022-07-26 14:41:11,938\tINFO trainable.py:597 -- Current state after restoring: {'_iteration': 23, '_timesteps_total': None, '_time_total': 53.95403504371643, '_episodes_total': None}\n",
            "\u001b[2m\u001b[36m(func pid=269297)\u001b[0m 2022-07-26 14:41:12,534\tINFO trainable.py:589 -- Restored on 172.28.0.2 from checkpoint: /root/ray_results/trainable_func_2022-07-26_14-33-03/trainable_func_f474cfe0_8_act1=selu,act2=selu,act3=tanh,batch_size=16,hidden_dim1=225.0000,hidden_dim2=210.0000,hidden_dim3=240.00_2022-07-26_14-34-05/checkpoint_tmpbea26d/./\n",
            "\u001b[2m\u001b[36m(func pid=269297)\u001b[0m 2022-07-26 14:41:12,535\tINFO trainable.py:597 -- Current state after restoring: {'_iteration': 23, '_timesteps_total': None, '_time_total': 87.41850805282593, '_episodes_total': None}\n"
          ]
        },
        {
          "output_type": "stream",
          "name": "stdout",
          "text": [
            "Trial trainable_func_ed1381a0 reported epoch=3,loss=0.5848262163910971,should_checkpoint=True with parameters={'act1 ': 'relu', 'act2': 'tanh', 'act3': 'relu', 'lr': 0.0009, 'batch_size': 8, 'hidden_dim1': 165.0, 'hidden_dim2': 285.0, 'hidden_dim3': 330.0}.\n"
          ]
        },
        {
          "output_type": "stream",
          "name": "stderr",
          "text": [
            "\u001b[2m\u001b[36m(func pid=269253)\u001b[0m 2022-07-26 14:41:14,255\tINFO trainable.py:589 -- Restored on 172.28.0.2 from checkpoint: /root/ray_results/trainable_func_2022-07-26_14-33-03/trainable_func_007a81ea_9_act1=selu,act2=selu,act3=tanh,batch_size=32,hidden_dim1=120.0000,hidden_dim2=285.0000,hidden_dim3=225.00_2022-07-26_14-34-08/checkpoint_tmp9002b4/./\n",
            "\u001b[2m\u001b[36m(func pid=269253)\u001b[0m 2022-07-26 14:41:14,255\tINFO trainable.py:597 -- Current state after restoring: {'_iteration': 24, '_timesteps_total': None, '_time_total': 55.60862469673157, '_episodes_total': None}\n"
          ]
        },
        {
          "output_type": "stream",
          "name": "stdout",
          "text": [
            "== Status ==\n",
            "Current time: 2022-07-26 14:41:15 (running for 00:08:12.83)\n",
            "Memory usage on this node: 2.5/12.7 GiB\n",
            "Using MedianStoppingRule: num_stopped=13.\n",
            "Resources requested: 2.0/2 CPUs, 0/0 GPUs, 0.0/7.47 GiB heap, 0.0/3.73 GiB objects\n",
            "Result logdir: /root/ray_results/trainable_func_2022-07-26_14-33-03\n",
            "Number of trials: 29/50 (6 PAUSED, 4 RUNNING, 19 TERMINATED)\n",
            "\n",
            "\n",
            "Trial trainable_func_007a81ea reported epoch=0,loss=0.16076512872342133,should_checkpoint=True with parameters={'act1 ': 'selu', 'act2': 'selu', 'act3': 'tanh', 'lr': 0.0005, 'batch_size': 32, 'hidden_dim1': 120.0, 'hidden_dim2': 285.0, 'hidden_dim3': 225.0}.\n"
          ]
        },
        {
          "output_type": "stream",
          "name": "stderr",
          "text": [
            "\u001b[2m\u001b[36m(func pid=269297)\u001b[0m 2022-07-26 14:41:16,387\tINFO trainable.py:589 -- Restored on 172.28.0.2 from checkpoint: /root/ray_results/trainable_func_2022-07-26_14-33-03/trainable_func_f474cfe0_8_act1=selu,act2=selu,act3=tanh,batch_size=16,hidden_dim1=225.0000,hidden_dim2=210.0000,hidden_dim3=240.00_2022-07-26_14-34-05/checkpoint_tmpd03073/./\n",
            "\u001b[2m\u001b[36m(func pid=269297)\u001b[0m 2022-07-26 14:41:16,387\tINFO trainable.py:597 -- Current state after restoring: {'_iteration': 24, '_timesteps_total': None, '_time_total': 90.84869861602783, '_episodes_total': None}\n",
            "\u001b[2m\u001b[36m(func pid=269253)\u001b[0m 2022-07-26 14:41:16,957\tINFO trainable.py:589 -- Restored on 172.28.0.2 from checkpoint: /root/ray_results/trainable_func_2022-07-26_14-33-03/trainable_func_007a81ea_9_act1=selu,act2=selu,act3=tanh,batch_size=32,hidden_dim1=120.0000,hidden_dim2=285.0000,hidden_dim3=225.00_2022-07-26_14-34-08/checkpoint_tmpa1f008/./\n",
            "\u001b[2m\u001b[36m(func pid=269253)\u001b[0m 2022-07-26 14:41:16,957\tINFO trainable.py:597 -- Current state after restoring: {'_iteration': 25, '_timesteps_total': None, '_time_total': 57.466522216796875, '_episodes_total': None}\n"
          ]
        },
        {
          "output_type": "stream",
          "name": "stdout",
          "text": [
            "Trial trainable_func_f19bcd82 reported epoch=0,loss=0.06970146513975765,should_checkpoint=True with parameters={'act1 ': 'tanh', 'act2': 'tanh', 'act3': 'selu', 'lr': 0.0007, 'batch_size': 8, 'hidden_dim1': 225.0, 'hidden_dim2': 315.0, 'hidden_dim3': 315.0}.\n"
          ]
        },
        {
          "output_type": "stream",
          "name": "stderr",
          "text": [
            "\u001b[2m\u001b[36m(func pid=269252)\u001b[0m 2022-07-26 14:41:18,679\tINFO trainable.py:589 -- Restored on 172.28.0.2 from checkpoint: /root/ray_results/trainable_func_2022-07-26_14-33-03/trainable_func_f19bcd82_6_act1=tanh,act2=tanh,act3=selu,batch_size=8,hidden_dim1=225.0000,hidden_dim2=315.0000,hidden_dim3=315.000_2022-07-26_14-33-43/checkpoint_tmp86814f/./\n",
            "\u001b[2m\u001b[36m(func pid=269252)\u001b[0m 2022-07-26 14:41:18,679\tINFO trainable.py:597 -- Current state after restoring: {'_iteration': 33, '_timesteps_total': None, '_time_total': 263.86235904693604, '_episodes_total': None}\n",
            "\u001b[2m\u001b[36m(func pid=269253)\u001b[0m 2022-07-26 14:41:19,656\tINFO trainable.py:589 -- Restored on 172.28.0.2 from checkpoint: /root/ray_results/trainable_func_2022-07-26_14-33-03/trainable_func_007a81ea_9_act1=selu,act2=selu,act3=tanh,batch_size=32,hidden_dim1=120.0000,hidden_dim2=285.0000,hidden_dim3=225.00_2022-07-26_14-34-08/checkpoint_tmp5b2da2/./\n",
            "\u001b[2m\u001b[36m(func pid=269253)\u001b[0m 2022-07-26 14:41:19,656\tINFO trainable.py:597 -- Current state after restoring: {'_iteration': 26, '_timesteps_total': None, '_time_total': 59.552932024002075, '_episodes_total': None}\n"
          ]
        },
        {
          "output_type": "stream",
          "name": "stdout",
          "text": [
            "Trial trainable_func_f474cfe0 reported epoch=0,loss=0.08288819664261148,should_checkpoint=True with parameters={'act1 ': 'selu', 'act2': 'selu', 'act3': 'tanh', 'lr': 0.0008, 'batch_size': 16, 'hidden_dim1': 225.0, 'hidden_dim2': 210.0, 'hidden_dim3': 240.0}.\n",
            "Trial trainable_func_ed1381a0 reported epoch=4,loss=0.49350078079485593,should_checkpoint=True with parameters={'act1 ': 'relu', 'act2': 'tanh', 'act3': 'relu', 'lr': 0.0009, 'batch_size': 8, 'hidden_dim1': 165.0, 'hidden_dim2': 285.0, 'hidden_dim3': 330.0}.\n"
          ]
        },
        {
          "output_type": "stream",
          "name": "stderr",
          "text": [
            "\u001b[2m\u001b[36m(func pid=269297)\u001b[0m 2022-07-26 14:41:20,238\tINFO trainable.py:589 -- Restored on 172.28.0.2 from checkpoint: /root/ray_results/trainable_func_2022-07-26_14-33-03/trainable_func_f474cfe0_8_act1=selu,act2=selu,act3=tanh,batch_size=16,hidden_dim1=225.0000,hidden_dim2=210.0000,hidden_dim3=240.00_2022-07-26_14-34-05/checkpoint_tmp617e90/./\n",
            "\u001b[2m\u001b[36m(func pid=269297)\u001b[0m 2022-07-26 14:41:20,238\tINFO trainable.py:597 -- Current state after restoring: {'_iteration': 25, '_timesteps_total': None, '_time_total': 94.20273208618164, '_episodes_total': None}\n"
          ]
        },
        {
          "output_type": "stream",
          "name": "stdout",
          "text": [
            "Trial trainable_func_007a81ea reported epoch=0,loss=0.12532321974016045,should_checkpoint=True with parameters={'act1 ': 'selu', 'act2': 'selu', 'act3': 'tanh', 'lr': 0.0005, 'batch_size': 32, 'hidden_dim1': 120.0, 'hidden_dim2': 285.0, 'hidden_dim3': 225.0}.\n",
            "== Status ==\n",
            "Current time: 2022-07-26 14:41:21 (running for 00:08:18.50)\n",
            "Memory usage on this node: 2.5/12.7 GiB\n",
            "Using MedianStoppingRule: num_stopped=13.\n",
            "Resources requested: 2.0/2 CPUs, 0/0 GPUs, 0.0/7.47 GiB heap, 0.0/3.73 GiB objects\n",
            "Result logdir: /root/ray_results/trainable_func_2022-07-26_14-33-03\n",
            "Number of trials: 29/50 (6 PAUSED, 4 RUNNING, 19 TERMINATED)\n",
            "\n",
            "\n"
          ]
        },
        {
          "output_type": "stream",
          "name": "stderr",
          "text": [
            "\u001b[2m\u001b[36m(func pid=269253)\u001b[0m 2022-07-26 14:41:22,394\tINFO trainable.py:589 -- Restored on 172.28.0.2 from checkpoint: /root/ray_results/trainable_func_2022-07-26_14-33-03/trainable_func_007a81ea_9_act1=selu,act2=selu,act3=tanh,batch_size=32,hidden_dim1=120.0000,hidden_dim2=285.0000,hidden_dim3=225.00_2022-07-26_14-34-08/checkpoint_tmpc417a3/./\n",
            "\u001b[2m\u001b[36m(func pid=269253)\u001b[0m 2022-07-26 14:41:22,394\tINFO trainable.py:597 -- Current state after restoring: {'_iteration': 27, '_timesteps_total': None, '_time_total': 61.53216791152954, '_episodes_total': None}\n",
            "\u001b[2m\u001b[36m(func pid=269297)\u001b[0m 2022-07-26 14:41:24,180\tINFO trainable.py:589 -- Restored on 172.28.0.2 from checkpoint: /root/ray_results/trainable_func_2022-07-26_14-33-03/trainable_func_f474cfe0_8_act1=selu,act2=selu,act3=tanh,batch_size=16,hidden_dim1=225.0000,hidden_dim2=210.0000,hidden_dim3=240.00_2022-07-26_14-34-05/checkpoint_tmp494ae3/./\n",
            "\u001b[2m\u001b[36m(func pid=269297)\u001b[0m 2022-07-26 14:41:24,180\tINFO trainable.py:597 -- Current state after restoring: {'_iteration': 26, '_timesteps_total': None, '_time_total': 97.3249351978302, '_episodes_total': None}\n",
            "\u001b[2m\u001b[36m(func pid=269253)\u001b[0m 2022-07-26 14:41:25,235\tINFO trainable.py:589 -- Restored on 172.28.0.2 from checkpoint: /root/ray_results/trainable_func_2022-07-26_14-33-03/trainable_func_007a81ea_9_act1=selu,act2=selu,act3=tanh,batch_size=32,hidden_dim1=120.0000,hidden_dim2=285.0000,hidden_dim3=225.00_2022-07-26_14-34-08/checkpoint_tmpcdfd51/./\n",
            "\u001b[2m\u001b[36m(func pid=269253)\u001b[0m 2022-07-26 14:41:25,235\tINFO trainable.py:597 -- Current state after restoring: {'_iteration': 28, '_timesteps_total': None, '_time_total': 63.553178548812866, '_episodes_total': None}\n"
          ]
        },
        {
          "output_type": "stream",
          "name": "stdout",
          "text": [
            "Trial trainable_func_f19bcd82 reported epoch=0,loss=0.06999082563136758,should_checkpoint=True with parameters={'act1 ': 'tanh', 'act2': 'tanh', 'act3': 'selu', 'lr': 0.0007, 'batch_size': 8, 'hidden_dim1': 225.0, 'hidden_dim2': 315.0, 'hidden_dim3': 315.0}.\n",
            "== Status ==\n",
            "Current time: 2022-07-26 14:41:26 (running for 00:08:23.68)\n",
            "Memory usage on this node: 2.5/12.7 GiB\n",
            "Using MedianStoppingRule: num_stopped=13.\n",
            "Resources requested: 1.5/2 CPUs, 0/0 GPUs, 0.0/7.47 GiB heap, 0.0/3.73 GiB objects\n",
            "Result logdir: /root/ray_results/trainable_func_2022-07-26_14-33-03\n",
            "Number of trials: 29/50 (7 PAUSED, 3 RUNNING, 19 TERMINATED)\n",
            "\n",
            "\n"
          ]
        },
        {
          "output_type": "stream",
          "name": "stderr",
          "text": [
            "\u001b[2m\u001b[36m(func pid=269252)\u001b[0m 2022-07-26 14:41:26,888\tINFO trainable.py:589 -- Restored on 172.28.0.2 from checkpoint: /root/ray_results/trainable_func_2022-07-26_14-33-03/trainable_func_f19bcd82_6_act1=tanh,act2=tanh,act3=selu,batch_size=8,hidden_dim1=225.0000,hidden_dim2=315.0000,hidden_dim3=315.000_2022-07-26_14-33-43/checkpoint_tmp10aa83/./\n",
            "\u001b[2m\u001b[36m(func pid=269252)\u001b[0m 2022-07-26 14:41:26,889\tINFO trainable.py:597 -- Current state after restoring: {'_iteration': 34, '_timesteps_total': None, '_time_total': 271.253440618515, '_episodes_total': None}\n"
          ]
        },
        {
          "output_type": "stream",
          "name": "stdout",
          "text": [
            "Trial trainable_func_007a81ea reported epoch=0,loss=0.11821815057830445,should_checkpoint=True with parameters={'act1 ': 'selu', 'act2': 'selu', 'act3': 'tanh', 'lr': 0.0005, 'batch_size': 32, 'hidden_dim1': 120.0, 'hidden_dim2': 285.0, 'hidden_dim3': 225.0}.\n",
            "Trial trainable_func_f474cfe0 reported epoch=0,loss=0.08494981388221703,should_checkpoint=True with parameters={'act1 ': 'selu', 'act2': 'selu', 'act3': 'tanh', 'lr': 0.0008, 'batch_size': 16, 'hidden_dim1': 225.0, 'hidden_dim2': 210.0, 'hidden_dim3': 240.0}.\n"
          ]
        },
        {
          "output_type": "stream",
          "name": "stderr",
          "text": [
            "\u001b[2m\u001b[36m(func pid=269253)\u001b[0m 2022-07-26 14:41:27,898\tINFO trainable.py:589 -- Restored on 172.28.0.2 from checkpoint: /root/ray_results/trainable_func_2022-07-26_14-33-03/trainable_func_007a81ea_9_act1=selu,act2=selu,act3=tanh,batch_size=32,hidden_dim1=120.0000,hidden_dim2=285.0000,hidden_dim3=225.00_2022-07-26_14-34-08/checkpoint_tmp51b314/./\n",
            "\u001b[2m\u001b[36m(func pid=269253)\u001b[0m 2022-07-26 14:41:27,898\tINFO trainable.py:597 -- Current state after restoring: {'_iteration': 29, '_timesteps_total': None, '_time_total': 65.42535638809204, '_episodes_total': None}\n",
            "\u001b[2m\u001b[36m(func pid=269297)\u001b[0m 2022-07-26 14:41:28,456\tINFO trainable.py:589 -- Restored on 172.28.0.2 from checkpoint: /root/ray_results/trainable_func_2022-07-26_14-33-03/trainable_func_f474cfe0_8_act1=selu,act2=selu,act3=tanh,batch_size=16,hidden_dim1=225.0000,hidden_dim2=210.0000,hidden_dim3=240.00_2022-07-26_14-34-05/checkpoint_tmpcfe7d2/./\n",
            "\u001b[2m\u001b[36m(func pid=269297)\u001b[0m 2022-07-26 14:41:28,456\tINFO trainable.py:597 -- Current state after restoring: {'_iteration': 27, '_timesteps_total': None, '_time_total': 100.79054164886475, '_episodes_total': None}\n"
          ]
        },
        {
          "output_type": "stream",
          "name": "stdout",
          "text": [
            "Trial trainable_func_ed1381a0 reported epoch=5,loss=0.4952367034633626,should_checkpoint=True with parameters={'act1 ': 'relu', 'act2': 'tanh', 'act3': 'relu', 'lr': 0.0009, 'batch_size': 8, 'hidden_dim1': 165.0, 'hidden_dim2': 285.0, 'hidden_dim3': 330.0}.\n"
          ]
        },
        {
          "output_type": "stream",
          "name": "stderr",
          "text": [
            "\u001b[2m\u001b[36m(func pid=269253)\u001b[0m 2022-07-26 14:41:30,372\tINFO trainable.py:589 -- Restored on 172.28.0.2 from checkpoint: /root/ray_results/trainable_func_2022-07-26_14-33-03/trainable_func_007a81ea_9_act1=selu,act2=selu,act3=tanh,batch_size=32,hidden_dim1=120.0000,hidden_dim2=285.0000,hidden_dim3=225.00_2022-07-26_14-34-08/checkpoint_tmpea9b20/./\n",
            "\u001b[2m\u001b[36m(func pid=269253)\u001b[0m 2022-07-26 14:41:30,373\tINFO trainable.py:597 -- Current state after restoring: {'_iteration': 30, '_timesteps_total': None, '_time_total': 67.18377447128296, '_episodes_total': None}\n"
          ]
        },
        {
          "output_type": "stream",
          "name": "stdout",
          "text": [
            "== Status ==\n",
            "Current time: 2022-07-26 14:41:31 (running for 00:08:28.70)\n",
            "Memory usage on this node: 2.5/12.7 GiB\n",
            "Using MedianStoppingRule: num_stopped=13.\n",
            "Resources requested: 2.0/2 CPUs, 0/0 GPUs, 0.0/7.47 GiB heap, 0.0/3.73 GiB objects\n",
            "Result logdir: /root/ray_results/trainable_func_2022-07-26_14-33-03\n",
            "Number of trials: 29/50 (6 PAUSED, 4 RUNNING, 19 TERMINATED)\n",
            "\n",
            "\n",
            "Trial trainable_func_007a81ea reported epoch=0,loss=0.13479957691957573,should_checkpoint=True with parameters={'act1 ': 'selu', 'act2': 'selu', 'act3': 'tanh', 'lr': 0.0005, 'batch_size': 32, 'hidden_dim1': 120.0, 'hidden_dim2': 285.0, 'hidden_dim3': 225.0}.\n"
          ]
        },
        {
          "output_type": "stream",
          "name": "stderr",
          "text": [
            "\u001b[2m\u001b[36m(func pid=269297)\u001b[0m 2022-07-26 14:41:32,551\tINFO trainable.py:589 -- Restored on 172.28.0.2 from checkpoint: /root/ray_results/trainable_func_2022-07-26_14-33-03/trainable_func_f474cfe0_8_act1=selu,act2=selu,act3=tanh,batch_size=16,hidden_dim1=225.0000,hidden_dim2=210.0000,hidden_dim3=240.00_2022-07-26_14-34-05/checkpoint_tmp25d5a3/./\n",
            "\u001b[2m\u001b[36m(func pid=269297)\u001b[0m 2022-07-26 14:41:32,552\tINFO trainable.py:597 -- Current state after restoring: {'_iteration': 28, '_timesteps_total': None, '_time_total': 104.16290092468262, '_episodes_total': None}\n",
            "\u001b[2m\u001b[36m(func pid=269253)\u001b[0m 2022-07-26 14:41:33,152\tINFO trainable.py:589 -- Restored on 172.28.0.2 from checkpoint: /root/ray_results/trainable_func_2022-07-26_14-33-03/trainable_func_007a81ea_9_act1=selu,act2=selu,act3=tanh,batch_size=32,hidden_dim1=120.0000,hidden_dim2=285.0000,hidden_dim3=225.00_2022-07-26_14-34-08/checkpoint_tmpae36fc/./\n",
            "\u001b[2m\u001b[36m(func pid=269253)\u001b[0m 2022-07-26 14:41:33,153\tINFO trainable.py:597 -- Current state after restoring: {'_iteration': 31, '_timesteps_total': None, '_time_total': 69.15358877182007, '_episodes_total': None}\n"
          ]
        },
        {
          "output_type": "stream",
          "name": "stdout",
          "text": [
            "Trial trainable_func_f19bcd82 reported epoch=0,loss=0.1035909593234091,should_checkpoint=True with parameters={'act1 ': 'tanh', 'act2': 'tanh', 'act3': 'selu', 'lr': 0.0007, 'batch_size': 8, 'hidden_dim1': 225.0, 'hidden_dim2': 315.0, 'hidden_dim3': 315.0}.\n"
          ]
        },
        {
          "output_type": "stream",
          "name": "stderr",
          "text": [
            "\u001b[2m\u001b[36m(func pid=269252)\u001b[0m 2022-07-26 14:41:35,126\tINFO trainable.py:589 -- Restored on 172.28.0.2 from checkpoint: /root/ray_results/trainable_func_2022-07-26_14-33-03/trainable_func_f19bcd82_6_act1=tanh,act2=tanh,act3=selu,batch_size=8,hidden_dim1=225.0000,hidden_dim2=315.0000,hidden_dim3=315.000_2022-07-26_14-33-43/checkpoint_tmp705b5b/./\n",
            "\u001b[2m\u001b[36m(func pid=269252)\u001b[0m 2022-07-26 14:41:35,126\tINFO trainable.py:597 -- Current state after restoring: {'_iteration': 35, '_timesteps_total': None, '_time_total': 278.5465683937073, '_episodes_total': None}\n"
          ]
        },
        {
          "output_type": "stream",
          "name": "stdout",
          "text": [
            "Trial trainable_func_ed1381a0 reported epoch=6,loss=0.6005954956874434,should_checkpoint=True with parameters={'act1 ': 'relu', 'act2': 'tanh', 'act3': 'relu', 'lr': 0.0009, 'batch_size': 8, 'hidden_dim1': 165.0, 'hidden_dim2': 285.0, 'hidden_dim3': 330.0}.\n",
            "Trial trainable_func_f474cfe0 reported epoch=0,loss=0.08811630853768304,should_checkpoint=True with parameters={'act1 ': 'selu', 'act2': 'selu', 'act3': 'tanh', 'lr': 0.0008, 'batch_size': 16, 'hidden_dim1': 225.0, 'hidden_dim2': 210.0, 'hidden_dim3': 240.0}.\n"
          ]
        },
        {
          "output_type": "stream",
          "name": "stderr",
          "text": [
            "\u001b[2m\u001b[36m(func pid=269253)\u001b[0m 2022-07-26 14:41:35,845\tINFO trainable.py:589 -- Restored on 172.28.0.2 from checkpoint: /root/ray_results/trainable_func_2022-07-26_14-33-03/trainable_func_007a81ea_9_act1=selu,act2=selu,act3=tanh,batch_size=32,hidden_dim1=120.0000,hidden_dim2=285.0000,hidden_dim3=225.00_2022-07-26_14-34-08/checkpoint_tmp3466ce/./\n",
            "\u001b[2m\u001b[36m(func pid=269253)\u001b[0m 2022-07-26 14:41:35,845\tINFO trainable.py:597 -- Current state after restoring: {'_iteration': 32, '_timesteps_total': None, '_time_total': 71.18846225738525, '_episodes_total': None}\n",
            "\u001b[2m\u001b[36m(func pid=269297)\u001b[0m 2022-07-26 14:41:36,626\tINFO trainable.py:589 -- Restored on 172.28.0.2 from checkpoint: /root/ray_results/trainable_func_2022-07-26_14-33-03/trainable_func_f474cfe0_8_act1=selu,act2=selu,act3=tanh,batch_size=16,hidden_dim1=225.0000,hidden_dim2=210.0000,hidden_dim3=240.00_2022-07-26_14-34-05/checkpoint_tmpc62ac5/./\n",
            "\u001b[2m\u001b[36m(func pid=269297)\u001b[0m 2022-07-26 14:41:36,626\tINFO trainable.py:597 -- Current state after restoring: {'_iteration': 29, '_timesteps_total': None, '_time_total': 107.36907601356506, '_episodes_total': None}\n"
          ]
        },
        {
          "output_type": "stream",
          "name": "stdout",
          "text": [
            "Trial trainable_func_007a81ea reported epoch=0,loss=0.1300535587324662,should_checkpoint=True with parameters={'act1 ': 'selu', 'act2': 'selu', 'act3': 'tanh', 'lr': 0.0005, 'batch_size': 32, 'hidden_dim1': 120.0, 'hidden_dim2': 285.0, 'hidden_dim3': 225.0}.\n",
            "== Status ==\n",
            "Current time: 2022-07-26 14:41:37 (running for 00:08:34.82)\n",
            "Memory usage on this node: 2.5/12.7 GiB\n",
            "Using MedianStoppingRule: num_stopped=13.\n",
            "Resources requested: 2.0/2 CPUs, 0/0 GPUs, 0.0/7.47 GiB heap, 0.0/3.73 GiB objects\n",
            "Result logdir: /root/ray_results/trainable_func_2022-07-26_14-33-03\n",
            "Number of trials: 29/50 (6 PAUSED, 4 RUNNING, 19 TERMINATED)\n",
            "\n",
            "\n"
          ]
        },
        {
          "output_type": "stream",
          "name": "stderr",
          "text": [
            "\u001b[2m\u001b[36m(func pid=269253)\u001b[0m 2022-07-26 14:41:38,686\tINFO trainable.py:589 -- Restored on 172.28.0.2 from checkpoint: /root/ray_results/trainable_func_2022-07-26_14-33-03/trainable_func_007a81ea_9_act1=selu,act2=selu,act3=tanh,batch_size=32,hidden_dim1=120.0000,hidden_dim2=285.0000,hidden_dim3=225.00_2022-07-26_14-34-08/checkpoint_tmp32c162/./\n",
            "\u001b[2m\u001b[36m(func pid=269253)\u001b[0m 2022-07-26 14:41:38,686\tINFO trainable.py:597 -- Current state after restoring: {'_iteration': 33, '_timesteps_total': None, '_time_total': 73.27833580970764, '_episodes_total': None}\n",
            "\u001b[2m\u001b[36m(func pid=269297)\u001b[0m 2022-07-26 14:41:40,575\tINFO trainable.py:589 -- Restored on 172.28.0.2 from checkpoint: /root/ray_results/trainable_func_2022-07-26_14-33-03/trainable_func_f474cfe0_8_act1=selu,act2=selu,act3=tanh,batch_size=16,hidden_dim1=225.0000,hidden_dim2=210.0000,hidden_dim3=240.00_2022-07-26_14-34-05/checkpoint_tmpc54594/./\n",
            "\u001b[2m\u001b[36m(func pid=269297)\u001b[0m 2022-07-26 14:41:40,575\tINFO trainable.py:597 -- Current state after restoring: {'_iteration': 30, '_timesteps_total': None, '_time_total': 110.66419005393982, '_episodes_total': None}\n",
            "\u001b[2m\u001b[36m(func pid=269253)\u001b[0m 2022-07-26 14:41:41,382\tINFO trainable.py:589 -- Restored on 172.28.0.2 from checkpoint: /root/ray_results/trainable_func_2022-07-26_14-33-03/trainable_func_007a81ea_9_act1=selu,act2=selu,act3=tanh,batch_size=32,hidden_dim1=120.0000,hidden_dim2=285.0000,hidden_dim3=225.00_2022-07-26_14-34-08/checkpoint_tmp60c976/./\n",
            "\u001b[2m\u001b[36m(func pid=269253)\u001b[0m 2022-07-26 14:41:41,382\tINFO trainable.py:597 -- Current state after restoring: {'_iteration': 34, '_timesteps_total': None, '_time_total': 75.27083134651184, '_episodes_total': None}\n"
          ]
        },
        {
          "output_type": "stream",
          "name": "stdout",
          "text": [
            "Trial trainable_func_f19bcd82 reported epoch=0,loss=0.08161378082171027,should_checkpoint=True with parameters={'act1 ': 'tanh', 'act2': 'tanh', 'act3': 'selu', 'lr': 0.0007, 'batch_size': 8, 'hidden_dim1': 225.0, 'hidden_dim2': 315.0, 'hidden_dim3': 315.0}.\n",
            "== Status ==\n",
            "Current time: 2022-07-26 14:41:43 (running for 00:08:40.11)\n",
            "Memory usage on this node: 2.4/12.7 GiB\n",
            "Using MedianStoppingRule: num_stopped=13.\n",
            "Resources requested: 1.5/2 CPUs, 0/0 GPUs, 0.0/7.47 GiB heap, 0.0/3.73 GiB objects\n",
            "Result logdir: /root/ray_results/trainable_func_2022-07-26_14-33-03\n",
            "Number of trials: 29/50 (7 PAUSED, 3 RUNNING, 19 TERMINATED)\n",
            "\n",
            "\n",
            "Trial trainable_func_007a81ea reported epoch=0,loss=0.08831835752577824,should_checkpoint=True with parameters={'act1 ': 'selu', 'act2': 'selu', 'act3': 'tanh', 'lr': 0.0005, 'batch_size': 32, 'hidden_dim1': 120.0, 'hidden_dim2': 285.0, 'hidden_dim3': 225.0}.\n",
            "Trial trainable_func_ed1381a0 reported epoch=7,loss=0.5189873114103634,should_checkpoint=True with parameters={'act1 ': 'relu', 'act2': 'tanh', 'act3': 'relu', 'lr': 0.0009, 'batch_size': 8, 'hidden_dim1': 165.0, 'hidden_dim2': 285.0, 'hidden_dim3': 330.0}.\n"
          ]
        },
        {
          "output_type": "stream",
          "name": "stderr",
          "text": [
            "\u001b[2m\u001b[36m(func pid=269252)\u001b[0m 2022-07-26 14:41:43,289\tINFO trainable.py:589 -- Restored on 172.28.0.2 from checkpoint: /root/ray_results/trainable_func_2022-07-26_14-33-03/trainable_func_f19bcd82_6_act1=tanh,act2=tanh,act3=selu,batch_size=8,hidden_dim1=225.0000,hidden_dim2=315.0000,hidden_dim3=315.000_2022-07-26_14-33-43/checkpoint_tmp5d8630/./\n",
            "\u001b[2m\u001b[36m(func pid=269252)\u001b[0m 2022-07-26 14:41:43,290\tINFO trainable.py:597 -- Current state after restoring: {'_iteration': 36, '_timesteps_total': None, '_time_total': 286.1624186038971, '_episodes_total': None}\n"
          ]
        },
        {
          "output_type": "stream",
          "name": "stdout",
          "text": [
            "Trial trainable_func_f474cfe0 reported epoch=0,loss=0.11112027561401051,should_checkpoint=True with parameters={'act1 ': 'selu', 'act2': 'selu', 'act3': 'tanh', 'lr': 0.0008, 'batch_size': 16, 'hidden_dim1': 225.0, 'hidden_dim2': 210.0, 'hidden_dim3': 240.0}.\n"
          ]
        },
        {
          "output_type": "stream",
          "name": "stderr",
          "text": [
            "\u001b[2m\u001b[36m(func pid=269253)\u001b[0m 2022-07-26 14:41:43,768\tINFO trainable.py:589 -- Restored on 172.28.0.2 from checkpoint: /root/ray_results/trainable_func_2022-07-26_14-33-03/trainable_func_007a81ea_9_act1=selu,act2=selu,act3=tanh,batch_size=32,hidden_dim1=120.0000,hidden_dim2=285.0000,hidden_dim3=225.00_2022-07-26_14-34-08/checkpoint_tmp7ad320/./\n",
            "\u001b[2m\u001b[36m(func pid=269253)\u001b[0m 2022-07-26 14:41:43,768\tINFO trainable.py:597 -- Current state after restoring: {'_iteration': 35, '_timesteps_total': None, '_time_total': 76.98140025138855, '_episodes_total': None}\n",
            "\u001b[2m\u001b[36m(func pid=269297)\u001b[0m 2022-07-26 14:41:44,638\tINFO trainable.py:589 -- Restored on 172.28.0.2 from checkpoint: /root/ray_results/trainable_func_2022-07-26_14-33-03/trainable_func_f474cfe0_8_act1=selu,act2=selu,act3=tanh,batch_size=16,hidden_dim1=225.0000,hidden_dim2=210.0000,hidden_dim3=240.00_2022-07-26_14-34-05/checkpoint_tmp9ad64c/./\n",
            "\u001b[2m\u001b[36m(func pid=269297)\u001b[0m 2022-07-26 14:41:44,638\tINFO trainable.py:597 -- Current state after restoring: {'_iteration': 31, '_timesteps_total': None, '_time_total': 113.66837882995605, '_episodes_total': None}\n",
            "\u001b[2m\u001b[36m(func pid=269253)\u001b[0m 2022-07-26 14:41:46,397\tINFO trainable.py:589 -- Restored on 172.28.0.2 from checkpoint: /root/ray_results/trainable_func_2022-07-26_14-33-03/trainable_func_007a81ea_9_act1=selu,act2=selu,act3=tanh,batch_size=32,hidden_dim1=120.0000,hidden_dim2=285.0000,hidden_dim3=225.00_2022-07-26_14-34-08/checkpoint_tmp7821eb/./\n",
            "\u001b[2m\u001b[36m(func pid=269253)\u001b[0m 2022-07-26 14:41:46,397\tINFO trainable.py:597 -- Current state after restoring: {'_iteration': 36, '_timesteps_total': None, '_time_total': 79.02344679832458, '_episodes_total': None}\n"
          ]
        },
        {
          "output_type": "stream",
          "name": "stdout",
          "text": [
            "== Status ==\n",
            "Current time: 2022-07-26 14:41:48 (running for 00:08:45.54)\n",
            "Memory usage on this node: 2.5/12.7 GiB\n",
            "Using MedianStoppingRule: num_stopped=13.\n",
            "Resources requested: 1.5/2 CPUs, 0/0 GPUs, 0.0/7.47 GiB heap, 0.0/3.73 GiB objects\n",
            "Result logdir: /root/ray_results/trainable_func_2022-07-26_14-33-03\n",
            "Number of trials: 29/50 (7 PAUSED, 3 RUNNING, 19 TERMINATED)\n",
            "\n",
            "\n"
          ]
        },
        {
          "output_type": "stream",
          "name": "stderr",
          "text": [
            "\u001b[2m\u001b[36m(func pid=269253)\u001b[0m 2022-07-26 14:41:48,721\tINFO trainable.py:589 -- Restored on 172.28.0.2 from checkpoint: /root/ray_results/trainable_func_2022-07-26_14-33-03/trainable_func_007a81ea_9_act1=selu,act2=selu,act3=tanh,batch_size=32,hidden_dim1=120.0000,hidden_dim2=285.0000,hidden_dim3=225.00_2022-07-26_14-34-08/checkpoint_tmp6ab273/./\n",
            "\u001b[2m\u001b[36m(func pid=269253)\u001b[0m 2022-07-26 14:41:48,722\tINFO trainable.py:597 -- Current state after restoring: {'_iteration': 37, '_timesteps_total': None, '_time_total': 80.75654363632202, '_episodes_total': None}\n",
            "\u001b[2m\u001b[36m(func pid=269297)\u001b[0m 2022-07-26 14:41:49,520\tINFO trainable.py:589 -- Restored on 172.28.0.2 from checkpoint: /root/ray_results/trainable_func_2022-07-26_14-33-03/trainable_func_f474cfe0_8_act1=selu,act2=selu,act3=tanh,batch_size=16,hidden_dim1=225.0000,hidden_dim2=210.0000,hidden_dim3=240.00_2022-07-26_14-34-05/checkpoint_tmp27d4c7/./\n",
            "\u001b[2m\u001b[36m(func pid=269297)\u001b[0m 2022-07-26 14:41:49,530\tINFO trainable.py:597 -- Current state after restoring: {'_iteration': 32, '_timesteps_total': None, '_time_total': 117.29186129570007, '_episodes_total': None}\n"
          ]
        },
        {
          "output_type": "stream",
          "name": "stdout",
          "text": [
            "Trial trainable_func_f19bcd82 reported epoch=0,loss=0.07598678091313388,should_checkpoint=True with parameters={'act1 ': 'tanh', 'act2': 'tanh', 'act3': 'selu', 'lr': 0.0007, 'batch_size': 8, 'hidden_dim1': 225.0, 'hidden_dim2': 315.0, 'hidden_dim3': 315.0}.\n",
            "Trial trainable_func_ed1381a0 reported epoch=8,loss=0.4947030881877297,should_checkpoint=True with parameters={'act1 ': 'relu', 'act2': 'tanh', 'act3': 'relu', 'lr': 0.0009, 'batch_size': 8, 'hidden_dim1': 165.0, 'hidden_dim2': 285.0, 'hidden_dim3': 330.0}.\n",
            "Trial trainable_func_007a81ea reported epoch=0,loss=0.09254918669823356,should_checkpoint=True with parameters={'act1 ': 'selu', 'act2': 'selu', 'act3': 'tanh', 'lr': 0.0005, 'batch_size': 32, 'hidden_dim1': 120.0, 'hidden_dim2': 285.0, 'hidden_dim3': 225.0}.\n"
          ]
        },
        {
          "output_type": "stream",
          "name": "stderr",
          "text": [
            "\u001b[2m\u001b[36m(func pid=269252)\u001b[0m 2022-07-26 14:41:50,713\tINFO trainable.py:589 -- Restored on 172.28.0.2 from checkpoint: /root/ray_results/trainable_func_2022-07-26_14-33-03/trainable_func_f19bcd82_6_act1=tanh,act2=tanh,act3=selu,batch_size=8,hidden_dim1=225.0000,hidden_dim2=315.0000,hidden_dim3=315.000_2022-07-26_14-33-43/checkpoint_tmpf750dc/./\n",
            "\u001b[2m\u001b[36m(func pid=269252)\u001b[0m 2022-07-26 14:41:50,713\tINFO trainable.py:597 -- Current state after restoring: {'_iteration': 37, '_timesteps_total': None, '_time_total': 293.13497042655945, '_episodes_total': None}\n",
            "\u001b[2m\u001b[36m(func pid=269253)\u001b[0m 2022-07-26 14:41:51,442\tINFO trainable.py:589 -- Restored on 172.28.0.2 from checkpoint: /root/ray_results/trainable_func_2022-07-26_14-33-03/trainable_func_007a81ea_9_act1=selu,act2=selu,act3=tanh,batch_size=32,hidden_dim1=120.0000,hidden_dim2=285.0000,hidden_dim3=225.00_2022-07-26_14-34-08/checkpoint_tmp29e7f1/./\n",
            "\u001b[2m\u001b[36m(func pid=269253)\u001b[0m 2022-07-26 14:41:51,442\tINFO trainable.py:597 -- Current state after restoring: {'_iteration': 38, '_timesteps_total': None, '_time_total': 82.5347068309784, '_episodes_total': None}\n"
          ]
        },
        {
          "output_type": "stream",
          "name": "stdout",
          "text": [
            "Trial trainable_func_f474cfe0 reported epoch=0,loss=0.12383826566122662,should_checkpoint=True with parameters={'act1 ': 'selu', 'act2': 'selu', 'act3': 'tanh', 'lr': 0.0008, 'batch_size': 16, 'hidden_dim1': 225.0, 'hidden_dim2': 210.0, 'hidden_dim3': 240.0}.\n"
          ]
        },
        {
          "output_type": "stream",
          "name": "stderr",
          "text": [
            "\u001b[2m\u001b[36m(func pid=269297)\u001b[0m 2022-07-26 14:41:53,395\tINFO trainable.py:589 -- Restored on 172.28.0.2 from checkpoint: /root/ray_results/trainable_func_2022-07-26_14-33-03/trainable_func_f474cfe0_8_act1=selu,act2=selu,act3=tanh,batch_size=16,hidden_dim1=225.0000,hidden_dim2=210.0000,hidden_dim3=240.00_2022-07-26_14-34-05/checkpoint_tmpbd1710/./\n",
            "\u001b[2m\u001b[36m(func pid=269297)\u001b[0m 2022-07-26 14:41:53,395\tINFO trainable.py:597 -- Current state after restoring: {'_iteration': 33, '_timesteps_total': None, '_time_total': 120.38176012039185, '_episodes_total': None}\n"
          ]
        },
        {
          "output_type": "stream",
          "name": "stdout",
          "text": [
            "== Status ==\n",
            "Current time: 2022-07-26 14:41:54 (running for 00:08:51.15)\n",
            "Memory usage on this node: 2.5/12.7 GiB\n",
            "Using MedianStoppingRule: num_stopped=13.\n",
            "Resources requested: 1.5/2 CPUs, 0/0 GPUs, 0.0/7.47 GiB heap, 0.0/3.73 GiB objects\n",
            "Result logdir: /root/ray_results/trainable_func_2022-07-26_14-33-03\n",
            "Number of trials: 29/50 (7 PAUSED, 3 RUNNING, 19 TERMINATED)\n",
            "\n",
            "\n"
          ]
        },
        {
          "output_type": "stream",
          "name": "stderr",
          "text": [
            "\u001b[2m\u001b[36m(func pid=269253)\u001b[0m 2022-07-26 14:41:54,338\tINFO trainable.py:589 -- Restored on 172.28.0.2 from checkpoint: /root/ray_results/trainable_func_2022-07-26_14-33-03/trainable_func_007a81ea_9_act1=selu,act2=selu,act3=tanh,batch_size=32,hidden_dim1=120.0000,hidden_dim2=285.0000,hidden_dim3=225.00_2022-07-26_14-34-08/checkpoint_tmp4ad70d/./\n",
            "\u001b[2m\u001b[36m(func pid=269253)\u001b[0m 2022-07-26 14:41:54,339\tINFO trainable.py:597 -- Current state after restoring: {'_iteration': 39, '_timesteps_total': None, '_time_total': 84.66618943214417, '_episodes_total': None}\n"
          ]
        },
        {
          "output_type": "stream",
          "name": "stdout",
          "text": [
            "Trial trainable_func_007a81ea reported epoch=0,loss=0.09596762817769132,should_checkpoint=True with parameters={'act1 ': 'selu', 'act2': 'selu', 'act3': 'tanh', 'lr': 0.0005, 'batch_size': 32, 'hidden_dim1': 120.0, 'hidden_dim2': 285.0, 'hidden_dim3': 225.0}.\n"
          ]
        },
        {
          "output_type": "stream",
          "name": "stderr",
          "text": [
            "\u001b[2m\u001b[36m(func pid=269253)\u001b[0m 2022-07-26 14:41:56,922\tINFO trainable.py:589 -- Restored on 172.28.0.2 from checkpoint: /root/ray_results/trainable_func_2022-07-26_14-33-03/trainable_func_007a81ea_9_act1=selu,act2=selu,act3=tanh,batch_size=32,hidden_dim1=120.0000,hidden_dim2=285.0000,hidden_dim3=225.00_2022-07-26_14-34-08/checkpoint_tmpfdd19f/./\n",
            "\u001b[2m\u001b[36m(func pid=269253)\u001b[0m 2022-07-26 14:41:56,922\tINFO trainable.py:597 -- Current state after restoring: {'_iteration': 40, '_timesteps_total': None, '_time_total': 86.57906031608582, '_episodes_total': None}\n",
            "\u001b[2m\u001b[36m(func pid=269297)\u001b[0m 2022-07-26 14:41:57,647\tINFO trainable.py:589 -- Restored on 172.28.0.2 from checkpoint: /root/ray_results/trainable_func_2022-07-26_14-33-03/trainable_func_f474cfe0_8_act1=selu,act2=selu,act3=tanh,batch_size=16,hidden_dim1=225.0000,hidden_dim2=210.0000,hidden_dim3=240.00_2022-07-26_14-34-05/checkpoint_tmp35056b/./\n",
            "\u001b[2m\u001b[36m(func pid=269297)\u001b[0m 2022-07-26 14:41:57,647\tINFO trainable.py:597 -- Current state after restoring: {'_iteration': 34, '_timesteps_total': None, '_time_total': 123.7542450428009, '_episodes_total': None}\n"
          ]
        },
        {
          "output_type": "stream",
          "name": "stdout",
          "text": [
            "Trial trainable_func_f19bcd82 reported epoch=0,loss=0.0736810958381722,should_checkpoint=True with parameters={'act1 ': 'tanh', 'act2': 'tanh', 'act3': 'selu', 'lr': 0.0007, 'batch_size': 8, 'hidden_dim1': 225.0, 'hidden_dim2': 315.0, 'hidden_dim3': 315.0}.\n",
            "Trial trainable_func_ed1381a0 reported epoch=9,loss=0.47111644174717715,should_checkpoint=True with parameters={'act1 ': 'relu', 'act2': 'tanh', 'act3': 'relu', 'lr': 0.0009, 'batch_size': 8, 'hidden_dim1': 165.0, 'hidden_dim2': 285.0, 'hidden_dim3': 330.0}.\n"
          ]
        },
        {
          "output_type": "stream",
          "name": "stderr",
          "text": [
            "\u001b[2m\u001b[36m(func pid=269252)\u001b[0m 2022-07-26 14:41:58,677\tINFO trainable.py:589 -- Restored on 172.28.0.2 from checkpoint: /root/ray_results/trainable_func_2022-07-26_14-33-03/trainable_func_f19bcd82_6_act1=tanh,act2=tanh,act3=selu,batch_size=8,hidden_dim1=225.0000,hidden_dim2=315.0000,hidden_dim3=315.000_2022-07-26_14-33-43/checkpoint_tmp2a56e5/./\n",
            "\u001b[2m\u001b[36m(func pid=269252)\u001b[0m 2022-07-26 14:41:58,677\tINFO trainable.py:597 -- Current state after restoring: {'_iteration': 38, '_timesteps_total': None, '_time_total': 300.45443987846375, '_episodes_total': None}\n"
          ]
        },
        {
          "output_type": "stream",
          "name": "stdout",
          "text": [
            "== Status ==\n",
            "Current time: 2022-07-26 14:41:59 (running for 00:08:56.54)\n",
            "Memory usage on this node: 2.5/12.7 GiB\n",
            "Using MedianStoppingRule: num_stopped=13.\n",
            "Resources requested: 1.5/2 CPUs, 0/0 GPUs, 0.0/7.47 GiB heap, 0.0/3.73 GiB objects\n",
            "Result logdir: /root/ray_results/trainable_func_2022-07-26_14-33-03\n",
            "Number of trials: 29/50 (7 PAUSED, 3 RUNNING, 19 TERMINATED)\n",
            "\n",
            "\n"
          ]
        },
        {
          "output_type": "stream",
          "name": "stderr",
          "text": [
            "\u001b[2m\u001b[36m(func pid=269253)\u001b[0m 2022-07-26 14:41:59,728\tINFO trainable.py:589 -- Restored on 172.28.0.2 from checkpoint: /root/ray_results/trainable_func_2022-07-26_14-33-03/trainable_func_007a81ea_9_act1=selu,act2=selu,act3=tanh,batch_size=32,hidden_dim1=120.0000,hidden_dim2=285.0000,hidden_dim3=225.00_2022-07-26_14-34-08/checkpoint_tmp5927e1/./\n",
            "\u001b[2m\u001b[36m(func pid=269253)\u001b[0m 2022-07-26 14:41:59,728\tINFO trainable.py:597 -- Current state after restoring: {'_iteration': 41, '_timesteps_total': None, '_time_total': 88.71629023551941, '_episodes_total': None}\n"
          ]
        },
        {
          "output_type": "stream",
          "name": "stdout",
          "text": [
            "Trial trainable_func_f474cfe0 reported epoch=0,loss=0.057230289026587784,should_checkpoint=True with parameters={'act1 ': 'selu', 'act2': 'selu', 'act3': 'tanh', 'lr': 0.0008, 'batch_size': 16, 'hidden_dim1': 225.0, 'hidden_dim2': 210.0, 'hidden_dim3': 240.0}.\n"
          ]
        },
        {
          "output_type": "stream",
          "name": "stderr",
          "text": [
            "\u001b[2m\u001b[36m(func pid=269297)\u001b[0m 2022-07-26 14:42:01,341\tINFO trainable.py:589 -- Restored on 172.28.0.2 from checkpoint: /root/ray_results/trainable_func_2022-07-26_14-33-03/trainable_func_f474cfe0_8_act1=selu,act2=selu,act3=tanh,batch_size=16,hidden_dim1=225.0000,hidden_dim2=210.0000,hidden_dim3=240.00_2022-07-26_14-34-05/checkpoint_tmp20c5d3/./\n",
            "\u001b[2m\u001b[36m(func pid=269297)\u001b[0m 2022-07-26 14:42:01,346\tINFO trainable.py:597 -- Current state after restoring: {'_iteration': 35, '_timesteps_total': None, '_time_total': 126.80122494697571, '_episodes_total': None}\n"
          ]
        },
        {
          "output_type": "stream",
          "name": "stdout",
          "text": [
            "Trial trainable_func_007a81ea reported epoch=0,loss=0.07574564549358206,should_checkpoint=True with parameters={'act1 ': 'selu', 'act2': 'selu', 'act3': 'tanh', 'lr': 0.0005, 'batch_size': 32, 'hidden_dim1': 120.0, 'hidden_dim2': 285.0, 'hidden_dim3': 225.0}.\n"
          ]
        },
        {
          "output_type": "stream",
          "name": "stderr",
          "text": [
            "\u001b[2m\u001b[36m(func pid=269253)\u001b[0m 2022-07-26 14:42:02,580\tINFO trainable.py:589 -- Restored on 172.28.0.2 from checkpoint: /root/ray_results/trainable_func_2022-07-26_14-33-03/trainable_func_007a81ea_9_act1=selu,act2=selu,act3=tanh,batch_size=32,hidden_dim1=120.0000,hidden_dim2=285.0000,hidden_dim3=225.00_2022-07-26_14-34-08/checkpoint_tmp28026c/./\n",
            "\u001b[2m\u001b[36m(func pid=269253)\u001b[0m 2022-07-26 14:42:02,580\tINFO trainable.py:597 -- Current state after restoring: {'_iteration': 42, '_timesteps_total': None, '_time_total': 90.76468443870544, '_episodes_total': None}\n"
          ]
        },
        {
          "output_type": "stream",
          "name": "stdout",
          "text": [
            "== Status ==\n",
            "Current time: 2022-07-26 14:42:04 (running for 00:09:01.57)\n",
            "Memory usage on this node: 2.5/12.7 GiB\n",
            "Using MedianStoppingRule: num_stopped=13.\n",
            "Resources requested: 2.0/2 CPUs, 0/0 GPUs, 0.0/7.47 GiB heap, 0.0/3.73 GiB objects\n",
            "Result logdir: /root/ray_results/trainable_func_2022-07-26_14-33-03\n",
            "Number of trials: 29/50 (6 PAUSED, 4 RUNNING, 19 TERMINATED)\n",
            "\n",
            "\n"
          ]
        },
        {
          "output_type": "stream",
          "name": "stderr",
          "text": [
            "\u001b[2m\u001b[36m(func pid=269297)\u001b[0m 2022-07-26 14:42:05,132\tINFO trainable.py:589 -- Restored on 172.28.0.2 from checkpoint: /root/ray_results/trainable_func_2022-07-26_14-33-03/trainable_func_f474cfe0_8_act1=selu,act2=selu,act3=tanh,batch_size=16,hidden_dim1=225.0000,hidden_dim2=210.0000,hidden_dim3=240.00_2022-07-26_14-34-05/checkpoint_tmpa131be/./\n",
            "\u001b[2m\u001b[36m(func pid=269297)\u001b[0m 2022-07-26 14:42:05,132\tINFO trainable.py:597 -- Current state after restoring: {'_iteration': 36, '_timesteps_total': None, '_time_total': 130.16886591911316, '_episodes_total': None}\n",
            "\u001b[2m\u001b[36m(func pid=269253)\u001b[0m 2022-07-26 14:42:05,861\tINFO trainable.py:589 -- Restored on 172.28.0.2 from checkpoint: /root/ray_results/trainable_func_2022-07-26_14-33-03/trainable_func_007a81ea_9_act1=selu,act2=selu,act3=tanh,batch_size=32,hidden_dim1=120.0000,hidden_dim2=285.0000,hidden_dim3=225.00_2022-07-26_14-34-08/checkpoint_tmpbd97dc/./\n",
            "\u001b[2m\u001b[36m(func pid=269253)\u001b[0m 2022-07-26 14:42:05,862\tINFO trainable.py:597 -- Current state after restoring: {'_iteration': 43, '_timesteps_total': None, '_time_total': 92.91332602500916, '_episodes_total': None}\n"
          ]
        },
        {
          "output_type": "stream",
          "name": "stdout",
          "text": [
            "Trial trainable_func_f19bcd82 reported epoch=0,loss=0.05876155931142665,should_checkpoint=True with parameters={'act1 ': 'tanh', 'act2': 'tanh', 'act3': 'selu', 'lr': 0.0007, 'batch_size': 8, 'hidden_dim1': 225.0, 'hidden_dim2': 315.0, 'hidden_dim3': 315.0}.\n",
            "Trial trainable_func_ed1381a0 reported epoch=10,loss=0.4925870120758552,should_checkpoint=True with parameters={'act1 ': 'relu', 'act2': 'tanh', 'act3': 'relu', 'lr': 0.0009, 'batch_size': 8, 'hidden_dim1': 165.0, 'hidden_dim2': 285.0, 'hidden_dim3': 330.0}.\n"
          ]
        },
        {
          "output_type": "stream",
          "name": "stderr",
          "text": [
            "\u001b[2m\u001b[36m(func pid=269252)\u001b[0m 2022-07-26 14:42:06,464\tINFO trainable.py:589 -- Restored on 172.28.0.2 from checkpoint: /root/ray_results/trainable_func_2022-07-26_14-33-03/trainable_func_f19bcd82_6_act1=tanh,act2=tanh,act3=selu,batch_size=8,hidden_dim1=225.0000,hidden_dim2=315.0000,hidden_dim3=315.000_2022-07-26_14-33-43/checkpoint_tmpcf87a4/./\n",
            "\u001b[2m\u001b[36m(func pid=269252)\u001b[0m 2022-07-26 14:42:06,465\tINFO trainable.py:597 -- Current state after restoring: {'_iteration': 39, '_timesteps_total': None, '_time_total': 307.70053267478943, '_episodes_total': None}\n"
          ]
        },
        {
          "output_type": "stream",
          "name": "stdout",
          "text": [
            "Trial trainable_func_007a81ea reported epoch=0,loss=0.06995958125879606,should_checkpoint=True with parameters={'act1 ': 'selu', 'act2': 'selu', 'act3': 'tanh', 'lr': 0.0005, 'batch_size': 32, 'hidden_dim1': 120.0, 'hidden_dim2': 285.0, 'hidden_dim3': 225.0}.\n",
            "Trial trainable_func_f474cfe0 reported epoch=0,loss=0.06287431863947394,should_checkpoint=True with parameters={'act1 ': 'selu', 'act2': 'selu', 'act3': 'tanh', 'lr': 0.0008, 'batch_size': 16, 'hidden_dim1': 225.0, 'hidden_dim2': 210.0, 'hidden_dim3': 240.0}.\n"
          ]
        },
        {
          "output_type": "stream",
          "name": "stderr",
          "text": [
            "\u001b[2m\u001b[36m(func pid=269253)\u001b[0m 2022-07-26 14:42:08,576\tINFO trainable.py:589 -- Restored on 172.28.0.2 from checkpoint: /root/ray_results/trainable_func_2022-07-26_14-33-03/trainable_func_007a81ea_9_act1=selu,act2=selu,act3=tanh,batch_size=32,hidden_dim1=120.0000,hidden_dim2=285.0000,hidden_dim3=225.00_2022-07-26_14-34-08/checkpoint_tmpe6a540/./\n",
            "\u001b[2m\u001b[36m(func pid=269253)\u001b[0m 2022-07-26 14:42:08,581\tINFO trainable.py:597 -- Current state after restoring: {'_iteration': 44, '_timesteps_total': None, '_time_total': 94.88259220123291, '_episodes_total': None}\n",
            "\u001b[2m\u001b[36m(func pid=269297)\u001b[0m 2022-07-26 14:42:09,318\tINFO trainable.py:589 -- Restored on 172.28.0.2 from checkpoint: /root/ray_results/trainable_func_2022-07-26_14-33-03/trainable_func_f474cfe0_8_act1=selu,act2=selu,act3=tanh,batch_size=16,hidden_dim1=225.0000,hidden_dim2=210.0000,hidden_dim3=240.00_2022-07-26_14-34-05/checkpoint_tmpac7595/./\n",
            "\u001b[2m\u001b[36m(func pid=269297)\u001b[0m 2022-07-26 14:42:09,318\tINFO trainable.py:597 -- Current state after restoring: {'_iteration': 37, '_timesteps_total': None, '_time_total': 133.63621997833252, '_episodes_total': None}\n"
          ]
        },
        {
          "output_type": "stream",
          "name": "stdout",
          "text": [
            "== Status ==\n",
            "Current time: 2022-07-26 14:42:10 (running for 00:09:07.49)\n",
            "Memory usage on this node: 2.5/12.7 GiB\n",
            "Using MedianStoppingRule: num_stopped=13.\n",
            "Resources requested: 2.0/2 CPUs, 0/0 GPUs, 0.0/7.47 GiB heap, 0.0/3.73 GiB objects\n",
            "Result logdir: /root/ray_results/trainable_func_2022-07-26_14-33-03\n",
            "Number of trials: 29/50 (6 PAUSED, 4 RUNNING, 19 TERMINATED)\n",
            "\n",
            "\n"
          ]
        },
        {
          "output_type": "stream",
          "name": "stderr",
          "text": [
            "\u001b[2m\u001b[36m(func pid=269253)\u001b[0m 2022-07-26 14:42:11,392\tINFO trainable.py:589 -- Restored on 172.28.0.2 from checkpoint: /root/ray_results/trainable_func_2022-07-26_14-33-03/trainable_func_007a81ea_9_act1=selu,act2=selu,act3=tanh,batch_size=32,hidden_dim1=120.0000,hidden_dim2=285.0000,hidden_dim3=225.00_2022-07-26_14-34-08/checkpoint_tmp12dc20/./\n",
            "\u001b[2m\u001b[36m(func pid=269253)\u001b[0m 2022-07-26 14:42:11,392\tINFO trainable.py:597 -- Current state after restoring: {'_iteration': 45, '_timesteps_total': None, '_time_total': 96.9279625415802, '_episodes_total': None}\n"
          ]
        },
        {
          "output_type": "stream",
          "name": "stdout",
          "text": [
            "Trial trainable_func_007a81ea reported epoch=0,loss=0.0656010174203608,should_checkpoint=True with parameters={'act1 ': 'selu', 'act2': 'selu', 'act3': 'tanh', 'lr': 0.0005, 'batch_size': 32, 'hidden_dim1': 120.0, 'hidden_dim2': 285.0, 'hidden_dim3': 225.0}.\n"
          ]
        },
        {
          "output_type": "stream",
          "name": "stderr",
          "text": [
            "\u001b[2m\u001b[36m(func pid=269297)\u001b[0m 2022-07-26 14:42:13,684\tINFO trainable.py:589 -- Restored on 172.28.0.2 from checkpoint: /root/ray_results/trainable_func_2022-07-26_14-33-03/trainable_func_f474cfe0_8_act1=selu,act2=selu,act3=tanh,batch_size=16,hidden_dim1=225.0000,hidden_dim2=210.0000,hidden_dim3=240.00_2022-07-26_14-34-05/checkpoint_tmp9484d6/./\n",
            "\u001b[2m\u001b[36m(func pid=269297)\u001b[0m 2022-07-26 14:42:13,684\tINFO trainable.py:597 -- Current state after restoring: {'_iteration': 38, '_timesteps_total': None, '_time_total': 137.33093309402466, '_episodes_total': None}\n",
            "\u001b[2m\u001b[36m(func pid=269253)\u001b[0m 2022-07-26 14:42:14,072\tINFO trainable.py:589 -- Restored on 172.28.0.2 from checkpoint: /root/ray_results/trainable_func_2022-07-26_14-33-03/trainable_func_007a81ea_9_act1=selu,act2=selu,act3=tanh,batch_size=32,hidden_dim1=120.0000,hidden_dim2=285.0000,hidden_dim3=225.00_2022-07-26_14-34-08/checkpoint_tmp8bb6dc/./\n",
            "\u001b[2m\u001b[36m(func pid=269253)\u001b[0m 2022-07-26 14:42:14,072\tINFO trainable.py:597 -- Current state after restoring: {'_iteration': 46, '_timesteps_total': None, '_time_total': 99.07883524894714, '_episodes_total': None}\n"
          ]
        },
        {
          "output_type": "stream",
          "name": "stdout",
          "text": [
            "Trial trainable_func_ed1381a0 reported epoch=11,loss=0.47754365485106703,should_checkpoint=True with parameters={'act1 ': 'relu', 'act2': 'tanh', 'act3': 'relu', 'lr': 0.0009, 'batch_size': 8, 'hidden_dim1': 165.0, 'hidden_dim2': 285.0, 'hidden_dim3': 330.0}. This trial completed.\n",
            "Trial trainable_func_f19bcd82 reported epoch=0,loss=0.07043762113427686,should_checkpoint=True with parameters={'act1 ': 'tanh', 'act2': 'tanh', 'act3': 'selu', 'lr': 0.0007, 'batch_size': 8, 'hidden_dim1': 225.0, 'hidden_dim2': 315.0, 'hidden_dim3': 315.0}.\n"
          ]
        },
        {
          "output_type": "stream",
          "name": "stderr",
          "text": [
            "\u001b[2m\u001b[36m(func pid=269252)\u001b[0m 2022-07-26 14:42:14,781\tINFO trainable.py:589 -- Restored on 172.28.0.2 from checkpoint: /root/ray_results/trainable_func_2022-07-26_14-33-03/trainable_func_f19bcd82_6_act1=tanh,act2=tanh,act3=selu,batch_size=8,hidden_dim1=225.0000,hidden_dim2=315.0000,hidden_dim3=315.000_2022-07-26_14-33-43/checkpoint_tmpf61983/./\n",
            "\u001b[2m\u001b[36m(func pid=269252)\u001b[0m 2022-07-26 14:42:14,781\tINFO trainable.py:597 -- Current state after restoring: {'_iteration': 40, '_timesteps_total': None, '_time_total': 315.20829582214355, '_episodes_total': None}\n"
          ]
        },
        {
          "output_type": "stream",
          "name": "stdout",
          "text": [
            "Trial trainable_func_2382bef4 reported epoch=0,loss=0.7672703130840319,should_checkpoint=True with parameters={'act1 ': 'selu', 'act2': 'relu', 'act3': 'selu', 'lr': 0.001, 'batch_size': 64, 'hidden_dim1': 330.0, 'hidden_dim2': 180.0, 'hidden_dim3': 240.0}.\n",
            "== Status ==\n",
            "Current time: 2022-07-26 14:42:16 (running for 00:09:13.20)\n",
            "Memory usage on this node: 2.5/12.7 GiB\n",
            "Using MedianStoppingRule: num_stopped=14.\n",
            "Resources requested: 2.0/2 CPUs, 0/0 GPUs, 0.0/7.47 GiB heap, 0.0/3.73 GiB objects\n",
            "Result logdir: /root/ray_results/trainable_func_2022-07-26_14-33-03\n",
            "Number of trials: 30/50 (6 PAUSED, 4 RUNNING, 20 TERMINATED)\n",
            "\n",
            "\n",
            "Trial trainable_func_f474cfe0 reported epoch=0,loss=0.0633846432539545,should_checkpoint=True with parameters={'act1 ': 'selu', 'act2': 'selu', 'act3': 'tanh', 'lr': 0.0008, 'batch_size': 16, 'hidden_dim1': 225.0, 'hidden_dim2': 210.0, 'hidden_dim3': 240.0}.\n"
          ]
        },
        {
          "output_type": "stream",
          "name": "stderr",
          "text": [
            "\u001b[2m\u001b[36m(func pid=269253)\u001b[0m 2022-07-26 14:42:17,137\tINFO trainable.py:589 -- Restored on 172.28.0.2 from checkpoint: /root/ray_results/trainable_func_2022-07-26_14-33-03/trainable_func_007a81ea_9_act1=selu,act2=selu,act3=tanh,batch_size=32,hidden_dim1=120.0000,hidden_dim2=285.0000,hidden_dim3=225.00_2022-07-26_14-34-08/checkpoint_tmpba9749/./\n",
            "\u001b[2m\u001b[36m(func pid=269253)\u001b[0m 2022-07-26 14:42:17,137\tINFO trainable.py:597 -- Current state after restoring: {'_iteration': 47, '_timesteps_total': None, '_time_total': 101.34694457054138, '_episodes_total': None}\n",
            "\u001b[2m\u001b[36m(func pid=269297)\u001b[0m 2022-07-26 14:42:17,639\tINFO trainable.py:589 -- Restored on 172.28.0.2 from checkpoint: /root/ray_results/trainable_func_2022-07-26_14-33-03/trainable_func_f474cfe0_8_act1=selu,act2=selu,act3=tanh,batch_size=16,hidden_dim1=225.0000,hidden_dim2=210.0000,hidden_dim3=240.00_2022-07-26_14-34-05/checkpoint_tmpf7d847/./\n",
            "\u001b[2m\u001b[36m(func pid=269297)\u001b[0m 2022-07-26 14:42:17,640\tINFO trainable.py:597 -- Current state after restoring: {'_iteration': 39, '_timesteps_total': None, '_time_total': 140.76655650138855, '_episodes_total': None}\n"
          ]
        },
        {
          "output_type": "stream",
          "name": "stdout",
          "text": [
            "Trial trainable_func_007a81ea reported epoch=0,loss=0.06911513691790308,should_checkpoint=True with parameters={'act1 ': 'selu', 'act2': 'selu', 'act3': 'tanh', 'lr': 0.0005, 'batch_size': 32, 'hidden_dim1': 120.0, 'hidden_dim2': 285.0, 'hidden_dim3': 225.0}.\n"
          ]
        },
        {
          "output_type": "stream",
          "name": "stderr",
          "text": [
            "\u001b[2m\u001b[36m(func pid=269253)\u001b[0m 2022-07-26 14:42:19,288\tINFO trainable.py:589 -- Restored on 172.28.0.2 from checkpoint: /root/ray_results/trainable_func_2022-07-26_14-33-03/trainable_func_007a81ea_9_act1=selu,act2=selu,act3=tanh,batch_size=32,hidden_dim1=120.0000,hidden_dim2=285.0000,hidden_dim3=225.00_2022-07-26_14-34-08/checkpoint_tmp359ccf/./\n",
            "\u001b[2m\u001b[36m(func pid=269253)\u001b[0m 2022-07-26 14:42:19,289\tINFO trainable.py:597 -- Current state after restoring: {'_iteration': 48, '_timesteps_total': None, '_time_total': 103.04781341552734, '_episodes_total': None}\n"
          ]
        },
        {
          "output_type": "stream",
          "name": "stdout",
          "text": [
            "== Status ==\n",
            "Current time: 2022-07-26 14:42:21 (running for 00:09:18.60)\n",
            "Memory usage on this node: 2.5/12.7 GiB\n",
            "Using MedianStoppingRule: num_stopped=14.\n",
            "Resources requested: 1.5/2 CPUs, 0/0 GPUs, 0.0/7.47 GiB heap, 0.0/3.73 GiB objects\n",
            "Result logdir: /root/ray_results/trainable_func_2022-07-26_14-33-03\n",
            "Number of trials: 30/50 (7 PAUSED, 3 RUNNING, 20 TERMINATED)\n",
            "\n",
            "\n"
          ]
        },
        {
          "output_type": "stream",
          "name": "stderr",
          "text": [
            "\u001b[2m\u001b[36m(func pid=269297)\u001b[0m 2022-07-26 14:42:21,798\tINFO trainable.py:589 -- Restored on 172.28.0.2 from checkpoint: /root/ray_results/trainable_func_2022-07-26_14-33-03/trainable_func_f474cfe0_8_act1=selu,act2=selu,act3=tanh,batch_size=16,hidden_dim1=225.0000,hidden_dim2=210.0000,hidden_dim3=240.00_2022-07-26_14-34-05/checkpoint_tmp72064d/./\n",
            "\u001b[2m\u001b[36m(func pid=269297)\u001b[0m 2022-07-26 14:42:21,799\tINFO trainable.py:597 -- Current state after restoring: {'_iteration': 40, '_timesteps_total': None, '_time_total': 144.34643745422363, '_episodes_total': None}\n"
          ]
        },
        {
          "output_type": "stream",
          "name": "stdout",
          "text": [
            "Trial trainable_func_f19bcd82 reported epoch=0,loss=0.07007726296764168,should_checkpoint=True with parameters={'act1 ': 'tanh', 'act2': 'tanh', 'act3': 'selu', 'lr': 0.0007, 'batch_size': 8, 'hidden_dim1': 225.0, 'hidden_dim2': 315.0, 'hidden_dim3': 315.0}.\n",
            "Trial trainable_func_2382bef4 reported epoch=4,loss=0.53504464729044,should_checkpoint=True with parameters={'act1 ': 'selu', 'act2': 'relu', 'act3': 'selu', 'lr': 0.001, 'batch_size': 64, 'hidden_dim1': 330.0, 'hidden_dim2': 180.0, 'hidden_dim3': 240.0}.\n"
          ]
        },
        {
          "output_type": "stream",
          "name": "stderr",
          "text": [
            "\u001b[2m\u001b[36m(func pid=269253)\u001b[0m 2022-07-26 14:42:22,156\tINFO trainable.py:589 -- Restored on 172.28.0.2 from checkpoint: /root/ray_results/trainable_func_2022-07-26_14-33-03/trainable_func_007a81ea_9_act1=selu,act2=selu,act3=tanh,batch_size=32,hidden_dim1=120.0000,hidden_dim2=285.0000,hidden_dim3=225.00_2022-07-26_14-34-08/checkpoint_tmp05a651/./\n",
            "\u001b[2m\u001b[36m(func pid=269253)\u001b[0m 2022-07-26 14:42:22,157\tINFO trainable.py:597 -- Current state after restoring: {'_iteration': 49, '_timesteps_total': None, '_time_total': 104.99583125114441, '_episodes_total': None}\n",
            "\u001b[2m\u001b[36m(func pid=269252)\u001b[0m 2022-07-26 14:42:22,585\tINFO trainable.py:589 -- Restored on 172.28.0.2 from checkpoint: /root/ray_results/trainable_func_2022-07-26_14-33-03/trainable_func_f19bcd82_6_act1=tanh,act2=tanh,act3=selu,batch_size=8,hidden_dim1=225.0000,hidden_dim2=315.0000,hidden_dim3=315.000_2022-07-26_14-33-43/checkpoint_tmp25bb6a/./\n",
            "\u001b[2m\u001b[36m(func pid=269252)\u001b[0m 2022-07-26 14:42:22,585\tINFO trainable.py:597 -- Current state after restoring: {'_iteration': 41, '_timesteps_total': None, '_time_total': 322.2995185852051, '_episodes_total': None}\n"
          ]
        },
        {
          "output_type": "stream",
          "name": "stdout",
          "text": [
            "Trial trainable_func_007a81ea reported epoch=0,loss=0.0710114898949904,should_checkpoint=True with parameters={'act1 ': 'selu', 'act2': 'selu', 'act3': 'tanh', 'lr': 0.0005, 'batch_size': 32, 'hidden_dim1': 120.0, 'hidden_dim2': 285.0, 'hidden_dim3': 225.0}. This trial completed.\n",
            "Trial trainable_func_f474cfe0 reported epoch=0,loss=0.059089574065897106,should_checkpoint=True with parameters={'act1 ': 'selu', 'act2': 'selu', 'act3': 'tanh', 'lr': 0.0008, 'batch_size': 16, 'hidden_dim1': 225.0, 'hidden_dim2': 210.0, 'hidden_dim3': 240.0}.\n"
          ]
        },
        {
          "output_type": "stream",
          "name": "stderr",
          "text": [
            "\u001b[2m\u001b[36m(func pid=269297)\u001b[0m 2022-07-26 14:42:25,105\tINFO trainable.py:589 -- Restored on 172.28.0.2 from checkpoint: /root/ray_results/trainable_func_2022-07-26_14-33-03/trainable_func_f474cfe0_8_act1=selu,act2=selu,act3=tanh,batch_size=16,hidden_dim1=225.0000,hidden_dim2=210.0000,hidden_dim3=240.00_2022-07-26_14-34-05/checkpoint_tmpecf635/./\n",
            "\u001b[2m\u001b[36m(func pid=269297)\u001b[0m 2022-07-26 14:42:25,105\tINFO trainable.py:597 -- Current state after restoring: {'_iteration': 41, '_timesteps_total': None, '_time_total': 147.1165256500244, '_episodes_total': None}\n"
          ]
        },
        {
          "output_type": "stream",
          "name": "stdout",
          "text": [
            "Trial trainable_func_29b12590 reported epoch=0,loss=0.686825132338737,should_checkpoint=True with parameters={'act1 ': 'selu', 'act2': 'selu', 'act3': 'tanh', 'lr': 0.0006000000000000001, 'batch_size': 32, 'hidden_dim1': 330.0, 'hidden_dim2': 180.0, 'hidden_dim3': 300.0}.\n",
            "== Status ==\n",
            "Current time: 2022-07-26 14:42:26 (running for 00:09:23.67)\n",
            "Memory usage on this node: 2.5/12.7 GiB\n",
            "Using MedianStoppingRule: num_stopped=14.\n",
            "Resources requested: 2.0/2 CPUs, 0/0 GPUs, 0.0/7.47 GiB heap, 0.0/3.73 GiB objects\n",
            "Result logdir: /root/ray_results/trainable_func_2022-07-26_14-33-03\n",
            "Number of trials: 31/50 (6 PAUSED, 4 RUNNING, 21 TERMINATED)\n",
            "\n",
            "\n",
            "Trial trainable_func_2382bef4 reported epoch=8,loss=0.45543299646973673,should_checkpoint=True with parameters={'act1 ': 'selu', 'act2': 'relu', 'act3': 'selu', 'lr': 0.001, 'batch_size': 64, 'hidden_dim1': 330.0, 'hidden_dim2': 180.0, 'hidden_dim3': 240.0}.\n"
          ]
        },
        {
          "output_type": "stream",
          "name": "stderr",
          "text": [
            "\u001b[2m\u001b[36m(func pid=269297)\u001b[0m 2022-07-26 14:42:29,136\tINFO trainable.py:589 -- Restored on 172.28.0.2 from checkpoint: /root/ray_results/trainable_func_2022-07-26_14-33-03/trainable_func_f474cfe0_8_act1=selu,act2=selu,act3=tanh,batch_size=16,hidden_dim1=225.0000,hidden_dim2=210.0000,hidden_dim3=240.00_2022-07-26_14-34-05/checkpoint_tmp504305/./\n",
            "\u001b[2m\u001b[36m(func pid=269297)\u001b[0m 2022-07-26 14:42:29,138\tINFO trainable.py:597 -- Current state after restoring: {'_iteration': 42, '_timesteps_total': None, '_time_total': 150.38925576210022, '_episodes_total': None}\n"
          ]
        },
        {
          "output_type": "stream",
          "name": "stdout",
          "text": [
            "Trial trainable_func_f19bcd82 reported epoch=0,loss=0.05858379518668163,should_checkpoint=True with parameters={'act1 ': 'tanh', 'act2': 'tanh', 'act3': 'selu', 'lr': 0.0007, 'batch_size': 8, 'hidden_dim1': 225.0, 'hidden_dim2': 315.0, 'hidden_dim3': 315.0}.\n"
          ]
        },
        {
          "output_type": "stream",
          "name": "stderr",
          "text": [
            "\u001b[2m\u001b[36m(func pid=269252)\u001b[0m 2022-07-26 14:42:31,380\tINFO trainable.py:589 -- Restored on 172.28.0.2 from checkpoint: /root/ray_results/trainable_func_2022-07-26_14-33-03/trainable_func_f19bcd82_6_act1=tanh,act2=tanh,act3=selu,batch_size=8,hidden_dim1=225.0000,hidden_dim2=315.0000,hidden_dim3=315.000_2022-07-26_14-33-43/checkpoint_tmp10ad77/./\n",
            "\u001b[2m\u001b[36m(func pid=269252)\u001b[0m 2022-07-26 14:42:31,382\tINFO trainable.py:597 -- Current state after restoring: {'_iteration': 42, '_timesteps_total': None, '_time_total': 330.3415620326996, '_episodes_total': None}\n"
          ]
        },
        {
          "output_type": "stream",
          "name": "stdout",
          "text": [
            "Trial trainable_func_f474cfe0 reported epoch=0,loss=0.05926403272741192,should_checkpoint=True with parameters={'act1 ': 'selu', 'act2': 'selu', 'act3': 'tanh', 'lr': 0.0008, 'batch_size': 16, 'hidden_dim1': 225.0, 'hidden_dim2': 210.0, 'hidden_dim3': 240.0}.\n",
            "== Status ==\n",
            "Current time: 2022-07-26 14:42:32 (running for 00:09:29.10)\n",
            "Memory usage on this node: 2.5/12.7 GiB\n",
            "Using MedianStoppingRule: num_stopped=14.\n",
            "Resources requested: 2.0/2 CPUs, 0/0 GPUs, 0.0/7.47 GiB heap, 0.0/3.73 GiB objects\n",
            "Result logdir: /root/ray_results/trainable_func_2022-07-26_14-33-03\n",
            "Number of trials: 31/50 (6 PAUSED, 4 RUNNING, 21 TERMINATED)\n",
            "\n",
            "\n",
            "Trial trainable_func_2382bef4 reported epoch=11,loss=0.4716977427520551,should_checkpoint=True with parameters={'act1 ': 'selu', 'act2': 'relu', 'act3': 'selu', 'lr': 0.001, 'batch_size': 64, 'hidden_dim1': 330.0, 'hidden_dim2': 180.0, 'hidden_dim3': 240.0}. This trial completed.\n"
          ]
        },
        {
          "output_type": "stream",
          "name": "stderr",
          "text": [
            "\u001b[2m\u001b[36m(func pid=269297)\u001b[0m 2022-07-26 14:42:32,860\tINFO trainable.py:589 -- Restored on 172.28.0.2 from checkpoint: /root/ray_results/trainable_func_2022-07-26_14-33-03/trainable_func_f474cfe0_8_act1=selu,act2=selu,act3=tanh,batch_size=16,hidden_dim1=225.0000,hidden_dim2=210.0000,hidden_dim3=240.00_2022-07-26_14-34-05/checkpoint_tmp3f3ad8/./\n",
            "\u001b[2m\u001b[36m(func pid=269297)\u001b[0m 2022-07-26 14:42:32,860\tINFO trainable.py:597 -- Current state after restoring: {'_iteration': 43, '_timesteps_total': None, '_time_total': 153.49256563186646, '_episodes_total': None}\n"
          ]
        },
        {
          "output_type": "stream",
          "name": "stdout",
          "text": [
            "Trial trainable_func_29b12590 reported epoch=3,loss=0.5665491533577696,should_checkpoint=True with parameters={'act1 ': 'selu', 'act2': 'selu', 'act3': 'tanh', 'lr': 0.0006000000000000001, 'batch_size': 32, 'hidden_dim1': 330.0, 'hidden_dim2': 180.0, 'hidden_dim3': 300.0}.\n",
            "Trial trainable_func_2eb77ddc reported epoch=0,loss=0.6861619169642593,should_checkpoint=True with parameters={'act1 ': 'selu', 'act2': 'selu', 'act3': 'tanh', 'lr': 0.0006000000000000001, 'batch_size': 32, 'hidden_dim1': 300.0, 'hidden_dim2': 225.0, 'hidden_dim3': 300.0}.\n"
          ]
        },
        {
          "output_type": "stream",
          "name": "stderr",
          "text": [
            "\u001b[2m\u001b[36m(func pid=269297)\u001b[0m 2022-07-26 14:42:36,952\tINFO trainable.py:589 -- Restored on 172.28.0.2 from checkpoint: /root/ray_results/trainable_func_2022-07-26_14-33-03/trainable_func_f474cfe0_8_act1=selu,act2=selu,act3=tanh,batch_size=16,hidden_dim1=225.0000,hidden_dim2=210.0000,hidden_dim3=240.00_2022-07-26_14-34-05/checkpoint_tmp8d1855/./\n",
            "\u001b[2m\u001b[36m(func pid=269297)\u001b[0m 2022-07-26 14:42:36,952\tINFO trainable.py:597 -- Current state after restoring: {'_iteration': 44, '_timesteps_total': None, '_time_total': 156.89797925949097, '_episodes_total': None}\n"
          ]
        },
        {
          "output_type": "stream",
          "name": "stdout",
          "text": [
            "== Status ==\n",
            "Current time: 2022-07-26 14:42:37 (running for 00:09:34.39)\n",
            "Memory usage on this node: 2.5/12.7 GiB\n",
            "Using MedianStoppingRule: num_stopped=15.\n",
            "Resources requested: 2.0/2 CPUs, 0/0 GPUs, 0.0/7.47 GiB heap, 0.0/3.73 GiB objects\n",
            "Result logdir: /root/ray_results/trainable_func_2022-07-26_14-33-03\n",
            "Number of trials: 32/50 (6 PAUSED, 4 RUNNING, 22 TERMINATED)\n",
            "\n",
            "\n",
            "Trial trainable_func_f19bcd82 reported epoch=0,loss=0.07606355537551909,should_checkpoint=True with parameters={'act1 ': 'tanh', 'act2': 'tanh', 'act3': 'selu', 'lr': 0.0007, 'batch_size': 8, 'hidden_dim1': 225.0, 'hidden_dim2': 315.0, 'hidden_dim3': 315.0}.\n",
            "Trial trainable_func_29b12590 reported epoch=6,loss=0.5780174272280424,should_checkpoint=True with parameters={'act1 ': 'selu', 'act2': 'selu', 'act3': 'tanh', 'lr': 0.0006000000000000001, 'batch_size': 32, 'hidden_dim1': 330.0, 'hidden_dim2': 180.0, 'hidden_dim3': 300.0}.\n"
          ]
        },
        {
          "output_type": "stream",
          "name": "stderr",
          "text": [
            "\u001b[2m\u001b[36m(func pid=269252)\u001b[0m 2022-07-26 14:42:40,163\tINFO trainable.py:589 -- Restored on 172.28.0.2 from checkpoint: /root/ray_results/trainable_func_2022-07-26_14-33-03/trainable_func_f19bcd82_6_act1=tanh,act2=tanh,act3=selu,batch_size=8,hidden_dim1=225.0000,hidden_dim2=315.0000,hidden_dim3=315.000_2022-07-26_14-33-43/checkpoint_tmp51544b/./\n",
            "\u001b[2m\u001b[36m(func pid=269252)\u001b[0m 2022-07-26 14:42:40,163\tINFO trainable.py:597 -- Current state after restoring: {'_iteration': 43, '_timesteps_total': None, '_time_total': 338.50430727005005, '_episodes_total': None}\n"
          ]
        },
        {
          "output_type": "stream",
          "name": "stdout",
          "text": [
            "Trial trainable_func_f474cfe0 reported epoch=0,loss=0.06775812075474989,should_checkpoint=True with parameters={'act1 ': 'selu', 'act2': 'selu', 'act3': 'tanh', 'lr': 0.0008, 'batch_size': 16, 'hidden_dim1': 225.0, 'hidden_dim2': 210.0, 'hidden_dim3': 240.0}.\n"
          ]
        },
        {
          "output_type": "stream",
          "name": "stderr",
          "text": [
            "\u001b[2m\u001b[36m(func pid=269297)\u001b[0m 2022-07-26 14:42:41,042\tINFO trainable.py:589 -- Restored on 172.28.0.2 from checkpoint: /root/ray_results/trainable_func_2022-07-26_14-33-03/trainable_func_f474cfe0_8_act1=selu,act2=selu,act3=tanh,batch_size=16,hidden_dim1=225.0000,hidden_dim2=210.0000,hidden_dim3=240.00_2022-07-26_14-34-05/checkpoint_tmp02e085/./\n",
            "\u001b[2m\u001b[36m(func pid=269297)\u001b[0m 2022-07-26 14:42:41,042\tINFO trainable.py:597 -- Current state after restoring: {'_iteration': 45, '_timesteps_total': None, '_time_total': 160.3520758152008, '_episodes_total': None}\n"
          ]
        },
        {
          "output_type": "stream",
          "name": "stdout",
          "text": [
            "Trial trainable_func_2eb77ddc reported epoch=3,loss=0.5496489137898275,should_checkpoint=True with parameters={'act1 ': 'selu', 'act2': 'selu', 'act3': 'tanh', 'lr': 0.0006000000000000001, 'batch_size': 32, 'hidden_dim1': 300.0, 'hidden_dim2': 225.0, 'hidden_dim3': 300.0}.\n",
            "== Status ==\n",
            "Current time: 2022-07-26 14:42:42 (running for 00:09:39.41)\n",
            "Memory usage on this node: 2.5/12.7 GiB\n",
            "Using MedianStoppingRule: num_stopped=15.\n",
            "Resources requested: 2.0/2 CPUs, 0/0 GPUs, 0.0/7.47 GiB heap, 0.0/3.73 GiB objects\n",
            "Result logdir: /root/ray_results/trainable_func_2022-07-26_14-33-03\n",
            "Number of trials: 32/50 (6 PAUSED, 4 RUNNING, 22 TERMINATED)\n",
            "\n",
            "\n"
          ]
        },
        {
          "output_type": "stream",
          "name": "stderr",
          "text": [
            "\u001b[2m\u001b[36m(func pid=269297)\u001b[0m 2022-07-26 14:42:45,519\tINFO trainable.py:589 -- Restored on 172.28.0.2 from checkpoint: /root/ray_results/trainable_func_2022-07-26_14-33-03/trainable_func_f474cfe0_8_act1=selu,act2=selu,act3=tanh,batch_size=16,hidden_dim1=225.0000,hidden_dim2=210.0000,hidden_dim3=240.00_2022-07-26_14-34-05/checkpoint_tmpd46c94/./\n",
            "\u001b[2m\u001b[36m(func pid=269297)\u001b[0m 2022-07-26 14:42:45,519\tINFO trainable.py:597 -- Current state after restoring: {'_iteration': 46, '_timesteps_total': None, '_time_total': 164.16451978683472, '_episodes_total': None}\n"
          ]
        },
        {
          "output_type": "stream",
          "name": "stdout",
          "text": [
            "Trial trainable_func_29b12590 reported epoch=9,loss=0.5734741578412537,should_checkpoint=True with parameters={'act1 ': 'selu', 'act2': 'selu', 'act3': 'tanh', 'lr': 0.0006000000000000001, 'batch_size': 32, 'hidden_dim1': 330.0, 'hidden_dim2': 180.0, 'hidden_dim3': 300.0}. This trial completed.\n",
            "Trial trainable_func_f19bcd82 reported epoch=0,loss=0.06768440703323708,should_checkpoint=True with parameters={'act1 ': 'tanh', 'act2': 'tanh', 'act3': 'selu', 'lr': 0.0007, 'batch_size': 8, 'hidden_dim1': 225.0, 'hidden_dim2': 315.0, 'hidden_dim3': 315.0}.\n",
            "== Status ==\n",
            "Current time: 2022-07-26 14:42:48 (running for 00:09:44.99)\n",
            "Memory usage on this node: 2.5/12.7 GiB\n",
            "Using MedianStoppingRule: num_stopped=16.\n",
            "Resources requested: 2.0/2 CPUs, 0/0 GPUs, 0.0/7.47 GiB heap, 0.0/3.73 GiB objects\n",
            "Result logdir: /root/ray_results/trainable_func_2022-07-26_14-33-03\n",
            "Number of trials: 33/50 (6 PAUSED, 4 RUNNING, 23 TERMINATED)\n",
            "\n",
            "\n",
            "Trial trainable_func_f474cfe0 reported epoch=0,loss=0.07507141309561659,should_checkpoint=True with parameters={'act1 ': 'selu', 'act2': 'selu', 'act3': 'tanh', 'lr': 0.0008, 'batch_size': 16, 'hidden_dim1': 225.0, 'hidden_dim2': 210.0, 'hidden_dim3': 240.0}.\n"
          ]
        },
        {
          "output_type": "stream",
          "name": "stderr",
          "text": [
            "\u001b[2m\u001b[36m(func pid=269252)\u001b[0m 2022-07-26 14:42:48,962\tINFO trainable.py:589 -- Restored on 172.28.0.2 from checkpoint: /root/ray_results/trainable_func_2022-07-26_14-33-03/trainable_func_f19bcd82_6_act1=tanh,act2=tanh,act3=selu,batch_size=8,hidden_dim1=225.0000,hidden_dim2=315.0000,hidden_dim3=315.000_2022-07-26_14-33-43/checkpoint_tmp6df248/./\n",
            "\u001b[2m\u001b[36m(func pid=269252)\u001b[0m 2022-07-26 14:42:48,962\tINFO trainable.py:597 -- Current state after restoring: {'_iteration': 44, '_timesteps_total': None, '_time_total': 346.476567029953, '_episodes_total': None}\n",
            "\u001b[2m\u001b[36m(func pid=269297)\u001b[0m 2022-07-26 14:42:49,487\tINFO trainable.py:589 -- Restored on 172.28.0.2 from checkpoint: /root/ray_results/trainable_func_2022-07-26_14-33-03/trainable_func_f474cfe0_8_act1=selu,act2=selu,act3=tanh,batch_size=16,hidden_dim1=225.0000,hidden_dim2=210.0000,hidden_dim3=240.00_2022-07-26_14-34-05/checkpoint_tmpedefaf/./\n",
            "\u001b[2m\u001b[36m(func pid=269297)\u001b[0m 2022-07-26 14:42:49,487\tINFO trainable.py:597 -- Current state after restoring: {'_iteration': 47, '_timesteps_total': None, '_time_total': 167.60807061195374, '_episodes_total': None}\n"
          ]
        },
        {
          "output_type": "stream",
          "name": "stdout",
          "text": [
            "Trial trainable_func_36f14ac8 reported epoch=0,loss=0.7871098816277241,should_checkpoint=True with parameters={'act1 ': 'selu', 'act2': 'selu', 'act3': 'tanh', 'lr': 0.0006000000000000001, 'batch_size': 32, 'hidden_dim1': 300.0, 'hidden_dim2': 225.0, 'hidden_dim3': 315.0}.\n",
            "Trial trainable_func_2eb77ddc reported epoch=6,loss=0.6302356913130153,should_checkpoint=True with parameters={'act1 ': 'selu', 'act2': 'selu', 'act3': 'tanh', 'lr': 0.0006000000000000001, 'batch_size': 32, 'hidden_dim1': 300.0, 'hidden_dim2': 225.0, 'hidden_dim3': 300.0}.\n",
            "== Status ==\n",
            "Current time: 2022-07-26 14:42:53 (running for 00:09:50.44)\n",
            "Memory usage on this node: 2.5/12.7 GiB\n",
            "Using MedianStoppingRule: num_stopped=16.\n",
            "Resources requested: 1.5/2 CPUs, 0/0 GPUs, 0.0/7.47 GiB heap, 0.0/3.73 GiB objects\n",
            "Result logdir: /root/ray_results/trainable_func_2022-07-26_14-33-03\n",
            "Number of trials: 33/50 (7 PAUSED, 3 RUNNING, 23 TERMINATED)\n",
            "\n",
            "\n"
          ]
        },
        {
          "output_type": "stream",
          "name": "stderr",
          "text": [
            "\u001b[2m\u001b[36m(func pid=269297)\u001b[0m 2022-07-26 14:42:53,639\tINFO trainable.py:589 -- Restored on 172.28.0.2 from checkpoint: /root/ray_results/trainable_func_2022-07-26_14-33-03/trainable_func_f474cfe0_8_act1=selu,act2=selu,act3=tanh,batch_size=16,hidden_dim1=225.0000,hidden_dim2=210.0000,hidden_dim3=240.00_2022-07-26_14-34-05/checkpoint_tmp207879/./\n",
            "\u001b[2m\u001b[36m(func pid=269297)\u001b[0m 2022-07-26 14:42:53,639\tINFO trainable.py:597 -- Current state after restoring: {'_iteration': 48, '_timesteps_total': None, '_time_total': 171.0602159500122, '_episodes_total': None}\n"
          ]
        },
        {
          "output_type": "stream",
          "name": "stdout",
          "text": [
            "Trial trainable_func_2eb77ddc reported epoch=9,loss=0.535063934396218,should_checkpoint=True with parameters={'act1 ': 'selu', 'act2': 'selu', 'act3': 'tanh', 'lr': 0.0006000000000000001, 'batch_size': 32, 'hidden_dim1': 300.0, 'hidden_dim2': 225.0, 'hidden_dim3': 300.0}.\n",
            "Trial trainable_func_36f14ac8 reported epoch=3,loss=0.6495280497442059,should_checkpoint=True with parameters={'act1 ': 'selu', 'act2': 'selu', 'act3': 'tanh', 'lr': 0.0006000000000000001, 'batch_size': 32, 'hidden_dim1': 300.0, 'hidden_dim2': 225.0, 'hidden_dim3': 315.0}.\n",
            "Trial trainable_func_f19bcd82 reported epoch=0,loss=0.06919819475042173,should_checkpoint=True with parameters={'act1 ': 'tanh', 'act2': 'tanh', 'act3': 'selu', 'lr': 0.0007, 'batch_size': 8, 'hidden_dim1': 225.0, 'hidden_dim2': 315.0, 'hidden_dim3': 315.0}.\n",
            "Trial trainable_func_f474cfe0 reported epoch=0,loss=0.05212051839256924,should_checkpoint=True with parameters={'act1 ': 'selu', 'act2': 'selu', 'act3': 'tanh', 'lr': 0.0008, 'batch_size': 16, 'hidden_dim1': 225.0, 'hidden_dim2': 210.0, 'hidden_dim3': 240.0}.\n"
          ]
        },
        {
          "output_type": "stream",
          "name": "stderr",
          "text": [
            "\u001b[2m\u001b[36m(func pid=269252)\u001b[0m 2022-07-26 14:42:57,315\tINFO trainable.py:589 -- Restored on 172.28.0.2 from checkpoint: /root/ray_results/trainable_func_2022-07-26_14-33-03/trainable_func_f19bcd82_6_act1=tanh,act2=tanh,act3=selu,batch_size=8,hidden_dim1=225.0000,hidden_dim2=315.0000,hidden_dim3=315.000_2022-07-26_14-33-43/checkpoint_tmpb39d1c/./\n",
            "\u001b[2m\u001b[36m(func pid=269252)\u001b[0m 2022-07-26 14:42:57,316\tINFO trainable.py:597 -- Current state after restoring: {'_iteration': 45, '_timesteps_total': None, '_time_total': 354.2129325866699, '_episodes_total': None}\n",
            "\u001b[2m\u001b[36m(func pid=269297)\u001b[0m 2022-07-26 14:42:58,074\tINFO trainable.py:589 -- Restored on 172.28.0.2 from checkpoint: /root/ray_results/trainable_func_2022-07-26_14-33-03/trainable_func_f474cfe0_8_act1=selu,act2=selu,act3=tanh,batch_size=16,hidden_dim1=225.0000,hidden_dim2=210.0000,hidden_dim3=240.00_2022-07-26_14-34-05/checkpoint_tmp997a27/./\n",
            "\u001b[2m\u001b[36m(func pid=269297)\u001b[0m 2022-07-26 14:42:58,074\tINFO trainable.py:597 -- Current state after restoring: {'_iteration': 49, '_timesteps_total': None, '_time_total': 174.47187447547913, '_episodes_total': None}\n"
          ]
        },
        {
          "output_type": "stream",
          "name": "stdout",
          "text": [
            "Trial trainable_func_2eb77ddc reported epoch=10,loss=0.533162925876766,should_checkpoint=True with parameters={'act1 ': 'selu', 'act2': 'selu', 'act3': 'tanh', 'lr': 0.0006000000000000001, 'batch_size': 32, 'hidden_dim1': 300.0, 'hidden_dim2': 225.0, 'hidden_dim3': 300.0}. This trial completed.\n",
            "== Status ==\n",
            "Current time: 2022-07-26 14:42:58 (running for 00:09:55.48)\n",
            "Memory usage on this node: 2.5/12.7 GiB\n",
            "Using MedianStoppingRule: num_stopped=17.\n",
            "Resources requested: 2.0/2 CPUs, 0/0 GPUs, 0.0/7.47 GiB heap, 0.0/3.73 GiB objects\n",
            "Result logdir: /root/ray_results/trainable_func_2022-07-26_14-33-03\n",
            "Number of trials: 33/50 (6 PAUSED, 4 RUNNING, 23 TERMINATED)\n",
            "\n",
            "\n",
            "Trial trainable_func_3e14fb74 reported epoch=0,loss=0.8282591480736168,should_checkpoint=True with parameters={'act1 ': 'selu', 'act2': 'selu', 'act3': 'tanh', 'lr': 0.0007, 'batch_size': 64, 'hidden_dim1': 300.0, 'hidden_dim2': 150.0, 'hidden_dim3': 315.0}.\n",
            "Trial trainable_func_f474cfe0 reported epoch=0,loss=0.03957295637338304,should_checkpoint=True with parameters={'act1 ': 'selu', 'act2': 'selu', 'act3': 'tanh', 'lr': 0.0008, 'batch_size': 16, 'hidden_dim1': 225.0, 'hidden_dim2': 210.0, 'hidden_dim3': 240.0}. This trial completed.\n",
            "Trial trainable_func_401d3cce reported epoch=0,loss=0.8817828796084693,should_checkpoint=True with parameters={'act1 ': 'tanh', 'act2': 'selu', 'act3': 'tanh', 'lr': 0.0007, 'batch_size': 64, 'hidden_dim1': 300.0, 'hidden_dim2': 240.0, 'hidden_dim3': 315.0}.\n",
            "== Status ==\n",
            "Current time: 2022-07-26 14:43:03 (running for 00:10:00.52)\n",
            "Memory usage on this node: 2.5/12.7 GiB\n",
            "Using MedianStoppingRule: num_stopped=17.\n",
            "Resources requested: 2.0/2 CPUs, 0/0 GPUs, 0.0/7.47 GiB heap, 0.0/3.73 GiB objects\n",
            "Result logdir: /root/ray_results/trainable_func_2022-07-26_14-33-03\n",
            "Number of trials: 35/50 (6 PAUSED, 4 RUNNING, 25 TERMINATED)\n",
            "\n",
            "\n",
            "Trial trainable_func_36f14ac8 reported epoch=6,loss=0.6426906583189091,should_checkpoint=True with parameters={'act1 ': 'selu', 'act2': 'selu', 'act3': 'tanh', 'lr': 0.0006000000000000001, 'batch_size': 32, 'hidden_dim1': 300.0, 'hidden_dim2': 225.0, 'hidden_dim3': 315.0}.\n",
            "Trial trainable_func_3e14fb74 reported epoch=3,loss=0.6052555811717673,should_checkpoint=True with parameters={'act1 ': 'selu', 'act2': 'selu', 'act3': 'tanh', 'lr': 0.0007, 'batch_size': 64, 'hidden_dim1': 300.0, 'hidden_dim2': 150.0, 'hidden_dim3': 315.0}.\n",
            "Trial trainable_func_f19bcd82 reported epoch=0,loss=0.054621754020933826,should_checkpoint=True with parameters={'act1 ': 'tanh', 'act2': 'tanh', 'act3': 'selu', 'lr': 0.0007, 'batch_size': 8, 'hidden_dim1': 225.0, 'hidden_dim2': 315.0, 'hidden_dim3': 315.0}.\n"
          ]
        },
        {
          "output_type": "stream",
          "name": "stderr",
          "text": [
            "\u001b[2m\u001b[36m(func pid=269252)\u001b[0m 2022-07-26 14:43:07,458\tINFO trainable.py:589 -- Restored on 172.28.0.2 from checkpoint: /root/ray_results/trainable_func_2022-07-26_14-33-03/trainable_func_f19bcd82_6_act1=tanh,act2=tanh,act3=selu,batch_size=8,hidden_dim1=225.0000,hidden_dim2=315.0000,hidden_dim3=315.000_2022-07-26_14-33-43/checkpoint_tmp70a457/./\n",
            "\u001b[2m\u001b[36m(func pid=269252)\u001b[0m 2022-07-26 14:43:07,458\tINFO trainable.py:597 -- Current state after restoring: {'_iteration': 46, '_timesteps_total': None, '_time_total': 363.68452501296997, '_episodes_total': None}\n"
          ]
        },
        {
          "output_type": "stream",
          "name": "stdout",
          "text": [
            "== Status ==\n",
            "Current time: 2022-07-26 14:43:08 (running for 00:10:05.72)\n",
            "Memory usage on this node: 2.5/12.7 GiB\n",
            "Using MedianStoppingRule: num_stopped=17.\n",
            "Resources requested: 2.0/2 CPUs, 0/0 GPUs, 0.0/7.47 GiB heap, 0.0/3.73 GiB objects\n",
            "Result logdir: /root/ray_results/trainable_func_2022-07-26_14-33-03\n",
            "Number of trials: 35/50 (6 PAUSED, 4 RUNNING, 25 TERMINATED)\n",
            "\n",
            "\n",
            "Trial trainable_func_401d3cce reported epoch=3,loss=0.5927033303418864,should_checkpoint=True with parameters={'act1 ': 'tanh', 'act2': 'selu', 'act3': 'tanh', 'lr': 0.0007, 'batch_size': 64, 'hidden_dim1': 300.0, 'hidden_dim2': 240.0, 'hidden_dim3': 315.0}.\n",
            "Trial trainable_func_3e14fb74 reported epoch=7,loss=0.5681009599152231,should_checkpoint=True with parameters={'act1 ': 'selu', 'act2': 'selu', 'act3': 'tanh', 'lr': 0.0007, 'batch_size': 64, 'hidden_dim1': 300.0, 'hidden_dim2': 150.0, 'hidden_dim3': 315.0}.\n",
            "Trial trainable_func_36f14ac8 reported epoch=9,loss=0.6229633725925848,should_checkpoint=True with parameters={'act1 ': 'selu', 'act2': 'selu', 'act3': 'tanh', 'lr': 0.0006000000000000001, 'batch_size': 32, 'hidden_dim1': 300.0, 'hidden_dim2': 225.0, 'hidden_dim3': 315.0}. This trial completed.\n",
            "== Status ==\n",
            "Current time: 2022-07-26 14:43:14 (running for 00:10:10.94)\n",
            "Memory usage on this node: 2.5/12.7 GiB\n",
            "Using MedianStoppingRule: num_stopped=18.\n",
            "Resources requested: 2.0/2 CPUs, 0/0 GPUs, 0.0/7.47 GiB heap, 0.0/3.73 GiB objects\n",
            "Result logdir: /root/ray_results/trainable_func_2022-07-26_14-33-03\n",
            "Number of trials: 36/50 (6 PAUSED, 4 RUNNING, 26 TERMINATED)\n",
            "\n",
            "\n",
            "Trial trainable_func_450c2506 reported epoch=0,loss=1.0394206507409347,should_checkpoint=True with parameters={'act1 ': 'tanh', 'act2': 'relu', 'act3': 'tanh', 'lr': 0.0007, 'batch_size': 64, 'hidden_dim1': 270.0, 'hidden_dim2': 150.0, 'hidden_dim3': 285.0}.\n",
            "Trial trainable_func_401d3cce reported epoch=5,loss=0.6070564723675007,should_checkpoint=True with parameters={'act1 ': 'tanh', 'act2': 'selu', 'act3': 'tanh', 'lr': 0.0007, 'batch_size': 64, 'hidden_dim1': 300.0, 'hidden_dim2': 240.0, 'hidden_dim3': 315.0}.\n",
            "Trial trainable_func_3e14fb74 reported epoch=9,loss=0.7475988731386994,should_checkpoint=True with parameters={'act1 ': 'selu', 'act2': 'selu', 'act3': 'tanh', 'lr': 0.0007, 'batch_size': 64, 'hidden_dim1': 300.0, 'hidden_dim2': 150.0, 'hidden_dim3': 315.0}. This trial completed.\n",
            "Trial trainable_func_f19bcd82 reported epoch=0,loss=0.08329241242217214,should_checkpoint=True with parameters={'act1 ': 'tanh', 'act2': 'tanh', 'act3': 'selu', 'lr': 0.0007, 'batch_size': 8, 'hidden_dim1': 225.0, 'hidden_dim2': 315.0, 'hidden_dim3': 315.0}.\n",
            "== Status ==\n",
            "Current time: 2022-07-26 14:43:19 (running for 00:10:16.02)\n",
            "Memory usage on this node: 2.5/12.7 GiB\n",
            "Using MedianStoppingRule: num_stopped=19.\n",
            "Resources requested: 1.5/2 CPUs, 0/0 GPUs, 0.0/7.47 GiB heap, 0.0/3.73 GiB objects\n",
            "Result logdir: /root/ray_results/trainable_func_2022-07-26_14-33-03\n",
            "Number of trials: 37/50 (7 PAUSED, 3 RUNNING, 27 TERMINATED)\n",
            "\n",
            "\n"
          ]
        },
        {
          "output_type": "stream",
          "name": "stderr",
          "text": [
            "\u001b[2m\u001b[36m(func pid=269252)\u001b[0m 2022-07-26 14:43:19,208\tINFO trainable.py:589 -- Restored on 172.28.0.2 from checkpoint: /root/ray_results/trainable_func_2022-07-26_14-33-03/trainable_func_f19bcd82_6_act1=tanh,act2=tanh,act3=selu,batch_size=8,hidden_dim1=225.0000,hidden_dim2=315.0000,hidden_dim3=315.000_2022-07-26_14-33-43/checkpoint_tmp8425fb/./\n",
            "\u001b[2m\u001b[36m(func pid=269252)\u001b[0m 2022-07-26 14:43:19,208\tINFO trainable.py:597 -- Current state after restoring: {'_iteration': 47, '_timesteps_total': None, '_time_total': 374.6759285926819, '_episodes_total': None}\n"
          ]
        },
        {
          "output_type": "stream",
          "name": "stdout",
          "text": [
            "Trial trainable_func_450c2506 reported epoch=4,loss=0.5420333306015979,should_checkpoint=True with parameters={'act1 ': 'tanh', 'act2': 'relu', 'act3': 'tanh', 'lr': 0.0007, 'batch_size': 64, 'hidden_dim1': 270.0, 'hidden_dim2': 150.0, 'hidden_dim3': 285.0}.\n",
            "Trial trainable_func_401d3cce reported epoch=9,loss=0.6125025218821417,should_checkpoint=True with parameters={'act1 ': 'tanh', 'act2': 'selu', 'act3': 'tanh', 'lr': 0.0007, 'batch_size': 64, 'hidden_dim1': 300.0, 'hidden_dim2': 240.0, 'hidden_dim3': 315.0}. This trial completed.\n",
            "Trial trainable_func_481d8b5e reported epoch=0,loss=0.6375429677118412,should_checkpoint=True with parameters={'act1 ': 'tanh', 'act2': 'relu', 'act3': 'selu', 'lr': 0.0007, 'batch_size': 8, 'hidden_dim1': 270.0, 'hidden_dim2': 330.0, 'hidden_dim3': 285.0}.\n",
            "Trial trainable_func_450c2506 reported epoch=8,loss=0.46743474874843566,should_checkpoint=True with parameters={'act1 ': 'tanh', 'act2': 'relu', 'act3': 'tanh', 'lr': 0.0007, 'batch_size': 64, 'hidden_dim1': 270.0, 'hidden_dim2': 150.0, 'hidden_dim3': 285.0}.\n",
            "== Status ==\n",
            "Current time: 2022-07-26 14:43:24 (running for 00:10:21.73)\n",
            "Memory usage on this node: 2.5/12.7 GiB\n",
            "Using MedianStoppingRule: num_stopped=20.\n",
            "Resources requested: 2.0/2 CPUs, 0/0 GPUs, 0.0/7.47 GiB heap, 0.0/3.73 GiB objects\n",
            "Result logdir: /root/ray_results/trainable_func_2022-07-26_14-33-03\n",
            "Number of trials: 38/50 (6 PAUSED, 4 RUNNING, 28 TERMINATED)\n",
            "\n",
            "\n",
            "Trial trainable_func_f19bcd82 reported epoch=0,loss=0.05679827534936967,should_checkpoint=True with parameters={'act1 ': 'tanh', 'act2': 'tanh', 'act3': 'selu', 'lr': 0.0007, 'batch_size': 8, 'hidden_dim1': 225.0, 'hidden_dim2': 315.0, 'hidden_dim3': 315.0}.\n"
          ]
        },
        {
          "output_type": "stream",
          "name": "stderr",
          "text": [
            "\u001b[2m\u001b[36m(func pid=269252)\u001b[0m 2022-07-26 14:43:28,331\tINFO trainable.py:589 -- Restored on 172.28.0.2 from checkpoint: /root/ray_results/trainable_func_2022-07-26_14-33-03/trainable_func_f19bcd82_6_act1=tanh,act2=tanh,act3=selu,batch_size=8,hidden_dim1=225.0000,hidden_dim2=315.0000,hidden_dim3=315.000_2022-07-26_14-33-43/checkpoint_tmp507c9b/./\n",
            "\u001b[2m\u001b[36m(func pid=269252)\u001b[0m 2022-07-26 14:43:28,331\tINFO trainable.py:597 -- Current state after restoring: {'_iteration': 48, '_timesteps_total': None, '_time_total': 383.0956950187683, '_episodes_total': None}\n"
          ]
        },
        {
          "output_type": "stream",
          "name": "stdout",
          "text": [
            "Trial trainable_func_450c2506 reported epoch=11,loss=0.5228106829029441,should_checkpoint=True with parameters={'act1 ': 'tanh', 'act2': 'relu', 'act3': 'tanh', 'lr': 0.0007, 'batch_size': 64, 'hidden_dim1': 270.0, 'hidden_dim2': 150.0, 'hidden_dim3': 285.0}. This trial completed.\n",
            "Trial trainable_func_4b4d35cc reported epoch=0,loss=0.6666280825107631,should_checkpoint=True with parameters={'act1 ': 'tanh', 'act2': 'relu', 'act3': 'selu', 'lr': 0.0009, 'batch_size': 8, 'hidden_dim1': 270.0, 'hidden_dim2': 330.0, 'hidden_dim3': 285.0}.\n",
            "Trial trainable_func_50049132 reported epoch=0,loss=0.6885511736207408,should_checkpoint=True with parameters={'act1 ': 'relu', 'act2': 'tanh', 'act3': 'relu', 'lr': 0.001, 'batch_size': 32, 'hidden_dim1': 210.0, 'hidden_dim2': 330.0, 'hidden_dim3': 270.0}.\n",
            "== Status ==\n",
            "Current time: 2022-07-26 14:43:31 (running for 00:10:28.17)\n",
            "Memory usage on this node: 2.5/12.7 GiB\n",
            "Using MedianStoppingRule: num_stopped=21.\n",
            "Resources requested: 2.0/2 CPUs, 0/0 GPUs, 0.0/7.47 GiB heap, 0.0/3.73 GiB objects\n",
            "Result logdir: /root/ray_results/trainable_func_2022-07-26_14-33-03\n",
            "Number of trials: 39/50 (6 PAUSED, 4 RUNNING, 29 TERMINATED)\n",
            "\n",
            "\n",
            "Trial trainable_func_481d8b5e reported epoch=1,loss=0.611793674011757,should_checkpoint=True with parameters={'act1 ': 'tanh', 'act2': 'relu', 'act3': 'selu', 'lr': 0.0007, 'batch_size': 8, 'hidden_dim1': 270.0, 'hidden_dim2': 330.0, 'hidden_dim3': 285.0}.\n",
            "Trial trainable_func_f19bcd82 reported epoch=0,loss=0.053014139310340755,should_checkpoint=True with parameters={'act1 ': 'tanh', 'act2': 'tanh', 'act3': 'selu', 'lr': 0.0007, 'batch_size': 8, 'hidden_dim1': 225.0, 'hidden_dim2': 315.0, 'hidden_dim3': 315.0}.\n",
            "== Status ==\n",
            "Current time: 2022-07-26 14:43:36 (running for 00:10:33.49)\n",
            "Memory usage on this node: 2.5/12.7 GiB\n",
            "Using MedianStoppingRule: num_stopped=21.\n",
            "Resources requested: 2.0/2 CPUs, 0/0 GPUs, 0.0/7.47 GiB heap, 0.0/3.73 GiB objects\n",
            "Result logdir: /root/ray_results/trainable_func_2022-07-26_14-33-03\n",
            "Number of trials: 39/50 (6 PAUSED, 4 RUNNING, 29 TERMINATED)\n",
            "\n",
            "\n",
            "Trial trainable_func_4b4d35cc reported epoch=1,loss=0.6360234295319882,should_checkpoint=True with parameters={'act1 ': 'tanh', 'act2': 'relu', 'act3': 'selu', 'lr': 0.0009, 'batch_size': 8, 'hidden_dim1': 270.0, 'hidden_dim2': 330.0, 'hidden_dim3': 285.0}.\n"
          ]
        },
        {
          "output_type": "stream",
          "name": "stderr",
          "text": [
            "\u001b[2m\u001b[36m(func pid=269252)\u001b[0m 2022-07-26 14:43:37,169\tINFO trainable.py:589 -- Restored on 172.28.0.2 from checkpoint: /root/ray_results/trainable_func_2022-07-26_14-33-03/trainable_func_f19bcd82_6_act1=tanh,act2=tanh,act3=selu,batch_size=8,hidden_dim1=225.0000,hidden_dim2=315.0000,hidden_dim3=315.000_2022-07-26_14-33-43/checkpoint_tmp4b9ac7/./\n",
            "\u001b[2m\u001b[36m(func pid=269252)\u001b[0m 2022-07-26 14:43:37,169\tINFO trainable.py:597 -- Current state after restoring: {'_iteration': 49, '_timesteps_total': None, '_time_total': 391.3936116695404, '_episodes_total': None}\n"
          ]
        },
        {
          "output_type": "stream",
          "name": "stdout",
          "text": [
            "Trial trainable_func_50049132 reported epoch=3,loss=0.6356964576076589,should_checkpoint=True with parameters={'act1 ': 'relu', 'act2': 'tanh', 'act3': 'relu', 'lr': 0.001, 'batch_size': 32, 'hidden_dim1': 210.0, 'hidden_dim2': 330.0, 'hidden_dim3': 270.0}.\n",
            "Trial trainable_func_481d8b5e reported epoch=2,loss=0.6797983525426317,should_checkpoint=True with parameters={'act1 ': 'tanh', 'act2': 'relu', 'act3': 'selu', 'lr': 0.0007, 'batch_size': 8, 'hidden_dim1': 270.0, 'hidden_dim2': 330.0, 'hidden_dim3': 285.0}.\n",
            "== Status ==\n",
            "Current time: 2022-07-26 14:43:43 (running for 00:10:40.02)\n",
            "Memory usage on this node: 2.5/12.7 GiB\n",
            "Using MedianStoppingRule: num_stopped=21.\n",
            "Resources requested: 2.0/2 CPUs, 0/0 GPUs, 0.0/7.47 GiB heap, 0.0/3.73 GiB objects\n",
            "Result logdir: /root/ray_results/trainable_func_2022-07-26_14-33-03\n",
            "Number of trials: 39/50 (6 PAUSED, 4 RUNNING, 29 TERMINATED)\n",
            "\n",
            "\n",
            "Trial trainable_func_f19bcd82 reported epoch=0,loss=0.04230105215645561,should_checkpoint=True with parameters={'act1 ': 'tanh', 'act2': 'tanh', 'act3': 'selu', 'lr': 0.0007, 'batch_size': 8, 'hidden_dim1': 225.0, 'hidden_dim2': 315.0, 'hidden_dim3': 315.0}. This trial completed.\n",
            "Trial trainable_func_50049132 reported epoch=6,loss=0.5357355083607426,should_checkpoint=True with parameters={'act1 ': 'relu', 'act2': 'tanh', 'act3': 'relu', 'lr': 0.001, 'batch_size': 32, 'hidden_dim1': 210.0, 'hidden_dim2': 330.0, 'hidden_dim3': 270.0}.\n",
            "Trial trainable_func_4b4d35cc reported epoch=2,loss=0.5745166027413587,should_checkpoint=True with parameters={'act1 ': 'tanh', 'act2': 'relu', 'act3': 'selu', 'lr': 0.0009, 'batch_size': 8, 'hidden_dim1': 270.0, 'hidden_dim2': 330.0, 'hidden_dim3': 285.0}.\n",
            "Trial trainable_func_598d63dc reported epoch=0,loss=0.6624226108455551,should_checkpoint=True with parameters={'act1 ': 'relu', 'act2': 'relu', 'act3': 'relu', 'lr': 0.001, 'batch_size': 32, 'hidden_dim1': 255.0, 'hidden_dim2': 330.0, 'hidden_dim3': 270.0}.\n",
            "Trial trainable_func_481d8b5e reported epoch=3,loss=0.6029157799539446,should_checkpoint=True with parameters={'act1 ': 'tanh', 'act2': 'relu', 'act3': 'selu', 'lr': 0.0007, 'batch_size': 8, 'hidden_dim1': 270.0, 'hidden_dim2': 330.0, 'hidden_dim3': 285.0}.\n",
            "== Status ==\n",
            "Current time: 2022-07-26 14:43:49 (running for 00:10:46.51)\n",
            "Memory usage on this node: 2.5/12.7 GiB\n",
            "Using MedianStoppingRule: num_stopped=21.\n",
            "Resources requested: 2.0/2 CPUs, 0/0 GPUs, 0.0/7.47 GiB heap, 0.0/3.73 GiB objects\n",
            "Result logdir: /root/ray_results/trainable_func_2022-07-26_14-33-03\n",
            "Number of trials: 40/50 (6 PAUSED, 4 RUNNING, 30 TERMINATED)\n",
            "\n",
            "\n",
            "Trial trainable_func_50049132 reported epoch=9,loss=0.5428523155413326,should_checkpoint=True with parameters={'act1 ': 'relu', 'act2': 'tanh', 'act3': 'relu', 'lr': 0.001, 'batch_size': 32, 'hidden_dim1': 210.0, 'hidden_dim2': 330.0, 'hidden_dim3': 270.0}.\n",
            "Trial trainable_func_598d63dc reported epoch=3,loss=0.5891426831853336,should_checkpoint=True with parameters={'act1 ': 'relu', 'act2': 'relu', 'act3': 'relu', 'lr': 0.001, 'batch_size': 32, 'hidden_dim1': 255.0, 'hidden_dim2': 330.0, 'hidden_dim3': 270.0}.\n",
            "== Status ==\n",
            "Current time: 2022-07-26 14:43:54 (running for 00:10:51.55)\n",
            "Memory usage on this node: 2.5/12.7 GiB\n",
            "Using MedianStoppingRule: num_stopped=21.\n",
            "Resources requested: 2.0/2 CPUs, 0/0 GPUs, 0.0/7.47 GiB heap, 0.0/3.73 GiB objects\n",
            "Result logdir: /root/ray_results/trainable_func_2022-07-26_14-33-03\n",
            "Number of trials: 40/50 (6 PAUSED, 4 RUNNING, 30 TERMINATED)\n",
            "\n",
            "\n",
            "Trial trainable_func_50049132 reported epoch=10,loss=0.5441351844720078,should_checkpoint=True with parameters={'act1 ': 'relu', 'act2': 'tanh', 'act3': 'relu', 'lr': 0.001, 'batch_size': 32, 'hidden_dim1': 210.0, 'hidden_dim2': 330.0, 'hidden_dim3': 270.0}. This trial completed.\n",
            "Trial trainable_func_4b4d35cc reported epoch=3,loss=0.5611031988188862,should_checkpoint=True with parameters={'act1 ': 'tanh', 'act2': 'relu', 'act3': 'selu', 'lr': 0.0009, 'batch_size': 8, 'hidden_dim1': 270.0, 'hidden_dim2': 330.0, 'hidden_dim3': 285.0}.\n",
            "Trial trainable_func_481d8b5e reported epoch=4,loss=0.5552476381277119,should_checkpoint=True with parameters={'act1 ': 'tanh', 'act2': 'relu', 'act3': 'selu', 'lr': 0.0007, 'batch_size': 8, 'hidden_dim1': 270.0, 'hidden_dim2': 330.0, 'hidden_dim3': 285.0}.\n",
            "Trial trainable_func_5fed6740 reported epoch=0,loss=0.6836471267127787,should_checkpoint=True with parameters={'act1 ': 'selu', 'act2': 'selu', 'act3': 'tanh', 'lr': 0.0008, 'batch_size': 16, 'hidden_dim1': 255.0, 'hidden_dim2': 195.0, 'hidden_dim3': 285.0}.\n",
            "Trial trainable_func_598d63dc reported epoch=5,loss=0.5062827205755143,should_checkpoint=True with parameters={'act1 ': 'relu', 'act2': 'relu', 'act3': 'relu', 'lr': 0.001, 'batch_size': 32, 'hidden_dim1': 255.0, 'hidden_dim2': 330.0, 'hidden_dim3': 270.0}.\n",
            "== Status ==\n",
            "Current time: 2022-07-26 14:44:00 (running for 00:10:56.94)\n",
            "Memory usage on this node: 2.5/12.7 GiB\n",
            "Using MedianStoppingRule: num_stopped=22.\n",
            "Resources requested: 2.0/2 CPUs, 0/0 GPUs, 0.0/7.47 GiB heap, 0.0/3.73 GiB objects\n",
            "Result logdir: /root/ray_results/trainable_func_2022-07-26_14-33-03\n",
            "Number of trials: 41/50 (6 PAUSED, 4 RUNNING, 31 TERMINATED)\n",
            "\n",
            "\n",
            "Trial trainable_func_4b4d35cc reported epoch=4,loss=0.6193085763745725,should_checkpoint=True with parameters={'act1 ': 'tanh', 'act2': 'relu', 'act3': 'selu', 'lr': 0.0009, 'batch_size': 8, 'hidden_dim1': 270.0, 'hidden_dim2': 330.0, 'hidden_dim3': 285.0}.\n",
            "== Status ==\n",
            "Current time: 2022-07-26 14:44:05 (running for 00:11:02.21)\n",
            "Memory usage on this node: 2.5/12.7 GiB\n",
            "Using MedianStoppingRule: num_stopped=22.\n",
            "Resources requested: 2.0/2 CPUs, 0/0 GPUs, 0.0/7.47 GiB heap, 0.0/3.73 GiB objects\n",
            "Result logdir: /root/ray_results/trainable_func_2022-07-26_14-33-03\n",
            "Number of trials: 41/50 (6 PAUSED, 4 RUNNING, 31 TERMINATED)\n",
            "\n",
            "\n",
            "Trial trainable_func_5fed6740 reported epoch=2,loss=0.5897920265416929,should_checkpoint=True with parameters={'act1 ': 'selu', 'act2': 'selu', 'act3': 'tanh', 'lr': 0.0008, 'batch_size': 16, 'hidden_dim1': 255.0, 'hidden_dim2': 195.0, 'hidden_dim3': 285.0}.\n",
            "Trial trainable_func_481d8b5e reported epoch=5,loss=0.5272446335328304,should_checkpoint=True with parameters={'act1 ': 'tanh', 'act2': 'relu', 'act3': 'selu', 'lr': 0.0007, 'batch_size': 8, 'hidden_dim1': 270.0, 'hidden_dim2': 330.0, 'hidden_dim3': 285.0}.\n",
            "Trial trainable_func_598d63dc reported epoch=8,loss=0.4873055917697093,should_checkpoint=True with parameters={'act1 ': 'relu', 'act2': 'relu', 'act3': 'relu', 'lr': 0.001, 'batch_size': 32, 'hidden_dim1': 255.0, 'hidden_dim2': 330.0, 'hidden_dim3': 270.0}.\n",
            "== Status ==\n",
            "Current time: 2022-07-26 14:44:10 (running for 00:11:07.71)\n",
            "Memory usage on this node: 2.5/12.7 GiB\n",
            "Using MedianStoppingRule: num_stopped=22.\n",
            "Resources requested: 2.0/2 CPUs, 0/0 GPUs, 0.0/7.47 GiB heap, 0.0/3.73 GiB objects\n",
            "Result logdir: /root/ray_results/trainable_func_2022-07-26_14-33-03\n",
            "Number of trials: 41/50 (6 PAUSED, 4 RUNNING, 31 TERMINATED)\n",
            "\n",
            "\n",
            "Trial trainable_func_5fed6740 reported epoch=4,loss=0.5579470266151189,should_checkpoint=True with parameters={'act1 ': 'selu', 'act2': 'selu', 'act3': 'tanh', 'lr': 0.0008, 'batch_size': 16, 'hidden_dim1': 255.0, 'hidden_dim2': 195.0, 'hidden_dim3': 285.0}.\n",
            "Trial trainable_func_598d63dc reported epoch=10,loss=0.49252350761144537,should_checkpoint=True with parameters={'act1 ': 'relu', 'act2': 'relu', 'act3': 'relu', 'lr': 0.001, 'batch_size': 32, 'hidden_dim1': 255.0, 'hidden_dim2': 330.0, 'hidden_dim3': 270.0}.\n",
            "Trial trainable_func_4b4d35cc reported epoch=5,loss=0.5797210567612887,should_checkpoint=True with parameters={'act1 ': 'tanh', 'act2': 'relu', 'act3': 'selu', 'lr': 0.0009, 'batch_size': 8, 'hidden_dim1': 270.0, 'hidden_dim2': 330.0, 'hidden_dim3': 285.0}.\n",
            "Trial trainable_func_481d8b5e reported epoch=6,loss=0.6219798842915596,should_checkpoint=True with parameters={'act1 ': 'tanh', 'act2': 'relu', 'act3': 'selu', 'lr': 0.0007, 'batch_size': 8, 'hidden_dim1': 270.0, 'hidden_dim2': 330.0, 'hidden_dim3': 285.0}.\n",
            "== Status ==\n",
            "Current time: 2022-07-26 14:44:16 (running for 00:11:13.36)\n",
            "Memory usage on this node: 2.5/12.7 GiB\n",
            "Using MedianStoppingRule: num_stopped=22.\n",
            "Resources requested: 2.0/2 CPUs, 0/0 GPUs, 0.0/7.47 GiB heap, 0.0/3.73 GiB objects\n",
            "Result logdir: /root/ray_results/trainable_func_2022-07-26_14-33-03\n",
            "Number of trials: 41/50 (6 PAUSED, 4 RUNNING, 31 TERMINATED)\n",
            "\n",
            "\n",
            "Trial trainable_func_598d63dc reported epoch=11,loss=0.47703940381490806,should_checkpoint=True with parameters={'act1 ': 'relu', 'act2': 'relu', 'act3': 'relu', 'lr': 0.001, 'batch_size': 32, 'hidden_dim1': 255.0, 'hidden_dim2': 330.0, 'hidden_dim3': 270.0}. This trial completed.\n",
            "Trial trainable_func_6c928d4a reported epoch=0,loss=0.6870605546383476,should_checkpoint=True with parameters={'act1 ': 'selu', 'act2': 'selu', 'act3': 'tanh', 'lr': 0.0008, 'batch_size': 16, 'hidden_dim1': 195.0, 'hidden_dim2': 195.0, 'hidden_dim3': 240.0}.\n",
            "Trial trainable_func_5fed6740 reported epoch=6,loss=0.5416216964455924,should_checkpoint=True with parameters={'act1 ': 'selu', 'act2': 'selu', 'act3': 'tanh', 'lr': 0.0008, 'batch_size': 16, 'hidden_dim1': 255.0, 'hidden_dim2': 195.0, 'hidden_dim3': 285.0}.\n",
            "== Status ==\n",
            "Current time: 2022-07-26 14:44:23 (running for 00:11:19.99)\n",
            "Memory usage on this node: 2.5/12.7 GiB\n",
            "Using MedianStoppingRule: num_stopped=23.\n",
            "Resources requested: 2.0/2 CPUs, 0/0 GPUs, 0.0/7.47 GiB heap, 0.0/3.73 GiB objects\n",
            "Result logdir: /root/ray_results/trainable_func_2022-07-26_14-33-03\n",
            "Number of trials: 42/50 (6 PAUSED, 4 RUNNING, 32 TERMINATED)\n",
            "\n",
            "\n",
            "Trial trainable_func_4b4d35cc reported epoch=6,loss=0.591983062915178,should_checkpoint=True with parameters={'act1 ': 'tanh', 'act2': 'relu', 'act3': 'selu', 'lr': 0.0009, 'batch_size': 8, 'hidden_dim1': 270.0, 'hidden_dim2': 330.0, 'hidden_dim3': 285.0}.\n",
            "Trial trainable_func_481d8b5e reported epoch=7,loss=0.5426161542441518,should_checkpoint=True with parameters={'act1 ': 'tanh', 'act2': 'relu', 'act3': 'selu', 'lr': 0.0007, 'batch_size': 8, 'hidden_dim1': 270.0, 'hidden_dim2': 330.0, 'hidden_dim3': 285.0}.\n",
            "Trial trainable_func_6c928d4a reported epoch=2,loss=0.5901308154426653,should_checkpoint=True with parameters={'act1 ': 'selu', 'act2': 'selu', 'act3': 'tanh', 'lr': 0.0008, 'batch_size': 16, 'hidden_dim1': 195.0, 'hidden_dim2': 195.0, 'hidden_dim3': 240.0}.\n",
            "Trial trainable_func_5fed6740 reported epoch=8,loss=0.534991989325133,should_checkpoint=True with parameters={'act1 ': 'selu', 'act2': 'selu', 'act3': 'tanh', 'lr': 0.0008, 'batch_size': 16, 'hidden_dim1': 255.0, 'hidden_dim2': 195.0, 'hidden_dim3': 285.0}.\n",
            "== Status ==\n",
            "Current time: 2022-07-26 14:44:29 (running for 00:11:26.68)\n",
            "Memory usage on this node: 2.5/12.7 GiB\n",
            "Using MedianStoppingRule: num_stopped=23.\n",
            "Resources requested: 2.0/2 CPUs, 0/0 GPUs, 0.0/7.47 GiB heap, 0.0/3.73 GiB objects\n",
            "Result logdir: /root/ray_results/trainable_func_2022-07-26_14-33-03\n",
            "Number of trials: 42/50 (6 PAUSED, 4 RUNNING, 32 TERMINATED)\n",
            "\n",
            "\n",
            "Trial trainable_func_6c928d4a reported epoch=4,loss=0.53535180019983,should_checkpoint=True with parameters={'act1 ': 'selu', 'act2': 'selu', 'act3': 'tanh', 'lr': 0.0008, 'batch_size': 16, 'hidden_dim1': 195.0, 'hidden_dim2': 195.0, 'hidden_dim3': 240.0}.\n",
            "Trial trainable_func_4b4d35cc reported epoch=7,loss=0.651970696444276,should_checkpoint=True with parameters={'act1 ': 'tanh', 'act2': 'relu', 'act3': 'selu', 'lr': 0.0009, 'batch_size': 8, 'hidden_dim1': 270.0, 'hidden_dim2': 330.0, 'hidden_dim3': 285.0}.\n",
            "Trial trainable_func_481d8b5e reported epoch=8,loss=0.5480429297919129,should_checkpoint=True with parameters={'act1 ': 'tanh', 'act2': 'relu', 'act3': 'selu', 'lr': 0.0007, 'batch_size': 8, 'hidden_dim1': 270.0, 'hidden_dim2': 330.0, 'hidden_dim3': 285.0}.\n",
            "Trial trainable_func_5fed6740 reported epoch=10,loss=0.5063237590686116,should_checkpoint=True with parameters={'act1 ': 'selu', 'act2': 'selu', 'act3': 'tanh', 'lr': 0.0008, 'batch_size': 16, 'hidden_dim1': 255.0, 'hidden_dim2': 195.0, 'hidden_dim3': 285.0}. This trial completed.\n",
            "== Status ==\n",
            "Current time: 2022-07-26 14:44:34 (running for 00:11:31.75)\n",
            "Memory usage on this node: 2.5/12.7 GiB\n",
            "Using MedianStoppingRule: num_stopped=24.\n",
            "Resources requested: 2.0/2 CPUs, 0/0 GPUs, 0.0/7.47 GiB heap, 0.0/3.73 GiB objects\n",
            "Result logdir: /root/ray_results/trainable_func_2022-07-26_14-33-03\n",
            "Number of trials: 42/50 (6 PAUSED, 4 RUNNING, 32 TERMINATED)\n",
            "\n",
            "\n",
            "Trial trainable_func_7776a12e reported epoch=0,loss=0.7047189230146245,should_checkpoint=True with parameters={'act1 ': 'selu', 'act2': 'selu', 'act3': 'tanh', 'lr': 0.0009, 'batch_size': 16, 'hidden_dim1': 165.0, 'hidden_dim2': 210.0, 'hidden_dim3': 240.0}.\n",
            "Trial trainable_func_6c928d4a reported epoch=6,loss=0.5988551169227784,should_checkpoint=True with parameters={'act1 ': 'selu', 'act2': 'selu', 'act3': 'tanh', 'lr': 0.0008, 'batch_size': 16, 'hidden_dim1': 195.0, 'hidden_dim2': 195.0, 'hidden_dim3': 240.0}.\n",
            "== Status ==\n",
            "Current time: 2022-07-26 14:44:41 (running for 00:11:38.47)\n",
            "Memory usage on this node: 9.6/12.7 GiB\n",
            "Using MedianStoppingRule: num_stopped=24.\n",
            "Resources requested: 2.0/2 CPUs, 0/0 GPUs, 0.0/7.47 GiB heap, 0.0/3.73 GiB objects\n",
            "Result logdir: /root/ray_results/trainable_func_2022-07-26_14-33-03\n",
            "Number of trials: 43/50 (6 PAUSED, 4 RUNNING, 33 TERMINATED)\n",
            "\n",
            "\n",
            "Trial trainable_func_7776a12e reported epoch=1,loss=0.7024483150558269,should_checkpoint=True with parameters={'act1 ': 'selu', 'act2': 'selu', 'act3': 'tanh', 'lr': 0.0009, 'batch_size': 16, 'hidden_dim1': 165.0, 'hidden_dim2': 210.0, 'hidden_dim3': 240.0}.\n",
            "Trial trainable_func_481d8b5e reported epoch=9,loss=0.5483765410599111,should_checkpoint=True with parameters={'act1 ': 'tanh', 'act2': 'relu', 'act3': 'selu', 'lr': 0.0007, 'batch_size': 8, 'hidden_dim1': 270.0, 'hidden_dim2': 330.0, 'hidden_dim3': 285.0}.\n",
            "== Status ==\n",
            "Current time: 2022-07-26 14:44:47 (running for 00:11:43.84)\n",
            "Memory usage on this node: 2.6/12.7 GiB\n",
            "Using MedianStoppingRule: num_stopped=24.\n",
            "Resources requested: 2.0/2 CPUs, 0/0 GPUs, 0.0/7.47 GiB heap, 0.0/3.73 GiB objects\n",
            "Result logdir: /root/ray_results/trainable_func_2022-07-26_14-33-03\n",
            "Number of trials: 43/50 (6 PAUSED, 4 RUNNING, 33 TERMINATED)\n",
            "\n",
            "\n",
            "Trial trainable_func_4b4d35cc reported epoch=8,loss=0.5556259085685329,should_checkpoint=True with parameters={'act1 ': 'tanh', 'act2': 'relu', 'act3': 'selu', 'lr': 0.0009, 'batch_size': 8, 'hidden_dim1': 270.0, 'hidden_dim2': 330.0, 'hidden_dim3': 285.0}.\n",
            "Trial trainable_func_6c928d4a reported epoch=8,loss=0.574935925110036,should_checkpoint=True with parameters={'act1 ': 'selu', 'act2': 'selu', 'act3': 'tanh', 'lr': 0.0008, 'batch_size': 16, 'hidden_dim1': 195.0, 'hidden_dim2': 195.0, 'hidden_dim3': 240.0}.\n",
            "Trial trainable_func_7776a12e reported epoch=3,loss=0.6210101365167859,should_checkpoint=True with parameters={'act1 ': 'selu', 'act2': 'selu', 'act3': 'tanh', 'lr': 0.0009, 'batch_size': 16, 'hidden_dim1': 165.0, 'hidden_dim2': 210.0, 'hidden_dim3': 240.0}.\n",
            "== Status ==\n",
            "Current time: 2022-07-26 14:44:52 (running for 00:11:49.74)\n",
            "Memory usage on this node: 2.6/12.7 GiB\n",
            "Using MedianStoppingRule: num_stopped=24.\n",
            "Resources requested: 2.0/2 CPUs, 0/0 GPUs, 0.0/7.47 GiB heap, 0.0/3.73 GiB objects\n",
            "Result logdir: /root/ray_results/trainable_func_2022-07-26_14-33-03\n",
            "Number of trials: 43/50 (6 PAUSED, 4 RUNNING, 33 TERMINATED)\n",
            "\n",
            "\n",
            "Trial trainable_func_6c928d4a reported epoch=10,loss=0.5775331522875126,should_checkpoint=True with parameters={'act1 ': 'selu', 'act2': 'selu', 'act3': 'tanh', 'lr': 0.0008, 'batch_size': 16, 'hidden_dim1': 195.0, 'hidden_dim2': 195.0, 'hidden_dim3': 240.0}. This trial completed.\n",
            "Trial trainable_func_481d8b5e reported epoch=10,loss=0.5242915440143502,should_checkpoint=True with parameters={'act1 ': 'tanh', 'act2': 'relu', 'act3': 'selu', 'lr': 0.0007, 'batch_size': 8, 'hidden_dim1': 270.0, 'hidden_dim2': 330.0, 'hidden_dim3': 285.0}. This trial completed.\n",
            "Trial trainable_func_4b4d35cc reported epoch=9,loss=0.5960965423426203,should_checkpoint=True with parameters={'act1 ': 'tanh', 'act2': 'relu', 'act3': 'selu', 'lr': 0.0009, 'batch_size': 8, 'hidden_dim1': 270.0, 'hidden_dim2': 330.0, 'hidden_dim3': 285.0}. This trial completed.\n",
            "Trial trainable_func_7776a12e reported epoch=5,loss=0.6480479925656644,should_checkpoint=True with parameters={'act1 ': 'selu', 'act2': 'selu', 'act3': 'tanh', 'lr': 0.0009, 'batch_size': 16, 'hidden_dim1': 165.0, 'hidden_dim2': 210.0, 'hidden_dim3': 240.0}.\n",
            "== Status ==\n",
            "Current time: 2022-07-26 14:44:57 (running for 00:11:54.76)\n",
            "Memory usage on this node: 2.5/12.7 GiB\n",
            "Using MedianStoppingRule: num_stopped=27.\n",
            "Resources requested: 2.0/2 CPUs, 0/0 GPUs, 0.0/7.47 GiB heap, 0.0/3.73 GiB objects\n",
            "Result logdir: /root/ray_results/trainable_func_2022-07-26_14-33-03\n",
            "Number of trials: 46/50 (6 PAUSED, 4 RUNNING, 36 TERMINATED)\n",
            "\n",
            "\n",
            "Trial trainable_func_840f1aba reported epoch=0,loss=0.8147941421811711,should_checkpoint=True with parameters={'act1 ': 'selu', 'act2': 'selu', 'act3': 'tanh', 'lr': 0.0009, 'batch_size': 16, 'hidden_dim1': 150.0, 'hidden_dim2': 240.0, 'hidden_dim3': 195.0}.\n",
            "Trial trainable_func_8478b506 reported epoch=0,loss=0.709456922595212,should_checkpoint=True with parameters={'act1 ': 'selu', 'act2': 'selu', 'act3': 'tanh', 'lr': 0.0009, 'batch_size': 16, 'hidden_dim1': 225.0, 'hidden_dim2': 240.0, 'hidden_dim3': 195.0}.\n",
            "Trial trainable_func_84f9542c reported epoch=0,loss=0.8451268254380057,should_checkpoint=True with parameters={'act1 ': 'selu', 'act2': 'selu', 'act3': 'tanh', 'lr': 0.0009, 'batch_size': 16, 'hidden_dim1': 225.0, 'hidden_dim2': 240.0, 'hidden_dim3': 195.0}.\n",
            "== Status ==\n",
            "Current time: 2022-07-26 14:45:03 (running for 00:12:00.31)\n",
            "Memory usage on this node: 2.6/12.7 GiB\n",
            "Using MedianStoppingRule: num_stopped=27.\n",
            "Resources requested: 2.0/2 CPUs, 0/0 GPUs, 0.0/7.47 GiB heap, 0.0/3.73 GiB objects\n",
            "Result logdir: /root/ray_results/trainable_func_2022-07-26_14-33-03\n",
            "Number of trials: 46/50 (6 PAUSED, 4 RUNNING, 36 TERMINATED)\n",
            "\n",
            "\n",
            "Trial trainable_func_7776a12e reported epoch=7,loss=0.6201130359742721,should_checkpoint=True with parameters={'act1 ': 'selu', 'act2': 'selu', 'act3': 'tanh', 'lr': 0.0009, 'batch_size': 16, 'hidden_dim1': 165.0, 'hidden_dim2': 210.0, 'hidden_dim3': 240.0}.\n",
            "Trial trainable_func_840f1aba reported epoch=2,loss=0.6094468931968189,should_checkpoint=True with parameters={'act1 ': 'selu', 'act2': 'selu', 'act3': 'tanh', 'lr': 0.0009, 'batch_size': 16, 'hidden_dim1': 150.0, 'hidden_dim2': 240.0, 'hidden_dim3': 195.0}.\n",
            "Trial trainable_func_8478b506 reported epoch=2,loss=0.6293060564368113,should_checkpoint=True with parameters={'act1 ': 'selu', 'act2': 'selu', 'act3': 'tanh', 'lr': 0.0009, 'batch_size': 16, 'hidden_dim1': 225.0, 'hidden_dim2': 240.0, 'hidden_dim3': 195.0}.\n",
            "Trial trainable_func_84f9542c reported epoch=2,loss=0.6334328802900385,should_checkpoint=True with parameters={'act1 ': 'selu', 'act2': 'selu', 'act3': 'tanh', 'lr': 0.0009, 'batch_size': 16, 'hidden_dim1': 225.0, 'hidden_dim2': 240.0, 'hidden_dim3': 195.0}.\n",
            "== Status ==\n",
            "Current time: 2022-07-26 14:45:09 (running for 00:12:05.85)\n",
            "Memory usage on this node: 2.6/12.7 GiB\n",
            "Using MedianStoppingRule: num_stopped=27.\n",
            "Resources requested: 2.0/2 CPUs, 0/0 GPUs, 0.0/7.47 GiB heap, 0.0/3.73 GiB objects\n",
            "Result logdir: /root/ray_results/trainable_func_2022-07-26_14-33-03\n",
            "Number of trials: 46/50 (6 PAUSED, 4 RUNNING, 36 TERMINATED)\n",
            "\n",
            "\n",
            "Trial trainable_func_7776a12e reported epoch=9,loss=0.569750257849087,should_checkpoint=True with parameters={'act1 ': 'selu', 'act2': 'selu', 'act3': 'tanh', 'lr': 0.0009, 'batch_size': 16, 'hidden_dim1': 165.0, 'hidden_dim2': 210.0, 'hidden_dim3': 240.0}. This trial completed.\n",
            "Trial trainable_func_840f1aba reported epoch=4,loss=0.5438072790445512,should_checkpoint=True with parameters={'act1 ': 'selu', 'act2': 'selu', 'act3': 'tanh', 'lr': 0.0009, 'batch_size': 16, 'hidden_dim1': 150.0, 'hidden_dim2': 240.0, 'hidden_dim3': 195.0}.\n",
            "Trial trainable_func_8478b506 reported epoch=4,loss=0.59066454222782,should_checkpoint=True with parameters={'act1 ': 'selu', 'act2': 'selu', 'act3': 'tanh', 'lr': 0.0009, 'batch_size': 16, 'hidden_dim1': 225.0, 'hidden_dim2': 240.0, 'hidden_dim3': 195.0}.\n",
            "== Status ==\n",
            "Current time: 2022-07-26 14:45:14 (running for 00:12:11.50)\n",
            "Memory usage on this node: 2.5/12.7 GiB\n",
            "Using MedianStoppingRule: num_stopped=28.\n",
            "Resources requested: 2.0/2 CPUs, 0/0 GPUs, 0.0/7.47 GiB heap, 0.0/3.73 GiB objects\n",
            "Result logdir: /root/ray_results/trainable_func_2022-07-26_14-33-03\n",
            "Number of trials: 47/50 (6 PAUSED, 4 RUNNING, 37 TERMINATED)\n",
            "\n",
            "\n",
            "Trial trainable_func_8d44f0d2 reported epoch=0,loss=0.7218024729341009,should_checkpoint=True with parameters={'act1 ': 'selu', 'act2': 'selu', 'act3': 'tanh', 'lr': 0.0008, 'batch_size': 16, 'hidden_dim1': 240.0, 'hidden_dim2': 240.0, 'hidden_dim3': 195.0}.\n",
            "Trial trainable_func_84f9542c reported epoch=4,loss=0.5718527937611293,should_checkpoint=True with parameters={'act1 ': 'selu', 'act2': 'selu', 'act3': 'tanh', 'lr': 0.0009, 'batch_size': 16, 'hidden_dim1': 225.0, 'hidden_dim2': 240.0, 'hidden_dim3': 195.0}.\n",
            "Trial trainable_func_840f1aba reported epoch=6,loss=0.5102874068236342,should_checkpoint=True with parameters={'act1 ': 'selu', 'act2': 'selu', 'act3': 'tanh', 'lr': 0.0009, 'batch_size': 16, 'hidden_dim1': 150.0, 'hidden_dim2': 240.0, 'hidden_dim3': 195.0}.\n",
            "== Status ==\n",
            "Current time: 2022-07-26 14:45:21 (running for 00:12:17.87)\n",
            "Memory usage on this node: 2.5/12.7 GiB\n",
            "Using MedianStoppingRule: num_stopped=28.\n",
            "Resources requested: 2.0/2 CPUs, 0/0 GPUs, 0.0/7.47 GiB heap, 0.0/3.73 GiB objects\n",
            "Result logdir: /root/ray_results/trainable_func_2022-07-26_14-33-03\n",
            "Number of trials: 47/50 (6 PAUSED, 4 RUNNING, 37 TERMINATED)\n",
            "\n",
            "\n",
            "Trial trainable_func_8478b506 reported epoch=6,loss=0.5816187604918324,should_checkpoint=True with parameters={'act1 ': 'selu', 'act2': 'selu', 'act3': 'tanh', 'lr': 0.0009, 'batch_size': 16, 'hidden_dim1': 225.0, 'hidden_dim2': 240.0, 'hidden_dim3': 195.0}.\n",
            "Trial trainable_func_8d44f0d2 reported epoch=2,loss=0.6408844440947001,should_checkpoint=True with parameters={'act1 ': 'selu', 'act2': 'selu', 'act3': 'tanh', 'lr': 0.0008, 'batch_size': 16, 'hidden_dim1': 240.0, 'hidden_dim2': 240.0, 'hidden_dim3': 195.0}.\n",
            "Trial trainable_func_84f9542c reported epoch=6,loss=0.5486444232686222,should_checkpoint=True with parameters={'act1 ': 'selu', 'act2': 'selu', 'act3': 'tanh', 'lr': 0.0009, 'batch_size': 16, 'hidden_dim1': 225.0, 'hidden_dim2': 240.0, 'hidden_dim3': 195.0}.\n",
            "== Status ==\n",
            "Current time: 2022-07-26 14:45:26 (running for 00:12:23.40)\n",
            "Memory usage on this node: 2.6/12.7 GiB\n",
            "Using MedianStoppingRule: num_stopped=28.\n",
            "Resources requested: 2.0/2 CPUs, 0/0 GPUs, 0.0/7.47 GiB heap, 0.0/3.73 GiB objects\n",
            "Result logdir: /root/ray_results/trainable_func_2022-07-26_14-33-03\n",
            "Number of trials: 47/50 (6 PAUSED, 4 RUNNING, 37 TERMINATED)\n",
            "\n",
            "\n",
            "Trial trainable_func_840f1aba reported epoch=8,loss=0.5671195800481987,should_checkpoint=True with parameters={'act1 ': 'selu', 'act2': 'selu', 'act3': 'tanh', 'lr': 0.0009, 'batch_size': 16, 'hidden_dim1': 150.0, 'hidden_dim2': 240.0, 'hidden_dim3': 195.0}.\n",
            "Trial trainable_func_8478b506 reported epoch=8,loss=0.5694280716584805,should_checkpoint=True with parameters={'act1 ': 'selu', 'act2': 'selu', 'act3': 'tanh', 'lr': 0.0009, 'batch_size': 16, 'hidden_dim1': 225.0, 'hidden_dim2': 240.0, 'hidden_dim3': 195.0}.\n",
            "Trial trainable_func_8d44f0d2 reported epoch=4,loss=0.5664185019456726,should_checkpoint=True with parameters={'act1 ': 'selu', 'act2': 'selu', 'act3': 'tanh', 'lr': 0.0008, 'batch_size': 16, 'hidden_dim1': 240.0, 'hidden_dim2': 240.0, 'hidden_dim3': 195.0}.\n",
            "Trial trainable_func_84f9542c reported epoch=8,loss=0.5837137055379308,should_checkpoint=True with parameters={'act1 ': 'selu', 'act2': 'selu', 'act3': 'tanh', 'lr': 0.0009, 'batch_size': 16, 'hidden_dim1': 225.0, 'hidden_dim2': 240.0, 'hidden_dim3': 195.0}.\n",
            "== Status ==\n",
            "Current time: 2022-07-26 14:45:31 (running for 00:12:28.51)\n",
            "Memory usage on this node: 2.6/12.7 GiB\n",
            "Using MedianStoppingRule: num_stopped=28.\n",
            "Resources requested: 2.0/2 CPUs, 0/0 GPUs, 0.0/7.47 GiB heap, 0.0/3.73 GiB objects\n",
            "Result logdir: /root/ray_results/trainable_func_2022-07-26_14-33-03\n",
            "Number of trials: 47/50 (6 PAUSED, 4 RUNNING, 37 TERMINATED)\n",
            "\n",
            "\n",
            "Trial trainable_func_8478b506 reported epoch=9,loss=0.5570766590168459,should_checkpoint=True with parameters={'act1 ': 'selu', 'act2': 'selu', 'act3': 'tanh', 'lr': 0.0009, 'batch_size': 16, 'hidden_dim1': 225.0, 'hidden_dim2': 240.0, 'hidden_dim3': 195.0}. This trial completed.\n",
            "Trial trainable_func_840f1aba reported epoch=10,loss=0.51760867787581,should_checkpoint=True with parameters={'act1 ': 'selu', 'act2': 'selu', 'act3': 'tanh', 'lr': 0.0009, 'batch_size': 16, 'hidden_dim1': 150.0, 'hidden_dim2': 240.0, 'hidden_dim3': 195.0}. This trial completed.\n",
            "Trial trainable_func_9992f078 reported epoch=0,loss=0.787477641256786,should_checkpoint=True with parameters={'act1 ': 'selu', 'act2': 'selu', 'act3': 'tanh', 'lr': 0.0008, 'batch_size': 16, 'hidden_dim1': 150.0, 'hidden_dim2': 270.0, 'hidden_dim3': 210.0}.\n",
            "Trial trainable_func_8d44f0d2 reported epoch=6,loss=0.5869088934107498,should_checkpoint=True with parameters={'act1 ': 'selu', 'act2': 'selu', 'act3': 'tanh', 'lr': 0.0008, 'batch_size': 16, 'hidden_dim1': 240.0, 'hidden_dim2': 240.0, 'hidden_dim3': 195.0}.\n",
            "Trial trainable_func_84f9542c reported epoch=10,loss=0.5213332704617774,should_checkpoint=True with parameters={'act1 ': 'selu', 'act2': 'selu', 'act3': 'tanh', 'lr': 0.0009, 'batch_size': 16, 'hidden_dim1': 225.0, 'hidden_dim2': 240.0, 'hidden_dim3': 195.0}. This trial completed.\n",
            "== Status ==\n",
            "Current time: 2022-07-26 14:45:37 (running for 00:12:34.47)\n",
            "Memory usage on this node: 2.6/12.7 GiB\n",
            "Using MedianStoppingRule: num_stopped=31.\n",
            "Resources requested: 2.0/2 CPUs, 0/0 GPUs, 0.0/7.47 GiB heap, 0.0/3.73 GiB objects\n",
            "Result logdir: /root/ray_results/trainable_func_2022-07-26_14-33-03\n",
            "Number of trials: 49/50 (6 PAUSED, 4 RUNNING, 39 TERMINATED)\n",
            "\n",
            "\n",
            "Trial trainable_func_9b3f99ee reported epoch=0,loss=0.689598996085789,should_checkpoint=True with parameters={'act1 ': 'selu', 'act2': 'tanh', 'act3': 'tanh', 'lr': 0.0008, 'batch_size': 16, 'hidden_dim1': 315.0, 'hidden_dim2': 270.0, 'hidden_dim3': 255.0}.\n",
            "Trial trainable_func_9cd8378e reported epoch=0,loss=0.6997706606805606,should_checkpoint=True with parameters={'act1 ': 'selu', 'act2': 'tanh', 'act3': 'relu', 'lr': 0.0008, 'batch_size': 32, 'hidden_dim1': 315.0, 'hidden_dim2': 270.0, 'hidden_dim3': 255.0}.\n",
            "== Status ==\n",
            "Current time: 2022-07-26 14:45:42 (running for 00:12:39.72)\n",
            "Memory usage on this node: 2.5/12.7 GiB\n",
            "Using MedianStoppingRule: num_stopped=31.\n",
            "Resources requested: 2.0/2 CPUs, 0/0 GPUs, 0.0/7.47 GiB heap, 0.0/3.73 GiB objects\n",
            "Result logdir: /root/ray_results/trainable_func_2022-07-26_14-33-03\n",
            "Number of trials: 50/50 (6 PAUSED, 4 RUNNING, 40 TERMINATED)\n",
            "\n",
            "\n",
            "Trial trainable_func_9992f078 reported epoch=2,loss=0.7460617640568902,should_checkpoint=True with parameters={'act1 ': 'selu', 'act2': 'selu', 'act3': 'tanh', 'lr': 0.0008, 'batch_size': 16, 'hidden_dim1': 150.0, 'hidden_dim2': 270.0, 'hidden_dim3': 210.0}.\n",
            "Trial trainable_func_8d44f0d2 reported epoch=8,loss=0.5644820037255205,should_checkpoint=True with parameters={'act1 ': 'selu', 'act2': 'selu', 'act3': 'tanh', 'lr': 0.0008, 'batch_size': 16, 'hidden_dim1': 240.0, 'hidden_dim2': 240.0, 'hidden_dim3': 195.0}.\n",
            "Trial trainable_func_8d44f0d2 reported epoch=9,loss=0.5423518925849693,should_checkpoint=True with parameters={'act1 ': 'selu', 'act2': 'selu', 'act3': 'tanh', 'lr': 0.0008, 'batch_size': 16, 'hidden_dim1': 240.0, 'hidden_dim2': 240.0, 'hidden_dim3': 195.0}. This trial completed.\n"
          ]
        },
        {
          "output_type": "stream",
          "name": "stderr",
          "text": [
            "\u001b[2m\u001b[36m(func pid=269253)\u001b[0m 2022-07-26 14:45:47,149\tINFO trainable.py:589 -- Restored on 172.28.0.2 from checkpoint: /root/ray_results/trainable_func_2022-07-26_14-33-03/trainable_func_024430e8_10_act1=tanh,act2=tanh,act3=relu,batch_size=16,hidden_dim1=255.0000,hidden_dim2=120.0000,hidden_dim3=300.0_2022-07-26_14-34-33/checkpoint_tmp6774c6/./\n",
            "\u001b[2m\u001b[36m(func pid=269253)\u001b[0m 2022-07-26 14:45:47,149\tINFO trainable.py:597 -- Current state after restoring: {'_iteration': 10, '_timesteps_total': None, '_time_total': 31.72223711013794, '_episodes_total': None}\n"
          ]
        },
        {
          "output_type": "stream",
          "name": "stdout",
          "text": [
            "Trial trainable_func_9b3f99ee reported epoch=2,loss=0.5923724366081519,should_checkpoint=True with parameters={'act1 ': 'selu', 'act2': 'tanh', 'act3': 'tanh', 'lr': 0.0008, 'batch_size': 16, 'hidden_dim1': 315.0, 'hidden_dim2': 270.0, 'hidden_dim3': 255.0}.\n",
            "== Status ==\n",
            "Current time: 2022-07-26 14:45:48 (running for 00:12:44.94)\n",
            "Memory usage on this node: 2.5/12.7 GiB\n",
            "Using MedianStoppingRule: num_stopped=32.\n",
            "Resources requested: 2.0/2 CPUs, 0/0 GPUs, 0.0/7.47 GiB heap, 0.0/3.73 GiB objects\n",
            "Result logdir: /root/ray_results/trainable_func_2022-07-26_14-33-03\n",
            "Number of trials: 50/50 (5 PAUSED, 4 RUNNING, 41 TERMINATED)\n",
            "\n",
            "\n",
            "Trial trainable_func_9cd8378e reported epoch=3,loss=0.5546766173696955,should_checkpoint=True with parameters={'act1 ': 'selu', 'act2': 'tanh', 'act3': 'relu', 'lr': 0.0008, 'batch_size': 32, 'hidden_dim1': 315.0, 'hidden_dim2': 270.0, 'hidden_dim3': 255.0}.\n",
            "Trial trainable_func_9992f078 reported epoch=4,loss=0.5894222534757765,should_checkpoint=True with parameters={'act1 ': 'selu', 'act2': 'selu', 'act3': 'tanh', 'lr': 0.0008, 'batch_size': 16, 'hidden_dim1': 150.0, 'hidden_dim2': 270.0, 'hidden_dim3': 210.0}.\n",
            "Trial trainable_func_024430e8 reported epoch=0,loss=0.2592868544787445,should_checkpoint=True with parameters={'act1 ': 'tanh', 'act2': 'tanh', 'act3': 'relu', 'lr': 0.0009, 'batch_size': 16, 'hidden_dim1': 255.0, 'hidden_dim2': 120.0, 'hidden_dim3': 300.0}.\n",
            "== Status ==\n",
            "Current time: 2022-07-26 14:45:53 (running for 00:12:50.20)\n",
            "Memory usage on this node: 2.5/12.7 GiB\n",
            "Using MedianStoppingRule: num_stopped=32.\n",
            "Resources requested: 2.0/2 CPUs, 0/0 GPUs, 0.0/7.47 GiB heap, 0.0/3.73 GiB objects\n",
            "Result logdir: /root/ray_results/trainable_func_2022-07-26_14-33-03\n",
            "Number of trials: 50/50 (5 PAUSED, 4 RUNNING, 41 TERMINATED)\n",
            "\n",
            "\n",
            "Trial trainable_func_9cd8378e reported epoch=6,loss=0.537950485741991,should_checkpoint=True with parameters={'act1 ': 'selu', 'act2': 'tanh', 'act3': 'relu', 'lr': 0.0008, 'batch_size': 32, 'hidden_dim1': 315.0, 'hidden_dim2': 270.0, 'hidden_dim3': 255.0}.\n",
            "Trial trainable_func_9b3f99ee reported epoch=4,loss=0.533996791303525,should_checkpoint=True with parameters={'act1 ': 'selu', 'act2': 'tanh', 'act3': 'tanh', 'lr': 0.0008, 'batch_size': 16, 'hidden_dim1': 315.0, 'hidden_dim2': 270.0, 'hidden_dim3': 255.0}.\n",
            "Trial trainable_func_9992f078 reported epoch=6,loss=0.5947188650212142,should_checkpoint=True with parameters={'act1 ': 'selu', 'act2': 'selu', 'act3': 'tanh', 'lr': 0.0008, 'batch_size': 16, 'hidden_dim1': 150.0, 'hidden_dim2': 270.0, 'hidden_dim3': 210.0}.\n",
            "Trial trainable_func_024430e8 reported epoch=2,loss=0.2632502537423866,should_checkpoint=True with parameters={'act1 ': 'tanh', 'act2': 'tanh', 'act3': 'relu', 'lr': 0.0009, 'batch_size': 16, 'hidden_dim1': 255.0, 'hidden_dim2': 120.0, 'hidden_dim3': 300.0}.\n"
          ]
        },
        {
          "output_type": "stream",
          "name": "stderr",
          "text": [
            "\u001b[2m\u001b[36m(func pid=269253)\u001b[0m 2022-07-26 14:45:57,803\tINFO trainable.py:589 -- Restored on 172.28.0.2 from checkpoint: /root/ray_results/trainable_func_2022-07-26_14-33-03/trainable_func_024430e8_10_act1=tanh,act2=tanh,act3=relu,batch_size=16,hidden_dim1=255.0000,hidden_dim2=120.0000,hidden_dim3=300.0_2022-07-26_14-34-33/checkpoint_tmp418e05/./\n",
            "\u001b[2m\u001b[36m(func pid=269253)\u001b[0m 2022-07-26 14:45:57,803\tINFO trainable.py:597 -- Current state after restoring: {'_iteration': 13, '_timesteps_total': None, '_time_total': 41.7860541343689, '_episodes_total': None}\n"
          ]
        },
        {
          "output_type": "stream",
          "name": "stdout",
          "text": [
            "== Status ==\n",
            "Current time: 2022-07-26 14:46:00 (running for 00:12:56.92)\n",
            "Memory usage on this node: 2.6/12.7 GiB\n",
            "Using MedianStoppingRule: num_stopped=32.\n",
            "Resources requested: 2.0/2 CPUs, 0/0 GPUs, 0.0/7.47 GiB heap, 0.0/3.73 GiB objects\n",
            "Result logdir: /root/ray_results/trainable_func_2022-07-26_14-33-03\n",
            "Number of trials: 50/50 (5 PAUSED, 4 RUNNING, 41 TERMINATED)\n",
            "\n",
            "\n"
          ]
        },
        {
          "output_type": "stream",
          "name": "stderr",
          "text": [
            "\u001b[2m\u001b[36m(func pid=269253)\u001b[0m 2022-07-26 14:46:02,054\tINFO trainable.py:589 -- Restored on 172.28.0.2 from checkpoint: /root/ray_results/trainable_func_2022-07-26_14-33-03/trainable_func_024430e8_10_act1=tanh,act2=tanh,act3=relu,batch_size=16,hidden_dim1=255.0000,hidden_dim2=120.0000,hidden_dim3=300.0_2022-07-26_14-34-33/checkpoint_tmp44b723/./\n",
            "\u001b[2m\u001b[36m(func pid=269253)\u001b[0m 2022-07-26 14:46:02,054\tINFO trainable.py:597 -- Current state after restoring: {'_iteration': 14, '_timesteps_total': None, '_time_total': 45.268956899642944, '_episodes_total': None}\n"
          ]
        },
        {
          "output_type": "stream",
          "name": "stdout",
          "text": [
            "Trial trainable_func_9cd8378e reported epoch=9,loss=0.5531867047864202,should_checkpoint=True with parameters={'act1 ': 'selu', 'act2': 'tanh', 'act3': 'relu', 'lr': 0.0008, 'batch_size': 32, 'hidden_dim1': 315.0, 'hidden_dim2': 270.0, 'hidden_dim3': 255.0}.\n",
            "Trial trainable_func_9992f078 reported epoch=8,loss=0.6173531053825733,should_checkpoint=True with parameters={'act1 ': 'selu', 'act2': 'selu', 'act3': 'tanh', 'lr': 0.0008, 'batch_size': 16, 'hidden_dim1': 150.0, 'hidden_dim2': 270.0, 'hidden_dim3': 210.0}.\n",
            "Trial trainable_func_9b3f99ee reported epoch=6,loss=0.5684984132255513,should_checkpoint=True with parameters={'act1 ': 'selu', 'act2': 'tanh', 'act3': 'tanh', 'lr': 0.0008, 'batch_size': 16, 'hidden_dim1': 315.0, 'hidden_dim2': 270.0, 'hidden_dim3': 255.0}.\n",
            "Trial trainable_func_9cd8378e reported epoch=10,loss=0.5667971643069792,should_checkpoint=True with parameters={'act1 ': 'selu', 'act2': 'tanh', 'act3': 'relu', 'lr': 0.0008, 'batch_size': 32, 'hidden_dim1': 315.0, 'hidden_dim2': 270.0, 'hidden_dim3': 255.0}. This trial completed.\n",
            "== Status ==\n",
            "Current time: 2022-07-26 14:46:05 (running for 00:13:01.93)\n",
            "Memory usage on this node: 2.6/12.7 GiB\n",
            "Using MedianStoppingRule: num_stopped=33.\n",
            "Resources requested: 2.0/2 CPUs, 0/0 GPUs, 0.0/7.47 GiB heap, 0.0/3.73 GiB objects\n",
            "Result logdir: /root/ray_results/trainable_func_2022-07-26_14-33-03\n",
            "Number of trials: 50/50 (5 PAUSED, 4 RUNNING, 41 TERMINATED)\n",
            "\n",
            "\n"
          ]
        },
        {
          "output_type": "stream",
          "name": "stderr",
          "text": [
            "\u001b[2m\u001b[36m(func pid=269297)\u001b[0m 2022-07-26 14:46:05,137\tINFO trainable.py:589 -- Restored on 172.28.0.2 from checkpoint: /root/ray_results/trainable_func_2022-07-26_14-33-03/trainable_func_57dafa64_11_act1=tanh,act2=relu,act3=selu,batch_size=64,hidden_dim1=120.0000,hidden_dim2=150.0000,hidden_dim3=330.0_2022-07-26_14-36-32/checkpoint_tmpdf2528/./\n",
            "\u001b[2m\u001b[36m(func pid=269297)\u001b[0m 2022-07-26 14:46:05,137\tINFO trainable.py:597 -- Current state after restoring: {'_iteration': 11, '_timesteps_total': None, '_time_total': 15.354955911636353, '_episodes_total': None}\n"
          ]
        },
        {
          "output_type": "stream",
          "name": "stdout",
          "text": [
            "Trial trainable_func_024430e8 reported epoch=0,loss=0.16351612398498366,should_checkpoint=True with parameters={'act1 ': 'tanh', 'act2': 'tanh', 'act3': 'relu', 'lr': 0.0009, 'batch_size': 16, 'hidden_dim1': 255.0, 'hidden_dim2': 120.0, 'hidden_dim3': 300.0}.\n"
          ]
        },
        {
          "output_type": "stream",
          "name": "stderr",
          "text": [
            "\u001b[2m\u001b[36m(func pid=269253)\u001b[0m 2022-07-26 14:46:06,030\tINFO trainable.py:589 -- Restored on 172.28.0.2 from checkpoint: /root/ray_results/trainable_func_2022-07-26_14-33-03/trainable_func_024430e8_10_act1=tanh,act2=tanh,act3=relu,batch_size=16,hidden_dim1=255.0000,hidden_dim2=120.0000,hidden_dim3=300.0_2022-07-26_14-34-33/checkpoint_tmp584735/./\n",
            "\u001b[2m\u001b[36m(func pid=269253)\u001b[0m 2022-07-26 14:46:06,032\tINFO trainable.py:597 -- Current state after restoring: {'_iteration': 15, '_timesteps_total': None, '_time_total': 48.69588661193848, '_episodes_total': None}\n"
          ]
        },
        {
          "output_type": "stream",
          "name": "stdout",
          "text": [
            "Trial trainable_func_57dafa64 reported epoch=0,loss=0.25044035789012664,should_checkpoint=True with parameters={'act1 ': 'tanh', 'act2': 'relu', 'act3': 'selu', 'lr': 0.0009, 'batch_size': 64, 'hidden_dim1': 120.0, 'hidden_dim2': 150.0, 'hidden_dim3': 330.0}.\n",
            "Trial trainable_func_9992f078 reported epoch=9,loss=0.5972633394450808,should_checkpoint=True with parameters={'act1 ': 'selu', 'act2': 'selu', 'act3': 'tanh', 'lr': 0.0008, 'batch_size': 16, 'hidden_dim1': 150.0, 'hidden_dim2': 270.0, 'hidden_dim3': 210.0}. This trial completed.\n"
          ]
        },
        {
          "output_type": "stream",
          "name": "stderr",
          "text": [
            "\u001b[2m\u001b[36m(func pid=269322)\u001b[0m 2022-07-26 14:46:07,434\tINFO trainable.py:589 -- Restored on 172.28.0.2 from checkpoint: /root/ray_results/trainable_func_2022-07-26_14-33-03/trainable_func_87539166_15_act1=selu,act2=tanh,act3=relu,batch_size=32,hidden_dim1=165.0000,hidden_dim2=120.0000,hidden_dim3=225.0_2022-07-26_14-37-52/checkpoint_tmpf31e23/./\n",
            "\u001b[2m\u001b[36m(func pid=269322)\u001b[0m 2022-07-26 14:46:07,434\tINFO trainable.py:597 -- Current state after restoring: {'_iteration': 11, '_timesteps_total': None, '_time_total': 18.03334927558899, '_episodes_total': None}\n"
          ]
        },
        {
          "output_type": "stream",
          "name": "stdout",
          "text": [
            "Trial trainable_func_87539166 reported epoch=0,loss=0.23998539882130865,should_checkpoint=True with parameters={'act1 ': 'selu', 'act2': 'tanh', 'act3': 'relu', 'lr': 0.0007, 'batch_size': 32, 'hidden_dim1': 165.0, 'hidden_dim2': 120.0, 'hidden_dim3': 225.0}.\n",
            "== Status ==\n",
            "Current time: 2022-07-26 14:46:10 (running for 00:13:07.16)\n",
            "Memory usage on this node: 2.5/12.7 GiB\n",
            "Using MedianStoppingRule: num_stopped=34.\n",
            "Resources requested: 1.5/2 CPUs, 0/0 GPUs, 0.0/7.47 GiB heap, 0.0/3.73 GiB objects\n",
            "Result logdir: /root/ray_results/trainable_func_2022-07-26_14-33-03\n",
            "Number of trials: 50/50 (4 PAUSED, 3 RUNNING, 43 TERMINATED)\n",
            "\n",
            "\n"
          ]
        },
        {
          "output_type": "stream",
          "name": "stderr",
          "text": [
            "\u001b[2m\u001b[36m(func pid=269253)\u001b[0m 2022-07-26 14:46:10,343\tINFO trainable.py:589 -- Restored on 172.28.0.2 from checkpoint: /root/ray_results/trainable_func_2022-07-26_14-33-03/trainable_func_024430e8_10_act1=tanh,act2=tanh,act3=relu,batch_size=16,hidden_dim1=255.0000,hidden_dim2=120.0000,hidden_dim3=300.0_2022-07-26_14-34-33/checkpoint_tmpb086ca/./\n",
            "\u001b[2m\u001b[36m(func pid=269253)\u001b[0m 2022-07-26 14:46:10,343\tINFO trainable.py:597 -- Current state after restoring: {'_iteration': 16, '_timesteps_total': None, '_time_total': 52.25132346153259, '_episodes_total': None}\n"
          ]
        },
        {
          "output_type": "stream",
          "name": "stdout",
          "text": [
            "Trial trainable_func_57dafa64 reported epoch=4,loss=0.2738786767429485,should_checkpoint=True with parameters={'act1 ': 'tanh', 'act2': 'relu', 'act3': 'selu', 'lr': 0.0009, 'batch_size': 64, 'hidden_dim1': 120.0, 'hidden_dim2': 150.0, 'hidden_dim3': 330.0}.\n",
            "Trial trainable_func_9b3f99ee reported epoch=8,loss=0.5274272874960703,should_checkpoint=True with parameters={'act1 ': 'selu', 'act2': 'tanh', 'act3': 'tanh', 'lr': 0.0008, 'batch_size': 16, 'hidden_dim1': 315.0, 'hidden_dim2': 270.0, 'hidden_dim3': 255.0}.\n"
          ]
        },
        {
          "output_type": "stream",
          "name": "stderr",
          "text": [
            "\u001b[2m\u001b[36m(func pid=269297)\u001b[0m 2022-07-26 14:46:13,432\tINFO trainable.py:589 -- Restored on 172.28.0.2 from checkpoint: /root/ray_results/trainable_func_2022-07-26_14-33-03/trainable_func_57dafa64_11_act1=tanh,act2=relu,act3=selu,batch_size=64,hidden_dim1=120.0000,hidden_dim2=150.0000,hidden_dim3=330.0_2022-07-26_14-36-32/checkpoint_tmpd83a6b/./\n",
            "\u001b[2m\u001b[36m(func pid=269297)\u001b[0m 2022-07-26 14:46:13,433\tINFO trainable.py:597 -- Current state after restoring: {'_iteration': 17, '_timesteps_total': None, '_time_total': 23.085907220840454, '_episodes_total': None}\n"
          ]
        },
        {
          "output_type": "stream",
          "name": "stdout",
          "text": [
            "Trial trainable_func_024430e8 reported epoch=0,loss=0.11708291484365137,should_checkpoint=True with parameters={'act1 ': 'tanh', 'act2': 'tanh', 'act3': 'relu', 'lr': 0.0009, 'batch_size': 16, 'hidden_dim1': 255.0, 'hidden_dim2': 120.0, 'hidden_dim3': 300.0}.\n",
            "Trial trainable_func_87539166 reported epoch=3,loss=0.2812798663767969,should_checkpoint=True with parameters={'act1 ': 'selu', 'act2': 'tanh', 'act3': 'relu', 'lr': 0.0007, 'batch_size': 32, 'hidden_dim1': 165.0, 'hidden_dim2': 120.0, 'hidden_dim3': 225.0}.\n"
          ]
        },
        {
          "output_type": "stream",
          "name": "stderr",
          "text": [
            "\u001b[2m\u001b[36m(func pid=269297)\u001b[0m 2022-07-26 14:46:15,262\tINFO trainable.py:589 -- Restored on 172.28.0.2 from checkpoint: /root/ray_results/trainable_func_2022-07-26_14-33-03/trainable_func_57dafa64_11_act1=tanh,act2=relu,act3=selu,batch_size=64,hidden_dim1=120.0000,hidden_dim2=150.0000,hidden_dim3=330.0_2022-07-26_14-36-32/checkpoint_tmp8f1b4e/./\n",
            "\u001b[2m\u001b[36m(func pid=269297)\u001b[0m 2022-07-26 14:46:15,263\tINFO trainable.py:597 -- Current state after restoring: {'_iteration': 18, '_timesteps_total': None, '_time_total': 24.231205463409424, '_episodes_total': None}\n"
          ]
        },
        {
          "output_type": "stream",
          "name": "stdout",
          "text": [
            "== Status ==\n",
            "Current time: 2022-07-26 14:46:16 (running for 00:13:13.32)\n",
            "Memory usage on this node: 2.6/12.7 GiB\n",
            "Using MedianStoppingRule: num_stopped=34.\n",
            "Resources requested: 2.0/2 CPUs, 0/0 GPUs, 0.0/7.47 GiB heap, 0.0/3.73 GiB objects\n",
            "Result logdir: /root/ray_results/trainable_func_2022-07-26_14-33-03\n",
            "Number of trials: 50/50 (3 PAUSED, 4 RUNNING, 43 TERMINATED)\n",
            "\n",
            "\n"
          ]
        },
        {
          "output_type": "stream",
          "name": "stderr",
          "text": [
            "\u001b[2m\u001b[36m(func pid=269297)\u001b[0m 2022-07-26 14:46:17,277\tINFO trainable.py:589 -- Restored on 172.28.0.2 from checkpoint: /root/ray_results/trainable_func_2022-07-26_14-33-03/trainable_func_57dafa64_11_act1=tanh,act2=relu,act3=selu,batch_size=64,hidden_dim1=120.0000,hidden_dim2=150.0000,hidden_dim3=330.0_2022-07-26_14-36-32/checkpoint_tmpb793f3/./\n",
            "\u001b[2m\u001b[36m(func pid=269297)\u001b[0m 2022-07-26 14:46:17,277\tINFO trainable.py:597 -- Current state after restoring: {'_iteration': 19, '_timesteps_total': None, '_time_total': 25.542248249053955, '_episodes_total': None}\n"
          ]
        },
        {
          "output_type": "stream",
          "name": "stdout",
          "text": [
            "Trial trainable_func_57dafa64 reported epoch=0,loss=0.0891111375870252,should_checkpoint=True with parameters={'act1 ': 'tanh', 'act2': 'relu', 'act3': 'selu', 'lr': 0.0009, 'batch_size': 64, 'hidden_dim1': 120.0, 'hidden_dim2': 150.0, 'hidden_dim3': 330.0}.\n",
            "Trial trainable_func_87539166 reported epoch=5,loss=0.278152562957615,should_checkpoint=True with parameters={'act1 ': 'selu', 'act2': 'tanh', 'act3': 'relu', 'lr': 0.0007, 'batch_size': 32, 'hidden_dim1': 165.0, 'hidden_dim2': 120.0, 'hidden_dim3': 225.0}. This trial completed.\n"
          ]
        },
        {
          "output_type": "stream",
          "name": "stderr",
          "text": [
            "\u001b[2m\u001b[36m(func pid=269322)\u001b[0m 2022-07-26 14:46:19,337\tINFO trainable.py:589 -- Restored on 172.28.0.2 from checkpoint: /root/ray_results/trainable_func_2022-07-26_14-33-03/trainable_func_8c5b9ef6_16_act1=tanh,act2=relu,act3=selu,batch_size=32,hidden_dim1=120.0000,hidden_dim2=120.0000,hidden_dim3=135.0_2022-07-26_14-38-00/checkpoint_tmpf39dce/./\n",
            "\u001b[2m\u001b[36m(func pid=269322)\u001b[0m 2022-07-26 14:46:19,337\tINFO trainable.py:597 -- Current state after restoring: {'_iteration': 11, '_timesteps_total': None, '_time_total': 18.364163637161255, '_episodes_total': None}\n",
            "\u001b[2m\u001b[36m(func pid=269297)\u001b[0m 2022-07-26 14:46:19,323\tINFO trainable.py:589 -- Restored on 172.28.0.2 from checkpoint: /root/ray_results/trainable_func_2022-07-26_14-33-03/trainable_func_57dafa64_11_act1=tanh,act2=relu,act3=selu,batch_size=64,hidden_dim1=120.0000,hidden_dim2=150.0000,hidden_dim3=330.0_2022-07-26_14-36-32/checkpoint_tmpff1ed8/./\n",
            "\u001b[2m\u001b[36m(func pid=269297)\u001b[0m 2022-07-26 14:46:19,323\tINFO trainable.py:597 -- Current state after restoring: {'_iteration': 20, '_timesteps_total': None, '_time_total': 26.773635387420654, '_episodes_total': None}\n"
          ]
        },
        {
          "output_type": "stream",
          "name": "stdout",
          "text": [
            "Trial trainable_func_9b3f99ee reported epoch=10,loss=0.5458539615210526,should_checkpoint=True with parameters={'act1 ': 'selu', 'act2': 'tanh', 'act3': 'tanh', 'lr': 0.0008, 'batch_size': 16, 'hidden_dim1': 315.0, 'hidden_dim2': 270.0, 'hidden_dim3': 255.0}. This trial completed.\n"
          ]
        },
        {
          "output_type": "stream",
          "name": "stderr",
          "text": [
            "\u001b[2m\u001b[36m(func pid=269252)\u001b[0m 2022-07-26 14:46:20,235\tINFO trainable.py:589 -- Restored on 172.28.0.2 from checkpoint: /root/ray_results/trainable_func_2022-07-26_14-33-03/trainable_func_d5fec510_24_act1=selu,act2=relu,act3=tanh,batch_size=64,hidden_dim1=270.0000,hidden_dim2=120.0000,hidden_dim3=285.0_2022-07-26_14-40-04/checkpoint_tmp786bdf/./\n",
            "\u001b[2m\u001b[36m(func pid=269252)\u001b[0m 2022-07-26 14:46:20,236\tINFO trainable.py:597 -- Current state after restoring: {'_iteration': 12, '_timesteps_total': None, '_time_total': 14.789192914962769, '_episodes_total': None}\n"
          ]
        },
        {
          "output_type": "stream",
          "name": "stdout",
          "text": [
            "Trial trainable_func_024430e8 reported epoch=2,loss=0.13543780446895687,should_checkpoint=True with parameters={'act1 ': 'tanh', 'act2': 'tanh', 'act3': 'relu', 'lr': 0.0009, 'batch_size': 16, 'hidden_dim1': 255.0, 'hidden_dim2': 120.0, 'hidden_dim3': 300.0}.\n",
            "Trial trainable_func_8c5b9ef6 reported epoch=0,loss=0.2129081664136645,should_checkpoint=True with parameters={'act1 ': 'tanh', 'act2': 'relu', 'act3': 'selu', 'lr': 0.0008, 'batch_size': 32, 'hidden_dim1': 120.0, 'hidden_dim2': 120.0, 'hidden_dim3': 135.0}.\n"
          ]
        },
        {
          "output_type": "stream",
          "name": "stderr",
          "text": [
            "\u001b[2m\u001b[36m(func pid=269297)\u001b[0m 2022-07-26 14:46:21,352\tINFO trainable.py:589 -- Restored on 172.28.0.2 from checkpoint: /root/ray_results/trainable_func_2022-07-26_14-33-03/trainable_func_57dafa64_11_act1=tanh,act2=relu,act3=selu,batch_size=64,hidden_dim1=120.0000,hidden_dim2=150.0000,hidden_dim3=330.0_2022-07-26_14-36-32/checkpoint_tmp48c066/./\n",
            "\u001b[2m\u001b[36m(func pid=269297)\u001b[0m 2022-07-26 14:46:21,352\tINFO trainable.py:597 -- Current state after restoring: {'_iteration': 21, '_timesteps_total': None, '_time_total': 28.284178972244263, '_episodes_total': None}\n"
          ]
        },
        {
          "output_type": "stream",
          "name": "stdout",
          "text": [
            "Trial trainable_func_d5fec510 reported epoch=0,loss=0.24904663802685048,should_checkpoint=True with parameters={'act1 ': 'selu', 'act2': 'relu', 'act3': 'tanh', 'lr': 0.0009, 'batch_size': 64, 'hidden_dim1': 270.0, 'hidden_dim2': 120.0, 'hidden_dim3': 285.0}.\n",
            "== Status ==\n",
            "Current time: 2022-07-26 14:46:21 (running for 00:13:18.52)\n",
            "Memory usage on this node: 2.6/12.7 GiB\n",
            "Using MedianStoppingRule: num_stopped=36.\n",
            "Resources requested: 2.0/2 CPUs, 0/0 GPUs, 0.0/7.47 GiB heap, 0.0/3.73 GiB objects\n",
            "Result logdir: /root/ray_results/trainable_func_2022-07-26_14-33-03\n",
            "Number of trials: 50/50 (1 PAUSED, 4 RUNNING, 45 TERMINATED)\n",
            "\n",
            "\n"
          ]
        },
        {
          "output_type": "stream",
          "name": "stderr",
          "text": [
            "\u001b[2m\u001b[36m(func pid=269297)\u001b[0m 2022-07-26 14:46:23,201\tINFO trainable.py:589 -- Restored on 172.28.0.2 from checkpoint: /root/ray_results/trainable_func_2022-07-26_14-33-03/trainable_func_57dafa64_11_act1=tanh,act2=relu,act3=selu,batch_size=64,hidden_dim1=120.0000,hidden_dim2=150.0000,hidden_dim3=330.0_2022-07-26_14-36-32/checkpoint_tmp937c93/./\n",
            "\u001b[2m\u001b[36m(func pid=269297)\u001b[0m 2022-07-26 14:46:23,202\tINFO trainable.py:597 -- Current state after restoring: {'_iteration': 22, '_timesteps_total': None, '_time_total': 29.725985288619995, '_episodes_total': None}\n"
          ]
        },
        {
          "output_type": "stream",
          "name": "stdout",
          "text": [
            "Trial trainable_func_57dafa64 reported epoch=0,loss=0.06136821889610059,should_checkpoint=True with parameters={'act1 ': 'tanh', 'act2': 'relu', 'act3': 'selu', 'lr': 0.0009, 'batch_size': 64, 'hidden_dim1': 120.0, 'hidden_dim2': 150.0, 'hidden_dim3': 330.0}.\n"
          ]
        },
        {
          "output_type": "stream",
          "name": "stderr",
          "text": [
            "\u001b[2m\u001b[36m(func pid=269297)\u001b[0m 2022-07-26 14:46:25,252\tINFO trainable.py:589 -- Restored on 172.28.0.2 from checkpoint: /root/ray_results/trainable_func_2022-07-26_14-33-03/trainable_func_57dafa64_11_act1=tanh,act2=relu,act3=selu,batch_size=64,hidden_dim1=120.0000,hidden_dim2=150.0000,hidden_dim3=330.0_2022-07-26_14-36-32/checkpoint_tmpa8f40a/./\n",
            "\u001b[2m\u001b[36m(func pid=269297)\u001b[0m 2022-07-26 14:46:25,253\tINFO trainable.py:597 -- Current state after restoring: {'_iteration': 23, '_timesteps_total': None, '_time_total': 31.120676517486572, '_episodes_total': None}\n"
          ]
        },
        {
          "output_type": "stream",
          "name": "stdout",
          "text": [
            "== Status ==\n",
            "Current time: 2022-07-26 14:46:27 (running for 00:13:23.86)\n",
            "Memory usage on this node: 2.5/12.7 GiB\n",
            "Using MedianStoppingRule: num_stopped=36.\n",
            "Resources requested: 1.5/2 CPUs, 0/0 GPUs, 0.0/7.47 GiB heap, 0.0/3.73 GiB objects\n",
            "Result logdir: /root/ray_results/trainable_func_2022-07-26_14-33-03\n",
            "Number of trials: 50/50 (2 PAUSED, 3 RUNNING, 45 TERMINATED)\n",
            "\n",
            "\n",
            "Trial trainable_func_024430e8 reported epoch=4,loss=0.15100235721387398,should_checkpoint=True with parameters={'act1 ': 'tanh', 'act2': 'tanh', 'act3': 'relu', 'lr': 0.0009, 'batch_size': 16, 'hidden_dim1': 255.0, 'hidden_dim2': 120.0, 'hidden_dim3': 300.0}.\n",
            "Trial trainable_func_8c5b9ef6 reported epoch=3,loss=0.22202101963414642,should_checkpoint=True with parameters={'act1 ': 'tanh', 'act2': 'relu', 'act3': 'selu', 'lr': 0.0008, 'batch_size': 32, 'hidden_dim1': 120.0, 'hidden_dim2': 120.0, 'hidden_dim3': 135.0}.\n",
            "Trial trainable_func_d5fec510 reported epoch=4,loss=0.21146528072738643,should_checkpoint=True with parameters={'act1 ': 'selu', 'act2': 'relu', 'act3': 'tanh', 'lr': 0.0009, 'batch_size': 64, 'hidden_dim1': 270.0, 'hidden_dim2': 120.0, 'hidden_dim3': 285.0}.\n"
          ]
        },
        {
          "output_type": "stream",
          "name": "stderr",
          "text": [
            "\u001b[2m\u001b[36m(func pid=269297)\u001b[0m 2022-07-26 14:46:27,039\tINFO trainable.py:589 -- Restored on 172.28.0.2 from checkpoint: /root/ray_results/trainable_func_2022-07-26_14-33-03/trainable_func_57dafa64_11_act1=tanh,act2=relu,act3=selu,batch_size=64,hidden_dim1=120.0000,hidden_dim2=150.0000,hidden_dim3=330.0_2022-07-26_14-36-32/checkpoint_tmp55839a/./\n",
            "\u001b[2m\u001b[36m(func pid=269297)\u001b[0m 2022-07-26 14:46:27,039\tINFO trainable.py:597 -- Current state after restoring: {'_iteration': 24, '_timesteps_total': None, '_time_total': 32.457441329956055, '_episodes_total': None}\n",
            "\u001b[2m\u001b[36m(func pid=269297)\u001b[0m 2022-07-26 14:46:28,817\tINFO trainable.py:589 -- Restored on 172.28.0.2 from checkpoint: /root/ray_results/trainable_func_2022-07-26_14-33-03/trainable_func_57dafa64_11_act1=tanh,act2=relu,act3=selu,batch_size=64,hidden_dim1=120.0000,hidden_dim2=150.0000,hidden_dim3=330.0_2022-07-26_14-36-32/checkpoint_tmp2488a9/./\n",
            "\u001b[2m\u001b[36m(func pid=269297)\u001b[0m 2022-07-26 14:46:28,817\tINFO trainable.py:597 -- Current state after restoring: {'_iteration': 25, '_timesteps_total': None, '_time_total': 33.64172101020813, '_episodes_total': None}\n"
          ]
        },
        {
          "output_type": "stream",
          "name": "stdout",
          "text": [
            "Trial trainable_func_57dafa64 reported epoch=0,loss=0.046333290929201895,should_checkpoint=True with parameters={'act1 ': 'tanh', 'act2': 'relu', 'act3': 'selu', 'lr': 0.0009, 'batch_size': 64, 'hidden_dim1': 120.0, 'hidden_dim2': 150.0, 'hidden_dim3': 330.0}.\n"
          ]
        },
        {
          "output_type": "stream",
          "name": "stderr",
          "text": [
            "\u001b[2m\u001b[36m(func pid=269297)\u001b[0m 2022-07-26 14:46:30,590\tINFO trainable.py:589 -- Restored on 172.28.0.2 from checkpoint: /root/ray_results/trainable_func_2022-07-26_14-33-03/trainable_func_57dafa64_11_act1=tanh,act2=relu,act3=selu,batch_size=64,hidden_dim1=120.0000,hidden_dim2=150.0000,hidden_dim3=330.0_2022-07-26_14-36-32/checkpoint_tmpae416c/./\n",
            "\u001b[2m\u001b[36m(func pid=269297)\u001b[0m 2022-07-26 14:46:30,591\tINFO trainable.py:597 -- Current state after restoring: {'_iteration': 26, '_timesteps_total': None, '_time_total': 34.952555894851685, '_episodes_total': None}\n"
          ]
        },
        {
          "output_type": "stream",
          "name": "stdout",
          "text": [
            "== Status ==\n",
            "Current time: 2022-07-26 14:46:32 (running for 00:13:29.24)\n",
            "Memory usage on this node: 2.5/12.7 GiB\n",
            "Using MedianStoppingRule: num_stopped=36.\n",
            "Resources requested: 1.5/2 CPUs, 0/0 GPUs, 0.0/7.47 GiB heap, 0.0/3.73 GiB objects\n",
            "Result logdir: /root/ray_results/trainable_func_2022-07-26_14-33-03\n",
            "Number of trials: 50/50 (2 PAUSED, 3 RUNNING, 45 TERMINATED)\n",
            "\n",
            "\n",
            "Trial trainable_func_8c5b9ef6 reported epoch=6,loss=0.24084041131159242,should_checkpoint=True with parameters={'act1 ': 'tanh', 'act2': 'relu', 'act3': 'selu', 'lr': 0.0008, 'batch_size': 32, 'hidden_dim1': 120.0, 'hidden_dim2': 120.0, 'hidden_dim3': 135.0}.\n",
            "Trial trainable_func_d5fec510 reported epoch=7,loss=0.21507172143571343,should_checkpoint=True with parameters={'act1 ': 'selu', 'act2': 'relu', 'act3': 'tanh', 'lr': 0.0009, 'batch_size': 64, 'hidden_dim1': 270.0, 'hidden_dim2': 120.0, 'hidden_dim3': 285.0}.\n"
          ]
        },
        {
          "output_type": "stream",
          "name": "stderr",
          "text": [
            "\u001b[2m\u001b[36m(func pid=269297)\u001b[0m 2022-07-26 14:46:32,437\tINFO trainable.py:589 -- Restored on 172.28.0.2 from checkpoint: /root/ray_results/trainable_func_2022-07-26_14-33-03/trainable_func_57dafa64_11_act1=tanh,act2=relu,act3=selu,batch_size=64,hidden_dim1=120.0000,hidden_dim2=150.0000,hidden_dim3=330.0_2022-07-26_14-36-32/checkpoint_tmp835474/./\n",
            "\u001b[2m\u001b[36m(func pid=269297)\u001b[0m 2022-07-26 14:46:32,437\tINFO trainable.py:597 -- Current state after restoring: {'_iteration': 27, '_timesteps_total': None, '_time_total': 36.323495864868164, '_episodes_total': None}\n"
          ]
        },
        {
          "output_type": "stream",
          "name": "stdout",
          "text": [
            "Trial trainable_func_024430e8 reported epoch=6,loss=0.153378448039842,should_checkpoint=True with parameters={'act1 ': 'tanh', 'act2': 'tanh', 'act3': 'relu', 'lr': 0.0009, 'batch_size': 16, 'hidden_dim1': 255.0, 'hidden_dim2': 120.0, 'hidden_dim3': 300.0}.\n"
          ]
        },
        {
          "output_type": "stream",
          "name": "stderr",
          "text": [
            "\u001b[2m\u001b[36m(func pid=269297)\u001b[0m 2022-07-26 14:46:34,353\tINFO trainable.py:589 -- Restored on 172.28.0.2 from checkpoint: /root/ray_results/trainable_func_2022-07-26_14-33-03/trainable_func_57dafa64_11_act1=tanh,act2=relu,act3=selu,batch_size=64,hidden_dim1=120.0000,hidden_dim2=150.0000,hidden_dim3=330.0_2022-07-26_14-36-32/checkpoint_tmp05bc33/./\n",
            "\u001b[2m\u001b[36m(func pid=269297)\u001b[0m 2022-07-26 14:46:34,353\tINFO trainable.py:597 -- Current state after restoring: {'_iteration': 28, '_timesteps_total': None, '_time_total': 37.74782919883728, '_episodes_total': None}\n"
          ]
        },
        {
          "output_type": "stream",
          "name": "stdout",
          "text": [
            "Trial trainable_func_57dafa64 reported epoch=0,loss=0.046314778500320584,should_checkpoint=True with parameters={'act1 ': 'tanh', 'act2': 'relu', 'act3': 'selu', 'lr': 0.0009, 'batch_size': 64, 'hidden_dim1': 120.0, 'hidden_dim2': 150.0, 'hidden_dim3': 330.0}.\n"
          ]
        },
        {
          "output_type": "stream",
          "name": "stderr",
          "text": [
            "\u001b[2m\u001b[36m(func pid=269297)\u001b[0m 2022-07-26 14:46:36,194\tINFO trainable.py:589 -- Restored on 172.28.0.2 from checkpoint: /root/ray_results/trainable_func_2022-07-26_14-33-03/trainable_func_57dafa64_11_act1=tanh,act2=relu,act3=selu,batch_size=64,hidden_dim1=120.0000,hidden_dim2=150.0000,hidden_dim3=330.0_2022-07-26_14-36-32/checkpoint_tmp300bc8/./\n",
            "\u001b[2m\u001b[36m(func pid=269297)\u001b[0m 2022-07-26 14:46:36,195\tINFO trainable.py:597 -- Current state after restoring: {'_iteration': 29, '_timesteps_total': None, '_time_total': 39.07268524169922, '_episodes_total': None}\n"
          ]
        },
        {
          "output_type": "stream",
          "name": "stdout",
          "text": [
            "== Status ==\n",
            "Current time: 2022-07-26 14:46:37 (running for 00:13:34.44)\n",
            "Memory usage on this node: 2.6/12.7 GiB\n",
            "Using MedianStoppingRule: num_stopped=36.\n",
            "Resources requested: 2.0/2 CPUs, 0/0 GPUs, 0.0/7.47 GiB heap, 0.0/3.73 GiB objects\n",
            "Result logdir: /root/ray_results/trainable_func_2022-07-26_14-33-03\n",
            "Number of trials: 50/50 (1 PAUSED, 4 RUNNING, 45 TERMINATED)\n",
            "\n",
            "\n",
            "Trial trainable_func_d5fec510 reported epoch=11,loss=0.22268952830567074,should_checkpoint=True with parameters={'act1 ': 'selu', 'act2': 'relu', 'act3': 'tanh', 'lr': 0.0009, 'batch_size': 64, 'hidden_dim1': 270.0, 'hidden_dim2': 120.0, 'hidden_dim3': 285.0}. This trial completed.\n",
            "Trial trainable_func_8c5b9ef6 reported epoch=9,loss=0.2469345092505558,should_checkpoint=True with parameters={'act1 ': 'tanh', 'act2': 'relu', 'act3': 'selu', 'lr': 0.0008, 'batch_size': 32, 'hidden_dim1': 120.0, 'hidden_dim2': 120.0, 'hidden_dim3': 135.0}. This trial completed.\n"
          ]
        },
        {
          "output_type": "stream",
          "name": "stderr",
          "text": [
            "\u001b[2m\u001b[36m(func pid=269252)\u001b[0m 2022-07-26 14:46:38,004\tINFO trainable.py:589 -- Restored on 172.28.0.2 from checkpoint: /root/ray_results/trainable_func_2022-07-26_14-33-03/trainable_func_df263fd8_27_act1=tanh,act2=relu,act3=tanh,batch_size=64,hidden_dim1=180.0000,hidden_dim2=330.0000,hidden_dim3=240.0_2022-07-26_14-40-19/checkpoint_tmp66275f/./\n",
            "\u001b[2m\u001b[36m(func pid=269252)\u001b[0m 2022-07-26 14:46:38,004\tINFO trainable.py:597 -- Current state after restoring: {'_iteration': 12, '_timesteps_total': None, '_time_total': 17.376619815826416, '_episodes_total': None}\n",
            "\u001b[2m\u001b[36m(func pid=269297)\u001b[0m 2022-07-26 14:46:37,967\tINFO trainable.py:589 -- Restored on 172.28.0.2 from checkpoint: /root/ray_results/trainable_func_2022-07-26_14-33-03/trainable_func_57dafa64_11_act1=tanh,act2=relu,act3=selu,batch_size=64,hidden_dim1=120.0000,hidden_dim2=150.0000,hidden_dim3=330.0_2022-07-26_14-36-32/checkpoint_tmpa806ad/./\n",
            "\u001b[2m\u001b[36m(func pid=269297)\u001b[0m 2022-07-26 14:46:37,967\tINFO trainable.py:597 -- Current state after restoring: {'_iteration': 30, '_timesteps_total': None, '_time_total': 40.4656126499176, '_episodes_total': None}\n"
          ]
        },
        {
          "output_type": "stream",
          "name": "stdout",
          "text": [
            "Trial trainable_func_df263fd8 reported epoch=0,loss=0.23869637484130268,should_checkpoint=True with parameters={'act1 ': 'tanh', 'act2': 'relu', 'act3': 'tanh', 'lr': 0.0009, 'batch_size': 64, 'hidden_dim1': 180.0, 'hidden_dim2': 330.0, 'hidden_dim3': 240.0}.\n",
            "Trial trainable_func_024430e8 reported epoch=8,loss=0.19066937281735985,should_checkpoint=True with parameters={'act1 ': 'tanh', 'act2': 'tanh', 'act3': 'relu', 'lr': 0.0009, 'batch_size': 16, 'hidden_dim1': 255.0, 'hidden_dim2': 120.0, 'hidden_dim3': 300.0}.\n",
            "Trial trainable_func_57dafa64 reported epoch=2,loss=0.04033007636740129,should_checkpoint=True with parameters={'act1 ': 'tanh', 'act2': 'relu', 'act3': 'selu', 'lr': 0.0009, 'batch_size': 64, 'hidden_dim1': 120.0, 'hidden_dim2': 150.0, 'hidden_dim3': 330.0}.\n",
            "== Status ==\n",
            "Current time: 2022-07-26 14:46:42 (running for 00:13:39.47)\n",
            "Memory usage on this node: 2.5/12.7 GiB\n",
            "Using MedianStoppingRule: num_stopped=38.\n",
            "Resources requested: 1.5/2 CPUs, 0/0 GPUs, 0.0/7.47 GiB heap, 0.0/3.73 GiB objects\n",
            "Result logdir: /root/ray_results/trainable_func_2022-07-26_14-33-03\n",
            "Number of trials: 50/50 (3 RUNNING, 47 TERMINATED)\n",
            "\n",
            "\n",
            "Trial trainable_func_df263fd8 reported epoch=5,loss=0.2500360928956387,should_checkpoint=True with parameters={'act1 ': 'tanh', 'act2': 'relu', 'act3': 'tanh', 'lr': 0.0009, 'batch_size': 64, 'hidden_dim1': 180.0, 'hidden_dim2': 330.0, 'hidden_dim3': 240.0}.\n",
            "Trial trainable_func_024430e8 reported epoch=10,loss=0.19039710811360958,should_checkpoint=True with parameters={'act1 ': 'tanh', 'act2': 'tanh', 'act3': 'relu', 'lr': 0.0009, 'batch_size': 16, 'hidden_dim1': 255.0, 'hidden_dim2': 120.0, 'hidden_dim3': 300.0}.\n",
            "Trial trainable_func_57dafa64 reported epoch=8,loss=0.051504672058225696,should_checkpoint=True with parameters={'act1 ': 'tanh', 'act2': 'relu', 'act3': 'selu', 'lr': 0.0009, 'batch_size': 64, 'hidden_dim1': 120.0, 'hidden_dim2': 150.0, 'hidden_dim3': 330.0}.\n",
            "Trial trainable_func_df263fd8 reported epoch=7,loss=0.24594583698181446,should_checkpoint=True with parameters={'act1 ': 'tanh', 'act2': 'relu', 'act3': 'tanh', 'lr': 0.0009, 'batch_size': 64, 'hidden_dim1': 180.0, 'hidden_dim2': 330.0, 'hidden_dim3': 240.0}. This trial completed.\n",
            "== Status ==\n",
            "Current time: 2022-07-26 14:46:47 (running for 00:13:44.76)\n",
            "Memory usage on this node: 2.3/12.7 GiB\n",
            "Using MedianStoppingRule: num_stopped=39.\n",
            "Resources requested: 1.0/2 CPUs, 0/0 GPUs, 0.0/7.47 GiB heap, 0.0/3.73 GiB objects\n",
            "Result logdir: /root/ray_results/trainable_func_2022-07-26_14-33-03\n",
            "Number of trials: 50/50 (2 RUNNING, 48 TERMINATED)\n",
            "\n",
            "\n",
            "Trial trainable_func_024430e8 reported epoch=13,loss=0.19677670571143202,should_checkpoint=True with parameters={'act1 ': 'tanh', 'act2': 'tanh', 'act3': 'relu', 'lr': 0.0009, 'batch_size': 16, 'hidden_dim1': 255.0, 'hidden_dim2': 120.0, 'hidden_dim3': 300.0}.\n",
            "Trial trainable_func_57dafa64 reported epoch=16,loss=0.0700940735593216,should_checkpoint=True with parameters={'act1 ': 'tanh', 'act2': 'relu', 'act3': 'selu', 'lr': 0.0009, 'batch_size': 64, 'hidden_dim1': 120.0, 'hidden_dim2': 150.0, 'hidden_dim3': 330.0}.\n",
            "== Status ==\n",
            "Current time: 2022-07-26 14:46:53 (running for 00:13:49.95)\n",
            "Memory usage on this node: 2.3/12.7 GiB\n",
            "Using MedianStoppingRule: num_stopped=39.\n",
            "Resources requested: 1.0/2 CPUs, 0/0 GPUs, 0.0/7.47 GiB heap, 0.0/3.73 GiB objects\n",
            "Result logdir: /root/ray_results/trainable_func_2022-07-26_14-33-03\n",
            "Number of trials: 50/50 (2 RUNNING, 48 TERMINATED)\n",
            "\n",
            "\n",
            "Trial trainable_func_57dafa64 reported epoch=19,loss=0.07374709474504121,should_checkpoint=True with parameters={'act1 ': 'tanh', 'act2': 'relu', 'act3': 'selu', 'lr': 0.0009, 'batch_size': 64, 'hidden_dim1': 120.0, 'hidden_dim2': 150.0, 'hidden_dim3': 330.0}. This trial completed.\n",
            "Trial trainable_func_024430e8 reported epoch=18,loss=0.2163517819076906,should_checkpoint=True with parameters={'act1 ': 'tanh', 'act2': 'tanh', 'act3': 'relu', 'lr': 0.0009, 'batch_size': 16, 'hidden_dim1': 255.0, 'hidden_dim2': 120.0, 'hidden_dim3': 300.0}.\n",
            "== Status ==\n",
            "Current time: 2022-07-26 14:46:58 (running for 00:13:55.31)\n",
            "Memory usage on this node: 2.1/12.7 GiB\n",
            "Using MedianStoppingRule: num_stopped=39.\n",
            "Resources requested: 0.5/2 CPUs, 0/0 GPUs, 0.0/7.47 GiB heap, 0.0/3.73 GiB objects\n",
            "Result logdir: /root/ray_results/trainable_func_2022-07-26_14-33-03\n",
            "Number of trials: 50/50 (1 RUNNING, 49 TERMINATED)\n",
            "\n",
            "\n",
            "Trial trainable_func_024430e8 reported epoch=24,loss=0.23879638743490622,should_checkpoint=True with parameters={'act1 ': 'tanh', 'act2': 'tanh', 'act3': 'relu', 'lr': 0.0009, 'batch_size': 16, 'hidden_dim1': 255.0, 'hidden_dim2': 120.0, 'hidden_dim3': 300.0}.\n",
            "== Status ==\n",
            "Current time: 2022-07-26 14:47:03 (running for 00:14:00.63)\n",
            "Memory usage on this node: 2.1/12.7 GiB\n",
            "Using MedianStoppingRule: num_stopped=39.\n",
            "Resources requested: 0.5/2 CPUs, 0/0 GPUs, 0.0/7.47 GiB heap, 0.0/3.73 GiB objects\n",
            "Result logdir: /root/ray_results/trainable_func_2022-07-26_14-33-03\n",
            "Number of trials: 50/50 (1 RUNNING, 49 TERMINATED)\n",
            "\n",
            "\n",
            "Trial trainable_func_024430e8 reported epoch=28,loss=0.24547903714092592,should_checkpoint=True with parameters={'act1 ': 'tanh', 'act2': 'tanh', 'act3': 'relu', 'lr': 0.0009, 'batch_size': 16, 'hidden_dim1': 255.0, 'hidden_dim2': 120.0, 'hidden_dim3': 300.0}. This trial completed.\n",
            "== Status ==\n",
            "Current time: 2022-07-26 14:47:05 (running for 00:14:02.43)\n",
            "Memory usage on this node: 2.1/12.7 GiB\n",
            "Using MedianStoppingRule: num_stopped=40.\n",
            "Resources requested: 0/2 CPUs, 0/0 GPUs, 0.0/7.47 GiB heap, 0.0/3.73 GiB objects\n",
            "Result logdir: /root/ray_results/trainable_func_2022-07-26_14-33-03\n",
            "Number of trials: 50/50 (50 TERMINATED)\n",
            "+-------------------------+------------+-------------------+---------+--------+--------+--------------+---------------+---------------+---------------+--------+-----------+----------------------+\n",
            "| Trial name              | status     | loc               | act1    | act2   | act3   |   batch_size |   hidden_dim1 |   hidden_dim2 |   hidden_dim3 |     lr |      loss |   training_iteration |\n",
            "|-------------------------+------------+-------------------+---------+--------+--------+--------------+---------------+---------------+---------------+--------+-----------+----------------------|\n",
            "| trainable_func_db2426a8 | TERMINATED | 172.28.0.2:269297 | selu    | selu   | tanh   |           32 |           315 |           210 |           300 | 0.0006 | 0.0381111 |                   50 |\n",
            "| trainable_func_db477d10 | TERMINATED | 172.28.0.2:269252 | tanh    | selu   | tanh   |           32 |           240 |           315 |           165 | 0.001  | 0.0535901 |                   50 |\n",
            "| trainable_func_db4df2bc | TERMINATED | 172.28.0.2:269322 | tanh    | relu   | selu   |           64 |           255 |           255 |           285 | 0.0009 | 0.0227435 |                   50 |\n",
            "| trainable_func_db547e7a | TERMINATED | 172.28.0.2:269253 | selu    | tanh   | relu   |           16 |           225 |           195 |           255 | 0.0009 | 0.0541918 |                   50 |\n",
            "| trainable_func_db5c1630 | TERMINATED | 172.28.0.2:269297 | relu    | relu   | relu   |           16 |           240 |           240 |           210 | 0.001  | 0.0465314 |                   50 |\n",
            "| trainable_func_f19bcd82 | TERMINATED | 172.28.0.2:269252 | tanh    | tanh   | selu   |            8 |           225 |           315 |           315 | 0.0007 | 0.0423011 |                   50 |\n",
            "| trainable_func_f328243e | TERMINATED | 172.28.0.2:269253 | selu    | relu   | tanh   |           64 |           120 |           330 |           315 | 0.0009 | 0.0302643 |                   50 |\n",
            "| trainable_func_f474cfe0 | TERMINATED | 172.28.0.2:269297 | selu    | selu   | tanh   |           16 |           225 |           210 |           240 | 0.0008 | 0.039573  |                   50 |\n",
            "| trainable_func_007a81ea | TERMINATED | 172.28.0.2:269253 | selu    | selu   | tanh   |           32 |           120 |           285 |           225 | 0.0005 | 0.0710115 |                   50 |\n",
            "| trainable_func_024430e8 | TERMINATED | 172.28.0.2:269253 | tanh    | tanh   | relu   |           16 |           255 |           120 |           300 | 0.0009 | 0.245479  |                   45 |\n",
            "| trainable_func_57dafa64 | TERMINATED | 172.28.0.2:269297 | tanh    | relu   | selu   |           64 |           120 |           150 |           330 | 0.0009 | 0.0737471 |                   50 |\n",
            "| trainable_func_5d45b2a0 | TERMINATED | 172.28.0.2:269322 | selu    | tanh   | tanh   |           32 |           195 |           315 |           150 | 0.0006 | 0.579366  |                   10 |\n",
            "| trainable_func_5e4b47b4 | TERMINATED | 172.28.0.2:269252 | tanh    | tanh   | tanh   |            8 |           315 |           285 |           165 | 0.0005 | 0.589868  |                   10 |\n",
            "| trainable_func_69e07374 | TERMINATED | 172.28.0.2:269322 | relu    | relu   | relu   |            8 |           135 |           300 |           330 | 0.0005 | 0.524249  |                   11 |\n",
            "| trainable_func_87539166 | TERMINATED | 172.28.0.2:269322 | selu    | tanh   | relu   |           32 |           165 |           120 |           225 | 0.0007 | 0.278153  |                   17 |\n",
            "| trainable_func_8c5b9ef6 | TERMINATED | 172.28.0.2:269322 | tanh    | relu   | selu   |           32 |           120 |           120 |           135 | 0.0008 | 0.246935  |                   21 |\n",
            "| trainable_func_9b7d283c | TERMINATED | 172.28.0.2:269322 | relu    | relu   | selu   |           64 |           210 |           165 |           135 | 0.0009 | 0.536627  |                   10 |\n",
            "| trainable_func_a306f592 | TERMINATED | 172.28.0.2:269322 | tanh    | selu   | selu   |           32 |           240 |           210 |           195 | 0.0007 | 0.585846  |                   11 |\n",
            "| trainable_func_b057d806 | TERMINATED | 172.28.0.2:269322 | tanh    | relu   | selu   |           16 |           255 |           210 |           330 | 0.001  | 0.580549  |                   10 |\n",
            "| trainable_func_c82e5202 | TERMINATED | 172.28.0.2:269322 | tanh    | relu   | selu   |           64 |           165 |           255 |           255 | 0.0008 | 0.539847  |                   11 |\n",
            "| trainable_func_ccead41e | TERMINATED | 172.28.0.2:269253 | selu    | relu   | selu   |           64 |           120 |           255 |           270 | 0.0008 | 0.492884  |                   11 |\n",
            "| trainable_func_cd5a29b8 | TERMINATED | 172.28.0.2:269297 | selu    | relu   | selu   |           64 |           135 |           255 |           270 | 0.0008 | 0.626118  |                   10 |\n",
            "| trainable_func_d10eb060 | TERMINATED | 172.28.0.2:269322 | selu    | relu   | selu   |           64 |           285 |           120 |           285 | 0.0008 | 0.535161  |                   11 |\n",
            "| trainable_func_d5fec510 | TERMINATED | 172.28.0.2:269252 | selu    | relu   | tanh   |           64 |           270 |           120 |           285 | 0.0009 | 0.22269   |                   24 |\n",
            "| trainable_func_d617acce | TERMINATED | 172.28.0.2:269253 | selu    | relu   | tanh   |           64 |           270 |           135 |           300 | 0.0009 | 0.562464  |                   11 |\n",
            "| trainable_func_d99fe3ca | TERMINATED | 172.28.0.2:269322 | tanh    | relu   | tanh   |           64 |           180 |           330 |           300 | 0.0009 | 0.621344  |                   10 |\n",
            "| trainable_func_df263fd8 | TERMINATED | 172.28.0.2:269252 | tanh    | relu   | tanh   |           64 |           180 |           330 |           240 | 0.0009 | 0.245946  |                   20 |\n",
            "| trainable_func_e38ab8d8 | TERMINATED | 172.28.0.2:269322 | tanh    | selu   | tanh   |           64 |           285 |           285 |           225 | 0.0007 | 0.561456  |                   10 |\n",
            "| trainable_func_ed1381a0 | TERMINATED | 172.28.0.2:269322 | relu    | tanh   | relu   |            8 |           165 |           285 |           330 | 0.0009 | 0.477544  |                   12 |\n",
            "| trainable_func_2382bef4 | TERMINATED | 172.28.0.2:269322 | selu    | relu   | selu   |           64 |           330 |           180 |           240 | 0.001  | 0.471698  |                   12 |\n",
            "| trainable_func_29b12590 | TERMINATED | 172.28.0.2:269253 | selu    | selu   | tanh   |           32 |           330 |           180 |           300 | 0.0006 | 0.573474  |                   10 |\n",
            "| trainable_func_2eb77ddc | TERMINATED | 172.28.0.2:269322 | selu    | selu   | tanh   |           32 |           300 |           225 |           300 | 0.0006 | 0.533163  |                   11 |\n",
            "| trainable_func_36f14ac8 | TERMINATED | 172.28.0.2:269253 | selu    | selu   | tanh   |           32 |           300 |           225 |           315 | 0.0006 | 0.622963  |                   10 |\n",
            "| trainable_func_3e14fb74 | TERMINATED | 172.28.0.2:269322 | selu    | selu   | tanh   |           64 |           300 |           150 |           315 | 0.0007 | 0.747599  |                   10 |\n",
            "| trainable_func_401d3cce | TERMINATED | 172.28.0.2:269297 | tanh    | selu   | tanh   |           64 |           300 |           240 |           315 | 0.0007 | 0.612503  |                   10 |\n",
            "| trainable_func_450c2506 | TERMINATED | 172.28.0.2:269253 | tanh    | relu   | tanh   |           64 |           270 |           150 |           285 | 0.0007 | 0.522811  |                   12 |\n",
            "| trainable_func_481d8b5e | TERMINATED | 172.28.0.2:269322 | tanh    | relu   | selu   |            8 |           270 |           330 |           285 | 0.0007 | 0.524292  |                   11 |\n",
            "| trainable_func_4b4d35cc | TERMINATED | 172.28.0.2:269297 | tanh    | relu   | selu   |            8 |           270 |           330 |           285 | 0.0009 | 0.596097  |                   10 |\n",
            "| trainable_func_50049132 | TERMINATED | 172.28.0.2:269253 | relu    | tanh   | relu   |           32 |           210 |           330 |           270 | 0.001  | 0.544135  |                   11 |\n",
            "| trainable_func_598d63dc | TERMINATED | 172.28.0.2:269252 | relu    | relu   | relu   |           32 |           255 |           330 |           270 | 0.001  | 0.477039  |                   12 |\n",
            "| trainable_func_5fed6740 | TERMINATED | 172.28.0.2:269253 | selu    | selu   | tanh   |           16 |           255 |           195 |           285 | 0.0008 | 0.506324  |                   11 |\n",
            "| trainable_func_6c928d4a | TERMINATED | 172.28.0.2:269252 | selu    | selu   | tanh   |           16 |           195 |           195 |           240 | 0.0008 | 0.577533  |                   11 |\n",
            "| trainable_func_7776a12e | TERMINATED | 172.28.0.2:269253 | selu    | selu   | tanh   |           16 |           165 |           210 |           240 | 0.0009 | 0.56975   |                   10 |\n",
            "| trainable_func_840f1aba | TERMINATED | 172.28.0.2:269252 | selu    | selu   | tanh   |           16 |           150 |           240 |           195 | 0.0009 | 0.517609  |                   11 |\n",
            "| trainable_func_8478b506 | TERMINATED | 172.28.0.2:269322 | selu    | selu   | tanh   |           16 |           225 |           240 |           195 | 0.0009 | 0.557077  |                   10 |\n",
            "| trainable_func_84f9542c | TERMINATED | 172.28.0.2:269297 | selu    | selu   | tanh   |           16 |           225 |           240 |           195 | 0.0009 | 0.521333  |                   11 |\n",
            "| trainable_func_8d44f0d2 | TERMINATED | 172.28.0.2:269253 | selu    | selu   | tanh   |           16 |           240 |           240 |           195 | 0.0008 | 0.542352  |                   10 |\n",
            "| trainable_func_9992f078 | TERMINATED | 172.28.0.2:269322 | selu    | selu   | tanh   |           16 |           150 |           270 |           210 | 0.0008 | 0.597263  |                   10 |\n",
            "| trainable_func_9b3f99ee | TERMINATED | 172.28.0.2:269252 | selu    | tanh   | tanh   |           16 |           315 |           270 |           255 | 0.0008 | 0.545854  |                   11 |\n",
            "| trainable_func_9cd8378e | TERMINATED | 172.28.0.2:269297 | selu    | tanh   | relu   |           32 |           315 |           270 |           255 | 0.0008 | 0.566797  |                   11 |\n",
            "+-------------------------+------------+-------------------+---------+--------+--------+--------------+---------------+---------------+---------------+--------+-----------+----------------------+\n",
            "\n",
            "\n"
          ]
        },
        {
          "output_type": "stream",
          "name": "stderr",
          "text": [
            "2022-07-26 14:47:05,850\tINFO tune.py:748 -- Total run time: 842.74 seconds (842.42 seconds for the tuning loop).\n"
          ]
        },
        {
          "output_type": "stream",
          "name": "stdout",
          "text": [
            "Best trial config: {'act1 ': 'tanh', 'act2': 'relu', 'act3': 'selu', 'lr': 0.0009, 'batch_size': 64, 'hidden_dim1': 255.0, 'hidden_dim2': 255.0, 'hidden_dim3': 285.0}\n",
            "Best trial final validation score: 0.022743515355938236\n",
            "Best trial test set score: 0.5550000283689659\n"
          ]
        }
      ]
    },
    {
      "cell_type": "code",
      "source": [
        ""
      ],
      "metadata": {
        "id": "SpFYLRt34Itr"
      },
      "execution_count": 229,
      "outputs": []
    }
  ]
}